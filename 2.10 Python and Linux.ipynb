{
 "cells": [
  {
   "cell_type": "markdown",
   "metadata": {},
   "source": [
    "# 2.10 Python and Linux "
   ]
  },
  {
   "cell_type": "markdown",
   "metadata": {},
   "source": [
    "## Contents\n",
    "0. Install packages\n",
    "1. os.system en subprocess\n",
    "3. bash%%"
   ]
  },
  {
   "cell_type": "markdown",
   "metadata": {},
   "source": [
    "## 0. Install packages"
   ]
  },
  {
   "cell_type": "markdown",
   "metadata": {},
   "source": [
    "## 1. os.system en subprocess"
   ]
  },
  {
   "cell_type": "code",
   "execution_count": 1,
   "metadata": {},
   "outputs": [],
   "source": [
    "#source: https://www.section.io/engineering-education/how-to-execute-linux-commands-in-python/"
   ]
  },
  {
   "cell_type": "code",
   "execution_count": 1,
   "metadata": {},
   "outputs": [
    {
     "data": {
      "text/plain": [
       "1"
      ]
     },
     "execution_count": 1,
     "metadata": {},
     "output_type": "execute_result"
    }
   ],
   "source": [
    "import os\n",
    "cmd= 'ls -l'\n",
    "os.system(cmd)"
   ]
  },
  {
   "cell_type": "code",
   "execution_count": 4,
   "metadata": {},
   "outputs": [
    {
     "ename": "NameError",
     "evalue": "name 'ping' is not defined",
     "output_type": "error",
     "traceback": [
      "\u001b[1;31m---------------------------------------------------------------------------\u001b[0m",
      "\u001b[1;31mNameError\u001b[0m                                 Traceback (most recent call last)",
      "\u001b[1;32m<ipython-input-4-f99f40b41a87>\u001b[0m in \u001b[0;36m<module>\u001b[1;34m\u001b[0m\n\u001b[0;32m      1\u001b[0m \u001b[1;32mimport\u001b[0m \u001b[0msubprocess\u001b[0m\u001b[1;33m\u001b[0m\u001b[1;33m\u001b[0m\u001b[0m\n\u001b[1;32m----> 2\u001b[1;33m \u001b[0mlist\u001b[0m\u001b[1;33m=\u001b[0m\u001b[0msubprocess\u001b[0m\u001b[1;33m.\u001b[0m\u001b[0mPopen\u001b[0m\u001b[1;33m(\u001b[0m\u001b[0mping\u001b[0m\u001b[1;33m,\u001b[0m \u001b[1;34m'-c 1'\u001b[0m\u001b[1;33m,\u001b[0m \u001b[1;34m'www.facebook.com'\u001b[0m\u001b[1;33m)\u001b[0m\u001b[1;33m\u001b[0m\u001b[1;33m\u001b[0m\u001b[0m\n\u001b[0m\u001b[0;32m      3\u001b[0m \u001b[0mprint\u001b[0m\u001b[1;33m(\u001b[0m\u001b[0mlist\u001b[0m\u001b[1;33m)\u001b[0m\u001b[1;33m\u001b[0m\u001b[1;33m\u001b[0m\u001b[0m\n",
      "\u001b[1;31mNameError\u001b[0m: name 'ping' is not defined"
     ]
    }
   ],
   "source": [
    "import subprocess\n",
    "list=subprocess.Popen(ping, '-c 1', 'www.facebook.com')\n",
    "print(list)"
   ]
  },
  {
   "cell_type": "code",
   "execution_count": 9,
   "metadata": {},
   "outputs": [
    {
     "name": "stdout",
     "output_type": "stream",
     "text": [
      "[\"(b'Access denied. Option -c 1 requires administrative privileges.\\\\r\\\\n', None)\", \"(b'Access denied. Option -c 1 requires administrative privileges.\\\\r\\\\n', None)\", \"(b'Access denied. Option -c 1 requires administrative privileges.\\\\r\\\\n', None)\"]\n"
     ]
    }
   ],
   "source": [
    "import subprocess  \n",
    "  \n",
    "def ping(servers):\n",
    "    \n",
    "    # The command you want to execute   \n",
    "    cmd = 'ping'\n",
    "  \n",
    "    # send one packet of data to the host \n",
    "    # this is specified by '-c 1' in the argument list \n",
    "    outputlist = []\n",
    "    # Iterate over all the servers in the list and ping each server\n",
    "    for server in servers:\n",
    "        temp = subprocess.Popen([cmd, '-c 1', server], stdout = subprocess.PIPE) \n",
    "        # get the output as a string\n",
    "        output = str(temp.communicate()) \n",
    "    # store the output in the list\n",
    "        outputlist.append(output)\n",
    "    return outputlist\n",
    "  \n",
    "if __name__ == '__main__': \n",
    "    \n",
    "    # Get the list of servers from the text file\n",
    "    servers = list(open('servers.txt'))\n",
    "    # Iterate over all the servers that we read from the text file\n",
    "    # and remove all the extra lines. This is just a preprocessing step\n",
    "    # to make sure there aren't any unnecessary lines.\n",
    "    for i in range(len(servers)):\n",
    "        servers[i] = servers[i].strip('\\n')\n",
    "    outputlist = ping(servers) \n",
    "    \n",
    "    # Uncomment the following lines to print the output of successful servers\n",
    "    print(outputlist)"
   ]
  },
  {
   "cell_type": "code",
   "execution_count": 10,
   "metadata": {},
   "outputs": [
    {
     "name": "stdout",
     "output_type": "stream",
     "text": [
      "\n",
      "Pinging 192.168.178.46 with 32 bytes of data:\n",
      "Reply from 192.168.178.46: bytes=32 time=19ms TTL=64\n",
      "Reply from 192.168.178.46: bytes=32 time=9ms TTL=64\n",
      "Reply from 192.168.178.46: bytes=32 time=15ms TTL=64\n",
      "Reply from 192.168.178.46: bytes=32 time=8ms TTL=64\n",
      "\n",
      "Ping statistics for 192.168.178.46:\n",
      "    Packets: Sent = 4, Received = 4, Lost = 0 (0% loss),\n",
      "Approximate round trip times in milli-seconds:\n",
      "    Minimum = 8ms, Maximum = 19ms, Average = 12ms\n"
     ]
    }
   ],
   "source": [
    "!ping 192.168.178.46"
   ]
  },
  {
   "cell_type": "code",
   "execution_count": 14,
   "metadata": {},
   "outputs": [
    {
     "name": "stdout",
     "output_type": "stream",
     "text": [
      "[]\n"
     ]
    }
   ],
   "source": [
    "import os\n",
    "stream = os.popen('ls -la')\n",
    "output = stream.readlines()\n",
    "print(output)"
   ]
  },
  {
   "cell_type": "markdown",
   "metadata": {},
   "source": [
    "## 2. %%bash"
   ]
  },
  {
   "cell_type": "code",
   "execution_count": 20,
   "metadata": {},
   "outputs": [
    {
     "name": "stdout",
     "output_type": "stream",
     "text": [
      "www.nu.nl\n",
      "www.facebook.com\n",
      "www.somethingthatdoesntexist.com"
     ]
    }
   ],
   "source": [
    "%%bash\n",
    "head servers.txt"
   ]
  },
  {
   "cell_type": "code",
   "execution_count": null,
   "metadata": {},
   "outputs": [],
   "source": []
  },
  {
   "cell_type": "code",
   "execution_count": 22,
   "metadata": {},
   "outputs": [
    {
     "name": "stdout",
     "output_type": "stream",
     "text": [
      "total 1303148\n",
      "drwxrwxrwx 1 michielbbal michielbbal       512 Jul 27 07:53 .\n",
      "drwxrwxrwx 1 michielbbal michielbbal       512 May 11 16:29 ..\n",
      "drwxrwxrwx 1 michielbbal michielbbal       512 May 26 22:13 .git\n",
      "drwxrwxrwx 1 michielbbal michielbbal       512 Jul 26 15:37 .ipynb_checkpoints\n",
      "-rwxrwxrwx 1 michielbbal michielbbal     18019 Jun 23 19:15 1.0 - Michiel's Notebook on basics of Python and Jupyter Notebooks.ipynb\n",
      "-rwxrwxrwx 1 michielbbal michielbbal     34866 Jul  7 21:51 1.1 Michiels' Python fundamentals Notebook.ipynb\n",
      "-rwxrwxrwx 1 michielbbal michielbbal      5244 Feb 23 21:33 1.2 Basics of Data Analysis.ipynb\n",
      "-rwxrwxrwx 1 michielbbal michielbbal     15087 Jun 23 20:13 1.3 Working with files and data serialization.ipynb\n",
      "-rwxrwxrwx 1 michielbbal michielbbal    371202 Feb 24 10:21 1.4 Michiels notebook on images.ipynb\n",
      "-rwxrwxrwx 1 michielbbal michielbbal     56329 May 26 19:25 1.5 Getting data from the web - requests, wget and curl.ipynb\n",
      "-rwxrwxrwx 1 michielbbal michielbbal     14653 May 14 09:19 1.6 Functions.ipynb\n",
      "-rwxrwxrwx 1 michielbbal michielbbal     88867 Jul  7 14:25 1.7 Pandas basics.ipynb\n",
      "-rwxrwxrwx 1 michielbbal michielbbal     11802 Feb 27 20:20 1.7b Pandas Time Series - Halfway.ipynb\n",
      "-rwxrwxrwx 1 michielbbal michielbbal    952008 Jun 18 12:03 1.8 Simple graphs Matplotlib.ipynb\n",
      "-rwxrwxrwx 1 michielbbal michielbbal    365469 Jul 23 11:24 1.9 IPython and Markdown.ipynb\n",
      "-rwxrwxrwx 1 michielbbal michielbbal    304578 Sep 30  2019 11k16bitpcm.wav\n",
      "-rwxrwxrwx 1 michielbbal michielbbal     35212 Apr 17 22:25 2.0 Michiel's Intermediate Notebook.ipynb\n",
      "-rwxrwxrwx 1 michielbbal michielbbal      5216 Apr 17 22:14 2.01 Time and datetime.ipynb\n",
      "-rwxrwxrwx 1 michielbbal michielbbal    133683 May 13 17:01 2.02 Arrays with Numpy.ipynb\n",
      "-rwxrwxrwx 1 michielbbal michielbbal     18087 Jul 27 07:53 2.10 Python and Linux.ipynb\n",
      "-rwxrwxrwx 1 michielbbal michielbbal     10546 May 13 17:09 2.10 Python and SQL and other databases - to do.ipynb\n",
      "-rwxrwxrwx 1 michielbbal michielbbal    367970 Mar 14 16:19 2.3 Michiel's notebook on python for maps - GeoPandas issue.ipynb\n",
      "-rwxrwxrwx 1 michielbbal michielbbal    188344 Feb 28 09:26 2.4 Webscraping and BeautifulSoup.ipynb\n",
      "-rwxrwxrwx 1 michielbbal michielbbal      9288 Mar 29 13:59 2.5 Speech recognition (issue).ipynb\n",
      "-rwxrwxrwx 1 michielbbal michielbbal     25927 May 25 10:10 2.6 Working with the OS - in progress.ipynb\n",
      "-rwxrwxrwx 1 michielbbal michielbbal    201031 Mar 15 19:21 2.7 Graphs advanced - Seaborn, Plotly, Plotnine.ipynb\n",
      "-rwxrwxrwx 1 michielbbal michielbbal     57846 Mar  9 08:59 2.8 Time Series with Pandas and SciPy.ipynb\n",
      "-rwxrwxrwx 1 michielbbal michielbbal      5404 Mar  9 09:47 2.9 SciPy various scripts.ipynb\n",
      "-rwxrwxrwx 1 michielbbal michielbbal     29116 Dec 13  2020 3.01 Deep learning for python -2e versie.ipynb\n",
      "-rwxrwxrwx 1 michielbbal michielbbal     21897 Dec 13  2020 3.01 Michiels notebook Deep learning with python - 1.ipynb\n",
      "-rwxrwxrwx 1 michielbbal michielbbal     77967 Mar  9 21:45 3.02 Michiel's Neural Network Notebook.ipynb\n",
      "-rwxrwxrwx 1 michielbbal michielbbal     32143 Mar 18 21:03 3.03 Michiel's notebook on Pytorch - Work in progress.ipynb\n",
      "-rwxrwxrwx 1 michielbbal michielbbal  16226492 Feb 23 19:58 3.04 Michiel's notebook on OpenCV.ipynb\n",
      "-rwxrwxrwx 1 michielbbal michielbbal     69517 Feb 12 19:49 3.05-classifying-movie-reviews.ipynb\n",
      "-rwxrwxrwx 1 michielbbal michielbbal      4278 Feb 12 19:50 3.06 Build your own image classifier - loads of work to do.ipynb\n",
      "-rwxrwxrwx 1 michielbbal michielbbal   2037140 Feb 23 20:01 3.07 Keras_Image_classification_from_scratch.ipynb\n",
      "-rwxrwxrwx 1 michielbbal michielbbal     87600 Feb 12 19:51 3.08 MNIST in Keras.ipynb\n",
      "-rwxrwxrwx 1 michielbbal michielbbal     18912 Mar 29 14:01 3.09 Teachable Machine.ipynb\n",
      "-rwxrwxrwx 1 michielbbal michielbbal   2234118 Mar 26 14:04 3.10 Image Segmentation with Pixellib.ipynb\n",
      "-rwxrwxrwx 1 michielbbal michielbbal     37507 Mar 26 15:29 3.11 Object Detection Work in Progress.ipynb\n",
      "-rwxrwxrwx 1 michielbbal michielbbal   4119500 Mar 26 15:27 3.12 YOLO.ipynb\n",
      "-rwxrwxrwx 1 michielbbal michielbbal    294159 Mar 26 16:28 3.13 ImageAI.ipynb\n",
      "-rwxrwxrwx 1 michielbbal michielbbal     49910 Mar  9 21:40 3.14 NLP Sentiment in text (NLP zero to hero 3).ipynb\n",
      "-rwxrwxrwx 1 michielbbal michielbbal      5781 Mar 29 14:01 3.15 Motpy.ipynb\n",
      "-rwxrwxrwx 1 michielbbal michielbbal      3480 Feb 20 11:19 4.01 AMQP with RabbitMQ.ipynb\n",
      "-rwxrwxrwx 1 michielbbal michielbbal      1928 Feb 15 19:37 4.02 Kafka.ipynb\n",
      "-rwxrwxrwx 1 michielbbal michielbbal    278782 May 25 09:55 4.03 MQTT.ipynb\n",
      "-rwxrwxrwx 1 michielbbal michielbbal     21914 May 13 17:37 4.04 InfluxDB.ipynb\n",
      "-rwxrwxrwx 1 michielbbal michielbbal      4029 Jun 10 16:25 4.05 OData.ipynb\n",
      "-rwxrwxrwx 1 michielbbal michielbbal    180472 Feb 24 08:13 5.01 Maps of Amsterdam.ipynb\n",
      "-rwxrwxrwx 1 michielbbal michielbbal   6320801 Feb 13 10:37 5.02 Barchart race original.ipynb\n",
      "-rwxrwxrwx 1 michielbbal michielbbal    162779 Mar  1 21:21 5.03 Panel issue.ipynb\n",
      "-rwxrwxrwx 1 michielbbal michielbbal      8288 Mar 14 14:18 5.04 Pre-assignment AI café Michiel.ipynb\n",
      "-rwxrwxrwx 1 michielbbal michielbbal   1922119 Jun 18 16:22 5.05 audio.ipynb\n",
      "-rwxrwxrwx 1 michielbbal michielbbal    140512 May  1 20:16 5.x Yamnet_visualisation.ipynb\n",
      "drwxrwxrwx 1 michielbbal michielbbal       512 Mar 18 20:57 MNIST\n",
      "-rwxrwxrwx 1 michielbbal michielbbal       886 Apr 16 13:27 MQTT_steve.py\n",
      "-rwxrwxrwx 1 michielbbal michielbbal      1202 May  8 08:06 OEtest_210505_youtube_traffic.csv\n",
      "-rwxrwxrwx 1 michielbbal michielbbal       955 May  8 08:16 OEtest_210506_youtubetraffic.csv\n",
      "-rwxrwxrwx 1 michielbbal michielbbal       464 Feb  7 12:02 README.md\n",
      "-rwxrwxrwx 1 michielbbal michielbbal   7317167 Mar 26 14:15 Street - 22516.mp4\n",
      "-rwxrwxrwx 1 michielbbal michielbbal     15749 Apr 17 11:38 Tranquilizer.ipynb\n",
      "-rwxrwxrwx 1 michielbbal michielbbal      6600 Feb 27 20:18 UMTMVS.csv\n",
      "-rwxrwxrwx 1 michielbbal michielbbal   2577013 Mar 26 15:25 Zebra_Zuid-Afrika.jpg\n",
      "drwxrwxrwx 1 michielbbal michielbbal       512 Jun  8 09:40 __pycache__\n",
      "-rwxrwxrwx 1 michielbbal michielbbal        84 Feb  6 16:07 accounts.txt\n",
      "-rwxrwxrwx 1 michielbbal michielbbal     92194 May  1 12:32 anatomy of an array.png\n",
      "drwxrwxrwx 1 michielbbal michielbbal       512 Feb 15 19:34 basic-kafka-tutorial\n",
      "-rwxrwxrwx 1 michielbbal michielbbal    622294 Feb  3 14:40 buik3.jpg\n",
      "drwxrwxrwx 1 michielbbal michielbbal       512 Feb 24 08:12 cache\n",
      "-rwxrwxrwx 1 michielbbal michielbbal  42991616 Mar 26 16:38 camera_detected_video.avi\n",
      "-rwxrwxrwx 1 michielbbal michielbbal     62919 Jun 18 11:52 claxon_1m.jpg\n",
      "-rwxrwxrwx 1 michielbbal michielbbal     51044 Jun 18 11:40 claxon_1m.wav\n",
      "-rwxrwxrwx 1 michielbbal michielbbal     49076 Jun 18 12:07 claxon_1m_log.jpg\n",
      "-rwxrwxrwx 1 michielbbal michielbbal     60228 Jun 18 11:52 claxon_close.jpg\n",
      "-rwxrwxrwx 1 michielbbal michielbbal     34044 Jun 18 10:47 claxon_close.wav\n",
      "-rwxrwxrwx 1 michielbbal michielbbal     46640 Jun 18 12:06 claxon_close_log.jpg\n",
      "-rwxrwxrwx 1 michielbbal michielbbal      2571 Jun 18 12:33 claxon_colorbar_log.jpg\n",
      "-rwxrwxrwx 1 michielbbal michielbbal     68044 Jun 18 12:19 claxon_freesound.wav\n",
      "-rwxrwxrwx 1 michielbbal michielbbal     36044 Jun 18 12:13 claxon_iphone.wav\n",
      "-rwxrwxrwx 1 michielbbal michielbbal     50991 Jun 18 12:28 claxon_iphone_log.jpg\n",
      "-rwxrwxrwx 1 michielbbal michielbbal     55044 Jun 18 12:27 claxon_michiel.wav\n",
      "-rwxrwxrwx 1 michielbbal michielbbal     50991 Jun 18 12:28 claxon_michiel_log.jpg\n",
      "-rwxrwxrwx 1 michielbbal michielbbal         0 Apr 17 11:12 curl\n",
      "-rwxrwxrwx 1 michielbbal michielbbal       139 Feb 16 15:37 data.yaml\n",
      "-rwxrwxrwx 1 michielbbal michielbbal        84 Jun 23 20:11 demo.txt\n",
      "-rwxrwxrwx 1 michielbbal michielbbal    202643 Mar 26 13:11 download (1).wget\n",
      "-rwxrwxrwx 1 michielbbal michielbbal    202643 Mar 26 13:10 download.wget\n",
      "-rwxrwxrwx 1 michielbbal michielbbal    675840 Mar 18 20:36 drop.avi\n",
      "-rwxrwxrwx 1 michielbbal michielbbal     88244 May 26 17:14 example.wav\n",
      "-rwxrwxrwx 1 michielbbal michielbbal       358 Feb 28 14:31 foo.csv\n",
      "-rwxrwxrwx 1 michielbbal michielbbal     88472 Feb  8 13:21 haar_cascade_stop.xml\n",
      "-rwxrwxrwx 1 michielbbal michielbbal    963441 Feb  8 13:21 haarcascade_frontalface_default.xml\n",
      "-rwxrwxrwx 1 michielbbal michielbbal        63 Feb 16 15:02 items.yaml\n",
      "-rwxrwxrwx 1 michielbbal michielbbal 257557808 Mar 26 11:35 mask_rcnn_coco (1).h5\n",
      "-rwxrwxrwx 1 michielbbal michielbbal 257557808 Mar 26 11:10 mask_rcnn_coco.h5\n",
      "drwxrwxrwx 1 michielbbal michielbbal       512 Mar 26 12:52 models\n",
      "-rwxrwxrwx 1 michielbbal michielbbal       503 Apr 29 11:26 mqtt_open_ears_test.py\n",
      "-rwxrwxrwx 1 michielbbal michielbbal       484 May  7 13:38 mqtt_sub.py\n",
      "drwxrwxrwx 1 michielbbal michielbbal       512 Feb 13 10:30 myenv\n",
      "-rwxrwxrwx 1 michielbbal michielbbal    136798 Mar 26 14:12 newimage.jpg\n",
      "-rwxrwxrwx 1 michielbbal michielbbal    108044 Apr 30 10:50 out.wav\n",
      "-rwxrwxrwx 1 michielbbal michielbbal    137688 Mar 26 11:40 output.jpg\n",
      "-rwxrwxrwx 1 michielbbal michielbbal        44 Mar 26 14:04 output.mp4\n",
      "-rwxrwxrwx 1 michielbbal michielbbal        51 Feb 23 20:42 person.json\n",
      "drwxrwxrwx 1 michielbbal michielbbal       512 May  1 12:27 pixellib\n",
      "-rwxrwxrwx 1 michielbbal michielbbal     39048 Mar 26 11:39 pixellib_example.jpg\n",
      "-rwxrwxrwx 1 michielbbal michielbbal     12225 May 25 21:32 plot.png\n",
      "-rwxrwxrwx 1 michielbbal michielbbal   3841532 Mar 26 13:04 razorback.mp3\n",
      "-rwxrwxrwx 1 michielbbal michielbbal     48606 Feb  8 13:21 road.jpg\n",
      "-rwxrwxrwx 1 michielbbal michielbbal   3581304 Feb  8 13:21 road2.jpg\n",
      "-rwxrwxrwx 1 michielbbal michielbbal   7317167 Mar 26 13:20 sample.mp4\n",
      "-rwxrwxrwx 1 michielbbal michielbbal   5643545 Feb 23 20:27 sarcasm (1).json\n",
      "-rwxrwxrwx 1 michielbbal michielbbal   5643545 Mar  9 21:09 sarcasm (2).json\n",
      "-rwxrwxrwx 1 michielbbal michielbbal   5643545 Feb 23 20:27 sarcasm.json\n",
      "-rwxrwxrwx 1 michielbbal michielbbal        46 Feb 17 19:21 save.pkl\n",
      "-rwxrwxrwx 1 michielbbal michielbbal      2571 Jun 18 11:35 scatter.jpg\n",
      "-rwxrwxrwx 1 michielbbal michielbbal        59 Jul 26 15:45 servers.txt\n",
      "-rwxrwxrwx 1 michielbbal michielbbal     54044 May 25 21:38 test.wav\n",
      "-rwxrwxrwx 1 michielbbal michielbbal     42044 May 26 16:00 test2.wav\n",
      "-rwxrwxrwx 1 michielbbal michielbbal     76044 May 26 16:13 test3.wav\n",
      "-rwxrwxrwx 1 michielbbal michielbbal      4214 Feb 28 08:49 thuis.jpg\n",
      "-rwxrwxrwx 1 michielbbal michielbbal 160407954 Mar 26 14:35 traffic_detected.avi\n",
      "-rwxrwxrwx 1 michielbbal michielbbal       177 Apr 17 11:11 tranquilizer.py\n",
      "-rwxrwxrwx 1 michielbbal michielbbal         0 Apr 17 21:30 untitled.txt\n",
      "-rwxrwxrwx 1 michielbbal michielbbal        16 Apr 17 21:31 untitled1.txt\n",
      "-rwxrwxrwx 1 michielbbal michielbbal  35555784 Mar 26 14:58 yolo-tiny.h5\n",
      "-rwxrwxrwx 1 michielbbal michielbbal 248686624 Mar 26 14:10 yolo.h5\n",
      "-rwxrwxrwx 1 michielbbal michielbbal 248007048 Mar 26 15:22 yolov3.weights\n"
     ]
    }
   ],
   "source": [
    "%%bash\n",
    "ls -la"
   ]
  },
  {
   "cell_type": "code",
   "execution_count": 6,
   "metadata": {},
   "outputs": [
    {
     "name": "stdout",
     "output_type": "stream",
     "text": [
      "1\n"
     ]
    }
   ],
   "source": [
    "import os\n",
    "cmd= 'ls'\n",
    "result = os.system(cmd)\n",
    "print(result)"
   ]
  },
  {
   "cell_type": "code",
   "execution_count": 10,
   "metadata": {},
   "outputs": [],
   "source": [
    "import os\n",
    "stream = os.popen('ls -la')\n",
    "output = stream.readlines()"
   ]
  },
  {
   "cell_type": "code",
   "execution_count": null,
   "metadata": {},
   "outputs": [],
   "source": []
  },
  {
   "cell_type": "code",
   "execution_count": null,
   "metadata": {},
   "outputs": [],
   "source": []
  }
 ],
 "metadata": {
  "kernelspec": {
   "display_name": "Python 3",
   "language": "python",
   "name": "python3"
  },
  "language_info": {
   "codemirror_mode": {
    "name": "ipython",
    "version": 3
   },
   "file_extension": ".py",
   "mimetype": "text/x-python",
   "name": "python",
   "nbconvert_exporter": "python",
   "pygments_lexer": "ipython3",
   "version": "3.8.5"
  }
 },
 "nbformat": 4,
 "nbformat_minor": 4
}
