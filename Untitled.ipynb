{
 "cells": [
  {
   "cell_type": "code",
   "execution_count": 1,
   "id": "25d2f723",
   "metadata": {},
   "outputs": [
    {
     "name": "stdout",
     "output_type": "stream",
     "text": [
      "Collecting pysine\n",
      "  Downloading pysine-0.9.2-py2.py3-none-any.whl (6.0 kB)\n",
      "Requirement already satisfied: numpy in c:\\users\\31653\\anaconda3\\lib\\site-packages (from pysine) (1.20.1)\n",
      "Requirement already satisfied: pyaudio in c:\\users\\31653\\anaconda3\\lib\\site-packages (from pysine) (0.2.11)\n",
      "Requirement already satisfied: nose>=1.0 in c:\\users\\31653\\anaconda3\\lib\\site-packages (from pysine) (1.3.7)\n",
      "Requirement already satisfied: mock in c:\\users\\31653\\anaconda3\\lib\\site-packages (from pysine) (4.0.3)\n",
      "Installing collected packages: pysine\n",
      "Successfully installed pysine-0.9.2\n",
      "Note: you may need to restart the kernel to use updated packages.\n"
     ]
    }
   ],
   "source": [
    "pip install pysine"
   ]
  },
  {
   "cell_type": "code",
   "execution_count": 4,
   "id": "464f1005",
   "metadata": {},
   "outputs": [
    {
     "ename": "SyntaxError",
     "evalue": "invalid syntax (Temp/ipykernel_31708/3787421630.py, line 2)",
     "output_type": "error",
     "traceback": [
      "\u001b[1;36m  File \u001b[1;32m\"C:\\Users\\31653\\AppData\\Local\\Temp/ipykernel_31708/3787421630.py\"\u001b[1;36m, line \u001b[1;32m2\u001b[0m\n\u001b[1;33m    ipython selectionsortanimation.py 10\u001b[0m\n\u001b[1;37m            ^\u001b[0m\n\u001b[1;31mSyntaxError\u001b[0m\u001b[1;31m:\u001b[0m invalid syntax\n"
     ]
    }
   ],
   "source": [
    "import pysine\n",
    "ipython selectionsortanimation.py 10"
   ]
  },
  {
   "cell_type": "code",
   "execution_count": null,
   "id": "f527889c",
   "metadata": {},
   "outputs": [],
   "source": []
  }
 ],
 "metadata": {
  "kernelspec": {
   "display_name": "Python 3 (ipykernel)",
   "language": "python",
   "name": "python3"
  },
  "language_info": {
   "codemirror_mode": {
    "name": "ipython",
    "version": 3
   },
   "file_extension": ".py",
   "mimetype": "text/x-python",
   "name": "python",
   "nbconvert_exporter": "python",
   "pygments_lexer": "ipython3",
   "version": "3.8.5"
  }
 },
 "nbformat": 4,
 "nbformat_minor": 5
}
