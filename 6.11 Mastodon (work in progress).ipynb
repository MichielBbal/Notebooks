{
 "cells": [
  {
   "cell_type": "markdown",
   "id": "845fa59f",
   "metadata": {},
   "source": [
    "# 6.11 Mastodon"
   ]
  },
  {
   "cell_type": "code",
   "execution_count": 4,
   "id": "ee30a964",
   "metadata": {},
   "outputs": [
    {
     "name": "stdout",
     "output_type": "stream",
     "text": [
      "Requirement already satisfied: Mastodon.py in /Users/michielbontenbal/opt/anaconda3/lib/python3.9/site-packages (1.5.1)\n",
      "Requirement already satisfied: six in /Users/michielbontenbal/opt/anaconda3/lib/python3.9/site-packages (from Mastodon.py) (1.16.0)\n",
      "Requirement already satisfied: pytz in /Users/michielbontenbal/opt/anaconda3/lib/python3.9/site-packages (from Mastodon.py) (2021.3)\n",
      "Requirement already satisfied: python-magic in /Users/michielbontenbal/opt/anaconda3/lib/python3.9/site-packages (from Mastodon.py) (0.4.27)\n",
      "Requirement already satisfied: python-dateutil in /Users/michielbontenbal/opt/anaconda3/lib/python3.9/site-packages (from Mastodon.py) (2.8.2)\n",
      "Requirement already satisfied: requests>=2.4.2 in /Users/michielbontenbal/opt/anaconda3/lib/python3.9/site-packages (from Mastodon.py) (2.28.1)\n",
      "Requirement already satisfied: decorator>=4.0.0 in /Users/michielbontenbal/opt/anaconda3/lib/python3.9/site-packages (from Mastodon.py) (4.4.2)\n",
      "Requirement already satisfied: blurhash>=1.1.4 in /Users/michielbontenbal/opt/anaconda3/lib/python3.9/site-packages (from Mastodon.py) (1.1.4)\n",
      "Requirement already satisfied: idna<4,>=2.5 in /Users/michielbontenbal/opt/anaconda3/lib/python3.9/site-packages (from requests>=2.4.2->Mastodon.py) (3.3)\n",
      "Requirement already satisfied: urllib3<1.27,>=1.21.1 in /Users/michielbontenbal/opt/anaconda3/lib/python3.9/site-packages (from requests>=2.4.2->Mastodon.py) (1.26.9)\n",
      "Requirement already satisfied: charset-normalizer<3,>=2 in /Users/michielbontenbal/opt/anaconda3/lib/python3.9/site-packages (from requests>=2.4.2->Mastodon.py) (2.0.4)\n",
      "Requirement already satisfied: certifi>=2017.4.17 in /Users/michielbontenbal/opt/anaconda3/lib/python3.9/site-packages (from requests>=2.4.2->Mastodon.py) (2021.10.8)\n"
     ]
    }
   ],
   "source": [
    "!pip install Mastodon.py"
   ]
  },
  {
   "cell_type": "code",
   "execution_count": 12,
   "id": "65275fb7",
   "metadata": {},
   "outputs": [
    {
     "ename": "TypeError",
     "evalue": "account_verify_credentials() missing 1 required positional argument: 'self'",
     "output_type": "error",
     "traceback": [
      "\u001b[0;31m---------------------------------------------------------------------------\u001b[0m",
      "\u001b[0;31mTypeError\u001b[0m                                 Traceback (most recent call last)",
      "Input \u001b[0;32mIn [12]\u001b[0m, in \u001b[0;36m<cell line: 10>\u001b[0;34m()\u001b[0m\n\u001b[1;32m      1\u001b[0m \u001b[38;5;28;01mfrom\u001b[39;00m \u001b[38;5;21;01mmastodon\u001b[39;00m \u001b[38;5;28;01mimport\u001b[39;00m Mastodon\n\u001b[1;32m      4\u001b[0m Mastodon\u001b[38;5;241m.\u001b[39mcreate_app(\n\u001b[1;32m      5\u001b[0m      \u001b[38;5;124m'\u001b[39m\u001b[38;5;124mpytooterapp\u001b[39m\u001b[38;5;124m'\u001b[39m,\n\u001b[1;32m      6\u001b[0m      api_base_url \u001b[38;5;241m=\u001b[39m \u001b[38;5;124m'\u001b[39m\u001b[38;5;124mhttps://mastodon.social\u001b[39m\u001b[38;5;124m'\u001b[39m,\n\u001b[1;32m      7\u001b[0m      to_file \u001b[38;5;241m=\u001b[39m \u001b[38;5;124m'\u001b[39m\u001b[38;5;124mpytooter_clientcred.secret\u001b[39m\u001b[38;5;124m'\u001b[39m\n\u001b[1;32m      8\u001b[0m )\n\u001b[0;32m---> 10\u001b[0m \u001b[43mMastodon\u001b[49m\u001b[38;5;241;43m.\u001b[39;49m\u001b[43maccount_verify_credentials\u001b[49m\u001b[43m(\u001b[49m\u001b[43m)\u001b[49m\n",
      "\u001b[0;31mTypeError\u001b[0m: account_verify_credentials() missing 1 required positional argument: 'self'"
     ]
    }
   ],
   "source": [
    "from mastodon import Mastodon\n",
    "\n",
    "\n",
    "Mastodon.create_app(†\n",
    "     'pytooterapp',\n",
    "     api_base_url = 'https://mastodon.social',\n",
    "     to_file = 'pytooter_clientcred.secret'\n",
    ")\n",
    "\n",
    "Mastodon.account_verify_credentials()"
   ]
  },
  {
   "cell_type": "code",
   "execution_count": 8,
   "id": "b0680aa9",
   "metadata": {},
   "outputs": [
    {
     "name": "stdout",
     "output_type": "stream",
     "text": [
      "michiel.bontenbal@gmail.com\n"
     ]
    }
   ],
   "source": [
    "import config\n",
    "print(config.mastodon_account)"
   ]
  },
  {
   "cell_type": "code",
   "execution_count": 13,
   "id": "1d7da5d0",
   "metadata": {},
   "outputs": [
    {
     "ename": "MastodonUnauthorizedError",
     "evalue": "('Mastodon API returned error', 401, 'Unauthorized', 'The access token is invalid')",
     "output_type": "error",
     "traceback": [
      "\u001b[0;31m---------------------------------------------------------------------------\u001b[0m",
      "\u001b[0;31mMastodonUnauthorizedError\u001b[0m                 Traceback (most recent call last)",
      "Input \u001b[0;32mIn [13]\u001b[0m, in \u001b[0;36m<cell line: 8>\u001b[0;34m()\u001b[0m\n\u001b[1;32m      2\u001b[0m \u001b[38;5;28;01mimport\u001b[39;00m \u001b[38;5;21;01mconfig\u001b[39;00m\n\u001b[1;32m      4\u001b[0m mastodon \u001b[38;5;241m=\u001b[39m Mastodon(\n\u001b[1;32m      5\u001b[0m     client_id \u001b[38;5;241m=\u001b[39m \u001b[38;5;124m'\u001b[39m\u001b[38;5;124mpytooter_clientcred.secret\u001b[39m\u001b[38;5;124m'\u001b[39m,\n\u001b[1;32m      6\u001b[0m     api_base_url \u001b[38;5;241m=\u001b[39m \u001b[38;5;124m'\u001b[39m\u001b[38;5;124mhttps://mastodon.social\u001b[39m\u001b[38;5;124m'\u001b[39m\n\u001b[1;32m      7\u001b[0m )\n\u001b[0;32m----> 8\u001b[0m \u001b[43mmastodon\u001b[49m\u001b[38;5;241;43m.\u001b[39;49m\u001b[43maccount_verify_credentials\u001b[49m\u001b[43m(\u001b[49m\u001b[43m)\u001b[49m\n",
      "File \u001b[0;32m<decorator-gen-41>:2\u001b[0m, in \u001b[0;36maccount_verify_credentials\u001b[0;34m(self)\u001b[0m\n",
      "File \u001b[0;32m~/opt/anaconda3/lib/python3.9/site-packages/mastodon/Mastodon.py:102\u001b[0m, in \u001b[0;36mapi_version.<locals>.api_min_version_decorator.<locals>.wrapper\u001b[0;34m(function, self, *args, **kwargs)\u001b[0m\n\u001b[1;32m    100\u001b[0m     \u001b[38;5;28;01melif\u001b[39;00m major \u001b[38;5;241m==\u001b[39m \u001b[38;5;28mself\u001b[39m\u001b[38;5;241m.\u001b[39mmastodon_major \u001b[38;5;129;01mand\u001b[39;00m minor \u001b[38;5;241m==\u001b[39m \u001b[38;5;28mself\u001b[39m\u001b[38;5;241m.\u001b[39mmastodon_minor \u001b[38;5;129;01mand\u001b[39;00m patch \u001b[38;5;241m>\u001b[39m \u001b[38;5;28mself\u001b[39m\u001b[38;5;241m.\u001b[39mmastodon_patch:\n\u001b[1;32m    101\u001b[0m         \u001b[38;5;28;01mraise\u001b[39;00m MastodonVersionError(\u001b[38;5;124m\"\u001b[39m\u001b[38;5;124mVersion check failed (Need version \u001b[39m\u001b[38;5;124m\"\u001b[39m \u001b[38;5;241m+\u001b[39m version \u001b[38;5;241m+\u001b[39m \u001b[38;5;124m\"\u001b[39m\u001b[38;5;124m, patch is \u001b[39m\u001b[38;5;124m\"\u001b[39m \u001b[38;5;241m+\u001b[39m \u001b[38;5;28mstr\u001b[39m(\u001b[38;5;28mself\u001b[39m\u001b[38;5;241m.\u001b[39mmastodon_patch) \u001b[38;5;241m+\u001b[39m \u001b[38;5;124m\"\u001b[39m\u001b[38;5;124m)\u001b[39m\u001b[38;5;124m\"\u001b[39m)\n\u001b[0;32m--> 102\u001b[0m \u001b[38;5;28;01mreturn\u001b[39;00m \u001b[43mfunction\u001b[49m\u001b[43m(\u001b[49m\u001b[38;5;28;43mself\u001b[39;49m\u001b[43m,\u001b[49m\u001b[43m \u001b[49m\u001b[38;5;241;43m*\u001b[39;49m\u001b[43margs\u001b[49m\u001b[43m,\u001b[49m\u001b[43m \u001b[49m\u001b[38;5;241;43m*\u001b[39;49m\u001b[38;5;241;43m*\u001b[39;49m\u001b[43mkwargs\u001b[49m\u001b[43m)\u001b[49m\n",
      "File \u001b[0;32m~/opt/anaconda3/lib/python3.9/site-packages/mastodon/Mastodon.py:1020\u001b[0m, in \u001b[0;36mMastodon.account_verify_credentials\u001b[0;34m(self)\u001b[0m\n\u001b[1;32m   1013\u001b[0m \u001b[38;5;129m@api_version\u001b[39m(\u001b[38;5;124m\"\u001b[39m\u001b[38;5;124m1.0.0\u001b[39m\u001b[38;5;124m\"\u001b[39m, \u001b[38;5;124m\"\u001b[39m\u001b[38;5;124m2.1.0\u001b[39m\u001b[38;5;124m\"\u001b[39m, __DICT_VERSION_ACCOUNT)\n\u001b[1;32m   1014\u001b[0m \u001b[38;5;28;01mdef\u001b[39;00m \u001b[38;5;21maccount_verify_credentials\u001b[39m(\u001b[38;5;28mself\u001b[39m):\n\u001b[1;32m   1015\u001b[0m     \u001b[38;5;124;03m\"\"\"\u001b[39;00m\n\u001b[1;32m   1016\u001b[0m \u001b[38;5;124;03m    Fetch logged-in user's account information.\u001b[39;00m\n\u001b[1;32m   1017\u001b[0m \n\u001b[1;32m   1018\u001b[0m \u001b[38;5;124;03m    Returns a `user dict`_ (Starting from 2.1.0, with an additional \"source\" field).\u001b[39;00m\n\u001b[1;32m   1019\u001b[0m \u001b[38;5;124;03m    \"\"\"\u001b[39;00m\n\u001b[0;32m-> 1020\u001b[0m     \u001b[38;5;28;01mreturn\u001b[39;00m \u001b[38;5;28;43mself\u001b[39;49m\u001b[38;5;241;43m.\u001b[39;49m\u001b[43m__api_request\u001b[49m\u001b[43m(\u001b[49m\u001b[38;5;124;43m'\u001b[39;49m\u001b[38;5;124;43mGET\u001b[39;49m\u001b[38;5;124;43m'\u001b[39;49m\u001b[43m,\u001b[49m\u001b[43m \u001b[49m\u001b[38;5;124;43m'\u001b[39;49m\u001b[38;5;124;43m/api/v1/accounts/verify_credentials\u001b[39;49m\u001b[38;5;124;43m'\u001b[39;49m\u001b[43m)\u001b[49m\n",
      "File \u001b[0;32m~/opt/anaconda3/lib/python3.9/site-packages/mastodon/Mastodon.py:3425\u001b[0m, in \u001b[0;36mMastodon.__api_request\u001b[0;34m(self, method, endpoint, params, files, headers, access_token_override, base_url_override, do_ratelimiting, use_json, parse)\u001b[0m\n\u001b[1;32m   3422\u001b[0m     \u001b[38;5;28;01melse\u001b[39;00m:\n\u001b[1;32m   3423\u001b[0m         ex_type \u001b[38;5;241m=\u001b[39m MastodonAPIError\n\u001b[0;32m-> 3425\u001b[0m     \u001b[38;5;28;01mraise\u001b[39;00m ex_type(\n\u001b[1;32m   3426\u001b[0m             \u001b[38;5;124m'\u001b[39m\u001b[38;5;124mMastodon API returned error\u001b[39m\u001b[38;5;124m'\u001b[39m,\n\u001b[1;32m   3427\u001b[0m             response_object\u001b[38;5;241m.\u001b[39mstatus_code,\n\u001b[1;32m   3428\u001b[0m             response_object\u001b[38;5;241m.\u001b[39mreason,\n\u001b[1;32m   3429\u001b[0m             error_msg)\n\u001b[1;32m   3431\u001b[0m \u001b[38;5;28;01mif\u001b[39;00m parse \u001b[38;5;241m==\u001b[39m \u001b[38;5;28;01mTrue\u001b[39;00m:\n\u001b[1;32m   3432\u001b[0m     \u001b[38;5;28;01mtry\u001b[39;00m:\n",
      "\u001b[0;31mMastodonUnauthorizedError\u001b[0m: ('Mastodon API returned error', 401, 'Unauthorized', 'The access token is invalid')"
     ]
    }
   ],
   "source": [
    "from mastodon import Mastodon\n",
    "import config\n",
    "\n",
    "mastodon = Mastodon(\n",
    "    client_id = 'pytooter_clientcred.secret',\n",
    "    api_base_url = 'https://mastodon.social'\n",
    ")\n",
    "mastodon.account_verify_credentials()"
   ]
  },
  {
   "cell_type": "code",
   "execution_count": 9,
   "id": "12d10712",
   "metadata": {},
   "outputs": [
    {
     "ename": "MastodonIllegalArgumentError",
     "evalue": "Specified client id directly, but did not supply secret",
     "output_type": "error",
     "traceback": [
      "\u001b[0;31m---------------------------------------------------------------------------\u001b[0m",
      "\u001b[0;31mMastodonIllegalArgumentError\u001b[0m              Traceback (most recent call last)",
      "Input \u001b[0;32mIn [9]\u001b[0m, in \u001b[0;36m<cell line: 4>\u001b[0;34m()\u001b[0m\n\u001b[1;32m      1\u001b[0m \u001b[38;5;28;01mfrom\u001b[39;00m \u001b[38;5;21;01mmastodon\u001b[39;00m \u001b[38;5;28;01mimport\u001b[39;00m Mastodon\n\u001b[1;32m      2\u001b[0m \u001b[38;5;28;01mimport\u001b[39;00m \u001b[38;5;21;01mconfig\u001b[39;00m\n\u001b[0;32m----> 4\u001b[0m mastodon \u001b[38;5;241m=\u001b[39m \u001b[43mMastodon\u001b[49m\u001b[43m(\u001b[49m\n\u001b[1;32m      5\u001b[0m \u001b[43m    \u001b[49m\u001b[43mclient_id\u001b[49m\u001b[43m \u001b[49m\u001b[38;5;241;43m=\u001b[39;49m\u001b[43m \u001b[49m\u001b[38;5;124;43m'\u001b[39;49m\u001b[38;5;124;43mpytooter_clientcred.secret\u001b[39;49m\u001b[38;5;124;43m'\u001b[39;49m\u001b[43m,\u001b[49m\n\u001b[1;32m      6\u001b[0m \u001b[43m    \u001b[49m\u001b[43mapi_base_url\u001b[49m\u001b[43m \u001b[49m\u001b[38;5;241;43m=\u001b[39;49m\u001b[43m \u001b[49m\u001b[38;5;124;43m'\u001b[39;49m\u001b[38;5;124;43mhttps://mastodon.social\u001b[39;49m\u001b[38;5;124;43m'\u001b[39;49m\n\u001b[1;32m      7\u001b[0m \u001b[43m)\u001b[49m\n\u001b[1;32m      8\u001b[0m account \u001b[38;5;241m=\u001b[39m config\u001b[38;5;241m.\u001b[39mmastodon_account\n\u001b[1;32m      9\u001b[0m pw \u001b[38;5;241m=\u001b[39m config\u001b[38;5;241m.\u001b[39mmastodon_pw\n",
      "File \u001b[0;32m~/opt/anaconda3/lib/python3.9/site-packages/mastodon/Mastodon.py:381\u001b[0m, in \u001b[0;36mMastodon.__init__\u001b[0;34m(self, client_id, client_secret, access_token, api_base_url, debug_requests, ratelimit_method, ratelimit_pacefactor, request_timeout, mastodon_version, version_check_mode, session, feature_set)\u001b[0m\n\u001b[1;32m    379\u001b[0m     \u001b[38;5;28;01melse\u001b[39;00m:\n\u001b[1;32m    380\u001b[0m         \u001b[38;5;28;01mif\u001b[39;00m \u001b[38;5;28mself\u001b[39m\u001b[38;5;241m.\u001b[39mclient_secret \u001b[38;5;129;01mis\u001b[39;00m \u001b[38;5;28;01mNone\u001b[39;00m:\n\u001b[0;32m--> 381\u001b[0m             \u001b[38;5;28;01mraise\u001b[39;00m MastodonIllegalArgumentError(\u001b[38;5;124m'\u001b[39m\u001b[38;5;124mSpecified client id directly, but did not supply secret\u001b[39m\u001b[38;5;124m'\u001b[39m)\n\u001b[1;32m    383\u001b[0m \u001b[38;5;28;01mif\u001b[39;00m \u001b[38;5;28mself\u001b[39m\u001b[38;5;241m.\u001b[39maccess_token \u001b[38;5;129;01mis\u001b[39;00m \u001b[38;5;129;01mnot\u001b[39;00m \u001b[38;5;28;01mNone\u001b[39;00m \u001b[38;5;129;01mand\u001b[39;00m os\u001b[38;5;241m.\u001b[39mpath\u001b[38;5;241m.\u001b[39misfile(\u001b[38;5;28mself\u001b[39m\u001b[38;5;241m.\u001b[39maccess_token):\n\u001b[1;32m    384\u001b[0m     \u001b[38;5;28;01mwith\u001b[39;00m \u001b[38;5;28mopen\u001b[39m(\u001b[38;5;28mself\u001b[39m\u001b[38;5;241m.\u001b[39maccess_token, \u001b[38;5;124m'\u001b[39m\u001b[38;5;124mr\u001b[39m\u001b[38;5;124m'\u001b[39m) \u001b[38;5;28;01mas\u001b[39;00m token_file:\n",
      "\u001b[0;31mMastodonIllegalArgumentError\u001b[0m: Specified client id directly, but did not supply secret"
     ]
    }
   ],
   "source": [
    "from mastodon import Mastodon\n",
    "import config\n",
    "\n",
    "mastodon = Mastodon(\n",
    "    client_id = 'pytooter_clientcred.secret',\n",
    "    api_base_url = 'https://mastodon.social'\n",
    ")\n",
    "\n",
    "account = config.mastodon_account\n",
    "pw = config.mastodon_pw\n",
    "\n",
    "mastodon.log_in(\n",
    "    account,pw,\n",
    "    to_file = 'pytooter_usercred.secret'\n",
    ")"
   ]
  },
  {
   "cell_type": "code",
   "execution_count": null,
   "id": "b88cbcc3",
   "metadata": {},
   "outputs": [],
   "source": []
  }
 ],
 "metadata": {
  "kernelspec": {
   "display_name": "Python 3 (ipykernel)",
   "language": "python",
   "name": "python3"
  },
  "language_info": {
   "codemirror_mode": {
    "name": "ipython",
    "version": 3
   },
   "file_extension": ".py",
   "mimetype": "text/x-python",
   "name": "python",
   "nbconvert_exporter": "python",
   "pygments_lexer": "ipython3",
   "version": "3.9.12"
  }
 },
 "nbformat": 4,
 "nbformat_minor": 5
}
