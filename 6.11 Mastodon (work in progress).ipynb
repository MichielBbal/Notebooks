{
 "cells": [
  {
   "cell_type": "markdown",
   "id": "845fa59f",
   "metadata": {},
   "source": [
    "# 6.11 Mastodon\n",
    "\n",
    "Use the Mastodon.py python package to call the Mastodon API\n",
    "\n",
    "Sources:\n",
    "- Tutorial:     https://shkspr.mobi/blog/2018/08/easy-guide-to-building-mastodon-bots/\n",
    "- Pypi:         https://pypi.org/project/Mastodon.py/\n",
    "- Readthedocs:  https://mastodonpy.readthedocs.io/en/stable/#\n",
    "\n",
    "### Contents\n",
    "0. Install packages\n",
    "1. Register your app\n",
    "2. "
   ]
  },
  {
   "cell_type": "markdown",
   "id": "521fcbf0",
   "metadata": {},
   "source": [
    "## 0. Install packages"
   ]
  },
  {
   "cell_type": "code",
   "execution_count": 4,
   "id": "ee30a964",
   "metadata": {},
   "outputs": [
    {
     "name": "stdout",
     "output_type": "stream",
     "text": [
      "Requirement already satisfied: Mastodon.py in /Users/michielbontenbal/opt/anaconda3/lib/python3.9/site-packages (1.5.1)\n",
      "Requirement already satisfied: six in /Users/michielbontenbal/opt/anaconda3/lib/python3.9/site-packages (from Mastodon.py) (1.16.0)\n",
      "Requirement already satisfied: pytz in /Users/michielbontenbal/opt/anaconda3/lib/python3.9/site-packages (from Mastodon.py) (2021.3)\n",
      "Requirement already satisfied: python-magic in /Users/michielbontenbal/opt/anaconda3/lib/python3.9/site-packages (from Mastodon.py) (0.4.27)\n",
      "Requirement already satisfied: python-dateutil in /Users/michielbontenbal/opt/anaconda3/lib/python3.9/site-packages (from Mastodon.py) (2.8.2)\n",
      "Requirement already satisfied: requests>=2.4.2 in /Users/michielbontenbal/opt/anaconda3/lib/python3.9/site-packages (from Mastodon.py) (2.28.1)\n",
      "Requirement already satisfied: decorator>=4.0.0 in /Users/michielbontenbal/opt/anaconda3/lib/python3.9/site-packages (from Mastodon.py) (4.4.2)\n",
      "Requirement already satisfied: blurhash>=1.1.4 in /Users/michielbontenbal/opt/anaconda3/lib/python3.9/site-packages (from Mastodon.py) (1.1.4)\n",
      "Requirement already satisfied: idna<4,>=2.5 in /Users/michielbontenbal/opt/anaconda3/lib/python3.9/site-packages (from requests>=2.4.2->Mastodon.py) (3.3)\n",
      "Requirement already satisfied: urllib3<1.27,>=1.21.1 in /Users/michielbontenbal/opt/anaconda3/lib/python3.9/site-packages (from requests>=2.4.2->Mastodon.py) (1.26.9)\n",
      "Requirement already satisfied: charset-normalizer<3,>=2 in /Users/michielbontenbal/opt/anaconda3/lib/python3.9/site-packages (from requests>=2.4.2->Mastodon.py) (2.0.4)\n",
      "Requirement already satisfied: certifi>=2017.4.17 in /Users/michielbontenbal/opt/anaconda3/lib/python3.9/site-packages (from requests>=2.4.2->Mastodon.py) (2021.10.8)\n"
     ]
    }
   ],
   "source": [
    "!pip install Mastodon.py"
   ]
  },
  {
   "cell_type": "markdown",
   "id": "96f5ba3e",
   "metadata": {},
   "source": [
    "## 1. Register your app\n",
    "\n",
    "Follow these steps:\n",
    "1. Go to your mastodon account and click 'Preferences', then select 'Development'.\n",
    "2. Here you can register your app by clicking the button 'New Application'. Give your application a name, think about setting the scope and click the button at the bottom of the page.\n",
    "3. Now create a new file 'config.py' in your active path to store credentials here. Add this filename to your .gitignore file if you use Git(Hub/Lab).\n",
    "4. Create three variables in the config.py file called 'mastodon_client_key', 'mastodon_client_secret' and 'mastodon_access_token' and assign the client key, secret and access to it. You can find these by clicking on the \n",
    "5. Also store your account and pw of mastodon in the same way."
   ]
  },
  {
   "cell_type": "code",
   "execution_count": 17,
   "id": "b0680aa9",
   "metadata": {},
   "outputs": [
    {
     "name": "stdout",
     "output_type": "stream",
     "text": [
      "michiel.bontenbal@gmail.com\n",
      "RpDMyvXNJyuhx6t\n"
     ]
    }
   ],
   "source": [
    "#create a file config.py and store your credentials there.\n",
    "#then import config and check your results\n",
    "import config\n",
    "print(config.mastodon_account)\n",
    "pw = config.mastodon_pw\n",
    "print(pw)\n",
    "#print(config.mastodon_client_key)\n",
    "#print(config.mastodon_client_secret)\n",
    "#print(config.mastodon_access_token)"
   ]
  },
  {
   "cell_type": "code",
   "execution_count": 21,
   "id": "65275fb7",
   "metadata": {},
   "outputs": [],
   "source": [
    "# Register your app! This only needs to be done once. Uncomment the code and substitute in your information.\n",
    "\n",
    "from mastodon import Mastodon\n",
    "import config\n",
    "\n",
    "\n",
    "Mastodon.create_app(\n",
    "     'my_first_bot',\n",
    "     api_base_url = 'https://mastodon.social',\n",
    "     to_file = 'pytooter_clientcred.secret'\n",
    ")\n",
    "\n",
    "# Then login. This can be done every time, or use persisted.\n",
    "\n",
    "from mastodon import Mastodon\n",
    "\n",
    "mastodon = Mastodon(\n",
    "    client_id = 'pytooter_clientcred.secret',\n",
    "    api_base_url = 'https://mastodon.social'\n",
    ")"
   ]
  },
  {
   "cell_type": "code",
   "execution_count": 25,
   "id": "c9f598ce",
   "metadata": {},
   "outputs": [
    {
     "data": {
      "text/plain": [
       "<mastodon.Mastodon.Mastodon at 0x7fc5c38aecd0>"
      ]
     },
     "execution_count": 25,
     "metadata": {},
     "output_type": "execute_result"
    }
   ],
   "source": [
    "mastodon"
   ]
  },
  {
   "cell_type": "code",
   "execution_count": 24,
   "id": "f66accb7",
   "metadata": {},
   "outputs": [
    {
     "data": {
      "text/plain": [
       "'4.0.0rc1'"
      ]
     },
     "execution_count": 24,
     "metadata": {},
     "output_type": "execute_result"
    }
   ],
   "source": [
    "mastodon.retrieve_mastodon_version()"
   ]
  },
  {
   "cell_type": "code",
   "execution_count": 28,
   "id": "35737729",
   "metadata": {},
   "outputs": [
    {
     "data": {
      "text/plain": [
       "<mastodon.Mastodon.Mastodon at 0x7fc5c3b41040>"
      ]
     },
     "execution_count": 28,
     "metadata": {},
     "output_type": "execute_result"
    }
   ],
   "source": [
    "mastodon"
   ]
  },
  {
   "cell_type": "code",
   "execution_count": 30,
   "id": "1d7da5d0",
   "metadata": {},
   "outputs": [
    {
     "ename": "MastodonIllegalArgumentError",
     "evalue": "Invalid user name, password, or redirect_uris: ('Mastodon API returned error', 400, 'Bad Request', 'invalid_grant')",
     "output_type": "error",
     "traceback": [
      "\u001b[0;31m---------------------------------------------------------------------------\u001b[0m",
      "\u001b[0;31mMastodonAPIError\u001b[0m                          Traceback (most recent call last)",
      "File \u001b[0;32m~/opt/anaconda3/lib/python3.9/site-packages/mastodon/Mastodon.py:525\u001b[0m, in \u001b[0;36mMastodon.log_in\u001b[0;34m(self, username, password, code, redirect_uri, refresh_token, scopes, to_file)\u001b[0m\n\u001b[1;32m    524\u001b[0m \u001b[38;5;28;01mtry\u001b[39;00m:\n\u001b[0;32m--> 525\u001b[0m     response \u001b[38;5;241m=\u001b[39m \u001b[38;5;28;43mself\u001b[39;49m\u001b[38;5;241;43m.\u001b[39;49m\u001b[43m__api_request\u001b[49m\u001b[43m(\u001b[49m\u001b[38;5;124;43m'\u001b[39;49m\u001b[38;5;124;43mPOST\u001b[39;49m\u001b[38;5;124;43m'\u001b[39;49m\u001b[43m,\u001b[49m\u001b[43m \u001b[49m\u001b[38;5;124;43m'\u001b[39;49m\u001b[38;5;124;43m/oauth/token\u001b[39;49m\u001b[38;5;124;43m'\u001b[39;49m\u001b[43m,\u001b[49m\u001b[43m \u001b[49m\u001b[43mparams\u001b[49m\u001b[43m,\u001b[49m\u001b[43m \u001b[49m\u001b[43mdo_ratelimiting\u001b[49m\u001b[38;5;241;43m=\u001b[39;49m\u001b[38;5;28;43;01mFalse\u001b[39;49;00m\u001b[43m)\u001b[49m\n\u001b[1;32m    526\u001b[0m     \u001b[38;5;28mself\u001b[39m\u001b[38;5;241m.\u001b[39maccess_token \u001b[38;5;241m=\u001b[39m response[\u001b[38;5;124m'\u001b[39m\u001b[38;5;124maccess_token\u001b[39m\u001b[38;5;124m'\u001b[39m]\n",
      "File \u001b[0;32m~/opt/anaconda3/lib/python3.9/site-packages/mastodon/Mastodon.py:3425\u001b[0m, in \u001b[0;36mMastodon.__api_request\u001b[0;34m(self, method, endpoint, params, files, headers, access_token_override, base_url_override, do_ratelimiting, use_json, parse)\u001b[0m\n\u001b[1;32m   3423\u001b[0m         ex_type \u001b[38;5;241m=\u001b[39m MastodonAPIError\n\u001b[0;32m-> 3425\u001b[0m     \u001b[38;5;28;01mraise\u001b[39;00m ex_type(\n\u001b[1;32m   3426\u001b[0m             \u001b[38;5;124m'\u001b[39m\u001b[38;5;124mMastodon API returned error\u001b[39m\u001b[38;5;124m'\u001b[39m,\n\u001b[1;32m   3427\u001b[0m             response_object\u001b[38;5;241m.\u001b[39mstatus_code,\n\u001b[1;32m   3428\u001b[0m             response_object\u001b[38;5;241m.\u001b[39mreason,\n\u001b[1;32m   3429\u001b[0m             error_msg)\n\u001b[1;32m   3431\u001b[0m \u001b[38;5;28;01mif\u001b[39;00m parse \u001b[38;5;241m==\u001b[39m \u001b[38;5;28;01mTrue\u001b[39;00m:\n",
      "\u001b[0;31mMastodonAPIError\u001b[0m: ('Mastodon API returned error', 400, 'Bad Request', 'invalid_grant')",
      "\nDuring handling of the above exception, another exception occurred:\n",
      "\u001b[0;31mMastodonIllegalArgumentError\u001b[0m              Traceback (most recent call last)",
      "Input \u001b[0;32mIn [30]\u001b[0m, in \u001b[0;36m<cell line: 10>\u001b[0;34m()\u001b[0m\n\u001b[1;32m      2\u001b[0m \u001b[38;5;28;01mimport\u001b[39;00m \u001b[38;5;21;01mconfig\u001b[39;00m\n\u001b[1;32m      5\u001b[0m mastodon \u001b[38;5;241m=\u001b[39m Mastodon(\n\u001b[1;32m      6\u001b[0m     client_id \u001b[38;5;241m=\u001b[39m \u001b[38;5;124m'\u001b[39m\u001b[38;5;124mpytooter_clientcred.secret\u001b[39m\u001b[38;5;124m'\u001b[39m,\n\u001b[1;32m      7\u001b[0m     api_base_url \u001b[38;5;241m=\u001b[39m \u001b[38;5;124m'\u001b[39m\u001b[38;5;124mhttps://mastodon.social\u001b[39m\u001b[38;5;124m'\u001b[39m\n\u001b[1;32m      8\u001b[0m )\n\u001b[0;32m---> 10\u001b[0m \u001b[43mmastodon\u001b[49m\u001b[38;5;241;43m.\u001b[39;49m\u001b[43mlog_in\u001b[49m\u001b[43m(\u001b[49m\n\u001b[1;32m     11\u001b[0m \u001b[43m    \u001b[49m\u001b[38;5;124;43m'\u001b[39;49m\u001b[38;5;124;43mmichiel.bontenbal@gmail,com\u001b[39;49m\u001b[38;5;124;43m'\u001b[39;49m\u001b[43m,\u001b[49m\n\u001b[1;32m     12\u001b[0m \u001b[43m    \u001b[49m\u001b[43mpw\u001b[49m\u001b[43m,\u001b[49m\n\u001b[1;32m     13\u001b[0m \u001b[43m    \u001b[49m\u001b[43mto_file\u001b[49m\u001b[38;5;241;43m=\u001b[39;49m\u001b[38;5;124;43m'\u001b[39;49m\u001b[38;5;124;43mpytooter_clientcred.secret\u001b[39;49m\u001b[38;5;124;43m'\u001b[39;49m\u001b[43m   \u001b[49m\n\u001b[1;32m     14\u001b[0m \u001b[43m)\u001b[49m\n",
      "File \u001b[0;32m~/opt/anaconda3/lib/python3.9/site-packages/mastodon/Mastodon.py:531\u001b[0m, in \u001b[0;36mMastodon.log_in\u001b[0;34m(self, username, password, code, redirect_uri, refresh_token, scopes, to_file)\u001b[0m\n\u001b[1;32m    529\u001b[0m \u001b[38;5;28;01mexcept\u001b[39;00m \u001b[38;5;167;01mException\u001b[39;00m \u001b[38;5;28;01mas\u001b[39;00m e:\n\u001b[1;32m    530\u001b[0m     \u001b[38;5;28;01mif\u001b[39;00m username \u001b[38;5;129;01mis\u001b[39;00m \u001b[38;5;129;01mnot\u001b[39;00m \u001b[38;5;28;01mNone\u001b[39;00m \u001b[38;5;129;01mor\u001b[39;00m password \u001b[38;5;129;01mis\u001b[39;00m \u001b[38;5;129;01mnot\u001b[39;00m \u001b[38;5;28;01mNone\u001b[39;00m:\n\u001b[0;32m--> 531\u001b[0m         \u001b[38;5;28;01mraise\u001b[39;00m MastodonIllegalArgumentError(\u001b[38;5;124m'\u001b[39m\u001b[38;5;124mInvalid user name, password, or redirect_uris: \u001b[39m\u001b[38;5;132;01m%s\u001b[39;00m\u001b[38;5;124m'\u001b[39m \u001b[38;5;241m%\u001b[39m e)\n\u001b[1;32m    532\u001b[0m     \u001b[38;5;28;01melif\u001b[39;00m code \u001b[38;5;129;01mis\u001b[39;00m \u001b[38;5;129;01mnot\u001b[39;00m \u001b[38;5;28;01mNone\u001b[39;00m:\n\u001b[1;32m    533\u001b[0m         \u001b[38;5;28;01mraise\u001b[39;00m MastodonIllegalArgumentError(\u001b[38;5;124m'\u001b[39m\u001b[38;5;124mInvalid access token or redirect_uris: \u001b[39m\u001b[38;5;132;01m%s\u001b[39;00m\u001b[38;5;124m'\u001b[39m \u001b[38;5;241m%\u001b[39m e)\n",
      "\u001b[0;31mMastodonIllegalArgumentError\u001b[0m: Invalid user name, password, or redirect_uris: ('Mastodon API returned error', 400, 'Bad Request', 'invalid_grant')"
     ]
    }
   ],
   "source": [
    "from mastodon import Mastodon\n",
    "import config\n",
    "\n",
    "\n",
    "mastodon = Mastodon(\n",
    "    client_id = 'pytooter_clientcred.secret',\n",
    "    api_base_url = 'https://mastodon.social'\n",
    ")\n",
    "\n",
    "mastodon.log_in(\n",
    "    'michiel.bontenbal@gmail,com',\n",
    "    pw,\n",
    "    to_file='pytooter_clientcred.secret'   \n",
    ")"
   ]
  },
  {
   "cell_type": "code",
   "execution_count": 9,
   "id": "12d10712",
   "metadata": {},
   "outputs": [
    {
     "ename": "MastodonIllegalArgumentError",
     "evalue": "Specified client id directly, but did not supply secret",
     "output_type": "error",
     "traceback": [
      "\u001b[0;31m---------------------------------------------------------------------------\u001b[0m",
      "\u001b[0;31mMastodonIllegalArgumentError\u001b[0m              Traceback (most recent call last)",
      "Input \u001b[0;32mIn [9]\u001b[0m, in \u001b[0;36m<cell line: 4>\u001b[0;34m()\u001b[0m\n\u001b[1;32m      1\u001b[0m \u001b[38;5;28;01mfrom\u001b[39;00m \u001b[38;5;21;01mmastodon\u001b[39;00m \u001b[38;5;28;01mimport\u001b[39;00m Mastodon\n\u001b[1;32m      2\u001b[0m \u001b[38;5;28;01mimport\u001b[39;00m \u001b[38;5;21;01mconfig\u001b[39;00m\n\u001b[0;32m----> 4\u001b[0m mastodon \u001b[38;5;241m=\u001b[39m \u001b[43mMastodon\u001b[49m\u001b[43m(\u001b[49m\n\u001b[1;32m      5\u001b[0m \u001b[43m    \u001b[49m\u001b[43mclient_id\u001b[49m\u001b[43m \u001b[49m\u001b[38;5;241;43m=\u001b[39;49m\u001b[43m \u001b[49m\u001b[38;5;124;43m'\u001b[39;49m\u001b[38;5;124;43mpytooter_clientcred.secret\u001b[39;49m\u001b[38;5;124;43m'\u001b[39;49m\u001b[43m,\u001b[49m\n\u001b[1;32m      6\u001b[0m \u001b[43m    \u001b[49m\u001b[43mapi_base_url\u001b[49m\u001b[43m \u001b[49m\u001b[38;5;241;43m=\u001b[39;49m\u001b[43m \u001b[49m\u001b[38;5;124;43m'\u001b[39;49m\u001b[38;5;124;43mhttps://mastodon.social\u001b[39;49m\u001b[38;5;124;43m'\u001b[39;49m\n\u001b[1;32m      7\u001b[0m \u001b[43m)\u001b[49m\n\u001b[1;32m      8\u001b[0m account \u001b[38;5;241m=\u001b[39m config\u001b[38;5;241m.\u001b[39mmastodon_account\n\u001b[1;32m      9\u001b[0m pw \u001b[38;5;241m=\u001b[39m config\u001b[38;5;241m.\u001b[39mmastodon_pw\n",
      "File \u001b[0;32m~/opt/anaconda3/lib/python3.9/site-packages/mastodon/Mastodon.py:381\u001b[0m, in \u001b[0;36mMastodon.__init__\u001b[0;34m(self, client_id, client_secret, access_token, api_base_url, debug_requests, ratelimit_method, ratelimit_pacefactor, request_timeout, mastodon_version, version_check_mode, session, feature_set)\u001b[0m\n\u001b[1;32m    379\u001b[0m     \u001b[38;5;28;01melse\u001b[39;00m:\n\u001b[1;32m    380\u001b[0m         \u001b[38;5;28;01mif\u001b[39;00m \u001b[38;5;28mself\u001b[39m\u001b[38;5;241m.\u001b[39mclient_secret \u001b[38;5;129;01mis\u001b[39;00m \u001b[38;5;28;01mNone\u001b[39;00m:\n\u001b[0;32m--> 381\u001b[0m             \u001b[38;5;28;01mraise\u001b[39;00m MastodonIllegalArgumentError(\u001b[38;5;124m'\u001b[39m\u001b[38;5;124mSpecified client id directly, but did not supply secret\u001b[39m\u001b[38;5;124m'\u001b[39m)\n\u001b[1;32m    383\u001b[0m \u001b[38;5;28;01mif\u001b[39;00m \u001b[38;5;28mself\u001b[39m\u001b[38;5;241m.\u001b[39maccess_token \u001b[38;5;129;01mis\u001b[39;00m \u001b[38;5;129;01mnot\u001b[39;00m \u001b[38;5;28;01mNone\u001b[39;00m \u001b[38;5;129;01mand\u001b[39;00m os\u001b[38;5;241m.\u001b[39mpath\u001b[38;5;241m.\u001b[39misfile(\u001b[38;5;28mself\u001b[39m\u001b[38;5;241m.\u001b[39maccess_token):\n\u001b[1;32m    384\u001b[0m     \u001b[38;5;28;01mwith\u001b[39;00m \u001b[38;5;28mopen\u001b[39m(\u001b[38;5;28mself\u001b[39m\u001b[38;5;241m.\u001b[39maccess_token, \u001b[38;5;124m'\u001b[39m\u001b[38;5;124mr\u001b[39m\u001b[38;5;124m'\u001b[39m) \u001b[38;5;28;01mas\u001b[39;00m token_file:\n",
      "\u001b[0;31mMastodonIllegalArgumentError\u001b[0m: Specified client id directly, but did not supply secret"
     ]
    }
   ],
   "source": [
    "from mastodon import Mastodon\n",
    "import config\n",
    "\n",
    "mastodon = Mastodon(\n",
    "    client_id = 'pytooter_clientcred.secret',\n",
    "    api_base_url = 'https://mastodon.social'\n",
    ")\n",
    "\n",
    "account = config.mastodon_account\n",
    "pw = config.mastodon_pw\n",
    "\n",
    "mastodon.log_in(\n",
    "    account,pw,\n",
    "    to_file = 'pytooter_usercred.secret'\n",
    ")"
   ]
  },
  {
   "cell_type": "code",
   "execution_count": null,
   "id": "b88cbcc3",
   "metadata": {},
   "outputs": [],
   "source": []
  }
 ],
 "metadata": {
  "kernelspec": {
   "display_name": "Python 3 (ipykernel)",
   "language": "python",
   "name": "python3"
  },
  "language_info": {
   "codemirror_mode": {
    "name": "ipython",
    "version": 3
   },
   "file_extension": ".py",
   "mimetype": "text/x-python",
   "name": "python",
   "nbconvert_exporter": "python",
   "pygments_lexer": "ipython3",
   "version": "3.9.12"
  }
 },
 "nbformat": 4,
 "nbformat_minor": 5
}
