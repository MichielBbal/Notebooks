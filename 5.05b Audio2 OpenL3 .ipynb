{
 "cells": [
  {
   "cell_type": "code",
   "execution_count": null,
   "metadata": {},
   "outputs": [],
   "source": []
  },
  {
   "cell_type": "code",
   "execution_count": 1,
   "metadata": {},
   "outputs": [
    {
     "name": "stdout",
     "output_type": "stream",
     "text": [
      "Collecting pysoundfile\n",
      "  Downloading PySoundFile-0.9.0.post1-py2.py3.cp26.cp27.cp32.cp33.cp34.cp35.cp36.pp27.pp32.pp33-none-win_amd64.whl (671 kB)\n",
      "Requirement already satisfied: cffi>=0.6 in c:\\users\\31653\\anaconda3\\lib\\site-packages (from pysoundfile) (1.14.3)\n",
      "Requirement already satisfied: pycparser in c:\\users\\31653\\anaconda3\\lib\\site-packages (from cffi>=0.6->pysoundfile) (2.20)\n",
      "Installing collected packages: pysoundfile\n",
      "Successfully installed pysoundfile-0.9.0.post1\n",
      "Note: you may need to restart the kernel to use updated packages.\n"
     ]
    }
   ],
   "source": [
    "pip install pysoundfile"
   ]
  },
  {
   "cell_type": "code",
   "execution_count": 3,
   "metadata": {},
   "outputs": [
    {
     "data": {
      "text/plain": [
       "['11k16bitpcm.wav',\n",
       " 'claxon_1m.wav',\n",
       " 'claxon_close.wav',\n",
       " 'claxon_freesound.wav',\n",
       " 'claxon_iphone.wav',\n",
       " 'claxon_michiel.wav',\n",
       " 'example.wav',\n",
       " 'out.wav',\n",
       " 'test.wav',\n",
       " 'test2.wav',\n",
       " 'test3.wav']"
      ]
     },
     "execution_count": 3,
     "metadata": {},
     "output_type": "execute_result"
    }
   ],
   "source": [
    "import glob\n",
    "wav_files=glob.glob('*.wav')\n",
    "wav_files"
   ]
  },
  {
   "cell_type": "code",
   "execution_count": 7,
   "metadata": {},
   "outputs": [
    {
     "data": {
      "text/plain": [
       "16000"
      ]
     },
     "execution_count": 7,
     "metadata": {},
     "output_type": "execute_result"
    }
   ],
   "source": [
    "import soundfile as sf\n",
    "\n",
    "data, samplerate = sf.read('test3.wav')\n",
    "sf.write('new_file.ogg', data, samplerate)\n",
    "samplerate"
   ]
  },
  {
   "cell_type": "code",
   "execution_count": 8,
   "metadata": {},
   "outputs": [
    {
     "name": "stdout",
     "output_type": "stream",
     "text": [
      "Collecting openl3\n",
      "  Downloading openl3-0.4.1.tar.gz (18 kB)\n",
      "Requirement already satisfied: tensorflow>=2.0.0 in c:\\users\\31653\\anaconda3\\lib\\site-packages (from openl3) (2.6.0)\n",
      "Requirement already satisfied: numpy>=1.13.0 in c:\\users\\31653\\anaconda3\\lib\\site-packages (from openl3) (1.19.2)\n",
      "Requirement already satisfied: scipy>=0.19.1 in c:\\users\\31653\\anaconda3\\lib\\site-packages (from openl3) (1.5.2)\n",
      "Collecting kapre>=0.3.5\n",
      "  Downloading kapre-0.3.5.tar.gz (23 kB)\n",
      "  Installing build dependencies: started\n",
      "  Installing build dependencies: finished with status 'done'\n",
      "  Getting requirements to build wheel: started\n",
      "  Getting requirements to build wheel: finished with status 'done'\n",
      "    Preparing wheel metadata: started\n",
      "    Preparing wheel metadata: finished with status 'done'\n",
      "Requirement already satisfied: soundfile>=0.9.0.post1 in c:\\users\\31653\\anaconda3\\lib\\site-packages (from openl3) (0.10.3.post1)\n",
      "Requirement already satisfied: resampy<0.3.0,>=0.2.1 in c:\\users\\31653\\anaconda3\\lib\\site-packages (from openl3) (0.2.2)\n",
      "Collecting h5py<3.0.0,>=2.7.0\n",
      "  Using cached h5py-2.10.0-cp38-cp38-win_amd64.whl (2.5 MB)\n",
      "Collecting moviepy>=1.0.0\n",
      "  Downloading moviepy-1.0.3.tar.gz (388 kB)\n",
      "Requirement already satisfied: scikit-image>=0.14.3librosa>=0.7.2 in c:\\users\\31653\\anaconda3\\lib\\site-packages (from openl3) (0.17.2)\n",
      "Requirement already satisfied: tensorflow-estimator~=2.6 in c:\\users\\31653\\anaconda3\\lib\\site-packages (from tensorflow>=2.0.0->openl3) (2.6.0)\n",
      "Requirement already satisfied: wrapt~=1.12.1 in c:\\users\\31653\\anaconda3\\lib\\site-packages (from tensorflow>=2.0.0->openl3) (1.12.1)\n",
      "Requirement already satisfied: grpcio<2.0,>=1.37.0 in c:\\users\\31653\\anaconda3\\lib\\site-packages (from tensorflow>=2.0.0->openl3) (1.39.0)\n",
      "Requirement already satisfied: keras~=2.6 in c:\\users\\31653\\anaconda3\\lib\\site-packages (from tensorflow>=2.0.0->openl3) (2.6.0)\n",
      "Requirement already satisfied: six~=1.15.0 in c:\\users\\31653\\anaconda3\\lib\\site-packages (from tensorflow>=2.0.0->openl3) (1.15.0)\n",
      "Requirement already satisfied: flatbuffers~=1.12.0 in c:\\users\\31653\\anaconda3\\lib\\site-packages (from tensorflow>=2.0.0->openl3) (1.12)\n",
      "Requirement already satisfied: google-pasta~=0.2 in c:\\users\\31653\\anaconda3\\lib\\site-packages (from tensorflow>=2.0.0->openl3) (0.2.0)\n",
      "Requirement already satisfied: opt-einsum~=3.3.0 in c:\\users\\31653\\anaconda3\\lib\\site-packages (from tensorflow>=2.0.0->openl3) (3.3.0)\n",
      "Requirement already satisfied: gast==0.4.0 in c:\\users\\31653\\anaconda3\\lib\\site-packages (from tensorflow>=2.0.0->openl3) (0.4.0)\n",
      "Requirement already satisfied: astunparse~=1.6.3 in c:\\users\\31653\\anaconda3\\lib\\site-packages (from tensorflow>=2.0.0->openl3) (1.6.3)\n",
      "Requirement already satisfied: absl-py~=0.10 in c:\\users\\31653\\anaconda3\\lib\\site-packages (from tensorflow>=2.0.0->openl3) (0.11.0)\n",
      "Requirement already satisfied: clang~=5.0 in c:\\users\\31653\\anaconda3\\lib\\site-packages (from tensorflow>=2.0.0->openl3) (5.0)\n",
      "Requirement already satisfied: tensorboard~=2.6 in c:\\users\\31653\\anaconda3\\lib\\site-packages (from tensorflow>=2.0.0->openl3) (2.6.0)\n",
      "Requirement already satisfied: termcolor~=1.1.0 in c:\\users\\31653\\anaconda3\\lib\\site-packages (from tensorflow>=2.0.0->openl3) (1.1.0)\n",
      "Collecting typing-extensions~=3.7.4\n",
      "  Using cached typing_extensions-3.7.4.3-py3-none-any.whl (22 kB)\n",
      "Requirement already satisfied: keras-preprocessing~=1.1.2 in c:\\users\\31653\\anaconda3\\lib\\site-packages (from tensorflow>=2.0.0->openl3) (1.1.2)\n",
      "Requirement already satisfied: wheel~=0.35 in c:\\users\\31653\\anaconda3\\lib\\site-packages (from tensorflow>=2.0.0->openl3) (0.35.1)\n",
      "Requirement already satisfied: protobuf>=3.9.2 in c:\\users\\31653\\anaconda3\\lib\\site-packages (from tensorflow>=2.0.0->openl3) (3.15.5)\n",
      "Requirement already satisfied: librosa>=0.7.2 in c:\\users\\31653\\anaconda3\\lib\\site-packages (from kapre>=0.3.5->openl3) (0.8.0)\n",
      "Requirement already satisfied: cffi>=1.0 in c:\\users\\31653\\anaconda3\\lib\\site-packages (from soundfile>=0.9.0.post1->openl3) (1.14.3)\n",
      "Requirement already satisfied: numba>=0.32 in c:\\users\\31653\\anaconda3\\lib\\site-packages (from resampy<0.3.0,>=0.2.1->openl3) (0.51.2)\n",
      "Requirement already satisfied: decorator<5.0,>=4.0.2 in c:\\users\\31653\\anaconda3\\lib\\site-packages (from moviepy>=1.0.0->openl3) (4.4.2)\n",
      "Requirement already satisfied: tqdm<5.0,>=4.11.2 in c:\\users\\31653\\anaconda3\\lib\\site-packages (from moviepy>=1.0.0->openl3) (4.50.2)\n",
      "Requirement already satisfied: requests<3.0,>=2.8.1 in c:\\users\\31653\\anaconda3\\lib\\site-packages (from moviepy>=1.0.0->openl3) (2.25.1)\n",
      "Collecting proglog<=1.0.0\n",
      "  Downloading proglog-0.1.9.tar.gz (10 kB)\n",
      "Requirement already satisfied: imageio<3.0,>=2.5 in c:\\users\\31653\\anaconda3\\lib\\site-packages (from moviepy>=1.0.0->openl3) (2.9.0)\n",
      "Note: you may need to restart the kernel to use updated packages.\n",
      "Collecting imageio_ffmpeg>=0.2.0\n",
      "  Downloading imageio_ffmpeg-0.4.5-py3-none-win_amd64.whl (22.6 MB)\n",
      "Requirement already satisfied: matplotlib!=3.0.0,>=2.0.0 in c:\\users\\31653\\anaconda3\\lib\\site-packages (from scikit-image>=0.14.3librosa>=0.7.2->openl3) (3.3.2)\n",
      "Requirement already satisfied: networkx>=2.0 in c:\\users\\31653\\anaconda3\\lib\\site-packages (from scikit-image>=0.14.3librosa>=0.7.2->openl3) (2.5)\n",
      "Requirement already satisfied: pillow!=7.1.0,!=7.1.1,>=4.3.0 in c:\\users\\31653\\anaconda3\\lib\\site-packages (from scikit-image>=0.14.3librosa>=0.7.2->openl3) (8.0.1)\n",
      "Requirement already satisfied: tifffile>=2019.7.26 in c:\\users\\31653\\anaconda3\\lib\\site-packages (from scikit-image>=0.14.3librosa>=0.7.2->openl3) (2020.10.1)\n",
      "Requirement already satisfied: PyWavelets>=1.1.1 in c:\\users\\31653\\anaconda3\\lib\\site-packages (from scikit-image>=0.14.3librosa>=0.7.2->openl3) (1.1.1)"
     ]
    },
    {
     "name": "stderr",
     "output_type": "stream",
     "text": [
      "ERROR: After October 2020 you may experience errors when installing or updating packages. This is because pip will change the way that it resolves dependency conflicts.\n",
      "\n",
      "We recommend you use --use-feature=2020-resolver to test your packages with the new resolver before it becomes the default.\n",
      "\n",
      "tensorflow 2.6.0 requires h5py~=3.1.0, but you'll have h5py 2.10.0 which is incompatible.\n",
      "black 21.9b0 requires typing-extensions>=3.10.0.0, but you'll have typing-extensions 3.7.4.3 which is incompatible.\n"
     ]
    },
    {
     "name": "stdout",
     "output_type": "stream",
     "text": [
      "\n",
      "Requirement already satisfied: setuptools>=41.0.0 in c:\\users\\31653\\anaconda3\\lib\\site-packages (from tensorboard~=2.6->tensorflow>=2.0.0->openl3) (50.3.1.post20201107)\n",
      "Requirement already satisfied: tensorboard-data-server<0.7.0,>=0.6.0 in c:\\users\\31653\\anaconda3\\lib\\site-packages (from tensorboard~=2.6->tensorflow>=2.0.0->openl3) (0.6.1)\n",
      "Requirement already satisfied: google-auth<2,>=1.6.3 in c:\\users\\31653\\anaconda3\\lib\\site-packages (from tensorboard~=2.6->tensorflow>=2.0.0->openl3) (1.27.1)\n",
      "Requirement already satisfied: google-auth-oauthlib<0.5,>=0.4.1 in c:\\users\\31653\\anaconda3\\lib\\site-packages (from tensorboard~=2.6->tensorflow>=2.0.0->openl3) (0.4.3)\n",
      "Requirement already satisfied: werkzeug>=0.11.15 in c:\\users\\31653\\anaconda3\\lib\\site-packages (from tensorboard~=2.6->tensorflow>=2.0.0->openl3) (1.0.1)\n",
      "Requirement already satisfied: tensorboard-plugin-wit>=1.6.0 in c:\\users\\31653\\anaconda3\\lib\\site-packages (from tensorboard~=2.6->tensorflow>=2.0.0->openl3) (1.8.0)\n",
      "Requirement already satisfied: markdown>=2.6.8 in c:\\users\\31653\\anaconda3\\lib\\site-packages (from tensorboard~=2.6->tensorflow>=2.0.0->openl3) (3.3.4)\n",
      "Requirement already satisfied: pooch>=1.0 in c:\\users\\31653\\anaconda3\\lib\\site-packages (from librosa>=0.7.2->kapre>=0.3.5->openl3) (1.3.0)\n",
      "Requirement already satisfied: audioread>=2.0.0 in c:\\users\\31653\\anaconda3\\lib\\site-packages (from librosa>=0.7.2->kapre>=0.3.5->openl3) (2.1.9)\n",
      "Requirement already satisfied: joblib>=0.14 in c:\\users\\31653\\anaconda3\\lib\\site-packages (from librosa>=0.7.2->kapre>=0.3.5->openl3) (0.17.0)\n",
      "Requirement already satisfied: scikit-learn!=0.19.0,>=0.14.0 in c:\\users\\31653\\anaconda3\\lib\\site-packages (from librosa>=0.7.2->kapre>=0.3.5->openl3) (0.23.2)\n",
      "Requirement already satisfied: pycparser in c:\\users\\31653\\anaconda3\\lib\\site-packages (from cffi>=1.0->soundfile>=0.9.0.post1->openl3) (2.20)\n",
      "Requirement already satisfied: llvmlite<0.35,>=0.34.0.dev0 in c:\\users\\31653\\anaconda3\\lib\\site-packages (from numba>=0.32->resampy<0.3.0,>=0.2.1->openl3) (0.34.0)\n",
      "Requirement already satisfied: idna<3,>=2.5 in c:\\users\\31653\\anaconda3\\lib\\site-packages (from requests<3.0,>=2.8.1->moviepy>=1.0.0->openl3) (2.10)\n",
      "Requirement already satisfied: certifi>=2017.4.17 in c:\\users\\31653\\anaconda3\\lib\\site-packages (from requests<3.0,>=2.8.1->moviepy>=1.0.0->openl3) (2020.6.20)\n",
      "Requirement already satisfied: chardet<5,>=3.0.2 in c:\\users\\31653\\anaconda3\\lib\\site-packages (from requests<3.0,>=2.8.1->moviepy>=1.0.0->openl3) (3.0.4)\n",
      "Requirement already satisfied: urllib3<1.27,>=1.21.1 in c:\\users\\31653\\anaconda3\\lib\\site-packages (from requests<3.0,>=2.8.1->moviepy>=1.0.0->openl3) (1.26.4)\n",
      "Requirement already satisfied: kiwisolver>=1.0.1 in c:\\users\\31653\\anaconda3\\lib\\site-packages (from matplotlib!=3.0.0,>=2.0.0->scikit-image>=0.14.3librosa>=0.7.2->openl3) (1.3.0)\n",
      "Requirement already satisfied: cycler>=0.10 in c:\\users\\31653\\anaconda3\\lib\\site-packages (from matplotlib!=3.0.0,>=2.0.0->scikit-image>=0.14.3librosa>=0.7.2->openl3) (0.10.0)\n",
      "Requirement already satisfied: python-dateutil>=2.1 in c:\\users\\31653\\anaconda3\\lib\\site-packages (from matplotlib!=3.0.0,>=2.0.0->scikit-image>=0.14.3librosa>=0.7.2->openl3) (2.8.1)\n",
      "Requirement already satisfied: pyparsing!=2.0.4,!=2.1.2,!=2.1.6,>=2.0.3 in c:\\users\\31653\\anaconda3\\lib\\site-packages (from matplotlib!=3.0.0,>=2.0.0->scikit-image>=0.14.3librosa>=0.7.2->openl3) (2.4.7)\n",
      "Requirement already satisfied: pyasn1-modules>=0.2.1 in c:\\users\\31653\\anaconda3\\lib\\site-packages (from google-auth<2,>=1.6.3->tensorboard~=2.6->tensorflow>=2.0.0->openl3) (0.2.8)\n",
      "Requirement already satisfied: rsa<5,>=3.1.4; python_version >= \"3.6\" in c:\\users\\31653\\anaconda3\\lib\\site-packages (from google-auth<2,>=1.6.3->tensorboard~=2.6->tensorflow>=2.0.0->openl3) (4.7.2)\n",
      "Requirement already satisfied: cachetools<5.0,>=2.0.0 in c:\\users\\31653\\anaconda3\\lib\\site-packages (from google-auth<2,>=1.6.3->tensorboard~=2.6->tensorflow>=2.0.0->openl3) (4.2.1)\n",
      "Requirement already satisfied: requests-oauthlib>=0.7.0 in c:\\users\\31653\\anaconda3\\lib\\site-packages (from google-auth-oauthlib<0.5,>=0.4.1->tensorboard~=2.6->tensorflow>=2.0.0->openl3) (1.3.0)\n",
      "Requirement already satisfied: packaging in c:\\users\\31653\\anaconda3\\lib\\site-packages (from pooch>=1.0->librosa>=0.7.2->kapre>=0.3.5->openl3) (20.4)\n",
      "Requirement already satisfied: appdirs in c:\\users\\31653\\appdata\\roaming\\python\\python38\\site-packages (from pooch>=1.0->librosa>=0.7.2->kapre>=0.3.5->openl3) (1.4.4)\n",
      "Requirement already satisfied: threadpoolctl>=2.0.0 in c:\\users\\31653\\anaconda3\\lib\\site-packages (from scikit-learn!=0.19.0,>=0.14.0->librosa>=0.7.2->kapre>=0.3.5->openl3) (2.1.0)\n",
      "Requirement already satisfied: pyasn1<0.5.0,>=0.4.6 in c:\\users\\31653\\anaconda3\\lib\\site-packages (from pyasn1-modules>=0.2.1->google-auth<2,>=1.6.3->tensorboard~=2.6->tensorflow>=2.0.0->openl3) (0.4.8)\n",
      "Requirement already satisfied: oauthlib>=3.0.0 in c:\\users\\31653\\anaconda3\\lib\\site-packages (from requests-oauthlib>=0.7.0->google-auth-oauthlib<0.5,>=0.4.1->tensorboard~=2.6->tensorflow>=2.0.0->openl3) (3.1.0)\n",
      "Building wheels for collected packages: openl3, kapre, moviepy, proglog\n",
      "  Building wheel for openl3 (setup.py): started\n",
      "  Building wheel for openl3 (setup.py): finished with status 'done'\n",
      "  Created wheel for openl3: filename=openl3-0.4.1-py2.py3-none-any.whl size=249325529 sha256=0af6f059c3faf0cb389a94460c8388ed64df5c045b1426b9b3dff2e45d8b044c\n",
      "  Stored in directory: c:\\users\\31653\\appdata\\local\\pip\\cache\\wheels\\f3\\88\\93\\33a947b53255468585f1d3c869811b6967f8d20e30e8e45d27\n",
      "  Building wheel for kapre (PEP 517): started\n",
      "  Building wheel for kapre (PEP 517): finished with status 'done'\n",
      "  Created wheel for kapre: filename=kapre-0.3.5-py3-none-any.whl size=27551 sha256=2a69b277d1e45598d9a1a847a250f36cef81a6dd33a1bd86a57a0016fef39198\n",
      "  Stored in directory: c:\\users\\31653\\appdata\\local\\pip\\cache\\wheels\\f1\\09\\05\\048fb52c77a470a99157a7f633927a2269fb9e046dee1d1834\n",
      "  Building wheel for moviepy (setup.py): started\n",
      "  Building wheel for moviepy (setup.py): finished with status 'done'\n",
      "  Created wheel for moviepy: filename=moviepy-1.0.3-py3-none-any.whl size=110731 sha256=a044e445f98b342564f792bbb596bccfd8e77d0e6692bc125f3013a1a1a550fb\n",
      "  Stored in directory: c:\\users\\31653\\appdata\\local\\pip\\cache\\wheels\\e4\\a4\\db\\0368d3a04033da662e13926594b3a8cf1aa4ffeefe570cfac1\n",
      "  Building wheel for proglog (setup.py): started\n",
      "  Building wheel for proglog (setup.py): finished with status 'done'\n",
      "  Created wheel for proglog: filename=proglog-0.1.9-py3-none-any.whl size=6151 sha256=97ea79790dbf85e6a9cedf3608a1895de7b8a50a067f24fc5638e71c5d749af8\n",
      "  Stored in directory: c:\\users\\31653\\appdata\\local\\pip\\cache\\wheels\\22\\82\\ff\\56950e4b223a69eda3a2bdeaef2ae4b274c3d1ced9b5814c99\n",
      "Successfully built openl3 kapre moviepy proglog\n",
      "Installing collected packages: kapre, h5py, proglog, imageio-ffmpeg, moviepy, openl3, typing-extensions\n",
      "  Attempting uninstall: h5py\n",
      "    Found existing installation: h5py 3.1.0\n",
      "    Uninstalling h5py-3.1.0:\n",
      "      Successfully uninstalled h5py-3.1.0\n",
      "  Attempting uninstall: typing-extensions\n",
      "    Found existing installation: typing-extensions 3.10.0.2\n",
      "    Uninstalling typing-extensions-3.10.0.2:\n",
      "      Successfully uninstalled typing-extensions-3.10.0.2\n",
      "Successfully installed h5py-2.10.0 imageio-ffmpeg-0.4.5 kapre-0.3.5 moviepy-1.0.3 openl3-0.4.1 proglog-0.1.9 typing-extensions-3.7.4.3\n"
     ]
    }
   ],
   "source": [
    "pip install openl3"
   ]
  },
  {
   "cell_type": "code",
   "execution_count": 9,
   "metadata": {},
   "outputs": [
    {
     "name": "stdout",
     "output_type": "stream",
     "text": [
      "2/2 [==============================] - 4s 933ms/step\n"
     ]
    }
   ],
   "source": [
    "import openl3\n",
    "import soundfile as sf\n",
    "\n",
    "audio, sr = sf.read('test3.wav')\n",
    "emb, ts = openl3.get_audio_embedding(audio, sr)"
   ]
  },
  {
   "cell_type": "code",
   "execution_count": 11,
   "metadata": {},
   "outputs": [
    {
     "data": {
      "text/plain": [
       "array([0. , 0.1, 0.2, 0.3, 0.4, 0.5, 0.6, 0.7, 0.8, 0.9, 1. , 1.1, 1.2,\n",
       "       1.3, 1.4, 1.5, 1.6, 1.7, 1.8, 1.9, 2. , 2.1, 2.2, 2.3, 2.4, 2.5,\n",
       "       2.6, 2.7, 2.8, 2.9, 3. , 3.1, 3.2, 3.3, 3.4, 3.5, 3.6, 3.7, 3.8,\n",
       "       3.9, 4. , 4.1, 4.2, 4.3])"
      ]
     },
     "execution_count": 11,
     "metadata": {},
     "output_type": "execute_result"
    }
   ],
   "source": []
  },
  {
   "cell_type": "code",
   "execution_count": null,
   "metadata": {},
   "outputs": [],
   "source": []
  }
 ],
 "metadata": {
  "kernelspec": {
   "display_name": "Python 3",
   "language": "python",
   "name": "python3"
  },
  "language_info": {
   "codemirror_mode": {
    "name": "ipython",
    "version": 3
   },
   "file_extension": ".py",
   "mimetype": "text/x-python",
   "name": "python",
   "nbconvert_exporter": "python",
   "pygments_lexer": "ipython3",
   "version": "3.8.5"
  }
 },
 "nbformat": 4,
 "nbformat_minor": 4
}
