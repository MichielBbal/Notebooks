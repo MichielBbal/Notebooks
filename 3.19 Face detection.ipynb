{
 "cells": [
  {
   "cell_type": "markdown",
   "id": "18f67f82",
   "metadata": {},
   "source": [
    "# Face recognition"
   ]
  },
  {
   "cell_type": "code",
   "execution_count": 2,
   "id": "56e3b9cf",
   "metadata": {},
   "outputs": [
    {
     "name": "stdout",
     "output_type": "stream",
     "text": [
      "Collecting face_recognition\n",
      "  Downloading face_recognition-1.3.0-py2.py3-none-any.whl (15 kB)\n",
      "Collecting face-recognition-models>=0.3.0\n",
      "  Downloading face_recognition_models-0.3.0.tar.gz (100.1 MB)\n",
      "  Preparing metadata (setup.py): started\n",
      "  Preparing metadata (setup.py): finished with status 'done'\n",
      "Requirement already satisfied: Pillow in c:\\users\\31653\\anaconda3\\lib\\site-packages (from face_recognition) (8.3.2)\n",
      "Requirement already satisfied: numpy in c:\\users\\31653\\anaconda3\\lib\\site-packages (from face_recognition) (1.20.1)\n",
      "Requirement already satisfied: Click>=6.0 in c:\\users\\31653\\anaconda3\\lib\\site-packages (from face_recognition) (7.1.2)\n",
      "Collecting dlib>=19.7\n",
      "  Downloading dlib-19.23.1.tar.gz (7.4 MB)\n",
      "  Preparing metadata (setup.py): started\n",
      "  Preparing metadata (setup.py): finished with status 'done'\n",
      "Building wheels for collected packages: dlib, face-recognition-models\n",
      "  Building wheel for dlib (setup.py): started\n",
      "  Building wheel for dlib (setup.py): finished with status 'error'\n",
      "  Running setup.py clean for dlib\n",
      "  Building wheel for face-recognition-models (setup.py): started\n",
      "  Building wheel for face-recognition-models (setup.py): finished with status 'done'\n",
      "  Created wheel for face-recognition-models: filename=face_recognition_models-0.3.0-py2.py3-none-any.whl size=100566185 sha256=2a6c1dea95f56399a6333507d1dfd52abe7628b93c96705b94fd23d68c61be69\n",
      "  Stored in directory: c:\\users\\31653\\appdata\\local\\pip\\cache\\wheels\\b4\\4b\\8f\\751e99d45f089bdf366a7d3e5066db3c2b84a62e4377f534d7\n",
      "Successfully built face-recognition-models\n",
      "Failed to build dlib\n",
      "Installing collected packages: face-recognition-models, dlib, face-recognition\n",
      "    Running setup.py install for dlib: started\n",
      "    Running setup.py install for dlib: finished with status 'error'\n"
     ]
    },
    {
     "name": "stderr",
     "output_type": "stream",
     "text": [
      "  ERROR: Command errored out with exit status 1:\n",
      "   command: 'C:\\Users\\31653\\anaconda3\\python.exe' -u -c 'import io, os, sys, setuptools, tokenize; sys.argv[0] = '\"'\"'C:\\\\Users\\\\31653\\\\AppData\\\\Local\\\\Temp\\\\pip-install-zcyoangn\\\\dlib_be2a85170e2547a586142a541c298124\\\\setup.py'\"'\"'; __file__='\"'\"'C:\\\\Users\\\\31653\\\\AppData\\\\Local\\\\Temp\\\\pip-install-zcyoangn\\\\dlib_be2a85170e2547a586142a541c298124\\\\setup.py'\"'\"';f = getattr(tokenize, '\"'\"'open'\"'\"', open)(__file__) if os.path.exists(__file__) else io.StringIO('\"'\"'from setuptools import setup; setup()'\"'\"');code = f.read().replace('\"'\"'\\r\\n'\"'\"', '\"'\"'\\n'\"'\"');f.close();exec(compile(code, __file__, '\"'\"'exec'\"'\"'))' bdist_wheel -d 'C:\\Users\\31653\\AppData\\Local\\Temp\\pip-wheel-u1ro_je_'\n",
      "       cwd: C:\\Users\\31653\\AppData\\Local\\Temp\\pip-install-zcyoangn\\dlib_be2a85170e2547a586142a541c298124\\\n",
      "  Complete output (8 lines):\n",
      "  running bdist_wheel\n",
      "  running build\n",
      "  running build_py\n",
      "  package init file 'tools\\python\\dlib\\__init__.py' not found (or not a regular file)\n",
      "  running build_ext\n",
      "  \n",
      "  ERROR: CMake must be installed to build dlib\n",
      "  \n",
      "  ----------------------------------------\n",
      "  ERROR: Failed building wheel for dlib\n",
      "    ERROR: Command errored out with exit status 1:\n",
      "     command: 'C:\\Users\\31653\\anaconda3\\python.exe' -u -c 'import io, os, sys, setuptools, tokenize; sys.argv[0] = '\"'\"'C:\\\\Users\\\\31653\\\\AppData\\\\Local\\\\Temp\\\\pip-install-zcyoangn\\\\dlib_be2a85170e2547a586142a541c298124\\\\setup.py'\"'\"'; __file__='\"'\"'C:\\\\Users\\\\31653\\\\AppData\\\\Local\\\\Temp\\\\pip-install-zcyoangn\\\\dlib_be2a85170e2547a586142a541c298124\\\\setup.py'\"'\"';f = getattr(tokenize, '\"'\"'open'\"'\"', open)(__file__) if os.path.exists(__file__) else io.StringIO('\"'\"'from setuptools import setup; setup()'\"'\"');code = f.read().replace('\"'\"'\\r\\n'\"'\"', '\"'\"'\\n'\"'\"');f.close();exec(compile(code, __file__, '\"'\"'exec'\"'\"'))' install --record 'C:\\Users\\31653\\AppData\\Local\\Temp\\pip-record-bb98x7n5\\install-record.txt' --single-version-externally-managed --compile --install-headers 'C:\\Users\\31653\\anaconda3\\Include\\dlib'\n",
      "         cwd: C:\\Users\\31653\\AppData\\Local\\Temp\\pip-install-zcyoangn\\dlib_be2a85170e2547a586142a541c298124\\\n",
      "    Complete output (8 lines):\n",
      "    running install\n",
      "    running build\n",
      "    running build_py\n",
      "    package init file 'tools\\python\\dlib\\__init__.py' not found (or not a regular file)\n",
      "    running build_ext\n",
      "    \n",
      "    ERROR: CMake must be installed to build dlib\n",
      "    \n",
      "    ----------------------------------------\n",
      "ERROR: Command errored out with exit status 1: 'C:\\Users\\31653\\anaconda3\\python.exe' -u -c 'import io, os, sys, setuptools, tokenize; sys.argv[0] = '\"'\"'C:\\\\Users\\\\31653\\\\AppData\\\\Local\\\\Temp\\\\pip-install-zcyoangn\\\\dlib_be2a85170e2547a586142a541c298124\\\\setup.py'\"'\"'; __file__='\"'\"'C:\\\\Users\\\\31653\\\\AppData\\\\Local\\\\Temp\\\\pip-install-zcyoangn\\\\dlib_be2a85170e2547a586142a541c298124\\\\setup.py'\"'\"';f = getattr(tokenize, '\"'\"'open'\"'\"', open)(__file__) if os.path.exists(__file__) else io.StringIO('\"'\"'from setuptools import setup; setup()'\"'\"');code = f.read().replace('\"'\"'\\r\\n'\"'\"', '\"'\"'\\n'\"'\"');f.close();exec(compile(code, __file__, '\"'\"'exec'\"'\"'))' install --record 'C:\\Users\\31653\\AppData\\Local\\Temp\\pip-record-bb98x7n5\\install-record.txt' --single-version-externally-managed --compile --install-headers 'C:\\Users\\31653\\anaconda3\\Include\\dlib' Check the logs for full command output.\n"
     ]
    }
   ],
   "source": [
    "!pip3 install face_recognition"
   ]
  },
  {
   "cell_type": "code",
   "execution_count": null,
   "id": "fdaae711",
   "metadata": {},
   "outputs": [],
   "source": []
  },
  {
   "cell_type": "code",
   "execution_count": null,
   "id": "7a998fd8",
   "metadata": {},
   "outputs": [],
   "source": []
  },
  {
   "cell_type": "code",
   "execution_count": null,
   "id": "c2f5b0c0",
   "metadata": {},
   "outputs": [],
   "source": []
  }
 ],
 "metadata": {
  "kernelspec": {
   "display_name": "Python 3 (ipykernel)",
   "language": "python",
   "name": "python3"
  },
  "language_info": {
   "codemirror_mode": {
    "name": "ipython",
    "version": 3
   },
   "file_extension": ".py",
   "mimetype": "text/x-python",
   "name": "python",
   "nbconvert_exporter": "python",
   "pygments_lexer": "ipython3",
   "version": "3.8.5"
  }
 },
 "nbformat": 4,
 "nbformat_minor": 5
}
