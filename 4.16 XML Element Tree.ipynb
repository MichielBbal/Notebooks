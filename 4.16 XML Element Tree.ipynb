{
 "cells": [
  {
   "cell_type": "markdown",
   "id": "b11528de",
   "metadata": {},
   "source": [
    "# XML advanced with elementtree\n",
    "\n",
    "### Links\n",
    "https://www.datacamp.com/community/tutorials/python-xml-elementtree\n",
    "\n",
    "### Contents\n",
    "- 1. First example\n",
    "- 2. Write txt to xml\n",
    "- 3."
   ]
  },
  {
   "cell_type": "code",
   "execution_count": 10,
   "id": "53087fb6",
   "metadata": {},
   "outputs": [
    {
     "name": "stdout",
     "output_type": "stream",
     "text": [
      "<collection>\n",
      "    <genre category=\"Action\">\n",
      "        <decade years=\"1980s\">\n",
      "            <movie favorite=\"True\" title=\"Indiana Jones: The raiders of the lost Ark\">\n",
      "                <format multiple=\"No\">DVD</format>\n",
      "                <year>1981</year>\n",
      "                <rating>PG</rating>\n",
      "                <description>\n",
      "                'Archaeologist and adventurer Indiana Jones \n",
      "                is hired by the U.S. government to find the Ark of the \n",
      "                Covenant before the Nazis.'\n",
      "                </description>\n",
      "            </movie>\n",
      "               <movie favorite=\"True\" title=\"THE KARATE KID\">\n",
      "               <format multiple=\"Yes\">DVD,Online</format>\n",
      "               <year>1984</year>\n",
      "               <rating>PG</rating>\n",
      "               <description>None provided.</description>\n",
      "            </movie>\n",
      "            <movie favorite=\"False\" title=\"Back 2 the Future\">\n",
      "               <format multiple=\"False\">Blu-ray</format>\n",
      "               <year>1985</year>\n",
      "               <rating>PG</rating>\n",
      "               <description>Marty McFly</description>\n",
      "            </movie>\n",
      "        </decade>\n",
      "        <decade years=\"1990s\">\n",
      "            <movie favorite=\"False\" title=\"X-Men\">\n",
      "               <format multiple=\"Yes\">dvd, digital</format>\n",
      "               <year>2000</year>\n",
      "               <rating>PG-13</rating>\n",
      "               <description>Two mutants come to a private academy for their kind whose resident superhero team must \n",
      "               oppose a terrorist organization with similar powers.</description>\n",
      "            </movie>\n",
      "            <movie favorite=\"True\" title=\"Batman Returns\">\n",
      "               <format multiple=\"No\">VHS</format>\n",
      "               <year>1992</year>\n",
      "               <rating>PG13</rating>\n",
      "               <description>NA.</description>\n",
      "            </movie>\n",
      "               <movie favorite=\"False\" title=\"Reservoir Dogs\">\n",
      "               <format multiple=\"No\">Online</format>\n",
      "               <year>1992</year>\n",
      "               <rating>R</rating>\n",
      "               <description>WhAtEvER I Want!!!?!</description>\n",
      "            </movie>\n",
      "        </decade>    \n",
      "    </genre>\n",
      "    <genre category=\"Thriller\">\n",
      "        <decade years=\"1970s\">\n",
      "            <movie favorite=\"False\" title=\"ALIEN\">\n",
      "                <format multiple=\"Yes\">DVD</format>\n",
      "                <year>1979</year>\n",
      "                <rating>R</rating>\n",
      "                <description>\"\"\"\"\"\"\"\"\"</description>\n",
      "            </movie>\n",
      "        </decade>\n",
      "        <decade years=\"1980s\">\n",
      "            <movie favorite=\"True\" title=\"Ferris Bueller's Day Off\">\n",
      "                <format multiple=\"No\">DVD</format>\n",
      "                <year>1986</year>\n",
      "                <rating>PG13</rating>\n",
      "                <description>Funny movie about a funny guy</description>\n",
      "            </movie>\n",
      "            <movie favorite=\"FALSE\" title=\"American Psycho\">\n",
      "                <format multiple=\"No\">blue-ray</format>\n",
      "                <year>2000</year>\n",
      "                <rating>Unrated</rating>\n",
      "                <description>psychopathic Bateman</description>\n",
      "            </movie>\n",
      "        </decade>\n",
      "    </genre>\n",
      "</collection>\n"
     ]
    }
   ],
   "source": [
    "import xml.etree.ElementTree as ET #import the library \n",
    "tree = ET.parse('movies.xml') #parse the XML\n",
    "ET.dump(tree) #print the xml file"
   ]
  },
  {
   "cell_type": "code",
   "execution_count": 2,
   "id": "10e21686",
   "metadata": {},
   "outputs": [
    {
     "name": "stdout",
     "output_type": "stream",
     "text": [
      "collection {}\n"
     ]
    }
   ],
   "source": [
    "root = tree.getroot()\n",
    "print(root.tag, root.attrib)"
   ]
  },
  {
   "cell_type": "code",
   "execution_count": 3,
   "id": "875b357f",
   "metadata": {},
   "outputs": [
    {
     "name": "stdout",
     "output_type": "stream",
     "text": [
      "genre {'category': 'Action'}\n",
      "genre {'category': 'Thriller'}\n"
     ]
    }
   ],
   "source": [
    "for child in root:\n",
    "    print(child.tag, child.attrib)"
   ]
  },
  {
   "cell_type": "code",
   "execution_count": 4,
   "id": "b7cd6ccd",
   "metadata": {},
   "outputs": [
    {
     "name": "stdout",
     "output_type": "stream",
     "text": [
      "['collection', 'genre', 'decade', 'movie', 'format', 'year', 'rating', 'description', 'movie', 'format', 'year', 'rating', 'description', 'movie', 'format', 'year', 'rating', 'description', 'decade', 'movie', 'format', 'year', 'rating', 'description', 'movie', 'format', 'year', 'rating', 'description', 'movie', 'format', 'year', 'rating', 'description', 'genre', 'decade', 'movie', 'format', 'year', 'rating', 'description', 'decade', 'movie', 'format', 'year', 'rating', 'description', 'movie', 'format', 'year', 'rating', 'description']\n"
     ]
    }
   ],
   "source": [
    "my_list =[]\n",
    "for elem in tree.iter():\n",
    "    my_list.append(elem.tag)\n",
    "print(my_list)"
   ]
  },
  {
   "cell_type": "code",
   "execution_count": 5,
   "id": "7cc29d70",
   "metadata": {},
   "outputs": [
    {
     "name": "stdout",
     "output_type": "stream",
     "text": [
      "['collection', 'genre', 'decade', 'movie', 'format', 'year', 'rating', 'description']\n"
     ]
    }
   ],
   "source": [
    "#remove duplicates by converting it to a dict and back to a list\n",
    "#source: https://www.w3schools.com/python/python_howto_remove_duplicates.asp\n",
    "my_clean_list = list(dict.fromkeys(my_list))\n",
    "print(my_clean_list)"
   ]
  },
  {
   "cell_type": "code",
   "execution_count": 7,
   "id": "826ad93e",
   "metadata": {},
   "outputs": [
    {
     "name": "stdout",
     "output_type": "stream",
     "text": [
      "{}\n",
      "{'category': 'Action'}\n",
      "{'years': '1980s'}\n",
      "{'favorite': 'True', 'title': 'Indiana Jones: The raiders of the lost Ark'}\n",
      "{'multiple': 'No'}\n",
      "{}\n",
      "{}\n",
      "{}\n",
      "{'favorite': 'True', 'title': 'THE KARATE KID'}\n",
      "{'multiple': 'Yes'}\n",
      "{}\n",
      "{}\n",
      "{}\n",
      "{'favorite': 'False', 'title': 'Back 2 the Future'}\n",
      "{'multiple': 'False'}\n",
      "{}\n",
      "{}\n",
      "{}\n",
      "{'years': '1990s'}\n",
      "{'favorite': 'False', 'title': 'X-Men'}\n",
      "{'multiple': 'Yes'}\n",
      "{}\n",
      "{}\n",
      "{}\n",
      "{'favorite': 'True', 'title': 'Batman Returns'}\n",
      "{'multiple': 'No'}\n",
      "{}\n",
      "{}\n",
      "{}\n",
      "{'favorite': 'False', 'title': 'Reservoir Dogs'}\n",
      "{'multiple': 'No'}\n",
      "{}\n",
      "{}\n",
      "{}\n",
      "{'category': 'Thriller'}\n",
      "{'years': '1970s'}\n",
      "{'favorite': 'False', 'title': 'ALIEN'}\n",
      "{'multiple': 'Yes'}\n",
      "{}\n",
      "{}\n",
      "{}\n",
      "{'years': '1980s'}\n",
      "{'favorite': 'True', 'title': \"Ferris Bueller's Day Off\"}\n",
      "{'multiple': 'No'}\n",
      "{}\n",
      "{}\n",
      "{}\n",
      "{'favorite': 'FALSE', 'title': 'American Psycho'}\n",
      "{'multiple': 'No'}\n",
      "{}\n",
      "{}\n",
      "{}\n"
     ]
    }
   ],
   "source": [
    "for el in root.iter():\n",
    "    attrib = el.attrib\n",
    "    print(attrib)"
   ]
  },
  {
   "cell_type": "markdown",
   "id": "33b3e6d1",
   "metadata": {},
   "source": [
    "## 2. more advanced inspection with inspect"
   ]
  },
  {
   "cell_type": "code",
   "execution_count": 9,
   "id": "61e7de49",
   "metadata": {},
   "outputs": [
    {
     "name": "stdout",
     "output_type": "stream",
     "text": [
      "C14NWriterTarget\n",
      "Element\n",
      "ElementTree\n",
      "ParseError\n",
      "QName\n",
      "TreeBuilder\n",
      "XMLParser\n",
      "XMLPullParser\n",
      "--------------------------------------\n",
      "Comment\n",
      "PI\n",
      "ProcessingInstruction\n",
      "XML\n",
      "XMLID\n",
      "canonicalize\n",
      "dump\n",
      "fromstring\n",
      "fromstringlist\n",
      "iselement\n",
      "iterparse\n",
      "parse\n",
      "register_namespace\n",
      "tostring\n",
      "tostringlist\n"
     ]
    }
   ],
   "source": [
    "import xml.etree.ElementTree as ET\n",
    "from inspect import getmembers, isclass, isfunction\n",
    "#Display classes in ET module\n",
    "for (name, member) in getmembers(ET, isclass):\n",
    "    if not name.startswith(\"_\"):\n",
    "        print(name)\n",
    "print('--------------------------------------')\n",
    "#Display functions in ET module\n",
    "for (name, member) in getmembers(ET, isfunction):\n",
    "    if not name.startswith(\"_\"):\n",
    "        print(name)"
   ]
  },
  {
   "cell_type": "code",
   "execution_count": 11,
   "id": "197b4e7c",
   "metadata": {},
   "outputs": [],
   "source": []
  },
  {
   "cell_type": "markdown",
   "id": "8ef50391",
   "metadata": {},
   "source": []
  },
  {
   "cell_type": "markdown",
   "id": "4216ac95",
   "metadata": {},
   "source": []
  },
  {
   "cell_type": "code",
   "execution_count": 12,
   "id": "8bc51f94",
   "metadata": {},
   "outputs": [],
   "source": []
  },
  {
   "cell_type": "code",
   "execution_count": null,
   "id": "a54e8ea3",
   "metadata": {},
   "outputs": [],
   "source": []
  },
  {
   "cell_type": "code",
   "execution_count": 19,
   "id": "923c7ff3",
   "metadata": {},
   "outputs": [],
   "source": []
  },
  {
   "cell_type": "code",
   "execution_count": null,
   "id": "c630acb1",
   "metadata": {},
   "outputs": [],
   "source": []
  },
  {
   "cell_type": "code",
   "execution_count": null,
   "id": "686ebb50",
   "metadata": {},
   "outputs": [],
   "source": []
  },
  {
   "cell_type": "markdown",
   "id": "f77ebd83",
   "metadata": {},
   "source": []
  },
  {
   "cell_type": "code",
   "execution_count": null,
   "id": "b6b447a9",
   "metadata": {},
   "outputs": [],
   "source": []
  },
  {
   "cell_type": "code",
   "execution_count": null,
   "id": "50facfdc",
   "metadata": {},
   "outputs": [],
   "source": []
  },
  {
   "cell_type": "code",
   "execution_count": 59,
   "id": "43fcbe92",
   "metadata": {},
   "outputs": [],
   "source": []
  },
  {
   "cell_type": "code",
   "execution_count": 79,
   "id": "a6d9c01b",
   "metadata": {},
   "outputs": [],
   "source": [
    "#creating a plantUML .txt file based on the list above\n",
    "textfile = open('leegmelden_plantuml.txt', 'w')\n",
    "textfile.write('@startuml\\n')\n",
    "textfile.write('title Leegmelden request en response \\n')\n",
    "textfile.write('object '+elements_list[0] +'{\\n')\n",
    "for i in range (len(elements_list)):\n",
    "    try:\n",
    "        textfile.write(elements_list[i+1] + \"\\n\")\n",
    "    except:\n",
    "        pass\n",
    "textfile.write('}\\n')\n",
    "textfile.write('object '+response_list[0] +'{\\n')\n",
    "for i in range (len(response_list)):\n",
    "    try:\n",
    "        textfile.write(response_list[i+1] + \"\\n\")\n",
    "    except:\n",
    "        pass\n",
    "textfile.write('}\\n')\n",
    "textfile.write('@enduml')\n",
    "textfile.close() "
   ]
  },
  {
   "cell_type": "code",
   "execution_count": 80,
   "id": "8239ecaf",
   "metadata": {},
   "outputs": [
    {
     "data": {
      "text/plain": [
       "['accounts.txt',\n",
       " 'accounts2.txt',\n",
       " 'a_file.txt',\n",
       " 'demo.txt',\n",
       " 'leegmelden_plantuml.txt',\n",
       " 'NOAA_data.txt',\n",
       " 'plantuml.txt',\n",
       " 'plantuml_complex.txt',\n",
       " 'plantuml_complex2.txt',\n",
       " 'servers.txt',\n",
       " 'untitled.txt',\n",
       " 'XML_file.txt']"
      ]
     },
     "execution_count": 80,
     "metadata": {},
     "output_type": "execute_result"
    }
   ],
   "source": [
    "import glob\n",
    "my_txts= glob.glob('*.txt')\n",
    "my_txts"
   ]
  },
  {
   "cell_type": "code",
   "execution_count": 54,
   "id": "1df71fb5",
   "metadata": {},
   "outputs": [
    {
     "data": {
      "text/plain": [
       "'C:\\\\Users\\\\31653\\\\Documents\\\\GitHub\\\\Notebooks'"
      ]
     },
     "execution_count": 54,
     "metadata": {},
     "output_type": "execute_result"
    }
   ],
   "source": [
    "pwd"
   ]
  },
  {
   "cell_type": "code",
   "execution_count": 76,
   "id": "1e402c14",
   "metadata": {},
   "outputs": [],
   "source": [
    "%pycat C:\\\\Users\\\\31653\\\\Documents\\\\GitHub\\\\Notebooks\\\\leegmelden_plantuml.txt"
   ]
  },
  {
   "cell_type": "code",
   "execution_count": 81,
   "id": "0ffd2a06",
   "metadata": {},
   "outputs": [
    {
     "name": "stdout",
     "output_type": "stream",
     "text": [
      "[{'filename': 'leegmelden_plantuml.txt', 'gen_success': True}]\n"
     ]
    }
   ],
   "source": [
    "#convert the txt file to an .png image using plantuml\n",
    "!python -m plantuml leegmelden_plantuml.txt"
   ]
  },
  {
   "cell_type": "code",
   "execution_count": 82,
   "id": "8f429103",
   "metadata": {},
   "outputs": [
    {
     "data": {
      "image/png": "[encoded data removed]",
      "text/plain": [
       "<IPython.core.display.Image object>"
      ]
     },
     "execution_count": 82,
     "metadata": {},
     "output_type": "execute_result"
    }
   ],
   "source": [
    "from IPython import display\n",
    "display.Image(filename= 'leegmelden_plantuml.png')"
   ]
  },
  {
   "cell_type": "code",
   "execution_count": null,
   "id": "2e0180c6",
   "metadata": {},
   "outputs": [],
   "source": []
  },
  {
   "cell_type": "markdown",
   "id": "16c68392",
   "metadata": {},
   "source": [
    "## x. as above but now with complete soap envelope"
   ]
  },
  {
   "cell_type": "code",
   "execution_count": 32,
   "id": "31db2d87",
   "metadata": {},
   "outputs": [
    {
     "name": "stdout",
     "output_type": "stream",
     "text": [
      "<ns0:Envelope xmlns:ns0=\"http://schemas.xmlsoap.org/soap/envelope/\" xmlns:ns1=\"http://www.daan.com/ax/woningnet/\">\n",
      "  <ns0:Body>\n",
      "    <ns1:DeclareEmpty>\n",
      "      <ns1:Publication>\n",
      "        <ns1:Id>string</ns1:Id>\n",
      "        <ns1:Number>string</ns1:Number>\n",
      "        <ns1:Sequence>string</ns1:Sequence>\n",
      "        <ns1:RealEstateObjectId>string</ns1:RealEstateObjectId>\n",
      "        <ns1:AddressStreet>string</ns1:AddressStreet>\n",
      "        <ns1:AddressHouseNumber>string</ns1:AddressHouseNumber>\n",
      "        <ns1:AddressHouseNumberAddition>string</ns1:AddressHouseNumberAddition>\n",
      "        <ns1:AddressZipcode>string</ns1:AddressZipcode>\n",
      "        <ns1:AddressCity>string</ns1:AddressCity>\n",
      "        <ns1:DistrictId>string</ns1:DistrictId>\n",
      "        <ns1:District>string</ns1:District>\n",
      "        <ns1:NeighborhoodId>string</ns1:NeighborhoodId>\n",
      "        <ns1:Neighborhood>string</ns1:Neighborhood>\n",
      "        <ns1:RegistrationTypeId>string</ns1:RegistrationTypeId>\n",
      "        <ns1:RegistrationType>string</ns1:RegistrationType>\n",
      "        <ns1:HousingId>string</ns1:HousingId>\n",
      "        <ns1:Housing>string</ns1:Housing>\n",
      "        <ns1:PlotTypeId>string</ns1:PlotTypeId>\n",
      "        <ns1:PlotType>string</ns1:PlotType>\n",
      "        <ns1:NetRent>string</ns1:NetRent>\n",
      "        <ns1:EligibleRent>string</ns1:EligibleRent>\n",
      "        <ns1:GrossRent>string</ns1:GrossRent>\n",
      "        <ns1:DateEmpty>string</ns1:DateEmpty>\n",
      "        <ns1:DateAvailable>string</ns1:DateAvailable>\n",
      "        <ns1:Start>string</ns1:Start>\n",
      "        <ns1:End>string</ns1:End>\n",
      "        <ns1:FloorNo>string</ns1:FloorNo>\n",
      "        <ns1:BuiltYear>string</ns1:BuiltYear>\n",
      "        <ns1:SellingPrice>string</ns1:SellingPrice>\n",
      "        <ns1:PractitionerId>string</ns1:PractitionerId>\n",
      "        <ns1:Practitioner>string</ns1:Practitioner>\n",
      "        <ns1:PublicationText>string</ns1:PublicationText>\n",
      "        <ns1:ObjectGroupId>string</ns1:ObjectGroupId>\n",
      "        <ns1:ObjectGroup>string</ns1:ObjectGroup>\n",
      "        <ns1:SortField1Id>string</ns1:SortField1Id>\n",
      "        <ns1:SortField1>string</ns1:SortField1>\n",
      "        <ns1:SortField2Id>string</ns1:SortField2Id>\n",
      "        <ns1:SortField2>string</ns1:SortField2>\n",
      "        <ns1:SortField3Id>string</ns1:SortField3Id>\n",
      "        <ns1:SortField3>string</ns1:SortField3>\n",
      "        <ns1:DestinationId>string</ns1:DestinationId>\n",
      "        <ns1:Destination>string</ns1:Destination>\n",
      "        <ns1:Corporatienummer>string</ns1:Corporatienummer>\n",
      "        <ns1:Vestigingsnummer>string</ns1:Vestigingsnummer>\n",
      "      </ns1:Publication>\n",
      "      <ns1:Components />\n",
      "      <ns1:ContractForms />\n",
      "      <ns1:Attributes />\n",
      "      <ns1:Criterion />\n",
      "      <ns1:Pictures />\n",
      "    </ns1:DeclareEmpty>\n",
      "  </ns0:Body>\n",
      "</ns0:Envelope>\n"
     ]
    }
   ],
   "source": [
    "#create a new file with the Postman body and the COMPLETE SOAP MESSAGE\n",
    "import xml.etree.ElementTree as ET #import the library \n",
    "tree = ET.parse('leegmelden2.xml') #parse the XML\n",
    "ET.dump(tree) #print the xml file"
   ]
  },
  {
   "cell_type": "code",
   "execution_count": 25,
   "id": "11dac87b",
   "metadata": {},
   "outputs": [],
   "source": []
  },
  {
   "cell_type": "code",
   "execution_count": null,
   "id": "9f80b5c6",
   "metadata": {},
   "outputs": [],
   "source": []
  },
  {
   "cell_type": "code",
   "execution_count": null,
   "id": "f3845329",
   "metadata": {},
   "outputs": [],
   "source": []
  }
 ],
 "metadata": {
  "kernelspec": {
   "display_name": "Python 3 (ipykernel)",
   "language": "python",
   "name": "python3"
  },
  "language_info": {
   "codemirror_mode": {
    "name": "ipython",
    "version": 3
   },
   "file_extension": ".py",
   "mimetype": "text/x-python",
   "name": "python",
   "nbconvert_exporter": "python",
   "pygments_lexer": "ipython3",
   "version": "3.8.5"
  }
 },
 "nbformat": 4,
 "nbformat_minor": 5
}
