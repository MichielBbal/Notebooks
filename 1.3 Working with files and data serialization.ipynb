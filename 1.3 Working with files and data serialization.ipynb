{
 "cells": [
  {
   "cell_type": "markdown",
   "metadata": {},
   "source": [
    "# Working with files\n",
    "\n",
    "\n",
    "## Contents\n",
    "\n",
    "0. Install packages\n",
    "1. Writing to a text file\n",
    "2. Reading from a text file\n",
    "3. JSON\n",
    "4. YAML\n",
    "5. Pickle\n",
    "6. XML to JSON\n",
    "7. Credentials file (simple)"
   ]
  },
  {
   "cell_type": "markdown",
   "metadata": {},
   "source": [
    "## 0. Install packages"
   ]
  },
  {
   "cell_type": "code",
   "execution_count": 2,
   "metadata": {},
   "outputs": [
    {
     "name": "stdout",
     "output_type": "stream",
     "text": [
      "Requirement already satisfied: pyyaml in c:\\users\\31653\\anaconda3\\lib\\site-packages (5.3.1)\n",
      "Note: you may need to restart the kernel to use updated packages.\n"
     ]
    }
   ],
   "source": [
    "%pip install pyyaml "
   ]
  },
  {
   "cell_type": "code",
   "execution_count": 4,
   "metadata": {},
   "outputs": [
    {
     "data": {
      "text/plain": [
       "['anatomy of an array.png', 'opencv.png', 'plot.png', 'road2.png']"
      ]
     },
     "execution_count": 4,
     "metadata": {},
     "output_type": "execute_result"
    }
   ],
   "source": [
    "# we will use glob to show a list of certain filetype \n",
    "import glob\n",
    "png_files = glob.glob('*.png')\n",
    "png_files"
   ]
  },
  {
   "cell_type": "markdown",
   "metadata": {},
   "source": [
    "#### The other way of doing this is by using ls"
   ]
  },
  {
   "cell_type": "code",
   "execution_count": 7,
   "metadata": {},
   "outputs": [
    {
     "name": "stdout",
     "output_type": "stream",
     "text": [
      " Volume in drive C is OS\n",
      " Volume Serial Number is 2818-58FB\n",
      "\n",
      " Directory of C:\\Users\\31653\\Documents\\GitHub\\Notebooks\n",
      "\n",
      "06/02/2021  17:07                84 accounts.txt\n",
      "23/06/2021  20:11                84 demo.txt\n",
      "26/07/2021  15:45                59 servers.txt\n",
      "17/04/2021  21:30                 0 untitled.txt\n",
      "17/04/2021  21:31                16 untitled1.txt\n",
      "               5 File(s)            243 bytes\n",
      "               0 Dir(s)  286.964.838.400 bytes free\n"
     ]
    }
   ],
   "source": [
    "ls *.txt "
   ]
  },
  {
   "cell_type": "markdown",
   "metadata": {},
   "source": [
    "## 1. Writing to a text file"
   ]
  },
  {
   "cell_type": "code",
   "execution_count": 1,
   "metadata": {},
   "outputs": [],
   "source": [
    "#this scripts creates a .txt file with 3 lines Michiel, Bontenbal and empty line\n",
    "with open ('accounts.txt', mode='w') as accounts:\n",
    "    accounts.write('100 Jones 24.98\\n')\n",
    "    accounts.write('200 Doe 345.67\\n')\n",
    "    accounts.write('300 White 0.00\\n')\n",
    "    print('400 Stone -42.16', file=accounts)#also create a new line in the file\n",
    "    print('500 Rich 224.62', file=accounts)\n",
    "#python closes the file"
   ]
  },
  {
   "cell_type": "markdown",
   "metadata": {},
   "source": [
    "## 2. Reading Data from a text file"
   ]
  },
  {
   "cell_type": "code",
   "execution_count": 2,
   "metadata": {
    "scrolled": true
   },
   "outputs": [
    {
     "name": "stdout",
     "output_type": "stream",
     "text": [
      "Account   Name         Balance\n",
      "100       Jones          24.98\n",
      "200       Doe           345.67\n",
      "300       White           0.00\n",
      "400       Stone         -42.16\n",
      "500       Rich          224.62\n"
     ]
    }
   ],
   "source": [
    "with open ('accounts.txt', mode='r') as accounts:\n",
    "    print(f'{\"Account\":<10}{\"Name\": <10}{\"Balance\":>10}')#create three headers/columns with 10 characters and align < or >\n",
    "    for record in accounts: #for each row do the followinh\n",
    "        account, name, balance = record.split()\n",
    "        print(f'{account:<10}{name:<10}{balance:>10}')"
   ]
  },
  {
   "cell_type": "code",
   "execution_count": 20,
   "metadata": {},
   "outputs": [
    {
     "name": "stdout",
     "output_type": "stream",
     "text": [
      "100 Jones 24.98\n",
      "200 Doe 345.67\n",
      "300 White 0.00\n",
      "400 Stone -42.16\n",
      "500 Rich 224.62\n"
     ]
    }
   ],
   "source": [
    "with open('accounts.txt') as input_file:\n",
    "          line = input_file.readline()\n",
    "          while line:\n",
    "                line = line.strip()\n",
    "                print(line)\n",
    "                line = input_file.readline()"
   ]
  },
  {
   "cell_type": "code",
   "execution_count": 26,
   "metadata": {},
   "outputs": [
    {
     "name": "stdout",
     "output_type": "stream",
     "text": [
      "0\n",
      "100 Jones 24.98\n",
      "1\n",
      "200 Doe 345.67\n",
      "0\n",
      "300 White 0.00\n",
      "0\n",
      "400 Stone -42.16\n",
      "0\n",
      "500 Rich 224.62\n"
     ]
    }
   ],
   "source": [
    "with open('accounts.txt') as input_file:\n",
    "    with open('demo.txt', 'w') as output_file:\n",
    "        line = input_file.readline()\n",
    "        while line:\n",
    "            print(line.count('Doe'))\n",
    "            line = line.strip()\n",
    "            print(line)\n",
    "            output_file.write(line+ '\\n')\n",
    "            line = input_file.readline()"
   ]
  },
  {
   "cell_type": "code",
   "execution_count": 24,
   "metadata": {},
   "outputs": [
    {
     "data": {
      "text/plain": [
       "0"
      ]
     },
     "execution_count": 24,
     "metadata": {},
     "output_type": "execute_result"
    }
   ],
   "source": [
    "line.count('Doe')"
   ]
  },
  {
   "cell_type": "code",
   "execution_count": 22,
   "metadata": {},
   "outputs": [
    {
     "name": "stdout",
     "output_type": "stream",
     "text": [
      " Volume in drive C is OS\n",
      " Volume Serial Number is 2818-58FB\n",
      "\n",
      " Directory of C:\\Users\\31653\\Documents\\GitHub\\Notebooks\n",
      "\n",
      "06/02/2021  17:07                84 accounts.txt\n",
      "23/06/2021  19:52                 0 demo.txt\n",
      "17/04/2021  21:30                 0 untitled.txt\n",
      "17/04/2021  21:31                16 untitled1.txt\n",
      "               4 File(s)            100 bytes\n",
      "               0 Dir(s)  281.730.273.280 bytes free\n"
     ]
    }
   ],
   "source": [
    "ls *.txt"
   ]
  },
  {
   "cell_type": "markdown",
   "metadata": {},
   "source": [
    "## 3. JSON \n",
    "source: https://www.programiz.com/python-programming/json"
   ]
  },
  {
   "cell_type": "code",
   "execution_count": 14,
   "metadata": {},
   "outputs": [
    {
     "name": "stdout",
     "output_type": "stream",
     "text": [
      "{'name': 'Michiel', 'languages': ['English', 'French', 'Italian']}\n",
      "English and French\n"
     ]
    }
   ],
   "source": [
    "import json\n",
    "\n",
    "person = '{\"name\": \"Michiel\", \"languages\": [\"English\", \"French\", \"Italian\"]}'\n",
    "person_dict = json.loads(person)\n",
    "\n",
    "# Output: {'name': 'Bob', 'languages': ['English', 'French']}\n",
    "print(person_dict)\n",
    "\n",
    "# Output: ['English', 'French']\n",
    "print(person_dict['languages'][0]+\" and \"+ person_dict['languages'][1])"
   ]
  },
  {
   "cell_type": "code",
   "execution_count": 26,
   "metadata": {},
   "outputs": [
    {
     "name": "stdout",
     "output_type": "stream",
     "text": [
      "{'name': 'Bob', 'languages': ['English', 'French']}\n"
     ]
    }
   ],
   "source": [
    "import json\n",
    "\n",
    "with open('person.json') as f:\n",
    "    data = json.load(f)\n",
    "\n",
    "# Output: {'name': 'Bob', 'languages': ['English', 'Fench']}\n",
    "print(data)"
   ]
  },
  {
   "cell_type": "code",
   "execution_count": 47,
   "metadata": {},
   "outputs": [
    {
     "name": "stdout",
     "output_type": "stream",
     "text": [
      "{'height': 252, 'label': 'zebra', 'value': 0.9409910440444946, 'width': 201, 'x': 13, 'y': 38}\n",
      "0.9409910440444946 zebra\n",
      "zebra\n"
     ]
    }
   ],
   "source": [
    "import json\n",
    "with open('edgeimpulse.json') as f:\n",
    "    data=json.load(f)\n",
    "    \n",
    "list_item_0 =data['result']['bounding_boxes'][0]\n",
    "print(list_item_0)\n",
    "print(list_item_0['value'], list_item_0['label'])\n",
    "print(list_item_0['label'])\n",
    "#type(list_item_0)"
   ]
  },
  {
   "cell_type": "code",
   "execution_count": null,
   "metadata": {},
   "outputs": [],
   "source": []
  },
  {
   "cell_type": "code",
   "execution_count": 24,
   "metadata": {},
   "outputs": [
    {
     "ename": "TypeError",
     "evalue": "Object of type TextIOWrapper is not JSON serializable",
     "output_type": "error",
     "traceback": [
      "\u001b[1;31m---------------------------------------------------------------------------\u001b[0m",
      "\u001b[1;31mTypeError\u001b[0m                                 Traceback (most recent call last)",
      "\u001b[1;32m<ipython-input-24-80988839424c>\u001b[0m in \u001b[0;36m<module>\u001b[1;34m\u001b[0m\n\u001b[0;32m      1\u001b[0m \u001b[1;32mimport\u001b[0m \u001b[0mjson\u001b[0m\u001b[1;33m\u001b[0m\u001b[1;33m\u001b[0m\u001b[0m\n\u001b[0;32m      2\u001b[0m \u001b[1;32mwith\u001b[0m \u001b[0mopen\u001b[0m\u001b[1;33m(\u001b[0m\u001b[1;34m'edgeimpulse.json'\u001b[0m\u001b[1;33m)\u001b[0m \u001b[1;32mas\u001b[0m \u001b[0mf\u001b[0m\u001b[1;33m:\u001b[0m\u001b[1;33m\u001b[0m\u001b[1;33m\u001b[0m\u001b[0m\n\u001b[1;32m----> 3\u001b[1;33m     \u001b[0mdata\u001b[0m\u001b[1;33m=\u001b[0m\u001b[0mjson\u001b[0m\u001b[1;33m.\u001b[0m\u001b[0mdumps\u001b[0m\u001b[1;33m(\u001b[0m\u001b[0mf\u001b[0m\u001b[1;33m)\u001b[0m\u001b[1;33m\u001b[0m\u001b[1;33m\u001b[0m\u001b[0m\n\u001b[0m\u001b[0;32m      4\u001b[0m \u001b[1;33m\u001b[0m\u001b[0m\n\u001b[0;32m      5\u001b[0m \u001b[0mprint\u001b[0m\u001b[1;33m(\u001b[0m\u001b[0mdata\u001b[0m\u001b[1;33m)\u001b[0m\u001b[1;33m\u001b[0m\u001b[1;33m\u001b[0m\u001b[0m\n",
      "\u001b[1;32m~\\anaconda3\\lib\\json\\__init__.py\u001b[0m in \u001b[0;36mdumps\u001b[1;34m(obj, skipkeys, ensure_ascii, check_circular, allow_nan, cls, indent, separators, default, sort_keys, **kw)\u001b[0m\n\u001b[0;32m    229\u001b[0m         \u001b[0mcls\u001b[0m \u001b[1;32mis\u001b[0m \u001b[1;32mNone\u001b[0m \u001b[1;32mand\u001b[0m \u001b[0mindent\u001b[0m \u001b[1;32mis\u001b[0m \u001b[1;32mNone\u001b[0m \u001b[1;32mand\u001b[0m \u001b[0mseparators\u001b[0m \u001b[1;32mis\u001b[0m \u001b[1;32mNone\u001b[0m \u001b[1;32mand\u001b[0m\u001b[1;33m\u001b[0m\u001b[1;33m\u001b[0m\u001b[0m\n\u001b[0;32m    230\u001b[0m         default is None and not sort_keys and not kw):\n\u001b[1;32m--> 231\u001b[1;33m         \u001b[1;32mreturn\u001b[0m \u001b[0m_default_encoder\u001b[0m\u001b[1;33m.\u001b[0m\u001b[0mencode\u001b[0m\u001b[1;33m(\u001b[0m\u001b[0mobj\u001b[0m\u001b[1;33m)\u001b[0m\u001b[1;33m\u001b[0m\u001b[1;33m\u001b[0m\u001b[0m\n\u001b[0m\u001b[0;32m    232\u001b[0m     \u001b[1;32mif\u001b[0m \u001b[0mcls\u001b[0m \u001b[1;32mis\u001b[0m \u001b[1;32mNone\u001b[0m\u001b[1;33m:\u001b[0m\u001b[1;33m\u001b[0m\u001b[1;33m\u001b[0m\u001b[0m\n\u001b[0;32m    233\u001b[0m         \u001b[0mcls\u001b[0m \u001b[1;33m=\u001b[0m \u001b[0mJSONEncoder\u001b[0m\u001b[1;33m\u001b[0m\u001b[1;33m\u001b[0m\u001b[0m\n",
      "\u001b[1;32m~\\anaconda3\\lib\\json\\encoder.py\u001b[0m in \u001b[0;36mencode\u001b[1;34m(self, o)\u001b[0m\n\u001b[0;32m    197\u001b[0m         \u001b[1;31m# exceptions aren't as detailed.  The list call should be roughly\u001b[0m\u001b[1;33m\u001b[0m\u001b[1;33m\u001b[0m\u001b[1;33m\u001b[0m\u001b[0m\n\u001b[0;32m    198\u001b[0m         \u001b[1;31m# equivalent to the PySequence_Fast that ''.join() would do.\u001b[0m\u001b[1;33m\u001b[0m\u001b[1;33m\u001b[0m\u001b[1;33m\u001b[0m\u001b[0m\n\u001b[1;32m--> 199\u001b[1;33m         \u001b[0mchunks\u001b[0m \u001b[1;33m=\u001b[0m \u001b[0mself\u001b[0m\u001b[1;33m.\u001b[0m\u001b[0miterencode\u001b[0m\u001b[1;33m(\u001b[0m\u001b[0mo\u001b[0m\u001b[1;33m,\u001b[0m \u001b[0m_one_shot\u001b[0m\u001b[1;33m=\u001b[0m\u001b[1;32mTrue\u001b[0m\u001b[1;33m)\u001b[0m\u001b[1;33m\u001b[0m\u001b[1;33m\u001b[0m\u001b[0m\n\u001b[0m\u001b[0;32m    200\u001b[0m         \u001b[1;32mif\u001b[0m \u001b[1;32mnot\u001b[0m \u001b[0misinstance\u001b[0m\u001b[1;33m(\u001b[0m\u001b[0mchunks\u001b[0m\u001b[1;33m,\u001b[0m \u001b[1;33m(\u001b[0m\u001b[0mlist\u001b[0m\u001b[1;33m,\u001b[0m \u001b[0mtuple\u001b[0m\u001b[1;33m)\u001b[0m\u001b[1;33m)\u001b[0m\u001b[1;33m:\u001b[0m\u001b[1;33m\u001b[0m\u001b[1;33m\u001b[0m\u001b[0m\n\u001b[0;32m    201\u001b[0m             \u001b[0mchunks\u001b[0m \u001b[1;33m=\u001b[0m \u001b[0mlist\u001b[0m\u001b[1;33m(\u001b[0m\u001b[0mchunks\u001b[0m\u001b[1;33m)\u001b[0m\u001b[1;33m\u001b[0m\u001b[1;33m\u001b[0m\u001b[0m\n",
      "\u001b[1;32m~\\anaconda3\\lib\\json\\encoder.py\u001b[0m in \u001b[0;36miterencode\u001b[1;34m(self, o, _one_shot)\u001b[0m\n\u001b[0;32m    255\u001b[0m                 \u001b[0mself\u001b[0m\u001b[1;33m.\u001b[0m\u001b[0mkey_separator\u001b[0m\u001b[1;33m,\u001b[0m \u001b[0mself\u001b[0m\u001b[1;33m.\u001b[0m\u001b[0mitem_separator\u001b[0m\u001b[1;33m,\u001b[0m \u001b[0mself\u001b[0m\u001b[1;33m.\u001b[0m\u001b[0msort_keys\u001b[0m\u001b[1;33m,\u001b[0m\u001b[1;33m\u001b[0m\u001b[1;33m\u001b[0m\u001b[0m\n\u001b[0;32m    256\u001b[0m                 self.skipkeys, _one_shot)\n\u001b[1;32m--> 257\u001b[1;33m         \u001b[1;32mreturn\u001b[0m \u001b[0m_iterencode\u001b[0m\u001b[1;33m(\u001b[0m\u001b[0mo\u001b[0m\u001b[1;33m,\u001b[0m \u001b[1;36m0\u001b[0m\u001b[1;33m)\u001b[0m\u001b[1;33m\u001b[0m\u001b[1;33m\u001b[0m\u001b[0m\n\u001b[0m\u001b[0;32m    258\u001b[0m \u001b[1;33m\u001b[0m\u001b[0m\n\u001b[0;32m    259\u001b[0m def _make_iterencode(markers, _default, _encoder, _indent, _floatstr,\n",
      "\u001b[1;32m~\\anaconda3\\lib\\json\\encoder.py\u001b[0m in \u001b[0;36mdefault\u001b[1;34m(self, o)\u001b[0m\n\u001b[0;32m    177\u001b[0m \u001b[1;33m\u001b[0m\u001b[0m\n\u001b[0;32m    178\u001b[0m         \"\"\"\n\u001b[1;32m--> 179\u001b[1;33m         raise TypeError(f'Object of type {o.__class__.__name__} '\n\u001b[0m\u001b[0;32m    180\u001b[0m                         f'is not JSON serializable')\n\u001b[0;32m    181\u001b[0m \u001b[1;33m\u001b[0m\u001b[0m\n",
      "\u001b[1;31mTypeError\u001b[0m: Object of type TextIOWrapper is not JSON serializable"
     ]
    }
   ],
   "source": [
    "import json\n",
    "with open('edgeimpulse.json') as f:\n",
    "    data=json.dumps(f)\n",
    "    \n",
    "print(data)\n"
   ]
  },
  {
   "cell_type": "markdown",
   "metadata": {},
   "source": [
    "## 4. YAML\n",
    "\n",
    "Pypi: https://pypi.org/project/PyYAML/\n",
    "\n",
    "source: https://zetcode.com/python/yaml/\n",
    "\n",
    "Use the following files: items.yaml en "
   ]
  },
  {
   "cell_type": "markdown",
   "metadata": {},
   "source": [
    "raincoat: 1\n",
    "coins: 5\n",
    "books: 23\n",
    "spectacles: 2\n",
    "chairs: 12\n",
    "pens: 6"
   ]
  },
  {
   "cell_type": "code",
   "execution_count": 4,
   "metadata": {},
   "outputs": [
    {
     "name": "stdout",
     "output_type": "stream",
     "text": [
      "{'raincoat': 1, 'coins': 5, 'books': 23, 'spectacles': 2, 'chairs': 12, 'pens': 6}\n"
     ]
    }
   ],
   "source": [
    "import yaml\n",
    "\n",
    "with open('items.yaml') as f:\n",
    "    \n",
    "    data = yaml.load(f, Loader=yaml.FullLoader)\n",
    "    print(data)"
   ]
  },
  {
   "cell_type": "code",
   "execution_count": 5,
   "metadata": {},
   "outputs": [
    {
     "data": {
      "text/plain": [
       "dict"
      ]
     },
     "execution_count": 5,
     "metadata": {},
     "output_type": "execute_result"
    }
   ],
   "source": [
    "type(data)"
   ]
  },
  {
   "cell_type": "markdown",
   "metadata": {},
   "source": [
    "data.yaml:\n",
    "cities:\n",
    "  - Bratislava\n",
    "  - Kosice\n",
    "  - Trnava\n",
    "  - Moldava\n",
    "  - Trencin\n",
    "---\n",
    "companies:\n",
    "  - Eset\n",
    "  - Slovnaft\n",
    "  - Duslo Sala\n",
    "  - Matador Puchov"
   ]
  },
  {
   "cell_type": "code",
   "execution_count": 14,
   "metadata": {},
   "outputs": [
    {
     "name": "stdout",
     "output_type": "stream",
     "text": [
      "cities -> ['Bratislava', 'Kosice', 'Trnava', 'Moldava', 'Trencin']\n",
      "companies -> ['Eset', 'Slovnaft', 'Duslo Sala', 'Matador Puchov']\n"
     ]
    }
   ],
   "source": [
    "#!/usr/bin/env python3\n",
    "\n",
    "import yaml\n",
    "\n",
    "with open('data.yaml') as f:\n",
    "    \n",
    "    docs = yaml.load_all(f, Loader=yaml.FullLoader)\n",
    "\n",
    "    for doc in docs:\n",
    "        \n",
    "        for k, v in doc.items():\n",
    "           print(k, \"->\", v)\n",
    "           "
   ]
  },
  {
   "cell_type": "code",
   "execution_count": null,
   "metadata": {},
   "outputs": [],
   "source": []
  },
  {
   "cell_type": "markdown",
   "metadata": {},
   "source": [
    "## 5. Pickle\n",
    "\n",
    "Pickle is Python's native object serialization module.  \n",
    "\n",
    "Pickle official information: https://docs.python.org/3/library/pickle.html\n",
    "Pickle tutorial: https://www.datacamp.com/community/tutorials/pickle-python-tutorial\n",
    "\n",
    "#### Pickle vs JSON\n",
    "- Pickle pro's = python native\n",
    "- JSON pro's = faster, interoperability, more secure"
   ]
  },
  {
   "cell_type": "code",
   "execution_count": 3,
   "metadata": {},
   "outputs": [],
   "source": [
    "import pickle"
   ]
  },
  {
   "cell_type": "code",
   "execution_count": 7,
   "metadata": {},
   "outputs": [],
   "source": [
    "# Save a dictionary into a pickle file.\n",
    "import pickle\n",
    "\n",
    "favorite_color = { \"lion\": \"yellow\", \"kitty\": \"red\" }\n",
    "pickle.dump( favorite_color, open( \"save.pkl\", \"wb\" ) )"
   ]
  },
  {
   "cell_type": "code",
   "execution_count": 8,
   "metadata": {},
   "outputs": [
    {
     "data": {
      "text/plain": [
       "{'lion': 'yellow', 'kitty': 'red'}"
      ]
     },
     "execution_count": 8,
     "metadata": {},
     "output_type": "execute_result"
    }
   ],
   "source": [
    "# Open the pickle file and assign to a new variable\n",
    "favorite_color_new = pickle.load( open( \"save.pkl\", \"rb\" ) )\n",
    "favorite_color_new"
   ]
  },
  {
   "cell_type": "markdown",
   "metadata": {},
   "source": [
    "## 6. XML to JSON"
   ]
  },
  {
   "cell_type": "code",
   "execution_count": 1,
   "metadata": {},
   "outputs": [
    {
     "name": "stdout",
     "output_type": "stream",
     "text": [
      "Requirement already satisfied: xmltodict in c:\\users\\31653\\anaconda3\\lib\\site-packages (0.12.0)\n",
      "Note: you may need to restart the kernel to use updated packages.\n"
     ]
    }
   ],
   "source": [
    "%pip install xmltodict"
   ]
  },
  {
   "cell_type": "code",
   "execution_count": 2,
   "metadata": {},
   "outputs": [
    {
     "name": "stdout",
     "output_type": "stream",
     "text": [
      "{\"website\": {\"name\": \"Codespeedy\", \"article\": \"Related to programming\", \"message\": \"You can learn easily from codespeedy\"}}\n"
     ]
    }
   ],
   "source": [
    "import xmltodict\n",
    "import json\n",
    "\n",
    "xml='''<website>\n",
    "        <name>Codespeedy</name>\n",
    "        <article>Related to programming</article>\n",
    "        <message>You can learn easily from codespeedy</message>\n",
    "    </website>'''\n",
    "\n",
    "my_dict=xmltodict.parse(xml)\n",
    "json_data=json.dumps(my_dict)\n",
    "print(json_data)"
   ]
  },
  {
   "cell_type": "code",
   "execution_count": 3,
   "metadata": {},
   "outputs": [],
   "source": [
    "my_xml='''<emp_bank_tx>\n",
    "         <ebnkt_bank_def_id>BVKZ</ebnkt_bank_def_id>\n",
    "         <ebnkt_employee_id>99999901</ebnkt_employee_id>\n",
    "         <ebnkt_transaction_date>2021-03-01</ebnkt_transaction_date>\n",
    "         <ebnkt_transaction_type>3</ebnkt_transaction_type>\n",
    "         <ebnkt_amount>56h00</ebnkt_amount>\n",
    "         <ebnkt_reason_code>ECALC</ebnkt_reason_code>\n",
    "        </emp_bank_tx>'''"
   ]
  },
  {
   "cell_type": "code",
   "execution_count": 4,
   "metadata": {},
   "outputs": [
    {
     "name": "stdout",
     "output_type": "stream",
     "text": [
      "{\"emp_bank_tx\": {\"ebnkt_bank_def_id\": \"BVKZ\", \"ebnkt_employee_id\": \"99999901\", \"ebnkt_transaction_date\": \"2021-03-01\", \"ebnkt_transaction_type\": \"3\", \"ebnkt_amount\": \"56h00\", \"ebnkt_reason_code\": \"ECALC\"}}\n"
     ]
    }
   ],
   "source": [
    "import xmltodict\n",
    "import json\n",
    "\n",
    "xml=my_xml\n",
    "\n",
    "my_dict=xmltodict.parse(xml)\n",
    "json_data=json.dumps(my_dict)\n",
    "print(json_data)"
   ]
  },
  {
   "cell_type": "markdown",
   "metadata": {},
   "source": [
    "## 6a. JSON to UBL-XML\n",
    "source: https://json-to-ubl-xml-transformer.readthedocs.io/en/latest/installation.html\n",
    "source: https://github.com/dimitern/json_to_ubl_xml_transformer"
   ]
  },
  {
   "cell_type": "code",
   "execution_count": 1,
   "metadata": {},
   "outputs": [
    {
     "name": "stdout",
     "output_type": "stream",
     "text": [
      "Collecting json_to_ubl_xml_transformer\n",
      "  Downloading json_to_ubl_xml_transformer-0.2.1-py2.py3-none-any.whl (9.1 kB)\n",
      "Requirement already satisfied: Click>=6.0 in c:\\users\\31653\\anaconda3\\lib\\site-packages (from json_to_ubl_xml_transformer) (7.1.2)\n",
      "Installing collected packages: json-to-ubl-xml-transformer\n",
      "Successfully installed json-to-ubl-xml-transformer-0.2.1\n"
     ]
    }
   ],
   "source": [
    "!pip install json_to_ubl_xml_transformer"
   ]
  },
  {
   "cell_type": "code",
   "execution_count": 2,
   "metadata": {},
   "outputs": [],
   "source": [
    "import json_to_ubl_xml_transformer"
   ]
  },
  {
   "cell_type": "markdown",
   "metadata": {},
   "source": [
    "## 7. Credentials file\n",
    "\n",
    "First make a seperate textfile called 'credentials.py' as follows:\n",
    "\n",
    "username = \"xy\"\n",
    "password = \"abcd\""
   ]
  },
  {
   "cell_type": "code",
   "execution_count": 4,
   "metadata": {},
   "outputs": [
    {
     "name": "stdout",
     "output_type": "stream",
     "text": [
      "xy abcd\n"
     ]
    }
   ],
   "source": [
    "import credentials\n",
    "username =credentials.username\n",
    "password = credentials.password\n",
    "print(username, password)"
   ]
  },
  {
   "cell_type": "code",
   "execution_count": null,
   "metadata": {},
   "outputs": [],
   "source": []
  }
 ],
 "metadata": {
  "kernelspec": {
   "display_name": "Python 3",
   "language": "python",
   "name": "python3"
  },
  "language_info": {
   "codemirror_mode": {
    "name": "ipython",
    "version": 3
   },
   "file_extension": ".py",
   "mimetype": "text/x-python",
   "name": "python",
   "nbconvert_exporter": "python",
   "pygments_lexer": "ipython3",
   "version": "3.8.5"
  }
 },
 "nbformat": 4,
 "nbformat_minor": 4
}
