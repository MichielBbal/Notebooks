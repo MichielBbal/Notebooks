{
 "cells": [
  {
   "cell_type": "markdown",
   "id": "fb4b8893",
   "metadata": {},
   "source": [
    "# Webtesting with Selenium\n",
    "\n",
    "\n",
    "### Contents\n",
    "0. Install packages\n",
    "1. My first selenium"
   ]
  },
  {
   "cell_type": "markdown",
   "id": "c007e5fd",
   "metadata": {},
   "source": [
    "## 0. Install package"
   ]
  },
  {
   "cell_type": "code",
   "execution_count": 2,
   "id": "05a11b45",
   "metadata": {},
   "outputs": [
    {
     "name": "stdout",
     "output_type": "stream",
     "text": [
      "Collecting selenium\n",
      "  Downloading selenium-4.7.2-py3-none-any.whl (6.3 MB)\n",
      "\u001b[K     |████████████████████████████████| 6.3 MB 840 kB/s eta 0:00:01\n",
      "\u001b[?25hRequirement already satisfied: certifi>=2021.10.8 in /Users/michielbontenbal/opt/anaconda3/lib/python3.9/site-packages (from selenium) (2021.10.8)\n",
      "Collecting trio-websocket~=0.9\n",
      "  Downloading trio_websocket-0.9.2-py3-none-any.whl (16 kB)\n",
      "Collecting trio~=0.17\n",
      "  Downloading trio-0.22.0-py3-none-any.whl (384 kB)\n",
      "\u001b[K     |████████████████████████████████| 384 kB 10.7 MB/s eta 0:00:01\n",
      "\u001b[?25hRequirement already satisfied: urllib3[socks]~=1.26 in /Users/michielbontenbal/opt/anaconda3/lib/python3.9/site-packages (from selenium) (1.26.9)\n",
      "Collecting outcome\n",
      "  Downloading outcome-1.2.0-py2.py3-none-any.whl (9.7 kB)\n",
      "Requirement already satisfied: sniffio in /Users/michielbontenbal/opt/anaconda3/lib/python3.9/site-packages (from trio~=0.17->selenium) (1.2.0)\n",
      "Collecting async-generator>=1.9\n",
      "  Downloading async_generator-1.10-py3-none-any.whl (18 kB)\n",
      "Collecting exceptiongroup>=1.0.0rc9\n",
      "  Downloading exceptiongroup-1.0.4-py3-none-any.whl (14 kB)\n",
      "Requirement already satisfied: sortedcontainers in /Users/michielbontenbal/opt/anaconda3/lib/python3.9/site-packages (from trio~=0.17->selenium) (2.4.0)\n",
      "Requirement already satisfied: attrs>=19.2.0 in /Users/michielbontenbal/opt/anaconda3/lib/python3.9/site-packages (from trio~=0.17->selenium) (21.4.0)\n",
      "Requirement already satisfied: idna in /Users/michielbontenbal/opt/anaconda3/lib/python3.9/site-packages (from trio~=0.17->selenium) (3.3)\n",
      "Collecting wsproto>=0.14\n",
      "  Downloading wsproto-1.2.0-py3-none-any.whl (24 kB)\n",
      "Requirement already satisfied: PySocks!=1.5.7,<2.0,>=1.5.6 in /Users/michielbontenbal/opt/anaconda3/lib/python3.9/site-packages (from urllib3[socks]~=1.26->selenium) (1.7.1)\n",
      "Collecting h11<1,>=0.9.0\n",
      "  Downloading h11-0.14.0-py3-none-any.whl (58 kB)\n",
      "\u001b[K     |████████████████████████████████| 58 kB 9.3 MB/s  eta 0:00:01\n",
      "\u001b[?25hInstalling collected packages: outcome, h11, exceptiongroup, async-generator, wsproto, trio, trio-websocket, selenium\n",
      "Successfully installed async-generator-1.10 exceptiongroup-1.0.4 h11-0.14.0 outcome-1.2.0 selenium-4.7.2 trio-0.22.0 trio-websocket-0.9.2 wsproto-1.2.0\n",
      "Note: you may need to restart the kernel to use updated packages.\n"
     ]
    }
   ],
   "source": [
    "%pip install -U selenium"
   ]
  },
  {
   "cell_type": "markdown",
   "id": "65269cc8",
   "metadata": {},
   "source": [
    "## 1. My first selenium"
   ]
  },
  {
   "cell_type": "code",
   "execution_count": 7,
   "id": "200c0fcc",
   "metadata": {},
   "outputs": [],
   "source": [
    "#this will open a new window with the requested website\n",
    "from selenium import webdriver\n",
    "\n",
    "browser = webdriver.Chrome() #change to your favorite browser\n",
    "browser.get('http://selenium.dev/')"
   ]
  },
  {
   "cell_type": "code",
   "execution_count": null,
   "id": "18bf4e8b",
   "metadata": {},
   "outputs": [],
   "source": []
  },
  {
   "cell_type": "code",
   "execution_count": null,
   "id": "d8192709",
   "metadata": {},
   "outputs": [],
   "source": []
  },
  {
   "cell_type": "code",
   "execution_count": null,
   "id": "4c8cf248",
   "metadata": {},
   "outputs": [],
   "source": []
  }
 ],
 "metadata": {
  "kernelspec": {
   "display_name": "Python 3 (ipykernel)",
   "language": "python",
   "name": "python3"
  },
  "language_info": {
   "codemirror_mode": {
    "name": "ipython",
    "version": 3
   },
   "file_extension": ".py",
   "mimetype": "text/x-python",
   "name": "python",
   "nbconvert_exporter": "python",
   "pygments_lexer": "ipython3",
   "version": "3.9.12"
  }
 },
 "nbformat": 4,
 "nbformat_minor": 5
}
