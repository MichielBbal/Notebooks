{
 "cells": [
  {
   "cell_type": "markdown",
   "metadata": {},
   "source": [
    "# Michiel's Python Fundamentals\n",
    "\n",
    "## Contents:\n",
    "In this notebook you can learn some Python Fundamentals. \n",
    "The notebook requires some very basic understanding of python programming. These can be found in my notebook on Python Basics\n",
    "\n",
    "### Contents:\n",
    "\n",
    "1. Lists\n",
    "2. Sets\n",
    "3. Tuples\n",
    "4. Dictionaries\n",
    "6. While loops\n",
    "7. For loops\n",
    "8. Sorting and sorted\n",
    "9. Random\n",
    "10. Zen of Python\n"
   ]
  },
  {
   "cell_type": "markdown",
   "metadata": {},
   "source": [
    "# Python collection data types\n",
    "\n",
    "There are four collection data types in the Python programming language:\n",
    "\n",
    "1) a <b>List</b> is a collection which is ordered and indexed. Allows duplicate members. <br>\n",
    "2) a <b>Set</b> is a collection which is unordered and unindexed. No duplicate members. <br>\n",
    "3) a <b>Tuple</b> is a collection which is ordered and unchangeable. Allows duplicate members. <br>\n",
    "4) a <b>Dictionary</b> is a collection which is unordered, changeable and indexed. No duplicate members.<br>\n",
    "\n",
    "N.B. another form of a data structure is an array. Arrays are not built-in data structures and therefore they are discussed seperately. Arrays can have multiple dimensions.\n",
    "\n",
    "source: https://www.w3schools.com/python/python_lists.asp"
   ]
  },
  {
   "cell_type": "markdown",
   "metadata": {},
   "source": [
    "### When to us a python data type?\n",
    "\n",
    "Use a list:\n",
    "- The data has a natural order\n",
    "- You will need to update or alter the data during the program\n",
    "- The primary purpose of the data structure is iteration\n",
    "Use a tuple:\n",
    "- The data has a natural order\n",
    "- No need to update the data\n",
    "- Primary purpose is iteration\n",
    "Use a dictionary:\n",
    "- the data is unordered or the order doesn't mattter\n",
    "- Update the data\n",
    "- Primary purpose is looking up values"
   ]
  },
  {
   "cell_type": "markdown",
   "metadata": {},
   "source": [
    "## 1. Lists"
   ]
  },
  {
   "cell_type": "code",
   "execution_count": 1,
   "metadata": {},
   "outputs": [
    {
     "name": "stdout",
     "output_type": "stream",
     "text": [
      "[3, 1, 2] 2\n",
      "2\n",
      "[3, 1, 'foo']\n",
      "[3, 1, 'foo', 'bar']\n",
      "bar [3, 1, 'foo']\n"
     ]
    }
   ],
   "source": [
    "xs = [3, 1, 2]    # Create a list\n",
    "print(xs, xs[2])  # Prints \"[3, 1, 2] 2\"\n",
    "print(xs[-1])     # Negative indices count from the end of the list; prints \"2\"\n",
    "xs[2] = 'foo'     # Lists can contain elements of different types\n",
    "print(xs)         # Prints \"[3, 1, 'foo']\"\n",
    "xs.append('bar')  # Add a new element to the end of the list\n",
    "print(xs)         # Prints \"[3, 1, 'foo', 'bar']\"\n",
    "x = xs.pop()      # Remove and return the last element of the list\n",
    "print(x, xs)      # Prints \"bar [3, 1, 'foo']\"\n",
    "#dir(list)"
   ]
  },
  {
   "cell_type": "code",
   "execution_count": 4,
   "metadata": {},
   "outputs": [
    {
     "data": {
      "text/plain": [
       "['p', 'y', 't', 'h', 'o', 'n']"
      ]
     },
     "execution_count": 4,
     "metadata": {},
     "output_type": "execute_result"
    }
   ],
   "source": [
    "letters = []\n",
    "letters += 'python'\n",
    "letters"
   ]
  },
  {
   "cell_type": "code",
   "execution_count": 2,
   "metadata": {},
   "outputs": [
    {
     "name": "stdout",
     "output_type": "stream",
     "text": [
      "cat\n",
      "dog\n",
      "monkey\n",
      "#1: cat\n",
      "#2: dog\n",
      "#3: monkey\n"
     ]
    }
   ],
   "source": [
    "# Prints \"cat\", \"dog\", \"monkey\", each on its own line.\n",
    "animals = ['cat', 'dog', 'monkey']\n",
    "for animal in animals:\n",
    "    print(animal)\n",
    "\n",
    "# Prints numbered list\n",
    "animals = ['cat', 'dog', 'monkey']\n",
    "for idx, animal in enumerate(animals):\n",
    "    print('#%d: %s' % (idx + 1, animal))"
   ]
  },
  {
   "cell_type": "code",
   "execution_count": 3,
   "metadata": {},
   "outputs": [
    {
     "name": "stdout",
     "output_type": "stream",
     "text": [
      "dog\n"
     ]
    }
   ],
   "source": [
    "#use the index of the list to print specific item:\n",
    "print(animals[1]) #print the second item of the list"
   ]
  },
  {
   "cell_type": "code",
   "execution_count": 10,
   "metadata": {},
   "outputs": [
    {
     "name": "stdout",
     "output_type": "stream",
     "text": [
      "average= 7.25\n"
     ]
    }
   ],
   "source": [
    "#use the build-in min, max, len and sum functions\n",
    "my_list = [5,9,3,12]\n",
    "min(my_list), max(my_list), len(my_list), sum(my_list)\n",
    "\n",
    "avg=sum(my_list)/len(my_list)\n",
    "print(\"average=\",avg)"
   ]
  },
  {
   "cell_type": "code",
   "execution_count": 11,
   "metadata": {},
   "outputs": [
    {
     "name": "stdout",
     "output_type": "stream",
     "text": [
      "['apple', 'blackcurrant', 'cherry']\n"
     ]
    }
   ],
   "source": [
    "# assingn new value to item\n",
    "thislist = [\"apple\", \"banana\", \"cherry\"]\n",
    "thislist[1] = \"blackcurrant\"\n",
    "print(thislist)"
   ]
  },
  {
   "cell_type": "code",
   "execution_count": 12,
   "metadata": {},
   "outputs": [
    {
     "name": "stdout",
     "output_type": "stream",
     "text": [
      "['apple', 'banana', 'cherry']\n"
     ]
    }
   ],
   "source": [
    "#use the list constructor\n",
    "thislist = list((\"apple\", \"banana\", \"cherry\")) # note the double round-brackets\n",
    "print(thislist)"
   ]
  },
  {
   "cell_type": "code",
   "execution_count": 13,
   "metadata": {},
   "outputs": [
    {
     "name": "stdout",
     "output_type": "stream",
     "text": [
      "Updated list :  [123, 'xyz', 'zara', 'abc', 2021]\n"
     ]
    }
   ],
   "source": [
    "##Use the append-function to add an item to a list. More on list comprehension in the Intermediate Notebook\n",
    "a_list = [123, 'xyz', 'zara', 'abc']\n",
    "a_list.append(2021)\n",
    "print (\"Updated list : \", a_list)"
   ]
  },
  {
   "cell_type": "code",
   "execution_count": 14,
   "metadata": {},
   "outputs": [
    {
     "data": {
      "text/plain": [
       "4"
      ]
     },
     "execution_count": 14,
     "metadata": {},
     "output_type": "execute_result"
    }
   ],
   "source": [
    "list1 = [2,3,4,3,10,3,5,6,3]\n",
    "my_count = list1.count(3) #enter the value you want to be counted\n",
    "my_count"
   ]
  },
  {
   "cell_type": "code",
   "execution_count": 1,
   "metadata": {},
   "outputs": [
    {
     "data": {
      "text/plain": [
       "[0, 1, 2, 3, 4, 5]"
      ]
     },
     "execution_count": 1,
     "metadata": {},
     "output_type": "execute_result"
    }
   ],
   "source": [
    "list1= [0,1,2]\n",
    "list2 = [3,4,5]\n",
    "list1+list2"
   ]
  },
  {
   "cell_type": "code",
   "execution_count": 66,
   "metadata": {},
   "outputs": [
    {
     "data": {
      "text/plain": [
       "[{'name': 'Michiel'}]"
      ]
     },
     "execution_count": 66,
     "metadata": {},
     "output_type": "execute_result"
    }
   ],
   "source": [
    "#adding a dict to a list\n",
    "my_list =[]\n",
    "my_dict={'name':'Michiel'}\n",
    "my_list.append(my_dict)\n",
    "my_list"
   ]
  },
  {
   "cell_type": "code",
   "execution_count": 1,
   "metadata": {},
   "outputs": [
    {
     "name": "stdout",
     "output_type": "stream",
     "text": [
      "astral\n"
     ]
    }
   ],
   "source": [
    "data = [\"infy\", \"tcs\", \"affle\", \"dixon\", \"astral\"]\n",
    "last = data[-1]\n",
    "print(last)"
   ]
  },
  {
   "cell_type": "code",
   "execution_count": 2,
   "metadata": {},
   "outputs": [
    {
     "name": "stdout",
     "output_type": "stream",
     "text": [
      "Yes, 'at' found in List :  ['Hi', 'hello', 'at', 'this', 'there', 'from']\n"
     ]
    }
   ],
   "source": [
    "listOfStrings = ['Hi' , 'hello', 'at', 'this', 'there', 'from']\n",
    "if 'at' in listOfStrings :\n",
    "    print(\"Yes, 'at' found in List : \" , listOfStrings)"
   ]
  },
  {
   "cell_type": "code",
   "execution_count": 7,
   "metadata": {},
   "outputs": [
    {
     "name": "stdout",
     "output_type": "stream",
     "text": [
      "Does string contain 'Game of Thrones' list element: True\n"
     ]
    }
   ],
   "source": [
    "# using 'ANY' to select list items that \n",
    "# source: https://appdividend.com/2020/01/21/python-list-contains-how-to-check-if-item-exists-in-list/#:~:text=To%20check%20if%20the%20item,syntax%20of%20Python%20in%20operator.\n",
    "data_string = \"The last season of Game of Thrones was not good\"\n",
    "\n",
    "listA = ['Stranger Things', 'S Education', 'Game of Thrones']\n",
    "\n",
    "#print(\"The original string : \" + data_string)\n",
    "\n",
    "#print(\"The original list : \" + str(listA))\n",
    "\n",
    "res = any(item in data_string for item in listA)\n",
    "\n",
    "print(\"Does string contain 'Game of Thrones' list element: \" + str(res))"
   ]
  },
  {
   "cell_type": "code",
   "execution_count": 11,
   "metadata": {},
   "outputs": [
    {
     "name": "stdout",
     "output_type": "stream",
     "text": [
      "Does string contain 'Game of Thrones' list element: True\n"
     ]
    }
   ],
   "source": [
    "data_list = ['T', 'h', 'e', 'Game of Thrones']\n",
    "\n",
    "listA = ['Stranger Things', 'S Education', 'Game of Thrones']\n",
    "\n",
    "#print(\"The original string : \" + data_string)\n",
    "\n",
    "#print(\"The original list : \" + str(listA))\n",
    "\n",
    "res = any(item in data_list for item in listA)\n",
    "\n",
    "print(\"Does string contain 'Game of Thrones' list element: \" + str(res))"
   ]
  },
  {
   "cell_type": "code",
   "execution_count": 4,
   "metadata": {},
   "outputs": [
    {
     "data": {
      "text/plain": [
       "['1', '523', '336']"
      ]
     },
     "execution_count": 4,
     "metadata": {},
     "output_type": "execute_result"
    }
   ],
   "source": [
    "l =['1', '32', '523', '336']\n",
    "for t in l:\n",
    "    for c in t:\n",
    "        if c == '2':\n",
    "            l.remove(t)\n",
    "            break\n",
    "l"
   ]
  },
  {
   "cell_type": "code",
   "execution_count": 5,
   "metadata": {},
   "outputs": [
    {
     "data": {
      "text/plain": [
       "['1', '336']"
      ]
     },
     "execution_count": 5,
     "metadata": {},
     "output_type": "execute_result"
    }
   ],
   "source": [
    "# removing items from a list that contain a certain element\n",
    "# source: https://stackoverflow.com/questions/3416401/removing-elements-from-a-list-containing-specific-characters\n",
    "l = ['1','32','523','336','13525']\n",
    "[x for x in l if not '2' in x]"
   ]
  },
  {
   "cell_type": "code",
   "execution_count": 6,
   "metadata": {},
   "outputs": [
    {
     "data": {
      "text/plain": [
       "['32', '523', '13525']"
      ]
     },
     "execution_count": 6,
     "metadata": {},
     "output_type": "execute_result"
    }
   ],
   "source": [
    "l = ['1','32','523','336','13525']\n",
    "[x for x in l if '2' in x]"
   ]
  },
  {
   "cell_type": "code",
   "execution_count": 13,
   "metadata": {},
   "outputs": [
    {
     "name": "stdout",
     "output_type": "stream",
     "text": [
      "Yupp, 'Stranger Things' found in List :  ['Stranger Things', 'S Education', 'Game of Thrones']\n"
     ]
    }
   ],
   "source": [
    "#https://appdividend.com/2020/01/21/python-list-contains-how-to-check-if-item-exists-in-list/#:~:text=To%20check%20if%20the%20item,syntax%20of%20Python%20in%20operator.\n",
    "listA = ['Stranger Things', 'S Education', 'Game of Thrones']\n",
    "\n",
    "if listA.count('Stranger Things') > 0:\n",
    "    print(\"Yupp, 'Stranger Things' found in List : \", listA)"
   ]
  },
  {
   "cell_type": "markdown",
   "metadata": {},
   "source": [
    "## 2. Tuples\n",
    "A tuple is an (immutable) ordered list of values. A tuple is in many ways similar to a list here are the differences:\n",
    "\n",
    "* Tuples use () while lists use [] \n",
    "* Tuples use less memory than lists => tuples can be made more quickly\n",
    "* Tuples are immutable (cannot be changed) while lists are mutable (add, remove, change data)\n",
    "* Tuples can be used as keys in dictionaries and as elements of sets, while lists cannot.\n",
    "* Tuple need at least two elements otherwise python thinks it is a string (a) vs (a,)\n",
    "\n",
    "Here is a trivial example:\n",
    "source = https://www.youtube.com/watch?v=NI26dqhs2Rk"
   ]
  },
  {
   "cell_type": "code",
   "execution_count": 6,
   "metadata": {
    "scrolled": true
   },
   "outputs": [
    {
     "name": "stdout",
     "output_type": "stream",
     "text": [
      "<class 'tuple'>\n",
      "5\n",
      "1\n"
     ]
    }
   ],
   "source": [
    "d = {(x, x + 1): x for x in range(10)}  # Create a dictionary with tuple keys\n",
    "t = (5, 6)        # Create a tuple\n",
    "print(type(t))    # Prints \"<class 'tuple'>\"\n",
    "print(d[t])       # Prints \"5\"\n",
    "print(d[(1, 2)])  # Prints \"1\""
   ]
  },
  {
   "cell_type": "code",
   "execution_count": 7,
   "metadata": {},
   "outputs": [
    {
     "data": {
      "text/plain": [
       "4"
      ]
     },
     "execution_count": 7,
     "metadata": {},
     "output_type": "execute_result"
    }
   ],
   "source": [
    "# Length of a tuple\n",
    "my_tuple = ((0,0),(0,2),(2,0),(2,2))\n",
    "len(my_tuple)"
   ]
  },
  {
   "cell_type": "code",
   "execution_count": 10,
   "metadata": {},
   "outputs": [
    {
     "name": "stdout",
     "output_type": "stream",
     "text": [
      "(0, 0)\n"
     ]
    }
   ],
   "source": [
    "#tuples are indexed. \n",
    "print(my_tuple[0])"
   ]
  },
  {
   "cell_type": "code",
   "execution_count": null,
   "metadata": {},
   "outputs": [],
   "source": [
    "# loop trough a tuple\n",
    "thistuple = (\"apple\", \"banana\", \"cherry\")\n",
    "for x in thistuple:\n",
    "  print(x)"
   ]
  },
  {
   "cell_type": "code",
   "execution_count": 28,
   "metadata": {},
   "outputs": [
    {
     "name": "stdout",
     "output_type": "stream",
     "text": [
      "0\n",
      "1\n",
      "2\n"
     ]
    }
   ],
   "source": [
    "my_tuples = [(0, 1), (1, 2), (2,3)]\n",
    "for i in range(len(my_tuples)):\n",
    "    print (my_tuples[i][0])"
   ]
  },
  {
   "cell_type": "code",
   "execution_count": 2,
   "metadata": {},
   "outputs": [
    {
     "name": "stdout",
     "output_type": "stream",
     "text": [
      "0\n",
      "2\n",
      "4\n"
     ]
    }
   ],
   "source": [
    "my_tuples = [(0,1),(2,3),(4,5)]\n",
    "for i in range(len(my_tuples)):\n",
    "    xs = (my_tuples[i][0])\n",
    "    ys = (my_tuples[i][1])\n",
    "    #print(\"x's are= \"+str(my_tuples[i][0]))\n",
    "    #print(\"y's are= \"+str(my_tuples[i][1]))\n",
    "    print(xs)"
   ]
  },
  {
   "cell_type": "markdown",
   "metadata": {},
   "source": [
    "## 3. Sets\n",
    "\n",
    "Use 'set()' to create a set. \n",
    "Sets are not ordered.\n",
    "\n",
    "You can combine sets by using 'union' and by using 'intersection' you can identy records that are in both sets.\n",
    "\n",
    "source: https://www.youtube.com/watch?v=sBvaPopWOmQ&list=PLi01XoE8jYohWFPpC17Z-wWhPOSuh8Er-&index=13"
   ]
  },
  {
   "cell_type": "code",
   "execution_count": 158,
   "metadata": {},
   "outputs": [],
   "source": [
    "example = set()\n",
    "#dir(example)\n",
    "example.add(42)\n",
    "example.add(False)\n",
    "example.add(3.1459)\n",
    "example.add('Thorium')\n",
    "example.add(3.1459) # Sets kennen alleen unieke elementen! Anders dan bij list of tuple. Dus dit heeft geen zin. \n",
    "example\n",
    "#len(example) # print the list and see that the above set has only \n",
    "example.remove(42) # example.discard(42) is another option"
   ]
  },
  {
   "cell_type": "code",
   "execution_count": 11,
   "metadata": {},
   "outputs": [
    {
     "data": {
      "text/plain": [
       "{1, 2, 3, 5, 7, 9}"
      ]
     },
     "execution_count": 11,
     "metadata": {},
     "output_type": "execute_result"
    }
   ],
   "source": [
    "# You can combine sets usint the 'union' function and intersect (doorsnijden) sets using 'intersection'\n",
    "\n",
    "odds = set([1,3,5,7,9])\n",
    "evens = set([2,4,6,8,10])\n",
    "primes = set([2,3,5,7])\n",
    "composites = set ([4,6,8,9,10])\n",
    "\n",
    "odds.union(primes) #union is verzameling\n",
    "#odds.intersection(primes) # intersection != in verzameling\n",
    "#evens.intersection(primes)\n",
    "#6 in evens"
   ]
  },
  {
   "cell_type": "code",
   "execution_count": 14,
   "metadata": {},
   "outputs": [
    {
     "ename": "TypeError",
     "evalue": "'set' object is not subscriptable",
     "output_type": "error",
     "traceback": [
      "\u001b[1;31m---------------------------------------------------------------------------\u001b[0m",
      "\u001b[1;31mTypeError\u001b[0m                                 Traceback (most recent call last)",
      "\u001b[1;32m<ipython-input-14-db47ff2cf0c0>\u001b[0m in \u001b[0;36m<module>\u001b[1;34m\u001b[0m\n\u001b[0;32m      1\u001b[0m \u001b[1;31m#Sets are NOT indexed, so the following will return a TypeError\u001b[0m\u001b[1;33m\u001b[0m\u001b[1;33m\u001b[0m\u001b[1;33m\u001b[0m\u001b[0m\n\u001b[1;32m----> 2\u001b[1;33m \u001b[0mprint\u001b[0m\u001b[1;33m(\u001b[0m\u001b[0modds\u001b[0m\u001b[1;33m[\u001b[0m\u001b[1;36m0\u001b[0m\u001b[1;33m]\u001b[0m\u001b[1;33m)\u001b[0m\u001b[1;33m\u001b[0m\u001b[1;33m\u001b[0m\u001b[0m\n\u001b[0m",
      "\u001b[1;31mTypeError\u001b[0m: 'set' object is not subscriptable"
     ]
    }
   ],
   "source": [
    "#Sets are NOT indexed, so the following will return a TypeError\n",
    "print(odds[0])"
   ]
  },
  {
   "cell_type": "markdown",
   "metadata": {},
   "source": [
    "## 4. Dictionaries\n",
    "\n",
    "Dictonary (dict) associates keys with values. Each key maps to a specific value. \n",
    "Quite often in Computer Science this is called a 'map', but Python calls this a dictionary. \n",
    "Is used to store data. A python dictonary uses the {}-symbol. Dictionaries are NOT ordered data.\n",
    "\n",
    "A dictionary keys must be <i>immutable</i>, such as strings, numbers or tuples and must be <i>unique</i> \n",
    "\n",
    "The most important methods are:\n",
    "- .keys = shows the keys\n",
    "- .values = shows the values\n",
    "- .items = shows both keys and values\n",
    "- .pop .popitem .clear = to remove an item or the whole list\n",
    "\n",
    "source: https://www.youtube.com/watch?v=XCcpzWs-CI4"
   ]
  },
  {
   "cell_type": "code",
   "execution_count": 1,
   "metadata": {},
   "outputs": [
    {
     "name": "stdout",
     "output_type": "stream",
     "text": [
      "user_id = 209\n",
      "message = D5 E5 C5\n",
      "language = English\n",
      "location = (44.590533, -104.715556)\n"
     ]
    }
   ],
   "source": [
    "#Create a dictionary with user data\n",
    "# dictionary = {\"key\": value} value here is an integer/float, for string use '''. This is the constructor.\n",
    "post = {\"user_id\": 209, \"message\": \"D5 E5 C5\", \"language\": \"English\", \n",
    "        \"location\": (44.590533, -104.715556)}# first one is key, second value.\n",
    "type(post)\n",
    "\n",
    "#print a list of keys and values\n",
    "for key in post.keys(): #use a for loop to print the dictionary\n",
    "    value = post[key]\n",
    "    print(key, \"=\", value)"
   ]
  },
  {
   "cell_type": "code",
   "execution_count": 2,
   "metadata": {},
   "outputs": [
    {
     "data": {
      "text/plain": [
       "209"
      ]
     },
     "execution_count": 2,
     "metadata": {},
     "output_type": "execute_result"
    }
   ],
   "source": [
    "#print the value of the key 'user_id'\n",
    "post['user_id']"
   ]
  },
  {
   "cell_type": "code",
   "execution_count": 3,
   "metadata": {},
   "outputs": [
    {
     "data": {
      "text/plain": [
       "dict_keys(['user_id', 'message', 'language', 'location'])"
      ]
     },
     "execution_count": 3,
     "metadata": {},
     "output_type": "execute_result"
    }
   ],
   "source": [
    "# print the keys of the dict 'post'\n",
    "post.keys()"
   ]
  },
  {
   "cell_type": "code",
   "execution_count": 9,
   "metadata": {},
   "outputs": [
    {
     "data": {
      "text/plain": [
       "dict_values([209, 'D5 E5 C5', 'English', (44.590533, -104.715556)])"
      ]
     },
     "execution_count": 9,
     "metadata": {},
     "output_type": "execute_result"
    }
   ],
   "source": [
    "# print the values of the dict 'post'\n",
    "post.values()"
   ]
  },
  {
   "cell_type": "code",
   "execution_count": 11,
   "metadata": {},
   "outputs": [
    {
     "name": "stdout",
     "output_type": "stream",
     "text": [
      "D5 E5 C5\n"
     ]
    }
   ],
   "source": [
    "# print the value of key 'message'\n",
    "print(post['message'])"
   ]
  },
  {
   "cell_type": "code",
   "execution_count": 13,
   "metadata": {},
   "outputs": [
    {
     "name": "stdout",
     "output_type": "stream",
     "text": [
      "user_id = 209\n",
      "message = D5 E5 C5\n",
      "language = English\n",
      "location = (44.590533, -104.715556)\n"
     ]
    }
   ],
   "source": [
    "for key, value in post.items():\n",
    "    print(key, '=', value)"
   ]
  },
  {
   "cell_type": "code",
   "execution_count": 3,
   "metadata": {},
   "outputs": [
    {
     "data": {
      "text/plain": [
       "{'message': 'SS Copotaxi', 'language': 'Dutch'}"
      ]
     },
     "execution_count": 3,
     "metadata": {},
     "output_type": "execute_result"
    }
   ],
   "source": [
    "#first create a dictionary, then add new keys to it with values\n",
    "post2 = dict(message='SS Copotaxi', language='Dutch')\n",
    "post2"
   ]
  },
  {
   "cell_type": "code",
   "execution_count": 79,
   "metadata": {},
   "outputs": [
    {
     "name": "stdout",
     "output_type": "stream",
     "text": [
      "{'message': 'SS Copotaxi', 'language': 'Dutch', 'user_id': 209, 'date': 19771116}\n"
     ]
    }
   ],
   "source": [
    "post2[\"user_id\"]=209\n",
    "post2['date']=19771116\n",
    "\n",
    "print(post2)\n",
    "#dir(post2)"
   ]
  },
  {
   "cell_type": "code",
   "execution_count": 80,
   "metadata": {},
   "outputs": [
    {
     "data": {
      "text/plain": [
       "{'message': 'SS Copotaxi', 'language': 'Dutch', 'user_id': 209}"
      ]
     },
     "execution_count": 80,
     "metadata": {},
     "output_type": "execute_result"
    }
   ],
   "source": [
    "#remove a key-value pair. Source: https://careerkarma.com/blog/python-remove-key-from-a-dictionary/\n",
    "post2.pop('date')\n",
    "post2"
   ]
  },
  {
   "cell_type": "code",
   "execution_count": 18,
   "metadata": {},
   "outputs": [
    {
     "ename": "KeyError",
     "evalue": "0",
     "output_type": "error",
     "traceback": [
      "\u001b[1;31m---------------------------------------------------------------------------\u001b[0m",
      "\u001b[1;31mKeyError\u001b[0m                                  Traceback (most recent call last)",
      "\u001b[1;32m<ipython-input-18-2a5f4f9a5ce7>\u001b[0m in \u001b[0;36m<module>\u001b[1;34m\u001b[0m\n\u001b[0;32m      1\u001b[0m \u001b[1;31m#Dictionaries are not-indexed so this will result in a KeyError\u001b[0m\u001b[1;33m\u001b[0m\u001b[1;33m\u001b[0m\u001b[1;33m\u001b[0m\u001b[0m\n\u001b[1;32m----> 2\u001b[1;33m \u001b[0mpost2\u001b[0m\u001b[1;33m[\u001b[0m\u001b[1;36m0\u001b[0m\u001b[1;33m]\u001b[0m\u001b[1;33m\u001b[0m\u001b[1;33m\u001b[0m\u001b[0m\n\u001b[0m",
      "\u001b[1;31mKeyError\u001b[0m: 0"
     ]
    }
   ],
   "source": [
    "#Dictionaries are not-indexed so this will result in a KeyError\n",
    "post2[0]"
   ]
  },
  {
   "cell_type": "code",
   "execution_count": 6,
   "metadata": {},
   "outputs": [
    {
     "data": {
      "text/plain": [
       "{'apple': 0.36, 'orange': 0.32, 'banana': 0.23}"
      ]
     },
     "execution_count": 6,
     "metadata": {},
     "output_type": "execute_result"
    }
   ],
   "source": [
    "# changing the values of the dictionary\n",
    "#source: realpython -https://realpython.com/iterate-through-dictionary-python/\n",
    "\n",
    "prices = {'apple': 0.40, 'orange': 0.35, 'banana': 0.25}\n",
    "for key, value in prices.items():\n",
    "    prices[key] = round(value * 0.9, 2)  # Apply a 10% discount\n",
    "prices    "
   ]
  },
  {
   "cell_type": "code",
   "execution_count": 1,
   "metadata": {},
   "outputs": [
    {
     "name": "stdout",
     "output_type": "stream",
     "text": [
      "\n",
      "Person ID: 1\n",
      "Name: John\n",
      "Age: 27\n",
      "Sex: Male\n",
      "\n",
      "Person ID: 2\n",
      "Name: Marie\n",
      "Age: 22\n",
      "Sex: Female\n"
     ]
    }
   ],
   "source": [
    "people = {1: {'Name': 'John', 'Age': '27', 'Sex': 'Male'},\n",
    "          2: {'Name': 'Marie', 'Age': '22', 'Sex': 'Female'}}\n",
    "\n",
    "for p_id, p_info in people.items():\n",
    "    print(\"\\nPerson ID:\", p_id)\n",
    "    \n",
    "    for key in p_info:\n",
    "        print(key + ':', p_info[key])"
   ]
  },
  {
   "cell_type": "code",
   "execution_count": 4,
   "metadata": {},
   "outputs": [
    {
     "data": {
      "text/plain": [
       "dict_items([(1, {'Name': 'John', 'Age': '27', 'Sex': 'Male'}), (2, {'Name': 'Marie', 'Age': '22', 'Sex': 'Female'})])"
      ]
     },
     "execution_count": 4,
     "metadata": {},
     "output_type": "execute_result"
    }
   ],
   "source": [
    "people.items()"
   ]
  },
  {
   "cell_type": "code",
   "execution_count": 1,
   "metadata": {},
   "outputs": [
    {
     "name": "stdout",
     "output_type": "stream",
     "text": [
      "January has 31 days\n",
      "February has 28 days\n",
      "March has 31 days\n"
     ]
    }
   ],
   "source": [
    "#iterating trough a dictionary\n",
    "days_per_month = {'January':31, 'February':28, 'March':31}\n",
    "for month, days in days_per_month.items(): #assinging key,value to month, days\n",
    "    print(f'{month} has {days} days')"
   ]
  },
  {
   "cell_type": "markdown",
   "metadata": {},
   "source": [
    "### 4.x Dictionary comprehensions"
   ]
  },
  {
   "cell_type": "code",
   "execution_count": 3,
   "metadata": {},
   "outputs": [
    {
     "name": "stdout",
     "output_type": "stream",
     "text": [
      "<class 'dict'>\n"
     ]
    }
   ],
   "source": [
    "# Merge dictionaries with the unpacking operator (**)\n",
    "#The dictionary unpacking operator (**) is really an awesome feature in Python. \n",
    "fruit_prices = {'apple': 0.40, 'orange': 0.35}\n",
    "vegetable_prices = {'pepper': 0.20, 'onion': 0.55}\n",
    "# How to use the unpacking operator **\n",
    "my_combined_dict = {**vegetable_prices, **fruit_prices}\n",
    "print(type(my_combined_dict))"
   ]
  },
  {
   "cell_type": "code",
   "execution_count": 7,
   "metadata": {},
   "outputs": [
    {
     "data": {
      "text/plain": [
       "{'color': 'blue', 'fruit': 'apple', 'pet': 'dog'}"
      ]
     },
     "execution_count": 7,
     "metadata": {},
     "output_type": "execute_result"
    }
   ],
   "source": [
    "#source: realpython -https://realpython.com/iterate-through-dictionary-python/\n",
    "objects = ['blue', 'apple', 'dog']\n",
    "categories = ['color', 'fruit', 'pet']\n",
    "a_dict = {key: value for key, value in zip(categories, objects)}\n",
    "a_dict"
   ]
  },
  {
   "cell_type": "code",
   "execution_count": 1,
   "metadata": {},
   "outputs": [
    {
     "name": "stdout",
     "output_type": "stream",
     "text": [
      "4\n"
     ]
    }
   ],
   "source": [
    "my_first_dict = {}\n",
    "for i in range(5):\n",
    "    my_first_dict = i\n",
    "    print(my_first_dict)"
   ]
  },
  {
   "cell_type": "code",
   "execution_count": 5,
   "metadata": {},
   "outputs": [
    {
     "name": "stdout",
     "output_type": "stream",
     "text": [
      "{'name': 'Michiel', 'outcome': 'schaar'}\n",
      "{'name': 'Michiel', 'outcome': 'schaar'}\n",
      "{'name': 'Michiel', 'outcome': 'papier'}\n",
      "{'name': 'Michiel', 'outcome': 'steen'}\n",
      "{'name': 'Michiel', 'outcome': 'steen'}\n"
     ]
    }
   ],
   "source": [
    "import random\n",
    "my_dict= {'name':'Michiel'}\n",
    "outcome = ['steen', 'papier', 'schaar']\n",
    "for i in range(1,6):\n",
    "    for j in range(1):\n",
    "        my_dict[\"outcome\"]= random.choice(outcome)\n",
    "        print(my_dict)"
   ]
  },
  {
   "cell_type": "code",
   "execution_count": 5,
   "metadata": {},
   "outputs": [
    {
     "name": "stdout",
     "output_type": "stream",
     "text": [
      "{'name': 'Michiel', 'outcome1': 'schaar', 'outcome2': 'steen', 'outcome3': 'schaar', 'outcome4': 'papier', 'outcome5': 'schaar'}\n"
     ]
    }
   ],
   "source": [
    "import random\n",
    "my_dict= {'name':'Michiel'}\n",
    "outcome = ['steen', 'papier', 'schaar']\n",
    "new_dict={}\n",
    "for i in range(1,6):\n",
    "    new_dict[\"outcome\"+str(i)]=random.choice(outcome)\n",
    "unpacking_dict={**my_dict, **new_dict}\n",
    "#print(\"new_dict= \"+ str(new_dict))\n",
    "#print(unpacking_dict)\n",
    "#print(new_dict)\n"
   ]
  },
  {
   "cell_type": "code",
   "execution_count": 54,
   "metadata": {},
   "outputs": [
    {
     "data": {
      "text/plain": [
       "{'dict1': {'innerkey': 'value', 'innerkey2': 'value2'}}"
      ]
     },
     "execution_count": 54,
     "metadata": {},
     "output_type": "execute_result"
    }
   ],
   "source": [
    "# Create nested dictionaries\n",
    "#source: https://stackoverflow.com/questions/16333296/how-do-you-create-nested-dict-in-python\n",
    "d = {}\n",
    "d['dict1'] = {}\n",
    "d['dict1']['innerkey'] = 'value'\n",
    "d['dict1']['innerkey2'] = 'value2'\n",
    "d"
   ]
  },
  {
   "cell_type": "code",
   "execution_count": 90,
   "metadata": {},
   "outputs": [
    {
     "name": "stdout",
     "output_type": "stream",
     "text": [
      "{'name': 'Michiel', 'time': '2021-11-06 02:49:28.786376', 'measurements': {'outcome1': 'schaar', 'outcome2': 'steen', 'outcome3': 'schaar', 'outcome4': 'steen', 'outcome5': 'steen'}}\n",
      "{'name': 'Michiel', 'time': '2021-11-06 02:49:29.800217', 'measurements': {'outcome1': 'papier', 'outcome2': 'steen', 'outcome3': 'schaar', 'outcome4': 'steen', 'outcome5': 'steen'}}\n",
      "{'name': 'Michiel', 'time': '2021-11-06 02:49:30.812779', 'measurements': {'outcome1': 'steen', 'outcome2': 'papier', 'outcome3': 'steen', 'outcome4': 'steen', 'outcome5': 'schaar'}}\n"
     ]
    }
   ],
   "source": [
    "#creating a double loop\n",
    "from time import sleep\n",
    "import random\n",
    "from datetime import datetime\n",
    "d= {'name':'Michiel'}\n",
    "outcome = ['steen', 'papier', 'schaar']\n",
    "for i in range (3):\n",
    "    d['time'] = str(datetime.now())\n",
    "    d['measurements']={}\n",
    "    for j in range(1,6):\n",
    "        d['measurements'][\"outcome\"+str(j)]=random.choice(outcome)\n",
    "    print(d)\n",
    "    #d.pop('measurements') %both .pop and del could be used\n",
    "    del d[\"measurements\"]\n",
    "    sleep(1)"
   ]
  },
  {
   "cell_type": "code",
   "execution_count": null,
   "metadata": {},
   "outputs": [],
   "source": []
  },
  {
   "cell_type": "code",
   "execution_count": null,
   "metadata": {},
   "outputs": [],
   "source": []
  },
  {
   "cell_type": "code",
   "execution_count": null,
   "metadata": {},
   "outputs": [],
   "source": []
  },
  {
   "cell_type": "code",
   "execution_count": null,
   "metadata": {},
   "outputs": [],
   "source": []
  },
  {
   "cell_type": "code",
   "execution_count": null,
   "metadata": {},
   "outputs": [],
   "source": []
  },
  {
   "cell_type": "code",
   "execution_count": null,
   "metadata": {},
   "outputs": [],
   "source": []
  },
  {
   "cell_type": "code",
   "execution_count": null,
   "metadata": {},
   "outputs": [],
   "source": []
  },
  {
   "cell_type": "markdown",
   "metadata": {},
   "source": [
    "## 6. While loops\n",
    "\n",
    "A while loop can execute a (set of) statement(s) as long as a condition is true. "
   ]
  },
  {
   "cell_type": "code",
   "execution_count": 41,
   "metadata": {},
   "outputs": [
    {
     "name": "stdout",
     "output_type": "stream",
     "text": [
      "0\n",
      "1\n",
      "2\n",
      "3\n",
      "4\n",
      "5\n"
     ]
    }
   ],
   "source": [
    "# simple example \n",
    "i=0 #declare the initial value of i\n",
    "while i <6: #set the condition and do the following\n",
    "    print(i) # print i\n",
    "    i +=1 # add 1 to i and restart the loop"
   ]
  },
  {
   "cell_type": "code",
   "execution_count": 1,
   "metadata": {},
   "outputs": [
    {
     "name": "stdout",
     "output_type": "stream",
     "text": [
      "0\n",
      "1\n",
      "2\n",
      "3\n",
      "4\n",
      "i is no longer < 4\n"
     ]
    }
   ],
   "source": [
    "# Combine a while loop with an else statement\n",
    "i=0\n",
    "while i <5:\n",
    "    print(i)\n",
    "    i +=1\n",
    "else:\n",
    "    print(\"i is no longer < 4\")"
   ]
  },
  {
   "cell_type": "markdown",
   "metadata": {},
   "source": [
    "## 7. For loops"
   ]
  },
  {
   "cell_type": "code",
   "execution_count": 149,
   "metadata": {},
   "outputs": [
    {
     "name": "stdout",
     "output_type": "stream",
     "text": [
      "0\n",
      "1\n",
      "2\n"
     ]
    }
   ],
   "source": [
    "# Simple for loop\n",
    "for i in range(0,3): # for loop that will run three times.\n",
    "    print(i)   #check the output the range starts with 0 "
   ]
  },
  {
   "cell_type": "code",
   "execution_count": 179,
   "metadata": {},
   "outputs": [
    {
     "name": "stdout",
     "output_type": "stream",
     "text": [
      "Sum of 1 until 10: 55\n"
     ]
    }
   ],
   "source": [
    "n = 10\n",
    "sum = 0\n",
    "for counter in range(1,n+1):\n",
    "    sum = sum + counter\n",
    "\n",
    "print(\"Sum of 1 until %d: %d\" % (n,sum))"
   ]
  },
  {
   "cell_type": "code",
   "execution_count": null,
   "metadata": {},
   "outputs": [],
   "source": [
    "###DO NOT USE\n",
    "from math import sqrt\n",
    "n = int(input(\"Maximal Number? \"))\n",
    "for a in range(1,n+1):\n",
    "    for b in range(a,n):\n",
    "        c_square = a**2 + b**2\n",
    "        c = int(sqrt(c_square))\n",
    "        if ((c_square - c**2) == 0):\n",
    "            print(a, b, c)"
   ]
  },
  {
   "cell_type": "code",
   "execution_count": 65,
   "metadata": {},
   "outputs": [
    {
     "name": "stdout",
     "output_type": "stream",
     "text": [
      "red\n",
      "green\n",
      "blue\n",
      "purple\n"
     ]
    }
   ],
   "source": [
    "colors = [\"red\", \"green\", \"blue\", \"purple\"] #print some colors\n",
    "for color in colors:\n",
    "    print(color)"
   ]
  },
  {
   "cell_type": "code",
   "execution_count": 177,
   "metadata": {},
   "outputs": [
    {
     "name": "stdout",
     "output_type": "stream",
     "text": [
      "1\n",
      "3\n",
      "4\n"
     ]
    }
   ],
   "source": [
    "# A for loop with some tuples\n",
    "my_tuple = ((0, 1), (1, 2), (2, 2))\n",
    "for (x, y) in my_tuple:\n",
    "    print (x+y) # print the sum of x,y of each tuple"
   ]
  },
  {
   "cell_type": "code",
   "execution_count": 7,
   "metadata": {},
   "outputs": [
    {
     "name": "stdout",
     "output_type": "stream",
     "text": [
      "x,y= 0,3\n",
      "x,y= 3,6\n",
      "x,y= 6,6\n"
     ]
    }
   ],
   "source": [
    "# A for loop with some tuples\n",
    "my_tuple = [(0, 1), (1, 2), (2, 2)]\n",
    "for (x,y) in my_tuple:\n",
    "    xsum = x+x+x\n",
    "    ysum = y+y+y\n",
    "    print (\"x,y= \"+str(xsum)+\",\"+str(ysum)) # print the sum of x,y of each tupple"
   ]
  },
  {
   "cell_type": "code",
   "execution_count": 12,
   "metadata": {},
   "outputs": [
    {
     "name": "stdout",
     "output_type": "stream",
     "text": [
      "x,y= (0, 1, 1, 2, 2, 2),3\n",
      "x,y= (0, 1, 1, 2, 2, 2),6\n",
      "x,y= (0, 1, 1, 2, 2, 2),6\n"
     ]
    }
   ],
   "source": [
    "# A for loop with some tuples\n",
    "my_tuple = ((0, 1), (1, 2), (2, 2))\n",
    "for i in range(1):\n",
    "    for (x,y) in my_tuple:\n",
    "        xsum = tuple[0]+tuple[1]+tuple[2]\n",
    "        ysum = y+y+y\n",
    "        print (\"x,y= \"+str(xsum)+\",\"+str(ysum)) # print the sum of x,y of each tupple"
   ]
  },
  {
   "cell_type": "code",
   "execution_count": 151,
   "metadata": {},
   "outputs": [
    {
     "name": "stdout",
     "output_type": "stream",
     "text": [
      "President 1: Washington\n",
      "President 2: Adams\n",
      "President 3: Jefferson\n",
      "President 4: Madison\n",
      "President 5: Monroe\n"
     ]
    }
   ],
   "source": [
    "presidents = [\"Washington\", \"Adams\", \"Jefferson\", \"Madison\", \"Monroe\"]\n",
    "for i in range(len(presidents)):\n",
    "    print(\"President {}: {}\".format(i + 1, presidents[i]))"
   ]
  },
  {
   "cell_type": "code",
   "execution_count": 150,
   "metadata": {},
   "outputs": [
    {
     "name": "stdout",
     "output_type": "stream",
     "text": [
      "President 1: Washington\n",
      "President 2: Adams\n",
      "President 3: Jefferson\n",
      "President 4: Madison\n",
      "President 5: Monroe\n"
     ]
    }
   ],
   "source": [
    "#Use enumeration to create a numbered list\n",
    "presidents = [\"Washington\", \"Adams\", \"Jefferson\", \"Madison\", \"Monroe\"]\n",
    "for num, name in enumerate(presidents, start=1):\n",
    "    print(\"President {}: {}\".format(num, name))"
   ]
  },
  {
   "cell_type": "code",
   "execution_count": 68,
   "metadata": {},
   "outputs": [
    {
     "name": "stdout",
     "output_type": "stream",
     "text": [
      "20.0% red\n",
      "30.0% green\n",
      "10.0% blue\n",
      "40.0% purple\n"
     ]
    }
   ],
   "source": [
    "#Use the zip function to combine two lists\n",
    "colors = [\"red\", \"green\", \"blue\", \"purple\"]\n",
    "ratios = [0.2, 0.3, 0.1, 0.4]\n",
    "for color, ratio in zip(colors, ratios):\n",
    "    print(\"{}% {}\".format(ratio * 100, color))"
   ]
  },
  {
   "cell_type": "code",
   "execution_count": 15,
   "metadata": {},
   "outputs": [
    {
     "name": "stdout",
     "output_type": "stream",
     "text": [
      "11k16bitpcm.wav\n",
      "claxon_1m.wav\n",
      "claxon_close.wav\n",
      "claxon_freesound.wav\n",
      "claxon_iphone.wav\n",
      "claxon_michiel.wav\n",
      "example.wav\n",
      "noise_add.wav\n",
      "out.wav\n",
      "output.wav\n",
      "silence.wav\n",
      "test.wav\n",
      "test2.wav\n",
      "test3.wav\n"
     ]
    }
   ],
   "source": [
    "import glob, os\n",
    "wav_files = glob.glob('*.wav') \n",
    "for i in range(len(wav_files)):\n",
    "    file, ext = os.path.splitext(wav_files[i]) #always 2 variables with spitext\n",
    "    file_path=wav_files[i]\n",
    "    print(file_path)"
   ]
  },
  {
   "cell_type": "code",
   "execution_count": null,
   "metadata": {},
   "outputs": [],
   "source": []
  },
  {
   "cell_type": "code",
   "execution_count": 162,
   "metadata": {},
   "outputs": [
    {
     "name": "stdout",
     "output_type": "stream",
     "text": [
      "1 * 1 = 1\n",
      "1 * 2 = 2\n",
      "2 * 1 = 2\n",
      "2 * 2 = 4\n"
     ]
    }
   ],
   "source": [
    "# Nested for loop\n",
    "for x in range(1, 3):\n",
    "    for y in range(1, 3):\n",
    "        print('%d * %d = %d' % (x, y, x*y))"
   ]
  },
  {
   "cell_type": "markdown",
   "metadata": {},
   "source": [
    "## 8. Sorting and sorted\n",
    "source: https://www.youtube.com/watch?v=QtwhlHP_tqc&list=PLi01XoE8jYohWFPpC17Z-wWhPOSuh8Er-&index=28\n",
    "Sorting can only be applied to lists, not to tuples (tuples are immutable)\n",
    "\n",
    "Sorting a list of list can be done using lambda function, see below"
   ]
  },
  {
   "cell_type": "code",
   "execution_count": 5,
   "metadata": {
    "scrolled": true
   },
   "outputs": [
    {
     "name": "stdout",
     "output_type": "stream",
     "text": [
      "Help on method_descriptor:\n",
      "\n",
      "sort(self, /, *, key=None, reverse=False)\n",
      "    Stable sort *IN PLACE*.\n",
      "\n"
     ]
    }
   ],
   "source": [
    "earth_metals = [\"Beryllium\", 'Magnesium', \"Calcium\", \"Strontium\", \"Barium\", 'Radium']\n",
    "earth_metals.sort() # (key=None en reverse=False) \n",
    "earth_metals\n",
    "#dir(list)\n",
    "help(list.sort)"
   ]
  },
  {
   "cell_type": "code",
   "execution_count": 110,
   "metadata": {},
   "outputs": [
    {
     "data": {
      "text/plain": [
       "[('Earth', 6378, 5.52, 1.0),\n",
       " ('Mercury', 2440, 5.43, 0.395),\n",
       " ('Venus', 6052, 5.24, 0.723),\n",
       " ('Mars', 3396, 3.93, 1.53),\n",
       " ('Neptune', 24764, 1.64, 30.07),\n",
       " ('Jupiter', 71492, 1.33, 5.218),\n",
       " ('Uranus', 25559, 1.27, 19.213),\n",
       " ('Saturn', 60269, 0.69, 9.551)]"
      ]
     },
     "execution_count": 110,
     "metadata": {},
     "output_type": "execute_result"
    }
   ],
   "source": [
    "# Sorting a list with a lambda function \n",
    "# source : Socratica sorting video\n",
    "planets = [\n",
    "    (\"Mercury\", 2440, 5.43, 0.395 ),\n",
    "    (\"Venus\", 6052, 5.24, 0.723),\n",
    "    (\"Earth\", 6378, 5.52, 1.000),\n",
    "    (\"Mars\", 3396, 3.93, 1.530),\n",
    "    (\"Jupiter\", 71492, 1.33, 5.218),\n",
    "    (\"Saturn\", 60269, 0.69, 9.551),\n",
    "    (\"Uranus\", 25559, 1.27, 19.213),\n",
    "    (\"Neptune\", 24764, 1.64, 30.070)\n",
    "]\n",
    "size = lambda planet: planet[1]\n",
    "density = lambda planet:planet[2]\n",
    "planets.sort(key=density, reverse=True)\n",
    "planets"
   ]
  },
  {
   "cell_type": "code",
   "execution_count": 128,
   "metadata": {},
   "outputs": [
    {
     "data": {
      "text/plain": [
       "[1, 3, 5]"
      ]
     },
     "execution_count": 128,
     "metadata": {},
     "output_type": "execute_result"
    }
   ],
   "source": [
    "rows = [(1, 2), (3, 4), (5, 6)]\n",
    "[x[0] for x in rows]"
   ]
  },
  {
   "cell_type": "code",
   "execution_count": 8,
   "metadata": {},
   "outputs": [
    {
     "data": {
      "text/plain": [
       "[1, 3, 5, 7, 9]"
      ]
     },
     "execution_count": 8,
     "metadata": {},
     "output_type": "execute_result"
    }
   ],
   "source": [
    "#Sorted instead of sorting\n",
    "data = (9,5,1,7,3) # create a tuple\n",
    "sorted(data) #use sorted to sort the tuple!\n",
    "#sorted(\"Alphabetical\")"
   ]
  },
  {
   "cell_type": "code",
   "execution_count": 118,
   "metadata": {},
   "outputs": [
    {
     "data": {
      "text/plain": [
       "((15, 5, 3), (12, 6, 2), (10, 7, 1))"
      ]
     },
     "execution_count": 118,
     "metadata": {},
     "output_type": "execute_result"
    }
   ],
   "source": [
    "xy_tuples = ((15, 5,3),\n",
    "        (12, 6, 2),\n",
    "        (10, 7, 1))\n",
    "sorted(xy_tuples, key=lambda x: x[2])   # sort by age\n",
    "xy_tuples"
   ]
  },
  {
   "cell_type": "code",
   "execution_count": 56,
   "metadata": {},
   "outputs": [
    {
     "data": {
      "text/plain": [
       "[(0, 1), (1, 2), (1, 5), (2, 4), (2, 5), (3, 1), (3, 6), (7, 2)]"
      ]
     },
     "execution_count": 56,
     "metadata": {},
     "output_type": "execute_result"
    }
   ],
   "source": [
    "xy_tuples = [(0,1),(1,2),(3,6),(2,4),(1,5),(7,2),(3,1),(2,5)]\n",
    "sorted(xy_tuples)"
   ]
  },
  {
   "cell_type": "markdown",
   "metadata": {},
   "source": [
    "## 9. Random"
   ]
  },
  {
   "cell_type": "code",
   "execution_count": 416,
   "metadata": {},
   "outputs": [
    {
     "data": {
      "text/plain": [
       "109"
      ]
     },
     "execution_count": 416,
     "metadata": {},
     "output_type": "execute_result"
    }
   ],
   "source": [
    "import random\n",
    "myList = [2, 109, False, 10, \"Lorem\", 482, \"Ipsum\"]\n",
    "random.choice(myList)"
   ]
  },
  {
   "cell_type": "code",
   "execution_count": 531,
   "metadata": {},
   "outputs": [
    {
     "name": "stdout",
     "output_type": "stream",
     "text": [
      "steen\n"
     ]
    }
   ],
   "source": [
    "# steen, papier, schaar\n",
    "import random\n",
    "outcome = ['steen', 'papier', 'schaar']\n",
    "for i in range(1):\n",
    "    print(random.choice(outcome))"
   ]
  },
  {
   "cell_type": "code",
   "execution_count": null,
   "metadata": {},
   "outputs": [],
   "source": [
    "# 2 random lists\n",
    "import random\n",
    "def test_case():\n",
    "    x = [random.randint(-10, 10) for i in range(10)]\n",
    "    y = [random.randint(-10, 10) for i in range(10)]\n",
    "    return x, y\n",
    "print(test_case())"
   ]
  },
  {
   "cell_type": "code",
   "execution_count": 48,
   "metadata": {
    "scrolled": true
   },
   "outputs": [
    {
     "name": "stdout",
     "output_type": "stream",
     "text": [
      "Pin aan =19\n",
      "Pin aan =17\n",
      "Pin aan =18\n",
      "Pin aan =18\n",
      "Pin aan =17\n"
     ]
    }
   ],
   "source": [
    "# script to turn on/off a random light. For use on Raspberry Pi. Connect leds to pins\n",
    "import random\n",
    "from time import sleep\n",
    "pins = [17,18,19] #create a list of pins to choose from\n",
    "for i in range (5):\n",
    "    x= random.choice(pins) # call the random function with list 'pins'\n",
    "    print(\"Pin aan =\"+str(x))\n",
    "    sleep(0.2)"
   ]
  },
  {
   "cell_type": "markdown",
   "metadata": {},
   "source": [
    "## 10. Zen of Python\n",
    "source: https://en.wikipedia.org/wiki/Zen_of_Python"
   ]
  },
  {
   "cell_type": "markdown",
   "metadata": {},
   "source": [
    "Beautiful is better than ugly.<br>\n",
    "Explicit is better than implicit.<br>\n",
    "Simple is better than complex.<br>\n",
    "Complex is better than complicated.<br>\n",
    "Flat is better than nested.<br>\n",
    "Sparse is better than dense.<br>\n",
    "Readability counts.<br>\n",
    "Special cases aren't special enough to break the rules.<br>\n",
    "Although practicality beats purity.<br>\n",
    "Errors should never pass silently.<br>\n",
    "Unless explicitly silenced.<br>\n",
    "In the face of ambiguity, refuse the temptation to guess.<br>\n",
    "There should be one—and preferably only one—obvious way to do it.<br>\n",
    "Although that way may not be obvious at first unless you're Dutch.<br>\n",
    "Now is better than never.<br>\n",
    "Although never is often better than right now.[n 1]<br>\n",
    "If the implementation is hard to explain, it's a bad idea.<br>\n",
    "If the implementation is easy to explain, it may be a good idea.<br>\n",
    "Namespaces are one honking great idea—let's do more of those!<br>"
   ]
  },
  {
   "cell_type": "code",
   "execution_count": null,
   "metadata": {},
   "outputs": [],
   "source": []
  },
  {
   "cell_type": "code",
   "execution_count": null,
   "metadata": {},
   "outputs": [],
   "source": []
  }
 ],
 "metadata": {
  "interpreter": {
   "hash": "2aca11a9ab5620288d93a0c466d708bb3054e8717db234a0446d04f04cd1d1d6"
  },
  "kernelspec": {
   "display_name": "Python 3 (ipykernel)",
   "language": "python",
   "name": "python3"
  },
  "language_info": {
   "codemirror_mode": {
    "name": "ipython",
    "version": 3
   },
   "file_extension": ".py",
   "mimetype": "text/x-python",
   "name": "python",
   "nbconvert_exporter": "python",
   "pygments_lexer": "ipython3",
   "version": "3.8.5"
  }
 },
 "nbformat": 4,
 "nbformat_minor": 4
}
