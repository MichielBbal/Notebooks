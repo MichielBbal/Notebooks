{
 "cells": [
  {
   "cell_type": "markdown",
   "metadata": {},
   "source": [
    "# Working with the OS\n",
    "\n",
    "A notebook for working with the operating system.\n",
    "\n",
    "## Contents\n",
    "0. Linux commands in Jupyter\n",
    "1. Glob\n",
    "2. Pathlib\n",
    "3. OS Library\n",
    "4. Socket\n",
    "5. Environmental variable (to store credentials)\n",
    "6. Dropbox - in progress\n",
    "9. Copying files with shutil\n",
    "10. PSUtil"
   ]
  },
  {
   "cell_type": "markdown",
   "metadata": {},
   "source": [
    "## 0. Platform\n",
    "\n",
    "Platform is a python built-in module, which gives you access to underlying platform’s identifying data.\n",
    "Source: https://docs.python.org/3/library/platform.html"
   ]
  },
  {
   "cell_type": "code",
   "execution_count": 5,
   "metadata": {},
   "outputs": [
    {
     "data": {
      "text/plain": [
       "'x86_64'"
      ]
     },
     "execution_count": 5,
     "metadata": {},
     "output_type": "execute_result"
    }
   ],
   "source": [
    "import platform\n",
    "platform.machine()"
   ]
  },
  {
   "cell_type": "code",
   "execution_count": 8,
   "metadata": {},
   "outputs": [
    {
     "name": "stdout",
     "output_type": "stream",
     "text": [
      "macOS-10.16-x86_64-i386-64bit\n",
      "i386\n"
     ]
    }
   ],
   "source": [
    "print(platform.platform())\n",
    "print(platform.processor())"
   ]
  },
  {
   "cell_type": "code",
   "execution_count": 10,
   "metadata": {},
   "outputs": [
    {
     "data": {
      "text/plain": [
       "('10.16', ('', '', ''), 'x86_64')"
      ]
     },
     "execution_count": 10,
     "metadata": {},
     "output_type": "execute_result"
    }
   ],
   "source": [
    "platform.mac_ver()"
   ]
  },
  {
   "cell_type": "markdown",
   "metadata": {},
   "source": [
    "## 1. Glob\n",
    "The glob module finds all the pathnames matching a specified pattern according to the rules used by the Unix shell, although results are returned in arbitrary order.\n",
    "\n",
    "source: https://docs.python.org/3/library/glob.html"
   ]
  },
  {
   "cell_type": "code",
   "execution_count": 1,
   "metadata": {},
   "outputs": [
    {
     "name": "stdout",
     "output_type": "stream",
     "text": [
      "['buik3.jpg', 'claxon_1m.jpg', 'claxon_1m_log.jpg', 'claxon_close.jpg', 'claxon_close_log.jpg', 'claxon_colorbar_log.jpg', 'claxon_iphone_log.jpg', 'claxon_michiel_log.jpg', 'newimage.jpg', 'output.jpg', 'pixellib_example.jpg', 'road.jpg', 'scatter.jpg', 'thuis.jpg']\n"
     ]
    }
   ],
   "source": [
    "import glob\n",
    "\n",
    "files = glob.glob('*.jpg') # retrieve all the .json files in home dir and assign to a list\n",
    "# Take the files from the last two weeks only.\n",
    "files = sorted(files)[-14:] # sort the files of the last 14 days\n",
    "type(files)\n",
    "print(files)"
   ]
  },
  {
   "cell_type": "markdown",
   "metadata": {},
   "source": [
    "Source: https://stackoverflow.com/questions/14798220/how-can-i-search-sub-folders-using-glob-glob-module\n",
    "\n",
    "There's a lot of confusion on this topic. Let me see if I can clarify it (Python 3.7):\n",
    "\n",
    "- glob.glob('*.txt')                  :matches all files ending in '.txt' in current directory\n",
    "- glob.glob('*/*.txt')                :same as 1\n",
    "- glob.glob('**/*.txt')               :matches all files ending in '.txt' in the immediate subdirectories only, but not in the current directory\n",
    "- glob.glob('*.txt',recursive=True)   :same as 1\n",
    "- glob.glob('*/*.txt',recursive=True) :same as 3\n",
    "- glob.glob('**/*.txt',recursive=True):matches all files ending in '.txt' in the current directory and in all subdirectories\n",
    "\n",
    "So it's best to always specify recursive=True."
   ]
  },
  {
   "cell_type": "code",
   "execution_count": 10,
   "metadata": {},
   "outputs": [
    {
     "data": {
      "text/plain": [
       "'/Users/michielbontenbal/Documents/GitHub/Notebooks'"
      ]
     },
     "execution_count": 10,
     "metadata": {},
     "output_type": "execute_result"
    }
   ],
   "source": [
    "pwd"
   ]
  },
  {
   "cell_type": "code",
   "execution_count": 9,
   "metadata": {},
   "outputs": [
    {
     "name": "stdout",
     "output_type": "stream",
     "text": [
      "['my-audio.wav', 'new_file.wav', 'out.wav', 'file.wav', 'loudness.wav', 'test2.wav', 'claxon_iphone.wav', 'test3.wav', 'my_wav.wav', 'mywav_reduced_noise2.wav', 'piano_c.wav', 'claxon_michiel.wav', 'claxon_close.wav', 'recordedFile.wav', 'miaow_16k.wav', 'tone_220.wav', 'welcome.wav', 'silence.wav', 'example.wav', '11k16bitpcm.wav', 'newsegment.wav', 'claxon_freesound.wav', 'robot0.wav', 'my_test.wav', 'speech_whistling2.wav', 'robot1.wav', 'mywav_reduced_noise.wav', 'robot3.wav', 'test.wav', 'noise_add.wav', 'robot2.wav', 'Sample_audio.wav', 'tone_440.wav', 'claxon_1m.wav', 'output.wav']\n"
     ]
    }
   ],
   "source": [
    "# searching all files in a directory and subdirectories\n",
    "import glob\n",
    "my_wavs = glob.glob(r'*.wav', recursive=True)\n",
    "print(my_wavs)"
   ]
  },
  {
   "cell_type": "code",
   "execution_count": 3,
   "metadata": {},
   "outputs": [
    {
     "name": "stdout",
     "output_type": "stream",
     "text": [
      "newsegment.wav\n"
     ]
    }
   ],
   "source": [
    "#selecting the latest downloaded file\n",
    "import glob\n",
    "import os\n",
    "\n",
    "list_of_files = glob.glob('*.wav') # with * select all .wav files\n",
    "latest_file = max(list_of_files, key=os.path.getctime)\n",
    "print(latest_file)"
   ]
  },
  {
   "cell_type": "code",
   "execution_count": 3,
   "metadata": {},
   "outputs": [
    {
     "data": {
      "text/plain": [
       "'/Users/michielbontenbal/Desktop/Notebooks'"
      ]
     },
     "execution_count": 3,
     "metadata": {},
     "output_type": "execute_result"
    }
   ],
   "source": [
    "pwd"
   ]
  },
  {
   "cell_type": "code",
   "execution_count": 1,
   "metadata": {},
   "outputs": [
    {
     "data": {
      "text/plain": [
       "111"
      ]
     },
     "execution_count": 1,
     "metadata": {},
     "output_type": "execute_result"
    }
   ],
   "source": [
    "from glob import glob\n",
    "\n",
    "my_ipynbs = glob('*.ipynb')\n",
    "len(my_ipynbs)"
   ]
  },
  {
   "cell_type": "markdown",
   "metadata": {},
   "source": [
    "## 2. Pathlib\n",
    "\n",
    "with pathlib you can add a path to the glob command"
   ]
  },
  {
   "cell_type": "code",
   "execution_count": 1,
   "metadata": {},
   "outputs": [
    {
     "name": "stdout",
     "output_type": "stream",
     "text": [
      "Collecting pathlib\n",
      "  Downloading pathlib-1.0.1-py3-none-any.whl (14 kB)\n",
      "Installing collected packages: pathlib\n",
      "Successfully installed pathlib-1.0.1\n",
      "Note: you may need to restart the kernel to use updated packages.\n"
     ]
    }
   ],
   "source": [
    "%pip install pathlib"
   ]
  },
  {
   "cell_type": "code",
   "execution_count": 3,
   "metadata": {},
   "outputs": [
    {
     "data": {
      "text/plain": [
       "'/Users/michielbontenbal/Documents/GitHub/Notebooks'"
      ]
     },
     "execution_count": 3,
     "metadata": {},
     "output_type": "execute_result"
    }
   ],
   "source": [
    "pwd"
   ]
  },
  {
   "cell_type": "code",
   "execution_count": 4,
   "metadata": {},
   "outputs": [
    {
     "data": {
      "text/plain": [
       "PosixPath('/Users/michielbontenbal')"
      ]
     },
     "execution_count": 4,
     "metadata": {},
     "output_type": "execute_result"
    }
   ],
   "source": [
    "from pathlib import Path\n",
    "Path.home()"
   ]
  },
  {
   "cell_type": "code",
   "execution_count": 18,
   "metadata": {},
   "outputs": [
    {
     "name": "stdout",
     "output_type": "stream",
     "text": [
      "<generator object Path.glob at 0x7f7f1771ff90>\n"
     ]
    },
    {
     "data": {
      "text/plain": [
       "generator"
      ]
     },
     "execution_count": 18,
     "metadata": {},
     "output_type": "execute_result"
    }
   ],
   "source": [
    "#this will create a python 'generator'\n",
    "from glob import glob\n",
    "from pathlib import Path\n",
    "\n",
    "notebook_files = Path('/Users/michielbontenbal//Documents/GitHub/Notebooks/').glob('*.ipynb')\n",
    "\n",
    "print(notebook_files)\n",
    "type(notebook_files)"
   ]
  },
  {
   "cell_type": "code",
   "execution_count": 19,
   "metadata": {},
   "outputs": [
    {
     "data": {
      "text/plain": [
       "[PosixPath('/Users/michielbontenbal/Documents/GitHub/Notebooks/5.20 A_quick_start_guide_for_soundscape_IR.ipynb'),\n",
       " PosixPath('/Users/michielbontenbal/Documents/GitHub/Notebooks/3.15  Multi Object Tracking with Motpy (work in progress).ipynb'),\n",
       " PosixPath(\"/Users/michielbontenbal/Documents/GitHub/Notebooks/5.11 Speech to text with Youtube and Twitter video's.ipynb\"),\n",
       " PosixPath('/Users/michielbontenbal/Documents/GitHub/Notebooks/5.12 Audio Data Augmentation 2.ipynb'),\n",
       " PosixPath('/Users/michielbontenbal/Documents/GitHub/Notebooks/2.06 Working with the OS.ipynb'),\n",
       " PosixPath('/Users/michielbontenbal/Documents/GitHub/Notebooks/gesproken_woorden_hva.ipynb'),\n",
       " PosixPath('/Users/michielbontenbal/Documents/GitHub/Notebooks/4.01 AMQP with RabbitMQ.ipynb'),\n",
       " PosixPath('/Users/michielbontenbal/Documents/GitHub/Notebooks/2.08 Time Series with Pandas and SciPy (data source missing).ipynb'),\n",
       " PosixPath('/Users/michielbontenbal/Documents/GitHub/Notebooks/5.01 Audio with Python- the basics.ipynb'),\n",
       " PosixPath('/Users/michielbontenbal/Documents/GitHub/Notebooks/5.16 Transfer_learning_audio (works in Colab not local).ipynb'),\n",
       " PosixPath('/Users/michielbontenbal/Documents/GitHub/Notebooks/3.09 Image Classification with_ResNet50.ipynb'),\n",
       " PosixPath('/Users/michielbontenbal/Documents/GitHub/Notebooks/4.02 Kafka.ipynb'),\n",
       " PosixPath('/Users/michielbontenbal/Documents/GitHub/Notebooks/3.04 Computer Vision basics on Images with OpenCV.ipynb'),\n",
       " PosixPath('/Users/michielbontenbal/Documents/GitHub/Notebooks/3.08 Image Classification - MNIST with Keras.ipynb'),\n",
       " PosixPath('/Users/michielbontenbal/Documents/GitHub/Notebooks/1.07 Working with images.ipynb'),\n",
       " PosixPath('/Users/michielbontenbal/Documents/GitHub/Notebooks/6.x Boids algorithm and simulating bird flock behaviour (work in progress).ipynb'),\n",
       " PosixPath('/Users/michielbontenbal/Documents/GitHub/Notebooks/5.22 scripts to rename the files in Amsterdam Sound Dataset.ipynb'),\n",
       " PosixPath('/Users/michielbontenbal/Documents/GitHub/Notebooks/3.06 Teachable Machine (tutorialise, to clean up).ipynb'),\n",
       " PosixPath('/Users/michielbontenbal/Documents/GitHub/Notebooks/1.08 Pandas basics (tutorialise).ipynb'),\n",
       " PosixPath('/Users/michielbontenbal/Documents/GitHub/Notebooks/5.13 Sound classification with YAMNet.ipynb'),\n",
       " PosixPath('/Users/michielbontenbal/Documents/GitHub/Notebooks/2.11 Image_data_augmentation.ipynb'),\n",
       " PosixPath('/Users/michielbontenbal/Documents/GitHub/Notebooks/5.17 recognize keywords with tensorflow.ipynb'),\n",
       " PosixPath('/Users/michielbontenbal/Documents/GitHub/Notebooks/3.09 Image Segmentation with Pixellib (PointRed only on linux not windows).ipynb'),\n",
       " PosixPath('/Users/michielbontenbal/Documents/GitHub/Notebooks/5.12 Audio Data Augmentation.ipynb'),\n",
       " PosixPath('/Users/michielbontenbal/Documents/GitHub/Notebooks/3.02 Neural Networks with Numpy.ipynb'),\n",
       " PosixPath('/Users/michielbontenbal/Documents/GitHub/Notebooks/2.09 Collections = special data types.ipynb'),\n",
       " PosixPath('/Users/michielbontenbal/Documents/GitHub/Notebooks/2.15 Webtestng with selenium (work in progress).ipynb'),\n",
       " PosixPath('/Users/michielbontenbal/Documents/GitHub/Notebooks/4.15 parsing openAPI specs.ipynb'),\n",
       " PosixPath('/Users/michielbontenbal/Documents/GitHub/Notebooks/3.19 Transformers with Huggingface (Work in Progress).ipynb'),\n",
       " PosixPath('/Users/michielbontenbal/Documents/GitHub/Notebooks/6.05 Snoring (some work to do).ipynb'),\n",
       " PosixPath('/Users/michielbontenbal/Documents/GitHub/Notebooks/1.04 Functions.ipynb'),\n",
       " PosixPath('/Users/michielbontenbal/Documents/GitHub/Notebooks/4.13 pytest & mock.ipynb'),\n",
       " PosixPath('/Users/michielbontenbal/Documents/GitHub/Notebooks/2.07 Python and Linux (work in progress).ipynb'),\n",
       " PosixPath('/Users/michielbontenbal/Documents/GitHub/Notebooks/2.14 Python and regular expressions (work in progress).ipynb'),\n",
       " PosixPath('/Users/michielbontenbal/Documents/GitHub/Notebooks/2.10 Intro to Numpy.ipynb'),\n",
       " PosixPath('/Users/michielbontenbal/Documents/GitHub/Notebooks/3.14 Object_detection with TF2.ipynb'),\n",
       " PosixPath('/Users/michielbontenbal/Documents/GitHub/Notebooks/2.04 Webscraping, BeautifulSoup & converting webpages to pdf (some work to do).ipynb'),\n",
       " PosixPath('/Users/michielbontenbal/Documents/GitHub/Notebooks/3.17 NLP - Sentiment in text (NLP zero to hero 3).ipynb'),\n",
       " PosixPath('/Users/michielbontenbal/Documents/GitHub/Notebooks/1.05 Getting data from the web - requests, wget, curl, urllib.ipynb'),\n",
       " PosixPath('/Users/michielbontenbal/Documents/GitHub/Notebooks/6.03 Maps of Amsterdam.ipynb'),\n",
       " PosixPath('/Users/michielbontenbal/Documents/GitHub/Notebooks/3.18 NLP classifying movie reviews with Keras.ipynb'),\n",
       " PosixPath('/Users/michielbontenbal/Documents/GitHub/Notebooks/6.05 Snoring.ipynb'),\n",
       " PosixPath('/Users/michielbontenbal/Documents/GitHub/Notebooks/1.09 Jupyter notebook cell magic & other stuff.ipynb'),\n",
       " PosixPath('/Users/michielbontenbal/Documents/GitHub/Notebooks/5.09 Creating a Voice Assistant.ipynb'),\n",
       " PosixPath('/Users/michielbontenbal/Documents/GitHub/Notebooks/4.08 AsyncAPI.ipynb'),\n",
       " PosixPath('/Users/michielbontenbal/Documents/GitHub/Notebooks/2.03 Python and SQL databases.ipynb'),\n",
       " PosixPath('/Users/michielbontenbal/Documents/GitHub/Notebooks/Face_in_keras.ipynb'),\n",
       " PosixPath('/Users/michielbontenbal/Documents/GitHub/Notebooks/4.12 APIspec.ipynb'),\n",
       " PosixPath('/Users/michielbontenbal/Documents/GitHub/Notebooks/3.16 NLP with Laurence Moroney.ipynb'),\n",
       " PosixPath('/Users/michielbontenbal/Documents/GitHub/Notebooks/4.17 Pydantic data validation.ipynb'),\n",
       " PosixPath('/Users/michielbontenbal/Documents/GitHub/Notebooks/4.09 Apache Avro Data Serialization.ipynb'),\n",
       " PosixPath('/Users/michielbontenbal/Documents/GitHub/Notebooks/3.12 Object Detection with YOLO v3, v5 and v8 (to clean up...).ipynb'),\n",
       " PosixPath('/Users/michielbontenbal/Documents/GitHub/Notebooks/4.03 MQTT.ipynb'),\n",
       " PosixPath('/Users/michielbontenbal/Documents/GitHub/Notebooks/6.07b Oura as a function.ipynb'),\n",
       " PosixPath('/Users/michielbontenbal/Documents/GitHub/Notebooks/6.11 Mastodon (work in progress).ipynb'),\n",
       " PosixPath('/Users/michielbontenbal/Documents/GitHub/Notebooks/2022_09_08_OpenCV_opdracht.ipynb'),\n",
       " PosixPath('/Users/michielbontenbal/Documents/GitHub/Notebooks/5.04 Another way to create a mel spectrogram.ipynb'),\n",
       " PosixPath('/Users/michielbontenbal/Documents/GitHub/Notebooks/5.03 Visualising audio - creating waveform, spectogram, mel specto with librosa.ipynb'),\n",
       " PosixPath('/Users/michielbontenbal/Documents/GitHub/Notebooks/2.00 Python Intermediate (exeptions, assert, decorators etc).ipynb'),\n",
       " PosixPath('/Users/michielbontenbal/Documents/GitHub/Notebooks/6.09 Pytesseract 2 Sententie Bontenbal.ipynb'),\n",
       " PosixPath('/Users/michielbontenbal/Documents/GitHub/Notebooks/4.18 Reverse Engineering the Petstore API (Medium article).ipynb'),\n",
       " PosixPath('/Users/michielbontenbal/Documents/GitHub/Notebooks/1.02 Basics of Data Analysis.ipynb'),\n",
       " PosixPath('/Users/michielbontenbal/Documents/GitHub/Notebooks/5.19 Filter & denoise.ipynb'),\n",
       " PosixPath('/Users/michielbontenbal/Documents/GitHub/Notebooks/2.02 Introduction to Object Oriented Programming (OOP) (clean up).ipynb'),\n",
       " PosixPath('/Users/michielbontenbal/Documents/GitHub/Notebooks/4.11 Zeep - wsdl.ipynb'),\n",
       " PosixPath('/Users/michielbontenbal/Documents/GitHub/Notebooks/1.03 Working with files and data serialization.ipynb'),\n",
       " PosixPath('/Users/michielbontenbal/Documents/GitHub/Notebooks/3.23 NLP encoding, decoding and some tokenizers.ipynb'),\n",
       " PosixPath('/Users/michielbontenbal/Documents/GitHub/Notebooks/3.10 Face detection with Haar,  MTCNN and Keras-Facenet (HvA).ipynb'),\n",
       " PosixPath('/Users/michielbontenbal/Documents/GitHub/Notebooks/6.04 Pre-assignment AI café Michiel.ipynb'),\n",
       " PosixPath('/Users/michielbontenbal/Documents/GitHub/Notebooks/5.07 Energy and Sound Pressure Level.ipynb'),\n",
       " PosixPath('/Users/michielbontenbal/Documents/GitHub/Notebooks/5.24 Noisereduce full tutorial.ipynb'),\n",
       " PosixPath('/Users/michielbontenbal/Documents/GitHub/Notebooks/6.02 Barchart race original.ipynb'),\n",
       " PosixPath('/Users/michielbontenbal/Documents/GitHub/Notebooks/5.15 TO DO Building a RNN for speech recognition.ipynb'),\n",
       " PosixPath('/Users/michielbontenbal/Documents/GitHub/Notebooks/3.21 NLP - Train_your_tokenizer Huggingface.ipynb'),\n",
       " PosixPath('/Users/michielbontenbal/Documents/GitHub/Notebooks/5.06 Real time audio visualizing.ipynb'),\n",
       " PosixPath('/Users/michielbontenbal/Documents/GitHub/Notebooks/1.01 Python fundamentals Notebook.ipynb'),\n",
       " PosixPath('/Users/michielbontenbal/Documents/GitHub/Notebooks/4.19 Reverse Engineering Petstore OpenAPI spec.17 Reverse Engineering the Petstore OAS.ipynb'),\n",
       " PosixPath('/Users/michielbontenbal/Documents/GitHub/Notebooks/4.04 InfluxDB.ipynb'),\n",
       " PosixPath('/Users/michielbontenbal/Documents/GitHub/Notebooks/3.13 Object Detection with ImageAI (to be updated to Pytorch).ipynb'),\n",
       " PosixPath('/Users/michielbontenbal/Documents/GitHub/Notebooks/6.06 HRV logger app (for personal use only).ipynb'),\n",
       " PosixPath('/Users/michielbontenbal/Documents/GitHub/Notebooks/6.07 Oura Sleep Data (to do).ipynb'),\n",
       " PosixPath('/Users/michielbontenbal/Documents/GitHub/Notebooks/2.16 Intro to Flask (work in progress).ipynb'),\n",
       " PosixPath('/Users/michielbontenbal/Documents/GitHub/Notebooks/1.06 Graphs with Matplotlib.ipynb'),\n",
       " PosixPath('/Users/michielbontenbal/Documents/GitHub/Notebooks/3.03 What is gradient descent ? .ipynb'),\n",
       " PosixPath('/Users/michielbontenbal/Documents/GitHub/Notebooks/4.07 Creating UML diagrams with PlantUML.ipynb'),\n",
       " PosixPath('/Users/michielbontenbal/Documents/GitHub/Notebooks/6.12 Programming some algorithms.ipynb'),\n",
       " PosixPath('/Users/michielbontenbal/Documents/GitHub/Notebooks/4.05 OData.ipynb'),\n",
       " PosixPath('/Users/michielbontenbal/Documents/GitHub/Notebooks/3.22 Introduction to Pytorch - Work in progress.ipynb'),\n",
       " PosixPath('/Users/michielbontenbal/Documents/GitHub/Notebooks/5.05 Fourier Transform & more audio visualisation (in progress).ipynb'),\n",
       " PosixPath('/Users/michielbontenbal/Documents/GitHub/Notebooks/2.12 Notebook on python for geodata and maps .ipynb'),\n",
       " PosixPath('/Users/michielbontenbal/Documents/GitHub/Notebooks/7.0 HvA oefeningen.ipynb'),\n",
       " PosixPath('/Users/michielbontenbal/Documents/GitHub/Notebooks/4.12 XML schema (xsd).ipynb'),\n",
       " PosixPath('/Users/michielbontenbal/Documents/GitHub/Notebooks/6.10 WebRTC (basic).ipynb'),\n",
       " PosixPath('/Users/michielbontenbal/Documents/GitHub/Notebooks/2.01 Time and datetime.ipynb'),\n",
       " PosixPath('/Users/michielbontenbal/Documents/GitHub/Notebooks/3.01 a very short introduction to Deep Learning (work in progress).ipynb'),\n",
       " PosixPath('/Users/michielbontenbal/Documents/GitHub/Notebooks/6.01 Python Forest map.ipynb'),\n",
       " PosixPath('/Users/michielbontenbal/Documents/GitHub/Notebooks/5.02 Audio with Python -  advanced (to clean up, too large).ipynb'),\n",
       " PosixPath(\"/Users/michielbontenbal/Documents/GitHub/Notebooks/3.24 Andrej Karpathy's GPT tutorial.ipynb\"),\n",
       " PosixPath('/Users/michielbontenbal/Documents/GitHub/Notebooks/5.21 Analyzing the Amsterdam Urban Sounds dataset.ipynb'),\n",
       " PosixPath('/Users/michielbontenbal/Documents/GitHub/Notebooks/2.13 Pynput (in progress).ipynb'),\n",
       " PosixPath('/Users/michielbontenbal/Documents/GitHub/Notebooks/1.10 Converting basic data types.ipynb'),\n",
       " PosixPath('/Users/michielbontenbal/Documents/GitHub/Notebooks/1.0 - Notebook on basics of Python and Jupyter Notebooks.ipynb'),\n",
       " PosixPath('/Users/michielbontenbal/Documents/GitHub/Notebooks/5.18 Torchopenl3 (not working locally).ipynb'),\n",
       " PosixPath('/Users/michielbontenbal/Documents/GitHub/Notebooks/5.10 Speech2text & Text2speech.ipynb'),\n",
       " PosixPath('/Users/michielbontenbal/Documents/GitHub/Notebooks/5.23 Gradio Audio Demo.ipynb'),\n",
       " PosixPath('/Users/michielbontenbal/Documents/GitHub/Notebooks/5.08 Audio Yamnet_visualisation.ipynb'),\n",
       " PosixPath('/Users/michielbontenbal/Documents/GitHub/Notebooks/4.06 websockets.ipynb'),\n",
       " PosixPath('/Users/michielbontenbal/Documents/GitHub/Notebooks/2.05 Python and excel (tutorialise).ipynb'),\n",
       " PosixPath('/Users/michielbontenbal/Documents/GitHub/Notebooks/4.10 gRPC.ipynb'),\n",
       " PosixPath('/Users/michielbontenbal/Documents/GitHub/Notebooks/3.05 Computer Vision basics on Video with OpenCV.ipynb'),\n",
       " PosixPath(\"/Users/michielbontenbal/Documents/GitHub/Notebooks/3.20 Translation API's.ipynb\"),\n",
       " PosixPath('/Users/michielbontenbal/Documents/GitHub/Notebooks/tutorial.ipynb'),\n",
       " PosixPath('/Users/michielbontenbal/Documents/GitHub/Notebooks/2.07 Graphs advanced - Seaborn, Plotly, Plotnine, IPYwidgets.ipynb'),\n",
       " PosixPath('/Users/michielbontenbal/Documents/GitHub/Notebooks/4.14 JSON Schema.ipynb'),\n",
       " PosixPath('/Users/michielbontenbal/Documents/GitHub/Notebooks/5.14 Audio Classification with OpenL3.ipynb'),\n",
       " PosixPath('/Users/michielbontenbal/Documents/GitHub/Notebooks/6.08 Pytesseract OCR Ukrainian (work in progress).ipynb'),\n",
       " PosixPath('/Users/michielbontenbal/Documents/GitHub/Notebooks/4.16 XML Element Tree.ipynb'),\n",
       " PosixPath('/Users/michielbontenbal/Documents/GitHub/Notebooks/3.07 Image Classification with Keras from scratch.ipynb')]"
      ]
     },
     "execution_count": 19,
     "metadata": {},
     "output_type": "execute_result"
    }
   ],
   "source": [
    "list(notebook_files)\n"
   ]
  },
  {
   "cell_type": "code",
   "execution_count": null,
   "metadata": {},
   "outputs": [],
   "source": []
  },
  {
   "cell_type": "markdown",
   "metadata": {},
   "source": [
    "## 3. OS library"
   ]
  },
  {
   "cell_type": "code",
   "execution_count": 7,
   "metadata": {},
   "outputs": [
    {
     "data": {
      "text/plain": [
       "'C:\\\\Users\\\\31653\\\\Documents\\\\GitHub\\\\Notebooks'"
      ]
     },
     "execution_count": 7,
     "metadata": {},
     "output_type": "execute_result"
    }
   ],
   "source": [
    "pwd"
   ]
  },
  {
   "cell_type": "code",
   "execution_count": 15,
   "metadata": {},
   "outputs": [
    {
     "name": "stdout",
     "output_type": "stream",
     "text": [
      "/Users/michielbontenbal/Documents/GitHub/Notebooks\n"
     ]
    },
    {
     "data": {
      "text/plain": [
       "0"
      ]
     },
     "execution_count": 15,
     "metadata": {},
     "output_type": "execute_result"
    }
   ],
   "source": [
    "# use linux command pwd\n",
    "os.system('pwd')"
   ]
  },
  {
   "cell_type": "code",
   "execution_count": 11,
   "metadata": {},
   "outputs": [
    {
     "data": {
      "text/plain": [
       "0"
      ]
     },
     "execution_count": 11,
     "metadata": {},
     "output_type": "execute_result"
    },
    {
     "name": "stdout",
     "output_type": "stream",
     "text": [
      "'dummy'.svg\n",
      "'dummy'.uml\n",
      "1.0 - Michiel's Notebook on basics of Python and Jupyter Notebooks.ipynb\n",
      "1.01 Michiels' Python fundamentals Notebook.ipynb\n",
      "1.02 Basics of Data Analysis.ipynb\n",
      "1.03 Working with files and data serialization.ipynb\n",
      "1.04 Michiels notebook on images.ipynb\n",
      "1.05 Getting data from the web - requests, wget and curl.ipynb\n",
      "1.06 Functions.ipynb\n",
      "1.07 Pandas basics.ipynb\n",
      "1.08 Simple graphs Matplotlib.ipynb\n",
      "1.09 IPython and Markdown.ipynb\n",
      "1.10 Converting data types.ipynb\n",
      "1.11 Some special data types .ipynb\n",
      "11k16bitpcm.wav\n",
      "2.0 Michiel's Intermediate Notebook.ipynb\n",
      "2.01 Time and datetime.ipynb\n",
      "2.02 Arrays with Numpy.ipynb\n",
      "2.03 Michiel's notebook on python for maps - GeoPandas issue.ipynb\n",
      "2.04 Webscraping, BeautifulSoup & converting webpages to pdf.ipynb\n",
      "2.05 Python and excel.ipynb\n",
      "2.06 Working with the OS - in progress.ipynb\n",
      "2.07 Graphs advanced - Seaborn, Plotly, Plotnine, IPYwidgets.ipynb\n",
      "2.08 Time Series with Pandas and SciPy.ipynb\n",
      "2.09 SciPy various scripts.ipynb\n",
      "2.10 Python and Linux.ipynb\n",
      "2.11 Image_data_augmentation.ipynb\n",
      "2.12 Python and SQL and other databases - to do.ipynb\n",
      "2.13 Pynput.ipynb\n",
      "2021-12-5_Features_.csv\n",
      "3.01 Michiels notebook Deep learning with python - 1.ipynb\n",
      "3.02 Michiel's Neural Network Notebook.ipynb\n",
      "3.03 Michiel's notebook on Pytorch - Work in progress.ipynb\n",
      "3.04 Michiel's notebook on OpenCV.ipynb\n",
      "3.05-classifying-movie-reviews.ipynb\n",
      "3.06 Deep learning for python -2e versie.ipynb\n",
      "3.07 Keras_Image_classification_from_scratch.ipynb\n",
      "3.08 MNIST in Keras.ipynb\n",
      "3.09 Teachable Machine.ipynb\n",
      "3.11 Object Detection Work in Progress.ipynb\n",
      "3.13 ImageAI.ipynb\n",
      "3.14 NLP Sentiment in text (NLP zero to hero 3).ipynb\n",
      "3.15 Motpy.ipynb\n",
      "3.18 Huggingface.ipynb\n",
      "3.19 Face detection (not working).ipynb\n",
      "3.20 Translation API's.ipynb\n",
      "4.01 AMQP with RabbitMQ.ipynb\n",
      "4.02 Kafka.ipynb\n",
      "4.03 MQTT.ipynb\n",
      "4.05 OData.ipynb\n",
      "4.06 websockets.ipynb\n",
      "4.07 Creating UML diagrams with PlantUML.ipynb\n",
      "4.08 AsyncAPI.ipynb\n",
      "4.09 Apache Avro Data Serialization.ipynb\n",
      "4.10 gRPC.ipynb\n",
      "4.11 Zeep - wsdl.ipynb\n",
      "4.12 APIspec.ipynb\n",
      "4.12 XML schema (xsd).ipynb\n",
      "4.13 pytest & mock.ipynb\n",
      "4.14 JSON Schema.ipynb\n",
      "4.15 parsing openAPI specs.ipynb\n",
      "4.16 XML Element Tree.ipynb\n",
      "4.17 Pydantic data validation.ipynb\n",
      "4.18 Reverse Engineering the Petstore API (Medium article).ipynb\n",
      "4.19 Reverse Engineering Petstore OpenAPI spec.17 Reverse Engineering the Petstore OAS.ipynb\n",
      "5.03 Visualising audio - creating waveform, spectogram, mel specto with librosa.ipynb\n",
      "5.04 Another way to create a mel spectrogram.ipynb\n",
      "5.05 Fourier Transform & more audio visualisation (in progress).ipynb\n",
      "5.06 Real time audio visualizing.ipynb\n",
      "5.07 Energy and Sound Pressure Level.ipynb\n",
      "5.08 Audio Yamnet_visualisation (h5py dependency).ipynb\n",
      "5.09 Creating a Voice Assistant.ipynb\n",
      "5.10 Speech2text & Text2speech.ipynb\n",
      "5.11 Speech to text with Youtube and Twitter video's.ipynb\n",
      "5.13 Sound classification with YAMNet (works in colab not locally).ipynb\n",
      "5.14 Audio Classification with OpenL3 (needs h5py).ipynb\n",
      "5.15 TO DO Building a RNN for speech recognition.ipynb\n",
      "5.16 Transfer_learning_audio (works in Colab not local).ipynb\n",
      "5.17 recognize keywords with tensorflow.ipynb\n",
      "5.18 Torchopenl3.ipynb\n",
      "5.20 A_quick_start_guide_for_soundscape_IR.ipynb\n",
      "6.01 Python Forest map.ipynb\n",
      "6.02 Maps of Amsterdam.ipynb\n",
      "6.04 Pre-assignment AI café Michiel.ipynb\n",
      "6.05 Snoring.ipynb\n",
      "6.06 HRV logger app.ipynb\n",
      "6.07 Oura Sleep Data.ipynb\n",
      "6.07b Oura as a function.ipynb\n",
      "6.08 Pytesseract OCR Ukrainian (work in progress).ipynb\n",
      "6.09 Pytesseract 2 Sententie Bontenbal.ipynb\n",
      "6.10 WebRTC (basic).ipynb\n",
      "7.0 HvA oefeningen.ipynb\n",
      "Do. Or do not. There is no try.-BQ4yd2W50No.mkv\n",
      "Do. Or do not. There is no try.-BQ4yd2W50No.mp4\n",
      "Jay in Kyiv - Russians having a rough time holding Kherson.-1564190523849691139.mp4\n",
      "MQTT_steve.py\n",
      "OEtest_210505_youtube_traffic.csv\n",
      "OEtest_210506_youtubetraffic.csv\n",
      "OpenCV_rgb.png\n",
      "Pytesseract\n",
      "README.md\n",
      "Sample_audio.wav\n",
      "Snoring-data-2021-12-03 09_15_24.csv\n",
      "Snoring-data-2021-12-04 11_41_48.csv\n",
      "Snoring-data-2021-12-04 11_51_51.csv\n",
      "Snoring-data-2021-12-06 19_03_36.csv\n",
      "Snoring-data-2021-12-10 13_27_41.csv\n",
      "Snoring-data-2021-12-12 09_38_24.csv\n",
      "TTF.pdf\n",
      "UMTMVS.csv\n",
      "Untitled.ipynb\n",
      "Visegrád 24 - Ukrainian man finds a drunk Russian soldier.  Via @WarNewsPL1-1541178599918673927.mp4\n",
      "XML_file.txt\n",
      "__pycache__\n",
      "a_file.txt\n",
      "accounts.txt\n",
      "accounts2.txt\n",
      "amqp_receive.py\n",
      "amqp_send.py\n",
      "anatomy of an array.png\n",
      "avro_exmple.py\n",
      "buik3.jpg\n",
      "buik3.thumbnail\n",
      "claxon_1m.jpg\n",
      "claxon_1m.thumbnail\n",
      "claxon_1m.wav\n",
      "claxon_1m_log.jpg\n",
      "claxon_1m_log.thumbnail\n",
      "claxon_close.jpg\n",
      "claxon_close.thumbnail\n",
      "claxon_close.wav\n",
      "claxon_close_log.jpg\n",
      "claxon_close_log.thumbnail\n",
      "claxon_colorbar_log.jpg\n",
      "claxon_colorbar_log.thumbnail\n",
      "claxon_freesound.wav\n",
      "claxon_iphone.wav\n",
      "claxon_iphone_log.jpg\n",
      "claxon_iphone_log.thumbnail\n",
      "claxon_michiel.wav\n",
      "claxon_michiel_log.jpg\n",
      "claxon_michiel_log.thumbnail\n",
      "columns.xlsx\n",
      "curl\n",
      "data.yaml\n",
      "de_A\n",
      "demo.txt\n",
      "download (1).wget\n",
      "download.wget\n",
      "drop.avi\n",
      "edgeimpulse.json\n",
      "example.wav\n",
      "file.wav\n",
      "foo.csv\n",
      "haar_cascade_stop.xml\n",
      "haarcascade_frontalface_default.xml\n",
      "hello_world.xlsx\n",
      "hello_world_append.xlsx\n",
      "items.yaml\n",
      "keyword_model.zip\n",
      "leegmelden_plantuml.txt\n",
      "loudness.wav\n",
      "miaow_16k.wav\n",
      "movies.xml\n",
      "mqtt_open_ears_test.py\n",
      "mqtt_sub.py\n",
      "my-audio.wav\n",
      "my_test.wav\n",
      "my_wav.wav\n",
      "myenv\n",
      "mywav_reduced_noise.wav\n",
      "mywav_reduced_noise2.wav\n",
      "new_file.ogg\n",
      "new_file.wav\n",
      "newimage.jpg\n",
      "newimage.thumbnail\n",
      "newsegment.wav\n",
      "noise_add.wav\n",
      "note.xsd\n",
      "oe_wavs\n",
      "opencv.png\n",
      "out.pdf\n",
      "out.wav\n",
      "output.avi\n",
      "output.jpg\n",
      "output.mp4\n",
      "output.thumbnail\n",
      "output.wav\n",
      "person.json\n",
      "petstore_openapi3.json\n",
      "petstore_openapi3.yaml\n",
      "piano_c.wav\n",
      "pixellib\n",
      "pixellib_example.jpg\n",
      "pixellib_example.thumbnail\n",
      "plane.json\n",
      "plantuml.png\n",
      "plantuml.txt\n",
      "plantuml_complex.txt\n",
      "plantuml_complex2.txt\n",
      "plot.png\n",
      "recordedFile.wav\n",
      "requirements.txt\n",
      "road.jpg\n",
      "road.thumbnail\n",
      "road2.thumbnail\n",
      "robot0.wav\n",
      "robot1.wav\n",
      "robot2.wav\n",
      "robot3.wav\n",
      "rps\n",
      "rps-test-set\n",
      "save.pkl\n",
      "saved_keyword_model\n",
      "scatter.jpg\n",
      "scatter.thumbnail\n",
      "servers.txt\n",
      "silence.wav\n",
      "simple.xml\n",
      "simple.xsd\n",
      "sleep_df_oura_202112011-12.csv\n",
      "snoring_2021_12_3-4b.csv\n",
      "speech_whistling2.wav\n",
      "streamlit.py\n",
      "streamlit_example.py\n",
      "temp.mp3\n",
      "temp1.png\n",
      "tesseract_sample.jpeg\n",
      "test.wav\n",
      "test2.wav\n",
      "test3.wav\n",
      "thuis.jpg\n",
      "tone_220.wav\n",
      "tone_440.wav\n",
      "tranquilizer.py\n",
      "tutorial.ipynb\n",
      "untitled.txt\n",
      "user.avsc\n",
      "users.avro\n",
      "websocketbrowser.html\n",
      "websocketbrowser.py\n",
      "welcome.mp3\n",
      "welcome.wav\n",
      "world-happiness\n",
      "world-happiness11nnjglf.tmp\n",
      "world-happinesstjpjti8t.tmp\n",
      "world-happinesswfvezx54.tmp\n",
      "youtube-dl test video ''_ä↭𝕐-BaW_jenozKc.m4a\n",
      "youtube-dl test video ''_ä↭𝕐-BaW_jenozKc.mp4\n"
     ]
    }
   ],
   "source": [
    "# use linux command ls\n",
    "import os\n",
    "os.system('ls')"
   ]
  },
  {
   "cell_type": "code",
   "execution_count": null,
   "metadata": {},
   "outputs": [],
   "source": []
  },
  {
   "cell_type": "code",
   "execution_count": 3,
   "metadata": {
    "scrolled": true
   },
   "outputs": [
    {
     "name": "stdout",
     "output_type": "stream",
     "text": [
      "RGracht.234.567.890\n",
      ".wav\n"
     ]
    }
   ],
   "source": [
    "# a script to split name and extension of a file\n",
    "import glob, os\n",
    "\n",
    "pngs=glob.glob('*.png')\n",
    "infile = 'RGracht.234.567.890.wav'#pngs[0] #select first item in list\n",
    "file, ext = os.path.splitext(infile)\n",
    "#print(pngs[0]) #print first item in the list of png's\n",
    "print(file)\n",
    "print(ext)"
   ]
  },
  {
   "cell_type": "markdown",
   "metadata": {},
   "source": [
    "### 3b. Ping status with OS"
   ]
  },
  {
   "cell_type": "code",
   "execution_count": 17,
   "metadata": {},
   "outputs": [
    {
     "name": "stdout",
     "output_type": "stream",
     "text": [
      "PING 192.168.178.36 (192.168.178.36): 56 data bytes\n",
      "Request timeout for icmp_seq 0\n",
      "Request timeout for icmp_seq 1\n",
      "Request timeout for icmp_seq 2\n",
      "Request timeout for icmp_seq 3\n",
      "\n"
     ]
    },
    {
     "data": {
      "text/plain": [
       "'Network Error'"
      ]
     },
     "execution_count": 17,
     "metadata": {},
     "output_type": "execute_result"
    },
    {
     "name": "stdout",
     "output_type": "stream",
     "text": [
      "--- 192.168.178.36 ping statistics ---\n",
      "5 packets transmitted, 0 packets received, 100.0% packet loss\n"
     ]
    }
   ],
   "source": [
    "#For my raspberry\n",
    "import os\n",
    "response = os.system(\"ping 192.168.178.36\")\n",
    "if response == 0:\n",
    "    pingstatus = \"Network Active\"\n",
    "else:\n",
    "    pingstatus = \"Network Error\"\n",
    "pingstatus"
   ]
  },
  {
   "cell_type": "markdown",
   "metadata": {},
   "source": [
    "### 3c. OS Listdir\n",
    "Convert a OS listdir to a python list"
   ]
  },
  {
   "cell_type": "code",
   "execution_count": 13,
   "metadata": {},
   "outputs": [
    {
     "name": "stdout",
     "output_type": "stream",
     "text": [
      "['5.20 A_quick_start_guide_for_soundscape_IR.ipynb', '5.21 Analyzing the 8k Urban  Soundset.ipynb', 'my-audio.wav', 'mqtt_open_ears_test.py', 'movies.xml']\n"
     ]
    }
   ],
   "source": [
    "import os\n",
    "my_list= os.listdir('/Users/michielbontenbal/Documents/GitHub/Notebooks')\n",
    "print(my_list[0:5])"
   ]
  },
  {
   "cell_type": "markdown",
   "metadata": {},
   "source": [
    "### 3d. os.rename"
   ]
  },
  {
   "cell_type": "code",
   "execution_count": 31,
   "metadata": {},
   "outputs": [],
   "source": [
    "#rename one file\n",
    "import os\n",
    "\n",
    "# Absolute path of a file\n",
    "old_name = r\"accounts.txt\"\n",
    "new_name = r\"accounts2.txt\"\n",
    "\n",
    "# Renaming the file\n",
    "os.rename(old_name, new_name)"
   ]
  },
  {
   "cell_type": "code",
   "execution_count": null,
   "metadata": {},
   "outputs": [],
   "source": [
    "#rename multiple flies"
   ]
  },
  {
   "cell_type": "code",
   "execution_count": 53,
   "metadata": {},
   "outputs": [
    {
     "name": "stdout",
     "output_type": "stream",
     "text": [
      "mkdir: dummy: File exists\n",
      "/Users/michielbontenbal/Desktop/Notebooks/dummy\n"
     ]
    }
   ],
   "source": [
    "#create a new folder to store the new dummy text files\n",
    "%mkdir dummy\n",
    "%cd /Users/michielbontenbal/Desktop/Notebooks/dummy"
   ]
  },
  {
   "cell_type": "code",
   "execution_count": 46,
   "metadata": {},
   "outputs": [
    {
     "name": "stdout",
     "output_type": "stream",
     "text": [
      "['dummy[2].txt', 'dummy_2', 'dummy[0].txt', 'dummy[1].txt', 'dummy_1', 'dummy_0']\n"
     ]
    }
   ],
   "source": [
    "#create multiple empty files\n",
    "for i in range(0,3):\n",
    "    with open('dummy'+str([i])+'.txt', 'w') as f:\n",
    "        f.write('new textfile')\n",
    "print(os.listdir())"
   ]
  },
  {
   "cell_type": "code",
   "execution_count": 49,
   "metadata": {},
   "outputs": [
    {
     "name": "stdout",
     "output_type": "stream",
     "text": [
      "['dummy_2', 'dummy_1', 'dummy_0']\n"
     ]
    }
   ],
   "source": [
    "#rename for a list of files\n",
    "from glob import glob\n",
    "my_txts = glob(\"*.txt\")\n",
    "my_txts\n",
    "for i in range(len(my_txts)):\n",
    "    os.rename(my_txts[i],'dummy_'+str(i))\n",
    "print(os.listdir())"
   ]
  },
  {
   "cell_type": "code",
   "execution_count": 8,
   "metadata": {},
   "outputs": [
    {
     "name": "stdout",
     "output_type": "stream",
     "text": [
      "['dummy', 'dummy_2', 'dummy_1', 'dummy_0']\n"
     ]
    }
   ],
   "source": [
    "import os\n",
    "\n",
    "filesRename = ['dummy_1.txt', 'dummy_2.txt', 'dummy_3.txt',]\n",
    "folder = r\"/Users/michielbontenbal/Desktop/Notebooks/dummy\"\n",
    "\n",
    "# Iterate\n",
    "for file in os.listdir(folder):\n",
    "    # Checking if the file is present in the list\n",
    "    if file in filesRename:\n",
    "        oldName = os.path.join(folder, file)\n",
    "        n = os.path.splitext(file)[0]\n",
    "\n",
    "        b = n + '_new' + '.txt'\n",
    "        newName = os.path.join(folder, b)\n",
    "\n",
    "        # Rename the file\n",
    "        os.rename(oldName, newName)\n",
    "\n",
    "res = os.listdir(folder)\n",
    "print(res)"
   ]
  },
  {
   "cell_type": "code",
   "execution_count": 9,
   "metadata": {},
   "outputs": [
    {
     "name": "stdout",
     "output_type": "stream",
     "text": [
      "\u001b[34mdummy\u001b[m\u001b[m   dummy_0 dummy_1 dummy_2\r\n"
     ]
    }
   ],
   "source": [
    "!cd dummy && ls"
   ]
  },
  {
   "cell_type": "markdown",
   "metadata": {},
   "source": [
    "## 4. Setting environment variable to store passwords etc\n",
    "\n",
    "source: https://medium.com/dataseries/hiding-secret-info-in-python-using-environment-variables-a2bab182eea"
   ]
  },
  {
   "cell_type": "code",
   "execution_count": 18,
   "metadata": {
    "scrolled": false
   },
   "outputs": [
    {
     "name": "stdout",
     "output_type": "stream",
     "text": [
      "User's Environment variable:\n"
     ]
    }
   ],
   "source": [
    "# source: https://www.geeksforgeeks.org/python-os-environ-object/\n",
    "# Python program to explain os.environ object \n",
    "  \n",
    "# importing os module \n",
    "import os\n",
    "import pprint\n",
    "  \n",
    "# Get the list of user's\n",
    "# environment variables\n",
    "env_var = os.environ\n",
    "  \n",
    "# Print the list of user's\n",
    "# environment variables\n",
    "print(\"User's Environment variable:\")\n",
    "#pprint.pprint(dict(env_var), width = 1)"
   ]
  },
  {
   "cell_type": "code",
   "execution_count": 16,
   "metadata": {},
   "outputs": [
    {
     "name": "stdout",
     "output_type": "stream",
     "text": [
      "None None\n"
     ]
    }
   ],
   "source": [
    "#https://dev.to/biplov/handling-passwords-and-secret-keys-using-environment-variables-2ei0\n",
    "\n",
    "#first, go to system properties, then set an 'environmental variable'. Note: NOT WORKING in my Jupyter NB.\n",
    "\n",
    "import os \n",
    "user_name = os.environ.get('sensemakers')\n",
    "password = os.environ.get('password')\n",
    "\n",
    "print(user_name, password)"
   ]
  },
  {
   "cell_type": "code",
   "execution_count": 19,
   "metadata": {},
   "outputs": [],
   "source": [
    "#source: https://able.bio/rhett/how-to-set-and-get-environment-variables-in-python--274rgt5\n",
    "#Set the environmental Password\n",
    "import os\n",
    "os.environ['API_USER'] = 'Michiel' #but don't keep it in your source code :-)"
   ]
  },
  {
   "cell_type": "code",
   "execution_count": 20,
   "metadata": {},
   "outputs": [
    {
     "name": "stdout",
     "output_type": "stream",
     "text": [
      "Michiel\n"
     ]
    }
   ],
   "source": [
    "#getting that environmental variable:\n",
    "import os\n",
    "#api_user = os.environ.get('API_USER')\n",
    "print(os.environ.get('API_USER'))"
   ]
  },
  {
   "cell_type": "code",
   "execution_count": 21,
   "metadata": {},
   "outputs": [
    {
     "name": "stdout",
     "output_type": "stream",
     "text": [
      "Michiel\n"
     ]
    }
   ],
   "source": [
    "print(os.getenv('API_USER'))"
   ]
  },
  {
   "cell_type": "markdown",
   "metadata": {},
   "source": [
    "## 5. Dropbox"
   ]
  },
  {
   "cell_type": "code",
   "execution_count": 4,
   "metadata": {},
   "outputs": [
    {
     "name": "stdout",
     "output_type": "stream",
     "text": [
      "Collecting dropbox\n",
      "  Downloading dropbox-11.2.0-py3-none-any.whl (555 kB)\n",
      "Collecting stone>=2.*\n",
      "  Downloading stone-3.2.1-py3-none-any.whl (160 kB)\n",
      "Requirement already satisfied: requests>=2.16.2 in c:\\users\\31653\\anaconda3\\lib\\site-packages (from dropbox) (2.24.0)\n",
      "Requirement already satisfied: six>=1.12.0 in c:\\users\\31653\\anaconda3\\lib\\site-packages (from dropbox) (1.12.0)\n",
      "Requirement already satisfied: ply>=3.4 in c:\\users\\31653\\anaconda3\\lib\\site-packages (from stone>=2.*->dropbox) (3.11)\n",
      "Requirement already satisfied: idna<3,>=2.5 in c:\\users\\31653\\anaconda3\\lib\\site-packages (from requests>=2.16.2->dropbox) (2.10)\n",
      "Requirement already satisfied: chardet<4,>=3.0.2 in c:\\users\\31653\\anaconda3\\lib\\site-packages (from requests>=2.16.2->dropbox) (3.0.4)\n",
      "Requirement already satisfied: certifi>=2017.4.17 in c:\\users\\31653\\anaconda3\\lib\\site-packages (from requests>=2.16.2->dropbox) (2020.6.20)\n",
      "Requirement already satisfied: urllib3!=1.25.0,!=1.25.1,<1.26,>=1.21.1 in c:\\users\\31653\\anaconda3\\lib\\site-packages (from requests>=2.16.2->dropbox) (1.25.11)\n",
      "Installing collected packages: stone, dropbox\n",
      "Successfully installed dropbox-11.2.0 stone-3.2.1\n",
      "Note: you may need to restart the kernel to use updated packages.\n"
     ]
    }
   ],
   "source": [
    "%pip install dropbox"
   ]
  },
  {
   "cell_type": "code",
   "execution_count": null,
   "metadata": {},
   "outputs": [],
   "source": [
    "#!/usr/bin/env python3\n",
    "\n",
    "import dropbox\n",
    "from dropbox import DropboxOAuth2FlowNoRedirect\n",
    "\n",
    "'''\n",
    "Populate your app key in order to run this locally\n",
    "'''\n",
    "APP_KEY = \n",
    "\n",
    "auth_flow = DropboxOAuth2FlowNoRedirect(APP_KEY, use_pkce=True, token_access_type='offline')\n",
    "\n",
    "authorize_url = auth_flow.start()\n",
    "print(\"1. Go to: \" + authorize_url)\n",
    "print(\"2. Click \\\"Allow\\\" (you might have to log in first).\")\n",
    "print(\"3. Copy the authorization code.\")\n",
    "auth_code = input(\"Enter the authorization code here: \").strip()\n",
    "\n",
    "try:\n",
    "    oauth_result = auth_flow.finish(auth_code)\n",
    "except Exception as e:\n",
    "    print('Error: %s' % (e,))\n",
    "    exit(1)\n",
    "\n",
    "with dropbox.Dropbox(oauth2_refresh_token=oauth_result.refresh_token, app_key=APP_KEY) as dbx:\n",
    "    dbx.users_get_current_account()\n",
    "    print(\"Successfully set up client!\")"
   ]
  },
  {
   "cell_type": "markdown",
   "metadata": {},
   "source": [
    "## 6. Copying files with shutil\n",
    "source: https://towardsdatascience.com/copy-files-python-ad17998264db"
   ]
  },
  {
   "cell_type": "code",
   "execution_count": 5,
   "metadata": {},
   "outputs": [
    {
     "name": "stdout",
     "output_type": "stream",
     "text": [
      "['demo.txt', 'XML_file.txt', 'requirements.txt', 'plantuml_complex2.txt', 'servers.txt', 'leegmelden_plantuml.txt', 'NOAA_data.txt', 'accounts2.txt', 'untitled.txt', 'accounts.txt', 'plantuml.txt', 'a_file.txt', 'plantuml_complex.txt']\n"
     ]
    }
   ],
   "source": [
    "from glob import glob\n",
    "my_txts = glob('*.txt')\n",
    "print(my_txts)"
   ]
  },
  {
   "cell_type": "code",
   "execution_count": 15,
   "metadata": {},
   "outputs": [],
   "source": [
    "# create a new dir\n",
    "import os\n",
    "os.mkdir('test')\n",
    "#os. rmdir('test') "
   ]
  },
  {
   "cell_type": "code",
   "execution_count": 16,
   "metadata": {},
   "outputs": [
    {
     "data": {
      "text/plain": [
       "'test/accounts.txt'"
      ]
     },
     "execution_count": 16,
     "metadata": {},
     "output_type": "execute_result"
    }
   ],
   "source": [
    "import shutil\n",
    "# Copy file example.txt into a new file called example_copy.txt\n",
    "#shutil.copy('accounts.txt', 'accounts_copy.txt')\n",
    "# Copy file example.txt into directory test/\n",
    "shutil.copy('accounts.txt', 'test/')"
   ]
  },
  {
   "cell_type": "code",
   "execution_count": 21,
   "metadata": {},
   "outputs": [
    {
     "ename": "FileNotFoundError",
     "evalue": "[WinError 3] The system cannot find the path specified: '/test/accounts.txt'",
     "output_type": "error",
     "traceback": [
      "\u001b[1;31m---------------------------------------------------------------------------\u001b[0m",
      "\u001b[1;31mFileNotFoundError\u001b[0m                         Traceback (most recent call last)",
      "\u001b[1;32m~\\AppData\\Local\\Temp/ipykernel_33252/3110104584.py\u001b[0m in \u001b[0;36m<module>\u001b[1;34m\u001b[0m\n\u001b[0;32m      2\u001b[0m \u001b[1;32mimport\u001b[0m \u001b[0mos\u001b[0m\u001b[1;33m\u001b[0m\u001b[1;33m\u001b[0m\u001b[0m\n\u001b[0;32m      3\u001b[0m \u001b[1;31m#os. remove('accounts_copy.txt')\u001b[0m\u001b[1;33m\u001b[0m\u001b[1;33m\u001b[0m\u001b[1;33m\u001b[0m\u001b[0m\n\u001b[1;32m----> 4\u001b[1;33m \u001b[0mos\u001b[0m\u001b[1;33m.\u001b[0m\u001b[0mremove\u001b[0m\u001b[1;33m(\u001b[0m\u001b[1;34m'/test/accounts.txt'\u001b[0m\u001b[1;33m)\u001b[0m\u001b[1;33m\u001b[0m\u001b[1;33m\u001b[0m\u001b[0m\n\u001b[0m",
      "\u001b[1;31mFileNotFoundError\u001b[0m: [WinError 3] The system cannot find the path specified: '/test/accounts.txt'"
     ]
    }
   ],
   "source": [
    "#and use this to remove the item\n",
    "import os\n",
    "#os. remove('accounts_copy.txt')\n",
    "os.remove('/test/accounts.txt')"
   ]
  },
  {
   "cell_type": "code",
   "execution_count": 29,
   "metadata": {},
   "outputs": [
    {
     "data": {
      "text/plain": [
       "'C:\\\\Users\\\\31653\\\\Desktop\\\\DeAlliantie\\\\wsdl\\\\ax-woningnet.wsdl'"
      ]
     },
     "execution_count": 29,
     "metadata": {},
     "output_type": "execute_result"
    }
   ],
   "source": [
    "# Just put r before your normal string it converts normal string to raw string:\n",
    "import shutil\n",
    "shutil.copy(r'C:\\Users\\31653\\Desktop\\DeAlliantie\\ax-woningnet.wsdl', r'C:\\Users\\31653\\Desktop\\DeAlliantie\\wsdl\\ax-woningnet.wsdl')"
   ]
  },
  {
   "cell_type": "markdown",
   "metadata": {},
   "source": [
    "## 7. PS Util to get things like battery status"
   ]
  },
  {
   "cell_type": "code",
   "execution_count": 20,
   "metadata": {},
   "outputs": [
    {
     "data": {
      "text/plain": [
       "sbattery(percent=79, secsleft=21720, power_plugged=False)"
      ]
     },
     "execution_count": 20,
     "metadata": {},
     "output_type": "execute_result"
    }
   ],
   "source": [
    "#!/usr/bin/env python\n",
    "import psutil\n",
    "# gives a single float value\n",
    "#psutil.cpu_percent()\n",
    "psutil.sensors_battery()"
   ]
  },
  {
   "cell_type": "code",
   "execution_count": null,
   "metadata": {},
   "outputs": [],
   "source": []
  },
  {
   "cell_type": "code",
   "execution_count": null,
   "metadata": {},
   "outputs": [],
   "source": []
  }
 ],
 "metadata": {
  "kernelspec": {
   "display_name": "Python 3 (ipykernel)",
   "language": "python",
   "name": "python3"
  },
  "language_info": {
   "codemirror_mode": {
    "name": "ipython",
    "version": 3
   },
   "file_extension": ".py",
   "mimetype": "text/x-python",
   "name": "python",
   "nbconvert_exporter": "python",
   "pygments_lexer": "ipython3",
   "version": "3.9.12"
  }
 },
 "nbformat": 4,
 "nbformat_minor": 2
}
