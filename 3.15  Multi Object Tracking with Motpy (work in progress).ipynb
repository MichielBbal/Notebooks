{
 "cells": [
  {
   "cell_type": "markdown",
   "metadata": {},
   "source": [
    "# Motpy - Multi Object Tracking python library\n",
    "\n",
    "source: https://github.com/wmuron/motpy"
   ]
  },
  {
   "cell_type": "code",
   "execution_count": 1,
   "metadata": {},
   "outputs": [
    {
     "name": "stdout",
     "output_type": "stream",
     "text": [
      "Requirement already satisfied: motpy in /Users/michielbontenbal/opt/anaconda3/lib/python3.9/site-packages (0.0.10)\n",
      "Requirement already satisfied: scipy in /Users/michielbontenbal/opt/anaconda3/lib/python3.9/site-packages (from motpy) (1.7.3)\n",
      "Requirement already satisfied: filterpy in /Users/michielbontenbal/opt/anaconda3/lib/python3.9/site-packages (from motpy) (1.4.5)\n",
      "Requirement already satisfied: numpy in /Users/michielbontenbal/opt/anaconda3/lib/python3.9/site-packages (from motpy) (1.21.5)\n",
      "Requirement already satisfied: matplotlib in /Users/michielbontenbal/opt/anaconda3/lib/python3.9/site-packages (from filterpy->motpy) (3.5.1)\n",
      "Requirement already satisfied: cycler>=0.10 in /Users/michielbontenbal/opt/anaconda3/lib/python3.9/site-packages (from matplotlib->filterpy->motpy) (0.11.0)\n",
      "Requirement already satisfied: kiwisolver>=1.0.1 in /Users/michielbontenbal/opt/anaconda3/lib/python3.9/site-packages (from matplotlib->filterpy->motpy) (1.3.2)\n",
      "Requirement already satisfied: pillow>=6.2.0 in /Users/michielbontenbal/opt/anaconda3/lib/python3.9/site-packages (from matplotlib->filterpy->motpy) (9.0.1)\n",
      "Requirement already satisfied: fonttools>=4.22.0 in /Users/michielbontenbal/opt/anaconda3/lib/python3.9/site-packages (from matplotlib->filterpy->motpy) (4.25.0)\n",
      "Requirement already satisfied: python-dateutil>=2.7 in /Users/michielbontenbal/opt/anaconda3/lib/python3.9/site-packages (from matplotlib->filterpy->motpy) (2.8.2)\n",
      "Requirement already satisfied: pyparsing>=2.2.1 in /Users/michielbontenbal/opt/anaconda3/lib/python3.9/site-packages (from matplotlib->filterpy->motpy) (3.0.4)\n",
      "Requirement already satisfied: packaging>=20.0 in /Users/michielbontenbal/opt/anaconda3/lib/python3.9/site-packages (from matplotlib->filterpy->motpy) (21.3)\n",
      "Requirement already satisfied: six>=1.5 in /Users/michielbontenbal/opt/anaconda3/lib/python3.9/site-packages (from python-dateutil>=2.7->matplotlib->filterpy->motpy) (1.16.0)\n",
      "Note: you may need to restart the kernel to use updated packages.\n"
     ]
    }
   ],
   "source": [
    "pip install motpy"
   ]
  },
  {
   "cell_type": "code",
   "execution_count": 2,
   "metadata": {},
   "outputs": [
    {
     "name": "stdout",
     "output_type": "stream",
     "text": [
      "MOT tracker tracks 1 objects\n",
      "first track box: [ 2.  2. 11. 11.]\n",
      "MOT tracker tracks 1 objects\n",
      "first track box: [ 2.99901088  2.99901088 11.99901088 11.99901088]\n",
      "MOT tracker tracks 1 objects\n",
      "first track box: [ 3.91691422  3.91691422 12.91691422 12.91691422]\n",
      "MOT tracker tracks 1 objects\n",
      "first track box: [ 4.9525471  4.9525471 13.9525471 13.9525471]\n",
      "MOT tracker tracks 1 objects\n",
      "first track box: [ 5.97081149  5.97081149 14.97081149 14.97081149]\n",
      "MOT tracker tracks 1 objects\n",
      "first track box: [ 6.98054798  6.98054798 15.98054798 15.98054798]\n",
      "MOT tracker tracks 1 objects\n",
      "first track box: [ 7.98632081  7.98632081 16.98632081 16.98632081]\n",
      "MOT tracker tracks 1 objects\n",
      "first track box: [ 8.99006256  8.99006256 17.99006256 17.99006256]\n",
      "MOT tracker tracks 1 objects\n",
      "first track box: [ 9.99266608  9.99266608 18.99266608 18.99266608]\n",
      "MOT tracker tracks 1 objects\n",
      "first track box: [10.99457982 10.99457982 19.99457982 19.99457982]\n"
     ]
    }
   ],
   "source": [
    "import numpy as np\n",
    "\n",
    "from motpy import Detection, MultiObjectTracker\n",
    "\n",
    "# create a simple bounding box with format of [xmin, ymin, xmax, ymax]\n",
    "object_box = np.array([1, 1, 10, 10])\n",
    "\n",
    "# create a multi object tracker with a specified step time of 100ms\n",
    "tracker = MultiObjectTracker(dt=0.1)\n",
    "\n",
    "for step in range(10):\n",
    "    # let's simulate object movement by 1 unit (e.g. pixel)\n",
    "    object_box += 1\n",
    "\n",
    "    # update the state of the multi-object-tracker tracker\n",
    "    # with the list of bounding boxes\n",
    "    tracker.step(detections=[Detection(box=object_box)])\n",
    "\n",
    "    # retrieve the active tracks from the tracker (you can customize\n",
    "    # the hyperparameters of tracks filtering by passing extra arguments)\n",
    "    tracks = tracker.active_tracks()\n",
    "\n",
    "    print('MOT tracker tracks %d objects' % len(tracks))\n",
    "    print('first track box: %s' % str(tracks[0].box))"
   ]
  },
  {
   "cell_type": "code",
   "execution_count": null,
   "metadata": {},
   "outputs": [],
   "source": []
  },
  {
   "cell_type": "code",
   "execution_count": null,
   "metadata": {},
   "outputs": [],
   "source": []
  }
 ],
 "metadata": {
  "kernelspec": {
   "display_name": "Python 3 (ipykernel)",
   "language": "python",
   "name": "python3"
  },
  "language_info": {
   "codemirror_mode": {
    "name": "ipython",
    "version": 3
   },
   "file_extension": ".py",
   "mimetype": "text/x-python",
   "name": "python",
   "nbconvert_exporter": "python",
   "pygments_lexer": "ipython3",
   "version": "3.9.12"
  }
 },
 "nbformat": 4,
 "nbformat_minor": 4
}
