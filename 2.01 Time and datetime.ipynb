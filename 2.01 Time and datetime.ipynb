{
 "cells": [
  {
   "cell_type": "markdown",
   "metadata": {},
   "source": [
    "# Working with time\n",
    "\n",
    "## Contents\n",
    "1. Unix time to normal time\n",
    "2. Datetime\n",
    "3. Datetime calculations with strptime and dateutil"
   ]
  },
  {
   "cell_type": "markdown",
   "metadata": {},
   "source": [
    "## 1. Unix time to normal time"
   ]
  },
  {
   "cell_type": "code",
   "execution_count": 1,
   "metadata": {},
   "outputs": [
    {
     "name": "stdout",
     "output_type": "stream",
     "text": [
      "2007-03-04 01:46:43.100000\n"
     ]
    }
   ],
   "source": [
    "from datetime import datetime\n",
    "x= datetime.fromtimestamp(1172969203.1)\n",
    "#datetime.datetime(2007, 3, 4, 0, 46, 43, 100000)\n",
    "print(x)"
   ]
  },
  {
   "cell_type": "markdown",
   "metadata": {},
   "source": [
    "## 2. Some other time calculations"
   ]
  },
  {
   "cell_type": "code",
   "execution_count": 2,
   "metadata": {},
   "outputs": [
    {
     "name": "stdout",
     "output_type": "stream",
     "text": [
      "2021-12-16 07:45:20.335248\n"
     ]
    }
   ],
   "source": [
    "from datetime import datetime\n",
    "#print current local date and time\n",
    "now = datetime.now()\n",
    "a = print(now)\n",
    "a"
   ]
  },
  {
   "cell_type": "code",
   "execution_count": 3,
   "metadata": {},
   "outputs": [
    {
     "name": "stdout",
     "output_type": "stream",
     "text": [
      "2021-12-16 06:49:37.354791\n"
     ]
    }
   ],
   "source": [
    "# print current utc time\n",
    "utc_now = datetime.utcnow()\n",
    "print(utc_now)"
   ]
  },
  {
   "cell_type": "code",
   "execution_count": 4,
   "metadata": {},
   "outputs": [
    {
     "name": "stdout",
     "output_type": "stream",
     "text": [
      "2021-12-16\n"
     ]
    }
   ],
   "source": [
    "from datetime import date\n",
    "datum =date.today()\n",
    "print(datum)"
   ]
  },
  {
   "cell_type": "code",
   "execution_count": 6,
   "metadata": {},
   "outputs": [
    {
     "data": {
      "text/plain": [
       "'05 November 2021'"
      ]
     },
     "execution_count": 6,
     "metadata": {},
     "output_type": "execute_result"
    }
   ],
   "source": [
    "from datetime import date\n",
    "date.today().strftime('%d %B %Y')"
   ]
  },
  {
   "cell_type": "code",
   "execution_count": 5,
   "metadata": {},
   "outputs": [
    {
     "name": "stdout",
     "output_type": "stream",
     "text": [
      "0:00:03.014802\n"
     ]
    }
   ],
   "source": [
    "from datetime import datetime\n",
    "from time import sleep\n",
    "starttime = datetime.now()\n",
    "sleep(3)\n",
    "endtime = datetime.now()\n",
    "diff=endtime-starttime\n",
    "print(diff)"
   ]
  },
  {
   "cell_type": "code",
   "execution_count": 6,
   "metadata": {},
   "outputs": [
    {
     "name": "stdout",
     "output_type": "stream",
     "text": [
      "None\n"
     ]
    }
   ],
   "source": [
    "tz=datetime.tzname(now)\n",
    "print(tz)"
   ]
  },
  {
   "cell_type": "code",
   "execution_count": 7,
   "metadata": {},
   "outputs": [
    {
     "name": "stdout",
     "output_type": "stream",
     "text": [
      "3\n"
     ]
    }
   ],
   "source": [
    "# returns the weekday, starting with 0 on Monday and 6 on Sunday\n",
    "day=datetime.weekday(now)\n",
    "print(day)"
   ]
  },
  {
   "cell_type": "code",
   "execution_count": 8,
   "metadata": {},
   "outputs": [
    {
     "name": "stdout",
     "output_type": "stream",
     "text": [
      "(2021, 50, 4)\n"
     ]
    }
   ],
   "source": [
    "# isocalender\n",
    "iso_cal = datetime.isocalendar(now)\n",
    "print(iso_cal)"
   ]
  },
  {
   "cell_type": "code",
   "execution_count": 9,
   "metadata": {},
   "outputs": [
    {
     "name": "stdout",
     "output_type": "stream",
     "text": [
      "2021-12-16T07:45:20.335248\n"
     ]
    }
   ],
   "source": [
    "isoformat = datetime.isoformat(now)\n",
    "print(isoformat)"
   ]
  },
  {
   "cell_type": "code",
   "execution_count": 14,
   "metadata": {},
   "outputs": [
    {
     "name": "stdout",
     "output_type": "stream",
     "text": [
      "2021-12-16 07:00:56.611891+00:00\n",
      "2021-12-16 07:00:56.611891\n"
     ]
    }
   ],
   "source": [
    "from datetime import datetime, timezone\n",
    " \n",
    "# Get the datetime object with timezone\n",
    "# information\n",
    "dt_obj_w_tz = datetime.now(tz=timezone.utc)\n",
    "print(dt_obj_w_tz)\n",
    " \n",
    "# Remove the timezone information from the\n",
    "# datetime object\n",
    "dt_obj_wo_tz = dt_obj_w_tz.replace(tzinfo=None)\n",
    "print(dt_obj_wo_tz)"
   ]
  },
  {
   "cell_type": "markdown",
   "metadata": {},
   "source": [
    "## 3. Calculations with time (.timedelta)\n",
    "\n",
    "source: https://www.kite.com/python/answers/how-to-add-time-onto-a-datetime-object-in-python"
   ]
  },
  {
   "cell_type": "code",
   "execution_count": 12,
   "metadata": {},
   "outputs": [
    {
     "name": "stdout",
     "output_type": "stream",
     "text": [
      "2020-02-19 12:00:00\n"
     ]
    }
   ],
   "source": [
    "import datetime\n",
    "date_and_time = datetime.datetime(2020, 2, 19, 12, 0, 0)\n",
    "print(date_and_time)"
   ]
  },
  {
   "cell_type": "code",
   "execution_count": 13,
   "metadata": {},
   "outputs": [
    {
     "name": "stdout",
     "output_type": "stream",
     "text": [
      "2020-02-19 12:05:00\n"
     ]
    }
   ],
   "source": [
    "time_change = datetime.timedelta(minutes=5)\n",
    "new_time = date_and_time+ time_change\n",
    "print(new_time)"
   ]
  },
  {
   "cell_type": "code",
   "execution_count": 5,
   "metadata": {},
   "outputs": [
    {
     "name": "stdout",
     "output_type": "stream",
     "text": [
      "2020-02-19 12:05:00\n",
      "2020-02-19 12:10:00\n",
      "2020-02-19 12:15:00\n",
      "2020-02-19 12:20:00\n",
      "2020-02-19 12:25:00\n"
     ]
    }
   ],
   "source": [
    "import datetime\n",
    "# now the above for a list of \n",
    "my_list=[1,2,3,4,5]\n",
    "time_change = datetime.timedelta(minutes=5)\n",
    "new_time = date_and_time \n",
    "for i in range(len(my_list)):\n",
    "    new_time = new_time + time_change\n",
    "    print(new_time)"
   ]
  },
  {
   "cell_type": "code",
   "execution_count": 10,
   "metadata": {},
   "outputs": [
    {
     "name": "stdout",
     "output_type": "stream",
     "text": [
      "2022-01-10\n"
     ]
    }
   ],
   "source": [
    "import datetime\n",
    "today = datetime.date.today()\n",
    "\n",
    "yesterday = today - datetime.timedelta(days=1)\n",
    "\n",
    "print(yesterday)"
   ]
  },
  {
   "cell_type": "code",
   "execution_count": 26,
   "metadata": {},
   "outputs": [
    {
     "name": "stdout",
     "output_type": "stream",
     "text": [
      "['2022-01-11', '2022-01-10', '2022-01-09', '2022-01-08', '2022-01-07', '2022-01-06', '2022-01-05']\n",
      "['2022-01-10', '2022-01-09', '2022-01-08', '2022-01-07', '2022-01-06', '2022-01-05', '2022-01-04']\n"
     ]
    }
   ],
   "source": [
    "import datetime\n",
    "today = datetime.date.today()\n",
    "lastweek_start = []\n",
    "lastweek_end =[]\n",
    "for i in range(7):\n",
    "    end_date = today - datetime.timedelta(days=i)\n",
    "    start_date = today - datetime.timedelta(days=i+1)\n",
    "    lastweek_end.append(str(end_date))\n",
    "    lastweek_start.append(str(start_date))\n",
    "print(lastweek_end)\n",
    "print(lastweek_start)"
   ]
  },
  {
   "cell_type": "code",
   "execution_count": 9,
   "metadata": {},
   "outputs": [
    {
     "ename": "TypeError",
     "evalue": "unsupported operand type(s) for -: 'builtin_function_or_method' and 'datetime.timedelta'",
     "output_type": "error",
     "traceback": [
      "\u001b[1;31m---------------------------------------------------------------------------\u001b[0m",
      "\u001b[1;31mTypeError\u001b[0m                                 Traceback (most recent call last)",
      "\u001b[1;32m~\\AppData\\Local\\Temp/ipykernel_39252/1145749191.py\u001b[0m in \u001b[0;36m<module>\u001b[1;34m\u001b[0m\n\u001b[1;32m----> 1\u001b[1;33m \u001b[0myesterday\u001b[0m \u001b[1;33m=\u001b[0m \u001b[0mtoday\u001b[0m \u001b[1;33m-\u001b[0m \u001b[0mdatetime\u001b[0m\u001b[1;33m.\u001b[0m\u001b[0mtimedelta\u001b[0m\u001b[1;33m(\u001b[0m\u001b[0mdays\u001b[0m\u001b[1;33m=\u001b[0m\u001b[1;36m1\u001b[0m\u001b[1;33m)\u001b[0m\u001b[1;33m\u001b[0m\u001b[1;33m\u001b[0m\u001b[0m\n\u001b[0m",
      "\u001b[1;31mTypeError\u001b[0m: unsupported operand type(s) for -: 'builtin_function_or_method' and 'datetime.timedelta'"
     ]
    }
   ],
   "source": [
    "yesterday = today - datetime.timedelta(days=1)"
   ]
  },
  {
   "cell_type": "code",
   "execution_count": null,
   "metadata": {},
   "outputs": [],
   "source": []
  }
 ],
 "metadata": {
  "kernelspec": {
   "display_name": "Python 3 (ipykernel)",
   "language": "python",
   "name": "python3"
  },
  "language_info": {
   "codemirror_mode": {
    "name": "ipython",
    "version": 3
   },
   "file_extension": ".py",
   "mimetype": "text/x-python",
   "name": "python",
   "nbconvert_exporter": "python",
   "pygments_lexer": "ipython3",
   "version": "3.8.5"
  }
 },
 "nbformat": 4,
 "nbformat_minor": 4
}
