{
 "cells": [
  {
   "cell_type": "markdown",
   "id": "f86a33ab",
   "metadata": {},
   "source": [
    "## Notebook to see of an object or attribute is in VERA\n",
    "\n",
    "- 0. Dummy example\n",
    "- 1. One item in one json\n",
    "- 2. One item in all json files\n",
    "- 3. A list of items in all json files\n",
    "\n",
    "### Short instruction\n",
    "\n",
    "Take an attribute, object or list of/file with objects/attributes and check whether each element is in vera.\n",
    "\n",
    "### To do"
   ]
  },
  {
   "cell_type": "markdown",
   "id": "2c0b1a1f",
   "metadata": {},
   "source": [
    "## 0. Dummy example"
   ]
  },
  {
   "cell_type": "code",
   "execution_count": 1,
   "id": "410247fe",
   "metadata": {},
   "outputs": [
    {
     "name": "stdout",
     "output_type": "stream",
     "text": [
      "Vincent\n"
     ]
    }
   ],
   "source": [
    "data =  { \"SA4784\" : {\"name\": \"Mark\", \"birthdate\": None},\n",
    "          \"V410Z8\" : { \"name\": \"Vincent\", \"birthdate\": \"15/02/1989\"},\n",
    "          \"CZ1094\" : {\"name\": \"Paul\", \"birthdate\": \"27/09/1994\"}\n",
    "        }\n",
    "try:\n",
    "    print(data[\"V410Z8\"][\"name\"])\n",
    "except KeyError:\n",
    "    print(\"ID doesn't exist\")"
   ]
  },
  {
   "cell_type": "markdown",
   "id": "c32f32c8",
   "metadata": {},
   "source": [
    "## 1. One item in one json\n",
    "\n",
    "Object: Eenheid\n",
    "JSON: Vastgoed API"
   ]
  },
  {
   "cell_type": "code",
   "execution_count": 2,
   "id": "0e67626f",
   "metadata": {},
   "outputs": [
    {
     "data": {
      "text/plain": [
       "['VERA-Dossier_API_objecten.json',\n",
       " 'VERA-Financien_API_objecten.json',\n",
       " 'VERA-Kwaliteit_API_objecten.json',\n",
       " 'VERA-Onderhoud_API_objecten.json',\n",
       " 'VERA-Overeenkomsten_API_objecten.json',\n",
       " 'VERA-Projectontwikkeling_API_objecten.json',\n",
       " 'VERA-Relaties_API_objecten.json',\n",
       " 'VERA-Vastgoed_API_data.json',\n",
       " 'VERA-Woonruimteverdeling_API_objecten.json']"
      ]
     },
     "execution_count": 2,
     "metadata": {},
     "output_type": "execute_result"
    }
   ],
   "source": [
    "# Load the json files that are created by reverse engineering the VERA API's.\n",
    "import glob\n",
    "my_jsons = glob.glob(\"*.json\")\n",
    "my_jsons"
   ]
  },
  {
   "cell_type": "code",
   "execution_count": 3,
   "id": "87d344bf",
   "metadata": {},
   "outputs": [
    {
     "name": "stdout",
     "output_type": "stream",
     "text": [
      "object is in json: VERA-Vastgoed_API_data.json\n",
      "object is in json: VERA-Vastgoed_API_data.json\n"
     ]
    }
   ],
   "source": [
    "# load the json into a python dictionary\n",
    "import json\n",
    "\n",
    "#object_to_check = 'Eenheid'\n",
    "object_to_check = 'detailStatus'\n",
    "\n",
    "with open('VERA-Vastgoed_API_data.json') as json_file:\n",
    "    data = json.load(json_file)\n",
    "#convert to a dict   \n",
    "my_dict = json.loads(data)\n",
    "my_key_list =[]\n",
    "for key in my_dict.keys():\n",
    "    my_key_list.append(key)\n",
    "if object_to_check in my_key_list:\n",
    "    print('object to check is object in json')\n",
    "my_value_list =[]\n",
    "for value in my_dict.values():\n",
    "    my_value_list.append(value)\n",
    "\n",
    "for i in range (len(my_value_list)):\n",
    "    if object_to_check in my_value_list[i]:\n",
    "        print('object is in json: '+str(json_file.name))"
   ]
  },
  {
   "cell_type": "code",
   "execution_count": 10,
   "id": "0b74c7c2",
   "metadata": {},
   "outputs": [
    {
     "data": {
      "text/plain": [
       "True"
      ]
     },
     "execution_count": 10,
     "metadata": {},
     "output_type": "execute_result"
    }
   ],
   "source": [
    "# simple check if a KEY is in the dictionary\n",
    "import json\n",
    "\n",
    "object_to_check = 'Eenheid'\n",
    "#object_to_check = 'detailStatus'\n",
    "\n",
    "with open('VERA-Vastgoed_API_data.json') as json_file:\n",
    "    data = json.load(json_file)\n",
    "#convert to a dict   \n",
    "my_dict = json.loads(data)\n",
    "object_to_check in my_dict "
   ]
  },
  {
   "cell_type": "code",
   "execution_count": 11,
   "id": "dda77818",
   "metadata": {},
   "outputs": [
    {
     "name": "stdout",
     "output_type": "stream",
     "text": [
      "Adres has attributes: ['id', 'idExtern', 'idGegevensbeheerder', 'code', 'soort', 'adres', 'huisletter', 'huisnummer', 'huisnummerToevoeging', 'postcode', 'straatnaam', 'extra-attributen', 'informatieobjecten'] \n",
      "\n",
      "AdresseerbaarObjectBasisregistratie has attributes: ['id', 'idExtern', 'idGegevensbeheerder', 'code', 'bagGebruikersOppervlakte', 'bagGebruiksdoelen', 'bagHoofdadres', 'bagIdentificatie', 'bagInOnderzoek', 'bagNevenadressen', 'bagOfficieel', 'bagOppervlakteVerblijfsobject', 'bagPandenBasisregistratie', 'bagStatus', 'geometrie', 'extra-attributen', 'informatieobjecten'] \n",
      "\n",
      "BagAdres has attributes: ['id', 'idExtern', 'idGegevensbeheerder', 'code', 'bagNummeraanduidingIdentificatie', 'bagOpenbareRuimteIdentificatie', 'bagNummeraanduidingInOnderzoek', 'bagNummeraanduidingOfficieel', 'bagNummeraanduidingStatus', 'bagOpenbareRuimteInOnderzoek', 'bagOpenbareruimteOfficieel', 'bagOpenbareruimtestatus', 'extra-attributen', 'informatieobjecten'] \n",
      "\n",
      "BagPand has attributes: ['id', 'idExtern', 'idGegevensbeheerder', 'code', 'bagIdentificatie', 'bagStatus', 'bagInOnderzoek', 'bagOfficieel', 'bagBouwdatum', 'extra-attributen', 'informatieobjecten'] \n",
      "\n",
      "BagWoonplaats has attributes: ['id', 'idExtern', 'idGegevensbeheerder', 'code', 'bagIdentificatie', 'bagStatus', 'bagInOnderzoek', 'bagOfficieel', 'extra-attributen', 'informatieobjecten'] \n",
      "\n",
      "Beleidswaarde has attributes: ['id', 'idExtern', 'idGegevensbeheerder', 'code', 'achterstalligOnderhoud', 'afkoopErfpacht', 'beheerAfslag', 'beheerskosten', 'beschikbaarheidAfslag', 'betaalbaarheidAfslag', 'eenheid', 'kwaliteitAfslag', 'marktwaarde', 'onderhoudskosten', 'streefhuur', 'waarde', 'extra-attributen', 'informatieobjecten'] \n",
      "\n",
      "Bouwdeel has attributes: ['id', 'idExtern', 'idGegevensbeheerder', 'code', 'naam', 'omschrijving', 'bouwdelen', 'bouwkundigeElementen', 'collectieveObjecten', 'eenheden', 'gebouw', 'pand', 'extra-attributen', 'informatieobjecten'] \n",
      "\n",
      "BouwkundigElement has attributes: ['id', 'idExtern', 'idGegevensbeheerder', 'code', 'naam', 'omschrijving', 'bouwdeel', 'garanties', 'relaties', 'extra-attributen', 'informatieobjecten'] \n",
      "\n",
      "BuitenlandsAdres has attributes: ['allOf: Adres', 'adresregel1', 'adresregel2', 'land', 'postbusnummer', 'provincie', 'woonplaats', 'extra-attributen', 'informatieobjecten'] \n",
      "\n",
      "Buurt has attributes: ['id', 'idExtern', 'idGegevensbeheerder', 'code', 'naam', 'omschrijving', 'eenheden', 'gebouwen', 'geometrie', 'relaties', 'wijk', 'extra-attributen', 'informatieobjecten'] \n",
      "\n",
      "Cluster has attributes: ['id', 'idExtern', 'idGegevensbeheerder', 'code', 'soort', 'naam', 'omschrijving', 'bovenliggendeCluster', 'begindatum', 'einddatum', 'collectieveObjecten', 'conditiemeting', 'eenheden', 'garanties', 'geometrie', 'relaties', 'extra-attributen', 'informatieobjecten'] \n",
      "\n",
      "CollectiefObject has attributes: ['id', 'idExtern', 'idGegevensbeheerder', 'code', 'soort', 'naam', 'adres', 'bouwdelen', 'clusters', 'eenheden', 'garanties', 'relaties', 'extra-attributen', 'informatieobjecten'] \n",
      "\n",
      "Conditiemeting has attributes: ['id', 'idExtern', 'idGegevensbeheerder', 'code', 'begindatum', 'einddatum', 'conditiescore', 'extra-attributen', 'informatieobjecten'] \n",
      "\n",
      "Eenheid has attributes: ['id', 'idExtern', 'idGegevensbeheerder', 'code', 'soort', 'detailSoort', 'naam', 'omschrijving', 'bouwnummer', 'status', 'detailStatus', 'inExploitatiedatum', 'uitExploitatiedatum', 'beginBouwdatum', 'opleverdatum', 'aantalOnzelfstandigeEenheden', 'aanvullendeDoelgroep', 'adres', 'adresseerbaarObjectBasisregistratie', 'beleidswaarde', 'benodigdeAfspraakverzoeken', 'beoogdUitExploitatieDatum', 'bestemming', 'bouwdelen', 'bovenliggendeEenheid', 'brutohuur', 'buitenruimten', 'clusters', 'collectieveObjecten', 'doelgroep', 'energieprestatie', 'energievoorzieningen', 'etage', 'gebouw', 'gebruiksoppervlakte', 'inExploitatieReden', 'interieur', 'isolatie', 'juridischEigendomspercentage', 'kadastraalNummer', 'kamersAantal', 'klimaatbeheersing', 'kwaliteitsniveau', 'ligging', 'liggingTuin', 'maatschappelijkLabel', 'marktlabel', 'marktwaarde', 'monumenten', 'nevenadressen', 'onderhoudslabel', 'overeenkomsten', 'overigeVertrekkenTotaalOppervlakte', 'panden', 'prestatieafspraken', 'prijscomponenten', 'prijsconditie', 'publicatie', 'publicatieLabel', 'rekenhuur', 'relaties', 'renovatie', 'sanitair', 'situering', 'streefhuur', 'taxaties', 'toegankelijkheidslabel', 'totaalInhoud', 'totaleOppervlakte', 'uitExploitatieReden', 'verkoop', 'vertrekken', 'vertrekkenAantal', 'verwarmdeVertrekkenAantal', 'volgnummer', 'voorwaarden', 'vraagprijs', 'woningwaarderingResultaat', 'woonvertrekInhoud', 'woonvertrekkenTotaalOppervlakte', 'woonvorm', 'wozEenheden', 'zekerheidVerpandingen', 'zelfstandig', 'zorgfaciliteitOmschrijving', 'extra-attributen', 'informatieobjecten'] \n",
      "\n",
      "EenheidToestand has attributes: ['id', 'idExtern', 'idGegevensbeheerder', 'code', 'status', 'detailStatus', 'begindatum', 'einddatum', 'eenheid', 'extra-attributen', 'informatieobjecten'] \n",
      "\n",
      "EenheidVoorwaarden has attributes: ['id', 'idExtern', 'idGegevensbeheerder', 'code', 'maximumAantalPersonen', 'maximuminkomen', 'maximunleeftijd', 'minimumAantalPersonen', 'minimuminkomen', 'minimumleeftijd', 'selectiecriteria', 'voorrangscriteria', 'extra-attributen', 'informatieobjecten'] \n",
      "\n",
      "Eenheidadres has attributes: ['allOf: Adres', 'bag', 'buurt', 'gemeente', 'geometrie', 'land', 'provincie', 'wijk', 'woonplaats', 'extra-attributen', 'informatieobjecten'] \n",
      "\n",
      "Energieprestatie has attributes: ['id', 'idExtern', 'idGegevensbeheerder', 'code', 'begindatum', 'einddatum', 'eenheid', 'index', 'label', 'relatie', 'extra-attributen', 'informatieobjecten'] \n",
      "\n",
      "ExtraAttribuut has attributes: ['naam', 'waarde'] \n",
      "\n",
      "Foutbericht has attributes: ['code', 'omschrijving'] \n",
      "\n",
      "Garantie has attributes: ['id', 'idExtern', 'idGegevensbeheerder', 'code', 'omschrijving', 'begindatum', 'einddatum', 'bouwdelen', 'bouwkundigeElementen', 'clusters', 'collectieveObjecten', 'eenheden', 'overeenkomst', 'relatie', 'extra-attributen', 'informatieobjecten'] \n",
      "\n",
      "Gebouw has attributes: ['id', 'idExtern', 'idGegevensbeheerder', 'code', 'naam', 'omschrijving', 'bouwdelen', 'buurt', 'corporatieBuurt', 'corporatieWijk', 'eenheden', 'panden', 'wijk', 'extra-attributen', 'informatieobjecten'] \n",
      "\n",
      "Gemeente has attributes: ['id', 'idExtern', 'idGegevensbeheerder', 'code', 'naam', 'geometrie', 'provincie', 'stadsdelen', 'woonplaatsen', 'extra-attributen', 'informatieobjecten'] \n",
      "\n",
      "Geometrie has attributes: ['id', 'idExtern', 'idGegevensbeheerder', 'code', 'soort', 'omschrijving', 'extra-attributen', 'informatieobjecten'] \n",
      "\n",
      "KadasterPerceel has attributes: ['id', 'idExtern', 'idGegevensbeheerder', 'code', 'extra-attributen', 'informatieobjecten'] \n",
      "\n",
      "Marktwaarde has attributes: ['id', 'idExtern', 'idGegevensbeheerder', 'code', 'beheersKosten', 'contractJaarhuur', 'disconteringsvoet', 'doorexploiterenDisconteringsvoet', 'eenheid', 'leegwaarde', 'marktJaarhuur', 'onderhoudsKosten', 'verhuurderheffing', 'verslagJaar', 'waarde', 'extra-attributen', 'informatieobjecten'] \n",
      "\n",
      "Pand has attributes: ['id', 'idExtern', 'idGegevensbeheerder', 'code', 'status', 'adresseerbareObjectenBasisregistratie', 'bag', 'bouwdelen', 'eenheden', 'gebouw', 'geometrie', 'kavelOppervlakte', 'liftAanwezig', 'renovatie', 'extra-attributen', 'informatieobjecten'] \n",
      "\n",
      "Postadres has attributes: ['allOf: Adres', 'antwoordnummer', 'postbusnummer', 'woonplaats', 'extra-attributen', 'informatieobjecten'] \n",
      "\n",
      "Punt has attributes: ['allOf: Geometrie', 'breedtegraad', 'lengtegraad', 'extra-attributen', 'informatieobjecten'] \n",
      "\n",
      "Referentiedata has attributes: ['id', 'idExtern', 'idGegevensbeheerder', 'code', 'soort', 'naam', 'omschrijving', 'parent', 'begindatum', 'einddatum', 'sortering'] \n",
      "\n",
      "Renovatie has attributes: ['id', 'idExtern', 'idGegevensbeheerder', 'code', 'omschrijving', 'datum', 'eenheden', 'panden', 'extra-attributen', 'informatieobjecten'] \n",
      "\n",
      "Stadsdeel has attributes: ['id', 'idExtern', 'idGegevensbeheerder', 'code', 'naam', 'gemeente', 'geometrie', 'wijken', 'extra-attributen', 'informatieobjecten'] \n",
      "\n",
      "Taxatie has attributes: ['id', 'idExtern', 'idGegevensbeheerder', 'code', 'soort', 'datum', 'eenheid', 'waarde', 'extra-attributen', 'informatieobjecten'] \n",
      "\n",
      "Vertrek has attributes: ['id', 'idExtern', 'idGegevensbeheerder', 'code', 'soort', 'naam', 'eenheid', 'inhoud', 'oppervlakte', 'extra-attributen', 'informatieobjecten'] \n",
      "\n",
      "Wijk has attributes: ['id', 'idExtern', 'idGegevensbeheerder', 'code', 'naam', 'omschrijving', 'buurten', 'geometrie', 'relaties', 'stadsdeel', 'woonplaats', 'extra-attributen', 'informatieobjecten'] \n",
      "\n",
      "Woningwaardering has attributes: ['id', 'idExtern', 'idGegevensbeheerder', 'code', 'begindatum', 'einddatum', 'aantal', 'criterium', 'eenheid', 'groep', 'punten', 'extra-attributen', 'informatieobjecten'] \n",
      "\n",
      "WoningwaarderingCriterium has attributes: ['id', 'idExtern', 'idGegevensbeheerder', 'code', 'naam', 'criteriumGroep', 'meeteenheid', 'stelsel', 'extra-attributen', 'informatieobjecten'] \n",
      "\n",
      "WoningwaarderingCriteriumGroep has attributes: ['id', 'idExtern', 'idGegevensbeheerder', 'code', 'naam', 'omschrijving', 'criteria', 'soort', 'stelsel', 'extra-attributen', 'informatieobjecten'] \n",
      "\n",
      "WoningwaarderingGroep has attributes: ['id', 'idExtern', 'idGegevensbeheerder', 'code', 'begindatum', 'einddatum', 'criteriumGroep', 'eenheid', 'punten', 'woningwaarderingen', 'extra-attributen', 'informatieobjecten'] \n",
      "\n",
      "WoningwaarderingResultaat has attributes: ['id', 'idExtern', 'idGegevensbeheerder', 'code', 'begindatum', 'einddatum', 'eenheid', 'groepen', 'maximaleHuur', 'punten', 'extra-attributen', 'informatieobjecten'] \n",
      "\n",
      "Woonplaats has attributes: ['id', 'idExtern', 'idGegevensbeheerder', 'code', 'naam', 'bag', 'gemeente', 'geometrie', 'wijken', 'extra-attributen', 'informatieobjecten'] \n",
      "\n",
      "WozEenheid has attributes: ['id', 'idExtern', 'idGegevensbeheerder', 'code', 'eenheid', 'vastgesteldeWaarde', 'waardepeildatum', 'extra-attributen', 'informatieobjecten'] \n",
      "\n",
      "ZekerheidVerpanding has attributes: ['id', 'idExtern', 'idGegevensbeheerder', 'code', 'soort', 'begindatum', 'einddatum', 'akteSoort', 'belastingdienstRegistratiedatum', 'eenheid', 'onderpandWSW', 'relaties', 'extra-attributen', 'informatieobjecten'] \n",
      "\n"
     ]
    }
   ],
   "source": [
    "for objects, attributes in my_dict.items(): #assinging key,value to month, days\n",
    "    print(f'{objects} has attributes: {attributes} \\n')"
   ]
  },
  {
   "cell_type": "markdown",
   "id": "4f5129c7",
   "metadata": {},
   "source": [
    "## 2. One item in all json files"
   ]
  },
  {
   "cell_type": "code",
   "execution_count": 2,
   "id": "e717594a",
   "metadata": {},
   "outputs": [
    {
     "name": "stdout",
     "output_type": "stream",
     "text": [
      "<class 'list'>\n",
      "['VERA-Dossier_API_objecten.json', 'VERA-Financien_API_objecten.json', 'VERA-Kwaliteit_API_objecten.json', 'VERA-Onderhoud_API_objecten.json', 'VERA-Overeenkomsten_API_objecten.json', 'VERA-Projectontwikkeling_API_objecten.json', 'VERA-Relaties_API_objecten.json', 'VERA-Vastgoed_API_data.json', 'VERA-Woonruimteverdeling_API_objecten.json']\n"
     ]
    }
   ],
   "source": [
    "#creating a list of all json files\n",
    "import glob\n",
    "my_json_list = glob.glob('*.json')\n",
    "print(type(my_json_list))\n",
    "print(my_json_list)"
   ]
  },
  {
   "cell_type": "code",
   "execution_count": 3,
   "id": "42a55697",
   "metadata": {},
   "outputs": [],
   "source": [
    "#create new combined dict with all domeinen\n",
    "# {domein, {object[i]: [attributes], object[i]:attributes,... }\n",
    "domeinen = ['Dossier', 'Financien', 'Kwaliteit', 'Onderhoud', 'Overeenkomsten', 'Projectontwikkeling', 'Relaties', 'Vastgoed', 'Woonruimteverdeling']\n",
    "\n",
    "#create several temperary dicts\n",
    "import json\n",
    "my_dict = {}\n",
    "for i in range (len(my_json_list)):\n",
    "    with open(my_json_list[i]) as json_file:\n",
    "        data = json.load(json_file)\n",
    "        my_dict[i] = json.loads(data)\n",
    "#create an new dict and add the several dictionaries to it\n",
    "total_dict = {} \n",
    "for i in range (len(domeinen)):\n",
    "    total_dict[str(domeinen[i])]= my_dict[i]"
   ]
  },
  {
   "cell_type": "code",
   "execution_count": 4,
   "id": "9dddc828",
   "metadata": {},
   "outputs": [
    {
     "data": {
      "text/plain": [
       "['Dossier',\n",
       " 'Financien',\n",
       " 'Kwaliteit',\n",
       " 'Onderhoud',\n",
       " 'Overeenkomsten',\n",
       " 'Projectontwikkeling',\n",
       " 'Relaties',\n",
       " 'Vastgoed',\n",
       " 'Woonruimteverdeling']"
      ]
     },
     "execution_count": 4,
     "metadata": {},
     "output_type": "execute_result"
    }
   ],
   "source": [
    "list(total_dict)"
   ]
  },
  {
   "cell_type": "code",
   "execution_count": 7,
   "id": "1cc84c6d",
   "metadata": {},
   "outputs": [
    {
     "name": "stdout",
     "output_type": "stream",
     "text": [
      "{'Dossier': {'Dossier': ['id', 'idExtern', 'idGegevensbeheerder', 'code', 'soort', 'detailSoort', 'omschrijving', 'bovenliggendDossier', 'status', 'begindatum', 'einddatum', 'archiefActiedatum', 'archiefnominatie', 'clusters', 'collectiefObjecten', 'contactmomenten', 'deelDossiers', 'detailStatus', 'eenheden', 'inkoopfacturen', 'inkoopopdrachten', 'onderhoudsverzoeken', 'overeenkomsten', 'processen', 'relaties', 'zaken', 'extra-attributen', 'informatieobjecten'], 'ExtraAttribuut': ['naam', 'waarde'], 'Foutbericht': ['code', 'omschrijving'], 'Informatieobject': ['id', 'idExtern', 'idGegevensbeheerder', 'code', 'soort', 'detailSoort', 'onderwerp', 'subonderwerp', 'titel', 'beschrijving', 'status', 'detailStatus', 'registratiedatum', 'ontvangstdatum', 'publicatiedatum', 'archiefActiedatum', 'archiefnominatie', 'auteur', 'bestand', 'bestandsgrootte', 'bestandslocatie', 'bestandsnaam', 'bijlagen', 'clusters', 'collectiefObjecten', 'contactmomenten', 'dossiers', 'eenheden', 'externePublicatie', 'externePublicatietekst', 'formaat', 'gebruiksrechten', 'inkoopfacturen', 'inkoopopdrachten', 'isBijlageVan', 'onderhoudsverzoeken', 'overeenkomsten', 'processen', 'relaties', 'taal', 'verantwoordelijkeOrganisatie', 'versie', 'vertrouwelijkheid', 'zaken', 'extra-attributen'], 'Informatieobjectkenmerk': ['id', 'idExtern', 'idGegevensbeheerder', 'code', 'omschrijving', 'waarde', 'datatype', 'groep', 'extra-attributen', 'informatieobjecten'], 'Proces': ['id', 'idExtern', 'idGegevensbeheerder', 'code', 'soort', 'bovenliggendProces', 'status', 'begindatum', 'einddatum', 'verloopdatum', 'clusters', 'collectiefObjecten', 'deelprocessen', 'dossiers', 'eenheden', 'inkoopfacturen', 'inkoopopdrachten', 'niveau', 'onderhoudsverzoeken', 'overeenkomsten', 'prioriteit', 'processtappen', 'relaties', 'rollen', 'zaken', 'extra-attributen', 'informatieobjecten'], 'Procesrol': ['id', 'idExtern', 'idGegevensbeheerder', 'code', 'omschrijving', 'begindatum', 'einddatum', 'processen', 'processtappen', 'relatie', 'toelichtingRol', 'extra-attributen', 'informatieobjecten'], 'Processtap': ['id', 'idExtern', 'idGegevensbeheerder', 'code', 'soort', 'status', 'begindatum', 'einddatum', 'verloopdatum', 'actie', 'positie', 'prioriteit', 'proces', 'rollen', 'vorigeProcesstappen', 'extra-attributen', 'informatieobjecten'], 'Referentiedata': ['id', 'idExtern', 'idGegevensbeheerder', 'code', 'soort', 'naam', 'omschrijving', 'parent', 'begindatum', 'einddatum', 'sortering'], 'Zaak': ['id', 'idExtern', 'idGegevensbeheerder', 'code', 'omschrijving', 'toelichting', 'bovenliggendeZaak', 'begindatum', 'einddatum', 'registratiedatum', 'publicatiedatum', 'geplandeEinddatum', 'uiterlijkeEinddatum', 'archiefstatus', 'archiefActiedatum', 'archiefnominatie', 'clusters', 'collectiefObjecten', 'contactmomenten', 'deelzaken', 'dossier', 'eenheden', 'gerelateerdeZaken', 'inkoopfacturen', 'inkoopopdrachten', 'kenmerken', 'onderhoudsverzoeken', 'overeenkomsten', 'processen', 'relaties', 'resultaatOmschrijving', 'resultaatToelichting', 'rollen', 'verantwoordelijkeOrganisatie', 'zaakstatussen', 'zaaktype', 'extra-attributen', 'informatieobjecten'], 'Zaakkenmerk': ['id', 'idExtern', 'idGegevensbeheerder', 'code', 'omschrijving', 'waarde', 'datatype', 'groep', 'zaken', 'extra-attributen', 'informatieobjecten'], 'Zaakrol': ['id', 'idExtern', 'idGegevensbeheerder', 'code', 'soort', 'omschrijving', 'begindatum', 'einddatum', 'afwijkendContactgegegeven', 'indicatieGemachtigde', 'relatie', 'toelichtingRol', 'zaak', 'zaakstatussen', 'extra-attributen', 'informatieobjecten'], 'Zaakstatus': ['id', 'idExtern', 'idGegevensbeheerder', 'code', 'soort', 'begindatum', 'einddatum', 'toelichting', 'zaak', 'zaakrol', 'extra-attributen', 'informatieobjecten'], 'Zaaktype': ['id', 'idExtern', 'idGegevensbeheerder', 'code', 'soort', 'detailSoort', 'generiekeOmschrijving', 'omschrijving', 'begindatum', 'einddatum', 'aanleiding', 'archiefcode', 'doel', 'domein', 'doorlooptijd', 'externePublicatie', 'externePublicatietekst', 'relatie', 'servicenorm', 'trefwoord', 'vertrouwelijkheid', 'zaakstatussen', 'zaken', 'extra-attributen', 'informatieobjecten']}, 'Financien': {'Aanbesteding': ['id', 'idExtern', 'idGegevensbeheerder', 'code', 'extra-attributen', 'informatieobjecten'], 'Aflettering': ['id', 'idExtern', 'idGegevensbeheerder', 'code', 'omschrijving', 'datum', 'bedrag', 'huurBoeking', 'tegenHuurBoeking', 'extra-attributen', 'informatieobjecten'], 'Bankafschrift': ['id', 'idExtern', 'idGegevensbeheerder', 'code', 'omschrijving', 'status', 'afBedrag', 'bankafschriftRegels', 'beginsaldo', 'bijBedrag', 'eindsaldo', 'postenAantal', 'rekening', 'relatie', 'extra-attributen', 'informatieobjecten'], 'BankafschriftRegel': ['id', 'idExtern', 'idGegevensbeheerder', 'code', 'soort', 'omschrijving', 'valutadatum', 'afBedrag', 'bankafschrift', 'betaalopdracht', 'betalingskenmerk', 'bijBedrag', 'boekingen', 'incassoOpdrachten', 'inkoopfactuurBetaling', 'rekening', 'extra-attributen', 'informatieobjecten'], 'Begroting': ['id', 'idExtern', 'idGegevensbeheerder', 'code', 'omschrijving', 'periode', 'creditbedrag', 'debetbedrag', 'grootboekrekeningen', 'verbijzonderingen', 'versie', 'extra-attributen', 'informatieobjecten'], 'Betaalopdracht': ['id', 'idExtern', 'idGegevensbeheerder', 'code', 'omschrijving', 'status', 'plandatum', 'fiatdatum', 'bankafschriftRegels', 'bedrag', 'grootboekmutaties', 'inkoopfactuurBetaling', 'postenAantal', 'relatie', 'extra-attributen', 'informatieobjecten'], 'Betaalwijze': ['id', 'idExtern', 'idGegevensbeheerder', 'code', 'soort', 'betaalgegeven', 'incassomachtiging', 'incassomoment', 'extra-attributen', 'informatieobjecten'], 'Betalingsregeling': ['id', 'idExtern', 'idGegevensbeheerder', 'code', 'omschrijving', 'toelichting', 'status', 'begindatum', 'einddatum', 'afspraakdatum', 'bedrag', 'betaalgegeven', 'boekingen', 'debiteur', 'eindeReden', 'incassowijze', 'organisatieBetaalgegeven', 'overeenkomst', 'prolongatieInterval', 'prolongatieTotDatum', 'saldo', 'termijnen', 'termijnenAantal', 'extra-attributen', 'informatieobjecten'], 'BetalingsregelingTermijn': ['id', 'idExtern', 'idGegevensbeheerder', 'code', 'omschrijving', 'status', 'datum', 'vervaldatum', 'bedrag', 'betalingsregeling', 'saldo', 'extra-attributen', 'informatieobjecten'], 'Boeking': ['id', 'idExtern', 'idGegevensbeheerder', 'code', 'soort', 'detailSoort', 'omschrijving', 'status', 'boekdatum', 'factuurdatum', 'valutadatum', 'vervaldatum', 'kortingsdatum', 'aflettering', 'afletteringen', 'bankafschriftRegel', 'bedrag', 'betaalgegeven', 'betalingskenmerk', 'betalingsregelingen', 'boekingdetails', 'btwAangiftes', 'btwBedrag', 'btwGeenGrondslagbedrag', 'btwHoogAangiftebedrag', 'btwHoogGrondslagbedrag', 'btwLaagAangiftebedrag', 'btwLaagGrondslagbedrag', 'btwNulGrondslagbedrag', 'debiteur', 'externeIncassos', 'grootboekmutatie', 'huurgeschil', 'incassomachtiging', 'incassoOpdracht', 'organisatieBetaalgegeven', 'overeenkomst', 'saldo', 'extra-attributen', 'informatieobjecten'], 'Boekingdetail': ['id', 'idExtern', 'idGegevensbeheerder', 'code', 'omschrijving', 'aantal', 'bedrag', 'boeking', 'btwAangiftebedrag', 'btwTarief', 'grootboekmutatie', 'grootboekrekening', 'meeteenheid', 'prijsPerMeeteenheid', 'verbijzondering', 'extra-attributen', 'informatieobjecten'], 'Boekjaar': ['id', 'idExtern', 'idGegevensbeheerder', 'code', 'omschrijving', 'status', 'begindatum', 'einddatum', 'bedrijf', 'boekjaarperiodes', 'periodeSoort', 'extra-attributen', 'informatieobjecten'], 'BoekjaarPeriode': ['id', 'idExtern', 'idGegevensbeheerder', 'code', 'soort', 'omschrijving', 'status', 'begindatum', 'einddatum', 'begrotingen', 'boekjaar', 'boekjaarperiodesaldos', 'extra-attributen', 'informatieobjecten'], 'BoekjaarPeriodesaldo': ['id', 'idExtern', 'idGegevensbeheerder', 'code', 'boekjaarPeriode', 'creditbedrag', 'debetbedrag', 'grootboekmutaties', 'grootboekrekening', 'verbijzonderingen', 'extra-attributen', 'informatieobjecten'], 'BtwAangifte': ['id', 'idExtern', 'idGegevensbeheerder', 'code', 'omschrijving', 'status', 'datum', 'begindatum', 'einddatum', 'bedrijf', 'boekingen', 'inkoopfacturen', 'extra-attributen', 'informatieobjecten'], 'BtwTarief': ['id', 'idExtern', 'idGegevensbeheerder', 'code', 'omschrijving', 'begindatum', 'einddatum', 'boekingdetails', 'grootboekmutaties', 'inkoopfactuurregels', 'percentage', 'extra-attributen', 'informatieobjecten'], 'Crediteur': ['id', 'idExtern', 'idGegevensbeheerder', 'code', 'soort', 'status', 'bedrijf', 'betaaldagen', 'betalingsconditie', 'btwVerlegd', 'externDebiteurnummer', 'gRekening', 'gRekeningPercentage', 'inkoopfacturen', 'inkoopopdrachten', 'kortingdagen', 'rekeningen', 'relatie', 'saldo', 'wkaBegindatum', 'wkaDatumBelastingdienst', 'wkaDatumUitvoerendeInstantie', 'wkaEinddatum', 'wkaRegeling', 'extra-attributen', 'informatieobjecten'], 'Debiteur': ['id', 'idExtern', 'idGegevensbeheerder', 'code', 'soort', 'status', 'bedrijf', 'boekingen', 'btwPlichtig', 'incassomachtigingen', 'kortingsdagen', 'rekeningen', 'relatie', 'saldo', 'vervaltermijn', 'extra-attributen', 'informatieobjecten'], 'ExterneIncasso': ['id', 'idExtern', 'idGegevensbeheerder', 'code', 'soort', 'omschrijving', 'status', 'begindatum', 'einddatum', 'overdrachtsdatum', 'bedrag', 'boekingen', 'debiteur', 'externeincassoacties', 'overeenkomst', 'relatie', 'saldo', 'extra-attributen', 'informatieobjecten'], 'ExterneIncassoActie': ['id', 'idExtern', 'idGegevensbeheerder', 'code', 'soort', 'omschrijving', 'status', 'begindatum', 'einddatum', 'externeIncasso', 'relatie', 'extra-attributen', 'informatieobjecten'], 'ExtraAttribuut': ['naam', 'waarde'], 'FinancieelBedrijf': ['id', 'idExtern', 'idGegevensbeheerder', 'code', 'soort', 'naam', 'betaalcyclusDuur', 'boekjaren', 'btwAangiftes', 'consolidatieBedrijf', 'crediteuren', 'debiteuren', 'deelnemingspercentage', 'geconsolideerdebedrijven', 'grootboekrekeningen', 'maatschappelijkLabel', 'relatie', 'verbijzonderingen', 'extra-attributen', 'informatieobjecten'], 'Foutbericht': ['code', 'omschrijving'], 'Grootboekmutatie': ['id', 'idExtern', 'idGegevensbeheerder', 'code', 'omschrijving', 'boekdatum', 'betaalopdrachten', 'boekingdetails', 'boekingen', 'boekjaarPeriodesaldo', 'boekstuknummer', 'boekstuknummerCode', 'boekstukregel', 'btwBedrag', 'btwTarieven', 'creditbedrag', 'debetbedrag', 'grootboekrekening', 'herkomst', 'incassoOpdrachten', 'inkoopfacturen', 'inkoopfactuurBetalingen', 'inkoopfactuurRegels', 'inkoopopdrachten', 'inkoopopdrachtregels', 'volgnummer', 'extra-attributen', 'informatieobjecten'], 'Grootboekrekening': ['id', 'idExtern', 'idGegevensbeheerder', 'code', 'soort', 'omschrijving', 'status', 'begindatum', 'einddatum', 'bedrijf', 'begrotingen', 'boekingdetails', 'boekjaarperiodesaldos', 'inkoopopdrachtregels', 'referentiegrootboekschemacode', 'extra-attributen', 'informatieobjecten'], 'IncassoOpdracht': ['id', 'idExtern', 'idGegevensbeheerder', 'code', 'omschrijving', 'aanmaakdatum', 'fiatdatum', 'plandatum', 'bankafschriftRegels', 'bedrag', 'boekingen', 'grootboekmutatie', 'postenAantal', 'rekening', 'relatie', 'saldo', 'extra-attributen', 'informatieobjecten'], 'Incassomachtiging': ['id', 'idExtern', 'idGegevensbeheerder', 'code', 'soort', 'afgiftedatum', 'boekingen', 'debiteur', 'machtigingsnummer', 'rekening', 'extra-attributen', 'informatieobjecten'], 'Inkoopfactuur': ['id', 'idExtern', 'idGegevensbeheerder', 'code', 'soort', 'omschrijving', 'ontvangstdatum', 'boekdatum', 'factuurdatum', 'plandatum', 'vervaldatum', 'bedrag', 'betalingAkkoord', 'betalingskenmerk', 'btwAangifte', 'btwBedrag', 'btwGeenGrondslagbedrag', 'btwHoogAangiftebedrag', 'btwHoogGrondslagbedrag', 'btwLaagAangiftebedrag', 'btwLaagGrondslagbedrag', 'btwNulGrondslagbedrag', 'btwTerugTeVorderen', 'btwVerlegd', 'crediteur', 'externFactuurnummer', 'factuurGeblokkeerd', 'gRekeningbedrag', 'grootboekmutaties', 'inkoopfactuurBetaling', 'inkoopfactuurregels', 'inkoopopdracht', 'korting', 'openstaandBedrag', 'rekening', 'relatie', 'toeslag', 'extra-attributen', 'informatieobjecten'], 'InkoopfactuurBetaling': ['id', 'idExtern', 'idGegevensbeheerder', 'code', 'omschrijving', 'status', 'datum', 'bankafschriftRegel', 'bedrag', 'betaalkenmerk', 'betaalopdracht', 'grootboekmutatie', 'inkoopfactuur', 'kortingsbedrag', 'rekening', 'rekeningBetaling', 'volgnummerInBetaalopdracht', 'extra-attributen', 'informatieobjecten'], 'InkoopfactuurRegel': ['id', 'idExtern', 'idGegevensbeheerder', 'code', 'omschrijving', 'bedrag', 'btwAangiftebedrag', 'btwTarief', 'grootboekmutaties', 'grootboekrekening', 'inkoopfactuur', 'inkoopopdrachtregels', 'korting', 'toeslag', 'verbijzonderingen', 'extra-attributen', 'informatieobjecten'], 'Inkoopopdracht': ['id', 'idExtern', 'idGegevensbeheerder', 'code', 'omschrijving', 'status', 'opdrachtdatum', 'boekdatum', 'btwGeenGrondslagbedrag', 'btwHoogGrondslagbedrag', 'btwLaagGrondslagbedrag', 'btwNulGrondslagbedrag', 'crediteur', 'grootboekmutaties', 'inkoopfacturen', 'inkoopodrachtregels', 'onderhoudsorder', 'projectorders', 'relatie', 'extra-attributen', 'informatieobjecten'], 'InkoopopdrachtRegel': ['id', 'idExtern', 'idGegevensbeheerder', 'code', 'omschrijving', 'plandatum', 'btwGeenGrondslagbedrag', 'btwHoogGrondslagbedrag', 'btwLaagGrondslagbedrag', 'btwNulGrondslagbedrag', 'grootboekmutatie', 'grootboekrekening', 'inkoopfactuurregels', 'inkoopopdracht', 'onderhoudsTaak', 'extra-attributen', 'informatieobjecten'], 'Lening': ['id', 'idExtern', 'idGegevensbeheerder', 'code', 'omschrijving', 'soort', 'detailSoort', 'begindatum', 'einddatum', 'achtergesteld', 'aflosvorm', 'borgingWSW', 'coupondatum1', 'coupondatum2', 'couponFrequentie', 'euriborOpslag', 'financier', 'nominaalSchuldrestant', 'relaties', 'rentepercentage', 'renteperiode', 'rentesoort', 'startbedrag', 'extra-attributen', 'informatieobjecten'], 'Offerte': ['id', 'idExtern', 'idGegevensbeheerder', 'code', 'omschrijving', 'status', 'begindatum', 'offertedatum', 'vervaldatum', 'bedrag', 'btwBedrag', 'korting', 'offerteregels', 'relaties', 'toeslag', 'extra-attributen', 'informatieobjecten'], 'Offerteregel': ['id', 'idExtern', 'idGegevensbeheerder', 'code', 'omschrijving', 'aantal', 'bedrag', 'bestedingsoort', 'btwTarief', 'korting', 'meeteenheid', 'offerte', 'toeslag', 'extra-attributen', 'informatieobjecten'], 'Prijsaanpassing': ['id', 'idExtern', 'idGegevensbeheerder', 'code', 'soort', 'omschrijving', 'bedrag', 'percentage', 'extra-attributen', 'informatieobjecten'], 'Referentiedata': ['id', 'idExtern', 'idGegevensbeheerder', 'code', 'soort', 'naam', 'omschrijving', 'parent', 'begindatum', 'einddatum', 'sortering'], 'ToegelatenInstelling': ['id', 'idExtern', 'idGegevensbeheerder', 'code', 'omschrijving', 'verantwoordingConsolidatie', 'verantwoordingRegime', 'extra-attributen', 'informatieobjecten'], 'Verbijzondering': ['id', 'idExtern', 'idGegevensbeheerder', 'code', 'soort', 'omschrijving', 'status', 'beginjaar', 'beginperiode', 'eindjaar', 'eindperiode', 'bedrijf', 'begrotingen', 'boekingdetails', 'boekjaarperiodesaldos', 'inkoopofactuurregels', 'viaMemoriaalBoekenToestaan', 'viaSubBoekenToestaan', 'extra-attributen', 'informatieobjecten']}, 'Kwaliteit': {'ExtraAttribuut': ['naam', 'waarde'], 'Foutbericht': ['code', 'omschrijving'], 'Kwaliteitsmetingsresultaat': ['id', 'idExtern', 'idGegevensbeheerder', 'code', 'omschrijving', 'datumReactie', 'beoordelingsSchaal', 'beoordelingsWaarde', 'kwaliteitsmetingsverzoek', 'onderzoeksopdracht', 'resultaatReactie', 'toelichtingBeoordeling', 'extra-attributen', 'informatieobjecten'], 'Kwaliteitsmetingsverzoek': ['id', 'idExtern', 'idGegevensbeheerder', 'code', 'soort', 'omschrijving', 'status', 'afgerondeZaak', 'contactmoment', 'eenheid', 'kwaliteitsmetingresultaat', 'onderhoudsverzoek', 'onderzoeksopdracht', 'overeenkomst', 'relaties', 'teEnqueterenRelatie', 'extra-attributen', 'informatieobjecten'], 'Onderzoeksopdracht': ['id', 'idExtern', 'idGegevensbeheerder', 'code', 'soort', 'omschrijving', 'status', 'antwoorden', 'contactgegeven', 'kanaal', 'postadres', 'relatie', 'vragenlijst', 'extra-attributen', 'informatieobjecten'], 'Onderzoeksresultaat': ['id', 'idExtern', 'idGegevensbeheerder', 'code', 'antwoorden', 'opdracht', 'extra-attributen', 'informatieobjecten'], 'Referentiedata': ['id', 'idExtern', 'idGegevensbeheerder', 'code', 'soort', 'naam', 'omschrijving', 'parent', 'begindatum', 'einddatum', 'sortering'], 'Vragenlijst': ['id', 'idExtern', 'idGegevensbeheerder', 'code', 'soort', 'omschrijving', 'vragen', 'extra-attributen', 'informatieobjecten'], 'VragenlijstAntwoord': ['id', 'idExtern', 'idGegevensbeheerder', 'code', 'antwoord', 'toelichting', 'vraag', 'extra-attributen', 'informatieobjecten'], 'VragenlijstRegel': ['id', 'idExtern', 'idGegevensbeheerder', 'code', 'soort', 'omschrijving', 'opties', 'volgordenummer', 'vragenlijsten', 'extra-attributen', 'informatieobjecten']}, 'Onderhoud': {'Defect': ['id', 'idExtern', 'idGegevensbeheerder', 'code', 'soort', 'omschrijving', 'status', 'melddatum', 'aangetroffenOorzaak', 'bouwkundigElement', 'cluster', 'collectiefObject', 'eenheid', 'inspectierapport', 'locatie', 'onderhoudsverzoeken', 'oorzaak', 'relaties', 'extra-attributen', 'informatieobjecten'], 'ExtraAttribuut': ['naam', 'waarde'], 'Foutbericht': ['code', 'omschrijving'], 'Inspectierapport': ['id', 'idExtern', 'idGegevensbeheerder', 'code', 'soort', 'omschrijving', 'status', 'geconstateerdeDefecten', 'inspectieOrder', 'relaties', 'voorgesteldeOnderhoudstaken', 'extra-attributen', 'informatieobjecten'], 'Onderhoudsbesteding': ['id', 'idExtern', 'idGegevensbeheerder', 'code', 'soort', 'omschrijving', 'uitvoerdatum', 'uitvoerBegintijd', 'uitvoerEindtijd', 'aantal', 'bedrag', 'meeteenheid', 'onderhoudstaak', 'reistijd', 'extra-attributen', 'informatieobjecten'], 'Onderhoudsorder': ['id', 'idExtern', 'idGegevensbeheerder', 'code', 'onderhoudSoort', 'onderhoudDetailSoort', 'omschrijving', 'bovenliggendeOrder', 'status', 'begindatum', 'einddatum', 'uitersteStartdatum', 'uitersteGereeddatum', 'opdrachtdatum', 'afrekenwijze', 'afspraken', 'cluster', 'collectiefObject', 'debiteur', 'defecten', 'eenheid', 'financieelGereeddatum', 'offertes', 'onderhoudstaken', 'onderhoudsverzoeken', 'overeenkomst', 'relaties', 'technischGereeddatum', 'uitvoerendeSoort', 'extra-attributen', 'informatieobjecten'], 'Onderhoudstaak': ['id', 'idExtern', 'idGegevensbeheerder', 'code', 'omschrijving', 'status', 'detailStatus', 'afspraken', 'defecten', 'onderhoudsbestedingen', 'onderhoudsorder', 'onderhoudsverzoek', 'relaties', 'specialisme', 'voorcalculaties', 'extra-attributen', 'informatieobjecten'], 'Onderhoudstaakvoorcalculatie': ['id', 'idExtern', 'idGegevensbeheerder', 'code', 'bestedingsoort', 'omschrijving', 'aantal', 'bedrag', 'meeteenheid', 'onderhoudstaak', 'standaardprijs', 'extra-attributen', 'informatieobjecten'], 'Onderhoudsverzoek': ['id', 'idExtern', 'idGegevensbeheerder', 'code', 'onderhoudSoort', 'omschrijving', 'status', 'melddatum', 'alternatiefContactgegeven', 'contactmomenten', 'defecten', 'onderhoudsorders', 'onderhoudstaken', 'onderhoudsverzoeken', 'relaties', 'voorkeurAfspraken', 'extra-attributen', 'informatieobjecten'], 'Referentiedata': ['id', 'idExtern', 'idGegevensbeheerder', 'code', 'soort', 'naam', 'omschrijving', 'parent', 'begindatum', 'einddatum', 'sortering'], 'Standaardprijs': ['id', 'idExtern', 'idGegevensbeheerder', 'code', 'omschrijving', 'aantal', 'bedrag', 'meeteenheid', 'onderhoudstaakvoorcalculaties', 'extra-attributen', 'informatieobjecten']}, 'Overeenkomsten': {'ExtraAttribuut': ['naam', 'waarde'], 'Foutbericht': ['code', 'omschrijving'], 'Huurgeschil': ['id', 'idExtern', 'idGegevensbeheerder', 'code', 'omschrijving', 'status', 'einddatum', 'acties', 'bedrag', 'contactmomenten', 'hoorzittingdatum', 'huurcomissieDossiernummer', 'huurovereenkomst', 'matigen', 'reden', 'uitspraken', 'extra-attributen', 'informatieobjecten'], 'HuurgeschilActie': ['id', 'idExtern', 'idGegevensbeheerder', 'code', 'omschrijving', 'actiedatum', 'huurgeschil', 'relatie', 'extra-attributen', 'informatieobjecten'], 'HuurgeschilUitspraak': ['id', 'idExtern', 'idGegevensbeheerder', 'code', 'soort', 'datum', 'bedrag', 'huurgeschil', 'extra-attributen', 'informatieobjecten'], 'Huuropzegging': ['id', 'idExtern', 'idGegevensbeheerder', 'code', 'status', 'begindatum', 'einddatum', 'opzegdatum', 'huurovereenkomst', 'inspectieafspraken', 'redenOpzegging', 'relaties', 'extra-attributen', 'informatieobjecten'], 'Huurovereenkomst': ['allOf: Overeenkomst', 'opzegdatum', 'prolongatieInterval', 'prolongatieTotDatum', 'huurHerzieningsdatum', 'afwijkendeBetaler', 'afwijkendeBetalerIncassowijze', 'bepaaldeTijd', 'brutohuur', 'btw', 'huurgeschillen', 'huurtoeslagen', 'maatschappelijkLabel', 'opzegtermijn', 'rekenhuur', 'startBrutohuur', 'startBrutoJaarinkomen', 'startLeeftijd', 'vervaltermijnInterval', 'waarborgsom', 'waarborgsomRente', 'extra-attributen', 'informatieobjecten'], 'Huurtoeslag': ['id', 'idExtern', 'idGegevensbeheerder', 'code', 'huurovereenkomst', 'maand', 'jaar', 'bedrag', 'extra-attributen', 'informatieobjecten'], 'Inspectie': ['id', 'idExtern', 'idGegevensbeheerder', 'code', 'soort', 'status', 'afspraak', 'overeenkomst', 'relaties', 'extra-attributen', 'informatieobjecten'], 'Koopovereenkomst': ['allOf: Overeenkomst', 'koopsom', 'koopsomTotaal', 'kortingspercentage', 'oudHuurder', 'prijs', 'transportdatum', 'vveBijdrage', 'extra-attributen', 'informatieobjecten'], 'Onderhoudsovereenkomst': ['allOf: Overeenkomst', 'omschrijving', 'bouwkundigElement', 'cluster', 'collectiefObject', 'orders', 'specialismen', 'extra-attributen', 'informatieobjecten'], 'Overeenkomst': ['id', 'idExtern', 'idGegevensbeheerder', 'code', 'soort', 'detailSoort', 'status', 'begindatum', 'einddatum', 'conceptVersturingsdatum', 'verstuurdatum', 'versturenStatus', 'bewakingsstatus', 'betaalgegeven', 'betaalwijze', 'contactmomenten', 'eenheden', 'eindeDetailReden', 'eindeReden', 'garanties', 'incassomoment', 'incassowijze', 'onderhoudsverzoeken', 'prijscomponenten', 'redenOntbinding', 'redenOpzegging', 'redenVernietiging', 'relaties', 'versturen', 'volgnummer', 'extra-attributen', 'informatieobjecten'], 'Overeenkomstkoppeling': ['id', 'idExtern', 'idGegevensbeheerder', 'status', 'begindatum', 'einddatum', 'overeenkomsten', 'extra-attributen', 'informatieobjecten'], 'Prijscomponent': ['id', 'idExtern', 'idGegevensbeheerder', 'code', 'naam', 'soort', 'detailSoort', 'subsidieSoort', 'begindatum', 'einddatum', 'bedrag', 'bedragInclusiefBtw', 'btw', 'eenheid', 'overeenkomst', 'extra-attributen', 'informatieobjecten'], 'Referentiedata': ['id', 'idExtern', 'idGegevensbeheerder', 'code', 'soort', 'naam', 'omschrijving', 'parent', 'begindatum', 'einddatum', 'sortering'], 'Serviceovereenkomst': ['allOf: Overeenkomst', 'bedrag', 'samenwerkingsverband', 'extra-attributen', 'informatieobjecten']}, 'Projectontwikkeling': {'ExtraAttribuut': ['naam', 'waarde'], 'Foutbericht': ['code', 'omschrijving'], 'Project': ['id', 'idExtern', 'idGegevensbeheerder', 'code', 'soort', 'naam', 'bovenliggendProject', 'status', 'begindatum', 'einddatum', 'aanbestedingen', 'clusters', 'doelstelling', 'dossier', 'eenheden', 'fasen', 'percelen', 'regiesoort', 'rollen', 'extra-attributen', 'informatieobjecten'], 'Projectbesteding': ['id', 'idExtern', 'idGegevensbeheerder', 'code', 'soort', 'omschrijving', 'uitvoerdatum', 'uitvoerBegintijd', 'uitvoerEindtijd', 'aantal', 'bedrag', 'budgetregel', 'meeteenheid', 'order', 'reistijd', 'taak', 'extra-attributen', 'informatieobjecten'], 'Projectbudgetregel': ['id', 'idExtern', 'idGegevensbeheerder', 'code', 'soort', 'regelsoort', 'omschrijving', 'bovenliggendeBudgetregel', 'status', 'begindatum', 'einddatum', 'datumAanvraag', 'datumGoedkeuring', 'bedrag', 'bestedingen', 'btwTarief', 'doelstelling', 'fase', 'fasebesluit', 'grootboekrekening', 'order', 'extra-attributen', 'informatieobjecten'], 'Projectdoelstelling': ['id', 'idExtern', 'idGegevensbeheerder', 'code', 'gewensteBegindatum', 'gewensteEinddatum', 'aantalGetransformeerdeEenheden', 'aantalTeBouwenEenheden', 'aantalTeRenoverenEenheden', 'aantalTeSlopenEenheden', 'aantalTeTransformerenEenheden', 'beleidswaarde', 'brutoAanvangsrendement', 'gemBVOPerEenheid', 'gemGBOPerEenheid', 'gemiddeldeEnergieindex', 'gemiddeldeHuurprijs', 'gemiddeldeWoningwaarderingsPunten', 'gemVVOPerEenheid', 'initieleBudgetregels', 'internalRateOfReturn', 'maatschappelijkLabel', 'marktwaarde', 'nettoAanvangsrendement', 'project', 'extra-attributen', 'informatieobjecten'], 'Projectfase': ['id', 'idExtern', 'idGegevensbeheerder', 'code', 'soort', 'begindatum', 'einddatum', 'gewensteBegindatum', 'gewensteEinddatum', 'besluit', 'budgetregels', 'project', 'rollen', 'taken', 'volgnummer', 'extra-attributen', 'informatieobjecten'], 'Projectfasebesluit': ['id', 'idExtern', 'idGegevensbeheerder', 'code', 'status', 'begindatum', 'einddatum', 'budgetregels', 'fase', 'extra-attributen', 'informatieobjecten'], 'Projectorder': ['id', 'idExtern', 'idGegevensbeheerder', 'code', 'bestedingen', 'budgetregels', 'inkoopopdracht', 'overeenkomst', 'taak', 'extra-attributen', 'informatieobjecten'], 'Projectrol': ['id', 'idExtern', 'idGegevensbeheerder', 'code', 'soort', 'detailSoort', 'begindatum', 'einddatum', 'fases', 'project', 'relatie', 'taken', 'extra-attributen', 'informatieobjecten'], 'Projecttaak': ['id', 'idExtern', 'idGegevensbeheerder', 'code', 'soort', 'detailSoort', 'omschrijving', 'begindatum', 'einddatum', 'gewensteBegindatum', 'gewensteEinddatum', 'bestedingen', 'clusters', 'eenheden', 'fase', 'kwaliteitsmetingen', 'orders', 'percelen', 'rollen', 'extra-attributen', 'informatieobjecten'], 'Referentiedata': ['id', 'idExtern', 'idGegevensbeheerder', 'code', 'soort', 'naam', 'omschrijving', 'parent', 'begindatum', 'einddatum', 'sortering']}, 'Relaties': {'Account': ['id', 'idExtern', 'idGegevensbeheerder', 'code', 'status', 'begindatum', 'einddatum', 'gebruikersnaam', 'relatie', 'wachtwoorddatum', 'extra-attributen', 'informatieobjecten'], 'Afspraak': ['id', 'idExtern', 'idGegevensbeheerder', 'code', 'onderwerp', 'status', 'begindatum', 'einddatum', 'bloktijdBegin', 'bloktijdEind', 'alternatiefContactgegeven', 'contactgegeven', 'locatie', 'relaties', 'extra-attributen', 'informatieobjecten'], 'AfspraakOptie': ['id', 'idExtern', 'idGegevensbeheerder', 'code', 'begindatum', 'einddatum', 'bloktijdBegin', 'bloktijdEind', 'locatie', 'onderhoudsorder', 'onderhoudstaak', 'onderhoudsverzoek', 'planningscore', 'relaties', 'specialisme', 'extra-attributen', 'informatieobjecten'], 'Afspraakverzoek': ['id', 'idExtern', 'idGegevensbeheerder', 'code', 'soort', 'duur', 'termijn', 'adres', 'opties', 'relaties', 'volgorde', 'extra-attributen', 'informatieobjecten'], 'Betaalgegeven': ['id', 'idExtern', 'idGegevensbeheerder', 'code', 'soort', 'begindatum', 'einddatum', 'bic', 'iban', 'incassomachtigingen', 'incassowijze', 'overeenkomst', 'primair', 'rekeninghouder', 'rekeningnummer', 'rekeningPlaats', 'relatie', 'extra-attributen', 'informatieobjecten'], 'Contactgegeven': ['id', 'idExtern', 'idGegevensbeheerder', 'code', 'soort', 'detailSoort', 'status', 'relatie', 'relatierol', 'vertrouwelijkheid', 'voorkeur', 'waarde', 'extra-attributen', 'informatieobjecten'], 'Contactmoment': ['id', 'idExtern', 'idGegevensbeheerder', 'code', 'omschrijving', 'datum', 'dossier', 'kanaal', 'relaties', 'richting', 'zaak', 'extra-attributen', 'informatieobjecten'], 'ExtraAttribuut': ['naam', 'waarde'], 'Foutbericht': ['code', 'omschrijving'], 'Inkomen': ['id', 'idExtern', 'idGegevensbeheerder', 'code', 'controledatum', 'bron', 'brutoJaarinkomen', 'brutoMaandinkomen', 'inkomensverklaringsoort', 'nettoJaarinkomen', 'nettoMaandinkomen', 'relaties', 'extra-attributen', 'informatieobjecten'], 'NatuurlijkPersoon': ['allOf: Relatie', 'bsn', 'geboortedatum', 'overlijdensdatum', 'aanbiedingen', 'aanhef', 'achternaam', 'burgerlijkeStaat', 'geslacht', 'initialen', 'inkomens', 'nationaliteit', 'opleiding', 'reacties', 'regelingen', 'roepnaam', 'signaleringen', 'toewijzingen', 'tussenvoegsels', 'voorkeurstaal', 'voorletters', 'voornaam', 'voorrangsregelingen', 'extra-attributen', 'informatieobjecten'], 'Opleiding': ['id', 'idExtern', 'idGegevensbeheerder', 'code', 'studentnummer', 'begindatum', 'einddatum', 'instelling', 'niveau', 'plaats', 'relatie', 'extra-attributen', 'informatieobjecten'], 'Rechtspersoon': ['allOf: Relatie', 'kvkNummer', 'globaalLocatienummer', 'naam', 'btwNummer', 'organisatievorm', 'relaties', 'extra-attributen', 'informatieobjecten'], 'Referentiedata': ['id', 'idExtern', 'idGegevensbeheerder', 'code', 'soort', 'naam', 'omschrijving', 'parent', 'begindatum', 'einddatum', 'sortering'], 'Relatie': ['id', 'idExtern', 'idGegevensbeheerder', 'code', 'soort', 'status', 'adressen', 'afspraken', 'betaalgegevens', 'contactgegevens', 'contactmomenten', 'groepen', 'inspecties', 'onderhoudsverzoeken', 'overeenkomsten', 'rollen', 'extra-attributen', 'informatieobjecten'], 'RelatieAdres': ['id', 'idExtern', 'idGegevensbeheerder', 'code', 'soort', 'begindatum', 'einddatum', 'adres', 'relatie', 'extra-attributen', 'informatieobjecten'], 'Relatiegroep': ['allOf: Relatie', 'naam', 'relaties', 'extra-attributen', 'informatieobjecten'], 'Relatierol': ['id', 'idExtern', 'idGegevensbeheerder', 'code', 'soort', 'naam', 'omschrijving', 'begindatum', 'einddatum', 'contactgegevens', 'contactmomenten', 'relatie', 'relatieAdressen', 'rolRelatie', 'extra-attributen', 'informatieobjecten'], 'Signalering': ['id', 'idExtern', 'idGegevensbeheerder', 'code', 'soort', 'status', 'detailStatus', 'begindatum', 'einddatum', 'adres', 'relatie', 'extra-attributen', 'informatieobjecten'], 'Telefoonnummer': ['allOf: Contactgegeven', 'abonneenummer', 'dagdelen', 'extensie', 'landnummer', 'netnummer', 'extra-attributen', 'informatieobjecten']}, 'Vastgoed': {'Adres': ['id', 'idExtern', 'idGegevensbeheerder', 'code', 'soort', 'adres', 'huisletter', 'huisnummer', 'huisnummerToevoeging', 'postcode', 'straatnaam', 'extra-attributen', 'informatieobjecten'], 'AdresseerbaarObjectBasisregistratie': ['id', 'idExtern', 'idGegevensbeheerder', 'code', 'bagGebruikersOppervlakte', 'bagGebruiksdoelen', 'bagHoofdadres', 'bagIdentificatie', 'bagInOnderzoek', 'bagNevenadressen', 'bagOfficieel', 'bagOppervlakteVerblijfsobject', 'bagPandenBasisregistratie', 'bagStatus', 'geometrie', 'extra-attributen', 'informatieobjecten'], 'BagAdres': ['id', 'idExtern', 'idGegevensbeheerder', 'code', 'bagNummeraanduidingIdentificatie', 'bagOpenbareRuimteIdentificatie', 'bagNummeraanduidingInOnderzoek', 'bagNummeraanduidingOfficieel', 'bagNummeraanduidingStatus', 'bagOpenbareRuimteInOnderzoek', 'bagOpenbareruimteOfficieel', 'bagOpenbareruimtestatus', 'extra-attributen', 'informatieobjecten'], 'BagPand': ['id', 'idExtern', 'idGegevensbeheerder', 'code', 'bagIdentificatie', 'bagStatus', 'bagInOnderzoek', 'bagOfficieel', 'bagBouwdatum', 'extra-attributen', 'informatieobjecten'], 'BagWoonplaats': ['id', 'idExtern', 'idGegevensbeheerder', 'code', 'bagIdentificatie', 'bagStatus', 'bagInOnderzoek', 'bagOfficieel', 'extra-attributen', 'informatieobjecten'], 'Beleidswaarde': ['id', 'idExtern', 'idGegevensbeheerder', 'code', 'achterstalligOnderhoud', 'afkoopErfpacht', 'beheerAfslag', 'beheerskosten', 'beschikbaarheidAfslag', 'betaalbaarheidAfslag', 'eenheid', 'kwaliteitAfslag', 'marktwaarde', 'onderhoudskosten', 'streefhuur', 'waarde', 'extra-attributen', 'informatieobjecten'], 'Bouwdeel': ['id', 'idExtern', 'idGegevensbeheerder', 'code', 'naam', 'omschrijving', 'bouwdelen', 'bouwkundigeElementen', 'collectieveObjecten', 'eenheden', 'gebouw', 'pand', 'extra-attributen', 'informatieobjecten'], 'BouwkundigElement': ['id', 'idExtern', 'idGegevensbeheerder', 'code', 'naam', 'omschrijving', 'bouwdeel', 'garanties', 'relaties', 'extra-attributen', 'informatieobjecten'], 'BuitenlandsAdres': ['allOf: Adres', 'adresregel1', 'adresregel2', 'land', 'postbusnummer', 'provincie', 'woonplaats', 'extra-attributen', 'informatieobjecten'], 'Buurt': ['id', 'idExtern', 'idGegevensbeheerder', 'code', 'naam', 'omschrijving', 'eenheden', 'gebouwen', 'geometrie', 'relaties', 'wijk', 'extra-attributen', 'informatieobjecten'], 'Cluster': ['id', 'idExtern', 'idGegevensbeheerder', 'code', 'soort', 'naam', 'omschrijving', 'bovenliggendeCluster', 'begindatum', 'einddatum', 'collectieveObjecten', 'conditiemeting', 'eenheden', 'garanties', 'geometrie', 'relaties', 'extra-attributen', 'informatieobjecten'], 'CollectiefObject': ['id', 'idExtern', 'idGegevensbeheerder', 'code', 'soort', 'naam', 'adres', 'bouwdelen', 'clusters', 'eenheden', 'garanties', 'relaties', 'extra-attributen', 'informatieobjecten'], 'Conditiemeting': ['id', 'idExtern', 'idGegevensbeheerder', 'code', 'begindatum', 'einddatum', 'conditiescore', 'extra-attributen', 'informatieobjecten'], 'Eenheid': ['id', 'idExtern', 'idGegevensbeheerder', 'code', 'soort', 'detailSoort', 'naam', 'omschrijving', 'bouwnummer', 'status', 'detailStatus', 'inExploitatiedatum', 'uitExploitatiedatum', 'beginBouwdatum', 'opleverdatum', 'aantalOnzelfstandigeEenheden', 'aanvullendeDoelgroep', 'adres', 'adresseerbaarObjectBasisregistratie', 'beleidswaarde', 'benodigdeAfspraakverzoeken', 'beoogdUitExploitatieDatum', 'bestemming', 'bouwdelen', 'bovenliggendeEenheid', 'brutohuur', 'buitenruimten', 'clusters', 'collectieveObjecten', 'doelgroep', 'energieprestatie', 'energievoorzieningen', 'etage', 'gebouw', 'gebruiksoppervlakte', 'inExploitatieReden', 'interieur', 'isolatie', 'juridischEigendomspercentage', 'kadastraalNummer', 'kamersAantal', 'klimaatbeheersing', 'kwaliteitsniveau', 'ligging', 'liggingTuin', 'maatschappelijkLabel', 'marktlabel', 'marktwaarde', 'monumenten', 'nevenadressen', 'onderhoudslabel', 'overeenkomsten', 'overigeVertrekkenTotaalOppervlakte', 'panden', 'prestatieafspraken', 'prijscomponenten', 'prijsconditie', 'publicatie', 'publicatieLabel', 'rekenhuur', 'relaties', 'renovatie', 'sanitair', 'situering', 'streefhuur', 'taxaties', 'toegankelijkheidslabel', 'totaalInhoud', 'totaleOppervlakte', 'uitExploitatieReden', 'verkoop', 'vertrekken', 'vertrekkenAantal', 'verwarmdeVertrekkenAantal', 'volgnummer', 'voorwaarden', 'vraagprijs', 'woningwaarderingResultaat', 'woonvertrekInhoud', 'woonvertrekkenTotaalOppervlakte', 'woonvorm', 'wozEenheden', 'zekerheidVerpandingen', 'zelfstandig', 'zorgfaciliteitOmschrijving', 'extra-attributen', 'informatieobjecten'], 'EenheidToestand': ['id', 'idExtern', 'idGegevensbeheerder', 'code', 'status', 'detailStatus', 'begindatum', 'einddatum', 'eenheid', 'extra-attributen', 'informatieobjecten'], 'EenheidVoorwaarden': ['id', 'idExtern', 'idGegevensbeheerder', 'code', 'maximumAantalPersonen', 'maximuminkomen', 'maximunleeftijd', 'minimumAantalPersonen', 'minimuminkomen', 'minimumleeftijd', 'selectiecriteria', 'voorrangscriteria', 'extra-attributen', 'informatieobjecten'], 'Eenheidadres': ['allOf: Adres', 'bag', 'buurt', 'gemeente', 'geometrie', 'land', 'provincie', 'wijk', 'woonplaats', 'extra-attributen', 'informatieobjecten'], 'Energieprestatie': ['id', 'idExtern', 'idGegevensbeheerder', 'code', 'begindatum', 'einddatum', 'eenheid', 'index', 'label', 'relatie', 'extra-attributen', 'informatieobjecten'], 'ExtraAttribuut': ['naam', 'waarde'], 'Foutbericht': ['code', 'omschrijving'], 'Garantie': ['id', 'idExtern', 'idGegevensbeheerder', 'code', 'omschrijving', 'begindatum', 'einddatum', 'bouwdelen', 'bouwkundigeElementen', 'clusters', 'collectieveObjecten', 'eenheden', 'overeenkomst', 'relatie', 'extra-attributen', 'informatieobjecten'], 'Gebouw': ['id', 'idExtern', 'idGegevensbeheerder', 'code', 'naam', 'omschrijving', 'bouwdelen', 'buurt', 'corporatieBuurt', 'corporatieWijk', 'eenheden', 'panden', 'wijk', 'extra-attributen', 'informatieobjecten'], 'Gemeente': ['id', 'idExtern', 'idGegevensbeheerder', 'code', 'naam', 'geometrie', 'provincie', 'stadsdelen', 'woonplaatsen', 'extra-attributen', 'informatieobjecten'], 'Geometrie': ['id', 'idExtern', 'idGegevensbeheerder', 'code', 'soort', 'omschrijving', 'extra-attributen', 'informatieobjecten'], 'KadasterPerceel': ['id', 'idExtern', 'idGegevensbeheerder', 'code', 'extra-attributen', 'informatieobjecten'], 'Marktwaarde': ['id', 'idExtern', 'idGegevensbeheerder', 'code', 'beheersKosten', 'contractJaarhuur', 'disconteringsvoet', 'doorexploiterenDisconteringsvoet', 'eenheid', 'leegwaarde', 'marktJaarhuur', 'onderhoudsKosten', 'verhuurderheffing', 'verslagJaar', 'waarde', 'extra-attributen', 'informatieobjecten'], 'Pand': ['id', 'idExtern', 'idGegevensbeheerder', 'code', 'status', 'adresseerbareObjectenBasisregistratie', 'bag', 'bouwdelen', 'eenheden', 'gebouw', 'geometrie', 'kavelOppervlakte', 'liftAanwezig', 'renovatie', 'extra-attributen', 'informatieobjecten'], 'Postadres': ['allOf: Adres', 'antwoordnummer', 'postbusnummer', 'woonplaats', 'extra-attributen', 'informatieobjecten'], 'Punt': ['allOf: Geometrie', 'breedtegraad', 'lengtegraad', 'extra-attributen', 'informatieobjecten'], 'Referentiedata': ['id', 'idExtern', 'idGegevensbeheerder', 'code', 'soort', 'naam', 'omschrijving', 'parent', 'begindatum', 'einddatum', 'sortering'], 'Renovatie': ['id', 'idExtern', 'idGegevensbeheerder', 'code', 'omschrijving', 'datum', 'eenheden', 'panden', 'extra-attributen', 'informatieobjecten'], 'Stadsdeel': ['id', 'idExtern', 'idGegevensbeheerder', 'code', 'naam', 'gemeente', 'geometrie', 'wijken', 'extra-attributen', 'informatieobjecten'], 'Taxatie': ['id', 'idExtern', 'idGegevensbeheerder', 'code', 'soort', 'datum', 'eenheid', 'waarde', 'extra-attributen', 'informatieobjecten'], 'Vertrek': ['id', 'idExtern', 'idGegevensbeheerder', 'code', 'soort', 'naam', 'eenheid', 'inhoud', 'oppervlakte', 'extra-attributen', 'informatieobjecten'], 'Wijk': ['id', 'idExtern', 'idGegevensbeheerder', 'code', 'naam', 'omschrijving', 'buurten', 'geometrie', 'relaties', 'stadsdeel', 'woonplaats', 'extra-attributen', 'informatieobjecten'], 'Woningwaardering': ['id', 'idExtern', 'idGegevensbeheerder', 'code', 'begindatum', 'einddatum', 'aantal', 'criterium', 'eenheid', 'groep', 'punten', 'extra-attributen', 'informatieobjecten'], 'WoningwaarderingCriterium': ['id', 'idExtern', 'idGegevensbeheerder', 'code', 'naam', 'criteriumGroep', 'meeteenheid', 'stelsel', 'extra-attributen', 'informatieobjecten'], 'WoningwaarderingCriteriumGroep': ['id', 'idExtern', 'idGegevensbeheerder', 'code', 'naam', 'omschrijving', 'criteria', 'soort', 'stelsel', 'extra-attributen', 'informatieobjecten'], 'WoningwaarderingGroep': ['id', 'idExtern', 'idGegevensbeheerder', 'code', 'begindatum', 'einddatum', 'criteriumGroep', 'eenheid', 'punten', 'woningwaarderingen', 'extra-attributen', 'informatieobjecten'], 'WoningwaarderingResultaat': ['id', 'idExtern', 'idGegevensbeheerder', 'code', 'begindatum', 'einddatum', 'eenheid', 'groepen', 'maximaleHuur', 'punten', 'extra-attributen', 'informatieobjecten'], 'Woonplaats': ['id', 'idExtern', 'idGegevensbeheerder', 'code', 'naam', 'bag', 'gemeente', 'geometrie', 'wijken', 'extra-attributen', 'informatieobjecten'], 'WozEenheid': ['id', 'idExtern', 'idGegevensbeheerder', 'code', 'eenheid', 'vastgesteldeWaarde', 'waardepeildatum', 'extra-attributen', 'informatieobjecten'], 'ZekerheidVerpanding': ['id', 'idExtern', 'idGegevensbeheerder', 'code', 'soort', 'begindatum', 'einddatum', 'akteSoort', 'belastingdienstRegistratiedatum', 'eenheid', 'onderpandWSW', 'relaties', 'extra-attributen', 'informatieobjecten']}, 'Woonruimteverdeling': {'Aanbieding': ['id', 'idExtern', 'idGegevensbeheerder', 'code', 'status', 'detailStatus', 'antwoorddatum', 'vervaldatum', 'antwoordToelichting', 'bezichtiging', 'cluster', 'contactmomenten', 'eenheid', 'kandidaat', 'publicatie', 'relatie', 'extra-attributen', 'informatieobjecten'], 'ExtraAttribuut': ['naam', 'waarde'], 'Foutbericht': ['code', 'omschrijving'], 'Gebeurtenis': ['id', 'idExtern', 'idGegevensbeheerder', 'soort', 'begindatum', 'einddatum', 'datum', 'adres', 'contextId', 'inschrijving', 'vestiging', 'extra-attributen', 'informatieobjecten'], 'HuidigeGebruiker': ['id', 'idExtern', 'idGegevensbeheerder', 'code', 'Vertrekdatum', 'relatie', 'contactgegevens', 'extra-attributen', 'informatieobjecten'], 'Kandidaat': ['id', 'idExtern', 'idGegevensbeheerder', 'code', 'status', 'detailStatus', 'aanbiedingen', 'contactmomenten', 'eenheid', 'positie', 'publicatie', 'reactie', 'relatie', 'extra-attributen', 'informatieobjecten'], 'Publicatie': ['id', 'idExtern', 'idGegevensbeheerder', 'code', 'status', 'detailStatus', 'begindatum', 'einddatum', 'looptijd', 'opleverdatum', 'aantalEenheden', 'aantalEenhedenBeschikbaar', 'advertentieUrl', 'cluster', 'detailModel', 'eenheden', 'huidigeGebruiker', 'intakevorm', 'label', 'model', 'modules', 'oplevering', 'overeenkomstDetailsoort', 'overeenkomstsoort', 'reactieUrl', 'taal', 'wachttijd', 'wachttijdMetVoorrang', 'extra-attributen', 'informatieobjecten'], 'Puntenberekening': ['id', 'idExtern', 'idGegevensbeheerder', 'datum', 'begindatum', 'einddatum', 'puntenmutaties', 'relatie', 'situatiepunten', 'startpunten', 'zoekpunten', 'extra-attributen', 'informatieobjecten'], 'Puntenmutatie': ['id', 'idExtern', 'idGegevensbeheerder', 'soort', 'omschrijving', 'datum', 'gebeurtenissen', 'relatie', 'situatiepunten', 'startpunten', 'zoekpunten', 'extra-attributen', 'informatieobjecten'], 'Reactie': ['id', 'idExtern', 'idGegevensbeheerder', 'code', 'soort', 'status', 'detailStatus', 'datum', 'begeleiderDatum', 'contactmomenten', 'positie', 'publicatie', 'relaties', 'statusToelichting', 'voorkeur', 'extra-attributen', 'informatieobjecten'], 'Referentiedata': ['id', 'idExtern', 'idGegevensbeheerder', 'code', 'soort', 'naam', 'omschrijving', 'parent', 'begindatum', 'einddatum', 'sortering'], 'Regeling': ['id', 'idExtern', 'idGegevensbeheerder', 'code', 'soort', 'begindatum', 'einddatum', 'gebruiken', 'relatie', 'extra-attributen', 'informatieobjecten'], 'Sanctie': ['id', 'idExtern', 'idGegevensbeheerder', 'soort', 'omschrijving', 'status', 'begindatum', 'einddatum', 'gebeurtenissen', 'relatie', 'extra-attributen', 'informatieobjecten'], 'Toewijzing': ['id', 'idExtern', 'idGegevensbeheerder', 'code', 'datum', 'aanbieding', 'aanvullendeDoelgroep', 'afspraken', 'contactmomenten', 'doelgroep', 'eenheid', 'huishoudgrootte', 'isOuderenhuishouden', 'kandidaat', 'overeenkomst', 'passendheidsoort', 'publicatie', 'Rekenhuur', 'Rekeninkomen', 'relatie', 'voorrangsregelingen', 'extra-attributen', 'informatieobjecten'], 'Voorrangsregeling': ['id', 'idExtern', 'idGegevensbeheerder', 'code', 'soort', 'detailSoort', 'naam', 'begindatum', 'einddatum', 'profiel', 'relatie', 'extra-attributen', 'informatieobjecten'], 'VoorrangsregelingProfiel': ['id', 'idExtern', 'idGegevensbeheerder', 'code', 'buurten', 'eenheidSoorten', 'gemeenten', 'huidigeOppervlakte', 'huidigeVerdieping', 'huurInkomenTabel', 'maximumBrutoHuur', 'maximumKamers', 'minimumBrutoHuur', 'minimumKamers', 'minimumOppervlakte', 'stadsdelen', 'toegankelijkheidslabels', 'wijken', 'woonplaatsen', 'extra-attributen', 'informatieobjecten']}}\n"
     ]
    }
   ],
   "source": [
    "print(total_dict)"
   ]
  },
  {
   "cell_type": "code",
   "execution_count": 9,
   "id": "4c85148a",
   "metadata": {},
   "outputs": [
    {
     "name": "stdout",
     "output_type": "stream",
     "text": [
      "contactprijzen NOT in VERA\n",
      "contactprijzen NOT in VERA\n",
      "contactprijzen NOT in VERA\n",
      "contactprijzen NOT in VERA\n",
      "contactprijzen NOT in VERA\n",
      "contactprijzen NOT in VERA\n",
      "contactprijzen NOT in VERA\n",
      "contactprijzen NOT in VERA\n",
      "contactprijzen NOT in VERA\n"
     ]
    }
   ],
   "source": [
    "#check whether an object is in VERA\n",
    "#TO DO CHECK WHETHER ATTRIBUTE IS IN VERA\n",
    "object_to_check = 'contactprijzen' \n",
    "#object_to_check = 'detailStatus'\n",
    "\n",
    "my_value_list =[]\n",
    "for value in total_dict.values():\n",
    "    my_value_list.append(value)\n",
    "\n",
    "for i in range (len(my_value_list)):\n",
    "    if object_to_check in my_value_list[i]:\n",
    "        print(object_to_check + ' is in VERA')\n",
    "    else:\n",
    "        print(object_to_check + ' NOT in VERA')"
   ]
  },
  {
   "cell_type": "markdown",
   "id": "fd11418b",
   "metadata": {},
   "source": [
    "## 3. A list of items in all json files"
   ]
  },
  {
   "cell_type": "code",
   "execution_count": 9,
   "id": "5f01d988",
   "metadata": {},
   "outputs": [],
   "source": [
    "my_2nd_list = [\"Klant\", \"Leverancier\" , \"Boekstuk\" , \"Transactie\" ,'Eenheid', 'Vastgoed', 'Cluster', 'Verhuurbare Eenheid']"
   ]
  },
  {
   "cell_type": "code",
   "execution_count": 10,
   "id": "603fa6df",
   "metadata": {},
   "outputs": [
    {
     "data": {
      "text/plain": [
       "['Dossier',\n",
       " 'Financien',\n",
       " 'Kwaliteit',\n",
       " 'Onderhoud',\n",
       " 'Overeenkomsten',\n",
       " 'Projectontwikkeling',\n",
       " 'Relaties',\n",
       " 'Vastgoed',\n",
       " 'Woonruimteverdeling']"
      ]
     },
     "execution_count": 10,
     "metadata": {},
     "output_type": "execute_result"
    }
   ],
   "source": [
    "domeinen_list = list(total_dict)\n",
    "domeinen_list"
   ]
  },
  {
   "cell_type": "code",
   "execution_count": 11,
   "id": "2b6a3fdc",
   "metadata": {},
   "outputs": [
    {
     "name": "stdout",
     "output_type": "stream",
     "text": [
      "['Dossier', 'Financien', 'Kwaliteit', 'Onderhoud', 'Overeenkomsten', 'Projectontwikkeling', 'Relaties', 'Vastgoed', 'Woonruimteverdeling']\n",
      "----------------------------------------------------------------------------------------------------------\n",
      "[['Dossier', 'ExtraAttribuut', 'Foutbericht', 'Informatieobject', 'Informatieobjectkenmerk', 'Proces', 'Procesrol', 'Processtap', 'Referentiedata', 'Zaak', 'Zaakkenmerk', 'Zaakrol', 'Zaakstatus', 'Zaaktype'], ['Aanbesteding', 'Aflettering', 'Bankafschrift', 'BankafschriftRegel', 'Begroting', 'Betaalopdracht', 'Betaalwijze', 'Betalingsregeling', 'BetalingsregelingTermijn', 'Boeking', 'Boekingdetail', 'Boekjaar', 'BoekjaarPeriode', 'BoekjaarPeriodesaldo', 'BtwAangifte', 'BtwTarief', 'Crediteur', 'Debiteur', 'ExterneIncasso', 'ExterneIncassoActie', 'ExtraAttribuut', 'FinancieelBedrijf', 'Foutbericht', 'Grootboekmutatie', 'Grootboekrekening', 'IncassoOpdracht', 'Incassomachtiging', 'Inkoopfactuur', 'InkoopfactuurBetaling', 'InkoopfactuurRegel', 'Inkoopopdracht', 'InkoopopdrachtRegel', 'Lening', 'Offerte', 'Offerteregel', 'Prijsaanpassing', 'Referentiedata', 'ToegelatenInstelling', 'Verbijzondering'], ['ExtraAttribuut', 'Foutbericht', 'Kwaliteitsmetingsresultaat', 'Kwaliteitsmetingsverzoek', 'Onderzoeksopdracht', 'Onderzoeksresultaat', 'Referentiedata', 'Vragenlijst', 'VragenlijstAntwoord', 'VragenlijstRegel'], ['Defect', 'ExtraAttribuut', 'Foutbericht', 'Inspectierapport', 'Onderhoudsbesteding', 'Onderhoudsorder', 'Onderhoudstaak', 'Onderhoudstaakvoorcalculatie', 'Onderhoudsverzoek', 'Referentiedata', 'Standaardprijs'], ['ExtraAttribuut', 'Foutbericht', 'Huurgeschil', 'HuurgeschilActie', 'HuurgeschilUitspraak', 'Huuropzegging', 'Huurovereenkomst', 'Huurtoeslag', 'Inspectie', 'Koopovereenkomst', 'Onderhoudsovereenkomst', 'Overeenkomst', 'Overeenkomstkoppeling', 'Prijscomponent', 'Referentiedata', 'Serviceovereenkomst'], ['ExtraAttribuut', 'Foutbericht', 'Project', 'Projectbesteding', 'Projectbudgetregel', 'Projectdoelstelling', 'Projectfase', 'Projectfasebesluit', 'Projectorder', 'Projectrol', 'Projecttaak', 'Referentiedata'], ['Account', 'Afspraak', 'AfspraakOptie', 'Afspraakverzoek', 'Betaalgegeven', 'Contactgegeven', 'Contactmoment', 'ExtraAttribuut', 'Foutbericht', 'Inkomen', 'NatuurlijkPersoon', 'Opleiding', 'Rechtspersoon', 'Referentiedata', 'Relatie', 'RelatieAdres', 'Relatiegroep', 'Relatierol', 'Signalering', 'Telefoonnummer'], ['Adres', 'AdresseerbaarObjectBasisregistratie', 'BagAdres', 'BagPand', 'BagWoonplaats', 'Beleidswaarde', 'Bouwdeel', 'BouwkundigElement', 'BuitenlandsAdres', 'Buurt', 'Cluster', 'CollectiefObject', 'Conditiemeting', 'Eenheid', 'EenheidToestand', 'EenheidVoorwaarden', 'Eenheidadres', 'Energieprestatie', 'ExtraAttribuut', 'Foutbericht', 'Garantie', 'Gebouw', 'Gemeente', 'Geometrie', 'KadasterPerceel', 'Marktwaarde', 'Pand', 'Postadres', 'Punt', 'Referentiedata', 'Renovatie', 'Stadsdeel', 'Taxatie', 'Vertrek', 'Wijk', 'Woningwaardering', 'WoningwaarderingCriterium', 'WoningwaarderingCriteriumGroep', 'WoningwaarderingGroep', 'WoningwaarderingResultaat', 'Woonplaats', 'WozEenheid', 'ZekerheidVerpanding'], ['Aanbieding', 'ExtraAttribuut', 'Foutbericht', 'Gebeurtenis', 'HuidigeGebruiker', 'Kandidaat', 'Publicatie', 'Puntenberekening', 'Puntenmutatie', 'Reactie', 'Referentiedata', 'Regeling', 'Sanctie', 'Toewijzing', 'Voorrangsregeling', 'VoorrangsregelingProfiel']]\n",
      "----------------------------------------------------------------------------------------------------------\n",
      "[['id', 'idExtern', 'idGegevensbeheerder', 'code', 'soort', 'detailSoort', 'omschrijving', 'bovenliggendDossier', 'status', 'begindatum', 'einddatum', 'archiefActiedatum', 'archiefnominatie', 'clusters', 'collectiefObjecten', 'contactmomenten', 'deelDossiers', 'detailStatus', 'eenheden', 'inkoopfacturen', 'inkoopopdrachten', 'onderhoudsverzoeken', 'overeenkomsten', 'processen', 'relaties', 'zaken', 'extra-attributen', 'informatieobjecten'], ['naam', 'waarde'], ['code', 'omschrijving'], ['id', 'idExtern', 'idGegevensbeheerder', 'code', 'soort', 'detailSoort', 'onderwerp', 'subonderwerp', 'titel', 'beschrijving', 'status', 'detailStatus', 'registratiedatum', 'ontvangstdatum', 'publicatiedatum', 'archiefActiedatum', 'archiefnominatie', 'auteur', 'bestand', 'bestandsgrootte', 'bestandslocatie', 'bestandsnaam', 'bijlagen', 'clusters', 'collectiefObjecten', 'contactmomenten', 'dossiers', 'eenheden', 'externePublicatie', 'externePublicatietekst', 'formaat', 'gebruiksrechten', 'inkoopfacturen', 'inkoopopdrachten', 'isBijlageVan', 'onderhoudsverzoeken', 'overeenkomsten', 'processen', 'relaties', 'taal', 'verantwoordelijkeOrganisatie', 'versie', 'vertrouwelijkheid', 'zaken', 'extra-attributen'], ['id', 'idExtern', 'idGegevensbeheerder', 'code', 'omschrijving', 'waarde', 'datatype', 'groep', 'extra-attributen', 'informatieobjecten'], ['id', 'idExtern', 'idGegevensbeheerder', 'code', 'soort', 'bovenliggendProces', 'status', 'begindatum', 'einddatum', 'verloopdatum', 'clusters', 'collectiefObjecten', 'deelprocessen', 'dossiers', 'eenheden', 'inkoopfacturen', 'inkoopopdrachten', 'niveau', 'onderhoudsverzoeken', 'overeenkomsten', 'prioriteit', 'processtappen', 'relaties', 'rollen', 'zaken', 'extra-attributen', 'informatieobjecten'], ['id', 'idExtern', 'idGegevensbeheerder', 'code', 'omschrijving', 'begindatum', 'einddatum', 'processen', 'processtappen', 'relatie', 'toelichtingRol', 'extra-attributen', 'informatieobjecten'], ['id', 'idExtern', 'idGegevensbeheerder', 'code', 'soort', 'status', 'begindatum', 'einddatum', 'verloopdatum', 'actie', 'positie', 'prioriteit', 'proces', 'rollen', 'vorigeProcesstappen', 'extra-attributen', 'informatieobjecten'], ['id', 'idExtern', 'idGegevensbeheerder', 'code', 'soort', 'naam', 'omschrijving', 'parent', 'begindatum', 'einddatum', 'sortering'], ['id', 'idExtern', 'idGegevensbeheerder', 'code', 'omschrijving', 'toelichting', 'bovenliggendeZaak', 'begindatum', 'einddatum', 'registratiedatum', 'publicatiedatum', 'geplandeEinddatum', 'uiterlijkeEinddatum', 'archiefstatus', 'archiefActiedatum', 'archiefnominatie', 'clusters', 'collectiefObjecten', 'contactmomenten', 'deelzaken', 'dossier', 'eenheden', 'gerelateerdeZaken', 'inkoopfacturen', 'inkoopopdrachten', 'kenmerken', 'onderhoudsverzoeken', 'overeenkomsten', 'processen', 'relaties', 'resultaatOmschrijving', 'resultaatToelichting', 'rollen', 'verantwoordelijkeOrganisatie', 'zaakstatussen', 'zaaktype', 'extra-attributen', 'informatieobjecten'], ['id', 'idExtern', 'idGegevensbeheerder', 'code', 'omschrijving', 'waarde', 'datatype', 'groep', 'zaken', 'extra-attributen', 'informatieobjecten'], ['id', 'idExtern', 'idGegevensbeheerder', 'code', 'soort', 'omschrijving', 'begindatum', 'einddatum', 'afwijkendContactgegegeven', 'indicatieGemachtigde', 'relatie', 'toelichtingRol', 'zaak', 'zaakstatussen', 'extra-attributen', 'informatieobjecten'], ['id', 'idExtern', 'idGegevensbeheerder', 'code', 'soort', 'begindatum', 'einddatum', 'toelichting', 'zaak', 'zaakrol', 'extra-attributen', 'informatieobjecten'], ['id', 'idExtern', 'idGegevensbeheerder', 'code', 'soort', 'detailSoort', 'generiekeOmschrijving', 'omschrijving', 'begindatum', 'einddatum', 'aanleiding', 'archiefcode', 'doel', 'domein', 'doorlooptijd', 'externePublicatie', 'externePublicatietekst', 'relatie', 'servicenorm', 'trefwoord', 'vertrouwelijkheid', 'zaakstatussen', 'zaken', 'extra-attributen', 'informatieobjecten'], ['id', 'idExtern', 'idGegevensbeheerder', 'code', 'extra-attributen', 'informatieobjecten'], ['id', 'idExtern', 'idGegevensbeheerder', 'code', 'omschrijving', 'datum', 'bedrag', 'huurBoeking', 'tegenHuurBoeking', 'extra-attributen', 'informatieobjecten'], ['id', 'idExtern', 'idGegevensbeheerder', 'code', 'omschrijving', 'status', 'afBedrag', 'bankafschriftRegels', 'beginsaldo', 'bijBedrag', 'eindsaldo', 'postenAantal', 'rekening', 'relatie', 'extra-attributen', 'informatieobjecten'], ['id', 'idExtern', 'idGegevensbeheerder', 'code', 'soort', 'omschrijving', 'valutadatum', 'afBedrag', 'bankafschrift', 'betaalopdracht', 'betalingskenmerk', 'bijBedrag', 'boekingen', 'incassoOpdrachten', 'inkoopfactuurBetaling', 'rekening', 'extra-attributen', 'informatieobjecten'], ['id', 'idExtern', 'idGegevensbeheerder', 'code', 'omschrijving', 'periode', 'creditbedrag', 'debetbedrag', 'grootboekrekeningen', 'verbijzonderingen', 'versie', 'extra-attributen', 'informatieobjecten'], ['id', 'idExtern', 'idGegevensbeheerder', 'code', 'omschrijving', 'status', 'plandatum', 'fiatdatum', 'bankafschriftRegels', 'bedrag', 'grootboekmutaties', 'inkoopfactuurBetaling', 'postenAantal', 'relatie', 'extra-attributen', 'informatieobjecten'], ['id', 'idExtern', 'idGegevensbeheerder', 'code', 'soort', 'betaalgegeven', 'incassomachtiging', 'incassomoment', 'extra-attributen', 'informatieobjecten'], ['id', 'idExtern', 'idGegevensbeheerder', 'code', 'omschrijving', 'toelichting', 'status', 'begindatum', 'einddatum', 'afspraakdatum', 'bedrag', 'betaalgegeven', 'boekingen', 'debiteur', 'eindeReden', 'incassowijze', 'organisatieBetaalgegeven', 'overeenkomst', 'prolongatieInterval', 'prolongatieTotDatum', 'saldo', 'termijnen', 'termijnenAantal', 'extra-attributen', 'informatieobjecten'], ['id', 'idExtern', 'idGegevensbeheerder', 'code', 'omschrijving', 'status', 'datum', 'vervaldatum', 'bedrag', 'betalingsregeling', 'saldo', 'extra-attributen', 'informatieobjecten'], ['id', 'idExtern', 'idGegevensbeheerder', 'code', 'soort', 'detailSoort', 'omschrijving', 'status', 'boekdatum', 'factuurdatum', 'valutadatum', 'vervaldatum', 'kortingsdatum', 'aflettering', 'afletteringen', 'bankafschriftRegel', 'bedrag', 'betaalgegeven', 'betalingskenmerk', 'betalingsregelingen', 'boekingdetails', 'btwAangiftes', 'btwBedrag', 'btwGeenGrondslagbedrag', 'btwHoogAangiftebedrag', 'btwHoogGrondslagbedrag', 'btwLaagAangiftebedrag', 'btwLaagGrondslagbedrag', 'btwNulGrondslagbedrag', 'debiteur', 'externeIncassos', 'grootboekmutatie', 'huurgeschil', 'incassomachtiging', 'incassoOpdracht', 'organisatieBetaalgegeven', 'overeenkomst', 'saldo', 'extra-attributen', 'informatieobjecten'], ['id', 'idExtern', 'idGegevensbeheerder', 'code', 'omschrijving', 'aantal', 'bedrag', 'boeking', 'btwAangiftebedrag', 'btwTarief', 'grootboekmutatie', 'grootboekrekening', 'meeteenheid', 'prijsPerMeeteenheid', 'verbijzondering', 'extra-attributen', 'informatieobjecten'], ['id', 'idExtern', 'idGegevensbeheerder', 'code', 'omschrijving', 'status', 'begindatum', 'einddatum', 'bedrijf', 'boekjaarperiodes', 'periodeSoort', 'extra-attributen', 'informatieobjecten'], ['id', 'idExtern', 'idGegevensbeheerder', 'code', 'soort', 'omschrijving', 'status', 'begindatum', 'einddatum', 'begrotingen', 'boekjaar', 'boekjaarperiodesaldos', 'extra-attributen', 'informatieobjecten'], ['id', 'idExtern', 'idGegevensbeheerder', 'code', 'boekjaarPeriode', 'creditbedrag', 'debetbedrag', 'grootboekmutaties', 'grootboekrekening', 'verbijzonderingen', 'extra-attributen', 'informatieobjecten'], ['id', 'idExtern', 'idGegevensbeheerder', 'code', 'omschrijving', 'status', 'datum', 'begindatum', 'einddatum', 'bedrijf', 'boekingen', 'inkoopfacturen', 'extra-attributen', 'informatieobjecten'], ['id', 'idExtern', 'idGegevensbeheerder', 'code', 'omschrijving', 'begindatum', 'einddatum', 'boekingdetails', 'grootboekmutaties', 'inkoopfactuurregels', 'percentage', 'extra-attributen', 'informatieobjecten'], ['id', 'idExtern', 'idGegevensbeheerder', 'code', 'soort', 'status', 'bedrijf', 'betaaldagen', 'betalingsconditie', 'btwVerlegd', 'externDebiteurnummer', 'gRekening', 'gRekeningPercentage', 'inkoopfacturen', 'inkoopopdrachten', 'kortingdagen', 'rekeningen', 'relatie', 'saldo', 'wkaBegindatum', 'wkaDatumBelastingdienst', 'wkaDatumUitvoerendeInstantie', 'wkaEinddatum', 'wkaRegeling', 'extra-attributen', 'informatieobjecten'], ['id', 'idExtern', 'idGegevensbeheerder', 'code', 'soort', 'status', 'bedrijf', 'boekingen', 'btwPlichtig', 'incassomachtigingen', 'kortingsdagen', 'rekeningen', 'relatie', 'saldo', 'vervaltermijn', 'extra-attributen', 'informatieobjecten'], ['id', 'idExtern', 'idGegevensbeheerder', 'code', 'soort', 'omschrijving', 'status', 'begindatum', 'einddatum', 'overdrachtsdatum', 'bedrag', 'boekingen', 'debiteur', 'externeincassoacties', 'overeenkomst', 'relatie', 'saldo', 'extra-attributen', 'informatieobjecten'], ['id', 'idExtern', 'idGegevensbeheerder', 'code', 'soort', 'omschrijving', 'status', 'begindatum', 'einddatum', 'externeIncasso', 'relatie', 'extra-attributen', 'informatieobjecten'], ['naam', 'waarde'], ['id', 'idExtern', 'idGegevensbeheerder', 'code', 'soort', 'naam', 'betaalcyclusDuur', 'boekjaren', 'btwAangiftes', 'consolidatieBedrijf', 'crediteuren', 'debiteuren', 'deelnemingspercentage', 'geconsolideerdebedrijven', 'grootboekrekeningen', 'maatschappelijkLabel', 'relatie', 'verbijzonderingen', 'extra-attributen', 'informatieobjecten'], ['code', 'omschrijving'], ['id', 'idExtern', 'idGegevensbeheerder', 'code', 'omschrijving', 'boekdatum', 'betaalopdrachten', 'boekingdetails', 'boekingen', 'boekjaarPeriodesaldo', 'boekstuknummer', 'boekstuknummerCode', 'boekstukregel', 'btwBedrag', 'btwTarieven', 'creditbedrag', 'debetbedrag', 'grootboekrekening', 'herkomst', 'incassoOpdrachten', 'inkoopfacturen', 'inkoopfactuurBetalingen', 'inkoopfactuurRegels', 'inkoopopdrachten', 'inkoopopdrachtregels', 'volgnummer', 'extra-attributen', 'informatieobjecten'], ['id', 'idExtern', 'idGegevensbeheerder', 'code', 'soort', 'omschrijving', 'status', 'begindatum', 'einddatum', 'bedrijf', 'begrotingen', 'boekingdetails', 'boekjaarperiodesaldos', 'inkoopopdrachtregels', 'referentiegrootboekschemacode', 'extra-attributen', 'informatieobjecten'], ['id', 'idExtern', 'idGegevensbeheerder', 'code', 'omschrijving', 'aanmaakdatum', 'fiatdatum', 'plandatum', 'bankafschriftRegels', 'bedrag', 'boekingen', 'grootboekmutatie', 'postenAantal', 'rekening', 'relatie', 'saldo', 'extra-attributen', 'informatieobjecten'], ['id', 'idExtern', 'idGegevensbeheerder', 'code', 'soort', 'afgiftedatum', 'boekingen', 'debiteur', 'machtigingsnummer', 'rekening', 'extra-attributen', 'informatieobjecten'], ['id', 'idExtern', 'idGegevensbeheerder', 'code', 'soort', 'omschrijving', 'ontvangstdatum', 'boekdatum', 'factuurdatum', 'plandatum', 'vervaldatum', 'bedrag', 'betalingAkkoord', 'betalingskenmerk', 'btwAangifte', 'btwBedrag', 'btwGeenGrondslagbedrag', 'btwHoogAangiftebedrag', 'btwHoogGrondslagbedrag', 'btwLaagAangiftebedrag', 'btwLaagGrondslagbedrag', 'btwNulGrondslagbedrag', 'btwTerugTeVorderen', 'btwVerlegd', 'crediteur', 'externFactuurnummer', 'factuurGeblokkeerd', 'gRekeningbedrag', 'grootboekmutaties', 'inkoopfactuurBetaling', 'inkoopfactuurregels', 'inkoopopdracht', 'korting', 'openstaandBedrag', 'rekening', 'relatie', 'toeslag', 'extra-attributen', 'informatieobjecten'], ['id', 'idExtern', 'idGegevensbeheerder', 'code', 'omschrijving', 'status', 'datum', 'bankafschriftRegel', 'bedrag', 'betaalkenmerk', 'betaalopdracht', 'grootboekmutatie', 'inkoopfactuur', 'kortingsbedrag', 'rekening', 'rekeningBetaling', 'volgnummerInBetaalopdracht', 'extra-attributen', 'informatieobjecten'], ['id', 'idExtern', 'idGegevensbeheerder', 'code', 'omschrijving', 'bedrag', 'btwAangiftebedrag', 'btwTarief', 'grootboekmutaties', 'grootboekrekening', 'inkoopfactuur', 'inkoopopdrachtregels', 'korting', 'toeslag', 'verbijzonderingen', 'extra-attributen', 'informatieobjecten'], ['id', 'idExtern', 'idGegevensbeheerder', 'code', 'omschrijving', 'status', 'opdrachtdatum', 'boekdatum', 'btwGeenGrondslagbedrag', 'btwHoogGrondslagbedrag', 'btwLaagGrondslagbedrag', 'btwNulGrondslagbedrag', 'crediteur', 'grootboekmutaties', 'inkoopfacturen', 'inkoopodrachtregels', 'onderhoudsorder', 'projectorders', 'relatie', 'extra-attributen', 'informatieobjecten'], ['id', 'idExtern', 'idGegevensbeheerder', 'code', 'omschrijving', 'plandatum', 'btwGeenGrondslagbedrag', 'btwHoogGrondslagbedrag', 'btwLaagGrondslagbedrag', 'btwNulGrondslagbedrag', 'grootboekmutatie', 'grootboekrekening', 'inkoopfactuurregels', 'inkoopopdracht', 'onderhoudsTaak', 'extra-attributen', 'informatieobjecten'], ['id', 'idExtern', 'idGegevensbeheerder', 'code', 'omschrijving', 'soort', 'detailSoort', 'begindatum', 'einddatum', 'achtergesteld', 'aflosvorm', 'borgingWSW', 'coupondatum1', 'coupondatum2', 'couponFrequentie', 'euriborOpslag', 'financier', 'nominaalSchuldrestant', 'relaties', 'rentepercentage', 'renteperiode', 'rentesoort', 'startbedrag', 'extra-attributen', 'informatieobjecten'], ['id', 'idExtern', 'idGegevensbeheerder', 'code', 'omschrijving', 'status', 'begindatum', 'offertedatum', 'vervaldatum', 'bedrag', 'btwBedrag', 'korting', 'offerteregels', 'relaties', 'toeslag', 'extra-attributen', 'informatieobjecten'], ['id', 'idExtern', 'idGegevensbeheerder', 'code', 'omschrijving', 'aantal', 'bedrag', 'bestedingsoort', 'btwTarief', 'korting', 'meeteenheid', 'offerte', 'toeslag', 'extra-attributen', 'informatieobjecten'], ['id', 'idExtern', 'idGegevensbeheerder', 'code', 'soort', 'omschrijving', 'bedrag', 'percentage', 'extra-attributen', 'informatieobjecten'], ['id', 'idExtern', 'idGegevensbeheerder', 'code', 'soort', 'naam', 'omschrijving', 'parent', 'begindatum', 'einddatum', 'sortering'], ['id', 'idExtern', 'idGegevensbeheerder', 'code', 'omschrijving', 'verantwoordingConsolidatie', 'verantwoordingRegime', 'extra-attributen', 'informatieobjecten'], ['id', 'idExtern', 'idGegevensbeheerder', 'code', 'soort', 'omschrijving', 'status', 'beginjaar', 'beginperiode', 'eindjaar', 'eindperiode', 'bedrijf', 'begrotingen', 'boekingdetails', 'boekjaarperiodesaldos', 'inkoopofactuurregels', 'viaMemoriaalBoekenToestaan', 'viaSubBoekenToestaan', 'extra-attributen', 'informatieobjecten'], ['naam', 'waarde'], ['code', 'omschrijving'], ['id', 'idExtern', 'idGegevensbeheerder', 'code', 'omschrijving', 'datumReactie', 'beoordelingsSchaal', 'beoordelingsWaarde', 'kwaliteitsmetingsverzoek', 'onderzoeksopdracht', 'resultaatReactie', 'toelichtingBeoordeling', 'extra-attributen', 'informatieobjecten'], ['id', 'idExtern', 'idGegevensbeheerder', 'code', 'soort', 'omschrijving', 'status', 'afgerondeZaak', 'contactmoment', 'eenheid', 'kwaliteitsmetingresultaat', 'onderhoudsverzoek', 'onderzoeksopdracht', 'overeenkomst', 'relaties', 'teEnqueterenRelatie', 'extra-attributen', 'informatieobjecten'], ['id', 'idExtern', 'idGegevensbeheerder', 'code', 'soort', 'omschrijving', 'status', 'antwoorden', 'contactgegeven', 'kanaal', 'postadres', 'relatie', 'vragenlijst', 'extra-attributen', 'informatieobjecten'], ['id', 'idExtern', 'idGegevensbeheerder', 'code', 'antwoorden', 'opdracht', 'extra-attributen', 'informatieobjecten'], ['id', 'idExtern', 'idGegevensbeheerder', 'code', 'soort', 'naam', 'omschrijving', 'parent', 'begindatum', 'einddatum', 'sortering'], ['id', 'idExtern', 'idGegevensbeheerder', 'code', 'soort', 'omschrijving', 'vragen', 'extra-attributen', 'informatieobjecten'], ['id', 'idExtern', 'idGegevensbeheerder', 'code', 'antwoord', 'toelichting', 'vraag', 'extra-attributen', 'informatieobjecten'], ['id', 'idExtern', 'idGegevensbeheerder', 'code', 'soort', 'omschrijving', 'opties', 'volgordenummer', 'vragenlijsten', 'extra-attributen', 'informatieobjecten'], ['id', 'idExtern', 'idGegevensbeheerder', 'code', 'soort', 'omschrijving', 'status', 'melddatum', 'aangetroffenOorzaak', 'bouwkundigElement', 'cluster', 'collectiefObject', 'eenheid', 'inspectierapport', 'locatie', 'onderhoudsverzoeken', 'oorzaak', 'relaties', 'extra-attributen', 'informatieobjecten'], ['naam', 'waarde'], ['code', 'omschrijving'], ['id', 'idExtern', 'idGegevensbeheerder', 'code', 'soort', 'omschrijving', 'status', 'geconstateerdeDefecten', 'inspectieOrder', 'relaties', 'voorgesteldeOnderhoudstaken', 'extra-attributen', 'informatieobjecten'], ['id', 'idExtern', 'idGegevensbeheerder', 'code', 'soort', 'omschrijving', 'uitvoerdatum', 'uitvoerBegintijd', 'uitvoerEindtijd', 'aantal', 'bedrag', 'meeteenheid', 'onderhoudstaak', 'reistijd', 'extra-attributen', 'informatieobjecten'], ['id', 'idExtern', 'idGegevensbeheerder', 'code', 'onderhoudSoort', 'onderhoudDetailSoort', 'omschrijving', 'bovenliggendeOrder', 'status', 'begindatum', 'einddatum', 'uitersteStartdatum', 'uitersteGereeddatum', 'opdrachtdatum', 'afrekenwijze', 'afspraken', 'cluster', 'collectiefObject', 'debiteur', 'defecten', 'eenheid', 'financieelGereeddatum', 'offertes', 'onderhoudstaken', 'onderhoudsverzoeken', 'overeenkomst', 'relaties', 'technischGereeddatum', 'uitvoerendeSoort', 'extra-attributen', 'informatieobjecten'], ['id', 'idExtern', 'idGegevensbeheerder', 'code', 'omschrijving', 'status', 'detailStatus', 'afspraken', 'defecten', 'onderhoudsbestedingen', 'onderhoudsorder', 'onderhoudsverzoek', 'relaties', 'specialisme', 'voorcalculaties', 'extra-attributen', 'informatieobjecten'], ['id', 'idExtern', 'idGegevensbeheerder', 'code', 'bestedingsoort', 'omschrijving', 'aantal', 'bedrag', 'meeteenheid', 'onderhoudstaak', 'standaardprijs', 'extra-attributen', 'informatieobjecten'], ['id', 'idExtern', 'idGegevensbeheerder', 'code', 'onderhoudSoort', 'omschrijving', 'status', 'melddatum', 'alternatiefContactgegeven', 'contactmomenten', 'defecten', 'onderhoudsorders', 'onderhoudstaken', 'onderhoudsverzoeken', 'relaties', 'voorkeurAfspraken', 'extra-attributen', 'informatieobjecten'], ['id', 'idExtern', 'idGegevensbeheerder', 'code', 'soort', 'naam', 'omschrijving', 'parent', 'begindatum', 'einddatum', 'sortering'], ['id', 'idExtern', 'idGegevensbeheerder', 'code', 'omschrijving', 'aantal', 'bedrag', 'meeteenheid', 'onderhoudstaakvoorcalculaties', 'extra-attributen', 'informatieobjecten'], ['naam', 'waarde'], ['code', 'omschrijving'], ['id', 'idExtern', 'idGegevensbeheerder', 'code', 'omschrijving', 'status', 'einddatum', 'acties', 'bedrag', 'contactmomenten', 'hoorzittingdatum', 'huurcomissieDossiernummer', 'huurovereenkomst', 'matigen', 'reden', 'uitspraken', 'extra-attributen', 'informatieobjecten'], ['id', 'idExtern', 'idGegevensbeheerder', 'code', 'omschrijving', 'actiedatum', 'huurgeschil', 'relatie', 'extra-attributen', 'informatieobjecten'], ['id', 'idExtern', 'idGegevensbeheerder', 'code', 'soort', 'datum', 'bedrag', 'huurgeschil', 'extra-attributen', 'informatieobjecten'], ['id', 'idExtern', 'idGegevensbeheerder', 'code', 'status', 'begindatum', 'einddatum', 'opzegdatum', 'huurovereenkomst', 'inspectieafspraken', 'redenOpzegging', 'relaties', 'extra-attributen', 'informatieobjecten'], ['allOf: Overeenkomst', 'opzegdatum', 'prolongatieInterval', 'prolongatieTotDatum', 'huurHerzieningsdatum', 'afwijkendeBetaler', 'afwijkendeBetalerIncassowijze', 'bepaaldeTijd', 'brutohuur', 'btw', 'huurgeschillen', 'huurtoeslagen', 'maatschappelijkLabel', 'opzegtermijn', 'rekenhuur', 'startBrutohuur', 'startBrutoJaarinkomen', 'startLeeftijd', 'vervaltermijnInterval', 'waarborgsom', 'waarborgsomRente', 'extra-attributen', 'informatieobjecten'], ['id', 'idExtern', 'idGegevensbeheerder', 'code', 'huurovereenkomst', 'maand', 'jaar', 'bedrag', 'extra-attributen', 'informatieobjecten'], ['id', 'idExtern', 'idGegevensbeheerder', 'code', 'soort', 'status', 'afspraak', 'overeenkomst', 'relaties', 'extra-attributen', 'informatieobjecten'], ['allOf: Overeenkomst', 'koopsom', 'koopsomTotaal', 'kortingspercentage', 'oudHuurder', 'prijs', 'transportdatum', 'vveBijdrage', 'extra-attributen', 'informatieobjecten'], ['allOf: Overeenkomst', 'omschrijving', 'bouwkundigElement', 'cluster', 'collectiefObject', 'orders', 'specialismen', 'extra-attributen', 'informatieobjecten'], ['id', 'idExtern', 'idGegevensbeheerder', 'code', 'soort', 'detailSoort', 'status', 'begindatum', 'einddatum', 'conceptVersturingsdatum', 'verstuurdatum', 'versturenStatus', 'bewakingsstatus', 'betaalgegeven', 'betaalwijze', 'contactmomenten', 'eenheden', 'eindeDetailReden', 'eindeReden', 'garanties', 'incassomoment', 'incassowijze', 'onderhoudsverzoeken', 'prijscomponenten', 'redenOntbinding', 'redenOpzegging', 'redenVernietiging', 'relaties', 'versturen', 'volgnummer', 'extra-attributen', 'informatieobjecten'], ['id', 'idExtern', 'idGegevensbeheerder', 'status', 'begindatum', 'einddatum', 'overeenkomsten', 'extra-attributen', 'informatieobjecten'], ['id', 'idExtern', 'idGegevensbeheerder', 'code', 'naam', 'soort', 'detailSoort', 'subsidieSoort', 'begindatum', 'einddatum', 'bedrag', 'bedragInclusiefBtw', 'btw', 'eenheid', 'overeenkomst', 'extra-attributen', 'informatieobjecten'], ['id', 'idExtern', 'idGegevensbeheerder', 'code', 'soort', 'naam', 'omschrijving', 'parent', 'begindatum', 'einddatum', 'sortering'], ['allOf: Overeenkomst', 'bedrag', 'samenwerkingsverband', 'extra-attributen', 'informatieobjecten'], ['naam', 'waarde'], ['code', 'omschrijving'], ['id', 'idExtern', 'idGegevensbeheerder', 'code', 'soort', 'naam', 'bovenliggendProject', 'status', 'begindatum', 'einddatum', 'aanbestedingen', 'clusters', 'doelstelling', 'dossier', 'eenheden', 'fasen', 'percelen', 'regiesoort', 'rollen', 'extra-attributen', 'informatieobjecten'], ['id', 'idExtern', 'idGegevensbeheerder', 'code', 'soort', 'omschrijving', 'uitvoerdatum', 'uitvoerBegintijd', 'uitvoerEindtijd', 'aantal', 'bedrag', 'budgetregel', 'meeteenheid', 'order', 'reistijd', 'taak', 'extra-attributen', 'informatieobjecten'], ['id', 'idExtern', 'idGegevensbeheerder', 'code', 'soort', 'regelsoort', 'omschrijving', 'bovenliggendeBudgetregel', 'status', 'begindatum', 'einddatum', 'datumAanvraag', 'datumGoedkeuring', 'bedrag', 'bestedingen', 'btwTarief', 'doelstelling', 'fase', 'fasebesluit', 'grootboekrekening', 'order', 'extra-attributen', 'informatieobjecten'], ['id', 'idExtern', 'idGegevensbeheerder', 'code', 'gewensteBegindatum', 'gewensteEinddatum', 'aantalGetransformeerdeEenheden', 'aantalTeBouwenEenheden', 'aantalTeRenoverenEenheden', 'aantalTeSlopenEenheden', 'aantalTeTransformerenEenheden', 'beleidswaarde', 'brutoAanvangsrendement', 'gemBVOPerEenheid', 'gemGBOPerEenheid', 'gemiddeldeEnergieindex', 'gemiddeldeHuurprijs', 'gemiddeldeWoningwaarderingsPunten', 'gemVVOPerEenheid', 'initieleBudgetregels', 'internalRateOfReturn', 'maatschappelijkLabel', 'marktwaarde', 'nettoAanvangsrendement', 'project', 'extra-attributen', 'informatieobjecten'], ['id', 'idExtern', 'idGegevensbeheerder', 'code', 'soort', 'begindatum', 'einddatum', 'gewensteBegindatum', 'gewensteEinddatum', 'besluit', 'budgetregels', 'project', 'rollen', 'taken', 'volgnummer', 'extra-attributen', 'informatieobjecten'], ['id', 'idExtern', 'idGegevensbeheerder', 'code', 'status', 'begindatum', 'einddatum', 'budgetregels', 'fase', 'extra-attributen', 'informatieobjecten'], ['id', 'idExtern', 'idGegevensbeheerder', 'code', 'bestedingen', 'budgetregels', 'inkoopopdracht', 'overeenkomst', 'taak', 'extra-attributen', 'informatieobjecten'], ['id', 'idExtern', 'idGegevensbeheerder', 'code', 'soort', 'detailSoort', 'begindatum', 'einddatum', 'fases', 'project', 'relatie', 'taken', 'extra-attributen', 'informatieobjecten'], ['id', 'idExtern', 'idGegevensbeheerder', 'code', 'soort', 'detailSoort', 'omschrijving', 'begindatum', 'einddatum', 'gewensteBegindatum', 'gewensteEinddatum', 'bestedingen', 'clusters', 'eenheden', 'fase', 'kwaliteitsmetingen', 'orders', 'percelen', 'rollen', 'extra-attributen', 'informatieobjecten'], ['id', 'idExtern', 'idGegevensbeheerder', 'code', 'soort', 'naam', 'omschrijving', 'parent', 'begindatum', 'einddatum', 'sortering'], ['id', 'idExtern', 'idGegevensbeheerder', 'code', 'status', 'begindatum', 'einddatum', 'gebruikersnaam', 'relatie', 'wachtwoorddatum', 'extra-attributen', 'informatieobjecten'], ['id', 'idExtern', 'idGegevensbeheerder', 'code', 'onderwerp', 'status', 'begindatum', 'einddatum', 'bloktijdBegin', 'bloktijdEind', 'alternatiefContactgegeven', 'contactgegeven', 'locatie', 'relaties', 'extra-attributen', 'informatieobjecten'], ['id', 'idExtern', 'idGegevensbeheerder', 'code', 'begindatum', 'einddatum', 'bloktijdBegin', 'bloktijdEind', 'locatie', 'onderhoudsorder', 'onderhoudstaak', 'onderhoudsverzoek', 'planningscore', 'relaties', 'specialisme', 'extra-attributen', 'informatieobjecten'], ['id', 'idExtern', 'idGegevensbeheerder', 'code', 'soort', 'duur', 'termijn', 'adres', 'opties', 'relaties', 'volgorde', 'extra-attributen', 'informatieobjecten'], ['id', 'idExtern', 'idGegevensbeheerder', 'code', 'soort', 'begindatum', 'einddatum', 'bic', 'iban', 'incassomachtigingen', 'incassowijze', 'overeenkomst', 'primair', 'rekeninghouder', 'rekeningnummer', 'rekeningPlaats', 'relatie', 'extra-attributen', 'informatieobjecten'], ['id', 'idExtern', 'idGegevensbeheerder', 'code', 'soort', 'detailSoort', 'status', 'relatie', 'relatierol', 'vertrouwelijkheid', 'voorkeur', 'waarde', 'extra-attributen', 'informatieobjecten'], ['id', 'idExtern', 'idGegevensbeheerder', 'code', 'omschrijving', 'datum', 'dossier', 'kanaal', 'relaties', 'richting', 'zaak', 'extra-attributen', 'informatieobjecten'], ['naam', 'waarde'], ['code', 'omschrijving'], ['id', 'idExtern', 'idGegevensbeheerder', 'code', 'controledatum', 'bron', 'brutoJaarinkomen', 'brutoMaandinkomen', 'inkomensverklaringsoort', 'nettoJaarinkomen', 'nettoMaandinkomen', 'relaties', 'extra-attributen', 'informatieobjecten'], ['allOf: Relatie', 'bsn', 'geboortedatum', 'overlijdensdatum', 'aanbiedingen', 'aanhef', 'achternaam', 'burgerlijkeStaat', 'geslacht', 'initialen', 'inkomens', 'nationaliteit', 'opleiding', 'reacties', 'regelingen', 'roepnaam', 'signaleringen', 'toewijzingen', 'tussenvoegsels', 'voorkeurstaal', 'voorletters', 'voornaam', 'voorrangsregelingen', 'extra-attributen', 'informatieobjecten'], ['id', 'idExtern', 'idGegevensbeheerder', 'code', 'studentnummer', 'begindatum', 'einddatum', 'instelling', 'niveau', 'plaats', 'relatie', 'extra-attributen', 'informatieobjecten'], ['allOf: Relatie', 'kvkNummer', 'globaalLocatienummer', 'naam', 'btwNummer', 'organisatievorm', 'relaties', 'extra-attributen', 'informatieobjecten'], ['id', 'idExtern', 'idGegevensbeheerder', 'code', 'soort', 'naam', 'omschrijving', 'parent', 'begindatum', 'einddatum', 'sortering'], ['id', 'idExtern', 'idGegevensbeheerder', 'code', 'soort', 'status', 'adressen', 'afspraken', 'betaalgegevens', 'contactgegevens', 'contactmomenten', 'groepen', 'inspecties', 'onderhoudsverzoeken', 'overeenkomsten', 'rollen', 'extra-attributen', 'informatieobjecten'], ['id', 'idExtern', 'idGegevensbeheerder', 'code', 'soort', 'begindatum', 'einddatum', 'adres', 'relatie', 'extra-attributen', 'informatieobjecten'], ['allOf: Relatie', 'naam', 'relaties', 'extra-attributen', 'informatieobjecten'], ['id', 'idExtern', 'idGegevensbeheerder', 'code', 'soort', 'naam', 'omschrijving', 'begindatum', 'einddatum', 'contactgegevens', 'contactmomenten', 'relatie', 'relatieAdressen', 'rolRelatie', 'extra-attributen', 'informatieobjecten'], ['id', 'idExtern', 'idGegevensbeheerder', 'code', 'soort', 'status', 'detailStatus', 'begindatum', 'einddatum', 'adres', 'relatie', 'extra-attributen', 'informatieobjecten'], ['allOf: Contactgegeven', 'abonneenummer', 'dagdelen', 'extensie', 'landnummer', 'netnummer', 'extra-attributen', 'informatieobjecten'], ['id', 'idExtern', 'idGegevensbeheerder', 'code', 'soort', 'adres', 'huisletter', 'huisnummer', 'huisnummerToevoeging', 'postcode', 'straatnaam', 'extra-attributen', 'informatieobjecten'], ['id', 'idExtern', 'idGegevensbeheerder', 'code', 'bagGebruikersOppervlakte', 'bagGebruiksdoelen', 'bagHoofdadres', 'bagIdentificatie', 'bagInOnderzoek', 'bagNevenadressen', 'bagOfficieel', 'bagOppervlakteVerblijfsobject', 'bagPandenBasisregistratie', 'bagStatus', 'geometrie', 'extra-attributen', 'informatieobjecten'], ['id', 'idExtern', 'idGegevensbeheerder', 'code', 'bagNummeraanduidingIdentificatie', 'bagOpenbareRuimteIdentificatie', 'bagNummeraanduidingInOnderzoek', 'bagNummeraanduidingOfficieel', 'bagNummeraanduidingStatus', 'bagOpenbareRuimteInOnderzoek', 'bagOpenbareruimteOfficieel', 'bagOpenbareruimtestatus', 'extra-attributen', 'informatieobjecten'], ['id', 'idExtern', 'idGegevensbeheerder', 'code', 'bagIdentificatie', 'bagStatus', 'bagInOnderzoek', 'bagOfficieel', 'bagBouwdatum', 'extra-attributen', 'informatieobjecten'], ['id', 'idExtern', 'idGegevensbeheerder', 'code', 'bagIdentificatie', 'bagStatus', 'bagInOnderzoek', 'bagOfficieel', 'extra-attributen', 'informatieobjecten'], ['id', 'idExtern', 'idGegevensbeheerder', 'code', 'achterstalligOnderhoud', 'afkoopErfpacht', 'beheerAfslag', 'beheerskosten', 'beschikbaarheidAfslag', 'betaalbaarheidAfslag', 'eenheid', 'kwaliteitAfslag', 'marktwaarde', 'onderhoudskosten', 'streefhuur', 'waarde', 'extra-attributen', 'informatieobjecten'], ['id', 'idExtern', 'idGegevensbeheerder', 'code', 'naam', 'omschrijving', 'bouwdelen', 'bouwkundigeElementen', 'collectieveObjecten', 'eenheden', 'gebouw', 'pand', 'extra-attributen', 'informatieobjecten'], ['id', 'idExtern', 'idGegevensbeheerder', 'code', 'naam', 'omschrijving', 'bouwdeel', 'garanties', 'relaties', 'extra-attributen', 'informatieobjecten'], ['allOf: Adres', 'adresregel1', 'adresregel2', 'land', 'postbusnummer', 'provincie', 'woonplaats', 'extra-attributen', 'informatieobjecten'], ['id', 'idExtern', 'idGegevensbeheerder', 'code', 'naam', 'omschrijving', 'eenheden', 'gebouwen', 'geometrie', 'relaties', 'wijk', 'extra-attributen', 'informatieobjecten'], ['id', 'idExtern', 'idGegevensbeheerder', 'code', 'soort', 'naam', 'omschrijving', 'bovenliggendeCluster', 'begindatum', 'einddatum', 'collectieveObjecten', 'conditiemeting', 'eenheden', 'garanties', 'geometrie', 'relaties', 'extra-attributen', 'informatieobjecten'], ['id', 'idExtern', 'idGegevensbeheerder', 'code', 'soort', 'naam', 'adres', 'bouwdelen', 'clusters', 'eenheden', 'garanties', 'relaties', 'extra-attributen', 'informatieobjecten'], ['id', 'idExtern', 'idGegevensbeheerder', 'code', 'begindatum', 'einddatum', 'conditiescore', 'extra-attributen', 'informatieobjecten'], ['id', 'idExtern', 'idGegevensbeheerder', 'code', 'soort', 'detailSoort', 'naam', 'omschrijving', 'bouwnummer', 'status', 'detailStatus', 'inExploitatiedatum', 'uitExploitatiedatum', 'beginBouwdatum', 'opleverdatum', 'aantalOnzelfstandigeEenheden', 'aanvullendeDoelgroep', 'adres', 'adresseerbaarObjectBasisregistratie', 'beleidswaarde', 'benodigdeAfspraakverzoeken', 'beoogdUitExploitatieDatum', 'bestemming', 'bouwdelen', 'bovenliggendeEenheid', 'brutohuur', 'buitenruimten', 'clusters', 'collectieveObjecten', 'doelgroep', 'energieprestatie', 'energievoorzieningen', 'etage', 'gebouw', 'gebruiksoppervlakte', 'inExploitatieReden', 'interieur', 'isolatie', 'juridischEigendomspercentage', 'kadastraalNummer', 'kamersAantal', 'klimaatbeheersing', 'kwaliteitsniveau', 'ligging', 'liggingTuin', 'maatschappelijkLabel', 'marktlabel', 'marktwaarde', 'monumenten', 'nevenadressen', 'onderhoudslabel', 'overeenkomsten', 'overigeVertrekkenTotaalOppervlakte', 'panden', 'prestatieafspraken', 'prijscomponenten', 'prijsconditie', 'publicatie', 'publicatieLabel', 'rekenhuur', 'relaties', 'renovatie', 'sanitair', 'situering', 'streefhuur', 'taxaties', 'toegankelijkheidslabel', 'totaalInhoud', 'totaleOppervlakte', 'uitExploitatieReden', 'verkoop', 'vertrekken', 'vertrekkenAantal', 'verwarmdeVertrekkenAantal', 'volgnummer', 'voorwaarden', 'vraagprijs', 'woningwaarderingResultaat', 'woonvertrekInhoud', 'woonvertrekkenTotaalOppervlakte', 'woonvorm', 'wozEenheden', 'zekerheidVerpandingen', 'zelfstandig', 'zorgfaciliteitOmschrijving', 'extra-attributen', 'informatieobjecten'], ['id', 'idExtern', 'idGegevensbeheerder', 'code', 'status', 'detailStatus', 'begindatum', 'einddatum', 'eenheid', 'extra-attributen', 'informatieobjecten'], ['id', 'idExtern', 'idGegevensbeheerder', 'code', 'maximumAantalPersonen', 'maximuminkomen', 'maximunleeftijd', 'minimumAantalPersonen', 'minimuminkomen', 'minimumleeftijd', 'selectiecriteria', 'voorrangscriteria', 'extra-attributen', 'informatieobjecten'], ['allOf: Adres', 'bag', 'buurt', 'gemeente', 'geometrie', 'land', 'provincie', 'wijk', 'woonplaats', 'extra-attributen', 'informatieobjecten'], ['id', 'idExtern', 'idGegevensbeheerder', 'code', 'begindatum', 'einddatum', 'eenheid', 'index', 'label', 'relatie', 'extra-attributen', 'informatieobjecten'], ['naam', 'waarde'], ['code', 'omschrijving'], ['id', 'idExtern', 'idGegevensbeheerder', 'code', 'omschrijving', 'begindatum', 'einddatum', 'bouwdelen', 'bouwkundigeElementen', 'clusters', 'collectieveObjecten', 'eenheden', 'overeenkomst', 'relatie', 'extra-attributen', 'informatieobjecten'], ['id', 'idExtern', 'idGegevensbeheerder', 'code', 'naam', 'omschrijving', 'bouwdelen', 'buurt', 'corporatieBuurt', 'corporatieWijk', 'eenheden', 'panden', 'wijk', 'extra-attributen', 'informatieobjecten'], ['id', 'idExtern', 'idGegevensbeheerder', 'code', 'naam', 'geometrie', 'provincie', 'stadsdelen', 'woonplaatsen', 'extra-attributen', 'informatieobjecten'], ['id', 'idExtern', 'idGegevensbeheerder', 'code', 'soort', 'omschrijving', 'extra-attributen', 'informatieobjecten'], ['id', 'idExtern', 'idGegevensbeheerder', 'code', 'extra-attributen', 'informatieobjecten'], ['id', 'idExtern', 'idGegevensbeheerder', 'code', 'beheersKosten', 'contractJaarhuur', 'disconteringsvoet', 'doorexploiterenDisconteringsvoet', 'eenheid', 'leegwaarde', 'marktJaarhuur', 'onderhoudsKosten', 'verhuurderheffing', 'verslagJaar', 'waarde', 'extra-attributen', 'informatieobjecten'], ['id', 'idExtern', 'idGegevensbeheerder', 'code', 'status', 'adresseerbareObjectenBasisregistratie', 'bag', 'bouwdelen', 'eenheden', 'gebouw', 'geometrie', 'kavelOppervlakte', 'liftAanwezig', 'renovatie', 'extra-attributen', 'informatieobjecten'], ['allOf: Adres', 'antwoordnummer', 'postbusnummer', 'woonplaats', 'extra-attributen', 'informatieobjecten'], ['allOf: Geometrie', 'breedtegraad', 'lengtegraad', 'extra-attributen', 'informatieobjecten'], ['id', 'idExtern', 'idGegevensbeheerder', 'code', 'soort', 'naam', 'omschrijving', 'parent', 'begindatum', 'einddatum', 'sortering'], ['id', 'idExtern', 'idGegevensbeheerder', 'code', 'omschrijving', 'datum', 'eenheden', 'panden', 'extra-attributen', 'informatieobjecten'], ['id', 'idExtern', 'idGegevensbeheerder', 'code', 'naam', 'gemeente', 'geometrie', 'wijken', 'extra-attributen', 'informatieobjecten'], ['id', 'idExtern', 'idGegevensbeheerder', 'code', 'soort', 'datum', 'eenheid', 'waarde', 'extra-attributen', 'informatieobjecten'], ['id', 'idExtern', 'idGegevensbeheerder', 'code', 'soort', 'naam', 'eenheid', 'inhoud', 'oppervlakte', 'extra-attributen', 'informatieobjecten'], ['id', 'idExtern', 'idGegevensbeheerder', 'code', 'naam', 'omschrijving', 'buurten', 'geometrie', 'relaties', 'stadsdeel', 'woonplaats', 'extra-attributen', 'informatieobjecten'], ['id', 'idExtern', 'idGegevensbeheerder', 'code', 'begindatum', 'einddatum', 'aantal', 'criterium', 'eenheid', 'groep', 'punten', 'extra-attributen', 'informatieobjecten'], ['id', 'idExtern', 'idGegevensbeheerder', 'code', 'naam', 'criteriumGroep', 'meeteenheid', 'stelsel', 'extra-attributen', 'informatieobjecten'], ['id', 'idExtern', 'idGegevensbeheerder', 'code', 'naam', 'omschrijving', 'criteria', 'soort', 'stelsel', 'extra-attributen', 'informatieobjecten'], ['id', 'idExtern', 'idGegevensbeheerder', 'code', 'begindatum', 'einddatum', 'criteriumGroep', 'eenheid', 'punten', 'woningwaarderingen', 'extra-attributen', 'informatieobjecten'], ['id', 'idExtern', 'idGegevensbeheerder', 'code', 'begindatum', 'einddatum', 'eenheid', 'groepen', 'maximaleHuur', 'punten', 'extra-attributen', 'informatieobjecten'], ['id', 'idExtern', 'idGegevensbeheerder', 'code', 'naam', 'bag', 'gemeente', 'geometrie', 'wijken', 'extra-attributen', 'informatieobjecten'], ['id', 'idExtern', 'idGegevensbeheerder', 'code', 'eenheid', 'vastgesteldeWaarde', 'waardepeildatum', 'extra-attributen', 'informatieobjecten'], ['id', 'idExtern', 'idGegevensbeheerder', 'code', 'soort', 'begindatum', 'einddatum', 'akteSoort', 'belastingdienstRegistratiedatum', 'eenheid', 'onderpandWSW', 'relaties', 'extra-attributen', 'informatieobjecten'], ['id', 'idExtern', 'idGegevensbeheerder', 'code', 'status', 'detailStatus', 'antwoorddatum', 'vervaldatum', 'antwoordToelichting', 'bezichtiging', 'cluster', 'contactmomenten', 'eenheid', 'kandidaat', 'publicatie', 'relatie', 'extra-attributen', 'informatieobjecten'], ['naam', 'waarde'], ['code', 'omschrijving'], ['id', 'idExtern', 'idGegevensbeheerder', 'soort', 'begindatum', 'einddatum', 'datum', 'adres', 'contextId', 'inschrijving', 'vestiging', 'extra-attributen', 'informatieobjecten'], ['id', 'idExtern', 'idGegevensbeheerder', 'code', 'Vertrekdatum', 'relatie', 'contactgegevens', 'extra-attributen', 'informatieobjecten'], ['id', 'idExtern', 'idGegevensbeheerder', 'code', 'status', 'detailStatus', 'aanbiedingen', 'contactmomenten', 'eenheid', 'positie', 'publicatie', 'reactie', 'relatie', 'extra-attributen', 'informatieobjecten'], ['id', 'idExtern', 'idGegevensbeheerder', 'code', 'status', 'detailStatus', 'begindatum', 'einddatum', 'looptijd', 'opleverdatum', 'aantalEenheden', 'aantalEenhedenBeschikbaar', 'advertentieUrl', 'cluster', 'detailModel', 'eenheden', 'huidigeGebruiker', 'intakevorm', 'label', 'model', 'modules', 'oplevering', 'overeenkomstDetailsoort', 'overeenkomstsoort', 'reactieUrl', 'taal', 'wachttijd', 'wachttijdMetVoorrang', 'extra-attributen', 'informatieobjecten'], ['id', 'idExtern', 'idGegevensbeheerder', 'datum', 'begindatum', 'einddatum', 'puntenmutaties', 'relatie', 'situatiepunten', 'startpunten', 'zoekpunten', 'extra-attributen', 'informatieobjecten'], ['id', 'idExtern', 'idGegevensbeheerder', 'soort', 'omschrijving', 'datum', 'gebeurtenissen', 'relatie', 'situatiepunten', 'startpunten', 'zoekpunten', 'extra-attributen', 'informatieobjecten'], ['id', 'idExtern', 'idGegevensbeheerder', 'code', 'soort', 'status', 'detailStatus', 'datum', 'begeleiderDatum', 'contactmomenten', 'positie', 'publicatie', 'relaties', 'statusToelichting', 'voorkeur', 'extra-attributen', 'informatieobjecten'], ['id', 'idExtern', 'idGegevensbeheerder', 'code', 'soort', 'naam', 'omschrijving', 'parent', 'begindatum', 'einddatum', 'sortering'], ['id', 'idExtern', 'idGegevensbeheerder', 'code', 'soort', 'begindatum', 'einddatum', 'gebruiken', 'relatie', 'extra-attributen', 'informatieobjecten'], ['id', 'idExtern', 'idGegevensbeheerder', 'soort', 'omschrijving', 'status', 'begindatum', 'einddatum', 'gebeurtenissen', 'relatie', 'extra-attributen', 'informatieobjecten'], ['id', 'idExtern', 'idGegevensbeheerder', 'code', 'datum', 'aanbieding', 'aanvullendeDoelgroep', 'afspraken', 'contactmomenten', 'doelgroep', 'eenheid', 'huishoudgrootte', 'isOuderenhuishouden', 'kandidaat', 'overeenkomst', 'passendheidsoort', 'publicatie', 'Rekenhuur', 'Rekeninkomen', 'relatie', 'voorrangsregelingen', 'extra-attributen', 'informatieobjecten'], ['id', 'idExtern', 'idGegevensbeheerder', 'code', 'soort', 'detailSoort', 'naam', 'begindatum', 'einddatum', 'profiel', 'relatie', 'extra-attributen', 'informatieobjecten'], ['id', 'idExtern', 'idGegevensbeheerder', 'code', 'buurten', 'eenheidSoorten', 'gemeenten', 'huidigeOppervlakte', 'huidigeVerdieping', 'huurInkomenTabel', 'maximumBrutoHuur', 'maximumKamers', 'minimumBrutoHuur', 'minimumKamers', 'minimumOppervlakte', 'stadsdelen', 'toegankelijkheidslabels', 'wijken', 'woonplaatsen', 'extra-attributen', 'informatieobjecten']]\n"
     ]
    }
   ],
   "source": [
    "#Converting the dictionary to lists\n",
    "domeinen_list = list(total_dict)\n",
    "#print(domeinen_list)\n",
    "for i in range(len(domeinen_list)):\n",
    "    objecten_list =[]\n",
    "    attributen_list=[]\n",
    "    for domein, objecten in total_dict.items():\n",
    "        value_list = objecten\n",
    "        objecten_list.append(list(value_list))\n",
    "        for object, attributen in objecten.items():\n",
    "            value_list2 = attributen\n",
    "            attributen_list.append(list(value_list2))\n",
    "        \n",
    "print(domeinen_list)\n",
    "print('----------------------------------------------------------------------------------------------------------')\n",
    "print(objecten_list)\n",
    "print('----------------------------------------------------------------------------------------------------------')\n",
    "print(attributen_list)"
   ]
  },
  {
   "cell_type": "code",
   "execution_count": 12,
   "id": "4ace89f0",
   "metadata": {},
   "outputs": [
    {
     "data": {
      "text/plain": [
       "[['Dossier',\n",
       "  'ExtraAttribuut',\n",
       "  'Foutbericht',\n",
       "  'Informatieobject',\n",
       "  'Informatieobjectkenmerk',\n",
       "  'Proces',\n",
       "  'Procesrol',\n",
       "  'Processtap',\n",
       "  'Referentiedata',\n",
       "  'Zaak',\n",
       "  'Zaakkenmerk',\n",
       "  'Zaakrol',\n",
       "  'Zaakstatus',\n",
       "  'Zaaktype'],\n",
       " ['Aanbesteding',\n",
       "  'Aflettering',\n",
       "  'Bankafschrift',\n",
       "  'BankafschriftRegel',\n",
       "  'Begroting',\n",
       "  'Betaalopdracht',\n",
       "  'Betaalwijze',\n",
       "  'Betalingsregeling',\n",
       "  'BetalingsregelingTermijn',\n",
       "  'Boeking',\n",
       "  'Boekingdetail',\n",
       "  'Boekjaar',\n",
       "  'BoekjaarPeriode',\n",
       "  'BoekjaarPeriodesaldo',\n",
       "  'BtwAangifte',\n",
       "  'BtwTarief',\n",
       "  'Crediteur',\n",
       "  'Debiteur',\n",
       "  'ExterneIncasso',\n",
       "  'ExterneIncassoActie',\n",
       "  'ExtraAttribuut',\n",
       "  'FinancieelBedrijf',\n",
       "  'Foutbericht',\n",
       "  'Grootboekmutatie',\n",
       "  'Grootboekrekening',\n",
       "  'IncassoOpdracht',\n",
       "  'Incassomachtiging',\n",
       "  'Inkoopfactuur',\n",
       "  'InkoopfactuurBetaling',\n",
       "  'InkoopfactuurRegel',\n",
       "  'Inkoopopdracht',\n",
       "  'InkoopopdrachtRegel',\n",
       "  'Lening',\n",
       "  'Offerte',\n",
       "  'Offerteregel',\n",
       "  'Prijsaanpassing',\n",
       "  'Referentiedata',\n",
       "  'ToegelatenInstelling',\n",
       "  'Verbijzondering'],\n",
       " ['ExtraAttribuut',\n",
       "  'Foutbericht',\n",
       "  'Kwaliteitsmetingsresultaat',\n",
       "  'Kwaliteitsmetingsverzoek',\n",
       "  'Onderzoeksopdracht',\n",
       "  'Onderzoeksresultaat',\n",
       "  'Referentiedata',\n",
       "  'Vragenlijst',\n",
       "  'VragenlijstAntwoord',\n",
       "  'VragenlijstRegel'],\n",
       " ['Defect',\n",
       "  'ExtraAttribuut',\n",
       "  'Foutbericht',\n",
       "  'Inspectierapport',\n",
       "  'Onderhoudsbesteding',\n",
       "  'Onderhoudsorder',\n",
       "  'Onderhoudstaak',\n",
       "  'Onderhoudstaakvoorcalculatie',\n",
       "  'Onderhoudsverzoek',\n",
       "  'Referentiedata',\n",
       "  'Standaardprijs'],\n",
       " ['ExtraAttribuut',\n",
       "  'Foutbericht',\n",
       "  'Huurgeschil',\n",
       "  'HuurgeschilActie',\n",
       "  'HuurgeschilUitspraak',\n",
       "  'Huuropzegging',\n",
       "  'Huurovereenkomst',\n",
       "  'Huurtoeslag',\n",
       "  'Inspectie',\n",
       "  'Koopovereenkomst',\n",
       "  'Onderhoudsovereenkomst',\n",
       "  'Overeenkomst',\n",
       "  'Overeenkomstkoppeling',\n",
       "  'Prijscomponent',\n",
       "  'Referentiedata',\n",
       "  'Serviceovereenkomst'],\n",
       " ['ExtraAttribuut',\n",
       "  'Foutbericht',\n",
       "  'Project',\n",
       "  'Projectbesteding',\n",
       "  'Projectbudgetregel',\n",
       "  'Projectdoelstelling',\n",
       "  'Projectfase',\n",
       "  'Projectfasebesluit',\n",
       "  'Projectorder',\n",
       "  'Projectrol',\n",
       "  'Projecttaak',\n",
       "  'Referentiedata'],\n",
       " ['Account',\n",
       "  'Afspraak',\n",
       "  'AfspraakOptie',\n",
       "  'Afspraakverzoek',\n",
       "  'Betaalgegeven',\n",
       "  'Contactgegeven',\n",
       "  'Contactmoment',\n",
       "  'ExtraAttribuut',\n",
       "  'Foutbericht',\n",
       "  'Inkomen',\n",
       "  'NatuurlijkPersoon',\n",
       "  'Opleiding',\n",
       "  'Rechtspersoon',\n",
       "  'Referentiedata',\n",
       "  'Relatie',\n",
       "  'RelatieAdres',\n",
       "  'Relatiegroep',\n",
       "  'Relatierol',\n",
       "  'Signalering',\n",
       "  'Telefoonnummer'],\n",
       " ['Adres',\n",
       "  'AdresseerbaarObjectBasisregistratie',\n",
       "  'BagAdres',\n",
       "  'BagPand',\n",
       "  'BagWoonplaats',\n",
       "  'Beleidswaarde',\n",
       "  'Bouwdeel',\n",
       "  'BouwkundigElement',\n",
       "  'BuitenlandsAdres',\n",
       "  'Buurt',\n",
       "  'Cluster',\n",
       "  'CollectiefObject',\n",
       "  'Conditiemeting',\n",
       "  'Eenheid',\n",
       "  'EenheidToestand',\n",
       "  'EenheidVoorwaarden',\n",
       "  'Eenheidadres',\n",
       "  'Energieprestatie',\n",
       "  'ExtraAttribuut',\n",
       "  'Foutbericht',\n",
       "  'Garantie',\n",
       "  'Gebouw',\n",
       "  'Gemeente',\n",
       "  'Geometrie',\n",
       "  'KadasterPerceel',\n",
       "  'Marktwaarde',\n",
       "  'Pand',\n",
       "  'Postadres',\n",
       "  'Punt',\n",
       "  'Referentiedata',\n",
       "  'Renovatie',\n",
       "  'Stadsdeel',\n",
       "  'Taxatie',\n",
       "  'Vertrek',\n",
       "  'Wijk',\n",
       "  'Woningwaardering',\n",
       "  'WoningwaarderingCriterium',\n",
       "  'WoningwaarderingCriteriumGroep',\n",
       "  'WoningwaarderingGroep',\n",
       "  'WoningwaarderingResultaat',\n",
       "  'Woonplaats',\n",
       "  'WozEenheid',\n",
       "  'ZekerheidVerpanding'],\n",
       " ['Aanbieding',\n",
       "  'ExtraAttribuut',\n",
       "  'Foutbericht',\n",
       "  'Gebeurtenis',\n",
       "  'HuidigeGebruiker',\n",
       "  'Kandidaat',\n",
       "  'Publicatie',\n",
       "  'Puntenberekening',\n",
       "  'Puntenmutatie',\n",
       "  'Reactie',\n",
       "  'Referentiedata',\n",
       "  'Regeling',\n",
       "  'Sanctie',\n",
       "  'Toewijzing',\n",
       "  'Voorrangsregeling',\n",
       "  'VoorrangsregelingProfiel']]"
      ]
     },
     "execution_count": 12,
     "metadata": {},
     "output_type": "execute_result"
    }
   ],
   "source": [
    "objecten_list"
   ]
  },
  {
   "cell_type": "code",
   "execution_count": 13,
   "id": "698be5d6",
   "metadata": {},
   "outputs": [
    {
     "name": "stdout",
     "output_type": "stream",
     "text": [
      "---------------------\n",
      "[]\n"
     ]
    }
   ],
   "source": [
    "#WORKING SCRIPT FOR Objects \n",
    "#l = [\"Klant\", \"Leverancier\" , \"Boekstuk\" , \"Transactie\" ,'Eenheid', 'Vastgoed', 'Cluster', 'Verhuurbare Eenheid']\n",
    "l = ['contractprijzen']\n",
    "\n",
    "object_in_vera = []\n",
    "for i in range (len(l)):\n",
    "    for j in range (len(objecten_list)):\n",
    "        for k in range(len(objecten_list[j])):\n",
    "            if l[i] == objecten_list[j][k]:\n",
    "                print(str(l[i])+ ' is in object ' + str(objecten_list[j][k]) +' = True')\n",
    "                object_in_vera.append(l[i])\n",
    "print('---------------------')\n",
    "print(object_in_vera)"
   ]
  },
  {
   "cell_type": "code",
   "execution_count": 14,
   "id": "a8171b07",
   "metadata": {},
   "outputs": [
    {
     "name": "stdout",
     "output_type": "stream",
     "text": [
      "[]\n",
      "['contractprijzen']\n"
     ]
    }
   ],
   "source": [
    "print(object_in_vera)\n",
    "print(l)\n",
    "my_dict = {}\n",
    "for i in range(len(l)):\n",
    "    if l[i] in object_in_vera:\n",
    "        print('yes')\n",
    "        my_dict[l[i]] = 'yes'\n",
    "    else:\n",
    "        my_dict[l[i]] = 'no'\n",
    "    "
   ]
  },
  {
   "cell_type": "code",
   "execution_count": 15,
   "id": "24be4855",
   "metadata": {},
   "outputs": [
    {
     "data": {
      "text/plain": [
       "{'contractprijzen': 'no'}"
      ]
     },
     "execution_count": 15,
     "metadata": {},
     "output_type": "execute_result"
    }
   ],
   "source": [
    "my_dict"
   ]
  },
  {
   "cell_type": "code",
   "execution_count": 16,
   "id": "8dd90d17",
   "metadata": {},
   "outputs": [
    {
     "data": {
      "text/plain": [
       "'VoorrangsregelingProfiel'"
      ]
     },
     "execution_count": 16,
     "metadata": {},
     "output_type": "execute_result"
    }
   ],
   "source": [
    "#check the \n",
    "objecten_list[j][k]"
   ]
  },
  {
   "cell_type": "code",
   "execution_count": 12,
   "id": "33e80f0b",
   "metadata": {},
   "outputs": [
    {
     "data": {
      "text/plain": [
       "'C:\\\\Users\\\\31653\\\\Documents\\\\GitHub\\\\Notebooks\\\\de_alliantie\\\\VERA'"
      ]
     },
     "execution_count": 12,
     "metadata": {},
     "output_type": "execute_result"
    }
   ],
   "source": [
    "pwd"
   ]
  },
  {
   "cell_type": "code",
   "execution_count": 18,
   "id": "f22646c3",
   "metadata": {},
   "outputs": [
    {
     "data": {
      "text/plain": [
       "['Eenheid',\n",
       " 'BeschikbareTijdslotsRequest',\n",
       " 'FinancieelBedrijf',\n",
       " 'Sturingslabel',\n",
       " 'Tijdslot',\n",
       " 'Contactgegeven',\n",
       " 'TijdslotsResponse',\n",
       " 'NatuurlijkPersoon',\n",
       " 'BoekTijdslotRequest',\n",
       " 'Onderhoudstaak',\n",
       " 'ErrorResponse',\n",
       " 'UpdateTijdslotRequest']"
      ]
     },
     "execution_count": 18,
     "metadata": {},
     "output_type": "execute_result"
    }
   ],
   "source": [
    "# Importing the planningsverzoeken API and converting the objects to a list\n",
    "import json\n",
    "with open('C:\\\\Users\\\\31653\\\\Documents\\\\GitHub\\\\Notebooks\\\\de_alliantie\\planningsverzoeken-api_data.json') as json_file:\n",
    "    data = json.load(json_file)\n",
    "#convert to a dict   \n",
    "planningsverzoeken = data_dict = json.loads(data)\n",
    "planningsverzoeken_obj =list(planningsverzoeken)\n",
    "planningsverzoeken_obj"
   ]
  },
  {
   "cell_type": "code",
   "execution_count": 19,
   "id": "4d29078a",
   "metadata": {},
   "outputs": [
    {
     "data": {
      "text/plain": [
       "['identificatie',\n",
       " 'actiecode',\n",
       " 'bedrijf',\n",
       " 'begindatum',\n",
       " 'eenheid',\n",
       " 'einddatum',\n",
       " 'identificatie',\n",
       " 'identificatie',\n",
       " 'datum',\n",
       " 'label',\n",
       " 'soort',\n",
       " 'bron',\n",
       " 'index',\n",
       " 'begindatum',\n",
       " 'einddatum',\n",
       " 'medewerker',\n",
       " 'reisafstand',\n",
       " 'reistijd',\n",
       " 'routeid',\n",
       " 'volgnummer',\n",
       " 'soort',\n",
       " 'detailSoort',\n",
       " 'waarde',\n",
       " 'voorkeur',\n",
       " 'landnummer',\n",
       " 'netnummer',\n",
       " 'abonneenummer',\n",
       " 'extensie',\n",
       " 'dagdelen',\n",
       " 'identificatie',\n",
       " 'tijdslots',\n",
       " 'identificatie',\n",
       " 'soort',\n",
       " 'voornaam',\n",
       " 'initialen',\n",
       " 'tussenvoegsels',\n",
       " 'achternaam',\n",
       " 'roepnaam',\n",
       " 'aanhef',\n",
       " 'voorletters',\n",
       " 'contactgegevens',\n",
       " 'sturingslabels',\n",
       " 'tijdslot',\n",
       " 'bedrijf',\n",
       " 'onderhoudstaak',\n",
       " 'identificatie',\n",
       " 'timestamp',\n",
       " 'status',\n",
       " 'error',\n",
       " 'message',\n",
       " 'tijdslot']"
      ]
     },
     "execution_count": 19,
     "metadata": {},
     "output_type": "execute_result"
    }
   ],
   "source": [
    "attribute_list = []\n",
    "for key, value in planningsverzoeken.items():\n",
    "    l = value\n",
    "    for i in range(len(l)):\n",
    "        attribute_list.append(l[i])\n",
    "attribute_list"
   ]
  },
  {
   "cell_type": "code",
   "execution_count": 20,
   "id": "be4a4565",
   "metadata": {},
   "outputs": [
    {
     "name": "stdout",
     "output_type": "stream",
     "text": [
      "FinancieelBedrijf is in object FinancieelBedrijf = True\n",
      "Onderhoudstaak is in object Onderhoudstaak = True\n",
      "Contactgegeven is in object Contactgegeven = True\n",
      "NatuurlijkPersoon is in object NatuurlijkPersoon = True\n",
      "Eenheid is in object Eenheid = True\n"
     ]
    }
   ],
   "source": [
    "#WORKING SCRIPT FOR Objects \n",
    "#l = [\"Klant\", \"Leverancier\" , \"Boekstuk\" , \"Transactie\" ,'Eenheid', 'Vastgoed', 'Cluster', 'Verhuurbare Eenheid']\n",
    "l = planningsverzoeken_obj\n",
    "\n",
    "for j in range (len(objecten_list)):\n",
    "    for k in range(len(objecten_list[j])):\n",
    "        for i in range (len(l)):\n",
    "            if l[i] == objecten_list[j][k]:\n",
    "                print(str(l[i])+ ' is in object ' + str(objecten_list[j][k]) +' = True') "
   ]
  },
  {
   "cell_type": "code",
   "execution_count": 24,
   "id": "7dd3d154",
   "metadata": {},
   "outputs": [],
   "source": [
    "#working script for attributes\n",
    "#l = [\"Klant\", \"Leverancier\" , \"Boekstuk\" , \"Transactie\" ,'Eenheid', 'Vastgoed', 'Cluster', 'Verhuurbare Eenheid', 'creditbedrag']\n",
    "#l = attribute_list\n",
    "l = ['contractprijs']\n",
    "for j in range (len(attributen_list)):\n",
    "    for k in range(len(attributen_list[j])):\n",
    "        for i in range (len(l)):\n",
    "            if l[i] == attributen_list[j][k]:\n",
    "                print(str(l[i])+ ' is attributen_list = True')"
   ]
  },
  {
   "cell_type": "code",
   "execution_count": null,
   "id": "d6e51d73",
   "metadata": {},
   "outputs": [],
   "source": []
  }
 ],
 "metadata": {
  "kernelspec": {
   "display_name": "Python 3 (ipykernel)",
   "language": "python",
   "name": "python3"
  },
  "language_info": {
   "codemirror_mode": {
    "name": "ipython",
    "version": 3
   },
   "file_extension": ".py",
   "mimetype": "text/x-python",
   "name": "python",
   "nbconvert_exporter": "python",
   "pygments_lexer": "ipython3",
   "version": "3.8.5"
  }
 },
 "nbformat": 4,
 "nbformat_minor": 5
}
