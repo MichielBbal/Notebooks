{
 "cells": [
  {
   "cell_type": "code",
   "execution_count": null,
   "id": "d3896ae3",
   "metadata": {},
   "outputs": [],
   "source": []
  },
  {
   "cell_type": "markdown",
   "id": "e2ab92fb",
   "metadata": {},
   "source": [
    "# Parsing xsd with xmlschema library\n",
    "\n",
    "A Notebook to parse xsd / xml files into a Python dictionary. \n",
    "\n",
    "### Links:\n",
    "- https://xmlschema.readthedocs.io/en/latest/ \n",
    "- https://pypi.org/project/xmlschema/\n"
   ]
  },
  {
   "cell_type": "code",
   "execution_count": 1,
   "id": "45b10be2",
   "metadata": {},
   "outputs": [
    {
     "name": "stdout",
     "output_type": "stream",
     "text": [
      "Collecting xmlschema\n",
      "  Downloading xmlschema-1.9.2-py3-none-any.whl (273 kB)\n",
      "Collecting elementpath<3.0.0,>=2.4.0\n",
      "  Downloading elementpath-2.4.0-py3-none-any.whl (163 kB)\n",
      "Installing collected packages: elementpath, xmlschema\n",
      "Successfully installed elementpath-2.4.0 xmlschema-1.9.2\n"
     ]
    }
   ],
   "source": [
    "!pip install xmlschema"
   ]
  },
  {
   "cell_type": "markdown",
   "id": "9d0440b0",
   "metadata": {},
   "source": [
    "## 1. With xmlschema"
   ]
  },
  {
   "cell_type": "code",
   "execution_count": 9,
   "id": "a0458d84",
   "metadata": {},
   "outputs": [
    {
     "data": {
      "text/plain": [
       "'C:\\\\Users\\\\31653\\\\Documents\\\\GitHub\\\\Notebooks\\\\de_alliantie\\\\webservices\\\\woningnet'"
      ]
     },
     "execution_count": 9,
     "metadata": {},
     "output_type": "execute_result"
    }
   ],
   "source": [
    "pwd"
   ]
  },
  {
   "cell_type": "code",
   "execution_count": 8,
   "id": "a2e72e7f",
   "metadata": {},
   "outputs": [
    {
     "name": "stdout",
     "output_type": "stream",
     "text": [
      "C:\\Users\\31653\\Documents\\GitHub\\Notebooks\\de_alliantie\\webservices\\woningnet\n"
     ]
    }
   ],
   "source": [
    "cd woningnet"
   ]
  },
  {
   "cell_type": "code",
   "execution_count": 11,
   "id": "f346f782",
   "metadata": {},
   "outputs": [
    {
     "name": "stdout",
     "output_type": "stream",
     "text": [
      "C:\\Users\\31653\\Documents\\GitHub\\Notebooks\\de_alliantie\\webservices\\woningnet\\Aanbieding\n"
     ]
    }
   ],
   "source": [
    "cd Aanbieding"
   ]
  },
  {
   "cell_type": "code",
   "execution_count": 12,
   "id": "61951a52",
   "metadata": {},
   "outputs": [
    {
     "data": {
      "text/plain": [
       "['AanbiedingISService_ep.xsd',\n",
       " 'AanbiedingV1.xsd',\n",
       " 'AdressenV1.xsd',\n",
       " 'CommonV1.xsd',\n",
       " 'ContactgegevensV1.xsd',\n",
       " 'EigenaarV1.xsd',\n",
       " 'GebruikerV1.xsd',\n",
       " 'MediaV1.xsd',\n",
       " 'MeldingenV1.xsd',\n",
       " 'ObjectV1.xsd',\n",
       " 'PersoonV1.xsd',\n",
       " 'PublicatieV1.xsd',\n",
       " 'ReactieSelectieV1.xsd',\n",
       " 'ReactieV1.xsd',\n",
       " 'ReferentiedataV1.xsd',\n",
       " 'RegistratieV1.xsd']"
      ]
     },
     "execution_count": 12,
     "metadata": {},
     "output_type": "execute_result"
    }
   ],
   "source": [
    "import glob\n",
    "my_xsds = glob.glob('*.xsd')\n",
    "my_xsds"
   ]
  },
  {
   "cell_type": "code",
   "execution_count": 14,
   "id": "9bf48b3d",
   "metadata": {},
   "outputs": [],
   "source": [
    "#inspect the xsd\n",
    "%pycat AanbiedingV1.xsd"
   ]
  },
  {
   "cell_type": "code",
   "execution_count": 15,
   "id": "170d90ce",
   "metadata": {
    "scrolled": true
   },
   "outputs": [
    {
     "name": "stdout",
     "output_type": "stream",
     "text": [
      "<class 'xmlschema.validators.schemas.XMLSchema10'>\n",
      "['BASE_SCHEMAS', 'XSD_VERSION', '__abstractmethods__', '__annotations__', '__class__', '__class_getitem__', '__contains__', '__copy__', '__delattr__', '__dict__', '__dir__', '__doc__', '__eq__', '__format__', '__ge__', '__getattribute__', '__getitem__', '__getstate__', '__gt__', '__hash__', '__init__', '__init_subclass__', '__iter__', '__le__', '__len__', '__lt__', '__module__', '__ne__', '__new__', '__orig_bases__', '__parameters__', '__reduce__', '__reduce_ex__', '__repr__', '__reversed__', '__setattr__', '__setstate__', '__sizeof__', '__slots__', '__str__', '__subclasshook__', '__weakref__', '_abc_impl', '_annotations', '_get_xpath_namespaces', '_import_namespace', '_is_protocol', '_locations', '_parse_imports', '_parse_inclusions', '_parse_xpath_default_namespace', '_root_elements', '_validate_references', 'add_schema', 'all_errors', 'allow', 'annotations', 'attrib', 'attribute_form_default', 'attribute_groups', 'attributes', 'base_url', 'block_default', 'build', 'built', 'builtin_types', 'check_schema', 'check_validator', 'clear', 'complex_types', 'converter', 'copy', 'count', 'create_any_attribute_group', 'create_any_content_group', 'create_any_type', 'create_bindings', 'create_element', 'create_empty_attribute_group', 'create_empty_content_group', 'create_meta_schema', 'decode', 'default_attributes', 'default_namespace', 'default_open_content', 'defuse', 'elem', 'element_form_default', 'elements', 'encode', 'errors', 'export', 'fallback_locations', 'filepath', 'final_default', 'find', 'findall', 'get', 'get_converter', 'get_element', 'get_locations', 'get_schema', 'get_text', 'groups', 'id', 'identities', 'import_schema', 'imports', 'include_schema', 'includes', 'index', 'is_matching', 'is_valid', 'iter', 'iter_components', 'iter_decode', 'iter_encode', 'iter_errors', 'iter_globals', 'iterchildren', 'iterfind', 'locations', 'lock', 'maps', 'meta_schema', 'name', 'namespaces', 'no_namespace_schema_location', 'notations', 'override', 'parse_error', 'raw_decoder', 'redefine', 'resolve_qname', 'root', 'root_elements', 'schema_location', 'simple_type_factory', 'simple_types', 'source', 'substitution_groups', 'tag', 'tail', 'target_namespace', 'target_prefix', 'text', 'timeout', 'to_dict', 'to_etree', 'to_objects', 'types', 'url', 'use_meta', 'validate', 'validation', 'validation_attempted', 'validation_error', 'validity', 'version', 'version_check', 'warnings', 'xpath_default_namespace', 'xpath_proxy', 'xpath_tokens', 'xsd_any_attribute_class', 'xsd_any_class', 'xsd_atomic_restriction_class', 'xsd_attribute_class', 'xsd_attribute_group_class', 'xsd_complex_type_class', 'xsd_element_class', 'xsd_group_class', 'xsd_key_class', 'xsd_keyref_class', 'xsd_list_class', 'xsd_notation_class', 'xsd_union_class', 'xsd_unique_class', 'xsd_version']\n"
     ]
    }
   ],
   "source": [
    "#source: https://stackoverflow.com/questions/1072853/how-to-convert-xsd-to-python-class\n",
    "#https://stackoverflow.com/questions/54687837/parse-an-xsd-file-using-python\n",
    "#convert the xml to a dict\n",
    "import xmlschema\n",
    "schema = xmlschema.XMLSchema('AanbiedingV1.xsd')\n",
    "print(type(schema))\n",
    "print(dir(schema))"
   ]
  },
  {
   "cell_type": "code",
   "execution_count": 16,
   "id": "aaf8f53e",
   "metadata": {},
   "outputs": [
    {
     "name": "stdout",
     "output_type": "stream",
     "text": [
      "XMLSchema10(name='AanbiedingV1.xsd', namespace='http://www.woningnet.nl/Contracten/Wozo/Aanbieding')\n",
      "XsdComplexType(name='abg:ActueleAanbiedingKey')\n",
      "XsdGroup(model='sequence', occurs=[1, 1])\n",
      "XsdElement(ref='prs:PersoonKey', occurs=[1, 1])\n",
      "XsdElement(ref='pub:PublicatieKey', occurs=[1, 1])\n",
      "XsdComplexType(name='abg:AanbiedingReactie')\n",
      "XsdGroup(model='sequence', occurs=[1, 1])\n",
      "XsdElement(name='abg:ActueleAanbiedingKey', occurs=[1, 1])\n",
      "XsdElement(name='abg:Antwoord', occurs=[1, 1])\n",
      "XsdElement(name='abg:Reden', occurs=[1, 1])\n",
      "XsdElement(name='abg:Motivatie', occurs=[0, 1])\n",
      "XsdComplexType(name='abg:ActueleAanbiedingen')\n",
      "XsdGroup(model='sequence', occurs=[1, 1])\n",
      "XsdElement(name='abg:ActueleAanbieding', occurs=[0, None])\n",
      "XsdComplexType(name='abg:ActueleAanbieding')\n",
      "XsdGroup(model='sequence', occurs=[1, 1])\n",
      "XsdElement(name='abg:ActueleAanbiedingKey', occurs=[1, 1])\n",
      "XsdElement(name='abg:PublicatieXML', occurs=[1, 1])\n",
      "XsdComplexType(content='element-only', attributes=[])\n",
      "XsdGroup(model='sequence', occurs=[1, 1])\n",
      "XsdAnyElement(namespace=('##any',), process_contents='lax', occurs=[0, 1])\n",
      "XsdElement(ref='rsel:SelectieSummary', occurs=[1, 1])\n",
      "XsdElement(name='abg:Omschrijving', occurs=[0, 1])\n",
      "XsdElement(name='abg:Vervaldatum', occurs=[0, 1])\n",
      "XsdElement(name='abg:Antwoorden', occurs=[0, 1])\n",
      "XsdComplexType(content='element-only', attributes=[])\n",
      "XsdGroup(model='sequence', occurs=[1, 1])\n",
      "XsdElement(name='abg:DomeinItem', occurs=[0, None])\n",
      "XsdElement(name='abg:Reden', occurs=[0, 1])\n",
      "XsdComplexType(content='element-only', attributes=[])\n",
      "XsdGroup(model='sequence', occurs=[1, 1])\n",
      "XsdElement(name='abg:DomeinItem', occurs=[0, None])\n",
      "XsdComplexType(name='abg:ActueleAanbiedingenKey')\n",
      "XsdGroup(model='sequence', occurs=[1, 1])\n",
      "XsdElement(ref='prs:PersoonKey', occurs=[1, 1])\n",
      "XsdComplexType(name='abg:DomeinItem')\n",
      "XsdGroup(model='sequence', occurs=[1, 1])\n",
      "XsdElement(name='abg:Code', occurs=[1, 1])\n",
      "XsdElement(name='abg:Omschrijving', occurs=[0, 1])\n",
      "XsdComplexType(name='abg:KandidatenKey')\n",
      "XsdGroup(model='sequence', occurs=[1, 1])\n",
      "XsdElement(name='abg:Regiocode', occurs=[1, 1])\n",
      "XsdElement(name='abg:ObjectKey', occurs=[0, 1])\n",
      "XsdElement(name='abg:PerDatumTijd', occurs=[0, 1])\n",
      "XsdElement(name='abg:Status', occurs=[0, 1])\n",
      "XsdComplexType(name='abg:KandidaatKey')\n",
      "XsdGroup(model='sequence', occurs=[1, 1])\n",
      "XsdElement(ref='obj:ObjectKey', occurs=[1, 1])\n",
      "XsdElement(ref='reg:RegistratieKey', occurs=[1, 1])\n",
      "XsdComplexType(name='abg:Kandidaat')\n",
      "XsdGroup(model='sequence', occurs=[1, 1])\n",
      "XsdElement(name='abg:KandidaatKey', occurs=[1, 1])\n",
      "XsdElement(name='abg:Hoofdaanvrager', occurs=[1, 1])\n",
      "XsdElement(name='abg:Medeaanvrager', occurs=[0, 1])\n",
      "XsdElement(ref='adr:Adres', occurs=[1, 1])\n",
      "XsdElement(ref='cgg:Contactgegevens', occurs=[1, 1])\n",
      "XsdElement(name='abg:ActueleAanbiedingKey', occurs=[1, 1])\n",
      "XsdElement(name='abg:AanbiedingReactie', occurs=[1, 1])\n",
      "XsdElement(name='abg:ActueleAanbiedingen', occurs=[1, 1])\n",
      "XsdElement(name='abg:ActueleAanbieding', occurs=[1, 1])\n",
      "XsdElement(name='abg:ActueleAanbiedingenKey', occurs=[1, 1])\n",
      "XsdElement(name='abg:DomeinItem', occurs=[1, 1])\n",
      "XsdElement(name='abg:KandidaatKey', occurs=[1, 1])\n",
      "XsdElement(name='abg:KandidatenKey', occurs=[1, 1])\n",
      "XsdElement(name='abg:Kandidaat', occurs=[1, 1])\n",
      "XsdElement(name='abg:Kandidaten', occurs=[1, 1])\n",
      "XsdComplexType(content='element-only', attributes=[])\n",
      "XsdGroup(model='sequence', occurs=[1, 1])\n",
      "XsdElement(name='abg:Kandidaat', occurs=[0, None])\n"
     ]
    }
   ],
   "source": [
    "# get the components\n",
    "for xsd_component in schema.iter_components():\n",
    "    print(xsd_component)"
   ]
  },
  {
   "cell_type": "code",
   "execution_count": 4,
   "id": "eaf1a587",
   "metadata": {},
   "outputs": [],
   "source": []
  },
  {
   "cell_type": "code",
   "execution_count": null,
   "id": "56567743",
   "metadata": {},
   "outputs": [],
   "source": []
  },
  {
   "cell_type": "code",
   "execution_count": 17,
   "id": "a599f92a",
   "metadata": {},
   "outputs": [
    {
     "name": "stdout",
     "output_type": "stream",
     "text": [
      "AanbiedingV1.xsd\n",
      "{http://www.woningnet.nl/Contracten/Wozo/Aanbieding}ActueleAanbiedingKey\n",
      "{http://www.woningnet.nl/Contracten/Wozo/Persoon}PersoonKey\n",
      "{http://www.woningnet.nl/Contracten/Aanbod/Publicatie}PublicatieKey\n",
      "{http://www.woningnet.nl/Contracten/Wozo/Aanbieding}AanbiedingReactie\n",
      "{http://www.woningnet.nl/Contracten/Wozo/Aanbieding}ActueleAanbiedingKey\n",
      "{http://www.woningnet.nl/Contracten/Wozo/Aanbieding}Antwoord\n",
      "{http://www.woningnet.nl/Contracten/Wozo/Aanbieding}Reden\n",
      "{http://www.woningnet.nl/Contracten/Wozo/Aanbieding}Motivatie\n",
      "{http://www.woningnet.nl/Contracten/Wozo/Aanbieding}ActueleAanbiedingen\n",
      "{http://www.woningnet.nl/Contracten/Wozo/Aanbieding}ActueleAanbieding\n",
      "{http://www.woningnet.nl/Contracten/Wozo/Aanbieding}ActueleAanbieding\n",
      "{http://www.woningnet.nl/Contracten/Wozo/Aanbieding}ActueleAanbiedingKey\n",
      "{http://www.woningnet.nl/Contracten/Wozo/Aanbieding}PublicatieXML\n",
      "{http://www.woningnet.nl/Contracten/Wozo/ReactieSelectie}SelectieSummary\n",
      "{http://www.woningnet.nl/Contracten/Wozo/Aanbieding}Omschrijving\n",
      "{http://www.woningnet.nl/Contracten/Wozo/Aanbieding}Vervaldatum\n",
      "{http://www.woningnet.nl/Contracten/Wozo/Aanbieding}Antwoorden\n",
      "{http://www.woningnet.nl/Contracten/Wozo/Aanbieding}DomeinItem\n",
      "{http://www.woningnet.nl/Contracten/Wozo/Aanbieding}Reden\n",
      "{http://www.woningnet.nl/Contracten/Wozo/Aanbieding}DomeinItem\n",
      "{http://www.woningnet.nl/Contracten/Wozo/Aanbieding}ActueleAanbiedingenKey\n",
      "{http://www.woningnet.nl/Contracten/Wozo/Persoon}PersoonKey\n",
      "{http://www.woningnet.nl/Contracten/Wozo/Aanbieding}DomeinItem\n",
      "{http://www.woningnet.nl/Contracten/Wozo/Aanbieding}Code\n",
      "{http://www.woningnet.nl/Contracten/Wozo/Aanbieding}Omschrijving\n",
      "{http://www.woningnet.nl/Contracten/Wozo/Aanbieding}KandidatenKey\n",
      "{http://www.woningnet.nl/Contracten/Wozo/Aanbieding}Regiocode\n",
      "{http://www.woningnet.nl/Contracten/Wozo/Aanbieding}ObjectKey\n",
      "{http://www.woningnet.nl/Contracten/Wozo/Aanbieding}PerDatumTijd\n",
      "{http://www.woningnet.nl/Contracten/Wozo/Aanbieding}Status\n",
      "{http://www.woningnet.nl/Contracten/Wozo/Aanbieding}KandidaatKey\n",
      "{http://www.woningnet.nl/Contracten/Aanbod/Object}ObjectKey\n",
      "{http://www.woningnet.nl/Contracten/Wozo/Registratie}RegistratieKey\n",
      "{http://www.woningnet.nl/Contracten/Wozo/Aanbieding}Kandidaat\n",
      "{http://www.woningnet.nl/Contracten/Wozo/Aanbieding}KandidaatKey\n",
      "{http://www.woningnet.nl/Contracten/Wozo/Aanbieding}Hoofdaanvrager\n",
      "{http://www.woningnet.nl/Contracten/Wozo/Aanbieding}Medeaanvrager\n",
      "{http://www.woningnet.nl/Contracten/Common/Adressen}Adres\n",
      "{http://www.woningnet.nl/Contracten/Wozo/Contactgegevens}Contactgegevens\n",
      "{http://www.woningnet.nl/Contracten/Wozo/Aanbieding}ActueleAanbiedingKey\n",
      "{http://www.woningnet.nl/Contracten/Wozo/Aanbieding}AanbiedingReactie\n",
      "{http://www.woningnet.nl/Contracten/Wozo/Aanbieding}ActueleAanbiedingen\n",
      "{http://www.woningnet.nl/Contracten/Wozo/Aanbieding}ActueleAanbieding\n",
      "{http://www.woningnet.nl/Contracten/Wozo/Aanbieding}ActueleAanbiedingenKey\n",
      "{http://www.woningnet.nl/Contracten/Wozo/Aanbieding}DomeinItem\n",
      "{http://www.woningnet.nl/Contracten/Wozo/Aanbieding}KandidaatKey\n",
      "{http://www.woningnet.nl/Contracten/Wozo/Aanbieding}KandidatenKey\n",
      "{http://www.woningnet.nl/Contracten/Wozo/Aanbieding}Kandidaat\n",
      "{http://www.woningnet.nl/Contracten/Wozo/Aanbieding}Kandidaten\n",
      "{http://www.woningnet.nl/Contracten/Wozo/Aanbieding}Kandidaat\n"
     ]
    }
   ],
   "source": [
    "#https://readthedocs.org/projects/xmlschema/downloads/pdf/latest/ p.23\n",
    "for xsd_component in schema.iter_components():\n",
    "    #print(xsd_component)\n",
    "    if str(xsd_component.name) != 'None':\n",
    "        print(xsd_component.name)"
   ]
  },
  {
   "cell_type": "code",
   "execution_count": null,
   "id": "47cf7f84",
   "metadata": {},
   "outputs": [],
   "source": []
  },
  {
   "cell_type": "code",
   "execution_count": null,
   "id": "bd460bf1",
   "metadata": {},
   "outputs": [],
   "source": []
  },
  {
   "cell_type": "code",
   "execution_count": null,
   "id": "dfa30bd4",
   "metadata": {},
   "outputs": [],
   "source": []
  },
  {
   "cell_type": "code",
   "execution_count": 20,
   "id": "87597b32",
   "metadata": {},
   "outputs": [
    {
     "name": "stdout",
     "output_type": "stream",
     "text": [
      "AanbiedingV1.xsd\n",
      "{'xml': 'http://www.w3.org/XML/1998/namespace', 'xs': 'http://www.w3.org/2001/XMLSchema', 'abg': 'http://www.woningnet.nl/Contracten/Wozo/Aanbieding', 'prs': 'http://www.woningnet.nl/Contracten/Wozo/Persoon', 'pub': 'http://www.woningnet.nl/Contracten/Aanbod/Publicatie', 'reg': 'http://www.woningnet.nl/Contracten/Wozo/Registratie', 'rsel': 'http://www.woningnet.nl/Contracten/Wozo/ReactieSelectie', 'adr': 'http://www.woningnet.nl/Contracten/Common/Adressen', 'cgg': 'http://www.woningnet.nl/Contracten/Wozo/Contactgegevens', 'obj': 'http://www.woningnet.nl/Contracten/Aanbod/Object', '': ''}\n"
     ]
    }
   ],
   "source": [
    "# print some basic aspects of the xsd\n",
    "print(schema.name)\n",
    "print(schema.namespaces)"
   ]
  },
  {
   "cell_type": "code",
   "execution_count": null,
   "id": "def1d26d",
   "metadata": {},
   "outputs": [],
   "source": []
  },
  {
   "cell_type": "code",
   "execution_count": 21,
   "id": "3e3df665",
   "metadata": {},
   "outputs": [
    {
     "name": "stdout",
     "output_type": "stream",
     "text": [
      "XMLSchema10(name='AanbiedingV1.xsd', namespace='http://www.woningnet.nl/Contracten/Wozo/Aanbieding')\n"
     ]
    }
   ],
   "source": [
    "from pprint import pprint\n",
    "pprint(schema)"
   ]
  },
  {
   "cell_type": "code",
   "execution_count": 22,
   "id": "f5987626",
   "metadata": {},
   "outputs": [
    {
     "name": "stdout",
     "output_type": "stream",
     "text": [
      "NamespaceView({'ActueleAanbiedingKey': XsdElement(name='abg:ActueleAanbiedingKey', occurs=[1, 1]), 'AanbiedingReactie': XsdElement(name='abg:AanbiedingReactie', occurs=[1, 1]), 'ActueleAanbiedingen': XsdElement(name='abg:ActueleAanbiedingen', occurs=[1, 1]), 'ActueleAanbieding': XsdElement(name='abg:ActueleAanbieding', occurs=[1, 1]), 'ActueleAanbiedingenKey': XsdElement(name='abg:ActueleAanbiedingenKey', occurs=[1, 1]), 'DomeinItem': XsdElement(name='abg:DomeinItem', occurs=[1, 1]), 'KandidaatKey': XsdElement(name='abg:KandidaatKey', occurs=[1, 1]), 'KandidatenKey': XsdElement(name='abg:KandidatenKey', occurs=[1, 1]), 'Kandidaat': XsdElement(name='abg:Kandidaat', occurs=[1, 1]), 'Kandidaten': XsdElement(name='abg:Kandidaten', occurs=[1, 1])})\n",
      "['__abstractmethods__', '__class__', '__class_getitem__', '__contains__', '__delattr__', '__dir__', '__doc__', '__eq__', '__format__', '__ge__', '__getattribute__', '__getitem__', '__gt__', '__hash__', '__init__', '__init_subclass__', '__iter__', '__le__', '__len__', '__lt__', '__module__', '__ne__', '__new__', '__orig_bases__', '__parameters__', '__reduce__', '__reduce_ex__', '__repr__', '__reversed__', '__setattr__', '__sizeof__', '__slots__', '__str__', '__subclasshook__', '_abc_impl', '_is_protocol', '_key_fmt', 'as_dict', 'get', 'items', 'keys', 'namespace', 'target_dict', 'values']\n"
     ]
    }
   ],
   "source": [
    "from pprint import pprint\n",
    "pprint(schema.elements)\n",
    "print(dir(schema.elements))"
   ]
  },
  {
   "cell_type": "code",
   "execution_count": 23,
   "id": "a5f112f1",
   "metadata": {},
   "outputs": [
    {
     "name": "stdout",
     "output_type": "stream",
     "text": [
      "XMLSchema10(name='AanbiedingV1.xsd', namespace='http://www.woningnet.nl/Contracten/Wozo/Aanbieding')\n",
      "XsdAttributeGroup()\n"
     ]
    }
   ],
   "source": [
    "BT = schema.elements['ActueleAanbiedingKey']\n",
    "print(BT.schema)\n",
    "print(BT.attributes)"
   ]
  },
  {
   "cell_type": "code",
   "execution_count": 24,
   "id": "8b0cf187",
   "metadata": {},
   "outputs": [
    {
     "data": {
      "text/plain": [
       "['_ADMITTED_TAGS',\n",
       " '_CONTENT_TAIL_TAGS',\n",
       " '_REGEX_SPACE',\n",
       " '_REGEX_SPACES',\n",
       " '__annotations__',\n",
       " '__class__',\n",
       " '__class_getitem__',\n",
       " '__copy__',\n",
       " '__delattr__',\n",
       " '__dict__',\n",
       " '__dir__',\n",
       " '__doc__',\n",
       " '__eq__',\n",
       " '__format__',\n",
       " '__ge__',\n",
       " '__getattribute__',\n",
       " '__gt__',\n",
       " '__hash__',\n",
       " '__init__',\n",
       " '__init_subclass__',\n",
       " '__le__',\n",
       " '__lt__',\n",
       " '__module__',\n",
       " '__ne__',\n",
       " '__new__',\n",
       " '__orig_bases__',\n",
       " '__parameters__',\n",
       " '__reduce__',\n",
       " '__reduce_ex__',\n",
       " '__repr__',\n",
       " '__setattr__',\n",
       " '__sizeof__',\n",
       " '__slots__',\n",
       " '__str__',\n",
       " '__subclasshook__',\n",
       " '__weakref__',\n",
       " '_annotation',\n",
       " '_block',\n",
       " '_final',\n",
       " '_is_protocol',\n",
       " '_parse',\n",
       " '_parse_base_type',\n",
       " '_parse_child_component',\n",
       " '_parse_complex_content_extension',\n",
       " '_parse_complex_content_restriction',\n",
       " '_parse_content_tail',\n",
       " '_parse_derivation_elem',\n",
       " '_parse_reference',\n",
       " '_parse_simple_content_extension',\n",
       " '_parse_simple_content_restriction',\n",
       " '_parse_target_namespace',\n",
       " '_parse_xpath_default_namespace',\n",
       " 'abstract',\n",
       " 'admit_simple_restriction',\n",
       " 'all_errors',\n",
       " 'annotation',\n",
       " 'any_atomic_type',\n",
       " 'any_simple_type',\n",
       " 'any_type',\n",
       " 'assertions',\n",
       " 'attributes',\n",
       " 'base_type',\n",
       " 'block',\n",
       " 'build',\n",
       " 'built',\n",
       " 'content',\n",
       " 'content_type',\n",
       " 'content_type_label',\n",
       " 'copy',\n",
       " 'decode',\n",
       " 'default_namespace',\n",
       " 'default_open_content',\n",
       " 'derivation',\n",
       " 'elem',\n",
       " 'encode',\n",
       " 'errors',\n",
       " 'final',\n",
       " 'get_facet',\n",
       " 'get_global',\n",
       " 'get_matching_item',\n",
       " 'get_parent_type',\n",
       " 'has_complex_content',\n",
       " 'has_extension',\n",
       " 'has_mixed_content',\n",
       " 'has_restriction',\n",
       " 'has_simple_content',\n",
       " 'id',\n",
       " 'is_atomic',\n",
       " 'is_blocked',\n",
       " 'is_complex',\n",
       " 'is_datetime',\n",
       " 'is_decimal',\n",
       " 'is_derived',\n",
       " 'is_dynamic_consistent',\n",
       " 'is_element_only',\n",
       " 'is_emptiable',\n",
       " 'is_empty',\n",
       " 'is_extension',\n",
       " 'is_global',\n",
       " 'is_key',\n",
       " 'is_list',\n",
       " 'is_matching',\n",
       " 'is_notation',\n",
       " 'is_override',\n",
       " 'is_qname',\n",
       " 'is_restriction',\n",
       " 'is_simple',\n",
       " 'is_union',\n",
       " 'is_valid',\n",
       " 'iter_ancestors',\n",
       " 'iter_components',\n",
       " 'iter_decode',\n",
       " 'iter_encode',\n",
       " 'iter_errors',\n",
       " 'local_name',\n",
       " 'maps',\n",
       " 'match',\n",
       " 'mixed',\n",
       " 'model_group',\n",
       " 'name',\n",
       " 'namespaces',\n",
       " 'normalize',\n",
       " 'open_content',\n",
       " 'parent',\n",
       " 'parse_error',\n",
       " 'prefixed_name',\n",
       " 'qualified',\n",
       " 'qualified_name',\n",
       " 'redefine',\n",
       " 'ref',\n",
       " 'root_type',\n",
       " 'schema',\n",
       " 'schema_elem',\n",
       " 'sequence_type',\n",
       " 'simple_type',\n",
       " 'source',\n",
       " 'target_namespace',\n",
       " 'text_decode',\n",
       " 'tostring',\n",
       " 'validate',\n",
       " 'validation',\n",
       " 'validation_attempted',\n",
       " 'validation_error',\n",
       " 'validity',\n",
       " 'xsd_version']"
      ]
     },
     "execution_count": 24,
     "metadata": {},
     "output_type": "execute_result"
    }
   ],
   "source": [
    "dir(BT.type)"
   ]
  },
  {
   "cell_type": "code",
   "execution_count": 69,
   "id": "5e68dcac",
   "metadata": {},
   "outputs": [
    {
     "data": {
      "text/plain": [
       "XsdGroup(model='sequence', occurs=[1, 1])"
      ]
     },
     "execution_count": 69,
     "metadata": {},
     "output_type": "execute_result"
    }
   ],
   "source": [
    "BT.type.content"
   ]
  },
  {
   "cell_type": "code",
   "execution_count": 25,
   "id": "bde86590",
   "metadata": {},
   "outputs": [
    {
     "name": "stdout",
     "output_type": "stream",
     "text": [
      "{http://www.woningnet.nl/Contracten/Wozo/Persoon}PersoonKey\n",
      "{http://www.woningnet.nl/Contracten/Aanbod/Publicatie}PublicatieKey\n"
     ]
    }
   ],
   "source": [
    "for item in BT.type.content:\n",
    "    print(item.name)"
   ]
  },
  {
   "cell_type": "code",
   "execution_count": null,
   "id": "a9db492d",
   "metadata": {},
   "outputs": [],
   "source": []
  },
  {
   "cell_type": "code",
   "execution_count": 26,
   "id": "68776c05",
   "metadata": {},
   "outputs": [
    {
     "name": "stdout",
     "output_type": "stream",
     "text": [
      "{http://www.woningnet.nl/Contracten/Wozo/Persoon}PersoonKey\n",
      "{http://www.woningnet.nl/Contracten/Aanbod/Publicatie}PublicatieKey\n"
     ]
    }
   ],
   "source": [
    "for item in BT.type.content:\n",
    "    print(item.name)"
   ]
  },
  {
   "cell_type": "code",
   "execution_count": 27,
   "id": "a24bcd9b",
   "metadata": {},
   "outputs": [
    {
     "name": "stdout",
     "output_type": "stream",
     "text": [
      "{http://www.woningnet.nl/Contracten/Wozo/Persoon}PersoonKey\n",
      "{http://www.woningnet.nl/Contracten/Aanbod/Publicatie}PublicatieKey\n"
     ]
    }
   ],
   "source": [
    "for e in BT.type.content.iter_elements():\n",
    "    print(e.name)"
   ]
  },
  {
   "cell_type": "code",
   "execution_count": null,
   "id": "59855ee7",
   "metadata": {},
   "outputs": [],
   "source": []
  },
  {
   "cell_type": "code",
   "execution_count": null,
   "id": "8a429389",
   "metadata": {},
   "outputs": [],
   "source": []
  },
  {
   "cell_type": "code",
   "execution_count": null,
   "id": "52bf916c",
   "metadata": {},
   "outputs": [],
   "source": []
  },
  {
   "cell_type": "markdown",
   "id": "db161f14",
   "metadata": {},
   "source": [
    "## 2. With xsdata-plantuml\n",
    "\n",
    "source: https://pypi.org/project/xsdata-plantuml/ <br>"
   ]
  },
  {
   "cell_type": "code",
   "execution_count": 10,
   "id": "fa02f5b9",
   "metadata": {},
   "outputs": [
    {
     "name": "stdout",
     "output_type": "stream",
     "text": [
      "Requirement already satisfied: xsdata-plantuml in c:\\users\\31653\\anaconda3\\lib\\site-packages (21.4)\n",
      "Requirement already satisfied: xsdata[cli] in c:\\users\\31653\\anaconda3\\lib\\site-packages (from xsdata-plantuml) (22.2)\n",
      "Requirement already satisfied: toposort>=1.5 in c:\\users\\31653\\anaconda3\\lib\\site-packages (from xsdata[cli]->xsdata-plantuml) (1.7)\n",
      "Requirement already satisfied: click>=5.0 in c:\\users\\31653\\anaconda3\\lib\\site-packages (from xsdata[cli]->xsdata-plantuml) (7.1.2)\n",
      "Requirement already satisfied: docformatter in c:\\users\\31653\\anaconda3\\lib\\site-packages (from xsdata[cli]->xsdata-plantuml) (1.4)\n",
      "Requirement already satisfied: click-default-group>=1.2 in c:\\users\\31653\\anaconda3\\lib\\site-packages (from xsdata[cli]->xsdata-plantuml) (1.2.2)\n",
      "Requirement already satisfied: jinja2>=2.10 in c:\\users\\31653\\anaconda3\\lib\\site-packages (from xsdata[cli]->xsdata-plantuml) (3.0.2)\n",
      "Requirement already satisfied: MarkupSafe>=2.0 in c:\\users\\31653\\anaconda3\\lib\\site-packages (from jinja2>=2.10->xsdata[cli]->xsdata-plantuml) (2.0.1)\n",
      "Requirement already satisfied: untokenize in c:\\users\\31653\\anaconda3\\lib\\site-packages (from docformatter->xsdata[cli]->xsdata-plantuml) (0.1.1)\n"
     ]
    }
   ],
   "source": [
    "!pip install xsdata-plantuml"
   ]
  },
  {
   "cell_type": "code",
   "execution_count": 28,
   "id": "bc54e089",
   "metadata": {},
   "outputs": [
    {
     "data": {
      "text/plain": [
       "['AanbiedingISService_ep.xsd',\n",
       " 'AanbiedingV1.xsd',\n",
       " 'AdressenV1.xsd',\n",
       " 'CommonV1.xsd',\n",
       " 'ContactgegevensV1.xsd',\n",
       " 'EigenaarV1.xsd',\n",
       " 'GebruikerV1.xsd',\n",
       " 'MediaV1.xsd',\n",
       " 'MeldingenV1.xsd',\n",
       " 'ObjectV1.xsd',\n",
       " 'PersoonV1.xsd',\n",
       " 'PublicatieV1.xsd',\n",
       " 'ReactieSelectieV1.xsd',\n",
       " 'ReactieV1.xsd',\n",
       " 'ReferentiedataV1.xsd',\n",
       " 'RegistratieV1.xsd']"
      ]
     },
     "execution_count": 28,
     "metadata": {},
     "output_type": "execute_result"
    }
   ],
   "source": [
    "import glob\n",
    "my_xsds = glob.glob('*.xsd')\n",
    "my_xsds"
   ]
  },
  {
   "cell_type": "code",
   "execution_count": 36,
   "id": "9b207139",
   "metadata": {},
   "outputs": [
    {
     "data": {
      "text/plain": [
       "'C:\\\\Users\\\\31653\\\\Documents\\\\GitHub\\\\Notebooks\\\\de_alliantie\\\\webservices\\\\woningnet\\\\Aanbieding\\\\generated'"
      ]
     },
     "execution_count": 36,
     "metadata": {},
     "output_type": "execute_result"
    }
   ],
   "source": [
    "pwd"
   ]
  },
  {
   "cell_type": "code",
   "execution_count": 42,
   "id": "0358b9fc",
   "metadata": {},
   "outputs": [],
   "source": [
    "%pycat C:\\\\Users\\\\31653\\\\Documents\\\\GitHub\\\\Notebooks\\\\de_alliantie\\\\webservices\\\\woningnet\\\\Aanbieding\\AdressenV1.xsd"
   ]
  },
  {
   "cell_type": "code",
   "execution_count": 29,
   "id": "b0bf4e64",
   "metadata": {},
   "outputs": [
    {
     "name": "stderr",
     "output_type": "stream",
     "text": [
      "Parsing schema AdressenV1.xsd\n",
      "Parsing schema CommonV1.xsd\n",
      "Parsing schema PersoonV1.xsd\n",
      "Compiling schema PersoonV1.xsd\n",
      "Builder: 5 main and 0 inner classes\n",
      "Parsing schema ObjectV1.xsd\n",
      "Parsing schema MediaV1.xsd\n",
      "Compiling schema MediaV1.xsd\n",
      "Builder: 10 main and 0 inner classes\n",
      "Parsing schema EigenaarV1.xsd\n",
      "Parsing schema ReferentiedataV1.xsd\n",
      "Compiling schema ReferentiedataV1.xsd\n",
      "Builder: 8 main and 0 inner classes\n",
      "Compiling schema EigenaarV1.xsd\n",
      "Builder: 21 main and 0 inner classes\n",
      "Compiling schema ObjectV1.xsd\n",
      "Builder: 36 main and 7 inner classes\n",
      "Compiling schema CommonV1.xsd\n",
      "Builder: 11 main and 1 inner classes\n",
      "Compiling schema AdressenV1.xsd\n",
      "Builder: 8 main and 0 inner classes\n",
      "Analyzer input: 99 main and 8 inner classes\n",
      "Analyzer output: 64 main and 8 inner classes\n",
      "Generating package: generated.PersoonV1\n",
      "Generating package: generated.MediaV1\n",
      "Generating package: generated.ReferentiedataV1\n",
      "Generating package: generated.EigenaarV1\n",
      "Generating package: generated.ObjectV1\n",
      "Generating package: generated.CommonV1\n",
      "Generating package: generated.AdressenV1\n"
     ]
    }
   ],
   "source": [
    "!xsdata AdressenV1.xsd --output plantuml"
   ]
  },
  {
   "cell_type": "code",
   "execution_count": 30,
   "id": "4bc111cc",
   "metadata": {},
   "outputs": [
    {
     "name": "stdout",
     "output_type": "stream",
     "text": [
      " Volume in drive C is OS\n",
      " Volume Serial Number is 2818-58FB\n",
      "\n",
      " Directory of C:\\Users\\31653\\Documents\\GitHub\\Notebooks\\de_alliantie\\webservices\\woningnet\\Aanbieding\n",
      "\n",
      "17/03/2022  10:58    <DIR>          .\n",
      "17/03/2022  10:58    <DIR>          ..\n",
      "17/03/2022  10:50             1.817 AanbiedingISService_ep.xsd\n",
      "17/03/2022  10:50             5.992 AanbiedingV1.xsd\n",
      "17/03/2022  10:50             3.098 AdressenV1.xsd\n",
      "17/03/2022  10:50             2.774 CommonV1.xsd\n",
      "17/03/2022  10:50             1.229 ContactgegevensV1.xsd\n",
      "17/03/2022  10:50             4.685 EigenaarV1.xsd\n",
      "17/03/2022  10:50             6.496 GebruikerV1.xsd\n",
      "17/03/2022  10:58    <DIR>          generated\n",
      "17/03/2022  10:50             3.026 MediaV1.xsd\n",
      "17/03/2022  10:50             3.242 MeldingenV1.xsd\n",
      "17/03/2022  10:50            12.985 ObjectV1.xsd\n",
      "17/03/2022  10:50             1.862 PersoonV1.xsd\n",
      "17/03/2022  10:50             9.165 PublicatieV1.xsd\n",
      "17/03/2022  10:50             1.580 ReactieSelectieV1.xsd\n",
      "17/03/2022  10:50             6.011 ReactieV1.xsd\n",
      "17/03/2022  10:50             2.480 ReferentiedataV1.xsd\n",
      "17/03/2022  10:50             6.253 RegistratieV1.xsd\n",
      "              16 File(s)         72.695 bytes\n",
      "               3 Dir(s)  201.164.615.680 bytes free\n"
     ]
    }
   ],
   "source": [
    "ls"
   ]
  },
  {
   "cell_type": "code",
   "execution_count": 31,
   "id": "441a3bc9",
   "metadata": {},
   "outputs": [
    {
     "name": "stdout",
     "output_type": "stream",
     "text": [
      "C:\\Users\\31653\\Documents\\GitHub\\Notebooks\\de_alliantie\\webservices\\woningnet\\Aanbieding\\generated\n"
     ]
    }
   ],
   "source": [
    "cd generated"
   ]
  },
  {
   "cell_type": "code",
   "execution_count": 32,
   "id": "83ecfd32",
   "metadata": {},
   "outputs": [
    {
     "name": "stdout",
     "output_type": "stream",
     "text": [
      " Volume in drive C is OS\n",
      " Volume Serial Number is 2818-58FB\n",
      "\n",
      " Directory of C:\\Users\\31653\\Documents\\GitHub\\Notebooks\\de_alliantie\\webservices\\woningnet\\Aanbieding\\generated\n",
      "\n",
      "17/03/2022  10:58    <DIR>          .\n",
      "17/03/2022  10:58    <DIR>          ..\n",
      "17/03/2022  10:58               655 AdressenV1.pu\n",
      "17/03/2022  10:58               556 CommonV1.pu\n",
      "17/03/2022  10:58             1.120 EigenaarV1.pu\n",
      "17/03/2022  10:58               803 MediaV1.pu\n",
      "17/03/2022  10:58             3.570 ObjectV1.pu\n",
      "17/03/2022  10:58               420 PersoonV1.pu\n",
      "17/03/2022  10:58               595 ReferentiedataV1.pu\n",
      "               7 File(s)          7.719 bytes\n",
      "               2 Dir(s)  201.164.746.752 bytes free\n"
     ]
    }
   ],
   "source": [
    "ls"
   ]
  },
  {
   "cell_type": "code",
   "execution_count": 34,
   "id": "510a400b",
   "metadata": {},
   "outputs": [],
   "source": [
    "%pycat AdressenV1.pu"
   ]
  },
  {
   "cell_type": "code",
   "execution_count": 38,
   "id": "c9a4466b",
   "metadata": {},
   "outputs": [
    {
     "name": "stdout",
     "output_type": "stream",
     "text": [
      "[{'filename': 'AdressenV1.pu', 'gen_success': True}]\n"
     ]
    }
   ],
   "source": [
    "!python -m plantuml AdressenV1.pu"
   ]
  },
  {
   "cell_type": "code",
   "execution_count": 41,
   "id": "5cab7234",
   "metadata": {},
   "outputs": [
    {
     "data": {
      "image/png": "[encoded data removed]",
      "text/plain": [
       "<IPython.core.display.Image object>"
      ]
     },
     "execution_count": 41,
     "metadata": {},
     "output_type": "execute_result"
    }
   ],
   "source": [
    "from IPython import display\n",
    "display.Image(filename='AdressenV1.png')"
   ]
  },
  {
   "cell_type": "markdown",
   "id": "683253b6",
   "metadata": {},
   "source": [
    "## 3. With lxml validation\n",
    "source: https://lxml.de/validation.html"
   ]
  },
  {
   "cell_type": "code",
   "execution_count": 45,
   "id": "c8d50daf",
   "metadata": {},
   "outputs": [],
   "source": [
    "from lxml import etree\n",
    "parser = etree.XMLParser(dtd_validation=True)\n",
    "schema_root = etree.XML('''\\\n",
    "    <xsd:schema xmlns:xsd=\"http://www.w3.org/2001/XMLSchema\">\n",
    "    <xsd:element name=\"a\" type=\"xsd:integer\"/>\n",
    "    </xsd:schema>\n",
    "''')\n",
    "schema = etree.XMLSchema(schema_root)\n"
   ]
  },
  {
   "cell_type": "code",
   "execution_count": 46,
   "id": "d3fa77d1",
   "metadata": {},
   "outputs": [
    {
     "data": {
      "text/plain": [
       "<lxml.etree.XMLSchema at 0x222498e0400>"
      ]
     },
     "execution_count": 46,
     "metadata": {},
     "output_type": "execute_result"
    }
   ],
   "source": [
    "schema"
   ]
  },
  {
   "cell_type": "code",
   "execution_count": 47,
   "id": "a96c1e5a",
   "metadata": {},
   "outputs": [],
   "source": [
    "parser = etree.XMLParser(schema = schema)\n",
    "#root = etree.fromstring(\"<a>5</a>\", parser)"
   ]
  },
  {
   "cell_type": "code",
   "execution_count": 50,
   "id": "3e21eb03",
   "metadata": {},
   "outputs": [
    {
     "data": {
      "text/plain": [
       "['__class__',\n",
       " '__delattr__',\n",
       " '__dir__',\n",
       " '__doc__',\n",
       " '__eq__',\n",
       " '__format__',\n",
       " '__ge__',\n",
       " '__getattribute__',\n",
       " '__gt__',\n",
       " '__hash__',\n",
       " '__init__',\n",
       " '__init_subclass__',\n",
       " '__le__',\n",
       " '__lt__',\n",
       " '__ne__',\n",
       " '__new__',\n",
       " '__pyx_vtable__',\n",
       " '__reduce__',\n",
       " '__reduce_ex__',\n",
       " '__repr__',\n",
       " '__setattr__',\n",
       " '__sizeof__',\n",
       " '__str__',\n",
       " '__subclasshook__',\n",
       " 'close',\n",
       " 'copy',\n",
       " 'error_log',\n",
       " 'feed',\n",
       " 'feed_error_log',\n",
       " 'makeelement',\n",
       " 'resolvers',\n",
       " 'setElementClassLookup',\n",
       " 'set_element_class_lookup',\n",
       " 'target',\n",
       " 'version']"
      ]
     },
     "execution_count": 50,
     "metadata": {},
     "output_type": "execute_result"
    }
   ],
   "source": [
    "dir(parser)"
   ]
  },
  {
   "cell_type": "code",
   "execution_count": 51,
   "id": "884d5cec",
   "metadata": {},
   "outputs": [
    {
     "data": {
      "text/plain": [
       "['__call__',\n",
       " '__class__',\n",
       " '__delattr__',\n",
       " '__dir__',\n",
       " '__doc__',\n",
       " '__eq__',\n",
       " '__format__',\n",
       " '__ge__',\n",
       " '__getattribute__',\n",
       " '__gt__',\n",
       " '__hash__',\n",
       " '__init__',\n",
       " '__init_subclass__',\n",
       " '__le__',\n",
       " '__lt__',\n",
       " '__ne__',\n",
       " '__new__',\n",
       " '__pyx_vtable__',\n",
       " '__reduce__',\n",
       " '__reduce_ex__',\n",
       " '__repr__',\n",
       " '__setattr__',\n",
       " '__sizeof__',\n",
       " '__str__',\n",
       " '__subclasshook__',\n",
       " '_append_log_message',\n",
       " '_clear_error_log',\n",
       " 'assertValid',\n",
       " 'assert_',\n",
       " 'error_log',\n",
       " 'validate']"
      ]
     },
     "execution_count": 51,
     "metadata": {},
     "output_type": "execute_result"
    }
   ],
   "source": [
    "dir(schema)"
   ]
  },
  {
   "cell_type": "code",
   "execution_count": 52,
   "id": "c4a906be",
   "metadata": {},
   "outputs": [
    {
     "data": {
      "text/plain": [
       "<bound method _Validator.validate of <lxml.etree.XMLSchema object at 0x00000222498E0400>>"
      ]
     },
     "execution_count": 52,
     "metadata": {},
     "output_type": "execute_result"
    }
   ],
   "source": [
    "schema.validate"
   ]
  },
  {
   "cell_type": "code",
   "execution_count": null,
   "id": "304c2185",
   "metadata": {},
   "outputs": [],
   "source": []
  }
 ],
 "metadata": {
  "kernelspec": {
   "display_name": "Python 3 (ipykernel)",
   "language": "python",
   "name": "python3"
  },
  "language_info": {
   "codemirror_mode": {
    "name": "ipython",
    "version": 3
   },
   "file_extension": ".py",
   "mimetype": "text/x-python",
   "name": "python",
   "nbconvert_exporter": "python",
   "pygments_lexer": "ipython3",
   "version": "3.8.5"
  }
 },
 "nbformat": 4,
 "nbformat_minor": 5
}
