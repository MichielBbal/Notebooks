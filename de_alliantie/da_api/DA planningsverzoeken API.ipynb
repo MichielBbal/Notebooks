{
 "cells": [
  {
   "cell_type": "markdown",
   "id": "574d3e66",
   "metadata": {},
   "source": [
    "# Reverse Engineering the planningverzoeken API\n",
    "\n",
    "\n"
   ]
  },
  {
   "cell_type": "markdown",
   "id": "38af9c5f",
   "metadata": {},
   "source": [
    "## To do:\n",
    "[] plantuml png handmatig => automatisch <br>\n",
    "\n",
    "## Contents:\n",
    "1. Basic info of the API and inspection\n",
    "2. Getting the paths and endpoints\n",
    "3. Getting the objects with attributes\n",
    "4. Writing it to json, plantuml and .csv"
   ]
  },
  {
   "cell_type": "markdown",
   "id": "4fa1af58",
   "metadata": {},
   "source": [
    "## 1. Basic info of the API and inspection"
   ]
  },
  {
   "cell_type": "code",
   "execution_count": 1,
   "id": "5f0eca04",
   "metadata": {},
   "outputs": [
    {
     "data": {
      "text/plain": [
       "'C:\\\\Users\\\\31653\\\\Documents\\\\GitHub\\\\Notebooks\\\\VERA'"
      ]
     },
     "execution_count": 1,
     "metadata": {},
     "output_type": "execute_result"
    }
   ],
   "source": [
    "pwd"
   ]
  },
  {
   "cell_type": "code",
   "execution_count": 2,
   "id": "b2227c5b",
   "metadata": {},
   "outputs": [
    {
     "data": {
      "text/plain": [
       "(['planningsverzoeken-api.json',\n",
       "  'planningsverzoeken-api_data.json',\n",
       "  'Saxton API_data.json',\n",
       "  'saxton.json'],\n",
       " ['saxton.yaml'])"
      ]
     },
     "execution_count": 2,
     "metadata": {},
     "output_type": "execute_result"
    }
   ],
   "source": [
    "import glob\n",
    "my_jsons=glob.glob('*.json')\n",
    "my_yamls = glob.glob('*.yaml')\n",
    "my_jsons, my_yamls"
   ]
  },
  {
   "cell_type": "code",
   "execution_count": 3,
   "id": "7946f4e5",
   "metadata": {},
   "outputs": [],
   "source": [
    "#loading the API into active dictionary\n",
    "import json\n",
    "\n",
    "with open('planningsverzoeken-api.json') as f:\n",
    "    spec = json.load(f)"
   ]
  },
  {
   "cell_type": "code",
   "execution_count": null,
   "id": "e70ecadf",
   "metadata": {},
   "outputs": [],
   "source": []
  },
  {
   "cell_type": "code",
   "execution_count": 4,
   "id": "c23dd6bb",
   "metadata": {},
   "outputs": [
    {
     "data": {
      "text/plain": [
       "['swagger',\n",
       " 'info',\n",
       " 'host',\n",
       " 'tags',\n",
       " 'schemes',\n",
       " 'paths',\n",
       " 'definitions',\n",
       " 'security',\n",
       " 'securityDefinitions',\n",
       " 'basePath']"
      ]
     },
     "execution_count": 4,
     "metadata": {},
     "output_type": "execute_result"
    }
   ],
   "source": [
    "list(spec)"
   ]
  },
  {
   "cell_type": "code",
   "execution_count": 100,
   "id": "9881153f",
   "metadata": {},
   "outputs": [
    {
     "data": {
      "text/plain": [
       "['https']"
      ]
     },
     "execution_count": 100,
     "metadata": {},
     "output_type": "execute_result"
    }
   ],
   "source": [
    "spec['schemes']"
   ]
  },
  {
   "cell_type": "code",
   "execution_count": 5,
   "id": "3a4c9bf2",
   "metadata": {},
   "outputs": [
    {
     "data": {
      "text/plain": [
       "'v1.0.5'"
      ]
     },
     "execution_count": 5,
     "metadata": {},
     "output_type": "execute_result"
    }
   ],
   "source": [
    "#version is too long and missing a 'v'\n",
    "API_version =spec['info']['version']\n",
    "API_version = \"v\"+API_version[:5]\n",
    "API_version"
   ]
  },
  {
   "cell_type": "code",
   "execution_count": 6,
   "id": "cc45afcc",
   "metadata": {},
   "outputs": [
    {
     "name": "stdout",
     "output_type": "stream",
     "text": [
      "2.0 planningsverzoeken-api\n"
     ]
    }
   ],
   "source": [
    "OAS_version =spec['swagger']\n",
    "API_name = spec['info']['title']\n",
    "print(OAS_version, API_name)"
   ]
  },
  {
   "cell_type": "markdown",
   "id": "932fc261",
   "metadata": {},
   "source": [
    "## 2. Getting the paths and endpoints"
   ]
  },
  {
   "cell_type": "code",
   "execution_count": 7,
   "id": "44f41279",
   "metadata": {},
   "outputs": [
    {
     "name": "stdout",
     "output_type": "stream",
     "text": [
      "3\n"
     ]
    },
    {
     "data": {
      "text/plain": [
       "['/v1/onderhoud/planningsverzoeken/tijdslotvoorstellen',\n",
       " '/v1/onderhoud/planningsverzoeken/tijdslot',\n",
       " '/v1/onderhoud/planningsverzoeken/tijdslot/{bedrijfid}/{identificatie}']"
      ]
     },
     "execution_count": 7,
     "metadata": {},
     "output_type": "execute_result"
    }
   ],
   "source": [
    "paths =list(spec['paths'])\n",
    "print(len(paths))\n",
    "paths"
   ]
  },
  {
   "cell_type": "code",
   "execution_count": 8,
   "id": "2bfba1c8",
   "metadata": {},
   "outputs": [
    {
     "data": {
      "text/plain": [
       "{'/v1/onderhoud/planningsverzoeken/tijdslotvoorstellen': ['post'],\n",
       " '/v1/onderhoud/planningsverzoeken/tijdslot': ['post'],\n",
       " '/v1/onderhoud/planningsverzoeken/tijdslot/{bedrijfid}/{identificatie}': ['put',\n",
       "  'delete']}"
      ]
     },
     "execution_count": 8,
     "metadata": {},
     "output_type": "execute_result"
    }
   ],
   "source": [
    "endpoints_dict = {}\n",
    "for i in range (len(paths)):\n",
    "    endpoints_dict[paths[i]]=list(spec['paths'][paths[i]])\n",
    "endpoints_dict "
   ]
  },
  {
   "cell_type": "code",
   "execution_count": null,
   "id": "8d57cdfb",
   "metadata": {},
   "outputs": [],
   "source": []
  },
  {
   "cell_type": "markdown",
   "id": "bc04745d",
   "metadata": {},
   "source": [
    "## 3. Getting the objects"
   ]
  },
  {
   "cell_type": "code",
   "execution_count": 9,
   "id": "b13382b0",
   "metadata": {},
   "outputs": [
    {
     "data": {
      "text/plain": [
       "{'Eenheid': {'type': 'object',\n",
       "  'properties': {'identificatie': {'type': 'string'}}},\n",
       " 'BeschikbareTijdslotsRequest': {'type': 'object',\n",
       "  'properties': {'actiecode': {'type': 'string'},\n",
       "   'bedrijf': {'$ref': '#/definitions/FinancieelBedrijf'},\n",
       "   'begindatum': {'type': 'string', 'format': 'date'},\n",
       "   'eenheid': {'$ref': '#/definitions/Eenheid'},\n",
       "   'einddatum': {'type': 'string', 'format': 'date'}}},\n",
       " 'FinancieelBedrijf': {'type': 'object',\n",
       "  'properties': {'identificatie': {'type': 'string'}}},\n",
       " 'Sturingslabel': {'type': 'object',\n",
       "  'properties': {'identificatie': {'type': 'string'},\n",
       "   'datum': {'type': 'string', 'format': 'date-time'},\n",
       "   'label': {'type': 'string'},\n",
       "   'soort': {'type': 'string'},\n",
       "   'bron': {'type': 'string'}}},\n",
       " 'Tijdslot': {'type': 'object',\n",
       "  'properties': {'index': {'type': 'integer', 'format': 'int32'},\n",
       "   'begindatum': {'type': 'string', 'format': 'date-time'},\n",
       "   'einddatum': {'type': 'string', 'format': 'date-time'},\n",
       "   'medewerker': {'$ref': '#/definitions/NatuurlijkPersoon'},\n",
       "   'reisafstand': {'type': 'integer', 'format': 'int32'},\n",
       "   'reistijd': {'type': 'integer', 'format': 'int32'},\n",
       "   'routeid': {'type': 'integer', 'format': 'int32'},\n",
       "   'volgnummer': {'type': 'integer', 'format': 'int32'}}},\n",
       " 'Contactgegeven': {'type': 'object',\n",
       "  'properties': {'soort': {'type': 'string'},\n",
       "   'detailSoort': {'type': 'string'},\n",
       "   'waarde': {'type': 'string'},\n",
       "   'voorkeur': {'type': 'string'},\n",
       "   'landnummer': {'type': 'string'},\n",
       "   'netnummer': {'type': 'string'},\n",
       "   'abonneenummer': {'type': 'string'},\n",
       "   'extensie': {'type': 'string'},\n",
       "   'dagdelen': {'type': 'array', 'items': {'type': 'string'}}}},\n",
       " 'TijdslotsResponse': {'type': 'object',\n",
       "  'properties': {'identificatie': {'type': 'string'},\n",
       "   'tijdslots': {'type': 'array',\n",
       "    'items': {'$ref': '#/definitions/Tijdslot'}}}},\n",
       " 'NatuurlijkPersoon': {'type': 'object',\n",
       "  'properties': {'identificatie': {'type': 'string'},\n",
       "   'soort': {'type': 'string'},\n",
       "   'voornaam': {'type': 'string'},\n",
       "   'initialen': {'type': 'string'},\n",
       "   'tussenvoegsels': {'type': 'string'},\n",
       "   'achternaam': {'type': 'string'},\n",
       "   'roepnaam': {'type': 'string'},\n",
       "   'aanhef': {'type': 'string'},\n",
       "   'voorletters': {'type': 'string'},\n",
       "   'contactgegevens': {'type': 'array',\n",
       "    'items': {'$ref': '#/definitions/Contactgegeven'}},\n",
       "   'sturingslabels': {'type': 'array',\n",
       "    'items': {'$ref': '#/definitions/Sturingslabel'}}}},\n",
       " 'BoekTijdslotRequest': {'type': 'object',\n",
       "  'properties': {'tijdslot': {'$ref': '#/definitions/Tijdslot'},\n",
       "   'bedrijf': {'$ref': '#/definitions/FinancieelBedrijf'},\n",
       "   'onderhoudstaak': {'$ref': '#/definitions/Onderhoudstaak'}}},\n",
       " 'Onderhoudstaak': {'type': 'object',\n",
       "  'properties': {'identificatie': {'type': 'string'}}},\n",
       " 'ErrorResponse': {'type': 'object',\n",
       "  'properties': {'timestamp': {'type': 'integer', 'format': 'int64'},\n",
       "   'status': {'type': 'integer', 'format': 'int32'},\n",
       "   'error': {'type': 'string'},\n",
       "   'message': {'type': 'string'}}},\n",
       " 'UpdateTijdslotRequest': {'type': 'object',\n",
       "  'properties': {'tijdslot': {'$ref': '#/definitions/Tijdslot'}}}}"
      ]
     },
     "execution_count": 9,
     "metadata": {},
     "output_type": "execute_result"
    }
   ],
   "source": [
    "#inspection of the objects\n",
    "spec['definitions']"
   ]
  },
  {
   "cell_type": "code",
   "execution_count": 10,
   "id": "cbb19d39",
   "metadata": {},
   "outputs": [
    {
     "name": "stdout",
     "output_type": "stream",
     "text": [
      "12\n"
     ]
    },
    {
     "data": {
      "text/plain": [
       "['Eenheid',\n",
       " 'BeschikbareTijdslotsRequest',\n",
       " 'FinancieelBedrijf',\n",
       " 'Sturingslabel',\n",
       " 'Tijdslot',\n",
       " 'Contactgegeven',\n",
       " 'TijdslotsResponse',\n",
       " 'NatuurlijkPersoon',\n",
       " 'BoekTijdslotRequest',\n",
       " 'Onderhoudstaak',\n",
       " 'ErrorResponse',\n",
       " 'UpdateTijdslotRequest']"
      ]
     },
     "execution_count": 10,
     "metadata": {},
     "output_type": "execute_result"
    }
   ],
   "source": [
    "objects = list(spec['definitions'])\n",
    "print(len(objects))\n",
    "objects"
   ]
  },
  {
   "cell_type": "code",
   "execution_count": 11,
   "id": "104116b8",
   "metadata": {},
   "outputs": [
    {
     "data": {
      "text/plain": [
       "{'type': 'object', 'properties': {'identificatie': {'type': 'string'}}}"
      ]
     },
     "execution_count": 11,
     "metadata": {},
     "output_type": "execute_result"
    }
   ],
   "source": [
    "#inspection of an object\n",
    "spec['definitions']['Eenheid']"
   ]
  },
  {
   "cell_type": "code",
   "execution_count": 15,
   "id": "8516c029",
   "metadata": {},
   "outputs": [
    {
     "data": {
      "text/plain": [
       "{'Eenheid': ['identificatie'],\n",
       " 'BeschikbareTijdslotsRequest': ['actiecode',\n",
       "  'bedrijf',\n",
       "  'begindatum',\n",
       "  'eenheid',\n",
       "  'einddatum'],\n",
       " 'FinancieelBedrijf': ['identificatie'],\n",
       " 'Sturingslabel': ['identificatie', 'datum', 'label', 'soort', 'bron'],\n",
       " 'Tijdslot': ['index',\n",
       "  'begindatum',\n",
       "  'einddatum',\n",
       "  'medewerker',\n",
       "  'reisafstand',\n",
       "  'reistijd',\n",
       "  'routeid',\n",
       "  'volgnummer'],\n",
       " 'Contactgegeven': ['soort',\n",
       "  'detailSoort',\n",
       "  'waarde',\n",
       "  'voorkeur',\n",
       "  'landnummer',\n",
       "  'netnummer',\n",
       "  'abonneenummer',\n",
       "  'extensie',\n",
       "  'dagdelen'],\n",
       " 'TijdslotsResponse': ['identificatie', 'tijdslots'],\n",
       " 'NatuurlijkPersoon': ['identificatie',\n",
       "  'soort',\n",
       "  'voornaam',\n",
       "  'initialen',\n",
       "  'tussenvoegsels',\n",
       "  'achternaam',\n",
       "  'roepnaam',\n",
       "  'aanhef',\n",
       "  'voorletters',\n",
       "  'contactgegevens',\n",
       "  'sturingslabels'],\n",
       " 'BoekTijdslotRequest': ['tijdslot', 'bedrijf', 'onderhoudstaak'],\n",
       " 'Onderhoudstaak': ['identificatie'],\n",
       " 'ErrorResponse': ['timestamp', 'status', 'error', 'message'],\n",
       " 'UpdateTijdslotRequest': ['tijdslot']}"
      ]
     },
     "execution_count": 15,
     "metadata": {},
     "output_type": "execute_result"
    }
   ],
   "source": [
    "#creating a dictionary with objects and their properties\n",
    "object_dict ={}\n",
    "objects = list(spec['definitions'])\n",
    "for i in range (len(objects)):\n",
    "    try:\n",
    "        object_dict[objects[i]]=list(spec['definitions'][objects[i]]['properties'])#['properties']\n",
    "    except:\n",
    "        pass\n",
    "object_dict "
   ]
  },
  {
   "cell_type": "code",
   "execution_count": 16,
   "id": "bafb5863",
   "metadata": {},
   "outputs": [
    {
     "name": "stdout",
     "output_type": "stream",
     "text": [
      "{\n",
      "    \"Eenheid\": [\n",
      "        \"identificatie\"\n",
      "    ],\n",
      "    \"BeschikbareTijdslotsRequest\": [\n",
      "        \"actiecode\",\n",
      "        \"bedrijf\",\n",
      "        \"begindatum\",\n",
      "        \"eenheid\",\n",
      "        \"einddatum\"\n",
      "    ],\n",
      "    \"FinancieelBedrijf\": [\n",
      "        \"identificatie\"\n",
      "    ],\n",
      "    \"Sturingslabel\": [\n",
      "        \"identificatie\",\n",
      "        \"datum\",\n",
      "        \"label\",\n",
      "        \"soort\",\n",
      "        \"bron\"\n",
      "    ],\n",
      "    \"Tijdslot\": [\n",
      "        \"index\",\n",
      "        \"begindatum\",\n",
      "        \"einddatum\",\n",
      "        \"medewerker\",\n",
      "        \"reisafstand\",\n",
      "        \"reistijd\",\n",
      "        \"routeid\",\n",
      "        \"volgnummer\"\n",
      "    ],\n",
      "    \"Contactgegeven\": [\n",
      "        \"soort\",\n",
      "        \"detailSoort\",\n",
      "        \"waarde\",\n",
      "        \"voorkeur\",\n",
      "        \"landnummer\",\n",
      "        \"netnummer\",\n",
      "        \"abonneenummer\",\n",
      "        \"extensie\",\n",
      "        \"dagdelen\"\n",
      "    ],\n",
      "    \"TijdslotsResponse\": [\n",
      "        \"identificatie\",\n",
      "        \"tijdslots\"\n",
      "    ],\n",
      "    \"NatuurlijkPersoon\": [\n",
      "        \"identificatie\",\n",
      "        \"soort\",\n",
      "        \"voornaam\",\n",
      "        \"initialen\",\n",
      "        \"tussenvoegsels\",\n",
      "        \"achternaam\",\n",
      "        \"roepnaam\",\n",
      "        \"aanhef\",\n",
      "        \"voorletters\",\n",
      "        \"contactgegevens\",\n",
      "        \"sturingslabels\"\n",
      "    ],\n",
      "    \"BoekTijdslotRequest\": [\n",
      "        \"tijdslot\",\n",
      "        \"bedrijf\",\n",
      "        \"onderhoudstaak\"\n",
      "    ],\n",
      "    \"Onderhoudstaak\": [\n",
      "        \"identificatie\"\n",
      "    ],\n",
      "    \"ErrorResponse\": [\n",
      "        \"timestamp\",\n",
      "        \"status\",\n",
      "        \"error\",\n",
      "        \"message\"\n",
      "    ],\n",
      "    \"UpdateTijdslotRequest\": [\n",
      "        \"tijdslot\"\n",
      "    ]\n",
      "}\n"
     ]
    }
   ],
   "source": [
    "#converting the python dict to a JSON \n",
    "import json \n",
    "      \n",
    "# Serializing json  \n",
    "json_object = json.dumps(object_dict, indent = 4) \n",
    "print(json_object)"
   ]
  },
  {
   "cell_type": "markdown",
   "id": "8d71746b",
   "metadata": {},
   "source": [
    "## 4. Writing it to a .json, plantuml and .csv file"
   ]
  },
  {
   "cell_type": "code",
   "execution_count": 17,
   "id": "546837af",
   "metadata": {},
   "outputs": [],
   "source": [
    "#writing it to a json\n",
    "import json\n",
    "with open(API_name+'_data.json', 'w', encoding='utf-8') as f:\n",
    "    json.dump(json_object, f, ensure_ascii=False, indent=4)"
   ]
  },
  {
   "cell_type": "code",
   "execution_count": 18,
   "id": "bb1f9767",
   "metadata": {},
   "outputs": [
    {
     "data": {
      "text/plain": [
       "['planningsverzoeken-api.json',\n",
       " 'planningsverzoeken-api_data.json',\n",
       " 'vastgoed_data.json']"
      ]
     },
     "execution_count": 18,
     "metadata": {},
     "output_type": "execute_result"
    }
   ],
   "source": [
    "import glob\n",
    "my_jsons = glob.glob('*.json')\n",
    "my_jsons"
   ]
  },
  {
   "cell_type": "code",
   "execution_count": 19,
   "id": "21cae377",
   "metadata": {},
   "outputs": [],
   "source": [
    "textfile = open(\"plantuml_\"+API_name+\"_data.txt\", \"w\")\n",
    "textfile.write('@startuml\\n')\n",
    "for key, value in object_dict.items():\n",
    "    textfile.write('class '+str(key) +'{\\n')\n",
    "    for i in range (len(value)):\n",
    "        textfile.write(value[i] + \"\\n\")\n",
    "    textfile.write('}\\n')\n",
    "textfile.write('@enduml')\n",
    "textfile.close() "
   ]
  },
  {
   "cell_type": "code",
   "execution_count": 20,
   "id": "2222a6b1",
   "metadata": {},
   "outputs": [
    {
     "data": {
      "text/plain": [
       "['accounts.txt',\n",
       " 'plantuml_planningsverzoeken-api_data.txt',\n",
       " 'plantuml_planningsverzoeken.txt',\n",
       " 'plantuml_vastgoed.txt']"
      ]
     },
     "execution_count": 20,
     "metadata": {},
     "output_type": "execute_result"
    }
   ],
   "source": [
    "import glob\n",
    "my_txts = glob.glob('*.txt')\n",
    "my_txts"
   ]
  },
  {
   "cell_type": "code",
   "execution_count": 21,
   "id": "ef2f3a3f",
   "metadata": {},
   "outputs": [],
   "source": [
    "#check the plantuml file manually\n",
    "%pycat C:\\\\Users\\\\31653\\\\Documents\\\\GitHub\\\\Notebooks\\\\VERA\\plantuml_planningsverzoeken.txt"
   ]
  },
  {
   "cell_type": "code",
   "execution_count": 22,
   "id": "f25a7216",
   "metadata": {},
   "outputs": [
    {
     "name": "stdout",
     "output_type": "stream",
     "text": [
      "[{'filename': 'plantuml_planningsverzoeken-api_data.txt', 'gen_success': True}]\n"
     ]
    }
   ],
   "source": [
    "#convert the txt file to an .png image using plantuml\n",
    "!python -m plantuml plantuml_planningsverzoeken-api_data.txt"
   ]
  },
  {
   "cell_type": "code",
   "execution_count": 23,
   "id": "83323331",
   "metadata": {},
   "outputs": [
    {
     "data": {
      "image/png": "[encoded data removed]",
      "text/plain": [
       "<IPython.core.display.Image object>"
      ]
     },
     "execution_count": 23,
     "metadata": {
      "image/png": {
       "height": 500,
       "width": 1200
      }
     },
     "output_type": "execute_result"
    }
   ],
   "source": [
    "#show the generated png\n",
    "from IPython import display\n",
    "display.Image(filename=\"plantuml_planningsverzoeken-api_data.png\", width=1200, height=500)"
   ]
  },
  {
   "cell_type": "markdown",
   "id": "601673f5",
   "metadata": {},
   "source": [
    "## Write it to a .csv file\n",
    "\n",
    " a .csv file with a ; seperator between key and values"
   ]
  },
  {
   "cell_type": "code",
   "execution_count": 96,
   "id": "7f129565",
   "metadata": {},
   "outputs": [],
   "source": [
    "with open(API_name+\"_data.csv\", mode=\"w\") as pv:\n",
    "    for key, value in object_dict.items():\n",
    "        pv.write(str(key)+\";\")\n",
    "        for i in range (len(value)-1):\n",
    "            pv.write(value[i]+\",\")#write values + a comma  \n",
    "        pv.write(value[-1]+\"\\n\") #write last value (and no comma) "
   ]
  },
  {
   "cell_type": "code",
   "execution_count": 97,
   "id": "08ecf595",
   "metadata": {},
   "outputs": [
    {
     "data": {
      "text/plain": [
       "['planningsverzoeken-api_data.csv']"
      ]
     },
     "execution_count": 97,
     "metadata": {},
     "output_type": "execute_result"
    }
   ],
   "source": [
    "import glob\n",
    "my_csvs=glob.glob('*.csv')\n",
    "my_csvs"
   ]
  },
  {
   "cell_type": "code",
   "execution_count": 102,
   "id": "a4666e0d",
   "metadata": {},
   "outputs": [],
   "source": [
    "#check the plantuml file manually\n",
    "%pycat C:\\\\Users\\\\31653\\\\Documents\\\\GitHub\\\\Notebooks\\\\VERA\\\\planningsverzoeken-api_data.csv"
   ]
  },
  {
   "cell_type": "code",
   "execution_count": null,
   "id": "38d55ae2",
   "metadata": {},
   "outputs": [],
   "source": []
  },
  {
   "cell_type": "code",
   "execution_count": null,
   "id": "1d08bb80",
   "metadata": {},
   "outputs": [],
   "source": [
    " "
   ]
  },
  {
   "cell_type": "code",
   "execution_count": null,
   "id": "c1eb3267",
   "metadata": {},
   "outputs": [],
   "source": []
  },
  {
   "cell_type": "code",
   "execution_count": null,
   "id": "3eeb31f8",
   "metadata": {},
   "outputs": [],
   "source": []
  }
 ],
 "metadata": {
  "kernelspec": {
   "display_name": "Python 3 (ipykernel)",
   "language": "python",
   "name": "python3"
  },
  "language_info": {
   "codemirror_mode": {
    "name": "ipython",
    "version": 3
   },
   "file_extension": ".py",
   "mimetype": "text/x-python",
   "name": "python",
   "nbconvert_exporter": "python",
   "pygments_lexer": "ipython3",
   "version": "3.8.5"
  }
 },
 "nbformat": 4,
 "nbformat_minor": 5
}
