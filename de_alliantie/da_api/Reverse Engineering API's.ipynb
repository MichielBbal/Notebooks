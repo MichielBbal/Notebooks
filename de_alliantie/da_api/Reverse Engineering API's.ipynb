{
 "cells": [
  {
   "cell_type": "markdown",
   "id": "574d3e66",
   "metadata": {},
   "source": [
    "# Reverse Engineering API\n"
   ]
  },
  {
   "cell_type": "markdown",
   "id": "38af9c5f",
   "metadata": {},
   "source": [
    "## To do:\n",
    "[] plantuml png handmatig => automatisch <br>\n",
    "\n",
    "## Contents:\n",
    "1. Basic info of the API and inspection\n",
    "2. Getting the paths and endpoints\n",
    "3. Getting the objects with attributes\n",
    "4. Writing it to json, plantuml and .csv"
   ]
  },
  {
   "cell_type": "markdown",
   "id": "4fa1af58",
   "metadata": {},
   "source": [
    "## 1. Basic info of the API and inspection"
   ]
  },
  {
   "cell_type": "code",
   "execution_count": 93,
   "id": "5f0eca04",
   "metadata": {},
   "outputs": [
    {
     "data": {
      "text/plain": [
       "'C:\\\\Users\\\\31653\\\\Documents\\\\GitHub\\\\Notebooks\\\\de_alliantie\\\\da_api'"
      ]
     },
     "execution_count": 93,
     "metadata": {},
     "output_type": "execute_result"
    }
   ],
   "source": [
    "pwd"
   ]
  },
  {
   "cell_type": "code",
   "execution_count": 94,
   "id": "b2227c5b",
   "metadata": {},
   "outputs": [
    {
     "name": "stdout",
     "output_type": "stream",
     "text": [
      "C:\\Users\\31653\\Desktop\\DeAlliantie\\DA API Integratiehub\\relatieoverzicht-api.json\n",
      "C:\\Users\\31653\\Desktop\\DeAlliantie\\DA API Integratiehub\\relatiestatus-api.json\n",
      "C:\\Users\\31653\\Desktop\\DeAlliantie\\DA API Integratiehub\\relatie-naw-api.json\n",
      "C:\\Users\\31653\\Desktop\\DeAlliantie\\DA API Integratiehub\\leefbaarheidsmelding-api.json\n",
      "C:\\Users\\31653\\Desktop\\DeAlliantie\\DA API Integratiehub\\contactmoment-api.json\n",
      "C:\\Users\\31653\\Desktop\\DeAlliantie\\Saxton.postman_collection.json\\Saxton.postman_collection.json\n",
      "C:\\Users\\31653\\Desktop\\DeAlliantie\\VERA\\onderhoudsverzoeken-api.json\n",
      "C:\\Users\\31653\\Desktop\\DeAlliantie\\VERA\\serviceovereenkomsten-api.json\n"
     ]
    }
   ],
   "source": [
    "import glob\n",
    "my_jsons=glob.glob('C:\\\\Users\\\\31653\\\\Desktop\\\\DeAlliantie\\**\\*.json')\n",
    "my_yamls = glob.glob('*.yaml')\n",
    "my_jsons, my_yamls\n",
    "my_jsons.sort(key=os.path.getmtime, reverse=True)\n",
    "print(\"\\n\".join(my_jsons))"
   ]
  },
  {
   "cell_type": "code",
   "execution_count": null,
   "id": "d7c2eea4",
   "metadata": {},
   "outputs": [],
   "source": []
  },
  {
   "cell_type": "code",
   "execution_count": 95,
   "id": "7946f4e5",
   "metadata": {},
   "outputs": [
    {
     "data": {
      "text/plain": [
       "['swagger',\n",
       " 'info',\n",
       " 'host',\n",
       " 'tags',\n",
       " 'schemes',\n",
       " 'paths',\n",
       " 'definitions',\n",
       " 'security',\n",
       " 'securityDefinitions',\n",
       " 'basePath']"
      ]
     },
     "execution_count": 95,
     "metadata": {},
     "output_type": "execute_result"
    }
   ],
   "source": [
    "#loading the API into active dictionary\n",
    "import json\n",
    "\n",
    "with open(r'C:\\Users\\31653\\Desktop\\DeAlliantie\\DA API Integratiehub\\leefbaarheidsmelding-api.json') as f:\n",
    "    spec = json.load(f)\n",
    "list(spec)"
   ]
  },
  {
   "cell_type": "code",
   "execution_count": null,
   "id": "9881153f",
   "metadata": {},
   "outputs": [],
   "source": []
  },
  {
   "cell_type": "code",
   "execution_count": 96,
   "id": "cc45afcc",
   "metadata": {},
   "outputs": [
    {
     "name": "stdout",
     "output_type": "stream",
     "text": [
      "OAS: 2.0 leefbaarheidsmelding-api v1.0.3\n"
     ]
    }
   ],
   "source": [
    "#version is too long and missing a 'v'\n",
    "API_version =spec['info']['version']\n",
    "API_version = \"v\"+API_version[:5]\n",
    "OAS_version =spec['swagger']\n",
    "API_name = spec['info']['title']\n",
    "API_name = API_name.replace(\" \", \"_\")\n",
    "print(\"OAS:\", OAS_version, API_name, API_version)"
   ]
  },
  {
   "cell_type": "markdown",
   "id": "932fc261",
   "metadata": {},
   "source": [
    "## 2. Getting the paths and endpoints"
   ]
  },
  {
   "cell_type": "code",
   "execution_count": 97,
   "id": "44f41279",
   "metadata": {},
   "outputs": [
    {
     "name": "stdout",
     "output_type": "stream",
     "text": [
      "1\n"
     ]
    },
    {
     "data": {
      "text/plain": [
       "['/v1/meldingen/leefbaarheidsmelding']"
      ]
     },
     "execution_count": 97,
     "metadata": {},
     "output_type": "execute_result"
    }
   ],
   "source": [
    "paths =list(spec['paths'])\n",
    "print(len(paths))\n",
    "paths"
   ]
  },
  {
   "cell_type": "code",
   "execution_count": 98,
   "id": "2bfba1c8",
   "metadata": {},
   "outputs": [
    {
     "data": {
      "text/plain": [
       "{'/v1/meldingen/leefbaarheidsmelding': ['post', 'put']}"
      ]
     },
     "execution_count": 98,
     "metadata": {},
     "output_type": "execute_result"
    }
   ],
   "source": [
    "endpoints_dict = {}\n",
    "for i in range (len(paths)):\n",
    "    endpoints_dict[paths[i]]=list(spec['paths'][paths[i]])\n",
    "endpoints_dict"
   ]
  },
  {
   "cell_type": "markdown",
   "id": "bc04745d",
   "metadata": {},
   "source": [
    "## 3. Getting the objects"
   ]
  },
  {
   "cell_type": "code",
   "execution_count": 99,
   "id": "b13382b0",
   "metadata": {},
   "outputs": [
    {
     "data": {
      "text/plain": [
       "{'Eenheid': {'type': 'object',\n",
       "  'properties': {'adres': {'$ref': '#/definitions/Adres'}}},\n",
       " 'Leefbaarheidsmelding': {'type': 'object',\n",
       "  'properties': {'identificatie': {'type': 'string'},\n",
       "   'registratiedatum': {'type': 'string', 'format': 'date-time'},\n",
       "   'omschrijving': {'type': 'string'},\n",
       "   'toelichting': {'type': 'string'},\n",
       "   'type': {'type': 'string'},\n",
       "   'onderwerp': {'type': 'string'},\n",
       "   'status': {'type': 'string'},\n",
       "   'reden': {'type': 'string'},\n",
       "   'urgentie': {'type': 'string'},\n",
       "   'verantwoordelijkeMedewerker': {'type': 'string'},\n",
       "   'relatieIdentificatie': {'type': 'string'},\n",
       "   'rolRelatie': {'type': 'string'},\n",
       "   'eenheid': {'$ref': '#/definitions/Eenheid'}}},\n",
       " 'Adres': {'type': 'object',\n",
       "  'properties': {'huisnummer': {'type': 'integer', 'format': 'int32'},\n",
       "   'huisnummerToevoeging': {'type': 'string'},\n",
       "   'postcode': {'type': 'string'}}},\n",
       " 'ErrorResponse': {'type': 'object',\n",
       "  'properties': {'timestamp': {'type': 'integer', 'format': 'int64'},\n",
       "   'status': {'type': 'integer', 'format': 'int32'},\n",
       "   'code': {'type': 'string'},\n",
       "   'error': {'type': 'string'},\n",
       "   'message': {'type': 'string'}}}}"
      ]
     },
     "execution_count": 99,
     "metadata": {},
     "output_type": "execute_result"
    }
   ],
   "source": [
    "#inspection of the objects\n",
    "spec['definitions']"
   ]
  },
  {
   "cell_type": "code",
   "execution_count": 100,
   "id": "cbb19d39",
   "metadata": {},
   "outputs": [
    {
     "name": "stdout",
     "output_type": "stream",
     "text": [
      "4\n"
     ]
    },
    {
     "data": {
      "text/plain": [
       "['Eenheid', 'Leefbaarheidsmelding', 'Adres', 'ErrorResponse']"
      ]
     },
     "execution_count": 100,
     "metadata": {},
     "output_type": "execute_result"
    }
   ],
   "source": [
    "objects = list(spec['definitions'])\n",
    "print(len(objects))\n",
    "objects"
   ]
  },
  {
   "cell_type": "code",
   "execution_count": 101,
   "id": "8516c029",
   "metadata": {},
   "outputs": [
    {
     "data": {
      "text/plain": [
       "{'Eenheid': ['adres'],\n",
       " 'Leefbaarheidsmelding': ['identificatie',\n",
       "  'registratiedatum',\n",
       "  'omschrijving',\n",
       "  'toelichting',\n",
       "  'type',\n",
       "  'onderwerp',\n",
       "  'status',\n",
       "  'reden',\n",
       "  'urgentie',\n",
       "  'verantwoordelijkeMedewerker',\n",
       "  'relatieIdentificatie',\n",
       "  'rolRelatie',\n",
       "  'eenheid'],\n",
       " 'Adres': ['huisnummer', 'huisnummerToevoeging', 'postcode'],\n",
       " 'ErrorResponse': ['timestamp', 'status', 'code', 'error', 'message']}"
      ]
     },
     "execution_count": 101,
     "metadata": {},
     "output_type": "execute_result"
    }
   ],
   "source": [
    "#creating a dictionary with objects and their properties\n",
    "object_dict ={}\n",
    "objects = list(spec['definitions'])\n",
    "for i in range (len(objects)):\n",
    "    try:\n",
    "        object_dict[objects[i]]=list(spec['definitions'][objects[i]]['properties'])#['properties']\n",
    "    except:\n",
    "        pass\n",
    "object_dict"
   ]
  },
  {
   "cell_type": "code",
   "execution_count": 102,
   "id": "bafb5863",
   "metadata": {},
   "outputs": [
    {
     "name": "stdout",
     "output_type": "stream",
     "text": [
      "{\n",
      "    \"Eenheid\": [\n",
      "        \"adres\"\n",
      "    ],\n",
      "    \"Leefbaarheidsmelding\": [\n",
      "        \"identificatie\",\n",
      "        \"registratiedatum\",\n",
      "        \"omschrijving\",\n",
      "        \"toelichting\",\n",
      "        \"type\",\n",
      "        \"onderwerp\",\n",
      "        \"status\",\n",
      "        \"reden\",\n",
      "        \"urgentie\",\n",
      "        \"verantwoordelijkeMedewerker\",\n",
      "        \"relatieIdentificatie\",\n",
      "        \"rolRelatie\",\n",
      "        \"eenheid\"\n",
      "    ],\n",
      "    \"Adres\": [\n",
      "        \"huisnummer\",\n",
      "        \"huisnummerToevoeging\",\n",
      "        \"postcode\"\n",
      "    ],\n",
      "    \"ErrorResponse\": [\n",
      "        \"timestamp\",\n",
      "        \"status\",\n",
      "        \"code\",\n",
      "        \"error\",\n",
      "        \"message\"\n",
      "    ]\n",
      "}\n"
     ]
    }
   ],
   "source": [
    "#converting the python dict to a JSON \n",
    "import json \n",
    "      \n",
    "# Serializing json  \n",
    "json_object = json.dumps(object_dict, indent = 4) \n",
    "print(json_object)"
   ]
  },
  {
   "cell_type": "markdown",
   "id": "8d71746b",
   "metadata": {},
   "source": [
    "## 4. Writing it to a .json, plantuml and .csv file"
   ]
  },
  {
   "cell_type": "code",
   "execution_count": 103,
   "id": "546837af",
   "metadata": {},
   "outputs": [],
   "source": [
    "#writing it to a json\n",
    "import json\n",
    "with open(API_name+'_data.json', 'w', encoding='utf-8') as f:\n",
    "    json.dump(json_object, f, ensure_ascii=False, indent=4)"
   ]
  },
  {
   "cell_type": "code",
   "execution_count": 104,
   "id": "bb1f9767",
   "metadata": {},
   "outputs": [
    {
     "data": {
      "text/plain": [
       "['inspectieorders-api_data.json',\n",
       " 'leefbaarheidsmelding-api_data.json',\n",
       " 'onderhoudsverzoeken-api_data.json',\n",
       " 'planningsverzoeken-api.json',\n",
       " 'planningsverzoeken-api_data.json',\n",
       " 'relatie-naw-api_data.json',\n",
       " 'relatieoverzicht-api_data.json',\n",
       " 'relatiestatus-api_data.json',\n",
       " 'Relatie_Contactmoment_API_data.json']"
      ]
     },
     "execution_count": 104,
     "metadata": {},
     "output_type": "execute_result"
    }
   ],
   "source": [
    "import glob\n",
    "my_jsons = glob.glob('*.json')\n",
    "my_jsons"
   ]
  },
  {
   "cell_type": "code",
   "execution_count": 105,
   "id": "21cae377",
   "metadata": {},
   "outputs": [],
   "source": [
    "textfile = open(\"plantuml_\"+API_name+\"_data.txt\", \"w\")\n",
    "textfile.write('@startuml\\n')\n",
    "for key, value in object_dict.items():\n",
    "    textfile.write('class '+str(key) +'{\\n')\n",
    "    for i in range (len(value)):\n",
    "        textfile.write(value[i] + \"\\n\")\n",
    "    textfile.write('}\\n')\n",
    "textfile.write('@enduml')\n",
    "textfile.close()"
   ]
  },
  {
   "cell_type": "code",
   "execution_count": 106,
   "id": "2222a6b1",
   "metadata": {},
   "outputs": [
    {
     "name": "stdout",
     "output_type": "stream",
     "text": [
      "plantuml_leefbaarheidsmelding-api_data.txt\n",
      "plantuml_relatie-naw-api_data.txt\n",
      "plantuml_relatiestatus-api_data.txt\n",
      "plantuml_relatieoverzicht-api_data.txt\n",
      "plantuml_Relatie_Contactmoment_API_data.txt\n",
      "plantuml_inspectieorders-api_data.txt\n",
      "onderhoudsverzoeken-api_API_plantuml.txt\n",
      "plantuml_planningsverzoeken-api_data.txt\n",
      "plantuml_planningsverzoeken.txt\n",
      "The last one is: plantuml_leefbaarheidsmelding-api_data.txt\n"
     ]
    }
   ],
   "source": [
    "import glob\n",
    "my_txts = glob.glob('*.txt')\n",
    "my_txts\n",
    "import glob\n",
    "import os\n",
    "\n",
    "#files = glob.glob(\"*cycle*.log\")\n",
    "my_txts.sort(key=os.path.getmtime, reverse=True)\n",
    "print(\"\\n\".join(my_txts))\n",
    "print(\"The last one is: \"+my_txts[0])"
   ]
  },
  {
   "cell_type": "code",
   "execution_count": 49,
   "id": "ef2f3a3f",
   "metadata": {},
   "outputs": [],
   "source": [
    "#check the plantuml file manually\n",
    "%pycat C:\\\\Users\\\\31653\\\\Documents\\\\GitHub\\\\Notebooks\\\\de_alliantie\\\\da_api\\\\plantuml_relatieoverzicht-api_data.txt"
   ]
  },
  {
   "cell_type": "code",
   "execution_count": 107,
   "id": "f25a7216",
   "metadata": {},
   "outputs": [
    {
     "name": "stdout",
     "output_type": "stream",
     "text": [
      "[{'filename': 'plantuml_leefbaarheidsmelding-api_data.txt', 'gen_success': True}]\n"
     ]
    }
   ],
   "source": [
    "#convert the txt file to an .png image using plantuml\n",
    "!python -m plantuml plantuml_leefbaarheidsmelding-api_data.txt"
   ]
  },
  {
   "cell_type": "code",
   "execution_count": 108,
   "id": "83323331",
   "metadata": {},
   "outputs": [
    {
     "data": {
      "image/png": "[encoded data removed]",
      "text/plain": [
       "<IPython.core.display.Image object>"
      ]
     },
     "execution_count": 108,
     "metadata": {
      "image/png": {
       "height": 500,
       "width": 1200
      }
     },
     "output_type": "execute_result"
    }
   ],
   "source": [
    "#show the generated png\n",
    "from IPython import display\n",
    "display.Image(filename=\"plantuml_leefbaarheidsmelding-api_data.png\", width=1200, height=500)"
   ]
  },
  {
   "cell_type": "markdown",
   "id": "601673f5",
   "metadata": {},
   "source": [
    "## Write it to a .csv file\n",
    "\n",
    " a .csv file with a ; seperator between key and values"
   ]
  },
  {
   "cell_type": "code",
   "execution_count": 109,
   "id": "7f129565",
   "metadata": {},
   "outputs": [],
   "source": [
    "with open(API_name+\"_data.csv\", mode=\"w\") as pv:\n",
    "    for key, value in object_dict.items():\n",
    "        pv.write(str(key)+\";\")\n",
    "        for i in range (len(value)-1):\n",
    "            pv.write(value[i]+\",\")#write values + a comma  \n",
    "        pv.write(value[-1]+\"\\n\") #write last value (and no comma) "
   ]
  },
  {
   "cell_type": "code",
   "execution_count": 110,
   "id": "08ecf595",
   "metadata": {},
   "outputs": [
    {
     "data": {
      "text/plain": [
       "['inspectieorders-api_data.csv',\n",
       " 'leefbaarheidsmelding-api_data.csv',\n",
       " 'onderhoudsverzoeken-api_data.csv',\n",
       " 'planningsverzoeken-api_data.csv',\n",
       " 'relatie-naw-api_data.csv',\n",
       " 'relatieoverzicht-api_data.csv',\n",
       " 'relatiestatus-api_data.csv',\n",
       " 'Relatie_Contactmoment_API_data.csv']"
      ]
     },
     "execution_count": 110,
     "metadata": {},
     "output_type": "execute_result"
    }
   ],
   "source": [
    "import glob\n",
    "my_csvs=glob.glob('*.csv')\n",
    "my_csvs"
   ]
  },
  {
   "cell_type": "code",
   "execution_count": 27,
   "id": "a4666e0d",
   "metadata": {},
   "outputs": [],
   "source": [
    "#check the plantuml file manually\n",
    "%pycat C:\\\\Users\\\\31653\\\\Documents\\\\GitHub\\\\Notebooks\\\\de_alliantie\\\\inspectieorders-api_data.csv"
   ]
  },
  {
   "cell_type": "code",
   "execution_count": null,
   "id": "38d55ae2",
   "metadata": {},
   "outputs": [],
   "source": []
  },
  {
   "cell_type": "code",
   "execution_count": null,
   "id": "1d08bb80",
   "metadata": {},
   "outputs": [],
   "source": [
    " "
   ]
  },
  {
   "cell_type": "code",
   "execution_count": null,
   "id": "c1eb3267",
   "metadata": {},
   "outputs": [],
   "source": []
  },
  {
   "cell_type": "code",
   "execution_count": null,
   "id": "3eeb31f8",
   "metadata": {},
   "outputs": [],
   "source": []
  }
 ],
 "metadata": {
  "kernelspec": {
   "display_name": "Python 3 (ipykernel)",
   "language": "python",
   "name": "python3"
  },
  "language_info": {
   "codemirror_mode": {
    "name": "ipython",
    "version": 3
   },
   "file_extension": ".py",
   "mimetype": "text/x-python",
   "name": "python",
   "nbconvert_exporter": "python",
   "pygments_lexer": "ipython3",
   "version": "3.8.5"
  }
 },
 "nbformat": 4,
 "nbformat_minor": 5
}
