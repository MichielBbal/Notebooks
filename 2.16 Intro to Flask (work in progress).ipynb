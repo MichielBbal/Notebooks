{
 "cells": [
  {
   "cell_type": "markdown",
   "id": "28af89ae",
   "metadata": {},
   "source": [
    "# Intro to Flask\n",
    "\n",
    "Yes, you can run run Flask from Jupyter Notebooks. \n",
    "In this tutorial we will learn some concepts from Flask\n",
    "\n",
    "#### Contents\n",
    "0. Install libraries\n",
    "1. My first flask\n",
    "\n"
   ]
  },
  {
   "cell_type": "markdown",
   "id": "cd6b7269",
   "metadata": {},
   "source": [
    "## 0. Install libraries"
   ]
  },
  {
   "cell_type": "code",
   "execution_count": 6,
   "id": "1442857f",
   "metadata": {},
   "outputs": [
    {
     "name": "stdout",
     "output_type": "stream",
     "text": [
      "Requirement already satisfied: flask in /Users/michielbontenbal/opt/anaconda3/lib/python3.9/site-packages (1.1.2)\n",
      "Requirement already satisfied: itsdangerous>=0.24 in /Users/michielbontenbal/opt/anaconda3/lib/python3.9/site-packages (from flask) (2.0.1)\n",
      "Requirement already satisfied: click>=5.1 in /Users/michielbontenbal/opt/anaconda3/lib/python3.9/site-packages (from flask) (8.0.4)\n",
      "Requirement already satisfied: Jinja2>=2.10.1 in /Users/michielbontenbal/opt/anaconda3/lib/python3.9/site-packages (from flask) (2.11.3)\n",
      "Requirement already satisfied: Werkzeug>=0.15 in /Users/michielbontenbal/opt/anaconda3/lib/python3.9/site-packages (from flask) (2.0.3)\n",
      "Requirement already satisfied: MarkupSafe>=0.23 in /Users/michielbontenbal/opt/anaconda3/lib/python3.9/site-packages (from Jinja2>=2.10.1->flask) (2.0.1)\n"
     ]
    }
   ],
   "source": [
    "!pip install flask"
   ]
  },
  {
   "cell_type": "markdown",
   "id": "d221cac4",
   "metadata": {},
   "source": [
    "## 1. My first flask\n",
    "Run the cells below then open the local-host link"
   ]
  },
  {
   "cell_type": "code",
   "execution_count": 1,
   "id": "ceab3153",
   "metadata": {},
   "outputs": [],
   "source": [
    " #import flask"
   ]
  },
  {
   "cell_type": "code",
   "execution_count": 3,
   "id": "58ec0de0",
   "metadata": {},
   "outputs": [],
   "source": [
    "from flask import Flask\n",
    "\n",
    "# make an instance of the app \n",
    "app = Flask(__name__) \n",
    "\n",
    "#\n",
    "@app.route('/') #decorator before the function modifies the function. \n",
    "def hello_world():\n",
    "    return '<h1>Hello world!</h1>' #use html syntax to create a h1-header"
   ]
  },
  {
   "cell_type": "code",
   "execution_count": 4,
   "id": "79a0bb88",
   "metadata": {},
   "outputs": [
    {
     "name": "stdout",
     "output_type": "stream",
     "text": [
      " * Serving Flask app \"__main__\" (lazy loading)\n",
      " * Environment: production\n",
      "\u001b[31m   WARNING: This is a development server. Do not use it in a production deployment.\u001b[0m\n",
      "\u001b[2m   Use a production WSGI server instead.\u001b[0m\n",
      " * Debug mode: off\n"
     ]
    },
    {
     "name": "stderr",
     "output_type": "stream",
     "text": [
      " * Running on http://127.0.0.1:5000/ (Press CTRL+C to quit)\n",
      "127.0.0.1 - - [25/Jan/2023 14:53:48] \"GET / HTTP/1.1\" 200 -\n",
      "127.0.0.1 - - [25/Jan/2023 14:53:48] \"GET /favicon.ico HTTP/1.1\" 404 -\n"
     ]
    }
   ],
   "source": [
    "#run the app\n",
    "app.run()"
   ]
  },
  {
   "cell_type": "code",
   "execution_count": 7,
   "id": "1026b2f9",
   "metadata": {},
   "outputs": [
    {
     "name": "stdout",
     "output_type": "stream",
     "text": [
      " * Serving Flask app \"__main__\" (lazy loading)\n",
      " * Environment: production\n",
      "\u001b[31m   WARNING: This is a development server. Do not use it in a production deployment.\u001b[0m\n",
      "\u001b[2m   Use a production WSGI server instead.\u001b[0m\n",
      " * Debug mode: off\n"
     ]
    },
    {
     "name": "stderr",
     "output_type": "stream",
     "text": [
      " * Running on http://localhost:5001/ (Press CTRL+C to quit)\n",
      "127.0.0.1 - - [25/Jan/2023 15:09:07] \"GET / HTTP/1.1\" 200 -\n",
      "127.0.0.1 - - [25/Jan/2023 15:09:07] \"GET /favicon.ico HTTP/1.1\" 404 -\n"
     ]
    }
   ],
   "source": [
    "#you can also run Flask at your port of choice\n",
    "app.run(host='localhost', port='5001')"
   ]
  },
  {
   "cell_type": "markdown",
   "id": "288bd70d",
   "metadata": {},
   "source": [
    "## 2. Some more advanced examples"
   ]
  },
  {
   "cell_type": "code",
   "execution_count": 17,
   "id": "19c5f8f6",
   "metadata": {},
   "outputs": [
    {
     "name": "stdout",
     "output_type": "stream",
     "text": [
      " * Serving Flask app \"__main__\" (lazy loading)\n",
      " * Environment: production\n",
      "\u001b[31m   WARNING: This is a development server. Do not use it in a production deployment.\u001b[0m\n",
      "\u001b[2m   Use a production WSGI server instead.\u001b[0m\n",
      " * Debug mode: off\n"
     ]
    },
    {
     "name": "stderr",
     "output_type": "stream",
     "text": [
      " * Running on http://127.0.0.1:5000/ (Press CTRL+C to quit)\n",
      "127.0.0.1 - - [25/Jan/2023 15:35:17] \"GET / HTTP/1.1\" 200 -\n",
      "127.0.0.1 - - [25/Jan/2023 15:35:21] \"GET /user/Michiel HTTP/1.1\" 200 -\n"
     ]
    }
   ],
   "source": [
    "from flask import Flask\n",
    "\n",
    "# make an instance of the app \n",
    "app = Flask(__name__) \n",
    "\n",
    "#\n",
    "@app.route('/') #decorator before the function modifies the function. \n",
    "def hello_world():\n",
    "    return '<h1>Hello world!</h1>' #use html syntax to create a h1-header\n",
    "\n",
    "@app.route('/user/<name>')#this will make the url dynamic\n",
    "def hello_user(name):\n",
    "    return '<h1>hello, {0}!</h1>'.format(name)\n",
    "\n",
    "app.run()"
   ]
  },
  {
   "cell_type": "code",
   "execution_count": null,
   "id": "58b75a10",
   "metadata": {},
   "outputs": [],
   "source": [
    "#copy text below to a new file called 'first_app.html' \n",
    "<!doctype html>\n",
    "<html>\n",
    "<head>\n",
    "\t<title>My first app</title>\n",
    "</head>\n",
    "<body>\n",
    "\t<div>This is my first Flask app!</div>\n",
    "</body>\n",
    "</html>"
   ]
  },
  {
   "cell_type": "code",
   "execution_count": 24,
   "id": "f2a6ce7b",
   "metadata": {},
   "outputs": [
    {
     "data": {
      "text/plain": [
       "['websocketbrowser.html', 'first_app.html']"
      ]
     },
     "execution_count": 24,
     "metadata": {},
     "output_type": "execute_result"
    }
   ],
   "source": [
    "import glob\n",
    "my_htmls = glob.glob('*.html')\n",
    "my_htmls"
   ]
  },
  {
   "cell_type": "code",
   "execution_count": 26,
   "id": "c3409aeb",
   "metadata": {},
   "outputs": [],
   "source": [
    "#not working example\n",
    "from flask import Flask, render_template\n",
    "\n",
    "app = Flask(__name__)\n",
    "\n",
    "@app.route('/')\n",
    "def index():\n",
    "    return render_template('first_app.html')\n",
    "\n",
    "#if __name__ == '__main__':\n",
    "#app.run()"
   ]
  },
  {
   "cell_type": "code",
   "execution_count": 27,
   "id": "8ef26421",
   "metadata": {},
   "outputs": [
    {
     "name": "stdout",
     "output_type": "stream",
     "text": [
      " * Serving Flask app \"__main__\" (lazy loading)\n",
      " * Environment: production\n",
      "\u001b[31m   WARNING: This is a development server. Do not use it in a production deployment.\u001b[0m\n",
      "\u001b[2m   Use a production WSGI server instead.\u001b[0m\n",
      " * Debug mode: off\n"
     ]
    },
    {
     "name": "stderr",
     "output_type": "stream",
     "text": [
      " * Running on http://127.0.0.1:5000/ (Press CTRL+C to quit)\n",
      "[2023-01-25 15:56:44,313] ERROR in app: Exception on / [GET]\n",
      "Traceback (most recent call last):\n",
      "  File \"/Users/michielbontenbal/opt/anaconda3/lib/python3.9/site-packages/flask/app.py\", line 2447, in wsgi_app\n",
      "    response = self.full_dispatch_request()\n",
      "  File \"/Users/michielbontenbal/opt/anaconda3/lib/python3.9/site-packages/flask/app.py\", line 1952, in full_dispatch_request\n",
      "    rv = self.handle_user_exception(e)\n",
      "  File \"/Users/michielbontenbal/opt/anaconda3/lib/python3.9/site-packages/flask/app.py\", line 1821, in handle_user_exception\n",
      "    reraise(exc_type, exc_value, tb)\n",
      "  File \"/Users/michielbontenbal/opt/anaconda3/lib/python3.9/site-packages/flask/_compat.py\", line 39, in reraise\n",
      "    raise value\n",
      "  File \"/Users/michielbontenbal/opt/anaconda3/lib/python3.9/site-packages/flask/app.py\", line 1950, in full_dispatch_request\n",
      "    rv = self.dispatch_request()\n",
      "  File \"/Users/michielbontenbal/opt/anaconda3/lib/python3.9/site-packages/flask/app.py\", line 1936, in dispatch_request\n",
      "    return self.view_functions[rule.endpoint](**req.view_args)\n",
      "  File \"/var/folders/cj/qtbz9fvd3svc0x28yv2756mh0000gn/T/ipykernel_44781/3637433345.py\", line 7, in index\n",
      "    return render_template('first_app.html')\n",
      "  File \"/Users/michielbontenbal/opt/anaconda3/lib/python3.9/site-packages/flask/templating.py\", line 138, in render_template\n",
      "    ctx.app.jinja_env.get_or_select_template(template_name_or_list),\n",
      "  File \"/Users/michielbontenbal/opt/anaconda3/lib/python3.9/site-packages/jinja2/environment.py\", line 930, in get_or_select_template\n",
      "    return self.get_template(template_name_or_list, parent, globals)\n",
      "  File \"/Users/michielbontenbal/opt/anaconda3/lib/python3.9/site-packages/jinja2/environment.py\", line 883, in get_template\n",
      "    return self._load_template(name, self.make_globals(globals))\n",
      "  File \"/Users/michielbontenbal/opt/anaconda3/lib/python3.9/site-packages/jinja2/environment.py\", line 857, in _load_template\n",
      "    template = self.loader.load(self, name, globals)\n",
      "  File \"/Users/michielbontenbal/opt/anaconda3/lib/python3.9/site-packages/jinja2/loaders.py\", line 115, in load\n",
      "    source, filename, uptodate = self.get_source(environment, name)\n",
      "  File \"/Users/michielbontenbal/opt/anaconda3/lib/python3.9/site-packages/flask/templating.py\", line 60, in get_source\n",
      "    return self._get_source_fast(environment, template)\n",
      "  File \"/Users/michielbontenbal/opt/anaconda3/lib/python3.9/site-packages/flask/templating.py\", line 89, in _get_source_fast\n",
      "    raise TemplateNotFound(template)\n",
      "jinja2.exceptions.TemplateNotFound: first_app.html\n",
      "127.0.0.1 - - [25/Jan/2023 15:56:44] \"GET / HTTP/1.1\" 500 -\n"
     ]
    }
   ],
   "source": [
    "app.run()"
   ]
  },
  {
   "cell_type": "code",
   "execution_count": null,
   "id": "b1eb30de",
   "metadata": {},
   "outputs": [],
   "source": []
  }
 ],
 "metadata": {
  "kernelspec": {
   "display_name": "Python 3 (ipykernel)",
   "language": "python",
   "name": "python3"
  },
  "language_info": {
   "codemirror_mode": {
    "name": "ipython",
    "version": 3
   },
   "file_extension": ".py",
   "mimetype": "text/x-python",
   "name": "python",
   "nbconvert_exporter": "python",
   "pygments_lexer": "ipython3",
   "version": "3.9.12"
  }
 },
 "nbformat": 4,
 "nbformat_minor": 5
}
