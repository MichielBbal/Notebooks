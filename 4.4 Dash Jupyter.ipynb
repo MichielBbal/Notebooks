{
 "cells": [
  {
   "cell_type": "code",
   "execution_count": 1,
   "metadata": {},
   "outputs": [
    {
     "name": "stdout",
     "output_type": "stream",
     "text": [
      "Collecting jupyter-dash\n",
      "  Downloading jupyter_dash-0.3.1-py3-none-any.whl (49 kB)\n",
      "Requirement already satisfied: ipython in c:\\users\\michielbontenbal\\anaconda3\\lib\\site-packages (from jupyter-dash) (7.12.0)\n",
      "Collecting dash\n",
      "  Downloading dash-1.14.0.tar.gz (70 kB)\n",
      "Requirement already satisfied: retrying in c:\\users\\michielbontenbal\\anaconda3\\lib\\site-packages (from jupyter-dash) (1.3.3)\n",
      "Requirement already satisfied: flask in c:\\users\\michielbontenbal\\anaconda3\\lib\\site-packages (from jupyter-dash) (1.1.1)\n",
      "Collecting ansi2html\n",
      "  Downloading ansi2html-1.5.2.tar.gz (27 kB)\n",
      "Requirement already satisfied: requests in c:\\users\\michielbontenbal\\anaconda3\\lib\\site-packages (from jupyter-dash) (2.22.0)\n",
      "Requirement already satisfied: ipykernel in c:\\users\\michielbontenbal\\anaconda3\\lib\\site-packages (from jupyter-dash) (5.1.4)\n",
      "Requirement already satisfied: pygments in c:\\users\\michielbontenbal\\anaconda3\\lib\\site-packages (from ipython->jupyter-dash) (2.5.2)\n",
      "Requirement already satisfied: decorator in c:\\users\\michielbontenbal\\anaconda3\\lib\\site-packages (from ipython->jupyter-dash) (4.4.1)\n",
      "Requirement already satisfied: colorama; sys_platform == \"win32\" in c:\\users\\michielbontenbal\\anaconda3\\lib\\site-packages (from ipython->jupyter-dash) (0.4.3)\n",
      "Requirement already satisfied: jedi>=0.10 in c:\\users\\michielbontenbal\\anaconda3\\lib\\site-packages (from ipython->jupyter-dash) (0.14.1)\n",
      "Requirement already satisfied: pickleshare in c:\\users\\michielbontenbal\\anaconda3\\lib\\site-packages (from ipython->jupyter-dash) (0.7.5)\n",
      "Requirement already satisfied: backcall in c:\\users\\michielbontenbal\\anaconda3\\lib\\site-packages (from ipython->jupyter-dash) (0.1.0)\n",
      "Requirement already satisfied: prompt-toolkit!=3.0.0,!=3.0.1,<3.1.0,>=2.0.0 in c:\\users\\michielbontenbal\\anaconda3\\lib\\site-packages (from ipython->jupyter-dash) (3.0.3)\n",
      "Requirement already satisfied: setuptools>=18.5 in c:\\users\\michielbontenbal\\anaconda3\\lib\\site-packages (from ipython->jupyter-dash) (45.2.0.post20200210)\n",
      "Requirement already satisfied: traitlets>=4.2 in c:\\users\\michielbontenbal\\anaconda3\\lib\\site-packages (from ipython->jupyter-dash) (4.3.3)\n",
      "Collecting flask-compress\n",
      "  Downloading Flask-Compress-1.5.0.tar.gz (6.5 kB)\n",
      "Requirement already satisfied: plotly in c:\\users\\michielbontenbal\\anaconda3\\lib\\site-packages (from dash->jupyter-dash) (4.9.0)\n",
      "Collecting dash_renderer==1.6.0\n",
      "  Downloading dash_renderer-1.6.0.tar.gz (1.2 MB)\n",
      "Collecting dash-core-components==1.10.2\n",
      "  Downloading dash_core_components-1.10.2.tar.gz (3.4 MB)\n",
      "Collecting dash-html-components==1.0.3\n",
      "  Downloading dash_html_components-1.0.3.tar.gz (187 kB)\n",
      "Collecting dash-table==4.9.0\n",
      "  Downloading dash_table-4.9.0.tar.gz (1.8 MB)\n",
      "Requirement already satisfied: future in c:\\users\\michielbontenbal\\anaconda3\\lib\\site-packages (from dash->jupyter-dash) (0.18.2)\n",
      "Requirement already satisfied: six>=1.7.0 in c:\\users\\michielbontenbal\\anaconda3\\lib\\site-packages (from retrying->jupyter-dash) (1.14.0)\n",
      "Requirement already satisfied: itsdangerous>=0.24 in c:\\users\\michielbontenbal\\anaconda3\\lib\\site-packages (from flask->jupyter-dash) (1.1.0)\n",
      "Requirement already satisfied: click>=5.1 in c:\\users\\michielbontenbal\\anaconda3\\lib\\site-packages (from flask->jupyter-dash) (7.0)\n",
      "Requirement already satisfied: Werkzeug>=0.15 in c:\\users\\michielbontenbal\\anaconda3\\lib\\site-packages (from flask->jupyter-dash) (1.0.0)\n",
      "Requirement already satisfied: Jinja2>=2.10.1 in c:\\users\\michielbontenbal\\anaconda3\\lib\\site-packages (from flask->jupyter-dash) (2.11.1)\n",
      "Requirement already satisfied: certifi>=2017.4.17 in c:\\users\\michielbontenbal\\anaconda3\\lib\\site-packages (from requests->jupyter-dash) (2019.11.28)\n",
      "Requirement already satisfied: chardet<3.1.0,>=3.0.2 in c:\\users\\michielbontenbal\\anaconda3\\lib\\site-packages (from requests->jupyter-dash) (3.0.4)\n",
      "Requirement already satisfied: urllib3!=1.25.0,!=1.25.1,<1.26,>=1.21.1 in c:\\users\\michielbontenbal\\anaconda3\\lib\\site-packages (from requests->jupyter-dash) (1.25.8)\n",
      "Requirement already satisfied: idna<2.9,>=2.5 in c:\\users\\michielbontenbal\\anaconda3\\lib\\site-packages (from requests->jupyter-dash) (2.8)\n",
      "Requirement already satisfied: tornado>=4.2 in c:\\users\\michielbontenbal\\anaconda3\\lib\\site-packages (from ipykernel->jupyter-dash) (6.0.3)\n",
      "Requirement already satisfied: jupyter-client in c:\\users\\michielbontenbal\\anaconda3\\lib\\site-packages (from ipykernel->jupyter-dash) (5.3.4)\n",
      "Requirement already satisfied: parso>=0.5.0 in c:\\users\\michielbontenbal\\anaconda3\\lib\\site-packages (from jedi>=0.10->ipython->jupyter-dash) (0.5.2)\n",
      "Requirement already satisfied: wcwidth in c:\\users\\michielbontenbal\\anaconda3\\lib\\site-packages (from prompt-toolkit!=3.0.0,!=3.0.1,<3.1.0,>=2.0.0->ipython->jupyter-dash) (0.1.8)\n",
      "Requirement already satisfied: ipython-genutils in c:\\users\\michielbontenbal\\anaconda3\\lib\\site-packages (from traitlets>=4.2->ipython->jupyter-dash) (0.2.0)\n",
      "Collecting brotli\n",
      "  Downloading Brotli-1.0.7-cp37-cp37m-win_amd64.whl (358 kB)\n",
      "Requirement already satisfied: MarkupSafe>=0.23 in c:\\users\\michielbontenbal\\anaconda3\\lib\\site-packages (from Jinja2>=2.10.1->flask->jupyter-dash) (1.1.1)\n",
      "Requirement already satisfied: pywin32>=1.0; sys_platform == \"win32\" in c:\\users\\michielbontenbal\\anaconda3\\lib\\site-packages (from jupyter-client->ipykernel->jupyter-dash) (227)\n",
      "Requirement already satisfied: jupyter-core>=4.6.0 in c:\\users\\michielbontenbal\\anaconda3\\lib\\site-packages (from jupyter-client->ipykernel->jupyter-dash) (4.6.1)\n",
      "Requirement already satisfied: pyzmq>=13 in c:\\users\\michielbontenbal\\anaconda3\\lib\\site-packages (from jupyter-client->ipykernel->jupyter-dash) (18.1.1)\n",
      "Requirement already satisfied: python-dateutil>=2.1 in c:\\users\\michielbontenbal\\anaconda3\\lib\\site-packages (from jupyter-client->ipykernel->jupyter-dash) (2.8.1)\n",
      "Building wheels for collected packages: dash, ansi2html, flask-compress, dash-renderer, dash-core-components, dash-html-components, dash-table\n",
      "  Building wheel for dash (setup.py): started\n",
      "  Building wheel for dash (setup.py): finished with status 'done'\n",
      "  Created wheel for dash: filename=dash-1.14.0-py3-none-any.whl size=80132 sha256=abafcd0926db2902a2e04aec163f64c8fe7643f72bc7afff0b715c403c55a079\n",
      "  Stored in directory: c:\\users\\michielbontenbal\\appdata\\local\\pip\\cache\\wheels\\77\\53\\27\\031b701ce8077990289c07ea1298e5a217fab3a4639b168856\n",
      "  Building wheel for ansi2html (setup.py): started\n",
      "  Building wheel for ansi2html (setup.py): finished with status 'done'\n",
      "  Created wheel for ansi2html: filename=ansi2html-1.5.2-py3-none-any.whl size=13865 sha256=45561414ed5afdb6e41f381654c0da3acb50e53bb02789eda46d030d1cc5240b\n",
      "  Stored in directory: c:\\users\\michielbontenbal\\appdata\\local\\pip\\cache\\wheels\\62\\fa\\1e\\1ad9fb5c2225613adfcf012dd25f313f3a065f2131cdff0a99\n",
      "  Building wheel for flask-compress (setup.py): started\n",
      "  Building wheel for flask-compress (setup.py): finished with status 'done'\n",
      "  Created wheel for flask-compress: filename=Flask_Compress-1.5.0-py3-none-any.whl size=5277 sha256=fb298f0eecc6a6a683baf3c92bb0914def2fdb817b081925f4cdca149628406e\n",
      "  Stored in directory: c:\\users\\michielbontenbal\\appdata\\local\\pip\\cache\\wheels\\d6\\9f\\c9\\4bf2abf65cceaa8d19423bc34b88443b3b063f167d2082c212\n",
      "  Building wheel for dash-renderer (setup.py): started\n",
      "  Building wheel for dash-renderer (setup.py): finished with status 'done'\n",
      "  Created wheel for dash-renderer: filename=dash_renderer-1.6.0-py3-none-any.whl size=1182223 sha256=ca35a0ad55f7206472d5a8daa9fe114f1965b2020d721246056e869142fadeff\n",
      "  Stored in directory: c:\\users\\michielbontenbal\\appdata\\local\\pip\\cache\\wheels\\37\\31\\d9\\3b53bbe9389c1ff7b0ac2ec25e811cf2303009e426243eaf61\n",
      "  Building wheel for dash-core-components (setup.py): started\n",
      "  Building wheel for dash-core-components (setup.py): finished with status 'done'\n",
      "  Created wheel for dash-core-components: filename=dash_core_components-1.10.2-py3-none-any.whl size=3457327 sha256=008620d1640715ea5c20c7c65ad127a1f30295ab70b01f239a43b7beb97a2e32\n",
      "  Stored in directory: c:\\users\\michielbontenbal\\appdata\\local\\pip\\cache\\wheels\\17\\97\\01\\848073c7de32c1381023e5cf42d66ce4d6aa1608dbb93a983a\n",
      "  Building wheel for dash-html-components (setup.py): started\n",
      "  Building wheel for dash-html-components (setup.py): finished with status 'done'\n",
      "  Created wheel for dash-html-components: filename=dash_html_components-1.0.3-py3-none-any.whl size=427310 sha256=6967766c1605991ac47245f1e59d43fd42652102f8be55650915d29524771091\n",
      "  Stored in directory: c:\\users\\michielbontenbal\\appdata\\local\\pip\\cache\\wheels\\36\\34\\f9\\c3d147461b28467d5bbd14d255be66f6728a1580ff9fbebece\n",
      "  Building wheel for dash-table (setup.py): started\n",
      "  Building wheel for dash-table (setup.py): finished with status 'done'\n",
      "  Created wheel for dash-table: filename=dash_table-4.9.0-py3-none-any.whl size=1780771 sha256=c3e2e2965490efa92af07364ed94f55a568549bee8b4c69b20a9b797b57fbaea\n",
      "  Stored in directory: c:\\users\\michielbontenbal\\appdata\\local\\pip\\cache\\wheels\\44\\aa\\7a\\73ca1e791ccd10a7f9863fbcf7266f5f6dc1a69aedf045a3c8\n",
      "Successfully built dash ansi2html flask-compress dash-renderer dash-core-components dash-html-components dash-table\n",
      "Installing collected packages: brotli, flask-compress, dash-renderer, dash-core-components, dash-html-components, dash-table, dash, ansi2html, jupyter-dash\n",
      "Successfully installed ansi2html-1.5.2 brotli-1.0.7 dash-1.14.0 dash-core-components-1.10.2 dash-html-components-1.0.3 dash-renderer-1.6.0 dash-table-4.9.0 flask-compress-1.5.0 jupyter-dash-0.3.1\n"
     ]
    }
   ],
   "source": [
    "!pip install jupyter-dash"
   ]
  },
  {
   "cell_type": "code",
   "execution_count": 5,
   "metadata": {},
   "outputs": [
    {
     "data": {
      "text/html": [
       "\n",
       "        <iframe\n",
       "            width=\"100%\"\n",
       "            height=\"650\"\n",
       "            src=\"http://127.0.0.1:8050/\"\n",
       "            frameborder=\"0\"\n",
       "            allowfullscreen\n",
       "        ></iframe>\n",
       "        "
      ],
      "text/plain": [
       "<IPython.lib.display.IFrame at 0x2744fd79d88>"
      ]
     },
     "metadata": {},
     "output_type": "display_data"
    }
   ],
   "source": [
    "import plotly.express as px\n",
    "from jupyter_dash import JupyterDash\n",
    "import dash_core_components as dcc\n",
    "import dash_html_components as html\n",
    "from dash.dependencies import Input, Output\n",
    "# Load Data\n",
    "df = px.data.tips()\n",
    "# Build App\n",
    "app = JupyterDash(__name__)\n",
    "app.layout = html.Div([\n",
    "    html.H1(\"JupyterDash Demo\"),\n",
    "    dcc.Graph(id='graph'),\n",
    "    html.Label([\n",
    "        \"colorscale\",\n",
    "        dcc.Dropdown(\n",
    "            id='colorscale-dropdown', clearable=False,\n",
    "            value='plasma', options=[\n",
    "                {'label': c, 'value': c}\n",
    "                for c in px.colors.named_colorscales()\n",
    "            ])\n",
    "    ]),\n",
    "])\n",
    "# Define callback to update graph\n",
    "@app.callback(\n",
    "    Output('graph', 'figure'),\n",
    "    [Input(\"colorscale-dropdown\", \"value\")]\n",
    ")\n",
    "def update_figure(colorscale):\n",
    "    return px.scatter(\n",
    "        df, x=\"total_bill\", y=\"tip\", color=\"size\",\n",
    "        color_continuous_scale=colorscale,\n",
    "        render_mode=\"webgl\", title=\"Tips\"\n",
    "    )\n",
    "# Run app and display result inline in the notebook\n",
    "app.run_server(mode='inline')#'inline' / 'external' / 'jupyterlab'"
   ]
  },
  {
   "cell_type": "code",
   "execution_count": 6,
   "metadata": {},
   "outputs": [
    {
     "name": "stdout",
     "output_type": "stream",
     "text": [
      "1.10.2\n"
     ]
    }
   ],
   "source": [
    "import dash_core_components\n",
    "print(dash_core_components.__version__)"
   ]
  },
  {
   "cell_type": "code",
   "execution_count": 7,
   "metadata": {},
   "outputs": [
    {
     "ename": "SystemExit",
     "evalue": "1",
     "output_type": "error",
     "traceback": [
      "An exception has occurred, use %tb to see the full traceback.\n",
      "\u001b[1;31mSystemExit\u001b[0m\u001b[1;31m:\u001b[0m 1\n"
     ]
    },
    {
     "name": "stderr",
     "output_type": "stream",
     "text": [
      "C:\\Users\\MichielBontenbal\\anaconda3\\lib\\site-packages\\IPython\\core\\interactiveshell.py:3339: UserWarning:\n",
      "\n",
      "To exit: use 'exit', 'quit', or Ctrl-D.\n",
      "\n"
     ]
    }
   ],
   "source": [
    "# Run this app with `python app.py` and\n",
    "# visit http://127.0.0.1:8050/ in your web browser.\n",
    "\n",
    "import dash\n",
    "import dash_core_components as dcc\n",
    "import dash_html_components as html\n",
    "import plotly.express as px\n",
    "import pandas as pd\n",
    "\n",
    "external_stylesheets = ['https://codepen.io/chriddyp/pen/bWLwgP.css']\n",
    "\n",
    "app = dash.Dash(__name__, external_stylesheets=external_stylesheets)\n",
    "\n",
    "# assume you have a \"long-form\" data frame\n",
    "# see https://plotly.com/python/px-arguments/ for more options\n",
    "df = pd.DataFrame({\n",
    "    \"Fruit\": [\"Apples\", \"Oranges\", \"Bananas\", \"Apples\", \"Oranges\", \"Bananas\"],\n",
    "    \"Amount\": [4, 1, 2, 2, 4, 5],\n",
    "    \"City\": [\"SF\", \"SF\", \"SF\", \"Montreal\", \"Montreal\", \"Montreal\"]\n",
    "})\n",
    "\n",
    "fig = px.bar(df, x=\"Fruit\", y=\"Amount\", color=\"City\", barmode=\"group\")\n",
    "\n",
    "app.layout = html.Div(children=[\n",
    "    html.H1(children='Hello Dash'),\n",
    "\n",
    "    html.Div(children='''\n",
    "        Dash: A web application framework for Python.\n",
    "    '''),\n",
    "\n",
    "    dcc.Graph(\n",
    "        id='example-graph',\n",
    "        figure=fig\n",
    "    )\n",
    "])\n",
    "\n",
    "if __name__ == '__main__':\n",
    "    app.run_server(debug=True)"
   ]
  },
  {
   "cell_type": "code",
   "execution_count": null,
   "metadata": {},
   "outputs": [],
   "source": []
  }
 ],
 "metadata": {
  "kernelspec": {
   "display_name": "Python 3",
   "language": "python",
   "name": "python3"
  },
  "language_info": {
   "codemirror_mode": {
    "name": "ipython",
    "version": 3
   },
   "file_extension": ".py",
   "mimetype": "text/x-python",
   "name": "python",
   "nbconvert_exporter": "python",
   "pygments_lexer": "ipython3",
   "version": "3.7.6"
  }
 },
 "nbformat": 4,
 "nbformat_minor": 4
}
