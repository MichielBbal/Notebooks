{
 "cells": [
  {
   "cell_type": "markdown",
   "id": "6b2dac3f",
   "metadata": {},
   "source": [
    "## My Snoring \n",
    "\n",
    "Use the data of the sound snoring sensor and visualise it here. \n",
    "\n",
    "- Use snoring sensor on RPi and store it on the InfluxDB\n",
    "- Use Grafana (hass.io) to get the data from the device.\n",
    "- Download CSV from Grafana and import it here.\n",
    "\n",
    "## Contents\n",
    "0. Get the data and load into Pandas df\n",
    "1. Data inspection, cleaning and visualisation\n",
    "2. Statistical analysis\n",
    "3. Store the results as json"
   ]
  },
  {
   "cell_type": "markdown",
   "id": "a8a18cb5",
   "metadata": {},
   "source": [
    "## 0. Get the data and load into Pandas df"
   ]
  },
  {
   "cell_type": "code",
   "execution_count": 25,
   "id": "c14f2693",
   "metadata": {},
   "outputs": [
    {
     "data": {
      "text/plain": [
       "<influxdb._dataframe_client.DataFrameClient at 0x23cd4a6d850>"
      ]
     },
     "execution_count": 25,
     "metadata": {},
     "output_type": "execute_result"
    }
   ],
   "source": [
    "# instantiate a client and assign the RPI and database to it and test the connection\n",
    "import pandas as pd\n",
    "from influxdb import DataFrameClient\n",
    "import notebooks_config\n",
    "def influxclient():\n",
    "    host = notebooks_config.red_rpi_ip\n",
    "    mydf_client = DataFrameClient(host=host, port=8086, database='SNORING')# this is my raspberry ip on a local network\n",
    "    pang = mydf_client.ping()\n",
    "    return mydf_client\n",
    "    # elseexcept:\n",
    "    #    return print('RPI not available')\n",
    "influxclient()"
   ]
  },
  {
   "cell_type": "code",
   "execution_count": 27,
   "id": "57dc0332",
   "metadata": {},
   "outputs": [
    {
     "data": {
      "text/plain": [
       "<influxdb._dataframe_client.DataFrameClient at 0x23cd4ce27c0>"
      ]
     },
     "execution_count": 27,
     "metadata": {},
     "output_type": "execute_result"
    }
   ],
   "source": [
    "host = notebooks_config.red_rpi_ip\n",
    "mydf_client = DataFrameClient(host=host, port=8086, database='SNORING')# this is my raspberry ip on a local network\n",
    "pang = mydf_client.ping()\n",
    "mydf_client"
   ]
  },
  {
   "cell_type": "code",
   "execution_count": 14,
   "id": "9c0a0a61",
   "metadata": {},
   "outputs": [
    {
     "name": "stdout",
     "output_type": "stream",
     "text": [
      "Wat is je startdatum? (YYYY-MM-DD) 2022-01-13\n"
     ]
    }
   ],
   "source": [
    "#TO DO Input start and enddate\n",
    "my_startdate = input('Wat is je startdatum? (YYYY-MM-DD) ' )"
   ]
  },
  {
   "cell_type": "code",
   "execution_count": 15,
   "id": "fa0426a6",
   "metadata": {},
   "outputs": [
    {
     "name": "stdout",
     "output_type": "stream",
     "text": [
      "Wat is je einddatum? (YYYY-MM-DD)2022-01-14\n"
     ]
    }
   ],
   "source": [
    "my_enddate = input('Wat is je einddatum? (YYYY-MM-DD)')\n"
   ]
  },
  {
   "cell_type": "code",
   "execution_count": 16,
   "id": "bd2f30dc",
   "metadata": {},
   "outputs": [
    {
     "name": "stdout",
     "output_type": "stream",
     "text": [
      "start time is 2022-01-14 00:24:12 and end time is 2022-01-14 05:54:12\n"
     ]
    }
   ],
   "source": [
    "#getting start and end time based on oura ring\n",
    "from oura import OuraClient\n",
    "# get your credentials from oura, see: https://cloud.ouraring.com/docs/.\n",
    "# You will need a client_id, client_secret and a personal access token (PAT). \n",
    "\n",
    "import notebooks_config\n",
    "#I store all my credentials in a notebooks_config.py file. \n",
    "#This file is then included in the .gitignore list so I can share the notebooks on GitHub.  \n",
    "\n",
    "oura_pat = notebooks_config.oura_pat #\n",
    "oura_client_id = notebooks_config.oura_client_id\n",
    "oura_client_secret = notebooks_config.oura_client_secret\n",
    "client = OuraClient(personal_access_token=oura_pat)\n",
    "oura = OuraClient(oura_client_id, oura_client_secret, oura_pat)\n",
    "result = oura.sleep_summary(start=my_startdate, end=my_enddate)\n",
    "data = result['sleep'][0] #select the first item from the list\n",
    "start_time = data['bedtime_start']\n",
    "end_time = data['bedtime_end']\n",
    "# convert strings to datetime\n",
    "from dateutil import parser\n",
    "start_time_dt = parser.parse(start_time)\n",
    "end_time_dt = parser.parse(end_time)\n",
    "from datetime import datetime\n",
    "start_time_dt_ntz = start_time_dt.replace(tzinfo=None)\n",
    "end_time_dt_ntz = end_time_dt.replace(tzinfo=None)\n",
    "print(f'start time is {start_time_dt_ntz} and end time is {end_time_dt_ntz}')"
   ]
  },
  {
   "cell_type": "code",
   "execution_count": 17,
   "id": "05f08ac6",
   "metadata": {},
   "outputs": [
    {
     "data": {
      "text/plain": [
       "\"SELECT * FROM my_snoring WHERE time >= '2022-01-14 00:24:12' AND time <='2022-01-14 05:54:12'\""
      ]
     },
     "execution_count": 17,
     "metadata": {},
     "output_type": "execute_result"
    }
   ],
   "source": [
    "#create query string for InfluxDB\n",
    "def query_string(start_time_dt_ntz,end_time_dt_ntz):\n",
    "    base_string = \"SELECT * FROM my_snoring WHERE time >= '\"\n",
    "    middle_string = \"' AND time <='\"\n",
    "    end_string = \"'\"\n",
    "    query_string = base_string + str(start_time_dt_ntz) + middle_string + str(end_time_dt_ntz)+end_string\n",
    "    return query_string\n",
    "query_string(str(start_time_dt_ntz),str(end_time_dt_ntz))"
   ]
  },
  {
   "cell_type": "code",
   "execution_count": 28,
   "id": "16244dc9",
   "metadata": {},
   "outputs": [
    {
     "name": "stdout",
     "output_type": "stream",
     "text": [
      "[{'name': 'my_snoring'}]\n"
     ]
    }
   ],
   "source": [
    "mydf_client.switch_database('SNORING')\n",
    "msmts = mydf_client.get_list_measurements()\n",
    "print(msmts)"
   ]
  },
  {
   "cell_type": "code",
   "execution_count": 29,
   "id": "713d44db",
   "metadata": {},
   "outputs": [
    {
     "data": {
      "text/html": [
       "<div>\n",
       "<style scoped>\n",
       "    .dataframe tbody tr th:only-of-type {\n",
       "        vertical-align: middle;\n",
       "    }\n",
       "\n",
       "    .dataframe tbody tr th {\n",
       "        vertical-align: top;\n",
       "    }\n",
       "\n",
       "    .dataframe thead th {\n",
       "        text-align: right;\n",
       "    }\n",
       "</style>\n",
       "<table border=\"1\" class=\"dataframe\">\n",
       "  <thead>\n",
       "    <tr style=\"text-align: right;\">\n",
       "      <th></th>\n",
       "    </tr>\n",
       "  </thead>\n",
       "  <tbody>\n",
       "  </tbody>\n",
       "</table>\n",
       "</div>"
      ],
      "text/plain": [
       "Empty DataFrame\n",
       "Columns: []\n",
       "Index: []"
      ]
     },
     "execution_count": 29,
     "metadata": {},
     "output_type": "execute_result"
    }
   ],
   "source": [
    "helper_df=pd.DataFrame()\n",
    "helper_df"
   ]
  },
  {
   "cell_type": "code",
   "execution_count": 30,
   "id": "614c7f24",
   "metadata": {},
   "outputs": [
    {
     "data": {
      "text/plain": [
       "defaultdict(list,\n",
       "            {'my_snoring':                                     sheets   silence   snoring  softtalking\n",
       "             2022-01-14 00:24:12.399891+00:00  0.001916  0.931909  0.066163     0.000013\n",
       "             2022-01-14 00:24:12.943749+00:00  0.001958  0.932787  0.065243     0.000013\n",
       "             2022-01-14 00:24:13.485614+00:00  0.001989  0.931946  0.066051     0.000013\n",
       "             2022-01-14 00:24:14.027569+00:00  0.001967  0.932665  0.065355     0.000013\n",
       "             2022-01-14 00:24:14.569094+00:00  0.001757  0.934882  0.063351     0.000011\n",
       "             ...                                    ...       ...       ...          ...\n",
       "             2022-01-14 05:54:09.362071+00:00  0.001760  0.933902  0.064326     0.000012\n",
       "             2022-01-14 05:54:09.902165+00:00  0.001843  0.934302  0.063843     0.000011\n",
       "             2022-01-14 05:54:10.426935+00:00  0.001832  0.931958  0.066198     0.000012\n",
       "             2022-01-14 05:54:10.961725+00:00  0.001952  0.932079  0.065957     0.000013\n",
       "             2022-01-14 05:54:11.499687+00:00  0.001925  0.933007  0.065057     0.000012\n",
       "             \n",
       "             [36733 rows x 4 columns]})"
      ]
     },
     "execution_count": 30,
     "metadata": {},
     "output_type": "execute_result"
    }
   ],
   "source": [
    "#create a df and get the data from InfluxDB based on query above.\n",
    "helper_df = mydf_client.query(query_string(str(start_time_dt_ntz),str(end_time_dt_ntz)))\n",
    "helper_df"
   ]
  },
  {
   "cell_type": "code",
   "execution_count": 31,
   "id": "05b7cda9",
   "metadata": {},
   "outputs": [
    {
     "data": {
      "text/html": [
       "<div>\n",
       "<style scoped>\n",
       "    .dataframe tbody tr th:only-of-type {\n",
       "        vertical-align: middle;\n",
       "    }\n",
       "\n",
       "    .dataframe tbody tr th {\n",
       "        vertical-align: top;\n",
       "    }\n",
       "\n",
       "    .dataframe thead th {\n",
       "        text-align: right;\n",
       "    }\n",
       "</style>\n",
       "<table border=\"1\" class=\"dataframe\">\n",
       "  <thead>\n",
       "    <tr style=\"text-align: right;\">\n",
       "      <th></th>\n",
       "      <th>sheets</th>\n",
       "      <th>silence</th>\n",
       "      <th>snoring</th>\n",
       "      <th>softtalking</th>\n",
       "    </tr>\n",
       "  </thead>\n",
       "  <tbody>\n",
       "    <tr>\n",
       "      <th>2022-01-14 00:24:12.399891+00:00</th>\n",
       "      <td>0.001916</td>\n",
       "      <td>0.931909</td>\n",
       "      <td>0.066163</td>\n",
       "      <td>0.000013</td>\n",
       "    </tr>\n",
       "    <tr>\n",
       "      <th>2022-01-14 00:24:12.943749+00:00</th>\n",
       "      <td>0.001958</td>\n",
       "      <td>0.932787</td>\n",
       "      <td>0.065243</td>\n",
       "      <td>0.000013</td>\n",
       "    </tr>\n",
       "    <tr>\n",
       "      <th>2022-01-14 00:24:13.485614+00:00</th>\n",
       "      <td>0.001989</td>\n",
       "      <td>0.931946</td>\n",
       "      <td>0.066051</td>\n",
       "      <td>0.000013</td>\n",
       "    </tr>\n",
       "    <tr>\n",
       "      <th>2022-01-14 00:24:14.027569+00:00</th>\n",
       "      <td>0.001967</td>\n",
       "      <td>0.932665</td>\n",
       "      <td>0.065355</td>\n",
       "      <td>0.000013</td>\n",
       "    </tr>\n",
       "    <tr>\n",
       "      <th>2022-01-14 00:24:14.569094+00:00</th>\n",
       "      <td>0.001757</td>\n",
       "      <td>0.934882</td>\n",
       "      <td>0.063351</td>\n",
       "      <td>0.000011</td>\n",
       "    </tr>\n",
       "    <tr>\n",
       "      <th>...</th>\n",
       "      <td>...</td>\n",
       "      <td>...</td>\n",
       "      <td>...</td>\n",
       "      <td>...</td>\n",
       "    </tr>\n",
       "    <tr>\n",
       "      <th>2022-01-14 05:54:09.362071+00:00</th>\n",
       "      <td>0.001760</td>\n",
       "      <td>0.933902</td>\n",
       "      <td>0.064326</td>\n",
       "      <td>0.000012</td>\n",
       "    </tr>\n",
       "    <tr>\n",
       "      <th>2022-01-14 05:54:09.902165+00:00</th>\n",
       "      <td>0.001843</td>\n",
       "      <td>0.934302</td>\n",
       "      <td>0.063843</td>\n",
       "      <td>0.000011</td>\n",
       "    </tr>\n",
       "    <tr>\n",
       "      <th>2022-01-14 05:54:10.426935+00:00</th>\n",
       "      <td>0.001832</td>\n",
       "      <td>0.931958</td>\n",
       "      <td>0.066198</td>\n",
       "      <td>0.000012</td>\n",
       "    </tr>\n",
       "    <tr>\n",
       "      <th>2022-01-14 05:54:10.961725+00:00</th>\n",
       "      <td>0.001952</td>\n",
       "      <td>0.932079</td>\n",
       "      <td>0.065957</td>\n",
       "      <td>0.000013</td>\n",
       "    </tr>\n",
       "    <tr>\n",
       "      <th>2022-01-14 05:54:11.499687+00:00</th>\n",
       "      <td>0.001925</td>\n",
       "      <td>0.933007</td>\n",
       "      <td>0.065057</td>\n",
       "      <td>0.000012</td>\n",
       "    </tr>\n",
       "  </tbody>\n",
       "</table>\n",
       "<p>36733 rows × 4 columns</p>\n",
       "</div>"
      ],
      "text/plain": [
       "                                    sheets   silence   snoring  softtalking\n",
       "2022-01-14 00:24:12.399891+00:00  0.001916  0.931909  0.066163     0.000013\n",
       "2022-01-14 00:24:12.943749+00:00  0.001958  0.932787  0.065243     0.000013\n",
       "2022-01-14 00:24:13.485614+00:00  0.001989  0.931946  0.066051     0.000013\n",
       "2022-01-14 00:24:14.027569+00:00  0.001967  0.932665  0.065355     0.000013\n",
       "2022-01-14 00:24:14.569094+00:00  0.001757  0.934882  0.063351     0.000011\n",
       "...                                    ...       ...       ...          ...\n",
       "2022-01-14 05:54:09.362071+00:00  0.001760  0.933902  0.064326     0.000012\n",
       "2022-01-14 05:54:09.902165+00:00  0.001843  0.934302  0.063843     0.000011\n",
       "2022-01-14 05:54:10.426935+00:00  0.001832  0.931958  0.066198     0.000012\n",
       "2022-01-14 05:54:10.961725+00:00  0.001952  0.932079  0.065957     0.000013\n",
       "2022-01-14 05:54:11.499687+00:00  0.001925  0.933007  0.065057     0.000012\n",
       "\n",
       "[36733 rows x 4 columns]"
      ]
     },
     "execution_count": 31,
     "metadata": {},
     "output_type": "execute_result"
    }
   ],
   "source": [
    "snoring_df =helper_df['my_snoring']\n",
    "snoring_df"
   ]
  },
  {
   "cell_type": "code",
   "execution_count": 32,
   "id": "e1bcc0be",
   "metadata": {},
   "outputs": [
    {
     "data": {
      "text/html": [
       "<div>\n",
       "<style scoped>\n",
       "    .dataframe tbody tr th:only-of-type {\n",
       "        vertical-align: middle;\n",
       "    }\n",
       "\n",
       "    .dataframe tbody tr th {\n",
       "        vertical-align: top;\n",
       "    }\n",
       "\n",
       "    .dataframe thead th {\n",
       "        text-align: right;\n",
       "    }\n",
       "</style>\n",
       "<table border=\"1\" class=\"dataframe\">\n",
       "  <thead>\n",
       "    <tr style=\"text-align: right;\">\n",
       "      <th></th>\n",
       "      <th>sheets</th>\n",
       "      <th>silence</th>\n",
       "      <th>snoring</th>\n",
       "      <th>softtalking</th>\n",
       "    </tr>\n",
       "  </thead>\n",
       "  <tbody>\n",
       "    <tr>\n",
       "      <th>2022-01-14 00:24:12.399891+00:00</th>\n",
       "      <td>0.001916</td>\n",
       "      <td>0.931909</td>\n",
       "      <td>0.066163</td>\n",
       "      <td>0.000013</td>\n",
       "    </tr>\n",
       "    <tr>\n",
       "      <th>2022-01-14 00:24:12.943749+00:00</th>\n",
       "      <td>0.001958</td>\n",
       "      <td>0.932787</td>\n",
       "      <td>0.065243</td>\n",
       "      <td>0.000013</td>\n",
       "    </tr>\n",
       "    <tr>\n",
       "      <th>2022-01-14 00:24:13.485614+00:00</th>\n",
       "      <td>0.001989</td>\n",
       "      <td>0.931946</td>\n",
       "      <td>0.066051</td>\n",
       "      <td>0.000013</td>\n",
       "    </tr>\n",
       "    <tr>\n",
       "      <th>2022-01-14 00:24:14.027569+00:00</th>\n",
       "      <td>0.001967</td>\n",
       "      <td>0.932665</td>\n",
       "      <td>0.065355</td>\n",
       "      <td>0.000013</td>\n",
       "    </tr>\n",
       "    <tr>\n",
       "      <th>2022-01-14 00:24:14.569094+00:00</th>\n",
       "      <td>0.001757</td>\n",
       "      <td>0.934882</td>\n",
       "      <td>0.063351</td>\n",
       "      <td>0.000011</td>\n",
       "    </tr>\n",
       "    <tr>\n",
       "      <th>...</th>\n",
       "      <td>...</td>\n",
       "      <td>...</td>\n",
       "      <td>...</td>\n",
       "      <td>...</td>\n",
       "    </tr>\n",
       "    <tr>\n",
       "      <th>2022-01-14 05:54:09.362071+00:00</th>\n",
       "      <td>0.001760</td>\n",
       "      <td>0.933902</td>\n",
       "      <td>0.064326</td>\n",
       "      <td>0.000012</td>\n",
       "    </tr>\n",
       "    <tr>\n",
       "      <th>2022-01-14 05:54:09.902165+00:00</th>\n",
       "      <td>0.001843</td>\n",
       "      <td>0.934302</td>\n",
       "      <td>0.063843</td>\n",
       "      <td>0.000011</td>\n",
       "    </tr>\n",
       "    <tr>\n",
       "      <th>2022-01-14 05:54:10.426935+00:00</th>\n",
       "      <td>0.001832</td>\n",
       "      <td>0.931958</td>\n",
       "      <td>0.066198</td>\n",
       "      <td>0.000012</td>\n",
       "    </tr>\n",
       "    <tr>\n",
       "      <th>2022-01-14 05:54:10.961725+00:00</th>\n",
       "      <td>0.001952</td>\n",
       "      <td>0.932079</td>\n",
       "      <td>0.065957</td>\n",
       "      <td>0.000013</td>\n",
       "    </tr>\n",
       "    <tr>\n",
       "      <th>2022-01-14 05:54:11.499687+00:00</th>\n",
       "      <td>0.001925</td>\n",
       "      <td>0.933007</td>\n",
       "      <td>0.065057</td>\n",
       "      <td>0.000012</td>\n",
       "    </tr>\n",
       "  </tbody>\n",
       "</table>\n",
       "<p>36733 rows × 4 columns</p>\n",
       "</div>"
      ],
      "text/plain": [
       "                                    sheets   silence   snoring  softtalking\n",
       "2022-01-14 00:24:12.399891+00:00  0.001916  0.931909  0.066163     0.000013\n",
       "2022-01-14 00:24:12.943749+00:00  0.001958  0.932787  0.065243     0.000013\n",
       "2022-01-14 00:24:13.485614+00:00  0.001989  0.931946  0.066051     0.000013\n",
       "2022-01-14 00:24:14.027569+00:00  0.001967  0.932665  0.065355     0.000013\n",
       "2022-01-14 00:24:14.569094+00:00  0.001757  0.934882  0.063351     0.000011\n",
       "...                                    ...       ...       ...          ...\n",
       "2022-01-14 05:54:09.362071+00:00  0.001760  0.933902  0.064326     0.000012\n",
       "2022-01-14 05:54:09.902165+00:00  0.001843  0.934302  0.063843     0.000011\n",
       "2022-01-14 05:54:10.426935+00:00  0.001832  0.931958  0.066198     0.000012\n",
       "2022-01-14 05:54:10.961725+00:00  0.001952  0.932079  0.065957     0.000013\n",
       "2022-01-14 05:54:11.499687+00:00  0.001925  0.933007  0.065057     0.000012\n",
       "\n",
       "[36733 rows x 4 columns]"
      ]
     },
     "execution_count": 32,
     "metadata": {},
     "output_type": "execute_result"
    }
   ],
   "source": [
    "def create_snoring_df(start_date, end_date):\n",
    "    mydf_client.switch_database('SNORING')   \n",
    "    helper_df=pd.DataFrame()\n",
    "    helper_df = mydf_client.query(query_string(str(start_time_dt_ntz),str(end_time_dt_ntz)))\n",
    "    snoring_df =helper_df['my_snoring']\n",
    "    return snoring_df\n",
    "create_snoring_df(str(my_startdate), str(my_enddate))    "
   ]
  },
  {
   "cell_type": "markdown",
   "id": "2f1497aa",
   "metadata": {},
   "source": [
    "## 1. Data inspection, cleaning and visualisation\n"
   ]
  },
  {
   "cell_type": "code",
   "execution_count": 33,
   "id": "6e5d203c",
   "metadata": {},
   "outputs": [
    {
     "data": {
      "text/plain": [
       "Index(['sheets', 'silence', 'snoring', 'softtalking'], dtype='object')"
      ]
     },
     "execution_count": 33,
     "metadata": {},
     "output_type": "execute_result"
    }
   ],
   "source": [
    "#show colums\n",
    "snoring_df.columns"
   ]
  },
  {
   "cell_type": "code",
   "execution_count": null,
   "id": "a02aae05",
   "metadata": {
    "scrolled": true
   },
   "outputs": [],
   "source": [
    "#describe data\n",
    "snoring_df.describe()"
   ]
  },
  {
   "cell_type": "markdown",
   "id": "aecd4c27",
   "metadata": {},
   "source": [
    "## 2. Statistical analysis"
   ]
  },
  {
   "cell_type": "code",
   "execution_count": 34,
   "id": "595c618a",
   "metadata": {},
   "outputs": [
    {
     "data": {
      "text/html": [
       "<div>\n",
       "<style scoped>\n",
       "    .dataframe tbody tr th:only-of-type {\n",
       "        vertical-align: middle;\n",
       "    }\n",
       "\n",
       "    .dataframe tbody tr th {\n",
       "        vertical-align: top;\n",
       "    }\n",
       "\n",
       "    .dataframe thead th {\n",
       "        text-align: right;\n",
       "    }\n",
       "</style>\n",
       "<table border=\"1\" class=\"dataframe\">\n",
       "  <thead>\n",
       "    <tr style=\"text-align: right;\">\n",
       "      <th></th>\n",
       "      <th>sheets</th>\n",
       "      <th>silence</th>\n",
       "      <th>snoring</th>\n",
       "      <th>softtalking</th>\n",
       "      <th>bins</th>\n",
       "    </tr>\n",
       "  </thead>\n",
       "  <tbody>\n",
       "    <tr>\n",
       "      <th>2022-01-14 05:54:09.362071+00:00</th>\n",
       "      <td>0.001760</td>\n",
       "      <td>0.933902</td>\n",
       "      <td>0.064326</td>\n",
       "      <td>0.000012</td>\n",
       "      <td>no snoring</td>\n",
       "    </tr>\n",
       "    <tr>\n",
       "      <th>2022-01-14 05:54:09.902165+00:00</th>\n",
       "      <td>0.001843</td>\n",
       "      <td>0.934302</td>\n",
       "      <td>0.063843</td>\n",
       "      <td>0.000011</td>\n",
       "      <td>no snoring</td>\n",
       "    </tr>\n",
       "    <tr>\n",
       "      <th>2022-01-14 05:54:10.426935+00:00</th>\n",
       "      <td>0.001832</td>\n",
       "      <td>0.931958</td>\n",
       "      <td>0.066198</td>\n",
       "      <td>0.000012</td>\n",
       "      <td>no snoring</td>\n",
       "    </tr>\n",
       "    <tr>\n",
       "      <th>2022-01-14 05:54:10.961725+00:00</th>\n",
       "      <td>0.001952</td>\n",
       "      <td>0.932079</td>\n",
       "      <td>0.065957</td>\n",
       "      <td>0.000013</td>\n",
       "      <td>no snoring</td>\n",
       "    </tr>\n",
       "    <tr>\n",
       "      <th>2022-01-14 05:54:11.499687+00:00</th>\n",
       "      <td>0.001925</td>\n",
       "      <td>0.933007</td>\n",
       "      <td>0.065057</td>\n",
       "      <td>0.000012</td>\n",
       "      <td>no snoring</td>\n",
       "    </tr>\n",
       "  </tbody>\n",
       "</table>\n",
       "</div>"
      ],
      "text/plain": [
       "                                    sheets   silence   snoring  softtalking  \\\n",
       "2022-01-14 05:54:09.362071+00:00  0.001760  0.933902  0.064326     0.000012   \n",
       "2022-01-14 05:54:09.902165+00:00  0.001843  0.934302  0.063843     0.000011   \n",
       "2022-01-14 05:54:10.426935+00:00  0.001832  0.931958  0.066198     0.000012   \n",
       "2022-01-14 05:54:10.961725+00:00  0.001952  0.932079  0.065957     0.000013   \n",
       "2022-01-14 05:54:11.499687+00:00  0.001925  0.933007  0.065057     0.000012   \n",
       "\n",
       "                                        bins  \n",
       "2022-01-14 05:54:09.362071+00:00  no snoring  \n",
       "2022-01-14 05:54:09.902165+00:00  no snoring  \n",
       "2022-01-14 05:54:10.426935+00:00  no snoring  \n",
       "2022-01-14 05:54:10.961725+00:00  no snoring  \n",
       "2022-01-14 05:54:11.499687+00:00  no snoring  "
      ]
     },
     "execution_count": 34,
     "metadata": {},
     "output_type": "execute_result"
    }
   ],
   "source": [
    "# add a column 'bins' to the df and create bins with labels\n",
    "snoring_df['bins'] = pd.cut(snoring_df['snoring'], bins=[0.0, 0.10, 0.50, 1.00],\n",
    "                    labels=['no snoring', 'light snoring', 'loud snoring']) \n",
    "snoring_df.tail() #show the df"
   ]
  },
  {
   "cell_type": "code",
   "execution_count": 35,
   "id": "0e8491c8",
   "metadata": {},
   "outputs": [
    {
     "data": {
      "text/plain": [
       "36733"
      ]
     },
     "execution_count": 35,
     "metadata": {},
     "output_type": "execute_result"
    }
   ],
   "source": [
    "total_length = snoring_df['bins'].count()\n",
    "total_length"
   ]
  },
  {
   "cell_type": "code",
   "execution_count": 42,
   "id": "150e7601",
   "metadata": {},
   "outputs": [
    {
     "data": {
      "text/html": [
       "<div>\n",
       "<style scoped>\n",
       "    .dataframe tbody tr th:only-of-type {\n",
       "        vertical-align: middle;\n",
       "    }\n",
       "\n",
       "    .dataframe tbody tr th {\n",
       "        vertical-align: top;\n",
       "    }\n",
       "\n",
       "    .dataframe thead th {\n",
       "        text-align: right;\n",
       "    }\n",
       "</style>\n",
       "<table border=\"1\" class=\"dataframe\">\n",
       "  <thead>\n",
       "    <tr style=\"text-align: right;\">\n",
       "      <th></th>\n",
       "      <th>count</th>\n",
       "      <th>minutes</th>\n",
       "      <th>percentage</th>\n",
       "    </tr>\n",
       "  </thead>\n",
       "  <tbody>\n",
       "    <tr>\n",
       "      <th>no snoring</th>\n",
       "      <td>32448</td>\n",
       "      <td>270.4</td>\n",
       "      <td>88.3</td>\n",
       "    </tr>\n",
       "    <tr>\n",
       "      <th>light snoring</th>\n",
       "      <td>3454</td>\n",
       "      <td>28.8</td>\n",
       "      <td>9.4</td>\n",
       "    </tr>\n",
       "    <tr>\n",
       "      <th>loud snoring</th>\n",
       "      <td>831</td>\n",
       "      <td>6.9</td>\n",
       "      <td>2.3</td>\n",
       "    </tr>\n",
       "  </tbody>\n",
       "</table>\n",
       "</div>"
      ],
      "text/plain": [
       "               count  minutes  percentage\n",
       "no snoring     32448    270.4        88.3\n",
       "light snoring   3454     28.8         9.4\n",
       "loud snoring     831      6.9         2.3"
      ]
     },
     "execution_count": 42,
     "metadata": {},
     "output_type": "execute_result"
    }
   ],
   "source": [
    "stats_df = pd.DataFrame()\n",
    "stats_df['count'] =snoring_df['bins'].value_counts()\n",
    "stats_df['minutes']= round(snoring_df['bins'].value_counts()/120,1)\n",
    "total_length = snoring_df['bins'].count()\n",
    "stats_df['percentage']=round(stats_df['count']/total_length *100,1)\n",
    "stats_df"
   ]
  },
  {
   "cell_type": "code",
   "execution_count": 38,
   "id": "a0470ded",
   "metadata": {},
   "outputs": [
    {
     "name": "stdout",
     "output_type": "stream",
     "text": [
      "You've snored 71.4 minutes\n",
      "Total snoring was 11.67% the measured time\n",
      "Loud snoring was 2.3% of the measured time\n"
     ]
    },
    {
     "data": {
      "text/html": [
       "<div>\n",
       "<style scoped>\n",
       "    .dataframe tbody tr th:only-of-type {\n",
       "        vertical-align: middle;\n",
       "    }\n",
       "\n",
       "    .dataframe tbody tr th {\n",
       "        vertical-align: top;\n",
       "    }\n",
       "\n",
       "    .dataframe thead th {\n",
       "        text-align: right;\n",
       "    }\n",
       "</style>\n",
       "<table border=\"1\" class=\"dataframe\">\n",
       "  <thead>\n",
       "    <tr style=\"text-align: right;\">\n",
       "      <th></th>\n",
       "      <th>count</th>\n",
       "      <th>minutes</th>\n",
       "    </tr>\n",
       "  </thead>\n",
       "  <tbody>\n",
       "    <tr>\n",
       "      <th>no snoring</th>\n",
       "      <td>32448</td>\n",
       "      <td>270.4</td>\n",
       "    </tr>\n",
       "    <tr>\n",
       "      <th>light snoring</th>\n",
       "      <td>3454</td>\n",
       "      <td>28.8</td>\n",
       "    </tr>\n",
       "    <tr>\n",
       "      <th>loud snoring</th>\n",
       "      <td>831</td>\n",
       "      <td>6.9</td>\n",
       "    </tr>\n",
       "  </tbody>\n",
       "</table>\n",
       "</div>"
      ],
      "text/plain": [
       "               count  minutes\n",
       "no snoring     32448    270.4\n",
       "light snoring   3454     28.8\n",
       "loud snoring     831      6.9"
      ]
     },
     "execution_count": 38,
     "metadata": {},
     "output_type": "execute_result"
    }
   ],
   "source": [
    "#define parameters\n",
    "no_snoring =stats_df['count'][0]\n",
    "light_snoring=stats_df['count'][1]\n",
    "loud_snoring=stats_df['count'][2]\n",
    "#print results\n",
    "time_snoring = round(((light_snoring+loud_snoring)/60),1)\n",
    "print(\"You've snored \" +str(time_snoring) + \" minutes\")\n",
    "percentage = ((loud_snoring+light_snoring) / total_length)*100\n",
    "print (\"Total snoring was \" + str(round(percentage,2)) + \"% the measured time\")\n",
    "loud_perc = round(loud_snoring/total_length*100,1)\n",
    "print (\"Loud snoring was \" + str(loud_perc) + \"% of the measured time\")\n",
    "stats_df"
   ]
  },
  {
   "cell_type": "markdown",
   "id": "538093ab",
   "metadata": {},
   "source": [
    "### 2b. Make a graph"
   ]
  },
  {
   "cell_type": "code",
   "execution_count": null,
   "id": "0c2cda70",
   "metadata": {},
   "outputs": [],
   "source": [
    "#visualise the data. To do: larger plot and mean.values\n",
    "#snoring_df.plot.scatter(x=\"Time\", y=\"my_snoring.mean\")\n"
   ]
  },
  {
   "cell_type": "markdown",
   "id": "cb7db5f2",
   "metadata": {},
   "source": [
    "## 3. Store the results"
   ]
  },
  {
   "cell_type": "code",
   "execution_count": null,
   "id": "4df57124",
   "metadata": {},
   "outputs": [],
   "source": []
  },
  {
   "cell_type": "code",
   "execution_count": null,
   "id": "ef6d8079",
   "metadata": {},
   "outputs": [],
   "source": []
  },
  {
   "cell_type": "markdown",
   "id": "73761015",
   "metadata": {},
   "source": [
    "## 4. Scripts as a function"
   ]
  },
  {
   "cell_type": "code",
   "execution_count": null,
   "id": "583c2b6c",
   "metadata": {},
   "outputs": [],
   "source": [
    "start_date = '2022-01-12'\n",
    "end_date = '2022-01-13'"
   ]
  },
  {
   "cell_type": "code",
   "execution_count": null,
   "id": "b362b3a1",
   "metadata": {},
   "outputs": [],
   "source": [
    "import notebooks_config\n",
    "from oura import OuraClient\n",
    "#I store all my credentials in a notebooks_config.py file. \n",
    "#This file is then included in the .gitignore list so I can share the notebooks on GitHub.  \n",
    "\n",
    "def oura_load(start_date, end_date):\n",
    "    oura_pat = notebooks_config.oura_pat #\n",
    "    oura_client_id = notebooks_config.oura_client_id\n",
    "    oura_client_secret = notebooks_config.oura_client_secret\n",
    "\n",
    "    client = OuraClient(personal_access_token=oura_pat)\n",
    "    oura = OuraClient(oura_client_id, oura_client_secret, oura_pat)\n",
    "    result = oura.sleep_summary(start= start_date, end= end_date)\n",
    "    data = result['sleep'][0] #select the first item from the list\n",
    "    return data\n",
    "print(oura_load(start_date,end_date))"
   ]
  },
  {
   "cell_type": "code",
   "execution_count": null,
   "id": "7412a4f5",
   "metadata": {},
   "outputs": [],
   "source": [
    "from dateutil import parser\n",
    "def startend_time(start_date, end_date):\n",
    "    #get the start and endtime as strings\n",
    "    data = oura_load(start_date, end_date)\n",
    "    start_time = data['bedtime_start']\n",
    "    end_time = data['bedtime_end']\n",
    "    # convert strings to datetime using dateutil\n",
    "    start_time_dt = parser.parse(start_time)\n",
    "    end_time_dt = parser.parse(end_time)\n",
    "    #remove timezones\n",
    "    start_time_dt = start_time_dt.replace(tzinfo=None)\n",
    "    end_time_dt = end_time_dt.replace(tzinfo=None)\n",
    "    return start_time_dt, end_time_dt\n",
    "startend_time(start_date, end_date)"
   ]
  },
  {
   "cell_type": "code",
   "execution_count": null,
   "id": "9fa31efe",
   "metadata": {},
   "outputs": [],
   "source": [
    "def query_string(start_date, end_date):\n",
    "    start_time_dt = startend_time(start_date, end_date)[0]\n",
    "    end_time_dt = startend_time(start_date, end_date)[1]\n",
    "    base_string = \"SELECT * FROM my_snoring WHERE time >= '\"\n",
    "    middle_string = \"' AND time <='\"\n",
    "    end_string = \"'\"\n",
    "    query_string = base_string + str(start_time_dt) + middle_string + str(end_time_dt)+end_string\n",
    "    return query_string\n",
    "query_string(start_date, end_date)\n",
    "SELECT * FROM my_snoring WHERE time >= '2022-01-13 07:58:25' AND time <='2022-01-13 00:49:25'"
   ]
  },
  {
   "cell_type": "code",
   "execution_count": null,
   "id": "732f8c74",
   "metadata": {},
   "outputs": [],
   "source": [
    "#double!!!\n",
    "# instantiate a client and assign the RPI and database to it and test the connection\n",
    "import pandas as pd\n",
    "from influxdb import DataFrameClient\n",
    "import notebooks_config\n",
    "def influxclient():\n",
    "    try:\n",
    "        host = notebooks_config.red_rpi_ip\n",
    "        mydf_client = DataFrameClient(host=host, port=8086, database='SNORING')# this is my raspberry ip on a local network\n",
    "        return mydf_client\n",
    "    except:\n",
    "        return print('RPI not available')\n",
    "influxclient()"
   ]
  },
  {
   "cell_type": "code",
   "execution_count": null,
   "id": "86933e4b",
   "metadata": {},
   "outputs": [],
   "source": [
    "import pandas as pd\n",
    "from influxdb import DataFrameClient\n",
    "def create_snoring_df(start_date, end_date):\n",
    "    mydf_client = influxclient()\n",
    "    mydf_client.switch_database('SNORING')   \n",
    "    helper_df=pd.DataFrame()\n",
    "    snoring_df= pd.DataFrame()\n",
    "    my_query_string = query_string(start_date, end_date)\n",
    "    helper_df = mydf_client.query(my_query_string)\n",
    "    #snoring_df =helper_df['my_snoring']\n",
    "    return helper_df['my_snoring']\n",
    "create_snoring_df(start_date, end_date) "
   ]
  },
  {
   "cell_type": "code",
   "execution_count": 43,
   "id": "ce363ba7",
   "metadata": {},
   "outputs": [
    {
     "data": {
      "text/html": [
       "<div>\n",
       "<style scoped>\n",
       "    .dataframe tbody tr th:only-of-type {\n",
       "        vertical-align: middle;\n",
       "    }\n",
       "\n",
       "    .dataframe tbody tr th {\n",
       "        vertical-align: top;\n",
       "    }\n",
       "\n",
       "    .dataframe thead th {\n",
       "        text-align: right;\n",
       "    }\n",
       "</style>\n",
       "<table border=\"1\" class=\"dataframe\">\n",
       "  <thead>\n",
       "    <tr style=\"text-align: right;\">\n",
       "      <th></th>\n",
       "      <th>count</th>\n",
       "      <th>percentage</th>\n",
       "    </tr>\n",
       "  </thead>\n",
       "  <tbody>\n",
       "    <tr>\n",
       "      <th>no snoring</th>\n",
       "      <td>32448</td>\n",
       "      <td>88.3</td>\n",
       "    </tr>\n",
       "    <tr>\n",
       "      <th>light snoring</th>\n",
       "      <td>3454</td>\n",
       "      <td>9.4</td>\n",
       "    </tr>\n",
       "    <tr>\n",
       "      <th>loud snoring</th>\n",
       "      <td>831</td>\n",
       "      <td>2.3</td>\n",
       "    </tr>\n",
       "  </tbody>\n",
       "</table>\n",
       "</div>"
      ],
      "text/plain": [
       "               count  percentage\n",
       "no snoring     32448        88.3\n",
       "light snoring   3454         9.4\n",
       "loud snoring     831         2.3"
      ]
     },
     "execution_count": 43,
     "metadata": {},
     "output_type": "execute_result"
    }
   ],
   "source": [
    "def snoring_stats(start_date, end_date):\n",
    "    stats_df = pd.DataFrame()\n",
    "    snoring_df = create_snoring_df(start_date, end_date)\n",
    "    snoring_df['bins'] = pd.cut(snoring_df['snoring'], bins=[0.0, 0.10, 0.50, 1.00],\n",
    "                    labels=['no snoring', 'light snoring', 'loud snoring']) \n",
    "    stats_df['count'] =snoring_df['bins'].value_counts()\n",
    "    #stats_df['minutes']= round(snoring_df['bins'].value_counts()/60,1)\n",
    "    total_length = snoring_df['bins'].count()\n",
    "    stats_df['percentage']=round(stats_df['count']/total_length *100,1)\n",
    "    return stats_df\n",
    "snoring_stats(start_date, end_date)"
   ]
  },
  {
   "cell_type": "code",
   "execution_count": null,
   "id": "4dce3294",
   "metadata": {},
   "outputs": [],
   "source": []
  }
 ],
 "metadata": {
  "kernelspec": {
   "display_name": "Python 3 (ipykernel)",
   "language": "python",
   "name": "python3"
  },
  "language_info": {
   "codemirror_mode": {
    "name": "ipython",
    "version": 3
   },
   "file_extension": ".py",
   "mimetype": "text/x-python",
   "name": "python",
   "nbconvert_exporter": "python",
   "pygments_lexer": "ipython3",
   "version": "3.9.12"
  }
 },
 "nbformat": 4,
 "nbformat_minor": 5
}
