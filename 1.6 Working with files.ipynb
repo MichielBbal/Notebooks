{
 "cells": [
  {
   "cell_type": "markdown",
   "metadata": {},
   "source": [
    "# Working with files\n",
    "\n",
    "\n",
    "## Contents\n",
    "\n",
    "1. Writing to a text file\n",
    "2. Reading from a text file\n",
    "3. Pathlib\n"
   ]
  },
  {
   "cell_type": "markdown",
   "metadata": {},
   "source": [
    "### 1. Writing to a text file"
   ]
  },
  {
   "cell_type": "code",
   "execution_count": 1,
   "metadata": {},
   "outputs": [],
   "source": [
    "#this scripts creates a .txt file with 3 lines Michiel, Bontenbal and empty line\n",
    "with open ('accounts.txt', mode='w') as accounts:\n",
    "    accounts.write('100 Jones 24.98\\n')\n",
    "    accounts.write('200 Doe 345.67\\n')\n",
    "    accounts.write('300 White 0.00\\n')\n",
    "    print('400 Stone -42.16', file=accounts)#also create a new line in the file\n",
    "    print('500 Rich 224.62', file=accounts)\n",
    "#python closes the file"
   ]
  },
  {
   "cell_type": "code",
   "execution_count": 6,
   "metadata": {},
   "outputs": [
    {
     "name": "stdout",
     "output_type": "stream",
     "text": [
      " Volume in drive C is OS\n",
      " Volume Serial Number is 2818-58FB\n",
      "\n",
      " Directory of C:\\Users\\31653\\Documents\\GitHub\\Notebooks\n",
      "\n",
      "06/02/2021  16:07                84 accounts.txt\n",
      "               1 File(s)             84 bytes\n",
      "               0 Dir(s)  354.861.756.416 bytes free\n"
     ]
    }
   ],
   "source": [
    "ls *.txt "
   ]
  },
  {
   "cell_type": "markdown",
   "metadata": {},
   "source": [
    "### 2. Reading Data from a text file"
   ]
  },
  {
   "cell_type": "code",
   "execution_count": 2,
   "metadata": {},
   "outputs": [
    {
     "name": "stdout",
     "output_type": "stream",
     "text": [
      "Account   Name         Balance\n",
      "100       Jones          24.98\n",
      "200       Doe           345.67\n",
      "300       White           0.00\n",
      "400       Stone         -42.16\n",
      "500       Rich          224.62\n"
     ]
    }
   ],
   "source": [
    "with open ('accounts.txt', mode='r') as accounts:\n",
    "    print(f'{\"Account\":<10}{\"Name\": <10}{\"Balance\":>10}')#create three headers/columns with 10 characters and align < or >\n",
    "    for record in accounts: #for each row do the followinh\n",
    "        account, name, balance = record.split()\n",
    "        print(f'{account:<10}{name:<10}{balance:>10}')"
   ]
  },
  {
   "cell_type": "markdown",
   "metadata": {},
   "source": [
    "### 3. Pathlib for .jpg's"
   ]
  },
  {
   "cell_type": "code",
   "execution_count": 8,
   "metadata": {},
   "outputs": [
    {
     "name": "stdout",
     "output_type": "stream",
     "text": [
      "Collecting pathlib\n",
      "  Downloading pathlib-1.0.1.tar.gz (49 kB)\n",
      "Building wheels for collected packages: pathlib\n",
      "  Building wheel for pathlib (setup.py): started\n",
      "  Building wheel for pathlib (setup.py): finished with status 'done'\n",
      "  Created wheel for pathlib: filename=pathlib-1.0.1-py3-none-any.whl size=14352 sha256=93dc418de7e56b94875706b6fdbff5e0e6ae19f26aedadf60baf040b6a937839\n",
      "  Stored in directory: c:\\users\\31653\\appdata\\local\\pip\\cache\\wheels\\59\\02\\2f\\ff4a3e16a518feb111ae1405908094483ef56fec0dfa39e571\n",
      "Successfully built pathlib\n",
      "Installing collected packages: pathlib\n",
      "Successfully installed pathlib-1.0.1\n",
      "Note: you may need to restart the kernel to use updated packages.\n"
     ]
    }
   ],
   "source": [
    "pip install pathlib"
   ]
  },
  {
   "cell_type": "code",
   "execution_count": 8,
   "metadata": {},
   "outputs": [
    {
     "name": "stdout",
     "output_type": "stream",
     "text": [
      " Volume in drive C is OS\n",
      " Volume Serial Number is 2818-58FB\n",
      "\n",
      " Directory of C:\\Users\\31653\\Documents\\GitHub\\Notebooks\n",
      "\n",
      "06/02/2021  16:09    <DIR>          .\n",
      "06/02/2021  16:09    <DIR>          ..\n",
      "06/02/2021  16:00    <DIR>          .ipynb_checkpoints\n",
      "13/12/2020  11:48            16.189 1.0 - Michiel's Notebook on basics of Python and Jupyter Notebooks.ipynb\n",
      "13/12/2020  11:48            43.734 1.1 Michiels' Python fundamentals Notebook.ipynb\n",
      "13/12/2020  11:48           998.016 1.2 Michiel's notebook on the basics of Data Analysis and Matplotlib.ipynb\n",
      "13/12/2020  11:48           372.036 1.4 Michiels notebook on images (scipy, PIL).ipynb\n",
      "13/12/2020  11:48            40.480 1.5 Michiel's notebook on Pandas.ipynb\n",
      "06/02/2021  16:09             4.300 1.6 Working with files.ipynb\n",
      "13/12/2020  11:48            37.006 1.7 Python and Influxdb.ipynb\n",
      "13/12/2020  11:48            58.268 1.8 Time Series with SciPy.ipynb\n",
      "05/02/2021  19:47            42.492 2.1 Michiel's Intermediate Notebook.ipynb\n",
      "13/12/2020  11:48             9.469 2.2 Michiel's Notebook on Arrays with Numpy.ipynb\n",
      "13/12/2020  11:48           640.724 2.3 Michiel's notebook on python for maps.ipynb\n",
      "13/12/2020  11:48           109.927 2.4 Webscraping and BeautifulSoup.ipynb\n",
      "13/12/2020  11:48             2.366 2.5 Speech recognition.ipynb\n",
      "06/02/2021  16:06             1.998 2.6 Python and linux commands.ipynb\n",
      "13/12/2020  11:48            29.116 3.1 Deep learning for python -2e versie.ipynb\n",
      "13/12/2020  11:48            21.897 3.1 Michiels notebook Deep learning with python 1.ipynb\n",
      "13/12/2020  11:48         2.098.982 3.10 Image Segmentation with Pixellib.ipynb\n",
      "13/12/2020  11:48            37.708 3.11 Object Detection.ipynb\n",
      "13/12/2020  11:48         4.119.389 3.12 YOLO.ipynb\n",
      "13/12/2020  11:48            69.751 3.12.2 YOLO version 2 (The AI Guy).ipynb\n",
      "13/12/2020  11:48            83.982 3.2 Michiel's Neural Network Notebook.ipynb\n",
      "13/12/2020  11:48             1.348 3.3 Michiel's notebook on Pytorch.ipynb\n",
      "13/12/2020  11:48        16.434.060 3.4 Michiel's notebook on OpenCV.ipynb\n",
      "13/12/2020  11:48            70.568 3.5-classifying-movie-reviews.ipynb\n",
      "13/12/2020  11:48             4.433 3.6 Image classifier.ipynb\n",
      "13/12/2020  11:48            11.472 3.7 Object detection.ipynb\n",
      "13/12/2020  11:48            88.068 3.8 MNIST in Keras.ipynb\n",
      "13/12/2020  11:48           469.245 3.9 Teachable Machine.ipynb\n",
      "06/02/2021  14:49         1.847.574 4.3 Cycling data - convert fit file and read into pandas dataframe.ipynb\n",
      "13/12/2020  11:48            16.091 4.4 Dash Jupyter.ipynb\n",
      "13/12/2020  11:48            14.396 4.5 Google Vision API.ipynb\n",
      "13/12/2020  11:48            57.430 4.6 oura.ipynb\n",
      "13/12/2020  11:48            12.232 4.7 Pandas Time Series.ipynb\n",
      "13/12/2020  11:48             6.711 4.8 Plotly.ipynb\n",
      "13/12/2020  11:48            17.407 4.9 Polar.ipynb\n",
      "13/12/2020  11:48           553.645 4.x Bearing.ipynb\n",
      "13/12/2020  11:48           120.069 4.x PyIcloud.ipynb\n",
      "06/02/2021  16:07                84 accounts.txt\n",
      "13/12/2020  11:48         6.388.732 Barchart race original.ipynb\n",
      "03/02/2021  14:40           622.294 buik3.jpg\n",
      "13/12/2020  11:48         2.040.868 Keras_Image_classification_from_scratch.ipynb\n",
      "13/12/2020  11:48               175 README.md\n",
      "              42 File(s)     37.614.732 bytes\n",
      "               3 Dir(s)  354.860.077.056 bytes free\n"
     ]
    }
   ],
   "source": []
  },
  {
   "cell_type": "code",
   "execution_count": null,
   "metadata": {},
   "outputs": [],
   "source": []
  }
 ],
 "metadata": {
  "kernelspec": {
   "display_name": "Python 3",
   "language": "python",
   "name": "python3"
  },
  "language_info": {
   "codemirror_mode": {
    "name": "ipython",
    "version": 3
   },
   "file_extension": ".py",
   "mimetype": "text/x-python",
   "name": "python",
   "nbconvert_exporter": "python",
   "pygments_lexer": "ipython3",
   "version": "3.8.5"
  }
 },
 "nbformat": 4,
 "nbformat_minor": 4
}
