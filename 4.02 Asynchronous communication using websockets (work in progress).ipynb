{
 "cells": [
  {
   "cell_type": "markdown",
   "metadata": {},
   "source": [
    "# 4.06 Websockets"
   ]
  },
  {
   "cell_type": "markdown",
   "metadata": {},
   "source": [
    "## Contents\n",
    "\n",
    "0. Install packages\n",
    "1. My first websocket call\n",
    "\n",
    "\n",
    "## Introduction\n",
    "Algemene karakteristieken van websockets: \n",
    "\n",
    "- Het betreft asynchrone communicatie. \n",
    "- Http handshake en daarna persistente connectie tussen client en server \n",
    "- Hierdoor is bidirectionele (full duplex) communicatie met lage latency mogelijk \n",
    "- Gaat over http met TCP/IP \n",
    "- Enkele nadelen: clients verantwoordelijk voor connectie, mogelijk scalability challenges serverzijde "
   ]
  },
  {
   "cell_type": "markdown",
   "metadata": {},
   "source": [
    "## 0. Install packages"
   ]
  },
  {
   "cell_type": "code",
   "execution_count": 3,
   "metadata": {},
   "outputs": [
    {
     "name": "stdout",
     "output_type": "stream",
     "text": [
      "Collecting websockets\n",
      "  Downloading websockets-9.1-cp38-cp38-win_amd64.whl (90 kB)\n",
      "Installing collected packages: websockets\n",
      "Successfully installed websockets-9.1\n",
      "Note: you may need to restart the kernel to use updated packages.\n"
     ]
    }
   ],
   "source": [
    "%pip install websockets"
   ]
  },
  {
   "cell_type": "markdown",
   "metadata": {},
   "source": [
    "## 1. My first websocket\n",
    "\n",
    "Werkt niet vanuit Jupyter notebook. Wat wel werkt is het onderstaande script vanaf een terminal opstarten.\n",
    "En vervolgens: \n",
    "In Postman: zet nieuwe websocket verbinding op met ws://127.0.0.1:5678/\n",
    "of\n",
    "gebruik het onderstaande script websocketbrowser.html in een browser.\n",
    "\n",
    "#!/usr/bin/env python\n",
    "\n",
    "# WS server that sends messages at random intervals\n",
    "\n",
    "import asyncio\n",
    "import datetime\n",
    "import random\n",
    "import websockets\n",
    "\n",
    "async def time(websocket, path):\n",
    "    while True:\n",
    "        now = datetime.datetime.utcnow().isoformat() + \"Z\"\n",
    "        await websocket.send(now)\n",
    "        await asyncio.sleep(random.random() * 3)\n",
    "\n",
    "start_server = websockets.serve(time, \"127.0.0.1\", 5678)\n",
    "\n",
    "asyncio.get_event_loop().run_until_complete(start_server)\n",
    "asyncio.get_event_loop().run_forever()\n",
    "\n"
   ]
  },
  {
   "cell_type": "code",
   "execution_count": null,
   "metadata": {},
   "outputs": [],
   "source": []
  },
  {
   "cell_type": "code",
   "execution_count": null,
   "metadata": {},
   "outputs": [],
   "source": []
  },
  {
   "cell_type": "markdown",
   "metadata": {},
   "source": [
    "## 2. websocket-client"
   ]
  },
  {
   "cell_type": "code",
   "execution_count": 2,
   "metadata": {},
   "outputs": [
    {
     "name": "stdout",
     "output_type": "stream",
     "text": [
      "Collecting websocket-client\n",
      "  Downloading websocket_client-1.2.1-py2.py3-none-any.whl (52 kB)\n",
      "Installing collected packages: websocket-client\n",
      "Successfully installed websocket-client-1.2.1\n"
     ]
    }
   ],
   "source": [
    "!pip install websocket-client"
   ]
  },
  {
   "cell_type": "code",
   "execution_count": 7,
   "metadata": {},
   "outputs": [
    {
     "name": "stdout",
     "output_type": "stream",
     "text": [
      "{\"event\":\"info\",\"version\":2,\"serverId\":\"4278d40d-54c4-465b-8c85-f145b8ace578\",\"platform\":{\"status\":1}}\n",
      "{\"event\":\"subscribed\",\"channel\":\"ticker\",\"chanId\":64053,\"symbol\":\"tBTCUSD\",\"pair\":\"BTCUSD\"}\n",
      "[64053,[46930,8.39522871,46932,9.48066053,284.48538446,0.0061,46929,4387.1373491800005,47046,45546]]\n",
      "[64053,[46887,11.90626476,46889,17.06213528,252.48538446,0.0054,46897,4389.80624802,47046,45546]]\n",
      "[64053,\"hb\"]\n",
      "[64053,[46914,11.674911979999997,46924,16.0544677,269.48538446,0.0058,46914,4398.08257656,47046,45546]]\n",
      "[64053,\"hb\"]\n",
      "[64053,[46890,12.170420199999999,46896,21.285976639999998,217.87482512,0.0047,46862.38944066,4398.63190546,47046,45546]]\n"
     ]
    },
    {
     "data": {
      "text/plain": [
       "False"
      ]
     },
     "execution_count": 7,
     "metadata": {},
     "output_type": "execute_result"
    }
   ],
   "source": [
    "#source: \n",
    "import websocket\n",
    "\n",
    "ws = websocket.WebSocketApp('wss://api-pub.bitfinex.com/ws/2')\n",
    "\n",
    "ws.on_open = lambda self: self.send('{ \"event\": \"subscribe\", \"channel\": \"ticker\", \"symbol\": \"tBTCUSD\"}')\n",
    "\n",
    "ws.on_message = lambda self, evt:  print (evt)\n",
    "ws.run_forever()"
   ]
  },
  {
   "cell_type": "code",
   "execution_count": 5,
   "metadata": {},
   "outputs": [
    {
     "name": "stdout",
     "output_type": "stream",
     "text": [
      "{\"venue\":{\"venue_name\":\"Online event\",\"lon\":179.1962,\"lat\":-8.521147,\"venue_id\":26906060},\"visibility\":\"public\",\"response\":\"yes\",\"guests\":0,\"member\":{\"member_id\":300254258,\"photo\":\"https:\\/\\/secure.meetupstatic.com\\/photos\\/member\\/7\\/e\\/9\\/3\\/thumb_304232403.jpeg\",\"member_name\":\"Kibet Theo\"},\"rsvp_id\":1886436053,\"mtime\":1631192490549,\"event\":{\"event_name\":\"Ruby Thursdays: What makes a good software engineer? (Zoom)\",\"event_id\":\"czfgcsyccmbmb\",\"time\":1631199600000,\"event_url\":\"https:\\/\\/www.meetup.com\\/Nairuby\\/events\\/279272846\\/\"},\"group\":{\"group_topics\":[{\"urlkey\":\"opensource\",\"topic_name\":\"Open Source\"},{\"urlkey\":\"softwaredev\",\"topic_name\":\"Software Development\"},{\"urlkey\":\"programming-languages\",\"topic_name\":\"Programming Languages\"},{\"urlkey\":\"mobile-development\",\"topic_name\":\"Mobile Development\"},{\"urlkey\":\"computer-programming\",\"topic_name\":\"Computer programming\"},{\"urlkey\":\"web-application-development\",\"topic_name\":\"web application development\"},{\"urlkey\":\"ruby\",\"topic_name\":\"Ruby\"},{\"urlkey\":\"web-development\",\"topic_name\":\"Web Development\"},{\"urlkey\":\"ruby-on-rails\",\"topic_name\":\"Ruby On Rails\"}],\"group_city\":\"Nairobi\",\"group_country\":\"ke\",\"group_id\":18807577,\"group_name\":\"Nairuby\",\"group_lon\":36.82,\"group_urlname\":\"Nairuby\",\"group_lat\":-1.29}}\n",
      "\n",
      "{\"venue\":{\"venue_name\":\"Royal Oaks Park\",\"lon\":-121.668159,\"lat\":36.834911,\"venue_id\":1224107},\"visibility\":\"public\",\"response\":\"yes\",\"guests\":0,\"member\":{\"member_id\":12797590,\"photo\":\"https:\\/\\/secure.meetupstatic.com\\/photos\\/member\\/3\\/9\\/1\\/1\\/thumb_250814609.jpeg\",\"member_name\":\"John\"},\"rsvp_id\":1886436054,\"mtime\":1631192491167,\"event\":{\"event_name\":\"MBAHG- 15 Year Anniversary Gathering\",\"event_id\":\"280273796\",\"time\":1635616800000,\"event_url\":\"https:\\/\\/www.meetup.com\\/The-Monterey-Bay-Area-Hiking-Group\\/events\\/280273796\\/\"},\"group\":{\"group_topics\":[{\"urlkey\":\"hiking\",\"topic_name\":\"Hiking\"},{\"urlkey\":\"fitness\",\"topic_name\":\"Fitness\"},{\"urlkey\":\"backpacking\",\"topic_name\":\"Backpacking\"},{\"urlkey\":\"volunteer-trail-maintenance\",\"topic_name\":\"Volunteer Trail Maintenance\"},{\"urlkey\":\"wilderness-hiking\",\"topic_name\":\"Wilderness Hiking\"}],\"group_city\":\"Salinas\",\"group_country\":\"us\",\"group_id\":355866,\"group_name\":\"The Monterey Bay Area Hiking Group\",\"group_lon\":-121.67,\"group_urlname\":\"The-Monterey-Bay-Area-Hiking-Group\",\"group_state\":\"CA\",\"group_lat\":36.76}}\n",
      "\n",
      "{\"venue\":{\"venue_name\":\"Online event\",\"lon\":179.1962,\"lat\":-8.521147,\"venue_id\":26906060},\"visibility\":\"public\",\"response\":\"yes\",\"guests\":0,\"member\":{\"member_id\":4545506,\"photo\":\"https:\\/\\/secure.meetupstatic.com\\/photos\\/member\\/3\\/e\\/9\\/3\\/thumb_306076019.jpeg\",\"member_name\":\"Dahlia\"},\"rsvp_id\":1886436056,\"mtime\":1631192491843,\"event\":{\"event_name\":\"Monthly - Power BI Group Meeting\",\"event_id\":\"qcpjfsyccmbvb\",\"time\":1631820600000,\"event_url\":\"https:\\/\\/www.meetup.com\\/Greater-Houston-Power-BI-Users-Group\\/events\\/279494838\\/\"},\"group\":{\"group_topics\":[{\"urlkey\":\"businessintell\",\"topic_name\":\"Business Intelligence\"},{\"urlkey\":\"business-intelligence-strategy\",\"topic_name\":\"Business Intelligence Strategy\"},{\"urlkey\":\"business-intelligence-best-practices\",\"topic_name\":\"Business Intelligence Best Practices\"},{\"urlkey\":\"data-analytics\",\"topic_name\":\"Data Analytics\"},{\"urlkey\":\"data-visualization\",\"topic_name\":\"Data Visualization\"},{\"urlkey\":\"executive-dashboards\",\"topic_name\":\"Executive Dashboards\"},{\"urlkey\":\"business-analytics\",\"topic_name\":\"Business Analytics\"},{\"urlkey\":\"business-intelligence-tools-and-technology\",\"topic_name\":\"Business Intelligence Tools and Technology\"},{\"urlkey\":\"business-intelligence-data-warehousing\",\"topic_name\":\"Business Intelligence Data Warehousing\"},{\"urlkey\":\"dax\",\"topic_name\":\"DAX\"},{\"urlkey\":\"self-service-bi\",\"topic_name\":\"Self Service BI\"},{\"urlkey\":\"power-bi\",\"topic_name\":\"Power BI\"},{\"urlkey\":\"power-query\",\"topic_name\":\"Power Query\"}],\"group_city\":\"Houston\",\"group_country\":\"us\",\"group_id\":27029763,\"group_name\":\"Greater Houston Power BI Users Group\",\"group_lon\":-95.22,\"group_urlname\":\"Greater-Houston-Power-BI-Users-Group\",\"group_state\":\"TX\",\"group_lat\":29.72}}\n",
      "\n",
      "{\"venue\":{\"venue_name\":\"City Island Park\",\"lon\":-81.015488,\"lat\":29.210917,\"venue_id\":21763422},\"visibility\":\"public\",\"response\":\"no\",\"guests\":0,\"member\":{\"member_id\":331739284,\"photo\":\"https:\\/\\/secure.meetupstatic.com\\/photos\\/member\\/5\\/2\\/1\\/8\\/thumb_304821016.jpeg\",\"member_name\":\"Sierra Rose Bailey\"},\"rsvp_id\":1884938760,\"mtime\":1631192492014,\"event\":{\"event_name\":\"Co-ed 2's\\/3's\\/4's for existing DBVC ADVANCED* Players Only (*See Details Below)\",\"event_id\":\"sllffsyccmbmb\",\"time\":1631228400000,\"event_url\":\"https:\\/\\/www.meetup.com\\/Daytona-Beach-Volleyball-Club\\/events\\/277401760\\/\"},\"group\":{\"group_topics\":[{\"urlkey\":\"volleyball\",\"topic_name\":\"Volleyball\"},{\"urlkey\":\"sports\",\"topic_name\":\"Sports and Recreation\"},{\"urlkey\":\"outdoors\",\"topic_name\":\"Outdoors\"},{\"urlkey\":\"adventure\",\"topic_name\":\"Adventure\"},{\"urlkey\":\"beach-volleyball\",\"topic_name\":\"Beach Volleyball\"},{\"urlkey\":\"diningout\",\"topic_name\":\"Dining Out\"},{\"urlkey\":\"outdoor-volleyball\",\"topic_name\":\"Outdoor Volleyball\"},{\"urlkey\":\"volleyball-league\",\"topic_name\":\"Volleyball League\"},{\"urlkey\":\"volleyball-social\",\"topic_name\":\"Volleyball Social\"},{\"urlkey\":\"coed-beach-volleyball\",\"topic_name\":\"Coed Beach Volleyball\"},{\"urlkey\":\"dating-and-relationships\",\"topic_name\":\"Dating and Relationships\"}],\"group_city\":\"Daytona Beach\",\"group_country\":\"us\",\"group_id\":18760496,\"group_name\":\"The Daytona Beach Volleyball Club\",\"group_lon\":-81.04,\"group_urlname\":\"Daytona-Beach-Volleyball-Club\",\"group_state\":\"FL\",\"group_lat\":29.2}}\n",
      "\n",
      "{\"venue\":{\"venue_name\":\"Online event\",\"lon\":179.1962,\"lat\":-8.521147,\"venue_id\":26906060},\"visibility\":\"public\",\"response\":\"yes\",\"guests\":0,\"member\":{\"member_id\":300254258,\"photo\":\"https:\\/\\/secure.meetupstatic.com\\/photos\\/member\\/7\\/e\\/9\\/3\\/thumb_304232403.jpeg\",\"member_name\":\"Kibet Theo\"},\"rsvp_id\":1886436053,\"mtime\":1631192491000,\"event\":{\"event_name\":\"Ruby Thursdays: What makes a good software engineer? (Zoom)\",\"event_id\":\"czfgcsyccmbmb\",\"time\":1631199600000,\"event_url\":\"https:\\/\\/www.meetup.com\\/Nairuby\\/events\\/279272846\\/\"},\"group\":{\"group_topics\":[{\"urlkey\":\"opensource\",\"topic_name\":\"Open Source\"},{\"urlkey\":\"softwaredev\",\"topic_name\":\"Software Development\"},{\"urlkey\":\"programming-languages\",\"topic_name\":\"Programming Languages\"},{\"urlkey\":\"mobile-development\",\"topic_name\":\"Mobile Development\"},{\"urlkey\":\"computer-programming\",\"topic_name\":\"Computer programming\"},{\"urlkey\":\"web-application-development\",\"topic_name\":\"web application development\"},{\"urlkey\":\"ruby\",\"topic_name\":\"Ruby\"},{\"urlkey\":\"web-development\",\"topic_name\":\"Web Development\"},{\"urlkey\":\"ruby-on-rails\",\"topic_name\":\"Ruby On Rails\"}],\"group_city\":\"Nairobi\",\"group_country\":\"ke\",\"group_id\":18807577,\"group_name\":\"Nairuby\",\"group_lon\":36.82,\"group_urlname\":\"Nairuby\",\"group_lat\":-1.29}}\n",
      "\n",
      "{\"venue\":{\"venue_name\":\"Online event\",\"lon\":179.1962,\"lat\":-8.521147,\"venue_id\":26906060},\"visibility\":\"public\",\"response\":\"yes\",\"guests\":0,\"member\":{\"member_id\":338273082,\"member_name\":\"Claudia\"},\"rsvp_id\":1886436057,\"mtime\":1631192493376,\"event\":{\"event_name\":\"Getting Started with Machine Learning\",\"event_id\":\"280218599\",\"time\":1632240000000,\"event_url\":\"https:\\/\\/www.meetup.com\\/Women-Who-Code-Charlotte\\/events\\/280218599\\/\"},\"group\":{\"group_topics\":[{\"urlkey\":\"webdesign\",\"topic_name\":\"Web Design\"},{\"urlkey\":\"ruby\",\"topic_name\":\"Ruby\"},{\"urlkey\":\"python\",\"topic_name\":\"Python\"},{\"urlkey\":\"javascript\",\"topic_name\":\"JavaScript\"},{\"urlkey\":\"internetpro\",\"topic_name\":\"Internet Professionals\"},{\"urlkey\":\"computer-programming\",\"topic_name\":\"Computer programming\"},{\"urlkey\":\"softwaredev\",\"topic_name\":\"Software Development\"},{\"urlkey\":\"witi\",\"topic_name\":\"Women in Technology\"},{\"urlkey\":\"web-development\",\"topic_name\":\"Web Development\"},{\"urlkey\":\"ruby-on-rails\",\"topic_name\":\"Ruby On Rails\"},{\"urlkey\":\"mobile-development\",\"topic_name\":\"Mobile Development\"},{\"urlkey\":\"data-science\",\"topic_name\":\"Data Science\"},{\"urlkey\":\"women-who-code\",\"topic_name\":\"Women Who Code\"},{\"urlkey\":\"wwc\",\"topic_name\":\"WWC\"}],\"group_city\":\"Charlotte\",\"group_country\":\"us\",\"group_id\":32891061,\"group_name\":\"Women Who Code Charlotte\",\"group_lon\":-80.83,\"group_urlname\":\"Women-Who-Code-Charlotte\",\"group_state\":\"NC\",\"group_lat\":35.19}}\n",
      "\n",
      "{\"venue\":{\"venue_name\":\"Red Rock Saloon\",\"lon\":0,\"lat\":0,\"venue_id\":24773296},\"visibility\":\"public\",\"response\":\"yes\",\"guests\":0,\"member\":{\"member_id\":298777140,\"photo\":\"https:\\/\\/secure.meetupstatic.com\\/photos\\/member\\/1\\/0\\/0\\/1\\/thumb_295624097.jpeg\",\"member_name\":\"Shawn\"},\"rsvp_id\":1886436058,\"mtime\":1631192493797,\"event\":{\"event_name\":\"Game Night! (Meet\\/Greet, Drinks, Food in Reserved Room)\",\"event_id\":\"280652982\",\"time\":1632614400000,\"event_url\":\"https:\\/\\/www.meetup.com\\/New-Friends-MKE\\/events\\/280652982\\/\"},\"group\":{\"group_topics\":[{\"urlkey\":\"outdoors\",\"topic_name\":\"Outdoors\"},{\"urlkey\":\"20s-30s-social\",\"topic_name\":\"20's & 30's Social\"},{\"urlkey\":\"nightlife\",\"topic_name\":\"Nightlife\"},{\"urlkey\":\"dancing\",\"topic_name\":\"Dancing\"},{\"urlkey\":\"communityorg\",\"topic_name\":\"Community Organizations\"},{\"urlkey\":\"social\",\"topic_name\":\"Social\"},{\"urlkey\":\"games\",\"topic_name\":\"Games\"},{\"urlkey\":\"socialnetwork\",\"topic_name\":\"Social Networking\"},{\"urlkey\":\"sports\",\"topic_name\":\"Sports and Recreation\"},{\"urlkey\":\"beach-volleyball\",\"topic_name\":\"Beach Volleyball\"},{\"urlkey\":\"singles\",\"topic_name\":\"Singles\"},{\"urlkey\":\"newintown\",\"topic_name\":\"New In Town\"},{\"urlkey\":\"livemusic\",\"topic_name\":\"Live Music\"},{\"urlkey\":\"happy-hours\",\"topic_name\":\"Happy Hour\"},{\"urlkey\":\"outdoor-adventures\",\"topic_name\":\"Outdoor Adventures\"}],\"group_city\":\"Milwaukee\",\"group_country\":\"us\",\"group_id\":18698396,\"group_name\":\"New Friends MKE\",\"group_lon\":-87.9,\"group_urlname\":\"New-Friends-MKE\",\"group_state\":\"WI\",\"group_lat\":43.05}}\n",
      "\n",
      "{\"venue\":{\"venue_name\":\"Online event\",\"lon\":179.1962,\"lat\":-8.521147,\"venue_id\":26906060},\"visibility\":\"public\",\"response\":\"yes\",\"guests\":0,\"member\":{\"member_id\":54775372,\"member_name\":\"Erin\"},\"rsvp_id\":1886436059,\"mtime\":1631192494390,\"event\":{\"event_name\":\"Making Connections that Last\",\"event_id\":\"280382706\",\"time\":1631214000000,\"event_url\":\"https:\\/\\/www.meetup.com\\/meetup-live\\/events\\/280382706\\/\"},\"group\":{\"group_topics\":[{\"urlkey\":\"organizer\",\"topic_name\":\"Meetup Organizer\"}],\"group_city\":\"New York\",\"group_country\":\"us\",\"group_id\":33590002,\"group_name\":\"Meetup Live\",\"group_lon\":-73.99,\"group_urlname\":\"meetup-live\",\"group_state\":\"NY\",\"group_lat\":40.75}}\n",
      "\n",
      "{\"venue\":{\"venue_name\":\"American Legion\",\"lon\":-80.09378,\"lat\":26.306692,\"venue_id\":27125169},\"visibility\":\"public\",\"response\":\"yes\",\"guests\":0,\"member\":{\"member_id\":193593549,\"photo\":\"https:\\/\\/secure.meetupstatic.com\\/photos\\/member\\/4\\/2\\/7\\/5\\/thumb_263777013.jpeg\",\"member_name\":\"Anna\"},\"rsvp_id\":1886435973,\"mtime\":1631192419000,\"event\":{\"event_name\":\"Dancing & Singing Fun with Don't Stop The Music Group \",\"event_id\":\"280425485\",\"time\":1631313000000,\"event_url\":\"https:\\/\\/www.meetup.com\\/getoutthereadventures\\/events\\/280425485\\/\"},\"group\":{\"group_topics\":[{\"urlkey\":\"fun-times\",\"topic_name\":\"Fun Times\"},{\"urlkey\":\"fitness\",\"topic_name\":\"Fitness\"},{\"urlkey\":\"kayaking\",\"topic_name\":\"Kayaking\"},{\"urlkey\":\"adventure\",\"topic_name\":\"Adventure\"},{\"urlkey\":\"outdoors\",\"topic_name\":\"Outdoors\"},{\"urlkey\":\"excercise\",\"topic_name\":\"Exercise\"},{\"urlkey\":\"walkers\",\"topic_name\":\"Walking\"},{\"urlkey\":\"movies\",\"topic_name\":\"Watching Movies\"},{\"urlkey\":\"social\",\"topic_name\":\"Social\"},{\"urlkey\":\"hiking\",\"topic_name\":\"Hiking\"},{\"urlkey\":\"canoe\",\"topic_name\":\"Canoeing\"},{\"urlkey\":\"party-board-games\",\"topic_name\":\"Party & Board Games\"},{\"urlkey\":\"camping\",\"topic_name\":\"Camping\"},{\"urlkey\":\"dinner-and-a-movie\",\"topic_name\":\"Dinner and a Movie\"},{\"urlkey\":\"snorkeling\",\"topic_name\":\"Snorkeling\"}],\"group_city\":\"Pompano Beach\",\"group_country\":\"us\",\"group_id\":3393022,\"group_name\":\"Get Out There Adventures\",\"group_lon\":-80.21,\"group_urlname\":\"getoutthereadventures\",\"group_state\":\"FL\",\"group_lat\":26.25}}\n",
      "\n",
      "{\"venue\":{\"venue_name\":\"Southease Train Station - Southern Railway\",\"lon\":0.030865,\"lat\":50.83154,\"venue_id\":26653420},\"visibility\":\"public\",\"response\":\"yes\",\"guests\":0,\"member\":{\"member_id\":318586597,\"photo\":\"https:\\/\\/secure.meetupstatic.com\\/photos\\/member\\/4\\/4\\/3\\/c\\/thumb_302717468.jpeg\",\"member_name\":\"Caterina\"},\"rsvp_id\":1886436060,\"mtime\":1631192495386,\"event\":{\"event_name\":\"Southease to Eastbourne-27km of Hills and Views on the Lofty South Downs\",\"event_id\":\"280661379\",\"time\":1634980020000,\"event_url\":\"https:\\/\\/www.meetup.com\\/GO-London\\/events\\/280661379\\/\"},\"group\":{\"group_topics\":[{\"urlkey\":\"hiking\",\"topic_name\":\"Hiking\"},{\"urlkey\":\"walkers\",\"topic_name\":\"Walking\"},{\"urlkey\":\"outdoors\",\"topic_name\":\"Outdoors\"},{\"urlkey\":\"outdoor-adventures\",\"topic_name\":\"Outdoor Adventures\"},{\"urlkey\":\"international-travel\",\"topic_name\":\"International Travel\"},{\"urlkey\":\"trekking\",\"topic_name\":\"Trekking\"},{\"urlkey\":\"adventure-travel\",\"topic_name\":\"Adventure Travel\"},{\"urlkey\":\"travel\",\"topic_name\":\"Travel\"},{\"urlkey\":\"day-trips\",\"topic_name\":\"Day Trips\"},{\"urlkey\":\"hiking-hike-walking-walk-camp-camping-run-running\",\"topic_name\":\"Hiking Hike Walking Walk Camp Camping Run Running\"},{\"urlkey\":\"adventure\",\"topic_name\":\"Adventure\"},{\"urlkey\":\"weekend-adventures\",\"topic_name\":\"Weekend Adventures\"},{\"urlkey\":\"outdoor-fitness\",\"topic_name\":\"Outdoor  Fitness\"},{\"urlkey\":\"newintown\",\"topic_name\":\"New In Town\"},{\"urlkey\":\"fun-times\",\"topic_name\":\"Fun Times\"}],\"group_city\":\"London\",\"group_country\":\"gb\",\"group_id\":4662652,\"group_name\":\"GO London, hiking, walking, outdoor, adventure\",\"group_lon\":-0.1,\"group_urlname\":\"GO-London\",\"group_lat\":51.52}}\n",
      "\n",
      "{\"venue\":{\"venue_name\":\"1000 Victoria Park Blvd\",\"lon\":-81.58956,\"lat\":28.255638,\"venue_id\":27172398},\"visibility\":\"public\",\"response\":\"yes\",\"guests\":0,\"member\":{\"member_id\":198567346,\"photo\":\"https:\\/\\/secure.meetupstatic.com\\/photos\\/member\\/a\\/1\\/6\\/b\\/thumb_304421323.jpeg\",\"member_name\":\"Josh\"},\"rsvp_id\":1886436061,\"mtime\":1631192497247,\"event\":{\"event_name\":\"Beginner's volleyball & Beyond!\",\"event_id\":\"280645179\",\"time\":1631473200000,\"event_url\":\"https:\\/\\/www.meetup.com\\/orlando-in-action\\/events\\/280645179\\/\"},\"group\":{\"group_topics\":[{\"urlkey\":\"staying-active-and-fit\",\"topic_name\":\"Staying Active\"},{\"urlkey\":\"orlando\",\"topic_name\":\"Orlando\"},{\"urlkey\":\"recreational-sports\",\"topic_name\":\"Recreational Sports\"},{\"urlkey\":\"co-ed-adult-sports-league\",\"topic_name\":\"Co-Ed Adult Sports League\"},{\"urlkey\":\"sports-and-socials\",\"topic_name\":\"Sports and Socials\"},{\"urlkey\":\"excercise\",\"topic_name\":\"Exercise\"},{\"urlkey\":\"volleyball\",\"topic_name\":\"Volleyball\"},{\"urlkey\":\"beach-volleyball\",\"topic_name\":\"Beach Volleyball\"},{\"urlkey\":\"sports\",\"topic_name\":\"Sports and Recreation\"},{\"urlkey\":\"athletics\",\"topic_name\":\"Athletics\"},{\"urlkey\":\"dodgeball\",\"topic_name\":\"Dodgeball\"},{\"urlkey\":\"kickball\",\"topic_name\":\"Kickball\"},{\"urlkey\":\"dodge-ball\",\"topic_name\":\"Dodge Ball\"},{\"urlkey\":\"co-ed-adult-dodgeball\",\"topic_name\":\"Co-ed Adult Dodgeball\"},{\"urlkey\":\"soccer\",\"topic_name\":\"Soccer\"}],\"group_city\":\"Orlando\",\"group_country\":\"us\",\"group_id\":35730417,\"group_name\":\"Orlando in Action\",\"group_lon\":-81.37,\"group_urlname\":\"orlando-in-action\",\"group_state\":\"FL\",\"group_lat\":28.54}}\n",
      "\n",
      "{\"venue\":{\"venue_name\":\"Clapham Common\",\"lon\":-0.149307,\"lat\":51.458923,\"venue_id\":26614135},\"visibility\":\"public\",\"response\":\"yes\",\"guests\":0,\"member\":{\"member_id\":238510475,\"photo\":\"https:\\/\\/secure.meetupstatic.com\\/photos\\/member\\/1\\/7\\/a\\/thumb_271380378.jpeg\",\"member_name\":\"Leo Swadling\"},\"rsvp_id\":1886436063,\"mtime\":1631192497749,\"event\":{\"event_name\":\"Clapham Saturday 1030 \",\"event_id\":\"hgnkpsyccmbpb\",\"time\":1631352600000,\"event_url\":\"https:\\/\\/www.meetup.com\\/Terrible-football-in-London\\/events\\/280572417\\/\"},\"group\":{\"group_topics\":[{\"urlkey\":\"sportsfans\",\"topic_name\":\"Sports Fan\"},{\"urlkey\":\"soccer\",\"topic_name\":\"Soccer\"},{\"urlkey\":\"pickupsoccer\",\"topic_name\":\"Pick-Up Soccer\"},{\"urlkey\":\"sports-and-socials\",\"topic_name\":\"Sports and Socials\"},{\"urlkey\":\"coed-soccer\",\"topic_name\":\"Coed Soccer\"},{\"urlkey\":\"futbol\",\"topic_name\":\"Futbol\"},{\"urlkey\":\"recreational-sports\",\"topic_name\":\"Recreational Sports\"}],\"group_city\":\"London\",\"group_country\":\"gb\",\"group_id\":18366511,\"group_name\":\"Terrible Football\",\"group_lon\":-0.07,\"group_urlname\":\"Terrible-football-in-London\",\"group_lat\":51.52}}\n",
      "\n",
      "{\"venue\":{\"venue_name\":\"Sportzone\",\"lon\":-86.239349,\"lat\":39.876163,\"venue_id\":1560650},\"visibility\":\"public\",\"response\":\"yes\",\"guests\":0,\"member\":{\"member_id\":335649828,\"photo\":\"https:\\/\\/secure.meetupstatic.com\\/photos\\/member\\/a\\/d\\/5\\/5\\/thumb_306164373.jpeg\",\"member_name\":\"Brandon Dalley\"},\"rsvp_id\":1886436064,\"mtime\":1631192498024,\"event\":{\"event_name\":\"Advanced Level Play (BB\\/BB+) \",\"event_id\":\"zftbnsyccmbrb\",\"time\":1631577600000,\"event_url\":\"https:\\/\\/www.meetup.com\\/indyvball\\/events\\/280628982\\/\"},\"group\":{\"group_topics\":[{\"urlkey\":\"outdoors\",\"topic_name\":\"Outdoors\"},{\"urlkey\":\"beach-volleyball\",\"topic_name\":\"Beach Volleyball\"},{\"urlkey\":\"outdoor-volleyball\",\"topic_name\":\"Outdoor Volleyball\"},{\"urlkey\":\"volleyball\",\"topic_name\":\"Volleyball\"},{\"urlkey\":\"sports\",\"topic_name\":\"Sports and Recreation\"},{\"urlkey\":\"excercise\",\"topic_name\":\"Exercise\"},{\"urlkey\":\"recreational-sports\",\"topic_name\":\"Recreational Sports\"}],\"group_city\":\"Indianapolis\",\"group_country\":\"us\",\"group_id\":3333312,\"group_name\":\"Indianapolis Amateur Volleyball\",\"group_lon\":-86.27,\"group_urlname\":\"indyvball\",\"group_state\":\"IN\",\"group_lat\":39.84}}\n",
      "\n",
      "{\"venue\":{\"venue_name\":\"1000 Victoria Park Blvd\",\"lon\":-81.58956,\"lat\":28.255638,\"venue_id\":27172398},\"visibility\":\"public\",\"response\":\"yes\",\"guests\":0,\"member\":{\"member_id\":198567346,\"photo\":\"https:\\/\\/secure.meetupstatic.com\\/photos\\/member\\/a\\/1\\/6\\/b\\/thumb_304421323.jpeg\",\"member_name\":\"Josh\"},\"rsvp_id\":1886436061,\"mtime\":1631192497000,\"event\":{\"event_name\":\"Beginner's volleyball & Beyond!\",\"event_id\":\"280645179\",\"time\":1631473200000,\"event_url\":\"https:\\/\\/www.meetup.com\\/orlando-in-action\\/events\\/280645179\\/\"},\"group\":{\"group_topics\":[{\"urlkey\":\"staying-active-and-fit\",\"topic_name\":\"Staying Active\"},{\"urlkey\":\"orlando\",\"topic_name\":\"Orlando\"},{\"urlkey\":\"recreational-sports\",\"topic_name\":\"Recreational Sports\"},{\"urlkey\":\"co-ed-adult-sports-league\",\"topic_name\":\"Co-Ed Adult Sports League\"},{\"urlkey\":\"sports-and-socials\",\"topic_name\":\"Sports and Socials\"},{\"urlkey\":\"excercise\",\"topic_name\":\"Exercise\"},{\"urlkey\":\"volleyball\",\"topic_name\":\"Volleyball\"},{\"urlkey\":\"beach-volleyball\",\"topic_name\":\"Beach Volleyball\"},{\"urlkey\":\"sports\",\"topic_name\":\"Sports and Recreation\"},{\"urlkey\":\"athletics\",\"topic_name\":\"Athletics\"},{\"urlkey\":\"dodgeball\",\"topic_name\":\"Dodgeball\"},{\"urlkey\":\"kickball\",\"topic_name\":\"Kickball\"},{\"urlkey\":\"dodge-ball\",\"topic_name\":\"Dodge Ball\"},{\"urlkey\":\"co-ed-adult-dodgeball\",\"topic_name\":\"Co-ed Adult Dodgeball\"},{\"urlkey\":\"soccer\",\"topic_name\":\"Soccer\"}],\"group_city\":\"Orlando\",\"group_country\":\"us\",\"group_id\":35730417,\"group_name\":\"Orlando in Action\",\"group_lon\":-81.37,\"group_urlname\":\"orlando-in-action\",\"group_state\":\"FL\",\"group_lat\":28.54}}\n",
      "\n",
      "{\"venue\":{\"venue_name\":\"City Island Park\",\"lon\":-81.015488,\"lat\":29.210917,\"venue_id\":21763422},\"visibility\":\"public\",\"response\":\"no\",\"guests\":0,\"member\":{\"member_id\":231919241,\"photo\":\"https:\\/\\/secure.meetupstatic.com\\/photos\\/member\\/9\\/5\\/a\\/a\\/thumb_305918314.jpeg\",\"member_name\":\"Cesar Valderrama\"},\"rsvp_id\":1884922191,\"mtime\":1631192500630,\"event\":{\"event_name\":\"Co-ed 2's\\/3's\\/4's for existing DBVC ADVANCED* Players Only (*See Details Below)\",\"event_id\":\"sllffsyccmbmb\",\"time\":1631228400000,\"event_url\":\"https:\\/\\/www.meetup.com\\/Daytona-Beach-Volleyball-Club\\/events\\/277401760\\/\"},\"group\":{\"group_topics\":[{\"urlkey\":\"volleyball\",\"topic_name\":\"Volleyball\"},{\"urlkey\":\"sports\",\"topic_name\":\"Sports and Recreation\"},{\"urlkey\":\"outdoors\",\"topic_name\":\"Outdoors\"},{\"urlkey\":\"adventure\",\"topic_name\":\"Adventure\"},{\"urlkey\":\"beach-volleyball\",\"topic_name\":\"Beach Volleyball\"},{\"urlkey\":\"diningout\",\"topic_name\":\"Dining Out\"},{\"urlkey\":\"outdoor-volleyball\",\"topic_name\":\"Outdoor Volleyball\"},{\"urlkey\":\"volleyball-league\",\"topic_name\":\"Volleyball League\"},{\"urlkey\":\"volleyball-social\",\"topic_name\":\"Volleyball Social\"},{\"urlkey\":\"coed-beach-volleyball\",\"topic_name\":\"Coed Beach Volleyball\"},{\"urlkey\":\"dating-and-relationships\",\"topic_name\":\"Dating and Relationships\"}],\"group_city\":\"Daytona Beach\",\"group_country\":\"us\",\"group_id\":18760496,\"group_name\":\"The Daytona Beach Volleyball Club\",\"group_lon\":-81.04,\"group_urlname\":\"Daytona-Beach-Volleyball-Club\",\"group_state\":\"FL\",\"group_lat\":29.2}}\n",
      "\n",
      "{\"venue\":{\"venue_name\":\"Online event\",\"lon\":179.1962,\"lat\":-8.521147,\"venue_id\":26906060},\"visibility\":\"public\",\"response\":\"no\",\"guests\":0,\"member\":{\"member_id\":312645540,\"photo\":\"https:\\/\\/secure.meetupstatic.com\\/photos\\/member\\/2\\/8\\/8\\/c\\/thumb_304450380.jpeg\",\"member_name\":\"Sarvin\"},\"rsvp_id\":1886221317,\"mtime\":1631192500785,\"event\":{\"event_name\":\"Shut Up & Write! Monday - Friday 6:45 AM PT \\/ 9:45 AM ET (90m writing)\",\"event_id\":\"prkmnsyccmbmb\",\"time\":1631195100000,\"event_url\":\"https:\\/\\/www.meetup.com\\/shutupandwriteonlineevents\\/events\\/280434999\\/\"},\"group\":{\"group_topics\":[{\"urlkey\":\"poetry\",\"topic_name\":\"Poetry\"},{\"urlkey\":\"screenwriters\",\"topic_name\":\"Screenwriting\"},{\"urlkey\":\"creative-writing\",\"topic_name\":\"Creative Writing\"},{\"urlkey\":\"authors\",\"topic_name\":\"Authors\"},{\"urlkey\":\"writing\",\"topic_name\":\"Writing\"},{\"urlkey\":\"writing-workshops\",\"topic_name\":\"Writing Workshops\"},{\"urlkey\":\"novel-writing\",\"topic_name\":\"Novel Writing\"},{\"urlkey\":\"non-fiction-writing\",\"topic_name\":\"Non-fiction writing\"},{\"urlkey\":\"short-story-writing\",\"topic_name\":\"Short Story Writing\"},{\"urlkey\":\"fiction-writing\",\"topic_name\":\"Fiction Writing\"},{\"urlkey\":\"genre-fiction-writing\",\"topic_name\":\"Genre Fiction Writing\"},{\"urlkey\":\"writing-and-publishing\",\"topic_name\":\"Writing and Publishing\"},{\"urlkey\":\"memoir-writing-lifewriting\",\"topic_name\":\"Memoir writing; Lifewriting\"},{\"urlkey\":\"writers-and-aspiring-writers\",\"topic_name\":\"Writers and Aspiring Writers\"},{\"urlkey\":\"book-writing\",\"topic_name\":\"Book writing\"}],\"group_city\":\"San Francisco\",\"group_country\":\"us\",\"group_id\":33639161,\"group_name\":\"Shut Up & Write!® Online Events\",\"group_lon\":-122.42,\"group_urlname\":\"shutupandwriteonlineevents\",\"group_state\":\"CA\",\"group_lat\":37.78}}\n",
      "\n",
      "{\"venue\":{\"venue_name\":\"Online event\",\"lon\":179.1962,\"lat\":-8.521147,\"venue_id\":26906060},\"visibility\":\"public\",\"response\":\"yes\",\"guests\":0,\"member\":{\"member_id\":214462387,\"photo\":\"https:\\/\\/secure.meetupstatic.com\\/photos\\/member\\/c\\/f\\/7\\/4\\/thumb_293753108.jpeg\",\"member_name\":\"Tom Fox\"},\"rsvp_id\":1886436065,\"mtime\":1631192501129,\"event\":{\"event_name\":\"How to get the most out of R and Python integration in Power BI - Ryan Wade  MVP\",\"event_id\":\"280660800\",\"time\":1633626000000,\"event_url\":\"https:\\/\\/www.meetup.com\\/microsoft-power-bi-uk\\/events\\/280660800\\/\"},\"group\":{\"group_topics\":[{\"urlkey\":\"businessintell\",\"topic_name\":\"Business Intelligence\"},{\"urlkey\":\"databasepro\",\"topic_name\":\"Database Professionals\"},{\"urlkey\":\"power-bi\",\"topic_name\":\"Power BI\"},{\"urlkey\":\"big-data-analytics\",\"topic_name\":\"Big Data Analytics\"},{\"urlkey\":\"microsoft-technology\",\"topic_name\":\"Microsoft Technology\"},{\"urlkey\":\"business-analytics\",\"topic_name\":\"Business Analytics\"},{\"urlkey\":\"microsft\",\"topic_name\":\"Microsoft\"},{\"urlkey\":\"data-visualization\",\"topic_name\":\"Data Visualization\"},{\"urlkey\":\"big-data\",\"topic_name\":\"Big Data\"},{\"urlkey\":\"datamanagement\",\"topic_name\":\"Data Management\"},{\"urlkey\":\"microsoft-power-platform\",\"topic_name\":\"Microsoft Power Platform\"},{\"urlkey\":\"data-analytics\",\"topic_name\":\"Data Analytics\"},{\"urlkey\":\"data-science\",\"topic_name\":\"Data Science\"}],\"group_city\":\"London\",\"group_country\":\"gb\",\"group_id\":34696084,\"group_name\":\"Microsoft Power BI UK\",\"group_lon\":-0.1,\"group_urlname\":\"microsoft-power-bi-uk\",\"group_lat\":51.52}}\n",
      "\n",
      "{\"venue\":{\"venue_name\":\"Simko's Grill\",\"lon\":-74.02565,\"lat\":40.18952,\"venue_id\":27119343},\"visibility\":\"public\",\"response\":\"no\",\"guests\":0,\"member\":{\"member_id\":267282838,\"photo\":\"https:\\/\\/secure.meetupstatic.com\\/photos\\/member\\/e\\/1\\/e\\/3\\/thumb_291957827.jpeg\",\"member_name\":\"Cody Zucker\"},\"rsvp_id\":1886435886,\"mtime\":1631192501989,\"event\":{\"event_name\":\"Investing in Multifamily Real Estate w\\/ Denis Shapiro\",\"event_id\":\"279680657\",\"time\":1632870000000,\"event_url\":\"https:\\/\\/www.meetup.com\\/Central-Jersey-Monmouth-County-Real-Estate-Investors\\/events\\/279680657\\/\"},\"group\":{\"group_topics\":[{\"urlkey\":\"real-estate-investors\",\"topic_name\":\"Real Estate Investors\"},{\"urlkey\":\"real-estate-networking\",\"topic_name\":\"Real Estate Networking\"},{\"urlkey\":\"real-estate-investing\",\"topic_name\":\"Real Estate Investing\"},{\"urlkey\":\"real-estate\",\"topic_name\":\"Real Estate\"},{\"urlkey\":\"real-estate-investment-education\",\"topic_name\":\"Real Estate Investment Education\"},{\"urlkey\":\"buy-hold-real-estate-investing\",\"topic_name\":\"Buy & Hold Real Estate Investing\"},{\"urlkey\":\"real-estate-fix-flip\",\"topic_name\":\"Real Estate Fix & Flip\"},{\"urlkey\":\"beginner-new-real-estate-investor\",\"topic_name\":\"Beginner Real Estate Investing\"}],\"group_city\":\"Belmar\",\"group_country\":\"us\",\"group_id\":18556038,\"group_name\":\"Central Jersey & Monmouth County Real Estate Investors\",\"group_lon\":-74.07,\"group_urlname\":\"Central-Jersey-Monmouth-County-Real-Estate-Investors\",\"group_state\":\"NJ\",\"group_lat\":40.17}}\n",
      "\n",
      "{\"venue\":{\"venue_name\":\"Waverley Railway Station\",\"lon\":-3.189568,\"lat\":55.951935,\"venue_id\":26033349},\"visibility\":\"public\",\"response\":\"yes\",\"guests\":0,\"member\":{\"member_id\":336371950,\"photo\":\"https:\\/\\/secure.meetupstatic.com\\/photos\\/member\\/7\\/1\\/1\\/3\\/thumb_306028947.jpeg\",\"member_name\":\"Luke Bryant\"},\"rsvp_id\":1886436066,\"mtime\":1631192502458,\"event\":{\"event_name\":\"Berwickshire Coastal Path (Saint Abbs to Berwick-upon-Tweed)\",\"event_id\":\"280592908\",\"time\":1631434500000,\"event_url\":\"https:\\/\\/www.meetup.com\\/Edinburgh-International-Hikers\\/events\\/280592908\\/\"},\"group\":{\"group_topics\":[{\"urlkey\":\"hiking\",\"topic_name\":\"Hiking\"},{\"urlkey\":\"back-country-hiking\",\"topic_name\":\"Back country hiking\"},{\"urlkey\":\"hiking-kayaking-camping-biking\",\"topic_name\":\"Hiking, kayaking, camping, biking\"},{\"urlkey\":\"hiking-bicycling-camping\",\"topic_name\":\"Hiking, Bicycling, Camping\"},{\"urlkey\":\"adventure-hiking-endurance-training-scuba\",\"topic_name\":\"Adventure, Hiking, Endurance Training, Scuba\"},{\"urlkey\":\"adventure-hiking\",\"topic_name\":\"Adventure Hiking\"},{\"urlkey\":\"hiking-short-hikes-that-arent-too-steep\",\"topic_name\":\"Hiking: Short Hikes that aren't too steep\"},{\"urlkey\":\"wilderness-hiking\",\"topic_name\":\"Wilderness Hiking\"},{\"urlkey\":\"hiking-hike-walking-walk-camp-camping-run-running\",\"topic_name\":\"Hiking Hike Walking Walk Camp Camping Run Running\"}],\"group_city\":\"Edinburgh\",\"group_country\":\"gb\",\"group_id\":33919491,\"group_name\":\"Edinburgh International Hikers (20's to 40's)\",\"group_lon\":-3.22,\"group_urlname\":\"Edinburgh-International-Hikers\",\"group_lat\":55.95}}\n",
      "\n",
      "{\"venue\":{\"venue_name\":\"Online event\",\"lon\":179.1962,\"lat\":-8.521147,\"venue_id\":26906060},\"visibility\":\"public\",\"response\":\"yes\",\"guests\":0,\"member\":{\"member_id\":340064014,\"member_name\":\"Deborah\"},\"rsvp_id\":1886436067,\"mtime\":1631192502875,\"event\":{\"event_name\":\"Friendly Language – Exchange (free & online)\",\"event_id\":\"tlmgnsyccmbnb\",\"time\":1631289600000,\"event_url\":\"https:\\/\\/www.meetup.com\\/the-language-corner-lausanne-pully\\/events\\/280089758\\/\"},\"group\":{\"group_topics\":[{\"urlkey\":\"women\",\"topic_name\":\"Women's Social\"},{\"urlkey\":\"singles\",\"topic_name\":\"Singles\"},{\"urlkey\":\"exchangestud\",\"topic_name\":\"International and Exchange Students\"},{\"urlkey\":\"practice-speaking-spanish\",\"topic_name\":\"Practice Speaking Spanish\"},{\"urlkey\":\"socialnetwork\",\"topic_name\":\"Social Networking\"},{\"urlkey\":\"spanish\",\"topic_name\":\"Spanish Language\"},{\"urlkey\":\"spanish-english-language-exchange\",\"topic_name\":\"Spanish & English Language Exchange\"},{\"urlkey\":\"spanish-english-exchange\",\"topic_name\":\"Spanish English Exchange\"},{\"urlkey\":\"bilingual-spanish-english\",\"topic_name\":\"Bilingual Spanish\\/English\"},{\"urlkey\":\"spanish-culture\",\"topic_name\":\"Spanish Culture\"},{\"urlkey\":\"practice-spanish-conversation\",\"topic_name\":\"Practice Spanish Conversation\"},{\"urlkey\":\"expat\",\"topic_name\":\"Expat\"},{\"urlkey\":\"language\",\"topic_name\":\"Language & Culture\"},{\"urlkey\":\"culture-exchange\",\"topic_name\":\"Culture Exchange\"}],\"group_city\":\"Lausanne\",\"group_country\":\"ch\",\"group_id\":25972949,\"group_name\":\"The Language Corner Social Club à Lausanne et Pully\",\"group_lon\":6.62,\"group_urlname\":\"the-language-corner-lausanne-pully\",\"group_lat\":46.52}}\n",
      "\n",
      "{\"venue\":{\"venue_name\":\"American Legion\",\"lon\":-80.09378,\"lat\":26.306692,\"venue_id\":27125169},\"visibility\":\"public\",\"response\":\"yes\",\"guests\":1,\"member\":{\"member_id\":193593549,\"photo\":\"https:\\/\\/secure.meetupstatic.com\\/photos\\/member\\/4\\/2\\/7\\/5\\/thumb_263777013.jpeg\",\"member_name\":\"Anna\"},\"rsvp_id\":1886435973,\"mtime\":1631192502897,\"event\":{\"event_name\":\"Dancing & Singing Fun with Don't Stop The Music Group \",\"event_id\":\"280425485\",\"time\":1631313000000,\"event_url\":\"https:\\/\\/www.meetup.com\\/getoutthereadventures\\/events\\/280425485\\/\"},\"group\":{\"group_topics\":[{\"urlkey\":\"fun-times\",\"topic_name\":\"Fun Times\"},{\"urlkey\":\"fitness\",\"topic_name\":\"Fitness\"},{\"urlkey\":\"kayaking\",\"topic_name\":\"Kayaking\"},{\"urlkey\":\"adventure\",\"topic_name\":\"Adventure\"},{\"urlkey\":\"outdoors\",\"topic_name\":\"Outdoors\"},{\"urlkey\":\"excercise\",\"topic_name\":\"Exercise\"},{\"urlkey\":\"walkers\",\"topic_name\":\"Walking\"},{\"urlkey\":\"movies\",\"topic_name\":\"Watching Movies\"},{\"urlkey\":\"social\",\"topic_name\":\"Social\"},{\"urlkey\":\"hiking\",\"topic_name\":\"Hiking\"},{\"urlkey\":\"canoe\",\"topic_name\":\"Canoeing\"},{\"urlkey\":\"party-board-games\",\"topic_name\":\"Party & Board Games\"},{\"urlkey\":\"camping\",\"topic_name\":\"Camping\"},{\"urlkey\":\"dinner-and-a-movie\",\"topic_name\":\"Dinner and a Movie\"},{\"urlkey\":\"snorkeling\",\"topic_name\":\"Snorkeling\"}],\"group_city\":\"Pompano Beach\",\"group_country\":\"us\",\"group_id\":3393022,\"group_name\":\"Get Out There Adventures\",\"group_lon\":-80.21,\"group_urlname\":\"getoutthereadventures\",\"group_state\":\"FL\",\"group_lat\":26.25}}\n",
      "\n",
      "{\"venue\":{\"venue_name\":\"Online event\",\"lon\":179.1962,\"lat\":-8.521147,\"venue_id\":26906060},\"visibility\":\"public\",\"response\":\"yes\",\"guests\":0,\"member\":{\"member_id\":337388469,\"photo\":\"https:\\/\\/secure.meetupstatic.com\\/photos\\/member\\/3\\/d\\/3\\/8\\/thumb_306315672.jpeg\",\"member_name\":\"Christine & Ben\"},\"rsvp_id\":1886436068,\"mtime\":1631192503872,\"event\":{\"event_name\":\"Let's Talk Traveling to GREECE (September 2022)\",\"event_id\":\"280010905\",\"time\":1631833200000,\"event_url\":\"https:\\/\\/www.meetup.com\\/HelloTravelers\\/events\\/280010905\\/\"},\"group\":{\"group_topics\":[{\"urlkey\":\"travel\",\"topic_name\":\"Travel\"},{\"urlkey\":\"adventure-travel\",\"topic_name\":\"Adventure Travel\"},{\"urlkey\":\"finding-travel-companions-for-adventures\",\"topic_name\":\"Finding Travel Companions for Adventures\"},{\"urlkey\":\"international-friends\",\"topic_name\":\"International Friends\"},{\"urlkey\":\"knowledge-sharing\",\"topic_name\":\"Knowledge Sharing\"},{\"urlkey\":\"international-travel\",\"topic_name\":\"International Travel\"},{\"urlkey\":\"weekend-adventures\",\"topic_name\":\"Weekend Adventures\"},{\"urlkey\":\"solo-travel\",\"topic_name\":\"Solo Travel\"}],\"group_city\":\"Pittsburgh\",\"group_country\":\"us\",\"group_id\":32955705,\"group_name\":\"Hello Travelers!\",\"group_lon\":-79.99,\"group_urlname\":\"HelloTravelers\",\"group_state\":\"PA\",\"group_lat\":40.45}}\n",
      "\n",
      "{\"venue\":{\"venue_name\":\"Online event\",\"lon\":179.1962,\"lat\":-8.521147,\"venue_id\":26906060},\"visibility\":\"public\",\"response\":\"yes\",\"guests\":0,\"member\":{\"member_id\":78045652,\"photo\":\"https:\\/\\/secure.meetupstatic.com\\/photos\\/member\\/b\\/6\\/b\\/e\\/thumb_94006782.jpeg\",\"member_name\":\"Evan Carew\"},\"rsvp_id\":1886436069,\"mtime\":1631192505015,\"event\":{\"event_name\":\"Monthly Meeting\",\"event_id\":\"ltwhksyccmbsb\",\"time\":1631658600000,\"event_url\":\"https:\\/\\/www.meetup.com\\/Michigan-usr-group-Linux-Users-Group-in-Farmington-Hills\\/events\\/280043885\\/\"},\"group\":{\"group_topics\":[{\"urlkey\":\"linux\",\"topic_name\":\"Linux\"},{\"urlkey\":\"unix\",\"topic_name\":\"Unix\"},{\"urlkey\":\"opensource\",\"topic_name\":\"Open Source\"},{\"urlkey\":\"ubuntu\",\"topic_name\":\"Ubuntu\"},{\"urlkey\":\"softwaredev\",\"topic_name\":\"Software Development\"},{\"urlkey\":\"sysadmin\",\"topic_name\":\"System Administration\"},{\"urlkey\":\"devops\",\"topic_name\":\"DevOps\"},{\"urlkey\":\"linux-server\",\"topic_name\":\"Linux Server\"},{\"urlkey\":\"computer-programming\",\"topic_name\":\"Computer programming\"},{\"urlkey\":\"programming-languages\",\"topic_name\":\"Programming Languages\"},{\"urlkey\":\"newtech\",\"topic_name\":\"New Technology\"},{\"urlkey\":\"technology\",\"topic_name\":\"Technology\"},{\"urlkey\":\"gnu-linux\",\"topic_name\":\"GNU\\/linux\"},{\"urlkey\":\"cloud-computing\",\"topic_name\":\"Cloud Computing\"}],\"group_city\":\"Farmington\",\"group_country\":\"us\",\"group_id\":10897132,\"group_name\":\"Michigan!\\/usr\\/group – UNIX\\/Linux users group (MUG)\",\"group_lon\":-83.35,\"group_urlname\":\"Michigan-usr-group-Linux-Users-Group-in-Farmington-Hills\",\"group_state\":\"MI\",\"group_lat\":42.51}}\n",
      "\n",
      "{\"venue\":{\"venue_name\":\"IRVING 24\",\"lon\":-63.537064,\"lat\":44.927517,\"venue_id\":27149412},\"visibility\":\"public\",\"response\":\"yes\",\"guests\":0,\"member\":{\"member_id\":263535225,\"photo\":\"https:\\/\\/secure.meetupstatic.com\\/photos\\/member\\/a\\/6\\/2\\/a\\/thumb_283662538.jpeg\",\"member_name\":\"Tina Rousey Ripley\"},\"rsvp_id\":1886436070,\"mtime\":1631192505306,\"event\":{\"event_name\":\"Tatamagouche\",\"event_id\":\"280642676\",\"time\":1631367000000,\"event_url\":\"https:\\/\\/www.meetup.com\\/Halifax-Motorcycle-Riding-Meetup\\/events\\/280642676\\/\"},\"group\":{\"group_topics\":[{\"urlkey\":\"riding-motorcycles\",\"topic_name\":\"Riding Motorcycles\"},{\"urlkey\":\"fembikers\",\"topic_name\":\"Female Bikers\"},{\"urlkey\":\"outdoors\",\"topic_name\":\"Outdoors\"},{\"urlkey\":\"fun-times\",\"topic_name\":\"Fun Times\"},{\"urlkey\":\"motorcycle-touring\",\"topic_name\":\"Motorcycle Touring\"},{\"urlkey\":\"outdoor-adventures\",\"topic_name\":\"Outdoor Adventures\"},{\"urlkey\":\"fun-and-laughter\",\"topic_name\":\"Fun and Laughter\"},{\"urlkey\":\"cruiser-bikes\",\"topic_name\":\"Cruiser Bikes\"},{\"urlkey\":\"bikers-that-like-to-ride\",\"topic_name\":\"Bikers that like to ride.\"},{\"urlkey\":\"motorcycle-riding\",\"topic_name\":\"Motorcycle Riding\"},{\"urlkey\":\"beginner-motorcycle-riders\",\"topic_name\":\"Beginner Motorcycle Riders\"},{\"urlkey\":\"sportbikes\",\"topic_name\":\"Sport Bikes\"}],\"group_city\":\"Halifax\",\"group_country\":\"ca\",\"group_id\":23021441,\"group_name\":\"Halifax Riders\",\"group_lon\":-63.57,\"group_urlname\":\"Halifax-Motorcycle-Riding-Meetup\",\"group_state\":\"NS\",\"group_lat\":44.64}}\n",
      "\n",
      "{\"visibility\":\"public\",\"response\":\"yes\",\"guests\":0,\"member\":{\"member_id\":327878162,\"photo\":\"https:\\/\\/secure.meetupstatic.com\\/photos\\/member\\/3\\/d\\/4\\/e\\/thumb_303855694.jpeg\",\"member_name\":\"Hélène Toulotte\"},\"rsvp_id\":1886436071,\"mtime\":1631192505463,\"event\":{\"event_name\":\"Let's play Concórdia\",\"event_id\":\"280660817\",\"time\":1631210400000,\"event_url\":\"https:\\/\\/www.meetup.com\\/lisbon-lets-play\\/events\\/280660817\\/\"},\"group\":{\"group_topics\":[{\"urlkey\":\"dnd\",\"topic_name\":\"Dungeons & Dragons\"},{\"urlkey\":\"fun-times\",\"topic_name\":\"Fun Times\"},{\"urlkey\":\"games\",\"topic_name\":\"Games\"},{\"urlkey\":\"roleplaying-games-rpgs\",\"topic_name\":\"Roleplaying Games (RPGs)\"},{\"urlkey\":\"tabletop-role-playing-and-board-games\",\"topic_name\":\"Tabletop Role Playing and Board Games\"},{\"urlkey\":\"gaming\",\"topic_name\":\"Gaming\"},{\"urlkey\":\"board-games\",\"topic_name\":\"Board Games\"},{\"urlkey\":\"game-night\",\"topic_name\":\"Game Night\"},{\"urlkey\":\"role-playing-games-rpgs\",\"topic_name\":\"Role-Playing Games\"},{\"urlkey\":\"games-party-games-social-games-strategy-games\",\"topic_name\":\"Games: Party Games, Social Games, Strategy Games\"},{\"urlkey\":\"playing-cards-board-games-and-other-games-too\",\"topic_name\":\"Playing cards board games and other games too\"},{\"urlkey\":\"tabletop-games-board-games-card-games\",\"topic_name\":\"Tabletop Games = Board Games + Card Games\"}],\"group_city\":\"Lisbon\",\"group_country\":\"pt\",\"group_id\":34953179,\"group_name\":\"Lisbon - Let's Play\",\"group_lon\":-9.14,\"group_urlname\":\"lisbon-lets-play\",\"group_lat\":38.72}}\n",
      "\n",
      "{\"venue\":{\"venue_name\":\"Lake Harriet Spiritual Community (LHSC)\",\"lon\":-93.31469,\"lat\":44.9231,\"venue_id\":605771},\"visibility\":\"public\",\"response\":\"yes\",\"guests\":0,\"member\":{\"member_id\":3324869,\"photo\":\"https:\\/\\/secure.meetupstatic.com\\/photos\\/member\\/9\\/c\\/6\\/7\\/thumb_298420039.jpeg\",\"member_name\":\"Cookie\"},\"rsvp_id\":1886436073,\"mtime\":1631192506145,\"event\":{\"event_name\":\"LHSC Motivational Service with Christine Day\",\"event_id\":\"280652976\",\"time\":1635694200000,\"event_url\":\"https:\\/\\/www.meetup.com\\/lhsc-mn\\/events\\/280652976\\/\"},\"group\":{\"group_topics\":[{\"urlkey\":\"transformation\",\"topic_name\":\"Transformation\"},{\"urlkey\":\"self-exploration\",\"topic_name\":\"Self Exploration\"},{\"urlkey\":\"spirituality\",\"topic_name\":\"Spirituality\"},{\"urlkey\":\"meditation\",\"topic_name\":\"Meditation\"},{\"urlkey\":\"self-empowerment\",\"topic_name\":\"Self-Empowerment\"},{\"urlkey\":\"self-improvement\",\"topic_name\":\"Self-Improvement\"},{\"urlkey\":\"spiritual-growth\",\"topic_name\":\"Spiritual Growth\"},{\"urlkey\":\"consciousness\",\"topic_name\":\"Consciousness\"},{\"urlkey\":\"yoga\",\"topic_name\":\"Yoga\"},{\"urlkey\":\"personal-development\",\"topic_name\":\"Personal Development\"},{\"urlkey\":\"energy-healing\",\"topic_name\":\"Energy Healing\"},{\"urlkey\":\"metaphysics\",\"topic_name\":\"Metaphysics\"},{\"urlkey\":\"spiritual-awakening\",\"topic_name\":\"Spiritual Awakening\"}],\"group_city\":\"Minneapolis\",\"group_country\":\"us\",\"group_id\":945009,\"group_name\":\"Lake Harriet Spiritual Community (LHSC)\",\"group_lon\":-93.32,\"group_urlname\":\"lhsc-mn\",\"group_state\":\"MN\",\"group_lat\":44.91}}\n",
      "\n"
     ]
    },
    {
     "data": {
      "text/plain": [
       "False"
      ]
     },
     "execution_count": 5,
     "metadata": {},
     "output_type": "execute_result"
    }
   ],
   "source": [
    "import websocket\n",
    "\n",
    "def on_message(wsapp, message):\n",
    "    print(message)\n",
    "\n",
    "wsapp = websocket.WebSocketApp(\"wss://stream.meetup.com/2/rsvps\", on_message=on_message)\n",
    "wsapp.run_forever()"
   ]
  },
  {
   "cell_type": "code",
   "execution_count": null,
   "metadata": {},
   "outputs": [],
   "source": []
  },
  {
   "cell_type": "code",
   "execution_count": 8,
   "metadata": {},
   "outputs": [
    {
     "name": "stdout",
     "output_type": "stream",
     "text": [
      "{\"venue\":{\"venue_name\":\"Ben Brenman Dog Park\",\"lon\":-77.11299,\"lat\":38.80701,\"venue_id\":27090125},\"visibility\":\"public\",\"response\":\"yes\",\"guests\":0,\"member\":{\"member_id\":213214863,\"photo\":\"https:\\/\\/secure.meetupstatic.com\\/photos\\/member\\/8\\/2\\/9\\/2\\/thumb_303033426.jpeg\",\"member_name\":\"Kevin\"},\"rsvp_id\":1886438716,\"mtime\":1631194363024,\"event\":{\"event_name\":\"Volleyball Sand-Fri: Beginners\\/adv beginners\",\"event_id\":\"280660591\",\"time\":1631312100000,\"event_url\":\"https:\\/\\/www.meetup.com\\/Smiley-Social\\/events\\/280660591\\/\"},\"group\":{\"group_topics\":[{\"urlkey\":\"social\",\"topic_name\":\"Social\"},{\"urlkey\":\"volleyball\",\"topic_name\":\"Volleyball\"},{\"urlkey\":\"young-professionals\",\"topic_name\":\"Young Professionals\"},{\"urlkey\":\"20s-30s-social\",\"topic_name\":\"20's & 30's Social\"},{\"urlkey\":\"soccer\",\"topic_name\":\"Soccer\"},{\"urlkey\":\"pingpong\",\"topic_name\":\"Ping Pong\"},{\"urlkey\":\"doubles-volleyball\",\"topic_name\":\"Doubles Volleyball\"},{\"urlkey\":\"badminton\",\"topic_name\":\"Badminton\"},{\"urlkey\":\"running\",\"topic_name\":\"Running\"},{\"urlkey\":\"fitness\",\"topic_name\":\"Fitness\"},{\"urlkey\":\"outdoors\",\"topic_name\":\"Outdoors\"},{\"urlkey\":\"arlington-va\",\"topic_name\":\"Arlington Va\"},{\"urlkey\":\"tennis\",\"topic_name\":\"Tennis\"},{\"urlkey\":\"sports\",\"topic_name\":\"Sports and Recreation\"},{\"urlkey\":\"yoga\",\"topic_name\":\"Yoga\"}],\"group_city\":\"Arlington\",\"group_country\":\"us\",\"group_id\":27673469,\"group_name\":\"Smiley Social\",\"group_lon\":-77.1,\"group_urlname\":\"Smiley-Social\",\"group_state\":\"VA\",\"group_lat\":38.89}}\n",
      "\n",
      "{\"venue\":{\"venue_name\":\"Zürich Affoltern\",\"lon\":8.508286,\"lat\":47.420937,\"venue_id\":27164620},\"visibility\":\"public\",\"response\":\"yes\",\"guests\":0,\"member\":{\"member_id\":43298302,\"photo\":\"https:\\/\\/secure.meetupstatic.com\\/photos\\/member\\/4\\/8\\/0\\/a\\/thumb_181038442.jpeg\",\"member_name\":\"Giles (Granny Muff)\"},\"rsvp_id\":1886438717,\"mtime\":1631194363132,\"event\":{\"event_name\":\"ZH3 Hash # 1361:\",\"event_id\":\"qhgblsyccmbmb\",\"time\":1631205900000,\"event_url\":\"https:\\/\\/www.meetup.com\\/The-Zurich-Hash-House-Harriers\\/events\\/278065537\\/\"},\"group\":{\"group_topics\":[{\"urlkey\":\"jogging-friends\",\"topic_name\":\"Jogging Friends\"},{\"urlkey\":\"harriers\",\"topic_name\":\"Hash House Harriers\"},{\"urlkey\":\"socialnetwork\",\"topic_name\":\"Social Networking\"},{\"urlkey\":\"beer\",\"topic_name\":\"Beer\"},{\"urlkey\":\"newintown\",\"topic_name\":\"New In Town\"},{\"urlkey\":\"light-jogging-running\",\"topic_name\":\"Light jogging\\/running\"},{\"urlkey\":\"fun-times\",\"topic_name\":\"Fun Times\"}],\"group_city\":\"Zürich\",\"group_country\":\"ch\",\"group_id\":1502490,\"group_name\":\"The Zürich Hash House Harriers (ZH3)\",\"group_lon\":8.54,\"group_urlname\":\"The-Zurich-Hash-House-Harriers\",\"group_lat\":47.38}}\n",
      "\n",
      "{\"venue\":{\"venue_name\":\"Brighton Esplanade Hotel\",\"lon\":138.520233,\"lat\":-34.979984,\"venue_id\":24363213},\"visibility\":\"public\",\"response\":\"no\",\"guests\":0,\"member\":{\"member_id\":195450402,\"photo\":\"https:\\/\\/secure.meetupstatic.com\\/photos\\/member\\/e\\/0\\/c\\/1\\/thumb_282537537.jpeg\",\"member_name\":\"Julie\"},\"rsvp_id\":1884311367,\"mtime\":1631194363835,\"event\":{\"event_name\":\"Girl’s Night at the Espy \",\"event_id\":\"280253561\",\"time\":1631350800000,\"event_url\":\"https:\\/\\/www.meetup.com\\/Adelaide-Events-Activities-Group\\/events\\/280253561\\/\"},\"group\":{\"group_topics\":[{\"urlkey\":\"socialnetwork\",\"topic_name\":\"Social Networking\"},{\"urlkey\":\"fun-times\",\"topic_name\":\"Fun Times\"},{\"urlkey\":\"newintown\",\"topic_name\":\"New In Town\"},{\"urlkey\":\"outdoors\",\"topic_name\":\"Outdoors\"},{\"urlkey\":\"nightlife\",\"topic_name\":\"Nightlife\"},{\"urlkey\":\"singles\",\"topic_name\":\"Singles\"},{\"urlkey\":\"diningout\",\"topic_name\":\"Dining Out\"},{\"urlkey\":\"social\",\"topic_name\":\"Social\"},{\"urlkey\":\"hiking\",\"topic_name\":\"Hiking\"},{\"urlkey\":\"adventure\",\"topic_name\":\"Adventure\"},{\"urlkey\":\"outdoor-fitness\",\"topic_name\":\"Outdoor  Fitness\"},{\"urlkey\":\"walkers\",\"topic_name\":\"Walking\"},{\"urlkey\":\"livemusic\",\"topic_name\":\"Live Music\"},{\"urlkey\":\"dancing\",\"topic_name\":\"Dancing\"},{\"urlkey\":\"fitness\",\"topic_name\":\"Fitness\"}],\"group_city\":\"Adelaide\",\"group_country\":\"au\",\"group_id\":33173373,\"group_name\":\"Adelaide Events & Activities Group\",\"group_lon\":138.6,\"group_urlname\":\"Adelaide-Events-Activities-Group\",\"group_lat\":-34.93}}\n",
      "\n",
      "{\"venue\":{\"venue_name\":\"Riverfront Park\",\"lon\":-75.653296,\"lat\":40.243246,\"venue_id\":953058},\"visibility\":\"public\",\"response\":\"yes\",\"guests\":0,\"member\":{\"member_id\":232688141,\"photo\":\"https:\\/\\/secure.meetupstatic.com\\/photos\\/member\\/d\\/3\\/1\\/thumb_279363377.jpeg\",\"member_name\":\"frank burke\"},\"rsvp_id\":1886438695,\"mtime\":1631194341000,\"event\":{\"event_name\":\"Harry L Barok’s  River Trip on the  Schuykill \",\"event_id\":\"280256797\",\"time\":1632060000000,\"event_url\":\"https:\\/\\/www.meetup.com\\/Calling-All-Kayakers\\/events\\/280256797\\/\"},\"group\":{\"group_topics\":[{\"urlkey\":\"camping\",\"topic_name\":\"Camping\"},{\"urlkey\":\"kayaking\",\"topic_name\":\"Kayaking\"},{\"urlkey\":\"adventure\",\"topic_name\":\"Adventure\"},{\"urlkey\":\"outdoor-adventures\",\"topic_name\":\"Outdoor Adventures\"},{\"urlkey\":\"water-sports\",\"topic_name\":\"Water Sports\"},{\"urlkey\":\"kayak-camping\",\"topic_name\":\"Kayak Camping\"},{\"urlkey\":\"canoe\",\"topic_name\":\"Canoeing\"},{\"urlkey\":\"flat-water-kayaking\",\"topic_name\":\"Flat Water Kayaking\"},{\"urlkey\":\"ocean-kayaking\",\"topic_name\":\"Ocean Kayaking\"},{\"urlkey\":\"sea-and-lake-kayaking\",\"topic_name\":\"Sea and Lake Kayaking\"}],\"group_city\":\"Mount Laurel\",\"group_country\":\"us\",\"group_id\":20359970,\"group_name\":\"Calling All Kayakers\",\"group_lon\":-74.92,\"group_urlname\":\"Calling-All-Kayakers\",\"group_state\":\"NJ\",\"group_lat\":39.95}}\n",
      "\n",
      "{\"venue\":{\"venue_name\":\"Online event\",\"lon\":179.1962,\"lat\":-8.521147,\"venue_id\":26906060},\"visibility\":\"public\",\"response\":\"yes\",\"guests\":0,\"member\":{\"member_id\":281392715,\"photo\":\"https:\\/\\/secure.meetupstatic.com\\/photos\\/member\\/1\\/0\\/a\\/6\\/thumb_288364262.jpeg\",\"member_name\":\"Kelly Hwang\"},\"rsvp_id\":1886438718,\"mtime\":1631194364287,\"event\":{\"event_name\":\"Smart Contract Development with OpenZeppelin [Session 3 of 6: Price Oracles]\",\"event_id\":\"280332833\",\"time\":1631656800000,\"event_url\":\"https:\\/\\/www.meetup.com\\/BlockchainNYC\\/events\\/280332833\\/\"},\"group\":{\"group_topics\":[{\"urlkey\":\"bitcoin-security\",\"topic_name\":\"Bitcoin Security\"},{\"urlkey\":\"solidity\",\"topic_name\":\"Solidity\"},{\"urlkey\":\"bitcoin-miners\",\"topic_name\":\"Bitcoin Miners\"},{\"urlkey\":\"digital-currency\",\"topic_name\":\"Digital Currency\"},{\"urlkey\":\"cryptography\",\"topic_name\":\"Cryptography\"},{\"urlkey\":\"virtual-currency\",\"topic_name\":\"Virtual Currency\"},{\"urlkey\":\"bitcoin\",\"topic_name\":\"Bitcoin\"},{\"urlkey\":\"cryptocurrency\",\"topic_name\":\"Cryptocurrency\"},{\"urlkey\":\"smart-contracts\",\"topic_name\":\"Smart Contracts\"},{\"urlkey\":\"ethereum\",\"topic_name\":\"Ethereum\"},{\"urlkey\":\"blockchain\",\"topic_name\":\"Blockchain\"},{\"urlkey\":\"blockchain-security\",\"topic_name\":\"Blockchain Security\"},{\"urlkey\":\"blockchain-development\",\"topic_name\":\"Blockchain Development\"},{\"urlkey\":\"ethereum-blockchain\",\"topic_name\":\"Ethereum blockchain\"},{\"urlkey\":\"enterpreneurship\",\"topic_name\":\"Enterpreneurship\"}],\"group_city\":\"New York\",\"group_country\":\"us\",\"group_id\":26535745,\"group_name\":\"Blockchain NYC\",\"group_lon\":-73.99,\"group_urlname\":\"BlockchainNYC\",\"group_state\":\"NY\",\"group_lat\":40.75}}\n",
      "\n",
      "{\"venue\":{\"venue_name\":\"New York Marriott Marquis Times Square\",\"lon\":-73.98539,\"lat\":40.758602,\"venue_id\":771954},\"visibility\":\"public\",\"response\":\"no\",\"guests\":0,\"member\":{\"member_id\":258654883,\"photo\":\"https:\\/\\/secure.meetupstatic.com\\/photos\\/member\\/4\\/9\\/8\\/e\\/thumb_301218830.jpeg\",\"member_name\":\"Satiir Stevenson\"},\"rsvp_id\":1886438692,\"mtime\":1631194364431,\"event\":{\"event_name\":\"New York City's 28th Real Estate Deal Night & Mentoring Session\",\"event_id\":\"280270187\",\"time\":1632263400000,\"event_url\":\"https:\\/\\/www.meetup.com\\/New-York-Real-Estate-Investors-Association\\/events\\/280270187\\/\"},\"group\":{\"group_topics\":[{\"urlkey\":\"real-estate\",\"topic_name\":\"Real Estate\"},{\"urlkey\":\"real-estate-investors\",\"topic_name\":\"Real Estate Investors\"},{\"urlkey\":\"real-estate-investing\",\"topic_name\":\"Real Estate Investing\"},{\"urlkey\":\"real-estate-networking\",\"topic_name\":\"Real Estate Networking\"},{\"urlkey\":\"real-estate-investment-education\",\"topic_name\":\"Real Estate Investment Education\"},{\"urlkey\":\"realestateagent\",\"topic_name\":\"Real Estate Agent\"},{\"urlkey\":\"real-estate-foreclosures\",\"topic_name\":\"Real Estate Foreclosures\"},{\"urlkey\":\"cashflow\",\"topic_name\":\"Cashflow\"},{\"urlkey\":\"stock-trading\",\"topic_name\":\"Stock Trading\"},{\"urlkey\":\"commercial-real-estate\",\"topic_name\":\"Commercial Real Estate\"},{\"urlkey\":\"retirement\",\"topic_name\":\"Investing for Retirement\"},{\"urlkey\":\"beginner-new-real-estate-investor\",\"topic_name\":\"Beginner Real Estate Investing\"},{\"urlkey\":\"landlords\",\"topic_name\":\"Landlords\"},{\"urlkey\":\"entrepreneurship\",\"topic_name\":\"Entrepreneurship\"}],\"group_city\":\"New York\",\"group_country\":\"us\",\"group_id\":994314,\"group_name\":\"New York Real Estate Investors Association (REIA)\",\"group_lon\":-73.99,\"group_urlname\":\"New-York-Real-Estate-Investors-Association\",\"group_state\":\"NY\",\"group_lat\":40.75}}\n",
      "\n",
      "{\"venue\":{\"venue_name\":\"crooked branch ravine park\",\"lon\":-77.47554,\"lat\":37.513618,\"venue_id\":24659028},\"visibility\":\"public\",\"response\":\"yes\",\"guests\":0,\"member\":{\"member_id\":4198045,\"photo\":\"https:\\/\\/secure.meetupstatic.com\\/photos\\/member\\/b\\/f\\/e\\/4\\/thumb_268369124.jpeg\",\"member_name\":\"Geoff Cross\"},\"rsvp_id\":1886438719,\"mtime\":1631194365698,\"event\":{\"event_name\":\"Crooked Branch Ravine Park - Habitat Restoration \",\"event_id\":\"280344853\",\"time\":1631451600000,\"event_url\":\"https:\\/\\/www.meetup.com\\/RVA-Clean-Sweep\\/events\\/280344853\\/\"},\"group\":{\"group_topics\":[{\"urlkey\":\"social\",\"topic_name\":\"Social\"},{\"urlkey\":\"fun-times\",\"topic_name\":\"Fun Times\"},{\"urlkey\":\"socialnetwork\",\"topic_name\":\"Social Networking\"},{\"urlkey\":\"newintown\",\"topic_name\":\"New In Town\"},{\"urlkey\":\"community-outreach\",\"topic_name\":\"Community Outreach\"},{\"urlkey\":\"adventure\",\"topic_name\":\"Adventure\"},{\"urlkey\":\"outdoors\",\"topic_name\":\"Outdoors\"},{\"urlkey\":\"richmond\",\"topic_name\":\"richmond\"},{\"urlkey\":\"community-building\",\"topic_name\":\"Community Building\"},{\"urlkey\":\"environment\",\"topic_name\":\"Environment\"},{\"urlkey\":\"conservation\",\"topic_name\":\"Conservation\"},{\"urlkey\":\"volunteering\",\"topic_name\":\"Volunteering\"},{\"urlkey\":\"environmental-activism\",\"topic_name\":\"Environmental Activism\"},{\"urlkey\":\"community-service\",\"topic_name\":\"Community Service\"},{\"urlkey\":\"environmental-awareness\",\"topic_name\":\"Environmental Awareness\"}],\"group_city\":\"Richmond\",\"group_country\":\"us\",\"group_id\":13696342,\"group_name\":\"RVA Clean Sweep\",\"group_lon\":-77.46,\"group_urlname\":\"RVA-Clean-Sweep\",\"group_state\":\"VA\",\"group_lat\":37.55}}\n",
      "\n",
      "{\"venue\":{\"venue_name\":\"15 Windsor St\",\"lon\":-0.098956,\"lat\":51.537514,\"venue_id\":27171284},\"visibility\":\"public\",\"response\":\"yes\",\"guests\":0,\"member\":{\"member_id\":253207538,\"member_name\":\"pavlos pavlos\"},\"rsvp_id\":1886438720,\"mtime\":1631194366580,\"event\":{\"event_name\":\"Robotics 2.0 - Smart in the City\",\"event_id\":\"280617564\",\"time\":1632416400000,\"event_url\":\"https:\\/\\/www.meetup.com\\/Smart-City-Embedded-Electronics\\/events\\/280617564\\/\"},\"group\":{\"group_topics\":[{\"urlkey\":\"robotics\",\"topic_name\":\"Robotics\"},{\"urlkey\":\"electronics\",\"topic_name\":\"Electronics\"},{\"urlkey\":\"hardware-engineering\",\"topic_name\":\"Hardware Engineering\"},{\"urlkey\":\"automotive\",\"topic_name\":\"Automotive\"},{\"urlkey\":\"embedded-linux\",\"topic_name\":\"Embedded Linux\"},{\"urlkey\":\"embedded-systems-programming\",\"topic_name\":\"Embedded Systems Programming\"},{\"urlkey\":\"hardware\",\"topic_name\":\"Hardware\"},{\"urlkey\":\"automation\",\"topic_name\":\"Automation\"},{\"urlkey\":\"embedded-systems\",\"topic_name\":\"Embedded Systems\"},{\"urlkey\":\"microcontroler-and-electronics-designers\",\"topic_name\":\"Microcontroler and Electronics Designers\"},{\"urlkey\":\"artificial-intelligence-machine-learning-robotics\",\"topic_name\":\"Artificial Intelligence Machine Learning Robotics\"},{\"urlkey\":\"iot-security\",\"topic_name\":\"IoT Security\"}],\"group_city\":\"London\",\"group_country\":\"gb\",\"group_id\":32877797,\"group_name\":\"Smart in the City - Embedded and Electronics\",\"group_lon\":-0.1,\"group_urlname\":\"Smart-City-Embedded-Electronics\",\"group_lat\":51.52}}\n",
      "\n",
      "{\"venue\":{\"venue_name\":\"Racketworld\",\"lon\":16.309887,\"lat\":48.206364,\"venue_id\":27108032},\"visibility\":\"public\",\"response\":\"yes\",\"guests\":0,\"member\":{\"member_id\":218520518,\"photo\":\"https:\\/\\/secure.meetupstatic.com\\/photos\\/member\\/a\\/3\\/b\\/0\\/thumb_262721904.jpeg\",\"member_name\":\"Roshan Chandwankar\"},\"rsvp_id\":1886438722,\"mtime\":1631194367812,\"event\":{\"event_name\":\"Badminton Thursday 20:00 Racketworld U3 Kendlerstraße\\/Ottakring\",\"event_id\":\"bkqgpsyccmbmb\",\"time\":1631210400000,\"event_url\":\"https:\\/\\/www.meetup.com\\/Internationals-in-Wien\\/events\\/280272163\\/\"},\"group\":{\"group_topics\":[{\"urlkey\":\"fun-times\",\"topic_name\":\"Fun Times\"},{\"urlkey\":\"socialnetwork\",\"topic_name\":\"Social Networking\"},{\"urlkey\":\"culture\",\"topic_name\":\"Culture\"},{\"urlkey\":\"social\",\"topic_name\":\"Social\"},{\"urlkey\":\"newintown\",\"topic_name\":\"New In Town\"},{\"urlkey\":\"german\",\"topic_name\":\"German Language\"},{\"urlkey\":\"diningout\",\"topic_name\":\"Dining Out\"},{\"urlkey\":\"livemusic\",\"topic_name\":\"Live Music\"},{\"urlkey\":\"film\",\"topic_name\":\"Film\"},{\"urlkey\":\"english-language\",\"topic_name\":\"English Language\"},{\"urlkey\":\"outdoors\",\"topic_name\":\"Outdoors\"}],\"group_city\":\"Vienna\",\"group_country\":\"at\",\"group_id\":1584061,\"group_name\":\"Internationals in Wien\",\"group_lon\":16.37,\"group_urlname\":\"Internationals-in-Wien\",\"group_lat\":48.22}}\n",
      "\n",
      "{\"venue\":{\"venue_name\":\"Online event\",\"lon\":179.1962,\"lat\":-8.521147,\"venue_id\":26906060},\"visibility\":\"public\",\"response\":\"yes\",\"guests\":0,\"member\":{\"member_id\":329265200,\"photo\":\"https:\\/\\/secure.meetupstatic.com\\/photos\\/member\\/2\\/d\\/1\\/c\\/thumb_304211548.jpeg\",\"member_name\":\"RBan\"},\"rsvp_id\":1886438723,\"mtime\":1631194368390,\"event\":{\"event_name\":\"Wisdom Satsang with Mike Limauro\",\"event_id\":\"kjdrwryccmbmb\",\"time\":1631230200000,\"event_url\":\"https:\\/\\/www.meetup.com\\/Ferndale-Ananda-Meditation-Center\\/events\\/280549023\\/\"},\"group\":{\"group_topics\":[{\"urlkey\":\"self-improvement\",\"topic_name\":\"Self-Improvement\"},{\"urlkey\":\"spirituality\",\"topic_name\":\"Spirituality\"},{\"urlkey\":\"yoga\",\"topic_name\":\"Yoga\"},{\"urlkey\":\"meditation\",\"topic_name\":\"Meditation\"},{\"urlkey\":\"finding-peace-within\",\"topic_name\":\"Finding Peace Within\"},{\"urlkey\":\"stress-relief\",\"topic_name\":\"Stress Relief\"},{\"urlkey\":\"self-realization\",\"topic_name\":\"Self-Realization\"},{\"urlkey\":\"inner-peace\",\"topic_name\":\"Inner peace\"},{\"urlkey\":\"paramhansa-yogananda\",\"topic_name\":\"Paramhansa Yogananda\"},{\"urlkey\":\"soul-awakening\",\"topic_name\":\"Soul Awakening\"},{\"urlkey\":\"consciousness\",\"topic_name\":\"Consciousness\"},{\"urlkey\":\"ananda\",\"topic_name\":\"Ananda\"},{\"urlkey\":\"mysticism\",\"topic_name\":\"Mysticism\"},{\"urlkey\":\"paramahansa-yogananda\",\"topic_name\":\"Paramahansa Yogananda\"}],\"group_city\":\"Ferndale\",\"group_country\":\"us\",\"group_id\":1577469,\"group_name\":\"Ananda Ferndale Center for Yoga & Meditation\",\"group_lon\":-83.14,\"group_urlname\":\"Ferndale-Ananda-Meditation-Center\",\"group_state\":\"MI\",\"group_lat\":42.46}}\n",
      "\n",
      "{\"venue\":{\"venue_name\":\"Stormont Pavillion\",\"lon\":-5.90127,\"lat\":54.599258,\"venue_id\":7190992},\"visibility\":\"public\",\"response\":\"yes\",\"guests\":0,\"member\":{\"member_id\":293269214,\"photo\":\"https:\\/\\/secure.meetupstatic.com\\/photos\\/member\\/b\\/e\\/d\\/1\\/thumb_293748849.jpeg\",\"member_name\":\"Gerard\"},\"rsvp_id\":1886438725,\"mtime\":1631194372282,\"event\":{\"event_name\":\"8 aside Football\",\"event_id\":\"280558596\",\"time\":1631358000000,\"event_url\":\"https:\\/\\/www.meetup.com\\/meetup-group-PxDJxEtn\\/events\\/280558596\\/\"},\"group\":{\"group_topics\":[{\"urlkey\":\"soccer\",\"topic_name\":\"Soccer\"},{\"urlkey\":\"outdoor-soccer\",\"topic_name\":\"Outdoor Soccer\"},{\"urlkey\":\"5-a-side-soccer\",\"topic_name\":\"5-a-side Soccer\"}],\"group_city\":\"Belfast\",\"group_country\":\"gb\",\"group_id\":26095792,\"group_name\":\"Football Meetup\",\"group_lon\":-5.93,\"group_urlname\":\"meetup-group-PxDJxEtn\",\"group_lat\":54.6}}\n",
      "\n"
     ]
    },
    {
     "data": {
      "text/plain": [
       "False"
      ]
     },
     "execution_count": 8,
     "metadata": {},
     "output_type": "execute_result"
    }
   ],
   "source": [
    "import websocket\n",
    "\n",
    "def on_message(wsapp, message):\n",
    "    print(message)\n",
    "\n",
    "wsapp = websocket.WebSocketApp(\"wss://stream.meetup.com/2/rsvps\",\n",
    "  header={\"CustomHeader1\":\"123\", \"NewHeader2\":\"Test\"}, on_message=on_message)\n",
    "wsapp.run_forever()"
   ]
  },
  {
   "cell_type": "code",
   "execution_count": null,
   "metadata": {},
   "outputs": [],
   "source": []
  }
 ],
 "metadata": {
  "kernelspec": {
   "display_name": "Python 3 (ipykernel)",
   "language": "python",
   "name": "python3"
  },
  "language_info": {
   "codemirror_mode": {
    "name": "ipython",
    "version": 3
   },
   "file_extension": ".py",
   "mimetype": "text/x-python",
   "name": "python",
   "nbconvert_exporter": "python",
   "pygments_lexer": "ipython3",
   "version": "3.9.12"
  }
 },
 "nbformat": 4,
 "nbformat_minor": 4
}
