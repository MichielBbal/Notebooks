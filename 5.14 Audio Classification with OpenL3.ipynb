{
 "cells": [
  {
   "cell_type": "markdown",
   "metadata": {},
   "source": [
    "# Audio with OpenL3"
   ]
  },
  {
   "cell_type": "markdown",
   "metadata": {},
   "source": []
  },
  {
   "cell_type": "markdown",
   "metadata": {},
   "source": [
    "## 0. Install packages"
   ]
  },
  {
   "cell_type": "code",
   "execution_count": 1,
   "metadata": {},
   "outputs": [
    {
     "name": "stdout",
     "output_type": "stream",
     "text": [
      "Collecting pysoundfile\n",
      "  Downloading PySoundFile-0.9.0.post1-py2.py3.cp26.cp27.cp32.cp33.cp34.cp35.cp36.pp27.pp32.pp33-none-win_amd64.whl (671 kB)\n",
      "Requirement already satisfied: cffi>=0.6 in c:\\users\\31653\\anaconda3\\lib\\site-packages (from pysoundfile) (1.14.3)\n",
      "Requirement already satisfied: pycparser in c:\\users\\31653\\anaconda3\\lib\\site-packages (from cffi>=0.6->pysoundfile) (2.20)\n",
      "Installing collected packages: pysoundfile\n",
      "Successfully installed pysoundfile-0.9.0.post1\n",
      "Note: you may need to restart the kernel to use updated packages.\n"
     ]
    }
   ],
   "source": [
    "!pip install pysoundfile"
   ]
  },
  {
   "cell_type": "markdown",
   "metadata": {},
   "source": [
    "### installing h5py => not working (Windows)\n",
    "\n",
    "The h5py package provides both a high- and low-level interface to the HDF5 library from Python.\n",
    "HDF5 lets you store huge amounts of numerical data, and easily manipulate that data from NumPy.\n",
    "- source: https://pypi.org/project/h5py/\n",
    "- installation: https://docs.h5py.org/en/latest/index.html\n",
    "\n",
    "Or try 'conda install h5py' => this took me >15 minutes"
   ]
  },
  {
   "cell_type": "code",
   "execution_count": 1,
   "metadata": {},
   "outputs": [
    {
     "name": "stdout",
     "output_type": "stream",
     "text": [
      "Collecting package metadata (current_repodata.json): done\n",
      "Solving environment: | \n",
      "The environment is inconsistent, please check the package plan carefully\n",
      "The following packages are causing the inconsistency:\n",
      "\n",
      "  - defaults/noarch::holoviews==1.14.8=pyhd3eb1b0_0\n",
      "  - defaults/osx-64::notebook==6.4.8=py39hecd8cb5_0\n",
      "  - defaults/noarch::requests-file==1.5.1=pyhd3eb1b0_0\n",
      "  - defaults/noarch::smart_open==5.1.0=pyhd3eb1b0_0\n",
      "  - defaults/noarch::nbclassic==0.3.5=pyhd3eb1b0_0\n",
      "  - defaults/osx-64::jupyter==1.0.0=py39hecd8cb5_7\n",
      "  - defaults/noarch::cookiecutter==1.7.3=pyhd3eb1b0_0\n",
      "  - defaults/noarch::itemloaders==1.0.4=pyhd3eb1b0_1\n",
      "  - defaults/noarch::google-cloud-core==1.7.1=pyhd3eb1b0_0\n",
      "  - defaults/osx-64::anaconda==2022.05=py39_0\n",
      "  - defaults/noarch::datashader==0.13.0=pyhd3eb1b0_1\n",
      "  - defaults/noarch::conda-repo-cli==1.0.4=pyhd3eb1b0_0\n",
      "  - defaults/osx-64::conda-build==3.21.8=py39hecd8cb5_2\n",
      "  - defaults/osx-64::parsel==1.6.0=py39hecd8cb5_0\n",
      "  - defaults/noarch::sphinx==4.4.0=pyhd3eb1b0_0\n",
      "  - defaults/osx-64::ipython==8.2.0=py39hecd8cb5_0\n",
      "  - defaults/noarch::numpydoc==1.2=pyhd3eb1b0_0\n",
      "  - defaults/osx-64::scrapy==2.6.1=py39hecd8cb5_0\n",
      "  - defaults/osx-64::pyct==0.4.6=py39hecd8cb5_0\n",
      "  - defaults/noarch::google-auth==1.33.0=pyhd3eb1b0_0\n",
      "  - defaults/noarch::anaconda-project==0.10.2=pyhd3eb1b0_0\n",
      "  - defaults/osx-64::spyder-kernels==2.1.3=py39hecd8cb5_0\n",
      "  - defaults/noarch::qtconsole==5.3.0=pyhd3eb1b0_0\n",
      "  - defaults/osx-64::_ipyw_jlab_nb_ext_conf==0.1.0=py39hecd8cb5_1\n",
      "  - defaults/osx-64::anaconda-navigator==2.1.4=py39hecd8cb5_0\n",
      "  - defaults/noarch::jupyterlab_server==2.10.3=pyhd3eb1b0_1\n",
      "  - defaults/osx-64::ipykernel==6.9.1=py39hecd8cb5_0\n",
      "  - defaults/osx-64::gensim==4.1.2=py39he9d5cce_0\n",
      "  - defaults/noarch::jupyter_console==6.4.0=pyhd3eb1b0_0\n",
      "  - defaults/osx-64::anaconda-client==1.9.0=py39hecd8cb5_0\n",
      "  - defaults/noarch::intake==0.6.5=pyhd3eb1b0_0\n",
      "  - defaults/noarch::google-cloud-storage==1.31.0=py_0\n",
      "  - defaults/osx-64::spyder==5.1.5=py39hecd8cb5_1\n",
      "  - defaults/noarch::hvplot==0.7.3=pyhd3eb1b0_1\n",
      "  - defaults/noarch::ipywidgets==7.6.5=pyhd3eb1b0_1\n",
      "  - defaults/noarch::colorcet==2.0.6=pyhd3eb1b0_0\n",
      "  - defaults/noarch::conda-token==0.3.0=pyhd3eb1b0_0\n",
      "  - defaults/osx-64::conda==4.12.0=py39hecd8cb5_0\n",
      "  - defaults/noarch::jupyterlab==3.3.2=pyhd3eb1b0_0\n",
      "  - defaults/osx-64::widgetsnbextension==3.5.2=py39hecd8cb5_0\n",
      "  - defaults/noarch::tldextract==3.2.0=pyhd3eb1b0_0\n",
      "  - defaults/osx-64::panel==0.13.0=py39hecd8cb5_0\n",
      "done\n",
      "\n",
      "\n",
      "==> WARNING: A newer version of conda exists. <==\n",
      "  current version: 4.12.0\n",
      "  latest version: 22.9.0\n",
      "\n",
      "Please update conda by running\n",
      "\n",
      "    $ conda update -n base -c defaults conda\n",
      "\n",
      "\n",
      "\n",
      "## Package Plan ##\n",
      "\n",
      "  environment location: /Users/michielbontenbal/opt/anaconda3\n",
      "\n",
      "  added / updated specs:\n",
      "    - h5py\n",
      "\n",
      "\n",
      "The following packages will be downloaded:\n",
      "\n",
      "    package                    |            build\n",
      "    ---------------------------|-----------------\n",
      "    _anaconda_depends-2022.05  |           py39_0           7 KB\n",
      "    anaconda-custom            |           py39_1           4 KB\n",
      "    ca-certificates-2022.07.19 |       hecd8cb5_0         124 KB\n",
      "    certifi-2022.9.24          |   py39hecd8cb5_0         155 KB\n",
      "    googleapis-common-protos-1.56.4|   py39hecd8cb5_0         130 KB\n",
      "    h5py-3.7.0                 |   py39h4a1dd59_0         969 KB\n",
      "    openssl-1.1.1q             |       hca72f7f_0         2.2 MB\n",
      "    requests-2.28.1            |   py39hecd8cb5_0          93 KB\n",
      "    ------------------------------------------------------------\n",
      "                                           Total:         3.7 MB\n",
      "\n",
      "The following NEW packages will be INSTALLED:\n",
      "\n",
      "  _anaconda_depends  pkgs/main/osx-64::_anaconda_depends-2022.05-py39_0\n",
      "  decorator          pkgs/main/noarch::decorator-5.1.1-pyhd3eb1b0_0\n",
      "  google-api-core    pkgs/main/noarch::google-api-core-1.25.1-pyhd3eb1b0_0\n",
      "  googleapis-common~ pkgs/main/osx-64::googleapis-common-protos-1.56.4-py39hecd8cb5_0\n",
      "  h5py               pkgs/main/osx-64::h5py-3.7.0-py39h4a1dd59_0\n",
      "  lxml               pkgs/main/osx-64::lxml-4.8.0-py39h65b224f_0\n",
      "  protobuf           pkgs/main/osx-64::protobuf-3.19.1-py39he9d5cce_0\n",
      "  requests           pkgs/main/osx-64::requests-2.28.1-py39hecd8cb5_0\n",
      "\n",
      "The following packages will be UPDATED:\n",
      "\n",
      "  ca-certificates                      2022.3.29-hecd8cb5_1 --> 2022.07.19-hecd8cb5_0\n",
      "  certifi                          2021.10.8-py39hecd8cb5_2 --> 2022.9.24-py39hecd8cb5_0\n",
      "  openssl                                 1.1.1n-hca72f7f_0 --> 1.1.1q-hca72f7f_0\n",
      "\n",
      "The following packages will be DOWNGRADED:\n",
      "\n",
      "  anaconda                                   2022.05-py39_0 --> custom-py39_1\n",
      "\n",
      "\n",
      "\n",
      "Downloading and Extracting Packages\n",
      "openssl-1.1.1q       | 2.2 MB    | ##################################### | 100% \n",
      "ca-certificates-2022 | 124 KB    | ##################################### | 100% \n",
      "googleapis-common-pr | 130 KB    | ##################################### | 100% \n",
      "h5py-3.7.0           | 969 KB    | ##################################### | 100% \n",
      "certifi-2022.9.24    | 155 KB    | ##################################### | 100% \n",
      "requests-2.28.1      | 93 KB     | ##################################### | 100% \n",
      "anaconda-custom      | 4 KB      | ##################################### | 100% \n",
      "_anaconda_depends-20 | 7 KB      | ##################################### | 100% \n",
      "Preparing transaction: done\n",
      "Verifying transaction: failed\n",
      "\n",
      "RemoveError: 'requests' is a dependency of conda and cannot be removed from\n",
      "conda's operating environment.\n",
      "\n",
      "\n",
      "Note: you may need to restart the kernel to use updated packages.\n"
     ]
    }
   ],
   "source": [
    "conda install h5py"
   ]
  },
  {
   "cell_type": "code",
   "execution_count": 5,
   "metadata": {},
   "outputs": [
    {
     "name": "stdout",
     "output_type": "stream",
     "text": [
      "Requirement already satisfied: h5py in c:\\users\\michiel\\anaconda3\\lib\\site-packages (3.6.0)\n",
      "Requirement already satisfied: numpy>=1.14.5 in c:\\users\\michiel\\anaconda3\\lib\\site-packages (from h5py) (1.21.5)\n"
     ]
    }
   ],
   "source": [
    "!pip install h5py"
   ]
  },
  {
   "cell_type": "code",
   "execution_count": 2,
   "metadata": {},
   "outputs": [
    {
     "name": "stdout",
     "output_type": "stream",
     "text": [
      "Requirement already satisfied: openl3 in /Users/michielbontenbal/opt/anaconda3/lib/python3.9/site-packages (0.4.1)\n",
      "Requirement already satisfied: kapre>=0.3.5 in /Users/michielbontenbal/opt/anaconda3/lib/python3.9/site-packages (from openl3) (0.3.7)\n",
      "Requirement already satisfied: moviepy>=1.0.0 in /Users/michielbontenbal/opt/anaconda3/lib/python3.9/site-packages (from openl3) (1.0.3)\n",
      "Requirement already satisfied: h5py<3.0.0,>=2.7.0 in /Users/michielbontenbal/opt/anaconda3/lib/python3.9/site-packages (from openl3) (2.10.0)\n",
      "Requirement already satisfied: tensorflow>=2.0.0 in /Users/michielbontenbal/opt/anaconda3/lib/python3.9/site-packages (from openl3) (2.9.1)\n",
      "Requirement already satisfied: scikit-image>=0.14.3librosa>=0.7.2 in /Users/michielbontenbal/opt/anaconda3/lib/python3.9/site-packages (from openl3) (0.19.2)\n",
      "Requirement already satisfied: soundfile>=0.9.0.post1 in /Users/michielbontenbal/opt/anaconda3/lib/python3.9/site-packages (from openl3) (0.10.3.post1)\n",
      "Requirement already satisfied: scipy>=0.19.1 in /Users/michielbontenbal/opt/anaconda3/lib/python3.9/site-packages (from openl3) (1.7.3)\n",
      "Requirement already satisfied: numpy>=1.13.0 in /Users/michielbontenbal/opt/anaconda3/lib/python3.9/site-packages (from openl3) (1.21.5)\n",
      "Requirement already satisfied: resampy<0.3.0,>=0.2.1 in /Users/michielbontenbal/opt/anaconda3/lib/python3.9/site-packages (from openl3) (0.2.2)\n",
      "Requirement already satisfied: six in /Users/michielbontenbal/opt/anaconda3/lib/python3.9/site-packages (from h5py<3.0.0,>=2.7.0->openl3) (1.16.0)\n",
      "Requirement already satisfied: librosa>=0.7.2 in /Users/michielbontenbal/opt/anaconda3/lib/python3.9/site-packages (from kapre>=0.3.5->openl3) (0.9.2)\n",
      "Requirement already satisfied: joblib>=0.14 in /Users/michielbontenbal/opt/anaconda3/lib/python3.9/site-packages (from librosa>=0.7.2->kapre>=0.3.5->openl3) (1.1.0)\n",
      "Requirement already satisfied: decorator>=4.0.10 in /Users/michielbontenbal/opt/anaconda3/lib/python3.9/site-packages (from librosa>=0.7.2->kapre>=0.3.5->openl3) (4.4.2)\n",
      "Requirement already satisfied: scikit-learn>=0.19.1 in /Users/michielbontenbal/opt/anaconda3/lib/python3.9/site-packages (from librosa>=0.7.2->kapre>=0.3.5->openl3) (1.0.2)\n",
      "Requirement already satisfied: numba>=0.45.1 in /Users/michielbontenbal/opt/anaconda3/lib/python3.9/site-packages (from librosa>=0.7.2->kapre>=0.3.5->openl3) (0.55.1)\n",
      "Requirement already satisfied: audioread>=2.1.9 in /Users/michielbontenbal/opt/anaconda3/lib/python3.9/site-packages (from librosa>=0.7.2->kapre>=0.3.5->openl3) (3.0.0)\n",
      "Requirement already satisfied: pooch>=1.0 in /Users/michielbontenbal/opt/anaconda3/lib/python3.9/site-packages (from librosa>=0.7.2->kapre>=0.3.5->openl3) (1.6.0)\n",
      "Requirement already satisfied: packaging>=20.0 in /Users/michielbontenbal/opt/anaconda3/lib/python3.9/site-packages (from librosa>=0.7.2->kapre>=0.3.5->openl3) (21.3)\n",
      "Requirement already satisfied: proglog<=1.0.0 in /Users/michielbontenbal/opt/anaconda3/lib/python3.9/site-packages (from moviepy>=1.0.0->openl3) (0.1.10)\n",
      "Requirement already satisfied: tqdm<5.0,>=4.11.2 in /Users/michielbontenbal/opt/anaconda3/lib/python3.9/site-packages (from moviepy>=1.0.0->openl3) (4.64.0)\n",
      "Requirement already satisfied: imageio-ffmpeg>=0.2.0 in /Users/michielbontenbal/opt/anaconda3/lib/python3.9/site-packages (from moviepy>=1.0.0->openl3) (0.4.7)\n",
      "Requirement already satisfied: requests<3.0,>=2.8.1 in /Users/michielbontenbal/opt/anaconda3/lib/python3.9/site-packages (from moviepy>=1.0.0->openl3) (2.28.1)\n",
      "Requirement already satisfied: imageio<3.0,>=2.5 in /Users/michielbontenbal/opt/anaconda3/lib/python3.9/site-packages (from moviepy>=1.0.0->openl3) (2.9.0)\n",
      "Requirement already satisfied: pillow in /Users/michielbontenbal/opt/anaconda3/lib/python3.9/site-packages (from imageio<3.0,>=2.5->moviepy>=1.0.0->openl3) (9.0.1)\n",
      "Requirement already satisfied: llvmlite<0.39,>=0.38.0rc1 in /Users/michielbontenbal/opt/anaconda3/lib/python3.9/site-packages (from numba>=0.45.1->librosa>=0.7.2->kapre>=0.3.5->openl3) (0.38.0)\n",
      "Requirement already satisfied: setuptools in /Users/michielbontenbal/opt/anaconda3/lib/python3.9/site-packages (from numba>=0.45.1->librosa>=0.7.2->kapre>=0.3.5->openl3) (61.2.0)\n",
      "Requirement already satisfied: pyparsing!=3.0.5,>=2.0.2 in /Users/michielbontenbal/opt/anaconda3/lib/python3.9/site-packages (from packaging>=20.0->librosa>=0.7.2->kapre>=0.3.5->openl3) (3.0.4)\n",
      "Requirement already satisfied: appdirs>=1.3.0 in /Users/michielbontenbal/opt/anaconda3/lib/python3.9/site-packages (from pooch>=1.0->librosa>=0.7.2->kapre>=0.3.5->openl3) (1.4.4)\n",
      "Requirement already satisfied: certifi>=2017.4.17 in /Users/michielbontenbal/opt/anaconda3/lib/python3.9/site-packages (from requests<3.0,>=2.8.1->moviepy>=1.0.0->openl3) (2021.10.8)\n",
      "Requirement already satisfied: urllib3<1.27,>=1.21.1 in /Users/michielbontenbal/opt/anaconda3/lib/python3.9/site-packages (from requests<3.0,>=2.8.1->moviepy>=1.0.0->openl3) (1.26.9)\n",
      "Requirement already satisfied: idna<4,>=2.5 in /Users/michielbontenbal/opt/anaconda3/lib/python3.9/site-packages (from requests<3.0,>=2.8.1->moviepy>=1.0.0->openl3) (3.3)\n",
      "Requirement already satisfied: charset-normalizer<3,>=2 in /Users/michielbontenbal/opt/anaconda3/lib/python3.9/site-packages (from requests<3.0,>=2.8.1->moviepy>=1.0.0->openl3) (2.0.4)\n",
      "Requirement already satisfied: PyWavelets>=1.1.1 in /Users/michielbontenbal/opt/anaconda3/lib/python3.9/site-packages (from scikit-image>=0.14.3librosa>=0.7.2->openl3) (1.3.0)\n",
      "Requirement already satisfied: networkx>=2.2 in /Users/michielbontenbal/opt/anaconda3/lib/python3.9/site-packages (from scikit-image>=0.14.3librosa>=0.7.2->openl3) (2.7.1)\n",
      "Requirement already satisfied: tifffile>=2019.7.26 in /Users/michielbontenbal/opt/anaconda3/lib/python3.9/site-packages (from scikit-image>=0.14.3librosa>=0.7.2->openl3) (2021.7.2)\n",
      "Requirement already satisfied: threadpoolctl>=2.0.0 in /Users/michielbontenbal/opt/anaconda3/lib/python3.9/site-packages (from scikit-learn>=0.19.1->librosa>=0.7.2->kapre>=0.3.5->openl3) (2.2.0)\n",
      "Requirement already satisfied: cffi>=1.0 in /Users/michielbontenbal/opt/anaconda3/lib/python3.9/site-packages (from soundfile>=0.9.0.post1->openl3) (1.15.0)\n",
      "Requirement already satisfied: pycparser in /Users/michielbontenbal/opt/anaconda3/lib/python3.9/site-packages (from cffi>=1.0->soundfile>=0.9.0.post1->openl3) (2.21)\n",
      "Requirement already satisfied: tensorflow-io-gcs-filesystem>=0.23.1 in /Users/michielbontenbal/opt/anaconda3/lib/python3.9/site-packages (from tensorflow>=2.0.0->openl3) (0.26.0)\n",
      "Requirement already satisfied: keras<2.10.0,>=2.9.0rc0 in /Users/michielbontenbal/opt/anaconda3/lib/python3.9/site-packages (from tensorflow>=2.0.0->openl3) (2.9.0)\n",
      "Requirement already satisfied: gast<=0.4.0,>=0.2.1 in /Users/michielbontenbal/opt/anaconda3/lib/python3.9/site-packages (from tensorflow>=2.0.0->openl3) (0.4.0)\n",
      "Requirement already satisfied: typing-extensions>=3.6.6 in /Users/michielbontenbal/opt/anaconda3/lib/python3.9/site-packages (from tensorflow>=2.0.0->openl3) (4.1.1)\n",
      "Requirement already satisfied: flatbuffers<2,>=1.12 in /Users/michielbontenbal/opt/anaconda3/lib/python3.9/site-packages (from tensorflow>=2.0.0->openl3) (1.12)\n",
      "Requirement already satisfied: opt-einsum>=2.3.2 in /Users/michielbontenbal/opt/anaconda3/lib/python3.9/site-packages (from tensorflow>=2.0.0->openl3) (3.3.0)\n",
      "Requirement already satisfied: wrapt>=1.11.0 in /Users/michielbontenbal/opt/anaconda3/lib/python3.9/site-packages (from tensorflow>=2.0.0->openl3) (1.12.1)\n",
      "Requirement already satisfied: protobuf<3.20,>=3.9.2 in /Users/michielbontenbal/opt/anaconda3/lib/python3.9/site-packages (from tensorflow>=2.0.0->openl3) (3.19.5)\n",
      "Requirement already satisfied: astunparse>=1.6.0 in /Users/michielbontenbal/opt/anaconda3/lib/python3.9/site-packages (from tensorflow>=2.0.0->openl3) (1.6.3)\n",
      "Requirement already satisfied: grpcio<2.0,>=1.24.3 in /Users/michielbontenbal/opt/anaconda3/lib/python3.9/site-packages (from tensorflow>=2.0.0->openl3) (1.42.0)\n",
      "Requirement already satisfied: google-pasta>=0.1.1 in /Users/michielbontenbal/opt/anaconda3/lib/python3.9/site-packages (from tensorflow>=2.0.0->openl3) (0.2.0)\n",
      "Requirement already satisfied: tensorflow-estimator<2.10.0,>=2.9.0rc0 in /Users/michielbontenbal/opt/anaconda3/lib/python3.9/site-packages (from tensorflow>=2.0.0->openl3) (2.9.0)\n",
      "Requirement already satisfied: termcolor>=1.1.0 in /Users/michielbontenbal/opt/anaconda3/lib/python3.9/site-packages (from tensorflow>=2.0.0->openl3) (1.1.0)\n",
      "Requirement already satisfied: tensorboard<2.10,>=2.9 in /Users/michielbontenbal/opt/anaconda3/lib/python3.9/site-packages (from tensorflow>=2.0.0->openl3) (2.9.1)\n",
      "Requirement already satisfied: libclang>=13.0.0 in /Users/michielbontenbal/opt/anaconda3/lib/python3.9/site-packages (from tensorflow>=2.0.0->openl3) (14.0.6)\n",
      "Requirement already satisfied: keras-preprocessing>=1.1.1 in /Users/michielbontenbal/opt/anaconda3/lib/python3.9/site-packages (from tensorflow>=2.0.0->openl3) (1.1.2)\n",
      "Requirement already satisfied: absl-py>=1.0.0 in /Users/michielbontenbal/opt/anaconda3/lib/python3.9/site-packages (from tensorflow>=2.0.0->openl3) (1.2.0)\n"
     ]
    },
    {
     "name": "stdout",
     "output_type": "stream",
     "text": [
      "Requirement already satisfied: wheel<1.0,>=0.23.0 in /Users/michielbontenbal/opt/anaconda3/lib/python3.9/site-packages (from astunparse>=1.6.0->tensorflow>=2.0.0->openl3) (0.37.1)\n",
      "Requirement already satisfied: tensorboard-data-server<0.7.0,>=0.6.0 in /Users/michielbontenbal/opt/anaconda3/lib/python3.9/site-packages (from tensorboard<2.10,>=2.9->tensorflow>=2.0.0->openl3) (0.6.1)\n",
      "Requirement already satisfied: werkzeug>=1.0.1 in /Users/michielbontenbal/opt/anaconda3/lib/python3.9/site-packages (from tensorboard<2.10,>=2.9->tensorflow>=2.0.0->openl3) (2.0.3)\n",
      "Requirement already satisfied: tensorboard-plugin-wit>=1.6.0 in /Users/michielbontenbal/opt/anaconda3/lib/python3.9/site-packages (from tensorboard<2.10,>=2.9->tensorflow>=2.0.0->openl3) (1.8.1)\n",
      "Requirement already satisfied: google-auth<3,>=1.6.3 in /Users/michielbontenbal/opt/anaconda3/lib/python3.9/site-packages (from tensorboard<2.10,>=2.9->tensorflow>=2.0.0->openl3) (1.33.0)\n",
      "Requirement already satisfied: google-auth-oauthlib<0.5,>=0.4.1 in /Users/michielbontenbal/opt/anaconda3/lib/python3.9/site-packages (from tensorboard<2.10,>=2.9->tensorflow>=2.0.0->openl3) (0.4.6)\n",
      "Requirement already satisfied: markdown>=2.6.8 in /Users/michielbontenbal/opt/anaconda3/lib/python3.9/site-packages (from tensorboard<2.10,>=2.9->tensorflow>=2.0.0->openl3) (3.3.4)\n",
      "Requirement already satisfied: pyasn1-modules>=0.2.1 in /Users/michielbontenbal/opt/anaconda3/lib/python3.9/site-packages (from google-auth<3,>=1.6.3->tensorboard<2.10,>=2.9->tensorflow>=2.0.0->openl3) (0.2.8)\n",
      "Requirement already satisfied: rsa<5,>=3.1.4 in /Users/michielbontenbal/opt/anaconda3/lib/python3.9/site-packages (from google-auth<3,>=1.6.3->tensorboard<2.10,>=2.9->tensorflow>=2.0.0->openl3) (4.7.2)\n",
      "Requirement already satisfied: cachetools<5.0,>=2.0.0 in /Users/michielbontenbal/opt/anaconda3/lib/python3.9/site-packages (from google-auth<3,>=1.6.3->tensorboard<2.10,>=2.9->tensorflow>=2.0.0->openl3) (4.2.2)\n",
      "Requirement already satisfied: requests-oauthlib>=0.7.0 in /Users/michielbontenbal/opt/anaconda3/lib/python3.9/site-packages (from google-auth-oauthlib<0.5,>=0.4.1->tensorboard<2.10,>=2.9->tensorflow>=2.0.0->openl3) (1.3.1)\n",
      "Requirement already satisfied: pyasn1<0.5.0,>=0.4.6 in /Users/michielbontenbal/opt/anaconda3/lib/python3.9/site-packages (from pyasn1-modules>=0.2.1->google-auth<3,>=1.6.3->tensorboard<2.10,>=2.9->tensorflow>=2.0.0->openl3) (0.4.8)\n",
      "Requirement already satisfied: oauthlib>=3.0.0 in /Users/michielbontenbal/opt/anaconda3/lib/python3.9/site-packages (from requests-oauthlib>=0.7.0->google-auth-oauthlib<0.5,>=0.4.1->tensorboard<2.10,>=2.9->tensorflow>=2.0.0->openl3) (3.2.0)\n"
     ]
    }
   ],
   "source": [
    "!pip install openl3"
   ]
  },
  {
   "cell_type": "code",
   "execution_count": 3,
   "metadata": {},
   "outputs": [
    {
     "name": "stdout",
     "output_type": "stream",
     "text": [
      "['my-audio.wav', 'new_file.wav', 'out.wav', 'file.wav', 'loudness.wav', 'test2.wav', 'claxon_iphone.wav', 'test3.wav', 'my_wav.wav', 'mywav_reduced_noise2.wav', 'piano_c.wav', 'claxon_michiel.wav', 'claxon_close.wav', 'recordedFile.wav', 'miaow_16k.wav', 'tone_220.wav', 'welcome.wav', 'silence.wav', 'example.wav', '11k16bitpcm.wav', 'newsegment.wav', 'claxon_freesound.wav', 'robot0.wav', 'my_test.wav', 'speech_whistling2.wav', 'robot1.wav', 'mywav_reduced_noise.wav', 'robot3.wav', 'test.wav', 'noise_add.wav', 'robot2.wav', 'Sample_audio.wav', 'tone_440.wav', 'claxon_1m.wav', 'output.wav']\n"
     ]
    }
   ],
   "source": [
    "import glob\n",
    "wav_files=glob.glob('*.wav')\n",
    "print(wav_files)"
   ]
  },
  {
   "cell_type": "code",
   "execution_count": 4,
   "metadata": {},
   "outputs": [
    {
     "data": {
      "text/plain": [
       "16000"
      ]
     },
     "execution_count": 4,
     "metadata": {},
     "output_type": "execute_result"
    }
   ],
   "source": [
    "import soundfile as sf\n",
    "\n",
    "data, samplerate = sf.read('test3.wav')\n",
    "sf.write('new_file.ogg', data, samplerate)\n",
    "samplerate"
   ]
  },
  {
   "cell_type": "code",
   "execution_count": 10,
   "metadata": {},
   "outputs": [
    {
     "data": {
      "text/html": [
       "\n",
       "                <audio  controls=\"controls\" >\n",
       "                    <source src=\"data:audio/x-wav;base64,UklGRgQpAQBXQVZFZm10IBAAAAABAAEAgD4AAIA+AAABAAgAZGF0YeAoAQCAgICAgICAf4CAgICAgH+AgICAgICAgICAgICAgICAgICAgICAgICAgICAgICAgICAgICAgICAgICAgICAgICAgICAgICAgICAgICAgICAgICAgICAgICAgICAgICAgICAgICAgICAgICAgICAgICAgICAgICAgICAgICAgICAgICAgICAgICAgICAgICAgICAgICAgICAgICAgICAgICAgICAgICAgICAgICAgICAgICAgICAgICAgICAgICAgICAgICAgICAgICAgICAgICAgICAgICAgICAgICAgICAgICAgICAgICAgICAgICAgICAgICAgICAgICAgICAgICAgICAgICAgICAgICAgICAgICAgICAgICAgICAgICAgICAgICAgICAgICAgICAgICAgICAgICAgICAgICAgICAgICAgICAgICAgICAgICAgICAgICAgICAgICAgICAgICAgICAgICAgICAgICAgICAgICAgICAgICAf3+Af4CAf4CAgICAgICAgICAgICAgICAgICAgICAgICAgICAgICAgICAgICAgICAgICAgICAgICAgICAgICAgH+Af39/f39/f39/f39/f39/f39/f39/f39/f39/f39/f39/f39/f39/f39/gH9/f39/f39/f39/f39/f39/f39/f39/f39/f39/f39/f39/f3+Af4CAf39/f4B/f39/f39/f39/f39/f39/f39/f39/f39/f39/f39/f39/f39/f39/f39/f39/f39/f39/f39/f39/f39/f39/f39/f39/f39/f39/f39/f39/f39/f39/f39/f39/f39/f39/f39/f39/f39/f39/f39/f39/f39/f39/f39/f39/f39/f39/f39/f39/f39/f39/f39/f39/f39/f39/f39/f39/f39/f39/f39/f39/f39/f39/f39/f39/f39/f39/f39/f39/f39/f39/f39/f39/f39/f39/f39/f39/f39/f39/f39/f39/f39/f39/f39/f39/f39/f39/f39/f39/f39/f39/f39/f39/f39/f39/f39/f39/f39/f39/f39/f39/f39/f39/f39/f39/f39/f39/f39/f39/f39/f39/f39/f39/f39/f39/f39/f39/f39/f39/f39/f39/f39/f39/f39/f39/f39/f39/f39/f39/f39/f39/f39/f39/f39/f39/f39/f39/f39/f39/f39/f39/f39/f39/f39/f39/f39/f39/f39/f39/f39/f39/f39/f39/f39/f39/f39/f39/f39/f39/f39/f39/f39/f39/f39/f39/f39/f39/f39/f39/f39/f39/f39/f39/f39/f39/f4B/f4B/f4CAf39/f4B/f39/f39/f39/f39/f39/f3+AgH+AgICAgICAgICAgICAgICAgICAgICAgICAgICAgICAgICAgICAgICAgICAgICAgICAgICAgICAgICAgICAgICAgICAgICAgICAgICAgICAgICAgICAgICAgICAgICAgICAgICAgICAgICAgICAgICAgICAgICAgICAgH+AgICAgIB/f4CAgICAgICAgICAf39/f4CAgICAgICAgICAgICAgICAgICAgICAgICAgICAgICAgICAgICAgICAgICAgICAgICAgICAgICAgICAgICAgICAgICAgICAgICAgICAgICAgICAgICAgICAgICAgICAgICAgICAgICAgICAgICAgICAgICAgICAgICAgICAgICAgICAgICAgICAgICAgICAgICAgICAgICAgICAgICAgICAgICAgICAgICAgICAgICAgICAgICAgICAgICAgICAgICAgICAgICAgICAgICAgICAgICAgICAgICAgICAgICAgICAgICAgICAgICAgICAgICAgICAgICAgICAgICAgICAgICAgICAgICAgICAgICAgICAgICAgICAgICAgICAgICAgICAgICAgICAgICAgICAgICAgICAgICAgICAgICAgICAgICAgICAgICAgICAgICAgICAgICAgICAgICAgICAgICAgICAgICAgICAgICAgICAgICAgICAgICAgIB/f4CAgH9/f39/f39/f39/f39/f39/f39/f39/f39/f39/f39/f39/f39/f39/f39/f39/f39/f39/f39/f39/f39/f39/f39/f39/f39/f39/f39/f39/f39/f39/f39/f39/f39/f39/f39/f39/f39/f39/f39/f39/f39/f39/f39/f39/f39/f39/f39/f39/f39/f39/f39/f39/f39/f39/f39/f39/f39/f39/f39/f39/f39/f39/f39/f39/f39/f39/f39/f39/f39/f39/f39/f39/f39/f39/f39/f39/f39/f39/f39/f39/f39/f39/f39/f39/f39/f39/f39/f39/f39/f39/f39/f39/f39/f39/f39/f39/f39/f39/f39/f39/f39/f39/f39/f39/f39/f39/f39/f39/f39/f39/f39/f39/f39/f39/f39/f39/f39/f39/f39/f39/f39/f39/f39/f39/f39/f39/f39/f39/f39/f39/f39/f39/f39/f39/f39/f39/f39/f39/f39/f39/f39/f39/f39/f39/f39/f39/f39/f39/f39/f39/f39/f39/f39/f39/f39/f39/f39/f39/f39/f39/f39/f39/f39/f39/f39/f39/f39/f39/f39/f39/f39/f39/f39/f39/f39/f39/f39/f39/f39/f39/f39/f39/f39/f39/f39/f39/f39/f39/f39/f39/f39/f39/f39/f39/f39/f39/f39/f39/f39/f39/f39/f39/f39/f39/f39/f39/f39/f3+AgIB/gICAgICAf3+AgICAgH+AgICAgICAf4CAgICAgICAgICAgICAgICAgICAgICAgICAgICAgICAgICAgICAgICAgICAgICAgICAgICAgICAgICAgICAgICAgICAgICAgICAgICAgICAgICAgICAgICAgICAgICAgICAgICAgICAgICAgICAgICAgICAgICAgICAgICAgICAgICAgICAgICAgICAgICAgICAgICAgICAgICAgICAgICAgICAgICAgICAgICAgICAgH+AgICAgICAgICAgICAgICAgICAgICAgICAgICAgICAgICAgICAgICAgICAgICAgICAgICAgICAgICAgICAgICAgICAgICAgICAgICAgICAgICAgICAgICAgICAgICAgICAgICAgICAgICAgICAgICAgICAgICAgICAgICAgICAgICAgICAgICAgICAgICAgICAgICAgICAgICAgICAgICAgICAgICAgICAgICAgICAgICAgICAgICAgICAgICAgICAgICAgICAgICAgICAgICAgICAgICAgICAgICAgICAgICAgICAgICAgICAgICAgICAgICAgICAgICAgICAgICAgICAgICAgICAgICAgICAgICAgICAgICAgICAgICAgICAgICAgICAgICAgICAgICAgICAgICAgICAgICAgICAgICAgICAgICAgICAgICAgICAgICAgICAgICAgICAgICAgICAgICAgICAgICAgICAgICAgICAgICAgICAgICAgICAgICAgICAgICAgICAgICAgICAgICAgICAgICAgICAgICAgICAgICAgICAgICAgICAgICAgICAgICAgICAgICAgICAgICAgICAgICAgICAgICAgICAgICAgICAgICAf3+AgH9/f4CAgH9/gIB/f39/f39/f39/gH9/f39/f39/f39/f39/f39/f39/f4B/f39/f39/gH9/gICAgICAgICAgICAgICAgICAgICAgIB/gICAgICAf3+AgH+AgICAf4CAf4CAgH9/gIB/gICAf3+Af4CAf39/f3+AgICAgICAgIB/f4CAgICAgICAgICAgICAgICAgIB/gICAf4CAgICAgICAgICAgICAgICAgICAgICAgICAgICAgICAgICAgICAgICAgICAgICAgICAgICAgICAgICAgICAgICAgICAgICAgICAgICAgICAgICAgICAgICAgICAgICAgICAgICAgICAgICAgICAgICAgICAgICAgICAgICAgICAgICAgICAgICAgICAgICAgICAgICAgICAgICAgICAgICAgICAgICAgICAgICAgICAgICAgICAgICAgICAgICAgICAgICAgICAgICAgICAgICAgICAgIB/f4CAgICAf39/f39/f39/f39/f39/f39/f39/f39/f39/f39/f39/f39/f39/f39/f39/f39/f39/f39/f39/f39/f39/f39/f39/f39/f39/f39/f39/f39/f39/f39/f39/f39/f39/f39/f39/f39/f39/f39/f39/f39/f39/f39/f39/f39/f39/f39/f39/f39/f39/f39/f39/f39/f39/f39/f39/f39/f39/f39/f39/f39/f39/f39/f39/f39/f39/f39/f39/f39/f39/f39/f39/f39/f39/f39/f39/f39/f39/f39/f39/f39/f39/f39/f39/f39/f39/f39/f39/f39/f39/f39/f39/f39/f39/f39/f39/f39/f39/f39/f39/f39/f39/f39/f39/f39/f39/f39/f4CAgH+AgH9/gICAgICAgICAgICAgICAgICAgICAgICAgICAgICAgICAgICAgICAgICAgICAgICAgICAgICAgICAgICAgICAgICAgICAgICAgICAgICAgICAgICAgICAgICAgICAgICAgICAgICAgICAgICAgICAgICAgICAgICAgICAgICAgICAgICAgICAgICAgICAgICAgICAgICAgICAgICAgICAgICAgICAgICAgICAgICAgICAgICAgICAgICAgICAgICAgICAgICAgICAgICAgICAgICAgICAgICAgICAgICAgICAgICAgICAgICAgICAgICAgICAgICAgICAgICAgICAgICAgICAgICAgICAgICAgICAgICAgICAgICAgICAgICAgICAgICAgICAgICAgICAgICAgH+AgH9/gICAgICAf4CAf39/f39/f39/f39/f39/f39/f39/f39/f39/f39/f39/f39/f39/f39/f39/f39/gH9/f39/f39/f39/f39/f39/f39/f39/f39/f39/f39/f39/f39/f39/f39/f39/f39/f39/f39/f39/f39/f39/f39/f39/f39/f3+Af39/f39/f39/f39/f39/f39/f39/f39/f39/f39/f39/f39/f39/f39/f39/f39/f39/f39/f39/f39/f39/f39/f39/f39/f39/f39/f39/f39/f39/f39/f39/f39/f39/f4B/f39/f39/f39/f39/f39/f39/f39/f39/f39/f39/f4B/f39/f39/f39/f39/f39/f39/f39/f39/f39/f39/f39/f39/f39/f39/f39/f39/f39/f39/f39/f39/f39/f39/f39/f39/f39/f39/f39/f39/f39/f39/f39/f39/f39/f39/f39/f39/f39/f39/f39/f39/f39/f39/f39/f39/f39/f39/f39/f39/f39/f39/f39/f39/f39/f39/f39/f39/f39/f39/f39/f39/f39/f39/f39/f39/f39/f39/f39/f39/f39/f39/f39/f39/f39/f39/f39/f39/f39/f39/f39/f39/f39/f39/f39/f39/f39/f39/f39/f39/f39/f39/f39/f39/f39/f39/f39/f39/f39/f39/f39/f39/f39/f39/f39/f39/f39/f39/f39/f39/f39/gICAf4B/f39/gICAgICAgICAgICAgICAgICAgICAgICAgICAgICAgICAgICAgICAgICAgICAgICAgICAgICAgICAgICAgICAgICAgICAgICAgICAgICAgICAgICAgICAgICAgICAgICAgICAgICAgICAgICAgICAgICAgICAgICAgICAgICAgICAgICAgICAgICAgICAgICAgICAgICAgICAgICAgICAgICAgICAgICAgICAgICAgICAgICAgICAgICAgICAgICAgICAgICAgICAgICAgICAgICAgICAgICAgICAgICAgICAgICAgICAgICAgICAgICAgICAgICAgICAgICAgICAgICAgICAgICAgICAgICAgICAgICAgICAgICAgICAgICAgICAgICAgICAgICAgICAgICAgICAgICAgICAgICAgICAgICAgICAgICAgICAgICAgICAgICAgICAgICAgICAgICAgICAgICAgICAgICAgICAgICAgICAgICAgICAgICAgICAgICAgICAgICAgICAgICAgICAgICAgICAgICAgICAgICAgICAgICAgICAgICAgICAgICAgICAgICAgICAgICAgICAgICAgICAgICAgICAgICAgICAgICAgICAgICAgICAgICAgICAgICAgICAgICAgICAgICAgICAgICAgICAgICAgICAgICAgICAgICAgICAgICAgICAgICAgICAgICAgICAf3+AgICAgIB/gICAgIB/gIB/gIB/gICAgH9/f39/f39/f39/f39/f39/f39/f39/f39/f39/f39/f39/f39/f39/f39/f39/f39/f39/f39/f39/f39/f39/f39/f39/f39/f39/f39/f39/f39/f39/f39/f39/f39/f39/f39/f39/f39/f39/f39/f39/f39/f39/f39/f39/f39/f39/f39/f39/f39/f39/f39/f39/f39/f39/f39/f39/f39/f39/f39/f39/f39/f39/f39/f39/f39/f39/f39/f39/f39/f39/f39/f39/f39/f39/f39/f3+Af39/f39/f39/gIB/gICAgICAgICAgICAgICAgICAgICAgICAgICAgICAgICAgICAgICAgICAgICAgICAgICAgICAgICAgICAgICAgICAgICAgICAgICAgICAgICAgICAgICAgICAgICAgICAgICAgICAgICAgICAgICAgICAgICAgICAgICAgICAgICAgICAgICAgICAgICAgICAgICAgICAgICAgICAgICAgICAgICAgICAgICAgICAgICAgICAgICAgICAgICAgICAgICAgICAgICAgICAgICAgICAgICAgICAgH+AgH9/f39/f39/f3+Af39/f39/f39/f39/f39/f39/f39/f39/f39/f4CAgH9/gIB/gH+AgH+AgH+AgICAgH9/f39/f39/f39/f39/f39/f39/f39/f39/f39/f39/f39/f39/f39/f39/f39/f39/f39/f39/f39/f39/f39/f39/f39/f39/f39/f39/f39/f39/f39/f39/f39/f39/f39/f39/f39/f39/f39/f39/f39/f39/f39/f39/f39/f39/f39/f39/f39/f39/f39/f39/f39/f39/f39/f39/f39/f39/f3+AgIB/f39/f39/f39/f39/gIB/f39/gH9/f39/f39/f39/f39/f39/f39/f39/f39/f39/f39/f39/f39/f39/f39/f39/f39/f39/f39/f39/f39/f39/f39/f39/f39/f39/f39/f39/f39/f39/f39/gH+AgH9/f39/f3+AgIB/gICAgICAgICAgICAgICAgICAgICAgICAgICAgICAgICAgICAgICAgICAgICAgICAgICAgICAgICAgICAgICAgICAgICAgICAgICAgICAgICAgICAgICAgICAgICAgICAgICAgICAgICAgICAgICAgICAgICAgICAgICAgICAgICAgICAgICAgICAgICAgICAgICAgICAgICAgICAgICAgICAgICAgICAgICAgICAgICAgICAgICAgICAgICAgICAgICAgICAgICAgICAgICAgICAgICAgICAgICAgICAgICAgICAgICAgICAgICAgICAgICAgICAgICAgICAgICAgICAgICAgICAgICAgICAgICAgICAgICAgICAgICAgICAgICAgICAgICAgICAgICAgICAgICAgICAgICAgICAgICAgICAgICAgICAgICAgICAgICAgICAgICAgICAgICAgICAgICAgICAgICAgICAgICAgICAgICAgICAgICAgICAgICAgICAgICAgICAgICAgICAgICAgICAgICAgICAgICAgICAgICAgICAgICAgICAgICAgICAgICAgICAgICAgICAgICAgICAgICAgICAgICAgICAgICAgICAgICAgICAgICAgICAgICAgICAgICAgICAgICAgICAgICAgICAgICAgICAgICAgICAgICAgICAgICAgICAgICAgICAgICAgICAgICAgICAgICAgICAgICAgICAgICAgICAgICAgICAgICAgICAgICAgICAgICAgICAgICAgICAgICAgICAgICAgICAgICAgICAgICAgICAgICAgICAgICAgICAgH+AgICAgICAgICAgICAgICAgICAgICAgICAgICAgICAgICAgICAgIB/gICAgH+AgH9/gIB/gICAf4CAf4CAgICAgICAf39/f39/f4B/f3+AgIB/f4CAf39/gIB/f4CAf3+AgICAgICAf4CAf3+Af3+AgH+AgH+AgH9/f3+Af4CAf4CAgIB/f4B/gICAf3+AgICAgICAgH+AgICAgIB/f3+AgICAf3+AgICAgH+AgICAgIB/gH+AgICAgIB/f4B/f3+AgICAgH9/f4B/f39/f4CAgICAgIB/f4CAgICAgICAgICAgICAgICAgICAf3+AgICAgICAgIB/gICAf3+AgICAgICAgICAgICAgICAgICAgICAgICAgICAgICAgICAgICAgICAgICAgICAgICAgICAgICAgICAgICAgICAgICAgICAgICAgICAgICAgICAgICAgICAgICAgICAgICAgICAgICAgICAgICAgICAgICAgICAgICAgICAgICAgICAgICAgICAgICAgICAgICAgICAgICAgICAgICAgICAgICAgICAgICAgICAgICAgICAgICAgICAgICAgICAgICAgICAgICAgICAgICAgICAgICAgICAgICAgICAgICAgICAgICAgICAgICAgICAgICAgICAgICAgICAgICAgICAgICAgICAgICAgICAgICAgICAgICAgICAgICAgICAgICAgICAgICAgICAgICAgICAgICAgICAgICAgICAgICAgICAgICAgICAgICAgICAgICAgICAgICAgICAgICAgICAgICAgICAgICAgICAgICAgICAgICAgICAgICAgICAgICAgICAgICAgICAgICAgICAgICAgICAgICAgICAgICAgICAgICAgICAgICAgICAgICAgICAgICAgICAgICAgICAgICAgIB/gICAgH+AgIB/f39/f39/f39/f39/f39/f39/f39/f39/f3+Af39/f39/f4CAf3+Af4CAgIB/gIB/f4CAgICAgICAgICAgICAgICAgICAgICAgICAgICAgICAgICAgICAgICAgICAgICAgICAgICAgICAgICAgICAgICAgICAgICAgICAgICAgICAgICAgICAgICAf4CAgICAgICAf4CAgICAgICAgICAf3+AgIB/gIB/gICAgICAgICAgICAgICAgICAgICAf39/f3+AgH+AgH9/gH+AgH+AgH+Af39/f39/f39/f39/f39/gH9/f39/f39/f39/f39/f39/f39/f39/f39/f39/f39/f39/f39/f4B/f39/f39/f4B/f4B/f39/f39/gH9/f39/gH+Af4B/f4B/f39/f39/f39/f39/f39/f39/f39/f39/f39/f39/f39/f39/f39/f39/f39/f39/f39/f39/f39/f39/f39/f39/f39/f39/f39/f39/f39/f39/f39/f39/f39/f39/f39/f39/f39/f39/f39/f39/f39/f39/f39/f39/f39/f39/f39/f39/f39/f39/f39/f39/f39/f39/f39/f39/f39/f39/f39/f39/f39/f39/f39/f39/f39/f39/f39/f39/f39/f39/f39/f39/f39/f39/f39/f39/f39/f39/f39/f39/f39/f39/f39/f39/f39/f39/f39/f39/f39/f39/f39/f39/f39/f39/f39/f39/f39/f39/f39/f39/f39/f39/f39/f39/f39/f39/f39/f39/f39/f39/f39/f39/f39/f39/f39/f39/f39/f39/f39/f39/f39/f39/f39/f39/f39/f39/f39/f39/f39/f39/f39/f39/f39/f39/f39/f39/f39/f39/f39/f39/f39/f39/f39/f39/f39/f39/f39/f39/f39/f39/f39/f39/f39/f39/f39/f39/f39/f39/f39/f39/f39/f39/f39/f39/f39/f39/f39/f39/f39/f4B/gIB/gICAgH+AgICAf39/gH9/gICAgICAgICAgICAgICAgICAgICAgICAgICAgICAgICAgICAgICAgICAgICAgICAgICAgICAgICAgICAgICAgICAgICAgICAgH+AgICAgICAgICAf3+AgICAgICAgICAgICAgICAgICAgICAgICAgICAgICAgICAgICAgICAgICAgICAgICAgICAgICAgICAgICAgICAgICAgICAgICAgICAgICAgICAgICAgICAgICAgICAgICAgICAgICAgICAgICAgICAgICAgICAgICAgICAgICAgICAgICAgICAgICAgICAgICAgICAgICAgICAgICAgICAgICAgICAgICAgICAgICAgICAgICAgICAgICAgICAgICAgICAgICAgICAgICAgICAgICAgICAgICAgICAgICAgICAgICAgICAgICAgICAgICAgICAgICAgICAgICAgICAgICAgICAgICAgICAgICAgICAgICAgICAgICAgICAgICAgICAgH9/gH9/gIB/f3+Af39/f39/f39/f39/f39/f39/f39/f39/f39/f39/f39/f39/f39/f39/f39/f39/f39/f39/f39/f39/f39/f39/f39/f39/f39/f39/f39/f39/f39/f39/f39/f39/f39/f39/f39/f39/f39/f39/f39/f39/f39/f39/f39/f39/f39/f39/f39/f39/f39/f39/f39/f39/f39/f39/f39/f39/f39/f39/f39/f39/f39/f39/f39/f39/f39/f39/f39/f39/f39/f39/f39/f39/f39/f39/f39/f39/f39/f39/f39/f39/f39/f39/f39/f39/f39/f39/f39/f39/f39/f39/f39/f39/f39/f39/f39/f39/f39/f39/f39/f39/f39/f39/f39/f39/f39/f39/f39/f39/f39/f39/f39/f39/f39/f39/f39/f39/f39/f39/f39/f39/f39/f39/f39/f39/f39/f39/f39/f39/f39/f39/f39/f39/f39/f39/f39/f39/f39/f39/f39/f39/f39/f39/f39/f39/f39/f39/f39/f39/f39/f39/f39/f39/f39/f39/f39/f39/f39/f39/f39/f39/f39/f39/f39/f39/f39/f39/f39/f39/f39/f39/f39/f39/f39/f39/f39/f39/f39/f39/f39/f39/f39/f39/f39/f39/f39/f39/f39/f39/f39/f39/f39/f39/f39/f39/f39/f39/f39/f39/f39/f39/f39/f39/f39/f39/f39/f39/f39/f39/f39/f39/f39/f39/f39/f39/f39/f39/f39/f39/f39/f39/f39/f39/f39/f39/f39/f39/gIB/gICAgICAgICAgICAgICAgICAgICAgICAgICAgICAgICAgICAgICAgICAgICAgICAgICAgICAgICAgICAgICAgICAgICAgICAgICAgICAgICAgICAgICAgICAgICAgICAgICAgICAgICAgICAgICAgICAgICAgICAgICAgICAgICAgICAgICAgICAgICAgICAgICAgICAgICAgICAgICAgICAgICAgICAgICAgICAgICAgICAgICAgICAgICAgICAgICAgICAgICAgICAgICAgICAgICAgICAgICAgICAgICAgICAgICAgICAgH9/gH9/f39/f39/f39/f39/f39/f39/f39/f39/f39/f39/f39/f39/f39/f39/f39/f39/f39/f39/f39/f39/f39/f39/f39/f39/f39/f39/f39/f39/f39/f39/f39/f39/f39/f39/f39/f39/f39/f39/f39/f39/f39/f39/f39/f39/f39/f39/f39/f39/f39/f39/f39/f39/f39/f39/f39/f39/f39/f39/f39/f39/f39/f39/f39/f39/f39/f39/f39/f39/f39/f39/f39/f39/f39/f39/f39/f39/f39/f39/f39/f39/f39/f39/f39/f39/f39/f39/f39/f39/f39/f39/f39/f39/f39/f39/f39/f39/f39/f39/f39/f39/f39/f39/f39/f39/f39/f39/f39/f39/f39/f39/f39/f39/f39/f39/f39/f39/f39/f39/f39/f39/f39/f39/f39/f39/f39/f39/f39/f39/f39/f39/f39/f39/f39/f39/f39/f39/f39/f39/f39/f39/f39/f39/f39/f39/f39/f39/f39/f39/f39/f39/f39/f39/f39/f39/f39/f39/f39/f39/f39/f39/f39/f39/f39/f39/f39/f39/f39/f39/f39/f39/f39/f39/f39/f39/f39/f39/f39/f39/f39/f39/f39/f39/f39/f39/f39/f39/f39/f39/f39/f39/f39/f39/f39/f39/f39/f39/f39/f39/f39/f39/f39/f39/f39/gH9/f39/f3+AgH9/f39/f39/gICAgICAgICAgICAgICAgICAgICAgICAgICAgICAgICAgICAgICAgICAgICAgICAgICAgICAgICAgICAgICAgICAgICAgICAgICAgICAgICAgICAgICAgICAgICAgICAgICAgICAgICAgICAgICAgICAgICAgICAgICAgICAgICAgICAgICAgICAgICAgICAgICAgICAgICAgICAgICAgICAgICAgICAgICAgICAgICAgICAgICAgICAgICAgICAgICAgICAgICAgICAgICAgICAgICAgICAgICAgICAgICAgICAgICAgICAgICAgICAgICAgICAgICAgICAgICAgICAgICAgICAgICAgICAgICAgICAgICAgICAgICAgICAgICAgICAgICAgICAgICAgICAgICAgICAgICAgICAgICAgICAgICAgICAgICAgICAgICAgICAgICAgICAgICAgICAgICAgICAgICAgICAgICAgICAgICAgICAgICAgICAgICAgICAgICAgICAgICAgICAgICAgICAgICAgICAgICAgICAgICAgICAgICAgICAgICAgICAgICAgICAgICAgICAgICAgICAgICAgICAgICAgICAgICAgICAgICAgICAgICAgICAgICAgICAgICAgICAgICAgICAgICAgICAgICAgICAgICAgICAgICAgICAgICAgICAgICAgICAgICAgICAgICAgICAgICAgICAgICAgICAgICAgICAgICAgICAgICAgICAgICAgICAgICAgICAgICAgICAgICAgICAgICAgICAgICAgICAgICAgICAgICAgICAgICAgICAgICAgICAgICAgICAgICAgICAgICAgICAgICAgICAgICAgIB/f39/f39/f39/f39/f39/f39/f39/f39/f39/f39/f39/f39/f39/f39/f39/f39/f39/f39/f39/f39/f39/f39/f39/f39/f39/f39/f39/f39/f39/f39/f39/f39/f39/f39/f39/f39/f39/f39/f39/f39/f39/f39/f39/f39/f39/f39/f39/f39/f39/f39/f39/f39/f39/f39/f39/f39/f39/f39/f39/f39/f39/f39/f39/f39/f39/f39/f39/f39/f39/f39/f39/f39/f39/f39/f39/f39/f39/f39/f39/f39/f39/f39/f39/f39/f39/f39/f39/f39/f39/f39/f39/f39/f39/f39/f39/f39/f39/f39/f39/f39/f39/f39/f39/f39/f39/f39/f39/f39/f39/f39/f39/f3+AgICAgICAgICAgICAgICAgICAgICAgICAgICAgICAgICAgICAgICAgICAgICAgICAgICAgICAgICAgICAgICAgICAgICAgICAgICAgICAgICAgICAgICAgICAgICAgICAgICAgICAgICAgICAgICAgICAgICAgICAgICAgICAgICAgICAgICAgICAgICAgICAgICAgICAgICAgICAgICAgICAgICAgICAgICAgICAgICAgICAgICAgICAgICAgICAgICAgICAgICAgICAgICAgICAgICAgICAgICAgICAgICAgICAgICAgICAgICAgICAgICAgICAgICAgICAgICAgICAgICAgICAgICAgICAgICAgICAgICAgICAgICAgICAgH9/gH9/gH9/f39/f39/f39/f39/f39/f39/f39/f39/f39/f39/f39/f39/f39/f39/f39/f39/f39/f39/f3+AgH9/f3+Af39/f39/f39/gICAgICAf39/f3+Af3+Af39/f39/f39/f39/f39/f4B/f39/f39/f39/f39/f39/f39/f39/f39/f39/f39/f39/f39/f39/f39/f39/f39/f39/f39/f39/f39/f39/f39/f39/f39/f39/f39/f39/f39/f39/f3+AgICAgICAgICAgICAgICAgICAgICAgICAgICAgICAgICAgICAgICAgICAgICAgICAgICAgICAgICAgICAgICAgICAgICAgICAgICAgICAgICAgICAgICAgICAgICAgICAgICAgICAgICAgICAgICAgICAgIB/f3+Af39/f39/f39/f39/f39/f39/f39/f39/f39/f39/f39/f39/f39/f39/f39/f39/f39/f39/f39/f39/f39/f39/f39/f39/f39/f39/f39/f39/f39/f39/f39/f3+Af3+AgIB/f3+AgH+Af39/f39/f39/f39/f39/f39/f39/f39/f39/f39/f39/f39/f39/f39/f39/f39/f39/f39/f39/f39/f39/f39/f39/f39/f39/f39/f39/f39/gICAf4B/gICAgICAgICAgIB/gH9/f3+Af39/f4B/gICAgIB/f39/f3+AgH9/gIB/f4CAgICAgICAgICAgICAgICAgICAgICAgICAgICAgICAgICAgICAgICAgICAgICAgICAgICAgICAgICAgICAgICAgICAgICAgICAgICAgICAgICAgICAgICAgICAgICAgICAgICAgICAgICAgICAgICAgICAgICAgICAgICAgICAgICAgICAgICAgICAgICAgICAgICAgICAgICAgICAgICAgICAgICAgICAgICAgICAgICAgICAgICAgICAgICAgICAgICAgICAgICAgICAgICAgICAgICAgICAgICAgICAgICAgICAgICAgICAgICAgICAgICAgICAgICAgICAgICAgICAgICAgICAgICAgICAgICAgICAgICAgICAgICAgH+AgH9/f4CAgIB/f3+AgH9/f39/f39/f4CAf3+AgICAf3+Af4CAgICAgICAgICAgICAgICAgICAgICAgICAgICAgICAgICAgICAgICAgICAgICAgICAgICAgICAgICAgICAgICAgICAgICAgICAgICAgICAgICAgICAgICAgICAgICAgICAgICAgICAgICAgICAgICAgICAgICAgICAgICAgICAgICAgICAgICAgICAgICAgICAgICAgICAgICAgICAgICAgICAgICAgICAgICAgICAgICAgICAgICAgICAgICAgICAgICAgICAgICAgICAgICAgICAgICAgICAgICAgICAgICAgICAgICAgICAgICAgICAgICAgICAgICAgICAgICAgICAgICAgICAgICAgICAgICAgICAgICAgICAgICAgICAgICAgICAgICAgICAgICAgICAgICAgICAgICAgICAgICAgICAgICAgICAgICAgICAgICAgICAgICAgICAgH+AgICAf4CAgICAgH9/gH9/f4CAf39/f4B/gIB/f4B/f39/gICAf4CAf4CAf4B/gIB/gIB/gICAf39/f3+AgH9/f39/f39/f39/f39/f39/f39/f39/f39/f39/f39/f39/f39/f39/f39/f39/f39/f39/f39/f39/f39/f39/f39/f39/f39/f39/f39/f39/f39/f39/f39/f39/f39/f39/f39/f39/f39/f39/f39/f39/f39/f39/f39/f39/f39/f39/f39/f39/f39/f39/f39/f39/f4CAf39/f39/f39/f39/f39/f3+Af3+Af3+AgICAf3+AgH+AgICAgICAgICAgICAgICAgICAgICAgICAgICAgICAgICAgICAgICAgICAgICAgICAgICAgICAgICAgICAgICAgICAgICAgICAgICAgICAgICAgICAgICAgICAgICAgICAgICAgICAgICAgICAgICAgICAgICAgICAgICAgICAgICAgICAgICAgICAgICAgICAgICAgICAgICAgICAgICAgICAgICAgICAgIB/f4CAgH9/f39/f39/f39/f39/f39/f39/f39/f39/f39/f39/f39/f39/f39/f39/f39/f39/f39/f39/f39/f39/f39/f39/f39/f39/f39/f39/f39/f39/f39/f39/f39/f39/f39/f39/f39/f39/f39/f39/f39/f39/f39/f39/f39/f39/f39/f39/f39/f39/f39/f39/f39/f39/f39/f39/f39/f39/f39/f39/f39/f39/f39/f39/f39/f39/f39/f39/f39/f39/f39/f39/f39/f39/f39/f39/f39/f39/f39/f39/f39/f39/f39/f39/f39/f39/f39/f39/f39/f39/f39/f39/f39/f39/f39/f39/f39/f39/f39/f39/f39/f39/f39/f39/f3+AgIB/f3+Af39/f39/gH+AgICAgICAgICAgICAgICAgICAgICAgICAgICAgICAgICAgICAgICAgICAgICAgICAgICAgICAgICAgICAgICAgICAgICAgICAgICAgICAgICAgICAgICAgICAgICAgICAgICAgICAgICAgICAgICAgICAgICAgICAgICAgICAgICAgICAgICAgICAgICAgICAgICAgICAgICAgICAgICAgICAgICAgICAgICAgICAgICAgICAgICAgICAgICAgICAgICAgICAgICAgICAgICAgICAgICAgICAgICAgICAgICAgICAgICAgICAgICAgICAgICAgICAgICAgICAgICAgICAgICAgICAgIB/f39/gH9/f39/f39/f39/f39/f39/f39/f39/f39/f39/f39/f39/f39/f39/f39/f39/f39/f39/f39/f39/f39/f39/f39/f39/f39/f39/f39/f39/f39/f39/f39/f39/f39/f39/f39/f39/f39/f39/f39/f39/f39/f39/f39/f39/f39/f39/f39/f39/f39/f39/f39/f39/f39/f39/f39/f39/f39/f39/f39/f39/f39/f39/f39/f39/f39/f39/f39/f39/f39/f39/f39/f39/f39/f39/f39/f39/f39/f39/f39/f39/f39/f39/f39/f39/f39/f39/f39/f39/f39/f39/f39/f39/f39/f39/f39/f39/f39/f39/f39/f39/f39/f39/f39/f39/f39/f39/f39/f39/f39/f39/f39/f39/f39/f39/f39/f39/f39/f39/f39/f39/f39/f39/f39/f39/gH9/gIB/gIB/f39/f4CAgICAgICAgICAgICAgICAgICAgICAgICAgICAgICAgICAgICAgICAgICAgICAgICAgICAgICAgICAgICAgICAgICAgICAgICAgICAgICAgICAgICAgICAgICAgICAgICAgICAgICAgICAgICAgICAgICAgH9/gH+AgH+AgICAgH9/gIB/f4CAgICAgICAf4CAgICAgICAf39/f4CAf3+Af4CAf4CAgICAgICAgICAgICAgICAf3+AgIB/gIB/f39/f39/f39/f39/f39/f39/f39/f39/f39/f39/f39/f39/f39/f39/f39/f39/f39/f39/f39/f39/f39/f39/f39/f39/f39/f39/f39/f39/f39/f39/f39/f39/f39/f39/f39/f39/f39/f39/f39/f39/f39/f39/f39/f39/f39/f39/f39/f39/f39/f39/f39/f39/f39/f39/f39/f39/f39/f39/f39/f39/f39/f39/f39/f39/f39/f39/f39/f39/f39/f39/f39/f39/f39/f39/f39/f39/f39/f39/f39/f39/f39/f39/f39/f39/f39/f39/f39/f39/f39/f39/f39/f39/f39/f39/f39/f39/f39/gH9/f4CAgIB/gICAgIB/f4CAgICAgICAgICAgICAgICAgICAgICAgICAgICAgICAgICAgICAgICAgICAgICAgICAgICAgICAgICAgICAgICAgICAgICAgICAgICAgICAgICAgICAgICAgICAgICAgICAgICAgICAgIB/f39/f39/f39/f39/f39/f39/f39/f39/f39/f39/f39/f39/f39/f39/f39/f39/f39/f39/f39/f39/f39/f39/f39/f39/f39/f39/f39/f3+AgH9/gH9/f39/f4CAf39/f39/f39/f39/f39/f39/f39/f39/f39/f39/f39/f39/f39/f39/f39/f39/f39/f39/f39/f39/f39/f39/f39/f39/f39/f39/f39/f39/f39/f39/f39/f39/f39/f39/f39/f39/f4B/f4CAf39/f4CAgICAgICAgICAgICAgICAgICAgICAgICAgICAgICAgICAgICAgICAgICAgICAgICAgICAgICAgICAgICAgICAgICAgICAgICAgICAgICAgICAgICAgICAgICAgICAgICAgICAgICAgICAgICAgICAgICAgICAgICAgICAgICAgICAgICAgICAgICAgICAgICAgICAgICAgICAgICAgICAgICAgICAgICAgICAgICAgICAgICAgICAgICAgICAgICAgICAgICAgICAgICAgICAgICAgICAgICAgICAgICAgICAgICAgICAgICAgICAgICAgICAgICAgICAgICAgICAgICAgICAgICAgICAgICAgICAgICAgICAgICAgICAgICAgICAgICAgICAgICAgICAgICAgICAgICAgICAgICAgICAgICAgICAgICAgICAgICAgICAgICAgICAgICAgICAgICAgICAgICAgICAgICAgICAgICAgICAgICAgICAgICAgICAgICAgICAgICAgICAgICAgICAgICAgICAgICAgICAgICAgICAgICAgICAgICAgICAgICAgICAgICAgICAgICAgICAgICAgICAgICAgICAgICAgICAgICAgICAgICAgICAgICAgICAgICAgICAgICAgICAgICAgICAgICAgICAgICAgICAgICAgICAgICAgICAgICAgICAgICAgICAgICAgICAgICAgICAgICAgICAgICAgICAgICAgICAgICAgICAgICAgICAgICAgICAgICAgICAgICAgICAgICAgICAgICAgH9/f39/gICAf4B/f39/f39/f4B/f39/gICAgICAgH9/gIB/f4B/f39/f39/f39/f39/f39/f39/f39/f39/f39/f39/f39/f39/f39/f39/f39/f39/f39/f39/f39/f39/f39/f39/f39/f39/f39/f39/f39/f39/f39/f39/f39/f39/f39/f39/f39/f39/f39/f39/f39/f39/f39/f39/f39/f39/f39/f39/f39/f39/f39/f39/f39/f39/f39/f39/f39/f39/f39/f39/f39/f39/f39/f39/f39/f39/f39/f39/f39/f39/f39/f39/f39/f39/f39/f39/f39/f39/f39/f39/f39/f39/f39/f39/f39/f39/f39/f39/f39/f39/f39/f39/f39/f39/f39/f39/f39/f39/f39/f39/f39/f39/f39/f39/f39/f39/f39/f39/f39/f39/f4CAgH9/gIB/f39/gICAgICAgICAgICAgIB/gH9/gH9/gIB/gH9/f39/f39/gIB/f39/f39/f39/gH+AgICAgICAgICAgICAgICAgICAgICAgICAgICAgICAgICAgICAgICAf3+AgICAgH+AgICAgICAf4CAgICAgICAgICAgICAgICAgICAgICAgH+AgICAgICAgICAgICAgICAgICAgICAgICAgICAgICAf4CAgICAgICAgICAgICAgICAgICAgICAgICAgICAgICAgICAgICAgICAgICAgICAgICAgICAgICAgICAgICAgICAgICAgICAgICAgICAgICAgICAgICAgICAgICAgICAgICAgICAgICAgICAgICAgICAgICAgICAgICAf4CAgH+AgICAgICAgICAgICAgICAgICAgICAgICAgICAgICAgICAgICAgICAgICAgICAgIB/gICAgIB/f39/f3+AgIB/f39/gICAgH9/gICAgH9/f39/f3+Af39/f39/f39/f39/f39/f39/f39/f39/f39/f3+Af39/f39/f39/f39/f3+Af4CAf39/f4B/f4CAf39/gH9/f4CAgICAgICAgICAgICAgICAgICAgICAgICAgICAgICAgICAgICAgICAgICAgICAgICAgICAgICAgICAgICAgICAgICAgICAgICAgICAgICAgICAgICAgICAgICAgICAgICAgICAgICAgICAgICAgICAgICAgICAgICAgICAgICAgICAgICAgICAgICAgICAgICAgICAgICAgICAgICAgICAgICAgICAgICAgICAgICAgICAgICAgICAgICAgICAgICAgICAgICAgICAgICAgICAgICAgICAgICAgICAgICAgICAgICAgICAgICAgICAgICAf4CAf39/f39/gH9/gH+AgH+AgICAgICAf39/gICAgICAgH9/f39/f39/f3+AgH9/f39/f39/f39/f39/f39/f39/f39/f39/f39/f39/f39/f39/f39/f39/f39/f39/f39/f39/f39/f39/f39/f39/f39/f39/f39/f39/f39/f39/f39/f39/f39/f39/f39/f39/f39/f39/f39/f39/f39/f39/f39/f39/f39/f39/f39/f4B/gH9/f3+AgICAgICAgICAf4CAf4CAf4CAgICAgH9/gICAgH+Af3+Af39/f39/f39/f39/f39/f39/f39/f39/f39/f39/f39/f39/f39/f39/f39/f39/f39/f39/f39/f39/f39/f39/f39/f39/f3+Af3+AgH9/gICAgH9/f39/f4CAgICAgICAgICAgICAgICAgICAgICAgICAgICAgICAgICAgICAgICAgICAgICAgICAgICAgICAgICAgIB/gICAf4B/f3+Af39/f39/f39/gH9/f39/f39/f39/f39/f39/gH9/f39/f4B/f39/f3+Af39/gH9/gH9/f39/f39/f39/f39/f39/f39/f39/f39/f39/f39/f39/f39/f39/f39/f39/f39/f39/f39/f39/f39/f39/f39/f39/f39/f39/f39/f39/f39/f39/f39/f39/f39/f39/f39/f39/f39/f39/f39/f39/f39/f39/f39/f39/f39/f39/f39/f39/f39/f39/f39/f39/f39/f39/f39/f39/f39/f39/f39/f39/f39/f39/f39/f39/f39/f39/f39/f39/f39/f39/f39/f39/f39/f39/f39/f39/f39/f39/f39/f39/f39/f39/f39/f39/f39/f39/f39/f39/f39/f39/f39/f39/f39/f39/f39/f39/f3+AgH9/f4CAgH9/f4CAf39/f39/gICAgICAgICAgICAgICAf3+AgICAgH+AgICAgH+AgICAf4CAgICAgICAgICAgICAgICAgICAgICAgICAgICAgICAgICAgICAgICAgICAgICAgICAgICAgICAgICAgICAgICAgICAgICAgICAgICAgICAgICAgICAgICAgICAgICAgICAgICAgICAgICAgICAgICAgICAgICAgICAgICAgICAgICAgICAgICAgICAgICAgICAgICAgICAgICAgICAgICAgICAgICAgICAgICAgICAgICAgICAgICAgICAgICAgICAgICAgICAgICAgICAgICAgICAgICAgICAgICAgICAgICAgICAgICAgICAgICAgICAgICAgICAgICAgICAgICAgICAgICAgICAgICAgH9/gICAgICAgICAgICAgICAgICAgICAgICAgICAgICAgICAgICAgICAgICAgICAf39/f39/f39/f39/f39/f39/f39/f39/f39/f39/f39/f39/f39/f39/f39/f39/f39/f39/f39/gIB/gICAf4CAgH9/gICAf39/f39/gH9/f3+AgICAgICAgICAgICAgICAgICAgICAgICAgICAgICAgICAgICAgH+Af39/f39/f39/gH+Af39/f39/f39/f39/f39/f39/f39/f39/f39/f39/f39/f39/f39/f39/f39/f39/f39/f39/f39/f39/f39/f39/f39/f39/f39/f39/f39/f39/f39/f39/f39/f39/f39/f39/f39/f39/f39/f39/f39/f39/f39/f39/f39/gIB/gH9/f39/f39/f39/f39/f39/f39/f39/f39/f39/f39/f39/f39/f39/f39/f39/f39/f39/f39/f39/f39/f39/f39/f39/f39/f39/f39/f39/f39/f39/f39/f39/f39/f39/f39/f39/f39/f39/f39/f39/f39/f39/f39/f39/f39/f39/f39/f39/f39/f39/f39/f39/f39/f39/f39/f39/f39/f39/f39/f39/f39/f39/f39/f39/f39/f39/f39/f39/f39/f39/f39/f39/f39/f39/f39/f39/f39/f39/f39/f39/f39/f39/f39/f39/f39/f39/f39/f39/f39/f39/f39/f39/f39/f39/f39/f39/f39/f39/f39/f39/f39/f39/f4CAf3+AgICAgICAgICAgICAgICAgICAgICAgICAgICAgICAgICAgICAgICAgICAgICAgICAgICAgICAgICAgICAgICAgICAgICAgICAgICAgICAgICAgICAgICAgICAgICAgICAgICAgICAgICAgICAgICAgICAgICAgICAgICAgICAgICAgICAgICAgICAgICAgICAgICAgICAgICAgICAgICAgICAgICAgICAgICAgICAgICAgICAgICAgICAgICAgICAgICAgICAgICAgICAgICAgICAgICAgICAgICAgICAgICAgICAgICAgICAgICAgICAgICAgICAgICAgICAgICAgICAgICAgICAgICAgICAgICAgICAgICAgICAgICAgH+AgH9/f39/f39/f39/f39/f39/f39/f39/f39/f39/f39/f39/f39/f39/f39/f39/f39/f39/f39/f39/f39/f39/f39/f39/f39/f39/f39/f39/f39/f39/f39/f39/f39/f39/f39/f39/f39/f39/f39/f39/f39/f39/f39/f39/f39/f39/f39/f39/f39/f39/f39/f39/f39/f39/f39/f39/f39/f39/f39/f39/f39/f39/f39/f39/f39/f39/f39/f39/f39/f39/f39/f39/f39/f39/f39/f39/f39/f39/f39/f39/f39/f39/f39/f39/f39/f39/f39/f39/f39/f39/f39/f39/f39/f39/f3+Af39/gICAgIB/gH9/gICAgH+AgICAgICAgICAgICAgICAgICAgICAgICAgICAgICAgICAgICAgICAgICAgICAgH9/gICAgICAgICAgICAgICAgICAgICAgICAgICAgICAgICAgICAgICAgICAgICAgICAgICAgICAgICAgICAgH9/gICAgICAf39/f39/f39/f39/f39/f39/f39/f39/f39/f39/f3+Af4CAgICAgIB/f39/f39/f3+Af39/gIB/f4CAgIB/gIB/f4CAgICAgICAgICAgIB/f3+AgIB/f39/f39/f39/f39/f39/f39/f39/f39/f39/f39/f39/f39/f39/f39/f39/f39/f39/f39/f39/f39/f39/gH9/f39/f4B/f39/f39/f39/f4CAf39/f3+AgICAgICAgICAgICAgICAgICAgICAgICAgICAgICAgICAgICAgICAgICAgICAgICAgICAgICAgICAgICAgICAgICAgICAgICAgICAgICAgICAgICAgICAgICAgICAgICAgICAgICAgICAgICAgICAgICAgICAgICAgICAgICAgICAgICAgICAgICAgICAgICAgICAgICAgICAgICAgICAgICAgICAgICAgICAgICAgICAgICAgICAgICAgICAgICAgICAgICAgICAgICAgICAgICAgICAgICAgICAgICAgICAgICAgICAgICAgICAgICAgICAgICAgICAgICAgICAgICAgICAgICAgICAgICAgICAgICAgICAgIB/f39/f39/f39/f39/f39/f39/f39/f39/f39/f39/f39/f39/f39/f39/f39/f39/f39/f39/f39/f39/f39/f39/f39/f39/f39/f39/f39/f39/f39/f39/f39/f39/f39/f39/f39/f39/f39/f39/f39/f39/f39/f39/f39/f39/f39/f39/f39/f39/f39/f39/f39/f39/f39/f39/f39/f39/f39/f39/f39/f39/f39/f39/f39/f39/f39/f39/f39/f39/f39/f39/f39/f39/f39/f39/f39/f39/f39/f39/f39/f39/f39/f39/f39/f39/f39/f39/f39/f39/f39/f39/f39/f3+AgH+AgICAgICAgH9/gICAgICAgICAgICAgICAgH9/gICAgICAgICAgICAgICAgICAgICAgICAgICAgICAgICAgICAgICAgICAgICAgICAgICAgICAgICAgICAgICAgICAgICAgICAgICAgICAgICAgICAgICAgICAgICAgICAgICAgICAgICAgICAgICAgICAgICAgICAgICAgICAgICAgICAgICAgICAgICAgICAgICAgICAgICAgICAgICAgICAgIB/gIB/gIB/f39/f4CAgIB/f39/gIB/f39/f39/f39/f39/f39/f39/f39/f39/f39/f39/f39/gH9/f39/f39/f39/f39/f39/f39/f3+AgICAgICAgICAgICAgICAgICAgICAgICAgICAgICAgICAgICAgICAgICAgICAgICAgICAgICAgICAgICAgICAgICAgICAgICAgICAgICAgICAgICAgICAgICAgICAgICAgICAgICAgICAgICAgICAgICAgICAgICAgICAgICAgICAgICAgICAgICAgICAgICAgICAgICAgICAgICAgICAgICAgICAgICAgICAgICAgICAgICAgICAgICAgICAgICAgICAgICAgICAgICAgICAgICAgICAgICAgICAgICAgICAgICAgICAgICAgICAgICAgICAgICAgICAgICAgICAgICAgICAgICAgICAgICAgICAgICAgICAgICAgICAgICAgICAgICAgICAgICAgICAgICAgICAgICAgICAgICAgICAgICAgICAgICAgICAgICAgICAgICAgICAgICAgICAgICAgICAgICAgICAgICAgICAgICAgICAgICAgICAgICAgICAgICAgICAgICAgICAgICAgICAgICAgICAgICAgICAgICAgICAgICAgICAgICAgICAgICAgICAgICAgICAgICAgICAgICAgICAf3+AgICAgICAgICAgICAf4CAgICAgICAgICAgICAgICAgICAgICAgICAgICAgICAgICAgICAgICAgICAgICAgICAgICAgICAgICAgICAgICAgICAgICAgICAgICAgICAgICAgICAgICAgICAgICAgICAgICAgICAgICAgICAgICAgICAgICAgICAgICAgICAgICAgICAgICAgICAgICAgICAgICAgICAgICAgICAgICAgICAgICAgICAgICAgICAgICAgICAgICAgICAgICAgICAgICAgICAgICAgICAgICAgICAgICAgICAgICAgICAgICAgICAgICAgICAgICAgICAgICAgICAgICAgICAgICAgICAgICAgICAgICAgICAgICAgICAgICAgICAgICAgICAgICAgICAgICAgICAgICAgICAgICAgICAgICAgICAgICAgICAgICAgICAgICAgICAgICAgICAgICAgICAgICAgICAgICAgICAgICAgICAgICAf4CAgICAgICAgICAf4CAf39/f4B/f39/f3+AgICAgICAgICAgICAgICAgICAgICAgICAgIB/f4B/gIB/f39/f39/f39/f39/f39/f39/f39/f39/f39/f39/f39/f39/f39/f39/f39/f39/f39/f39/f39/f39/f39/f39/f39/f39/f39/f39/f39/f39/f39/f39/f39/f39/f39/f39/f39/f39/f39/f39/f39/f39/f39/f39/f39/f39/f39/f39/f39/f39/f39/f39/f39/f39/f39/f39/f39/f39/f39/f39/f39/f39/f39/f39/f39/f39/f39/f39/f39/f39/f39/f39/f39/f39/f39/f39/f39/f39/f39/f39/f39/f39/f39/f39/f39/f39/f39/f39/f39/f39/f39/f39/f39/f39/f39/f39/f39/f39/f39/f3+AgH9/gICAgICAgIB/gICAf4CAgICAgICAgICAgICAgICAgICAgICAgICAgICAgICAgICAgICAgICAgICAgICAgICAgICAgICAgICAgICAgICAgICAgICAgICAgICAgICAgICAgICAgICAgICAgICAgICAgICAgICAgICAgICAgICAgICAgICAgICAgICAgICAgICAgICAgICAgICAgICAgICAgICAgICAgICAgICAgICAgICAgICAgICAgICAgICAgICAgICAgICAgICAgICAgICAgICAgICAgICAgICAgICAgICAgICAgICAgICAgICAgICAgICAgICAgICAgICAgICAgICAgICAgICAgICAgICAgICAgICAgICAgICAgICAgICAgICAgICAgH9/f39/f39/f39/f39/f39/f39/f39/f39/f39/f39/f39/f39/f39/f39/f39/f39/f39/f39/f39/f39/f39/f39/f39/f39/f39/f39/f39/f39/f39/f39/f39/f39/f39/f39/f39/f39/f39/f39/f39/f39/f39/f39/f39/f39/f39/f39/f39/f39/f39/f39/f39/f39/f39/f39/f39/f39/f39/f39/f39/f39/f39/f39/f39/f39/f39/f39/f39/f39/f39/f39/f39/f39/f39/f39/f39/f39/f39/f39/f39/f39/f39/f39/f39/f39/f39/f39/f39/f39/f39/f39/f39/f39/f39/f39/f3+Af3+AgICAgICAgICAgICAgICAgICAgICAgICAgICAgICAgICAgICAgICAgICAgICAgICAgICAgICAgICAgICAgICAgICAgICAgICAgICAgICAgICAgICAgICAgICAgICAgICAgICAgICAgICAgICAgICAgICAgICAgICAgICAgICAgICAgICAgICAgICAgICAgICAgICAgICAgICAgIB/f39/f39/f39/f39/f39/f39/f39/f39/f39/f39/f39/f39/f39/f39/f39/f39/f39/f39/f39/f39/f39/f39/f39/f39/f39/f39/f39/f39/f39/f39/f39/f39/f39/f39/f39/f39/f39/f39/f39/f39/f39/f39/f39/f39/f39/f39/f39/f39/f39/f39/f39/f39/f39/f39/f39/f39/f39/f39/f39/f39/f39/f39/f39/f39/f39/f39/f39/f39/f39/f39/f39/f39/f39/f39/f39/f39/f39/f39/f39/f39/f39/f39/f39/f39/f39/f39/f39/f39/f39/f39/f39/f39/f39/f39/f39/f39/f39/f39/f39/f39/f39/f39/f39/f4B/f39/f39/f39/f39/f39/f39/f39/f39/f39/f39/f39/f39/gH9/f39/f39/gH+AgICAf39/gH9/gICAgH+AgICAgICAgICAgICAgICAgICAgICAgICAgICAgH9/f4CAgICAgH9/gICAf39/f39/gICAgIB/f39/f4B/f39/f39/f39/f39/f39/f39/f39/f39/f39/f39/f39/f39/f39/f39/f39/f39/f39/f39/f39/f39/f39/f39/f39/f39/f39/f39/f39/f39/f39/f39/f39/f39/f39/f39/f39/f39/f39/f39/f39/f39/f39/f39/f39/f39/f39/f39/f39/f39/f39/f39/f39/f39/f39/f39/f39/f39/f39/f39/f39/f39/f39/f39/f39/f39/f39/f39/f39/f39/f39/f39/f39/f39/f39/f39/f39/f39/f39/f39/f39/f39/f39/f39/f39/f39/f4CAf39/f39/f39/f39/f3+AgH9/f39/f39/gH9/gIB/gICAgICAgICAgICAgICAgICAgICAgICAgICAgICAgICAgICAgICAgICAgICAgICAgICAgICAgICAgICAgICAgICAgICAgICAgICAgICAgICAgICAgICAgICAgICAgICAgICAgICAgICAgICAgICAgH+AgICAgIB/f39/f4CAf39/f39/f39/f39/f39/f39/f39/f39/f39/f39/f39/f39/f39/f39/f39/f39/f39/f39/f39/f39/f39/f39/f39/f39/f39/f39/f39/f39/f39/f3+AgICAgICAgICAgICAgICAgICAgICAgICAgICAgICAgICAgICAgICAgICAgICAgICAgICAgICAgICAgH+Af39/f39/f39/f39/f39/f39/f39/f39/f39/f39/f39/f39/f39/f39/f39/f39/f39/f39/f39/f39/f39/f39/f39/f39/f39/f39/f39/f39/f39/f39/f39/f39/f39/f39/f39/f39/f39/f39/f39/f39/gH9/f39/f39/f39/f39/f39/f39/f39/f39/f39/f39/f39/f39/f39/f39/f39/f39/f39/f39/f39/f39/f39/f39/f39/f39/f39/f39/f39/f39/f39/f39/f39/f39/f39/f39/f39/f39/f39/f39/f39/f39/f39/f39/f39/f39/f39/f39/f39/f39/f39/f39/f39/f39/f39/f39/f39/f39/f39/f39/f39/f39/f39/f39/f39/f39/f39/f39/f39/f39/f39/f39/f39/f39/f39/f39/f39/f39/f39/f39/f39/f39/f39/f39/f39/f39/f39/f39/f39/f39/f39/f39/f39/f39/f39/f39/f39/f39/f39/f39/f39/f39/f39/f39/f39/f39/f39/f39/f39/f39/f39/f39/f39/f39/f39/f39/f39/f3+Af3+AgICAgICAgICAgICAgICAgICAgICAgICAgICAgICAgICAgICAgICAgICAgICAgICAgICAgH9/gIB/f4B/gICAf39/gH9/gICAgICAf39/f3+Af39/f39/gICAgIB/gICAgIB/f39/f3+AgICAgICAgICAgICAgICAgICAgH+Af4CAgICAgIB/gICAgICAgICAgICAgICAgICAgICAgICAgICAgICAgICAgICAgICAgICAgICAgICAgICAgICAgICAgICAgICAgICAgICAgICAgICAgICAgICAgICAgICAgICAgICAgICAgICAgICAgICAgICAgICAgICAgICAgICAgICAgICAgICAgICAgICAgICAgICAgICAgICAgIB/gICAgICAgICAgIB/f39/f39/f39/f39/f39/f39/f39/f39/f39/f39/f39/f39/f39/f39/f39/f39/f39/f39/f39/f39/f39/f39/f39/f39/f39/f39/f39/f39/f39/f39/f39/f39/f39/f39/f39/f39/f39/f39/f39/f39/f39/f39/f39/f39/f39/f39/f39/f39/f39/f39/f39/f39/f39/f39/f39/f39/f39/f39/f39/f39/f39/f39/f39/f39/f39/f39/f39/f39/f39/f39/f39/f39/f39/f39/f39/f39/f39/f39/f39/f39/f39/f39/f39/f39/f39/f39/f39/f39/f39/f39/f39/f39/f39/f39/f39/f39/f39/f39/f39/f39/f39/f39/f39/f39/f39/f39/f39/f39/f39/f39/f39/f39/f39/f39/f39/f39/f39/f39/f39/f39/f39/f3+AgH+AgICAf4CAgICAgICAgICAgICAgICAgICAgICAf4CAgICAgICAgICAgICAgICAgICAgICAgICAgICAgICAgICAgICAgICAgICAgICAgICAgICAgH+AgICAgICAf4B/f4CAgH9/f39/f39/f39/f39/f39/f3+Af39/gH9/f39/f39/f39/f39/f39/f39/f39/f39/f39/f39/f39/f39/f39/f39/f3+Af39/f39/f39/f39/f3+Af39/f39/f39/f39/f39/f39/f39/f39/f39/f39/f39/f39/f39/f39/f39/f39/f39/f39/f39/f39/f39/f39/f39/f3+Af39/f39/f39/f39/f39/f39/f39/f39/f39/f39/f39/f39/f39/f39/f39/f39/f3+Af39/f39/f39/f39/f39/f39/f39/f39/f39/f39/f39/f39/f39/f39/f39/f39/f39/f39/f39/f39/f39/f39/f39/f39/f39/f39/f39/f39/f39/f39/f39/f39/f39/f3+Af39/f3+Af3+Af4CAf4CAgIB/gICAgICAgICAgICAgICAgICAgICAgICAgICAgICAgICAgICAgICAgICAgICAgICAgICAgICAgICAgICAgICAgICAgICAgICAgICAgICAgICAgICAgICAgICAgICAgICAgICAgICAgICAgICAgICAgICAgICAgICAgICAgICAgICAgICAgICAgICAgICAgICAgICAgICAgICAgICAgICAgICAgICAgICAgICAgICAgICAgICAgICAgICAgICAgICAgICAgICAgICAgICAgICAgICAf4CAgICAgICAf4CAgH9/f3+Af4CAgIB/gICAgICAf4CAgICAgICAgICAgICAgICAgICAgICAgICAgICAgICAgICAgICAgICAgICAgICAgICAgICAgICAgICAgICAgICAgICAgICAgICAgICAgICAgICAgICAgICAgICAgICAgICAgICAgICAgICAgICAgICAgICAgICAgICAgICAgICAgICAgICAgICAgICAgICAgICAgICAgICAgICAgICAgICAgICAgICAgICAgICAgICAgICAgICAgICAgICAgICAgICAgICAgICAgICAgICAgICAgICAgICAgICAgICAgICAgICAgICAgICAgICAgICAgICAgICAgICAgICAgICAgICAgICAgICAgICAgICAgICAgICAgICAgICAgICAgICAgICAgICAgICAgICAgICAgICAgICAgICAgICAf4CAgICAgICAgICAgICAgICAgICAgICAgICAgICAgICAgICAgICAgICAgICAgICAgICAgICAgICAgICAgICAgICAgICAgICAgICAgICAgICAgICAgICAgICAgICAgICAgICAgICAgICAgICAgICAgICAgICAgICAgICAgICAgICAgICAgICAgICAgICAgICAgICAgICAgICAgIB/f4CAgH+AgICAgICAgICAgICAgIB/gICAf4CAgH+AgICAf4CAf4CAgH+Af3+AgICAgICAgIB/gIB/f39/f39/f39/f39/f3+AgH+Af39/f39/f4CAf39/gIB/f39/f39/f39/f4B/f39/f39/f4B/f39/f39/f39/f39/f39/f39/f39/f39/f39/f39/f39/f39/f39/f39/f39/f39/f39/f39/f39/f3+Af39/f39/f39/f39/f39/f39/f39/f39/gIB/f4B/f4CAgH+AgICAgICAgICAgICAgICAgICAgICAf4CAgICAgICAgICAgICAgICAgICAgICAgH+AgICAgICAf4B/f4CAgICAf3+Af3+Af4CAgICAgIB/f4CAf4CAgICAgICAgICAgICAgICAgH+AgH+AgICAgICAgICAgICAgICAgICAgICAgICAgICAgICAgICAgICAgICAgICAgICAgICAgICAgICAgICAgICAgICAgICAgICAgICAgICAgICAgICAgICAgICAgICAgICAgICAgICAgICAgICAgICAgICAgICAgICAgICAgICAgICAgICAgICAgH9/gICAgICAgICAf39/gICAgH9/f4CAgICAgICAgICAf4B/f4CAf4CAf39/f4B/f4CAgICAgICAf3+AgICAgH+Af39/gIB/f4B/f39/f39/f39/f39/f39/f39/f39/f39/f39/gH9/gH+AgH+Af3+AgH+Af3+AgH9/f4CAf4CAf4B/gIB/gH9/gH9/gIB/f4CAgIB/gICAgH+AgIB/f4CAgICAgICAgICAgICAgICAgICAgIB/gIB/f4CAgIB/gICAgICAgH+AgIB/gIB/gICAgICAgICAgICAf4CAgICAgICAgICAgICAgICAgH+AgIB/f39/f4CAgICAgICAgICAgICAgICAgICAgICAgH9/gICAgICAgICAgICAgICAgICAgICAgICAgICAgICAgICAgICAgICAgICAgICAgICAgICAgICAgICAgH9/gH9/f3+AgH9/f3+AgH+AgH+Af3+Af4CAgH9/gH+Af3+Af3+AgIB/gIB/gIB/gH9/f39/f4B/f4B/f39/f39/f39/f39/f39/f39/f4B/f4B/f39/f39/f39/f3+Af39/f39/f39/f4CAf39/f39/f39/f39/f39/f39/f39/f39/f39/f39/f39/f39/f39/f39/f39/f39/f39/f39/f39/f39/f39/f39/f39/f39/f39/f39/f39/f39/f39/f39/f39/f39/f39/f39/f39/f39/f39/f39/f39/f39/f39/f39/f39/f39/f39/f39/f39/f39/f39/f39/f39/f39/f39/f39/f39/f39/f39/f39/f39/f39/f39/f39/f39/f39/f39/f39/f39/f39/f39/f39/f39/f39/f39/f39/f39/f39/f39/f39/f39/f39/f39/f39/f39/f39/f39/f39/f39/f39/f39/f39/f39/f39/f39/f39/f39/f39/f39/f39/f39/f4B/f39/f39/f39/f39/f39/f3+Af3+AgICAgH9/gH+AgICAf4CAgICAgICAgICAgICAgICAgICAgH+AgICAgICAgICAgICAgICAgIB/gICAgH+AgICAgICAgICAgICAgICAgICAgICAgICAgICAgICAgICAgH9/gICAgICAgIB/gICAgIB/f4B/gICAgICAf4CAgICAgICAgICAgH+AgICAgICAgICAgH+AgICAgICAgH+AgICAgICAgICAgH+AgICAgICAf3+AgH+AgICAf4CAf4CAgIB/f4B/f4CAgICAgICAgICAgICAgH+AgH9/f3+AgH+AgH9/gH+AgH9/f4CAgICAf4CAf39/f39/f39/gH9/f39/f39/f39/f39/f39/f39/f39/f39/f39/f3+AgH9/f39/f39/f39/f39/f39/gH9/gH9/f39/f39/f39/f39/f3+AgH9/f39/f39/gIB/f39/f39/f39/f39/f4B/f39/f39/f39/f39/f39/f39/f3+Af39/f39/gIB/f39/f39/f39/f39/f4CAf3+AgH+Af3+Af3+AgH9/f4CAf39/gICAgIB/f39/f39/f39/gICAf4CAgICAgIB/gICAgH+AgICAgICAgICAgICAgICAgICAgICAgICAgICAgICAgICAgICAgICAgICAgICAgICAgICAgICAgICAgICAgICAgICAgICAgICAgICAgICAgICAgICAgICAgIB/gICAgICAgICAgICAgICAgH9/f4CAgH+AgIB/gIB/f4B/f39/gH9/f39/gH+Af3+AgH9/gIB/f39/f39/f39/f39/f39/f39/f39/f39/f39/f39/f39/f39/f39/f39/f39/f39/f39/f39/f39/f39/f39/f39/f39/f39/f39/f39/f39/f39/f39/f39/f39/f39/f39/f39/f39/f39/f39/f39/f39/f39/f39/f39/f39/f39/f39/f39/f39/f39/f39/f39/f39/f39/f39/f39/f39/f39/f39/f39/f39/f39/f39/f39/f39/f39/f39/f39/f39/f39/f39/f39/f39/f39/f39/f39/f39/f39/f39/f39/f39/f39/f39/f39/f39/f39/f39/f39/f39/f39/f39/f39/f39/f39/f39/f39/f39/f39/f39/gH9/f39/f39/gH9/f3+Af4CAgH+AgIB/gIB/gICAgICAgICAf4CAgIB/f4CAgICAgICAgH+AgICAgICAgICAgH9/gICAgICAgICAgICAgICAf4CAgH9/f3+AgICAgICAgIB/f39/f39/f3+AgICAgICAgICAgICAgH+AgH9/gICAgICAgICAf4CAf39/f4B/f39/f39/f39/f39/f39/f39/f39/f39/f39/f39/f39/f39/f39/f39/f39/f39/f39/f39/f39/f39/f39/f39/f39/f39/f39/f39/f39/f39/f39/f39/f39/f39/f39/f39/f39/f39/f39/f39/f39/f39/f39/f39/f39/f39/f39/f39/f39/f39/f39/f39/f39/f39/f39/f39/f39/f39/f39/f39/f39/f39/f39/f39/f39/f39/f39/f39/f39/f39/f39/f39/f39/f39/f39/f39/f39/f39/f39/f39/f39/f39/f39/f39/f39/f39/f39/f39/f39/f39/f39/f39/f39/f39/f39/f39/f4B/f39/gH+Af4CAf4B/f4B/gICAgH9/gH+AgICAgICAgICAgICAgICAgICAgICAgICAgICAgICAgICAgICAgICAgICAgICAgICAgICAgICAgICAgICAgICAgICAgICAgICAgICAgICAgICAgICAgICAgICAgICAgICAgICAgICAgICAgICAgICAgICAgICAgICAgICAgICAgICAgICAgH+AgICAgICAgICAgICAgICAgICAgICAgICAgIB/gICAgICAgICAf4CAf39/f4CAgICAgICAf39/f4CAgICAf4CAgICAgICAgICAf39/f4CAgH+AgICAgH9/f39/f39/f39/f39/f39/f39/f39/f39/f39/f39/f39/f39/f39/f39/f39/f39/f39/f39/f39/f39/f39/f39/f39/f39/f39/f39/f39/f39/f39/f39/f39/f39/f39/f39/f39/f39/f39/f39/f39/f39/f39/f39/f39/f39/f39/f39/f39/f39/f39/f39/f39/f39/f39/f39/f39/f39/f39/f39/f39/f39/f39/f39/f39/f39/f39/f39/f39/f39/f39/f39/f39/f39/f39/f39/f39/f39/f39/f39/f39/f39/f39/f39/f39/f39/f39/f39/f39/f39/f39/f39/f39/f39/f39/f39/f39/f39/f39/f39/f39/f39/f39/f39/f39/f39/f39/f39/f39/f39/f39/f39/f39/f39/f39/f39/f4CAf39/f39/f39/gH9/f39/f4CAf39/f39/f4CAf39/f39/f39/f39/f39/f4B/f39/f39/f39/f39/f39/f39/f39/f39/f39/f39/f39/f39/f39/f39/f39/f39/f39/f39/f39/f39/f39/f39/f39/f39/f39/f39/f39/f39/f39/f39/f39/f39/f39/f39/f39/f39/f39/f39/f39/f39/f39/f39/f39/f39/f39/f39/f39/f39/f39/f39/f39/f39/f39/f39/f39/f39/f39/f39/f39/f39/f39/f39/f39/f39/f39/f39/f39/f39/f39/f39/f39/f39/f39/f39/f39/f39/f39/f39/f39/f39/f39/f39/f39/f39/f39/f39/f39/f39/f39/f39/f39/f39/f39/f39/f39/f39/f39/f39/f39/f39/f39/f39/f39/f39/f39/f39/f39/f39/f39/f39/f39/f39/f39/f39/f39/f39/f39/f39/f39/f39/f39/f39/f39/f39/f39/f39/f39/f39/f39/f39/f39/f39/f39/f39/f39/f39/f39/f39/f39/f39/f39/f39/f39/f39/f39/f39/f39/f39/f39/f39/f39/f39/f39/f39/f39/f39/f39/f39/f39/f39/f39/f39/f4CAgH9/f39/f4CAgH9/f39/f39/gH9/f39/f39/f39/f39/gIB/f3+Af39/f39/f3+AgH9/gICAf4CAgICAf3+Af39/f39/f4CAf39/f3+AgH9/f39/f39/f39/f39/gICAgH9/f39/f39/f39/f39/gH9/f39/f39/f39/f39/f39/f39/f39/f39/f39/f39/f39/f39/f39/f39/f39/f39/f39/f39/f39/f39/f39/f39/f39/f39/f39/f39/f39/f39/f39/f39/f39/f39/f39/f39/f39/f39/f39/f39/f39/f39/f39/gH9/gH9/f3+Af3+AgIB/f4CAf39/f3+AgICAgIB/gICAf4CAgIB/f4CAgICAgICAgICAgICAgICAgICAgICAgICAgICAgICAgICAgICAgICAgICAgICAgICAgICAgICAgICAgICAgICAgICAgICAgICAgICAgICAgICAgICAgICAgICAgICAgICAgICAgICAgICAgICAgICAgICAgICAgICAgICAgICAgICAf4CAgH+AgICAgICAgICAgICAgICAgH9/f4CAf4CAf39/gICAgIB/f3+Af39/f3+AgICAgICAgICAf4CAgICAf39/f39/f39/f39/f39/f39/f39/f39/f39/f39/f39/f39/f39/f39/f39/f39/f39/f39/f39/f39/f39/f39/f39/f39/f39/f39/f39/f39/f39/f39/f39/f39/f39/f39/f39/f39/f39/f39/f39/f39/f39/f39/f39/f39/f39/f39/f39/f39/f39/f39/f39/f39/f39/f39/f39/f39/f39/f39/f39/f39/f39/f39/f39/f39/f39/f39/f39/f39/f39/f39/f39/f39/f39/f39/f39/f39/f39/f39/f39/f39/f39/f39/f39/f39/f39/f39/f39/f39/f39/f39/f39/f39/f39/f39/f39/f39/f39/f39/f39/f39/f39/f3+Af39/f39/f39/f39/f39/f39/gH9/f39/f39/f39/f39/f39/f39/f39/f39/f39/f39/f39/f39/f39/f39/f39/f39/f39/f39/f39/f39/f39/f39/f39/f39/f39/f39/f39/f39/f39/f39/f39/f39/f39/f39/f39/f39/f39/f39/f39/f39/f39/f39/f39/f39/f39/f39/f39/f39/f39/f39/f39/f39/f39/f39/f39/f39/f39/f39/f39/f39/f39/f39/f39/f39/f39/f39/f39/f39/f39/f39/f39/f39/f3+AgH9/f39/gH9/f39/f39/f39/f39/f39/f39/f39/f39/f39/f39/f39/f39/f39/f39/f39/f39/f39/f39/f39/f39/f39/f39/f39/f39/f39/f39/f39/f39/f39/f39/f39/f39/f39/f4CAf39/f39/f39/f39/f39/f39/f39/f39/f39/f39/f39/f4CAf39/f39/f39/f39/f3+Af39/f39/f39/f39/f39/f39/gICAf39/f39/f39/f39/gIB/f3+AgICAf39/f4CAf39/f3+AgIB/gIB/gIB/f3+AgH9/f4B/f4CAgICAgICAgICAf4CAgH9/gH+Af39/f4CAgIB/f4CAgIB/gH9/gH9/f39/gH9/f39/f4B/f3+Af39/f39/f39/f39/f39/f39/gH9/f39/f39/f39/f39/f39/f39/f39/f39/f39/f39/f39/f39/f39/f39/f39/f39/f39/f39/f39/f39/f39/f39/f39/f39/f39/f39/f39/f39/f39/f39/f39/f39/f39/f39/f39/f39/f39/f39/f39/f39/f39/f39/f39/f39/f39/f39/f39/f39/f39/f39/f39/f39/f39/f39/f39/f39/f39/f39/f39/f39/f39/f39/f39/f39/f39/f39/f39/f39/f39/f39/f39/f39/f39/f39/f39/f39/f39/f39/f39/f39/f39/f39/f39/f39/f39/f39/f39/f39/f39/f39/f39/f39/f39/f39/f39/f39/f39/f39/f39/f39/f39/f39/f39/f39/f39/f39/f39/f39/f39/f39/f39/f39/f39/f39/f39/f39/f39/f39/f39/f39/f39/f39/f39/f39/f39/f39/f39/f39/f39/f39/f39/f39/f39/f39/f39/f39/f39/f39/f39/f39/f39/f39/f39/f39/f39/f39/f39/f39/f39/f39/f39/f39/f39/f39/f39/f39/f39/f39/f39/f39/f39/f39/f39/f39/f39/f39/f39/f39/f39/f39/f39/f39/f39/f39/f39/f39/f39/f39/f39/f39/f39/f39/f39/f39/f39/f39/f39/f39/f39/f39/f39/f39/f39/f39/f39/f39/f39/f39/f3+Af39/f39/f39/f39/f39/f39/f39/f39/f39/f39/f39/f39/f39/f39/f39/f39/f39/gH9/f39/f39/f39/f39/f39/f39/f39/f39/f39/f39/f39/f39/f39/f39/f39/f39/f39/f39/f39/f39/f39/f39/f39/f39/f39/f39/f39/f39/f39/f39/f39/f39/f39/f39/f39/f39/f39/f39/f39/f39/f39/f39/f39/f39/f39/f39/f39/f39/f39/f39/f39/f39/f39/f39/f39/f39/f39/f39/f39/f39/f39/f39/f39/f39/f39/f39/f39/f39/f39/f39/f39/f39/f39/gIB/f39/f39/f39/f39/f3+Af39/f4B/f39/f39/f39/f39/f4CAgH9/gH9/f39/f39/f39/f3+AgH9/f3+Af39/f39/f4B/f4B/f3+AgIB/f39/f39/gICAgH9/f39/f39/f4CAgICAgH9/f3+Af3+AgICAgICAgICAgICAgICAgICAgICAgICAgICAgICAgICAgICAgICAgICAgICAgICAgICAgICAgICAgICAgICAgICAgICAgICAgICAgICAgICAgICAgICAgICAgICAgICAgICAgICAgICAgICAgICAgICAgICAgICAgICAgICAgICAgICAgICAgICAgICAgICAgICAgICAgICAgICAgICAgICAgICAgICAgICAgICAgICAgICAgICAgICAgICAgICAgICAgICAgICAgICAgICAgICAgICAgICAgICAgICAgICAgICAgICAgICAgICAgICAgICAgICAgICAgICAgICAgICAgICAgICAgICAgICAgICAgICAgICAgICAgICAgICAgICAgICAgICAgICAgICAgICAgICAgICAgICAgICAgICAgICAgICAgICAgICAgICAgICAgICAgICAgICAgICAgICAgICAgICAgICAgICAgICAgICAgICAf4CAgICAgICAf4CAgICAgICAgICAgICAgICAgICAgICAgICAgICAgICAgICAgICAgICAgICAgICAgICAgICAgICAgICAgICAgICAgICAgICAgICAgICAgICAgICAgICAgICAgICAgICAgICAgICAgICAgICAgICAgICAgICAgICAgICAgICAgICAgICAgICAgICAgICAgICAgICAgICAgICAgICAgICAgICAgICAgICAgICAgICAgICAgICAgICAgICAgICAgICAgICAgICAgICAgICAgICAgICAgICAgICAgICAgICAgICAgICAgICAgICAgICAgICAgICAgICAgICAgICAgICAgICAgICAgICAgICAgICAgICAgICAgICAgICAgICAgICAgICAgICAgICAgICAgICAgICAgICAgICAgICAgICAgICAgICAgICAgICAgICAgICAgICAgICAgICAgICAgICAgICAgICAgICAgICAgICAgICAgICAgICAgICAgICAgICAgICAgICAgICAgICAgICAgICAgICAgICAgICAgICAgICAgICAgICAgICAgICAgICAgICAgICAgICAgICAgICAgICAgICAgICAgICAgICAgICAgICAgICAgICAgICAgICAgICAgICAgICAgICAgICAgICAgICAgICAgICAgICAgICAgICAgICAgICAgICAgICAgICAgICAgICAgICAgICAgICAgICAgICAgICAgICAgICAgICAgICAgICAgICAgICAgICAgICAgICAgICAgICAgICAgICAgICAgICAgICAgICAgICAgICAgICAgICAgICAgICAgICAgICAgICAgICAgICAgICAgICAgICAgICAgICAgICAgICAgICAgICAgICAgICAgICAgICAgICAgICAgICAgICAgICAgICAgICAgICAgICAgICAgICAgICAgICAgICAgICAgICAgICAgICAgICAgICAgICAgICAgICAgICAgICAgICAgICAgICAgICAgICAgICAgICAgICAgICAgICAgICAgICAgICAgICAgICAgICAgICAgICAgICAgICAgICAgICAgICAgICAgICAgICAgICAgICAgICAgICAgICAgICAgICAgICAgICAgICAgICAgICAgICAgICAgICAgICAgICAgICAgICAgICAgICAgICAgICAgICAgICAgICAgICAgICAgICAgICAgICAgICAgICAgICAgICAgICAgICAgICAgICAgICAgICAgICAgICAgICAgICAgICAgICAgICAgICAgICAgICAgICAgICAgICAgICAgICAgICAgICAgICAgICAgICAgICAgICAgICAgICAgICAgICAgICAgICAgICAgICAgICAgICAgICAgICAgICAgICAgICAgICAgICAgICAgICAgICAgICAgICAgICAgICAgICAgICAgICAgICAgICAgICAgICAgICAgICAgICAgICAgICAgICAgICAgICAgICAgICAgICAgICAgICAgICAgICAgICAgICAgICAgICAgICAgICAgICAgICAgICAgICAgICAgICAgICAgICAgICAgICAgICAgICAgICAgICAgICAgICAgICAgICAgICAgICAgICAgICAgICAgICAgICAgICAgICAgICAgICAgICAgICAgICAgICAgICAgICAgICAgICAgICAgICAgICAgICAgICAgICAgICAgICAgICAgICAgICAgICAgICAgICAgICAgICAgICAgICAgICAgICAgICAgICAgICAgICAgICAgICAgICAgICAgICAgICAgICAgICAgICAgICAgICAgICAgICAgICAgICAgICAgICAgICAgICAgICAgICAgICAgICAgICAgICAgICAgICAgICAgICAgICAgICAgICAgICAgICAgICAgICAgICAgICAgICAgICAgICAgICAgICAgICAgICAgICAgICAgICAgICAgICAgICAgICAgICAgICAgICAgICAgICAgICAgICAgICAgICAgICAgICAgICAgICAgICAgICAgICAgICAgICAgICAgICAgICAgICAgICAgICAgICAgICAgICAgICAgICAgICAgICAgICAgICAgICAgICAgICAgICAgICAgICAgICAgICAgICAgICAgICAgICAgICAgICAgICAgICAgH9/gH9/gICAf3+AgH9/f39/gIB/f39/f39/f39/f4CAgH9/f39/f39/f39/f39/f39/f39/f39/f39/f39/f39/f3+AgH9/f39/f39/f39/f39/f39/f39/f39/f3+Af3+Af39/f39/f39/gIB/gIB/f4CAgH9/gIB/gIB/f4CAgICAgICAgICAgH9/gICAgH+AgH9/gIB/gICAgICAgICAgICAgICAgICAgICAgICAgICAgICAgICAgICAgICAgICAgH+AgIB/gICAgICAgICAgICAgICAgICAgICAgICAgH+AgICAgICAgICAgICAgICAgICAgICAgICAgICAgICAgICAgICAgICAgICAgICAgICAgICAgICAgICAgICAgICAgICAgICAgICAgICAf39/f4CAgICAf39/f39/f39/f39/f39/f3+Af39/f39/f39/f39/f39/f39/f39/f39/f39/f39/f39/f39/f39/f39/f39/f39/f39/f39/f39/f39/f39/f39/f39/f39/f39/f39/f39/f39/f39/f39/f39/f39/f39/f39/f39/f39/f39/f39/f39/f39/f39/f39/f39/f39/f39/f39/f39/f39/f39/f39/f39/f39/f39/f39/f39/f39/f39/f39/f39/f39/f39/f39/f39/f39/f39/f39/f39/f39/f39/f39/f39/f39/f39/f39/f39/f39/f39/f39/f39/f39/f39/f39/f39/f39/f39/f39/f39/f39/f39/f39/f39/f39/f39/f39/f39/f39/f39/f39/f39/f39/f39/f39/f39/f39/f39/f39/f39/f39/f39/f39/f39/f39/f39/f39/f39/f39/f39/f39/f39/f39/f39/f39/f39/f39/f39/f39/f39/f39/f39/f39/f39/f39/f39/f39/f39/f39/gH9/gICAf3+AgICAgICAgH9/f3+AgICAgICAgICAgICAgICAgICAf3+AgH9/f39/f4B/f39/f39/f39/f3+AgH9/f39/f39/f39/f39/f4CAf39/f39/f39/f39/f39/f39/f3+Af3+AgICAgICAgICAf3+Af39/f39/f39/gICAgICAgIB/f39/f39/f39/f3+AgICAgICAgH9/f39/f39/f39/f3+AgIB/gICAf39/f39/f39/f39/f39/gIB/gH9/f39/f39/f39/f3+AgICAgICAgIB/f39/f39/f39/gICAgICAgICAgICAgICAf39/f39/f4CAgICAgICAgICAgIB/f39/f39/f3+AgICAgICAgICAgICAgIB/f39/f39/f4CAgICAgICAgICAgH9/f39/f39/f3+AgICAgICAgIB/f39/f39/f39/gH9/f4CAgICAgH9/f39/f39/f39/f39/f39/f39/f39/f39/f39/f39/f39/f3+AgICAgICAf39/f39/f39/f39/f39/gH9/f4CAgICAgIB/f39/f39/f39/f39/f4CAf3+AgIB/f39/f39/f39/f39/f39/gIB/f39/f39/f39/f39/f39/f39/f3+AgICAgICAf39/f39/f39/f39/f39/f4CAgICAgIB/f39/f39/f39/f39/f39/gICAgH9/f39/f39/f39/f39/f39/f39/f39/f39/f39/f39/f39/f39/f39/f39/f39/f39/f39/f39/f39/f39/f39/f39/f39/f39/f39/f39/f39/f39/f39/f39/f39/f39/f39/f39/f39/f39/f3+Af39/f39/f39/f39/f39/f39/f39/f39/f39/f39/f39/f39/f39/gH9/f39/f39/f39/f39/f3+AgH9/f39/f39/f39/f39/f39/f4CAgICAf39/f39/f39/f39/gICAgICAgIB/f39/f39/f39/f39/f39/gICAgICAgH9/f39/f39/f3+AgIGBgYGBgYB/f39+fn5/f3+AgICAgYGAgICAgH9/f39/f39/f39/f39/f4CAgICAgH9/f39/f39/f39/f4CAf39/f39/f39/f39/f39/f39/f39/f39/f39/f39/f39/f39/f39/f39/f39/f39/f39/f39/f39/f39/f3+AgH9/f4B/f39/f39/f39/f4CAgICAgIB/f39/f39/f39/f3+AgICAgICAgICAgH9/f39/f39/f4CAf4CAgIB/gIB/f4B/f4CAf39/f3+AgICAgICAf39/f4CAgICAgICAgICAgICAgICAf4B/f3+AgICAgICAgICAgICAgIB/f39/f39/f39/f4CAgICAgICAgH9/f39/f39/f3+AgICAgICAgH+Af3+AgH9/f39/gICAgICAgICAgH+AgH9/f39/f39/f4CAgICAgIB/gH9/gH+AgICAgH9/gH9/f39/gH9/gICAgICAgH+AgICAgICAgH9/f39/f39/f39/f39/gICAgIB/f39/f39/f35/f35/f39/f4CAgICAf39/f39/f39/f39/f3+Af39/f39/f39/f3+Af3+Af3+Af39/f39/f3+Af39/gH9/f4CAgICAgICAgIB/f39/f39/f4CAgICAgICAgIB/f39/f39/f39/f4CAf3+Af39/f35/f35+fn9/fn5+fn9/fn9/f35/f35+f39/f39/f39/f39/f39/f39/fn9/f39/f39/f39/f3+AgICAgYGBgYGBgICAgICAgICAgICBgYGBgYGBgYGBgYCAgICAgH9/f39/f3+AgICAgICAgIB/gIB/f39/f39/f39/f4CAf4CAgICAgICAf39/f35+fn5+fn19fn5+fX5/fn1+f39/f35+f4B/fn5/f319fn59fn+AgICBgoKCgoKCgoGAgICAf3+AgICAgYGBgYKCgoKCgoKCgYGAgICAgICAgICAgICAgYGAgICAgIB/f39/f39/f4CAgICAgICAgH9/f39/f39/fn5+f39+f35+fn5+fX19fHx8fHx8fHx8fHx8e3x8fHx9gIKCgoWIiIaDgoKAfXp4eHh4eXt8foCBg4SEhISDg4OCgX9/gYB9fH5+fX1+f4CBg4SFhoeGhoWEgoKCgX9+gIGAgIGCgoGBgYGAgH9/f39/fn5/fn1+f39+f4CBgoKCgoGAgH98fHx7e3t7fH19fn5+fn19fX19fX19fX59fX17e3t9fn9/gIOGh4aFhISDgH16eXl5eXl7fX+AgYKDg4KCgoGBgICAgYGAf4CAf35+f39/gIGDhIWGhoaFhYSDgoGAgIB/f4CAgICAgIGBgICAgICAgICAf39/f3+Af3+AgYKBgYGBgH9+fX1+fn59fn9/fn5+fXx8fXx7e3x9fX19fXx8e3p5en1/gIGEh4qKiIWEg4B7eHZ2dnZ3eXt+gIKDhISEg4KCgoKBgICBgX99fX19fHx9f4CBhIeHh4iIh4WDgoGAf35/f4CAgIGCgoGBgoGAgICBgH+AgICAf35/gICAgYGCgoODgYCBgH59fXx8fHx9fX6Af35/f318fHx7e3p5eXl6enh4e36AgYOFiIqLioeFhIJ+end1dHV1dXd6fYCBg4WGhYWGhYSDgYB/fnx7enl4eXt8fX6BhIWHiYqKiYiHhoSBf359fXx8fH5/f4CBgoKCg4SDgoKDgoGBgH9/f39+f4CAgoODg4OCgoF+fHt7e3p6e3x9f4B/f39/fn17ent6eXp5eHl5eHd3eXt/gYOFh4yQj4yIh4WBfHZzcnJzc3R3e36Ag4WFhYWGh4WEgoGBgX97eXh5eXd2eHx/gYSIi42Njo6LiYaEgX58e3p6e3x9foCBgoKDhIODg4OCgYGBgH9/f39+fn5+f4B/fn+Af318fn59fX1+fX19fX17e3t6eHd4eHd3d3h7f4KEhYiNkI6LiomGgn56d3Vzc3N0dnd5fYCCg4SGh4iIh4aEg4J/fHl3dXV1dXZ3e3+ChYeKi4yNjIuJhoWEgn9+fX19fHx8fX5/gIGCgoODhIODgoGBgH9+fn5+f3+AgIGBgYCAgH9+fXx7e3t6e3x7enx9fHp6enp5d3d4eXp7fYCEh4eIiYyNioWDg4J/e3h3eHl4d3d6fH1+gIKDhIWGh4eGhIKBgH56dnV2eHh3eHuAhIWGh4mLjIuJiIeGhYSCgH19fn58enp8f4B/gIGDhYWDgoKCgYB/fXx8fH1+fn5/gYCAgH9+fn18fHx7eXl7fXx6ent8e3p5eXl6enp7fYGGh4aIi42MiYWDhIN/enh5enp4d3h6fHx9fn+BgoSFhoaGhoWEgoF+e3l5eHh4eXp8foKEhIWHiYqJiIiJiIeHhYOCgYB+fHt6e3t7fH1+gIKCgoOEhIOCgYGBgH9/f39/f35+fn19fHt8fHp6enp6e3p5enp6enp5eXl5ent9f4GDhIaIioqJh4eGhYOBf35+fXx7e3p7e3t7e3x8fn+BgYGCg4SEhIOCgYGAf359fn5/f4CBgYGBgoODg4SFhYaHh4eHhoWEg4GAf35+fX19fX5/f39/gICAf3+AgIGBgYGCgoGBgYB+fn59fHt6ent5eHh3d3h3dnZ2dnd4eXp9f4KEhoeJioqJiIeHh4WDgoGAgH9+fHt6enp5eXl5enx9fn5/gIKCgYGBgYGBgYGAgYGCgoKCgoKDg4KCgoOEhYSEhIWFhYSDgoKBgYF/f39/f39/f39/f39/fn5/f4CBgYCBgoKBgYB/f359fHx6enp5eXl4eHh3dnd2dXZ2dnh7fH+AgYOGiIiIh4eIiIeHhYOEhIOCgH59fn18enh4eXp6enp6e319fn19fX+AgICAgYKDhIWEhIWGh4aFhoaGhoWFhYWEhIOCgYGAgH9/f39+fn9/f35+f39/f4CAgICBgYKCgoGBgICAf359fHx7enp5eXl4d3d3dnV0dHV2d3l7fX+Bg4WIiIeIiImJiIeHh4eGhYOCgX9+fXt5eHh4eXl4eXp6e3x8e3x8fX5+fn+BgoOEhISFhYaGhoaGh4eHh4eHh4aFhIOCgYGAgH9/f39/f35+fn5+fn5+fn9/gIGCgoGCgoKCgYGAgICAf359fXx7eXl4eHd2dnV0dHR0dnd5eXp9gIOEg4WIiYmJiYqKiYiJiYeEg4KCgX57enp6eXd3d3h4eXl6enp7fH19fX5/gIGDg4ODhIaGhoWGh4eHh4eHhoaGhYWEgoGBgIB/fn5+f39+fn5+f35+fn5/gICBgYGCgoOCgoKBgYGAf35+fn18enp5eHd2dnV0cnJyc3V2dnd5fICCgoKEh4iIiImKiYiJi4uIhYWGhoOAfn19fHp4d3d4eHh4eHh4eXp7e3p7fH5/gICAgoSEhISFh4eHh4iIiYiIiIiHhYSEg4GAgH9+fn5+fn19fn59fn9/f3+AgYGBgYGBgYGBgYGBgICAgH9+fnx7enp4d3Z1c3FwcHFyc3R3enuAhYeIiImLjYuJiYiHh4aFg4F/fn59e3h3d3l5eXl6fH+AgIGCgoKDhIKBgYGBgYB/fn18fHt5eXl7fX6AgoWIioyNjI2NjYuJh4WEgYB+fXt6eXl5eXp7fH6AgYKEhYaGhYWFhYSDgoGBgIB+fXt5eHl4dXNzdHVzcXBxcnFxc3Z6fYCGi4+RkpKSkY6JhoOBfnt4eHh3dnZ1dnd4eHp8f4KFh4qNjYyLioiFgn57enh2dHR0dHR0dXZ3eXt9gISIjI+Sk5WWlJGOi4eEf3t4d3V0dXV1d3p8foCDhoiKi42OjYuKiIWDgH58e3l3d3d3d3d1dHV1dHR1dXd5enp6enl5eXp9gYKChoyQkIyKi4uHgXx6eXh2dXZ3eHl7fH5+fn+ChYeIiYqNjoyJhYKBfnp1c3JycnJzdXZ3eHt8fX6BhIeJi46QkpKRkI2JhoOAfHh2dnZ2dnd5fH6Bg4WHiYuNjY2NjIuJhoOAfXt5d3Z2dXV2d3h4eHd3eHd3eHl5fH18ent6eHh5e3x+gISKjYyLjIyKhoJ/fXt6eXl6enp8fn9+fX5/gYKDhYeJiouKh4SCgHx5dnRzc3R1dnZ3eXt8fX5/goSGiIqLjY+PjoyLiIWDgHx7enl4eXl6fH5/gYOFh4mLi4yNjYyLiYWCgH57eXd3d3Z2d3h4eHl5eXl5eHl7fHx9fn19fHt5dXNzd3l6fICHjI6OjY6NioeEgn99fH19fXt7fHx7enl5en2AgoSGiYuLiYeFg398enl3dXV2eHd3dnh5enp7fX+ChYiJi4yOj42LioiFg4F/fXx8e3t8fHx+f4CChIWIiouLjIyLiYeEgn99e3p5eHh3d3h4d3d3eHh4d3h6fH19f35+fn57eHZ1dXV4enx/g4iNjo2NjY2Lh4SCgX9+fX18enp5eXl4d3h7fn+Bg4WHiYmHhYSCgH57enl3d3Z3dnV2d3h5eXp9gIOFh4iKjI2NjIqJiIeFgoB/f359fXx8fX6AgYKDhYeJioqKioqIhoSBf317enh3dnZ2dnd2dnd4eXp8fH1+gIGAgICAf359e3l3dXV1d3h5fICFiYqKjI+QjYqIh4WCgH59fHp4eHh3dXV2eHp7fH6BhYeIh4eHh4WCf317eXd2dnVzc3V3eHl5fH+Cg4WHiYuOj46NjY2MiYaEgYB+fXt7e3t8fn+AgYOFh4eHh4iIh4WDgoB+fHt6eHh4d3d4eHh5e3x8fH1+f4CAf4CBgIB/fnx7eXd1dHV1dXh7gISIioyPkZCNi4qIhYJ+fXx6eHd3dnV1dXV2eHl6fYGDhIWGh4eGg4F/fnx5eHh3d3d4eXp6ent9f3+AgoWIiYuMjo6OjY2LiIWDgYB+fHt7fHx8fX5/gYGCg4SFhYWGhoWDgoKAfnx7ent6eXl6enp7e3t8fHx9fn5+f4CAfn5+fHp6end2dnZ4e3x9gYaKiouNjo2LiYaFg398e3t4dnV1dXV1dHR2eXp6fH+Bg4WFhoeHhYODgX98e3p6eXd3eHp6enp8fX+AgYKFh4mKjI6Ojo6Ni4mGg4F/fHp5eXl5e31+f4GDhIWGhYWGhoWEhIOCgYB/fnx7enp5eXh4eXp6e3t9foCAf4CBgYGBf358fHt6eHZ1dnp8fX+ChoiLjIyLiYeFhYJ9enl5eXh3dXV2d3d2dnZ3en1/gYOFh4mLioeFhIOBf3t6eXl5eHl5eHl6e3t8fH6AhIeJioyPkZKRjoyJiIWCfnx6enp7ent8fn+AgYGChIWGhoeHh4eHhoOCgH9+fHt5eXp6enp7e3x8fX19fH5/gICAgICAf318e3l3dnd4eHp9gIOFhoeJiomGhIOBf358e3p6enl5eXh4eHh4eHl6e36Bg4SFhoeHhoWDgoB/fXx7eXl5eXl5eXl6e3x9f4KFh4mLjpCRkZCPjYqHg4B+e3l5eXl6e3x+f4GCg4OEhYWGhoaGhoaFhIOCgH99e3t5eXl5eXl7e3t9fX19fX59fn58e3t7eXl4eHh4enx+gYKEh4qLiomIh4WCgH18enh4eXh4eHh5eXl4eHh6fH1+gIOFh4iIiIeGg4F/fXt5eHh4eHh4ent7fHx+f4GEhoiJjI+RkZGPjoyKhoJ/fXp6enp6enx9f4GBgoOEhYWFhoaHh4eHhoWDgoF/fXt5eHh4eHh4eXt7e3x7e3x8fHt7e3p6e3t6ent7fX+AgYOEhoiJiYiHh4aEgX58e3l4eHd3d3d4eHl4eHl7fH1+f4GDhYaGh4aGhYSCgH58enp5eHd3eHl6e3t8foCChIWHiYyOj4+Pj46Ni4eEgn99fHt6eXp8fX6AgIGDhISEhIWFhoaGhoaFhISCgH58e3p5eHh3d3h5eXl5eXp6enl4eXl5eXl6enx9foCDhISGiIqLiYiHh4aEgX59fHp4eHd2dnZ2d3h3d3h6e3x9fn+ChIWFhoeHhoWEgoB+fHt6eXh3d3h5eXp7fH+BgoSGiIuNjo+Pj4+OjIqHhIKAf317e3t7fH19fn+AgYKCg4OEhYWGhoaGhoWEgoB/fnx7enl4eHd3d3d3dnZ3eHd2dXV3eHh4eXt+gYOGiImLjY6NjIqJiIWDgX58enl5eHd1dXV1dXR0dHV3eHp8foCChYeIiIiIiIeFhIGAf359fHp6eXp5eXl5enx9f4GEhoiLjY+Pj4+OjYyJhoSDgX9+fX19fX19fX1+fn+AgIGBgoSFhYaGhoaGhIOBgH58e3l4d3d2dnZ1dXR0dHNycnJzdHZ4fICDhomNkJGRkJCPjYuHhYOBf318e3p4d3V0c3JwcHBwcnR1d3p+gYOEhoiJiYiIh4eFhISEg4KAf359fHp5eHh5eXt9f4GDhoiKiouLjIuKiYiHhoaFhIOCgoGAf359fXx8fH19fn+Bg4OEhIWFhYSDgoGAfn59fHt5eHd3dnRycXFwcG9vcXN1eHt/g4aIjI+RkY+Pj4+NioiHhYSCgH58enh2dHNxcG9vcHFzdHV3e31/gIGDhIWFhYaGh4eHiIeGhYSDgoB/fXx8fH19fn+AgoODg4SFhYWFhYWGhoeHh4eGhoWEg4KBgH9/f39+fn9/f39/f39/gICAf39/f39+fX17enl4d3VzcnJxcXFxc3V3en1/goaJi42Njo+Pjo2Mi4qJh4aEgoB9e3l3dXNycXFxcnNzdHZ3eXt7fH1/gIGDhIWGh4iIiYiIh4aGhYWEg4ODg4ODgoGBgIB/f39/f4CBgoOEhYWGhoaFhYSEhISEhISDg4OCgYB/fn19fXx8fX19fX19fHx7enh3dnZ1dHNzc3Nzc3R3enx9f4KGiYuMjI2Oj46NjYyLiYiIhoSBfn17eXZ0c3JxcXJzdHR1dXZ4eXp7e3x+gIGDhIWGh4eIiIiIiIiJiYmJiYiIh4WEg4F/fn59fX19fX1+fn9/gICBgoKDhIWGhoeHh4aFhISDgoGAf39+fX18e3t6eXl5eXl4eHd3dnZ1dHNzcnNzdXh6fX+AgoOFhoeIiYqKi4yNjYyMjIuJhoSCgX9+fHt6eXd3dnZ1dHR0dHR1dnd4eXp7e3x9fn+AgYOEhYaHiImJiYmIiIeGhoWEg4KBgICAgH9/f35+fn9/gICBgYKDg4SEhIWFhYWEg4ODgoKBgYB/f35+fX18fHx8fX19fX1+fn59fX19fX19fXx9fXx8fHx8fHx8fH19fX5+f39/gICAgICAgIGBgYGBgYGBgYGBgYGBgYGBgYGBgYGBgYGAgYGAgICAgIB/f39/f39/fn5+fn5+fX19fX5+fn9/gICBgYKDg4SFhoeHiIiIiYmJiIiIh4aGhYOCgYB/fn19fHt7e3t7e3t7e3x8fH1+fn9/gICAgICAf39/f35+fn59fX19fX18fHx8e3x8fHx9fX19fn5+fn9/f39/gICAgICBgYGBgYKCgoKCgoKCgoKCgoKCgYGBgICAgIB/f39+fn5+fn5+fn5+f39/gICBgYGCgoODhISFhYWGhoaGhoWFhYSEg4OCgoGBgIB/f35+fn19fX19fX1+fn5+fn5+fn19fX19fXx8fHx8fHx7e3t7e3t7fHx8fH19fX5+f3+AgICBgYGBgYGBgYGBgYGBgYGBgYGBgYCAgICAgH9/f39/f39/f35+fn5+fn5+f39/f39/gICAgYGBgYGCgoKCg4ODg4OEhISEhISDg4ODg4ODg4KCgoKCgYGBgICAgH9/f39/f39/f39/f39+fn5+fn59fX18fHt7e3p6eXl5eXl5eXl5enp6e3t8fH1+fn9/gIGBgoKCgoODg4ODg4ODg4KCgoGBgYCAgH9/f39/f39/f39+fn5+fn5+fn5+f39/f39/f39/gICAgIGBgoKCg4ODg4OEhISEhIWFhYWFhYWEhIODg4OCgoKBgYGBgICAgH9/f39/f39/f39/f35+fn19fXx8fHt7e3p6enl5eXl5eXl6enp7e3x8fX1+fn9/f4CAgYGBgYGBgYGBgYGBgICBgYGBgYCAgYCAgICAgYCBgoKBgICBgYB/fn9/fn19fX5+fn5+f4CAgIGBgoODg4SFhYWFhYWFhYWFhYaFhYWFhISEhoeGhIODhIOCgoOCgH19fX59fXx9fXx6ent7e3p5eXl4d3d3d3Z1dnd4eXl5enp7fn+AgYKEhYWFhoaHh4iIiIaEhISEgoGAf319fHp5eHh5eHh3d3d3eHl6eXp7fH1+fn5/gIKDg4OFh4eHiImLi4uLi4uLioqKiIeHhoWEg4KCgoGBgH9/f39/f39/f39/f39/gICBgYCAgICAgH9/f39/fn19fHt7eXh4d3V0c3NycHBwc3d5d3R0eoCDg4GDh4mJiYuMi4qMjouHg4SGhoN+e3p5eHd2dHJyc3RzcnFydXh5eHd5e36AgoOCgoWHiIeGiIuNi4iIiYuLi4qIhoaHh4aDgoODgoB/f3+AgYKAfn+BgoKBgYKCg4OCgoKChISDgYCBgYGAf39+fn17enl4eHd1dHNxcG9ub25uc3l5dHB1gYiGgoOJjIuLj5KPi42SkoqDg4eJhX96eHd2dXZ0cW1ucXNxbm5yd3l3dnh7fYCEhoWChImMioeIi42LiYmJiIaIi4mFg4WGhIKCg4KBgIGBf36AgoKAgIKDgoKEhYSEhYWFg4OEhYSBgIGAf35+fnx8fHt5d3Z4d3V0dHNycG9wcXFydXh5d3Z5gIWHh4eIi42Ojo6Pj46OjYqGhISFhIB7d3Z2dnRzcXBvcHFxcXBydnl5d3d6foGChISEhYeJiomIiYuLiYeGh4iHh4eFg4OEhYSCgoKCgYGBgYGAgYKCgYGCg4ODhIWFhISEg4SDgoKBgH9/f359fHx8fHx7enp6eXl6eXh4eHl4d3d2dnZ3eHp7e3x+fn+BhIaHh4eIiImKiYmJiIeGhIKBgIB+fHt6d3V2dnZ0dHR1dXV2d3h5ent9fX1/gYODg4SEhYWGhoaGhYWFhYWEhIWFhYSEg4SEhYSEg4ODhISEhISEhYWFhYSFhYWFhISDgoKCgYGAgH9+fn19fXx8e3t8fHt7ent6enp5eHh4d3Z0c3R0dHR2en16dniAhYaEhIeJiomKi4yKioyMiISBg4WEgHt4eHh3dXR0cnFzdHRycnR4enp5eXx/gIKEhYODhomIhoWHiYiGhoeGhYSFhoSDhIaEgoKEhIODhISDgoODg4KChISDgoOEg4KCg4KBgYKCgYCAgIB+fn5+fn1+f318fHx8fHt8e3l3d3l5dnR1dXV1dXd4eHp7fH1+gYSFhYaHiIiIiYqJh4eHhYOBgH9+fHx6eHd2dXZ1dHR0dXZ2d3h5enx9fn+AgYKDhISEhIWFhYWFhYWGhoaFhISFhoaFhYaFhISEhIODhISDgoKCgoKCgoKCgoKBgYCAgYGAgIB/f39+fn5+fn5+fn19fX59e3p8fXx7eHd3eHd2dnZ2dnd4ent7e3yAg4ODg4SGiIiHhoaIiIeGhYKAgYGAfXt6eXl4dnV1dXV2d3d1dXh7e3t8fX5/gIGCgoKDhYaFhISFhoaHhoWFhYaGhoaGhoaGhYODg4SEg4KBgYGBgYGBgoKCgoKBgYGCgoGAgICBgYB/f39/f39+fX1+fn18fHx8e3t7enl4eHh3dnZ2dnd4eXp6e3t9f4CBgoOEhIWGhoaGh4aGhYWEgoGBgH99fHt7enl4eHd3d3h4d3h4eXp6e3x9fX9/f3+AgYGCgoKCgoODhISEhYWGhoWFhoWFhYWFhISDg4OCgoKCgoGBgYGBgYGBgICAgICAgICAgX59goJ8fYOCfX6BgH1+gH9+fn9+fHx9fHt7e3p5eHh5eHd4eXl5enp6ent9fn5/f4CAgIKCgYKCg4OCgoGBgYCAgH9+fX5+fXx8fX19fX19fX1+fn5+fn5+fn5+fX19fX19fX19fn5/f3+AgIGBgoKCg4OEhISEhYWFhYWFhYWFhYWEhISEg4ODg4KCgoKBgoKBgYGBgYCAgICAgICAf39/f39/fn9+fn5+fn59fX18fHx8e3t7e3t6enp6enp6enp6enp7e3t7fHx8fH19fn5+fn9/f3+AgIGBgYGBgYKCgoKCgoKCgoGBgYGAgH9/fn59fX18fHx8fHx8fHx9fX1+fn5/gICBgYKDg4OEhISEhYWFhYWFhYWFhYWFhYWFhISEhISDg4ODg4KCgoKCgoKCgYGBgICAgICAf39/f39/f35+fn59fX19fX18fHx8e3t7e3p6enp6eXl5eXl6enp6ent7fHx8fX1+fn9/gICAgYGBgYGBgYGBgYGAgICAgICAf3+AgICAgICAgICAgICAgICAgICAgICAgH9/gICAgICAgICBgYGCgoKDg4ODg4SEhISFhYWFhYWFhYWFhYWEhISEg4ODgoKCgYGAgIB/f35+fn59fX19fX19fHx9fHx8fHx8fHx8fHx8fHx8fHx8fHx8fHx8fHx8fHx8fHt7e3t7e3t7e3t7fHx8fHx9fX1+fn5/f3+AgICBgYGBgYGCgoKCgYGBgYGBgYCAgICAf39/f39/f39/gICAgICAgYGBgoKCgoODg4SEhISEhISEhISEg4ODg4OCgoKCg4OCgoGBgYGAf39/f39+fn5+fn5+fn5+fX19fX19fX19fn5+fn5+fn5+fn5+fX19fX19fX19fX19fHx8fHx8fHx8fHx8fHx8fHx8fX19fX19fn5+fn5/f39/f39/gICAgICAgICAgICBgYGBgYGBgoKCgoKDg4ODg4ODg4OCgoKCgoKCgoKCgYGBgYGBgYGBgYGBgYGBgYGBgYGBgYGBgYGBgYGAgICAgIB/f39/f35+fn5/gH99fX9+fX19fX19fHx8fHx8fHx8fHx8fHx9fX19fXx+gH58fX9+fX5+fn5/fn19fn59fn19fX19fX1+fn5+fn9/f4CAgIGBgIGBgYKCgoKCg4KDg4OCgoOCgoKBgYGBgYGBgYGBgYGBgYGBgoKBgYKCgYGCgoGCgoKCgYGCgoGBgYCAgICAgH9/gIB/gIKCgH5/f39/f359fn99fX5+fn59fX19fn19fn18fX19fX19fHx9fXx8fHx8fHx7e3x8fH1/gH5+f4B/gIB/f4B/fn9/gICBgICAgYGBgoKCgYGCgYGCg4KCgoKCgYGBgYGBgoGBgH+BgoGAgYGBgoGBgoODgoKCg4KBg4OCgYKCgYGBgoCAgYGBgH+AgX9/f4B/fn+Af31+f35+fn5+fX1+fn18fX59fHx9fXt8fn17fH17fH19fHx9fXx8fHx8fH59fHx9fX1/fn1+f35+gIB/gICBgYGAgYGBgoKCgIKDgYGDgoGDgoGCgoF/gYOBgIGBgYCAgoGAgYOBf4GDgYCCg4CBgoGBgoGBgYKBgYKBgIGBgIKCgICBgIKAf4KBf4CAf4B/f39/f39+fn5+f31+fnt+f3t7fX58e3x+fXp7fXx7enx8enp9fXx6e31+fH1+fX5+fn9+fn5/gIB/gIB/f4GBgICBgYGBgYGBgYGBgoGBgYCCgoGBgYKCgoGCgoGCg4KCg4KCg4SDgoKDhIOBgoODgoKBgoOAf4GEgn9+gYOBf3+CgYCAf4GDf32Ag4F9fYKCfn2AgX99fX+BfXp8gH96eX1+e3l8fHt5eHx+enh6fX16en1+fHt9f358fX9/f39/f39/gIGAf3+AgICAgH5/gYGAf4CAf39/f39/f39/f39+fn6BgX5+gIGBgYKDgoGChYaEgoOGhoSDhIWGhoODhoWBgoWGg3+BhIOAgIGCgYCCg4F9fYOFf3uAhIF9foGCgH9/gIB/gH19gYF+fHx/gXx6f397enx+e3h5e3x5eHh5enp5eXl5enx8ent9fn59fn9/f3+BgoGAgIGCgoB/gIKBgH+AgIB/foGBfX1/gH9+fn5/fn+Bfnx+gYB/f4GCgoGDhIKChYaFhIWGhYWEhoeFg4WFhYWEhIODhYWBgYODg4GBgoGAgIGCgH6AgYCAgH9/gYCAfn6BgX99fYCDgHp9goJ7eX6DgXp5foF/end7fnx4d3p7eHZ3enp4eHl6enl6e3x7fH5+fn1+f4CAgICBgICAgYCAgICCgH+AgYCAf4CCgH9/gIGAfn+BgX9+f4CAgH+BgYGBgYGCgoOEhISDg4WFhISEhoeFhISEhoaGhYOEhoWCgoOEhYR/foOEg358gYWCfXp/hoJ6eX+EgXp6f4OBe3yBgn58fYCCgH16fYODenZ9hYJ6dXmBgXh1eX59eHV4e3x4dXd7fHl1d3p9e3l5fH9+fX1+gICAgIGCgoCAgoODgYGChIOBgIGCgoGAgICBgYB/f4GBgICBgYGBgYKDhIOCg4WFhISEhoaFhIaHhoSEhoaFhIODhoaDgoKFhYKBgYKCgYGBgYF/f4GBgH99foKEgHt9gYSBfX2BgYF/fX+Bgn58fYGCf3t8foB/e3p8fX17eXl6fHx7enl6e3x7eXl6e3p5eXl5eXt8e3p6e31/fn5+f3+BgoKBgIGDhIOBgYGCg4ODgYGCgoOCgYGBgoKDg4KCgoKDhISDgoKEhYWCgoOEhISFhIKDhIWEg4OEhYSCgoSFhIOCgYKEg4F/f4CDhIB8e4CDgn16fICBfnx8foB/fX1+f359fH1/gH58fH1/gH99fHx9f399fHx9fX18e3x8fHx7e3t7e3t8fHx7ent8fHx7e3p6ent6enp7fHx8fH1/gIB/f4CCg4OCgoKDhISEhISEhISEhISEhISEhISEhISDg4SEhIODg4ODg4ODg4ODg4ODgoKCgoKBgYCAgICAgIB/fn9/f39+fX19fX19fHx7fHx8fHx8fHx9fX19fX5+f35+fn9/f39/f4CAgH9/gIB/f39/fn59fXx8fHx7e3t7e3t7e3t7e3t7e3t7e3t7e3t7e3t7fH19fX19fn9/f3+AgIGBgYKCg4ODg4OEhIWFhYWFhoaGhoaGhoaGhoaGhoaGhoaFhYWFhYWEhISEhIOCgoKCgoGBgYGBgYCAgICAgH9+fn9/f39+f39/fn5+fn59fX19fX19fX19fXx8fHx8fHx8fHx8fHt7e3x8fHx8e3t7e3t8e3t7e3x8fHt7e3t7e3p6ent8fHt7e3x9fn59fn9/gICAgYGCgoODg4OEhISEhISFhYWEhIWFhYWFhYWFhYWFhYWFhYWFhYWFhYWGhYWFhYWFhYWFhYWEhISEhIODg4ODg4KCgYGBgYGAgIB/f39+fn5+fn19fX19fXx8fHx8fHx8e3x7e3t7e3p6enp6eXp5eXl5eHh4eHh4eHh4d3h4eHh4eXl6ent7fHx9fX5/f4CAgYKCgoKDhISEhISEhIWEhISDg4ODg4KCgoKCgoKCgoKCgoKDg4SEhISFhYWGhoaGhoaHh4eHh4eHh4eHhoaGhoaFhYWEhIODg4KCgYGBgIB/f39/fn19fX18fHt7e3t7enp6enl5eXl4eHd3d3d2dnV1dXR0dHNzc3R1dXV2d3h5enp7fH5/f4CBgoODg4OEhIWFhISEhISDg4KCgoGBgYCAgH9/f39/fn5+fn9/gICAgYKDg4SEhYWGh4eIiImJiYqKioqKioqKioqJiYiIiIeGhoaFhYSEg4KCgYGAgH9/fn59fX18fHx7e3t6enl5eXl5eHh3dnZ1dXV0c3NycXFxcHFyc3R1dXV3eXp7e3x+f4CBgoOEhISEhYWFhISDg4ODgoGBgIB/f35+fn59fX19fX18fHx9fX1+fn+AgYGCg4SFhoaHiImKiouLjIyMjIyMjIuLi4qKiomJiIeHh4aFhISDg4KCgYGAgH9/fn5+fXx8fHt7enp5eXl4eHh3d3Z1dXR0c3NycXBvb3FzdHV0dHZ4ent7fH1/gYKDhYWGhYWGh4eFhIOEhISDgYCAgH9+fXx8fHt7e3t7e3p5enp7enp6e3x8fX5/gIGBgoSFhoeHiIqLjIyMjY2NjY2MjIyMi4uLioqJiYiIh4aGhYSEhIOCgoGBgIB/fn59fXx8e3t6enl5eXl4d3d3dnZ1dHRzc3JycXBxcnR2dnZ2d3l7fHx9f4CCg4WGh4eGh4iIh4WEhISEhIKBgYCAfn19fHt7enp6enp5eXl5enp5eXp6e3t8fX5/f3+BgoSFhYWGiImKioqLjIyMjIyMjIuLi4uLiomJiYmJiIeGhoWFhIODgoKBgYCAf359fX18e3p6enp6eXh4eHd3dnV1dHRzcnFwcXJ0dnd2dnd5e3x9fX5/goOFhoeIh4eIiYiHhYSEhISDgoCAgH9+fXt7enl5eXl5eXh4eXp6enl5enp7e3t8fX5+f4CBgoODhIWGh4iIiYqLi4uMjIyMjIuLioqKioqJiYmIiIeGhoWFhISDgoKBgIB/f35+fXx8e3t7enp5eXh4eHh4d3Z1dXV0dHJycXJ0dnd4eHh5e31+fn9/gYOFhoeIh4eIiYmHhYSDhIODgYB/f35+fXx7enl4eHh4eHh4eHl6enp6enp6e3t7fHx9fn+AgYKCg4SFhoaHiImJioqLi4yMjIyMi4uLi4qKiomIiIiHhoWFhISDgoGAgH9+fn19fHt6enp6eXh4eHh3d3Z2dnV0c3NzcnFvb3Bydnp+g4WHiYuOj42KiIiIiIaDgX9+fHp5eHd1dnl8fn5+fn+BgYB+fX5+fn17enl3dnV2dnZ2d3p9fn9/gYKDhISFhoaHh4iKioqIh4iJiYmIh4eHhoWFhISDhIWHh4eHiImJiYeGhYWFhIOCgH9+fX19fHx8fX19fHx7e3t7e3x7e3t6enl1cnN0dHFtbG5wdXh9g4eJi46RkI6KiIiHhH56eHZzcnFydHZ4e3+CgoKChIWFhYOCgX99end1dHR0dXd4eXp8fn+AgYKDhISEhIOBgH9/f39/goaKiomJi4yMi4qJiYiHhYSDgoKDhYiIiYqLi4qJh4aEg4KBf317enl6fHx9fn9/f39+fHx8e3x8e3p5eHd3d3V0dHVzcG5ucHZ7fX+GjY+NioqMi4eBgIF/eXNxc3RycHN7f39/goaHhIKEhoaCf35+e3dzdHZ3dnd6fn59foGCgoGChISDgX9+fXx7fH5/gIKGiouKioyOjo2LiomHhYOCgoKCg4aJioqKiouKiYiHhYOBgH59e3p7fX+AgICBgYB+fn59e3t8fXx5d3d4eHh4dnV1dHJwb21tcHiAg4WJi4uJiIiIhoKAf356dG9vcnR1dnuBg4KDhYeFg4SGh4SAfXt6d3V1d3l6enx/f35+gIKDgoKCgn99fXx8fHx+gIKDhIaJjI2MjY2Ni4mHhYOCgoKDg4SGh4mKi4yMjIyLiYeFgoGAgH9+fn6AgIGBgYGBgX9+fXx7enp4eHh4d3d3dnV0dHNycW9vbnB0eHyAhIqNjImHiImHgn18fHp1cXJ0dXV4foOEg4SIiYiFhYaFg399e3l2dHV3eHh5fH5/fn6AgoGBgoKBf359fXx8fH5/gYOEhYeKjIyMi4uKiYiGhISEhISFh4iJiouNjIyMjIuIhoWDgYCAf39/gICBgoKBgYKBgH98e3t5dnZ1dXZ2d3d3ent4dXR1dnVyb25ucHZ6e3t/houLiIWFh4iEf319enZzdXh4dXd+g4SCgoWHh4WFhYSBfn18end0dXh5eXh7fX18foCBgYCBgoF/fn18fHx8foCCg4OFiIuNjY2NjIyLioiHhoaFhYaGh4eIiouLioqJiIeGhYOCgoGBgICAgYGAf35/f359fHp5eXd2dnd3dnZ4eXl5eHZ1dnZ0cXFwbW5wdHh6foWJiYeGiIqJhoKBgH14dXV2dnV3fICBgIGEhoaFhoaFg4F+fHp3dXV3eHd4enx8e31/gYGCg4OCgH5+fn18fX1+gIGCg4WIi42Pjo2NjY2KiIaGhYSFhYWFhoeJioqLi4uKiYiGhYSDg4GBgH9/f39+fn19fXt7fHt6enp4eHh5eXd2d3d4eHVxcHJzcm1qbXB0d3h7gYeKiIaIi4uHhYSCfnl2dnZ1dXV4fH5/f4KFhoWFh4eEgYB/fHl2d3d3d3d4enp7fH6AgYKDg4OBf39/fn19fn9/gIGDhIWJjI6Pjo2NjYyJh4aFhYWFhYWFhoiKi4uLjIyLioiGhYOCgX9/fn19fX19fX19fX19fHt5enp4eHh4eHh4eXdzcnN1dXJxcG9ub3J0eHx/g4mLiYaGioyJhIKAfXl2dXV0dHZ6fX9+foGFh4eGh4eFgoB/fXl3d3l5d3d3eXp7fX+BgoOCg4OCgH+AgH9+f3+AgIGDhYeKjI2Njo2MjIyLiYiHh4aGhoaHiImKi4yLi4uKiYiHhYOCgH9+fn59fXx8fH19fX1+fXx8e3l4d3d5eHZ2dnV0dHVybm9ycXBvcHR4e319g4uMiYWHi4qEf4CAfHd0dnh3dXZ6f4GAf4OIiIaFh4eDf39/fXl3eHl4dnZ4eXp7fH+BgYGBg4SCgIGBgX9/gICAgIGDhYeJi4yNjo6NjIyMi4qJh4aFhoaGh4iJioqKioqJiomHhYSDgoB+fn5+fn18fH19fXx9fnx7e3l4eHd3d3d3d3VzdHR2dnFtbnFycnByeXx6fIGIjYiDhIqNiH99gIF7dnV5eXZ1en9/fHyBhoaEg4WGhIF/gH97eHh6eXZ0dnl6eXp9f39/gYOEg4KDhISDgoKCgoGBg4WGh4iKi4uLjI2OjYyLiomIiIeHhoeHh4iJiYmJioqJh4aFhIOBgH9+fXx7e3x8e3x8fHx8e3p6e3t4d3d3dnV1dXRzdHJubG9yc29tcnp9fXp8h4+MhYKIj4uCfoGCfHV1enp2c3V7fnx6fYOGhIKEiIaCgIOEf3p5fHt4dXV4eXh4en1+fn+DhYSDg4aHhYOEhISDgoOFhYWFhoiJioqLjI2MioqLioqJiIeHh4eHiIiIh4eIiIaGhoWEgoGAf39+fXx8fHx8fHx8fHt6e3x7enh2dnd5enh0cXJ1d3VycG9wcXFwcnV4eXd5gIaIhYOEiYuHg4GCgn56eXp5dnV3e3t4eHyAgoGChIWFhIWFhIF+fn99enh4eXl4eHl6enx+gYGBg4SGhoaGh4iIiYeGhoiJiYmJh4eIioqIiYmJiImJiYiIiomJiIiHh4eIh4aEg4KCgoGBf359fXx7fH18fHx7enp7e3t5eHd4eXh1c3NzcnJ0cm5sbW5tbXJ4eHZ2eoGHh4WGi46Jg4OHiIJ9fX56dXR4e3l2dXl8fH1/g4WFg4SHh4SChIWCfXp7e3l3eHl4d3h6fH1+gIKEhISFiIqKiouLioeGiY2MiYaGhoeIiIeGh4iHh4eHiImKiYiHh4iJiYmHhYSDg4OCgYF/fXx7fHx8fHx7e3p6e3x8fHt6eHd1d3h4dnRwcHJ0c25sb3Fwbm9zdXd5fH+BgICFjI+Jg4SIiYSAgYF9eXd5eXd1d3p8enh7gIODg4SGhoSEhoeEgH+Af3t5ent6eHh5eXl6fH+AgICChYeJi4yLioyPkI6Mi4qLi4mGhYaFhYWFhIOEh4iHh4iJiYiJiYiHh4aEg4OCgH9+fn18fHx7enp6enl5enp5eHd2dnd4d3RzdHZ1cnJzcW5ucHJycnNyc3d8f35+gYSGhoaGhoeHhoSDgoB+f39+e3l6e3t7e3x9fX1/gYCAgIKDg4GAgIGBgIB/fn19fn59fHx9fn5+fn+Bg4WFhYaIiouMjIyMjIyMi4qJiYmIh4aFhYWFhoWEhISFhYaFhYSEhISEhIODgoKCgYGBgIB/f359fX19fHt6enp5eXh3eHh3dnV1dXV0cnFxcXFwcHBvcHFzc3R1dnh6fH1+f4CBg4SFhYWGiIiIh4eHh4eHhoWFhISEg4KCgYCAf359fHx8e3t7enp6e3t7e3t7fHx9fn+AgIGDhIaHh4iJiouMjIyMjY2NjIyMjIuLi4uKiYiIh4eHhoWEg4ODg4KBgYCAgIB/f39+fn5+fXx8fHt7enl5eXl4eHd2dnZ1dXV0dHNzcnJxcXFxcXJyc3N0dnd4eXp7fX5/gIGCg4SFhYWGhoeHh4aGhoaGhoWEg4ODg4KBgH9/f359fHx8fHx8e3t7e3x8fHx8fH1+fn9/gIKDhIWGh4iJiouLi4yMjY2NjY2NjYyMjIuKioqJiIeGhoWFhIOCgYGBgH9+fn5+fX18fHt7e3p6enl5eXl5eHd3eHh3d3Z2dnZ2dXV0dHR0dHNzc3R0dHV2d3h4eXp7fH1+f3+AgYKDg4OEhIWGhoaGhoaHhoaFhYWFhIOCgYGAgIB+fX18fHx7e3p6e3t7e3p7fH1+fn5/gIGDhIWFhoeJioqLi4yNjY2NjY2Njo6NjIuLi4qJiIeGhYSDgoGAf39+fXx8fHt7e3p6enp6enl5eXp6enl5eXl5eXl5eXh4eHh4d3d3d3Z2dnV1dnZ2dnZ2d3h4eXl5ent7fH19fn5/gIGBgoKDhISFhYaGh4eHhoaGhoWFhIODgoKBgYB/fn5+fXx8e3t7e3t7e3x8fX5/f4CBgoOEhYWGh4iIiYmKiouLi4uLi4uLi4qKiYmIiIeGhYWEhIOCgYB/f359fXx7e3t7enp6enp6enp6enp6enp6e3t7e3t7e3t7e3t6enp6enp6eXl5enp5eXl6enp5eXl5enp6enp6e3t8fH19fn5/gICBgYKDhISEhYWGhoaGhoaGhoWFhISDg4KCgYCAgH9/f35+fn5+fn5+f39/f4CAgYGCgoODhIWFhoaGh4eIiIiIiIiIiYiIiIeHhoaFhISDgoKBgYCAf39+fX18fHx7e3t7e3t7e3t7e3t8fHx8fHx8fX19fX19fn5+fn5+fn5+fX19fX18fHx8e3t7e3p6enp6enp6enp6ent7e3x8fH19fn5/f3+AgIGBgYGCgoKCgoKCgoKCg4ODg4ODg4ODg4ODg4OCgoKCgoKCgoKCgoKCgoKCgoKCg4ODg4ODg4ODg4ODg4ODg4OCgoKCgoKBgYGBgYCAgIB/f39/f35+fn5+fX19fX18fHx8fX19fX19fn5+fn5+fn9/f39+fn5+fn5+fn5+fn59fX19fX18fHx8fX19fX19fX19fX19fX1+fn5+fn5+fn5+fn5/f39/gICAgICBgYGBgYGCgoKCgoKCgoKCgoKCg4ODg4ODg4ODg4ODg4ODg4ODg4OCgoKCgoGBgYGBgICAgIB/f39/f39/f39/f35+fn5+fn5+fn5+fn5+fn5/f39/f39/f39/gICAgIB/f39/f39/f39/f39/fn5+fn5+fn5/f39/f39/f39/f39/f39/f39/f39/f39/f39/f39/f4CAgICAgICBgYGBgYGBgYGBgYGBgYGBgYGBgYGBgYGBgYGBgoGBgYGBgYGBgYGAgICAgICAf39/f39/f39/f39/f39/f39/f39+fn5+fn5+fn5+fn5+fn5+fn5/f39/f39/f39/f39/f39/f39/f39/f39/f39/f4CAgICAgICAgICAgICAgICAgICAgICAgICAgICAgICAgICAgICAgICAgICAgICAgICAgIGAgICAgICAgICAgIGBgYGBgYGBgYGBgYGBgICAgICAgIB/f39/f39/f39/f39/f39/f39/f39/f39/f39/f39/f39/f39/f39/f39/f39/f39/f39/f39/f39/f39/f39/f39/f3+AgICAgICAgICAgICAgYGBgYGAgICAgICAgICAgICAgICAgICAgICAgICAgICAgICAgICAgICAgICAgICAgICAgICAgICAgICAgICAgICAgICAgH9/f39/f39/f39/f39/f39/f39/f39/f39/f39/f39/f39/f39/f39/f39/f39/f39/f39/f39/f39/f39/f39/f39/f4CAgICAgICAgICAgICAgICAgICAgICAgICAgICAgICAgICAgICAgICAgICAgICAgIB/f39/f39/f3+AgICAgICAgICAgICAgICAgICAgICAgIB/f39/f39/f39/f39/f39/f39/f39/f39/f39/f39/f39/f39/f39/f39/f39/f39/f39/f39/f39/f39/f39/f39/f39/f4CAgICAgICAgICAgICAgomDfYKEgYWGgICCgYGAf4CCgn9/gX9/g4CBgoB/goGAg4OBgISDfoKDfoGEf4GCfoCEgICDgYCCgYKDf4CDgoCAgYB/gYCAgYGCgYGAgIGBgICBgH5/f4CAf4CAfn6AgICAf35/fn6Af4CBfoCBfYCCgIGBf4B/foOAf4F+fn99fn99fn9/fnx9f3+AgH9/fn5/gH+AgYB/f35+gH+AgX9+fn9+gIF/gYF/gIGBgIGCgoKBgYKCgYKDgoGCgoGBgoKCgoGBgYGBgoKCgYCCgH+BgoGAgYB/gICAgIGAgIB/f4CBgICBgH9+f39+fn99fHx7e3x8e3t7enl5enl6e3p6eXh5enp6eXh5eXl5enl6e319fX5+f4GDhYSEhISFhoaGhYSEg4OCgH9/f359e3p6ent7e3l5ent8fH19fn+AgICAgYOFhYWFhoaHiImJiYmKiYmJiIiIh4eGhISEhIOCgoGAgICAgICAf35+fn5+fn59fXx8fHx8fHx7e3t7e3p6e3l7enl7eXh6eXh5d3Z3dnV1c3Nzc3V2dnZ3e35/f4CChYiJiIiIiYmIiIeEgoGBgHx6eXh5eHZ2dXV3eHl6ent8f4GCgoKDhYWFhISDg4ODgoB+fn5+fXx8fX+AgYKCg4aIioqLjI2Njo2Mi4qKiYiGhIOCgYGBf39/f39/fn5+f4CAf39+fn9+fX18fHx7e3p3d3l5eXd2dXV2d3d1dHZ2dXV2d3Z1d3l6eXp8foOGhYKBhYuNi4iGhoWFhIJ/fXx7eXh1c3J1eHh2dXZ5fH+BgoGChYeIiIeHh4iHhYF/f39+fXt5d3Z4enp5eXt9foCBg4aIi4yMjY2OkZGQjouJiIiHhYOBgH9/f39/gIGDg4ODhIaHh4iGhIWFhISCgIB+e3x6eXp5eXh2d3h5e3p6e3t9fnx9fn6Af35+fXt7enp8eXZzcHBzdHRycHR4eXt9foGDhoqKiYmJiouKiISBgIF/fHl3d3Z1d3Z1dXh7fX19f4GEhoeHh4aHiIeGhIGAgH99e3l5eXp6enp6fICEhoeHio6RkZGRkpOTko+LiYmIhYKAfXx7fHx7e3x+f4CBgoOEhoeGhISFhYaDgYB9fX58enl2eHl3eHh1dnl7fHp4e3t7fX9+fHt7fHt6e3t5eHVzdHV1dnd3dXN1fYODgH6AhomJiIaGh4eFg4F/fHx+fnl0c3Z6enl5eXp8f4KDgoKFiImHhISFhoaEgX58e319fHl3eHp8fH1+gISHiIiHi5CRkZGPj46PkI2Jh4eFg4GAf319fn99fH1/gYKDg4KCg4SFhIOCgYB/fn19e3t7eXh4d3h5eXp5eXt7fX58fn99fn5/f3x8fn17enl5eXl5eHRyc3R1d3Z2dHR4foKBf4CDh4iJiIaGh4eGg4B/fn5/fXl2dXh7e3t6ent+gYODgoOGiIiGhISEhYWDgH18fH5+fXt6e35/gYKEh4qLi4uMjpCQkY+LioqJiIaEg4F/gH59fX1/f39/gICCg4SFg4OEg4ODgoKBfn19e3t7e3t5d3d4eXp8e3p7e3x/f35/fn+Bf3+AfXx9fHx6d3p5dXh3dXNxdXdzcXV2d3l6f4B+gYWFh4mJiYaHioeDgoKBf3t8fHh3eXp7enp8fn+Bg4OFhYeIh4eHhoWGhIKAfn59fHx7enl5e319foGDhYiLi4qKjI+Pjo2MiYiJiYaCgYGAf35+fX19f4B/f4GDhISFhIODhIWEgYCAf399e3p5eXp6d3h3d3p6e3x6e319foB/fn9/gIB+fHt6e318end2dXV2eHh1c3R1dHN1eX19e36AgoSFh4qKi4qGhoeHhYOBgX55eXt6enh5enp5e36AgYKEhYWFhoeIiIeFhIKBgH9/fnx7enp6ent9fn+AgoSHiYuLioyNjYyLiomIiIeEgoGAgYCAf31+f4CAgYGCg4SEg4ODhIWDgYB/fn9+fn15enp5e3p5fHt5fXx8fXx+f3x+f31+fnx+fXt9fXx7eXl7eXh7enh5eHd2dXd4dnZ4eHl6fYGBgIGEh4mJiIiHh4iGhIOBgH9+fXt4eHp7e3t7fH1+gIKDg4OFh4eGhYWFhIOCgH18fHx8e3p5ent8fn+Bg4WHh4eJi42OjYyLiYmIh4aEg4KAfn59fX5+fn5+foCBgoSDg4OCg4SDg4KBgH5+fX19fXx7enp6ent7e3x7fXt7fXx7f35+fnt+fnt9fXx8e3p7enl7end4eHh4dHR2dXV3eXp5en+CgYKEh4iJiYqIh4iIhoSCgX98fHx6eHh5enp5e3x9f4GDg4OEhoeHh4aFhIODgoB+fXx7e3p5eXp8fn+BgoOFh4qMjIyNjY2Mi4qJiIeGg4B/fn5+fX18fH1+f3+AgYKCg4ODg4ODhIKBgICAf4B+fXx8fXx8fHt8fHt8fXx8e31+fXx9fX1+fX19e3x8fHx7eXh4eXt6d3Vzc3Z3eHZ1d3p7fH+BgYOGiYqIiImKioqJhoOCgoF/fXt5eXl6enh4enx9fn+AgYKFh4eGhYWGhoWEgoB/f359e3t7fX5/f39/goSHiIiJioqLi4uKiomJiIWEgoKCgYB/fX19fn9/f3+AgICBgYGCg4KCgoKBgoKAgX9+gX59fnt8fXt9e3p8e3p8ent8e3x9e3t+fH19enx9fH18e3p4eXt5dnd2dXNydnd1d3h5e3x/gYGEiImIiYmKiomJiYaDgoGAfXx8enl4eHh4eHl7fH1+f4CBg4WFhYWFhYWEg4OCgYGBgYB/f4CAgYKCgoOFhoaGh4iIiYmJiIeHh4eGhIOCgYGAf359fX59fX19fX5/gICAgIGBgoKCg4KCg4GBgH+Af359fHt7fHx7enh5e3p7e3l5ent9fXx8fHx9fX18e3t8fHx5eHp5d3Z1dXR2eXl3dnl7fYCCg4KDh4iHh4eIiIiIhoOAgIGAf318e3p7e3t6e3x+fn9/f4CBhIWEg4ODhIWHhoWEhIWFhYWEhISFhYSDhIWFhoaFhYWFhoaFhYSEg4OCgYGBgIB/fn59fn5+fX19fX5+f39/f4CAgICBgYGBgYGAgICAgIB9fX18fHx8fHt6ent7e3t7fHx8fHx8fX19fn59fX5+fX19fX18fHx7e3t7enp6e3p5eHh5en6Afnt7foCChIWDgYOFhIODhISEhYWCgIGDhIODgoCAgoODgoKDg4ODg4KCg4WFhIOCgoOEhIOCgoKCgoKCgYGCg4GAgICAgYKAf39/gIGAf39/gIB+fn5+fn9/fn5+fX6AgH5/gH5/gYB/f39/gIF+fH+Afnx9f398fH9/e3p+f358fX9+e3x/f3x8f399fX5/fXx+gH99fX9/fH6BgH5/gIGBf4CCf4GEgX+AgYGAgIGAfn5/gYB/f4CAf4CBgYCAgYGBgIGBgIKCgICBgIGCgYCAfn+AgIGBf39/f4GAfX6DgX1+gICAfX+Df32AgX99foKAfYCDfnuAgoB+foGCf3x+g4J9fIGBfoB/fn9+gIB/fXyAgHt9gX97e4CBfXp+gn16gYJ5eYOCe32CgH18f4KAfXyBgn19gIB9fn+AgH18gIB8gYN9fYGCfn6CgYKBfoCDgH5/goF+f4F+foB/fX+Bfn2BgXt9hIF9fYCBfnyAg4B7fYOCfHuCg318gIJ+en+EgXp9g4B8foCAfn6Af39/f35+gH9/fn9/f319f4B/fXyBgnl6goF8fICDf3l+hYF5foOBfH1/gIF8e4GBfXp/gnx6gIF9e36Bfnt+gX59gH+AgX9+goJ8foSBfYCBgH+Bf36CgH1+gYB+foF/fYKCfX6Dgn5+g4F9f4OCfH+Df3+BfICCfX1/gYF8e4OCen2DgH1+gIF/fICAf399gIB9gIB/fn6BgX1+gYB/gH+Af36Af36AgIB+fYGBfX6Cf318gIR9eYCEf3x+g4B7fYKCfn2Agn9+f4CBf3yBgX1/gH59gYN/en6Dgnt8hIN7fISCe3+Ff36Cf4CAf4GCgH+Ag399goJ+f4CAgoB9gIF/gYF9foSCfn1/hIJ8f4OAfX+Ff3qAhX98foCDgHl/hn96foKCfHyDg318goR9eoOGe3qEg3t8gYN+fIGAfX+AfX+Bf32BgX19gYJ/fX+CgX17gYR/fH+CgXt9hIB7f4OAfX6BgH6AgX9/gICBgHyBhn56goN/fX6Cgnx9goJ9fYCDfn2CgX9/gYF/f4GBgX9+goJ9foKBfn6Agn9+gYB+f4GAfX+AgYB/gIGBfn+Cgn5+goN/fYGCf35/gYB/foCBfn1/gYB8f4GAfX+AgIB+foGBfX6CgH1/gX9+gIB+f4B/gH9+f4GBfn6Bgn59goJ/foGBf4CBgH+Af3+Cf32AgX5/gX9/f4CBgH6AgICBgH6Cgn9/gYJ+foGBf39/f4B/foCBf31/gYB+gIF/f4CAgYB/f4GBgH+AgYCAgYB/gIB+gIB/f4B/f3+AgH9/gICAgICAf4CAgX9/gYB/gH9/gIB/f4B/f3+Af3+AgH9/gIB/f4CAgH9/gIB/f4CAgH9/f4CAf3+AgH9/gICAf3+BgH+AgICAgICAgICAgICAgH9/gIB/f4B/fn+Af3+Af4CAf3+BgX9/gICAgICAgH9/gIF/f4CAf3+AgH9/gH9/gIB/gIB/f4CAf3+AgH+AgH+AgH9+f4B/fn+AgH5/gH9/f4CAf3+AgIB/gIB/f4CAf39/f39/f39/f35/gH9+f4B/f3+AgH9/gIB/f4CAf4B/f4CAf3+Af39/f39/f39/f39/gIB/f4CAgH+AgICAf4CAgH9/gIB/f4B/f39/gH9/f4CAf3+AgIB/gICAf4CAf3+AgIB/f39/f39/f39/gH9/f3+AgICAgICAf4CAgH+AgH9/f39/f39/f39/f39/f39/f39/gIB/gICAgICAgICAgICAf4B/f39/f39/f39/f39/f39/f39/gICAf4CAgICAgICAgICAf39/f39/f39/f39/f39/f4CAgICAgICAgICAgICAf39/f39/f39/f3+Af3+AgIB/gICAgICAgH+Af39/f39/f39/f39/f39/f39/f39/f4B/f4CAgH+AgIB/f39/f39/f39/f39/f39/f39/f39/f39/f39/f39/f39/f3+AgH9/gIB/f39/f39/f39/f39/f39/f39/gIB/gICAf4CAf39/f39/f39/f39/f39/gH9/gICAgICAgICAgICAgICAgIB/f4B/f39/f39/f39/f39/f39/gIB/gICAf3+AgH9/f39/f39/f39/f39/f3+AgICAgICAgICAgICAgH9/f39/f39/f39/f39/gH9/gICAgICAgICAgICAgICAgICAgICAgICAf3+AgH9/f4B/f4CAgICAgICAgICAgICAgICAgICAgICAgH+AgIB/f4B/f3+AgIB/gICAgICAgICAgICAgICAgICAgH9/f39/f39/f39/f39/f39/f39/gH9/f4CAgIB/f39/f3+Af3+Af39/gIB/gICAgICAgICAgICAgICAgIB/f4CAf3+Af39/gH9/f39/f39/f39/f39/f39/f39/gIB/gICAgICAgICAgICAgICAf39/f39/f39/f39/gICAgICAgICAgICAgICAgICAgH9/f39/f39/f39/f39/f39/f3+AgICAgICAf4CAgH9/gH9/f39/f39/f39/f39/f3+Af4CAgICAgICAgICAgICAgICAgIB/f39/f39/f39/f39/f3+AgH+AgICAgICAgICAgIB/f4B/f39/f39/f39/f3+AgICAgICAgICAgICAgICAgICAgICAgH9/f39/f39/gH9/gICAgICAgICAgIB/gIB/f39/f39/f39/f39/f3+AgIB/gICAgICAgICAgICAgICAf39/f39/f39/f39/f39/f4CAf4CAgICAgICAgICAgICAgICAgH9/f4B/f39/f39/f39/f39/f39/f4CAf4CAf3+AgH+AgICAgIB/f4B/f4CAf39/gICAf4CAf3+AgH9/gH9/f39/f39/f39/f39/gH9/f4B/f3+Af3+Af39/f4CAf3+AgH9/gH9/f39/f39/f3+Af3+AgH+AgH+AgICAgIB/gIB/f4CAgH9/gH9/gIB/f4CAf3+Af3+AgH9/gICAgH+AgICAgICAf4CAgH9/gIB/f4CAf4CAf3+AgH+AgIB/gIB/gICAgH9/gIB/f4CAf4CAf4CAgIB/f4CAf4CAf3+BgH+AgH9/f39/gIKDgYCBgoGBgoGAgIB/fn6AgH5/gH9+f4B/f4CAf3+AgICAf4CBf4CBgH+AgYB/gIB/f4CAf3+AgICAgICAgICBg4KAgIKCgX+AgX9+gH9+fn9+f39/f4B/f4CAgICAgIGAf4CBgICBgYB/gYB/f4B/f4CAf39/f3+AgH9/gIB/f4B/f3+AgIB/f39/gH9+gIB/f4B/f39/gIB/f3+AgH9/gIF/f4CAgH9/gIB/f3+Af36AgX9/gH+AgX9+gIF/f4CBgH6AgX9+gIF/foCAfn6AgH5/gH9/f4CAf3+BgH9/gIB/f4CAf4CAf4CAfn+BgH9/f4B/fn+Bfn6Bf3+AgH+AgH9/gYB+f4GBfn+AgX9/gH+AgH5+gYF+f4GBf36AgX9/gH+Af36AgH9+f4CAfn+Af39/f4CAfn+BgH6AgYB/foGAfoCCf36AgYB+f4F/foCAgH5/gIB/f4CAf36AgH9/gICAf3+AgH+AgICAf4B/gIB/f4CAgH+AgX9/f4CAgH+AgX9/gIB/f4CAf4B/f4CAf39/f4CAf4CAf4GAf4CBgH+AgYB/f4B/f3+AgH9/f4CAf3+Af4CAf4CAf4CAf4CBgH6AgH9/gICAf4CAf39/gICAf3+BgH9/gIF+foGBf36AgX9+gIB/gIB/gIB/f4B/gIB/gICAf3+AgH9/gICAf3+AgH9/gICAf3+AgH9+gIGAf3+AgH9/f4GAfn+AgH9/gIB/f4CAf39/gIB/f4CAgH6AgX9+f4GAf3+AgH9/gIB/f4CAgH9/f4CAf3+AgH+AgH+Af4CAgICAf3+Af3+AgH9/f39/f39/f4CAf3+AgH9/f3+AgH9/gIB/f4CAf3+AgH9/f3+AgH9/gIB/f39/gICAf3+AgH9/gICAf3+AgH9/gICAf39/gH9/gIB/f4CAgH+AgIB/f4CAgH9/gICAgH9/gIB/f3+Af39/f39/fn+Af39/f39/f3+Af39/f4CAf39/gH9/f39/f39/f39/f39/f39/f39/f3+AgH+AgICAgICAgICAgICAgICAf4CAgICAgICAgICAgICAgICAgICAgICAgICAgICAgICAgIGAgICBgICAgICAgICAgIB/f39/f39/fn5+fn5+fn5+fn5+fn5+fn5+f39/f39/f39/fn5/f39/f39/f4CAgICAgICAgICAgICAgICAgH9/f39/f39/f39/f35/f39/f39/f3+AgICAgICAgICAgICAgICAgICAgIB/f39/f39/f39/f39/gICAgICAgICAgICAgICAgICAgICAgICAgICAf39/gICAgICAgICAgICAgICAgICAgICAgH9/f4CAf39/f4CAf39/gICAgH9/gH9/gIB/f3+Af39/f39/gICAf39/gICAf3+AgICAgICAgICAgICAgICAgICAgICAgIB/f39/f39/f39/f39/f39/f4CAf3+AgICAgICAgICAgICAgICAgICAgICAgICAf4B/f39/f39/f39/f39/f3+AgICAgICAgICAgICAgICAgICAgICAgICAgH9/f39/f39/f39/f39/f39/f39/f39/f4CAgICAgICAgICAgICAgICAgICAgICAgICAgICAf4CAgICAgICAgICAgICAgICAgICAgICAgICAgICAgICAgICAgICAgICAgICAgICAgICAgICAgICAgICAgICAgICAgICAgICAgICAgICAgICAgICAgICAgICAgICAgICAf39/f39/f39/f3+AgICAgICAgICAgICAgICAgICAgICAgICAgICAgICAgICAgH9/gIB/gICAgICAgH+AgH+AgIB/f39/f39/f39/f39/f39/f4CAf4CAgICAgICAgICAgICAgICAgH9/f39/f39/f39/f39/f39/f39/f4CAgICAgICAgICAgICAgICAgICAgIB/f39/f39/f39/f39/f39/f39/f39/f39/f39/f39/f39/f39/f39/f4CAf3+AgICAgH9/f39/f39/f39/f39/f39+fn5/f39/fn9/f39/f4CAgICAgIGBgIGBgYCAgICAgIB/f4CAf39/f39/f39/f39/f4CAgICAgICAgICAgIB/f39/f39/f39/f39/f39/f3+AgICAf39/f39/gICAgICAgH9/f39/f39/f39/f39/f39/f35/f39/f4CAgICAgICAgH9/f39/f4CAgICAgH9/gIB/gH+AgICAgICAgICAgIB/gICAgICAgICAgICAgICAgICAgICAgICAgICAf39/f39/f3+AgICAgICAf39/f39/f3+AgICAf39/f39/f39/f39/f39/f39/f39/f39/f3+AgICAgICAgIB/f39/f39/f4CAgH9/f39/f39/f39/f3+AgICAgICAgICAgICAgICAgICAgICAgIB/f39/f3+AgICAgICAgICAgICAgH9/gICAgH9/f39/f39/f39/f3+AgICAgICAgICAgICAgICAgICAgICAgICAf39/f39/f39/f39/f39/f39/f39/f39/f3+AgICAgICAgICAgICAgICAgICAgICAgICAgICAgICAgICAgICAgICAgICAf39/f39/f39/f39/f39/f39/f39/f39/gICAgICAgICAgICAgICAgICAgICAgICAgH9/f39/f39/f39/f39/f39/f39/f39/f39/f39/f4CAgICAgICBgICAgICAgICAgICAgICAgICAgIB/f4CAgICAgICBgYGBgYGBgYGBgYGBgYCAgICAf39/f39/fn5+fn9/f39/gICAgICAgICAgICAf39/f39/f39/f39/f39/f39/f39/f3+AgICAgICAgICAgH9/f39/f39/f39/f39/f39/f39/f39/f39/f4CAgICAgICAgICAf39/f39/f39/f39/f39/f39/f39/gICAgIGBgYKCgoKCgoKCgoKCgYGBgYCAgICAgICAgICAgIB/f39/f39/f39/f4CAgH9/f39/f39/f39/f39/f39/f39/gICAgICAgICAgICAgICAgICAgICAf39/f35+fn5+fX19fX19fX5+fn5/f3+AgIGBgYGBgYGBgYGBgYGBgICAgYGBgYGBgYGBgYGAgICAgICAgICAgIGBgYGBgYGBgICAgH9/f39/f39/f39/f39/f39/f39/f3+AgICAgICAgICAgICAgICAgH9/f39/f39/f39/f39/f3+Af39/f39/f4CAgICAgICAf39/f39/f39/f39/f3+AgICAgICAgICAgH9/f39/f39+fn9/f39/f39/f39/f39/f39/f39/f39/gICAgICAgICAgICAgH9/f39/f35+fn5+fn9/f39/f4CAgICAgICAgIB/gICAgICAgICAgICAgICAgICAgIB/gIB/f3+AgICAf4CAgIB/gH9/f39/f39/f39/f39/f39/f39/f39/f39/f39/f39/f35+fn5+fn5+fn5/fn5/f39/f39/f39/f39/f39/f39/f39/f39/f39/f39/f39/f39/gICAgYGBgoKCgoKCgoKBgYGBgICAgICAgIGBgYGCgoKCgoKBgYGBgICAgH9/gICAgICBgYGBgYGAgIB/f39/fn5+fn5+fn5+fn5+fn19fX18fHx8e3t7e3t7e3t7e3t7e3x8fX1+f4CBgoOEhYWFhoaFhYSDgoGAf359fXx8e3t7fHx8fHx9fX1+fn9/f4CAgYGCgoKDg4SEhIWFhYWEhIWEhIODg4ODgoKCgoGBgYGBgYGBgYGBgYGBgYGAgICAgH9/f39+fn5+fn19fX19fn5+fn5+fn5+fn5+fn19fXx8e3t7e3p6enp6enp6e3t7e3x8fX5/f4CBgoODhISFhYSEg4OCgYB/f359fHx8e3t7e3x8fHx9fX5+f39/gICBgoKDhISFhoeHh4eIiIeGhoWEg4KBgIB/f39/f3+AgIGCgoKDg4ODg4KCgYGBgICAf39/f35+fn5+fX19fX19fX19fX19fX19fX19fX19fX18fHx7e3t6enp6enp6ent8fH1+f4CBgoODhISEhISEg4OCgYGAf35+fX18fHx8fHx8fHx8fHx9fX5+fn+AgIGCg4SEhYaHh4iIiIiIh4eGhYSDgoGAgH9/fn5+f39/gICBgYKCgoODg4ODgoKCgYGBgIB/f39+fn59fX19fX19fX19fX1+fn5+fn9/f4CAgICBgYGAgIB/f35+fX18fHx8fHx8fHx8fHx8fHx7e3t7e3x8fH1+fn9/gIGBgYKCgoKCgoGBgYGBgICAgICAgICAgIB/f39/f39/f39/gICBgYKDg4OEhISEg4ODg4ODg4ODg4OEhISEhISEg4ODg4KCgoKCgYGBgICAf39+fn5+fX19fX1+fn5+f39/gICAgICAgIB/f39+fn59fX18fHx8e3t7e3t7e3p6enp6enp7e3t7fHx8fX1+fn9/f4CAgICAgICAgICAgICAgICAgICAgICAgICAgICAgIB/gICAgICAgICAgICBgYGBgYGCgoKCgoKCgoKDg4ODg4ODg4ODg4ODg4ODg4ODg4ODg4OCgoKCgoKCgYGBgYGAgICAf39/fn5+fn59fX19fX19fX19fX19fX19fX19fX19fHx8fHx8fHx7e3t7e3t7e3t7e3x8fHx8fX19fX5+fn5/f3+AgICAgIGBgYGBgYGBgYGBgYGBgYGBgYGBgYGBgICAgICAgICAgICAgICAgICAgIGBgYGCgoKCg4ODhISEhISEhYWFhYWEhISEhISEg4ODgoKBgYGAgH9/f39+fn5+fn5+fn5+fn5+fn5+fn5+fn5+fn19fX19fX19fX18fHx8fHx8e3t7e3t7e3t7e3t7e3t7fHx8fHx9fX19fn5+fn9/f3+AgICAgICBgYGBgYGBgYGBgYGBgYGBgYGBgYGBgYGBgYGBgYGBgYGBgYGBgYGBgYGBgoKCgoKCg4ODg4ODg4ODg4ODg4ODg4OCgoKCgoKBgYGBgYCAgIB/f39/f35+fn5+fn5+fn19fX19fX19fX19fX19fX19fX18fHx8fHx8fHx7e3t7e3t7e3t7e3t7e3x8fHx8fH19fX1+fn5+f39/gICAgYGBgYKCgoKCgoKCgoKCgoKCgoKCgYGBgYGBgYCAgICAgICAgICAgICAgIGBgYGBgYKCgoKCgoODg4ODg4ODg4ODg4KCgoKCgYGBgYGAgICAgIB/f39/f39/f35+fn5+fn5+fn5+fX19fX19fX19fX19fX19fX19fHx8fHx8fHx8fHx8fHx8fHx8fHx8fH19fX19fX1+fn5+fn5/f39/gICAgIGBgYGBgYKCgoKCgoKCgoKCgoGBgYGBgYGBgYGBgYGBgYGBgYGBgYGBgYGBgYGBgYKCgoKCgoKCgoKCgoKCgoKCgoKCgoKBgYGBgYGBgYCAgICAgH9/f39/f39+fn5+fn5+fn5+fn5+fn5+fn5+fn5+fn5+fn59fX19fX19fX19fX18fHx8fHx8fHx9fX19fX19fX5+fn5/f39/f4CAgICAgYGBgYGBgYGBgYGBgoKCgoKCgoKCgoGBgYGBgYGBgYGBgYGBgYGBgYGBgYGBgYGBgYKCgoKCgoKCgoKCgoKCgoKCgoKBgYGBgYGBgYGAgICAgICAgIB/f39/f39/f39/fn5+fn5+fn5+fn5+fn+AgIB/f39/f359fX19fHx8e3t8fHx7e3t7e3t7e3t7fHx9fX1+fn9/f4CAgIGBgoKCgoODhISEhISEhISDg4ODg4OCgoGBgYGAgH9/f39+fn5+fn9/f39/gICBgYGCgoKDg4ODhISEhISEhISEhISEhIODg4KCgoKCgYGBgYCAgH9/f35+fX19fX19fHx8fHx8fHx8fH18fXx8fHx8fHx7e3t7e3t6enp6enp6eXl5eXp6enp6e3t8fX19fn5/gICAgYGCg4ODg4OEhIWEhISEhISEg4OCgoKCgYGAgICAgH9/fn9/f35+fn5+fn5+fn+AgICBgYKCg4SEhISFhoaGhoaHh4eHh4aGh4aGhYSFhISDg4KCgoKBgYCAgH9/fn59fX19fHx8fHx8e3t7e3t7e3t7e3t7enp6enp6enl5eXl4eHh4eHh4eHl5enp7e3x9fX5/f4CAgYKCg4ODhISFhYSFhYWFhISEhISDg4KCgoGBgYCAf39/fn59fX19fX19fHx9fX5+fn9/gIGBgoKDhIWGhoeHiIiIiYmJiYmJiYiIiIeHh4aGhYWEhIOCgoGBgH9/fn59fXx8fHt7e3t6enp6enp6eXl5eXl5eXl5eXl5eXh4eHh4eHh4eHh4eXl5ent7e3x8fX5/f4CAgYKDg4ODhISFhYWEhISEhISDg4ODgoKBgYGAgIB/f35+fn59fX19fX19fX19fX5+fn9/gIGBgoODhIWFhoeHiIiJiYmJioqJiYmJiYmIiIeHhoaFhYSEg4OCgYGAgH9/fn19fXx8e3t7e3p6enp5eXl5eXl5eXh5eHh4eHh4eHh4d3d3d3h4eHh4eXp6e3t8fX1+f3+AgYGCg4ODhISEhYWEhISEhISEg4ODg4KCgYGBgICAf39+fn5+fX19fX19fX19fX5+fn5+f4CAgYGCg4OEhYaGh4eIiImJiYqKioqKioqJiYmIiIiHh4aGhYSEg4OCgYGAgH9+fn19fHx8e3t7enp6enl5eXl5eXl5eHh4eHh3d3d3d3d2dnZ2d3d3d3d4eXp6e3t8fn9/f3+AgoOEg4ODhIWGhYSEhIWFhIOCgoODg4KAgICBgH9+fn5+fn59fHx9fX19fHx9fn5+fn5+f4CBgYGCg4SFhYaHiImJiYmKioqLi4qKioqKiYmIiIiHh4aFhYSEg4KCgYGAf39+fn19fHx7e3p6enp5eXl4eHh4eHh4d3d3d3d3d3d2dnZ2dnZ3d3Z3d3h5enp7e3x9fn9/gIGCg4ODg4SEhYWFhISEhISEg4KCgoKCgYGAgICAf39+fn5+fn19fHx9fX18fHx9fX19fn5/gICBgYKEhYaGh4iJioqLi4uLi4uLi4uKioqJiIeHh4aGhYSDg4KCgYGAf39+fn19fHt7e3p6enl6eXl5eXh4d3h4d3d3dnZ2dnZ2dnZ1dXR1dnh5eHd4enx9fn+AgICBg4SEhISEhIODg4ODgoGAf39/f35+fX18fX1+fn5+fn5+f3+AgH9/f4CAgICAgIB/f4CAgICAgICAgYKCg4ODhYaHh4eJioqKiouLi4uLiYmJiYiIhoaFhYWEhISDgoKCgYGCgYCAf39+fn99fXx8e3p7enl5eHh3eHh4d3Z2dnV3dnZ2dXZ1dnZ1dnZ3d3d5eXl8fn9+fn+Bg4SEg4OEhISFhIOCgoKBgIB/f35+fn19fn5+fX1+fn9/f39/f3+AgICAgIB/f4CAgH9/f3+AgICAgIGBgoOEhYaGh4iJiouMjIuLi4yMi4qJiYiHh4eGhISEg4ODgoKCgYGBgYCAgH9/fn5+fX18fHt7enp6eXl4eHh3d3d2dnZ1dnZ3dnR2dnV2dnZ0dXh5eXd3e35/fnx/goODg4WDg4OFhYSDg4KCgYGAgIB+fn59fn59fn19fn5+f39/f39/gICAgH9/f3+AgIB/f39/gICAgICAgYKDhISFhoeIiYmKi4uLi4uMjIuKiYiIiIeGhYSDhIOCgoKBgYGBgICAgH9/gH9+fn5+fX18e3t7e3p5eXh3eHh4d3Z2dXZ2dnV1dXV1dXZ1c3V4eXh2d3l+gH58fYGDg4SEg4OEhYWFhIKDg4OBgYGAf35+fn5+fn19fX5+fn9/fn9/f4CAgICAgH9/gICAf39/gICAgH+AgIGCg4ODhIWHiImIiIqLjYyMi4uLjIuKiYiHhoaFhYSDgoGBgYGBgH9/f4CAf35+fn5+fn18fHx8e3t6enl4eHh4eHZ1dXZ2dnR0dHV1dnRyc3V2d3Z2d3d5fH5+fn5/g4WFhIOEhYWFhYSDg4KBgoGAf39+fn19fX19fXx8fn5+fn5/f39/gICAf3+AgYCAgICAf4CAgIB/gICBgoKDhIODhYiJiIiIioyMi4uLi4uLiomIh4eGhYSEg4KBgYCAgYB/f39/f39+fn1+fn59fX18fHx6enp6eXh4eHh4dnR1d3h2c3N0dnd1c3N0dnd3d3Z1eH1+fnx8foKGhIKCg4WGhoaEg4OEg4OCgYCAf39+fn59fX19fH1+fX1+fn5+f39/f39/gICBgICAgICBgYGAgIGBgYKCgoOFhISFh4mJiIiJi4yMi4qKiouKiYiHhoaFhISDgoGBgICAgH9+f35+f39+fn5+fn5+fXx8fXx7e3p6eXl5d3d3dnd2dnRzdHV2dHNzc3N0dnd2dXV4fYB/fHt/g4eHhYKDhoiIh4aFg4SFhYOBgH+AgH99fH19fHx7e3x9fX18fH1+f4B/fn5/gYKBgYCAgYKCgoKCgoKDg4ODg4SFhYWFhoeIiYmJioqLi4uKiYmJiYiIh4WFhYSDg4KBgICAgH9/fn5+fn5+fn58fX19fX18e3t7enp6enl4eHd3eHh2dXV2d3Z1dXV1dnZ1dXZ4eXl4eHt+gH9+f4GDhYWEhIWGhoeHhoWDhISEg4J/f4CAf318fHx8fHt7e3x8fH18fHx+f39/fn+AgYKCgYKCg4SEhISEhISFhYWFhYaGhoaHh4iIiIiIiYmJiYiIh4eGhoWFhIOCgoGBgIB/f39+fn9/fn5+fX5+fn59fX19fX18e3x7e3t6eXh5eXl4eHd2d3d2dXZ2dXV1dXV1d3h3d3d5fH5+fn5/gIOFhoWEhYaHiIeGhYWFhYWDgoGAgYB+fHx8fHx7enl5ent7e3t6e31+fn9+f4CCg4ODg4SFhoaGhoaHh4eHhoaHh4eGhoaHh4eGhoWGhoeGhYSEhISEg4OCgoKCgYGBgYCBgYCAgICAgICAf39/f35+fn19fXx7e3t6enp5eHh5eXh4d3d3eHh3d3d4eHl4d3d4eHl6enp5enx+f4B/f4CChISEhISFhoaGhYWEhYWEg4KBgYGAf359fXx8fHx7e3p6e3t8e3x8fX5+f3+AgYKDg4SEhYaHh4eHh4eHiIiHiIiHh4eHh4eHhoaFhYSEhIODgoKBgYCAgICAgIB/f3+AgICAgICAgIGAgICAgIB/f35+fn59fXx7e3t7enp5eXh5eXh4eHh3d3h3d3d3d3d3d3h5eXl6e3t8fn+AgYGCg4SFhYWGh4aGh4aFhYSEhIOBgIB/fn19fHt6enp6enl5enp7e3x8fH5/f4CBgoKEhYWGhoeHiImIiIiIiIiHh4aGhoWFhYSEhIODg4KCgoGBgYGBgYCAgICAgICAgICAgYGBgYGBgoGBgYGBgYGAgH9/fn5+fX18e3t7enp6eXl4eHh4eHd3d3d3d3d3d3d3d3h5eXl5e3x8fX+AgIGCg4SFhYWGh4eGhoaFhYWEg4OCgH9/fn19fHt7e3p6enp6ent7e3x9fX5/gICBgoOEhYWGhoeHh4iIiIeHh4aGhoWFhYSDg4SDg4OCgoKCgYGBgYCBgYCAgICAgIGBgYGBgYGBgYGBgYGBgYGBgICAgICAf39+fn59fXx8fHx7enp6eXh5eXh4eHh3eHh3d3d3d3d3eHh5eXl6e3x9fn+AgYKDhIWFhYaHh4eHhoaGhYSDg4KBgH9/fn18e3p6enp5eXp6ent7fHx9fn+AgIGCg4SFhYaGh4eHiIiHh4eHhoaFhYSEg4ODg4OCgoKCgYGBgYGBgYCBgYCAgYGAgIGBgYGCgoKCgoKCgoKCgoKBgYGAgH9/f35+fX18fHx7e3p6enp5eXl5eHh5eHh4eHh4eHh4eHh4eHl6eXp7fH1+f4CBgoKDhIWFhoaHh4aGhoaFhIODgoGAf39+fXx8e3p6enp6enp6e3t8fH1+foCAgYKDg4SFhYaGh4eHh4eHhoaGhYWEhISDg4KCgoKCgoKBgYGBgYGAgIGBgICAgICBgYGBgYGBgoKCgoKCgoKBgYGBgYCAgH9/f35+fX18fHx8e3t6enp6enl5eXl4eHh4eHh4eHh4eHh4eHl5eXp7fH1+f4CBgoOEhYWFhoeHh4aGhoWFhIOCgYB/f359fHx7e3p6enl6enp6e3t8fX1+f4CAgYKDg4SFhoaGh4eHh4eHhoaFhYSEhIODgoKCgoKCgYGBgYGAgICAgICAgICAgIGBgYGBgYGCgoKCgoOCgoKCgoKBgYCAgH9/fn59fXx8fHt7e3p6enp6enl5eXl5eXl5eXl5eXp6enp6enp6enp7fHx9fn+AgYGCgoOEhISFhYWFhYWFhISDgoKBgH9/fn19fHx8fHt7e3t7e3t8fH19fn+AgIGCgoOEhIWFhYaGhoaGhoaGhYWEhIODg4OCg4OCgoKCgoGBgICAf39/gH9/gICAgICBgYGBgYGCgoKCgoKCgoKCgYGBgIB/f39/fn5+fX18fHx7e3t6enp6enp6enp6enp6enp6enp6enp6enp6e3t7fHx9fX5/gIGBgoOEhISFhYWFhYWFhISDg4KBgYB/f359fXx8e3t7e3t7fHx8fX1+fn9/gIGCgoOEhIWFhoaGhoaGhYWFhISDg4OCgoKCgYGCgoKCgoGBgYGBgYGAgICBgYGBgYKCgoKCgoKCgoKCgoKCgoKCgYGBgIB/f35+fX19fHx8e3t7e3p6enp5eXp5eXp6enp6enp6enp6eXl5enp6ent8fH1+f4CBgYKDg4SEhYWFhYWFhYSEhIODgoGAgH9+fn18fHx8e3t7e3x8fHx9fX5+f4CAgYKCg4SEhYWGhoaGhYWFhYSEg4ODg4KCgoKCgoKCgoGBgYGBgYCAgICAgICAgICBgYGBgYGCgoKCgoKCgoKCgYGBgYGAgH9/f35+fX19fHx8fHx7e3t7e3t7enp6enp6enp6enp6enp6enp6enp7e3t7fH19fn+AgYKCg4SEhIWFhYWFhYSEhISDg4KCgYB/f35+fXx8fHt7e3t8fHx9fX5+f3+AgIGBgoODhISFhYWFhYWFhYSEhIODgoKCgoKCgoKCgoKBgYGBgYCAgICAgICAgICBgYGCgoKCgoKCgoKCgoKCgoKCgYGBgIB/f359fXx8e3t6enp6eXl5eXl5eXl5eXl5eXp6enp7e3t8fHx8fHx8fH19fX5+f3+AgYGCg4OEhISEhISEg4ODgoKCgYGBgICAf39+fn19fXx8fHx8fH19fn5/f4CAgYGBgoKCg4ODg4SEhISEhISDg4OCgoKCgoKCgoKCgoODg4OCgoKBgYGAgICAgICAgYGBgYKCgoKCgoKCgYGBgYGAgICAf39/fn5+fX18fHt7enp6enp6enp6enp6enp6e3p6e3t7e3t8fHx8fH19fX1+fn9/f4CAgYGCgoODg4SEhISEg4ODg4KCgYGAgIB/f35+fn59fX19fX19fX19fn5/f4CAgYGCgoODg4ODhISDg4ODg4ODg4ODg4OCgoKCgoKCgoKCgoKCgYGBgYGBgYGBgYGBgYGBgoKCgoKCgoKCgoGBgYGAgH9/f35+fn19fXx8fHt7enp6enp6enp6enp6enp6enp6enp6enp6ent7e3x8fX5+f4CBgYKDg4SEhIWFhYWFhISEhIODgoKBgYB/f35+fX18fHx8e3t8fHx8fX19fn9/gICBgYKDg4SEhIWFhYWFhYWEhISEg4ODg4KCgoKCgoKCgYGBgYGAgICAgICAgICAgYGBgYKCgoKCgoKCgoKCgYGBgICAf39/fn59fXx8e3t7enp6enl5eXl5eXl5eXl6enp6ent7e3t8fHx9fX5+f4CAgYKCg4ODhISEhISEg4ODg4KCgoGBgYCAf39/fn59fX18fHx8fHx9fX1+fn5/f4CAgYGBgoKDg4OEhISEhISEhISEhIODg4OCgoKCgoGBgYGBgYGBgICAgICAf39/gICAgICBgYGBgoKCgoKCgoGBgYGAgICAf39/fn5+fX18fHt7e3p6enl5eXl5eXh5eXl5eXl5eXl6ent7fH19fn+AgYGCg4SEhISFhYSEhISEg4ODgoKBgYGAgH9/fn59fX18fHx8fHx8fHx9fX5+f3+AgIGBgoKDg4OEhISFhYWFhYWEhISEg4ODgoKCgYGBgYCAgICAgICAf39/f39/f39/gICAgIGBgYKCgoKCgoKCgoGBgYGAgIB/f39+fn59fX18fHt7e3p6enp5eXl5eXh4eXl5eXp6ent7fH19fn9/gIGBgoKDg4ODhISEhISDg4ODgoKCgYGAgIB/f39+fn59fX19fX19fX19fX5+fn9/gICAgYGCgoKDg4ODhISEhISEg4ODg4OCgoKCgYGBgYGAgICAgICAgIB/f39/f39/f39/gICAgIGBgYGBgYGBgYGBgYCAgIB/f39/fn5+fn19fXx8fHx7e3t7enp6enp5eXl5eXp6enp7e3x8fX1+fn+AgIGBgYKCgoKDg4OCgoKCgoKBgYGBgICAf39/f35+fn5+fn5+fn5+fn5+f39/f4CAgYGBgYKCgoKCg4ODg4OCgoKCgoKBgYGBgICAgICAgICAgICAgICAgICAgICAgICAgICAgICAgICAgICAgIGAgICAgICAf39/f39+fn5+fn5+fn5+fn59fX19fX18fHx8fHx8fHt7e3t7fHx8fHx9fX1+fn5/f3+AgICBgYGBgoKCgoKCgoGBgYGBgICAgICAgIB/f39/f39/f39/f3+AgICAgICAgIGBgYGBgYGBgYGBgYGBgYCAgIB/f39/f39/f39/f39/f3+AgICAgICAgICBgYGBgYGBgYCAgICAgICAgICAgH9/f39/f39/f39/f39/fn5+fn5+fn5/f39/f39/f39/f39/f39/f39+fn5+fn5+fn5+fn9/f39/f39/f39/f39/f39/f39/f39/gICAgICAgICAgICAgICAgICBgYGBgYGBgYGBgYGAgICAgICAf39/f39/f39/f39/f39/f39/f39/f39/f39/f39/f4CAgICAgICAgICAgICAgICAgICAgICAgICAgIGBgYGBgYGBgYCAgICAgICAf39/f39/f39/f39/f39/f39/f39/f39/f39/f39/f4CAgICAgICAgICAgICAgICAgICAgICAgICAgICAgICAgICAgICAgICAgICAgICAgICAgIB/f39/f39/f39/f39+fn5+fn5+fn5+fn9/f39/f39/f39/f39/f39/f39/f3+Af4CAgICAgICAgICAgICAgICAgICAgICAgICAgICAgICAgIB/f39/f39/f39/f39/f39/f39/f39/f3+AgICAgICAgICAgICAgICAgICAgICAgICAgICAgICAgICAgICAgICAgICAgICAgICAgIB/gH9/f39/f39/f39/f39/f39/f39/f35+fn9/f39/f39/f39/f39/f39/f39/f39/f4CAf4CAgICAgICAgICAgICAgICAgICAgICAgICAgICAgICAgIB/f39/f39/f39/f39/f39/f39/f39/f39/f39/f3+AgICAgICAgICAgICAgICAgICAgICAgICAgICAgICAgICAgICAgICAgICAgICAgICAgIB/f39/f39/f39/f39/f39/f39/f39/f39/f39/f39/f39/f39/f39/f3+AgICAgICAgICAgICAgICAgICAgICAgICAgICAgICAgICAgH9/f39/f39/f39/f39/f39/f39/f39/f4CAgICAgICAgICAgICAgICAgICAgICAgICAgICAgICAgICAgH9/f4B/f4CAgH+AgH9/f39/f39/f39/f39/f39/f39/f39/f39/f39/f39/f39/f39/f39/f39/f3+AgICAgICAgICAgICAgICAgICAgICAgICAgICAgICAgICAgICAgICAgICAgICAgICAgH9/f39/f39/gIB/gICAgICAgICAgICAgICAgICAgICAgICAgH9/f39/f39/f39/f39/f39/f39/f4CAgICAgICAgICAgICAgICAgICAgICAgICAgICAgH9/f39/f39/f39/f39/f39/f39/f3+AgICAgICAgICAgICAgICAgICAgICAgICAgICAgICAgICAgICAgICAgICAgICAgICAgICAgICAgICAgICAgICAgICAgICAgICAgICAgICAgICAgICAgICAgICAgICAgH9/f39/f39/f39/gH9/gICAgICAgICAgICAgICAgICAgICAgICAgICAgH9/gIB/f39/f39/f39/f39/f39/f4CAgICAgICAgICAgICAgICAgICAgICAgICAgICAgICAgICAgICAgICAgICAgICAgICAgICAgICAgICAgICAgICAgICAgIB/f4B/f4B/f39/f39/f39/f39/f39/f39/f39/f39/f39/f39/f39/gH9/gICAgICAgICAgICAgICAgICAgICAgICAgICAgH9/f39/f39/f39/f39/f39/f39/f39/f39/gIB/gH9/gICAgICAgICAgICAgICAgICAgICAgICAgICAgICAgICAgH+AgICAgICAgICAgICAgICAf4CAf39/f39/f39/f39/f39/f39/f39/f39/f39/f39/f39/f39/f39/f39/f39/f39/f39/f3+Af39/f39/f39/f39/f39/gIB/gICAgICAgIB/f4CAf39/f3+AgIB/f4CAgIB/f4CAf4B/gICAgICAgICAgICAgICAgICAgICAgICAgICAgICAgICAgICAgICAgICAgICAgICAgICAgICAgICAgICAgICAgICAgICAgICAgICAgICAgICAgICAgICAgICAgICAgICAf39/f39/f39/f39/f39/f39/gICAgICAgICAgICAgICAgICAgICAgICAgICAgICAgICAgH9/f3+Af39/f4B/f4CAf4B/f39/f39/f4CAgICAgICAgICAgICAgICAgICAgICAgICAgICAgICAgICAf4CAgICAgICAgH+AgIB/f39/gICAgICAgICAgICAgICAgICAgICAgICAgICAgICAgICAf39/f39/f39/f39/f39/f39/f39/f39/f39/f4CAgIB/gICAf3+AgIB/gICAf39/f39/f39/f39/f39/f39/f39/f39/f39/f39/f39/f39/f39/f39/f39/f39/f39/f39/f39/gH9/f39/f39/f39/f39/f39/f39/f39/f39/f39/f39/f39/gH9/gH+AgICAgH+AgICAgICAgICAgICAgIB/f3+AgH9/f39/f39/f39/f39/f39/f39/f3+AgIB/gH+AgICAgICAgICAgICAgICAgICAgICAgICAgICAgICAgH+Af39/f39/f4CAgICAgICAgICAf4CAgICAgICAgICAgICAgICAgICAgICAgH+Af39/f39/f39/gICAf39/gH+AgICAgICAgICAgICAgICAgICAgICAgICAgICAgICAgICAgICAf39/f39/gH9/f3+Af39/f3+AgICAgICAgICAgICAgICAgICAgICAgICAgICAgICAgICAgH9/gICAf4CAf4CAgICAgH9/f39/f39/f39/f3+AgICAf4CAgICAf4B/gICAgH+AgICAgH+AgICAf39/f39/f39/f39/f39/f39/f39/f39/f39/f39/f39/gICAgICAgICAf4B/f39/f39/f39/f39/f39/f39/f39/f39/f39/f39/f39/f39/f39/f39/f39/f39/f39/f39/f39/f39/f39/f39/f39/f39/f39/f39/f3+AgICAf39/gH9/f39/f4CAgICAgICAgIB/f39/f39/f39/f39/f39/f39/f39/f39/f39/f39/f39/f39/f39/f3+Af3+Af4CAf3+AgH9/f4B/f39/f39/f39/f39/f39/f39/f39/f39/f39/f39/f39/f39/f39/f39/f39/gICAgICAgICAgICAgICAgICAgICAgICAgICAf3+AgIB/f39/f39/f39/f39/f39/f39/f39/f4B/gICAgICAgICAgICAgICAgICAgICAgICAgICAgICAgICAgICAgICAgICAgICAgICAgICAgICAgICAgICAgICAgICAgICAgICAf39/f39/f39/f4CAgICAgICAgICAgICAgICAgICAgICAgICAgICAgICAgICAgICAgICAf4CAgICAgH+AgICAgICAgICAf4CAgICAgICAgICAgICAgICAgICAgICAgICAgICAgICAgICAgICAgICAgICAgICAgICAgICAgICAgICAgICAgICAgICAgICAgICAgICAgICAgICAgICAf4CAgH9/f39/f39/f39/f39/f39/f39/f39/f39/f39/f39/f39/f39/f39/f39/f39/f39/f39/f39/f39/f39/f39/f39/f39/f39/f39/f39/f39/f39/f39/f39/f39/f39/f39/f39/f39/f39/f39/f39/f39/f39/f39/f39/f39/f39/f39/f39/f4B/f39/gICAgH9/f39/f4B/f39/f39/gICAf4CAgIB/f4CAf4CAgICAgICAgICAgICAgICAgICAgICAgICAgICAgICAgICAgICAgICAgICAgICAgICAgICAgICAgICAgICAgICAgICAgICAgICAgICAgICAgICAgICAgICAgICAgICAf4CAgIB/f39/f39/f39/f39/f39/f39/f39/f39/f39/f39/f39/f39/f39/f39/f39/f39/f39/f39/f39/f4B/f39/f39/f39/gICAgICAgICAgICAgICAgICAgICAgICAgICAgICAgICAgICAgICAgICAgICAgICAgICAgICAgICAgICAgICAgICAgICAgICAgICAgICAf4B/f39/f39/f39/f39/f39/f39/f39/f39/f39/f39/f39/f3+AgH9/gIB/f39/f39/f39/f39/f39/f39/f39/f39/f39/f39/f39/f39/f39/f39/f39/f39/f4B/f4CAgH+AgICAf3+AgICAgICAgICAgICAgICAgICAgICAgICAgICAgICAgICAgICAgICAgICAgICAgICAgICAgICAgICAgICAgICAgICAgICAgICAgICAgICAgICAgICAgICAgICAgICAgICAgICAgICAgICAgICAgICAgICAgICAgICAgICAgICAf4CAgIB/gIB/f39/f39/f39/f39/f39/f39/f39/f39/f39/gICAgIB/f4CAf39/f3+Af3+Af39/f39/gICAgH9/gICAgICAgICAgICAgICAgICAgICAgICAgICAgICAgICAgICAgICAgICAgICAgICAgICAgICAgICAgICAgICAgICAgICAgICAgICAgICAgICAgICAgICAgICAf4CAgH+Af39/f39/f39/f39/f39/f39/f39/f39/f39/f39/f39/f39/f39/f39/f39/f39/f39/f39/f4CAgICAgICAgICAgICAgICAgICAgICAgICAgICAgICAgICAgICAgICAgICAgICAgICAgICAgICAgICAgICAgICAgICAgICAgICAgICAgICAgICAgICAgICAgICAgICAgICAgICAgICAgICAgICAgICAgICAgICAgICAgICAgICAgICAgICAf39/f39/f39/f39/f39/f39/f39/f39/f39/f39/f39/f39/f39/f39/f3+Af4B/f39/f39/f39/f39/f39/gICAgICAgICAgICAgICAgICAgICAgICAgICAgICAgICAgICAgICAgICAgICAgICAgICAgICAgICAgICAgICAgIB/f4B/f39/f39/f39/f39/f39/f39/f39/f39/f39/f39/f39/f39/f39/f39/f39/f39/f39/f39/f39/f39/f39/f39/f39/f39/f39/f39/f39/f4CAf4CAgICAgICAgICAgICAgICAgICAgICAgICAgICAgICAgICAgICAgICAgICAgICAgICAgICAgICAgICAgICAgICAgICAgICAgICAgICAgICAgICAgICAgICAgICAgICAgICAgICAgICAgICAgICAgICAgICAgICAgICAgICAgH9/f39/f39/f39/f39/f39/f39/f39/f39/f39/f39/f39/f39/f39/f39/f39/f39/f39/f39/f39/f39/f39/f39/gH9/gH+AgICAgICAgICAgICAgICAgICAgICAgICAgICAgICAgICAgICAgICAgICAgICAgICAgICAgICAgICAgICAgICAgICAgICAgIB/f4CAf39/f39/f39/f4CAf4CAf39/f3+Af39/f39/f39/f39/f39/f39/f39/f39/f39/f39/f39/f39/f39/f39/f39/f39/f39/f39/gICAgICAgICAgICAgICAgICAgICAgICAgICAgICAgICAgICAgICAgICAgICAgICAgICAgICAgICAgICAgICAgICAgICAgICAgICAgICAgICAgICAgICAgICAgICAgICAgICAgICAgICAgICAgICAgICAgICAgICAgICAgH9/f39/f39/f39/f39/f39/f39/f39/f39/f39/f39/f39/f39/f39/f39/f39/f39/f39/f39/f39/f39/f39/f39/f39/f39/f39/f39/f39/f39/gH+AgICAgIB/f39/f4B/f39/f39/f39/f39/f39/f39/f39/f39/f39/f39/f39/f39/f39/f39/f39/f39/f39/f39/f39/f39/f39/f39/f39/f39/f39/f39/f39/f39/f39/f39/f39/f39/f39/f39/f39/f39/f39/f39/f39/f39/f39/f39/f39/f39/f39/f4B/f3+AgICAgICAgICAgICAgICAgICAgICAgICAgICAgICAgICAgICAgICAgICAgICAgICAgICAgICAgICAgICAgICAgICAgICAgICAgICAgH9/f39/f39/f39/f39/f39/f39/f39/f39/f39/f39/f39/f39/f39/f39/f39/f39/f39/f39/f39/f39/f39/f39/f39/f39/f39/f39/f39/f4CAf4CAf4CAgICAgICAgICAgICAgICAgICAgICAgH9/gICAgICAgICAgICAgICAgICAgICAgICAgICAgICAgICAgH9/gIB/f39/f39/f39/f39/f39/f39/f39/f39/f39/f39/f39/f39/f39/f39/f39/f39/f39/f39/f39/f39/f39/f39/f39/f39/f39/f39/f39/f39/f39/f39/f39/f39/f39/f39/f39/f39/f39/f39/f39/gICAgICAgICAgICAgICAgICAgICAgICAgICAgICAgICAgICAgICAgICAgICAgICAgICAgICAgICAgICAgICAgICAgICAgICAgICAgICAgICAgICAgICAgICAgIB/gICAf39/f39/f39/f39/f39/f39/f39/f39/f39/f39/f39/f39/f39/f39/f39/f39/f39/f39/f39/f39/f39/f39/f39/f39/f39/f39/f39/f39/f39/f39/f39/f39/f39/f39/f39/f39/f39/f39/f39/f39/f39/f39/f39/f39/f39/f39/f39/f39/f39/f39/f39/f39/f39/f39/f39/f39/f39/f39/f39/f39/f39/f39/f39/f39/f39/f39/f39/f39/f39/f39/f39/f39/f39/f39/f39/f39/f39/f39/f39/f39/f39/f39/f39/f4B/gICAgICAgICAgICAgICAgICAgICAgICAgICAgICAgICAgICAgICAgICAgICAgICAgICAgICAgICAgICAgICAgICAgICAgICAgICAgICAgICAgICAgICAgICAgICAgICAgICAgICAgICAgIB/gIB/f4B/gH9/f39/f39/f39/f39/f39/f39/f39/f39/f39/f39/f39/f39/f39/f39/f39/f39/f39/f4CAf39/f4CAgH+AgICAgH9/gH9/gICAf39/f39/f39/gICAgICAgH+AgICAgICAgH9/gICAgH9/f3+AgH+AgH9/f39/f39/f39/f39/f39/f39/f39/f39/f39/f39/f39/f39/f39/f39/f39/f39/f39/f39/f39/f39/f39/f39/f39/f39/f39/f39/f39/f39/f39/f39/f39/f39/f39/f39/f39/f39/f39/f39/f39/f39/f39/f39/f39/f39/f39/f39/gICAgICAgICAgICAgICAgICAgICAgICAgICAgICAgICAgICAgICAgICAgICAgICAgICAgICAgICAgICAgICAgICAgICAf4CAf39/f39/f39/f39/f39/f39/f39/f39/f39/f39/f39/f39/f39/f39/f39/f39/f39/f39/f39/f39/f39/f39/f39/f39/f39/f39/f39/f39/f39/f39/f39/f39/f39/f39/f39/f39/f39/f39/f39/f39/f39/f39/f39/f39/f39/f39/f39/f39/f39/f39/f39/f39/f39/f39/f39/f39/f39/f39/f39/f39/f39/f39/f39/f39/f39/f39/f39/f39/f39/f39/f39/f39/f39/f39/f39/f39/f39/f39/f39/f39/f39/f39/f39/f39/f39/f39/f39/f39/f39/f39/f39/f39/f39/f39/f39/f39/f39/f39/f39/f39/f39/f39/f39/f39/f39/f4CAgICAgICAgICAgICAgICAgICAgICAgICAgICAgICAgICAgICAgICAgICAgICAgICAgICAgICAgICAgICAgICAgICAgICAgICAgICAgICAgH9/f39/f39/f39/f39/f39/f39/f39/f39/f39/f39/f39/f39/f39/f39/f39/f39/f39/f39/f39/f39/f39/f39/f39/f39/f39/f39/f39/f39/f39/gIB/f39/f39/f39/f39/f39/f39/f39/f39/f39/f39/f39/f39/f39/f39/f39/f39/f3+AgICAgICAgICAgICAgICAgICAgICAgICAgICAgICAgICAgICAgICAgICAgICAgIB/f39/f39/f39/f39/f39/f39/f39/f39/f39/f39/f39/f39/f39/f39/f39/f39/f39/f39/f39/f4CAgICAgICAgICAgICAgICAgICAgICAgICAgICAgICAf39/gICAf39/f39/f39/f4CAgICAgICAgICAgICAgICAgICAgICAgICAgICAgICAgICAgICAgICAgICAgICAgICAgICAgICAgICAgICAgICAgICAgICAgICAgICAf39/f39/f39/f39/f39/f39/f39/f39/f39/f39/f39/f39/f39/f39/f39/f39/f39/f39/f39/f39/f39/f39/f39/f39/f39/f39/f39/f39/f39/f39/f39/f4CAgICAgIB/f4CAgICAgICAgICAgICAgICAgICAgICAgICAgICAf39/f39/gH9/gH9/f39/f39/f39/f39/f39/f39/f39/f39/f39/f39/f39/f39/f39/f39/f39/f39/f39/f39/f39/f39/f39/f39/f39/f39/f39/f39/f39/f39/f39/f39/f39/f39/f39/f39/f39/f39/f39/f39/f4B/f39/f39/gICAgICAgICAgICAgICAgICAgICAgICAgICAgICAgICAgICAgICAgICAgICAgICAgICAgICAgICAgICAgICAgICAgICAf39/f39/f39/f4B/f39/f39/gH9/f39/f39/f39/f39/f39/f39/f39/f39/f39/f39/f39/f39/f39/f39/f39/f39/f39/f39/f39/f4CAgICAgICAgICAgICAgICAgICAgICAgICAgICAgICAgICAgICAgICAgICAgICAgICAgICAgICAgICAgICAgICAgICAgICAgICAgICAgICAgICAgICAgIB/gIB/f39/f39/f39/f39/f39/f39/f39/f39/f39/f39/f39/gIB/f4CAf4B/f39/f39/f4CAgICAgICAgICAgICAgICAgICAgICAgICAgICAgICAgICAgICAgICAgICAgICAgICAgICAgICAgICAf39/f39/gICAgICAgICAgICAgICAgICAgICAgICAgICAgICAgICAgICAgICAgICAgICAgICAgICAgICAgICAgICAgICAgICAgICAgICAgICAgICAgICAgICAgICAgICAgICAgICAgICAgICAgICAgICAgICAgICAgICAgICAgICAgICAgICAgICAgICAgICAgICAgICAgICAgICAgICAgICAgICAgICAgICAgICAgICAgICAgICAgICAgICAgICAgICAgICAgICAf39/f39/f3+AgICAgICAgICAgICAgICAgICAgICAgICAgICAgICAgICAgICAgICAgICAgICAgICAgICAgICAgICAgICAgICAgICAgICAgIB/f4CAf39/f39/f3+Af3+Af39/f39/f39/f39/f39/f39/f39/f39/f39/f39/f39/f39/f39/f39/f39/f39/f39/f39/f39/f39/f3+Af4B/f39/f39/f39/f39/f39/f39/f39/f39/f39/f39/f39/f3+AgICAgICAgICAgICAgICAgICAgICAgICAgICAgICAgICAgICAgICAgICAgICAgICAgICAgICAgICAgICAgICAgICAgICAgICAgICAgICAgICAgICAgICAgICAgICAgICAgICAgICAgICAgICAgICAgICAgICAgICAgICAgIB/f39/f4CAgH9/gICAgICAgICAgICAgICAgICAgICAgICAgICAgICAgICAgICAgICAgICAgICAf3+AgIB/f3+AgH+AgH+AgICAgICAf39/f39/f39/f39/f39/f39/f39/f39/f39/f39/f39/f39/f39/f39/f39/f39/gH9/f39/f39/f39/f39/f39/f39/f39/f39/f39/f39/f39/f39/f39/f39/f39/f39/f39/f39/f39/f39/f39/f39/f39/f39/f39/f39/f39/f39/f39/f39/f39/f39/f39/f39/f39/f39/f39/f39/f39/f39/f39/f39/f39/f39/f39/f39/f39/f39/f39/f39/f39/f39/f39/f39/f39/f39/f39/gICAgICAgH9/f39/f39/f39/f3+AgH+AgH9/f39/f39/f39/f39/f39/f39/f39/gH9/gICAgICAgICAgICAgICAgICAgICAgICAgICAgICAgIB/f39/f39/gICAgICAgICAgICAgICAgICAgICAgICAgICAgICAgICAgICAgICAgICAgICAgICAgICAgICAgICAgICAf39/f4CAgICAgICAgICAgICAgICAgICAgICAgICAgICAgICAgICAgICAgIB/gICAgH+AgICAgH+AgICAgICAgICAgICAgICAgICAgICAgICAgICAgICAgICAgICAf39/f39/f39/f39/f39/f3+Af4CAf39/gH9/f39/gH9/gICAgICAgICAf39/f39/f39/f39/f39/f39/f39/f39/f39/f39/f39/f39/f39/f3+AgH+AgIB/f39/f39/f39/f39/f39/f39/f39/f39/f39/f39/f39/f39/f39/f39/f39/f39/f39/f39/f39/f39/f39/f39/f39/f4CAgICAgICAgICAgICAgICAgICAgICAgICAgICAgICAgICAgICAgICAgICAgICAgICAgICAgICAgICAgICAgICAgICAgICAgICAgICAgICAgICAgICAgICAgICAgICAgICAgICAgICAgICAgICAgICAgICAgICAgICAf39/f4CAgICAgH9/gICAgIB/f39/f39/f39/f3+AgICAgICAgICAgICAgICAgICAgICAgICAgICAgICAgICAgICAgICAgICAgICAgICAgICAgICAgICAgICAgICAgICAgICAgICAgICAgICAgICAgICAgICAgICAgIB/gH9/f39/f39/f39/f39/f39/f39/f39/f39/f4CAgICAf39/gICAgH9/f4CAgICAgICAgICAgICAgICAgICAgICAgICAgICAgICAgICAgICAgICAgICAgICAgH9/f39/f39/f39/f39/f39/f39/f39/f39/f39/f39/f39/f39/f39/f39/f39/f39/f39/f39/f39/f39/f39/f39/f39/f39/f39/f39/f39/f39/f39/f39/f39/f39/f39/f39/f39/f39/f39/f39/f39/f39/f39/f39/f39/f39/f39/f39/f39/f39/f39/f39/f39/f39/f39/f39/f39/f39/f39/f39/f39/f39/f39/f39/f39/f39/f39/f39/f39/f39/f39/f39/f39/f39/f39/f39/f39/f39/f39/f39/f39/f39/f39/f39/f39/f39/f39/f39/f39/f39/f39/f39/f39/f39/f39/f39/gH9/gICAgICAgICAgICAgICAgICAgICAgICAgICAgICAgICAgICAgICAgIB/gIB/f39/f39/f3+AgICAgICAf39/f3+AgIB/f39/f39/f4B/f4CAgICAgICAgH9/f39/gH+AgH+AgICAgICAgICAgICAgICAgICAgICAgICAgICAgICAgICAgICAgICAgICAgICAgICAgICAgICAgICAgICAgICAgICAgICAgICAgIB/gICAgICAgICAgICAgICAgH9/gICAgIB/gICAgICAgICAgICAf39/gIB/f39/f39/f39/f39/f39/f39/f39/f39/f3+Af39/f3+AgH+Af39/f39/gH9/f39/f4CAgICAf3+Af39/f4CAf4CAgICAf4CAf4CAf4CAf39/f4CAgICAgICAgICAgICAgIB/f39/f3+AgH+AgH+AgICAgH9/f4B/f39/f4CAf39/f39/f39/f39/f4CAf39/gH9/f39/f39/f39/f39/f39/f39/f39/f39/f39/f39/f39/f39/f39/f39/f39/f39/f39/f39/f39/f39/f39/f39/f39/f39/f39/f39/f39/f39/f39/f39/f39/f39/f39/f39/f39/f39/f39/f39/f39/f39/f39/f39/gIB/f39/f39/f39/f39/f39/f39/f39/f39/f39/f39/f39/f39/f39/f39/f3+AgICAgICAf4CAf4CAgICAgH+AgIB/f39/f4B/f39/f39/f39/f39/f39/f39/f39/f39/f39/gICAgICAgICAgICAgICAgICAgICAgICAgICAgICAgICAgICAgICAgICAgIB/f3+AgICAgICAgH9/f4B/f4B/f3+AgH9/gH9/f4CAgICAgH+AgH+AgICAgIB/f4CAgICAgICAgICAgICAgIB/gICAgICAf39/f39/f39/f39/f39/f39/f39/f39/f39/f39/f39/f39/f39/f39/f39/f39/f39/f39/f39/f39/f39/f39/f39/f39/f39/f39/f39/f39/f39/f39/f39/f39/f39/f39/f39/f39/f39/f39/f39/f39/f39/f39/f39/f39/f39/f39/f39/f39/f39/f39/f39/f39/f39/f39/f39/f39/f39/f39/f39/f4CAgH9/f39/f39/f39/f39/f39/gICAf39/f39/f4CAgH9/gICAgICAgH9/f39/gIB/gICAf39/f39/gIB/f4CAgH9/f4CAgICAgICAgICAgICAgICAgICAgICAgICAf4CAgICAgICAgICAgICAgICAgICAgICAgICAgICAgICAgICAgICAgICAgICAgICAgICAgICAgICAgICAgICAgICAgICAgICAgICAgICAgICAgICAgICAgICAf39/gH+AgICAgICAgICAgICAf4CAgICAgICAgICAgICAgICAgICAgICAgICAgICAgICAgICAgICAgICAgIB/gICAgICAgIB/gICAgICAgICAgICAgICAgICAgICAgICAgICAgICAgICAgICAgICAgICAgICAgH+AgICAgICAf39/f39/f39/f4CAgICAgICAf4CAgICAgICAgICAgICAgICAgICAgICAf4CAf39/f4CAf39/f39/f39/gIB/f39/f3+AgH+AgIB/gH+AgICAgICAgICAgH+AgICAf3+Af39/f39/gH9/f39/gIB/f39/f39/f39/f39/f39/f39/f39/f39/f39/f4CAf4B/f3+Af4CAgICAgICAf39/f39/f39/gIB/f4CAf3+AgICAgIB/f3+AgH+AgICAgICAgICAgICAgICAgICAgICAgICAgICAgICAgICAgICAgICAgICAgICAgICAgICAgICAgICAgICAgICAgICAgICAgICAgICAgICAgICAgICAgIB/gIB/f39/f4B/f4CAf39/gICAf3+AgICAgICAgICAgICAgICAgICAgICAgICAgICAgICAgICAgICAgICAgICAgICAf4CAgICAgICAgICAgICAgICAgICAgICAgICAgICAgIB/gH+AgICAf39/f39/f4B/f39/f39/f39/gH9/gICAf3+AgH9/gH9/f39/f39/f39/f39/f39/f4B/f39/f39/f39/f39/f39/f39/f39/f39/f39/f39/f39/f3+AgH9/f39/f4CAgH9/gH+AgH9/f39/f39/f4B/gICAgICAf39/f39/f39/f39/f39/f39/f39/f4CAgH+AgICAgICAgH9/f39/gICAgICAgICAgICAgICAgICAgICAgICAgICAgICAgICAgICAgICAgICAgICAgICAgICAgICAgICAgICAgICAgICAgICAgICAgICAgICAgICAgICAgICAgICAgICAgICAgICAgICAgICAgICAgICAgICAgICAgICAgICAgICAgICAgICAgICAgICAgICAgICAgICAgICAgICAgICAgICAgICAgICAgICAgICAgICAgICAgICAgICAgICAgICAgICAgICAgICAgICAgICAgICAgICAgICAgICAgICAgICAgICAgICAgICAf39/f39/gICAgICAf39/f39/gH9/f39/f39/f39/f39/f39/f39/f39/f39/f39/f39/f39/f39/f39/f39/f39/f39/f39/f39/f4B/f4B/f39/f39/f39/f39/f4B/f3+Af3+AgICAgICAgICAgICAgICAgICAgH9/gIB/gIB/gICAgICAgICAgH9/gICAgH+AgICAgICAgICAgICAgICAgICAgICAgICAgICAgICAgICAgICAgICAgICAgICAgICAgIB/gICAgICAgICAgICAgICAgICAgICAgICAgICAgICAgICAgICAgH9/f39/f39/f39/f39/f39/f39/f4B/f3+AgICAf4CAf39/f4CAf3+AgICAgICAf39/f3+Af39/f39/f3+Af39/f39/gICAgIB/f4B/f39/gIB/gICAgIB/gIB/gIB/gIB/f39/gICAgICAgICAgICAgICAgH9/f39/f4CAf4CAf4CAgICAf39/gH9/f39/gIB/f39/f39/f39/f39/gIB/f3+Af39/f39/f39/f39/f39/f39/f39/f39/f39/f39/f39/f39/f39/f39/f39/f39/f39/f39/f39/f39/f39/f39/f39/f39/f39/f39/f39/f39/f39/f39/f39/f39/f39/f39/f39/f39/f39/f39/f39/f39/f39/f39/f3+AgH9/f39/f39/f39/f39/f39/f39/f39/f39/f39/f39/f39/f39/f39/f39/f4CAgICAgIB/gIB/gICAgICAf4CAgH9/f39/gH9/f39/f39/f39/f39/f39/f39/f39/f39/f3+AgICAgICAgICAgICAgICAgICAgICAgICAgICAgICAgICAgICAgICAgICAgH9/f4CAgICAgICAf39/gH9/gH9/f4CAf3+Af39/gICAgICAf4CAf4CAgICAgH9/gICAgICAgICAgICAgICAgH+AgICAgIB/f39/f39/f39/f39/f39/f39/f39/f39/f39/f39/f39/f39/f39/f39/f39/f39/f39/f39/f39/f39/f39/f39/f39/f39/f39/f39/f39/f39/f39/f39/f39/f39/f39/f39/f39/f39/f39/f39/f39/f39/f39/f39/f39/f39/f39/f39/f39/f39/f39/f39/f39/f39/f39/f39/f39/f39/f39/f39/f39/gICAf39/f39/f39/f39/f39/f3+AgIB/f39/f39/gICAf3+AgICAgICAf39/f3+AgH+AgIB/f39/f3+AgH9/gICAf39/gICAgICAgICAgICAgICAgICAgICAgICAgIB/gICAgICAgICAgICA\" type=\"audio/x-wav\" />\n",
       "                    Your browser does not support the audio element.\n",
       "                </audio>\n",
       "              "
      ],
      "text/plain": [
       "<IPython.lib.display.Audio object>"
      ]
     },
     "execution_count": 10,
     "metadata": {},
     "output_type": "execute_result"
    }
   ],
   "source": [
    "import IPython\n",
    "IPython.display.Audio('test3.wav')"
   ]
  },
  {
   "cell_type": "code",
   "execution_count": 22,
   "metadata": {},
   "outputs": [
    {
     "name": "stdout",
     "output_type": "stream",
     "text": [
      "['OpenL3Error', '__builtins__', '__cached__', '__doc__', '__file__', '__loader__', '__name__', '__package__', '__path__', '__spec__', '__version__', 'core', 'get_audio_embedding', 'get_image_embedding', 'get_output_path', 'models', 'openl3_exceptions', 'openl3_warnings', 'preprocess_audio', 'process_audio_file', 'process_image_file', 'process_video_file', 'version']\n"
     ]
    }
   ],
   "source": [
    "#inspecting the openl3 object\n",
    "import openl3\n",
    "print(dir(openl3))"
   ]
  },
  {
   "cell_type": "code",
   "execution_count": 18,
   "metadata": {},
   "outputs": [
    {
     "name": "stdout",
     "output_type": "stream",
     "text": [
      "2/2 [==============================] - 5s 1s/step\n",
      "CPU times: user 27.4 s, sys: 3.58 s, total: 31 s\n",
      "Wall time: 6.71 s\n"
     ]
    }
   ],
   "source": [
    "%%time\n",
    "#source: https://openl3.readthedocs.io/en/latest/tutorial.html\n",
    "import openl3\n",
    "import soundfile as sf\n",
    "\n",
    "audio, sr = sf.read('test3.wav')\n",
    "emb, ts = openl3.get_audio_embedding(audio, sr, embedding_size=512)"
   ]
  },
  {
   "cell_type": "code",
   "execution_count": 19,
   "metadata": {},
   "outputs": [
    {
     "name": "stdout",
     "output_type": "stream",
     "text": [
      "<class 'numpy.ndarray'>\n",
      "<class 'numpy.ndarray'>\n",
      "2\n",
      "1\n",
      "(44, 512)\n",
      "<class 'numpy.ndarray'>\n",
      "(44,)\n"
     ]
    }
   ],
   "source": [
    "#inspecting the embeddings\n",
    "print(type(emb))\n",
    "print(type(ts))\n",
    "print(emb.ndim)\n",
    "print(ts.ndim)\n",
    "print(emb.shape) #T is the number of embedding frames and D is the dimensionality of the embedding\n",
    "print(type(ts))\n",
    "print(ts.shape)"
   ]
  },
  {
   "cell_type": "code",
   "execution_count": 12,
   "metadata": {},
   "outputs": [
    {
     "data": {
      "text/plain": [
       "array([[ 2.4308372 ,  1.1149532 ,  1.8192576 , ..., -0.14498357,\n",
       "         2.2152417 ,  1.9717529 ],\n",
       "       [ 2.4308372 ,  1.1149532 ,  1.8192576 , ..., -0.24769111,\n",
       "         2.3143423 ,  1.8606813 ],\n",
       "       [ 2.8389266 ,  1.1149532 ,  3.262666  , ..., -0.21120667,\n",
       "         2.404297  ,  1.7319975 ],\n",
       "       ...,\n",
       "       [ 2.8333435 ,  1.2785553 ,  1.7980069 , ..., -0.3812189 ,\n",
       "         2.210068  ,  1.9683213 ],\n",
       "       [ 2.1790419 ,  1.2112043 ,  1.4493768 , ..., -0.35090634,\n",
       "         2.1785927 ,  1.961911  ],\n",
       "       [ 1.4703027 ,  1.0915128 ,  1.5203851 , ..., -0.46646792,\n",
       "         2.9630392 ,  1.866844  ]], dtype=float32)"
      ]
     },
     "execution_count": 12,
     "metadata": {},
     "output_type": "execute_result"
    }
   ],
   "source": [
    "emb"
   ]
  },
  {
   "cell_type": "code",
   "execution_count": 31,
   "metadata": {},
   "outputs": [
    {
     "name": "stderr",
     "output_type": "stream",
     "text": [
      "/Users/michielbontenbal/opt/anaconda3/lib/python3.9/site-packages/openl3/core.py:116: FutureWarning: Pass y=[ 0.         0.         0.        ... -0.0078125 -0.0078125 -0.0078125], sr=48000 as keyword args. From version 0.10 passing these as positional arguments will result in an error\n",
      "  S = librosa.feature.melspectrogram(\n",
      "/Users/michielbontenbal/opt/anaconda3/lib/python3.9/site-packages/openl3/core.py:116: FutureWarning: Pass y=[0. 0. 0. ... 0. 0. 0.], sr=48000 as keyword args. From version 0.10 passing these as positional arguments will result in an error\n",
      "  S = librosa.feature.melspectrogram(\n",
      "/Users/michielbontenbal/opt/anaconda3/lib/python3.9/site-packages/openl3/core.py:116: FutureWarning: Pass y=[ 0.          0.          0.         ... -0.00785431 -0.007864\n",
      " -0.00782501], sr=48000 as keyword args. From version 0.10 passing these as positional arguments will result in an error\n",
      "  S = librosa.feature.melspectrogram(\n",
      "/Users/michielbontenbal/opt/anaconda3/lib/python3.9/site-packages/openl3/core.py:116: FutureWarning: Pass y=[-2.04634910e-04 -3.10164353e-04 -1.26043262e-04 ... -9.81877853e-06\n",
      " -9.93391665e-06 -1.47226537e-06], sr=48000 as keyword args. From version 0.10 passing these as positional arguments will result in an error\n",
      "  S = librosa.feature.melspectrogram(\n",
      "/Users/michielbontenbal/opt/anaconda3/lib/python3.9/site-packages/openl3/core.py:116: FutureWarning: Pass y=[ 2.06592954e-05  4.61479809e-05  3.00529975e-05 ... -7.81097328e-03\n",
      " -7.78302792e-03 -7.78275379e-03], sr=48000 as keyword args. From version 0.10 passing these as positional arguments will result in an error\n",
      "  S = librosa.feature.melspectrogram(\n",
      "/Users/michielbontenbal/opt/anaconda3/lib/python3.9/site-packages/openl3/core.py:116: FutureWarning: Pass y=[ 0.          0.          0.         ... -0.00779384 -0.00782091\n",
      " -0.00783848], sr=48000 as keyword args. From version 0.10 passing these as positional arguments will result in an error\n",
      "  S = librosa.feature.melspectrogram(\n",
      "/Users/michielbontenbal/opt/anaconda3/lib/python3.9/site-packages/openl3/core.py:116: FutureWarning: Pass y=[-7.81249977e-03 -7.81249980e-03 -7.81249980e-03 ...  4.71758079e-05\n",
      "  8.93631937e-05  5.02058765e-05], sr=48000 as keyword args. From version 0.10 passing these as positional arguments will result in an error\n",
      "  S = librosa.feature.melspectrogram(\n",
      "/Users/michielbontenbal/opt/anaconda3/lib/python3.9/site-packages/openl3/core.py:116: FutureWarning: Pass y=[-0.0078125  -0.0078125  -0.0078125  ...  0.00085535  0.00183125\n",
      "  0.00135615], sr=48000 as keyword args. From version 0.10 passing these as positional arguments will result in an error\n",
      "  S = librosa.feature.melspectrogram(\n",
      "/Users/michielbontenbal/opt/anaconda3/lib/python3.9/site-packages/openl3/core.py:116: FutureWarning: Pass y=[0.00000000e+00 0.00000000e+00 0.00000000e+00 ... 7.02221031e-04\n",
      " 2.63938419e-04 3.18770076e-05], sr=48000 as keyword args. From version 0.10 passing these as positional arguments will result in an error\n",
      "  S = librosa.feature.melspectrogram(\n",
      "/Users/michielbontenbal/opt/anaconda3/lib/python3.9/site-packages/openl3/core.py:116: FutureWarning: Pass y=[-0.0077696  -0.00774951 -0.0077883  ... -0.00776387 -0.00786546\n",
      " -0.00784833], sr=48000 as keyword args. From version 0.10 passing these as positional arguments will result in an error\n",
      "  S = librosa.feature.melspectrogram(\n",
      "/Users/michielbontenbal/opt/anaconda3/lib/python3.9/site-packages/openl3/core.py:116: FutureWarning: Pass y=[-0.0078125 -0.0078125 -0.0078125 ... -0.0078125 -0.0078125 -0.0078125], sr=48000 as keyword args. From version 0.10 passing these as positional arguments will result in an error\n",
      "  S = librosa.feature.melspectrogram(\n",
      "/Users/michielbontenbal/opt/anaconda3/lib/python3.9/site-packages/openl3/core.py:116: FutureWarning: Pass y=[7.39159800e-06 8.97199566e-06 2.66200362e-06 ... 0.00000000e+00\n",
      " 0.00000000e+00 0.00000000e+00], sr=48000 as keyword args. From version 0.10 passing these as positional arguments will result in an error\n",
      "  S = librosa.feature.melspectrogram(\n",
      "/Users/michielbontenbal/opt/anaconda3/lib/python3.9/site-packages/openl3/core.py:116: FutureWarning: Pass y=[-0.00780803 -0.00783498 -0.00784039 ... -0.0078125  -0.0078125\n",
      " -0.0078125 ], sr=48000 as keyword args. From version 0.10 passing these as positional arguments will result in an error\n",
      "  S = librosa.feature.melspectrogram(\n",
      "/Users/michielbontenbal/opt/anaconda3/lib/python3.9/site-packages/openl3/core.py:116: FutureWarning: Pass y=[0.         0.         0.         ... 0.00055134 0.00095869 0.00067893], sr=48000 as keyword args. From version 0.10 passing these as positional arguments will result in an error\n",
      "  S = librosa.feature.melspectrogram(\n",
      "/Users/michielbontenbal/opt/anaconda3/lib/python3.9/site-packages/openl3/core.py:116: FutureWarning: Pass y=[-0.00783207 -0.0078092  -0.00779108 ...  0.0086697   0.01045597\n",
      "  0.01274341], sr=48000 as keyword args. From version 0.10 passing these as positional arguments will result in an error\n",
      "  S = librosa.feature.melspectrogram(\n",
      "/Users/michielbontenbal/opt/anaconda3/lib/python3.9/site-packages/openl3/core.py:116: FutureWarning: Pass y=[-0.0078125  -0.0078125  -0.0078125  ... -0.02338787 -0.02012644\n",
      " -0.01767555], sr=48000 as keyword args. From version 0.10 passing these as positional arguments will result in an error\n",
      "  S = librosa.feature.melspectrogram(\n",
      "/Users/michielbontenbal/opt/anaconda3/lib/python3.9/site-packages/openl3/core.py:116: FutureWarning: Pass y=[-2.93106719e-05 -7.64694287e-05 -5.29981798e-05 ... -1.55203268e-02\n",
      " -1.37801751e-02 -1.08732948e-02], sr=48000 as keyword args. From version 0.10 passing these as positional arguments will result in an error\n",
      "  S = librosa.feature.melspectrogram(\n",
      "/Users/michielbontenbal/opt/anaconda3/lib/python3.9/site-packages/openl3/core.py:116: FutureWarning: Pass y=[-0.00090315 -0.00406875 -0.00649958 ...  0.00820337  0.0108715\n",
      "  0.01314955], sr=48000 as keyword args. From version 0.10 passing these as positional arguments will result in an error\n",
      "  S = librosa.feature.melspectrogram(\n",
      "/Users/michielbontenbal/opt/anaconda3/lib/python3.9/site-packages/openl3/core.py:116: FutureWarning: Pass y=[-0.00063927 -0.00242271 -0.00507841 ... -0.02237151 -0.01814176\n",
      " -0.01601599], sr=48000 as keyword args. From version 0.10 passing these as positional arguments will result in an error\n",
      "  S = librosa.feature.melspectrogram(\n",
      "/Users/michielbontenbal/opt/anaconda3/lib/python3.9/site-packages/openl3/core.py:116: FutureWarning: Pass y=[-0.00788139 -0.00808703 -0.00823274 ...  0.03873523  0.03876405\n",
      "  0.03957673], sr=48000 as keyword args. From version 0.10 passing these as positional arguments will result in an error\n",
      "  S = librosa.feature.melspectrogram(\n",
      "/Users/michielbontenbal/opt/anaconda3/lib/python3.9/site-packages/openl3/core.py:116: FutureWarning: Pass y=[-0.0078125  -0.0078125  -0.0078125  ... -0.03107361 -0.03528407\n",
      " -0.04093395], sr=48000 as keyword args. From version 0.10 passing these as positional arguments will result in an error\n",
      "  S = librosa.feature.melspectrogram(\n",
      "/Users/michielbontenbal/opt/anaconda3/lib/python3.9/site-packages/openl3/core.py:116: FutureWarning: Pass y=[ 0.          0.          0.         ... -0.03962794 -0.04012821\n",
      " -0.03986572], sr=48000 as keyword args. From version 0.10 passing these as positional arguments will result in an error\n",
      "  S = librosa.feature.melspectrogram(\n",
      "/Users/michielbontenbal/opt/anaconda3/lib/python3.9/site-packages/openl3/core.py:116: FutureWarning: Pass y=[-0.0078125  -0.0078125  -0.0078125  ... -0.00780231 -0.00782592\n",
      " -0.00783588], sr=48000 as keyword args. From version 0.10 passing these as positional arguments will result in an error\n",
      "  S = librosa.feature.melspectrogram(\n",
      "/Users/michielbontenbal/opt/anaconda3/lib/python3.9/site-packages/openl3/core.py:116: FutureWarning: Pass y=[-5.57386129e-04 -2.64482790e-03 -5.09831979e-03 ...  9.67938820e-05\n",
      "  5.09314802e-04  3.00260709e-03], sr=48000 as keyword args. From version 0.10 passing these as positional arguments will result in an error\n",
      "  S = librosa.feature.melspectrogram(\n",
      "/Users/michielbontenbal/opt/anaconda3/lib/python3.9/site-packages/openl3/core.py:116: FutureWarning: Pass y=[ 0.01477309  0.01600544  0.01644499 ... -0.03047567 -0.02745865\n",
      " -0.01402176], sr=48000 as keyword args. From version 0.10 passing these as positional arguments will result in an error\n",
      "  S = librosa.feature.melspectrogram(\n",
      "/Users/michielbontenbal/opt/anaconda3/lib/python3.9/site-packages/openl3/core.py:116: FutureWarning: Pass y=[-0.01568797 -0.01368884 -0.01116737 ... -0.00019198  0.00087368\n",
      "  0.00088459], sr=48000 as keyword args. From version 0.10 passing these as positional arguments will result in an error\n",
      "  S = librosa.feature.melspectrogram(\n",
      "/Users/michielbontenbal/opt/anaconda3/lib/python3.9/site-packages/openl3/core.py:116: FutureWarning: Pass y=[-0.00792586 -0.00620136 -0.00628218 ... -0.00813151 -0.00819679\n",
      " -0.00790545], sr=48000 as keyword args. From version 0.10 passing these as positional arguments will result in an error\n",
      "  S = librosa.feature.melspectrogram(\n",
      "/Users/michielbontenbal/opt/anaconda3/lib/python3.9/site-packages/openl3/core.py:116: FutureWarning: Pass y=[0.01526382 0.01761724 0.02048649 ... 0.00783683 0.00890454 0.00911458], sr=48000 as keyword args. From version 0.10 passing these as positional arguments will result in an error\n",
      "  S = librosa.feature.melspectrogram(\n",
      "/Users/michielbontenbal/opt/anaconda3/lib/python3.9/site-packages/openl3/core.py:116: FutureWarning: Pass y=[-0.01666203 -0.02015406 -0.02541647 ... -0.00765281 -0.00670719\n",
      " -0.00409479], sr=48000 as keyword args. From version 0.10 passing these as positional arguments will result in an error\n",
      "  S = librosa.feature.melspectrogram(\n",
      "/Users/michielbontenbal/opt/anaconda3/lib/python3.9/site-packages/openl3/core.py:116: FutureWarning: Pass y=[ 0.03942797  0.03732905  0.0338814  ... -0.04701596 -0.04825532\n",
      " -0.0508727 ], sr=48000 as keyword args. From version 0.10 passing these as positional arguments will result in an error\n",
      "  S = librosa.feature.melspectrogram(\n",
      "/Users/michielbontenbal/opt/anaconda3/lib/python3.9/site-packages/openl3/core.py:116: FutureWarning: Pass y=[-0.04704457 -0.05199694 -0.05450885 ... -0.01493927 -0.0161288\n",
      " -0.01628183], sr=48000 as keyword args. From version 0.10 passing these as positional arguments will result in an error\n",
      "  S = librosa.feature.melspectrogram(\n",
      "/Users/michielbontenbal/opt/anaconda3/lib/python3.9/site-packages/openl3/core.py:116: FutureWarning: Pass y=[-0.0385047  -0.03622408 -0.03371031 ...  0.00783275  0.00890857\n",
      "  0.00864676], sr=48000 as keyword args. From version 0.10 passing these as positional arguments will result in an error\n",
      "  S = librosa.feature.melspectrogram(\n",
      "/Users/michielbontenbal/opt/anaconda3/lib/python3.9/site-packages/openl3/core.py:116: FutureWarning: Pass y=[-7.82462870e-03 -7.80374803e-03 -7.79225790e-03 ...  4.10601770e-05\n",
      "  1.10105794e-04  8.70083687e-05], sr=48000 as keyword args. From version 0.10 passing these as positional arguments will result in an error\n",
      "  S = librosa.feature.melspectrogram(\n",
      "/Users/michielbontenbal/opt/anaconda3/lib/python3.9/site-packages/openl3/core.py:116: FutureWarning: Pass y=[ 0.00771615  0.01446265  0.02263192 ... -0.00790798 -0.00790994\n",
      " -0.00781925], sr=48000 as keyword args. From version 0.10 passing these as positional arguments will result in an error\n",
      "  S = librosa.feature.melspectrogram(\n",
      "/Users/michielbontenbal/opt/anaconda3/lib/python3.9/site-packages/openl3/core.py:116: FutureWarning: Pass y=[ 0.00698668  0.02923249  0.04492419 ... -0.00018977 -0.0040093\n",
      " -0.006952  ], sr=48000 as keyword args. From version 0.10 passing these as positional arguments will result in an error\n",
      "  S = librosa.feature.melspectrogram(\n",
      "/Users/michielbontenbal/opt/anaconda3/lib/python3.9/site-packages/openl3/core.py:116: FutureWarning: Pass y=[ 0.00021877 -0.00051565 -0.00074519 ... -0.00780231 -0.00778467\n",
      " -0.00779202], sr=48000 as keyword args. From version 0.10 passing these as positional arguments will result in an error\n",
      "  S = librosa.feature.melspectrogram(\n",
      "/Users/michielbontenbal/opt/anaconda3/lib/python3.9/site-packages/openl3/core.py:116: FutureWarning: Pass y=[-0.00750288 -0.00735867 -0.0076339  ... -0.0079275  -0.00800239\n",
      " -0.00792359], sr=48000 as keyword args. From version 0.10 passing these as positional arguments will result in an error\n",
      "  S = librosa.feature.melspectrogram(\n",
      "/Users/michielbontenbal/opt/anaconda3/lib/python3.9/site-packages/openl3/core.py:116: FutureWarning: Pass y=[ 0.00781504  0.0052033   0.00222216 ... -0.00758298 -0.0052825\n",
      " -0.00251818], sr=48000 as keyword args. From version 0.10 passing these as positional arguments will result in an error\n",
      "  S = librosa.feature.melspectrogram(\n",
      "/Users/michielbontenbal/opt/anaconda3/lib/python3.9/site-packages/openl3/core.py:116: FutureWarning: Pass y=[-2.14028458e-04  3.82367802e-03  6.80381478e-03 ... -1.18680079e-04\n",
      " -1.37293656e-04 -2.36777780e-05], sr=48000 as keyword args. From version 0.10 passing these as positional arguments will result in an error\n",
      "  S = librosa.feature.melspectrogram(\n",
      "/Users/michielbontenbal/opt/anaconda3/lib/python3.9/site-packages/openl3/core.py:116: FutureWarning: Pass y=[-0.05460647 -0.0584853  -0.06133869 ...  0.          0.\n",
      "  0.        ], sr=48000 as keyword args. From version 0.10 passing these as positional arguments will result in an error\n",
      "  S = librosa.feature.melspectrogram(\n"
     ]
    },
    {
     "name": "stdout",
     "output_type": "stream",
     "text": [
      "2/2 [==============================] - 3s 683ms/step\n"
     ]
    },
    {
     "name": "stderr",
     "output_type": "stream",
     "text": [
      "/Users/michielbontenbal/opt/anaconda3/lib/python3.9/site-packages/openl3/core.py:116: FutureWarning: Pass y=[ 0.         0.         0.        ... -0.0078125 -0.0078125 -0.0078125], sr=48000 as keyword args. From version 0.10 passing these as positional arguments will result in an error\n",
      "  S = librosa.feature.melspectrogram(\n",
      "/Users/michielbontenbal/opt/anaconda3/lib/python3.9/site-packages/openl3/core.py:116: FutureWarning: Pass y=[0. 0. 0. ... 0. 0. 0.], sr=48000 as keyword args. From version 0.10 passing these as positional arguments will result in an error\n",
      "  S = librosa.feature.melspectrogram(\n",
      "/Users/michielbontenbal/opt/anaconda3/lib/python3.9/site-packages/openl3/core.py:116: FutureWarning: Pass y=[ 0.          0.          0.         ... -0.00785431 -0.007864\n",
      " -0.00782501], sr=48000 as keyword args. From version 0.10 passing these as positional arguments will result in an error\n",
      "  S = librosa.feature.melspectrogram(\n",
      "/Users/michielbontenbal/opt/anaconda3/lib/python3.9/site-packages/openl3/core.py:116: FutureWarning: Pass y=[-2.04634910e-04 -3.10164353e-04 -1.26043262e-04 ... -9.81877853e-06\n",
      " -9.93391665e-06 -1.47226537e-06], sr=48000 as keyword args. From version 0.10 passing these as positional arguments will result in an error\n",
      "  S = librosa.feature.melspectrogram(\n",
      "/Users/michielbontenbal/opt/anaconda3/lib/python3.9/site-packages/openl3/core.py:116: FutureWarning: Pass y=[ 2.06592954e-05  4.61479809e-05  3.00529975e-05 ... -7.81097328e-03\n",
      " -7.78302792e-03 -7.78275379e-03], sr=48000 as keyword args. From version 0.10 passing these as positional arguments will result in an error\n",
      "  S = librosa.feature.melspectrogram(\n",
      "/Users/michielbontenbal/opt/anaconda3/lib/python3.9/site-packages/openl3/core.py:116: FutureWarning: Pass y=[ 0.          0.          0.         ... -0.00779384 -0.00782091\n",
      " -0.00783848], sr=48000 as keyword args. From version 0.10 passing these as positional arguments will result in an error\n",
      "  S = librosa.feature.melspectrogram(\n",
      "/Users/michielbontenbal/opt/anaconda3/lib/python3.9/site-packages/openl3/core.py:116: FutureWarning: Pass y=[-7.81249977e-03 -7.81249980e-03 -7.81249980e-03 ...  4.71758079e-05\n",
      "  8.93631937e-05  5.02058765e-05], sr=48000 as keyword args. From version 0.10 passing these as positional arguments will result in an error\n",
      "  S = librosa.feature.melspectrogram(\n",
      "/Users/michielbontenbal/opt/anaconda3/lib/python3.9/site-packages/openl3/core.py:116: FutureWarning: Pass y=[-0.0078125  -0.0078125  -0.0078125  ...  0.00085535  0.00183125\n",
      "  0.00135615], sr=48000 as keyword args. From version 0.10 passing these as positional arguments will result in an error\n",
      "  S = librosa.feature.melspectrogram(\n",
      "/Users/michielbontenbal/opt/anaconda3/lib/python3.9/site-packages/openl3/core.py:116: FutureWarning: Pass y=[0.00000000e+00 0.00000000e+00 0.00000000e+00 ... 7.02221031e-04\n",
      " 2.63938419e-04 3.18770076e-05], sr=48000 as keyword args. From version 0.10 passing these as positional arguments will result in an error\n",
      "  S = librosa.feature.melspectrogram(\n",
      "/Users/michielbontenbal/opt/anaconda3/lib/python3.9/site-packages/openl3/core.py:116: FutureWarning: Pass y=[-0.0077696  -0.00774951 -0.0077883  ... -0.00776387 -0.00786546\n",
      " -0.00784833], sr=48000 as keyword args. From version 0.10 passing these as positional arguments will result in an error\n",
      "  S = librosa.feature.melspectrogram(\n",
      "/Users/michielbontenbal/opt/anaconda3/lib/python3.9/site-packages/openl3/core.py:116: FutureWarning: Pass y=[-0.0078125 -0.0078125 -0.0078125 ... -0.0078125 -0.0078125 -0.0078125], sr=48000 as keyword args. From version 0.10 passing these as positional arguments will result in an error\n",
      "  S = librosa.feature.melspectrogram(\n",
      "/Users/michielbontenbal/opt/anaconda3/lib/python3.9/site-packages/openl3/core.py:116: FutureWarning: Pass y=[7.39159800e-06 8.97199566e-06 2.66200362e-06 ... 0.00000000e+00\n",
      " 0.00000000e+00 0.00000000e+00], sr=48000 as keyword args. From version 0.10 passing these as positional arguments will result in an error\n",
      "  S = librosa.feature.melspectrogram(\n",
      "/Users/michielbontenbal/opt/anaconda3/lib/python3.9/site-packages/openl3/core.py:116: FutureWarning: Pass y=[-0.00780803 -0.00783498 -0.00784039 ... -0.0078125  -0.0078125\n",
      " -0.0078125 ], sr=48000 as keyword args. From version 0.10 passing these as positional arguments will result in an error\n",
      "  S = librosa.feature.melspectrogram(\n",
      "/Users/michielbontenbal/opt/anaconda3/lib/python3.9/site-packages/openl3/core.py:116: FutureWarning: Pass y=[0.         0.         0.         ... 0.00055134 0.00095869 0.00067893], sr=48000 as keyword args. From version 0.10 passing these as positional arguments will result in an error\n",
      "  S = librosa.feature.melspectrogram(\n",
      "/Users/michielbontenbal/opt/anaconda3/lib/python3.9/site-packages/openl3/core.py:116: FutureWarning: Pass y=[-0.00783207 -0.0078092  -0.00779108 ...  0.0086697   0.01045597\n",
      "  0.01274341], sr=48000 as keyword args. From version 0.10 passing these as positional arguments will result in an error\n",
      "  S = librosa.feature.melspectrogram(\n",
      "/Users/michielbontenbal/opt/anaconda3/lib/python3.9/site-packages/openl3/core.py:116: FutureWarning: Pass y=[-0.0078125  -0.0078125  -0.0078125  ... -0.02338787 -0.02012644\n",
      " -0.01767555], sr=48000 as keyword args. From version 0.10 passing these as positional arguments will result in an error\n",
      "  S = librosa.feature.melspectrogram(\n",
      "/Users/michielbontenbal/opt/anaconda3/lib/python3.9/site-packages/openl3/core.py:116: FutureWarning: Pass y=[-2.93106719e-05 -7.64694287e-05 -5.29981798e-05 ... -1.55203268e-02\n",
      " -1.37801751e-02 -1.08732948e-02], sr=48000 as keyword args. From version 0.10 passing these as positional arguments will result in an error\n",
      "  S = librosa.feature.melspectrogram(\n",
      "/Users/michielbontenbal/opt/anaconda3/lib/python3.9/site-packages/openl3/core.py:116: FutureWarning: Pass y=[-0.00090315 -0.00406875 -0.00649958 ...  0.00820337  0.0108715\n",
      "  0.01314955], sr=48000 as keyword args. From version 0.10 passing these as positional arguments will result in an error\n",
      "  S = librosa.feature.melspectrogram(\n",
      "/Users/michielbontenbal/opt/anaconda3/lib/python3.9/site-packages/openl3/core.py:116: FutureWarning: Pass y=[-0.00063927 -0.00242271 -0.00507841 ... -0.02237151 -0.01814176\n",
      " -0.01601599], sr=48000 as keyword args. From version 0.10 passing these as positional arguments will result in an error\n",
      "  S = librosa.feature.melspectrogram(\n",
      "/Users/michielbontenbal/opt/anaconda3/lib/python3.9/site-packages/openl3/core.py:116: FutureWarning: Pass y=[-0.00788139 -0.00808703 -0.00823274 ...  0.03873523  0.03876405\n",
      "  0.03957673], sr=48000 as keyword args. From version 0.10 passing these as positional arguments will result in an error\n",
      "  S = librosa.feature.melspectrogram(\n",
      "/Users/michielbontenbal/opt/anaconda3/lib/python3.9/site-packages/openl3/core.py:116: FutureWarning: Pass y=[-0.0078125  -0.0078125  -0.0078125  ... -0.03107361 -0.03528407\n",
      " -0.04093395], sr=48000 as keyword args. From version 0.10 passing these as positional arguments will result in an error\n",
      "  S = librosa.feature.melspectrogram(\n",
      "/Users/michielbontenbal/opt/anaconda3/lib/python3.9/site-packages/openl3/core.py:116: FutureWarning: Pass y=[ 0.          0.          0.         ... -0.03962794 -0.04012821\n",
      " -0.03986572], sr=48000 as keyword args. From version 0.10 passing these as positional arguments will result in an error\n",
      "  S = librosa.feature.melspectrogram(\n",
      "/Users/michielbontenbal/opt/anaconda3/lib/python3.9/site-packages/openl3/core.py:116: FutureWarning: Pass y=[-0.0078125  -0.0078125  -0.0078125  ... -0.00780231 -0.00782592\n",
      " -0.00783588], sr=48000 as keyword args. From version 0.10 passing these as positional arguments will result in an error\n",
      "  S = librosa.feature.melspectrogram(\n",
      "/Users/michielbontenbal/opt/anaconda3/lib/python3.9/site-packages/openl3/core.py:116: FutureWarning: Pass y=[-5.57386129e-04 -2.64482790e-03 -5.09831979e-03 ...  9.67938820e-05\n",
      "  5.09314802e-04  3.00260709e-03], sr=48000 as keyword args. From version 0.10 passing these as positional arguments will result in an error\n",
      "  S = librosa.feature.melspectrogram(\n",
      "/Users/michielbontenbal/opt/anaconda3/lib/python3.9/site-packages/openl3/core.py:116: FutureWarning: Pass y=[ 0.01477309  0.01600544  0.01644499 ... -0.03047567 -0.02745865\n",
      " -0.01402176], sr=48000 as keyword args. From version 0.10 passing these as positional arguments will result in an error\n",
      "  S = librosa.feature.melspectrogram(\n",
      "/Users/michielbontenbal/opt/anaconda3/lib/python3.9/site-packages/openl3/core.py:116: FutureWarning: Pass y=[-0.01568797 -0.01368884 -0.01116737 ... -0.00019198  0.00087368\n",
      "  0.00088459], sr=48000 as keyword args. From version 0.10 passing these as positional arguments will result in an error\n",
      "  S = librosa.feature.melspectrogram(\n",
      "/Users/michielbontenbal/opt/anaconda3/lib/python3.9/site-packages/openl3/core.py:116: FutureWarning: Pass y=[-0.00792586 -0.00620136 -0.00628218 ... -0.00813151 -0.00819679\n",
      " -0.00790545], sr=48000 as keyword args. From version 0.10 passing these as positional arguments will result in an error\n",
      "  S = librosa.feature.melspectrogram(\n",
      "/Users/michielbontenbal/opt/anaconda3/lib/python3.9/site-packages/openl3/core.py:116: FutureWarning: Pass y=[0.01526382 0.01761724 0.02048649 ... 0.00783683 0.00890454 0.00911458], sr=48000 as keyword args. From version 0.10 passing these as positional arguments will result in an error\n",
      "  S = librosa.feature.melspectrogram(\n",
      "/Users/michielbontenbal/opt/anaconda3/lib/python3.9/site-packages/openl3/core.py:116: FutureWarning: Pass y=[-0.01666203 -0.02015406 -0.02541647 ... -0.00765281 -0.00670719\n",
      " -0.00409479], sr=48000 as keyword args. From version 0.10 passing these as positional arguments will result in an error\n",
      "  S = librosa.feature.melspectrogram(\n",
      "/Users/michielbontenbal/opt/anaconda3/lib/python3.9/site-packages/openl3/core.py:116: FutureWarning: Pass y=[ 0.03942797  0.03732905  0.0338814  ... -0.04701596 -0.04825532\n",
      " -0.0508727 ], sr=48000 as keyword args. From version 0.10 passing these as positional arguments will result in an error\n",
      "  S = librosa.feature.melspectrogram(\n",
      "/Users/michielbontenbal/opt/anaconda3/lib/python3.9/site-packages/openl3/core.py:116: FutureWarning: Pass y=[-0.04704457 -0.05199694 -0.05450885 ... -0.01493927 -0.0161288\n",
      " -0.01628183], sr=48000 as keyword args. From version 0.10 passing these as positional arguments will result in an error\n",
      "  S = librosa.feature.melspectrogram(\n",
      "/Users/michielbontenbal/opt/anaconda3/lib/python3.9/site-packages/openl3/core.py:116: FutureWarning: Pass y=[-0.0385047  -0.03622408 -0.03371031 ...  0.00783275  0.00890857\n",
      "  0.00864676], sr=48000 as keyword args. From version 0.10 passing these as positional arguments will result in an error\n",
      "  S = librosa.feature.melspectrogram(\n",
      "/Users/michielbontenbal/opt/anaconda3/lib/python3.9/site-packages/openl3/core.py:116: FutureWarning: Pass y=[-7.82462870e-03 -7.80374803e-03 -7.79225790e-03 ...  4.10601770e-05\n",
      "  1.10105794e-04  8.70083687e-05], sr=48000 as keyword args. From version 0.10 passing these as positional arguments will result in an error\n",
      "  S = librosa.feature.melspectrogram(\n",
      "/Users/michielbontenbal/opt/anaconda3/lib/python3.9/site-packages/openl3/core.py:116: FutureWarning: Pass y=[ 0.00771615  0.01446265  0.02263192 ... -0.00790798 -0.00790994\n",
      " -0.00781925], sr=48000 as keyword args. From version 0.10 passing these as positional arguments will result in an error\n",
      "  S = librosa.feature.melspectrogram(\n",
      "/Users/michielbontenbal/opt/anaconda3/lib/python3.9/site-packages/openl3/core.py:116: FutureWarning: Pass y=[ 0.00698668  0.02923249  0.04492419 ... -0.00018977 -0.0040093\n",
      " -0.006952  ], sr=48000 as keyword args. From version 0.10 passing these as positional arguments will result in an error\n",
      "  S = librosa.feature.melspectrogram(\n",
      "/Users/michielbontenbal/opt/anaconda3/lib/python3.9/site-packages/openl3/core.py:116: FutureWarning: Pass y=[ 0.00021877 -0.00051565 -0.00074519 ... -0.00780231 -0.00778467\n",
      " -0.00779202], sr=48000 as keyword args. From version 0.10 passing these as positional arguments will result in an error\n",
      "  S = librosa.feature.melspectrogram(\n",
      "/Users/michielbontenbal/opt/anaconda3/lib/python3.9/site-packages/openl3/core.py:116: FutureWarning: Pass y=[-0.00750288 -0.00735867 -0.0076339  ... -0.0079275  -0.00800239\n",
      " -0.00792359], sr=48000 as keyword args. From version 0.10 passing these as positional arguments will result in an error\n",
      "  S = librosa.feature.melspectrogram(\n",
      "/Users/michielbontenbal/opt/anaconda3/lib/python3.9/site-packages/openl3/core.py:116: FutureWarning: Pass y=[ 0.00781504  0.0052033   0.00222216 ... -0.00758298 -0.0052825\n",
      " -0.00251818], sr=48000 as keyword args. From version 0.10 passing these as positional arguments will result in an error\n",
      "  S = librosa.feature.melspectrogram(\n",
      "/Users/michielbontenbal/opt/anaconda3/lib/python3.9/site-packages/openl3/core.py:116: FutureWarning: Pass y=[-2.14028458e-04  3.82367802e-03  6.80381478e-03 ... -1.18680079e-04\n",
      " -1.37293656e-04 -2.36777780e-05], sr=48000 as keyword args. From version 0.10 passing these as positional arguments will result in an error\n",
      "  S = librosa.feature.melspectrogram(\n",
      "/Users/michielbontenbal/opt/anaconda3/lib/python3.9/site-packages/openl3/core.py:116: FutureWarning: Pass y=[-0.05460647 -0.0584853  -0.06133869 ...  0.          0.\n",
      "  0.        ], sr=48000 as keyword args. From version 0.10 passing these as positional arguments will result in an error\n",
      "  S = librosa.feature.melspectrogram(\n"
     ]
    },
    {
     "name": "stdout",
     "output_type": "stream",
     "text": [
      "2/2 [==============================] - 3s 629ms/step\n",
      "CPU times: user 30.6 s, sys: 3.58 s, total: 34.2 s\n",
      "Wall time: 7.35 s\n"
     ]
    }
   ],
   "source": [
    "%%time\n",
    "import openl3\n",
    "import soundfile as sf\n",
    "\n",
    "audio, sr = sf.read('test3.wav')\n",
    "\n",
    "# get embedding using librosa frontend\n",
    "emb_list, ts_list = openl3.get_audio_embedding(audio, sr, frontend='librosa', input_repr='mel128')\n",
    "\n",
    "# pre-loading a model\n",
    "\n",
    "# load model with no frontend for use with an external librosa frontend\n",
    "input_repr, content_type, embedding_size = 'mel128', 'music', 6144\n",
    "model = openl3.models.load_audio_embedding_model(\n",
    "    input_repr, content_type, embedding_size, frontend='librosa')\n",
    "\n",
    "# get embedding using pre-loaded model and librosa frontend\n",
    "emb_list, ts_list = openl3.get_audio_embedding(audio, sr, model=model, frontend='librosa',input_repr='mel128')\n",
    "\n",
    "# computing embeddings manually for a single file\n",
    "# Note how we pass the input representation (`input_repr`) to `preprocess_audio` so that\n",
    "# librosa knows how to compute the inputs.\n",
    "\n",
    "input_data = openl3.preprocess_audio(audio, sr) #, input_repr=input_repr\n",
    "#emb, ts = model.predict(input_data)"
   ]
  },
  {
   "cell_type": "code",
   "execution_count": 30,
   "metadata": {},
   "outputs": [
    {
     "data": {
      "text/plain": [
       "(44, 6144)"
      ]
     },
     "execution_count": 30,
     "metadata": {},
     "output_type": "execute_result"
    }
   ],
   "source": [
    "emb_list.shape"
   ]
  },
  {
   "cell_type": "code",
   "execution_count": 33,
   "metadata": {},
   "outputs": [
    {
     "name": "stdout",
     "output_type": "stream",
     "text": [
      "['_SCALAR_UPRANKING_ON', '_TF_MODULE_IGNORED_PROPERTIES', '__call__', '__class__', '__copy__', '__deepcopy__', '__delattr__', '__dict__', '__dir__', '__doc__', '__eq__', '__format__', '__ge__', '__getattribute__', '__getstate__', '__gt__', '__hash__', '__init__', '__init_subclass__', '__le__', '__lt__', '__module__', '__ne__', '__new__', '__reduce__', '__reduce_ex__', '__repr__', '__setattr__', '__setstate__', '__sizeof__', '__str__', '__subclasshook__', '__weakref__', '_activity_regularizer', '_add_trackable', '_add_trackable_child', '_add_variable_with_custom_getter', '_assert_compile_was_called', '_assert_weights_created', '_auto_track_sub_layers', '_autocast', '_autographed_call', '_base_model_initialized', '_build_input_shape', '_call_accepts_kwargs', '_call_arg_was_passed', '_call_fn_arg_defaults', '_call_fn_arg_positions', '_call_fn_args', '_call_full_argspec', '_callable_losses', '_captured_weight_regularizer', '_cast_single_input', '_check_call_args', '_check_sample_weight_warning', '_checkpoint', '_checkpoint_dependencies', '_clear_losses', '_cluster_coordinator', '_compile_was_called', '_compiled_trainable_state', '_compute_dtype', '_compute_dtype_object', '_compute_output_and_mask_jointly', '_compute_tensor_usage_count', '_configure_steps_per_execution', '_conform_to_reference_input', '_dedup_weights', '_default_training_arg', '_deferred_dependencies', '_delete_tracking', '_deserialization_dependencies', '_deserialize_from_proto', '_distribution_strategy', '_dtype', '_dtype_policy', '_dynamic', '_eager_losses', '_enable_dict_to_input_mapping', '_expects_mask_arg', '_expects_training_arg', '_export_to_saved_model_graph', '_feed_input_names', '_feed_input_shapes', '_feed_inputs', '_flatten', '_flatten_layers', '_flatten_modules', '_flatten_to_reference_inputs', '_functional_construction_call', '_gather_children_attribute', '_gather_saveables_for_checkpoint', '_get_call_arg_value', '_get_callback_model', '_get_cell_name', '_get_compile_args', '_get_existing_metric', '_get_input_masks', '_get_legacy_saved_model_children', '_get_node_attribute_at_index', '_get_optimizer', '_get_save_spec', '_get_trainable_state', '_get_unnested_name_scope', '_graph_network_add_loss', '_graph_network_add_metric', '_handle_activity_regularization', '_handle_deferred_dependencies', '_handle_deferred_layer_dependencies', '_handle_weight_regularization', '_in_multi_worker_mode', '_inbound_nodes', '_inbound_nodes_value', '_infer_output_signature', '_init_batch_counters', '_init_call_fn_args', '_init_graph_network', '_init_set_name', '_initial_weights', '_input_coordinates', '_input_layers', '_input_spec', '_insert_layers', '_instrument_layer_creation', '_instrumented_keras_api', '_instrumented_keras_layer_class', '_instrumented_keras_model_class', '_is_compiled', '_is_graph_network', '_is_layer', '_is_model_for_instrumentation', '_jit_compile', '_keras_api_names', '_keras_api_names_v1', '_keras_tensor_symbolic_call', '_layer_call_argspecs', '_layer_checkpoint_dependencies', '_layout_map', '_list_extra_dependencies_for_serialization', '_list_functions_for_serialization', '_lookup_dependency', '_losses', '_map_resources', '_maybe_build', '_maybe_cast_inputs', '_maybe_create_attribute', '_maybe_initialize_trackable', '_maybe_load_initial_epoch_from_ckpt', '_maybe_load_initial_step_from_ckpt', '_metrics', '_metrics_lock', '_must_restore_from_config', '_name', '_name_based_attribute_restore', '_name_based_restores', '_name_scope', '_name_scope_on_declaration', '_nested_inputs', '_nested_outputs', '_network_nodes', '_no_dependency', '_nodes_by_depth', '_non_trainable_weights', '_obj_reference_counts', '_obj_reference_counts_dict', '_object_identifier', '_outbound_nodes', '_outbound_nodes_value', '_output_coordinates', '_output_layers', '_output_mask_cache', '_output_shape_cache', '_output_tensor_cache', '_predict_counter', '_preload_simple_restoration', '_preserve_input_structure_in_config', '_reset_compile_cache', '_restore_from_checkpoint_position', '_restore_from_tensors', '_run_eagerly', '_run_internal_graph', '_saved_model_arg_spec', '_saved_model_inputs_spec', '_self_name_based_restores', '_self_saveable_object_factories', '_self_setattr_tracking', '_self_tracked_trackables', '_self_unconditional_checkpoint_dependencies', '_self_unconditional_deferred_dependencies', '_self_unconditional_dependency_names', '_self_update_uid', '_serialize_to_proto', '_serialize_to_tensors', '_set_call_arg_value', '_set_connectivity_metadata', '_set_dtype_policy', '_set_inputs', '_set_mask_keras_history_checked', '_set_mask_metadata', '_set_output_names', '_set_save_spec', '_set_trainable_state', '_set_training_mode', '_setattr_tracking', '_should_cast_single_input', '_should_compute_mask', '_should_eval', '_single_restoration_from_checkpoint_position', '_split_out_first_arg', '_stateful', '_steps_per_execution', '_supports_masking', '_tensor_usage_count', '_test_counter', '_tf_api_names', '_tf_api_names_v1', '_thread_local', '_track_trackable', '_trackable_children', '_trackable_saved_model_saver', '_tracking_metadata', '_train_counter', '_trainable', '_trainable_weights', '_training_state', '_unconditional_checkpoint_dependencies', '_unconditional_dependency_names', '_undeduplicated_weights', '_update_uid', '_updated_config', '_updates', '_use_input_spec_as_call_signature', '_validate_compile', '_validate_graph_inputs_and_outputs', '_validate_target_and_loss', 'activity_regularizer', 'add_loss', 'add_metric', 'add_update', 'add_variable', 'add_weight', 'build', 'built', 'call', 'compile', 'compiled_loss', 'compiled_metrics', 'compute_dtype', 'compute_loss', 'compute_mask', 'compute_metrics', 'compute_output_shape', 'compute_output_signature', 'count_params', 'distribute_strategy', 'dtype', 'dtype_policy', 'dynamic', 'evaluate', 'evaluate_generator', 'finalize_state', 'fit', 'fit_generator', 'from_config', 'frontend', 'get_config', 'get_input_at', 'get_input_mask_at', 'get_input_shape_at', 'get_layer', 'get_output_at', 'get_output_mask_at', 'get_output_shape_at', 'get_weights', 'history', 'inbound_nodes', 'input', 'input_mask', 'input_names', 'input_shape', 'input_spec', 'inputs', 'layers', 'load_weights', 'losses', 'make_predict_function', 'make_test_function', 'make_train_function', 'metrics', 'metrics_names', 'name', 'name_scope', 'non_trainable_variables', 'non_trainable_weights', 'optimizer', 'outbound_nodes', 'output', 'output_mask', 'output_names', 'output_shape', 'outputs', 'predict', 'predict_function', 'predict_generator', 'predict_on_batch', 'predict_step', 'reset_metrics', 'reset_states', 'run_eagerly', 'save', 'save_spec', 'save_weights', 'set_weights', 'state_updates', 'stateful', 'stop_training', 'submodules', 'summary', 'supports_masking', 'test_function', 'test_on_batch', 'test_step', 'to_json', 'to_yaml', 'train_function', 'train_on_batch', 'train_step', 'train_tf_function', 'trainable', 'trainable_variables', 'trainable_weights', 'updates', 'variable_dtype', 'variables', 'weights', 'with_name_scope']\n"
     ]
    }
   ],
   "source": [
    "print(dir(model))"
   ]
  },
  {
   "cell_type": "code",
   "execution_count": null,
   "metadata": {},
   "outputs": [],
   "source": []
  }
 ],
 "metadata": {
  "kernelspec": {
   "display_name": "Python 3 (ipykernel)",
   "language": "python",
   "name": "python3"
  },
  "language_info": {
   "codemirror_mode": {
    "name": "ipython",
    "version": 3
   },
   "file_extension": ".py",
   "mimetype": "text/x-python",
   "name": "python",
   "nbconvert_exporter": "python",
   "pygments_lexer": "ipython3",
   "version": "3.9.12"
  }
 },
 "nbformat": 4,
 "nbformat_minor": 4
}
