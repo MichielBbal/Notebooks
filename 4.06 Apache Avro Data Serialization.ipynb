{
 "cells": [
  {
   "cell_type": "markdown",
   "id": "ad097636-dcde-437e-a447-27e8c313e1eb",
   "metadata": {},
   "source": [
    "# Apache Avro Data Serialization\n",
    "\n",
    "More on avro:\n",
    "- https://www.oreilly.com/content/the-problem-of-managing-schemas/\n",
    "- https://www.confluent.io/blog/avro-kafka-data/\n",
    "\n",
    "\n",
    "Avro provides:\n",
    "\n",
    "- Rich data structures.\n",
    "- A compact, fast, binary data format.\n",
    "- A container file, to store persistent data.\n",
    "- Remote procedure call (RPC).\n",
    "- Simple integration with dynamic languages. Code generation is not required to read or write data files nor to use or implement RPC protocols. Code generation as an optional optimization, only worth implementing for statically typed languages.\n",
    "\n",
    "Benefits of Avro:\n",
    "- It has a direct mapping to and from JSON\n",
    "- It has a very compact format. The bulk of JSON, repeating every field name with every single record, is what makes JSON inefficient for high-volume usage.\n",
    "- It is very fast.\n",
    "- It has great bindings for a wide variety of programming languages so you can generate Java objects that make working with event data easier, but it does not require code generation so tools can be written generically for any data stream.\n",
    "- It has a rich, extensible schema language defined in pure JSON\n",
    "- It has the best notion of compatibility for evolving your data over time."
   ]
  },
  {
   "cell_type": "code",
   "execution_count": 1,
   "id": "8ea074cd-c4c8-45ba-85ad-23f281415155",
   "metadata": {},
   "outputs": [
    {
     "name": "stdout",
     "output_type": "stream",
     "text": [
      "Collecting avro\n",
      "  Downloading avro-1.11.0.tar.gz (83 kB)\n",
      "  Installing build dependencies: started\n",
      "  Installing build dependencies: finished with status 'done'\n",
      "  Getting requirements to build wheel: started\n",
      "  Getting requirements to build wheel: finished with status 'done'\n",
      "  Preparing metadata (pyproject.toml): started\n",
      "  Preparing metadata (pyproject.toml): finished with status 'done'\n",
      "Building wheels for collected packages: avro\n",
      "  Building wheel for avro (pyproject.toml): started\n",
      "  Building wheel for avro (pyproject.toml): finished with status 'done'\n",
      "  Created wheel for avro: filename=avro-1.11.0-py2.py3-none-any.whl size=115925 sha256=df9d7d863e6fc24b8b594a4a06f2273ecdd567fec32b8810b2e3af52f41b2b75\n",
      "  Stored in directory: c:\\users\\31653\\appdata\\local\\pip\\cache\\wheels\\9a\\a5\\9b\\d100e4bd3ef9697b2f955616260c77cb136f8cd2fc89533c63\n",
      "Successfully built avro\n",
      "Installing collected packages: avro\n",
      "Successfully installed avro-1.11.0\n"
     ]
    }
   ],
   "source": [
    "!pip install avro"
   ]
  },
  {
   "cell_type": "code",
   "execution_count": 2,
   "id": "c41cb570-1a6f-4c00-be6b-1936d8e8636d",
   "metadata": {},
   "outputs": [
    {
     "name": "stdout",
     "output_type": "stream",
     "text": [
      "1.11.0\n"
     ]
    }
   ],
   "source": [
    "import avro\n",
    "print(avro.__version__)"
   ]
  },
  {
   "cell_type": "code",
   "execution_count": null,
   "id": "c9f69dac-802e-4a1e-a2bd-21b1812c647a",
   "metadata": {},
   "outputs": [],
   "source": []
  },
  {
   "cell_type": "markdown",
   "id": "829165ac",
   "metadata": {},
   "source": [
    "##  Wikipedia example\n",
    "\n",
    "The English wikipedia has a nice example for avro: \n",
    "https://en.wikipedia.org/wiki/Apache_Avro\n",
    "\n",
    "I'have created a file called user.avsc."
   ]
  },
  {
   "cell_type": "code",
   "execution_count": 1,
   "id": "24240e48",
   "metadata": {},
   "outputs": [
    {
     "data": {
      "text/plain": [
       "['user.avsc']"
      ]
     },
     "execution_count": 1,
     "metadata": {},
     "output_type": "execute_result"
    }
   ],
   "source": [
    "import glob\n",
    "my_avscs=glob.glob('*.avsc')\n",
    "my_avscs"
   ]
  },
  {
   "cell_type": "code",
   "execution_count": 2,
   "id": "db54941b-e4b8-4273-afbf-9e428dd47526",
   "metadata": {},
   "outputs": [],
   "source": [
    "#inspect the avsc file\n",
    "%pycat C:\\\\Users\\\\31653\\\\Documents\\\\GitHub\\\\Notebooks\\user.avsc"
   ]
  },
  {
   "cell_type": "code",
   "execution_count": 3,
   "id": "09403de7-87be-464d-b61b-ece86a06f67e",
   "metadata": {},
   "outputs": [],
   "source": [
    "import avro.schema\n",
    "from avro.datafile import DataFileReader, DataFileWriter\n",
    "from avro.io import DatumReader, DatumWriter\n",
    "\n",
    "schema = avro.schema.parse(open(\"user.avsc\", \"rb\").read())  # need to know the schema to write. According to 1.8.2 of Apache Avro\n",
    "\n",
    "writer = DataFileWriter(open(\"users.avro\", \"wb\"), DatumWriter(), schema)\n",
    "writer.append({\"name\": \"Alyssa\", \"favorite_number\": 256})\n",
    "writer.append({\"name\": \"Ben\", \"favorite_number\": 8, \"favorite_color\": \"red\"})\n",
    "writer.close()"
   ]
  },
  {
   "cell_type": "code",
   "execution_count": 4,
   "id": "7074f940",
   "metadata": {},
   "outputs": [
    {
     "data": {
      "text/plain": [
       "['users.avro']"
      ]
     },
     "execution_count": 4,
     "metadata": {},
     "output_type": "execute_result"
    }
   ],
   "source": [
    "import glob\n",
    "my_avros=glob.glob('*.avro')\n",
    "my_avros\n",
    "# One cannot inspect this file as it is a binary format file."
   ]
  },
  {
   "cell_type": "code",
   "execution_count": 5,
   "id": "0da30d43",
   "metadata": {},
   "outputs": [
    {
     "name": "stdout",
     "output_type": "stream",
     "text": [
      "{'name': 'Alyssa', 'favorite_number': 256, 'favorite_color': None}\n",
      "{'name': 'Ben', 'favorite_number': 8, 'favorite_color': 'red'}\n"
     ]
    }
   ],
   "source": [
    "#deserialization\n",
    "reader = DataFileReader(open(\"users.avro\", \"rb\"), DatumReader())  # the schema is embedded in the data file\n",
    "for user in reader:\n",
    "    print(user)\n",
    "reader.close()"
   ]
  },
  {
   "cell_type": "code",
   "execution_count": null,
   "id": "b0c7c1a1",
   "metadata": {},
   "outputs": [],
   "source": []
  }
 ],
 "metadata": {
  "kernelspec": {
   "display_name": "Python 3 (ipykernel)",
   "language": "python",
   "name": "python3"
  },
  "language_info": {
   "codemirror_mode": {
    "name": "ipython",
    "version": 3
   },
   "file_extension": ".py",
   "mimetype": "text/x-python",
   "name": "python",
   "nbconvert_exporter": "python",
   "pygments_lexer": "ipython3",
   "version": "3.9.12"
  }
 },
 "nbformat": 4,
 "nbformat_minor": 5
}
