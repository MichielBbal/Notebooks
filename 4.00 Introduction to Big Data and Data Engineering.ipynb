{
 "cells": [
  {
   "cell_type": "markdown",
   "id": "efc0b75c",
   "metadata": {},
   "source": [
    "# Introduction to Big Data and Data Engineering"
   ]
  },
  {
   "cell_type": "markdown",
   "id": "bbe048b0",
   "metadata": {},
   "source": [
    "### Topics in chapter 4:\n",
    "\n",
    "This chapter contains the following files:\n",
    "\n",
    "#### Introduction\n",
    "00. Introduction to Big Data and Data Engineering.ipynb',\n",
    "\n",
    "#### Data integration protocols\n",
    "01. Sending and receiving messages with AMQP.ipynb',\n",
    "02. Asynchronous communication using websockets .ipynb',\n",
    "03. Publish & subscribe with MQTT.ipynb',\n",
    "\n",
    "#### Databases advanced\n",
    "05. Time Series database with InfluxDB.ipynb',\n",
    "\n",
    "#### Data serialisation advanced\n",
    "06. Apache Avro Data Serialization.ipynb',\n",
    "07. XML schema.ipynb', 07b. XML Element Tree.ipynb',\n",
    "08. Validating JSON files with JSON Schema.ipynb',\n",
    "\n",
    "#### REST API's and webservices\n",
    "10. APIspec.ipynb',\n",
    "11. parsing openAPI specs.ipynb',\n",
    "12. Reverse Engineering the Petstore API (Medium article).ipynb',\n",
    "12b. Reverse Engineering Petstore OpenAPI spec.ipynb',\n",
    "13. Zeep - wsdl.ipynb',\n",
    "\n",
    "\n",
    "#### Misc\n",
    "14. Creating UML diagrams with PlantUML (to clean up).ipynb',"
   ]
  },
  {
   "cell_type": "markdown",
   "id": "b973ea7c",
   "metadata": {},
   "source": [
    "### Contents of this notebook\n",
    "\n",
    "0. Install packages\n",
    "1. Asyncio\n",
    "2. Threading\n",
    "    \n"
   ]
  },
  {
   "cell_type": "markdown",
   "id": "f433801e",
   "metadata": {},
   "source": [
    "## 0. Install packages"
   ]
  },
  {
   "cell_type": "code",
   "execution_count": null,
   "id": "7e3d49f1",
   "metadata": {},
   "outputs": [],
   "source": [
    "!pip install asyncio"
   ]
  },
  {
   "cell_type": "code",
   "execution_count": null,
   "id": "b682fd68",
   "metadata": {},
   "outputs": [],
   "source": [
    "!pip install aiohttp"
   ]
  },
  {
   "cell_type": "markdown",
   "id": "2f6bbe10",
   "metadata": {},
   "source": [
    "## 1. Asyncio"
   ]
  },
  {
   "cell_type": "code",
   "execution_count": 10,
   "id": "1f97aeb8",
   "metadata": {},
   "outputs": [
    {
     "name": "stdout",
     "output_type": "stream",
     "text": [
      "{'args': {}, 'data': '', 'files': {}, 'form': {}, 'headers': {'Accept': '*/*', 'Accept-Encoding': 'gzip, deflate, br', 'Host': 'httpbin.org', 'User-Agent': 'python-requests/2.28.1', 'X-Amzn-Trace-Id': 'Root=1-63d43a6b-4f62c7423194906f621feeae'}, 'origin': '45.137.91.210', 'url': 'http://httpbin.org/delay/3'}\n"
     ]
    }
   ],
   "source": [
    "# source: https://www.youtube.com/watch?v=t0JXiljpNRo\n",
    "#create a synchronous call with httpbin.org to test the connection\n",
    "import requests\n",
    "\n",
    "base_url= 'http://httpbin.org/'\n",
    "\n",
    "def get_delay(seconds):\n",
    "    endpoint = f'/delay/{seconds}'\n",
    "    resp = requests.get(base_url+endpoint)\n",
    "    data = resp.json()\n",
    "    print(data)\n",
    "    \n",
    "get_delay(3)"
   ]
  },
  {
   "cell_type": "code",
   "execution_count": 11,
   "id": "0755f694",
   "metadata": {},
   "outputs": [
    {
     "ename": "RuntimeError",
     "evalue": "asyncio.run() cannot be called from a running event loop",
     "output_type": "error",
     "traceback": [
      "\u001b[0;31m---------------------------------------------------------------------------\u001b[0m",
      "\u001b[0;31mRuntimeError\u001b[0m                              Traceback (most recent call last)",
      "Input \u001b[0;32mIn [11]\u001b[0m, in \u001b[0;36m<cell line: 23>\u001b[0;34m()\u001b[0m\n\u001b[1;32m     21\u001b[0m \u001b[38;5;28;01masync\u001b[39;00m \u001b[38;5;28;01mdef\u001b[39;00m \u001b[38;5;21mmain\u001b[39m():\n\u001b[1;32m     22\u001b[0m     \u001b[38;5;28;01mawait\u001b[39;00m asyncio\u001b[38;5;241m.\u001b[39mgather(get_delay(\u001b[38;5;241m5\u001b[39m), count())\n\u001b[0;32m---> 23\u001b[0m \u001b[43masyncio\u001b[49m\u001b[38;5;241;43m.\u001b[39;49m\u001b[43mrun\u001b[49m\u001b[43m(\u001b[49m\u001b[43mmain\u001b[49m\u001b[43m(\u001b[49m\u001b[43m)\u001b[49m\u001b[43m)\u001b[49m\n",
      "File \u001b[0;32m~/opt/anaconda3/lib/python3.9/asyncio/runners.py:33\u001b[0m, in \u001b[0;36mrun\u001b[0;34m(main, debug)\u001b[0m\n\u001b[1;32m      9\u001b[0m \u001b[38;5;124;03m\"\"\"Execute the coroutine and return the result.\u001b[39;00m\n\u001b[1;32m     10\u001b[0m \n\u001b[1;32m     11\u001b[0m \u001b[38;5;124;03mThis function runs the passed coroutine, taking care of\u001b[39;00m\n\u001b[0;32m   (...)\u001b[0m\n\u001b[1;32m     30\u001b[0m \u001b[38;5;124;03m    asyncio.run(main())\u001b[39;00m\n\u001b[1;32m     31\u001b[0m \u001b[38;5;124;03m\"\"\"\u001b[39;00m\n\u001b[1;32m     32\u001b[0m \u001b[38;5;28;01mif\u001b[39;00m events\u001b[38;5;241m.\u001b[39m_get_running_loop() \u001b[38;5;129;01mis\u001b[39;00m \u001b[38;5;129;01mnot\u001b[39;00m \u001b[38;5;28;01mNone\u001b[39;00m:\n\u001b[0;32m---> 33\u001b[0m     \u001b[38;5;28;01mraise\u001b[39;00m \u001b[38;5;167;01mRuntimeError\u001b[39;00m(\n\u001b[1;32m     34\u001b[0m         \u001b[38;5;124m\"\u001b[39m\u001b[38;5;124masyncio.run() cannot be called from a running event loop\u001b[39m\u001b[38;5;124m\"\u001b[39m)\n\u001b[1;32m     36\u001b[0m \u001b[38;5;28;01mif\u001b[39;00m \u001b[38;5;129;01mnot\u001b[39;00m coroutines\u001b[38;5;241m.\u001b[39miscoroutine(main):\n\u001b[1;32m     37\u001b[0m     \u001b[38;5;28;01mraise\u001b[39;00m \u001b[38;5;167;01mValueError\u001b[39;00m(\u001b[38;5;124m\"\u001b[39m\u001b[38;5;124ma coroutine was expected, got \u001b[39m\u001b[38;5;132;01m{!r}\u001b[39;00m\u001b[38;5;124m\"\u001b[39m\u001b[38;5;241m.\u001b[39mformat(main))\n",
      "\u001b[0;31mRuntimeError\u001b[0m: asyncio.run() cannot be called from a running event loop"
     ]
    }
   ],
   "source": [
    "#source: https://www.youtube.com/watch?v=t0JXiljpNRo\n",
    "# create a asynchronous call\n",
    "\n",
    "import asyncio\n",
    "from aiohttp import ClientSession\n",
    "\n",
    "base_url= 'http://httpbin.org/'\n",
    "\n",
    "async def count():\n",
    "    for i in [1,2,3,4,5]:\n",
    "        print(i)\n",
    "        await asyncio.sleep(1)\n",
    "\n",
    "async def get_delay(seconds):\n",
    "    endpoint = f'/delay/{seconds}'\n",
    "    \n",
    "    async with ClientSession() as session:\n",
    "        async with session.get(base_url+endpoint) as response:\n",
    "            response = await response.read()\n",
    "            print(response)\n",
    "async def main():\n",
    "    await asyncio.gather(get_delay(5), count())\n",
    "asyncio.run(main())  "
   ]
  },
  {
   "cell_type": "markdown",
   "id": "32b19b93",
   "metadata": {},
   "source": [
    "## 2. Threading and concurrent computing"
   ]
  },
  {
   "cell_type": "code",
   "execution_count": null,
   "id": "c1c91378",
   "metadata": {},
   "outputs": [],
   "source": []
  }
 ],
 "metadata": {
  "kernelspec": {
   "display_name": "Python 3 (ipykernel)",
   "language": "python",
   "name": "python3"
  },
  "language_info": {
   "codemirror_mode": {
    "name": "ipython",
    "version": 3
   },
   "file_extension": ".py",
   "mimetype": "text/x-python",
   "name": "python",
   "nbconvert_exporter": "python",
   "pygments_lexer": "ipython3",
   "version": "3.9.12"
  }
 },
 "nbformat": 4,
 "nbformat_minor": 5
}
