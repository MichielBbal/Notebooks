{
 "cells": [
  {
   "cell_type": "markdown",
   "id": "6b2dac3f",
   "metadata": {},
   "source": [
    "## My Snoring \n",
    "\n",
    "Use the data of the sound snoring sensor and visualise it here. \n",
    "\n",
    "- Use snoring sensor on RPi and store it on the InfluxDB\n",
    "- Use Grafana (hass.io) to get the data from the device.\n",
    "- Download CSV from Grafana and import it here.\n",
    "\n",
    "## Contents\n",
    "0. Get the data and load into Pandas df\n",
    "1. Data inspection, cleaning and visualisation\n",
    "2. Statistical analysis\n",
    "3. Store the results as json"
   ]
  },
  {
   "cell_type": "markdown",
   "id": "a8a18cb5",
   "metadata": {},
   "source": [
    "## 0. Get the data and load into Pandas df"
   ]
  },
  {
   "cell_type": "markdown",
   "id": "5a5b7327",
   "metadata": {},
   "source": [
    "### 0a. The old fashioned way: using a .csv"
   ]
  },
  {
   "cell_type": "code",
   "execution_count": 33,
   "id": "2c7863c3",
   "metadata": {},
   "outputs": [
    {
     "data": {
      "text/plain": [
       "'C:\\\\Users\\\\31653\\\\Documents\\\\GitHub\\\\Notebooks'"
      ]
     },
     "execution_count": 33,
     "metadata": {},
     "output_type": "execute_result"
    }
   ],
   "source": [
    "pwd"
   ]
  },
  {
   "cell_type": "code",
   "execution_count": 34,
   "id": "305e29d7",
   "metadata": {},
   "outputs": [
    {
     "data": {
      "text/plain": [
       "['2021-12-5_Features_.csv',\n",
       " 'foo.csv',\n",
       " 'OEtest_210505_youtube_traffic.csv',\n",
       " 'OEtest_210506_youtubetraffic.csv',\n",
       " 'Snoring-data-2021-12-03 09_15_24.csv',\n",
       " 'Snoring-data-2021-12-04 11_41_48.csv',\n",
       " 'Snoring-data-2021-12-04 11_51_51.csv',\n",
       " 'Snoring-data-2021-12-06 19_03_36.csv',\n",
       " 'Snoring-data-2021-12-10 13_27_41.csv',\n",
       " 'Snoring-data-2021-12-12 09_38_24.csv',\n",
       " 'snoring_2021_12_3-4b.csv',\n",
       " 'UMTMVS.csv']"
      ]
     },
     "execution_count": 34,
     "metadata": {},
     "output_type": "execute_result"
    }
   ],
   "source": [
    "import glob\n",
    "my_csvs = glob.glob('*.csv')\n",
    "my_csvs"
   ]
  },
  {
   "cell_type": "code",
   "execution_count": 36,
   "id": "8dc03c0d",
   "metadata": {},
   "outputs": [
    {
     "data": {
      "text/html": [
       "<div>\n",
       "<style scoped>\n",
       "    .dataframe tbody tr th:only-of-type {\n",
       "        vertical-align: middle;\n",
       "    }\n",
       "\n",
       "    .dataframe tbody tr th {\n",
       "        vertical-align: top;\n",
       "    }\n",
       "\n",
       "    .dataframe thead th {\n",
       "        text-align: right;\n",
       "    }\n",
       "</style>\n",
       "<table border=\"1\" class=\"dataframe\">\n",
       "  <thead>\n",
       "    <tr style=\"text-align: right;\">\n",
       "      <th></th>\n",
       "      <th>Time</th>\n",
       "      <th>my_snoring.mean</th>\n",
       "    </tr>\n",
       "  </thead>\n",
       "  <tbody>\n",
       "    <tr>\n",
       "      <th>43196</th>\n",
       "      <td>2021-12-12 09:37:36</td>\n",
       "      <td>0.0636</td>\n",
       "    </tr>\n",
       "    <tr>\n",
       "      <th>43197</th>\n",
       "      <td>2021-12-12 09:37:37</td>\n",
       "      <td>0.0627</td>\n",
       "    </tr>\n",
       "    <tr>\n",
       "      <th>43198</th>\n",
       "      <td>2021-12-12 09:37:38</td>\n",
       "      <td>0.0657</td>\n",
       "    </tr>\n",
       "    <tr>\n",
       "      <th>43199</th>\n",
       "      <td>2021-12-12 09:37:39</td>\n",
       "      <td>0.0671</td>\n",
       "    </tr>\n",
       "    <tr>\n",
       "      <th>43200</th>\n",
       "      <td>2021-12-12 09:37:40</td>\n",
       "      <td>0.0653</td>\n",
       "    </tr>\n",
       "  </tbody>\n",
       "</table>\n",
       "</div>"
      ],
      "text/plain": [
       "                      Time  my_snoring.mean\n",
       "43196  2021-12-12 09:37:36           0.0636\n",
       "43197  2021-12-12 09:37:37           0.0627\n",
       "43198  2021-12-12 09:37:38           0.0657\n",
       "43199  2021-12-12 09:37:39           0.0671\n",
       "43200  2021-12-12 09:37:40           0.0653"
      ]
     },
     "execution_count": 36,
     "metadata": {},
     "output_type": "execute_result"
    }
   ],
   "source": [
    "#import pandas as pd\n",
    "# snoring_df=pd.read_csv('Snoring-data-2021-12-12 09_38_24.csv')\n",
    "#snoring_df.tail()"
   ]
  },
  {
   "cell_type": "markdown",
   "id": "c4b91b0c",
   "metadata": {},
   "source": [
    "### 0b. The modern way: getting data directly from InfluxDB on Raspberry"
   ]
  },
  {
   "cell_type": "code",
   "execution_count": 4,
   "id": "c14f2693",
   "metadata": {},
   "outputs": [
    {
     "name": "stdout",
     "output_type": "stream",
     "text": [
      "1.8.10\n"
     ]
    }
   ],
   "source": [
    "# instantiate a client and assign the RPI and database to it and test the connection\n",
    "import pandas as pd\n",
    "from influxdb import DataFrameClient\n",
    "import notebooks_config\n",
    "mydf_client = DataFrameClient(host= notebooks_config.red_rpi_ip, port=8086, database='SNORING')# this is my raspberry ip on a local network\n",
    "pang = mydf_client.ping()\n",
    "print(pang)"
   ]
  },
  {
   "cell_type": "code",
   "execution_count": 29,
   "id": "bd2f30dc",
   "metadata": {},
   "outputs": [
    {
     "name": "stdout",
     "output_type": "stream",
     "text": [
      "start time is 2021-12-15 22:59:39 and end time is 2021-12-16 06:50:39\n"
     ]
    }
   ],
   "source": [
    "#getting start and end time based on oura ring\n",
    "from oura import OuraClient\n",
    "# get your credentials from oura, see: https://cloud.ouraring.com/docs/.\n",
    "# You will need a client_id, client_secret and a personal access token (PAT). \n",
    "\n",
    "import notebooks_config\n",
    "#I store all my credentials in a notebooks_config.py file. \n",
    "#This file is then included in the .gitignore list so I can share the notebooks on GitHub.  \n",
    "\n",
    "oura_pat = notebooks_config.oura_pat #\n",
    "oura_client_id = notebooks_config.oura_client_id\n",
    "oura_client_secret = notebooks_config.oura_client_secret\n",
    "client = OuraClient(personal_access_token=oura_pat)\n",
    "oura = OuraClient(oura_client_id, oura_client_secret, oura_pat)\n",
    "result = oura.sleep_summary(start='2021-12-15', end='2021-12-16')\n",
    "data = result['sleep'][0] #select the first item from the list\n",
    "start_time = data['bedtime_start']\n",
    "end_time = data['bedtime_end']\n",
    "# convert strings to datetime\n",
    "from dateutil import parser\n",
    "start_time_dt = parser.parse(start_time)\n",
    "end_time_dt = parser.parse(end_time)\n",
    "from datetime import datetime\n",
    "start_time_dt_ntz = start_time_dt.replace(tzinfo=None)\n",
    "end_time_dt_ntz = end_time_dt.replace(tzinfo=None)\n",
    "print ('start time is '+ str(start_time_dt_ntz) + ' and end time is ' + str(end_time_dt_ntz))"
   ]
  },
  {
   "cell_type": "code",
   "execution_count": 27,
   "id": "05f08ac6",
   "metadata": {},
   "outputs": [
    {
     "data": {
      "text/plain": [
       "\"SELECT * FROM my_snoring WHERE time >= '2021-12-15 22:59:39' AND time <='2021-12-16 06:50:39'\""
      ]
     },
     "execution_count": 27,
     "metadata": {},
     "output_type": "execute_result"
    }
   ],
   "source": [
    "#create query string for InfluxDB\n",
    "base_string = \"SELECT * FROM my_snoring WHERE time >= '\"\n",
    "middle_string = \"' AND time <='\"\n",
    "end_string = \"'\"\n",
    "query_string = base_string + str(start_time_dt_ntz) + middle_string + str(end_time_dt_ntz)+end_string\n",
    "query_string"
   ]
  },
  {
   "cell_type": "code",
   "execution_count": 28,
   "id": "614c7f24",
   "metadata": {},
   "outputs": [
    {
     "data": {
      "text/html": [
       "<div>\n",
       "<style scoped>\n",
       "    .dataframe tbody tr th:only-of-type {\n",
       "        vertical-align: middle;\n",
       "    }\n",
       "\n",
       "    .dataframe tbody tr th {\n",
       "        vertical-align: top;\n",
       "    }\n",
       "\n",
       "    .dataframe thead th {\n",
       "        text-align: right;\n",
       "    }\n",
       "</style>\n",
       "<table border=\"1\" class=\"dataframe\">\n",
       "  <thead>\n",
       "    <tr style=\"text-align: right;\">\n",
       "      <th></th>\n",
       "      <th>sheets</th>\n",
       "      <th>silence</th>\n",
       "      <th>snoring</th>\n",
       "      <th>softtalking</th>\n",
       "    </tr>\n",
       "  </thead>\n",
       "  <tbody>\n",
       "    <tr>\n",
       "      <th>2021-12-15 22:59:39.058585+00:00</th>\n",
       "      <td>0.003854</td>\n",
       "      <td>0.846629</td>\n",
       "      <td>0.149485</td>\n",
       "      <td>0.000032</td>\n",
       "    </tr>\n",
       "    <tr>\n",
       "      <th>2021-12-15 22:59:39.603037+00:00</th>\n",
       "      <td>0.002465</td>\n",
       "      <td>0.926920</td>\n",
       "      <td>0.070599</td>\n",
       "      <td>0.000017</td>\n",
       "    </tr>\n",
       "    <tr>\n",
       "      <th>2021-12-15 22:59:40.146748+00:00</th>\n",
       "      <td>0.001982</td>\n",
       "      <td>0.932507</td>\n",
       "      <td>0.065498</td>\n",
       "      <td>0.000013</td>\n",
       "    </tr>\n",
       "    <tr>\n",
       "      <th>2021-12-15 22:59:40.686482+00:00</th>\n",
       "      <td>0.002001</td>\n",
       "      <td>0.931815</td>\n",
       "      <td>0.066171</td>\n",
       "      <td>0.000013</td>\n",
       "    </tr>\n",
       "    <tr>\n",
       "      <th>2021-12-15 22:59:41.225180+00:00</th>\n",
       "      <td>0.001969</td>\n",
       "      <td>0.931664</td>\n",
       "      <td>0.066354</td>\n",
       "      <td>0.000013</td>\n",
       "    </tr>\n",
       "    <tr>\n",
       "      <th>...</th>\n",
       "      <td>...</td>\n",
       "      <td>...</td>\n",
       "      <td>...</td>\n",
       "      <td>...</td>\n",
       "    </tr>\n",
       "    <tr>\n",
       "      <th>2021-12-16 06:50:36.744098+00:00</th>\n",
       "      <td>0.001949</td>\n",
       "      <td>0.932819</td>\n",
       "      <td>0.065220</td>\n",
       "      <td>0.000013</td>\n",
       "    </tr>\n",
       "    <tr>\n",
       "      <th>2021-12-16 06:50:37.288573+00:00</th>\n",
       "      <td>0.001953</td>\n",
       "      <td>0.932499</td>\n",
       "      <td>0.065535</td>\n",
       "      <td>0.000012</td>\n",
       "    </tr>\n",
       "    <tr>\n",
       "      <th>2021-12-16 06:50:37.834138+00:00</th>\n",
       "      <td>0.001904</td>\n",
       "      <td>0.933731</td>\n",
       "      <td>0.064353</td>\n",
       "      <td>0.000012</td>\n",
       "    </tr>\n",
       "    <tr>\n",
       "      <th>2021-12-16 06:50:38.377072+00:00</th>\n",
       "      <td>0.002001</td>\n",
       "      <td>0.931862</td>\n",
       "      <td>0.066124</td>\n",
       "      <td>0.000013</td>\n",
       "    </tr>\n",
       "    <tr>\n",
       "      <th>2021-12-16 06:50:38.918020+00:00</th>\n",
       "      <td>0.002003</td>\n",
       "      <td>0.931798</td>\n",
       "      <td>0.066187</td>\n",
       "      <td>0.000013</td>\n",
       "    </tr>\n",
       "  </tbody>\n",
       "</table>\n",
       "<p>52130 rows × 4 columns</p>\n",
       "</div>"
      ],
      "text/plain": [
       "                                    sheets   silence   snoring  softtalking\n",
       "2021-12-15 22:59:39.058585+00:00  0.003854  0.846629  0.149485     0.000032\n",
       "2021-12-15 22:59:39.603037+00:00  0.002465  0.926920  0.070599     0.000017\n",
       "2021-12-15 22:59:40.146748+00:00  0.001982  0.932507  0.065498     0.000013\n",
       "2021-12-15 22:59:40.686482+00:00  0.002001  0.931815  0.066171     0.000013\n",
       "2021-12-15 22:59:41.225180+00:00  0.001969  0.931664  0.066354     0.000013\n",
       "...                                    ...       ...       ...          ...\n",
       "2021-12-16 06:50:36.744098+00:00  0.001949  0.932819  0.065220     0.000013\n",
       "2021-12-16 06:50:37.288573+00:00  0.001953  0.932499  0.065535     0.000012\n",
       "2021-12-16 06:50:37.834138+00:00  0.001904  0.933731  0.064353     0.000012\n",
       "2021-12-16 06:50:38.377072+00:00  0.002001  0.931862  0.066124     0.000013\n",
       "2021-12-16 06:50:38.918020+00:00  0.002003  0.931798  0.066187     0.000013\n",
       "\n",
       "[52130 rows x 4 columns]"
      ]
     },
     "execution_count": 28,
     "metadata": {},
     "output_type": "execute_result"
    }
   ],
   "source": [
    "#create a df and get the data from InfluxDB based on query above.\n",
    "helper_df = mydf_client.query(query_string)\n",
    "snoring_df =helper_df['my_snoring']\n",
    "snoring_df"
   ]
  },
  {
   "cell_type": "markdown",
   "id": "2f1497aa",
   "metadata": {},
   "source": [
    "## 1. Data inspection, cleaning and visualisation\n"
   ]
  },
  {
   "cell_type": "code",
   "execution_count": 9,
   "id": "6e5d203c",
   "metadata": {},
   "outputs": [
    {
     "data": {
      "text/plain": [
       "Index(['sheets', 'silence', 'snoring', 'softtalking'], dtype='object')"
      ]
     },
     "execution_count": 9,
     "metadata": {},
     "output_type": "execute_result"
    }
   ],
   "source": [
    "#show colums\n",
    "snoring_df.columns"
   ]
  },
  {
   "cell_type": "code",
   "execution_count": 10,
   "id": "a02aae05",
   "metadata": {
    "scrolled": true
   },
   "outputs": [
    {
     "data": {
      "text/html": [
       "<div>\n",
       "<style scoped>\n",
       "    .dataframe tbody tr th:only-of-type {\n",
       "        vertical-align: middle;\n",
       "    }\n",
       "\n",
       "    .dataframe tbody tr th {\n",
       "        vertical-align: top;\n",
       "    }\n",
       "\n",
       "    .dataframe thead th {\n",
       "        text-align: right;\n",
       "    }\n",
       "</style>\n",
       "<table border=\"1\" class=\"dataframe\">\n",
       "  <thead>\n",
       "    <tr style=\"text-align: right;\">\n",
       "      <th></th>\n",
       "      <th>sheets</th>\n",
       "      <th>silence</th>\n",
       "      <th>snoring</th>\n",
       "      <th>softtalking</th>\n",
       "    </tr>\n",
       "  </thead>\n",
       "  <tbody>\n",
       "    <tr>\n",
       "      <th>count</th>\n",
       "      <td>5.069200e+04</td>\n",
       "      <td>50692.000000</td>\n",
       "      <td>50692.000000</td>\n",
       "      <td>5.069200e+04</td>\n",
       "    </tr>\n",
       "    <tr>\n",
       "      <th>mean</th>\n",
       "      <td>2.138438e-03</td>\n",
       "      <td>0.902277</td>\n",
       "      <td>0.095563</td>\n",
       "      <td>2.167598e-05</td>\n",
       "    </tr>\n",
       "    <tr>\n",
       "      <th>std</th>\n",
       "      <td>2.848076e-03</td>\n",
       "      <td>0.112315</td>\n",
       "      <td>0.112107</td>\n",
       "      <td>8.655829e-05</td>\n",
       "    </tr>\n",
       "    <tr>\n",
       "      <th>min</th>\n",
       "      <td>3.181834e-14</td>\n",
       "      <td>0.001169</td>\n",
       "      <td>0.031998</td>\n",
       "      <td>3.618848e-07</td>\n",
       "    </tr>\n",
       "    <tr>\n",
       "      <th>25%</th>\n",
       "      <td>1.887369e-03</td>\n",
       "      <td>0.931532</td>\n",
       "      <td>0.065544</td>\n",
       "      <td>1.242124e-05</td>\n",
       "    </tr>\n",
       "    <tr>\n",
       "      <th>50%</th>\n",
       "      <td>1.965800e-03</td>\n",
       "      <td>0.931865</td>\n",
       "      <td>0.066120</td>\n",
       "      <td>1.286520e-05</td>\n",
       "    </tr>\n",
       "    <tr>\n",
       "      <th>75%</th>\n",
       "      <td>2.001647e-03</td>\n",
       "      <td>0.932516</td>\n",
       "      <td>0.066532</td>\n",
       "      <td>1.300977e-05</td>\n",
       "    </tr>\n",
       "    <tr>\n",
       "      <th>max</th>\n",
       "      <td>2.886261e-01</td>\n",
       "      <td>0.967890</td>\n",
       "      <td>0.998828</td>\n",
       "      <td>6.650117e-03</td>\n",
       "    </tr>\n",
       "  </tbody>\n",
       "</table>\n",
       "</div>"
      ],
      "text/plain": [
       "             sheets       silence       snoring   softtalking\n",
       "count  5.069200e+04  50692.000000  50692.000000  5.069200e+04\n",
       "mean   2.138438e-03      0.902277      0.095563  2.167598e-05\n",
       "std    2.848076e-03      0.112315      0.112107  8.655829e-05\n",
       "min    3.181834e-14      0.001169      0.031998  3.618848e-07\n",
       "25%    1.887369e-03      0.931532      0.065544  1.242124e-05\n",
       "50%    1.965800e-03      0.931865      0.066120  1.286520e-05\n",
       "75%    2.001647e-03      0.932516      0.066532  1.300977e-05\n",
       "max    2.886261e-01      0.967890      0.998828  6.650117e-03"
      ]
     },
     "execution_count": 10,
     "metadata": {},
     "output_type": "execute_result"
    }
   ],
   "source": [
    "#describe data\n",
    "snoring_df.describe()"
   ]
  },
  {
   "cell_type": "markdown",
   "id": "aecd4c27",
   "metadata": {},
   "source": [
    "## 2. Statistical analysis"
   ]
  },
  {
   "cell_type": "code",
   "execution_count": 11,
   "id": "595c618a",
   "metadata": {},
   "outputs": [],
   "source": [
    "# add a column 'bins' to the df and create bins with labels\n",
    "\n",
    "snoring_df['bins'] = pd.cut(snoring_df['snoring'], bins=[0.0, 0.10, 0.50, 1.00],\n",
    "                    labels=['no snoring', 'light snoring', 'loud snoring']) \n"
   ]
  },
  {
   "cell_type": "code",
   "execution_count": 12,
   "id": "e204bf9d",
   "metadata": {
    "scrolled": true
   },
   "outputs": [
    {
     "data": {
      "text/html": [
       "<div>\n",
       "<style scoped>\n",
       "    .dataframe tbody tr th:only-of-type {\n",
       "        vertical-align: middle;\n",
       "    }\n",
       "\n",
       "    .dataframe tbody tr th {\n",
       "        vertical-align: top;\n",
       "    }\n",
       "\n",
       "    .dataframe thead th {\n",
       "        text-align: right;\n",
       "    }\n",
       "</style>\n",
       "<table border=\"1\" class=\"dataframe\">\n",
       "  <thead>\n",
       "    <tr style=\"text-align: right;\">\n",
       "      <th></th>\n",
       "      <th>sheets</th>\n",
       "      <th>silence</th>\n",
       "      <th>snoring</th>\n",
       "      <th>softtalking</th>\n",
       "      <th>bins</th>\n",
       "    </tr>\n",
       "  </thead>\n",
       "  <tbody>\n",
       "    <tr>\n",
       "      <th>2021-12-16 06:37:37.089527+00:00</th>\n",
       "      <td>0.001999</td>\n",
       "      <td>0.931870</td>\n",
       "      <td>0.066118</td>\n",
       "      <td>0.000013</td>\n",
       "      <td>no snoring</td>\n",
       "    </tr>\n",
       "    <tr>\n",
       "      <th>2021-12-16 06:37:37.634071+00:00</th>\n",
       "      <td>0.001999</td>\n",
       "      <td>0.931788</td>\n",
       "      <td>0.066200</td>\n",
       "      <td>0.000013</td>\n",
       "      <td>no snoring</td>\n",
       "    </tr>\n",
       "    <tr>\n",
       "      <th>2021-12-16 06:37:38.174966+00:00</th>\n",
       "      <td>0.002003</td>\n",
       "      <td>0.931790</td>\n",
       "      <td>0.066195</td>\n",
       "      <td>0.000013</td>\n",
       "      <td>no snoring</td>\n",
       "    </tr>\n",
       "    <tr>\n",
       "      <th>2021-12-16 06:37:38.714911+00:00</th>\n",
       "      <td>0.001997</td>\n",
       "      <td>0.931850</td>\n",
       "      <td>0.066140</td>\n",
       "      <td>0.000013</td>\n",
       "      <td>no snoring</td>\n",
       "    </tr>\n",
       "    <tr>\n",
       "      <th>2021-12-16 06:37:39.251675+00:00</th>\n",
       "      <td>0.002002</td>\n",
       "      <td>0.931798</td>\n",
       "      <td>0.066187</td>\n",
       "      <td>0.000013</td>\n",
       "      <td>no snoring</td>\n",
       "    </tr>\n",
       "  </tbody>\n",
       "</table>\n",
       "</div>"
      ],
      "text/plain": [
       "                                    sheets   silence   snoring  softtalking  \\\n",
       "2021-12-16 06:37:37.089527+00:00  0.001999  0.931870  0.066118     0.000013   \n",
       "2021-12-16 06:37:37.634071+00:00  0.001999  0.931788  0.066200     0.000013   \n",
       "2021-12-16 06:37:38.174966+00:00  0.002003  0.931790  0.066195     0.000013   \n",
       "2021-12-16 06:37:38.714911+00:00  0.001997  0.931850  0.066140     0.000013   \n",
       "2021-12-16 06:37:39.251675+00:00  0.002002  0.931798  0.066187     0.000013   \n",
       "\n",
       "                                        bins  \n",
       "2021-12-16 06:37:37.089527+00:00  no snoring  \n",
       "2021-12-16 06:37:37.634071+00:00  no snoring  \n",
       "2021-12-16 06:37:38.174966+00:00  no snoring  \n",
       "2021-12-16 06:37:38.714911+00:00  no snoring  \n",
       "2021-12-16 06:37:39.251675+00:00  no snoring  "
      ]
     },
     "execution_count": 12,
     "metadata": {},
     "output_type": "execute_result"
    }
   ],
   "source": [
    "snoring_df.tail()"
   ]
  },
  {
   "cell_type": "code",
   "execution_count": 13,
   "id": "0e8491c8",
   "metadata": {},
   "outputs": [
    {
     "data": {
      "text/plain": [
       "50692"
      ]
     },
     "execution_count": 13,
     "metadata": {},
     "output_type": "execute_result"
    }
   ],
   "source": [
    "total_length = snoring_df['bins'].count()\n",
    "total_length"
   ]
  },
  {
   "cell_type": "code",
   "execution_count": 14,
   "id": "150e7601",
   "metadata": {},
   "outputs": [
    {
     "data": {
      "text/html": [
       "<div>\n",
       "<style scoped>\n",
       "    .dataframe tbody tr th:only-of-type {\n",
       "        vertical-align: middle;\n",
       "    }\n",
       "\n",
       "    .dataframe tbody tr th {\n",
       "        vertical-align: top;\n",
       "    }\n",
       "\n",
       "    .dataframe thead th {\n",
       "        text-align: right;\n",
       "    }\n",
       "</style>\n",
       "<table border=\"1\" class=\"dataframe\">\n",
       "  <thead>\n",
       "    <tr style=\"text-align: right;\">\n",
       "      <th></th>\n",
       "      <th>class</th>\n",
       "    </tr>\n",
       "  </thead>\n",
       "  <tbody>\n",
       "    <tr>\n",
       "      <th>no snoring</th>\n",
       "      <td>44690</td>\n",
       "    </tr>\n",
       "    <tr>\n",
       "      <th>light snoring</th>\n",
       "      <td>4857</td>\n",
       "    </tr>\n",
       "    <tr>\n",
       "      <th>loud snoring</th>\n",
       "      <td>1145</td>\n",
       "    </tr>\n",
       "  </tbody>\n",
       "</table>\n",
       "</div>"
      ],
      "text/plain": [
       "               class\n",
       "no snoring     44690\n",
       "light snoring   4857\n",
       "loud snoring    1145"
      ]
     },
     "execution_count": 14,
     "metadata": {},
     "output_type": "execute_result"
    }
   ],
   "source": [
    "stats_df = pd.DataFrame()\n",
    "stats_df['class'] =snoring_df['bins'].value_counts()\n",
    "stats_df"
   ]
  },
  {
   "cell_type": "code",
   "execution_count": 34,
   "id": "a0470ded",
   "metadata": {},
   "outputs": [
    {
     "name": "stdout",
     "output_type": "stream",
     "text": [
      "You've snored 100.03 minutes\n",
      "Total snoring was 11.84% the measured time\n",
      "Loud snoring was 2.26% of the measured time\n"
     ]
    }
   ],
   "source": [
    "#define parameters\n",
    "no_snoring =stats_df['class'][0]\n",
    "light_snoring=stats_df['class'][1]\n",
    "loud_snoring=stats_df['class'][2]\n",
    "#print results\n",
    "time_snoring = round(((light_snoring+loud_snoring)/60),2)\n",
    "print(\"You've snored \" +str(time_snoring) + \" minutes\")\n",
    "percentage = ((loud_snoring+light_snoring) / total_length)*100\n",
    "print (\"Total snoring was \" + str(round(percentage,2)) + \"% the measured time\")\n",
    "loud_perc = round(loud_snoring/total_length*100,2)\n",
    "print (\"Loud snoring was \" + str(loud_perc) + \"% of the measured time\")"
   ]
  },
  {
   "cell_type": "markdown",
   "id": "538093ab",
   "metadata": {},
   "source": [
    "### 2b. Make a graph"
   ]
  },
  {
   "cell_type": "code",
   "execution_count": null,
   "id": "0c2cda70",
   "metadata": {},
   "outputs": [],
   "source": [
    "#visualise the data. To do: larger plot and mean.values\n",
    "#snoring_df.plot.scatter(x=\"Time\", y=\"my_snoring.mean\")\n"
   ]
  },
  {
   "cell_type": "markdown",
   "id": "cb7db5f2",
   "metadata": {},
   "source": [
    "## 3. Store the results"
   ]
  },
  {
   "cell_type": "code",
   "execution_count": null,
   "id": "4df57124",
   "metadata": {},
   "outputs": [],
   "source": []
  },
  {
   "cell_type": "code",
   "execution_count": null,
   "id": "ef6d8079",
   "metadata": {},
   "outputs": [],
   "source": []
  }
 ],
 "metadata": {
  "kernelspec": {
   "display_name": "Python 3 (ipykernel)",
   "language": "python",
   "name": "python3"
  },
  "language_info": {
   "codemirror_mode": {
    "name": "ipython",
    "version": 3
   },
   "file_extension": ".py",
   "mimetype": "text/x-python",
   "name": "python",
   "nbconvert_exporter": "python",
   "pygments_lexer": "ipython3",
   "version": "3.8.5"
  }
 },
 "nbformat": 4,
 "nbformat_minor": 5
}
