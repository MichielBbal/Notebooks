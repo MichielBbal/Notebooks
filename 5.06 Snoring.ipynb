{
 "cells": [
  {
   "cell_type": "markdown",
   "id": "6b2dac3f",
   "metadata": {},
   "source": [
    "## My Snoring \n",
    "\n",
    "Use the data of the sound snoring sensor and visualise it here. \n",
    "\n",
    "- Use snoring sensor on RPi and store it on the InfluxDB\n",
    "- Use Grafana (hass.io) to get the data from the device.\n",
    "- Download CSV from Grafana and import it here.\n",
    "\n",
    "## Contents\n",
    "0. Get the data and load into Pandas df\n",
    "1. Data inspection, cleaning and visualisation\n",
    "2. Statistical analysis\n",
    "3. Store the results as json"
   ]
  },
  {
   "cell_type": "markdown",
   "id": "a8a18cb5",
   "metadata": {},
   "source": [
    "## 0. Get the data and load into Pandas df"
   ]
  },
  {
   "cell_type": "code",
   "execution_count": 33,
   "id": "2c7863c3",
   "metadata": {},
   "outputs": [
    {
     "data": {
      "text/plain": [
       "'C:\\\\Users\\\\31653\\\\Documents\\\\GitHub\\\\Notebooks'"
      ]
     },
     "execution_count": 33,
     "metadata": {},
     "output_type": "execute_result"
    }
   ],
   "source": [
    "pwd"
   ]
  },
  {
   "cell_type": "code",
   "execution_count": 34,
   "id": "305e29d7",
   "metadata": {},
   "outputs": [
    {
     "data": {
      "text/plain": [
       "['2021-12-5_Features_.csv',\n",
       " 'foo.csv',\n",
       " 'OEtest_210505_youtube_traffic.csv',\n",
       " 'OEtest_210506_youtubetraffic.csv',\n",
       " 'Snoring-data-2021-12-03 09_15_24.csv',\n",
       " 'Snoring-data-2021-12-04 11_41_48.csv',\n",
       " 'Snoring-data-2021-12-04 11_51_51.csv',\n",
       " 'Snoring-data-2021-12-06 19_03_36.csv',\n",
       " 'Snoring-data-2021-12-10 13_27_41.csv',\n",
       " 'Snoring-data-2021-12-12 09_38_24.csv',\n",
       " 'snoring_2021_12_3-4b.csv',\n",
       " 'UMTMVS.csv']"
      ]
     },
     "execution_count": 34,
     "metadata": {},
     "output_type": "execute_result"
    }
   ],
   "source": [
    "import glob\n",
    "my_csvs = glob.glob('*.csv')\n",
    "my_csvs"
   ]
  },
  {
   "cell_type": "code",
   "execution_count": 36,
   "id": "8dc03c0d",
   "metadata": {},
   "outputs": [
    {
     "data": {
      "text/html": [
       "<div>\n",
       "<style scoped>\n",
       "    .dataframe tbody tr th:only-of-type {\n",
       "        vertical-align: middle;\n",
       "    }\n",
       "\n",
       "    .dataframe tbody tr th {\n",
       "        vertical-align: top;\n",
       "    }\n",
       "\n",
       "    .dataframe thead th {\n",
       "        text-align: right;\n",
       "    }\n",
       "</style>\n",
       "<table border=\"1\" class=\"dataframe\">\n",
       "  <thead>\n",
       "    <tr style=\"text-align: right;\">\n",
       "      <th></th>\n",
       "      <th>Time</th>\n",
       "      <th>my_snoring.mean</th>\n",
       "    </tr>\n",
       "  </thead>\n",
       "  <tbody>\n",
       "    <tr>\n",
       "      <th>43196</th>\n",
       "      <td>2021-12-12 09:37:36</td>\n",
       "      <td>0.0636</td>\n",
       "    </tr>\n",
       "    <tr>\n",
       "      <th>43197</th>\n",
       "      <td>2021-12-12 09:37:37</td>\n",
       "      <td>0.0627</td>\n",
       "    </tr>\n",
       "    <tr>\n",
       "      <th>43198</th>\n",
       "      <td>2021-12-12 09:37:38</td>\n",
       "      <td>0.0657</td>\n",
       "    </tr>\n",
       "    <tr>\n",
       "      <th>43199</th>\n",
       "      <td>2021-12-12 09:37:39</td>\n",
       "      <td>0.0671</td>\n",
       "    </tr>\n",
       "    <tr>\n",
       "      <th>43200</th>\n",
       "      <td>2021-12-12 09:37:40</td>\n",
       "      <td>0.0653</td>\n",
       "    </tr>\n",
       "  </tbody>\n",
       "</table>\n",
       "</div>"
      ],
      "text/plain": [
       "                      Time  my_snoring.mean\n",
       "43196  2021-12-12 09:37:36           0.0636\n",
       "43197  2021-12-12 09:37:37           0.0627\n",
       "43198  2021-12-12 09:37:38           0.0657\n",
       "43199  2021-12-12 09:37:39           0.0671\n",
       "43200  2021-12-12 09:37:40           0.0653"
      ]
     },
     "execution_count": 36,
     "metadata": {},
     "output_type": "execute_result"
    }
   ],
   "source": [
    "import pandas as pd\n",
    "snoring_df=pd.read_csv('Snoring-data-2021-12-12 09_38_24.csv')\n",
    "snoring_df.tail()"
   ]
  },
  {
   "cell_type": "markdown",
   "id": "2f1497aa",
   "metadata": {},
   "source": [
    "## 1. Data inspection, cleaning and visualisation\n"
   ]
  },
  {
   "cell_type": "code",
   "execution_count": 37,
   "id": "6e5d203c",
   "metadata": {},
   "outputs": [
    {
     "data": {
      "text/plain": [
       "Index(['Time', 'my_snoring.mean'], dtype='object')"
      ]
     },
     "execution_count": 37,
     "metadata": {},
     "output_type": "execute_result"
    }
   ],
   "source": [
    "#show colums\n",
    "snoring_df.columns"
   ]
  },
  {
   "cell_type": "code",
   "execution_count": 38,
   "id": "a02aae05",
   "metadata": {
    "scrolled": true
   },
   "outputs": [
    {
     "data": {
      "text/html": [
       "<div>\n",
       "<style scoped>\n",
       "    .dataframe tbody tr th:only-of-type {\n",
       "        vertical-align: middle;\n",
       "    }\n",
       "\n",
       "    .dataframe tbody tr th {\n",
       "        vertical-align: top;\n",
       "    }\n",
       "\n",
       "    .dataframe thead th {\n",
       "        text-align: right;\n",
       "    }\n",
       "</style>\n",
       "<table border=\"1\" class=\"dataframe\">\n",
       "  <thead>\n",
       "    <tr style=\"text-align: right;\">\n",
       "      <th></th>\n",
       "      <th>my_snoring.mean</th>\n",
       "    </tr>\n",
       "  </thead>\n",
       "  <tbody>\n",
       "    <tr>\n",
       "      <th>count</th>\n",
       "      <td>42976.000000</td>\n",
       "    </tr>\n",
       "    <tr>\n",
       "      <th>mean</th>\n",
       "      <td>0.120823</td>\n",
       "    </tr>\n",
       "    <tr>\n",
       "      <th>std</th>\n",
       "      <td>0.162814</td>\n",
       "    </tr>\n",
       "    <tr>\n",
       "      <th>min</th>\n",
       "      <td>0.040600</td>\n",
       "    </tr>\n",
       "    <tr>\n",
       "      <th>25%</th>\n",
       "      <td>0.064900</td>\n",
       "    </tr>\n",
       "    <tr>\n",
       "      <th>50%</th>\n",
       "      <td>0.065900</td>\n",
       "    </tr>\n",
       "    <tr>\n",
       "      <th>75%</th>\n",
       "      <td>0.075600</td>\n",
       "    </tr>\n",
       "    <tr>\n",
       "      <th>max</th>\n",
       "      <td>1.000000</td>\n",
       "    </tr>\n",
       "  </tbody>\n",
       "</table>\n",
       "</div>"
      ],
      "text/plain": [
       "       my_snoring.mean\n",
       "count     42976.000000\n",
       "mean          0.120823\n",
       "std           0.162814\n",
       "min           0.040600\n",
       "25%           0.064900\n",
       "50%           0.065900\n",
       "75%           0.075600\n",
       "max           1.000000"
      ]
     },
     "execution_count": 38,
     "metadata": {},
     "output_type": "execute_result"
    }
   ],
   "source": [
    "#describe data\n",
    "snoring_df.describe()"
   ]
  },
  {
   "cell_type": "code",
   "execution_count": null,
   "id": "180ea814",
   "metadata": {
    "scrolled": true
   },
   "outputs": [],
   "source": [
    "#remove NaN"
   ]
  },
  {
   "cell_type": "markdown",
   "id": "aecd4c27",
   "metadata": {},
   "source": [
    "## 2. Statistical analysis"
   ]
  },
  {
   "cell_type": "code",
   "execution_count": 40,
   "id": "c4539ec8",
   "metadata": {},
   "outputs": [
    {
     "name": "stdout",
     "output_type": "stream",
     "text": [
      "                      Time  my_snoring.mean\n",
      "9618   2021-12-12 00:17:58           0.0406\n",
      "8026   2021-12-11 23:51:26           0.0443\n",
      "35705  2021-12-12 07:32:45           0.0457\n",
      "6649   2021-12-11 23:28:29           0.0462\n",
      "9815   2021-12-12 00:21:15           0.0473\n",
      "...                    ...              ...\n",
      "220    2021-12-11 21:41:20              NaN\n",
      "10006  2021-12-12 00:24:26              NaN\n",
      "21479  2021-12-12 03:35:39              NaN\n",
      "21480  2021-12-12 03:35:40              NaN\n",
      "21481  2021-12-12 03:35:41              NaN\n",
      "\n",
      "[43201 rows x 2 columns]\n"
     ]
    }
   ],
   "source": [
    "print(snoring_df.sort_values('my_snoring.mean', ascending='False'))"
   ]
  },
  {
   "cell_type": "code",
   "execution_count": 41,
   "id": "595c618a",
   "metadata": {},
   "outputs": [],
   "source": [
    "# add a column 'bins' to the df and create bins with labels\n",
    "\n",
    "snoring_df['bins'] = pd.cut(snoring_df['my_snoring.mean'], bins=[0.0, 0.10, 0.50, 1.00],\n",
    "                    labels=['no snoring', 'light snoring', 'loud snoring']) \n"
   ]
  },
  {
   "cell_type": "code",
   "execution_count": 42,
   "id": "e204bf9d",
   "metadata": {
    "scrolled": true
   },
   "outputs": [
    {
     "data": {
      "text/html": [
       "<div>\n",
       "<style scoped>\n",
       "    .dataframe tbody tr th:only-of-type {\n",
       "        vertical-align: middle;\n",
       "    }\n",
       "\n",
       "    .dataframe tbody tr th {\n",
       "        vertical-align: top;\n",
       "    }\n",
       "\n",
       "    .dataframe thead th {\n",
       "        text-align: right;\n",
       "    }\n",
       "</style>\n",
       "<table border=\"1\" class=\"dataframe\">\n",
       "  <thead>\n",
       "    <tr style=\"text-align: right;\">\n",
       "      <th></th>\n",
       "      <th>Time</th>\n",
       "      <th>my_snoring.mean</th>\n",
       "      <th>bins</th>\n",
       "    </tr>\n",
       "  </thead>\n",
       "  <tbody>\n",
       "    <tr>\n",
       "      <th>43196</th>\n",
       "      <td>2021-12-12 09:37:36</td>\n",
       "      <td>0.0636</td>\n",
       "      <td>no snoring</td>\n",
       "    </tr>\n",
       "    <tr>\n",
       "      <th>43197</th>\n",
       "      <td>2021-12-12 09:37:37</td>\n",
       "      <td>0.0627</td>\n",
       "      <td>no snoring</td>\n",
       "    </tr>\n",
       "    <tr>\n",
       "      <th>43198</th>\n",
       "      <td>2021-12-12 09:37:38</td>\n",
       "      <td>0.0657</td>\n",
       "      <td>no snoring</td>\n",
       "    </tr>\n",
       "    <tr>\n",
       "      <th>43199</th>\n",
       "      <td>2021-12-12 09:37:39</td>\n",
       "      <td>0.0671</td>\n",
       "      <td>no snoring</td>\n",
       "    </tr>\n",
       "    <tr>\n",
       "      <th>43200</th>\n",
       "      <td>2021-12-12 09:37:40</td>\n",
       "      <td>0.0653</td>\n",
       "      <td>no snoring</td>\n",
       "    </tr>\n",
       "  </tbody>\n",
       "</table>\n",
       "</div>"
      ],
      "text/plain": [
       "                      Time  my_snoring.mean        bins\n",
       "43196  2021-12-12 09:37:36           0.0636  no snoring\n",
       "43197  2021-12-12 09:37:37           0.0627  no snoring\n",
       "43198  2021-12-12 09:37:38           0.0657  no snoring\n",
       "43199  2021-12-12 09:37:39           0.0671  no snoring\n",
       "43200  2021-12-12 09:37:40           0.0653  no snoring"
      ]
     },
     "execution_count": 42,
     "metadata": {},
     "output_type": "execute_result"
    }
   ],
   "source": [
    "snoring_df.tail()"
   ]
  },
  {
   "cell_type": "code",
   "execution_count": 43,
   "id": "0e8491c8",
   "metadata": {},
   "outputs": [
    {
     "data": {
      "text/plain": [
       "42976"
      ]
     },
     "execution_count": 43,
     "metadata": {},
     "output_type": "execute_result"
    }
   ],
   "source": [
    "total_length = snoring_df['bins'].count()\n",
    "total_length"
   ]
  },
  {
   "cell_type": "code",
   "execution_count": 44,
   "id": "150e7601",
   "metadata": {},
   "outputs": [
    {
     "data": {
      "text/html": [
       "<div>\n",
       "<style scoped>\n",
       "    .dataframe tbody tr th:only-of-type {\n",
       "        vertical-align: middle;\n",
       "    }\n",
       "\n",
       "    .dataframe tbody tr th {\n",
       "        vertical-align: top;\n",
       "    }\n",
       "\n",
       "    .dataframe thead th {\n",
       "        text-align: right;\n",
       "    }\n",
       "</style>\n",
       "<table border=\"1\" class=\"dataframe\">\n",
       "  <thead>\n",
       "    <tr style=\"text-align: right;\">\n",
       "      <th></th>\n",
       "      <th>class</th>\n",
       "    </tr>\n",
       "  </thead>\n",
       "  <tbody>\n",
       "    <tr>\n",
       "      <th>no snoring</th>\n",
       "      <td>34974</td>\n",
       "    </tr>\n",
       "    <tr>\n",
       "      <th>light snoring</th>\n",
       "      <td>6004</td>\n",
       "    </tr>\n",
       "    <tr>\n",
       "      <th>loud snoring</th>\n",
       "      <td>1998</td>\n",
       "    </tr>\n",
       "  </tbody>\n",
       "</table>\n",
       "</div>"
      ],
      "text/plain": [
       "               class\n",
       "no snoring     34974\n",
       "light snoring   6004\n",
       "loud snoring    1998"
      ]
     },
     "execution_count": 44,
     "metadata": {},
     "output_type": "execute_result"
    }
   ],
   "source": [
    "stats_df = pd.DataFrame()\n",
    "stats_df['class'] =snoring_df['bins'].value_counts()\n",
    "stats_df"
   ]
  },
  {
   "cell_type": "code",
   "execution_count": 46,
   "id": "a0470ded",
   "metadata": {},
   "outputs": [],
   "source": [
    "#define parameters\n",
    "no_snoring =stats_df['class'][0]\n",
    "light_snoring=stats_df['class'][1]\n",
    "loud_snoring=stats_df['class'][2]"
   ]
  },
  {
   "cell_type": "code",
   "execution_count": 47,
   "id": "a0b18ebb",
   "metadata": {},
   "outputs": [
    {
     "name": "stdout",
     "output_type": "stream",
     "text": [
      "you've snored: 133.37 minutes\n"
     ]
    }
   ],
   "source": [
    "time_snoring = round(((light_snoring+loud_snoring)/60),2)\n",
    "print(\"you've snored: \" +str(time_snoring) + \" minutes\")"
   ]
  },
  {
   "cell_type": "code",
   "execution_count": 48,
   "id": "21ca04e4",
   "metadata": {},
   "outputs": [
    {
     "name": "stdout",
     "output_type": "stream",
     "text": [
      "that is 18.62% the measured time\n"
     ]
    }
   ],
   "source": [
    "percentage = ((loud_snoring+light_snoring) / total_length)*100\n",
    "print (\"that is \" + str(round(percentage,2)) + \"% the measured time\")"
   ]
  },
  {
   "cell_type": "code",
   "execution_count": 49,
   "id": "cd233565",
   "metadata": {},
   "outputs": [
    {
     "name": "stdout",
     "output_type": "stream",
     "text": [
      "loud snoring was 4.65% of the measured time\n"
     ]
    }
   ],
   "source": [
    "loud_perc = round(loud_snoring/total_length*100,2)\n",
    "print (\"loud snoring was \" + str(loud_perc) + \"% of the measured time\")"
   ]
  },
  {
   "cell_type": "markdown",
   "id": "538093ab",
   "metadata": {},
   "source": [
    "### 2b. Make a graph"
   ]
  },
  {
   "cell_type": "code",
   "execution_count": null,
   "id": "0c2cda70",
   "metadata": {},
   "outputs": [],
   "source": [
    "#visualise the data. To do: larger plot and mean.values\n",
    "#snoring_df.plot.scatter(x=\"Time\", y=\"my_snoring.mean\")"
   ]
  },
  {
   "cell_type": "markdown",
   "id": "cb7db5f2",
   "metadata": {},
   "source": [
    "## 3. Store the results"
   ]
  },
  {
   "cell_type": "code",
   "execution_count": null,
   "id": "4df57124",
   "metadata": {},
   "outputs": [],
   "source": []
  },
  {
   "cell_type": "code",
   "execution_count": null,
   "id": "ef6d8079",
   "metadata": {},
   "outputs": [],
   "source": []
  }
 ],
 "metadata": {
  "kernelspec": {
   "display_name": "Python 3 (ipykernel)",
   "language": "python",
   "name": "python3"
  },
  "language_info": {
   "codemirror_mode": {
    "name": "ipython",
    "version": 3
   },
   "file_extension": ".py",
   "mimetype": "text/x-python",
   "name": "python",
   "nbconvert_exporter": "python",
   "pygments_lexer": "ipython3",
   "version": "3.8.5"
  }
 },
 "nbformat": 4,
 "nbformat_minor": 5
}
