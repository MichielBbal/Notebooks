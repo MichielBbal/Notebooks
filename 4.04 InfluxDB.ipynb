{
 "cells": [
  {
   "cell_type": "markdown",
   "metadata": {},
   "source": [
    "## 4.04 InfluxDB \n",
    "\n",
    "#### Links\n",
    "- Readthedocs: https://influxdb-python.readthedocs.io/en/latest/\n",
    "- Pypi:https://pypi.org/project/influxdb/\n",
    "- GitHub: https://github.com/influxdata/influxdb-python"
   ]
  },
  {
   "cell_type": "markdown",
   "metadata": {},
   "source": [
    "## Contents\n",
    "0. Install packages\n",
    "1. Some basic scripts\n",
    "2. OpenEars"
   ]
  },
  {
   "cell_type": "markdown",
   "metadata": {},
   "source": [
    "## 0. Install packages"
   ]
  },
  {
   "cell_type": "code",
   "execution_count": 4,
   "metadata": {},
   "outputs": [
    {
     "name": "stdout",
     "output_type": "stream",
     "text": [
      "Collecting influxdb\n",
      "  Downloading influxdb-5.3.1-py2.py3-none-any.whl (77 kB)\n",
      "Requirement already satisfied: python-dateutil>=2.6.0 in c:\\users\\31653\\anaconda3\\lib\\site-packages (from influxdb) (2.8.1)\n",
      "Requirement already satisfied: msgpack in c:\\users\\31653\\anaconda3\\lib\\site-packages (from influxdb) (1.0.0)\n",
      "Requirement already satisfied: six>=1.10.0 in c:\\users\\31653\\anaconda3\\lib\\site-packages (from influxdb) (1.15.0)\n",
      "Requirement already satisfied: requests>=2.17.0 in c:\\users\\31653\\anaconda3\\lib\\site-packages (from influxdb) (2.25.1)\n",
      "Requirement already satisfied: pytz in c:\\users\\31653\\anaconda3\\lib\\site-packages (from influxdb) (2020.1)\n",
      "Requirement already satisfied: chardet<5,>=3.0.2 in c:\\users\\31653\\anaconda3\\lib\\site-packages (from requests>=2.17.0->influxdb) (3.0.4)\n",
      "Requirement already satisfied: idna<3,>=2.5 in c:\\users\\31653\\anaconda3\\lib\\site-packages (from requests>=2.17.0->influxdb) (2.10)\n",
      "Requirement already satisfied: certifi>=2017.4.17 in c:\\users\\31653\\anaconda3\\lib\\site-packages (from requests>=2.17.0->influxdb) (2020.6.20)\n",
      "Requirement already satisfied: urllib3<1.27,>=1.21.1 in c:\\users\\31653\\anaconda3\\lib\\site-packages (from requests>=2.17.0->influxdb) (1.26.4)\n",
      "Installing collected packages: influxdb\n",
      "Successfully installed influxdb-5.3.1\n",
      "Note: you may need to restart the kernel to use updated packages.\n"
     ]
    }
   ],
   "source": [
    "%pip install influxdb"
   ]
  },
  {
   "cell_type": "markdown",
   "metadata": {},
   "source": [
    "## 1. Some basic scripts"
   ]
  },
  {
   "cell_type": "markdown",
   "metadata": {},
   "source": [
    "## 2. OpenEars "
   ]
  },
  {
   "cell_type": "markdown",
   "metadata": {},
   "source": [
    "### 2a. Getting data and parse it to a list"
   ]
  },
  {
   "cell_type": "code",
   "execution_count": 1,
   "metadata": {},
   "outputs": [
    {
     "name": "stdout",
     "output_type": "stream",
     "text": [
      "Time: 1603723041421, Temperature: 42.0\n",
      "Time: 1603723045441, Temperature: 42.0\n",
      "Time: 1614069339321, Temperature: 42.0\n",
      "Time: 1619181933041, Temperature: 42.0\n",
      "Time: 1619181999465, Temperature: 42.0\n",
      "Time: 1619182032533, Temperature: 42.0\n",
      "Time: 1619182064072, Temperature: 42.0\n",
      "Time: 1619182070579, Temperature: 42.0\n",
      "Time: 1619182072659, Temperature: 42.0\n",
      "Time: 1619182272581, Temperature: 42.0\n",
      "Time: 1619182298381, Temperature: 42.0\n",
      "Time: 1619182347381, Temperature: 42.0\n",
      "Time: 1619182348886, Temperature: 42.0\n",
      "Time: 1619182367739, Temperature: 42.0\n",
      "Time: 1619182475690, Temperature: 42.0\n",
      "Time: 1619182479184, Temperature: 42.0\n",
      "Time: 1619182488729, Temperature: 42.0\n",
      "Time: 1619182490704, Temperature: 42.0\n",
      "Time: 1619182491311, Temperature: 42.0\n",
      "Time: 1619182491778, Temperature: 42.0\n",
      "Time: 1619182492235, Temperature: 42.0\n",
      "Time: 1619182492696, Temperature: 42.0\n",
      "Time: 1619182493145, Temperature: 42.0\n",
      "Time: 1619182493629, Temperature: 42.0\n",
      "Time: 1619182527611, Temperature: 42.0\n",
      "Time: 1619182530949, Temperature: 42.0\n",
      "Time: 1619182550081, Temperature: 42.0\n",
      "Time: 1619182551216, Temperature: 42.0\n",
      "Time: 1619182551827, Temperature: 42.0\n",
      "Time: 1619182607656, Temperature: 42.0\n",
      "Time: 1619182664946, Temperature: 42.0\n",
      "Time: 1619182667834, Temperature: 42.0\n",
      "Time: 1619182680134, Temperature: 42.0\n",
      "Time: 1619182688415, Temperature: 42.0\n",
      "Time: 1619184235242, Temperature: 42.0\n",
      "Time: 1619184313992, Temperature: 42.0\n",
      "Time: 1619184468070, Temperature: 42.0\n"
     ]
    }
   ],
   "source": [
    "# -*- coding: utf-8 -*-\n",
    "\"\"\"Query data in InfluxDB.\"\"\"\n",
    "\n",
    "from influxdb import InfluxDBClient\n",
    "import os\n",
    "\n",
    "influxdb_host = \"influxdb.sensemakersams.org\"\n",
    "influxdb_port = 443\n",
    "influxdb_user = \"openears\"\n",
    "influxdb_password = \"0pen3ar5\"\n",
    "influxdb_dbname = \"iot\"\n",
    "\n",
    "client = InfluxDBClient(\n",
    "    influxdb_host,\n",
    "    influxdb_port,\n",
    "    influxdb_user,\n",
    "    influxdb_password,\n",
    "    influxdb_dbname,\n",
    "    ssl=True,\n",
    "    verify_ssl=True,\n",
    ")\n",
    "\n",
    "rs = client.query(\"SELECT * FROM /.*/ WHERE app_id='test'\", epoch=\"ms\")\n",
    "\n",
    "# Get raw JSON response.\n",
    "raw = rs.raw\n",
    "\n",
    "# Get points.\n",
    "# The measurement in InfluxDB can be specified. The format of the measurements is app_id/dev_id.\n",
    "# points = rs.get_points(measurement='test/test', tags={'dev_id': 'test'})\n",
    "points = rs.get_points()\n",
    "\n",
    "for point in points:\n",
    "    print(f\"Time: {point['time']}, Temperature: {point['temperature']}\")"
   ]
  },
  {
   "cell_type": "code",
   "execution_count": 15,
   "metadata": {},
   "outputs": [
    {
     "ename": "AttributeError",
     "evalue": "'InfluxDBClient' object has no attribute 'query_api'",
     "output_type": "error",
     "traceback": [
      "\u001b[1;31m---------------------------------------------------------------------------\u001b[0m",
      "\u001b[1;31mAttributeError\u001b[0m                            Traceback (most recent call last)",
      "\u001b[1;32m~\\AppData\\Local\\Temp/ipykernel_33784/3306404237.py\u001b[0m in \u001b[0;36m<module>\u001b[1;34m\u001b[0m\n\u001b[0;32m     19\u001b[0m     \u001b[0mverify_ssl\u001b[0m\u001b[1;33m=\u001b[0m\u001b[1;32mTrue\u001b[0m\u001b[1;33m,\u001b[0m\u001b[1;33m\u001b[0m\u001b[1;33m\u001b[0m\u001b[0m\n\u001b[0;32m     20\u001b[0m )\n\u001b[1;32m---> 21\u001b[1;33m \u001b[0mquery_api\u001b[0m \u001b[1;33m=\u001b[0m \u001b[0mclient\u001b[0m\u001b[1;33m.\u001b[0m\u001b[0mquery_api\u001b[0m\u001b[1;33m(\u001b[0m\u001b[1;33m)\u001b[0m\u001b[1;33m\u001b[0m\u001b[1;33m\u001b[0m\u001b[0m\n\u001b[0m",
      "\u001b[1;31mAttributeError\u001b[0m: 'InfluxDBClient' object has no attribute 'query_api'"
     ]
    }
   ],
   "source": [
    "import influxdb_client \n",
    "import os\n",
    "from influxdb import InfluxDBClient\n",
    "from influxdb_client.client.write_api import SYNCHRONOUS\n",
    "\n",
    "influxdb_host = \"influxdb.sensemakersams.org\"\n",
    "influxdb_port = 443\n",
    "influxdb_user = \"openears\"\n",
    "influxdb_password = \"0pen3ar5\"\n",
    "influxdb_dbname = \"iot\"\n",
    "\n",
    "client = InfluxDBClient(\n",
    "    influxdb_host,\n",
    "    influxdb_port,\n",
    "    influxdb_user,\n",
    "    influxdb_password,\n",
    "    influxdb_dbname,\n",
    "    ssl=True,\n",
    "    verify_ssl=True,\n",
    ")\n",
    "query_api = client.query_api()"
   ]
  },
  {
   "cell_type": "markdown",
   "metadata": {},
   "source": [
    "### 2b. Writing to a pandas df -issue"
   ]
  },
  {
   "cell_type": "code",
   "execution_count": 22,
   "metadata": {
    "scrolled": true
   },
   "outputs": [
    {
     "name": "stdout",
     "output_type": "stream",
     "text": [
      "dict_keys(['test/test'])\n",
      "                                 app_id dev_id  humidity  temperature\n",
      "2020-10-26 14:37:21.421000+00:00   test   test      42.0         42.0\n",
      "2020-10-26 14:37:25.441000+00:00   test   test      42.0         42.0\n",
      "2021-02-23 08:35:39.321000+00:00   test   test      42.0         42.0\n",
      "2021-04-23 12:45:33.041000+00:00   test   test      42.0         42.0\n",
      "2021-04-23 12:46:39.465000+00:00   test   test      42.0         42.0\n"
     ]
    }
   ],
   "source": [
    "# -*- coding: utf-8 -*-\n",
    "\"\"\"Read data from InfluxDB into Pandas DataFrame.\"\"\"\n",
    "\n",
    "from influxdb import DataFrameClient\n",
    "import os\n",
    "\n",
    "influxdb_host = \"influxdb.sensemakersams.org\"\n",
    "influxdb_port = 443\n",
    "influxdb_user = \"public\"\n",
    "influxdb_password = 'public1234'#os.environ[\"PUBLIC_PASSWORD\"]\n",
    "influxdb_dbname = \"iot\"\n",
    "\n",
    "client = DataFrameClient(\n",
    "    influxdb_host,\n",
    "    influxdb_port,\n",
    "    influxdb_user,\n",
    "    influxdb_password,\n",
    "    influxdb_dbname,\n",
    "    ssl=True,\n",
    "    verify_ssl=True,\n",
    ")\n",
    "\n",
    "# Query returns a dictionary of dataframes.\n",
    "rs = client.query(\n",
    "    \"SELECT * FROM /.*/ WHERE app_id='test'\", chunked=True, chunk_size=10000\n",
    ")\n",
    "print(rs.keys())\n",
    "\n",
    "# The measurement in InfluxDB can be specified. The format of the measurements is app_id/dev_id.\n",
    "df = rs[\"test/test\"]\n",
    "print(df.head())"
   ]
  },
  {
   "cell_type": "markdown",
   "metadata": {},
   "source": [
    "## Use SQL for queries\n",
    "\n",
    "SELECTL field keys and \n",
    "FROM"
   ]
  },
  {
   "cell_type": "code",
   "execution_count": 2,
   "metadata": {},
   "outputs": [
    {
     "name": "stderr",
     "output_type": "stream",
     "text": [
      "  % Total    % Received % Xferd  Average Speed   Time    Time     Time  Current\n",
      "                                 Dload  Upload   Total   Spent    Left  Speed\n",
      "\n",
      "  0     0    0     0    0     0      0      0 --:--:-- --:--:-- --:--:--     0\n",
      "  0     0    0     0    0     0      0      0 --:--:-- --:--:-- --:--:--     0\n",
      " 12 4957k   12  628k    0     0   511k      0  0:00:09  0:00:01  0:00:08  511k\n",
      " 75 4957k   75 3722k    0     0  1671k      0  0:00:02  0:00:02 --:--:-- 1671k\n",
      "100 4957k  100 4957k    0     0  1846k      0  0:00:02  0:00:02 --:--:-- 1847k\n"
     ]
    }
   ],
   "source": [
    "!curl https://s3.amazonaws.com/noaa.water-database/NOAA_data.txt -o NOAA_data.txt"
   ]
  },
  {
   "cell_type": "code",
   "execution_count": 3,
   "metadata": {},
   "outputs": [],
   "source": [
    "import influxdb"
   ]
  },
  {
   "cell_type": "code",
   "execution_count": 6,
   "metadata": {},
   "outputs": [
    {
     "name": "stderr",
     "output_type": "stream",
     "text": [
      "'influx' is not recognized as an internal or external command,\n",
      "operable program or batch file.\n"
     ]
    }
   ],
   "source": [
    "! influx -import -path=NOAA_data.txt -precision=s"
   ]
  },
  {
   "cell_type": "code",
   "execution_count": null,
   "metadata": {},
   "outputs": [],
   "source": []
  },
  {
   "cell_type": "code",
   "execution_count": 7,
   "metadata": {},
   "outputs": [
    {
     "name": "stdout",
     "output_type": "stream",
     "text": [
      "Collecting influxdb-client\n",
      "  Downloading influxdb_client-1.23.0-py3-none-any.whl (522 kB)\n",
      "Requirement already satisfied: urllib3>=1.15.1 in c:\\users\\31653\\anaconda3\\lib\\site-packages (from influxdb-client) (1.26.7)\n",
      "Collecting rx>=3.0.1\n",
      "  Downloading Rx-3.2.0-py3-none-any.whl (199 kB)\n",
      "Requirement already satisfied: pytz>=2019.1 in c:\\users\\31653\\anaconda3\\lib\\site-packages (from influxdb-client) (2021.3)\n",
      "Requirement already satisfied: python-dateutil>=2.5.3 in c:\\users\\31653\\anaconda3\\lib\\site-packages (from influxdb-client) (2.8.2)\n",
      "Requirement already satisfied: setuptools>=21.0.0 in c:\\users\\31653\\anaconda3\\lib\\site-packages (from influxdb-client) (58.2.0)\n",
      "Requirement already satisfied: six>=1.10 in c:\\users\\31653\\anaconda3\\lib\\site-packages (from influxdb-client) (1.16.0)\n",
      "Requirement already satisfied: certifi>=14.05.14 in c:\\users\\31653\\anaconda3\\lib\\site-packages (from influxdb-client) (2021.10.8)\n",
      "Installing collected packages: rx, influxdb-client\n",
      "Successfully installed influxdb-client-1.23.0 rx-3.2.0\n"
     ]
    }
   ],
   "source": [
    "!pip install influxdb-client"
   ]
  },
  {
   "cell_type": "code",
   "execution_count": 16,
   "metadata": {},
   "outputs": [],
   "source": [
    "import influxdb_client\n",
    "from influxdb_client.client.write_api import SYNCHRONOUS\n",
    "bucket = \"<my-bucket>\"\n",
    "org = \"<my-org>\"\n",
    "token = \"<my-token>\"\n",
    "# Store the URL of your InfluxDB instance\n",
    "url=\"https://us-west-2-1.aws.cloud2.influxdata.com\""
   ]
  },
  {
   "cell_type": "code",
   "execution_count": 17,
   "metadata": {},
   "outputs": [],
   "source": [
    "client = influxdb_client.InfluxDBClient(\n",
    "   url=url,\n",
    "   token=token,\n",
    "   org=org\n",
    ")"
   ]
  },
  {
   "cell_type": "code",
   "execution_count": 18,
   "metadata": {},
   "outputs": [],
   "source": [
    "write_api = client.write_api(write_options=SYNCHRONOUS)"
   ]
  },
  {
   "cell_type": "code",
   "execution_count": 19,
   "metadata": {},
   "outputs": [
    {
     "ename": "ApiException",
     "evalue": "(401)\nReason: Unauthorized\nHTTP response headers: HTTPHeaderDict({'Date': 'Wed, 03 Nov 2021 11:05:52 GMT', 'Content-Type': 'application/json; charset=utf-8', 'Content-Length': '55', 'Connection': 'keep-alive', 'trace-id': 'e6b8fd02b02afa14', 'trace-sampled': 'false', 'x-platform-error-code': 'unauthorized', 'Strict-Transport-Security': 'max-age=15724800; includeSubDomains', 'X-Influxdb-Build': 'Cloud'})\nHTTP response body: {\"code\":\"unauthorized\",\"message\":\"unauthorized access\"}\n",
     "output_type": "error",
     "traceback": [
      "\u001b[1;31m---------------------------------------------------------------------------\u001b[0m",
      "\u001b[1;31mApiException\u001b[0m                              Traceback (most recent call last)",
      "\u001b[1;32m~\\AppData\\Local\\Temp/ipykernel_33784/983650502.py\u001b[0m in \u001b[0;36m<module>\u001b[1;34m\u001b[0m\n\u001b[0;32m      1\u001b[0m \u001b[0mp\u001b[0m \u001b[1;33m=\u001b[0m \u001b[0minfluxdb_client\u001b[0m\u001b[1;33m.\u001b[0m\u001b[0mPoint\u001b[0m\u001b[1;33m(\u001b[0m\u001b[1;34m\"my_measurement\"\u001b[0m\u001b[1;33m)\u001b[0m\u001b[1;33m.\u001b[0m\u001b[0mtag\u001b[0m\u001b[1;33m(\u001b[0m\u001b[1;34m\"location\"\u001b[0m\u001b[1;33m,\u001b[0m \u001b[1;34m\"Prague\"\u001b[0m\u001b[1;33m)\u001b[0m\u001b[1;33m.\u001b[0m\u001b[0mfield\u001b[0m\u001b[1;33m(\u001b[0m\u001b[1;34m\"temperature\"\u001b[0m\u001b[1;33m,\u001b[0m \u001b[1;36m25.3\u001b[0m\u001b[1;33m)\u001b[0m\u001b[1;33m\u001b[0m\u001b[1;33m\u001b[0m\u001b[0m\n\u001b[1;32m----> 2\u001b[1;33m \u001b[0mwrite_api\u001b[0m\u001b[1;33m.\u001b[0m\u001b[0mwrite\u001b[0m\u001b[1;33m(\u001b[0m\u001b[0mbucket\u001b[0m\u001b[1;33m=\u001b[0m\u001b[0mbucket\u001b[0m\u001b[1;33m,\u001b[0m \u001b[0morg\u001b[0m\u001b[1;33m=\u001b[0m\u001b[0morg\u001b[0m\u001b[1;33m,\u001b[0m \u001b[0mrecord\u001b[0m\u001b[1;33m=\u001b[0m\u001b[0mp\u001b[0m\u001b[1;33m)\u001b[0m\u001b[1;33m\u001b[0m\u001b[1;33m\u001b[0m\u001b[0m\n\u001b[0m",
      "\u001b[1;32m~\\anaconda3\\lib\\site-packages\\influxdb_client\\client\\write_api.py\u001b[0m in \u001b[0;36mwrite\u001b[1;34m(self, bucket, org, record, write_precision, **kwargs)\u001b[0m\n\u001b[0;32m    369\u001b[0m             \u001b[1;32mreturn\u001b[0m \u001b[0mself\u001b[0m\u001b[1;33m.\u001b[0m\u001b[0m_post_write\u001b[0m\u001b[1;33m(\u001b[0m\u001b[0m_async_req\u001b[0m\u001b[1;33m,\u001b[0m \u001b[0mbucket\u001b[0m\u001b[1;33m,\u001b[0m \u001b[0morg\u001b[0m\u001b[1;33m,\u001b[0m \u001b[0mfinal_string\u001b[0m\u001b[1;33m,\u001b[0m \u001b[0mpayload\u001b[0m\u001b[1;33m[\u001b[0m\u001b[1;36m0\u001b[0m\u001b[1;33m]\u001b[0m\u001b[1;33m)\u001b[0m\u001b[1;33m\u001b[0m\u001b[1;33m\u001b[0m\u001b[0m\n\u001b[0;32m    370\u001b[0m \u001b[1;33m\u001b[0m\u001b[0m\n\u001b[1;32m--> 371\u001b[1;33m         \u001b[0mresults\u001b[0m \u001b[1;33m=\u001b[0m \u001b[0mlist\u001b[0m\u001b[1;33m(\u001b[0m\u001b[0mmap\u001b[0m\u001b[1;33m(\u001b[0m\u001b[0mwrite_payload\u001b[0m\u001b[1;33m,\u001b[0m \u001b[0mpayloads\u001b[0m\u001b[1;33m.\u001b[0m\u001b[0mitems\u001b[0m\u001b[1;33m(\u001b[0m\u001b[1;33m)\u001b[0m\u001b[1;33m)\u001b[0m\u001b[1;33m)\u001b[0m\u001b[1;33m\u001b[0m\u001b[1;33m\u001b[0m\u001b[0m\n\u001b[0m\u001b[0;32m    372\u001b[0m         \u001b[1;32mif\u001b[0m \u001b[1;32mnot\u001b[0m \u001b[0m_async_req\u001b[0m\u001b[1;33m:\u001b[0m\u001b[1;33m\u001b[0m\u001b[1;33m\u001b[0m\u001b[0m\n\u001b[0;32m    373\u001b[0m             \u001b[1;32mreturn\u001b[0m \u001b[1;32mNone\u001b[0m\u001b[1;33m\u001b[0m\u001b[1;33m\u001b[0m\u001b[0m\n",
      "\u001b[1;32m~\\anaconda3\\lib\\site-packages\\influxdb_client\\client\\write_api.py\u001b[0m in \u001b[0;36mwrite_payload\u001b[1;34m(payload)\u001b[0m\n\u001b[0;32m    367\u001b[0m         \u001b[1;32mdef\u001b[0m \u001b[0mwrite_payload\u001b[0m\u001b[1;33m(\u001b[0m\u001b[0mpayload\u001b[0m\u001b[1;33m)\u001b[0m\u001b[1;33m:\u001b[0m\u001b[1;33m\u001b[0m\u001b[1;33m\u001b[0m\u001b[0m\n\u001b[0;32m    368\u001b[0m             \u001b[0mfinal_string\u001b[0m \u001b[1;33m=\u001b[0m \u001b[1;34mb'\\n'\u001b[0m\u001b[1;33m.\u001b[0m\u001b[0mjoin\u001b[0m\u001b[1;33m(\u001b[0m\u001b[0mpayload\u001b[0m\u001b[1;33m[\u001b[0m\u001b[1;36m1\u001b[0m\u001b[1;33m]\u001b[0m\u001b[1;33m)\u001b[0m\u001b[1;33m\u001b[0m\u001b[1;33m\u001b[0m\u001b[0m\n\u001b[1;32m--> 369\u001b[1;33m             \u001b[1;32mreturn\u001b[0m \u001b[0mself\u001b[0m\u001b[1;33m.\u001b[0m\u001b[0m_post_write\u001b[0m\u001b[1;33m(\u001b[0m\u001b[0m_async_req\u001b[0m\u001b[1;33m,\u001b[0m \u001b[0mbucket\u001b[0m\u001b[1;33m,\u001b[0m \u001b[0morg\u001b[0m\u001b[1;33m,\u001b[0m \u001b[0mfinal_string\u001b[0m\u001b[1;33m,\u001b[0m \u001b[0mpayload\u001b[0m\u001b[1;33m[\u001b[0m\u001b[1;36m0\u001b[0m\u001b[1;33m]\u001b[0m\u001b[1;33m)\u001b[0m\u001b[1;33m\u001b[0m\u001b[1;33m\u001b[0m\u001b[0m\n\u001b[0m\u001b[0;32m    370\u001b[0m \u001b[1;33m\u001b[0m\u001b[0m\n\u001b[0;32m    371\u001b[0m         \u001b[0mresults\u001b[0m \u001b[1;33m=\u001b[0m \u001b[0mlist\u001b[0m\u001b[1;33m(\u001b[0m\u001b[0mmap\u001b[0m\u001b[1;33m(\u001b[0m\u001b[0mwrite_payload\u001b[0m\u001b[1;33m,\u001b[0m \u001b[0mpayloads\u001b[0m\u001b[1;33m.\u001b[0m\u001b[0mitems\u001b[0m\u001b[1;33m(\u001b[0m\u001b[1;33m)\u001b[0m\u001b[1;33m)\u001b[0m\u001b[1;33m)\u001b[0m\u001b[1;33m\u001b[0m\u001b[1;33m\u001b[0m\u001b[0m\n",
      "\u001b[1;32m~\\anaconda3\\lib\\site-packages\\influxdb_client\\client\\write_api.py\u001b[0m in \u001b[0;36m_post_write\u001b[1;34m(self, _async_req, bucket, org, body, precision, **kwargs)\u001b[0m\n\u001b[0;32m    515\u001b[0m     \u001b[1;32mdef\u001b[0m \u001b[0m_post_write\u001b[0m\u001b[1;33m(\u001b[0m\u001b[0mself\u001b[0m\u001b[1;33m,\u001b[0m \u001b[0m_async_req\u001b[0m\u001b[1;33m,\u001b[0m \u001b[0mbucket\u001b[0m\u001b[1;33m,\u001b[0m \u001b[0morg\u001b[0m\u001b[1;33m,\u001b[0m \u001b[0mbody\u001b[0m\u001b[1;33m,\u001b[0m \u001b[0mprecision\u001b[0m\u001b[1;33m,\u001b[0m \u001b[1;33m**\u001b[0m\u001b[0mkwargs\u001b[0m\u001b[1;33m)\u001b[0m\u001b[1;33m:\u001b[0m\u001b[1;33m\u001b[0m\u001b[1;33m\u001b[0m\u001b[0m\n\u001b[0;32m    516\u001b[0m \u001b[1;33m\u001b[0m\u001b[0m\n\u001b[1;32m--> 517\u001b[1;33m         return self._write_service.post_write(org=org, bucket=bucket, body=body, precision=precision,\n\u001b[0m\u001b[0;32m    518\u001b[0m                                               \u001b[0masync_req\u001b[0m\u001b[1;33m=\u001b[0m\u001b[0m_async_req\u001b[0m\u001b[1;33m,\u001b[0m \u001b[0mcontent_encoding\u001b[0m\u001b[1;33m=\u001b[0m\u001b[1;34m\"identity\"\u001b[0m\u001b[1;33m,\u001b[0m\u001b[1;33m\u001b[0m\u001b[1;33m\u001b[0m\u001b[0m\n\u001b[0;32m    519\u001b[0m                                               \u001b[0mcontent_type\u001b[0m\u001b[1;33m=\u001b[0m\u001b[1;34m\"text/plain; charset=utf-8\"\u001b[0m\u001b[1;33m,\u001b[0m\u001b[1;33m\u001b[0m\u001b[1;33m\u001b[0m\u001b[0m\n",
      "\u001b[1;32m~\\anaconda3\\lib\\site-packages\\influxdb_client\\service\\write_service.py\u001b[0m in \u001b[0;36mpost_write\u001b[1;34m(self, org, bucket, body, **kwargs)\u001b[0m\n\u001b[0;32m     60\u001b[0m             \u001b[1;32mreturn\u001b[0m \u001b[0mself\u001b[0m\u001b[1;33m.\u001b[0m\u001b[0mpost_write_with_http_info\u001b[0m\u001b[1;33m(\u001b[0m\u001b[0morg\u001b[0m\u001b[1;33m,\u001b[0m \u001b[0mbucket\u001b[0m\u001b[1;33m,\u001b[0m \u001b[0mbody\u001b[0m\u001b[1;33m,\u001b[0m \u001b[1;33m**\u001b[0m\u001b[0mkwargs\u001b[0m\u001b[1;33m)\u001b[0m  \u001b[1;31m# noqa: E501\u001b[0m\u001b[1;33m\u001b[0m\u001b[1;33m\u001b[0m\u001b[0m\n\u001b[0;32m     61\u001b[0m         \u001b[1;32melse\u001b[0m\u001b[1;33m:\u001b[0m\u001b[1;33m\u001b[0m\u001b[1;33m\u001b[0m\u001b[0m\n\u001b[1;32m---> 62\u001b[1;33m             \u001b[1;33m(\u001b[0m\u001b[0mdata\u001b[0m\u001b[1;33m)\u001b[0m \u001b[1;33m=\u001b[0m \u001b[0mself\u001b[0m\u001b[1;33m.\u001b[0m\u001b[0mpost_write_with_http_info\u001b[0m\u001b[1;33m(\u001b[0m\u001b[0morg\u001b[0m\u001b[1;33m,\u001b[0m \u001b[0mbucket\u001b[0m\u001b[1;33m,\u001b[0m \u001b[0mbody\u001b[0m\u001b[1;33m,\u001b[0m \u001b[1;33m**\u001b[0m\u001b[0mkwargs\u001b[0m\u001b[1;33m)\u001b[0m  \u001b[1;31m# noqa: E501\u001b[0m\u001b[1;33m\u001b[0m\u001b[1;33m\u001b[0m\u001b[0m\n\u001b[0m\u001b[0;32m     63\u001b[0m             \u001b[1;32mreturn\u001b[0m \u001b[0mdata\u001b[0m\u001b[1;33m\u001b[0m\u001b[1;33m\u001b[0m\u001b[0m\n\u001b[0;32m     64\u001b[0m \u001b[1;33m\u001b[0m\u001b[0m\n",
      "\u001b[1;32m~\\anaconda3\\lib\\site-packages\\influxdb_client\\service\\write_service.py\u001b[0m in \u001b[0;36mpost_write_with_http_info\u001b[1;34m(self, org, bucket, body, **kwargs)\u001b[0m\n\u001b[0;32m    164\u001b[0m             \u001b[0murlopen_kw\u001b[0m \u001b[1;33m=\u001b[0m \u001b[0mkwargs\u001b[0m\u001b[1;33m[\u001b[0m\u001b[1;34m'urlopen_kw'\u001b[0m\u001b[1;33m]\u001b[0m\u001b[1;33m\u001b[0m\u001b[1;33m\u001b[0m\u001b[0m\n\u001b[0;32m    165\u001b[0m \u001b[1;33m\u001b[0m\u001b[0m\n\u001b[1;32m--> 166\u001b[1;33m         return self.api_client.call_api(\n\u001b[0m\u001b[0;32m    167\u001b[0m             \u001b[1;34m'/api/v2/write'\u001b[0m\u001b[1;33m,\u001b[0m \u001b[1;34m'POST'\u001b[0m\u001b[1;33m,\u001b[0m\u001b[1;33m\u001b[0m\u001b[1;33m\u001b[0m\u001b[0m\n\u001b[0;32m    168\u001b[0m             \u001b[0mpath_params\u001b[0m\u001b[1;33m,\u001b[0m\u001b[1;33m\u001b[0m\u001b[1;33m\u001b[0m\u001b[0m\n",
      "\u001b[1;32m~\\anaconda3\\lib\\site-packages\\influxdb_client\\api_client.py\u001b[0m in \u001b[0;36mcall_api\u001b[1;34m(self, resource_path, method, path_params, query_params, header_params, body, post_params, files, response_type, auth_settings, async_req, _return_http_data_only, collection_formats, _preload_content, _request_timeout, urlopen_kw)\u001b[0m\n\u001b[0;32m    339\u001b[0m         \"\"\"\n\u001b[0;32m    340\u001b[0m         \u001b[1;32mif\u001b[0m \u001b[1;32mnot\u001b[0m \u001b[0masync_req\u001b[0m\u001b[1;33m:\u001b[0m\u001b[1;33m\u001b[0m\u001b[1;33m\u001b[0m\u001b[0m\n\u001b[1;32m--> 341\u001b[1;33m             return self.__call_api(resource_path, method,\n\u001b[0m\u001b[0;32m    342\u001b[0m                                    \u001b[0mpath_params\u001b[0m\u001b[1;33m,\u001b[0m \u001b[0mquery_params\u001b[0m\u001b[1;33m,\u001b[0m \u001b[0mheader_params\u001b[0m\u001b[1;33m,\u001b[0m\u001b[1;33m\u001b[0m\u001b[1;33m\u001b[0m\u001b[0m\n\u001b[0;32m    343\u001b[0m                                    \u001b[0mbody\u001b[0m\u001b[1;33m,\u001b[0m \u001b[0mpost_params\u001b[0m\u001b[1;33m,\u001b[0m \u001b[0mfiles\u001b[0m\u001b[1;33m,\u001b[0m\u001b[1;33m\u001b[0m\u001b[1;33m\u001b[0m\u001b[0m\n",
      "\u001b[1;32m~\\anaconda3\\lib\\site-packages\\influxdb_client\\api_client.py\u001b[0m in \u001b[0;36m__call_api\u001b[1;34m(self, resource_path, method, path_params, query_params, header_params, body, post_params, files, response_type, auth_settings, _return_http_data_only, collection_formats, _preload_content, _request_timeout, urlopen_kw)\u001b[0m\n\u001b[0;32m    169\u001b[0m \u001b[1;33m\u001b[0m\u001b[0m\n\u001b[0;32m    170\u001b[0m         \u001b[1;31m# perform request and return response\u001b[0m\u001b[1;33m\u001b[0m\u001b[1;33m\u001b[0m\u001b[1;33m\u001b[0m\u001b[0m\n\u001b[1;32m--> 171\u001b[1;33m         response_data = self.request(\n\u001b[0m\u001b[0;32m    172\u001b[0m             \u001b[0mmethod\u001b[0m\u001b[1;33m,\u001b[0m \u001b[0murl\u001b[0m\u001b[1;33m,\u001b[0m \u001b[0mquery_params\u001b[0m\u001b[1;33m=\u001b[0m\u001b[0mquery_params\u001b[0m\u001b[1;33m,\u001b[0m \u001b[0mheaders\u001b[0m\u001b[1;33m=\u001b[0m\u001b[0mheader_params\u001b[0m\u001b[1;33m,\u001b[0m\u001b[1;33m\u001b[0m\u001b[1;33m\u001b[0m\u001b[0m\n\u001b[0;32m    173\u001b[0m             \u001b[0mpost_params\u001b[0m\u001b[1;33m=\u001b[0m\u001b[0mpost_params\u001b[0m\u001b[1;33m,\u001b[0m \u001b[0mbody\u001b[0m\u001b[1;33m=\u001b[0m\u001b[0mbody\u001b[0m\u001b[1;33m,\u001b[0m\u001b[1;33m\u001b[0m\u001b[1;33m\u001b[0m\u001b[0m\n",
      "\u001b[1;32m~\\anaconda3\\lib\\site-packages\\influxdb_client\\api_client.py\u001b[0m in \u001b[0;36mrequest\u001b[1;34m(self, method, url, query_params, headers, post_params, body, _preload_content, _request_timeout, **urlopen_kw)\u001b[0m\n\u001b[0;32m    384\u001b[0m                                             **urlopen_kw)\n\u001b[0;32m    385\u001b[0m         \u001b[1;32melif\u001b[0m \u001b[0mmethod\u001b[0m \u001b[1;33m==\u001b[0m \u001b[1;34m\"POST\"\u001b[0m\u001b[1;33m:\u001b[0m\u001b[1;33m\u001b[0m\u001b[1;33m\u001b[0m\u001b[0m\n\u001b[1;32m--> 386\u001b[1;33m             return self.rest_client.POST(url,\n\u001b[0m\u001b[0;32m    387\u001b[0m                                          \u001b[0mquery_params\u001b[0m\u001b[1;33m=\u001b[0m\u001b[0mquery_params\u001b[0m\u001b[1;33m,\u001b[0m\u001b[1;33m\u001b[0m\u001b[1;33m\u001b[0m\u001b[0m\n\u001b[0;32m    388\u001b[0m                                          \u001b[0mheaders\u001b[0m\u001b[1;33m=\u001b[0m\u001b[0mheaders\u001b[0m\u001b[1;33m,\u001b[0m\u001b[1;33m\u001b[0m\u001b[1;33m\u001b[0m\u001b[0m\n",
      "\u001b[1;32m~\\anaconda3\\lib\\site-packages\\influxdb_client\\rest.py\u001b[0m in \u001b[0;36mPOST\u001b[1;34m(self, url, headers, query_params, post_params, body, _preload_content, _request_timeout, **urlopen_kw)\u001b[0m\n\u001b[0;32m    302\u001b[0m              body=None, _preload_content=True, _request_timeout=None, **urlopen_kw):\n\u001b[0;32m    303\u001b[0m         \u001b[1;34m\"\"\"Perform POST HTTP request.\"\"\"\u001b[0m\u001b[1;33m\u001b[0m\u001b[1;33m\u001b[0m\u001b[0m\n\u001b[1;32m--> 304\u001b[1;33m         return self.request(\"POST\", url,\n\u001b[0m\u001b[0;32m    305\u001b[0m                             \u001b[0mheaders\u001b[0m\u001b[1;33m=\u001b[0m\u001b[0mheaders\u001b[0m\u001b[1;33m,\u001b[0m\u001b[1;33m\u001b[0m\u001b[1;33m\u001b[0m\u001b[0m\n\u001b[0;32m    306\u001b[0m                             \u001b[0mquery_params\u001b[0m\u001b[1;33m=\u001b[0m\u001b[0mquery_params\u001b[0m\u001b[1;33m,\u001b[0m\u001b[1;33m\u001b[0m\u001b[1;33m\u001b[0m\u001b[0m\n",
      "\u001b[1;32m~\\anaconda3\\lib\\site-packages\\influxdb_client\\rest.py\u001b[0m in \u001b[0;36mrequest\u001b[1;34m(self, method, url, query_params, headers, body, post_params, _preload_content, _request_timeout, **urlopen_kw)\u001b[0m\n\u001b[0;32m    252\u001b[0m \u001b[1;33m\u001b[0m\u001b[0m\n\u001b[0;32m    253\u001b[0m         \u001b[1;32mif\u001b[0m \u001b[1;32mnot\u001b[0m \u001b[1;36m200\u001b[0m \u001b[1;33m<=\u001b[0m \u001b[0mr\u001b[0m\u001b[1;33m.\u001b[0m\u001b[0mstatus\u001b[0m \u001b[1;33m<=\u001b[0m \u001b[1;36m299\u001b[0m\u001b[1;33m:\u001b[0m\u001b[1;33m\u001b[0m\u001b[1;33m\u001b[0m\u001b[0m\n\u001b[1;32m--> 254\u001b[1;33m             \u001b[1;32mraise\u001b[0m \u001b[0mApiException\u001b[0m\u001b[1;33m(\u001b[0m\u001b[0mhttp_resp\u001b[0m\u001b[1;33m=\u001b[0m\u001b[0mr\u001b[0m\u001b[1;33m)\u001b[0m\u001b[1;33m\u001b[0m\u001b[1;33m\u001b[0m\u001b[0m\n\u001b[0m\u001b[0;32m    255\u001b[0m \u001b[1;33m\u001b[0m\u001b[0m\n\u001b[0;32m    256\u001b[0m         \u001b[1;32mreturn\u001b[0m \u001b[0mr\u001b[0m\u001b[1;33m\u001b[0m\u001b[1;33m\u001b[0m\u001b[0m\n",
      "\u001b[1;31mApiException\u001b[0m: (401)\nReason: Unauthorized\nHTTP response headers: HTTPHeaderDict({'Date': 'Wed, 03 Nov 2021 11:05:52 GMT', 'Content-Type': 'application/json; charset=utf-8', 'Content-Length': '55', 'Connection': 'keep-alive', 'trace-id': 'e6b8fd02b02afa14', 'trace-sampled': 'false', 'x-platform-error-code': 'unauthorized', 'Strict-Transport-Security': 'max-age=15724800; includeSubDomains', 'X-Influxdb-Build': 'Cloud'})\nHTTP response body: {\"code\":\"unauthorized\",\"message\":\"unauthorized access\"}\n"
     ]
    }
   ],
   "source": [
    "p = influxdb_client.Point(\"my_measurement\").tag(\"location\", \"Prague\").field(\"temperature\", 25.3)\n",
    "write_api.write(bucket=bucket, org=org, record=p)"
   ]
  },
  {
   "cell_type": "code",
   "execution_count": null,
   "metadata": {},
   "outputs": [],
   "source": []
  }
 ],
 "metadata": {
  "kernelspec": {
   "display_name": "Python 3 (ipykernel)",
   "language": "python",
   "name": "python3"
  },
  "language_info": {
   "codemirror_mode": {
    "name": "ipython",
    "version": 3
   },
   "file_extension": ".py",
   "mimetype": "text/x-python",
   "name": "python",
   "nbconvert_exporter": "python",
   "pygments_lexer": "ipython3",
   "version": "3.8.5"
  }
 },
 "nbformat": 4,
 "nbformat_minor": 4
}
