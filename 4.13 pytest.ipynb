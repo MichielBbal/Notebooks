{
 "cells": [
  {
   "cell_type": "markdown",
   "id": "ae4e78f3",
   "metadata": {},
   "source": [
    "# 4.13 Pytest library for API testing"
   ]
  },
  {
   "cell_type": "code",
   "execution_count": 2,
   "id": "02b119c1",
   "metadata": {},
   "outputs": [
    {
     "name": "stdout",
     "output_type": "stream",
     "text": [
      "Requirement already satisfied: pytest in c:\\users\\31653\\anaconda3\\lib\\site-packages (6.2.5)\n",
      "Requirement already satisfied: attrs>=19.2.0 in c:\\users\\31653\\anaconda3\\lib\\site-packages (from pytest) (21.2.0)\n",
      "Requirement already satisfied: iniconfig in c:\\users\\31653\\anaconda3\\lib\\site-packages (from pytest) (1.1.1)\n",
      "Requirement already satisfied: packaging in c:\\users\\31653\\anaconda3\\lib\\site-packages (from pytest) (21.0)\n",
      "Requirement already satisfied: pluggy<2.0,>=0.12 in c:\\users\\31653\\anaconda3\\lib\\site-packages (from pytest) (1.0.0)\n",
      "Requirement already satisfied: py>=1.8.2 in c:\\users\\31653\\anaconda3\\lib\\site-packages (from pytest) (1.10.0)\n",
      "Requirement already satisfied: toml in c:\\users\\31653\\anaconda3\\lib\\site-packages (from pytest) (0.10.2)\n",
      "Requirement already satisfied: atomicwrites>=1.0 in c:\\users\\31653\\anaconda3\\lib\\site-packages (from pytest) (1.4.0)\n",
      "Requirement already satisfied: colorama in c:\\users\\31653\\anaconda3\\lib\\site-packages (from pytest) (0.4.4)\n",
      "Requirement already satisfied: pyparsing>=2.0.2 in c:\\users\\31653\\anaconda3\\lib\\site-packages (from packaging->pytest) (2.4.7)\n"
     ]
    }
   ],
   "source": [
    "!pip install pytest"
   ]
  },
  {
   "cell_type": "markdown",
   "id": "c25959b8",
   "metadata": {},
   "source": [
    "## 1. writing tests with Requests \n",
    "\n",
    "Bas Dijkstra's tutorial: https://www.youtube.com/watch?v=YeAWDfxqD7g"
   ]
  },
  {
   "cell_type": "code",
   "execution_count": 26,
   "id": "c9fd3fce",
   "metadata": {},
   "outputs": [],
   "source": [
    "#we use this data:\n",
    "%pycat https://jsonplaceholder.typicode.com/users/1"
   ]
  },
  {
   "cell_type": "code",
   "execution_count": 24,
   "id": "62cdc99e",
   "metadata": {},
   "outputs": [],
   "source": [
    "import requests\n",
    "def test_equals_200():\n",
    "    response = requests.get('https://jsonplaceholder.typicode.com/users/1')\n",
    "    assert response.status_code == 200\n",
    "\n",
    "def test_content_type_header():\n",
    "    response = requests.get('https://jsonplaceholder.typicode.com/users/1')\n",
    "    assert response.headers[\"Content-Type\"] == \"application/json; charset=utf-8\"\n",
    "    \n",
    "def test_response():\n",
    "    response = requests.get('https://jsonplaceholder.typicode.com/users/1')\n",
    "    response_body = response.json()\n",
    "    assert 'name'in response_body\n",
    "    print(response_body)\n",
    "    \n",
    "def name2_romaguera_crona():\n",
    "    response = requests.get('https://jsonplaceholder.typicode.com/users/1')\n",
    "    response_body = response.json()\n",
    "    assert response_body[\"company\"][\"name\"] == 'Romaguera-Crona'"
   ]
  },
  {
   "cell_type": "code",
   "execution_count": 25,
   "id": "cc6a010e",
   "metadata": {},
   "outputs": [],
   "source": [
    "name2_romaguera_crona()"
   ]
  },
  {
   "cell_type": "markdown",
   "id": "41dec5e5",
   "metadata": {},
   "source": [
    "### Post"
   ]
  },
  {
   "cell_type": "code",
   "execution_count": 32,
   "id": "5b1836c7",
   "metadata": {},
   "outputs": [],
   "source": [
    "%pycat https://jsonplaceholder.typicode.com/posts"
   ]
  },
  {
   "cell_type": "code",
   "execution_count": 30,
   "id": "a835f234",
   "metadata": {},
   "outputs": [],
   "source": [
    "def test_post_201():\n",
    "    my_new_post = {\"userId\": 1, \"title\":\"my post title\", \"body\":\"My post body\"}\n",
    "    response = requests.post(\"https://jsonplaceholder.typicode.com/posts\", json=my_new_post)\n",
    "    assert response.status_code == 201  "
   ]
  },
  {
   "cell_type": "code",
   "execution_count": 31,
   "id": "0f3cad99",
   "metadata": {},
   "outputs": [],
   "source": [
    "test_post_201() "
   ]
  },
  {
   "cell_type": "markdown",
   "id": "9edb743f",
   "metadata": {},
   "source": [
    "### List of 3 users"
   ]
  },
  {
   "cell_type": "code",
   "execution_count": 36,
   "id": "1102364f",
   "metadata": {},
   "outputs": [],
   "source": [
    "import pytest\n",
    "test_data_users = [ (1, \"Leanne Graham\"), (2, \"Ervin Howell\"), (3, \"Clementine Bauch\")]\n",
    "\n",
    "@pytest.mark.parametrize(\"userid, expected_name\", test_data_users)\n",
    "def test_3_users():\n",
    "    response = requests.get(f\"https://jsonplaceholder.typicode.com/users/{userid}\")\n",
    "    response_body = response.json()\n",
    "    assert response_body['name']==expected_name"
   ]
  },
  {
   "cell_type": "code",
   "execution_count": 35,
   "id": "352d2221",
   "metadata": {},
   "outputs": [
    {
     "ename": "NameError",
     "evalue": "name 'userid' is not defined",
     "output_type": "error",
     "traceback": [
      "\u001b[1;31m---------------------------------------------------------------------------\u001b[0m",
      "\u001b[1;31mNameError\u001b[0m                                 Traceback (most recent call last)",
      "\u001b[1;32m~\\AppData\\Local\\Temp/ipykernel_4584/1874162531.py\u001b[0m in \u001b[0;36m<module>\u001b[1;34m\u001b[0m\n\u001b[1;32m----> 1\u001b[1;33m \u001b[0mtest_3_users\u001b[0m\u001b[1;33m(\u001b[0m\u001b[1;33m)\u001b[0m\u001b[1;33m\u001b[0m\u001b[1;33m\u001b[0m\u001b[0m\n\u001b[0m",
      "\u001b[1;32m~\\AppData\\Local\\Temp/ipykernel_4584/162690716.py\u001b[0m in \u001b[0;36mtest_3_users\u001b[1;34m()\u001b[0m\n\u001b[0;32m      4\u001b[0m \u001b[1;33m@\u001b[0m\u001b[0mpytest\u001b[0m\u001b[1;33m.\u001b[0m\u001b[0mmark\u001b[0m\u001b[1;33m.\u001b[0m\u001b[0mparametrize\u001b[0m\u001b[1;33m(\u001b[0m\u001b[1;34m\"userid, expected_name\"\u001b[0m\u001b[1;33m,\u001b[0m \u001b[0mtest_data_users\u001b[0m\u001b[1;33m)\u001b[0m\u001b[1;33m\u001b[0m\u001b[1;33m\u001b[0m\u001b[0m\n\u001b[0;32m      5\u001b[0m \u001b[1;32mdef\u001b[0m \u001b[0mtest_3_users\u001b[0m\u001b[1;33m(\u001b[0m\u001b[1;33m)\u001b[0m\u001b[1;33m:\u001b[0m\u001b[1;33m\u001b[0m\u001b[1;33m\u001b[0m\u001b[0m\n\u001b[1;32m----> 6\u001b[1;33m     \u001b[0mresponse\u001b[0m \u001b[1;33m=\u001b[0m \u001b[0mrequests\u001b[0m\u001b[1;33m.\u001b[0m\u001b[0mget\u001b[0m\u001b[1;33m(\u001b[0m\u001b[1;34mf\"https://jsonplaceholder.typicode.com/users/{userid}\"\u001b[0m\u001b[1;33m)\u001b[0m\u001b[1;33m\u001b[0m\u001b[1;33m\u001b[0m\u001b[0m\n\u001b[0m\u001b[0;32m      7\u001b[0m     \u001b[0mresponse_body\u001b[0m \u001b[1;33m=\u001b[0m \u001b[0mresponse\u001b[0m\u001b[1;33m.\u001b[0m\u001b[0mjson\u001b[0m\u001b[1;33m(\u001b[0m\u001b[1;33m)\u001b[0m\u001b[1;33m\u001b[0m\u001b[1;33m\u001b[0m\u001b[0m\n\u001b[0;32m      8\u001b[0m     \u001b[1;32massert\u001b[0m \u001b[0mresponse_body\u001b[0m\u001b[1;33m[\u001b[0m\u001b[1;34m'name'\u001b[0m\u001b[1;33m]\u001b[0m\u001b[1;33m==\u001b[0m\u001b[0mexpected_name\u001b[0m\u001b[1;33m\u001b[0m\u001b[1;33m\u001b[0m\u001b[0m\n",
      "\u001b[1;31mNameError\u001b[0m: name 'userid' is not defined"
     ]
    }
   ],
   "source": [
    "test_3_users()"
   ]
  },
  {
   "cell_type": "code",
   "execution_count": null,
   "id": "c5c4bfe3",
   "metadata": {},
   "outputs": [],
   "source": []
  }
 ],
 "metadata": {
  "kernelspec": {
   "display_name": "Python 3 (ipykernel)",
   "language": "python",
   "name": "python3"
  },
  "language_info": {
   "codemirror_mode": {
    "name": "ipython",
    "version": 3
   },
   "file_extension": ".py",
   "mimetype": "text/x-python",
   "name": "python",
   "nbconvert_exporter": "python",
   "pygments_lexer": "ipython3",
   "version": "3.8.5"
  }
 },
 "nbformat": 4,
 "nbformat_minor": 5
}
