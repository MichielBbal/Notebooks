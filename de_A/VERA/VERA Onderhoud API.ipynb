{
 "cells": [
  {
   "cell_type": "markdown",
   "id": "1604b759",
   "metadata": {},
   "source": [
    "# Reverse engineering de VERA Onderhoud API\n",
    "\n",
    "### Korte beschrijving werkwijze\n",
    "1. VERA heeft in januari 2022 de nieuwe OpenAPI specificaties gepubliceerd. Per domein wordt één API gepubliceerd op GitHub. Deze OpenAPI3 specificatie zijn flinke bestanden, circa 8000 regels code. In totaal zijn er dus 10 API's. \n",
    "2. In dit Notebook wordt de Vastgoed API ge-reverse-engineered zodat er inzicht komt in de dataobjecten in de VERA OpenAPI. Dit inzicht wordt verkregen door drie bestanden op te leveren: \n",
    "- een UML Class diagram gemaakt met PlantUML \n",
    "- een .csv bestand met de objecten en hun klassen\n",
    "- een json bestand."
   ]
  },
  {
   "cell_type": "markdown",
   "id": "db58621e",
   "metadata": {},
   "source": [
    "## 1. Basic info of the API and inspection"
   ]
  },
  {
   "cell_type": "code",
   "execution_count": 54,
   "id": "bac9c105",
   "metadata": {},
   "outputs": [
    {
     "data": {
      "text/plain": [
       "'C:\\\\Users\\\\31653\\\\Documents\\\\GitHub\\\\Notebooks\\\\VERA'"
      ]
     },
     "execution_count": 54,
     "metadata": {},
     "output_type": "execute_result"
    }
   ],
   "source": [
    "pwd"
   ]
  },
  {
   "cell_type": "code",
   "execution_count": 1,
   "id": "30320b91",
   "metadata": {},
   "outputs": [
    {
     "data": {
      "text/plain": [
       "['Algemeen.yaml',\n",
       " 'Dossier.yaml',\n",
       " 'Financien.yaml',\n",
       " 'Kwaliteit.yaml',\n",
       " 'Onderhoud.yaml',\n",
       " 'Overeenkomsten.yaml',\n",
       " 'Projectontwikkeling.yaml',\n",
       " 'Relaties.yaml',\n",
       " 'Vastgoed.yaml',\n",
       " 'Woonruimteverdeling.yaml']"
      ]
     },
     "execution_count": 1,
     "metadata": {},
     "output_type": "execute_result"
    }
   ],
   "source": [
    "import glob\n",
    "my_yamls=glob.glob('*.yaml')\n",
    "my_yamls"
   ]
  },
  {
   "cell_type": "code",
   "execution_count": 2,
   "id": "24d74874",
   "metadata": {},
   "outputs": [],
   "source": [
    "import yaml\n",
    "\n",
    "# load the spec file and read the yaml to create a python dictionary 'spec'\n",
    "with open('onderhoud.yaml') as f:\n",
    "    spec = yaml.safe_load(f.read())"
   ]
  },
  {
   "cell_type": "code",
   "execution_count": 3,
   "id": "f899120f",
   "metadata": {},
   "outputs": [
    {
     "data": {
      "text/plain": [
       "['openapi', 'info', 'servers', 'tags', 'paths', 'security', 'components']"
      ]
     },
     "execution_count": 3,
     "metadata": {},
     "output_type": "execute_result"
    }
   ],
   "source": [
    "list(spec)"
   ]
  },
  {
   "cell_type": "code",
   "execution_count": 4,
   "id": "2fd31945",
   "metadata": {},
   "outputs": [
    {
     "name": "stdout",
     "output_type": "stream",
     "text": [
      "3.0.0 VERA-Onderhoud 4.0\n"
     ]
    }
   ],
   "source": [
    "OAS_version =spec['openapi']\n",
    "API_name = spec['info']['title']\n",
    "API_version =spec['info']['version']\n",
    "print(OAS_version, API_name, API_version)"
   ]
  },
  {
   "cell_type": "markdown",
   "id": "d3aca70c",
   "metadata": {},
   "source": [
    "## 2. Getting the paths and endpoints"
   ]
  },
  {
   "cell_type": "code",
   "execution_count": 5,
   "id": "36c7bc81",
   "metadata": {},
   "outputs": [
    {
     "data": {
      "text/plain": [
       "17"
      ]
     },
     "execution_count": 5,
     "metadata": {},
     "output_type": "execute_result"
    }
   ],
   "source": [
    "#getting the paths\n",
    "paths = list(spec['paths'])\n",
    "len(paths)"
   ]
  },
  {
   "cell_type": "code",
   "execution_count": 6,
   "id": "2e2800b6",
   "metadata": {},
   "outputs": [
    {
     "data": {
      "text/plain": [
       "{'/ping': ['get'],\n",
       " '/defecten': ['get', 'post', 'put', 'patch'],\n",
       " '/defecten/{id}': ['get', 'put', 'patch'],\n",
       " '/inspectierapporten': ['get', 'post', 'put', 'patch'],\n",
       " '/inspectierapporten/{id}': ['get', 'put', 'patch'],\n",
       " '/onderhoudsbestedingen': ['get', 'post', 'put', 'patch'],\n",
       " '/onderhoudsbestedingen/{id}': ['get', 'put', 'patch'],\n",
       " '/onderhoudsorders': ['get', 'post', 'put', 'patch'],\n",
       " '/onderhoudsorders/{id}': ['get', 'put', 'patch'],\n",
       " '/onderhoudstaken': ['get', 'post', 'put', 'patch'],\n",
       " '/onderhoudstaken/{id}': ['get', 'put', 'patch'],\n",
       " '/onderhoudstaakvoorcalculaties': ['get', 'post', 'put', 'patch'],\n",
       " '/onderhoudstaakvoorcalculaties/{id}': ['get', 'put', 'patch'],\n",
       " '/onderhoudsverzoeken': ['get', 'post', 'put', 'patch'],\n",
       " '/onderhoudsverzoeken/{id}': ['get', 'put', 'patch'],\n",
       " '/standaardprijzen': ['get', 'post', 'put', 'patch'],\n",
       " '/standaardprijzen/{id}': ['get', 'put', 'patch']}"
      ]
     },
     "execution_count": 6,
     "metadata": {},
     "output_type": "execute_result"
    }
   ],
   "source": [
    "#getting the paths and http verbs\n",
    "endpoints_dict = {}\n",
    "for i in range (len(paths)):\n",
    "    endpoints_dict[paths[i]]=list(spec['paths'][paths[i]])\n",
    "endpoints_dict "
   ]
  },
  {
   "cell_type": "code",
   "execution_count": null,
   "id": "58012fb5",
   "metadata": {},
   "outputs": [],
   "source": []
  },
  {
   "cell_type": "markdown",
   "id": "67c4fdef",
   "metadata": {},
   "source": [
    "## 3. Getting the components"
   ]
  },
  {
   "cell_type": "code",
   "execution_count": 7,
   "id": "4d02c049",
   "metadata": {},
   "outputs": [
    {
     "name": "stdout",
     "output_type": "stream",
     "text": [
      "20\n"
     ]
    },
    {
     "data": {
      "text/plain": [
       "['Defect',\n",
       " 'Defect-sleutels',\n",
       " 'ExtraAttribuut',\n",
       " 'Foutbericht',\n",
       " 'Inspectierapport',\n",
       " 'Inspectierapport-sleutels',\n",
       " 'Onderhoudsbesteding',\n",
       " 'Onderhoudsbesteding-sleutels',\n",
       " 'Onderhoudsorder',\n",
       " 'Onderhoudsorder-sleutels',\n",
       " 'Onderhoudstaak',\n",
       " 'Onderhoudstaak-sleutels',\n",
       " 'Onderhoudstaakvoorcalculatie',\n",
       " 'Onderhoudstaakvoorcalculatie-sleutels',\n",
       " 'Onderhoudsverzoek',\n",
       " 'Onderhoudsverzoek-sleutels',\n",
       " 'Referentiedata',\n",
       " 'Referentiedata-sleutels',\n",
       " 'Standaardprijs',\n",
       " 'Standaardprijs-sleutels']"
      ]
     },
     "execution_count": 7,
     "metadata": {},
     "output_type": "execute_result"
    }
   ],
   "source": [
    "objects = list(spec['components']['schemas'])\n",
    "print(len(objects))\n",
    "objects.sort()\n",
    "objects"
   ]
  },
  {
   "cell_type": "code",
   "execution_count": 8,
   "id": "79bcec83",
   "metadata": {},
   "outputs": [
    {
     "data": {
      "text/plain": [
       "['Defect',\n",
       " 'ExtraAttribuut',\n",
       " 'Foutbericht',\n",
       " 'Inspectierapport',\n",
       " 'Onderhoudsbesteding',\n",
       " 'Onderhoudsorder',\n",
       " 'Onderhoudstaak',\n",
       " 'Onderhoudstaakvoorcalculatie',\n",
       " 'Onderhoudsverzoek',\n",
       " 'Referentiedata',\n",
       " 'Standaardprijs']"
      ]
     },
     "execution_count": 8,
     "metadata": {},
     "output_type": "execute_result"
    }
   ],
   "source": [
    "# super lambda function to remove '-sleutels' from the list of objects\n",
    "objects = [x for x in objects if \"-sleutels\" not in x ]\n",
    "objects"
   ]
  },
  {
   "cell_type": "code",
   "execution_count": null,
   "id": "452f8815",
   "metadata": {},
   "outputs": [],
   "source": []
  },
  {
   "cell_type": "code",
   "execution_count": null,
   "id": "0525e1f7",
   "metadata": {},
   "outputs": [],
   "source": []
  },
  {
   "cell_type": "code",
   "execution_count": 113,
   "id": "07863a7a",
   "metadata": {},
   "outputs": [
    {
     "data": {
      "text/plain": [
       "'allOf Geometrie'"
      ]
     },
     "execution_count": 113,
     "metadata": {},
     "output_type": "execute_result"
    }
   ],
   "source": [
    "my_string.replace('#/components/schemas/', 'allOf ')"
   ]
  },
  {
   "cell_type": "code",
   "execution_count": 85,
   "id": "899e2f87",
   "metadata": {},
   "outputs": [
    {
     "data": {
      "text/plain": [
       "{'$ref': '#/components/schemas/Geometrie'}"
      ]
     },
     "execution_count": 85,
     "metadata": {},
     "output_type": "execute_result"
    }
   ],
   "source": [
    "spec['components']['schemas']['Punt']['allOf'][0]"
   ]
  },
  {
   "cell_type": "code",
   "execution_count": 39,
   "id": "c5c2ae7f",
   "metadata": {},
   "outputs": [
    {
     "data": {
      "text/plain": [
       "{'type': 'object',\n",
       " 'properties': {'breedtegraad': {'type': 'number',\n",
       "   'format': 'float',\n",
       "   'description': 'De breedtegraad.'},\n",
       "  'lengtegraad': {'type': 'number',\n",
       "   'format': 'float',\n",
       "   'description': 'De lengtegraad.'},\n",
       "  'extra-attributen': {'description': 'Mogelijkheid om het bericht uit te breiden met attributen die nog niet in het logisch datamodel beschikbaar zijn',\n",
       "   'type': 'array',\n",
       "   'items': {'$ref': '#/components/schemas/ExtraAttribuut'}},\n",
       "  'informatieobjecten': {'type': 'string',\n",
       "   'format': 'uri',\n",
       "   'description': 'Referentie naar Informatieobject in de vorm: vera/v4/informatieobjecten/12345'}}}"
      ]
     },
     "execution_count": 39,
     "metadata": {},
     "output_type": "execute_result"
    }
   ],
   "source": [
    "punt_list = spec['components']['schemas']['Punt']['allOf']\n",
    "punt_list[1]"
   ]
  },
  {
   "cell_type": "code",
   "execution_count": 37,
   "id": "e019320a",
   "metadata": {},
   "outputs": [
    {
     "data": {
      "text/plain": [
       "['breedtegraad', 'lengtegraad', 'extra-attributen', 'informatieobjecten']"
      ]
     },
     "execution_count": 37,
     "metadata": {},
     "output_type": "execute_result"
    }
   ],
   "source": [
    "punt_list_dict = punt_list[1]\n",
    "list(punt_list_dict['properties'])"
   ]
  },
  {
   "cell_type": "code",
   "execution_count": 42,
   "id": "ad2cfef8",
   "metadata": {},
   "outputs": [
    {
     "data": {
      "text/plain": [
       "{'breedtegraad': {'type': 'number',\n",
       "  'format': 'float',\n",
       "  'description': 'De breedtegraad.'},\n",
       " 'lengtegraad': {'type': 'number',\n",
       "  'format': 'float',\n",
       "  'description': 'De lengtegraad.'},\n",
       " 'extra-attributen': {'description': 'Mogelijkheid om het bericht uit te breiden met attributen die nog niet in het logisch datamodel beschikbaar zijn',\n",
       "  'type': 'array',\n",
       "  'items': {'$ref': '#/components/schemas/ExtraAttribuut'}},\n",
       " 'informatieobjecten': {'type': 'string',\n",
       "  'format': 'uri',\n",
       "  'description': 'Referentie naar Informatieobject in de vorm: vera/v4/informatieobjecten/12345'}}"
      ]
     },
     "execution_count": 42,
     "metadata": {},
     "output_type": "execute_result"
    }
   ],
   "source": [
    "spec['components']['schemas']['Punt']['allOf'][1]['properties']"
   ]
  },
  {
   "cell_type": "code",
   "execution_count": null,
   "id": "3c406ca2",
   "metadata": {},
   "outputs": [],
   "source": []
  },
  {
   "cell_type": "code",
   "execution_count": 9,
   "id": "61d9a10a",
   "metadata": {},
   "outputs": [
    {
     "data": {
      "text/plain": [
       "{'Defect': ['id',\n",
       "  'idExtern',\n",
       "  'idGegevensbeheerder',\n",
       "  'code',\n",
       "  'soort',\n",
       "  'omschrijving',\n",
       "  'status',\n",
       "  'melddatum',\n",
       "  'aangetroffenOorzaak',\n",
       "  'bouwkundigElement',\n",
       "  'cluster',\n",
       "  'collectiefObject',\n",
       "  'eenheid',\n",
       "  'inspectierapport',\n",
       "  'locatie',\n",
       "  'onderhoudsverzoeken',\n",
       "  'oorzaak',\n",
       "  'relaties',\n",
       "  'extra-attributen',\n",
       "  'informatieobjecten'],\n",
       " 'ExtraAttribuut': ['naam', 'waarde'],\n",
       " 'Foutbericht': ['code', 'omschrijving'],\n",
       " 'Inspectierapport': ['id',\n",
       "  'idExtern',\n",
       "  'idGegevensbeheerder',\n",
       "  'code',\n",
       "  'soort',\n",
       "  'omschrijving',\n",
       "  'status',\n",
       "  'geconstateerdeDefecten',\n",
       "  'inspectieOrder',\n",
       "  'relaties',\n",
       "  'voorgesteldeOnderhoudstaken',\n",
       "  'extra-attributen',\n",
       "  'informatieobjecten'],\n",
       " 'Onderhoudsbesteding': ['id',\n",
       "  'idExtern',\n",
       "  'idGegevensbeheerder',\n",
       "  'code',\n",
       "  'soort',\n",
       "  'omschrijving',\n",
       "  'uitvoerdatum',\n",
       "  'uitvoerBegintijd',\n",
       "  'uitvoerEindtijd',\n",
       "  'aantal',\n",
       "  'bedrag',\n",
       "  'meeteenheid',\n",
       "  'onderhoudstaak',\n",
       "  'reistijd',\n",
       "  'extra-attributen',\n",
       "  'informatieobjecten'],\n",
       " 'Onderhoudsorder': ['id',\n",
       "  'idExtern',\n",
       "  'idGegevensbeheerder',\n",
       "  'code',\n",
       "  'onderhoudSoort',\n",
       "  'onderhoudDetailSoort',\n",
       "  'omschrijving',\n",
       "  'bovenliggendeOrder',\n",
       "  'status',\n",
       "  'begindatum',\n",
       "  'einddatum',\n",
       "  'uitersteStartdatum',\n",
       "  'uitersteGereeddatum',\n",
       "  'opdrachtdatum',\n",
       "  'afrekenwijze',\n",
       "  'afspraken',\n",
       "  'cluster',\n",
       "  'collectiefObject',\n",
       "  'debiteur',\n",
       "  'defecten',\n",
       "  'eenheid',\n",
       "  'financieelGereeddatum',\n",
       "  'offertes',\n",
       "  'onderhoudstaken',\n",
       "  'onderhoudsverzoeken',\n",
       "  'overeenkomst',\n",
       "  'relaties',\n",
       "  'technischGereeddatum',\n",
       "  'uitvoerendeSoort',\n",
       "  'extra-attributen',\n",
       "  'informatieobjecten'],\n",
       " 'Onderhoudstaak': ['id',\n",
       "  'idExtern',\n",
       "  'idGegevensbeheerder',\n",
       "  'code',\n",
       "  'omschrijving',\n",
       "  'status',\n",
       "  'detailStatus',\n",
       "  'afspraken',\n",
       "  'defecten',\n",
       "  'onderhoudsbestedingen',\n",
       "  'onderhoudsorder',\n",
       "  'onderhoudsverzoek',\n",
       "  'relaties',\n",
       "  'specialisme',\n",
       "  'voorcalculaties',\n",
       "  'extra-attributen',\n",
       "  'informatieobjecten'],\n",
       " 'Onderhoudstaakvoorcalculatie': ['id',\n",
       "  'idExtern',\n",
       "  'idGegevensbeheerder',\n",
       "  'code',\n",
       "  'bestedingsoort',\n",
       "  'omschrijving',\n",
       "  'aantal',\n",
       "  'bedrag',\n",
       "  'meeteenheid',\n",
       "  'onderhoudstaak',\n",
       "  'standaardprijs',\n",
       "  'extra-attributen',\n",
       "  'informatieobjecten'],\n",
       " 'Onderhoudsverzoek': ['id',\n",
       "  'idExtern',\n",
       "  'idGegevensbeheerder',\n",
       "  'code',\n",
       "  'onderhoudSoort',\n",
       "  'omschrijving',\n",
       "  'status',\n",
       "  'melddatum',\n",
       "  'alternatiefContactgegeven',\n",
       "  'contactmomenten',\n",
       "  'defecten',\n",
       "  'onderhoudsorders',\n",
       "  'onderhoudstaken',\n",
       "  'onderhoudsverzoeken',\n",
       "  'relaties',\n",
       "  'voorkeurAfspraken',\n",
       "  'extra-attributen',\n",
       "  'informatieobjecten'],\n",
       " 'Referentiedata': ['id',\n",
       "  'idExtern',\n",
       "  'idGegevensbeheerder',\n",
       "  'code',\n",
       "  'soort',\n",
       "  'naam',\n",
       "  'omschrijving',\n",
       "  'parent',\n",
       "  'begindatum',\n",
       "  'einddatum',\n",
       "  'sortering'],\n",
       " 'Standaardprijs': ['id',\n",
       "  'idExtern',\n",
       "  'idGegevensbeheerder',\n",
       "  'code',\n",
       "  'omschrijving',\n",
       "  'aantal',\n",
       "  'bedrag',\n",
       "  'meeteenheid',\n",
       "  'onderhoudstaakvoorcalculaties',\n",
       "  'extra-attributen',\n",
       "  'informatieobjecten']}"
      ]
     },
     "execution_count": 9,
     "metadata": {},
     "output_type": "execute_result"
    }
   ],
   "source": [
    "#creating a dictionary with objects and their properties\n",
    "object_dict ={}\n",
    "#objects = list(spec['components']['schemas'])\n",
    "for i in range (len(objects)):\n",
    "    try:\n",
    "        object_dict[objects[i]]=list(spec['components']['schemas'][objects[i]]['properties'])#['properties']\n",
    "    except:\n",
    "        my_list= []\n",
    "        my_dict = spec['components']['schemas'][objects[i]]['allOf'][0]\n",
    "        for key, value in my_dict.items():\n",
    "            my_string = str(value)\n",
    "        my_string = my_string.replace('#/components/schemas/', 'allOf: ')\n",
    "        my_list.append(my_string)\n",
    "        object_dict[objects[i]] = my_list+list(spec['components']['schemas'][objects[i]]['allOf'][1]['properties'])\n",
    "object_dict "
   ]
  },
  {
   "cell_type": "code",
   "execution_count": null,
   "id": "f62144a2",
   "metadata": {},
   "outputs": [],
   "source": []
  },
  {
   "cell_type": "markdown",
   "id": "94059d5c",
   "metadata": {},
   "source": [
    "## 4. Saving as plantuml, .csv and .json"
   ]
  },
  {
   "cell_type": "markdown",
   "id": "338c01cc",
   "metadata": {},
   "source": [
    "### 4a. Creating a plantuml file"
   ]
  },
  {
   "cell_type": "code",
   "execution_count": 37,
   "id": "75376d9f",
   "metadata": {},
   "outputs": [],
   "source": [
    "textfile = open(API_name+\"_API_plantuml.txt\", \"w\")\n",
    "textfile.write('@startuml\\n')\n",
    "for key, value in object_dict.items():\n",
    "    textfile.write('class '+str(key) +'{\\n')\n",
    "    for i in range (len(value)):\n",
    "        textfile.write(value[i] + \"\\n\")\n",
    "    textfile.write('}\\n')\n",
    "#textfile.write('}\\n')\n",
    "textfile.write('@enduml')\n",
    "textfile.close() "
   ]
  },
  {
   "cell_type": "code",
   "execution_count": 38,
   "id": "ff2368ea",
   "metadata": {},
   "outputs": [
    {
     "data": {
      "text/plain": [
       "['VERA-Onderhoud_API_plantuml.txt']"
      ]
     },
     "execution_count": 38,
     "metadata": {},
     "output_type": "execute_result"
    }
   ],
   "source": [
    "import glob\n",
    "my_txts = glob.glob('*.txt')\n",
    "my_txts"
   ]
  },
  {
   "cell_type": "code",
   "execution_count": 22,
   "id": "8407d54b",
   "metadata": {},
   "outputs": [
    {
     "data": {
      "text/plain": [
       "'C:\\\\Users\\\\31653\\\\Documents\\\\GitHub\\\\Notebooks\\\\de_alliantie\\\\VERA'"
      ]
     },
     "execution_count": 22,
     "metadata": {},
     "output_type": "execute_result"
    }
   ],
   "source": [
    "pwd"
   ]
  },
  {
   "cell_type": "code",
   "execution_count": 48,
   "id": "35d50c3c",
   "metadata": {},
   "outputs": [],
   "source": [
    "#check the plantuml file manually\n",
    "%pycat C:\\\\Users\\\\31653\\\\Documents\\\\GitHub\\\\Notebooks\\\\de_alliantie\\\\VERA\\VERA-Onderhoud_API_plantuml.txt"
   ]
  },
  {
   "cell_type": "code",
   "execution_count": 40,
   "id": "23799ffd",
   "metadata": {},
   "outputs": [
    {
     "name": "stdout",
     "output_type": "stream",
     "text": [
      "[{'filename': 'VERA-Onderhoud_API_plantuml.txt', 'gen_success': True}]\n"
     ]
    }
   ],
   "source": [
    "#convert the txt file to an .png image using plantuml\n",
    "!python -m plantuml VERA-Onderhoud_API_plantuml.txt"
   ]
  },
  {
   "cell_type": "code",
   "execution_count": 41,
   "id": "5d7a12fd",
   "metadata": {
    "scrolled": false
   },
   "outputs": [
    {
     "data": {
      "image/png": "[encoded data removed]",
      "text/plain": [
       "<IPython.core.display.Image object>"
      ]
     },
     "execution_count": 41,
     "metadata": {
      "image/png": {
       "height": 800,
       "width": 1000
      }
     },
     "output_type": "execute_result"
    }
   ],
   "source": [
    "#show the generated png\n",
    "from IPython import display\n",
    "display.Image(filename=\"VERA-Onderhoud_API_plantuml.png\", width=1000, height=800)"
   ]
  },
  {
   "cell_type": "markdown",
   "id": "fb9f83ff",
   "metadata": {},
   "source": [
    "### 4b. Saving as a .csv file"
   ]
  },
  {
   "cell_type": "code",
   "execution_count": 29,
   "id": "530723af",
   "metadata": {},
   "outputs": [],
   "source": [
    "with open(API_name+\"_API_objecten.csv\", mode=\"w\") as my_csv:\n",
    "    for key, value in object_dict.items():\n",
    "        my_csv.write(str(key)+\";\")\n",
    "        for i in range (len(value)-1):\n",
    "            my_csv.write(value[i]+\",\")#write values + a comma  \n",
    "        my_csv.write(value[-1]+\"\\n\") #write last value (and no comma)"
   ]
  },
  {
   "cell_type": "code",
   "execution_count": 35,
   "id": "88d48140",
   "metadata": {},
   "outputs": [
    {
     "data": {
      "text/plain": [
       "'C:\\\\Users\\\\31653\\\\Documents\\\\GitHub\\\\Notebooks\\\\de_alliantie\\\\VERA'"
      ]
     },
     "execution_count": 35,
     "metadata": {},
     "output_type": "execute_result"
    }
   ],
   "source": [
    "pwd"
   ]
  },
  {
   "cell_type": "code",
   "execution_count": 33,
   "id": "a4be59f9",
   "metadata": {},
   "outputs": [
    {
     "data": {
      "text/plain": [
       "['VERA-Onderhoud_API_objecten.csv']"
      ]
     },
     "execution_count": 33,
     "metadata": {},
     "output_type": "execute_result"
    }
   ],
   "source": [
    "import glob\n",
    "my_csvs=glob.glob('*.csv')\n",
    "my_csvs"
   ]
  },
  {
   "cell_type": "code",
   "execution_count": 36,
   "id": "c223d096",
   "metadata": {},
   "outputs": [],
   "source": [
    "#check the plantuml file manually\n",
    "%pycat C:\\\\Users\\\\31653\\\\Documents\\\\GitHub\\\\Notebooks\\\\de_alliantie\\\\VERA\\\\VERA-Onderhoud_API_objecten.csv"
   ]
  },
  {
   "cell_type": "markdown",
   "id": "5fa6745a",
   "metadata": {},
   "source": [
    "### 4c. Saving as a .json file"
   ]
  },
  {
   "cell_type": "code",
   "execution_count": 43,
   "id": "9064c412",
   "metadata": {},
   "outputs": [
    {
     "name": "stdout",
     "output_type": "stream",
     "text": [
      "{\n",
      "    \"Defect\": [\n",
      "        \"id\",\n",
      "        \"idExtern\",\n",
      "        \"idGegevensbeheerder\",\n",
      "        \"code\",\n",
      "        \"soort\",\n",
      "        \"omschrijving\",\n",
      "        \"status\",\n",
      "        \"melddatum\",\n",
      "        \"aangetroffenOorzaak\",\n",
      "        \"bouwkundigElement\",\n",
      "        \"cluster\",\n",
      "        \"collectiefObject\",\n",
      "        \"eenheid\",\n",
      "        \"inspectierapport\",\n",
      "        \"locatie\",\n",
      "        \"onderhoudsverzoeken\",\n",
      "        \"oorzaak\",\n",
      "        \"relaties\",\n",
      "        \"extra-attributen\",\n",
      "        \"informatieobjecten\"\n",
      "    ],\n",
      "    \"ExtraAttribuut\": [\n",
      "        \"naam\",\n",
      "        \"waarde\"\n",
      "    ],\n",
      "    \"Foutbericht\": [\n",
      "        \"code\",\n",
      "        \"omschrijving\"\n",
      "    ],\n",
      "    \"Inspectierapport\": [\n",
      "        \"id\",\n",
      "        \"idExtern\",\n",
      "        \"idGegevensbeheerder\",\n",
      "        \"code\",\n",
      "        \"soort\",\n",
      "        \"omschrijving\",\n",
      "        \"status\",\n",
      "        \"geconstateerdeDefecten\",\n",
      "        \"inspectieOrder\",\n",
      "        \"relaties\",\n",
      "        \"voorgesteldeOnderhoudstaken\",\n",
      "        \"extra-attributen\",\n",
      "        \"informatieobjecten\"\n",
      "    ],\n",
      "    \"Onderhoudsbesteding\": [\n",
      "        \"id\",\n",
      "        \"idExtern\",\n",
      "        \"idGegevensbeheerder\",\n",
      "        \"code\",\n",
      "        \"soort\",\n",
      "        \"omschrijving\",\n",
      "        \"uitvoerdatum\",\n",
      "        \"uitvoerBegintijd\",\n",
      "        \"uitvoerEindtijd\",\n",
      "        \"aantal\",\n",
      "        \"bedrag\",\n",
      "        \"meeteenheid\",\n",
      "        \"onderhoudstaak\",\n",
      "        \"reistijd\",\n",
      "        \"extra-attributen\",\n",
      "        \"informatieobjecten\"\n",
      "    ],\n",
      "    \"Onderhoudsorder\": [\n",
      "        \"id\",\n",
      "        \"idExtern\",\n",
      "        \"idGegevensbeheerder\",\n",
      "        \"code\",\n",
      "        \"onderhoudSoort\",\n",
      "        \"onderhoudDetailSoort\",\n",
      "        \"omschrijving\",\n",
      "        \"bovenliggendeOrder\",\n",
      "        \"status\",\n",
      "        \"begindatum\",\n",
      "        \"einddatum\",\n",
      "        \"uitersteStartdatum\",\n",
      "        \"uitersteGereeddatum\",\n",
      "        \"opdrachtdatum\",\n",
      "        \"afrekenwijze\",\n",
      "        \"afspraken\",\n",
      "        \"cluster\",\n",
      "        \"collectiefObject\",\n",
      "        \"debiteur\",\n",
      "        \"defecten\",\n",
      "        \"eenheid\",\n",
      "        \"financieelGereeddatum\",\n",
      "        \"offertes\",\n",
      "        \"onderhoudstaken\",\n",
      "        \"onderhoudsverzoeken\",\n",
      "        \"overeenkomst\",\n",
      "        \"relaties\",\n",
      "        \"technischGereeddatum\",\n",
      "        \"uitvoerendeSoort\",\n",
      "        \"extra-attributen\",\n",
      "        \"informatieobjecten\"\n",
      "    ],\n",
      "    \"Onderhoudstaak\": [\n",
      "        \"id\",\n",
      "        \"idExtern\",\n",
      "        \"idGegevensbeheerder\",\n",
      "        \"code\",\n",
      "        \"omschrijving\",\n",
      "        \"status\",\n",
      "        \"detailStatus\",\n",
      "        \"afspraken\",\n",
      "        \"defecten\",\n",
      "        \"onderhoudsbestedingen\",\n",
      "        \"onderhoudsorder\",\n",
      "        \"onderhoudsverzoek\",\n",
      "        \"relaties\",\n",
      "        \"specialisme\",\n",
      "        \"voorcalculaties\",\n",
      "        \"extra-attributen\",\n",
      "        \"informatieobjecten\"\n",
      "    ],\n",
      "    \"Onderhoudstaakvoorcalculatie\": [\n",
      "        \"id\",\n",
      "        \"idExtern\",\n",
      "        \"idGegevensbeheerder\",\n",
      "        \"code\",\n",
      "        \"bestedingsoort\",\n",
      "        \"omschrijving\",\n",
      "        \"aantal\",\n",
      "        \"bedrag\",\n",
      "        \"meeteenheid\",\n",
      "        \"onderhoudstaak\",\n",
      "        \"standaardprijs\",\n",
      "        \"extra-attributen\",\n",
      "        \"informatieobjecten\"\n",
      "    ],\n",
      "    \"Onderhoudsverzoek\": [\n",
      "        \"id\",\n",
      "        \"idExtern\",\n",
      "        \"idGegevensbeheerder\",\n",
      "        \"code\",\n",
      "        \"onderhoudSoort\",\n",
      "        \"omschrijving\",\n",
      "        \"status\",\n",
      "        \"melddatum\",\n",
      "        \"alternatiefContactgegeven\",\n",
      "        \"contactmomenten\",\n",
      "        \"defecten\",\n",
      "        \"onderhoudsorders\",\n",
      "        \"onderhoudstaken\",\n",
      "        \"onderhoudsverzoeken\",\n",
      "        \"relaties\",\n",
      "        \"voorkeurAfspraken\",\n",
      "        \"extra-attributen\",\n",
      "        \"informatieobjecten\"\n",
      "    ],\n",
      "    \"Referentiedata\": [\n",
      "        \"id\",\n",
      "        \"idExtern\",\n",
      "        \"idGegevensbeheerder\",\n",
      "        \"code\",\n",
      "        \"soort\",\n",
      "        \"naam\",\n",
      "        \"omschrijving\",\n",
      "        \"parent\",\n",
      "        \"begindatum\",\n",
      "        \"einddatum\",\n",
      "        \"sortering\"\n",
      "    ],\n",
      "    \"Standaardprijs\": [\n",
      "        \"id\",\n",
      "        \"idExtern\",\n",
      "        \"idGegevensbeheerder\",\n",
      "        \"code\",\n",
      "        \"omschrijving\",\n",
      "        \"aantal\",\n",
      "        \"bedrag\",\n",
      "        \"meeteenheid\",\n",
      "        \"onderhoudstaakvoorcalculaties\",\n",
      "        \"extra-attributen\",\n",
      "        \"informatieobjecten\"\n",
      "    ]\n",
      "}\n"
     ]
    }
   ],
   "source": [
    "#converting the python dict to a JSON \n",
    "import json \n",
    "      \n",
    "# Serializing json  \n",
    "json_object = json.dumps(object_dict, indent = 4) \n",
    "print(json_object)"
   ]
  },
  {
   "cell_type": "code",
   "execution_count": 46,
   "id": "e80984a2",
   "metadata": {},
   "outputs": [],
   "source": [
    "#save as a .json file\n",
    "import json\n",
    "with open(API_name+'_API_objecten.json', 'w', encoding='utf-8') as f:\n",
    "    json.dump(json_object, f, ensure_ascii=False, indent=4)"
   ]
  },
  {
   "cell_type": "code",
   "execution_count": 47,
   "id": "b6f02e9c",
   "metadata": {},
   "outputs": [
    {
     "data": {
      "text/plain": [
       "['VERA-Onderhoud_API_objecten.json']"
      ]
     },
     "execution_count": 47,
     "metadata": {},
     "output_type": "execute_result"
    }
   ],
   "source": [
    "import glob\n",
    "my_jsons = glob.glob('*.json')\n",
    "my_jsons"
   ]
  },
  {
   "cell_type": "code",
   "execution_count": null,
   "id": "1c319d1b",
   "metadata": {},
   "outputs": [],
   "source": []
  }
 ],
 "metadata": {
  "kernelspec": {
   "display_name": "Python 3 (ipykernel)",
   "language": "python",
   "name": "python3"
  },
  "language_info": {
   "codemirror_mode": {
    "name": "ipython",
    "version": 3
   },
   "file_extension": ".py",
   "mimetype": "text/x-python",
   "name": "python",
   "nbconvert_exporter": "python",
   "pygments_lexer": "ipython3",
   "version": "3.8.5"
  }
 },
 "nbformat": 4,
 "nbformat_minor": 5
}
