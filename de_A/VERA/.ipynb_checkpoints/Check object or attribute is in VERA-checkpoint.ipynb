{
 "cells": [
  {
   "cell_type": "markdown",
   "id": "f86a33ab",
   "metadata": {},
   "source": [
    "## Notebook to see of an object or attribute is in VERA\n",
    "\n",
    "1. One item in one json\n",
    "2. One item in all json files\n",
    "3. A list of items in all json files\n",
    "4. Check if API objects are in VERA\n",
    "5. Check if API attributes are in VERA\n",
    "\n",
    "\n",
    "### Short instruction\n",
    "\n",
    "Take an attribute, object or list of/file with objects/attributes and check whether each element is in vera.\n",
    "\n",
    "### To do"
   ]
  },
  {
   "cell_type": "markdown",
   "id": "c32f32c8",
   "metadata": {},
   "source": [
    "## 1. One item in one json\n",
    "\n",
    "Object: Eenheid\n",
    "JSON: Vastgoed API"
   ]
  },
  {
   "cell_type": "code",
   "execution_count": 2,
   "id": "0e67626f",
   "metadata": {},
   "outputs": [
    {
     "data": {
      "text/plain": [
       "['VERA-Dossier_API_objecten.json',\n",
       " 'VERA-Financien_API_objecten.json',\n",
       " 'VERA-Kwaliteit_API_objecten.json',\n",
       " 'VERA-Onderhoud_API_objecten.json',\n",
       " 'VERA-Overeenkomsten_API_objecten.json',\n",
       " 'VERA-Projectontwikkeling_API_objecten.json',\n",
       " 'VERA-Relaties_API_objecten.json',\n",
       " 'VERA-Vastgoed_API_data.json',\n",
       " 'VERA-Woonruimteverdeling_API_objecten.json']"
      ]
     },
     "execution_count": 2,
     "metadata": {},
     "output_type": "execute_result"
    }
   ],
   "source": [
    "# Load the json files that are created by reverse engineering the VERA API's.\n",
    "import glob\n",
    "my_jsons = glob.glob(\"*.json\")\n",
    "my_jsons"
   ]
  },
  {
   "cell_type": "code",
   "execution_count": 3,
   "id": "87d344bf",
   "metadata": {},
   "outputs": [
    {
     "name": "stdout",
     "output_type": "stream",
     "text": [
      "object is in json: VERA-Vastgoed_API_data.json\n",
      "object is in json: VERA-Vastgoed_API_data.json\n"
     ]
    }
   ],
   "source": [
    "# load the json into a python dictionary\n",
    "import json\n",
    "\n",
    "#object_to_check = 'Eenheid'\n",
    "object_to_check = 'detailStatus'\n",
    "\n",
    "with open('VERA-Vastgoed_API_data.json') as json_file:\n",
    "    data = json.load(json_file)\n",
    "#convert to a dict   \n",
    "my_dict = json.loads(data)\n",
    "my_key_list =[]\n",
    "for key in my_dict.keys():\n",
    "    my_key_list.append(key)\n",
    "if object_to_check in my_key_list:\n",
    "    print('object to check is object in json')\n",
    "my_value_list =[]\n",
    "for value in my_dict.values():\n",
    "    my_value_list.append(value)\n",
    "\n",
    "for i in range (len(my_value_list)):\n",
    "    if object_to_check in my_value_list[i]:\n",
    "        print('object is in json: '+str(json_file.name))"
   ]
  },
  {
   "cell_type": "code",
   "execution_count": 4,
   "id": "0b74c7c2",
   "metadata": {},
   "outputs": [
    {
     "data": {
      "text/plain": [
       "True"
      ]
     },
     "execution_count": 4,
     "metadata": {},
     "output_type": "execute_result"
    }
   ],
   "source": [
    "# simple check if a KEY is in the dictionary\n",
    "import json\n",
    "\n",
    "object_to_check = 'Eenheid'\n",
    "#object_to_check = 'detailStatus'\n",
    "\n",
    "with open('VERA-Vastgoed_API_data.json') as json_file:\n",
    "    data = json.load(json_file)\n",
    "#convert to a dict   \n",
    "my_dict = json.loads(data)\n",
    "object_to_check in my_dict "
   ]
  },
  {
   "cell_type": "code",
   "execution_count": 5,
   "id": "dda77818",
   "metadata": {},
   "outputs": [
    {
     "name": "stdout",
     "output_type": "stream",
     "text": [
      "Adres has attributes: ['id', 'idExtern', 'idGegevensbeheerder', 'code', 'soort', 'adres', 'huisletter', 'huisnummer', 'huisnummerToevoeging', 'postcode', 'straatnaam', 'extra-attributen', 'informatieobjecten'] \n",
      "\n",
      "AdresseerbaarObjectBasisregistratie has attributes: ['id', 'idExtern', 'idGegevensbeheerder', 'code', 'bagGebruikersOppervlakte', 'bagGebruiksdoelen', 'bagHoofdadres', 'bagIdentificatie', 'bagInOnderzoek', 'bagNevenadressen', 'bagOfficieel', 'bagOppervlakteVerblijfsobject', 'bagPandenBasisregistratie', 'bagStatus', 'geometrie', 'extra-attributen', 'informatieobjecten'] \n",
      "\n",
      "BagAdres has attributes: ['id', 'idExtern', 'idGegevensbeheerder', 'code', 'bagNummeraanduidingIdentificatie', 'bagOpenbareRuimteIdentificatie', 'bagNummeraanduidingInOnderzoek', 'bagNummeraanduidingOfficieel', 'bagNummeraanduidingStatus', 'bagOpenbareRuimteInOnderzoek', 'bagOpenbareruimteOfficieel', 'bagOpenbareruimtestatus', 'extra-attributen', 'informatieobjecten'] \n",
      "\n",
      "BagPand has attributes: ['id', 'idExtern', 'idGegevensbeheerder', 'code', 'bagIdentificatie', 'bagStatus', 'bagInOnderzoek', 'bagOfficieel', 'bagBouwdatum', 'extra-attributen', 'informatieobjecten'] \n",
      "\n",
      "BagWoonplaats has attributes: ['id', 'idExtern', 'idGegevensbeheerder', 'code', 'bagIdentificatie', 'bagStatus', 'bagInOnderzoek', 'bagOfficieel', 'extra-attributen', 'informatieobjecten'] \n",
      "\n",
      "Beleidswaarde has attributes: ['id', 'idExtern', 'idGegevensbeheerder', 'code', 'achterstalligOnderhoud', 'afkoopErfpacht', 'beheerAfslag', 'beheerskosten', 'beschikbaarheidAfslag', 'betaalbaarheidAfslag', 'eenheid', 'kwaliteitAfslag', 'marktwaarde', 'onderhoudskosten', 'streefhuur', 'waarde', 'extra-attributen', 'informatieobjecten'] \n",
      "\n",
      "Bouwdeel has attributes: ['id', 'idExtern', 'idGegevensbeheerder', 'code', 'naam', 'omschrijving', 'bouwdelen', 'bouwkundigeElementen', 'collectieveObjecten', 'eenheden', 'gebouw', 'pand', 'extra-attributen', 'informatieobjecten'] \n",
      "\n",
      "BouwkundigElement has attributes: ['id', 'idExtern', 'idGegevensbeheerder', 'code', 'naam', 'omschrijving', 'bouwdeel', 'garanties', 'relaties', 'extra-attributen', 'informatieobjecten'] \n",
      "\n",
      "BuitenlandsAdres has attributes: ['allOf: Adres', 'adresregel1', 'adresregel2', 'land', 'postbusnummer', 'provincie', 'woonplaats', 'extra-attributen', 'informatieobjecten'] \n",
      "\n",
      "Buurt has attributes: ['id', 'idExtern', 'idGegevensbeheerder', 'code', 'naam', 'omschrijving', 'eenheden', 'gebouwen', 'geometrie', 'relaties', 'wijk', 'extra-attributen', 'informatieobjecten'] \n",
      "\n",
      "Cluster has attributes: ['id', 'idExtern', 'idGegevensbeheerder', 'code', 'soort', 'naam', 'omschrijving', 'bovenliggendeCluster', 'begindatum', 'einddatum', 'collectieveObjecten', 'conditiemeting', 'eenheden', 'garanties', 'geometrie', 'relaties', 'extra-attributen', 'informatieobjecten'] \n",
      "\n",
      "CollectiefObject has attributes: ['id', 'idExtern', 'idGegevensbeheerder', 'code', 'soort', 'naam', 'adres', 'bouwdelen', 'clusters', 'eenheden', 'garanties', 'relaties', 'extra-attributen', 'informatieobjecten'] \n",
      "\n",
      "Conditiemeting has attributes: ['id', 'idExtern', 'idGegevensbeheerder', 'code', 'begindatum', 'einddatum', 'conditiescore', 'extra-attributen', 'informatieobjecten'] \n",
      "\n",
      "Eenheid has attributes: ['id', 'idExtern', 'idGegevensbeheerder', 'code', 'soort', 'detailSoort', 'naam', 'omschrijving', 'bouwnummer', 'status', 'detailStatus', 'inExploitatiedatum', 'uitExploitatiedatum', 'beginBouwdatum', 'opleverdatum', 'aantalOnzelfstandigeEenheden', 'aanvullendeDoelgroep', 'adres', 'adresseerbaarObjectBasisregistratie', 'beleidswaarde', 'benodigdeAfspraakverzoeken', 'beoogdUitExploitatieDatum', 'bestemming', 'bouwdelen', 'bovenliggendeEenheid', 'brutohuur', 'buitenruimten', 'clusters', 'collectieveObjecten', 'doelgroep', 'energieprestatie', 'energievoorzieningen', 'etage', 'gebouw', 'gebruiksoppervlakte', 'inExploitatieReden', 'interieur', 'isolatie', 'juridischEigendomspercentage', 'kadastraalNummer', 'kamersAantal', 'klimaatbeheersing', 'kwaliteitsniveau', 'ligging', 'liggingTuin', 'maatschappelijkLabel', 'marktlabel', 'marktwaarde', 'monumenten', 'nevenadressen', 'onderhoudslabel', 'overeenkomsten', 'overigeVertrekkenTotaalOppervlakte', 'panden', 'prestatieafspraken', 'prijscomponenten', 'prijsconditie', 'publicatie', 'publicatieLabel', 'rekenhuur', 'relaties', 'renovatie', 'sanitair', 'situering', 'streefhuur', 'taxaties', 'toegankelijkheidslabel', 'totaalInhoud', 'totaleOppervlakte', 'uitExploitatieReden', 'verkoop', 'vertrekken', 'vertrekkenAantal', 'verwarmdeVertrekkenAantal', 'volgnummer', 'voorwaarden', 'vraagprijs', 'woningwaarderingResultaat', 'woonvertrekInhoud', 'woonvertrekkenTotaalOppervlakte', 'woonvorm', 'wozEenheden', 'zekerheidVerpandingen', 'zelfstandig', 'zorgfaciliteitOmschrijving', 'extra-attributen', 'informatieobjecten'] \n",
      "\n",
      "EenheidToestand has attributes: ['id', 'idExtern', 'idGegevensbeheerder', 'code', 'status', 'detailStatus', 'begindatum', 'einddatum', 'eenheid', 'extra-attributen', 'informatieobjecten'] \n",
      "\n",
      "EenheidVoorwaarden has attributes: ['id', 'idExtern', 'idGegevensbeheerder', 'code', 'maximumAantalPersonen', 'maximuminkomen', 'maximunleeftijd', 'minimumAantalPersonen', 'minimuminkomen', 'minimumleeftijd', 'selectiecriteria', 'voorrangscriteria', 'extra-attributen', 'informatieobjecten'] \n",
      "\n",
      "Eenheidadres has attributes: ['allOf: Adres', 'bag', 'buurt', 'gemeente', 'geometrie', 'land', 'provincie', 'wijk', 'woonplaats', 'extra-attributen', 'informatieobjecten'] \n",
      "\n",
      "Energieprestatie has attributes: ['id', 'idExtern', 'idGegevensbeheerder', 'code', 'begindatum', 'einddatum', 'eenheid', 'index', 'label', 'relatie', 'extra-attributen', 'informatieobjecten'] \n",
      "\n",
      "ExtraAttribuut has attributes: ['naam', 'waarde'] \n",
      "\n",
      "Foutbericht has attributes: ['code', 'omschrijving'] \n",
      "\n",
      "Garantie has attributes: ['id', 'idExtern', 'idGegevensbeheerder', 'code', 'omschrijving', 'begindatum', 'einddatum', 'bouwdelen', 'bouwkundigeElementen', 'clusters', 'collectieveObjecten', 'eenheden', 'overeenkomst', 'relatie', 'extra-attributen', 'informatieobjecten'] \n",
      "\n",
      "Gebouw has attributes: ['id', 'idExtern', 'idGegevensbeheerder', 'code', 'naam', 'omschrijving', 'bouwdelen', 'buurt', 'corporatieBuurt', 'corporatieWijk', 'eenheden', 'panden', 'wijk', 'extra-attributen', 'informatieobjecten'] \n",
      "\n",
      "Gemeente has attributes: ['id', 'idExtern', 'idGegevensbeheerder', 'code', 'naam', 'geometrie', 'provincie', 'stadsdelen', 'woonplaatsen', 'extra-attributen', 'informatieobjecten'] \n",
      "\n",
      "Geometrie has attributes: ['id', 'idExtern', 'idGegevensbeheerder', 'code', 'soort', 'omschrijving', 'extra-attributen', 'informatieobjecten'] \n",
      "\n",
      "KadasterPerceel has attributes: ['id', 'idExtern', 'idGegevensbeheerder', 'code', 'extra-attributen', 'informatieobjecten'] \n",
      "\n",
      "Marktwaarde has attributes: ['id', 'idExtern', 'idGegevensbeheerder', 'code', 'beheersKosten', 'contractJaarhuur', 'disconteringsvoet', 'doorexploiterenDisconteringsvoet', 'eenheid', 'leegwaarde', 'marktJaarhuur', 'onderhoudsKosten', 'verhuurderheffing', 'verslagJaar', 'waarde', 'extra-attributen', 'informatieobjecten'] \n",
      "\n",
      "Pand has attributes: ['id', 'idExtern', 'idGegevensbeheerder', 'code', 'status', 'adresseerbareObjectenBasisregistratie', 'bag', 'bouwdelen', 'eenheden', 'gebouw', 'geometrie', 'kavelOppervlakte', 'liftAanwezig', 'renovatie', 'extra-attributen', 'informatieobjecten'] \n",
      "\n",
      "Postadres has attributes: ['allOf: Adres', 'antwoordnummer', 'postbusnummer', 'woonplaats', 'extra-attributen', 'informatieobjecten'] \n",
      "\n",
      "Punt has attributes: ['allOf: Geometrie', 'breedtegraad', 'lengtegraad', 'extra-attributen', 'informatieobjecten'] \n",
      "\n",
      "Referentiedata has attributes: ['id', 'idExtern', 'idGegevensbeheerder', 'code', 'soort', 'naam', 'omschrijving', 'parent', 'begindatum', 'einddatum', 'sortering'] \n",
      "\n",
      "Renovatie has attributes: ['id', 'idExtern', 'idGegevensbeheerder', 'code', 'omschrijving', 'datum', 'eenheden', 'panden', 'extra-attributen', 'informatieobjecten'] \n",
      "\n",
      "Stadsdeel has attributes: ['id', 'idExtern', 'idGegevensbeheerder', 'code', 'naam', 'gemeente', 'geometrie', 'wijken', 'extra-attributen', 'informatieobjecten'] \n",
      "\n",
      "Taxatie has attributes: ['id', 'idExtern', 'idGegevensbeheerder', 'code', 'soort', 'datum', 'eenheid', 'waarde', 'extra-attributen', 'informatieobjecten'] \n",
      "\n",
      "Vertrek has attributes: ['id', 'idExtern', 'idGegevensbeheerder', 'code', 'soort', 'naam', 'eenheid', 'inhoud', 'oppervlakte', 'extra-attributen', 'informatieobjecten'] \n",
      "\n",
      "Wijk has attributes: ['id', 'idExtern', 'idGegevensbeheerder', 'code', 'naam', 'omschrijving', 'buurten', 'geometrie', 'relaties', 'stadsdeel', 'woonplaats', 'extra-attributen', 'informatieobjecten'] \n",
      "\n",
      "Woningwaardering has attributes: ['id', 'idExtern', 'idGegevensbeheerder', 'code', 'begindatum', 'einddatum', 'aantal', 'criterium', 'eenheid', 'groep', 'punten', 'extra-attributen', 'informatieobjecten'] \n",
      "\n",
      "WoningwaarderingCriterium has attributes: ['id', 'idExtern', 'idGegevensbeheerder', 'code', 'naam', 'criteriumGroep', 'meeteenheid', 'stelsel', 'extra-attributen', 'informatieobjecten'] \n",
      "\n",
      "WoningwaarderingCriteriumGroep has attributes: ['id', 'idExtern', 'idGegevensbeheerder', 'code', 'naam', 'omschrijving', 'criteria', 'soort', 'stelsel', 'extra-attributen', 'informatieobjecten'] \n",
      "\n",
      "WoningwaarderingGroep has attributes: ['id', 'idExtern', 'idGegevensbeheerder', 'code', 'begindatum', 'einddatum', 'criteriumGroep', 'eenheid', 'punten', 'woningwaarderingen', 'extra-attributen', 'informatieobjecten'] \n",
      "\n",
      "WoningwaarderingResultaat has attributes: ['id', 'idExtern', 'idGegevensbeheerder', 'code', 'begindatum', 'einddatum', 'eenheid', 'groepen', 'maximaleHuur', 'punten', 'extra-attributen', 'informatieobjecten'] \n",
      "\n",
      "Woonplaats has attributes: ['id', 'idExtern', 'idGegevensbeheerder', 'code', 'naam', 'bag', 'gemeente', 'geometrie', 'wijken', 'extra-attributen', 'informatieobjecten'] \n",
      "\n",
      "WozEenheid has attributes: ['id', 'idExtern', 'idGegevensbeheerder', 'code', 'eenheid', 'vastgesteldeWaarde', 'waardepeildatum', 'extra-attributen', 'informatieobjecten'] \n",
      "\n",
      "ZekerheidVerpanding has attributes: ['id', 'idExtern', 'idGegevensbeheerder', 'code', 'soort', 'begindatum', 'einddatum', 'akteSoort', 'belastingdienstRegistratiedatum', 'eenheid', 'onderpandWSW', 'relaties', 'extra-attributen', 'informatieobjecten'] \n",
      "\n"
     ]
    }
   ],
   "source": [
    "for objects, attributes in my_dict.items(): #assinging key,value to month, days\n",
    "    print(f'{objects} has attributes: {attributes} \\n')"
   ]
  },
  {
   "cell_type": "markdown",
   "id": "4f5129c7",
   "metadata": {},
   "source": [
    "## 2. One item in all API's"
   ]
  },
  {
   "cell_type": "code",
   "execution_count": 1,
   "id": "e717594a",
   "metadata": {},
   "outputs": [
    {
     "name": "stdout",
     "output_type": "stream",
     "text": [
      "<class 'list'>\n",
      "['VERA-Dossier_API_objecten.json', 'VERA-Financien_API_objecten.json', 'VERA-Kwaliteit_API_objecten.json', 'VERA-Onderhoud_API_objecten.json', 'VERA-Overeenkomsten_API_objecten.json', 'VERA-Projectontwikkeling_API_objecten.json', 'VERA-Relaties_API_objecten.json', 'VERA-Vastgoed_API_data.json', 'VERA-Woonruimteverdeling_API_objecten.json']\n",
      "9\n"
     ]
    }
   ],
   "source": [
    "#creating a list of all json files\n",
    "import glob\n",
    "my_jsons = glob.glob('*.json')\n",
    "print(type(my_jsons))\n",
    "print(my_jsons)\n",
    "print(len(my_jsons))"
   ]
  },
  {
   "cell_type": "code",
   "execution_count": 2,
   "id": "42a55697",
   "metadata": {},
   "outputs": [],
   "source": [
    "#create new combined dict with all domeinen\n",
    "# {domein, {object[i]: [attributes], object[i]:attributes,... }\n",
    "domeinen = ['Dossier', 'Financien', 'Kwaliteit', 'Onderhoud', 'Overeenkomsten', 'Projectontwikkeling', 'Relaties', 'Vastgoed', 'Woonruimteverdeling']\n",
    "\n",
    "#create several temperary dicts\n",
    "import json\n",
    "my_dict = {}\n",
    "for i in range (len(my_jsons)):\n",
    "    with open(my_jsons[i]) as json_file:\n",
    "        data = json.load(json_file)\n",
    "        my_dict[i] = json.loads(data)\n",
    "#create an new dict and add the several dictionaries to it\n",
    "VERA_dict = {} \n",
    "for i in range (len(domeinen)):\n",
    "    VERA_dict[str(domeinen[i])]= my_dict[i]"
   ]
  },
  {
   "cell_type": "code",
   "execution_count": 3,
   "id": "9dddc828",
   "metadata": {},
   "outputs": [
    {
     "name": "stdout",
     "output_type": "stream",
     "text": [
      "9\n"
     ]
    },
    {
     "data": {
      "text/plain": [
       "['Dossier',\n",
       " 'Financien',\n",
       " 'Kwaliteit',\n",
       " 'Onderhoud',\n",
       " 'Overeenkomsten',\n",
       " 'Projectontwikkeling',\n",
       " 'Relaties',\n",
       " 'Vastgoed',\n",
       " 'Woonruimteverdeling']"
      ]
     },
     "execution_count": 3,
     "metadata": {},
     "output_type": "execute_result"
    }
   ],
   "source": [
    "print(len(list(VERA_dict)))\n",
    "list(VERA_dict)"
   ]
  },
  {
   "cell_type": "code",
   "execution_count": 4,
   "id": "1cc84c6d",
   "metadata": {},
   "outputs": [
    {
     "name": "stdout",
     "output_type": "stream",
     "text": [
      "{'Dossier': {'Dossier': ['id', 'idExtern', 'idGegevensbeheerder', 'code', 'soort', 'detailSoort', 'omschrijving', 'bovenliggendDossier', 'status', 'begindatum', 'einddatum', 'archiefActiedatum', 'archiefnominatie', 'clusters', 'collectiefObjecten', 'contactmomenten', 'deelDossiers', 'detailStatus', 'eenheden', 'inkoopfacturen', 'inkoopopdrachten', 'onderhoudsverzoeken', 'overeenkomsten', 'processen', 'relaties', 'zaken', 'extra-attributen', 'informatieobjecten'], 'ExtraAttribuut': ['naam', 'waarde'], 'Foutbericht': ['code', 'omschrijving'], 'Informatieobject': ['id', 'idExtern', 'idGegevensbeheerder', 'code', 'soort', 'detailSoort', 'onderwerp', 'subonderwerp', 'titel', 'beschrijving', 'status', 'detailStatus', 'registratiedatum', 'ontvangstdatum', 'publicatiedatum', 'archiefActiedatum', 'archiefnominatie', 'auteur', 'bestand', 'bestandsgrootte', 'bestandslocatie', 'bestandsnaam', 'bijlagen', 'clusters', 'collectiefObjecten', 'contactmomenten', 'dossiers', 'eenheden', 'externePublicatie', 'externePublicatietekst', 'formaat', 'gebruiksrechten', 'inkoopfacturen', 'inkoopopdrachten', 'isBijlageVan', 'onderhoudsverzoeken', 'overeenkomsten', 'processen', 'relaties', 'taal', 'verantwoordelijkeOrganisatie', 'versie', 'vertrouwelijkheid', 'zaken', 'extra-attributen'], 'Informatieobjectkenmerk': ['id', 'idExtern', 'idGegevensbeheerder', 'code', 'omschrijving', 'waarde', 'datatype', 'groep', 'extra-attributen', 'informatieobjecten'], 'Proces': ['id', 'idExtern', 'idGegevensbeheerder', 'code', 'soort', 'bovenliggendProces', 'status', 'begindatum', 'einddatum', 'verloopdatum', 'clusters', 'collectiefObjecten', 'deelprocessen', 'dossiers', 'eenheden', 'inkoopfacturen', 'inkoopopdrachten', 'niveau', 'onderhoudsverzoeken', 'overeenkomsten', 'prioriteit', 'processtappen', 'relaties', 'rollen', 'zaken', 'extra-attributen', 'informatieobjecten'], 'Procesrol': ['id', 'idExtern', 'idGegevensbeheerder', 'code', 'omschrijving', 'begindatum', 'einddatum', 'processen', 'processtappen', 'relatie', 'toelichtingRol', 'extra-attributen', 'informatieobjecten'], 'Processtap': ['id', 'idExtern', 'idGegevensbeheerder', 'code', 'soort', 'status', 'begindatum', 'einddatum', 'verloopdatum', 'actie', 'positie', 'prioriteit', 'proces', 'rollen', 'vorigeProcesstappen', 'extra-attributen', 'informatieobjecten'], 'Referentiedata': ['id', 'idExtern', 'idGegevensbeheerder', 'code', 'soort', 'naam', 'omschrijving', 'parent', 'begindatum', 'einddatum', 'sortering'], 'Zaak': ['id', 'idExtern', 'idGegevensbeheerder', 'code', 'omschrijving', 'toelichting', 'bovenliggendeZaak', 'begindatum', 'einddatum', 'registratiedatum', 'publicatiedatum', 'geplandeEinddatum', 'uiterlijkeEinddatum', 'archiefstatus', 'archiefActiedatum', 'archiefnominatie', 'clusters', 'collectiefObjecten', 'contactmomenten', 'deelzaken', 'dossier', 'eenheden', 'gerelateerdeZaken', 'inkoopfacturen', 'inkoopopdrachten', 'kenmerken', 'onderhoudsverzoeken', 'overeenkomsten', 'processen', 'relaties', 'resultaatOmschrijving', 'resultaatToelichting', 'rollen', 'verantwoordelijkeOrganisatie', 'zaakstatussen', 'zaaktype', 'extra-attributen', 'informatieobjecten'], 'Zaakkenmerk': ['id', 'idExtern', 'idGegevensbeheerder', 'code', 'omschrijving', 'waarde', 'datatype', 'groep', 'zaken', 'extra-attributen', 'informatieobjecten'], 'Zaakrol': ['id', 'idExtern', 'idGegevensbeheerder', 'code', 'soort', 'omschrijving', 'begindatum', 'einddatum', 'afwijkendContactgegegeven', 'indicatieGemachtigde', 'relatie', 'toelichtingRol', 'zaak', 'zaakstatussen', 'extra-attributen', 'informatieobjecten'], 'Zaakstatus': ['id', 'idExtern', 'idGegevensbeheerder', 'code', 'soort', 'begindatum', 'einddatum', 'toelichting', 'zaak', 'zaakrol', 'extra-attributen', 'informatieobjecten'], 'Zaaktype': ['id', 'idExtern', 'idGegevensbeheerder', 'code', 'soort', 'detailSoort', 'generiekeOmschrijving', 'omschrijving', 'begindatum', 'einddatum', 'aanleiding', 'archiefcode', 'doel', 'domein', 'doorlooptijd', 'externePublicatie', 'externePublicatietekst', 'relatie', 'servicenorm', 'trefwoord', 'vertrouwelijkheid', 'zaakstatussen', 'zaken', 'extra-attributen', 'informatieobjecten']}, 'Financien': {'Aanbesteding': ['id', 'idExtern', 'idGegevensbeheerder', 'code', 'extra-attributen', 'informatieobjecten'], 'Aflettering': ['id', 'idExtern', 'idGegevensbeheerder', 'code', 'omschrijving', 'datum', 'bedrag', 'huurBoeking', 'tegenHuurBoeking', 'extra-attributen', 'informatieobjecten'], 'Bankafschrift': ['id', 'idExtern', 'idGegevensbeheerder', 'code', 'omschrijving', 'status', 'afBedrag', 'bankafschriftRegels', 'beginsaldo', 'bijBedrag', 'eindsaldo', 'postenAantal', 'rekening', 'relatie', 'extra-attributen', 'informatieobjecten'], 'BankafschriftRegel': ['id', 'idExtern', 'idGegevensbeheerder', 'code', 'soort', 'omschrijving', 'valutadatum', 'afBedrag', 'bankafschrift', 'betaalopdracht', 'betalingskenmerk', 'bijBedrag', 'boekingen', 'incassoOpdrachten', 'inkoopfactuurBetaling', 'rekening', 'extra-attributen', 'informatieobjecten'], 'Begroting': ['id', 'idExtern', 'idGegevensbeheerder', 'code', 'omschrijving', 'periode', 'creditbedrag', 'debetbedrag', 'grootboekrekeningen', 'verbijzonderingen', 'versie', 'extra-attributen', 'informatieobjecten'], 'Betaalopdracht': ['id', 'idExtern', 'idGegevensbeheerder', 'code', 'omschrijving', 'status', 'plandatum', 'fiatdatum', 'bankafschriftRegels', 'bedrag', 'grootboekmutaties', 'inkoopfactuurBetaling', 'postenAantal', 'relatie', 'extra-attributen', 'informatieobjecten'], 'Betaalwijze': ['id', 'idExtern', 'idGegevensbeheerder', 'code', 'soort', 'betaalgegeven', 'incassomachtiging', 'incassomoment', 'extra-attributen', 'informatieobjecten'], 'Betalingsregeling': ['id', 'idExtern', 'idGegevensbeheerder', 'code', 'omschrijving', 'toelichting', 'status', 'begindatum', 'einddatum', 'afspraakdatum', 'bedrag', 'betaalgegeven', 'boekingen', 'debiteur', 'eindeReden', 'incassowijze', 'organisatieBetaalgegeven', 'overeenkomst', 'prolongatieInterval', 'prolongatieTotDatum', 'saldo', 'termijnen', 'termijnenAantal', 'extra-attributen', 'informatieobjecten'], 'BetalingsregelingTermijn': ['id', 'idExtern', 'idGegevensbeheerder', 'code', 'omschrijving', 'status', 'datum', 'vervaldatum', 'bedrag', 'betalingsregeling', 'saldo', 'extra-attributen', 'informatieobjecten'], 'Boeking': ['id', 'idExtern', 'idGegevensbeheerder', 'code', 'soort', 'detailSoort', 'omschrijving', 'status', 'boekdatum', 'factuurdatum', 'valutadatum', 'vervaldatum', 'kortingsdatum', 'aflettering', 'afletteringen', 'bankafschriftRegel', 'bedrag', 'betaalgegeven', 'betalingskenmerk', 'betalingsregelingen', 'boekingdetails', 'btwAangiftes', 'btwBedrag', 'btwGeenGrondslagbedrag', 'btwHoogAangiftebedrag', 'btwHoogGrondslagbedrag', 'btwLaagAangiftebedrag', 'btwLaagGrondslagbedrag', 'btwNulGrondslagbedrag', 'debiteur', 'externeIncassos', 'grootboekmutatie', 'huurgeschil', 'incassomachtiging', 'incassoOpdracht', 'organisatieBetaalgegeven', 'overeenkomst', 'saldo', 'extra-attributen', 'informatieobjecten'], 'Boekingdetail': ['id', 'idExtern', 'idGegevensbeheerder', 'code', 'omschrijving', 'aantal', 'bedrag', 'boeking', 'btwAangiftebedrag', 'btwTarief', 'grootboekmutatie', 'grootboekrekening', 'meeteenheid', 'prijsPerMeeteenheid', 'verbijzondering', 'extra-attributen', 'informatieobjecten'], 'Boekjaar': ['id', 'idExtern', 'idGegevensbeheerder', 'code', 'omschrijving', 'status', 'begindatum', 'einddatum', 'bedrijf', 'boekjaarperiodes', 'periodeSoort', 'extra-attributen', 'informatieobjecten'], 'BoekjaarPeriode': ['id', 'idExtern', 'idGegevensbeheerder', 'code', 'soort', 'omschrijving', 'status', 'begindatum', 'einddatum', 'begrotingen', 'boekjaar', 'boekjaarperiodesaldos', 'extra-attributen', 'informatieobjecten'], 'BoekjaarPeriodesaldo': ['id', 'idExtern', 'idGegevensbeheerder', 'code', 'boekjaarPeriode', 'creditbedrag', 'debetbedrag', 'grootboekmutaties', 'grootboekrekening', 'verbijzonderingen', 'extra-attributen', 'informatieobjecten'], 'BtwAangifte': ['id', 'idExtern', 'idGegevensbeheerder', 'code', 'omschrijving', 'status', 'datum', 'begindatum', 'einddatum', 'bedrijf', 'boekingen', 'inkoopfacturen', 'extra-attributen', 'informatieobjecten'], 'BtwTarief': ['id', 'idExtern', 'idGegevensbeheerder', 'code', 'omschrijving', 'begindatum', 'einddatum', 'boekingdetails', 'grootboekmutaties', 'inkoopfactuurregels', 'percentage', 'extra-attributen', 'informatieobjecten'], 'Crediteur': ['id', 'idExtern', 'idGegevensbeheerder', 'code', 'soort', 'status', 'bedrijf', 'betaaldagen', 'betalingsconditie', 'btwVerlegd', 'externDebiteurnummer', 'gRekening', 'gRekeningPercentage', 'inkoopfacturen', 'inkoopopdrachten', 'kortingdagen', 'rekeningen', 'relatie', 'saldo', 'wkaBegindatum', 'wkaDatumBelastingdienst', 'wkaDatumUitvoerendeInstantie', 'wkaEinddatum', 'wkaRegeling', 'extra-attributen', 'informatieobjecten'], 'Debiteur': ['id', 'idExtern', 'idGegevensbeheerder', 'code', 'soort', 'status', 'bedrijf', 'boekingen', 'btwPlichtig', 'incassomachtigingen', 'kortingsdagen', 'rekeningen', 'relatie', 'saldo', 'vervaltermijn', 'extra-attributen', 'informatieobjecten'], 'ExterneIncasso': ['id', 'idExtern', 'idGegevensbeheerder', 'code', 'soort', 'omschrijving', 'status', 'begindatum', 'einddatum', 'overdrachtsdatum', 'bedrag', 'boekingen', 'debiteur', 'externeincassoacties', 'overeenkomst', 'relatie', 'saldo', 'extra-attributen', 'informatieobjecten'], 'ExterneIncassoActie': ['id', 'idExtern', 'idGegevensbeheerder', 'code', 'soort', 'omschrijving', 'status', 'begindatum', 'einddatum', 'externeIncasso', 'relatie', 'extra-attributen', 'informatieobjecten'], 'ExtraAttribuut': ['naam', 'waarde'], 'FinancieelBedrijf': ['id', 'idExtern', 'idGegevensbeheerder', 'code', 'soort', 'naam', 'betaalcyclusDuur', 'boekjaren', 'btwAangiftes', 'consolidatieBedrijf', 'crediteuren', 'debiteuren', 'deelnemingspercentage', 'geconsolideerdebedrijven', 'grootboekrekeningen', 'maatschappelijkLabel', 'relatie', 'verbijzonderingen', 'extra-attributen', 'informatieobjecten'], 'Foutbericht': ['code', 'omschrijving'], 'Grootboekmutatie': ['id', 'idExtern', 'idGegevensbeheerder', 'code', 'omschrijving', 'boekdatum', 'betaalopdrachten', 'boekingdetails', 'boekingen', 'boekjaarPeriodesaldo', 'boekstuknummer', 'boekstuknummerCode', 'boekstukregel', 'btwBedrag', 'btwTarieven', 'creditbedrag', 'debetbedrag', 'grootboekrekening', 'herkomst', 'incassoOpdrachten', 'inkoopfacturen', 'inkoopfactuurBetalingen', 'inkoopfactuurRegels', 'inkoopopdrachten', 'inkoopopdrachtregels', 'volgnummer', 'extra-attributen', 'informatieobjecten'], 'Grootboekrekening': ['id', 'idExtern', 'idGegevensbeheerder', 'code', 'soort', 'omschrijving', 'status', 'begindatum', 'einddatum', 'bedrijf', 'begrotingen', 'boekingdetails', 'boekjaarperiodesaldos', 'inkoopopdrachtregels', 'referentiegrootboekschemacode', 'extra-attributen', 'informatieobjecten'], 'IncassoOpdracht': ['id', 'idExtern', 'idGegevensbeheerder', 'code', 'omschrijving', 'aanmaakdatum', 'fiatdatum', 'plandatum', 'bankafschriftRegels', 'bedrag', 'boekingen', 'grootboekmutatie', 'postenAantal', 'rekening', 'relatie', 'saldo', 'extra-attributen', 'informatieobjecten'], 'Incassomachtiging': ['id', 'idExtern', 'idGegevensbeheerder', 'code', 'soort', 'afgiftedatum', 'boekingen', 'debiteur', 'machtigingsnummer', 'rekening', 'extra-attributen', 'informatieobjecten'], 'Inkoopfactuur': ['id', 'idExtern', 'idGegevensbeheerder', 'code', 'soort', 'omschrijving', 'ontvangstdatum', 'boekdatum', 'factuurdatum', 'plandatum', 'vervaldatum', 'bedrag', 'betalingAkkoord', 'betalingskenmerk', 'btwAangifte', 'btwBedrag', 'btwGeenGrondslagbedrag', 'btwHoogAangiftebedrag', 'btwHoogGrondslagbedrag', 'btwLaagAangiftebedrag', 'btwLaagGrondslagbedrag', 'btwNulGrondslagbedrag', 'btwTerugTeVorderen', 'btwVerlegd', 'crediteur', 'externFactuurnummer', 'factuurGeblokkeerd', 'gRekeningbedrag', 'grootboekmutaties', 'inkoopfactuurBetaling', 'inkoopfactuurregels', 'inkoopopdracht', 'korting', 'openstaandBedrag', 'rekening', 'relatie', 'toeslag', 'extra-attributen', 'informatieobjecten'], 'InkoopfactuurBetaling': ['id', 'idExtern', 'idGegevensbeheerder', 'code', 'omschrijving', 'status', 'datum', 'bankafschriftRegel', 'bedrag', 'betaalkenmerk', 'betaalopdracht', 'grootboekmutatie', 'inkoopfactuur', 'kortingsbedrag', 'rekening', 'rekeningBetaling', 'volgnummerInBetaalopdracht', 'extra-attributen', 'informatieobjecten'], 'InkoopfactuurRegel': ['id', 'idExtern', 'idGegevensbeheerder', 'code', 'omschrijving', 'bedrag', 'btwAangiftebedrag', 'btwTarief', 'grootboekmutaties', 'grootboekrekening', 'inkoopfactuur', 'inkoopopdrachtregels', 'korting', 'toeslag', 'verbijzonderingen', 'extra-attributen', 'informatieobjecten'], 'Inkoopopdracht': ['id', 'idExtern', 'idGegevensbeheerder', 'code', 'omschrijving', 'status', 'opdrachtdatum', 'boekdatum', 'btwGeenGrondslagbedrag', 'btwHoogGrondslagbedrag', 'btwLaagGrondslagbedrag', 'btwNulGrondslagbedrag', 'crediteur', 'grootboekmutaties', 'inkoopfacturen', 'inkoopodrachtregels', 'onderhoudsorder', 'projectorders', 'relatie', 'extra-attributen', 'informatieobjecten'], 'InkoopopdrachtRegel': ['id', 'idExtern', 'idGegevensbeheerder', 'code', 'omschrijving', 'plandatum', 'btwGeenGrondslagbedrag', 'btwHoogGrondslagbedrag', 'btwLaagGrondslagbedrag', 'btwNulGrondslagbedrag', 'grootboekmutatie', 'grootboekrekening', 'inkoopfactuurregels', 'inkoopopdracht', 'onderhoudsTaak', 'extra-attributen', 'informatieobjecten'], 'Lening': ['id', 'idExtern', 'idGegevensbeheerder', 'code', 'omschrijving', 'soort', 'detailSoort', 'begindatum', 'einddatum', 'achtergesteld', 'aflosvorm', 'borgingWSW', 'coupondatum1', 'coupondatum2', 'couponFrequentie', 'euriborOpslag', 'financier', 'nominaalSchuldrestant', 'relaties', 'rentepercentage', 'renteperiode', 'rentesoort', 'startbedrag', 'extra-attributen', 'informatieobjecten'], 'Offerte': ['id', 'idExtern', 'idGegevensbeheerder', 'code', 'omschrijving', 'status', 'begindatum', 'offertedatum', 'vervaldatum', 'bedrag', 'btwBedrag', 'korting', 'offerteregels', 'relaties', 'toeslag', 'extra-attributen', 'informatieobjecten'], 'Offerteregel': ['id', 'idExtern', 'idGegevensbeheerder', 'code', 'omschrijving', 'aantal', 'bedrag', 'bestedingsoort', 'btwTarief', 'korting', 'meeteenheid', 'offerte', 'toeslag', 'extra-attributen', 'informatieobjecten'], 'Prijsaanpassing': ['id', 'idExtern', 'idGegevensbeheerder', 'code', 'soort', 'omschrijving', 'bedrag', 'percentage', 'extra-attributen', 'informatieobjecten'], 'Referentiedata': ['id', 'idExtern', 'idGegevensbeheerder', 'code', 'soort', 'naam', 'omschrijving', 'parent', 'begindatum', 'einddatum', 'sortering'], 'ToegelatenInstelling': ['id', 'idExtern', 'idGegevensbeheerder', 'code', 'omschrijving', 'verantwoordingConsolidatie', 'verantwoordingRegime', 'extra-attributen', 'informatieobjecten'], 'Verbijzondering': ['id', 'idExtern', 'idGegevensbeheerder', 'code', 'soort', 'omschrijving', 'status', 'beginjaar', 'beginperiode', 'eindjaar', 'eindperiode', 'bedrijf', 'begrotingen', 'boekingdetails', 'boekjaarperiodesaldos', 'inkoopofactuurregels', 'viaMemoriaalBoekenToestaan', 'viaSubBoekenToestaan', 'extra-attributen', 'informatieobjecten']}, 'Kwaliteit': {'ExtraAttribuut': ['naam', 'waarde'], 'Foutbericht': ['code', 'omschrijving'], 'Kwaliteitsmetingsresultaat': ['id', 'idExtern', 'idGegevensbeheerder', 'code', 'omschrijving', 'datumReactie', 'beoordelingsSchaal', 'beoordelingsWaarde', 'kwaliteitsmetingsverzoek', 'onderzoeksopdracht', 'resultaatReactie', 'toelichtingBeoordeling', 'extra-attributen', 'informatieobjecten'], 'Kwaliteitsmetingsverzoek': ['id', 'idExtern', 'idGegevensbeheerder', 'code', 'soort', 'omschrijving', 'status', 'afgerondeZaak', 'contactmoment', 'eenheid', 'kwaliteitsmetingresultaat', 'onderhoudsverzoek', 'onderzoeksopdracht', 'overeenkomst', 'relaties', 'teEnqueterenRelatie', 'extra-attributen', 'informatieobjecten'], 'Onderzoeksopdracht': ['id', 'idExtern', 'idGegevensbeheerder', 'code', 'soort', 'omschrijving', 'status', 'antwoorden', 'contactgegeven', 'kanaal', 'postadres', 'relatie', 'vragenlijst', 'extra-attributen', 'informatieobjecten'], 'Onderzoeksresultaat': ['id', 'idExtern', 'idGegevensbeheerder', 'code', 'antwoorden', 'opdracht', 'extra-attributen', 'informatieobjecten'], 'Referentiedata': ['id', 'idExtern', 'idGegevensbeheerder', 'code', 'soort', 'naam', 'omschrijving', 'parent', 'begindatum', 'einddatum', 'sortering'], 'Vragenlijst': ['id', 'idExtern', 'idGegevensbeheerder', 'code', 'soort', 'omschrijving', 'vragen', 'extra-attributen', 'informatieobjecten'], 'VragenlijstAntwoord': ['id', 'idExtern', 'idGegevensbeheerder', 'code', 'antwoord', 'toelichting', 'vraag', 'extra-attributen', 'informatieobjecten'], 'VragenlijstRegel': ['id', 'idExtern', 'idGegevensbeheerder', 'code', 'soort', 'omschrijving', 'opties', 'volgordenummer', 'vragenlijsten', 'extra-attributen', 'informatieobjecten']}, 'Onderhoud': {'Defect': ['id', 'idExtern', 'idGegevensbeheerder', 'code', 'soort', 'omschrijving', 'status', 'melddatum', 'aangetroffenOorzaak', 'bouwkundigElement', 'cluster', 'collectiefObject', 'eenheid', 'inspectierapport', 'locatie', 'onderhoudsverzoeken', 'oorzaak', 'relaties', 'extra-attributen', 'informatieobjecten'], 'ExtraAttribuut': ['naam', 'waarde'], 'Foutbericht': ['code', 'omschrijving'], 'Inspectierapport': ['id', 'idExtern', 'idGegevensbeheerder', 'code', 'soort', 'omschrijving', 'status', 'geconstateerdeDefecten', 'inspectieOrder', 'relaties', 'voorgesteldeOnderhoudstaken', 'extra-attributen', 'informatieobjecten'], 'Onderhoudsbesteding': ['id', 'idExtern', 'idGegevensbeheerder', 'code', 'soort', 'omschrijving', 'uitvoerdatum', 'uitvoerBegintijd', 'uitvoerEindtijd', 'aantal', 'bedrag', 'meeteenheid', 'onderhoudstaak', 'reistijd', 'extra-attributen', 'informatieobjecten'], 'Onderhoudsorder': ['id', 'idExtern', 'idGegevensbeheerder', 'code', 'onderhoudSoort', 'onderhoudDetailSoort', 'omschrijving', 'bovenliggendeOrder', 'status', 'begindatum', 'einddatum', 'uitersteStartdatum', 'uitersteGereeddatum', 'opdrachtdatum', 'afrekenwijze', 'afspraken', 'cluster', 'collectiefObject', 'debiteur', 'defecten', 'eenheid', 'financieelGereeddatum', 'offertes', 'onderhoudstaken', 'onderhoudsverzoeken', 'overeenkomst', 'relaties', 'technischGereeddatum', 'uitvoerendeSoort', 'extra-attributen', 'informatieobjecten'], 'Onderhoudstaak': ['id', 'idExtern', 'idGegevensbeheerder', 'code', 'omschrijving', 'status', 'detailStatus', 'afspraken', 'defecten', 'onderhoudsbestedingen', 'onderhoudsorder', 'onderhoudsverzoek', 'relaties', 'specialisme', 'voorcalculaties', 'extra-attributen', 'informatieobjecten'], 'Onderhoudstaakvoorcalculatie': ['id', 'idExtern', 'idGegevensbeheerder', 'code', 'bestedingsoort', 'omschrijving', 'aantal', 'bedrag', 'meeteenheid', 'onderhoudstaak', 'standaardprijs', 'extra-attributen', 'informatieobjecten'], 'Onderhoudsverzoek': ['id', 'idExtern', 'idGegevensbeheerder', 'code', 'onderhoudSoort', 'omschrijving', 'status', 'melddatum', 'alternatiefContactgegeven', 'contactmomenten', 'defecten', 'onderhoudsorders', 'onderhoudstaken', 'onderhoudsverzoeken', 'relaties', 'voorkeurAfspraken', 'extra-attributen', 'informatieobjecten'], 'Referentiedata': ['id', 'idExtern', 'idGegevensbeheerder', 'code', 'soort', 'naam', 'omschrijving', 'parent', 'begindatum', 'einddatum', 'sortering'], 'Standaardprijs': ['id', 'idExtern', 'idGegevensbeheerder', 'code', 'omschrijving', 'aantal', 'bedrag', 'meeteenheid', 'onderhoudstaakvoorcalculaties', 'extra-attributen', 'informatieobjecten']}, 'Overeenkomsten': {'ExtraAttribuut': ['naam', 'waarde'], 'Foutbericht': ['code', 'omschrijving'], 'Huurgeschil': ['id', 'idExtern', 'idGegevensbeheerder', 'code', 'omschrijving', 'status', 'einddatum', 'acties', 'bedrag', 'contactmomenten', 'hoorzittingdatum', 'huurcomissieDossiernummer', 'huurovereenkomst', 'matigen', 'reden', 'uitspraken', 'extra-attributen', 'informatieobjecten'], 'HuurgeschilActie': ['id', 'idExtern', 'idGegevensbeheerder', 'code', 'omschrijving', 'actiedatum', 'huurgeschil', 'relatie', 'extra-attributen', 'informatieobjecten'], 'HuurgeschilUitspraak': ['id', 'idExtern', 'idGegevensbeheerder', 'code', 'soort', 'datum', 'bedrag', 'huurgeschil', 'extra-attributen', 'informatieobjecten'], 'Huuropzegging': ['id', 'idExtern', 'idGegevensbeheerder', 'code', 'status', 'begindatum', 'einddatum', 'opzegdatum', 'huurovereenkomst', 'inspectieafspraken', 'redenOpzegging', 'relaties', 'extra-attributen', 'informatieobjecten'], 'Huurovereenkomst': ['allOf: Overeenkomst', 'opzegdatum', 'prolongatieInterval', 'prolongatieTotDatum', 'huurHerzieningsdatum', 'afwijkendeBetaler', 'afwijkendeBetalerIncassowijze', 'bepaaldeTijd', 'brutohuur', 'btw', 'huurgeschillen', 'huurtoeslagen', 'maatschappelijkLabel', 'opzegtermijn', 'rekenhuur', 'startBrutohuur', 'startBrutoJaarinkomen', 'startLeeftijd', 'vervaltermijnInterval', 'waarborgsom', 'waarborgsomRente', 'extra-attributen', 'informatieobjecten'], 'Huurtoeslag': ['id', 'idExtern', 'idGegevensbeheerder', 'code', 'huurovereenkomst', 'maand', 'jaar', 'bedrag', 'extra-attributen', 'informatieobjecten'], 'Inspectie': ['id', 'idExtern', 'idGegevensbeheerder', 'code', 'soort', 'status', 'afspraak', 'overeenkomst', 'relaties', 'extra-attributen', 'informatieobjecten'], 'Koopovereenkomst': ['allOf: Overeenkomst', 'koopsom', 'koopsomTotaal', 'kortingspercentage', 'oudHuurder', 'prijs', 'transportdatum', 'vveBijdrage', 'extra-attributen', 'informatieobjecten'], 'Onderhoudsovereenkomst': ['allOf: Overeenkomst', 'omschrijving', 'bouwkundigElement', 'cluster', 'collectiefObject', 'orders', 'specialismen', 'extra-attributen', 'informatieobjecten'], 'Overeenkomst': ['id', 'idExtern', 'idGegevensbeheerder', 'code', 'soort', 'detailSoort', 'status', 'begindatum', 'einddatum', 'conceptVersturingsdatum', 'verstuurdatum', 'versturenStatus', 'bewakingsstatus', 'betaalgegeven', 'betaalwijze', 'contactmomenten', 'eenheden', 'eindeDetailReden', 'eindeReden', 'garanties', 'incassomoment', 'incassowijze', 'onderhoudsverzoeken', 'prijscomponenten', 'redenOntbinding', 'redenOpzegging', 'redenVernietiging', 'relaties', 'versturen', 'volgnummer', 'extra-attributen', 'informatieobjecten'], 'Overeenkomstkoppeling': ['id', 'idExtern', 'idGegevensbeheerder', 'status', 'begindatum', 'einddatum', 'overeenkomsten', 'extra-attributen', 'informatieobjecten'], 'Prijscomponent': ['id', 'idExtern', 'idGegevensbeheerder', 'code', 'naam', 'soort', 'detailSoort', 'subsidieSoort', 'begindatum', 'einddatum', 'bedrag', 'bedragInclusiefBtw', 'btw', 'eenheid', 'overeenkomst', 'extra-attributen', 'informatieobjecten'], 'Referentiedata': ['id', 'idExtern', 'idGegevensbeheerder', 'code', 'soort', 'naam', 'omschrijving', 'parent', 'begindatum', 'einddatum', 'sortering'], 'Serviceovereenkomst': ['allOf: Overeenkomst', 'bedrag', 'samenwerkingsverband', 'extra-attributen', 'informatieobjecten']}, 'Projectontwikkeling': {'ExtraAttribuut': ['naam', 'waarde'], 'Foutbericht': ['code', 'omschrijving'], 'Project': ['id', 'idExtern', 'idGegevensbeheerder', 'code', 'soort', 'naam', 'bovenliggendProject', 'status', 'begindatum', 'einddatum', 'aanbestedingen', 'clusters', 'doelstelling', 'dossier', 'eenheden', 'fasen', 'percelen', 'regiesoort', 'rollen', 'extra-attributen', 'informatieobjecten'], 'Projectbesteding': ['id', 'idExtern', 'idGegevensbeheerder', 'code', 'soort', 'omschrijving', 'uitvoerdatum', 'uitvoerBegintijd', 'uitvoerEindtijd', 'aantal', 'bedrag', 'budgetregel', 'meeteenheid', 'order', 'reistijd', 'taak', 'extra-attributen', 'informatieobjecten'], 'Projectbudgetregel': ['id', 'idExtern', 'idGegevensbeheerder', 'code', 'soort', 'regelsoort', 'omschrijving', 'bovenliggendeBudgetregel', 'status', 'begindatum', 'einddatum', 'datumAanvraag', 'datumGoedkeuring', 'bedrag', 'bestedingen', 'btwTarief', 'doelstelling', 'fase', 'fasebesluit', 'grootboekrekening', 'order', 'extra-attributen', 'informatieobjecten'], 'Projectdoelstelling': ['id', 'idExtern', 'idGegevensbeheerder', 'code', 'gewensteBegindatum', 'gewensteEinddatum', 'aantalGetransformeerdeEenheden', 'aantalTeBouwenEenheden', 'aantalTeRenoverenEenheden', 'aantalTeSlopenEenheden', 'aantalTeTransformerenEenheden', 'beleidswaarde', 'brutoAanvangsrendement', 'gemBVOPerEenheid', 'gemGBOPerEenheid', 'gemiddeldeEnergieindex', 'gemiddeldeHuurprijs', 'gemiddeldeWoningwaarderingsPunten', 'gemVVOPerEenheid', 'initieleBudgetregels', 'internalRateOfReturn', 'maatschappelijkLabel', 'marktwaarde', 'nettoAanvangsrendement', 'project', 'extra-attributen', 'informatieobjecten'], 'Projectfase': ['id', 'idExtern', 'idGegevensbeheerder', 'code', 'soort', 'begindatum', 'einddatum', 'gewensteBegindatum', 'gewensteEinddatum', 'besluit', 'budgetregels', 'project', 'rollen', 'taken', 'volgnummer', 'extra-attributen', 'informatieobjecten'], 'Projectfasebesluit': ['id', 'idExtern', 'idGegevensbeheerder', 'code', 'status', 'begindatum', 'einddatum', 'budgetregels', 'fase', 'extra-attributen', 'informatieobjecten'], 'Projectorder': ['id', 'idExtern', 'idGegevensbeheerder', 'code', 'bestedingen', 'budgetregels', 'inkoopopdracht', 'overeenkomst', 'taak', 'extra-attributen', 'informatieobjecten'], 'Projectrol': ['id', 'idExtern', 'idGegevensbeheerder', 'code', 'soort', 'detailSoort', 'begindatum', 'einddatum', 'fases', 'project', 'relatie', 'taken', 'extra-attributen', 'informatieobjecten'], 'Projecttaak': ['id', 'idExtern', 'idGegevensbeheerder', 'code', 'soort', 'detailSoort', 'omschrijving', 'begindatum', 'einddatum', 'gewensteBegindatum', 'gewensteEinddatum', 'bestedingen', 'clusters', 'eenheden', 'fase', 'kwaliteitsmetingen', 'orders', 'percelen', 'rollen', 'extra-attributen', 'informatieobjecten'], 'Referentiedata': ['id', 'idExtern', 'idGegevensbeheerder', 'code', 'soort', 'naam', 'omschrijving', 'parent', 'begindatum', 'einddatum', 'sortering']}, 'Relaties': {'Account': ['id', 'idExtern', 'idGegevensbeheerder', 'code', 'status', 'begindatum', 'einddatum', 'gebruikersnaam', 'relatie', 'wachtwoorddatum', 'extra-attributen', 'informatieobjecten'], 'Afspraak': ['id', 'idExtern', 'idGegevensbeheerder', 'code', 'onderwerp', 'status', 'begindatum', 'einddatum', 'bloktijdBegin', 'bloktijdEind', 'alternatiefContactgegeven', 'contactgegeven', 'locatie', 'relaties', 'extra-attributen', 'informatieobjecten'], 'AfspraakOptie': ['id', 'idExtern', 'idGegevensbeheerder', 'code', 'begindatum', 'einddatum', 'bloktijdBegin', 'bloktijdEind', 'locatie', 'onderhoudsorder', 'onderhoudstaak', 'onderhoudsverzoek', 'planningscore', 'relaties', 'specialisme', 'extra-attributen', 'informatieobjecten'], 'Afspraakverzoek': ['id', 'idExtern', 'idGegevensbeheerder', 'code', 'soort', 'duur', 'termijn', 'adres', 'opties', 'relaties', 'volgorde', 'extra-attributen', 'informatieobjecten'], 'Betaalgegeven': ['id', 'idExtern', 'idGegevensbeheerder', 'code', 'soort', 'begindatum', 'einddatum', 'bic', 'iban', 'incassomachtigingen', 'incassowijze', 'overeenkomst', 'primair', 'rekeninghouder', 'rekeningnummer', 'rekeningPlaats', 'relatie', 'extra-attributen', 'informatieobjecten'], 'Contactgegeven': ['id', 'idExtern', 'idGegevensbeheerder', 'code', 'soort', 'detailSoort', 'status', 'relatie', 'relatierol', 'vertrouwelijkheid', 'voorkeur', 'waarde', 'extra-attributen', 'informatieobjecten'], 'Contactmoment': ['id', 'idExtern', 'idGegevensbeheerder', 'code', 'omschrijving', 'datum', 'dossier', 'kanaal', 'relaties', 'richting', 'zaak', 'extra-attributen', 'informatieobjecten'], 'ExtraAttribuut': ['naam', 'waarde'], 'Foutbericht': ['code', 'omschrijving'], 'Inkomen': ['id', 'idExtern', 'idGegevensbeheerder', 'code', 'controledatum', 'bron', 'brutoJaarinkomen', 'brutoMaandinkomen', 'inkomensverklaringsoort', 'nettoJaarinkomen', 'nettoMaandinkomen', 'relaties', 'extra-attributen', 'informatieobjecten'], 'NatuurlijkPersoon': ['allOf: Relatie', 'bsn', 'geboortedatum', 'overlijdensdatum', 'aanbiedingen', 'aanhef', 'achternaam', 'burgerlijkeStaat', 'geslacht', 'initialen', 'inkomens', 'nationaliteit', 'opleiding', 'reacties', 'regelingen', 'roepnaam', 'signaleringen', 'toewijzingen', 'tussenvoegsels', 'voorkeurstaal', 'voorletters', 'voornaam', 'voorrangsregelingen', 'extra-attributen', 'informatieobjecten'], 'Opleiding': ['id', 'idExtern', 'idGegevensbeheerder', 'code', 'studentnummer', 'begindatum', 'einddatum', 'instelling', 'niveau', 'plaats', 'relatie', 'extra-attributen', 'informatieobjecten'], 'Rechtspersoon': ['allOf: Relatie', 'kvkNummer', 'globaalLocatienummer', 'naam', 'btwNummer', 'organisatievorm', 'relaties', 'extra-attributen', 'informatieobjecten'], 'Referentiedata': ['id', 'idExtern', 'idGegevensbeheerder', 'code', 'soort', 'naam', 'omschrijving', 'parent', 'begindatum', 'einddatum', 'sortering'], 'Relatie': ['id', 'idExtern', 'idGegevensbeheerder', 'code', 'soort', 'status', 'adressen', 'afspraken', 'betaalgegevens', 'contactgegevens', 'contactmomenten', 'groepen', 'inspecties', 'onderhoudsverzoeken', 'overeenkomsten', 'rollen', 'extra-attributen', 'informatieobjecten'], 'RelatieAdres': ['id', 'idExtern', 'idGegevensbeheerder', 'code', 'soort', 'begindatum', 'einddatum', 'adres', 'relatie', 'extra-attributen', 'informatieobjecten'], 'Relatiegroep': ['allOf: Relatie', 'naam', 'relaties', 'extra-attributen', 'informatieobjecten'], 'Relatierol': ['id', 'idExtern', 'idGegevensbeheerder', 'code', 'soort', 'naam', 'omschrijving', 'begindatum', 'einddatum', 'contactgegevens', 'contactmomenten', 'relatie', 'relatieAdressen', 'rolRelatie', 'extra-attributen', 'informatieobjecten'], 'Signalering': ['id', 'idExtern', 'idGegevensbeheerder', 'code', 'soort', 'status', 'detailStatus', 'begindatum', 'einddatum', 'adres', 'relatie', 'extra-attributen', 'informatieobjecten'], 'Telefoonnummer': ['allOf: Contactgegeven', 'abonneenummer', 'dagdelen', 'extensie', 'landnummer', 'netnummer', 'extra-attributen', 'informatieobjecten']}, 'Vastgoed': {'Adres': ['id', 'idExtern', 'idGegevensbeheerder', 'code', 'soort', 'adres', 'huisletter', 'huisnummer', 'huisnummerToevoeging', 'postcode', 'straatnaam', 'extra-attributen', 'informatieobjecten'], 'AdresseerbaarObjectBasisregistratie': ['id', 'idExtern', 'idGegevensbeheerder', 'code', 'bagGebruikersOppervlakte', 'bagGebruiksdoelen', 'bagHoofdadres', 'bagIdentificatie', 'bagInOnderzoek', 'bagNevenadressen', 'bagOfficieel', 'bagOppervlakteVerblijfsobject', 'bagPandenBasisregistratie', 'bagStatus', 'geometrie', 'extra-attributen', 'informatieobjecten'], 'BagAdres': ['id', 'idExtern', 'idGegevensbeheerder', 'code', 'bagNummeraanduidingIdentificatie', 'bagOpenbareRuimteIdentificatie', 'bagNummeraanduidingInOnderzoek', 'bagNummeraanduidingOfficieel', 'bagNummeraanduidingStatus', 'bagOpenbareRuimteInOnderzoek', 'bagOpenbareruimteOfficieel', 'bagOpenbareruimtestatus', 'extra-attributen', 'informatieobjecten'], 'BagPand': ['id', 'idExtern', 'idGegevensbeheerder', 'code', 'bagIdentificatie', 'bagStatus', 'bagInOnderzoek', 'bagOfficieel', 'bagBouwdatum', 'extra-attributen', 'informatieobjecten'], 'BagWoonplaats': ['id', 'idExtern', 'idGegevensbeheerder', 'code', 'bagIdentificatie', 'bagStatus', 'bagInOnderzoek', 'bagOfficieel', 'extra-attributen', 'informatieobjecten'], 'Beleidswaarde': ['id', 'idExtern', 'idGegevensbeheerder', 'code', 'achterstalligOnderhoud', 'afkoopErfpacht', 'beheerAfslag', 'beheerskosten', 'beschikbaarheidAfslag', 'betaalbaarheidAfslag', 'eenheid', 'kwaliteitAfslag', 'marktwaarde', 'onderhoudskosten', 'streefhuur', 'waarde', 'extra-attributen', 'informatieobjecten'], 'Bouwdeel': ['id', 'idExtern', 'idGegevensbeheerder', 'code', 'naam', 'omschrijving', 'bouwdelen', 'bouwkundigeElementen', 'collectieveObjecten', 'eenheden', 'gebouw', 'pand', 'extra-attributen', 'informatieobjecten'], 'BouwkundigElement': ['id', 'idExtern', 'idGegevensbeheerder', 'code', 'naam', 'omschrijving', 'bouwdeel', 'garanties', 'relaties', 'extra-attributen', 'informatieobjecten'], 'BuitenlandsAdres': ['allOf: Adres', 'adresregel1', 'adresregel2', 'land', 'postbusnummer', 'provincie', 'woonplaats', 'extra-attributen', 'informatieobjecten'], 'Buurt': ['id', 'idExtern', 'idGegevensbeheerder', 'code', 'naam', 'omschrijving', 'eenheden', 'gebouwen', 'geometrie', 'relaties', 'wijk', 'extra-attributen', 'informatieobjecten'], 'Cluster': ['id', 'idExtern', 'idGegevensbeheerder', 'code', 'soort', 'naam', 'omschrijving', 'bovenliggendeCluster', 'begindatum', 'einddatum', 'collectieveObjecten', 'conditiemeting', 'eenheden', 'garanties', 'geometrie', 'relaties', 'extra-attributen', 'informatieobjecten'], 'CollectiefObject': ['id', 'idExtern', 'idGegevensbeheerder', 'code', 'soort', 'naam', 'adres', 'bouwdelen', 'clusters', 'eenheden', 'garanties', 'relaties', 'extra-attributen', 'informatieobjecten'], 'Conditiemeting': ['id', 'idExtern', 'idGegevensbeheerder', 'code', 'begindatum', 'einddatum', 'conditiescore', 'extra-attributen', 'informatieobjecten'], 'Eenheid': ['id', 'idExtern', 'idGegevensbeheerder', 'code', 'soort', 'detailSoort', 'naam', 'omschrijving', 'bouwnummer', 'status', 'detailStatus', 'inExploitatiedatum', 'uitExploitatiedatum', 'beginBouwdatum', 'opleverdatum', 'aantalOnzelfstandigeEenheden', 'aanvullendeDoelgroep', 'adres', 'adresseerbaarObjectBasisregistratie', 'beleidswaarde', 'benodigdeAfspraakverzoeken', 'beoogdUitExploitatieDatum', 'bestemming', 'bouwdelen', 'bovenliggendeEenheid', 'brutohuur', 'buitenruimten', 'clusters', 'collectieveObjecten', 'doelgroep', 'energieprestatie', 'energievoorzieningen', 'etage', 'gebouw', 'gebruiksoppervlakte', 'inExploitatieReden', 'interieur', 'isolatie', 'juridischEigendomspercentage', 'kadastraalNummer', 'kamersAantal', 'klimaatbeheersing', 'kwaliteitsniveau', 'ligging', 'liggingTuin', 'maatschappelijkLabel', 'marktlabel', 'marktwaarde', 'monumenten', 'nevenadressen', 'onderhoudslabel', 'overeenkomsten', 'overigeVertrekkenTotaalOppervlakte', 'panden', 'prestatieafspraken', 'prijscomponenten', 'prijsconditie', 'publicatie', 'publicatieLabel', 'rekenhuur', 'relaties', 'renovatie', 'sanitair', 'situering', 'streefhuur', 'taxaties', 'toegankelijkheidslabel', 'totaalInhoud', 'totaleOppervlakte', 'uitExploitatieReden', 'verkoop', 'vertrekken', 'vertrekkenAantal', 'verwarmdeVertrekkenAantal', 'volgnummer', 'voorwaarden', 'vraagprijs', 'woningwaarderingResultaat', 'woonvertrekInhoud', 'woonvertrekkenTotaalOppervlakte', 'woonvorm', 'wozEenheden', 'zekerheidVerpandingen', 'zelfstandig', 'zorgfaciliteitOmschrijving', 'extra-attributen', 'informatieobjecten'], 'EenheidToestand': ['id', 'idExtern', 'idGegevensbeheerder', 'code', 'status', 'detailStatus', 'begindatum', 'einddatum', 'eenheid', 'extra-attributen', 'informatieobjecten'], 'EenheidVoorwaarden': ['id', 'idExtern', 'idGegevensbeheerder', 'code', 'maximumAantalPersonen', 'maximuminkomen', 'maximunleeftijd', 'minimumAantalPersonen', 'minimuminkomen', 'minimumleeftijd', 'selectiecriteria', 'voorrangscriteria', 'extra-attributen', 'informatieobjecten'], 'Eenheidadres': ['allOf: Adres', 'bag', 'buurt', 'gemeente', 'geometrie', 'land', 'provincie', 'wijk', 'woonplaats', 'extra-attributen', 'informatieobjecten'], 'Energieprestatie': ['id', 'idExtern', 'idGegevensbeheerder', 'code', 'begindatum', 'einddatum', 'eenheid', 'index', 'label', 'relatie', 'extra-attributen', 'informatieobjecten'], 'ExtraAttribuut': ['naam', 'waarde'], 'Foutbericht': ['code', 'omschrijving'], 'Garantie': ['id', 'idExtern', 'idGegevensbeheerder', 'code', 'omschrijving', 'begindatum', 'einddatum', 'bouwdelen', 'bouwkundigeElementen', 'clusters', 'collectieveObjecten', 'eenheden', 'overeenkomst', 'relatie', 'extra-attributen', 'informatieobjecten'], 'Gebouw': ['id', 'idExtern', 'idGegevensbeheerder', 'code', 'naam', 'omschrijving', 'bouwdelen', 'buurt', 'corporatieBuurt', 'corporatieWijk', 'eenheden', 'panden', 'wijk', 'extra-attributen', 'informatieobjecten'], 'Gemeente': ['id', 'idExtern', 'idGegevensbeheerder', 'code', 'naam', 'geometrie', 'provincie', 'stadsdelen', 'woonplaatsen', 'extra-attributen', 'informatieobjecten'], 'Geometrie': ['id', 'idExtern', 'idGegevensbeheerder', 'code', 'soort', 'omschrijving', 'extra-attributen', 'informatieobjecten'], 'KadasterPerceel': ['id', 'idExtern', 'idGegevensbeheerder', 'code', 'extra-attributen', 'informatieobjecten'], 'Marktwaarde': ['id', 'idExtern', 'idGegevensbeheerder', 'code', 'beheersKosten', 'contractJaarhuur', 'disconteringsvoet', 'doorexploiterenDisconteringsvoet', 'eenheid', 'leegwaarde', 'marktJaarhuur', 'onderhoudsKosten', 'verhuurderheffing', 'verslagJaar', 'waarde', 'extra-attributen', 'informatieobjecten'], 'Pand': ['id', 'idExtern', 'idGegevensbeheerder', 'code', 'status', 'adresseerbareObjectenBasisregistratie', 'bag', 'bouwdelen', 'eenheden', 'gebouw', 'geometrie', 'kavelOppervlakte', 'liftAanwezig', 'renovatie', 'extra-attributen', 'informatieobjecten'], 'Postadres': ['allOf: Adres', 'antwoordnummer', 'postbusnummer', 'woonplaats', 'extra-attributen', 'informatieobjecten'], 'Punt': ['allOf: Geometrie', 'breedtegraad', 'lengtegraad', 'extra-attributen', 'informatieobjecten'], 'Referentiedata': ['id', 'idExtern', 'idGegevensbeheerder', 'code', 'soort', 'naam', 'omschrijving', 'parent', 'begindatum', 'einddatum', 'sortering'], 'Renovatie': ['id', 'idExtern', 'idGegevensbeheerder', 'code', 'omschrijving', 'datum', 'eenheden', 'panden', 'extra-attributen', 'informatieobjecten'], 'Stadsdeel': ['id', 'idExtern', 'idGegevensbeheerder', 'code', 'naam', 'gemeente', 'geometrie', 'wijken', 'extra-attributen', 'informatieobjecten'], 'Taxatie': ['id', 'idExtern', 'idGegevensbeheerder', 'code', 'soort', 'datum', 'eenheid', 'waarde', 'extra-attributen', 'informatieobjecten'], 'Vertrek': ['id', 'idExtern', 'idGegevensbeheerder', 'code', 'soort', 'naam', 'eenheid', 'inhoud', 'oppervlakte', 'extra-attributen', 'informatieobjecten'], 'Wijk': ['id', 'idExtern', 'idGegevensbeheerder', 'code', 'naam', 'omschrijving', 'buurten', 'geometrie', 'relaties', 'stadsdeel', 'woonplaats', 'extra-attributen', 'informatieobjecten'], 'Woningwaardering': ['id', 'idExtern', 'idGegevensbeheerder', 'code', 'begindatum', 'einddatum', 'aantal', 'criterium', 'eenheid', 'groep', 'punten', 'extra-attributen', 'informatieobjecten'], 'WoningwaarderingCriterium': ['id', 'idExtern', 'idGegevensbeheerder', 'code', 'naam', 'criteriumGroep', 'meeteenheid', 'stelsel', 'extra-attributen', 'informatieobjecten'], 'WoningwaarderingCriteriumGroep': ['id', 'idExtern', 'idGegevensbeheerder', 'code', 'naam', 'omschrijving', 'criteria', 'soort', 'stelsel', 'extra-attributen', 'informatieobjecten'], 'WoningwaarderingGroep': ['id', 'idExtern', 'idGegevensbeheerder', 'code', 'begindatum', 'einddatum', 'criteriumGroep', 'eenheid', 'punten', 'woningwaarderingen', 'extra-attributen', 'informatieobjecten'], 'WoningwaarderingResultaat': ['id', 'idExtern', 'idGegevensbeheerder', 'code', 'begindatum', 'einddatum', 'eenheid', 'groepen', 'maximaleHuur', 'punten', 'extra-attributen', 'informatieobjecten'], 'Woonplaats': ['id', 'idExtern', 'idGegevensbeheerder', 'code', 'naam', 'bag', 'gemeente', 'geometrie', 'wijken', 'extra-attributen', 'informatieobjecten'], 'WozEenheid': ['id', 'idExtern', 'idGegevensbeheerder', 'code', 'eenheid', 'vastgesteldeWaarde', 'waardepeildatum', 'extra-attributen', 'informatieobjecten'], 'ZekerheidVerpanding': ['id', 'idExtern', 'idGegevensbeheerder', 'code', 'soort', 'begindatum', 'einddatum', 'akteSoort', 'belastingdienstRegistratiedatum', 'eenheid', 'onderpandWSW', 'relaties', 'extra-attributen', 'informatieobjecten']}, 'Woonruimteverdeling': {'Aanbieding': ['id', 'idExtern', 'idGegevensbeheerder', 'code', 'status', 'detailStatus', 'antwoorddatum', 'vervaldatum', 'antwoordToelichting', 'bezichtiging', 'cluster', 'contactmomenten', 'eenheid', 'kandidaat', 'publicatie', 'relatie', 'extra-attributen', 'informatieobjecten'], 'ExtraAttribuut': ['naam', 'waarde'], 'Foutbericht': ['code', 'omschrijving'], 'Gebeurtenis': ['id', 'idExtern', 'idGegevensbeheerder', 'soort', 'begindatum', 'einddatum', 'datum', 'adres', 'contextId', 'inschrijving', 'vestiging', 'extra-attributen', 'informatieobjecten'], 'HuidigeGebruiker': ['id', 'idExtern', 'idGegevensbeheerder', 'code', 'Vertrekdatum', 'relatie', 'contactgegevens', 'extra-attributen', 'informatieobjecten'], 'Kandidaat': ['id', 'idExtern', 'idGegevensbeheerder', 'code', 'status', 'detailStatus', 'aanbiedingen', 'contactmomenten', 'eenheid', 'positie', 'publicatie', 'reactie', 'relatie', 'extra-attributen', 'informatieobjecten'], 'Publicatie': ['id', 'idExtern', 'idGegevensbeheerder', 'code', 'status', 'detailStatus', 'begindatum', 'einddatum', 'looptijd', 'opleverdatum', 'aantalEenheden', 'aantalEenhedenBeschikbaar', 'advertentieUrl', 'cluster', 'detailModel', 'eenheden', 'huidigeGebruiker', 'intakevorm', 'label', 'model', 'modules', 'oplevering', 'overeenkomstDetailsoort', 'overeenkomstsoort', 'reactieUrl', 'taal', 'wachttijd', 'wachttijdMetVoorrang', 'extra-attributen', 'informatieobjecten'], 'Puntenberekening': ['id', 'idExtern', 'idGegevensbeheerder', 'datum', 'begindatum', 'einddatum', 'puntenmutaties', 'relatie', 'situatiepunten', 'startpunten', 'zoekpunten', 'extra-attributen', 'informatieobjecten'], 'Puntenmutatie': ['id', 'idExtern', 'idGegevensbeheerder', 'soort', 'omschrijving', 'datum', 'gebeurtenissen', 'relatie', 'situatiepunten', 'startpunten', 'zoekpunten', 'extra-attributen', 'informatieobjecten'], 'Reactie': ['id', 'idExtern', 'idGegevensbeheerder', 'code', 'soort', 'status', 'detailStatus', 'datum', 'begeleiderDatum', 'contactmomenten', 'positie', 'publicatie', 'relaties', 'statusToelichting', 'voorkeur', 'extra-attributen', 'informatieobjecten'], 'Referentiedata': ['id', 'idExtern', 'idGegevensbeheerder', 'code', 'soort', 'naam', 'omschrijving', 'parent', 'begindatum', 'einddatum', 'sortering'], 'Regeling': ['id', 'idExtern', 'idGegevensbeheerder', 'code', 'soort', 'begindatum', 'einddatum', 'gebruiken', 'relatie', 'extra-attributen', 'informatieobjecten'], 'Sanctie': ['id', 'idExtern', 'idGegevensbeheerder', 'soort', 'omschrijving', 'status', 'begindatum', 'einddatum', 'gebeurtenissen', 'relatie', 'extra-attributen', 'informatieobjecten'], 'Toewijzing': ['id', 'idExtern', 'idGegevensbeheerder', 'code', 'datum', 'aanbieding', 'aanvullendeDoelgroep', 'afspraken', 'contactmomenten', 'doelgroep', 'eenheid', 'huishoudgrootte', 'isOuderenhuishouden', 'kandidaat', 'overeenkomst', 'passendheidsoort', 'publicatie', 'Rekenhuur', 'Rekeninkomen', 'relatie', 'voorrangsregelingen', 'extra-attributen', 'informatieobjecten'], 'Voorrangsregeling': ['id', 'idExtern', 'idGegevensbeheerder', 'code', 'soort', 'detailSoort', 'naam', 'begindatum', 'einddatum', 'profiel', 'relatie', 'extra-attributen', 'informatieobjecten'], 'VoorrangsregelingProfiel': ['id', 'idExtern', 'idGegevensbeheerder', 'code', 'buurten', 'eenheidSoorten', 'gemeenten', 'huidigeOppervlakte', 'huidigeVerdieping', 'huurInkomenTabel', 'maximumBrutoHuur', 'maximumKamers', 'minimumBrutoHuur', 'minimumKamers', 'minimumOppervlakte', 'stadsdelen', 'toegankelijkheidslabels', 'wijken', 'woonplaatsen', 'extra-attributen', 'informatieobjecten']}}\n"
     ]
    }
   ],
   "source": [
    "print(VERA_dict)"
   ]
  },
  {
   "cell_type": "code",
   "execution_count": 6,
   "id": "4c85148a",
   "metadata": {},
   "outputs": [
    {
     "name": "stdout",
     "output_type": "stream",
     "text": [
      "contractprijzen NOT in VERA\n",
      "contractprijzen NOT in VERA\n",
      "contractprijzen NOT in VERA\n",
      "contractprijzen NOT in VERA\n",
      "contractprijzen NOT in VERA\n",
      "contractprijzen NOT in VERA\n",
      "contractprijzen NOT in VERA\n",
      "contractprijzen NOT in VERA\n",
      "contractprijzen NOT in VERA\n"
     ]
    }
   ],
   "source": [
    "#check whether an object is in VERA\n",
    "#TO DO CHECK WHETHER ATTRIBUTE IS IN VERA\n",
    "object_to_check = 'contractprijzen' \n",
    "#object_to_check = 'detailStatus'\n",
    "\n",
    "my_value_list =[]\n",
    "for value in VERA_dict.values():\n",
    "    my_value_list.append(value)\n",
    "\n",
    "for i in range (len(my_value_list)):\n",
    "    if object_to_check in my_value_list[i]:\n",
    "        print(object_to_check + ' is in VERA')\n",
    "    else:\n",
    "        print(object_to_check + ' NOT in VERA')"
   ]
  },
  {
   "cell_type": "markdown",
   "id": "fd11418b",
   "metadata": {},
   "source": [
    "## 3. A list of items in all json files"
   ]
  },
  {
   "cell_type": "code",
   "execution_count": 11,
   "id": "5f01d988",
   "metadata": {},
   "outputs": [],
   "source": [
    "my_2nd_list = [\"Klant\", \"Leverancier\" , \"Boekstuk\" , \"Transactie\" ,'Eenheid', 'Vastgoed', 'Cluster', 'Verhuurbare Eenheid']"
   ]
  },
  {
   "cell_type": "code",
   "execution_count": null,
   "id": "603fa6df",
   "metadata": {},
   "outputs": [],
   "source": []
  },
  {
   "cell_type": "code",
   "execution_count": 5,
   "id": "2b6a3fdc",
   "metadata": {},
   "outputs": [
    {
     "name": "stdout",
     "output_type": "stream",
     "text": [
      "['Dossier', 'Financien', 'Kwaliteit', 'Onderhoud', 'Overeenkomsten', 'Projectontwikkeling', 'Relaties', 'Vastgoed', 'Woonruimteverdeling']\n",
      "----------------------------------------------------------------------------------------------------------\n",
      "[['Dossier', 'ExtraAttribuut', 'Foutbericht', 'Informatieobject', 'Informatieobjectkenmerk', 'Proces', 'Procesrol', 'Processtap', 'Referentiedata', 'Zaak', 'Zaakkenmerk', 'Zaakrol', 'Zaakstatus', 'Zaaktype'], ['Aanbesteding', 'Aflettering', 'Bankafschrift', 'BankafschriftRegel', 'Begroting', 'Betaalopdracht', 'Betaalwijze', 'Betalingsregeling', 'BetalingsregelingTermijn', 'Boeking', 'Boekingdetail', 'Boekjaar', 'BoekjaarPeriode', 'BoekjaarPeriodesaldo', 'BtwAangifte', 'BtwTarief', 'Crediteur', 'Debiteur', 'ExterneIncasso', 'ExterneIncassoActie', 'ExtraAttribuut', 'FinancieelBedrijf', 'Foutbericht', 'Grootboekmutatie', 'Grootboekrekening', 'IncassoOpdracht', 'Incassomachtiging', 'Inkoopfactuur', 'InkoopfactuurBetaling', 'InkoopfactuurRegel', 'Inkoopopdracht', 'InkoopopdrachtRegel', 'Lening', 'Offerte', 'Offerteregel', 'Prijsaanpassing', 'Referentiedata', 'ToegelatenInstelling', 'Verbijzondering'], ['ExtraAttribuut', 'Foutbericht', 'Kwaliteitsmetingsresultaat', 'Kwaliteitsmetingsverzoek', 'Onderzoeksopdracht', 'Onderzoeksresultaat', 'Referentiedata', 'Vragenlijst', 'VragenlijstAntwoord', 'VragenlijstRegel'], ['Defect', 'ExtraAttribuut', 'Foutbericht', 'Inspectierapport', 'Onderhoudsbesteding', 'Onderhoudsorder', 'Onderhoudstaak', 'Onderhoudstaakvoorcalculatie', 'Onderhoudsverzoek', 'Referentiedata', 'Standaardprijs'], ['ExtraAttribuut', 'Foutbericht', 'Huurgeschil', 'HuurgeschilActie', 'HuurgeschilUitspraak', 'Huuropzegging', 'Huurovereenkomst', 'Huurtoeslag', 'Inspectie', 'Koopovereenkomst', 'Onderhoudsovereenkomst', 'Overeenkomst', 'Overeenkomstkoppeling', 'Prijscomponent', 'Referentiedata', 'Serviceovereenkomst'], ['ExtraAttribuut', 'Foutbericht', 'Project', 'Projectbesteding', 'Projectbudgetregel', 'Projectdoelstelling', 'Projectfase', 'Projectfasebesluit', 'Projectorder', 'Projectrol', 'Projecttaak', 'Referentiedata'], ['Account', 'Afspraak', 'AfspraakOptie', 'Afspraakverzoek', 'Betaalgegeven', 'Contactgegeven', 'Contactmoment', 'ExtraAttribuut', 'Foutbericht', 'Inkomen', 'NatuurlijkPersoon', 'Opleiding', 'Rechtspersoon', 'Referentiedata', 'Relatie', 'RelatieAdres', 'Relatiegroep', 'Relatierol', 'Signalering', 'Telefoonnummer'], ['Adres', 'AdresseerbaarObjectBasisregistratie', 'BagAdres', 'BagPand', 'BagWoonplaats', 'Beleidswaarde', 'Bouwdeel', 'BouwkundigElement', 'BuitenlandsAdres', 'Buurt', 'Cluster', 'CollectiefObject', 'Conditiemeting', 'Eenheid', 'EenheidToestand', 'EenheidVoorwaarden', 'Eenheidadres', 'Energieprestatie', 'ExtraAttribuut', 'Foutbericht', 'Garantie', 'Gebouw', 'Gemeente', 'Geometrie', 'KadasterPerceel', 'Marktwaarde', 'Pand', 'Postadres', 'Punt', 'Referentiedata', 'Renovatie', 'Stadsdeel', 'Taxatie', 'Vertrek', 'Wijk', 'Woningwaardering', 'WoningwaarderingCriterium', 'WoningwaarderingCriteriumGroep', 'WoningwaarderingGroep', 'WoningwaarderingResultaat', 'Woonplaats', 'WozEenheid', 'ZekerheidVerpanding'], ['Aanbieding', 'ExtraAttribuut', 'Foutbericht', 'Gebeurtenis', 'HuidigeGebruiker', 'Kandidaat', 'Publicatie', 'Puntenberekening', 'Puntenmutatie', 'Reactie', 'Referentiedata', 'Regeling', 'Sanctie', 'Toewijzing', 'Voorrangsregeling', 'VoorrangsregelingProfiel']]\n",
      "----------------------------------------------------------------------------------------------------------\n",
      "[['id', 'idExtern', 'idGegevensbeheerder', 'code', 'soort', 'detailSoort', 'omschrijving', 'bovenliggendDossier', 'status', 'begindatum', 'einddatum', 'archiefActiedatum', 'archiefnominatie', 'clusters', 'collectiefObjecten', 'contactmomenten', 'deelDossiers', 'detailStatus', 'eenheden', 'inkoopfacturen', 'inkoopopdrachten', 'onderhoudsverzoeken', 'overeenkomsten', 'processen', 'relaties', 'zaken', 'extra-attributen', 'informatieobjecten'], ['naam', 'waarde'], ['code', 'omschrijving'], ['id', 'idExtern', 'idGegevensbeheerder', 'code', 'soort', 'detailSoort', 'onderwerp', 'subonderwerp', 'titel', 'beschrijving', 'status', 'detailStatus', 'registratiedatum', 'ontvangstdatum', 'publicatiedatum', 'archiefActiedatum', 'archiefnominatie', 'auteur', 'bestand', 'bestandsgrootte', 'bestandslocatie', 'bestandsnaam', 'bijlagen', 'clusters', 'collectiefObjecten', 'contactmomenten', 'dossiers', 'eenheden', 'externePublicatie', 'externePublicatietekst', 'formaat', 'gebruiksrechten', 'inkoopfacturen', 'inkoopopdrachten', 'isBijlageVan', 'onderhoudsverzoeken', 'overeenkomsten', 'processen', 'relaties', 'taal', 'verantwoordelijkeOrganisatie', 'versie', 'vertrouwelijkheid', 'zaken', 'extra-attributen'], ['id', 'idExtern', 'idGegevensbeheerder', 'code', 'omschrijving', 'waarde', 'datatype', 'groep', 'extra-attributen', 'informatieobjecten'], ['id', 'idExtern', 'idGegevensbeheerder', 'code', 'soort', 'bovenliggendProces', 'status', 'begindatum', 'einddatum', 'verloopdatum', 'clusters', 'collectiefObjecten', 'deelprocessen', 'dossiers', 'eenheden', 'inkoopfacturen', 'inkoopopdrachten', 'niveau', 'onderhoudsverzoeken', 'overeenkomsten', 'prioriteit', 'processtappen', 'relaties', 'rollen', 'zaken', 'extra-attributen', 'informatieobjecten'], ['id', 'idExtern', 'idGegevensbeheerder', 'code', 'omschrijving', 'begindatum', 'einddatum', 'processen', 'processtappen', 'relatie', 'toelichtingRol', 'extra-attributen', 'informatieobjecten'], ['id', 'idExtern', 'idGegevensbeheerder', 'code', 'soort', 'status', 'begindatum', 'einddatum', 'verloopdatum', 'actie', 'positie', 'prioriteit', 'proces', 'rollen', 'vorigeProcesstappen', 'extra-attributen', 'informatieobjecten'], ['id', 'idExtern', 'idGegevensbeheerder', 'code', 'soort', 'naam', 'omschrijving', 'parent', 'begindatum', 'einddatum', 'sortering'], ['id', 'idExtern', 'idGegevensbeheerder', 'code', 'omschrijving', 'toelichting', 'bovenliggendeZaak', 'begindatum', 'einddatum', 'registratiedatum', 'publicatiedatum', 'geplandeEinddatum', 'uiterlijkeEinddatum', 'archiefstatus', 'archiefActiedatum', 'archiefnominatie', 'clusters', 'collectiefObjecten', 'contactmomenten', 'deelzaken', 'dossier', 'eenheden', 'gerelateerdeZaken', 'inkoopfacturen', 'inkoopopdrachten', 'kenmerken', 'onderhoudsverzoeken', 'overeenkomsten', 'processen', 'relaties', 'resultaatOmschrijving', 'resultaatToelichting', 'rollen', 'verantwoordelijkeOrganisatie', 'zaakstatussen', 'zaaktype', 'extra-attributen', 'informatieobjecten'], ['id', 'idExtern', 'idGegevensbeheerder', 'code', 'omschrijving', 'waarde', 'datatype', 'groep', 'zaken', 'extra-attributen', 'informatieobjecten'], ['id', 'idExtern', 'idGegevensbeheerder', 'code', 'soort', 'omschrijving', 'begindatum', 'einddatum', 'afwijkendContactgegegeven', 'indicatieGemachtigde', 'relatie', 'toelichtingRol', 'zaak', 'zaakstatussen', 'extra-attributen', 'informatieobjecten'], ['id', 'idExtern', 'idGegevensbeheerder', 'code', 'soort', 'begindatum', 'einddatum', 'toelichting', 'zaak', 'zaakrol', 'extra-attributen', 'informatieobjecten'], ['id', 'idExtern', 'idGegevensbeheerder', 'code', 'soort', 'detailSoort', 'generiekeOmschrijving', 'omschrijving', 'begindatum', 'einddatum', 'aanleiding', 'archiefcode', 'doel', 'domein', 'doorlooptijd', 'externePublicatie', 'externePublicatietekst', 'relatie', 'servicenorm', 'trefwoord', 'vertrouwelijkheid', 'zaakstatussen', 'zaken', 'extra-attributen', 'informatieobjecten'], ['id', 'idExtern', 'idGegevensbeheerder', 'code', 'extra-attributen', 'informatieobjecten'], ['id', 'idExtern', 'idGegevensbeheerder', 'code', 'omschrijving', 'datum', 'bedrag', 'huurBoeking', 'tegenHuurBoeking', 'extra-attributen', 'informatieobjecten'], ['id', 'idExtern', 'idGegevensbeheerder', 'code', 'omschrijving', 'status', 'afBedrag', 'bankafschriftRegels', 'beginsaldo', 'bijBedrag', 'eindsaldo', 'postenAantal', 'rekening', 'relatie', 'extra-attributen', 'informatieobjecten'], ['id', 'idExtern', 'idGegevensbeheerder', 'code', 'soort', 'omschrijving', 'valutadatum', 'afBedrag', 'bankafschrift', 'betaalopdracht', 'betalingskenmerk', 'bijBedrag', 'boekingen', 'incassoOpdrachten', 'inkoopfactuurBetaling', 'rekening', 'extra-attributen', 'informatieobjecten'], ['id', 'idExtern', 'idGegevensbeheerder', 'code', 'omschrijving', 'periode', 'creditbedrag', 'debetbedrag', 'grootboekrekeningen', 'verbijzonderingen', 'versie', 'extra-attributen', 'informatieobjecten'], ['id', 'idExtern', 'idGegevensbeheerder', 'code', 'omschrijving', 'status', 'plandatum', 'fiatdatum', 'bankafschriftRegels', 'bedrag', 'grootboekmutaties', 'inkoopfactuurBetaling', 'postenAantal', 'relatie', 'extra-attributen', 'informatieobjecten'], ['id', 'idExtern', 'idGegevensbeheerder', 'code', 'soort', 'betaalgegeven', 'incassomachtiging', 'incassomoment', 'extra-attributen', 'informatieobjecten'], ['id', 'idExtern', 'idGegevensbeheerder', 'code', 'omschrijving', 'toelichting', 'status', 'begindatum', 'einddatum', 'afspraakdatum', 'bedrag', 'betaalgegeven', 'boekingen', 'debiteur', 'eindeReden', 'incassowijze', 'organisatieBetaalgegeven', 'overeenkomst', 'prolongatieInterval', 'prolongatieTotDatum', 'saldo', 'termijnen', 'termijnenAantal', 'extra-attributen', 'informatieobjecten'], ['id', 'idExtern', 'idGegevensbeheerder', 'code', 'omschrijving', 'status', 'datum', 'vervaldatum', 'bedrag', 'betalingsregeling', 'saldo', 'extra-attributen', 'informatieobjecten'], ['id', 'idExtern', 'idGegevensbeheerder', 'code', 'soort', 'detailSoort', 'omschrijving', 'status', 'boekdatum', 'factuurdatum', 'valutadatum', 'vervaldatum', 'kortingsdatum', 'aflettering', 'afletteringen', 'bankafschriftRegel', 'bedrag', 'betaalgegeven', 'betalingskenmerk', 'betalingsregelingen', 'boekingdetails', 'btwAangiftes', 'btwBedrag', 'btwGeenGrondslagbedrag', 'btwHoogAangiftebedrag', 'btwHoogGrondslagbedrag', 'btwLaagAangiftebedrag', 'btwLaagGrondslagbedrag', 'btwNulGrondslagbedrag', 'debiteur', 'externeIncassos', 'grootboekmutatie', 'huurgeschil', 'incassomachtiging', 'incassoOpdracht', 'organisatieBetaalgegeven', 'overeenkomst', 'saldo', 'extra-attributen', 'informatieobjecten'], ['id', 'idExtern', 'idGegevensbeheerder', 'code', 'omschrijving', 'aantal', 'bedrag', 'boeking', 'btwAangiftebedrag', 'btwTarief', 'grootboekmutatie', 'grootboekrekening', 'meeteenheid', 'prijsPerMeeteenheid', 'verbijzondering', 'extra-attributen', 'informatieobjecten'], ['id', 'idExtern', 'idGegevensbeheerder', 'code', 'omschrijving', 'status', 'begindatum', 'einddatum', 'bedrijf', 'boekjaarperiodes', 'periodeSoort', 'extra-attributen', 'informatieobjecten'], ['id', 'idExtern', 'idGegevensbeheerder', 'code', 'soort', 'omschrijving', 'status', 'begindatum', 'einddatum', 'begrotingen', 'boekjaar', 'boekjaarperiodesaldos', 'extra-attributen', 'informatieobjecten'], ['id', 'idExtern', 'idGegevensbeheerder', 'code', 'boekjaarPeriode', 'creditbedrag', 'debetbedrag', 'grootboekmutaties', 'grootboekrekening', 'verbijzonderingen', 'extra-attributen', 'informatieobjecten'], ['id', 'idExtern', 'idGegevensbeheerder', 'code', 'omschrijving', 'status', 'datum', 'begindatum', 'einddatum', 'bedrijf', 'boekingen', 'inkoopfacturen', 'extra-attributen', 'informatieobjecten'], ['id', 'idExtern', 'idGegevensbeheerder', 'code', 'omschrijving', 'begindatum', 'einddatum', 'boekingdetails', 'grootboekmutaties', 'inkoopfactuurregels', 'percentage', 'extra-attributen', 'informatieobjecten'], ['id', 'idExtern', 'idGegevensbeheerder', 'code', 'soort', 'status', 'bedrijf', 'betaaldagen', 'betalingsconditie', 'btwVerlegd', 'externDebiteurnummer', 'gRekening', 'gRekeningPercentage', 'inkoopfacturen', 'inkoopopdrachten', 'kortingdagen', 'rekeningen', 'relatie', 'saldo', 'wkaBegindatum', 'wkaDatumBelastingdienst', 'wkaDatumUitvoerendeInstantie', 'wkaEinddatum', 'wkaRegeling', 'extra-attributen', 'informatieobjecten'], ['id', 'idExtern', 'idGegevensbeheerder', 'code', 'soort', 'status', 'bedrijf', 'boekingen', 'btwPlichtig', 'incassomachtigingen', 'kortingsdagen', 'rekeningen', 'relatie', 'saldo', 'vervaltermijn', 'extra-attributen', 'informatieobjecten'], ['id', 'idExtern', 'idGegevensbeheerder', 'code', 'soort', 'omschrijving', 'status', 'begindatum', 'einddatum', 'overdrachtsdatum', 'bedrag', 'boekingen', 'debiteur', 'externeincassoacties', 'overeenkomst', 'relatie', 'saldo', 'extra-attributen', 'informatieobjecten'], ['id', 'idExtern', 'idGegevensbeheerder', 'code', 'soort', 'omschrijving', 'status', 'begindatum', 'einddatum', 'externeIncasso', 'relatie', 'extra-attributen', 'informatieobjecten'], ['naam', 'waarde'], ['id', 'idExtern', 'idGegevensbeheerder', 'code', 'soort', 'naam', 'betaalcyclusDuur', 'boekjaren', 'btwAangiftes', 'consolidatieBedrijf', 'crediteuren', 'debiteuren', 'deelnemingspercentage', 'geconsolideerdebedrijven', 'grootboekrekeningen', 'maatschappelijkLabel', 'relatie', 'verbijzonderingen', 'extra-attributen', 'informatieobjecten'], ['code', 'omschrijving'], ['id', 'idExtern', 'idGegevensbeheerder', 'code', 'omschrijving', 'boekdatum', 'betaalopdrachten', 'boekingdetails', 'boekingen', 'boekjaarPeriodesaldo', 'boekstuknummer', 'boekstuknummerCode', 'boekstukregel', 'btwBedrag', 'btwTarieven', 'creditbedrag', 'debetbedrag', 'grootboekrekening', 'herkomst', 'incassoOpdrachten', 'inkoopfacturen', 'inkoopfactuurBetalingen', 'inkoopfactuurRegels', 'inkoopopdrachten', 'inkoopopdrachtregels', 'volgnummer', 'extra-attributen', 'informatieobjecten'], ['id', 'idExtern', 'idGegevensbeheerder', 'code', 'soort', 'omschrijving', 'status', 'begindatum', 'einddatum', 'bedrijf', 'begrotingen', 'boekingdetails', 'boekjaarperiodesaldos', 'inkoopopdrachtregels', 'referentiegrootboekschemacode', 'extra-attributen', 'informatieobjecten'], ['id', 'idExtern', 'idGegevensbeheerder', 'code', 'omschrijving', 'aanmaakdatum', 'fiatdatum', 'plandatum', 'bankafschriftRegels', 'bedrag', 'boekingen', 'grootboekmutatie', 'postenAantal', 'rekening', 'relatie', 'saldo', 'extra-attributen', 'informatieobjecten'], ['id', 'idExtern', 'idGegevensbeheerder', 'code', 'soort', 'afgiftedatum', 'boekingen', 'debiteur', 'machtigingsnummer', 'rekening', 'extra-attributen', 'informatieobjecten'], ['id', 'idExtern', 'idGegevensbeheerder', 'code', 'soort', 'omschrijving', 'ontvangstdatum', 'boekdatum', 'factuurdatum', 'plandatum', 'vervaldatum', 'bedrag', 'betalingAkkoord', 'betalingskenmerk', 'btwAangifte', 'btwBedrag', 'btwGeenGrondslagbedrag', 'btwHoogAangiftebedrag', 'btwHoogGrondslagbedrag', 'btwLaagAangiftebedrag', 'btwLaagGrondslagbedrag', 'btwNulGrondslagbedrag', 'btwTerugTeVorderen', 'btwVerlegd', 'crediteur', 'externFactuurnummer', 'factuurGeblokkeerd', 'gRekeningbedrag', 'grootboekmutaties', 'inkoopfactuurBetaling', 'inkoopfactuurregels', 'inkoopopdracht', 'korting', 'openstaandBedrag', 'rekening', 'relatie', 'toeslag', 'extra-attributen', 'informatieobjecten'], ['id', 'idExtern', 'idGegevensbeheerder', 'code', 'omschrijving', 'status', 'datum', 'bankafschriftRegel', 'bedrag', 'betaalkenmerk', 'betaalopdracht', 'grootboekmutatie', 'inkoopfactuur', 'kortingsbedrag', 'rekening', 'rekeningBetaling', 'volgnummerInBetaalopdracht', 'extra-attributen', 'informatieobjecten'], ['id', 'idExtern', 'idGegevensbeheerder', 'code', 'omschrijving', 'bedrag', 'btwAangiftebedrag', 'btwTarief', 'grootboekmutaties', 'grootboekrekening', 'inkoopfactuur', 'inkoopopdrachtregels', 'korting', 'toeslag', 'verbijzonderingen', 'extra-attributen', 'informatieobjecten'], ['id', 'idExtern', 'idGegevensbeheerder', 'code', 'omschrijving', 'status', 'opdrachtdatum', 'boekdatum', 'btwGeenGrondslagbedrag', 'btwHoogGrondslagbedrag', 'btwLaagGrondslagbedrag', 'btwNulGrondslagbedrag', 'crediteur', 'grootboekmutaties', 'inkoopfacturen', 'inkoopodrachtregels', 'onderhoudsorder', 'projectorders', 'relatie', 'extra-attributen', 'informatieobjecten'], ['id', 'idExtern', 'idGegevensbeheerder', 'code', 'omschrijving', 'plandatum', 'btwGeenGrondslagbedrag', 'btwHoogGrondslagbedrag', 'btwLaagGrondslagbedrag', 'btwNulGrondslagbedrag', 'grootboekmutatie', 'grootboekrekening', 'inkoopfactuurregels', 'inkoopopdracht', 'onderhoudsTaak', 'extra-attributen', 'informatieobjecten'], ['id', 'idExtern', 'idGegevensbeheerder', 'code', 'omschrijving', 'soort', 'detailSoort', 'begindatum', 'einddatum', 'achtergesteld', 'aflosvorm', 'borgingWSW', 'coupondatum1', 'coupondatum2', 'couponFrequentie', 'euriborOpslag', 'financier', 'nominaalSchuldrestant', 'relaties', 'rentepercentage', 'renteperiode', 'rentesoort', 'startbedrag', 'extra-attributen', 'informatieobjecten'], ['id', 'idExtern', 'idGegevensbeheerder', 'code', 'omschrijving', 'status', 'begindatum', 'offertedatum', 'vervaldatum', 'bedrag', 'btwBedrag', 'korting', 'offerteregels', 'relaties', 'toeslag', 'extra-attributen', 'informatieobjecten'], ['id', 'idExtern', 'idGegevensbeheerder', 'code', 'omschrijving', 'aantal', 'bedrag', 'bestedingsoort', 'btwTarief', 'korting', 'meeteenheid', 'offerte', 'toeslag', 'extra-attributen', 'informatieobjecten'], ['id', 'idExtern', 'idGegevensbeheerder', 'code', 'soort', 'omschrijving', 'bedrag', 'percentage', 'extra-attributen', 'informatieobjecten'], ['id', 'idExtern', 'idGegevensbeheerder', 'code', 'soort', 'naam', 'omschrijving', 'parent', 'begindatum', 'einddatum', 'sortering'], ['id', 'idExtern', 'idGegevensbeheerder', 'code', 'omschrijving', 'verantwoordingConsolidatie', 'verantwoordingRegime', 'extra-attributen', 'informatieobjecten'], ['id', 'idExtern', 'idGegevensbeheerder', 'code', 'soort', 'omschrijving', 'status', 'beginjaar', 'beginperiode', 'eindjaar', 'eindperiode', 'bedrijf', 'begrotingen', 'boekingdetails', 'boekjaarperiodesaldos', 'inkoopofactuurregels', 'viaMemoriaalBoekenToestaan', 'viaSubBoekenToestaan', 'extra-attributen', 'informatieobjecten'], ['naam', 'waarde'], ['code', 'omschrijving'], ['id', 'idExtern', 'idGegevensbeheerder', 'code', 'omschrijving', 'datumReactie', 'beoordelingsSchaal', 'beoordelingsWaarde', 'kwaliteitsmetingsverzoek', 'onderzoeksopdracht', 'resultaatReactie', 'toelichtingBeoordeling', 'extra-attributen', 'informatieobjecten'], ['id', 'idExtern', 'idGegevensbeheerder', 'code', 'soort', 'omschrijving', 'status', 'afgerondeZaak', 'contactmoment', 'eenheid', 'kwaliteitsmetingresultaat', 'onderhoudsverzoek', 'onderzoeksopdracht', 'overeenkomst', 'relaties', 'teEnqueterenRelatie', 'extra-attributen', 'informatieobjecten'], ['id', 'idExtern', 'idGegevensbeheerder', 'code', 'soort', 'omschrijving', 'status', 'antwoorden', 'contactgegeven', 'kanaal', 'postadres', 'relatie', 'vragenlijst', 'extra-attributen', 'informatieobjecten'], ['id', 'idExtern', 'idGegevensbeheerder', 'code', 'antwoorden', 'opdracht', 'extra-attributen', 'informatieobjecten'], ['id', 'idExtern', 'idGegevensbeheerder', 'code', 'soort', 'naam', 'omschrijving', 'parent', 'begindatum', 'einddatum', 'sortering'], ['id', 'idExtern', 'idGegevensbeheerder', 'code', 'soort', 'omschrijving', 'vragen', 'extra-attributen', 'informatieobjecten'], ['id', 'idExtern', 'idGegevensbeheerder', 'code', 'antwoord', 'toelichting', 'vraag', 'extra-attributen', 'informatieobjecten'], ['id', 'idExtern', 'idGegevensbeheerder', 'code', 'soort', 'omschrijving', 'opties', 'volgordenummer', 'vragenlijsten', 'extra-attributen', 'informatieobjecten'], ['id', 'idExtern', 'idGegevensbeheerder', 'code', 'soort', 'omschrijving', 'status', 'melddatum', 'aangetroffenOorzaak', 'bouwkundigElement', 'cluster', 'collectiefObject', 'eenheid', 'inspectierapport', 'locatie', 'onderhoudsverzoeken', 'oorzaak', 'relaties', 'extra-attributen', 'informatieobjecten'], ['naam', 'waarde'], ['code', 'omschrijving'], ['id', 'idExtern', 'idGegevensbeheerder', 'code', 'soort', 'omschrijving', 'status', 'geconstateerdeDefecten', 'inspectieOrder', 'relaties', 'voorgesteldeOnderhoudstaken', 'extra-attributen', 'informatieobjecten'], ['id', 'idExtern', 'idGegevensbeheerder', 'code', 'soort', 'omschrijving', 'uitvoerdatum', 'uitvoerBegintijd', 'uitvoerEindtijd', 'aantal', 'bedrag', 'meeteenheid', 'onderhoudstaak', 'reistijd', 'extra-attributen', 'informatieobjecten'], ['id', 'idExtern', 'idGegevensbeheerder', 'code', 'onderhoudSoort', 'onderhoudDetailSoort', 'omschrijving', 'bovenliggendeOrder', 'status', 'begindatum', 'einddatum', 'uitersteStartdatum', 'uitersteGereeddatum', 'opdrachtdatum', 'afrekenwijze', 'afspraken', 'cluster', 'collectiefObject', 'debiteur', 'defecten', 'eenheid', 'financieelGereeddatum', 'offertes', 'onderhoudstaken', 'onderhoudsverzoeken', 'overeenkomst', 'relaties', 'technischGereeddatum', 'uitvoerendeSoort', 'extra-attributen', 'informatieobjecten'], ['id', 'idExtern', 'idGegevensbeheerder', 'code', 'omschrijving', 'status', 'detailStatus', 'afspraken', 'defecten', 'onderhoudsbestedingen', 'onderhoudsorder', 'onderhoudsverzoek', 'relaties', 'specialisme', 'voorcalculaties', 'extra-attributen', 'informatieobjecten'], ['id', 'idExtern', 'idGegevensbeheerder', 'code', 'bestedingsoort', 'omschrijving', 'aantal', 'bedrag', 'meeteenheid', 'onderhoudstaak', 'standaardprijs', 'extra-attributen', 'informatieobjecten'], ['id', 'idExtern', 'idGegevensbeheerder', 'code', 'onderhoudSoort', 'omschrijving', 'status', 'melddatum', 'alternatiefContactgegeven', 'contactmomenten', 'defecten', 'onderhoudsorders', 'onderhoudstaken', 'onderhoudsverzoeken', 'relaties', 'voorkeurAfspraken', 'extra-attributen', 'informatieobjecten'], ['id', 'idExtern', 'idGegevensbeheerder', 'code', 'soort', 'naam', 'omschrijving', 'parent', 'begindatum', 'einddatum', 'sortering'], ['id', 'idExtern', 'idGegevensbeheerder', 'code', 'omschrijving', 'aantal', 'bedrag', 'meeteenheid', 'onderhoudstaakvoorcalculaties', 'extra-attributen', 'informatieobjecten'], ['naam', 'waarde'], ['code', 'omschrijving'], ['id', 'idExtern', 'idGegevensbeheerder', 'code', 'omschrijving', 'status', 'einddatum', 'acties', 'bedrag', 'contactmomenten', 'hoorzittingdatum', 'huurcomissieDossiernummer', 'huurovereenkomst', 'matigen', 'reden', 'uitspraken', 'extra-attributen', 'informatieobjecten'], ['id', 'idExtern', 'idGegevensbeheerder', 'code', 'omschrijving', 'actiedatum', 'huurgeschil', 'relatie', 'extra-attributen', 'informatieobjecten'], ['id', 'idExtern', 'idGegevensbeheerder', 'code', 'soort', 'datum', 'bedrag', 'huurgeschil', 'extra-attributen', 'informatieobjecten'], ['id', 'idExtern', 'idGegevensbeheerder', 'code', 'status', 'begindatum', 'einddatum', 'opzegdatum', 'huurovereenkomst', 'inspectieafspraken', 'redenOpzegging', 'relaties', 'extra-attributen', 'informatieobjecten'], ['allOf: Overeenkomst', 'opzegdatum', 'prolongatieInterval', 'prolongatieTotDatum', 'huurHerzieningsdatum', 'afwijkendeBetaler', 'afwijkendeBetalerIncassowijze', 'bepaaldeTijd', 'brutohuur', 'btw', 'huurgeschillen', 'huurtoeslagen', 'maatschappelijkLabel', 'opzegtermijn', 'rekenhuur', 'startBrutohuur', 'startBrutoJaarinkomen', 'startLeeftijd', 'vervaltermijnInterval', 'waarborgsom', 'waarborgsomRente', 'extra-attributen', 'informatieobjecten'], ['id', 'idExtern', 'idGegevensbeheerder', 'code', 'huurovereenkomst', 'maand', 'jaar', 'bedrag', 'extra-attributen', 'informatieobjecten'], ['id', 'idExtern', 'idGegevensbeheerder', 'code', 'soort', 'status', 'afspraak', 'overeenkomst', 'relaties', 'extra-attributen', 'informatieobjecten'], ['allOf: Overeenkomst', 'koopsom', 'koopsomTotaal', 'kortingspercentage', 'oudHuurder', 'prijs', 'transportdatum', 'vveBijdrage', 'extra-attributen', 'informatieobjecten'], ['allOf: Overeenkomst', 'omschrijving', 'bouwkundigElement', 'cluster', 'collectiefObject', 'orders', 'specialismen', 'extra-attributen', 'informatieobjecten'], ['id', 'idExtern', 'idGegevensbeheerder', 'code', 'soort', 'detailSoort', 'status', 'begindatum', 'einddatum', 'conceptVersturingsdatum', 'verstuurdatum', 'versturenStatus', 'bewakingsstatus', 'betaalgegeven', 'betaalwijze', 'contactmomenten', 'eenheden', 'eindeDetailReden', 'eindeReden', 'garanties', 'incassomoment', 'incassowijze', 'onderhoudsverzoeken', 'prijscomponenten', 'redenOntbinding', 'redenOpzegging', 'redenVernietiging', 'relaties', 'versturen', 'volgnummer', 'extra-attributen', 'informatieobjecten'], ['id', 'idExtern', 'idGegevensbeheerder', 'status', 'begindatum', 'einddatum', 'overeenkomsten', 'extra-attributen', 'informatieobjecten'], ['id', 'idExtern', 'idGegevensbeheerder', 'code', 'naam', 'soort', 'detailSoort', 'subsidieSoort', 'begindatum', 'einddatum', 'bedrag', 'bedragInclusiefBtw', 'btw', 'eenheid', 'overeenkomst', 'extra-attributen', 'informatieobjecten'], ['id', 'idExtern', 'idGegevensbeheerder', 'code', 'soort', 'naam', 'omschrijving', 'parent', 'begindatum', 'einddatum', 'sortering'], ['allOf: Overeenkomst', 'bedrag', 'samenwerkingsverband', 'extra-attributen', 'informatieobjecten'], ['naam', 'waarde'], ['code', 'omschrijving'], ['id', 'idExtern', 'idGegevensbeheerder', 'code', 'soort', 'naam', 'bovenliggendProject', 'status', 'begindatum', 'einddatum', 'aanbestedingen', 'clusters', 'doelstelling', 'dossier', 'eenheden', 'fasen', 'percelen', 'regiesoort', 'rollen', 'extra-attributen', 'informatieobjecten'], ['id', 'idExtern', 'idGegevensbeheerder', 'code', 'soort', 'omschrijving', 'uitvoerdatum', 'uitvoerBegintijd', 'uitvoerEindtijd', 'aantal', 'bedrag', 'budgetregel', 'meeteenheid', 'order', 'reistijd', 'taak', 'extra-attributen', 'informatieobjecten'], ['id', 'idExtern', 'idGegevensbeheerder', 'code', 'soort', 'regelsoort', 'omschrijving', 'bovenliggendeBudgetregel', 'status', 'begindatum', 'einddatum', 'datumAanvraag', 'datumGoedkeuring', 'bedrag', 'bestedingen', 'btwTarief', 'doelstelling', 'fase', 'fasebesluit', 'grootboekrekening', 'order', 'extra-attributen', 'informatieobjecten'], ['id', 'idExtern', 'idGegevensbeheerder', 'code', 'gewensteBegindatum', 'gewensteEinddatum', 'aantalGetransformeerdeEenheden', 'aantalTeBouwenEenheden', 'aantalTeRenoverenEenheden', 'aantalTeSlopenEenheden', 'aantalTeTransformerenEenheden', 'beleidswaarde', 'brutoAanvangsrendement', 'gemBVOPerEenheid', 'gemGBOPerEenheid', 'gemiddeldeEnergieindex', 'gemiddeldeHuurprijs', 'gemiddeldeWoningwaarderingsPunten', 'gemVVOPerEenheid', 'initieleBudgetregels', 'internalRateOfReturn', 'maatschappelijkLabel', 'marktwaarde', 'nettoAanvangsrendement', 'project', 'extra-attributen', 'informatieobjecten'], ['id', 'idExtern', 'idGegevensbeheerder', 'code', 'soort', 'begindatum', 'einddatum', 'gewensteBegindatum', 'gewensteEinddatum', 'besluit', 'budgetregels', 'project', 'rollen', 'taken', 'volgnummer', 'extra-attributen', 'informatieobjecten'], ['id', 'idExtern', 'idGegevensbeheerder', 'code', 'status', 'begindatum', 'einddatum', 'budgetregels', 'fase', 'extra-attributen', 'informatieobjecten'], ['id', 'idExtern', 'idGegevensbeheerder', 'code', 'bestedingen', 'budgetregels', 'inkoopopdracht', 'overeenkomst', 'taak', 'extra-attributen', 'informatieobjecten'], ['id', 'idExtern', 'idGegevensbeheerder', 'code', 'soort', 'detailSoort', 'begindatum', 'einddatum', 'fases', 'project', 'relatie', 'taken', 'extra-attributen', 'informatieobjecten'], ['id', 'idExtern', 'idGegevensbeheerder', 'code', 'soort', 'detailSoort', 'omschrijving', 'begindatum', 'einddatum', 'gewensteBegindatum', 'gewensteEinddatum', 'bestedingen', 'clusters', 'eenheden', 'fase', 'kwaliteitsmetingen', 'orders', 'percelen', 'rollen', 'extra-attributen', 'informatieobjecten'], ['id', 'idExtern', 'idGegevensbeheerder', 'code', 'soort', 'naam', 'omschrijving', 'parent', 'begindatum', 'einddatum', 'sortering'], ['id', 'idExtern', 'idGegevensbeheerder', 'code', 'status', 'begindatum', 'einddatum', 'gebruikersnaam', 'relatie', 'wachtwoorddatum', 'extra-attributen', 'informatieobjecten'], ['id', 'idExtern', 'idGegevensbeheerder', 'code', 'onderwerp', 'status', 'begindatum', 'einddatum', 'bloktijdBegin', 'bloktijdEind', 'alternatiefContactgegeven', 'contactgegeven', 'locatie', 'relaties', 'extra-attributen', 'informatieobjecten'], ['id', 'idExtern', 'idGegevensbeheerder', 'code', 'begindatum', 'einddatum', 'bloktijdBegin', 'bloktijdEind', 'locatie', 'onderhoudsorder', 'onderhoudstaak', 'onderhoudsverzoek', 'planningscore', 'relaties', 'specialisme', 'extra-attributen', 'informatieobjecten'], ['id', 'idExtern', 'idGegevensbeheerder', 'code', 'soort', 'duur', 'termijn', 'adres', 'opties', 'relaties', 'volgorde', 'extra-attributen', 'informatieobjecten'], ['id', 'idExtern', 'idGegevensbeheerder', 'code', 'soort', 'begindatum', 'einddatum', 'bic', 'iban', 'incassomachtigingen', 'incassowijze', 'overeenkomst', 'primair', 'rekeninghouder', 'rekeningnummer', 'rekeningPlaats', 'relatie', 'extra-attributen', 'informatieobjecten'], ['id', 'idExtern', 'idGegevensbeheerder', 'code', 'soort', 'detailSoort', 'status', 'relatie', 'relatierol', 'vertrouwelijkheid', 'voorkeur', 'waarde', 'extra-attributen', 'informatieobjecten'], ['id', 'idExtern', 'idGegevensbeheerder', 'code', 'omschrijving', 'datum', 'dossier', 'kanaal', 'relaties', 'richting', 'zaak', 'extra-attributen', 'informatieobjecten'], ['naam', 'waarde'], ['code', 'omschrijving'], ['id', 'idExtern', 'idGegevensbeheerder', 'code', 'controledatum', 'bron', 'brutoJaarinkomen', 'brutoMaandinkomen', 'inkomensverklaringsoort', 'nettoJaarinkomen', 'nettoMaandinkomen', 'relaties', 'extra-attributen', 'informatieobjecten'], ['allOf: Relatie', 'bsn', 'geboortedatum', 'overlijdensdatum', 'aanbiedingen', 'aanhef', 'achternaam', 'burgerlijkeStaat', 'geslacht', 'initialen', 'inkomens', 'nationaliteit', 'opleiding', 'reacties', 'regelingen', 'roepnaam', 'signaleringen', 'toewijzingen', 'tussenvoegsels', 'voorkeurstaal', 'voorletters', 'voornaam', 'voorrangsregelingen', 'extra-attributen', 'informatieobjecten'], ['id', 'idExtern', 'idGegevensbeheerder', 'code', 'studentnummer', 'begindatum', 'einddatum', 'instelling', 'niveau', 'plaats', 'relatie', 'extra-attributen', 'informatieobjecten'], ['allOf: Relatie', 'kvkNummer', 'globaalLocatienummer', 'naam', 'btwNummer', 'organisatievorm', 'relaties', 'extra-attributen', 'informatieobjecten'], ['id', 'idExtern', 'idGegevensbeheerder', 'code', 'soort', 'naam', 'omschrijving', 'parent', 'begindatum', 'einddatum', 'sortering'], ['id', 'idExtern', 'idGegevensbeheerder', 'code', 'soort', 'status', 'adressen', 'afspraken', 'betaalgegevens', 'contactgegevens', 'contactmomenten', 'groepen', 'inspecties', 'onderhoudsverzoeken', 'overeenkomsten', 'rollen', 'extra-attributen', 'informatieobjecten'], ['id', 'idExtern', 'idGegevensbeheerder', 'code', 'soort', 'begindatum', 'einddatum', 'adres', 'relatie', 'extra-attributen', 'informatieobjecten'], ['allOf: Relatie', 'naam', 'relaties', 'extra-attributen', 'informatieobjecten'], ['id', 'idExtern', 'idGegevensbeheerder', 'code', 'soort', 'naam', 'omschrijving', 'begindatum', 'einddatum', 'contactgegevens', 'contactmomenten', 'relatie', 'relatieAdressen', 'rolRelatie', 'extra-attributen', 'informatieobjecten'], ['id', 'idExtern', 'idGegevensbeheerder', 'code', 'soort', 'status', 'detailStatus', 'begindatum', 'einddatum', 'adres', 'relatie', 'extra-attributen', 'informatieobjecten'], ['allOf: Contactgegeven', 'abonneenummer', 'dagdelen', 'extensie', 'landnummer', 'netnummer', 'extra-attributen', 'informatieobjecten'], ['id', 'idExtern', 'idGegevensbeheerder', 'code', 'soort', 'adres', 'huisletter', 'huisnummer', 'huisnummerToevoeging', 'postcode', 'straatnaam', 'extra-attributen', 'informatieobjecten'], ['id', 'idExtern', 'idGegevensbeheerder', 'code', 'bagGebruikersOppervlakte', 'bagGebruiksdoelen', 'bagHoofdadres', 'bagIdentificatie', 'bagInOnderzoek', 'bagNevenadressen', 'bagOfficieel', 'bagOppervlakteVerblijfsobject', 'bagPandenBasisregistratie', 'bagStatus', 'geometrie', 'extra-attributen', 'informatieobjecten'], ['id', 'idExtern', 'idGegevensbeheerder', 'code', 'bagNummeraanduidingIdentificatie', 'bagOpenbareRuimteIdentificatie', 'bagNummeraanduidingInOnderzoek', 'bagNummeraanduidingOfficieel', 'bagNummeraanduidingStatus', 'bagOpenbareRuimteInOnderzoek', 'bagOpenbareruimteOfficieel', 'bagOpenbareruimtestatus', 'extra-attributen', 'informatieobjecten'], ['id', 'idExtern', 'idGegevensbeheerder', 'code', 'bagIdentificatie', 'bagStatus', 'bagInOnderzoek', 'bagOfficieel', 'bagBouwdatum', 'extra-attributen', 'informatieobjecten'], ['id', 'idExtern', 'idGegevensbeheerder', 'code', 'bagIdentificatie', 'bagStatus', 'bagInOnderzoek', 'bagOfficieel', 'extra-attributen', 'informatieobjecten'], ['id', 'idExtern', 'idGegevensbeheerder', 'code', 'achterstalligOnderhoud', 'afkoopErfpacht', 'beheerAfslag', 'beheerskosten', 'beschikbaarheidAfslag', 'betaalbaarheidAfslag', 'eenheid', 'kwaliteitAfslag', 'marktwaarde', 'onderhoudskosten', 'streefhuur', 'waarde', 'extra-attributen', 'informatieobjecten'], ['id', 'idExtern', 'idGegevensbeheerder', 'code', 'naam', 'omschrijving', 'bouwdelen', 'bouwkundigeElementen', 'collectieveObjecten', 'eenheden', 'gebouw', 'pand', 'extra-attributen', 'informatieobjecten'], ['id', 'idExtern', 'idGegevensbeheerder', 'code', 'naam', 'omschrijving', 'bouwdeel', 'garanties', 'relaties', 'extra-attributen', 'informatieobjecten'], ['allOf: Adres', 'adresregel1', 'adresregel2', 'land', 'postbusnummer', 'provincie', 'woonplaats', 'extra-attributen', 'informatieobjecten'], ['id', 'idExtern', 'idGegevensbeheerder', 'code', 'naam', 'omschrijving', 'eenheden', 'gebouwen', 'geometrie', 'relaties', 'wijk', 'extra-attributen', 'informatieobjecten'], ['id', 'idExtern', 'idGegevensbeheerder', 'code', 'soort', 'naam', 'omschrijving', 'bovenliggendeCluster', 'begindatum', 'einddatum', 'collectieveObjecten', 'conditiemeting', 'eenheden', 'garanties', 'geometrie', 'relaties', 'extra-attributen', 'informatieobjecten'], ['id', 'idExtern', 'idGegevensbeheerder', 'code', 'soort', 'naam', 'adres', 'bouwdelen', 'clusters', 'eenheden', 'garanties', 'relaties', 'extra-attributen', 'informatieobjecten'], ['id', 'idExtern', 'idGegevensbeheerder', 'code', 'begindatum', 'einddatum', 'conditiescore', 'extra-attributen', 'informatieobjecten'], ['id', 'idExtern', 'idGegevensbeheerder', 'code', 'soort', 'detailSoort', 'naam', 'omschrijving', 'bouwnummer', 'status', 'detailStatus', 'inExploitatiedatum', 'uitExploitatiedatum', 'beginBouwdatum', 'opleverdatum', 'aantalOnzelfstandigeEenheden', 'aanvullendeDoelgroep', 'adres', 'adresseerbaarObjectBasisregistratie', 'beleidswaarde', 'benodigdeAfspraakverzoeken', 'beoogdUitExploitatieDatum', 'bestemming', 'bouwdelen', 'bovenliggendeEenheid', 'brutohuur', 'buitenruimten', 'clusters', 'collectieveObjecten', 'doelgroep', 'energieprestatie', 'energievoorzieningen', 'etage', 'gebouw', 'gebruiksoppervlakte', 'inExploitatieReden', 'interieur', 'isolatie', 'juridischEigendomspercentage', 'kadastraalNummer', 'kamersAantal', 'klimaatbeheersing', 'kwaliteitsniveau', 'ligging', 'liggingTuin', 'maatschappelijkLabel', 'marktlabel', 'marktwaarde', 'monumenten', 'nevenadressen', 'onderhoudslabel', 'overeenkomsten', 'overigeVertrekkenTotaalOppervlakte', 'panden', 'prestatieafspraken', 'prijscomponenten', 'prijsconditie', 'publicatie', 'publicatieLabel', 'rekenhuur', 'relaties', 'renovatie', 'sanitair', 'situering', 'streefhuur', 'taxaties', 'toegankelijkheidslabel', 'totaalInhoud', 'totaleOppervlakte', 'uitExploitatieReden', 'verkoop', 'vertrekken', 'vertrekkenAantal', 'verwarmdeVertrekkenAantal', 'volgnummer', 'voorwaarden', 'vraagprijs', 'woningwaarderingResultaat', 'woonvertrekInhoud', 'woonvertrekkenTotaalOppervlakte', 'woonvorm', 'wozEenheden', 'zekerheidVerpandingen', 'zelfstandig', 'zorgfaciliteitOmschrijving', 'extra-attributen', 'informatieobjecten'], ['id', 'idExtern', 'idGegevensbeheerder', 'code', 'status', 'detailStatus', 'begindatum', 'einddatum', 'eenheid', 'extra-attributen', 'informatieobjecten'], ['id', 'idExtern', 'idGegevensbeheerder', 'code', 'maximumAantalPersonen', 'maximuminkomen', 'maximunleeftijd', 'minimumAantalPersonen', 'minimuminkomen', 'minimumleeftijd', 'selectiecriteria', 'voorrangscriteria', 'extra-attributen', 'informatieobjecten'], ['allOf: Adres', 'bag', 'buurt', 'gemeente', 'geometrie', 'land', 'provincie', 'wijk', 'woonplaats', 'extra-attributen', 'informatieobjecten'], ['id', 'idExtern', 'idGegevensbeheerder', 'code', 'begindatum', 'einddatum', 'eenheid', 'index', 'label', 'relatie', 'extra-attributen', 'informatieobjecten'], ['naam', 'waarde'], ['code', 'omschrijving'], ['id', 'idExtern', 'idGegevensbeheerder', 'code', 'omschrijving', 'begindatum', 'einddatum', 'bouwdelen', 'bouwkundigeElementen', 'clusters', 'collectieveObjecten', 'eenheden', 'overeenkomst', 'relatie', 'extra-attributen', 'informatieobjecten'], ['id', 'idExtern', 'idGegevensbeheerder', 'code', 'naam', 'omschrijving', 'bouwdelen', 'buurt', 'corporatieBuurt', 'corporatieWijk', 'eenheden', 'panden', 'wijk', 'extra-attributen', 'informatieobjecten'], ['id', 'idExtern', 'idGegevensbeheerder', 'code', 'naam', 'geometrie', 'provincie', 'stadsdelen', 'woonplaatsen', 'extra-attributen', 'informatieobjecten'], ['id', 'idExtern', 'idGegevensbeheerder', 'code', 'soort', 'omschrijving', 'extra-attributen', 'informatieobjecten'], ['id', 'idExtern', 'idGegevensbeheerder', 'code', 'extra-attributen', 'informatieobjecten'], ['id', 'idExtern', 'idGegevensbeheerder', 'code', 'beheersKosten', 'contractJaarhuur', 'disconteringsvoet', 'doorexploiterenDisconteringsvoet', 'eenheid', 'leegwaarde', 'marktJaarhuur', 'onderhoudsKosten', 'verhuurderheffing', 'verslagJaar', 'waarde', 'extra-attributen', 'informatieobjecten'], ['id', 'idExtern', 'idGegevensbeheerder', 'code', 'status', 'adresseerbareObjectenBasisregistratie', 'bag', 'bouwdelen', 'eenheden', 'gebouw', 'geometrie', 'kavelOppervlakte', 'liftAanwezig', 'renovatie', 'extra-attributen', 'informatieobjecten'], ['allOf: Adres', 'antwoordnummer', 'postbusnummer', 'woonplaats', 'extra-attributen', 'informatieobjecten'], ['allOf: Geometrie', 'breedtegraad', 'lengtegraad', 'extra-attributen', 'informatieobjecten'], ['id', 'idExtern', 'idGegevensbeheerder', 'code', 'soort', 'naam', 'omschrijving', 'parent', 'begindatum', 'einddatum', 'sortering'], ['id', 'idExtern', 'idGegevensbeheerder', 'code', 'omschrijving', 'datum', 'eenheden', 'panden', 'extra-attributen', 'informatieobjecten'], ['id', 'idExtern', 'idGegevensbeheerder', 'code', 'naam', 'gemeente', 'geometrie', 'wijken', 'extra-attributen', 'informatieobjecten'], ['id', 'idExtern', 'idGegevensbeheerder', 'code', 'soort', 'datum', 'eenheid', 'waarde', 'extra-attributen', 'informatieobjecten'], ['id', 'idExtern', 'idGegevensbeheerder', 'code', 'soort', 'naam', 'eenheid', 'inhoud', 'oppervlakte', 'extra-attributen', 'informatieobjecten'], ['id', 'idExtern', 'idGegevensbeheerder', 'code', 'naam', 'omschrijving', 'buurten', 'geometrie', 'relaties', 'stadsdeel', 'woonplaats', 'extra-attributen', 'informatieobjecten'], ['id', 'idExtern', 'idGegevensbeheerder', 'code', 'begindatum', 'einddatum', 'aantal', 'criterium', 'eenheid', 'groep', 'punten', 'extra-attributen', 'informatieobjecten'], ['id', 'idExtern', 'idGegevensbeheerder', 'code', 'naam', 'criteriumGroep', 'meeteenheid', 'stelsel', 'extra-attributen', 'informatieobjecten'], ['id', 'idExtern', 'idGegevensbeheerder', 'code', 'naam', 'omschrijving', 'criteria', 'soort', 'stelsel', 'extra-attributen', 'informatieobjecten'], ['id', 'idExtern', 'idGegevensbeheerder', 'code', 'begindatum', 'einddatum', 'criteriumGroep', 'eenheid', 'punten', 'woningwaarderingen', 'extra-attributen', 'informatieobjecten'], ['id', 'idExtern', 'idGegevensbeheerder', 'code', 'begindatum', 'einddatum', 'eenheid', 'groepen', 'maximaleHuur', 'punten', 'extra-attributen', 'informatieobjecten'], ['id', 'idExtern', 'idGegevensbeheerder', 'code', 'naam', 'bag', 'gemeente', 'geometrie', 'wijken', 'extra-attributen', 'informatieobjecten'], ['id', 'idExtern', 'idGegevensbeheerder', 'code', 'eenheid', 'vastgesteldeWaarde', 'waardepeildatum', 'extra-attributen', 'informatieobjecten'], ['id', 'idExtern', 'idGegevensbeheerder', 'code', 'soort', 'begindatum', 'einddatum', 'akteSoort', 'belastingdienstRegistratiedatum', 'eenheid', 'onderpandWSW', 'relaties', 'extra-attributen', 'informatieobjecten'], ['id', 'idExtern', 'idGegevensbeheerder', 'code', 'status', 'detailStatus', 'antwoorddatum', 'vervaldatum', 'antwoordToelichting', 'bezichtiging', 'cluster', 'contactmomenten', 'eenheid', 'kandidaat', 'publicatie', 'relatie', 'extra-attributen', 'informatieobjecten'], ['naam', 'waarde'], ['code', 'omschrijving'], ['id', 'idExtern', 'idGegevensbeheerder', 'soort', 'begindatum', 'einddatum', 'datum', 'adres', 'contextId', 'inschrijving', 'vestiging', 'extra-attributen', 'informatieobjecten'], ['id', 'idExtern', 'idGegevensbeheerder', 'code', 'Vertrekdatum', 'relatie', 'contactgegevens', 'extra-attributen', 'informatieobjecten'], ['id', 'idExtern', 'idGegevensbeheerder', 'code', 'status', 'detailStatus', 'aanbiedingen', 'contactmomenten', 'eenheid', 'positie', 'publicatie', 'reactie', 'relatie', 'extra-attributen', 'informatieobjecten'], ['id', 'idExtern', 'idGegevensbeheerder', 'code', 'status', 'detailStatus', 'begindatum', 'einddatum', 'looptijd', 'opleverdatum', 'aantalEenheden', 'aantalEenhedenBeschikbaar', 'advertentieUrl', 'cluster', 'detailModel', 'eenheden', 'huidigeGebruiker', 'intakevorm', 'label', 'model', 'modules', 'oplevering', 'overeenkomstDetailsoort', 'overeenkomstsoort', 'reactieUrl', 'taal', 'wachttijd', 'wachttijdMetVoorrang', 'extra-attributen', 'informatieobjecten'], ['id', 'idExtern', 'idGegevensbeheerder', 'datum', 'begindatum', 'einddatum', 'puntenmutaties', 'relatie', 'situatiepunten', 'startpunten', 'zoekpunten', 'extra-attributen', 'informatieobjecten'], ['id', 'idExtern', 'idGegevensbeheerder', 'soort', 'omschrijving', 'datum', 'gebeurtenissen', 'relatie', 'situatiepunten', 'startpunten', 'zoekpunten', 'extra-attributen', 'informatieobjecten'], ['id', 'idExtern', 'idGegevensbeheerder', 'code', 'soort', 'status', 'detailStatus', 'datum', 'begeleiderDatum', 'contactmomenten', 'positie', 'publicatie', 'relaties', 'statusToelichting', 'voorkeur', 'extra-attributen', 'informatieobjecten'], ['id', 'idExtern', 'idGegevensbeheerder', 'code', 'soort', 'naam', 'omschrijving', 'parent', 'begindatum', 'einddatum', 'sortering'], ['id', 'idExtern', 'idGegevensbeheerder', 'code', 'soort', 'begindatum', 'einddatum', 'gebruiken', 'relatie', 'extra-attributen', 'informatieobjecten'], ['id', 'idExtern', 'idGegevensbeheerder', 'soort', 'omschrijving', 'status', 'begindatum', 'einddatum', 'gebeurtenissen', 'relatie', 'extra-attributen', 'informatieobjecten'], ['id', 'idExtern', 'idGegevensbeheerder', 'code', 'datum', 'aanbieding', 'aanvullendeDoelgroep', 'afspraken', 'contactmomenten', 'doelgroep', 'eenheid', 'huishoudgrootte', 'isOuderenhuishouden', 'kandidaat', 'overeenkomst', 'passendheidsoort', 'publicatie', 'Rekenhuur', 'Rekeninkomen', 'relatie', 'voorrangsregelingen', 'extra-attributen', 'informatieobjecten'], ['id', 'idExtern', 'idGegevensbeheerder', 'code', 'soort', 'detailSoort', 'naam', 'begindatum', 'einddatum', 'profiel', 'relatie', 'extra-attributen', 'informatieobjecten'], ['id', 'idExtern', 'idGegevensbeheerder', 'code', 'buurten', 'eenheidSoorten', 'gemeenten', 'huidigeOppervlakte', 'huidigeVerdieping', 'huurInkomenTabel', 'maximumBrutoHuur', 'maximumKamers', 'minimumBrutoHuur', 'minimumKamers', 'minimumOppervlakte', 'stadsdelen', 'toegankelijkheidslabels', 'wijken', 'woonplaatsen', 'extra-attributen', 'informatieobjecten']]\n"
     ]
    }
   ],
   "source": [
    "#Converting the VERA dictionary to lists\n",
    "#VERA_domains = the VERA domains\n",
    "#VERA_objects = the objects in VERA <br>\n",
    "# VERA_attributes = the attributes in VERA <br>\n",
    "\n",
    "VERA_domains = list(VERA_dict)\n",
    "#print(VERA_domains)\n",
    "for i in range(len(VERA_domains)):\n",
    "    VERA_objects =[]\n",
    "    VERA_attributes=[]\n",
    "    for domein, objecten in VERA_dict.items():\n",
    "        value_list = objecten\n",
    "        VERA_objects.append(list(value_list))\n",
    "        for object, attributen in objecten.items():\n",
    "            value_list2 = attributen\n",
    "            VERA_attributes.append(list(value_list2))\n",
    "        \n",
    "print(VERA_domains)\n",
    "print('----------------------------------------------------------------------------------------------------------')\n",
    "print(VERA_objects)\n",
    "print('----------------------------------------------------------------------------------------------------------')\n",
    "print(VERA_attributes)"
   ]
  },
  {
   "cell_type": "code",
   "execution_count": null,
   "id": "4ace89f0",
   "metadata": {},
   "outputs": [],
   "source": []
  },
  {
   "cell_type": "code",
   "execution_count": 6,
   "id": "698be5d6",
   "metadata": {},
   "outputs": [
    {
     "name": "stdout",
     "output_type": "stream",
     "text": [
      "---------------------\n",
      "[]\n"
     ]
    }
   ],
   "source": [
    "#WORKING SCRIPT FOR Objects \n",
    "#l = [\"Klant\", \"Leverancier\" , \"Boekstuk\" , \"Transactie\" ,'Eenheid', 'Vastgoed', 'Cluster', 'Verhuurbare Eenheid']\n",
    "l = ['kostenplaats']\n",
    "\n",
    "object_in_vera = []\n",
    "for i in range (len(l)):\n",
    "    for j in range (len(VERA_objects)):\n",
    "        for k in range(len(VERA_objects[j])):\n",
    "            if l[i] == VERA_objects[j][k]:\n",
    "                print(str(l[i])+ ' is in object ' + str(VERA_objects[j][k]) +' = True')\n",
    "                object_in_vera.append(l[i])\n",
    "print('---------------------')\n",
    "print(object_in_vera)"
   ]
  },
  {
   "cell_type": "code",
   "execution_count": 7,
   "id": "a8171b07",
   "metadata": {},
   "outputs": [
    {
     "name": "stdout",
     "output_type": "stream",
     "text": [
      "[]\n",
      "['kostenplaats']\n"
     ]
    },
    {
     "data": {
      "text/plain": [
       "{'kostenplaats': 'no'}"
      ]
     },
     "execution_count": 7,
     "metadata": {},
     "output_type": "execute_result"
    }
   ],
   "source": [
    "print(object_in_vera)\n",
    "print(l)\n",
    "my_dict = {}\n",
    "for i in range(len(l)):\n",
    "    if l[i] in object_in_vera:\n",
    "        print('yes')\n",
    "        my_dict[l[i]] = 'yes'\n",
    "    else:\n",
    "        my_dict[l[i]] = 'no'\n",
    "my_dict"
   ]
  },
  {
   "cell_type": "markdown",
   "id": "804bcd72",
   "metadata": {},
   "source": [
    "## 4. Planningsverzoeken API in VERA True/False "
   ]
  },
  {
   "cell_type": "markdown",
   "id": "99237826",
   "metadata": {},
   "source": [
    "### Definition of variables\n",
    "api_name : the name of the API that will be checked <br>\n",
    "objects_list = the objects in the API <br>\n",
    "attributes_list = the attributes in the API <br>\n",
    "VERA_domains = the VERA domains <br>\n",
    "VERA_objects = the objects in VERA <br>\n",
    "VERA_attributes = the attributes in VERA <br>\n"
   ]
  },
  {
   "cell_type": "code",
   "execution_count": 9,
   "id": "cf8bc7cf",
   "metadata": {},
   "outputs": [
    {
     "data": {
      "text/plain": [
       "['C:\\\\\\\\Users\\\\\\\\31653\\\\\\\\Documents\\\\\\\\GitHub\\\\\\\\Notebooks\\\\\\\\de_alliantie\\\\da_api\\\\inspectieorders-api_data.json',\n",
       " 'C:\\\\\\\\Users\\\\\\\\31653\\\\\\\\Documents\\\\\\\\GitHub\\\\\\\\Notebooks\\\\\\\\de_alliantie\\\\da_api\\\\leefbaarheidsmelding-api_data.json',\n",
       " 'C:\\\\\\\\Users\\\\\\\\31653\\\\\\\\Documents\\\\\\\\GitHub\\\\\\\\Notebooks\\\\\\\\de_alliantie\\\\da_api\\\\onderhoudsverzoeken-api_data.json',\n",
       " 'C:\\\\\\\\Users\\\\\\\\31653\\\\\\\\Documents\\\\\\\\GitHub\\\\\\\\Notebooks\\\\\\\\de_alliantie\\\\da_api\\\\planningsverzoeken-api.json',\n",
       " 'C:\\\\\\\\Users\\\\\\\\31653\\\\\\\\Documents\\\\\\\\GitHub\\\\\\\\Notebooks\\\\\\\\de_alliantie\\\\da_api\\\\planningsverzoeken-api_data.json',\n",
       " 'C:\\\\\\\\Users\\\\\\\\31653\\\\\\\\Documents\\\\\\\\GitHub\\\\\\\\Notebooks\\\\\\\\de_alliantie\\\\da_api\\\\relatie-naw-api_data.json',\n",
       " 'C:\\\\\\\\Users\\\\\\\\31653\\\\\\\\Documents\\\\\\\\GitHub\\\\\\\\Notebooks\\\\\\\\de_alliantie\\\\da_api\\\\relatieoverzicht-api_data.json',\n",
       " 'C:\\\\\\\\Users\\\\\\\\31653\\\\\\\\Documents\\\\\\\\GitHub\\\\\\\\Notebooks\\\\\\\\de_alliantie\\\\da_api\\\\relatiestatus-api_data.json',\n",
       " 'C:\\\\\\\\Users\\\\\\\\31653\\\\\\\\Documents\\\\\\\\GitHub\\\\\\\\Notebooks\\\\\\\\de_alliantie\\\\da_api\\\\Relatie_Contactmoment_API_data.json',\n",
       " 'C:\\\\\\\\Users\\\\\\\\31653\\\\\\\\Documents\\\\\\\\GitHub\\\\\\\\Notebooks\\\\\\\\de_alliantie\\\\VERA\\\\VERA-Dossier_API_objecten.json',\n",
       " 'C:\\\\\\\\Users\\\\\\\\31653\\\\\\\\Documents\\\\\\\\GitHub\\\\\\\\Notebooks\\\\\\\\de_alliantie\\\\VERA\\\\VERA-Financien_API_objecten.json',\n",
       " 'C:\\\\\\\\Users\\\\\\\\31653\\\\\\\\Documents\\\\\\\\GitHub\\\\\\\\Notebooks\\\\\\\\de_alliantie\\\\VERA\\\\VERA-Kwaliteit_API_objecten.json',\n",
       " 'C:\\\\\\\\Users\\\\\\\\31653\\\\\\\\Documents\\\\\\\\GitHub\\\\\\\\Notebooks\\\\\\\\de_alliantie\\\\VERA\\\\VERA-Onderhoud_API_objecten.json',\n",
       " 'C:\\\\\\\\Users\\\\\\\\31653\\\\\\\\Documents\\\\\\\\GitHub\\\\\\\\Notebooks\\\\\\\\de_alliantie\\\\VERA\\\\VERA-Overeenkomsten_API_objecten.json',\n",
       " 'C:\\\\\\\\Users\\\\\\\\31653\\\\\\\\Documents\\\\\\\\GitHub\\\\\\\\Notebooks\\\\\\\\de_alliantie\\\\VERA\\\\VERA-Projectontwikkeling_API_objecten.json',\n",
       " 'C:\\\\\\\\Users\\\\\\\\31653\\\\\\\\Documents\\\\\\\\GitHub\\\\\\\\Notebooks\\\\\\\\de_alliantie\\\\VERA\\\\VERA-Relaties_API_objecten.json',\n",
       " 'C:\\\\\\\\Users\\\\\\\\31653\\\\\\\\Documents\\\\\\\\GitHub\\\\\\\\Notebooks\\\\\\\\de_alliantie\\\\VERA\\\\VERA-Vastgoed_API_data.json',\n",
       " 'C:\\\\\\\\Users\\\\\\\\31653\\\\\\\\Documents\\\\\\\\GitHub\\\\\\\\Notebooks\\\\\\\\de_alliantie\\\\VERA\\\\VERA-Woonruimteverdeling_API_objecten.json']"
      ]
     },
     "execution_count": 9,
     "metadata": {},
     "output_type": "execute_result"
    }
   ],
   "source": [
    "import glob\n",
    "my_apis = glob.glob(r'C:\\\\Users\\\\31653\\\\Documents\\\\GitHub\\\\Notebooks\\\\de_alliantie\\**\\*.json')\n",
    "my_apis"
   ]
  },
  {
   "cell_type": "markdown",
   "id": "c27d0505",
   "metadata": {},
   "source": [
    "### Assigning the data"
   ]
  },
  {
   "cell_type": "code",
   "execution_count": 122,
   "id": "f22646c3",
   "metadata": {},
   "outputs": [
    {
     "name": "stdout",
     "output_type": "stream",
     "text": [
      "['ContactGegeven', 'Contactmoment', 'Email', 'ExtraElementen', 'ContactGegevens', 'RechtsPersoon', 'RelatieNAW', 'Medewerker', 'Telefoonnummer', 'Actie', 'NatuurlijkPersoon', 'Adres', 'ErrorResponse']\n",
      "relatie-contactmoment-api\n"
     ]
    }
   ],
   "source": [
    "# Importing the planningsverzoeken API and converting the objects to a list\n",
    "import json\n",
    "with open('C:\\\\\\\\Users\\\\\\\\31653\\\\\\\\Documents\\\\\\\\GitHub\\\\\\\\Notebooks\\\\\\\\de_alliantie\\\\da_api\\\\Relatie_Contactmoment_API_data.json') as json_file:\n",
    "    data = json.load(json_file)\n",
    "#convert to a dict   \n",
    "data_dict = json.loads(data)\n",
    "objects_list =list(data_dict)\n",
    "api_name = \"relatie-contactmoment-api\" \n",
    "print(objects_list)\n",
    "print(api_name)"
   ]
  },
  {
   "cell_type": "code",
   "execution_count": 124,
   "id": "4d29078a",
   "metadata": {},
   "outputs": [
    {
     "name": "stdout",
     "output_type": "stream",
     "text": [
      "['soort', 'detailSoort', 'waarde', 'identificatie', 'relatie', 'kanaal', 'richting', 'datum', 'omschrijving', 'medewerker', 'soort', 'extraElementen', 'soort', 'detailSoort', 'emailAdres', 'doel', 'notitie', 'actie', 'telefoonnummers', 'emailAdressen', 'overigeContactGegevens', 'naam', 'btwNummer', 'kvkNummer', 'organisatievorm', 'identificatie', 'natuurlijkPersoon', 'rechtsPersoon', 'adressen', 'contactGegevens', 'identificatie', 'soort', 'naam', 'soort', 'detailSoort', 'landnummer', 'netnummer', 'abonneenummer', 'extensie', 'dagdelen', 'soort', 'medewerker', 'voornaam', 'initialen', 'tussenvoegsels', 'achternaam', 'roepnaam', 'geslacht', 'geboortedatum', 'overlijdensdatum', 'burgerlijkeStaat', 'nationaliteit', 'bsn', 'soort', 'straatnaam', 'huisnummer', 'huisletter', 'huisnummertoevoeging', 'adres', 'postcode', 'woonplaats', 'buurt', 'wijk', 'corporatieBuurt', 'corporatieWijk', 'gemeente', 'provincie', 'land', 'geometrie', 'eenheidNevenadressen', 'eenheidAdres', 'bag', 'timestamp', 'status', 'code', 'error', 'message']\n"
     ]
    }
   ],
   "source": [
    "attributes_list = []\n",
    "for key, value in data_dict.items():\n",
    "    l = value\n",
    "    for i in range(len(l)):\n",
    "        attributes_list.append(l[i])\n",
    "print(attributes_list)"
   ]
  },
  {
   "cell_type": "code",
   "execution_count": 125,
   "id": "be4a4565",
   "metadata": {},
   "outputs": [
    {
     "name": "stdout",
     "output_type": "stream",
     "text": [
      "Contactmoment is in object Contactmoment = True\n",
      "NatuurlijkPersoon is in object NatuurlijkPersoon = True\n",
      "Telefoonnummer is in object Telefoonnummer = True\n",
      "Adres is in object Adres = True\n",
      "in vera zijn: ['Contactmoment', 'NatuurlijkPersoon', 'Telefoonnummer', 'Adres']\n"
     ]
    }
   ],
   "source": [
    "#Checking whether an object is in VERA True/False\n",
    "in_vera = []\n",
    "for j in range (len(VERA_objects)):\n",
    "    for k in range(len(VERA_objects[j])):\n",
    "        for i in range (len(objects_list)):\n",
    "            if objects_list[i] == VERA_objects[j][k]:\n",
    "                print(str(objects_list[i])+ ' is in object ' + str(VERA_objects[j][k]) +' = True')\n",
    "                in_vera.append(str(objects_list[i]))\n",
    "            else:\n",
    "                #print(str(l[i])+ ' is in object ' + str(objecten_list[j][k]) +' = False')\n",
    "                pass\n",
    "print(\"in vera zijn: \"+ str(in_vera))"
   ]
  },
  {
   "cell_type": "code",
   "execution_count": 126,
   "id": "cebd28c0",
   "metadata": {},
   "outputs": [
    {
     "name": "stdout",
     "output_type": "stream",
     "text": [
      "['ContactGegeven', 'Contactmoment', 'Email', 'ExtraElementen', 'ContactGegevens', 'RechtsPersoon', 'RelatieNAW', 'Medewerker', 'Telefoonnummer', 'Actie', 'NatuurlijkPersoon', 'Adres', 'ErrorResponse']\n",
      "['Contactmoment', 'NatuurlijkPersoon', 'Telefoonnummer', 'Adres']\n"
     ]
    }
   ],
   "source": [
    "print(objects_list)\n",
    "print(in_vera)"
   ]
  },
  {
   "cell_type": "code",
   "execution_count": 127,
   "id": "1c53ade0",
   "metadata": {},
   "outputs": [
    {
     "name": "stdout",
     "output_type": "stream",
     "text": [
      "['False', 'True', 'False', 'False', 'False', 'False', 'False', 'False', 'True', 'False', 'True', 'True', 'False']\n"
     ]
    },
    {
     "data": {
      "text/plain": [
       "[('ContactGegeven', 'False'),\n",
       " ('Contactmoment', 'True'),\n",
       " ('Email', 'False'),\n",
       " ('ExtraElementen', 'False'),\n",
       " ('ContactGegevens', 'False'),\n",
       " ('RechtsPersoon', 'False'),\n",
       " ('RelatieNAW', 'False'),\n",
       " ('Medewerker', 'False'),\n",
       " ('Telefoonnummer', 'True'),\n",
       " ('Actie', 'False'),\n",
       " ('NatuurlijkPersoon', 'True'),\n",
       " ('Adres', 'True'),\n",
       " ('ErrorResponse', 'False')]"
      ]
     },
     "execution_count": 127,
     "metadata": {},
     "output_type": "execute_result"
    }
   ],
   "source": [
    "TF_list =[]\n",
    "for i in range(len(objects_list)):\n",
    "    if objects_list[i] in in_vera:\n",
    "        #print(\"True\")\n",
    "        TF_list.append('True')\n",
    "    else:\n",
    "        #print('False')\n",
    "        TF_list.append('False')\n",
    "print(TF_list)\n",
    "my_tuple = zip(objects_list, TF_list)\n",
    "zipped_list_obj = list(my_tuple)\n",
    "zipped_list_obj"
   ]
  },
  {
   "cell_type": "markdown",
   "id": "94444c21",
   "metadata": {},
   "source": [
    "###  Attributen in VERA True/False"
   ]
  },
  {
   "cell_type": "code",
   "execution_count": 128,
   "id": "83974858",
   "metadata": {},
   "outputs": [
    {
     "name": "stdout",
     "output_type": "stream",
     "text": [
      "['soort', 'detailSoort', 'waarde', 'identificatie', 'relatie', 'kanaal', 'richting', 'datum', 'omschrijving', 'medewerker', 'extraElementen', 'emailAdres', 'doel', 'notitie', 'actie', 'telefoonnummers', 'emailAdressen', 'overigeContactGegevens', 'naam', 'btwNummer', 'kvkNummer', 'organisatievorm', 'natuurlijkPersoon', 'rechtsPersoon', 'adressen', 'contactGegevens', 'landnummer', 'netnummer', 'abonneenummer', 'extensie', 'dagdelen', 'voornaam', 'initialen', 'tussenvoegsels', 'achternaam', 'roepnaam', 'geslacht', 'geboortedatum', 'overlijdensdatum', 'burgerlijkeStaat', 'nationaliteit', 'bsn', 'straatnaam', 'huisnummer', 'huisletter', 'huisnummertoevoeging', 'adres', 'postcode', 'woonplaats', 'buurt', 'wijk', 'corporatieBuurt', 'corporatieWijk', 'gemeente', 'provincie', 'land', 'geometrie', 'eenheidNevenadressen', 'eenheidAdres', 'bag', 'timestamp', 'status', 'code', 'error', 'message']\n"
     ]
    }
   ],
   "source": [
    "# Create a list with each attribute only once\n",
    "attributes_list_single =[]\n",
    "for i in range(len(attributes_list)):\n",
    "    if attributes_list[i] not in attributes_list_single:\n",
    "        #print(attributes_list[i])\n",
    "        attributes_list_single.append(attributes_list[i])\n",
    "print(attributes_list_single)"
   ]
  },
  {
   "cell_type": "code",
   "execution_count": 129,
   "id": "6a664df8",
   "metadata": {},
   "outputs": [
    {
     "name": "stdout",
     "output_type": "stream",
     "text": [
      "['wijk', 'soort', 'detailSoort', 'omschrijving', 'buurt', 'telefoonnummers', 'waarde', 'wijk', 'omschrijving', 'wijk', 'soort', 'detailSoort', 'buurt', 'wijk', 'omschrijving', 'waarde', 'wijk', 'soort', 'buurt', 'wijk', 'omschrijving', 'relatie', 'wijk', 'soort', 'buurt', 'emailAdres', 'wijk', 'soort', 'telefoonnummers', 'omschrijving', 'wijk', 'omschrijving', 'wijk', 'omschrijving', 'waarde', 'wijk', 'soort', 'omschrijving', 'relatie', 'wijk', 'soort', 'wijk', 'soort', 'detailSoort', 'omschrijving', 'soort', 'relatie', 'wijk', 'wijk', 'omschrijving', 'datum', 'wijk', 'omschrijving', 'buurt', 'relatie', 'wijk', 'soort', 'omschrijving', 'wijk', 'omschrijving', 'wijk', 'omschrijving', 'buurt', 'relatie', 'wijk', 'soort', 'wijk', 'omschrijving', 'buurt', 'wijk', 'omschrijving', 'buurt', 'datum', 'wijk', 'soort', 'detailSoort', 'omschrijving', 'buurt', 'wijk', 'omschrijving', 'wijk', 'omschrijving', 'buurt', 'wijk', 'soort', 'omschrijving', 'buurt', 'wijk', 'wijk', 'omschrijving', 'buurt', 'datum', 'wijk', 'omschrijving', 'wijk', 'soort', 'buurt', 'relatie', 'wijk', 'soort', 'buurt', 'relatie', 'wijk', 'soort', 'omschrijving', 'buurt', 'relatie', 'wijk', 'soort', 'omschrijving', 'buurt', 'relatie', 'telefoonnummers', 'waarde', 'wijk', 'soort', 'telefoonnummers', 'relatie', 'wijk', 'omschrijving', 'wijk', 'omschrijving', 'wijk', 'soort', 'omschrijving', 'buurt', 'wijk', 'omschrijving', 'relatie', 'wijk', 'soort', 'wijk', 'soort', 'omschrijving', 'relatie', 'wijk', 'omschrijving', 'buurt', 'datum', 'wijk', 'omschrijving', 'wijk', 'omschrijving', 'buurt', 'relatie', 'wijk', 'omschrijving', 'wijk', 'omschrijving', 'soort', 'detailSoort', 'wijk', 'omschrijving', 'buurt', 'wijk', 'omschrijving', 'wijk', 'soort', 'omschrijving', 'wijk', 'soort', 'telefoonnummers', 'omschrijving', 'wijk', 'omschrijving', 'wijk', 'soort', 'omschrijving', 'buurt', 'telefoonnummers', 'waarde', 'wijk', 'omschrijving', 'wijk', 'omschrijving', 'wijk', 'soort', 'omschrijving', 'buurt', 'wijk', 'soort', 'omschrijving', 'buurt', 'kanaal', 'relatie', 'wijk', 'wijk', 'soort', 'telefoonnummers', 'omschrijving', 'wijk', 'soort', 'omschrijving', 'wijk', 'wijk', 'soort', 'omschrijving', 'wijk', 'soort', 'omschrijving', 'buurt', 'telefoonnummers', 'waarde', 'wijk', 'omschrijving', 'wijk', 'soort', 'omschrijving', 'buurt', 'wijk', 'soort', 'omschrijving', 'wijk', 'omschrijving', 'buurt', 'wijk', 'omschrijving', 'buurt', 'wijk', 'omschrijving', 'wijk', 'omschrijving', 'buurt', 'wijk', 'soort', 'telefoonnummers', 'omschrijving', 'wijk', 'omschrijving', 'telefoonnummers', 'waarde', 'wijk', 'omschrijving', 'wijk', 'omschrijving', 'buurt', 'wijk', 'omschrijving', 'relatie', 'wijk', 'soort', 'datum', 'wijk', 'buurt', 'wijk', 'wijk', 'soort', 'buurt', 'omschrijving', 'wijk', 'soort', 'detailSoort', 'buurt', 'buurt', 'wijk', 'telefoonnummers', 'soort', 'detailSoort', 'wijk', 'soort', 'telefoonnummers', 'omschrijving', 'telefoonnummers', 'waarde', 'wijk', 'omschrijving', 'wijk', 'soort', 'telefoonnummers', 'buurt', 'wijk', 'soort', 'omschrijving', 'wijk', 'soort', 'omschrijving', 'buurt', 'wijk', 'wijk', 'soort', 'wijk', 'buurt', 'wijk', 'wijk', 'soort', 'detailSoort', 'relatie', 'wijk', 'soort', 'detailSoort', 'omschrijving', 'wijk', 'soort', 'telefoonnummers', 'omschrijving', 'wijk', 'buurt', 'relatie', 'wijk', 'buurt', 'wijk', 'wijk', 'soort', 'roepnaam', 'wijk', 'soort', 'relatie', 'wijk', 'soort', 'detailSoort', 'buurt', 'relatie', 'waarde', 'wijk', 'omschrijving', 'datum', 'kanaal', 'richting', 'telefoonnummers', 'waarde', 'wijk', 'omschrijving', 'wijk', 'medewerker', 'abonneenummer', 'extensie', 'detailSoort', 'dagdelen', 'netnummer', 'naam', 'soort', 'landnummer', 'soort', 'soort', 'wijk', 'relatie', 'overigeContactGegevens', 'telefoonnummers', 'emailAdressen', 'naam', 'wijk', 'soort', 'telefoonnummers', 'omschrijving', 'wijk', 'soort', 'buurt', 'organisatievorm', 'wijk', 'soort', 'roepnaam', 'relatie', 'telefoonnummers', 'wijk', 'soort', 'telefoonnummers', 'omschrijving', 'relatie', 'wijk', 'soort', 'buurt', 'roepnaam', 'relatie', 'adressen', 'identificatie', 'contactGegevens', 'natuurlijkPersoon', 'rechtsPersoon', 'wijk', 'soort', 'roepnaam', 'tussenvoegsels', 'initialen', 'geslacht', 'voornaam', 'wijk', 'huisletter', 'wijk', 'wijk', 'wijk', 'wijk', 'waarde', 'wijk', 'telefoonnummers', 'omschrijving', 'wijk', 'telefoonnummers', 'omschrijving', 'huisnummer', 'straatnaam', 'geboortedatum', 'wijk', 'telefoonnummers', 'omschrijving', 'huisletter', 'burgerlijkeStaat', 'wijk', 'soort', 'telefoonnummers', 'omschrijving', 'huisletter', 'wijk', 'soort', 'telefoonnummers', 'roepnaam', 'wijk', 'wijk', 'soort', 'detailSoort', 'telefoonnummers', 'omschrijving', 'buurt', 'roepnaam', 'wijk', 'buurt', 'wijk', 'postcode', 'overlijdensdatum', 'soort', 'huisletter', 'huisnummer', 'straatnaam', 'burgerlijkeStaat', 'geboortedatum', 'wijk', 'relatie', 'telefoonnummers', 'waarde', 'wijk', 'omschrijving', 'wijk', 'omschrijving', 'relatie', 'wijk', 'telefoonnummers', 'omschrijving', 'overlijdensdatum', 'nationaliteit', 'bsn', 'burgerlijkeStaat', 'wijk', 'telefoonnummers', 'huisletter', 'straatnaam', 'wijk', 'soort', 'omschrijving', 'wijk', 'wijk', 'waarde', 'wijk', 'buurt', 'postcode', 'huisletter', 'geboortedatum', 'wijk', 'soort', 'telefoonnummers', 'omschrijving', 'wijk', 'omschrijving', 'datum', 'wijk', 'telefoonnummers', 'soort', 'huisletter', 'wijk', 'soort', 'datum', 'waarde', 'wijk', 'soort', 'telefoonnummers', 'wijk', 'telefoonnummers', 'omschrijving', 'huisletter', 'geboortedatum', 'wijk', 'wijk', 'telefoonnummers', 'wijk', 'telefoonnummers', 'omschrijving', 'soort', 'wijk', 'wijk', 'wijk', 'telefoonnummers', 'postcode', 'soort', 'huisletter', 'wijk', 'wijk', 'soort', 'wijk', 'buurt', 'relatie', 'telefoonnummers', 'waarde', 'wijk', 'omschrijving', 'soort', 'datum', 'roepnaam', 'wijk', 'relatie', 'wijk', 'buurt', 'relatie', 'wijk', 'buurt', 'datum', 'relatie', 'soort', 'omschrijving', 'datum', 'relatie', 'wijk', 'soort', 'buurt', 'datum', 'wijk', 'soort', 'telefoonnummers', 'omschrijving', 'wijk', 'soort', 'relatie', 'soort', 'omschrijving', 'buurt', 'relatie', 'wijk', 'datum', 'relatie', 'wijk', 'soort', 'detailSoort', 'telefoonnummers', 'relatie', 'wijk']\n"
     ]
    }
   ],
   "source": [
    "#working script for attributes\n",
    "#l = [\"Klant\", \"Leverancier\" , \"Boekstuk\" , \"Transactie\" ,'Eenheid', 'Vastgoed', 'Cluster', 'Verhuurbare Eenheid', 'creditbedrag']\n",
    "is_vera_attribute=[]\n",
    "\n",
    "#l = ['contractprijs']\n",
    "for j in range (len(VERA_attributes)):\n",
    "    for k in range(len(VERA_attributes[j])):\n",
    "        for i in range (len(attributes_list_single)):\n",
    "            if attributes_list_single[i] == VERA_attributes[j][k]:\n",
    "                #print(str(l[i])+ ' is VERA_attributes = True')\n",
    "                is_vera_attribute.append(str(attributes_list[i]))\n",
    "print(is_vera_attribute)"
   ]
  },
  {
   "cell_type": "code",
   "execution_count": 130,
   "id": "2560a84d",
   "metadata": {},
   "outputs": [
    {
     "name": "stdout",
     "output_type": "stream",
     "text": [
      "['soort', 'detailSoort', 'waarde', 'identificatie', 'relatie', 'kanaal', 'richting', 'datum', 'omschrijving', 'medewerker', 'extraElementen', 'emailAdres', 'doel', 'notitie', 'actie', 'telefoonnummers', 'emailAdressen', 'overigeContactGegevens', 'naam', 'btwNummer', 'kvkNummer', 'organisatievorm', 'natuurlijkPersoon', 'rechtsPersoon', 'adressen', 'contactGegevens', 'landnummer', 'netnummer', 'abonneenummer', 'extensie', 'dagdelen', 'voornaam', 'initialen', 'tussenvoegsels', 'achternaam', 'roepnaam', 'geslacht', 'geboortedatum', 'overlijdensdatum', 'burgerlijkeStaat', 'nationaliteit', 'bsn', 'straatnaam', 'huisnummer', 'huisletter', 'huisnummertoevoeging', 'adres', 'postcode', 'woonplaats', 'buurt', 'wijk', 'corporatieBuurt', 'corporatieWijk', 'gemeente', 'provincie', 'land', 'geometrie', 'eenheidNevenadressen', 'eenheidAdres', 'bag', 'timestamp', 'status', 'code', 'error', 'message']\n"
     ]
    }
   ],
   "source": [
    "print(attributes_list_single)"
   ]
  },
  {
   "cell_type": "code",
   "execution_count": 131,
   "id": "92d159c3",
   "metadata": {},
   "outputs": [
    {
     "name": "stdout",
     "output_type": "stream",
     "text": [
      "['True', 'True', 'True', 'True', 'True', 'True', 'True', 'True', 'True', 'True', 'True', 'False', 'True', 'True', 'True', 'False', 'False', 'False', 'True', 'True', 'True', 'True', 'False', 'False', 'True', 'True', 'True', 'True', 'True', 'True', 'True', 'True', 'True', 'True', 'True', 'True', 'True', 'True', 'True', 'True', 'True', 'True', 'True', 'True', 'True', 'False', 'True', 'True', 'True', 'True', 'True', 'True', 'True', 'True', 'True', 'True', 'True', 'False', 'False', 'True', 'False', 'True', 'True', 'False', 'False', 'False', 'False', 'False', 'False', 'False', 'False', 'False', 'False', 'False', 'False', 'False', 'False']\n"
     ]
    }
   ],
   "source": [
    "#create a list with each item one time\n",
    "TF_list_attribute =[]\n",
    "for i in range(len(attributes_list)):\n",
    "    if attributes_list[i] in is_vera_attribute:\n",
    "        #print(\"True\")\n",
    "        TF_list_attribute.append('True')\n",
    "    else:\n",
    "        #print('False')\n",
    "        TF_list_attribute.append('False')\n",
    "print(TF_list_attribute)"
   ]
  },
  {
   "cell_type": "code",
   "execution_count": 132,
   "id": "6cff3a46",
   "metadata": {},
   "outputs": [
    {
     "data": {
      "text/plain": [
       "[('soort', 'True'),\n",
       " ('detailSoort', 'True'),\n",
       " ('waarde', 'True'),\n",
       " ('identificatie', 'True'),\n",
       " ('relatie', 'True')]"
      ]
     },
     "execution_count": 132,
     "metadata": {},
     "output_type": "execute_result"
    }
   ],
   "source": [
    "my_tuple = zip(attributes_list, TF_list_attribute)\n",
    "zipped_list_att = list(my_tuple)\n",
    "zipped_list_att[0:5]"
   ]
  },
  {
   "cell_type": "markdown",
   "id": "cd6b0492",
   "metadata": {},
   "source": [
    "## Printing the results to an excel sheet.\n",
    "\n",
    "We expect an two excelsheets with each 2 columns:\n",
    "\n",
    "Column A   || Column B    ||<br>\n",
    "API object || in VERA T/F ||"
   ]
  },
  {
   "cell_type": "code",
   "execution_count": null,
   "id": "7f5af7db",
   "metadata": {},
   "outputs": [],
   "source": [
    "# TO DO helper script that checks whether excelfile is available yes/no"
   ]
  },
  {
   "cell_type": "code",
   "execution_count": 113,
   "id": "f70355fa",
   "metadata": {},
   "outputs": [
    {
     "data": {
      "text/plain": [
       "'relatiestatus-api'"
      ]
     },
     "execution_count": 113,
     "metadata": {},
     "output_type": "execute_result"
    }
   ],
   "source": [
    "api_name"
   ]
  },
  {
   "cell_type": "code",
   "execution_count": 20,
   "id": "6d5019e0",
   "metadata": {},
   "outputs": [
    {
     "data": {
      "text/plain": [
       "['Sheet', 'inspectieorders-api']"
      ]
     },
     "execution_count": 20,
     "metadata": {},
     "output_type": "execute_result"
    }
   ],
   "source": [
    "USE ONLY ONCE\n",
    "#step 1: creating a new excelsheet\n",
    "\n",
    "from openpyxl import Workbook\n",
    "\n",
    "wb = Workbook()\n",
    "ws = wb.create_sheet()\n",
    "#ws = wb.active\n",
    "ws.title = api_name\n",
    "\n",
    "#ws[\"A1\"] = \"Object/Attribute\"\n",
    "#ws[\"B1\"] = \"in VERA True/False\"\n",
    "\n",
    "wb.save(filename=\"api_name_vera_check.xlsx\")\n",
    "wb.sheetnames"
   ]
  },
  {
   "cell_type": "code",
   "execution_count": 133,
   "id": "259300f6",
   "metadata": {},
   "outputs": [],
   "source": [
    "import openpyxl as xl\n",
    "wb = xl.load_workbook('api_name_vera_check.xlsx')\n",
    "ws = wb.create_sheet()\n",
    "#ws = wb.active\n",
    "ws.title = api_name\n",
    "wb.save(filename=\"api_name_vera_check.xlsx\")\n",
    "ws.title"
   ]
  },
  {
   "cell_type": "code",
   "execution_count": 135,
   "id": "5e63e7ef",
   "metadata": {},
   "outputs": [
    {
     "data": {
      "text/plain": [
       "['Sheet',\n",
       " 'inspectieorders-api',\n",
       " 'leefbaarheidsmelding-api',\n",
       " 'relatie-naw-api',\n",
       " 'relatieoverzicht-api',\n",
       " 'relatiestatus-api',\n",
       " 'relatie-contactmoment-api']"
      ]
     },
     "execution_count": 135,
     "metadata": {},
     "output_type": "execute_result"
    }
   ],
   "source": [
    "wb = xl.load_workbook('api_name_vera_check.xlsx')\n",
    "wb.sheetnames"
   ]
  },
  {
   "cell_type": "code",
   "execution_count": 136,
   "id": "f256e12d",
   "metadata": {},
   "outputs": [],
   "source": [
    "# step 2: writing the to check objects/attributes to the list with True/False\n",
    "import openpyxl as xl\n",
    "wb = xl.load_workbook('api_name_vera_check.xlsx')\n",
    "ws = wb[api_name]\n",
    "\n",
    "ws[\"A1\"] = \"Object/Attribute\"\n",
    "ws[\"B1\"] = \"in VERA True/False\"\n",
    "\n",
    "for i in range(len(objects_list)):\n",
    "    ws['A' + str(i+2)] = objects_list[i]\n",
    "\n",
    "for i in range(len(zipped_list_obj)):\n",
    "    ws['B' + str(i+2)] = zipped_list_obj[i][1]\n",
    "\n",
    "wb.save(filename=\"api_name_vera_check.xlsx\")"
   ]
  },
  {
   "cell_type": "code",
   "execution_count": 137,
   "id": "0c19c389",
   "metadata": {},
   "outputs": [
    {
     "name": "stdout",
     "output_type": "stream",
     "text": [
      "OK\n"
     ]
    }
   ],
   "source": [
    "if ws.title == api_name:\n",
    "    print(\"OK\")\n",
    "else:\n",
    "    print('error')"
   ]
  },
  {
   "cell_type": "code",
   "execution_count": 138,
   "id": "561aee40",
   "metadata": {},
   "outputs": [],
   "source": [
    "import openpyxl as xl\n",
    "wb = xl.load_workbook('api_name_vera_check.xlsx')\n",
    "ws = wb[api_name]\n",
    "\n",
    "ws[\"D1\"] = \"Attribute\"\n",
    "ws[\"E1\"] = \"in VERA True/False\"\n",
    "\n",
    "for i in range(len(zipped_list_att)):\n",
    "    ws['D' + str(i+2)] = zipped_list_att[i][0]\n",
    "\n",
    "for i in range(len(zipped_list_att)):\n",
    "    ws['E' + str(i+2)] = zipped_list_att[i][1]\n",
    "\n",
    "wb.save(filename=\"api_name_vera_check.xlsx\")"
   ]
  },
  {
   "cell_type": "code",
   "execution_count": 139,
   "id": "2cc806b4",
   "metadata": {},
   "outputs": [
    {
     "name": "stdout",
     "output_type": "stream",
     "text": [
      "('Object/Attribute', 'in VERA True/False', None, 'Attribute', 'in VERA True/False')\n",
      "('ContactGegeven', 'False', None, 'soort', 'True')\n",
      "('Contactmoment', 'True', None, 'detailSoort', 'True')\n",
      "('Email', 'False', None, 'waarde', 'True')\n",
      "('ExtraElementen', 'False', None, 'identificatie', 'True')\n",
      "('ContactGegevens', 'False', None, 'relatie', 'True')\n",
      "('RechtsPersoon', 'False', None, 'kanaal', 'True')\n",
      "('RelatieNAW', 'False', None, 'richting', 'True')\n",
      "('Medewerker', 'False', None, 'datum', 'True')\n",
      "('Telefoonnummer', 'True', None, 'omschrijving', 'True')\n",
      "('Actie', 'False', None, 'medewerker', 'True')\n",
      "('NatuurlijkPersoon', 'True', None, 'soort', 'True')\n",
      "('Adres', 'True', None, 'extraElementen', 'False')\n",
      "('ErrorResponse', 'False', None, 'soort', 'True')\n",
      "(None, None, None, 'detailSoort', 'True')\n",
      "(None, None, None, 'emailAdres', 'True')\n",
      "(None, None, None, 'doel', 'False')\n",
      "(None, None, None, 'notitie', 'False')\n",
      "(None, None, None, 'actie', 'False')\n",
      "(None, None, None, 'telefoonnummers', 'True')\n",
      "(None, None, None, 'emailAdressen', 'True')\n",
      "(None, None, None, 'overigeContactGegevens', 'True')\n",
      "(None, None, None, 'naam', 'True')\n",
      "(None, None, None, 'btwNummer', 'False')\n",
      "(None, None, None, 'kvkNummer', 'False')\n",
      "(None, None, None, 'organisatievorm', 'True')\n",
      "(None, None, None, 'identificatie', 'True')\n",
      "(None, None, None, 'natuurlijkPersoon', 'True')\n",
      "(None, None, None, 'rechtsPersoon', 'True')\n",
      "(None, None, None, 'adressen', 'True')\n",
      "(None, None, None, 'contactGegevens', 'True')\n",
      "(None, None, None, 'identificatie', 'True')\n",
      "(None, None, None, 'soort', 'True')\n",
      "(None, None, None, 'naam', 'True')\n",
      "(None, None, None, 'soort', 'True')\n",
      "(None, None, None, 'detailSoort', 'True')\n",
      "(None, None, None, 'landnummer', 'True')\n",
      "(None, None, None, 'netnummer', 'True')\n",
      "(None, None, None, 'abonneenummer', 'True')\n",
      "(None, None, None, 'extensie', 'True')\n",
      "(None, None, None, 'dagdelen', 'True')\n",
      "(None, None, None, 'soort', 'True')\n",
      "(None, None, None, 'medewerker', 'True')\n",
      "(None, None, None, 'voornaam', 'True')\n",
      "(None, None, None, 'initialen', 'True')\n",
      "(None, None, None, 'tussenvoegsels', 'True')\n",
      "(None, None, None, 'achternaam', 'False')\n",
      "(None, None, None, 'roepnaam', 'True')\n",
      "(None, None, None, 'geslacht', 'True')\n",
      "(None, None, None, 'geboortedatum', 'True')\n",
      "(None, None, None, 'overlijdensdatum', 'True')\n",
      "(None, None, None, 'burgerlijkeStaat', 'True')\n",
      "(None, None, None, 'nationaliteit', 'True')\n",
      "(None, None, None, 'bsn', 'True')\n",
      "(None, None, None, 'soort', 'True')\n",
      "(None, None, None, 'straatnaam', 'True')\n",
      "(None, None, None, 'huisnummer', 'True')\n",
      "(None, None, None, 'huisletter', 'True')\n",
      "(None, None, None, 'huisnummertoevoeging', 'False')\n",
      "(None, None, None, 'adres', 'False')\n",
      "(None, None, None, 'postcode', 'True')\n",
      "(None, None, None, 'woonplaats', 'False')\n",
      "(None, None, None, 'buurt', 'True')\n",
      "(None, None, None, 'wijk', 'True')\n",
      "(None, None, None, 'corporatieBuurt', 'False')\n",
      "(None, None, None, 'corporatieWijk', 'False')\n",
      "(None, None, None, 'gemeente', 'False')\n",
      "(None, None, None, 'provincie', 'False')\n",
      "(None, None, None, 'land', 'False')\n",
      "(None, None, None, 'geometrie', 'False')\n",
      "(None, None, None, 'eenheidNevenadressen', 'False')\n",
      "(None, None, None, 'eenheidAdres', 'False')\n",
      "(None, None, None, 'bag', 'False')\n",
      "(None, None, None, 'timestamp', 'False')\n",
      "(None, None, None, 'status', 'False')\n",
      "(None, None, None, 'code', 'False')\n",
      "(None, None, None, 'error', 'False')\n",
      "(None, None, None, 'message', 'False')\n"
     ]
    }
   ],
   "source": [
    "def print_rows():\n",
    "    for row in ws.iter_rows(values_only=True):\n",
    "        print(row)\n",
    "print_rows()"
   ]
  },
  {
   "cell_type": "code",
   "execution_count": null,
   "id": "65da99ee",
   "metadata": {},
   "outputs": [],
   "source": []
  },
  {
   "cell_type": "code",
   "execution_count": null,
   "id": "4052fffc",
   "metadata": {},
   "outputs": [],
   "source": []
  },
  {
   "cell_type": "code",
   "execution_count": null,
   "id": "7bb6e639",
   "metadata": {},
   "outputs": [],
   "source": []
  }
 ],
 "metadata": {
  "kernelspec": {
   "display_name": "Python 3 (ipykernel)",
   "language": "python",
   "name": "python3"
  },
  "language_info": {
   "codemirror_mode": {
    "name": "ipython",
    "version": 3
   },
   "file_extension": ".py",
   "mimetype": "text/x-python",
   "name": "python",
   "nbconvert_exporter": "python",
   "pygments_lexer": "ipython3",
   "version": "3.8.5"
  }
 },
 "nbformat": 4,
 "nbformat_minor": 5
}
