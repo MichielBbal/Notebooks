{
 "cells": [
  {
   "cell_type": "markdown",
   "id": "e2ab92fb",
   "metadata": {},
   "source": [
    "# Parsing xsd with xmlschema library\n",
    "\n",
    "A Notebook to parse xsd / xml files into a Python dictionary. \n",
    "\n",
    "### Links:\n",
    "- https://xmlschema.readthedocs.io/en/latest/ \n",
    "- https://pypi.org/project/xmlschema/\n"
   ]
  },
  {
   "cell_type": "code",
   "execution_count": 1,
   "id": "45b10be2",
   "metadata": {},
   "outputs": [
    {
     "name": "stdout",
     "output_type": "stream",
     "text": [
      "Collecting xmlschema\n",
      "  Downloading xmlschema-1.9.2-py3-none-any.whl (273 kB)\n",
      "Collecting elementpath<3.0.0,>=2.4.0\n",
      "  Downloading elementpath-2.4.0-py3-none-any.whl (163 kB)\n",
      "Installing collected packages: elementpath, xmlschema\n",
      "Successfully installed elementpath-2.4.0 xmlschema-1.9.2\n"
     ]
    }
   ],
   "source": [
    "!pip install xmlschema"
   ]
  },
  {
   "cell_type": "markdown",
   "id": "9d0440b0",
   "metadata": {},
   "source": [
    "## 1. With xmlschema"
   ]
  },
  {
   "cell_type": "code",
   "execution_count": 1,
   "id": "a0458d84",
   "metadata": {},
   "outputs": [
    {
     "data": {
      "text/plain": [
       "'C:\\\\Users\\\\31653\\\\Documents\\\\GitHub\\\\Notebooks\\\\de_alliantie\\\\Webservices\\\\ortec'"
      ]
     },
     "execution_count": 1,
     "metadata": {},
     "output_type": "execute_result"
    }
   ],
   "source": [
    "pwd"
   ]
  },
  {
   "cell_type": "code",
   "execution_count": 21,
   "id": "a2e72e7f",
   "metadata": {},
   "outputs": [
    {
     "name": "stdout",
     "output_type": "stream",
     "text": [
      "C:\\Users\\31653\\Documents\\GitHub\\Notebooks\\de_alliantie\\Webservices\\ortec\n"
     ]
    }
   ],
   "source": [
    "cd .."
   ]
  },
  {
   "cell_type": "code",
   "execution_count": 1,
   "id": "61951a52",
   "metadata": {},
   "outputs": [
    {
     "data": {
      "text/plain": [
       "['bookTimeslotRequest.xsd',\n",
       " 'bookTimeslotResponse.xsd',\n",
       " 'calculateTimeslotRequest.xsd',\n",
       " 'calculateTimeslotResponse.xsd',\n",
       " 'comtec_cdms_task_order.xsd',\n",
       " 'deleteOrder.xsd',\n",
       " 'deleteOrderResponse.xsd',\n",
       " 'planningOrder.xsd',\n",
       " 'statusOrder.xsd',\n",
       " 'statusOrderResponse.xsd']"
      ]
     },
     "execution_count": 1,
     "metadata": {},
     "output_type": "execute_result"
    }
   ],
   "source": [
    "import glob\n",
    "my_xsds = glob.glob('*.xsd')\n",
    "my_xsds"
   ]
  },
  {
   "cell_type": "code",
   "execution_count": 2,
   "id": "9bf48b3d",
   "metadata": {},
   "outputs": [],
   "source": [
    "#inspect the xsd\n",
    "%pycat C:\\Users\\31653\\Documents\\GitHub\\Notebooks\\de_alliantie\\Webservices\\ortec\\bookTimeslotRequest.xsd"
   ]
  },
  {
   "cell_type": "code",
   "execution_count": 4,
   "id": "eaf1a587",
   "metadata": {},
   "outputs": [],
   "source": []
  },
  {
   "cell_type": "code",
   "execution_count": null,
   "id": "47cf7f84",
   "metadata": {},
   "outputs": [],
   "source": []
  },
  {
   "cell_type": "code",
   "execution_count": 3,
   "id": "170d90ce",
   "metadata": {
    "scrolled": true
   },
   "outputs": [
    {
     "ename": "ModuleNotFoundError",
     "evalue": "No module named 'xmlschema'",
     "output_type": "error",
     "traceback": [
      "\u001b[1;31m---------------------------------------------------------------------------\u001b[0m",
      "\u001b[1;31mModuleNotFoundError\u001b[0m                       Traceback (most recent call last)",
      "Input \u001b[1;32mIn [3]\u001b[0m, in \u001b[0;36m<cell line: 4>\u001b[1;34m()\u001b[0m\n\u001b[0;32m      1\u001b[0m \u001b[38;5;66;03m#source: https://stackoverflow.com/questions/1072853/how-to-convert-xsd-to-python-class\u001b[39;00m\n\u001b[0;32m      2\u001b[0m \u001b[38;5;66;03m#https://stackoverflow.com/questions/54687837/parse-an-xsd-file-using-python\u001b[39;00m\n\u001b[0;32m      3\u001b[0m \u001b[38;5;66;03m#convert the xml to a dict\u001b[39;00m\n\u001b[1;32m----> 4\u001b[0m \u001b[38;5;28;01mimport\u001b[39;00m \u001b[38;5;21;01mxmlschema\u001b[39;00m\n\u001b[0;32m      5\u001b[0m schema \u001b[38;5;241m=\u001b[39m xmlschema\u001b[38;5;241m.\u001b[39mXMLSchema(\u001b[38;5;124m'\u001b[39m\u001b[38;5;124mbookTimeslotRequest.xsd\u001b[39m\u001b[38;5;124m'\u001b[39m)\n\u001b[0;32m      6\u001b[0m \u001b[38;5;28mprint\u001b[39m(\u001b[38;5;28mtype\u001b[39m(schema))\n",
      "\u001b[1;31mModuleNotFoundError\u001b[0m: No module named 'xmlschema'"
     ]
    }
   ],
   "source": [
    "#source: https://stackoverflow.com/questions/1072853/how-to-convert-xsd-to-python-class\n",
    "#https://stackoverflow.com/questions/54687837/parse-an-xsd-file-using-python\n",
    "#convert the xml to a dict\n",
    "import xmlschema\n",
    "schema = xmlschema.XMLSchema('bookTimeslotRequest.xsd')\n",
    "print(type(schema))\n",
    "print(dir(schema))"
   ]
  },
  {
   "cell_type": "code",
   "execution_count": 36,
   "id": "aaf8f53e",
   "metadata": {},
   "outputs": [
    {
     "name": "stdout",
     "output_type": "stream",
     "text": [
      "XMLSchema10(name='bookTimeslotRequest.xsd', namespace='')\n",
      "XsdElement(name='bookTimeslotRequest', occurs=[1, 1])\n",
      "XsdComplexType(content='element-only', attributes=[])\n",
      "XsdGroup(model='sequence', occurs=[1, 1])\n",
      "XsdElement(name='timeslot', occurs=[1, 1])\n",
      "XsdComplexType(content='element-only', attributes=[])\n",
      "XsdGroup(model='sequence', occurs=[1, 1])\n",
      "XsdElement(name='from', occurs=[1, 1])\n",
      "XsdElement(name='till', occurs=[1, 1])\n",
      "XsdElement(name='resourceId', occurs=[1, 1])\n",
      "XsdElement(name='routeId', occurs=[1, 1])\n",
      "XsdElement(name='sequenceNumber', occurs=[1, 1])\n",
      "XsdElement(name='orderData', occurs=[1, 1])\n",
      "XsdComplexType(content='element-only', attributes=[])\n",
      "XsdGroup(model='choice', occurs=[1, 1])\n",
      "XsdElement(name='id', occurs=[1, 1])\n",
      "XsdElement(ref='comtec', occurs=[1, 1])\n"
     ]
    }
   ],
   "source": [
    "for xsd_component in schema.iter_components():\n",
    "    print(xsd_component)"
   ]
  },
  {
   "cell_type": "code",
   "execution_count": 34,
   "id": "a599f92a",
   "metadata": {},
   "outputs": [
    {
     "name": "stdout",
     "output_type": "stream",
     "text": [
      "bookTimeslotRequest.xsd\n",
      "bookTimeslotRequest\n",
      "timeslot\n",
      "from\n",
      "till\n",
      "resourceId\n",
      "routeId\n",
      "sequenceNumber\n",
      "orderData\n",
      "id\n",
      "comtec\n"
     ]
    }
   ],
   "source": [
    "#https://readthedocs.org/projects/xmlschema/downloads/pdf/latest/ p.23\n",
    "for xsd_component in schema.iter_components():\n",
    "    #print(xsd_component)\n",
    "    if str(xsd_component.name) != 'None':\n",
    "        print(xsd_component.name)"
   ]
  },
  {
   "cell_type": "code",
   "execution_count": 57,
   "id": "bd460bf1",
   "metadata": {},
   "outputs": [
    {
     "ename": "AttributeError",
     "evalue": "'XMLSchema10' object has no attribute 'type'",
     "output_type": "error",
     "traceback": [
      "\u001b[1;31m---------------------------------------------------------------------------\u001b[0m",
      "\u001b[1;31mAttributeError\u001b[0m                            Traceback (most recent call last)",
      "\u001b[1;32m~\\AppData\\Local\\Temp/ipykernel_48176/898846034.py\u001b[0m in \u001b[0;36m<module>\u001b[1;34m\u001b[0m\n\u001b[1;32m----> 1\u001b[1;33m \u001b[0mschema\u001b[0m\u001b[1;33m.\u001b[0m\u001b[0mtype\u001b[0m\u001b[1;33m.\u001b[0m\u001b[0mcontent\u001b[0m\u001b[1;33m\u001b[0m\u001b[1;33m\u001b[0m\u001b[0m\n\u001b[0m",
      "\u001b[1;31mAttributeError\u001b[0m: 'XMLSchema10' object has no attribute 'type'"
     ]
    }
   ],
   "source": [
    "schema.type.content"
   ]
  },
  {
   "cell_type": "code",
   "execution_count": 46,
   "id": "dfa30bd4",
   "metadata": {},
   "outputs": [
    {
     "name": "stdout",
     "output_type": "stream",
     "text": [
      "XsdAtomicRestriction(name='active')\n",
      "XsdAtomicRestriction(name='area_description')\n",
      "XsdAtomicRestriction(name='availability')\n",
      "XsdAtomicRestriction(name='available')\n",
      "XsdAtomicRestriction(name='bankaccount')\n",
      "XsdAtomicRestriction(name='calendar_tag')\n",
      "XsdAtomicRestriction(name='city')\n",
      "XsdAtomicRestriction(name='code')\n",
      "XsdAtomicRestriction(name='color')\n",
      "XsdAtomicRestriction(name='combine_resources')\n",
      "XsdAtomicRestriction(name='comm_code')\n",
      "XsdAtomicRestriction(name='comment')\n",
      "XsdAtomicRestriction(name='country_code')\n",
      "XsdAtomicRestriction(name='currency_code')\n",
      "XsdUnion(name='date')\n",
      "XsdAtomicRestriction(name='datetime')\n",
      "XsdAtomicRestriction(name='duration')\n",
      "XsdAtomicRestriction(name='duration_unit_of_measurement_code')\n",
      "XsdAtomicRestriction(name='emissionFactor')\n",
      "XsdAtomicRestriction(name='gender')\n",
      "XsdAtomicRestriction(name='id')\n",
      "XsdAtomicRestriction(name='name')\n",
      "XsdAtomicRestriction(name='phone')\n",
      "XsdAtomicRestriction(name='resource_tag')\n",
      "XsdAtomicRestriction(name='route_part')\n",
      "XsdAtomicRestriction(name='shift_tag')\n",
      "XsdAtomicRestriction(name='task_position')\n",
      "XsdUnion(name='time')\n",
      "XsdAtomicRestriction(name='timezone_code')\n",
      "XsdAtomicRestriction(name='x-coordinate')\n",
      "XsdAtomicRestriction(name='y-coordinate')\n",
      "XsdComplexType(name='action')\n",
      "XsdComplexType(name='action_kind')\n",
      "XsdComplexType(name='action_kinds')\n",
      "XsdComplexType(name='action_template')\n",
      "XsdComplexType(name='action_templates')\n",
      "XsdComplexType(name='address')\n",
      "XsdComplexType(name='address_with_optional_id')\n",
      "XsdComplexType(name='address_activity_tariff')\n",
      "XsdComplexType(name='address_kind')\n",
      "XsdComplexType(name='address_kinds')\n",
      "XsdComplexType(name='addresses')\n",
      "XsdComplexType(name='addressesWithChoice')\n",
      "XsdComplexType(name='agreement')\n",
      "XsdComplexType(name='allowed_plan_regions')\n",
      "XsdComplexType(name='amounts')\n",
      "XsdComplexType(name='resource_amounts')\n",
      "XsdComplexType(name='appointment_window')\n",
      "XsdComplexType(name='area')\n",
      "XsdComplexType(name='area_part')\n",
      "XsdComplexType(name='area_parts')\n",
      "XsdComplexType(name='areapolygon')\n",
      "XsdComplexType(name='areapolygon_categories')\n",
      "XsdComplexType(name='areapolygon_visualization')\n",
      "XsdComplexType(name='assignTo')\n",
      "XsdComplexType(name='calendar')\n",
      "XsdComplexType(name='cancelCustomerTransportOrders')\n",
      "XsdComplexType(name='cancelOrders')\n",
      "XsdComplexType(name='capabilities')\n",
      "XsdComplexType(name='capacities')\n",
      "XsdComplexType(name='category')\n",
      "XsdComplexType(name='charter')\n",
      "XsdComplexType(name='company')\n",
      "XsdComplexType(name='compartments')\n",
      "XsdComplexType(name='completeTasks')\n",
      "XsdComplexType(name='configuration')\n",
      "XsdComplexType(name='contact')\n",
      "XsdComplexType(name='contact_kind')\n",
      "XsdComplexType(name='contactAddress1')\n",
      "XsdComplexType(name='contactAddress2')\n",
      "XsdComplexType(name='contactAddresses')\n",
      "XsdComplexType(name='contactAddressKind')\n",
      "XsdComplexType(name='contacts')\n",
      "XsdComplexType(name='container_order')\n",
      "XsdComplexType(name='contamination_matrix')\n",
      "XsdComplexType(name='contamination_matrix_item')\n",
      "XsdComplexType(name='contamination_matrix_items')\n",
      "XsdComplexType(name='coordinates')\n",
      "XsdComplexType(name='cost')\n",
      "XsdComplexType(name='costkind')\n",
      "XsdComplexType(name='costset')\n",
      "XsdComplexType(name='countries')\n",
      "XsdComplexType(name='country_tariff')\n",
      "XsdComplexType(name='couple')\n",
      "XsdComplexType(name='customer_transport_order')\n",
      "XsdComplexType(name='customer_transport_order_details')\n",
      "XsdComplexType(name='customer_transport_order_line')\n",
      "XsdComplexType(name='customer_transport_order_line_details')\n",
      "XsdComplexType(name='customer_transport_order_line_task')\n",
      "XsdComplexType(name='customer_transport_order_task')\n",
      "XsdComplexType(name='date_entries')\n",
      "XsdComplexType(name='datetime_window')\n",
      "XsdComplexType(name='deleteCode')\n",
      "XsdComplexType(name='deleteids')\n",
      "XsdComplexType(name='deleteid')\n",
      "XsdComplexType(name='deleteTrip')\n",
      "XsdComplexType(name='department')\n",
      "XsdComplexType(name='departments')\n",
      "XsdComplexType(name='depot')\n",
      "XsdComplexType(name='dgclassifications')\n",
      "XsdComplexType(name='dghazard_class')\n",
      "XsdComplexType(name='dgregulation')\n",
      "XsdComplexType(name='dgrequirements')\n",
      "XsdComplexType(name='dgunnumber')\n",
      "XsdComplexType(name='division')\n",
      "XsdComplexType(name='expected')\n",
      "XsdComplexType(name='finished')\n",
      "XsdComplexType(name='handling_times')\n",
      "XsdComplexType(name='human_resource')\n",
      "XsdComplexType(name='load_assignment')\n",
      "XsdComplexType(name='metaOrder')\n",
      "XsdComplexType(name='metaTask')\n",
      "XsdComplexType(name='order_info')\n",
      "XsdComplexType(name='order_status')\n",
      "XsdComplexType(name='order_template')\n",
      "XsdComplexType(name='orderSearchCriteria')\n",
      "XsdComplexType(name='orderStatus')\n",
      "XsdComplexType(name='parameter')\n",
      "XsdComplexType(name='parameter_tuple')\n",
      "XsdComplexType(name='parameter_tuples')\n",
      "XsdComplexType(name='parameterset')\n",
      "XsdComplexType(name='plan_region')\n",
      "XsdComplexType(name='planned')\n",
      "XsdComplexType(name='planned_task')\n",
      "XsdComplexType(name='planned_transport_task')\n",
      "XsdComplexType(name='point')\n",
      "XsdComplexType(name='points')\n",
      "XsdComplexType(name='predefinedCalendar')\n",
      "XsdComplexType(name='price_categories')\n",
      "XsdComplexType(name='price_category')\n",
      "XsdComplexType(name='product')\n",
      "XsdComplexType(name='product_kinds')\n",
      "XsdComplexType(name='products')\n",
      "XsdComplexType(name='project')\n",
      "XsdComplexType(name='realised_load')\n",
      "XsdComplexType(name='recurrence')\n",
      "XsdComplexType(name='resource')\n",
      "XsdComplexType(name='resource_kind')\n",
      "XsdComplexType(name='resource_kind_turnaround_durations')\n",
      "XsdComplexType(name='resource_kinds')\n",
      "XsdComplexType(name='resource_kindsWithChoice')\n",
      "XsdComplexType(name='resource_order')\n",
      "XsdComplexType(name='resource_tariff')\n",
      "XsdComplexType(name='resource_turnaround_durations')\n",
      "XsdComplexType(name='resourceCalendar')\n",
      "XsdComplexType(name='resourceId')\n",
      "XsdComplexType(name='resources')\n",
      "XsdComplexType(name='resourcesWithChoice')\n",
      "XsdComplexType(name='resourcesWithChoiceAndTemporary')\n",
      "XsdComplexType(name='roadfeature_tariff')\n",
      "XsdComplexType(name='roadfeatures')\n",
      "XsdComplexType(name='ruleset')\n",
      "XsdComplexType(name='schedule_shift_template')\n",
      "XsdComplexType(name='schedule_template')\n",
      "XsdComplexType(name='section_template')\n",
      "XsdComplexType(name='section_templates')\n",
      "XsdComplexType(name='shift')\n",
      "XsdComplexType(name='shift_kind')\n",
      "XsdComplexType(name='shift_status')\n",
      "XsdComplexType(name='shift_template')\n",
      "XsdComplexType(name='shiftsets')\n",
      "XsdComplexType(name='shift_templates')\n",
      "XsdComplexType(name='shiftTemplateResources')\n",
      "XsdComplexType(name='station')\n",
      "XsdComplexType(name='station_with_optional_id')\n",
      "XsdComplexType(name='station_kinds')\n",
      "XsdComplexType(name='stations')\n",
      "XsdComplexType(name='stock_measurement')\n",
      "XsdComplexType(name='storage_dimension')\n",
      "XsdComplexType(name='storage')\n",
      "XsdComplexType(name='storage_kind')\n",
      "XsdComplexType(name='subcontractor')\n",
      "XsdComplexType(name='subcontractors')\n",
      "XsdComplexType(name='suborder')\n",
      "XsdComplexType(name='suborders')\n",
      "XsdComplexType(name='tariff')\n",
      "XsdComplexType(name='tariff_item')\n",
      "XsdComplexType(name='tariff_items')\n",
      "XsdComplexType(name='tariffs')\n",
      "XsdComplexType(name='task')\n",
      "XsdComplexType(name='task_cluster')\n",
      "XsdComplexType(name='task_kind')\n",
      "XsdComplexType(name='task_order_amounts')\n",
      "XsdComplexType(name='task_order')\n",
      "XsdComplexType(name='task_window')\n",
      "XsdComplexType(name='taskReferences')\n",
      "XsdComplexType(name='taskSearchCriteria')\n",
      "XsdComplexType(name='tax')\n",
      "XsdComplexType(name='temporaryResource')\n",
      "XsdComplexType(name='time_window')\n",
      "XsdComplexType(name='transport_details')\n",
      "XsdComplexType(name='transport_order_amounts')\n",
      "XsdComplexType(name='transport_order')\n",
      "XsdComplexType(name='transport_task')\n",
      "XsdComplexType(name='transports')\n",
      "XsdComplexType(name='trip')\n",
      "XsdComplexType(name='udfields')\n",
      "XsdComplexType(name='updateCalendar')\n",
      "XsdComplexType(name='unit')\n",
      "XsdComplexType(name='user')\n",
      "XsdComplexType(name='visit_schedule')\n",
      "XsdGroup(name='address_base', model='sequence', occurs=[1, 1])\n",
      "XsdGroup(name='order_base_part1', model='sequence', occurs=[1, 1])\n",
      "XsdGroup(name='order_base_part2', model='sequence', occurs=[1, 1])\n",
      "XsdGroup(name='shift_template_base', model='sequence', occurs=[1, 1])\n",
      "XsdGroup(name='shift_template_children', model='sequence', occurs=[1, 1])\n",
      "XsdGroup(name='shift_template_identifiers', model='sequence', occurs=[1, 1])\n",
      "XsdGroup(name='station_base', model='sequence', occurs=[1, 1])\n",
      "XsdGroup(name='task_order_details', model='sequence', occurs=[1, 1])\n",
      "XsdGroup(name='transport_order_details', model='sequence', occurs=[1, 1])\n",
      "XsdElement(name='bookTimeslotRequest', occurs=[1, 1])\n",
      "XsdElement(name='comtec', occurs=[1, 1])\n"
     ]
    }
   ],
   "source": [
    "timeslot"
   ]
  },
  {
   "cell_type": "code",
   "execution_count": 53,
   "id": "56567743",
   "metadata": {},
   "outputs": [
    {
     "ename": "TypeError",
     "evalue": "get_element() missing 1 required positional argument: 'tag'",
     "output_type": "error",
     "traceback": [
      "\u001b[1;31m---------------------------------------------------------------------------\u001b[0m",
      "\u001b[1;31mTypeError\u001b[0m                                 Traceback (most recent call last)",
      "\u001b[1;32m~\\AppData\\Local\\Temp/ipykernel_48176/4260997871.py\u001b[0m in \u001b[0;36m<module>\u001b[1;34m\u001b[0m\n\u001b[1;32m----> 1\u001b[1;33m \u001b[1;32mfor\u001b[0m \u001b[0mtag\u001b[0m \u001b[1;32min\u001b[0m \u001b[0mschema\u001b[0m\u001b[1;33m.\u001b[0m\u001b[0mget_element\u001b[0m\u001b[1;33m(\u001b[0m\u001b[1;33m)\u001b[0m\u001b[1;33m:\u001b[0m\u001b[1;33m\u001b[0m\u001b[1;33m\u001b[0m\u001b[0m\n\u001b[0m\u001b[0;32m      2\u001b[0m     \u001b[0mprint\u001b[0m\u001b[1;33m(\u001b[0m\u001b[0mtag\u001b[0m\u001b[1;33m)\u001b[0m\u001b[1;33m\u001b[0m\u001b[1;33m\u001b[0m\u001b[0m\n",
      "\u001b[1;31mTypeError\u001b[0m: get_element() missing 1 required positional argument: 'tag'"
     ]
    }
   ],
   "source": [
    "for tag in schema.get_element():\n",
    "    print(tag)"
   ]
  },
  {
   "cell_type": "code",
   "execution_count": 17,
   "id": "87597b32",
   "metadata": {},
   "outputs": [
    {
     "name": "stdout",
     "output_type": "stream",
     "text": [
      "bookTimeslotRequest.xsd\n",
      "{'xml': 'http://www.w3.org/XML/1998/namespace', 'xs': 'http://www.w3.org/2001/XMLSchema', '': ''}\n"
     ]
    }
   ],
   "source": [
    "# print some basic aspects of the xsd\n",
    "print(schema.name)\n",
    "print(schema.namespaces)"
   ]
  },
  {
   "cell_type": "code",
   "execution_count": null,
   "id": "def1d26d",
   "metadata": {},
   "outputs": [],
   "source": []
  },
  {
   "cell_type": "code",
   "execution_count": 31,
   "id": "3e3df665",
   "metadata": {},
   "outputs": [
    {
     "name": "stdout",
     "output_type": "stream",
     "text": [
      "XMLSchema10(name='bookTimeslotRequest.xsd', namespace='')\n"
     ]
    }
   ],
   "source": [
    "from pprint import pprint\n",
    "pprint(schema)"
   ]
  },
  {
   "cell_type": "code",
   "execution_count": 36,
   "id": "f5987626",
   "metadata": {},
   "outputs": [
    {
     "name": "stdout",
     "output_type": "stream",
     "text": [
      "NamespaceView({'bookTimeslotRequest': XsdElement(name='bookTimeslotRequest', occurs=[1, 1]), 'comtec': XsdElement(name='comtec', occurs=[1, 1])})\n",
      "['__abstractmethods__', '__class__', '__class_getitem__', '__contains__', '__delattr__', '__dir__', '__doc__', '__eq__', '__format__', '__ge__', '__getattribute__', '__getitem__', '__gt__', '__hash__', '__init__', '__init_subclass__', '__iter__', '__le__', '__len__', '__lt__', '__module__', '__ne__', '__new__', '__orig_bases__', '__parameters__', '__reduce__', '__reduce_ex__', '__repr__', '__reversed__', '__setattr__', '__sizeof__', '__slots__', '__str__', '__subclasshook__', '_abc_impl', '_is_protocol', '_key_fmt', 'as_dict', 'get', 'items', 'keys', 'namespace', 'target_dict', 'values']\n"
     ]
    }
   ],
   "source": [
    "from pprint import pprint\n",
    "pprint(schema.elements)\n",
    "print(dir(schema.elements))"
   ]
  },
  {
   "cell_type": "code",
   "execution_count": 28,
   "id": "a5f112f1",
   "metadata": {},
   "outputs": [
    {
     "name": "stdout",
     "output_type": "stream",
     "text": [
      "XMLSchema10(name='bookTimeslotRequest.xsd', namespace='')\n",
      "XsdAttributeGroup()\n"
     ]
    }
   ],
   "source": [
    "BT = schema.elements['bookTimeslotRequest']\n",
    "print(BT.schema)\n",
    "print(BT.attributes)"
   ]
  },
  {
   "cell_type": "code",
   "execution_count": 87,
   "id": "8b0cf187",
   "metadata": {},
   "outputs": [
    {
     "data": {
      "text/plain": [
       "['_ADMITTED_TAGS',\n",
       " '_CONTENT_TAIL_TAGS',\n",
       " '_REGEX_SPACE',\n",
       " '_REGEX_SPACES',\n",
       " '__annotations__',\n",
       " '__class__',\n",
       " '__class_getitem__',\n",
       " '__copy__',\n",
       " '__delattr__',\n",
       " '__dict__',\n",
       " '__dir__',\n",
       " '__doc__',\n",
       " '__eq__',\n",
       " '__format__',\n",
       " '__ge__',\n",
       " '__getattribute__',\n",
       " '__gt__',\n",
       " '__hash__',\n",
       " '__init__',\n",
       " '__init_subclass__',\n",
       " '__le__',\n",
       " '__lt__',\n",
       " '__module__',\n",
       " '__ne__',\n",
       " '__new__',\n",
       " '__orig_bases__',\n",
       " '__parameters__',\n",
       " '__reduce__',\n",
       " '__reduce_ex__',\n",
       " '__repr__',\n",
       " '__setattr__',\n",
       " '__sizeof__',\n",
       " '__slots__',\n",
       " '__str__',\n",
       " '__subclasshook__',\n",
       " '__weakref__',\n",
       " '_annotation',\n",
       " '_block',\n",
       " '_final',\n",
       " '_is_protocol',\n",
       " '_parse',\n",
       " '_parse_base_type',\n",
       " '_parse_child_component',\n",
       " '_parse_complex_content_extension',\n",
       " '_parse_complex_content_restriction',\n",
       " '_parse_content_tail',\n",
       " '_parse_derivation_elem',\n",
       " '_parse_reference',\n",
       " '_parse_simple_content_extension',\n",
       " '_parse_simple_content_restriction',\n",
       " '_parse_target_namespace',\n",
       " '_parse_xpath_default_namespace',\n",
       " 'abstract',\n",
       " 'admit_simple_restriction',\n",
       " 'all_errors',\n",
       " 'annotation',\n",
       " 'any_atomic_type',\n",
       " 'any_simple_type',\n",
       " 'any_type',\n",
       " 'assertions',\n",
       " 'attributes',\n",
       " 'base_type',\n",
       " 'block',\n",
       " 'build',\n",
       " 'built',\n",
       " 'content',\n",
       " 'content_type',\n",
       " 'content_type_label',\n",
       " 'copy',\n",
       " 'decode',\n",
       " 'default_namespace',\n",
       " 'default_open_content',\n",
       " 'derivation',\n",
       " 'elem',\n",
       " 'encode',\n",
       " 'errors',\n",
       " 'final',\n",
       " 'get_facet',\n",
       " 'get_global',\n",
       " 'get_matching_item',\n",
       " 'get_parent_type',\n",
       " 'has_complex_content',\n",
       " 'has_extension',\n",
       " 'has_mixed_content',\n",
       " 'has_restriction',\n",
       " 'has_simple_content',\n",
       " 'id',\n",
       " 'is_atomic',\n",
       " 'is_blocked',\n",
       " 'is_complex',\n",
       " 'is_datetime',\n",
       " 'is_decimal',\n",
       " 'is_derived',\n",
       " 'is_dynamic_consistent',\n",
       " 'is_element_only',\n",
       " 'is_emptiable',\n",
       " 'is_empty',\n",
       " 'is_extension',\n",
       " 'is_global',\n",
       " 'is_key',\n",
       " 'is_list',\n",
       " 'is_matching',\n",
       " 'is_notation',\n",
       " 'is_override',\n",
       " 'is_qname',\n",
       " 'is_restriction',\n",
       " 'is_simple',\n",
       " 'is_union',\n",
       " 'is_valid',\n",
       " 'iter_ancestors',\n",
       " 'iter_components',\n",
       " 'iter_decode',\n",
       " 'iter_encode',\n",
       " 'iter_errors',\n",
       " 'local_name',\n",
       " 'maps',\n",
       " 'match',\n",
       " 'mixed',\n",
       " 'model_group',\n",
       " 'name',\n",
       " 'namespaces',\n",
       " 'normalize',\n",
       " 'open_content',\n",
       " 'parent',\n",
       " 'parse_error',\n",
       " 'prefixed_name',\n",
       " 'qualified',\n",
       " 'qualified_name',\n",
       " 'redefine',\n",
       " 'ref',\n",
       " 'root_type',\n",
       " 'schema',\n",
       " 'schema_elem',\n",
       " 'sequence_type',\n",
       " 'simple_type',\n",
       " 'source',\n",
       " 'target_namespace',\n",
       " 'text_decode',\n",
       " 'tostring',\n",
       " 'validate',\n",
       " 'validation',\n",
       " 'validation_attempted',\n",
       " 'validation_error',\n",
       " 'validity',\n",
       " 'xsd_version']"
      ]
     },
     "execution_count": 87,
     "metadata": {},
     "output_type": "execute_result"
    }
   ],
   "source": [
    "dir(BT.type)"
   ]
  },
  {
   "cell_type": "code",
   "execution_count": 69,
   "id": "5e68dcac",
   "metadata": {},
   "outputs": [
    {
     "data": {
      "text/plain": [
       "XsdGroup(model='sequence', occurs=[1, 1])"
      ]
     },
     "execution_count": 69,
     "metadata": {},
     "output_type": "execute_result"
    }
   ],
   "source": [
    "BT.type.content"
   ]
  },
  {
   "cell_type": "code",
   "execution_count": 66,
   "id": "bde86590",
   "metadata": {},
   "outputs": [
    {
     "name": "stdout",
     "output_type": "stream",
     "text": [
      "timeslot\n",
      "orderData\n"
     ]
    }
   ],
   "source": [
    "for item in BT.type.content:\n",
    "    print(item.name)"
   ]
  },
  {
   "cell_type": "code",
   "execution_count": 74,
   "id": "a9db492d",
   "metadata": {},
   "outputs": [
    {
     "data": {
      "text/plain": [
       "['_ADMITTED_TAGS',\n",
       " '_REGEX_SPACE',\n",
       " '_REGEX_SPACES',\n",
       " '__abstractmethods__',\n",
       " '__annotations__',\n",
       " '__class__',\n",
       " '__class_getitem__',\n",
       " '__contains__',\n",
       " '__copy__',\n",
       " '__delattr__',\n",
       " '__delitem__',\n",
       " '__dict__',\n",
       " '__dir__',\n",
       " '__doc__',\n",
       " '__eq__',\n",
       " '__format__',\n",
       " '__ge__',\n",
       " '__getattribute__',\n",
       " '__getitem__',\n",
       " '__gt__',\n",
       " '__hash__',\n",
       " '__iadd__',\n",
       " '__init__',\n",
       " '__init_subclass__',\n",
       " '__iter__',\n",
       " '__le__',\n",
       " '__len__',\n",
       " '__lt__',\n",
       " '__module__',\n",
       " '__ne__',\n",
       " '__new__',\n",
       " '__orig_bases__',\n",
       " '__parameters__',\n",
       " '__reduce__',\n",
       " '__reduce_ex__',\n",
       " '__repr__',\n",
       " '__reversed__',\n",
       " '__setattr__',\n",
       " '__setitem__',\n",
       " '__sizeof__',\n",
       " '__slots__',\n",
       " '__str__',\n",
       " '__subclasshook__',\n",
       " '__weakref__',\n",
       " '_abc_impl',\n",
       " '_annotation',\n",
       " '_group',\n",
       " '_is_protocol',\n",
       " '_parse',\n",
       " '_parse_child_component',\n",
       " '_parse_content_model',\n",
       " '_parse_particle',\n",
       " '_parse_reference',\n",
       " '_parse_target_namespace',\n",
       " '_parse_xpath_default_namespace',\n",
       " 'admits_restriction',\n",
       " 'all_errors',\n",
       " 'annotation',\n",
       " 'any_atomic_type',\n",
       " 'any_simple_type',\n",
       " 'any_type',\n",
       " 'append',\n",
       " 'build',\n",
       " 'built',\n",
       " 'check_dynamic_context',\n",
       " 'check_model',\n",
       " 'clear',\n",
       " 'copy',\n",
       " 'count',\n",
       " 'decode',\n",
       " 'default_namespace',\n",
       " 'effective_max_occurs',\n",
       " 'effective_min_occurs',\n",
       " 'elem',\n",
       " 'encode',\n",
       " 'errors',\n",
       " 'extend',\n",
       " 'get_global',\n",
       " 'get_matching_item',\n",
       " 'get_parent_type',\n",
       " 'get_subgroups',\n",
       " 'has_occurs_restriction',\n",
       " 'id',\n",
       " 'index',\n",
       " 'insert',\n",
       " 'interleave',\n",
       " 'is_all_restriction',\n",
       " 'is_ambiguous',\n",
       " 'is_choice_restriction',\n",
       " 'is_element_restriction',\n",
       " 'is_emptiable',\n",
       " 'is_empty',\n",
       " 'is_global',\n",
       " 'is_matching',\n",
       " 'is_missing',\n",
       " 'is_multiple',\n",
       " 'is_over',\n",
       " 'is_override',\n",
       " 'is_pointless',\n",
       " 'is_restriction',\n",
       " 'is_sequence_restriction',\n",
       " 'is_single',\n",
       " 'is_univocal',\n",
       " 'is_valid',\n",
       " 'iter_ancestors',\n",
       " 'iter_components',\n",
       " 'iter_decode',\n",
       " 'iter_elements',\n",
       " 'iter_encode',\n",
       " 'iter_errors',\n",
       " 'iter_model',\n",
       " 'local_name',\n",
       " 'maps',\n",
       " 'match',\n",
       " 'match_element',\n",
       " 'max_occurs',\n",
       " 'min_occurs',\n",
       " 'mixed',\n",
       " 'model',\n",
       " 'name',\n",
       " 'namespaces',\n",
       " 'occurs',\n",
       " 'overall_max_occurs',\n",
       " 'overall_min_occurs',\n",
       " 'parent',\n",
       " 'parse_error',\n",
       " 'pop',\n",
       " 'prefixed_name',\n",
       " 'qualified',\n",
       " 'qualified_name',\n",
       " 'redefine',\n",
       " 'ref',\n",
       " 'remove',\n",
       " 'restriction',\n",
       " 'reverse',\n",
       " 'schema',\n",
       " 'schema_elem',\n",
       " 'source',\n",
       " 'suffix',\n",
       " 'target_namespace',\n",
       " 'tostring',\n",
       " 'validate',\n",
       " 'validation',\n",
       " 'validation_attempted',\n",
       " 'validation_error',\n",
       " 'validity',\n",
       " 'xsd_version']"
      ]
     },
     "execution_count": 74,
     "metadata": {},
     "output_type": "execute_result"
    }
   ],
   "source": [
    "dir(BT.type.content)"
   ]
  },
  {
   "cell_type": "code",
   "execution_count": 31,
   "id": "68776c05",
   "metadata": {},
   "outputs": [
    {
     "name": "stdout",
     "output_type": "stream",
     "text": [
      "timeslot\n",
      "orderData\n"
     ]
    }
   ],
   "source": [
    "for item in BT.type.content:\n",
    "    print(item.name)"
   ]
  },
  {
   "cell_type": "code",
   "execution_count": 33,
   "id": "a24bcd9b",
   "metadata": {},
   "outputs": [
    {
     "name": "stdout",
     "output_type": "stream",
     "text": [
      "timeslot\n",
      "orderData\n"
     ]
    }
   ],
   "source": [
    "for e in BT.type.content.iter_elements():\n",
    "    print(e.name)"
   ]
  },
  {
   "cell_type": "code",
   "execution_count": null,
   "id": "59855ee7",
   "metadata": {},
   "outputs": [],
   "source": []
  },
  {
   "cell_type": "code",
   "execution_count": null,
   "id": "8a429389",
   "metadata": {},
   "outputs": [],
   "source": []
  },
  {
   "cell_type": "code",
   "execution_count": null,
   "id": "52bf916c",
   "metadata": {},
   "outputs": [],
   "source": []
  },
  {
   "cell_type": "markdown",
   "id": "db161f14",
   "metadata": {},
   "source": [
    "## 2. With xsdata-plantuml\n",
    "\n",
    "source: https://pypi.org/project/xsdata-plantuml/ <br>"
   ]
  },
  {
   "cell_type": "code",
   "execution_count": 10,
   "id": "fa02f5b9",
   "metadata": {},
   "outputs": [
    {
     "name": "stdout",
     "output_type": "stream",
     "text": [
      "Requirement already satisfied: xsdata-plantuml in c:\\users\\31653\\anaconda3\\lib\\site-packages (21.4)\n",
      "Requirement already satisfied: xsdata[cli] in c:\\users\\31653\\anaconda3\\lib\\site-packages (from xsdata-plantuml) (22.2)\n",
      "Requirement already satisfied: toposort>=1.5 in c:\\users\\31653\\anaconda3\\lib\\site-packages (from xsdata[cli]->xsdata-plantuml) (1.7)\n",
      "Requirement already satisfied: click>=5.0 in c:\\users\\31653\\anaconda3\\lib\\site-packages (from xsdata[cli]->xsdata-plantuml) (7.1.2)\n",
      "Requirement already satisfied: docformatter in c:\\users\\31653\\anaconda3\\lib\\site-packages (from xsdata[cli]->xsdata-plantuml) (1.4)\n",
      "Requirement already satisfied: click-default-group>=1.2 in c:\\users\\31653\\anaconda3\\lib\\site-packages (from xsdata[cli]->xsdata-plantuml) (1.2.2)\n",
      "Requirement already satisfied: jinja2>=2.10 in c:\\users\\31653\\anaconda3\\lib\\site-packages (from xsdata[cli]->xsdata-plantuml) (3.0.2)\n",
      "Requirement already satisfied: MarkupSafe>=2.0 in c:\\users\\31653\\anaconda3\\lib\\site-packages (from jinja2>=2.10->xsdata[cli]->xsdata-plantuml) (2.0.1)\n",
      "Requirement already satisfied: untokenize in c:\\users\\31653\\anaconda3\\lib\\site-packages (from docformatter->xsdata[cli]->xsdata-plantuml) (0.1.1)\n"
     ]
    }
   ],
   "source": [
    "!pip install xsdata-plantuml"
   ]
  },
  {
   "cell_type": "code",
   "execution_count": 11,
   "id": "bc54e089",
   "metadata": {},
   "outputs": [
    {
     "data": {
      "text/plain": [
       "['bookTimeslotRequest.xsd',\n",
       " 'bookTimeslotResponse.xsd',\n",
       " 'calculateTimeslotRequest.xsd',\n",
       " 'calculateTimeslotResponse.xsd',\n",
       " 'comtec_cdms_task_order.xsd',\n",
       " 'deleteOrder.xsd',\n",
       " 'deleteOrderResponse.xsd',\n",
       " 'planningOrder.xsd',\n",
       " 'statusOrder.xsd',\n",
       " 'statusOrderResponse.xsd']"
      ]
     },
     "execution_count": 11,
     "metadata": {},
     "output_type": "execute_result"
    }
   ],
   "source": [
    "import glob\n",
    "my_xsds = glob.glob('*.xsd')\n",
    "my_xsds"
   ]
  },
  {
   "cell_type": "code",
   "execution_count": 27,
   "id": "b0bf4e64",
   "metadata": {},
   "outputs": [
    {
     "name": "stderr",
     "output_type": "stream",
     "text": [
      "Parsing schema bookTimeslotRequest.xsd\n",
      "Parsing schema comtec_cdms_task_order.xsd\n",
      "Compiling schema comtec_cdms_task_order.xsd\n",
      "Builder: 211 main and 118 inner classes\n",
      "Compiling schema bookTimeslotRequest.xsd\n",
      "Builder: 1 main and 2 inner classes\n",
      "Analyzer input: 212 main and 120 inner classes\n",
      "Analyzer output: 190 main and 125 inner classes\n",
      "Generating package: generated.comtec_cdms_task_order\n",
      "Generating package: generated.bookTimeslotRequest\n"
     ]
    }
   ],
   "source": [
    "!xsdata bookTimeslotRequest.xsd --output plantuml"
   ]
  },
  {
   "cell_type": "code",
   "execution_count": 28,
   "id": "4bc111cc",
   "metadata": {},
   "outputs": [
    {
     "name": "stdout",
     "output_type": "stream",
     "text": [
      " Volume in drive C is OS\n",
      " Volume Serial Number is 2818-58FB\n",
      "\n",
      " Directory of C:\\Users\\31653\\Documents\\GitHub\\Notebooks\\de_alliantie\\Webservices\\ortec\n",
      "\n",
      "07/03/2022  13:43    <DIR>          .\n",
      "07/03/2022  13:11    <DIR>          ..\n",
      "07/03/2022  13:11    <DIR>          .ipynb_checkpoints\n",
      "21/02/2022  14:03             1.001 bookTimeslotRequest.xsd\n",
      "21/02/2022  14:03             1.134 bookTimeslotResponse.xsd\n",
      "21/02/2022  14:03             7.192 calculateTimeslotRequest.xsd\n",
      "21/02/2022  14:03             2.325 calculateTimeslotResponse.xsd\n",
      "21/02/2022  14:03           171.507 comtec_cdms_task_order.xsd\n",
      "21/02/2022  14:03               256 deleteOrder.xsd\n",
      "21/02/2022  14:03               889 deleteOrderResponse.xsd\n",
      "07/03/2022  13:43    <DIR>          generated\n",
      "07/03/2022  13:39            37.812 ortec_xsds.ipynb\n",
      "21/02/2022  14:03             1.823 planningOrder.xsd\n",
      "07/03/2022  13:32    <DIR>          samples\n",
      "21/02/2022  14:03             1.434 statusOrder.xsd\n",
      "21/02/2022  14:03               889 statusOrderResponse.xsd\n",
      "              11 File(s)        226.262 bytes\n",
      "               5 Dir(s)  223.157.751.808 bytes free\n"
     ]
    }
   ],
   "source": [
    "ls"
   ]
  },
  {
   "cell_type": "code",
   "execution_count": 29,
   "id": "441a3bc9",
   "metadata": {},
   "outputs": [
    {
     "name": "stdout",
     "output_type": "stream",
     "text": [
      "C:\\Users\\31653\\Documents\\GitHub\\Notebooks\\de_alliantie\\Webservices\\ortec\\generated\n"
     ]
    }
   ],
   "source": [
    "cd generated"
   ]
  },
  {
   "cell_type": "code",
   "execution_count": 30,
   "id": "83ecfd32",
   "metadata": {},
   "outputs": [
    {
     "name": "stdout",
     "output_type": "stream",
     "text": [
      " Volume in drive C is OS\n",
      " Volume Serial Number is 2818-58FB\n",
      "\n",
      " Directory of C:\\Users\\31653\\Documents\\GitHub\\Notebooks\\de_alliantie\\Webservices\\ortec\\generated\n",
      "\n",
      "07/03/2022  13:43    <DIR>          .\n",
      "07/03/2022  13:43    <DIR>          ..\n",
      "07/03/2022  13:43               387 bookTimeslotRequest.pu\n",
      "07/03/2022  13:43            60.166 comtec_cdms_task_order.pu\n",
      "               2 File(s)         60.553 bytes\n",
      "               2 Dir(s)  223.157.923.840 bytes free\n"
     ]
    }
   ],
   "source": [
    "ls"
   ]
  },
  {
   "cell_type": "code",
   "execution_count": 26,
   "id": "510a400b",
   "metadata": {},
   "outputs": [],
   "source": [
    "%pycat C:\\Users\\31653\\Documents\\GitHub\\Notebooks\\de_alliantie\\Webservices\\ortec\\samples\\bookTimeslotRequest.pu"
   ]
  },
  {
   "cell_type": "code",
   "execution_count": null,
   "id": "c9a4466b",
   "metadata": {},
   "outputs": [],
   "source": []
  }
 ],
 "metadata": {
  "kernelspec": {
   "display_name": "Python 3 (ipykernel)",
   "language": "python",
   "name": "python3"
  },
  "language_info": {
   "codemirror_mode": {
    "name": "ipython",
    "version": 3
   },
   "file_extension": ".py",
   "mimetype": "text/x-python",
   "name": "python",
   "nbconvert_exporter": "python",
   "pygments_lexer": "ipython3",
   "version": "3.8.12"
  }
 },
 "nbformat": 4,
 "nbformat_minor": 5
}
