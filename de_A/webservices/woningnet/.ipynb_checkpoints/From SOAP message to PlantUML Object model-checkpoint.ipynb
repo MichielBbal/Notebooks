{
 "cells": [
  {
   "cell_type": "markdown",
   "id": "a014f48b",
   "metadata": {},
   "source": [
    "# From SOAP message to PlantUML Object model\n",
    "\n"
   ]
  },
  {
   "cell_type": "markdown",
   "id": "c553e6c7",
   "metadata": {},
   "source": [
    "### 1. Manual steps \n",
    "\n",
    "By using the xml part of the soap message (via Postman) we can create an object model\n",
    "\n",
    "Manual steps:\n",
    "- Load the wsdl into Postman\n",
    "- copy request / response message into an empty xml-file. (2 files)\n",
    "- remove soap header of xml file"
   ]
  },
  {
   "cell_type": "markdown",
   "id": "3a916f14",
   "metadata": {},
   "source": [
    "### 2. Show all (manually created) xml files"
   ]
  },
  {
   "cell_type": "code",
   "execution_count": 1,
   "id": "377b681e",
   "metadata": {},
   "outputs": [
    {
     "data": {
      "text/plain": [
       "['kandidaatOphalen.xml',\n",
       " 'kandidaatOphalenResponse.xml',\n",
       " 'leegmelden.xml',\n",
       " 'leegmelden2.xml',\n",
       " 'leegmelden_response.xml',\n",
       " 'objectAfmeldenRequest.xml',\n",
       " 'objectAfmeldenResponse.xml']"
      ]
     },
     "execution_count": 1,
     "metadata": {},
     "output_type": "execute_result"
    }
   ],
   "source": [
    "import glob\n",
    "my_xmls = glob.glob('*.xml')\n",
    "my_xmls"
   ]
  },
  {
   "cell_type": "markdown",
   "id": "29d9fa5c",
   "metadata": {},
   "source": [
    "### Converting the xml files to python lists (request_list and response_list)"
   ]
  },
  {
   "cell_type": "code",
   "execution_count": 2,
   "id": "92c58480",
   "metadata": {},
   "outputs": [],
   "source": [
    "#select the xml files manually\n",
    "method_name = 'leegmelden' \n",
    "request_xml='leegmelden.xml'\n",
    "response_xml= 'objectAfmeldenResponse.xml'"
   ]
  },
  {
   "cell_type": "code",
   "execution_count": 3,
   "id": "bd98ae9d",
   "metadata": {},
   "outputs": [
    {
     "name": "stdout",
     "output_type": "stream",
     "text": [
      "leegmelden.xml\n",
      "<DeclareEmpty>\n",
      "      <Publication>\n",
      "        <Id>string</Id>\n",
      "        <Number>string</Number>\n",
      "        <Sequence>string</Sequence>\n",
      "        <RealEstateObjectId>string</RealEstateObjectId>\n",
      "        <AddressStreet>string</AddressStreet>\n",
      "        <AddressHouseNumber>string</AddressHouseNumber>\n",
      "        <AddressHouseNumberAddition>string</AddressHouseNumberAddition>\n",
      "        <AddressZipcode>string</AddressZipcode>\n",
      "        <AddressCity>string</AddressCity>\n",
      "        <DistrictId>string</DistrictId>\n",
      "        <District>string</District>\n",
      "        <NeighborhoodId>string</NeighborhoodId>\n",
      "        <Neighborhood>string</Neighborhood>\n",
      "        <RegistrationTypeId>string</RegistrationTypeId>\n",
      "        <RegistrationType>string</RegistrationType>\n",
      "        <HousingId>string</HousingId>\n",
      "        <Housing>string</Housing>\n",
      "        <PlotTypeId>string</PlotTypeId>\n",
      "        <PlotType>string</PlotType>\n",
      "        <NetRent>string</NetRent>\n",
      "        <EligibleRent>string</EligibleRent>\n",
      "        <GrossRent>string</GrossRent>\n",
      "        <DateEmpty>string</DateEmpty>\n",
      "        <DateAvailable>string</DateAvailable>\n",
      "        <Start>string</Start>\n",
      "        <End>string</End>\n",
      "        <FloorNo>string</FloorNo>\n",
      "        <BuiltYear>string</BuiltYear>\n",
      "        <SellingPrice>string</SellingPrice>\n",
      "        <PractitionerId>string</PractitionerId>\n",
      "        <Practitioner>string</Practitioner>\n",
      "        <PublicationText>string</PublicationText>\n",
      "        <ObjectGroupId>string</ObjectGroupId>\n",
      "        <ObjectGroup>string</ObjectGroup>\n",
      "        <SortField1Id>string</SortField1Id>\n",
      "        <SortField1>string</SortField1>\n",
      "        <SortField2Id>string</SortField2Id>\n",
      "        <SortField2>string</SortField2>\n",
      "        <SortField3Id>string</SortField3Id>\n",
      "        <SortField3>string</SortField3>\n",
      "        <DestinationId>string</DestinationId>\n",
      "        <Destination>string</Destination>\n",
      "        <Corporatienummer>string</Corporatienummer>\n",
      "        <Vestigingsnummer>string</Vestigingsnummer>\n",
      "      </Publication>\n",
      "      <Components />\n",
      "      <ContractForms />\n",
      "      <Attributes />\n",
      "      <Criterion />\n",
      "      <Pictures />\n",
      "    </DeclareEmpty>\n"
     ]
    }
   ],
   "source": [
    "# parse the xml file\n",
    "import xml.etree.ElementTree as ET #import the library \n",
    "tree = ET.parse(request_xml) #parse the XML\n",
    "print(request_xml)\n",
    "ET.dump(tree) #print the xml file"
   ]
  },
  {
   "cell_type": "code",
   "execution_count": 4,
   "id": "208885ae",
   "metadata": {},
   "outputs": [
    {
     "name": "stdout",
     "output_type": "stream",
     "text": [
      "['DeclareEmpty', 'Publication', 'Id', 'Number', 'Sequence', 'RealEstateObjectId', 'AddressStreet', 'AddressHouseNumber', 'AddressHouseNumberAddition', 'AddressZipcode', 'AddressCity', 'DistrictId', 'District', 'NeighborhoodId', 'Neighborhood', 'RegistrationTypeId', 'RegistrationType', 'HousingId', 'Housing', 'PlotTypeId', 'PlotType', 'NetRent', 'EligibleRent', 'GrossRent', 'DateEmpty', 'DateAvailable', 'Start', 'End', 'FloorNo', 'BuiltYear', 'SellingPrice', 'PractitionerId', 'Practitioner', 'PublicationText', 'ObjectGroupId', 'ObjectGroup', 'SortField1Id', 'SortField1', 'SortField2Id', 'SortField2', 'SortField3Id', 'SortField3', 'DestinationId', 'Destination', 'Corporatienummer', 'Vestigingsnummer', 'Components', 'ContractForms', 'Attributes', 'Criterion', 'Pictures']\n"
     ]
    }
   ],
   "source": [
    "#get the attributes of the message and write to a list (request_list)\n",
    "request_list =[]\n",
    "for elem in tree.iter():\n",
    "    request_list.append(elem.tag)\n",
    "print(request_list)"
   ]
  },
  {
   "cell_type": "code",
   "execution_count": 5,
   "id": "27fa2c8e",
   "metadata": {},
   "outputs": [
    {
     "name": "stdout",
     "output_type": "stream",
     "text": [
      "objectAfmeldenResponse.xml\n",
      "<CompletedResult>\n",
      "      <Processed>string</Processed>\n",
      "      <Report>string</Report>\n",
      "</CompletedResult>\n"
     ]
    }
   ],
   "source": [
    "#create a new file with the Postman body\n",
    "import xml.etree.ElementTree as ET #import the library \n",
    "tree = ET.parse(response_xml) #parse the XML\n",
    "print(response_xml)\n",
    "ET.dump(tree) #print the xml file"
   ]
  },
  {
   "cell_type": "code",
   "execution_count": 6,
   "id": "deec0d85",
   "metadata": {},
   "outputs": [
    {
     "name": "stdout",
     "output_type": "stream",
     "text": [
      "['CompletedResult', 'Processed', 'Report']\n"
     ]
    }
   ],
   "source": [
    "#get the attributes of the message and write to a list (response_list)\n",
    "response_list =[]\n",
    "for elem in tree.iter():\n",
    "    response_list.append(elem.tag)\n",
    "print(response_list)"
   ]
  },
  {
   "cell_type": "markdown",
   "id": "8f6063a9",
   "metadata": {},
   "source": [
    "### Create the PlantUML text file"
   ]
  },
  {
   "cell_type": "code",
   "execution_count": 7,
   "id": "e5ae742c",
   "metadata": {},
   "outputs": [
    {
     "name": "stdout",
     "output_type": "stream",
     "text": [
      "done\n"
     ]
    }
   ],
   "source": [
    "#creating a plantUML .txt file based on the lists above\n",
    "textfile = open(str(method_name) + '_plantuml.txt', 'w')\n",
    "textfile.write('@startuml\\n')\n",
    "textfile.write('title '+ str(method_name) + ' - request en response message \\n')\n",
    "textfile.write('object '+request_list[0] +'{\\n')\n",
    "for i in range (len(request_list)):\n",
    "    try:\n",
    "        textfile.write(request_list[i+1] + \"\\n\")\n",
    "    except:\n",
    "        pass\n",
    "textfile.write('}\\n')\n",
    "textfile.write('object '+response_list[0] +'{\\n')\n",
    "for i in range (len(response_list)):\n",
    "    try:\n",
    "        textfile.write(response_list[i+1] + \"\\n\")\n",
    "    except:\n",
    "        pass\n",
    "textfile.write('}\\n')\n",
    "textfile.write('@enduml')\n",
    "textfile.close() \n",
    "print('done')"
   ]
  },
  {
   "cell_type": "code",
   "execution_count": 8,
   "id": "fa91f076",
   "metadata": {},
   "outputs": [
    {
     "data": {
      "text/plain": [
       "['kandidaatophalen_plantuml.txt',\n",
       " 'leegmelden_plantuml.txt',\n",
       " 'objectAfmelden_plantuml.txt']"
      ]
     },
     "execution_count": 8,
     "metadata": {},
     "output_type": "execute_result"
    }
   ],
   "source": [
    "#check the file\n",
    "import glob\n",
    "my_txts= glob.glob('*.txt')\n",
    "my_txts"
   ]
  },
  {
   "cell_type": "code",
   "execution_count": 19,
   "id": "475f87dc",
   "metadata": {},
   "outputs": [
    {
     "data": {
      "text/plain": [
       "'C:\\\\Users\\\\31653\\\\Documents\\\\GitHub\\\\Notebooks\\\\de_alliantie\\\\Webservices\\\\woningnet'"
      ]
     },
     "execution_count": 19,
     "metadata": {},
     "output_type": "execute_result"
    }
   ],
   "source": [
    "pwd"
   ]
  },
  {
   "cell_type": "code",
   "execution_count": 17,
   "id": "c57422ce",
   "metadata": {},
   "outputs": [],
   "source": [
    "%pycat C:\\\\Users\\\\31653\\\\Documents\\\\GitHub\\\\Notebooks\\\\de_alliantie\\\\Webservices\\\\woningnet\\\\objectAfmelden_plantuml.txt"
   ]
  },
  {
   "cell_type": "markdown",
   "id": "9f3f0f57",
   "metadata": {},
   "source": [
    "### Creating the plantuml images"
   ]
  },
  {
   "cell_type": "code",
   "execution_count": 18,
   "id": "125b23d6",
   "metadata": {},
   "outputs": [
    {
     "name": "stdout",
     "output_type": "stream",
     "text": [
      "[{'filename': 'objectAfmelden_plantuml.txt', 'gen_success': True}]\n"
     ]
    }
   ],
   "source": [
    "#convert the txt file to an .png image using plantuml\n",
    "!python -m plantuml objectAfmelden_plantuml.txt"
   ]
  },
  {
   "cell_type": "code",
   "execution_count": 19,
   "id": "5df2cdeb",
   "metadata": {},
   "outputs": [
    {
     "data": {
      "image/png": "[encoded data removed]",
      "text/plain": [
       "<IPython.core.display.Image object>"
      ]
     },
     "execution_count": 19,
     "metadata": {},
     "output_type": "execute_result"
    }
   ],
   "source": [
    "from IPython import display\n",
    "display.Image(filename='objectAfmelden_plantuml.png')"
   ]
  },
  {
   "cell_type": "markdown",
   "id": "8b62e43c",
   "metadata": {},
   "source": [
    "## x. as above but now with complete soap envelope- DO NOT USE NOT WORKING"
   ]
  },
  {
   "cell_type": "code",
   "execution_count": 12,
   "id": "5116f990",
   "metadata": {},
   "outputs": [
    {
     "data": {
      "text/plain": [
       "'C:\\\\Users\\\\31653\\\\Documents\\\\GitHub\\\\Notebooks\\\\de_alliantie'"
      ]
     },
     "execution_count": 12,
     "metadata": {},
     "output_type": "execute_result"
    }
   ],
   "source": [
    "pwd"
   ]
  },
  {
   "cell_type": "code",
   "execution_count": 13,
   "id": "53212f09",
   "metadata": {},
   "outputs": [],
   "source": [
    "%pycat C:\\\\Users\\\\31653\\\\Documents\\\\GitHub\\\\Notebooks\\\\de_alliantie\\\\leegmelden2.xml"
   ]
  },
  {
   "cell_type": "code",
   "execution_count": 9,
   "id": "7cd9c98d",
   "metadata": {},
   "outputs": [
    {
     "name": "stdout",
     "output_type": "stream",
     "text": [
      "<ns0:Envelope xmlns:ns0=\"http://schemas.xmlsoap.org/soap/envelope/\" xmlns:ns1=\"http://www.daan.com/ax/woningnet/\">\n",
      "  <ns0:Body>\n",
      "    <ns1:DeclareEmpty>\n",
      "      <ns1:Publication>\n",
      "        <ns1:Id>string</ns1:Id>\n",
      "        <ns1:Number>string</ns1:Number>\n",
      "        <ns1:Sequence>string</ns1:Sequence>\n",
      "        <ns1:RealEstateObjectId>string</ns1:RealEstateObjectId>\n",
      "        <ns1:AddressStreet>string</ns1:AddressStreet>\n",
      "        <ns1:AddressHouseNumber>string</ns1:AddressHouseNumber>\n",
      "        <ns1:AddressHouseNumberAddition>string</ns1:AddressHouseNumberAddition>\n",
      "        <ns1:AddressZipcode>string</ns1:AddressZipcode>\n",
      "        <ns1:AddressCity>string</ns1:AddressCity>\n",
      "        <ns1:DistrictId>string</ns1:DistrictId>\n",
      "        <ns1:District>string</ns1:District>\n",
      "        <ns1:NeighborhoodId>string</ns1:NeighborhoodId>\n",
      "        <ns1:Neighborhood>string</ns1:Neighborhood>\n",
      "        <ns1:RegistrationTypeId>string</ns1:RegistrationTypeId>\n",
      "        <ns1:RegistrationType>string</ns1:RegistrationType>\n",
      "        <ns1:HousingId>string</ns1:HousingId>\n",
      "        <ns1:Housing>string</ns1:Housing>\n",
      "        <ns1:PlotTypeId>string</ns1:PlotTypeId>\n",
      "        <ns1:PlotType>string</ns1:PlotType>\n",
      "        <ns1:NetRent>string</ns1:NetRent>\n",
      "        <ns1:EligibleRent>string</ns1:EligibleRent>\n",
      "        <ns1:GrossRent>string</ns1:GrossRent>\n",
      "        <ns1:DateEmpty>string</ns1:DateEmpty>\n",
      "        <ns1:DateAvailable>string</ns1:DateAvailable>\n",
      "        <ns1:Start>string</ns1:Start>\n",
      "        <ns1:End>string</ns1:End>\n",
      "        <ns1:FloorNo>string</ns1:FloorNo>\n",
      "        <ns1:BuiltYear>string</ns1:BuiltYear>\n",
      "        <ns1:SellingPrice>string</ns1:SellingPrice>\n",
      "        <ns1:PractitionerId>string</ns1:PractitionerId>\n",
      "        <ns1:Practitioner>string</ns1:Practitioner>\n",
      "        <ns1:PublicationText>string</ns1:PublicationText>\n",
      "        <ns1:ObjectGroupId>string</ns1:ObjectGroupId>\n",
      "        <ns1:ObjectGroup>string</ns1:ObjectGroup>\n",
      "        <ns1:SortField1Id>string</ns1:SortField1Id>\n",
      "        <ns1:SortField1>string</ns1:SortField1>\n",
      "        <ns1:SortField2Id>string</ns1:SortField2Id>\n",
      "        <ns1:SortField2>string</ns1:SortField2>\n",
      "        <ns1:SortField3Id>string</ns1:SortField3Id>\n",
      "        <ns1:SortField3>string</ns1:SortField3>\n",
      "        <ns1:DestinationId>string</ns1:DestinationId>\n",
      "        <ns1:Destination>string</ns1:Destination>\n",
      "        <ns1:Corporatienummer>string</ns1:Corporatienummer>\n",
      "        <ns1:Vestigingsnummer>string</ns1:Vestigingsnummer>\n",
      "      </ns1:Publication>\n",
      "      <ns1:Components />\n",
      "      <ns1:ContractForms />\n",
      "      <ns1:Attributes />\n",
      "      <ns1:Criterion />\n",
      "      <ns1:Pictures />\n",
      "    </ns1:DeclareEmpty>\n",
      "  </ns0:Body>\n",
      "</ns0:Envelope>\n"
     ]
    }
   ],
   "source": [
    "#create a new file with the Postman body and the COMPLETE SOAP MESSAGE\n",
    "import xml.etree.ElementTree as ET #import the library \n",
    "tree = ET.parse('leegmelden2.xml') #parse the XML\n",
    "ET.dump(tree) #print the xml file"
   ]
  },
  {
   "cell_type": "code",
   "execution_count": 10,
   "id": "e4f16d94",
   "metadata": {},
   "outputs": [
    {
     "name": "stdout",
     "output_type": "stream",
     "text": [
      "['{http://schemas.xmlsoap.org/soap/envelope/}Envelope', '{http://schemas.xmlsoap.org/soap/envelope/}Body', '{http://www.daan.com/ax/woningnet/}DeclareEmpty', '{http://www.daan.com/ax/woningnet/}Publication', '{http://www.daan.com/ax/woningnet/}Id', '{http://www.daan.com/ax/woningnet/}Number', '{http://www.daan.com/ax/woningnet/}Sequence', '{http://www.daan.com/ax/woningnet/}RealEstateObjectId', '{http://www.daan.com/ax/woningnet/}AddressStreet', '{http://www.daan.com/ax/woningnet/}AddressHouseNumber', '{http://www.daan.com/ax/woningnet/}AddressHouseNumberAddition', '{http://www.daan.com/ax/woningnet/}AddressZipcode', '{http://www.daan.com/ax/woningnet/}AddressCity', '{http://www.daan.com/ax/woningnet/}DistrictId', '{http://www.daan.com/ax/woningnet/}District', '{http://www.daan.com/ax/woningnet/}NeighborhoodId', '{http://www.daan.com/ax/woningnet/}Neighborhood', '{http://www.daan.com/ax/woningnet/}RegistrationTypeId', '{http://www.daan.com/ax/woningnet/}RegistrationType', '{http://www.daan.com/ax/woningnet/}HousingId', '{http://www.daan.com/ax/woningnet/}Housing', '{http://www.daan.com/ax/woningnet/}PlotTypeId', '{http://www.daan.com/ax/woningnet/}PlotType', '{http://www.daan.com/ax/woningnet/}NetRent', '{http://www.daan.com/ax/woningnet/}EligibleRent', '{http://www.daan.com/ax/woningnet/}GrossRent', '{http://www.daan.com/ax/woningnet/}DateEmpty', '{http://www.daan.com/ax/woningnet/}DateAvailable', '{http://www.daan.com/ax/woningnet/}Start', '{http://www.daan.com/ax/woningnet/}End', '{http://www.daan.com/ax/woningnet/}FloorNo', '{http://www.daan.com/ax/woningnet/}BuiltYear', '{http://www.daan.com/ax/woningnet/}SellingPrice', '{http://www.daan.com/ax/woningnet/}PractitionerId', '{http://www.daan.com/ax/woningnet/}Practitioner', '{http://www.daan.com/ax/woningnet/}PublicationText', '{http://www.daan.com/ax/woningnet/}ObjectGroupId', '{http://www.daan.com/ax/woningnet/}ObjectGroup', '{http://www.daan.com/ax/woningnet/}SortField1Id', '{http://www.daan.com/ax/woningnet/}SortField1', '{http://www.daan.com/ax/woningnet/}SortField2Id', '{http://www.daan.com/ax/woningnet/}SortField2', '{http://www.daan.com/ax/woningnet/}SortField3Id', '{http://www.daan.com/ax/woningnet/}SortField3', '{http://www.daan.com/ax/woningnet/}DestinationId', '{http://www.daan.com/ax/woningnet/}Destination', '{http://www.daan.com/ax/woningnet/}Corporatienummer', '{http://www.daan.com/ax/woningnet/}Vestigingsnummer', '{http://www.daan.com/ax/woningnet/}Components', '{http://www.daan.com/ax/woningnet/}ContractForms', '{http://www.daan.com/ax/woningnet/}Attributes', '{http://www.daan.com/ax/woningnet/}Criterion', '{http://www.daan.com/ax/woningnet/}Pictures']\n"
     ]
    }
   ],
   "source": [
    "request_list =[]\n",
    "for elem in tree.iter():\n",
    "    request_list.append(elem.tag)\n",
    "print(request_list)"
   ]
  },
  {
   "cell_type": "code",
   "execution_count": 11,
   "id": "80f459a2",
   "metadata": {},
   "outputs": [
    {
     "data": {
      "text/plain": [
       "['{http://schemas.xmlsoap.org/soap/envelope/}Envelope',\n",
       " '{http://schemas.xmlsoap.org/soap/envelope/}Body',\n",
       " '{http://www.daan.com/ax/woningnet/}DeclareEmpty',\n",
       " '{http://www.daan.com/ax/woningnet/}Publication',\n",
       " '{http://www.daan.com/ax/woningnet/}Id',\n",
       " '{http://www.daan.com/ax/woningnet/}Number',\n",
       " '{http://www.daan.com/ax/woningnet/}Sequence',\n",
       " '{http://www.daan.com/ax/woningnet/}RealEstateObjectId',\n",
       " '{http://www.daan.com/ax/woningnet/}AddressStreet',\n",
       " '{http://www.daan.com/ax/woningnet/}AddressHouseNumber',\n",
       " '{http://www.daan.com/ax/woningnet/}AddressHouseNumberAddition',\n",
       " '{http://www.daan.com/ax/woningnet/}AddressZipcode',\n",
       " '{http://www.daan.com/ax/woningnet/}AddressCity',\n",
       " '{http://www.daan.com/ax/woningnet/}DistrictId',\n",
       " '{http://www.daan.com/ax/woningnet/}District',\n",
       " '{http://www.daan.com/ax/woningnet/}NeighborhoodId',\n",
       " '{http://www.daan.com/ax/woningnet/}Neighborhood',\n",
       " '{http://www.daan.com/ax/woningnet/}RegistrationTypeId',\n",
       " '{http://www.daan.com/ax/woningnet/}RegistrationType',\n",
       " '{http://www.daan.com/ax/woningnet/}HousingId',\n",
       " '{http://www.daan.com/ax/woningnet/}Housing',\n",
       " '{http://www.daan.com/ax/woningnet/}PlotTypeId',\n",
       " '{http://www.daan.com/ax/woningnet/}PlotType',\n",
       " '{http://www.daan.com/ax/woningnet/}NetRent',\n",
       " '{http://www.daan.com/ax/woningnet/}EligibleRent',\n",
       " '{http://www.daan.com/ax/woningnet/}GrossRent',\n",
       " '{http://www.daan.com/ax/woningnet/}DateEmpty',\n",
       " '{http://www.daan.com/ax/woningnet/}DateAvailable',\n",
       " '{http://www.daan.com/ax/woningnet/}Start',\n",
       " '{http://www.daan.com/ax/woningnet/}End',\n",
       " '{http://www.daan.com/ax/woningnet/}FloorNo',\n",
       " '{http://www.daan.com/ax/woningnet/}BuiltYear',\n",
       " '{http://www.daan.com/ax/woningnet/}SellingPrice',\n",
       " '{http://www.daan.com/ax/woningnet/}PractitionerId',\n",
       " '{http://www.daan.com/ax/woningnet/}Practitioner',\n",
       " '{http://www.daan.com/ax/woningnet/}PublicationText',\n",
       " '{http://www.daan.com/ax/woningnet/}ObjectGroupId',\n",
       " '{http://www.daan.com/ax/woningnet/}ObjectGroup',\n",
       " '{http://www.daan.com/ax/woningnet/}SortField1Id',\n",
       " '{http://www.daan.com/ax/woningnet/}SortField1',\n",
       " '{http://www.daan.com/ax/woningnet/}SortField2Id',\n",
       " '{http://www.daan.com/ax/woningnet/}SortField2',\n",
       " '{http://www.daan.com/ax/woningnet/}SortField3Id',\n",
       " '{http://www.daan.com/ax/woningnet/}SortField3',\n",
       " '{http://www.daan.com/ax/woningnet/}DestinationId',\n",
       " '{http://www.daan.com/ax/woningnet/}Destination',\n",
       " '{http://www.daan.com/ax/woningnet/}Corporatienummer',\n",
       " '{http://www.daan.com/ax/woningnet/}Vestigingsnummer',\n",
       " '{http://www.daan.com/ax/woningnet/}Components',\n",
       " '{http://www.daan.com/ax/woningnet/}ContractForms',\n",
       " '{http://www.daan.com/ax/woningnet/}Attributes',\n",
       " '{http://www.daan.com/ax/woningnet/}Criterion',\n",
       " '{http://www.daan.com/ax/woningnet/}Pictures']"
      ]
     },
     "execution_count": 11,
     "metadata": {},
     "output_type": "execute_result"
    }
   ],
   "source": [
    "request_list"
   ]
  },
  {
   "cell_type": "code",
   "execution_count": 12,
   "id": "b5c4ddca",
   "metadata": {},
   "outputs": [],
   "source": [
    "#source: https://stackoverflow.com/questions/45250626/how-to-parse-soap-xml-with-python\n",
    "stack = '''\n",
    "<soapenv:Envelope xmlns:soapenv=\"http://schemas.xmlsoap.org/soap/envelope/\" xmlns:won=\"http://www.daan.com/ax/woningnet/\">\n",
    "   <soapenv:Header/>\n",
    "   <soapenv:Body>\n",
    "      <won:DeclareEmpty>\n",
    "         <Publication>\n",
    "            <Id>?</Id>\n",
    "            <Number>?</Number>\n",
    "            <Sequence>?</Sequence>\n",
    "            <RealEstateObjectId>?</RealEstateObjectId>\n",
    "            <AddressStreet>?</AddressStreet>\n",
    "            <AddressHouseNumber>?</AddressHouseNumber>\n",
    "            <AddressHouseNumberAddition>?</AddressHouseNumberAddition>\n",
    "            <AddressZipcode>?</AddressZipcode>\n",
    "            <AddressCity>?</AddressCity>\n",
    "            <DistrictId>?</DistrictId>\n",
    "            <District>?</District>\n",
    "            <NeighborhoodId>?</NeighborhoodId>\n",
    "            <Neighborhood>?</Neighborhood>\n",
    "            <RegistrationTypeId>?</RegistrationTypeId>\n",
    "            <RegistrationType>?</RegistrationType>\n",
    "            <HousingId>?</HousingId>\n",
    "            <Housing>?</Housing>\n",
    "            <PlotTypeId>?</PlotTypeId>\n",
    "            <PlotType>?</PlotType>\n",
    "            <NetRent>?</NetRent>\n",
    "            <EligibleRent>?</EligibleRent>\n",
    "            <GrossRent>?</GrossRent>\n",
    "            <DateEmpty>?</DateEmpty>\n",
    "            <DateAvailable>?</DateAvailable>\n",
    "            <Start>?</Start>\n",
    "            <End>?</End>\n",
    "            <FloorNo>?</FloorNo>\n",
    "            <BuiltYear>?</BuiltYear>\n",
    "            <SellingPrice>?</SellingPrice>\n",
    "            <PractitionerId>?</PractitionerId>\n",
    "            <Practitioner>?</Practitioner>\n",
    "            <PublicationText>?</PublicationText>\n",
    "            <ObjectGroupId>?</ObjectGroupId>\n",
    "            <ObjectGroup>?</ObjectGroup>\n",
    "            <SortField1Id>?</SortField1Id>\n",
    "            <SortField1>?</SortField1>\n",
    "            <SortField2Id>?</SortField2Id>\n",
    "            <SortField2>?</SortField2>\n",
    "            <SortField3Id>?</SortField3Id>\n",
    "            <SortField3>?</SortField3>\n",
    "            <DestinationId>?</DestinationId>\n",
    "            <Destination>?</Destination>\n",
    "            <Corporatienummer>?</Corporatienummer>\n",
    "            <Vestigingsnummer>?</Vestigingsnummer>\n",
    "         </Publication>\n",
    "         <Components>\n",
    "            <!--1 or more repetitions:-->\n",
    "            <Component>\n",
    "               <Id>?</Id>\n",
    "               <Description>?</Description>\n",
    "               <Value>?</Value>\n",
    "            </Component>\n",
    "         </Components>\n",
    "         <ContractForms>\n",
    "            <!--1 or more repetitions:-->\n",
    "            <ContractForm>\n",
    "               <Id>?</Id>\n",
    "               <Description>?</Description>\n",
    "            </ContractForm>\n",
    "         </ContractForms>\n",
    "         <Attributes>\n",
    "            <!--1 or more repetitions:-->\n",
    "            <Attribute>\n",
    "               <Id>?</Id>\n",
    "               <Name>?</Name>\n",
    "               <Value>?</Value>\n",
    "            </Attribute>\n",
    "         </Attributes>\n",
    "         <Criterion>\n",
    "            <!--1 or more repetitions:-->\n",
    "            <Criteria>\n",
    "               <Criteriumgroup>?</Criteriumgroup>\n",
    "               <Criteriatype>?</Criteriatype>\n",
    "               <Filtergroups>\n",
    "                  <!--1 or more repetitions:-->\n",
    "                  <Filtergroup>\n",
    "                     <Id>?</Id>\n",
    "                     <Description>?</Description>\n",
    "                     <Type>?</Type>\n",
    "                  </Filtergroup>\n",
    "               </Filtergroups>\n",
    "               <Rules>\n",
    "                  <Rule>\n",
    "                     <Description>?</Description>\n",
    "                     <MatchingAttribute>?</MatchingAttribute>\n",
    "                     <MatchingRule>?</MatchingRule>\n",
    "                     <Sequence>?</Sequence>\n",
    "                     <ValueStart>?</ValueStart>\n",
    "                     <ValueEnd>?</ValueEnd>\n",
    "                     <ValueType>?</ValueType>\n",
    "                  </Rule>\n",
    "               </Rules>\n",
    "            </Criteria>\n",
    "         </Criterion>\n",
    "         <Pictures>\n",
    "            <!--1 or more repetitions:-->\n",
    "            <Picture>\n",
    "               <File>?</File>\n",
    "            </Picture>\n",
    "         </Pictures>\n",
    "      </won:DeclareEmpty>\n",
    "   </soapenv:Body>\n",
    "</soapenv:Envelope>\n",
    "'''"
   ]
  },
  {
   "cell_type": "code",
   "execution_count": 13,
   "id": "a4ab255e",
   "metadata": {},
   "outputs": [],
   "source": [
    "import xmltodict"
   ]
  },
  {
   "cell_type": "code",
   "execution_count": 14,
   "id": "f5882958",
   "metadata": {},
   "outputs": [],
   "source": [
    "stack_d = xmltodict.parse(stack)"
   ]
  },
  {
   "cell_type": "code",
   "execution_count": 21,
   "id": "b8c9acd5",
   "metadata": {},
   "outputs": [
    {
     "data": {
      "text/plain": [
       "OrderedDict([('Id', '?'),\n",
       "             ('Number', '?'),\n",
       "             ('Sequence', '?'),\n",
       "             ('RealEstateObjectId', '?'),\n",
       "             ('AddressStreet', '?'),\n",
       "             ('AddressHouseNumber', '?'),\n",
       "             ('AddressHouseNumberAddition', '?'),\n",
       "             ('AddressZipcode', '?'),\n",
       "             ('AddressCity', '?'),\n",
       "             ('DistrictId', '?'),\n",
       "             ('District', '?'),\n",
       "             ('NeighborhoodId', '?'),\n",
       "             ('Neighborhood', '?'),\n",
       "             ('RegistrationTypeId', '?'),\n",
       "             ('RegistrationType', '?'),\n",
       "             ('HousingId', '?'),\n",
       "             ('Housing', '?'),\n",
       "             ('PlotTypeId', '?'),\n",
       "             ('PlotType', '?'),\n",
       "             ('NetRent', '?'),\n",
       "             ('EligibleRent', '?'),\n",
       "             ('GrossRent', '?'),\n",
       "             ('DateEmpty', '?'),\n",
       "             ('DateAvailable', '?'),\n",
       "             ('Start', '?'),\n",
       "             ('End', '?'),\n",
       "             ('FloorNo', '?'),\n",
       "             ('BuiltYear', '?'),\n",
       "             ('SellingPrice', '?'),\n",
       "             ('PractitionerId', '?'),\n",
       "             ('Practitioner', '?'),\n",
       "             ('PublicationText', '?'),\n",
       "             ('ObjectGroupId', '?'),\n",
       "             ('ObjectGroup', '?'),\n",
       "             ('SortField1Id', '?'),\n",
       "             ('SortField1', '?'),\n",
       "             ('SortField2Id', '?'),\n",
       "             ('SortField2', '?'),\n",
       "             ('SortField3Id', '?'),\n",
       "             ('SortField3', '?'),\n",
       "             ('DestinationId', '?'),\n",
       "             ('Destination', '?'),\n",
       "             ('Corporatienummer', '?'),\n",
       "             ('Vestigingsnummer', '?')])"
      ]
     },
     "execution_count": 21,
     "metadata": {},
     "output_type": "execute_result"
    }
   ],
   "source": [
    "stack_d['soapenv:Envelope']['soapenv:Body']['won:DeclareEmpty']['Publication']"
   ]
  },
  {
   "cell_type": "code",
   "execution_count": null,
   "id": "abbedd81",
   "metadata": {},
   "outputs": [],
   "source": []
  }
 ],
 "metadata": {
  "kernelspec": {
   "display_name": "Python 3 (ipykernel)",
   "language": "python",
   "name": "python3"
  },
  "language_info": {
   "codemirror_mode": {
    "name": "ipython",
    "version": 3
   },
   "file_extension": ".py",
   "mimetype": "text/x-python",
   "name": "python",
   "nbconvert_exporter": "python",
   "pygments_lexer": "ipython3",
   "version": "3.8.5"
  }
 },
 "nbformat": 4,
 "nbformat_minor": 5
}
