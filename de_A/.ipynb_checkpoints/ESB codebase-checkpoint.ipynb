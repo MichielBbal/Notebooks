{
 "cells": [
  {
   "cell_type": "markdown",
   "id": "35d291c5",
   "metadata": {},
   "source": [
    "# Notebook for searching and copying files in ESB codebook\n",
    "\n",
    "### Contents\n",
    "1. WSDL: search, clean and copy\n",
    "2. XSD: search, clean and copy"
   ]
  },
  {
   "cell_type": "markdown",
   "id": "9110803f",
   "metadata": {},
   "source": [
    "## WSDL"
   ]
  },
  {
   "cell_type": "code",
   "execution_count": 6,
   "id": "75ab2b3a",
   "metadata": {},
   "outputs": [
    {
     "name": "stdout",
     "output_type": "stream",
     "text": [
      "31\n"
     ]
    },
    {
     "data": {
      "text/plain": [
       "['C:\\\\\\\\Users\\\\\\\\31653\\\\\\\\Desktop\\\\\\\\DeAlliantie\\\\\\\\clone_script\\\\commons-ax-bax-client\\\\src\\\\main\\\\resources\\\\wsdl\\\\ax-bax.wsdl',\n",
       " 'C:\\\\\\\\Users\\\\\\\\31653\\\\\\\\Desktop\\\\\\\\DeAlliantie\\\\\\\\clone_script\\\\commons-ax-mobileservice-client\\\\src\\\\main\\\\resources\\\\wsdl\\\\MobileService\\\\MobileService_2.3.0.3.wsdl',\n",
       " 'C:\\\\\\\\Users\\\\\\\\31653\\\\\\\\Desktop\\\\\\\\DeAlliantie\\\\\\\\clone_script\\\\commons-ax-planboard-client\\\\src\\\\main\\\\resources\\\\wsdl\\\\ExternalPlanboardXSD.Service1.svc.wsdl',\n",
       " 'C:\\\\\\\\Users\\\\\\\\31653\\\\\\\\Desktop\\\\\\\\DeAlliantie\\\\\\\\clone_script\\\\commons-ax-scp-client\\\\src\\\\main\\\\resources\\\\wsdl\\\\customerportal-ax.wsdl',\n",
       " 'C:\\\\\\\\Users\\\\\\\\31653\\\\\\\\Desktop\\\\\\\\DeAlliantie\\\\\\\\clone_script\\\\commons-ax-woningnet-client\\\\src\\\\main\\\\resources\\\\wsdl\\\\woningnet\\\\ax-woningnet.wsdl',\n",
       " 'C:\\\\\\\\Users\\\\\\\\31653\\\\\\\\Desktop\\\\\\\\DeAlliantie\\\\\\\\clone_script\\\\commons-corporatieportaal-client\\\\src\\\\main\\\\resources\\\\wsdl\\\\Corporatieportaal.wsdl',\n",
       " 'C:\\\\\\\\Users\\\\\\\\31653\\\\\\\\Desktop\\\\\\\\DeAlliantie\\\\\\\\clone_script\\\\commons-daan-v0310-client\\\\src\\\\main\\\\resources\\\\wsdl\\\\0301\\\\stuf0301_services.wsdl',\n",
       " 'C:\\\\\\\\Users\\\\\\\\31653\\\\\\\\Desktop\\\\\\\\DeAlliantie\\\\\\\\clone_script\\\\commons-daan-v0310-client\\\\src\\\\main\\\\resources\\\\wsdl\\\\0301\\\\stuf0301_types.wsdl',\n",
       " 'C:\\\\\\\\Users\\\\\\\\31653\\\\\\\\Desktop\\\\\\\\DeAlliantie\\\\\\\\clone_script\\\\commons-daan-v0310-client\\\\src\\\\main\\\\resources\\\\wsdl\\\\daan310\\\\dossiers\\\\daan0310_dossiers.wsdl',\n",
       " 'C:\\\\\\\\Users\\\\\\\\31653\\\\\\\\Desktop\\\\\\\\DeAlliantie\\\\\\\\clone_script\\\\commons-daan-v0310-client\\\\src\\\\main\\\\resources\\\\wsdl\\\\daan310\\\\mutatie\\\\daan0310_verwerkSynchroneKennisgeving_mutatie.wsdl',\n",
       " 'C:\\\\\\\\Users\\\\\\\\31653\\\\\\\\Desktop\\\\\\\\DeAlliantie\\\\\\\\clone_script\\\\commons-daan-v0310-client\\\\src\\\\main\\\\resources\\\\wsdl\\\\daan310\\\\onderhoud\\\\daan0310_verwerkSynchroonVrijBericht_onderhoud.wsdl',\n",
       " 'C:\\\\\\\\Users\\\\\\\\31653\\\\\\\\Desktop\\\\\\\\DeAlliantie\\\\\\\\clone_script\\\\commons-daan-v0310-client\\\\src\\\\main\\\\resources\\\\wsdl\\\\daan310\\\\planning\\\\daan0310_verwerkSynchroonVrijBericht_planning.wsdl',\n",
       " 'C:\\\\\\\\Users\\\\\\\\31653\\\\\\\\Desktop\\\\\\\\DeAlliantie\\\\\\\\clone_script\\\\commons-daan-v0310-client\\\\src\\\\main\\\\resources\\\\wsdl\\\\daan310\\\\proces\\\\daan0310_verwerkSynchroonVrijBericht_proces.wsdl',\n",
       " 'C:\\\\\\\\Users\\\\\\\\31653\\\\\\\\Desktop\\\\\\\\DeAlliantie\\\\\\\\clone_script\\\\commons-daan-v0310-client\\\\src\\\\main\\\\resources\\\\wsdl\\\\daan310\\\\vastgoed\\\\daan0310_vastgoed.wsdl',\n",
       " 'C:\\\\\\\\Users\\\\\\\\31653\\\\\\\\Desktop\\\\\\\\DeAlliantie\\\\\\\\clone_script\\\\commons-daan-v0310-client\\\\src\\\\main\\\\resources\\\\wsdl\\\\daan310\\\\vraagAntwoord\\\\daan0310_beantwoordVraag_vraagantwoord.wsdl',\n",
       " 'C:\\\\\\\\Users\\\\\\\\31653\\\\\\\\Desktop\\\\\\\\DeAlliantie\\\\\\\\clone_script\\\\commons-daan-v0310-client\\\\src\\\\main\\\\resources\\\\wsdl\\\\daan310\\\\woonruimteverdeling\\\\daan0310_verwerkSynchroonVrijBericht_woonruimteverdeling.wsdl',\n",
       " 'C:\\\\\\\\Users\\\\\\\\31653\\\\\\\\Desktop\\\\\\\\DeAlliantie\\\\\\\\clone_script\\\\commons-ketenstandaard-sales-client\\\\src\\\\main\\\\resources\\\\wsdl\\\\MessageService_MessageService31.wsdl',\n",
       " 'C:\\\\\\\\Users\\\\\\\\31653\\\\\\\\Desktop\\\\\\\\DeAlliantie\\\\\\\\clone_script\\\\commons-ortec-client\\\\src\\\\main\\\\resources\\\\wsdl\\\\ORTEC-OUT.wsdl',\n",
       " 'C:\\\\\\\\Users\\\\\\\\31653\\\\\\\\Desktop\\\\\\\\DeAlliantie\\\\\\\\clone_script\\\\commons-ortec-esb-client\\\\src\\\\main\\\\resources\\\\wsdl\\\\ORTEC-IN.wsdl',\n",
       " 'C:\\\\\\\\Users\\\\\\\\31653\\\\\\\\Desktop\\\\\\\\DeAlliantie\\\\\\\\clone_script\\\\commons-sigmax-client\\\\src\\\\main\\\\resources\\\\wsdl\\\\FMS-ERP.wsdl',\n",
       " 'C:\\\\\\\\Users\\\\\\\\31653\\\\\\\\Desktop\\\\\\\\DeAlliantie\\\\\\\\clone_script\\\\commons-sigmax-planning-client\\\\src\\\\main\\\\resources\\\\wsdl\\\\FMS-EPS.wsdl',\n",
       " 'C:\\\\\\\\Users\\\\\\\\31653\\\\\\\\Desktop\\\\\\\\DeAlliantie\\\\\\\\clone_script\\\\commons-woningnet-client\\\\src\\\\main\\\\resources\\\\wsdl\\\\Aanbieding\\\\AanbiedingISService_ep_1.wsdl',\n",
       " 'C:\\\\\\\\Users\\\\\\\\31653\\\\\\\\Desktop\\\\\\\\DeAlliantie\\\\\\\\clone_script\\\\commons-woningnet-client\\\\src\\\\main\\\\resources\\\\wsdl\\\\Object\\\\ObjectISService_ep_1.wsdl',\n",
       " 'C:\\\\\\\\Users\\\\\\\\31653\\\\\\\\Desktop\\\\\\\\DeAlliantie\\\\\\\\clone_script\\\\commons-woningnet-client\\\\src\\\\main\\\\resources\\\\wsdl\\\\Publicatie\\\\PublicatieISService_ep_1.wsdl',\n",
       " 'C:\\\\\\\\Users\\\\\\\\31653\\\\\\\\Desktop\\\\\\\\DeAlliantie\\\\\\\\clone_script\\\\commons-wos-client\\\\src\\\\main\\\\resources\\\\wsdl\\\\AxWS.svc.wsdl',\n",
       " 'C:\\\\\\\\Users\\\\\\\\31653\\\\\\\\Desktop\\\\\\\\DeAlliantie\\\\\\\\clone_script\\\\woonruimteverdeling-ax-esb\\\\src\\\\main\\\\resources\\\\etc\\\\0301\\\\stuf0301_types.wsdl',\n",
       " 'C:\\\\\\\\Users\\\\\\\\31653\\\\\\\\Desktop\\\\\\\\DeAlliantie\\\\\\\\clone_script\\\\woonruimteverdeling-ax-esb\\\\src\\\\main\\\\resources\\\\wsdl\\\\aanbieding\\\\wrv01_verwerkSynchroneKennisgeving_mutatie.wsdl',\n",
       " 'C:\\\\\\\\Users\\\\\\\\31653\\\\\\\\Desktop\\\\\\\\DeAlliantie\\\\\\\\clone_script\\\\woonruimteverdeling-ax-esb\\\\src\\\\main\\\\resources\\\\wsdl\\\\aanbieding-legacy\\\\AanbiedingISService_ep_1.wsdl',\n",
       " 'C:\\\\\\\\Users\\\\\\\\31653\\\\\\\\Desktop\\\\\\\\DeAlliantie\\\\\\\\clone_script\\\\woonruimteverdeling-ax-esb\\\\src\\\\main\\\\resources\\\\wsdl\\\\kennisgeving\\\\woonruimteverdeling_vera_mutatie.wsdl',\n",
       " 'C:\\\\\\\\Users\\\\\\\\31653\\\\\\\\Desktop\\\\\\\\DeAlliantie\\\\\\\\clone_script\\\\woonruimteverdeling-ax-esb\\\\src\\\\main\\\\resources\\\\wsdl\\\\object\\\\ObjectISService_ep_1.wsdl',\n",
       " 'C:\\\\\\\\Users\\\\\\\\31653\\\\\\\\Desktop\\\\\\\\DeAlliantie\\\\\\\\clone_script\\\\woonruimteverdeling-ax-esb\\\\src\\\\main\\\\resources\\\\wsdl\\\\publicatie\\\\PublicatieISService_ep_1.wsdl']"
      ]
     },
     "execution_count": 6,
     "metadata": {},
     "output_type": "execute_result"
    }
   ],
   "source": [
    "import glob\n",
    "wsdls = glob.glob(r'C:\\\\Users\\\\31653\\\\Desktop\\\\DeAlliantie\\\\clone_script\\\\**\\\\*.wsdl*', recursive=True)\n",
    "print(len(wsdls))\n",
    "wsdls"
   ]
  },
  {
   "cell_type": "code",
   "execution_count": 4,
   "id": "7f01c75b",
   "metadata": {},
   "outputs": [
    {
     "name": "stdout",
     "output_type": "stream",
     "text": [
      "commons-ax-bax-client\\src\\main\\resources\\wsdl\\ax-bax.wsdl\n",
      "commons-ax-mobileservice-client\\src\\main\\resources\\wsdl\\MobileService\\MobileService_2.3.0.3.wsdl\n",
      "commons-ax-planboard-client\\src\\main\\resources\\wsdl\\ExternalPlanboardXSD.Service1.svc.wsdl\n",
      "commons-ax-scp-client\\src\\main\\resources\\wsdl\\customerportal-ax.wsdl\n",
      "commons-ax-woningnet-client\\src\\main\\resources\\wsdl\\woningnet\\ax-woningnet.wsdl\n",
      "commons-corporatieportaal-client\\src\\main\\resources\\wsdl\\Corporatieportaal.wsdl\n",
      "commons-daan-v0310-client\\src\\main\\resources\\wsdl\\0301\\stuf0301_services.wsdl\n",
      "commons-daan-v0310-client\\src\\main\\resources\\wsdl\\0301\\stuf0301_types.wsdl\n",
      "commons-daan-v0310-client\\src\\main\\resources\\wsdl\\daan310\\dossiers\\daan0310_dossiers.wsdl\n",
      "commons-daan-v0310-client\\src\\main\\resources\\wsdl\\daan310\\mutatie\\daan0310_verwerkSynchroneKennisgeving_mutatie.wsdl\n",
      "commons-daan-v0310-client\\src\\main\\resources\\wsdl\\daan310\\onderhoud\\daan0310_verwerkSynchroonVrijBericht_onderhoud.wsdl\n",
      "commons-daan-v0310-client\\src\\main\\resources\\wsdl\\daan310\\planning\\daan0310_verwerkSynchroonVrijBericht_planning.wsdl\n",
      "commons-daan-v0310-client\\src\\main\\resources\\wsdl\\daan310\\proces\\daan0310_verwerkSynchroonVrijBericht_proces.wsdl\n",
      "commons-daan-v0310-client\\src\\main\\resources\\wsdl\\daan310\\vastgoed\\daan0310_vastgoed.wsdl\n",
      "commons-daan-v0310-client\\src\\main\\resources\\wsdl\\daan310\\vraagAntwoord\\daan0310_beantwoordVraag_vraagantwoord.wsdl\n",
      "commons-daan-v0310-client\\src\\main\\resources\\wsdl\\daan310\\woonruimteverdeling\\daan0310_verwerkSynchroonVrijBericht_woonruimteverdeling.wsdl\n",
      "commons-ketenstandaard-sales-client\\src\\main\\resources\\wsdl\\MessageService_MessageService31.wsdl\n",
      "commons-ortec-client\\src\\main\\resources\\wsdl\\ORTEC-OUT.wsdl\n",
      "commons-ortec-esb-client\\src\\main\\resources\\wsdl\\ORTEC-IN.wsdl\n",
      "commons-sigmax-client\\src\\main\\resources\\wsdl\\FMS-ERP.wsdl\n",
      "commons-sigmax-planning-client\\src\\main\\resources\\wsdl\\FMS-EPS.wsdl\n",
      "commons-woningnet-client\\src\\main\\resources\\wsdl\\Aanbieding\\AanbiedingISService_ep_1.wsdl\n",
      "commons-woningnet-client\\src\\main\\resources\\wsdl\\Object\\ObjectISService_ep_1.wsdl\n",
      "commons-woningnet-client\\src\\main\\resources\\wsdl\\Publicatie\\PublicatieISService_ep_1.wsdl\n",
      "commons-wos-client\\src\\main\\resources\\wsdl\\AxWS.svc.wsdl\n",
      "woonruimteverdeling-ax-esb\\src\\main\\resources\\etc\\0301\\stuf0301_types.wsdl\n",
      "woonruimteverdeling-ax-esb\\src\\main\\resources\\wsdl\\aanbieding\\wrv01_verwerkSynchroneKennisgeving_mutatie.wsdl\n",
      "woonruimteverdeling-ax-esb\\src\\main\\resources\\wsdl\\aanbieding-legacy\\AanbiedingISService_ep_1.wsdl\n",
      "woonruimteverdeling-ax-esb\\src\\main\\resources\\wsdl\\kennisgeving\\woonruimteverdeling_vera_mutatie.wsdl\n",
      "woonruimteverdeling-ax-esb\\src\\main\\resources\\wsdl\\object\\ObjectISService_ep_1.wsdl\n",
      "woonruimteverdeling-ax-esb\\src\\main\\resources\\wsdl\\publicatie\\PublicatieISService_ep_1.wsdl\n"
     ]
    }
   ],
   "source": [
    "for i in range(len(wsdls)):\n",
    "    s = wsdls[i]\n",
    "    l = s.split('clone_script\\\\',)\n",
    "    s=l[1]\n",
    "    print(s)"
   ]
  },
  {
   "cell_type": "code",
   "execution_count": 10,
   "id": "ce770fc6",
   "metadata": {},
   "outputs": [
    {
     "data": {
      "text/plain": [
       "'C:\\\\Users\\\\31653\\\\Desktop\\\\DeAlliantie\\\\wsdl\\\\ax-woningnet.wsdl'"
      ]
     },
     "execution_count": 10,
     "metadata": {},
     "output_type": "execute_result"
    }
   ],
   "source": [
    "# dummy: copy 1 file\n",
    "# source: https://datatofish.com/copy-file-python/\n",
    "import shutil\n",
    "source = r'C:\\Users\\31653\\Desktop\\DeAlliantie\\ax-woningnet.wsdl'\n",
    "target = r'C:\\Users\\31653\\Desktop\\DeAlliantie\\wsdl'\n",
    "shutil.copy(location, target)#r'C:\\Users\\31653\\Desktop\\DeAlliantie\\wsdl\\ax-woningnet.wsdl'\n"
   ]
  },
  {
   "cell_type": "code",
   "execution_count": 25,
   "id": "05810fe1",
   "metadata": {
    "scrolled": true
   },
   "outputs": [
    {
     "name": "stdout",
     "output_type": "stream",
     "text": [
      "C:\\\\Users\\\\31653\\\\Desktop\\\\DeAlliantie\\\\clone_script\\commons-ax-bax-client\\src\\main\\resources\\wsdl\\ax-bax.wsdl\n",
      "C:\\\\Users\\\\31653\\\\Desktop\\\\DeAlliantie\\\\clone_script\\commons-ax-mobileservice-client\\src\\main\\resources\\wsdl\\MobileService\\MobileService_2.3.0.3.wsdl\n",
      "C:\\\\Users\\\\31653\\\\Desktop\\\\DeAlliantie\\\\clone_script\\commons-ax-planboard-client\\src\\main\\resources\\wsdl\\ExternalPlanboardXSD.Service1.svc.wsdl\n",
      "C:\\\\Users\\\\31653\\\\Desktop\\\\DeAlliantie\\\\clone_script\\commons-ax-scp-client\\src\\main\\resources\\wsdl\\customerportal-ax.wsdl\n",
      "C:\\\\Users\\\\31653\\\\Desktop\\\\DeAlliantie\\\\clone_script\\commons-ax-woningnet-client\\src\\main\\resources\\wsdl\\woningnet\\ax-woningnet.wsdl\n",
      "C:\\\\Users\\\\31653\\\\Desktop\\\\DeAlliantie\\\\clone_script\\commons-corporatieportaal-client\\src\\main\\resources\\wsdl\\Corporatieportaal.wsdl\n",
      "C:\\\\Users\\\\31653\\\\Desktop\\\\DeAlliantie\\\\clone_script\\commons-daan-v0310-client\\src\\main\\resources\\wsdl\\0301\\stuf0301_services.wsdl\n",
      "C:\\\\Users\\\\31653\\\\Desktop\\\\DeAlliantie\\\\clone_script\\commons-daan-v0310-client\\src\\main\\resources\\wsdl\\0301\\stuf0301_types.wsdl\n",
      "C:\\\\Users\\\\31653\\\\Desktop\\\\DeAlliantie\\\\clone_script\\commons-daan-v0310-client\\src\\main\\resources\\wsdl\\daan310\\dossiers\\daan0310_dossiers.wsdl\n",
      "C:\\\\Users\\\\31653\\\\Desktop\\\\DeAlliantie\\\\clone_script\\commons-daan-v0310-client\\src\\main\\resources\\wsdl\\daan310\\mutatie\\daan0310_verwerkSynchroneKennisgeving_mutatie.wsdl\n",
      "C:\\\\Users\\\\31653\\\\Desktop\\\\DeAlliantie\\\\clone_script\\commons-daan-v0310-client\\src\\main\\resources\\wsdl\\daan310\\onderhoud\\daan0310_verwerkSynchroonVrijBericht_onderhoud.wsdl\n",
      "C:\\\\Users\\\\31653\\\\Desktop\\\\DeAlliantie\\\\clone_script\\commons-daan-v0310-client\\src\\main\\resources\\wsdl\\daan310\\planning\\daan0310_verwerkSynchroonVrijBericht_planning.wsdl\n",
      "C:\\\\Users\\\\31653\\\\Desktop\\\\DeAlliantie\\\\clone_script\\commons-daan-v0310-client\\src\\main\\resources\\wsdl\\daan310\\proces\\daan0310_verwerkSynchroonVrijBericht_proces.wsdl\n",
      "C:\\\\Users\\\\31653\\\\Desktop\\\\DeAlliantie\\\\clone_script\\commons-daan-v0310-client\\src\\main\\resources\\wsdl\\daan310\\vastgoed\\daan0310_vastgoed.wsdl\n",
      "C:\\\\Users\\\\31653\\\\Desktop\\\\DeAlliantie\\\\clone_script\\commons-daan-v0310-client\\src\\main\\resources\\wsdl\\daan310\\vraagAntwoord\\daan0310_beantwoordVraag_vraagantwoord.wsdl\n",
      "C:\\\\Users\\\\31653\\\\Desktop\\\\DeAlliantie\\\\clone_script\\commons-daan-v0310-client\\src\\main\\resources\\wsdl\\daan310\\woonruimteverdeling\\daan0310_verwerkSynchroonVrijBericht_woonruimteverdeling.wsdl\n",
      "C:\\\\Users\\\\31653\\\\Desktop\\\\DeAlliantie\\\\clone_script\\commons-ketenstandaard-sales-client\\src\\main\\resources\\wsdl\\MessageService_MessageService31.wsdl\n",
      "C:\\\\Users\\\\31653\\\\Desktop\\\\DeAlliantie\\\\clone_script\\commons-ortec-client\\src\\main\\resources\\wsdl\\ORTEC-OUT.wsdl\n",
      "C:\\\\Users\\\\31653\\\\Desktop\\\\DeAlliantie\\\\clone_script\\commons-ortec-esb-client\\src\\main\\resources\\wsdl\\ORTEC-IN.wsdl\n",
      "C:\\\\Users\\\\31653\\\\Desktop\\\\DeAlliantie\\\\clone_script\\commons-sigmax-client\\src\\main\\resources\\wsdl\\FMS-ERP.wsdl\n",
      "C:\\\\Users\\\\31653\\\\Desktop\\\\DeAlliantie\\\\clone_script\\commons-sigmax-planning-client\\src\\main\\resources\\wsdl\\FMS-EPS.wsdl\n",
      "C:\\\\Users\\\\31653\\\\Desktop\\\\DeAlliantie\\\\clone_script\\commons-woningnet-client\\src\\main\\resources\\wsdl\\Aanbieding\\AanbiedingISService_ep_1.wsdl\n",
      "C:\\\\Users\\\\31653\\\\Desktop\\\\DeAlliantie\\\\clone_script\\commons-woningnet-client\\src\\main\\resources\\wsdl\\Object\\ObjectISService_ep_1.wsdl\n",
      "C:\\\\Users\\\\31653\\\\Desktop\\\\DeAlliantie\\\\clone_script\\commons-woningnet-client\\src\\main\\resources\\wsdl\\Publicatie\\PublicatieISService_ep_1.wsdl\n",
      "C:\\\\Users\\\\31653\\\\Desktop\\\\DeAlliantie\\\\clone_script\\commons-wos-client\\src\\main\\resources\\wsdl\\AxWS.svc.wsdl\n",
      "C:\\\\Users\\\\31653\\\\Desktop\\\\DeAlliantie\\\\clone_script\\woonruimteverdeling-ax-esb\\src\\main\\resources\\etc\\0301\\stuf0301_types.wsdl\n",
      "C:\\\\Users\\\\31653\\\\Desktop\\\\DeAlliantie\\\\clone_script\\woonruimteverdeling-ax-esb\\src\\main\\resources\\wsdl\\aanbieding\\wrv01_verwerkSynchroneKennisgeving_mutatie.wsdl\n",
      "C:\\\\Users\\\\31653\\\\Desktop\\\\DeAlliantie\\\\clone_script\\woonruimteverdeling-ax-esb\\src\\main\\resources\\wsdl\\aanbieding-legacy\\AanbiedingISService_ep_1.wsdl\n",
      "C:\\\\Users\\\\31653\\\\Desktop\\\\DeAlliantie\\\\clone_script\\woonruimteverdeling-ax-esb\\src\\main\\resources\\wsdl\\kennisgeving\\woonruimteverdeling_vera_mutatie.wsdl\n",
      "C:\\\\Users\\\\31653\\\\Desktop\\\\DeAlliantie\\\\clone_script\\woonruimteverdeling-ax-esb\\src\\main\\resources\\wsdl\\object\\ObjectISService_ep_1.wsdl\n",
      "C:\\\\Users\\\\31653\\\\Desktop\\\\DeAlliantie\\\\clone_script\\woonruimteverdeling-ax-esb\\src\\main\\resources\\wsdl\\publicatie\\PublicatieISService_ep_1.wsdl\n"
     ]
    }
   ],
   "source": [
    "#use only once...\n",
    "import shutil\n",
    "\n",
    "target = r'C:\\Users\\31653\\Desktop\\DeAlliantie\\wsdl'\n",
    "for i in range(len(wsdls)):\n",
    "    source = wsdls[i]\n",
    "    #shutil.copy(source, target)   "
   ]
  },
  {
   "cell_type": "markdown",
   "id": "e60ffcf6",
   "metadata": {},
   "source": [
    "### wsdl.xml..."
   ]
  },
  {
   "cell_type": "code",
   "execution_count": 1,
   "id": "093bc7f5",
   "metadata": {},
   "outputs": [
    {
     "name": "stdout",
     "output_type": "stream",
     "text": [
      "1\n"
     ]
    },
    {
     "data": {
      "text/plain": [
       "['C:\\\\\\\\Users\\\\\\\\31653\\\\\\\\Desktop\\\\\\\\DeAlliantie\\\\\\\\clone_script\\\\commons-wos-esb-client\\\\src\\\\main\\\\resources\\\\wsdl\\\\outgoing_wsdl.xml']"
      ]
     },
     "execution_count": 1,
     "metadata": {},
     "output_type": "execute_result"
    }
   ],
   "source": [
    "import glob\n",
    "wsdl_xmls = glob.glob(r'C:\\\\Users\\\\31653\\\\Desktop\\\\DeAlliantie\\\\clone_script\\\\**\\\\*wsdl.xml*', recursive=True)\n",
    "print(len(wsdl_xmls))\n",
    "wsdl_xmls"
   ]
  },
  {
   "cell_type": "code",
   "execution_count": 3,
   "id": "14aac7ad",
   "metadata": {},
   "outputs": [
    {
     "name": "stdout",
     "output_type": "stream",
     "text": [
      "commons-wos-esb-client\\src\\main\\resources\\wsdl\\outgoing_wsdl.xml\n"
     ]
    }
   ],
   "source": [
    "for i in range(len(wsdl_xmls)):\n",
    "    s = wsdl_xmls[i]\n",
    "    l = s.split('clone_script\\\\',)\n",
    "    s=l[1]\n",
    "    print(s)"
   ]
  },
  {
   "cell_type": "markdown",
   "id": "8d8fafdc",
   "metadata": {},
   "source": [
    "## 2. XSD's"
   ]
  },
  {
   "cell_type": "code",
   "execution_count": 2,
   "id": "c9e74f95",
   "metadata": {},
   "outputs": [
    {
     "name": "stdout",
     "output_type": "stream",
     "text": [
      "16\n"
     ]
    },
    {
     "data": {
      "text/plain": [
       "['C:\\\\\\\\Users\\\\\\\\31653\\\\\\\\Desktop\\\\\\\\DeAlliantie\\\\\\\\clone_script\\\\\\\\commons-woningnet-client\\\\\\\\\\\\\\\\src\\\\\\\\main\\\\\\\\resources\\\\\\\\wsdl\\\\\\\\Aanbieding\\\\AanbiedingISService_ep.xsd',\n",
       " 'C:\\\\\\\\Users\\\\\\\\31653\\\\\\\\Desktop\\\\\\\\DeAlliantie\\\\\\\\clone_script\\\\\\\\commons-woningnet-client\\\\\\\\\\\\\\\\src\\\\\\\\main\\\\\\\\resources\\\\\\\\wsdl\\\\\\\\Aanbieding\\\\AanbiedingV1.xsd',\n",
       " 'C:\\\\\\\\Users\\\\\\\\31653\\\\\\\\Desktop\\\\\\\\DeAlliantie\\\\\\\\clone_script\\\\\\\\commons-woningnet-client\\\\\\\\\\\\\\\\src\\\\\\\\main\\\\\\\\resources\\\\\\\\wsdl\\\\\\\\Aanbieding\\\\AdressenV1.xsd',\n",
       " 'C:\\\\\\\\Users\\\\\\\\31653\\\\\\\\Desktop\\\\\\\\DeAlliantie\\\\\\\\clone_script\\\\\\\\commons-woningnet-client\\\\\\\\\\\\\\\\src\\\\\\\\main\\\\\\\\resources\\\\\\\\wsdl\\\\\\\\Aanbieding\\\\CommonV1.xsd',\n",
       " 'C:\\\\\\\\Users\\\\\\\\31653\\\\\\\\Desktop\\\\\\\\DeAlliantie\\\\\\\\clone_script\\\\\\\\commons-woningnet-client\\\\\\\\\\\\\\\\src\\\\\\\\main\\\\\\\\resources\\\\\\\\wsdl\\\\\\\\Aanbieding\\\\ContactgegevensV1.xsd',\n",
       " 'C:\\\\\\\\Users\\\\\\\\31653\\\\\\\\Desktop\\\\\\\\DeAlliantie\\\\\\\\clone_script\\\\\\\\commons-woningnet-client\\\\\\\\\\\\\\\\src\\\\\\\\main\\\\\\\\resources\\\\\\\\wsdl\\\\\\\\Aanbieding\\\\EigenaarV1.xsd',\n",
       " 'C:\\\\\\\\Users\\\\\\\\31653\\\\\\\\Desktop\\\\\\\\DeAlliantie\\\\\\\\clone_script\\\\\\\\commons-woningnet-client\\\\\\\\\\\\\\\\src\\\\\\\\main\\\\\\\\resources\\\\\\\\wsdl\\\\\\\\Aanbieding\\\\GebruikerV1.xsd',\n",
       " 'C:\\\\\\\\Users\\\\\\\\31653\\\\\\\\Desktop\\\\\\\\DeAlliantie\\\\\\\\clone_script\\\\\\\\commons-woningnet-client\\\\\\\\\\\\\\\\src\\\\\\\\main\\\\\\\\resources\\\\\\\\wsdl\\\\\\\\Aanbieding\\\\MediaV1.xsd',\n",
       " 'C:\\\\\\\\Users\\\\\\\\31653\\\\\\\\Desktop\\\\\\\\DeAlliantie\\\\\\\\clone_script\\\\\\\\commons-woningnet-client\\\\\\\\\\\\\\\\src\\\\\\\\main\\\\\\\\resources\\\\\\\\wsdl\\\\\\\\Aanbieding\\\\MeldingenV1.xsd',\n",
       " 'C:\\\\\\\\Users\\\\\\\\31653\\\\\\\\Desktop\\\\\\\\DeAlliantie\\\\\\\\clone_script\\\\\\\\commons-woningnet-client\\\\\\\\\\\\\\\\src\\\\\\\\main\\\\\\\\resources\\\\\\\\wsdl\\\\\\\\Aanbieding\\\\ObjectV1.xsd',\n",
       " 'C:\\\\\\\\Users\\\\\\\\31653\\\\\\\\Desktop\\\\\\\\DeAlliantie\\\\\\\\clone_script\\\\\\\\commons-woningnet-client\\\\\\\\\\\\\\\\src\\\\\\\\main\\\\\\\\resources\\\\\\\\wsdl\\\\\\\\Aanbieding\\\\PersoonV1.xsd',\n",
       " 'C:\\\\\\\\Users\\\\\\\\31653\\\\\\\\Desktop\\\\\\\\DeAlliantie\\\\\\\\clone_script\\\\\\\\commons-woningnet-client\\\\\\\\\\\\\\\\src\\\\\\\\main\\\\\\\\resources\\\\\\\\wsdl\\\\\\\\Aanbieding\\\\PublicatieV1.xsd',\n",
       " 'C:\\\\\\\\Users\\\\\\\\31653\\\\\\\\Desktop\\\\\\\\DeAlliantie\\\\\\\\clone_script\\\\\\\\commons-woningnet-client\\\\\\\\\\\\\\\\src\\\\\\\\main\\\\\\\\resources\\\\\\\\wsdl\\\\\\\\Aanbieding\\\\ReactieSelectieV1.xsd',\n",
       " 'C:\\\\\\\\Users\\\\\\\\31653\\\\\\\\Desktop\\\\\\\\DeAlliantie\\\\\\\\clone_script\\\\\\\\commons-woningnet-client\\\\\\\\\\\\\\\\src\\\\\\\\main\\\\\\\\resources\\\\\\\\wsdl\\\\\\\\Aanbieding\\\\ReactieV1.xsd',\n",
       " 'C:\\\\\\\\Users\\\\\\\\31653\\\\\\\\Desktop\\\\\\\\DeAlliantie\\\\\\\\clone_script\\\\\\\\commons-woningnet-client\\\\\\\\\\\\\\\\src\\\\\\\\main\\\\\\\\resources\\\\\\\\wsdl\\\\\\\\Aanbieding\\\\ReferentiedataV1.xsd',\n",
       " 'C:\\\\\\\\Users\\\\\\\\31653\\\\\\\\Desktop\\\\\\\\DeAlliantie\\\\\\\\clone_script\\\\\\\\commons-woningnet-client\\\\\\\\\\\\\\\\src\\\\\\\\main\\\\\\\\resources\\\\\\\\wsdl\\\\\\\\Aanbieding\\\\RegistratieV1.xsd']"
      ]
     },
     "execution_count": 2,
     "metadata": {},
     "output_type": "execute_result"
    }
   ],
   "source": [
    "# xsd's woningnet \n",
    "import glob\n",
    "xsds = glob.glob(r'C:\\\\Users\\\\31653\\\\Desktop\\\\DeAlliantie\\\\clone_script\\\\commons-woningnet-client\\\\\\\\src\\\\main\\\\resources\\\\wsdl\\\\Aanbieding\\\\*.xsd*', recursive=True)\n",
    "print(len(xsds))\n",
    "xsds"
   ]
  },
  {
   "cell_type": "code",
   "execution_count": 3,
   "id": "4233c3f4",
   "metadata": {},
   "outputs": [],
   "source": [
    "#use only once...\n",
    "import shutil\n",
    "\n",
    "target = r'C:\\Users\\31653\\Documents\\GitHub\\Notebooks\\de_alliantie\\webservices\\woningnet\\Aanbieding'\n",
    "for i in range(len(xsds)):\n",
    "    source = xsds[i]\n",
    "    #shutil.copy(source, target)   "
   ]
  },
  {
   "cell_type": "markdown",
   "id": "63420211",
   "metadata": {},
   "source": [
    "## 3. XML's"
   ]
  },
  {
   "cell_type": "code",
   "execution_count": 1,
   "id": "5dca675e",
   "metadata": {},
   "outputs": [
    {
     "name": "stdout",
     "output_type": "stream",
     "text": [
      "176\n"
     ]
    },
    {
     "data": {
      "text/plain": [
       "['C:\\\\\\\\Users\\\\\\\\31653\\\\\\\\Desktop\\\\\\\\DeAlliantie\\\\\\\\clone_script\\\\account\\\\pom.xml',\n",
       " 'C:\\\\\\\\Users\\\\\\\\31653\\\\\\\\Desktop\\\\\\\\DeAlliantie\\\\\\\\clone_script\\\\account-controller\\\\pom.xml',\n",
       " 'C:\\\\\\\\Users\\\\\\\\31653\\\\\\\\Desktop\\\\\\\\DeAlliantie\\\\\\\\clone_script\\\\account-esb-keycloak\\\\pom.xml',\n",
       " 'C:\\\\\\\\Users\\\\\\\\31653\\\\\\\\Desktop\\\\\\\\DeAlliantie\\\\\\\\clone_script\\\\account-esb-openam\\\\pom.xml',\n",
       " 'C:\\\\\\\\Users\\\\\\\\31653\\\\\\\\Desktop\\\\\\\\DeAlliantie\\\\\\\\clone_script\\\\algemeen-sms-cm\\\\pom.xml',\n",
       " 'C:\\\\\\\\Users\\\\\\\\31653\\\\\\\\Desktop\\\\\\\\DeAlliantie\\\\\\\\clone_script\\\\algoritme-direct-doorverhuren\\\\pom.xml',\n",
       " 'C:\\\\\\\\Users\\\\\\\\31653\\\\\\\\Desktop\\\\\\\\DeAlliantie\\\\\\\\clone_script\\\\commons-account-adapter-domain\\\\pom.xml',\n",
       " 'C:\\\\\\\\Users\\\\\\\\31653\\\\\\\\Desktop\\\\\\\\DeAlliantie\\\\\\\\clone_script\\\\commons-account-domain\\\\pom.xml',\n",
       " 'C:\\\\\\\\Users\\\\\\\\31653\\\\\\\\Desktop\\\\\\\\DeAlliantie\\\\\\\\clone_script\\\\commons-am-domain\\\\pom.xml',\n",
       " 'C:\\\\\\\\Users\\\\\\\\31653\\\\\\\\Desktop\\\\\\\\DeAlliantie\\\\\\\\clone_script\\\\commons-am-openam-domain\\\\pom.xml',\n",
       " 'C:\\\\\\\\Users\\\\\\\\31653\\\\\\\\Desktop\\\\\\\\DeAlliantie\\\\\\\\clone_script\\\\commons-ax-bax-camel-component\\\\pom.xml',\n",
       " 'C:\\\\\\\\Users\\\\\\\\31653\\\\\\\\Desktop\\\\\\\\DeAlliantie\\\\\\\\clone_script\\\\commons-ax-bax-client\\\\jaxb-bindings.xml',\n",
       " 'C:\\\\\\\\Users\\\\\\\\31653\\\\\\\\Desktop\\\\\\\\DeAlliantie\\\\\\\\clone_script\\\\commons-ax-bax-client\\\\jaxws-bindings.xml',\n",
       " 'C:\\\\\\\\Users\\\\\\\\31653\\\\\\\\Desktop\\\\\\\\DeAlliantie\\\\\\\\clone_script\\\\commons-ax-bax-client\\\\pom.xml',\n",
       " 'C:\\\\\\\\Users\\\\\\\\31653\\\\\\\\Desktop\\\\\\\\DeAlliantie\\\\\\\\clone_script\\\\commons-ax-mobileservice-client\\\\jaxb-bindings.xml',\n",
       " 'C:\\\\\\\\Users\\\\\\\\31653\\\\\\\\Desktop\\\\\\\\DeAlliantie\\\\\\\\clone_script\\\\commons-ax-mobileservice-client\\\\pom.xml',\n",
       " 'C:\\\\\\\\Users\\\\\\\\31653\\\\\\\\Desktop\\\\\\\\DeAlliantie\\\\\\\\clone_script\\\\commons-ax-planboard-client\\\\jaxb-bindings.xml',\n",
       " 'C:\\\\\\\\Users\\\\\\\\31653\\\\\\\\Desktop\\\\\\\\DeAlliantie\\\\\\\\clone_script\\\\commons-ax-planboard-client\\\\pom.xml',\n",
       " 'C:\\\\\\\\Users\\\\\\\\31653\\\\\\\\Desktop\\\\\\\\DeAlliantie\\\\\\\\clone_script\\\\commons-ax-scp-camel-component\\\\pom.xml',\n",
       " 'C:\\\\\\\\Users\\\\\\\\31653\\\\\\\\Desktop\\\\\\\\DeAlliantie\\\\\\\\clone_script\\\\commons-ax-scp-client\\\\pom.xml',\n",
       " 'C:\\\\\\\\Users\\\\\\\\31653\\\\\\\\Desktop\\\\\\\\DeAlliantie\\\\\\\\clone_script\\\\commons-ax-streamservice-client\\\\jaxb-bindings.xml',\n",
       " 'C:\\\\\\\\Users\\\\\\\\31653\\\\\\\\Desktop\\\\\\\\DeAlliantie\\\\\\\\clone_script\\\\commons-ax-streamservice-client\\\\pom.xml',\n",
       " 'C:\\\\\\\\Users\\\\\\\\31653\\\\\\\\Desktop\\\\\\\\DeAlliantie\\\\\\\\clone_script\\\\commons-ax-woningnet-client\\\\jaxb-bindings.xml',\n",
       " 'C:\\\\\\\\Users\\\\\\\\31653\\\\\\\\Desktop\\\\\\\\DeAlliantie\\\\\\\\clone_script\\\\commons-ax-woningnet-client\\\\pom.xml',\n",
       " 'C:\\\\\\\\Users\\\\\\\\31653\\\\\\\\Desktop\\\\\\\\DeAlliantie\\\\\\\\clone_script\\\\commons-corporatieportaal-camel-component\\\\pom.xml',\n",
       " 'C:\\\\\\\\Users\\\\\\\\31653\\\\\\\\Desktop\\\\\\\\DeAlliantie\\\\\\\\clone_script\\\\commons-corporatieportaal-client\\\\jaxb-bindings.xml',\n",
       " 'C:\\\\\\\\Users\\\\\\\\31653\\\\\\\\Desktop\\\\\\\\DeAlliantie\\\\\\\\clone_script\\\\commons-corporatieportaal-client\\\\jaxws-bindings.xml',\n",
       " 'C:\\\\\\\\Users\\\\\\\\31653\\\\\\\\Desktop\\\\\\\\DeAlliantie\\\\\\\\clone_script\\\\commons-corporatieportaal-client\\\\pom.xml',\n",
       " 'C:\\\\\\\\Users\\\\\\\\31653\\\\\\\\Desktop\\\\\\\\DeAlliantie\\\\\\\\clone_script\\\\commons-daan-ax-converters\\\\pom.xml',\n",
       " 'C:\\\\\\\\Users\\\\\\\\31653\\\\\\\\Desktop\\\\\\\\DeAlliantie\\\\\\\\clone_script\\\\commons-daan-support\\\\pom.xml',\n",
       " 'C:\\\\\\\\Users\\\\\\\\31653\\\\\\\\Desktop\\\\\\\\DeAlliantie\\\\\\\\clone_script\\\\commons-daan-v0310-client\\\\pom.xml',\n",
       " 'C:\\\\\\\\Users\\\\\\\\31653\\\\\\\\Desktop\\\\\\\\DeAlliantie\\\\\\\\clone_script\\\\commons-daan-v0310-client\\\\src\\\\main\\\\resources\\\\META-INF\\\\kmodule.xml',\n",
       " 'C:\\\\\\\\Users\\\\\\\\31653\\\\\\\\Desktop\\\\\\\\DeAlliantie\\\\\\\\clone_script\\\\commons-financien-domain\\\\pom.xml',\n",
       " 'C:\\\\\\\\Users\\\\\\\\31653\\\\\\\\Desktop\\\\\\\\DeAlliantie\\\\\\\\clone_script\\\\commons-ketenstandaard-sales-camel-component\\\\pom.xml',\n",
       " 'C:\\\\\\\\Users\\\\\\\\31653\\\\\\\\Desktop\\\\\\\\DeAlliantie\\\\\\\\clone_script\\\\commons-ketenstandaard-sales-client\\\\jaxb-bindings.xml',\n",
       " 'C:\\\\\\\\Users\\\\\\\\31653\\\\\\\\Desktop\\\\\\\\DeAlliantie\\\\\\\\clone_script\\\\commons-ketenstandaard-sales-client\\\\jaxws-bindings.xml',\n",
       " 'C:\\\\\\\\Users\\\\\\\\31653\\\\\\\\Desktop\\\\\\\\DeAlliantie\\\\\\\\clone_script\\\\commons-ketenstandaard-sales-client\\\\pom.xml',\n",
       " 'C:\\\\\\\\Users\\\\\\\\31653\\\\\\\\Desktop\\\\\\\\DeAlliantie\\\\\\\\clone_script\\\\commons-mailtopay-camel-component\\\\pom.xml',\n",
       " 'C:\\\\\\\\Users\\\\\\\\31653\\\\\\\\Desktop\\\\\\\\DeAlliantie\\\\\\\\clone_script\\\\commons-mdc-domain\\\\pom.xml',\n",
       " 'C:\\\\\\\\Users\\\\\\\\31653\\\\\\\\Desktop\\\\\\\\DeAlliantie\\\\\\\\clone_script\\\\commons-microsoft-ews-camel-component\\\\pom.xml',\n",
       " 'C:\\\\\\\\Users\\\\\\\\31653\\\\\\\\Desktop\\\\\\\\DeAlliantie\\\\\\\\clone_script\\\\commons-microsoft-graph-camel-component\\\\pom.xml',\n",
       " 'C:\\\\\\\\Users\\\\\\\\31653\\\\\\\\Desktop\\\\\\\\DeAlliantie\\\\\\\\clone_script\\\\commons-ortec-camel-component\\\\pom.xml',\n",
       " 'C:\\\\\\\\Users\\\\\\\\31653\\\\\\\\Desktop\\\\\\\\DeAlliantie\\\\\\\\clone_script\\\\commons-ortec-client\\\\pom.xml',\n",
       " 'C:\\\\\\\\Users\\\\\\\\31653\\\\\\\\Desktop\\\\\\\\DeAlliantie\\\\\\\\clone_script\\\\commons-ortec-esb-client\\\\pom.xml',\n",
       " 'C:\\\\\\\\Users\\\\\\\\31653\\\\\\\\Desktop\\\\\\\\DeAlliantie\\\\\\\\clone_script\\\\commons-relaties-domain\\\\pom.xml',\n",
       " 'C:\\\\\\\\Users\\\\\\\\31653\\\\\\\\Desktop\\\\\\\\DeAlliantie\\\\\\\\clone_script\\\\commons-shareworx-azure-camel-component\\\\pom.xml',\n",
       " 'C:\\\\\\\\Users\\\\\\\\31653\\\\\\\\Desktop\\\\\\\\DeAlliantie\\\\\\\\clone_script\\\\commons-shareworx-camel-component\\\\pom.xml',\n",
       " 'C:\\\\\\\\Users\\\\\\\\31653\\\\\\\\Desktop\\\\\\\\DeAlliantie\\\\\\\\clone_script\\\\commons-sigmax-camel-component\\\\pom.xml',\n",
       " 'C:\\\\\\\\Users\\\\\\\\31653\\\\\\\\Desktop\\\\\\\\DeAlliantie\\\\\\\\clone_script\\\\commons-sigmax-client\\\\pom.xml',\n",
       " 'C:\\\\\\\\Users\\\\\\\\31653\\\\\\\\Desktop\\\\\\\\DeAlliantie\\\\\\\\clone_script\\\\commons-sigmax-planning-camel-component\\\\pom.xml',\n",
       " 'C:\\\\\\\\Users\\\\\\\\31653\\\\\\\\Desktop\\\\\\\\DeAlliantie\\\\\\\\clone_script\\\\commons-sigmax-planning-client\\\\pom.xml',\n",
       " 'C:\\\\\\\\Users\\\\\\\\31653\\\\\\\\Desktop\\\\\\\\DeAlliantie\\\\\\\\clone_script\\\\commons-vastgoed-domain\\\\pom.xml',\n",
       " 'C:\\\\\\\\Users\\\\\\\\31653\\\\\\\\Desktop\\\\\\\\DeAlliantie\\\\\\\\clone_script\\\\commons-woningnet-client\\\\pom.xml',\n",
       " 'C:\\\\\\\\Users\\\\\\\\31653\\\\\\\\Desktop\\\\\\\\DeAlliantie\\\\\\\\clone_script\\\\commons-wos-camel-component\\\\pom.xml',\n",
       " 'C:\\\\\\\\Users\\\\\\\\31653\\\\\\\\Desktop\\\\\\\\DeAlliantie\\\\\\\\clone_script\\\\commons-wos-client\\\\pom.xml',\n",
       " 'C:\\\\\\\\Users\\\\\\\\31653\\\\\\\\Desktop\\\\\\\\DeAlliantie\\\\\\\\clone_script\\\\commons-wos-esb-client\\\\pom.xml',\n",
       " 'C:\\\\\\\\Users\\\\\\\\31653\\\\\\\\Desktop\\\\\\\\DeAlliantie\\\\\\\\clone_script\\\\commons-wos-esb-client\\\\src\\\\main\\\\resources\\\\wsdl\\\\outgoing_wsdl.xml',\n",
       " 'C:\\\\\\\\Users\\\\\\\\31653\\\\\\\\Desktop\\\\\\\\DeAlliantie\\\\\\\\clone_script\\\\corporatieportaal-controller\\\\pom.xml',\n",
       " 'C:\\\\\\\\Users\\\\\\\\31653\\\\\\\\Desktop\\\\\\\\DeAlliantie\\\\\\\\clone_script\\\\corporatieportaal-controller\\\\src\\\\main\\\\resources\\\\SqlMapConfig.xml',\n",
       " 'C:\\\\\\\\Users\\\\\\\\31653\\\\\\\\Desktop\\\\\\\\DeAlliantie\\\\\\\\clone_script\\\\corporatieportaal-controller\\\\src\\\\main\\\\resources\\\\SqlMapConfigAx.xml',\n",
       " 'C:\\\\\\\\Users\\\\\\\\31653\\\\\\\\Desktop\\\\\\\\DeAlliantie\\\\\\\\clone_script\\\\corporatieportaal-controller\\\\src\\\\main\\\\resources\\\\META-INF\\\\persistence.xml',\n",
       " 'C:\\\\\\\\Users\\\\\\\\31653\\\\\\\\Desktop\\\\\\\\DeAlliantie\\\\\\\\clone_script\\\\corporatieportaal-controller\\\\src\\\\main\\\\resources\\\\mybatis\\\\CPMaps.xml',\n",
       " 'C:\\\\\\\\Users\\\\\\\\31653\\\\\\\\Desktop\\\\\\\\DeAlliantie\\\\\\\\clone_script\\\\daan-adapter-ax-esb-woonruimteverdeling\\\\pom.xml',\n",
       " 'C:\\\\\\\\Users\\\\\\\\31653\\\\\\\\Desktop\\\\\\\\DeAlliantie\\\\\\\\clone_script\\\\daan-adapter-ax-esb-woonruimteverdeling\\\\src\\\\main\\\\resources\\\\META-INF\\\\persistence.xml',\n",
       " 'C:\\\\\\\\Users\\\\\\\\31653\\\\\\\\Desktop\\\\\\\\DeAlliantie\\\\\\\\clone_script\\\\daan-adapter-ax-esb-woonruimteverdeling\\\\src\\\\test\\\\resources\\\\KandidaatOphalenRequest.xml',\n",
       " 'C:\\\\\\\\Users\\\\\\\\31653\\\\\\\\Desktop\\\\\\\\DeAlliantie\\\\\\\\clone_script\\\\daan-adapter-ax-esb-woonruimteverdeling\\\\src\\\\test\\\\resources\\\\LeegmeldenRequest.xml',\n",
       " 'C:\\\\\\\\Users\\\\\\\\31653\\\\\\\\Desktop\\\\\\\\DeAlliantie\\\\\\\\clone_script\\\\daan-adapter-ax-esb-woonruimteverdeling\\\\src\\\\test\\\\resources\\\\ObjectAfmeldenRequest.xml',\n",
       " 'C:\\\\\\\\Users\\\\\\\\31653\\\\\\\\Desktop\\\\\\\\DeAlliantie\\\\\\\\clone_script\\\\daan-adapter-ax-esb-woonruimteverdeling\\\\src\\\\test\\\\resources\\\\SoapUI\\\\AX-WoonruimteVerdeling-DAAN-Adapter-soapui-project.xml',\n",
       " 'C:\\\\\\\\Users\\\\\\\\31653\\\\\\\\Desktop\\\\\\\\DeAlliantie\\\\\\\\clone_script\\\\daan-adapter-ax-streamservice\\\\pom.xml',\n",
       " 'C:\\\\\\\\Users\\\\\\\\31653\\\\\\\\Desktop\\\\\\\\DeAlliantie\\\\\\\\clone_script\\\\financien-huurspecificatie\\\\pom.xml',\n",
       " 'C:\\\\\\\\Users\\\\\\\\31653\\\\\\\\Desktop\\\\\\\\DeAlliantie\\\\\\\\clone_script\\\\financien-huurspecificatie-springboot\\\\pom.xml',\n",
       " 'C:\\\\\\\\Users\\\\\\\\31653\\\\\\\\Desktop\\\\\\\\DeAlliantie\\\\\\\\clone_script\\\\financien-huurspecificatie-springboot\\\\configuration\\\\settings.xml',\n",
       " 'C:\\\\\\\\Users\\\\\\\\31653\\\\\\\\Desktop\\\\\\\\DeAlliantie\\\\\\\\clone_script\\\\financien-huurspecificatie-springboot\\\\src\\\\main\\\\resources\\\\log4j2.xml',\n",
       " 'C:\\\\\\\\Users\\\\\\\\31653\\\\\\\\Desktop\\\\\\\\DeAlliantie\\\\\\\\clone_script\\\\financien-ideal\\\\pom.xml',\n",
       " 'C:\\\\\\\\Users\\\\\\\\31653\\\\\\\\Desktop\\\\\\\\DeAlliantie\\\\\\\\clone_script\\\\flow-vraagantwoord\\\\pom.xml',\n",
       " 'C:\\\\\\\\Users\\\\\\\\31653\\\\\\\\Desktop\\\\\\\\DeAlliantie\\\\\\\\clone_script\\\\flow-vraagantwoord\\\\src\\\\main\\\\resources\\\\SqlMapConfig.xml',\n",
       " 'C:\\\\\\\\Users\\\\\\\\31653\\\\\\\\Desktop\\\\\\\\DeAlliantie\\\\\\\\clone_script\\\\flow-vraagantwoord\\\\src\\\\main\\\\resources\\\\META-INF\\\\persistence.xml',\n",
       " 'C:\\\\\\\\Users\\\\\\\\31653\\\\\\\\Desktop\\\\\\\\DeAlliantie\\\\\\\\clone_script\\\\flow-vraagantwoord\\\\src\\\\main\\\\resources\\\\mybatis\\\\ProcesMaps.xml',\n",
       " 'C:\\\\\\\\Users\\\\\\\\31653\\\\\\\\Desktop\\\\\\\\DeAlliantie\\\\\\\\clone_script\\\\incasso\\\\pom.xml',\n",
       " 'C:\\\\\\\\Users\\\\\\\\31653\\\\\\\\Desktop\\\\\\\\DeAlliantie\\\\\\\\clone_script\\\\incasso\\\\src\\\\main\\\\resources\\\\META-INF\\\\persistence.xml',\n",
       " 'C:\\\\\\\\Users\\\\\\\\31653\\\\\\\\Desktop\\\\\\\\DeAlliantie\\\\\\\\clone_script\\\\incasso-controller\\\\pom.xml',\n",
       " 'C:\\\\\\\\Users\\\\\\\\31653\\\\\\\\Desktop\\\\\\\\DeAlliantie\\\\\\\\clone_script\\\\inspectie\\\\pom.xml',\n",
       " 'C:\\\\\\\\Users\\\\\\\\31653\\\\\\\\Desktop\\\\\\\\DeAlliantie\\\\\\\\clone_script\\\\inspectie-ax-esb\\\\pom.xml',\n",
       " 'C:\\\\\\\\Users\\\\\\\\31653\\\\\\\\Desktop\\\\\\\\DeAlliantie\\\\\\\\clone_script\\\\inspectie-ax-esb\\\\src\\\\main\\\\resources\\\\SqlMapConfig.xml',\n",
       " 'C:\\\\\\\\Users\\\\\\\\31653\\\\\\\\Desktop\\\\\\\\DeAlliantie\\\\\\\\clone_script\\\\inspectie-ax-esb\\\\src\\\\main\\\\resources\\\\META-INF\\\\persistence.xml',\n",
       " 'C:\\\\\\\\Users\\\\\\\\31653\\\\\\\\Desktop\\\\\\\\DeAlliantie\\\\\\\\clone_script\\\\inspectie-ax-esb\\\\src\\\\main\\\\resources\\\\mybatis\\\\ProcesMaps.xml',\n",
       " 'C:\\\\\\\\Users\\\\\\\\31653\\\\\\\\Desktop\\\\\\\\DeAlliantie\\\\\\\\clone_script\\\\inspectie-controller\\\\pom.xml',\n",
       " 'C:\\\\\\\\Users\\\\\\\\31653\\\\\\\\Desktop\\\\\\\\DeAlliantie\\\\\\\\clone_script\\\\inspectie-esb-wos\\\\pom.xml',\n",
       " 'C:\\\\\\\\Users\\\\\\\\31653\\\\\\\\Desktop\\\\\\\\DeAlliantie\\\\\\\\clone_script\\\\inspectie-wos-esb\\\\pom.xml',\n",
       " 'C:\\\\\\\\Users\\\\\\\\31653\\\\\\\\Desktop\\\\\\\\DeAlliantie\\\\\\\\clone_script\\\\inspectie-wos-esb\\\\src\\\\main\\\\resources\\\\META-INF\\\\persistence.xml',\n",
       " 'C:\\\\\\\\Users\\\\\\\\31653\\\\\\\\Desktop\\\\\\\\DeAlliantie\\\\\\\\clone_script\\\\mailer\\\\pom.xml',\n",
       " 'C:\\\\\\\\Users\\\\\\\\31653\\\\\\\\Desktop\\\\\\\\DeAlliantie\\\\\\\\clone_script\\\\onderhoud\\\\pom.xml',\n",
       " 'C:\\\\\\\\Users\\\\\\\\31653\\\\\\\\Desktop\\\\\\\\DeAlliantie\\\\\\\\clone_script\\\\onderhoud\\\\src\\\\main\\\\resources\\\\SqlMapConfig.xml',\n",
       " 'C:\\\\\\\\Users\\\\\\\\31653\\\\\\\\Desktop\\\\\\\\DeAlliantie\\\\\\\\clone_script\\\\onderhoud\\\\src\\\\main\\\\resources\\\\META-INF\\\\persistence.xml',\n",
       " 'C:\\\\\\\\Users\\\\\\\\31653\\\\\\\\Desktop\\\\\\\\DeAlliantie\\\\\\\\clone_script\\\\onderhoud\\\\src\\\\main\\\\resources\\\\mybatis\\\\ProcesMaps.xml',\n",
       " 'C:\\\\\\\\Users\\\\\\\\31653\\\\\\\\Desktop\\\\\\\\DeAlliantie\\\\\\\\clone_script\\\\onderhoud\\\\src\\\\test\\\\resources\\\\plaatsOnderhoudsverzoekVraag-002.xml',\n",
       " 'C:\\\\\\\\Users\\\\\\\\31653\\\\\\\\Desktop\\\\\\\\DeAlliantie\\\\\\\\clone_script\\\\onderhoud\\\\src\\\\test\\\\resources\\\\plaatsOnderhoudsverzoekVraag.xml',\n",
       " 'C:\\\\\\\\Users\\\\\\\\31653\\\\\\\\Desktop\\\\\\\\DeAlliantie\\\\\\\\clone_script\\\\onderhoud-controller\\\\pom.xml',\n",
       " 'C:\\\\\\\\Users\\\\\\\\31653\\\\\\\\Desktop\\\\\\\\DeAlliantie\\\\\\\\clone_script\\\\onderhoud-controller\\\\src\\\\main\\\\resources\\\\SqlMapConfig.xml',\n",
       " 'C:\\\\\\\\Users\\\\\\\\31653\\\\\\\\Desktop\\\\\\\\DeAlliantie\\\\\\\\clone_script\\\\onderhoud-controller\\\\src\\\\main\\\\resources\\\\mybatis\\\\ProcesMaps.xml',\n",
       " 'C:\\\\\\\\Users\\\\\\\\31653\\\\\\\\Desktop\\\\\\\\DeAlliantie\\\\\\\\clone_script\\\\onderhoud-ortec-esb\\\\pom.xml',\n",
       " 'C:\\\\\\\\Users\\\\\\\\31653\\\\\\\\Desktop\\\\\\\\DeAlliantie\\\\\\\\clone_script\\\\onderhoud-ortec-esb\\\\src\\\\main\\\\resources\\\\SqlMapConfig.xml',\n",
       " 'C:\\\\\\\\Users\\\\\\\\31653\\\\\\\\Desktop\\\\\\\\DeAlliantie\\\\\\\\clone_script\\\\onderhoud-ortec-esb\\\\src\\\\main\\\\resources\\\\mybatis\\\\ProcesMaps.xml',\n",
       " 'C:\\\\\\\\Users\\\\\\\\31653\\\\\\\\Desktop\\\\\\\\DeAlliantie\\\\\\\\clone_script\\\\onderhoud-ortec-esb\\\\src\\\\test\\\\resources\\\\planning.xml',\n",
       " 'C:\\\\\\\\Users\\\\\\\\31653\\\\\\\\Desktop\\\\\\\\DeAlliantie\\\\\\\\clone_script\\\\onderhoud-ortec-esb\\\\src\\\\test\\\\resources\\\\planningNotSupported.xml',\n",
       " 'C:\\\\\\\\Users\\\\\\\\31653\\\\\\\\Desktop\\\\\\\\DeAlliantie\\\\\\\\clone_script\\\\onderhoud-ortec-esb\\\\src\\\\test\\\\resources\\\\unplanning.xml',\n",
       " 'C:\\\\\\\\Users\\\\\\\\31653\\\\\\\\Desktop\\\\\\\\DeAlliantie\\\\\\\\clone_script\\\\onderhoud-ortec-task-esb\\\\pom.xml',\n",
       " 'C:\\\\\\\\Users\\\\\\\\31653\\\\\\\\Desktop\\\\\\\\DeAlliantie\\\\\\\\clone_script\\\\onderhoud-serviceabonnement\\\\pom.xml',\n",
       " 'C:\\\\\\\\Users\\\\\\\\31653\\\\\\\\Desktop\\\\\\\\DeAlliantie\\\\\\\\clone_script\\\\onderhoud-serviceabonnement\\\\src\\\\main\\\\resources\\\\META-INF\\\\persistence.xml',\n",
       " 'C:\\\\\\\\Users\\\\\\\\31653\\\\\\\\Desktop\\\\\\\\DeAlliantie\\\\\\\\clone_script\\\\onderhoud-serviceabonnement-cache\\\\pom.xml',\n",
       " 'C:\\\\\\\\Users\\\\\\\\31653\\\\\\\\Desktop\\\\\\\\DeAlliantie\\\\\\\\clone_script\\\\onderhoud-sigmax-esb\\\\pom.xml',\n",
       " 'C:\\\\\\\\Users\\\\\\\\31653\\\\\\\\Desktop\\\\\\\\DeAlliantie\\\\\\\\clone_script\\\\onderhoud-sigmax-esb\\\\src\\\\main\\\\resources\\\\SqlMapConfig.xml',\n",
       " 'C:\\\\\\\\Users\\\\\\\\31653\\\\\\\\Desktop\\\\\\\\DeAlliantie\\\\\\\\clone_script\\\\onderhoud-sigmax-esb\\\\src\\\\main\\\\resources\\\\mybatis\\\\ProcesMaps.xml',\n",
       " 'C:\\\\\\\\Users\\\\\\\\31653\\\\\\\\Desktop\\\\\\\\DeAlliantie\\\\\\\\clone_script\\\\onderhoud-sigmax-esb\\\\src\\\\test\\\\resources\\\\com\\\\daan\\\\adapter\\\\sigmax\\\\esb\\\\converter\\\\WorkOrderResult-001.xml',\n",
       " 'C:\\\\\\\\Users\\\\\\\\31653\\\\\\\\Desktop\\\\\\\\DeAlliantie\\\\\\\\clone_script\\\\onderhoud-sigmax-esb\\\\src\\\\test\\\\resources\\\\com\\\\daan\\\\adapter\\\\sigmax\\\\esb\\\\converter\\\\WorkOrderResult-002.xml',\n",
       " 'C:\\\\\\\\Users\\\\\\\\31653\\\\\\\\Desktop\\\\\\\\DeAlliantie\\\\\\\\clone_script\\\\onderhoud-sigmax-esb\\\\src\\\\test\\\\resources\\\\com\\\\daan\\\\adapter\\\\sigmax\\\\esb\\\\converter\\\\WorkOrderResult-003.xml',\n",
       " 'C:\\\\\\\\Users\\\\\\\\31653\\\\\\\\Desktop\\\\\\\\DeAlliantie\\\\\\\\clone_script\\\\onderhoud-synchronisatie\\\\pom.xml',\n",
       " 'C:\\\\\\\\Users\\\\\\\\31653\\\\\\\\Desktop\\\\\\\\DeAlliantie\\\\\\\\clone_script\\\\onderhoud-synchronisatie\\\\src\\\\main\\\\resources\\\\META-INF\\\\persistence.xml',\n",
       " 'C:\\\\\\\\Users\\\\\\\\31653\\\\\\\\Desktop\\\\\\\\DeAlliantie\\\\\\\\clone_script\\\\onderhoud-voskamp-bestellijst\\\\pom.xml',\n",
       " 'C:\\\\\\\\Users\\\\\\\\31653\\\\\\\\Desktop\\\\\\\\DeAlliantie\\\\\\\\clone_script\\\\onderhoud-voskamp-bestellijst\\\\src\\\\main\\\\resources\\\\beanio\\\\beanio-mapping.xml',\n",
       " 'C:\\\\\\\\Users\\\\\\\\31653\\\\\\\\Desktop\\\\\\\\DeAlliantie\\\\\\\\clone_script\\\\onderhoud-voskamp-bestellijst\\\\src\\\\main\\\\resources\\\\META-INF\\\\persistence.xml',\n",
       " 'C:\\\\\\\\Users\\\\\\\\31653\\\\\\\\Desktop\\\\\\\\DeAlliantie\\\\\\\\clone_script\\\\onderhoud-wos-esb\\\\pom.xml',\n",
       " 'C:\\\\\\\\Users\\\\\\\\31653\\\\\\\\Desktop\\\\\\\\DeAlliantie\\\\\\\\clone_script\\\\onderhoud-wos-esb\\\\src\\\\main\\\\resources\\\\SqlMapConfig.xml',\n",
       " 'C:\\\\\\\\Users\\\\\\\\31653\\\\\\\\Desktop\\\\\\\\DeAlliantie\\\\\\\\clone_script\\\\onderhoud-wos-esb\\\\src\\\\main\\\\resources\\\\mybatis\\\\ProcesMaps.xml',\n",
       " 'C:\\\\\\\\Users\\\\\\\\31653\\\\\\\\Desktop\\\\\\\\DeAlliantie\\\\\\\\clone_script\\\\planning\\\\pom.xml',\n",
       " 'C:\\\\\\\\Users\\\\\\\\31653\\\\\\\\Desktop\\\\\\\\DeAlliantie\\\\\\\\clone_script\\\\planning\\\\src\\\\main\\\\resources\\\\SqlMapConfig-Configuration.xml',\n",
       " 'C:\\\\\\\\Users\\\\\\\\31653\\\\\\\\Desktop\\\\\\\\DeAlliantie\\\\\\\\clone_script\\\\planning\\\\src\\\\main\\\\resources\\\\SqlMapConfig.xml',\n",
       " 'C:\\\\\\\\Users\\\\\\\\31653\\\\\\\\Desktop\\\\\\\\DeAlliantie\\\\\\\\clone_script\\\\planning\\\\src\\\\main\\\\resources\\\\META-INF\\\\persistence.xml',\n",
       " 'C:\\\\\\\\Users\\\\\\\\31653\\\\\\\\Desktop\\\\\\\\DeAlliantie\\\\\\\\clone_script\\\\planning\\\\src\\\\main\\\\resources\\\\mybatis\\\\ProcesMaps.xml',\n",
       " 'C:\\\\\\\\Users\\\\\\\\31653\\\\\\\\Desktop\\\\\\\\DeAlliantie\\\\\\\\clone_script\\\\planning-ax-esb\\\\pom.xml',\n",
       " 'C:\\\\\\\\Users\\\\\\\\31653\\\\\\\\Desktop\\\\\\\\DeAlliantie\\\\\\\\clone_script\\\\planning-ax-esb\\\\src\\\\test\\\\resources\\\\CreateCapacityReservation-000.xml',\n",
       " 'C:\\\\\\\\Users\\\\\\\\31653\\\\\\\\Desktop\\\\\\\\DeAlliantie\\\\\\\\clone_script\\\\planning-ax-esb\\\\src\\\\test\\\\resources\\\\CreateCapacityReservation-001.xml',\n",
       " 'C:\\\\\\\\Users\\\\\\\\31653\\\\\\\\Desktop\\\\\\\\DeAlliantie\\\\\\\\clone_script\\\\planning-ax-esb\\\\src\\\\test\\\\resources\\\\GetPlanProposals-000.xml',\n",
       " 'C:\\\\\\\\Users\\\\\\\\31653\\\\\\\\Desktop\\\\\\\\DeAlliantie\\\\\\\\clone_script\\\\planning-ax-esb\\\\src\\\\test\\\\resources\\\\GetPlanProposals-001.xml',\n",
       " 'C:\\\\\\\\Users\\\\\\\\31653\\\\\\\\Desktop\\\\\\\\DeAlliantie\\\\\\\\clone_script\\\\planning-ax-esb\\\\src\\\\test\\\\resources\\\\GetPlanProposals-out-001.xml',\n",
       " 'C:\\\\\\\\Users\\\\\\\\31653\\\\\\\\Desktop\\\\\\\\DeAlliantie\\\\\\\\clone_script\\\\planning-ax-esb\\\\src\\\\test\\\\resources\\\\ServiceTask-000.xml',\n",
       " 'C:\\\\\\\\Users\\\\\\\\31653\\\\\\\\Desktop\\\\\\\\DeAlliantie\\\\\\\\clone_script\\\\planning-ax-esb\\\\src\\\\test\\\\resources\\\\ServiceTask-001.xml',\n",
       " 'C:\\\\\\\\Users\\\\\\\\31653\\\\\\\\Desktop\\\\\\\\DeAlliantie\\\\\\\\clone_script\\\\planning-sigmax-esb\\\\pom.xml',\n",
       " 'C:\\\\\\\\Users\\\\\\\\31653\\\\\\\\Desktop\\\\\\\\DeAlliantie\\\\\\\\clone_script\\\\planning-sigmax-esb\\\\src\\\\main\\\\resources\\\\SqlMapConfig.xml',\n",
       " 'C:\\\\\\\\Users\\\\\\\\31653\\\\\\\\Desktop\\\\\\\\DeAlliantie\\\\\\\\clone_script\\\\planning-sigmax-esb\\\\src\\\\main\\\\resources\\\\mybatis\\\\ProcesMaps.xml',\n",
       " 'C:\\\\\\\\Users\\\\\\\\31653\\\\\\\\Desktop\\\\\\\\DeAlliantie\\\\\\\\clone_script\\\\planning-sigmax-esb\\\\src\\\\test\\\\resources\\\\WorkOrderResult-001.xml',\n",
       " 'C:\\\\\\\\Users\\\\\\\\31653\\\\\\\\Desktop\\\\\\\\DeAlliantie\\\\\\\\clone_script\\\\planning-sigmax-esb\\\\src\\\\test\\\\resources\\\\WorkOrderResult-002.xml',\n",
       " 'C:\\\\\\\\Users\\\\\\\\31653\\\\\\\\Desktop\\\\\\\\DeAlliantie\\\\\\\\clone_script\\\\planning-sigmax-esb\\\\src\\\\test\\\\resources\\\\WorkOrderResult-003.xml',\n",
       " 'C:\\\\\\\\Users\\\\\\\\31653\\\\\\\\Desktop\\\\\\\\DeAlliantie\\\\\\\\clone_script\\\\relaties\\\\pom.xml',\n",
       " 'C:\\\\\\\\Users\\\\\\\\31653\\\\\\\\Desktop\\\\\\\\DeAlliantie\\\\\\\\clone_script\\\\relaties\\\\src\\\\main\\\\resources\\\\META-INF\\\\persistence.xml',\n",
       " 'C:\\\\\\\\Users\\\\\\\\31653\\\\\\\\Desktop\\\\\\\\DeAlliantie\\\\\\\\clone_script\\\\relaties-klantbeeld-api\\\\pom.xml',\n",
       " 'C:\\\\\\\\Users\\\\\\\\31653\\\\\\\\Desktop\\\\\\\\DeAlliantie\\\\\\\\clone_script\\\\relaties-mutatie\\\\pom.xml',\n",
       " 'C:\\\\\\\\Users\\\\\\\\31653\\\\\\\\Desktop\\\\\\\\DeAlliantie\\\\\\\\clone_script\\\\relaties-mutatie\\\\src\\\\main\\\\resources\\\\META-INF\\\\persistence.xml',\n",
       " 'C:\\\\\\\\Users\\\\\\\\31653\\\\\\\\Desktop\\\\\\\\DeAlliantie\\\\\\\\clone_script\\\\rhsso-ssha1\\\\pom.xml',\n",
       " 'C:\\\\\\\\Users\\\\\\\\31653\\\\\\\\Desktop\\\\\\\\DeAlliantie\\\\\\\\clone_script\\\\vastgoed\\\\pom.xml',\n",
       " 'C:\\\\\\\\Users\\\\\\\\31653\\\\\\\\Desktop\\\\\\\\DeAlliantie\\\\\\\\clone_script\\\\vastgoed\\\\src\\\\main\\\\resources\\\\META-INF\\\\persistence.xml',\n",
       " 'C:\\\\\\\\Users\\\\\\\\31653\\\\\\\\Desktop\\\\\\\\DeAlliantie\\\\\\\\clone_script\\\\woonruimteverdeling\\\\pom.xml',\n",
       " 'C:\\\\\\\\Users\\\\\\\\31653\\\\\\\\Desktop\\\\\\\\DeAlliantie\\\\\\\\clone_script\\\\woonruimteverdeling\\\\src\\\\main\\\\resources\\\\SqlMapConfig.xml',\n",
       " 'C:\\\\\\\\Users\\\\\\\\31653\\\\\\\\Desktop\\\\\\\\DeAlliantie\\\\\\\\clone_script\\\\woonruimteverdeling\\\\src\\\\main\\\\resources\\\\SqlMapConfigAx.xml',\n",
       " 'C:\\\\\\\\Users\\\\\\\\31653\\\\\\\\Desktop\\\\\\\\DeAlliantie\\\\\\\\clone_script\\\\woonruimteverdeling\\\\src\\\\main\\\\resources\\\\META-INF\\\\persistence.xml',\n",
       " 'C:\\\\\\\\Users\\\\\\\\31653\\\\\\\\Desktop\\\\\\\\DeAlliantie\\\\\\\\clone_script\\\\woonruimteverdeling\\\\src\\\\main\\\\resources\\\\mybatis\\\\ProcesMaps.xml',\n",
       " 'C:\\\\\\\\Users\\\\\\\\31653\\\\\\\\Desktop\\\\\\\\DeAlliantie\\\\\\\\clone_script\\\\woonruimteverdeling\\\\src\\\\main\\\\resources\\\\mybatis\\\\ProcesMapsMDC.xml',\n",
       " 'C:\\\\\\\\Users\\\\\\\\31653\\\\\\\\Desktop\\\\\\\\DeAlliantie\\\\\\\\clone_script\\\\woonruimteverdeling\\\\src\\\\test\\\\resources\\\\Gekoppeld-001\\\\OvehuuLa01-ParkeerGarage.xml',\n",
       " 'C:\\\\\\\\Users\\\\\\\\31653\\\\\\\\Desktop\\\\\\\\DeAlliantie\\\\\\\\clone_script\\\\woonruimteverdeling\\\\src\\\\test\\\\resources\\\\Gekoppeld-001\\\\OvehuuLa01-Woning.xml',\n",
       " 'C:\\\\\\\\Users\\\\\\\\31653\\\\\\\\Desktop\\\\\\\\DeAlliantie\\\\\\\\clone_script\\\\woonruimteverdeling\\\\src\\\\test\\\\resources\\\\Gekoppeld-001\\\\ZegHuurOpVraag.xml',\n",
       " 'C:\\\\\\\\Users\\\\\\\\31653\\\\\\\\Desktop\\\\\\\\DeAlliantie\\\\\\\\clone_script\\\\woonruimteverdeling\\\\src\\\\test\\\\resources\\\\Gerelateerd_zonder_aanhangig\\\\OvehuuLa01.xml',\n",
       " 'C:\\\\\\\\Users\\\\\\\\31653\\\\\\\\Desktop\\\\\\\\DeAlliantie\\\\\\\\clone_script\\\\woonruimteverdeling\\\\src\\\\test\\\\resources\\\\Gerelateerd_zonder_aanhangig\\\\ZegHuurOpVraag.xml',\n",
       " 'C:\\\\\\\\Users\\\\\\\\31653\\\\\\\\Desktop\\\\\\\\DeAlliantie\\\\\\\\clone_script\\\\woonruimteverdeling\\\\src\\\\test\\\\resources\\\\Rechtspersoon\\\\OvehuuLa01.xml',\n",
       " 'C:\\\\\\\\Users\\\\\\\\31653\\\\\\\\Desktop\\\\\\\\DeAlliantie\\\\\\\\clone_script\\\\woonruimteverdeling\\\\src\\\\test\\\\resources\\\\Rechtspersoon\\\\ZegHuurOpVraag.xml',\n",
       " 'C:\\\\\\\\Users\\\\\\\\31653\\\\\\\\Desktop\\\\\\\\DeAlliantie\\\\\\\\clone_script\\\\woonruimteverdeling-ax-esb\\\\pom.xml',\n",
       " 'C:\\\\\\\\Users\\\\\\\\31653\\\\\\\\Desktop\\\\\\\\DeAlliantie\\\\\\\\clone_script\\\\woonruimteverdeling-ax-esb\\\\src\\\\main\\\\resources\\\\binding.xml',\n",
       " 'C:\\\\\\\\Users\\\\\\\\31653\\\\\\\\Desktop\\\\\\\\DeAlliantie\\\\\\\\clone_script\\\\woonruimteverdeling-ax-esb\\\\src\\\\main\\\\resources\\\\SqlMapConfig.xml',\n",
       " 'C:\\\\\\\\Users\\\\\\\\31653\\\\\\\\Desktop\\\\\\\\DeAlliantie\\\\\\\\clone_script\\\\woonruimteverdeling-ax-esb\\\\src\\\\main\\\\resources\\\\mybatis\\\\woningnetsettings.xml',\n",
       " 'C:\\\\\\\\Users\\\\\\\\31653\\\\\\\\Desktop\\\\\\\\DeAlliantie\\\\\\\\clone_script\\\\woonruimteverdeling-esb-ax\\\\pom.xml',\n",
       " 'C:\\\\\\\\Users\\\\\\\\31653\\\\\\\\Desktop\\\\\\\\DeAlliantie\\\\\\\\clone_script\\\\woonruimteverdeling-esb-ax\\\\src\\\\main\\\\resources\\\\META-INF\\\\persistence.xml',\n",
       " 'C:\\\\\\\\Users\\\\\\\\31653\\\\\\\\Desktop\\\\\\\\DeAlliantie\\\\\\\\clone_script\\\\woonruimteverdeling-esb-ax\\\\src\\\\test\\\\resources\\\\WrvkanLk02-001.xml',\n",
       " 'C:\\\\\\\\Users\\\\\\\\31653\\\\\\\\Desktop\\\\\\\\DeAlliantie\\\\\\\\clone_script\\\\woonruimteverdeling-esb-ax\\\\src\\\\test\\\\resources\\\\WrvkanLk02-002.xml',\n",
       " 'C:\\\\\\\\Users\\\\\\\\31653\\\\\\\\Desktop\\\\\\\\DeAlliantie\\\\\\\\clone_script\\\\woonruimteverdeling-esb-woningnet\\\\pom.xml',\n",
       " 'C:\\\\\\\\Users\\\\\\\\31653\\\\\\\\Desktop\\\\\\\\DeAlliantie\\\\\\\\clone_script\\\\woonruimteverdeling-esb-woningnet\\\\src\\\\main\\\\resources\\\\META-INF\\\\persistence.xml',\n",
       " 'C:\\\\\\\\Users\\\\\\\\31653\\\\\\\\Desktop\\\\\\\\DeAlliantie\\\\\\\\clone_script\\\\woonruimteverdeling-esb-woningnet\\\\src\\\\test\\\\resources\\\\GetKandidatenResponse.xml',\n",
       " 'C:\\\\\\\\Users\\\\\\\\31653\\\\\\\\Desktop\\\\\\\\DeAlliantie\\\\\\\\clone_script\\\\woonruimteverdeling-esb-woningnet\\\\src\\\\test\\\\resources\\\\SavePublicatieRequest.xml']"
      ]
     },
     "execution_count": 1,
     "metadata": {},
     "output_type": "execute_result"
    }
   ],
   "source": [
    "import glob\n",
    "xmls = glob.glob(r'C:\\\\Users\\\\31653\\\\Desktop\\\\DeAlliantie\\\\clone_script\\\\**\\\\*.xml*', recursive=True)\n",
    "print(len(xmls))\n",
    "xmls"
   ]
  },
  {
   "cell_type": "code",
   "execution_count": 1,
   "id": "96fd51ba",
   "metadata": {},
   "outputs": [
    {
     "name": "stdout",
     "output_type": "stream",
     "text": [
      "0\n"
     ]
    },
    {
     "data": {
      "text/plain": [
       "[]"
      ]
     },
     "execution_count": 1,
     "metadata": {},
     "output_type": "execute_result"
    }
   ],
   "source": [
    "# xsd's woningnet \n",
    "import glob\n",
    "xmls = glob.glob(r'C:\\\\Users\\\\31653\\\\Desktop\\\\DeAlliantie\\\\clone_script\\\\commons-woningnet-client\\\\\\\\src\\\\main\\\\resources\\\\wsdl\\\\Aanbieding\\\\*.xml*', recursive=True)\n",
    "print(len(xmls))\n",
    "xmls"
   ]
  },
  {
   "cell_type": "markdown",
   "id": "ef70dfbf",
   "metadata": {},
   "source": [
    "## 4. methods in AX"
   ]
  },
  {
   "cell_type": "code",
   "execution_count": 6,
   "id": "15aa2b12",
   "metadata": {},
   "outputs": [
    {
     "name": "stdout",
     "output_type": "stream",
     "text": [
      "5\n"
     ]
    },
    {
     "data": {
      "text/plain": [
       "['C:\\\\\\\\Users\\\\\\\\31653\\\\\\\\Desktop\\\\\\\\DeAlliantie\\\\\\\\clone_script\\\\financien-huurspecificatie\\\\src\\\\main\\\\java\\\\io\\\\neptune\\\\alliantie\\\\huurspecificatie\\\\processor\\\\CreateGetContractRentSpecificationProcessor.java',\n",
       " 'C:\\\\\\\\Users\\\\\\\\31653\\\\\\\\Desktop\\\\\\\\DeAlliantie\\\\\\\\clone_script\\\\financien-huurspecificatie-springboot\\\\src\\\\main\\\\java\\\\io\\\\neptune\\\\alliantie\\\\financien\\\\huurspecificatie\\\\processor\\\\CreateGetContractRentSpecificationProcessor.java',\n",
       " 'C:\\\\\\\\Users\\\\\\\\31653\\\\\\\\Desktop\\\\\\\\DeAlliantie\\\\\\\\clone_script\\\\flow-vraagantwoord\\\\src\\\\main\\\\java\\\\io\\\\neptune\\\\alliantie\\\\flow\\\\vraagantwoord\\\\processor\\\\MyBatisGetContractsByAddressProcessor.java',\n",
       " 'C:\\\\\\\\Users\\\\\\\\31653\\\\\\\\Desktop\\\\\\\\DeAlliantie\\\\\\\\clone_script\\\\incasso\\\\src\\\\main\\\\java\\\\io\\\\neptune\\\\alliantie\\\\incasso\\\\processors\\\\CreateGetContractenKlantProcessor.java',\n",
       " 'C:\\\\\\\\Users\\\\\\\\31653\\\\\\\\Desktop\\\\\\\\DeAlliantie\\\\\\\\clone_script\\\\incasso\\\\src\\\\main\\\\java\\\\io\\\\neptune\\\\alliantie\\\\incasso\\\\processors\\\\CreateGetContractPayersProcessor.java']"
      ]
     },
     "execution_count": 6,
     "metadata": {},
     "output_type": "execute_result"
    }
   ],
   "source": [
    "# xsd's woningnet \n",
    "import glob\n",
    "xmls = glob.glob(r'C:\\\\Users\\\\31653\\\\Desktop\\\\DeAlliantie\\\\clone_script\\\\**\\\\*GetContract*', recursive=True)\n",
    "print(len(xmls))\n",
    "xmls"
   ]
  },
  {
   "cell_type": "code",
   "execution_count": null,
   "id": "2402d80e",
   "metadata": {},
   "outputs": [],
   "source": []
  }
 ],
 "metadata": {
  "kernelspec": {
   "display_name": "Python 3 (ipykernel)",
   "language": "python",
   "name": "python3"
  },
  "language_info": {
   "codemirror_mode": {
    "name": "ipython",
    "version": 3
   },
   "file_extension": ".py",
   "mimetype": "text/x-python",
   "name": "python",
   "nbconvert_exporter": "python",
   "pygments_lexer": "ipython3",
   "version": "3.8.5"
  }
 },
 "nbformat": 4,
 "nbformat_minor": 5
}
