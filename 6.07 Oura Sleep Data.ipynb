{
 "cells": [
  {
   "cell_type": "markdown",
   "metadata": {},
   "source": [
    "# Jupyter Notebook for Oura Ring Sleepdata"
   ]
  },
  {
   "cell_type": "markdown",
   "metadata": {},
   "source": [
    "## Introduction\n",
    "Oura provides data that can be retrieved from their website with an API call.\n",
    "There are three parameters that are available in 5 minute intervals: sleep stage, heart rate (hr) and heart rate variability (HRV). \n",
    "With this notebook you can retrieve data and load it into a Pandas df.\n",
    "Then, do some simple analysis and create some graphs.\n",
    "\n",
    "Create an account and get your credentials from the Oura Documents page: https://cloud.ouraring.com/docs\n",
    "\n",
    "## Contents:\n",
    "\n",
    "0. Installation and tokens\n",
    "1. Sleep API call and load (some) data into Pandas df\n",
    "2. Basic analysis\n",
    "3. Create some graphs with it\n",
    "4. Store the dataframe"
   ]
  },
  {
   "cell_type": "markdown",
   "metadata": {},
   "source": [
    "## 0. Installation and tokens"
   ]
  },
  {
   "cell_type": "code",
   "execution_count": 1,
   "metadata": {},
   "outputs": [
    {
     "name": "stdout",
     "output_type": "stream",
     "text": [
      "Requirement already satisfied: oura in c:\\users\\31653\\anaconda3\\lib\\site-packages (1.1.4)\n",
      "Requirement already satisfied: pandas in c:\\users\\31653\\anaconda3\\lib\\site-packages (from oura) (1.3.4)\n",
      "Requirement already satisfied: requests-oauthlib in c:\\users\\31653\\anaconda3\\lib\\site-packages (from oura) (1.3.0)\n",
      "Requirement already satisfied: numpy>=1.17.3 in c:\\users\\31653\\anaconda3\\lib\\site-packages (from pandas->oura) (1.20.1)\n",
      "Requirement already satisfied: python-dateutil>=2.7.3 in c:\\users\\31653\\anaconda3\\lib\\site-packages (from pandas->oura) (2.8.2)\n",
      "Requirement already satisfied: pytz>=2017.3 in c:\\users\\31653\\anaconda3\\lib\\site-packages (from pandas->oura) (2021.3)\n",
      "Requirement already satisfied: requests>=2.0.0 in c:\\users\\31653\\anaconda3\\lib\\site-packages (from requests-oauthlib->oura) (2.26.0)\n",
      "Requirement already satisfied: oauthlib>=3.0.0 in c:\\users\\31653\\anaconda3\\lib\\site-packages (from requests-oauthlib->oura) (3.1.0)\n",
      "Requirement already satisfied: six>=1.5 in c:\\users\\31653\\anaconda3\\lib\\site-packages (from python-dateutil>=2.7.3->pandas->oura) (1.16.0)\n",
      "Requirement already satisfied: idna<4,>=2.5 in c:\\users\\31653\\anaconda3\\lib\\site-packages (from requests>=2.0.0->requests-oauthlib->oura) (3.1)\n",
      "Requirement already satisfied: certifi>=2017.4.17 in c:\\users\\31653\\anaconda3\\lib\\site-packages (from requests>=2.0.0->requests-oauthlib->oura) (2021.10.8)\n",
      "Requirement already satisfied: urllib3<1.27,>=1.21.1 in c:\\users\\31653\\anaconda3\\lib\\site-packages (from requests>=2.0.0->requests-oauthlib->oura) (1.26.7)\n",
      "Requirement already satisfied: charset-normalizer~=2.0.0 in c:\\users\\31653\\anaconda3\\lib\\site-packages (from requests>=2.0.0->requests-oauthlib->oura) (2.0.0)\n"
     ]
    }
   ],
   "source": [
    "!pip install oura"
   ]
  },
  {
   "cell_type": "code",
   "execution_count": 1,
   "metadata": {},
   "outputs": [
    {
     "name": "stdout",
     "output_type": "stream",
     "text": [
      "done\n"
     ]
    }
   ],
   "source": [
    "from oura import OuraClient\n",
    "# get your credentials from oura, see: https://cloud.ouraring.com/docs/.\n",
    "# You will need a client_id, client_secret and a personal access token (PAT). \n",
    "\n",
    "import notebooks_config\n",
    "#I store all my credentials in a notebooks_config.py file. \n",
    "#This file is then included in the .gitignore list so I can share the notebooks on GitHub.  \n",
    "\n",
    "oura_pat = notebooks_config.oura_pat #\n",
    "oura_client_id = notebooks_config.oura_client_id\n",
    "oura_client_secret = notebooks_config.oura_client_secret\n",
    "\n",
    "client = OuraClient(personal_access_token=oura_pat)\n",
    "oura = OuraClient(oura_client_id, oura_client_secret, oura_pat)\n",
    "print('done')"
   ]
  },
  {
   "cell_type": "markdown",
   "metadata": {},
   "source": [
    "## 1. Sleep API call"
   ]
  },
  {
   "cell_type": "code",
   "execution_count": 2,
   "metadata": {},
   "outputs": [
    {
     "data": {
      "text/plain": [
       "{'age': 45,\n",
       " 'weight': 93.0,\n",
       " 'height': 180,\n",
       " 'gender': 'male',\n",
       " 'email': 'michiel.bontenbal@gmail.com'}"
      ]
     },
     "execution_count": 2,
     "metadata": {},
     "output_type": "execute_result"
    }
   ],
   "source": [
    "#get your personal info\n",
    "oura.user_info()"
   ]
  },
  {
   "cell_type": "code",
   "execution_count": 5,
   "metadata": {},
   "outputs": [
    {
     "name": "stdout",
     "output_type": "stream",
     "text": [
      "{'summary_date': '2022-01-04', 'period_id': 0, 'is_longest': 1, 'timezone': 60, 'bedtime_end': '2022-01-05T08:36:20+01:00', 'bedtime_start': '2022-01-04T22:56:20+01:00', 'breath_average': 14.875, 'duration': 34800, 'total': 29730, 'awake': 5070, 'rem': 9840, 'deep': 3840, 'light': 16050, 'midpoint_time': 17130, 'efficiency': 85, 'restless': 21, 'onset_latency': 180, 'hr_5min': [71, 69, 67, 65, 65, 66, 66, 66, 65, 65, 63, 62, 62, 0, 60, 57, 57, 60, 60, 59, 60, 59, 61, 59, 59, 61, 61, 60, 59, 59, 60, 60, 61, 62, 61, 59, 59, 58, 57, 57, 59, 62, 59, 59, 57, 57, 57, 56, 57, 0, 57, 0, 57, 60, 57, 58, 60, 56, 59, 59, 64, 59, 60, 60, 58, 0, 61, 0, 0, 0, 0, 0, 0, 0, 61, 0, 0, 0, 0, 67, 65, 66, 64, 62, 62, 62, 66, 63, 62, 63, 63, 64, 64, 65, 62, 64, 65, 64, 65, 66, 66, 64, 65, 65, 63, 63, 65, 66, 67, 69, 65, 63, 63, 64, 0, 66, 69], 'hr_average': 61.91, 'hr_lowest': 56.0, 'hypnogram_5min': '42211112222214422222132222222211111222222322222333333222332133344424444234424422222222322233333333333123332333322334', 'rmssd': 26, 'rmssd_5min': [8, 12, 16, 16, 17, 17, 16, 49, 43, 22, 27, 40, 31, 0, 19, 20, 36, 33, 33, 34, 28, 21, 18, 23, 22, 25, 25, 27, 31, 35, 34, 36, 37, 37, 40, 34, 32, 40, 39, 53, 19, 18, 23, 33, 21, 23, 32, 38, 42, 0, 37, 0, 40, 33, 31, 30, 22, 25, 27, 26, 35, 33, 39, 16, 21, 0, 20, 0, 0, 0, 0, 0, 0, 0, 18, 0, 0, 0, 0, 12, 14, 15, 17, 22, 26, 30, 35, 33, 34, 31, 33, 19, 17, 17, 30, 31, 36, 30, 17, 18, 17, 18, 18, 22, 16, 18, 27, 22, 12, 9, 20, 22, 25, 40, 0, 42, 12], 'score': 87, 'score_alignment': 78, 'score_deep': 85, 'score_disturbances': 83, 'score_efficiency': 83, 'score_latency': 67, 'score_rem': 100, 'score_total': 96, 'temperature_deviation': -0.18, 'temperature_trend_deviation': 0.01, 'bedtime_start_delta': -3820, 'bedtime_end_delta': 30980, 'midpoint_at_delta': 13310, 'temperature_delta': -0.18}\n"
     ]
    }
   ],
   "source": [
    "# Sleep Summary\n",
    "result = oura.sleep_summary(start='2022-01-04', end='2022-01-05')\n",
    "data = result['sleep'][0] #select the first item from the list\n",
    "print(data)"
   ]
  },
  {
   "cell_type": "markdown",
   "metadata": {},
   "source": [
    "### 1a. Get the start and endtime of sleep"
   ]
  },
  {
   "cell_type": "code",
   "execution_count": 6,
   "metadata": {},
   "outputs": [
    {
     "name": "stdout",
     "output_type": "stream",
     "text": [
      "start time is 2022-01-04 22:56:20+01:00 and end time is 2022-01-05 08:36:20+01:00\n"
     ]
    }
   ],
   "source": [
    "#get the start and endtime as strings\n",
    "start_time = data['bedtime_start']\n",
    "end_time = data['bedtime_end']\n",
    "# convert strings to datetime\n",
    "from dateutil import parser\n",
    "start_time_dt = parser.parse(start_time)\n",
    "end_time_dt = parser.parse(end_time)\n",
    "print ('start time is '+ str(start_time_dt) + ' and end time is ' + str(end_time_dt))"
   ]
  },
  {
   "cell_type": "markdown",
   "metadata": {},
   "source": [
    "### 1b. Get the hypnogram and convert it to a list of integers"
   ]
  },
  {
   "cell_type": "code",
   "execution_count": 7,
   "metadata": {},
   "outputs": [
    {
     "name": "stdout",
     "output_type": "stream",
     "text": [
      "[4, 2, 2, 1, 1, 1, 1, 2, 2, 2, 2, 2, 1, 4, 4, 2, 2, 2, 2, 2, 1, 3, 2, 2, 2, 2, 2, 2, 2, 2, 1, 1, 1, 1, 1, 2, 2, 2, 2, 2, 2, 3, 2, 2, 2, 2, 2, 3, 3, 3, 3, 3, 3, 2, 2, 2, 3, 3, 2, 1, 3, 3, 3, 4, 4, 4, 2, 4, 4, 4, 4, 2, 3, 4, 4, 2, 4, 4, 2, 2, 2, 2, 2, 2, 2, 2, 3, 2, 2, 2, 3, 3, 3, 3, 3, 3, 3, 3, 3, 3, 3, 1, 2, 3, 3, 3, 2, 3, 3, 3, 3, 2, 2, 3, 3, 4]\n"
     ]
    }
   ],
   "source": [
    "#get the hypnogram as one long string\n",
    "hypnogram = data['hypnogram_5min']\n",
    "\n",
    "# convert the hypnogram to a list of strings\n",
    "string_list=[]\n",
    "string_list[:0]=hypnogram\n",
    "\n",
    "# convert the list of strings to a list of integers\n",
    "my_stages=[] #create an empty list for the sleep stages\n",
    "for i in range(len(string_list)):\n",
    "    integer = int(string_list[i])\n",
    "    my_stages.append(integer)\n",
    "print(my_stages)\n"
   ]
  },
  {
   "cell_type": "markdown",
   "metadata": {},
   "source": [
    "### 1c. Get the HR and HRV for 5 min intervals"
   ]
  },
  {
   "cell_type": "code",
   "execution_count": 8,
   "metadata": {},
   "outputs": [
    {
     "name": "stdout",
     "output_type": "stream",
     "text": [
      "[71, 69, 67, 65, 65, 66, 66, 66, 65, 65, 63, 62, 62, 0, 60, 57, 57, 60, 60, 59, 60, 59, 61, 59, 59, 61, 61, 60, 59, 59, 60, 60, 61, 62, 61, 59, 59, 58, 57, 57, 59, 62, 59, 59, 57, 57, 57, 56, 57, 0, 57, 0, 57, 60, 57, 58, 60, 56, 59, 59, 64, 59, 60, 60, 58, 0, 61, 0, 0, 0, 0, 0, 0, 0, 61, 0, 0, 0, 0, 67, 65, 66, 64, 62, 62, 62, 66, 63, 62, 63, 63, 64, 64, 65, 62, 64, 65, 64, 65, 66, 66, 64, 65, 65, 63, 63, 65, 66, 67, 69, 65, 63, 63, 64, 0, 66, 69]\n"
     ]
    }
   ],
   "source": [
    "my_hr = data['hr_5min']\n",
    "print(my_hr)"
   ]
  },
  {
   "cell_type": "code",
   "execution_count": 9,
   "metadata": {},
   "outputs": [
    {
     "name": "stdout",
     "output_type": "stream",
     "text": [
      "[8, 12, 16, 16, 17, 17, 16, 49, 43, 22, 27, 40, 31, 0, 19, 20, 36, 33, 33, 34, 28, 21, 18, 23, 22, 25, 25, 27, 31, 35, 34, 36, 37, 37, 40, 34, 32, 40, 39, 53, 19, 18, 23, 33, 21, 23, 32, 38, 42, 0, 37, 0, 40, 33, 31, 30, 22, 25, 27, 26, 35, 33, 39, 16, 21, 0, 20, 0, 0, 0, 0, 0, 0, 0, 18, 0, 0, 0, 0, 12, 14, 15, 17, 22, 26, 30, 35, 33, 34, 31, 33, 19, 17, 17, 30, 31, 36, 30, 17, 18, 17, 18, 18, 22, 16, 18, 27, 22, 12, 9, 20, 22, 25, 40, 0, 42, 12]\n"
     ]
    }
   ],
   "source": [
    "# get the metric for heart rate variability also know as rMSSD\n",
    "my_HRV = data['rmssd_5min']\n",
    "print(my_HRV)"
   ]
  },
  {
   "cell_type": "markdown",
   "metadata": {},
   "source": [
    "### 1d. Create a list of starttime of the intervals"
   ]
  },
  {
   "cell_type": "code",
   "execution_count": 10,
   "metadata": {},
   "outputs": [
    {
     "name": "stdout",
     "output_type": "stream",
     "text": [
      "done\n"
     ]
    }
   ],
   "source": [
    "import datetime\n",
    "time_change = datetime.timedelta(minutes=5)\n",
    "my_startivs = [start_time_dt] #create a list with first item start_time_dt\n",
    "new_iv=start_time_dt\n",
    "for i in range(len(my_stages)-1):\n",
    "    new_iv= new_iv+time_change\n",
    "    my_startivs.append(new_iv)\n",
    "#print(my_startivs)\n",
    "print('done')"
   ]
  },
  {
   "cell_type": "markdown",
   "metadata": {},
   "source": [
    "### 1e. Creating a df and adding the lists to it"
   ]
  },
  {
   "cell_type": "code",
   "execution_count": 11,
   "metadata": {},
   "outputs": [
    {
     "name": "stdout",
     "output_type": "stream",
     "text": [
      "116 117 117 116\n"
     ]
    }
   ],
   "source": [
    "#see if all lists have same length\n",
    "print(len(my_stages), len(my_hr), len(my_HRV), len(my_startivs))"
   ]
  },
  {
   "cell_type": "code",
   "execution_count": 17,
   "metadata": {},
   "outputs": [
    {
     "data": {
      "text/html": [
       "<div>\n",
       "<style scoped>\n",
       "    .dataframe tbody tr th:only-of-type {\n",
       "        vertical-align: middle;\n",
       "    }\n",
       "\n",
       "    .dataframe tbody tr th {\n",
       "        vertical-align: top;\n",
       "    }\n",
       "\n",
       "    .dataframe thead th {\n",
       "        text-align: right;\n",
       "    }\n",
       "</style>\n",
       "<table border=\"1\" class=\"dataframe\">\n",
       "  <thead>\n",
       "    <tr style=\"text-align: right;\">\n",
       "      <th></th>\n",
       "      <th>Start_time</th>\n",
       "      <th>Stage</th>\n",
       "      <th>hr</th>\n",
       "      <th>HRV</th>\n",
       "    </tr>\n",
       "  </thead>\n",
       "  <tbody>\n",
       "    <tr>\n",
       "      <th>0</th>\n",
       "      <td>2022-01-04 22:56:20+01:00</td>\n",
       "      <td>4</td>\n",
       "      <td>71</td>\n",
       "      <td>8</td>\n",
       "    </tr>\n",
       "    <tr>\n",
       "      <th>1</th>\n",
       "      <td>2022-01-04 23:01:20+01:00</td>\n",
       "      <td>2</td>\n",
       "      <td>69</td>\n",
       "      <td>12</td>\n",
       "    </tr>\n",
       "    <tr>\n",
       "      <th>2</th>\n",
       "      <td>2022-01-04 23:06:20+01:00</td>\n",
       "      <td>2</td>\n",
       "      <td>67</td>\n",
       "      <td>16</td>\n",
       "    </tr>\n",
       "    <tr>\n",
       "      <th>3</th>\n",
       "      <td>2022-01-04 23:11:20+01:00</td>\n",
       "      <td>1</td>\n",
       "      <td>65</td>\n",
       "      <td>16</td>\n",
       "    </tr>\n",
       "    <tr>\n",
       "      <th>4</th>\n",
       "      <td>2022-01-04 23:16:20+01:00</td>\n",
       "      <td>1</td>\n",
       "      <td>65</td>\n",
       "      <td>17</td>\n",
       "    </tr>\n",
       "    <tr>\n",
       "      <th>...</th>\n",
       "      <td>...</td>\n",
       "      <td>...</td>\n",
       "      <td>...</td>\n",
       "      <td>...</td>\n",
       "    </tr>\n",
       "    <tr>\n",
       "      <th>111</th>\n",
       "      <td>2022-01-05 08:11:20+01:00</td>\n",
       "      <td>2</td>\n",
       "      <td>63</td>\n",
       "      <td>22</td>\n",
       "    </tr>\n",
       "    <tr>\n",
       "      <th>112</th>\n",
       "      <td>2022-01-05 08:16:20+01:00</td>\n",
       "      <td>2</td>\n",
       "      <td>63</td>\n",
       "      <td>25</td>\n",
       "    </tr>\n",
       "    <tr>\n",
       "      <th>113</th>\n",
       "      <td>2022-01-05 08:21:20+01:00</td>\n",
       "      <td>3</td>\n",
       "      <td>64</td>\n",
       "      <td>40</td>\n",
       "    </tr>\n",
       "    <tr>\n",
       "      <th>114</th>\n",
       "      <td>2022-01-05 08:26:20+01:00</td>\n",
       "      <td>3</td>\n",
       "      <td>0</td>\n",
       "      <td>0</td>\n",
       "    </tr>\n",
       "    <tr>\n",
       "      <th>115</th>\n",
       "      <td>2022-01-05 08:31:20+01:00</td>\n",
       "      <td>4</td>\n",
       "      <td>66</td>\n",
       "      <td>42</td>\n",
       "    </tr>\n",
       "  </tbody>\n",
       "</table>\n",
       "<p>116 rows × 4 columns</p>\n",
       "</div>"
      ],
      "text/plain": [
       "                   Start_time  Stage  hr  HRV\n",
       "0   2022-01-04 22:56:20+01:00      4  71    8\n",
       "1   2022-01-04 23:01:20+01:00      2  69   12\n",
       "2   2022-01-04 23:06:20+01:00      2  67   16\n",
       "3   2022-01-04 23:11:20+01:00      1  65   16\n",
       "4   2022-01-04 23:16:20+01:00      1  65   17\n",
       "..                        ...    ...  ..  ...\n",
       "111 2022-01-05 08:11:20+01:00      2  63   22\n",
       "112 2022-01-05 08:16:20+01:00      2  63   25\n",
       "113 2022-01-05 08:21:20+01:00      3  64   40\n",
       "114 2022-01-05 08:26:20+01:00      3   0    0\n",
       "115 2022-01-05 08:31:20+01:00      4  66   42\n",
       "\n",
       "[116 rows x 4 columns]"
      ]
     },
     "execution_count": 17,
     "metadata": {},
     "output_type": "execute_result"
    }
   ],
   "source": [
    "# create an empty dataframe\n",
    "import pandas as pd\n",
    "sleep_df = pd.DataFrame()\n",
    "\n",
    "# Add the lists to the dataframe as a 'pd.Series' datatype to prevent a ValueError (different lengths of the lists)\n",
    "#https://www.geeksforgeeks.org/how-to-fix-length-of-values-does-not-match-length-of-index/\n",
    "sleep_df['Start_time']=pd.Series(my_startivs)\n",
    "sleep_df['Stage']= pd.Series(my_stages)\n",
    "sleep_df['hr']=pd.Series(my_hr)\n",
    "sleep_df['HRV']=pd.Series(my_HRV)\n",
    "sleep_df"
   ]
  },
  {
   "cell_type": "code",
   "execution_count": 10,
   "metadata": {},
   "outputs": [
    {
     "data": {
      "text/plain": [
       "Start_time    datetime64[ns, tzoffset(None, 3600)]\n",
       "Stage                                        int64\n",
       "hr                                           int64\n",
       "HRV                                          int64\n",
       "dtype: object"
      ]
     },
     "execution_count": 10,
     "metadata": {},
     "output_type": "execute_result"
    }
   ],
   "source": [
    "sleep_df.dtypes"
   ]
  },
  {
   "cell_type": "code",
   "execution_count": 11,
   "metadata": {},
   "outputs": [
    {
     "data": {
      "text/html": [
       "<div>\n",
       "<style scoped>\n",
       "    .dataframe tbody tr th:only-of-type {\n",
       "        vertical-align: middle;\n",
       "    }\n",
       "\n",
       "    .dataframe tbody tr th {\n",
       "        vertical-align: top;\n",
       "    }\n",
       "\n",
       "    .dataframe thead th {\n",
       "        text-align: right;\n",
       "    }\n",
       "</style>\n",
       "<table border=\"1\" class=\"dataframe\">\n",
       "  <thead>\n",
       "    <tr style=\"text-align: right;\">\n",
       "      <th></th>\n",
       "      <th>Start_time</th>\n",
       "      <th>Stage</th>\n",
       "      <th>hr</th>\n",
       "      <th>HRV</th>\n",
       "    </tr>\n",
       "  </thead>\n",
       "  <tbody>\n",
       "    <tr>\n",
       "      <th>83</th>\n",
       "      <td>2022-01-01 08:55:11+01:00</td>\n",
       "      <td>3</td>\n",
       "      <td>66.0</td>\n",
       "      <td>25.0</td>\n",
       "    </tr>\n",
       "    <tr>\n",
       "      <th>84</th>\n",
       "      <td>2022-01-01 09:00:11+01:00</td>\n",
       "      <td>4</td>\n",
       "      <td>67.0</td>\n",
       "      <td>20.0</td>\n",
       "    </tr>\n",
       "    <tr>\n",
       "      <th>85</th>\n",
       "      <td>2022-01-01 09:05:11+01:00</td>\n",
       "      <td>4</td>\n",
       "      <td>67.0</td>\n",
       "      <td>17.0</td>\n",
       "    </tr>\n",
       "    <tr>\n",
       "      <th>86</th>\n",
       "      <td>2022-01-01 09:10:11+01:00</td>\n",
       "      <td>4</td>\n",
       "      <td>68.0</td>\n",
       "      <td>21.0</td>\n",
       "    </tr>\n",
       "    <tr>\n",
       "      <th>87</th>\n",
       "      <td>2022-01-01 09:15:11+01:00</td>\n",
       "      <td>4</td>\n",
       "      <td>NaN</td>\n",
       "      <td>NaN</td>\n",
       "    </tr>\n",
       "  </tbody>\n",
       "</table>\n",
       "</div>"
      ],
      "text/plain": [
       "                  Start_time  Stage    hr   HRV\n",
       "83 2022-01-01 08:55:11+01:00      3  66.0  25.0\n",
       "84 2022-01-01 09:00:11+01:00      4  67.0  20.0\n",
       "85 2022-01-01 09:05:11+01:00      4  67.0  17.0\n",
       "86 2022-01-01 09:10:11+01:00      4  68.0  21.0\n",
       "87 2022-01-01 09:15:11+01:00      4   NaN   NaN"
      ]
     },
     "execution_count": 11,
     "metadata": {},
     "output_type": "execute_result"
    }
   ],
   "source": [
    "# replace 0's with NaN\n",
    "import numpy as np\n",
    "sleep_df = sleep_df.replace(0, np.NaN)\n",
    "sleep_df.tail()"
   ]
  },
  {
   "cell_type": "code",
   "execution_count": 12,
   "metadata": {},
   "outputs": [
    {
     "data": {
      "text/html": [
       "<div>\n",
       "<style scoped>\n",
       "    .dataframe tbody tr th:only-of-type {\n",
       "        vertical-align: middle;\n",
       "    }\n",
       "\n",
       "    .dataframe tbody tr th {\n",
       "        vertical-align: top;\n",
       "    }\n",
       "\n",
       "    .dataframe thead th {\n",
       "        text-align: right;\n",
       "    }\n",
       "</style>\n",
       "<table border=\"1\" class=\"dataframe\">\n",
       "  <thead>\n",
       "    <tr style=\"text-align: right;\">\n",
       "      <th></th>\n",
       "      <th>Stage</th>\n",
       "      <th>hr</th>\n",
       "      <th>HRV</th>\n",
       "    </tr>\n",
       "  </thead>\n",
       "  <tbody>\n",
       "    <tr>\n",
       "      <th>count</th>\n",
       "      <td>88.000000</td>\n",
       "      <td>70.000000</td>\n",
       "      <td>70.000000</td>\n",
       "    </tr>\n",
       "    <tr>\n",
       "      <th>mean</th>\n",
       "      <td>2.318182</td>\n",
       "      <td>63.071429</td>\n",
       "      <td>26.071429</td>\n",
       "    </tr>\n",
       "    <tr>\n",
       "      <th>std</th>\n",
       "      <td>0.953463</td>\n",
       "      <td>2.509815</td>\n",
       "      <td>7.793199</td>\n",
       "    </tr>\n",
       "    <tr>\n",
       "      <th>min</th>\n",
       "      <td>1.000000</td>\n",
       "      <td>57.000000</td>\n",
       "      <td>10.000000</td>\n",
       "    </tr>\n",
       "    <tr>\n",
       "      <th>25%</th>\n",
       "      <td>2.000000</td>\n",
       "      <td>61.000000</td>\n",
       "      <td>20.000000</td>\n",
       "    </tr>\n",
       "    <tr>\n",
       "      <th>50%</th>\n",
       "      <td>2.000000</td>\n",
       "      <td>63.000000</td>\n",
       "      <td>27.000000</td>\n",
       "    </tr>\n",
       "    <tr>\n",
       "      <th>75%</th>\n",
       "      <td>3.000000</td>\n",
       "      <td>65.000000</td>\n",
       "      <td>31.000000</td>\n",
       "    </tr>\n",
       "    <tr>\n",
       "      <th>max</th>\n",
       "      <td>4.000000</td>\n",
       "      <td>68.000000</td>\n",
       "      <td>51.000000</td>\n",
       "    </tr>\n",
       "  </tbody>\n",
       "</table>\n",
       "</div>"
      ],
      "text/plain": [
       "           Stage         hr        HRV\n",
       "count  88.000000  70.000000  70.000000\n",
       "mean    2.318182  63.071429  26.071429\n",
       "std     0.953463   2.509815   7.793199\n",
       "min     1.000000  57.000000  10.000000\n",
       "25%     2.000000  61.000000  20.000000\n",
       "50%     2.000000  63.000000  27.000000\n",
       "75%     3.000000  65.000000  31.000000\n",
       "max     4.000000  68.000000  51.000000"
      ]
     },
     "execution_count": 12,
     "metadata": {},
     "output_type": "execute_result"
    }
   ],
   "source": [
    "sleep_df.describe()"
   ]
  },
  {
   "cell_type": "markdown",
   "metadata": {},
   "source": [
    "## 2. Do some basic analysis"
   ]
  },
  {
   "cell_type": "code",
   "execution_count": 16,
   "metadata": {},
   "outputs": [
    {
     "name": "stdout",
     "output_type": "stream",
     "text": [
      "Average hr is: 61.3 and average HRV is 26.3\n"
     ]
    }
   ],
   "source": [
    "hr_mean =sleep_df['hr'].mean()\n",
    "HRV_mean=sleep_df['HRV'].mean()\n",
    "print('Average hr is: ' + str(round(hr_mean,1))+ ' and average HRV is ' + str(round(HRV_mean,1)))"
   ]
  },
  {
   "cell_type": "code",
   "execution_count": 17,
   "metadata": {},
   "outputs": [
    {
     "name": "stdout",
     "output_type": "stream",
     "text": [
      "Lowest hr is: 58.0 and Lowest HRV is 13.0\n"
     ]
    }
   ],
   "source": [
    "hr_min =sleep_df['hr'].min()\n",
    "HRV_min=sleep_df['HRV'].min()\n",
    "print('Lowest hr is: ' + str(round(hr_min,1))+ ' and Lowest HRV is ' + str(round(HRV_min,1)))"
   ]
  },
  {
   "cell_type": "code",
   "execution_count": 20,
   "metadata": {},
   "outputs": [
    {
     "name": "stdout",
     "output_type": "stream",
     "text": [
      "Highest hr is: 70.0 and highest HRV is 48.0\n"
     ]
    }
   ],
   "source": [
    "hr_max =sleep_df['hr'].max()\n",
    "HRV_max=sleep_df['HRV'].max()\n",
    "print('Highest hr is: ' + str(round(hr_max,1))+ ' and highest HRV is ' + str(round(HRV_max,1)))"
   ]
  },
  {
   "cell_type": "code",
   "execution_count": 21,
   "metadata": {},
   "outputs": [
    {
     "name": "stdout",
     "output_type": "stream",
     "text": [
      "Median hr is: 60.0 and median HRV is 24.0\n"
     ]
    }
   ],
   "source": [
    "hr_median =sleep_df['hr'].median()\n",
    "HRV_median=sleep_df['HRV'].median()\n",
    "print('Median hr is: ' + str(round(hr_median,1))+ ' and median HRV is ' + str(round(HRV_median,1)))"
   ]
  },
  {
   "cell_type": "code",
   "execution_count": 22,
   "metadata": {},
   "outputs": [
    {
     "name": "stdout",
     "output_type": "stream",
     "text": [
      "Deep sleep was 60 minutes. That is 21.43 % of the time.\n"
     ]
    }
   ],
   "source": [
    "deep_sleep = my_stages.count(1)\n",
    "deep_sleep_perc= round((deep_sleep/len(my_stages)*100),2)\n",
    "print('Deep sleep was ' + str(deep_sleep*5) + ' minutes. That is ' + str(deep_sleep_perc)+ ' % of the time.')"
   ]
  },
  {
   "cell_type": "markdown",
   "metadata": {},
   "source": [
    "## 3. Create graphs"
   ]
  },
  {
   "cell_type": "code",
   "execution_count": 20,
   "metadata": {},
   "outputs": [
    {
     "data": {
      "text/plain": [
       "2    39\n",
       "3    28\n",
       "1    24\n",
       "4     7\n",
       "Name: Stage, dtype: int64"
      ]
     },
     "execution_count": 20,
     "metadata": {},
     "output_type": "execute_result"
    }
   ],
   "source": [
    "my_counts = sleep_df['Stage'].value_counts()\n",
    "my_counts"
   ]
  },
  {
   "cell_type": "code",
   "execution_count": 21,
   "metadata": {},
   "outputs": [
    {
     "data": {
      "text/plain": [
       "<AxesSubplot:title={'center':'stages'}, ylabel='Frequency'>"
      ]
     },
     "execution_count": 21,
     "metadata": {},
     "output_type": "execute_result"
    },
    {
     "data": {
      "image/png": "[encoded data removed]",
      "text/plain": [
       "<Figure size 432x288 with 1 Axes>"
      ]
     },
     "metadata": {
      "needs_background": "light"
     },
     "output_type": "display_data"
    }
   ],
   "source": [
    "# for a histogram use this pattern: name_df['column'].plot.hist(title='Genome Size Histogram')\n",
    "sleep_df['Stage'].plot.hist(title='stages')"
   ]
  },
  {
   "cell_type": "code",
   "execution_count": 22,
   "metadata": {},
   "outputs": [
    {
     "data": {
      "text/plain": [
       "<AxesSubplot:xlabel='Start_time', ylabel='hr'>"
      ]
     },
     "execution_count": 22,
     "metadata": {},
     "output_type": "execute_result"
    },
    {
     "data": {
      "image/png": "[encoded data removed]",
      "text/plain": [
       "<Figure size 432x288 with 1 Axes>"
      ]
     },
     "metadata": {
      "needs_background": "light"
     },
     "output_type": "display_data"
    }
   ],
   "source": [
    "sleep_df.plot.scatter(x='Start_time', y='hr', s=None, c=None)"
   ]
  },
  {
   "cell_type": "code",
   "execution_count": 23,
   "metadata": {
    "scrolled": true
   },
   "outputs": [
    {
     "data": {
      "text/plain": [
       "<AxesSubplot:xlabel='Start_time', ylabel='HRV'>"
      ]
     },
     "execution_count": 23,
     "metadata": {},
     "output_type": "execute_result"
    },
    {
     "data": {
      "image/png": "[encoded data removed]",
      "text/plain": [
       "<Figure size 432x288 with 1 Axes>"
      ]
     },
     "metadata": {
      "needs_background": "light"
     },
     "output_type": "display_data"
    }
   ],
   "source": [
    "sleep_df.plot.scatter(x='Start_time', y='HRV', s=None, c=None)"
   ]
  },
  {
   "cell_type": "code",
   "execution_count": 24,
   "metadata": {
    "scrolled": true
   },
   "outputs": [
    {
     "data": {
      "text/plain": [
       "<AxesSubplot:xlabel='Start_time', ylabel='Stage'>"
      ]
     },
     "execution_count": 24,
     "metadata": {},
     "output_type": "execute_result"
    },
    {
     "data": {
      "image/png": "[encoded data removed]",
      "text/plain": [
       "<Figure size 432x288 with 1 Axes>"
      ]
     },
     "metadata": {
      "needs_background": "light"
     },
     "output_type": "display_data"
    }
   ],
   "source": [
    "sleep_df.plot.scatter(x='Start_time', y='Stage', s=None, c=None)"
   ]
  },
  {
   "cell_type": "markdown",
   "metadata": {},
   "source": [
    "## 4. Store df as csv"
   ]
  },
  {
   "cell_type": "code",
   "execution_count": 13,
   "metadata": {},
   "outputs": [],
   "source": [
    "#naming pattern: \n",
    "sleep_df.to_csv('sleep_df_oura_20211231-01.csv')"
   ]
  },
  {
   "cell_type": "code",
   "execution_count": null,
   "metadata": {},
   "outputs": [],
   "source": []
  }
 ],
 "metadata": {
  "kernelspec": {
   "display_name": "Python 3 (ipykernel)",
   "language": "python",
   "name": "python3"
  },
  "language_info": {
   "codemirror_mode": {
    "name": "ipython",
    "version": 3
   },
   "file_extension": ".py",
   "mimetype": "text/x-python",
   "name": "python",
   "nbconvert_exporter": "python",
   "pygments_lexer": "ipython3",
   "version": "3.8.5"
  }
 },
 "nbformat": 4,
 "nbformat_minor": 4
}
