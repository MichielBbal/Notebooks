{
 "cells": [
  {
   "cell_type": "markdown",
   "id": "1df9e5ff-564b-436c-924e-b3bcf6e0d0e5",
   "metadata": {},
   "source": [
    "## 4.10 gRPC\n",
    "\n",
    "source: https://grpc.io/docs/languages/python/quickstart/"
   ]
  },
  {
   "cell_type": "code",
   "execution_count": 1,
   "id": "d8057109-7196-4c94-8ce4-a4fd614d726b",
   "metadata": {},
   "outputs": [
    {
     "name": "stdout",
     "output_type": "stream",
     "text": [
      "Requirement already satisfied: grpcio in c:\\users\\31653\\anaconda3\\lib\\site-packages (1.39.0)\n",
      "Requirement already satisfied: six>=1.5.2 in c:\\users\\31653\\anaconda3\\lib\\site-packages (from grpcio) (1.16.0)\n"
     ]
    }
   ],
   "source": [
    "!python -m pip install grpcio"
   ]
  },
  {
   "cell_type": "code",
   "execution_count": 2,
   "id": "fc1d19e0-2848-4f08-b83a-78713bb008de",
   "metadata": {},
   "outputs": [
    {
     "name": "stdout",
     "output_type": "stream",
     "text": [
      "Collecting grpcio-tools\n",
      "  Downloading grpcio_tools-1.43.0-cp38-cp38-win_amd64.whl (1.9 MB)\n",
      "Requirement already satisfied: setuptools in c:\\users\\31653\\anaconda3\\lib\\site-packages (from grpcio-tools) (58.2.0)\n",
      "Collecting grpcio>=1.43.0\n",
      "  Downloading grpcio-1.43.0-cp38-cp38-win_amd64.whl (3.4 MB)\n",
      "Requirement already satisfied: protobuf<4.0dev,>=3.5.0.post1 in c:\\users\\31653\\anaconda3\\lib\\site-packages (from grpcio-tools) (3.15.5)\n",
      "Requirement already satisfied: six>=1.5.2 in c:\\users\\31653\\anaconda3\\lib\\site-packages (from grpcio>=1.43.0->grpcio-tools) (1.16.0)\n",
      "Installing collected packages: grpcio, grpcio-tools\n",
      "  Attempting uninstall: grpcio\n",
      "    Found existing installation: grpcio 1.39.0\n",
      "    Uninstalling grpcio-1.39.0:\n",
      "      Successfully uninstalled grpcio-1.39.0\n",
      "Successfully installed grpcio-1.43.0 grpcio-tools-1.43.0\n"
     ]
    },
    {
     "name": "stderr",
     "output_type": "stream",
     "text": [
      "ERROR: pip's dependency resolver does not currently take into account all the packages that are installed. This behaviour is the source of the following dependency conflicts.\n",
      "tensorflow 2.6.0 requires h5py~=3.1.0, but you have h5py 3.4.0 which is incompatible.\n",
      "tensorflow 2.6.0 requires numpy~=1.19.2, but you have numpy 1.20.1 which is incompatible.\n",
      "tensorflow 2.6.0 requires six~=1.15.0, but you have six 1.16.0 which is incompatible.\n",
      "tensorflow 2.6.0 requires typing-extensions~=3.7.4, but you have typing-extensions 3.10.0.2 which is incompatible.\n",
      "openl3 0.4.1 requires h5py<3.0.0,>=2.7.0, but you have h5py 3.4.0 which is incompatible.\n"
     ]
    }
   ],
   "source": [
    "!python -m pip install grpcio-tools"
   ]
  },
  {
   "cell_type": "code",
   "execution_count": 3,
   "id": "5a5da3f7-e8af-4a90-98b8-0b87961d60eb",
   "metadata": {},
   "outputs": [
    {
     "name": "stderr",
     "output_type": "stream",
     "text": [
      "Cloning into 'grpc'...\n",
      "Note: switching to '11f00485aa5ad422cfe2d9d90589158f46954101'.\n",
      "\n",
      "You are in 'detached HEAD' state. You can look around, make experimental\n",
      "changes and commit them, and you can discard any commits you make in this\n",
      "state without impacting any branches by switching back to a branch.\n",
      "\n",
      "If you want to create a new branch to retain commits you create, you may\n",
      "do so (now or later) by using -c with the switch command. Example:\n",
      "\n",
      "  git switch -c <new-branch-name>\n",
      "\n",
      "Or undo this operation with:\n",
      "\n",
      "  git switch -\n",
      "\n",
      "Turn off this advice by setting config variable advice.detachedHead to false\n",
      "\n",
      "Updating files:   9% (859/9393)\n",
      "Updating files:  10% (940/9393)\n",
      "Updating files:  11% (1034/9393)\n",
      "Updating files:  12% (1128/9393)\n",
      "Updating files:  13% (1222/9393)\n",
      "Updating files:  14% (1316/9393)\n",
      "Updating files:  15% (1409/9393)\n",
      "Updating files:  16% (1503/9393)\n",
      "Updating files:  17% (1597/9393)\n",
      "Updating files:  18% (1691/9393)\n",
      "Updating files:  19% (1785/9393)\n",
      "Updating files:  19% (1808/9393)\n",
      "Updating files:  20% (1879/9393)\n",
      "Updating files:  21% (1973/9393)\n",
      "Updating files:  22% (2067/9393)\n",
      "Updating files:  23% (2161/9393)\n",
      "Updating files:  24% (2255/9393)\n",
      "Updating files:  25% (2349/9393)\n",
      "Updating files:  26% (2443/9393)\n",
      "Updating files:  27% (2537/9393)\n",
      "Updating files:  28% (2631/9393)\n",
      "Updating files:  29% (2724/9393)\n",
      "Updating files:  30% (2818/9393)\n",
      "Updating files:  30% (2881/9393)\n",
      "Updating files:  31% (2912/9393)\n",
      "Updating files:  32% (3006/9393)\n",
      "Updating files:  33% (3100/9393)\n",
      "Updating files:  34% (3194/9393)\n",
      "Updating files:  35% (3288/9393)\n",
      "Updating files:  36% (3382/9393)\n",
      "Updating files:  37% (3476/9393)\n",
      "Updating files:  38% (3570/9393)\n",
      "Updating files:  39% (3664/9393)\n",
      "Updating files:  40% (3758/9393)\n",
      "Updating files:  41% (3852/9393)\n",
      "Updating files:  42% (3946/9393)\n",
      "Updating files:  42% (3971/9393)\n",
      "Updating files:  43% (4039/9393)\n",
      "Updating files:  44% (4133/9393)\n",
      "Updating files:  45% (4227/9393)\n",
      "Updating files:  46% (4321/9393)\n",
      "Updating files:  47% (4415/9393)\n",
      "Updating files:  48% (4509/9393)\n",
      "Updating files:  49% (4603/9393)\n",
      "Updating files:  50% (4697/9393)\n",
      "Updating files:  51% (4791/9393)\n",
      "Updating files:  52% (4885/9393)\n",
      "Updating files:  53% (4979/9393)\n",
      "Updating files:  54% (5073/9393)\n",
      "Updating files:  55% (5167/9393)\n",
      "Updating files:  56% (5261/9393)\n",
      "Updating files:  56% (5271/9393)\n",
      "Updating files:  57% (5355/9393)\n",
      "Updating files:  58% (5448/9393)\n",
      "Updating files:  59% (5542/9393)\n",
      "Updating files:  60% (5636/9393)\n",
      "Updating files:  61% (5730/9393)\n",
      "Updating files:  62% (5824/9393)\n",
      "Updating files:  63% (5918/9393)\n",
      "Updating files:  64% (6012/9393)\n",
      "Updating files:  65% (6106/9393)\n",
      "Updating files:  66% (6200/9393)\n",
      "Updating files:  67% (6294/9393)\n",
      "Updating files:  68% (6388/9393)\n",
      "Updating files:  69% (6482/9393)\n",
      "Updating files:  70% (6576/9393)\n",
      "Updating files:  71% (6670/9393)\n",
      "Updating files:  72% (6763/9393)\n",
      "Updating files:  73% (6857/9393)\n",
      "Updating files:  74% (6951/9393)\n",
      "Updating files:  75% (7045/9393)\n",
      "Updating files:  76% (7139/9393)\n",
      "Updating files:  77% (7233/9393)\n",
      "Updating files:  78% (7327/9393)\n",
      "Updating files:  79% (7421/9393)\n",
      "Updating files:  80% (7515/9393)\n",
      "Updating files:  81% (7609/9393)\n",
      "Updating files:  82% (7703/9393)\n",
      "Updating files:  83% (7797/9393)\n",
      "Updating files:  84% (7891/9393)\n",
      "Updating files:  85% (7985/9393)\n",
      "Updating files:  86% (8078/9393)\n",
      "Updating files:  87% (8172/9393)\n",
      "Updating files:  87% (8224/9393)\n",
      "Updating files:  88% (8266/9393)\n",
      "Updating files:  89% (8360/9393)\n",
      "Updating files:  90% (8454/9393)\n",
      "Updating files:  91% (8548/9393)\n",
      "Updating files:  92% (8642/9393)\n",
      "Updating files:  93% (8736/9393)\n",
      "Updating files:  94% (8830/9393)\n",
      "Updating files:  95% (8924/9393)\n",
      "Updating files:  96% (9018/9393)\n",
      "Updating files:  97% (9112/9393)\n",
      "Updating files:  98% (9206/9393)\n",
      "Updating files:  98% (9292/9393)\n",
      "Updating files:  99% (9300/9393)\n",
      "Updating files: 100% (9393/9393)\n",
      "Updating files: 100% (9393/9393), done.\n"
     ]
    }
   ],
   "source": [
    "!git clone -b v1.42.0 https://github.com/grpc/grpc"
   ]
  },
  {
   "cell_type": "code",
   "execution_count": 5,
   "id": "e63d1db0-d86c-4a4d-a8f5-2b5f48ee8052",
   "metadata": {},
   "outputs": [],
   "source": [
    "!cd grpc/examples/python/helloworld"
   ]
  },
  {
   "cell_type": "code",
   "execution_count": null,
   "id": "ca025a96-165c-4634-a2a0-cc3bfce26b6a",
   "metadata": {},
   "outputs": [],
   "source": [
    "# in jupyter lab console start two scripts:\n",
    "#python greeter_server.py\n",
    "#python greeter_client.py"
   ]
  },
  {
   "cell_type": "code",
   "execution_count": 1,
   "id": "0779858d-5b31-4e64-957c-fe2a4a8f4923",
   "metadata": {},
   "outputs": [
    {
     "ename": "ModuleNotFoundError",
     "evalue": "No module named 'helloworld_pb2'",
     "output_type": "error",
     "traceback": [
      "\u001b[1;31m---------------------------------------------------------------------------\u001b[0m",
      "\u001b[1;31mModuleNotFoundError\u001b[0m                       Traceback (most recent call last)",
      "\u001b[1;32m~\\AppData\\Local\\Temp/ipykernel_11700/2231068177.py\u001b[0m in \u001b[0;36m<module>\u001b[1;34m\u001b[0m\n\u001b[0;32m      6\u001b[0m \u001b[1;33m\u001b[0m\u001b[0m\n\u001b[0;32m      7\u001b[0m \u001b[1;32mimport\u001b[0m \u001b[0mgrpc\u001b[0m\u001b[1;33m\u001b[0m\u001b[1;33m\u001b[0m\u001b[0m\n\u001b[1;32m----> 8\u001b[1;33m \u001b[1;32mimport\u001b[0m \u001b[0mhelloworld_pb2\u001b[0m\u001b[1;33m\u001b[0m\u001b[1;33m\u001b[0m\u001b[0m\n\u001b[0m\u001b[0;32m      9\u001b[0m \u001b[1;32mimport\u001b[0m \u001b[0mhelloworld_pb2_grpc\u001b[0m\u001b[1;33m\u001b[0m\u001b[1;33m\u001b[0m\u001b[0m\n\u001b[0;32m     10\u001b[0m \u001b[1;33m\u001b[0m\u001b[0m\n",
      "\u001b[1;31mModuleNotFoundError\u001b[0m: No module named 'helloworld_pb2'"
     ]
    }
   ],
   "source": [
    "\"\"\"The Python implementation of the GRPC helloworld.Greeter client.\"\"\"\n",
    "\n",
    "from __future__ import print_function\n",
    "\n",
    "import logging\n",
    "\n",
    "import grpc\n",
    "import helloworld_pb2\n",
    "import helloworld_pb2_grpc\n",
    "\n",
    "def run():\n",
    "    # NOTE(gRPC Python Team): .close() is possible on a channel and should be\n",
    "    # used in circumstances in which the with statement does not fit the needs\n",
    "    # of the code.\n",
    "    with grpc.insecure_channel('localhost:50051') as channel:\n",
    "        stub = helloworld_pb2_grpc.GreeterStub(channel)\n",
    "        response = stub.SayHello(helloworld_pb2.HelloRequest(name='you'))\n",
    "    print(\"Greeter client received: \" + response.message)\n",
    "\n",
    "\n",
    "if __name__ == '__main__':\n",
    "    logging.basicConfig()\n",
    "    run()"
   ]
  },
  {
   "cell_type": "code",
   "execution_count": 2,
   "id": "86c7a3a8-4f69-485f-be4d-83c10f178415",
   "metadata": {},
   "outputs": [
    {
     "ename": "ModuleNotFoundError",
     "evalue": "No module named 'helloworld_pb2'",
     "output_type": "error",
     "traceback": [
      "\u001b[1;31m---------------------------------------------------------------------------\u001b[0m",
      "\u001b[1;31mModuleNotFoundError\u001b[0m                       Traceback (most recent call last)",
      "\u001b[1;32m~\\AppData\\Local\\Temp/ipykernel_11700/4197793151.py\u001b[0m in \u001b[0;36m<module>\u001b[1;34m\u001b[0m\n\u001b[0;32m      5\u001b[0m \u001b[1;33m\u001b[0m\u001b[0m\n\u001b[0;32m      6\u001b[0m \u001b[1;32mimport\u001b[0m \u001b[0mgrpc\u001b[0m\u001b[1;33m\u001b[0m\u001b[1;33m\u001b[0m\u001b[0m\n\u001b[1;32m----> 7\u001b[1;33m \u001b[1;32mimport\u001b[0m \u001b[0mhelloworld_pb2\u001b[0m\u001b[1;33m\u001b[0m\u001b[1;33m\u001b[0m\u001b[0m\n\u001b[0m\u001b[0;32m      8\u001b[0m \u001b[1;32mimport\u001b[0m \u001b[0mhelloworld_pb2_grpc\u001b[0m\u001b[1;33m\u001b[0m\u001b[1;33m\u001b[0m\u001b[0m\n\u001b[0;32m      9\u001b[0m \u001b[1;33m\u001b[0m\u001b[0m\n",
      "\u001b[1;31mModuleNotFoundError\u001b[0m: No module named 'helloworld_pb2'"
     ]
    }
   ],
   "source": [
    "\"\"\"The Python implementation of the GRPC helloworld.Greeter server.\"\"\"\n",
    "\n",
    "from concurrent import futures\n",
    "import logging\n",
    "\n",
    "import grpc\n",
    "import helloworld_pb2\n",
    "import helloworld_pb2_grpc\n",
    "\n",
    "\n",
    "class Greeter(helloworld_pb2_grpc.GreeterServicer):\n",
    "\n",
    "    def SayHello(self, request, context):\n",
    "        return helloworld_pb2.HelloReply(message='Hello, %s!' % request.name)\n",
    "\n",
    "def serve():\n",
    "    server = grpc.server(futures.ThreadPoolExecutor(max_workers=10))\n",
    "    helloworld_pb2_grpc.add_GreeterServicer_to_server(Greeter(), server)\n",
    "    server.add_insecure_port('[::]:50051')\n",
    "    server.start()\n",
    "    server.wait_for_termination()\n",
    "\n",
    "\n",
    "if __name__ == '__main__':\n",
    "    logging.basicConfig()\n",
    "    serve()"
   ]
  },
  {
   "cell_type": "code",
   "execution_count": null,
   "id": "b30bc50b-739f-42a6-a5bb-c19af67870ab",
   "metadata": {},
   "outputs": [],
   "source": []
  },
  {
   "cell_type": "code",
   "execution_count": null,
   "id": "b5b83817-026b-4b65-9f1c-b249c1b1404d",
   "metadata": {},
   "outputs": [],
   "source": [
    "# makes uses of a .proto file as Interface Description Language\n",
    "\n",
    "// The greeting service definition.\n",
    "service Greeter {\n",
    "  // Sends a greeting\n",
    "  rpc SayHello (HelloRequest) returns (HelloReply) {}\n",
    "  // Sends another greeting\n",
    "  rpc SayHelloAgain (HelloRequest) returns (HelloReply) {}\n",
    "}\n",
    "\n",
    "// The request message containing the user's name.\n",
    "message HelloRequest {\n",
    "  string name = 1;\n",
    "}\n",
    "\n",
    "// The response message containing the greetings\n",
    "message HelloReply {\n",
    "  string message = 1;\n",
    "}"
   ]
  }
 ],
 "metadata": {
  "kernelspec": {
   "display_name": "Python 3 (ipykernel)",
   "language": "python",
   "name": "python3"
  },
  "language_info": {
   "codemirror_mode": {
    "name": "ipython",
    "version": 3
   },
   "file_extension": ".py",
   "mimetype": "text/x-python",
   "name": "python",
   "nbconvert_exporter": "python",
   "pygments_lexer": "ipython3",
   "version": "3.8.5"
  }
 },
 "nbformat": 4,
 "nbformat_minor": 5
}
