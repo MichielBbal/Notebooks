{
 "cells": [
  {
   "cell_type": "markdown",
   "id": "dd60fdbe",
   "metadata": {},
   "source": [
    "# 4.11 Zeep is a Python SOAP client\n",
    "\n",
    "### Documentation\n",
    "https://docs.python-zeep.org/en/master/index.html\n",
    "https://github.com/mvantellingen/python-zeep\n",
    "\n",
    "### Content\n",
    "- 0. Install packages\n",
    "- 1. Dummy example\n",
    "- 2. Calculator example\n",
    "- 3. Echte voorbeelden de Alliantie"
   ]
  },
  {
   "cell_type": "markdown",
   "id": "d2552eb6",
   "metadata": {},
   "source": [
    "## 0. Install packages"
   ]
  },
  {
   "cell_type": "code",
   "execution_count": 7,
   "id": "b82f1875",
   "metadata": {},
   "outputs": [
    {
     "name": "stdout",
     "output_type": "stream",
     "text": [
      "Requirement already satisfied: zeep==4.0.0 in c:\\users\\31653\\anaconda3\\lib\\site-packages (4.0.0)\n",
      "Requirement already satisfied: requests-toolbelt>=0.7.1 in c:\\users\\31653\\anaconda3\\lib\\site-packages (from zeep==4.0.0) (0.9.1)\n",
      "Requirement already satisfied: defusedxml>=0.4.1 in c:\\users\\31653\\anaconda3\\lib\\site-packages (from zeep==4.0.0) (0.7.1)\n",
      "Requirement already satisfied: requests>=2.7.0 in c:\\users\\31653\\anaconda3\\lib\\site-packages (from zeep==4.0.0) (2.26.0)\n",
      "Requirement already satisfied: lxml>=3.1.0 in c:\\users\\31653\\anaconda3\\lib\\site-packages (from zeep==4.0.0) (4.6.3)\n",
      "Requirement already satisfied: appdirs>=1.4.0 in c:\\users\\31653\\appdata\\roaming\\python\\python38\\site-packages (from zeep==4.0.0) (1.4.4)\n",
      "Requirement already satisfied: attrs>=17.2.0 in c:\\users\\31653\\anaconda3\\lib\\site-packages (from zeep==4.0.0) (21.2.0)\n",
      "Requirement already satisfied: pytz in c:\\users\\31653\\anaconda3\\lib\\site-packages (from zeep==4.0.0) (2021.3)\n",
      "Requirement already satisfied: isodate>=0.5.4 in c:\\users\\31653\\anaconda3\\lib\\site-packages (from zeep==4.0.0) (0.6.1)\n",
      "Requirement already satisfied: requests-file>=1.5.1 in c:\\users\\31653\\anaconda3\\lib\\site-packages (from zeep==4.0.0) (1.5.1)\n",
      "Requirement already satisfied: cached-property>=1.3.0 in c:\\users\\31653\\anaconda3\\lib\\site-packages (from zeep==4.0.0) (1.5.2)\n",
      "Requirement already satisfied: six in c:\\users\\31653\\anaconda3\\lib\\site-packages (from isodate>=0.5.4->zeep==4.0.0) (1.16.0)\n",
      "Requirement already satisfied: idna<4,>=2.5 in c:\\users\\31653\\anaconda3\\lib\\site-packages (from requests>=2.7.0->zeep==4.0.0) (3.1)\n",
      "Requirement already satisfied: certifi>=2017.4.17 in c:\\users\\31653\\anaconda3\\lib\\site-packages (from requests>=2.7.0->zeep==4.0.0) (2021.10.8)\n",
      "Requirement already satisfied: charset-normalizer~=2.0.0 in c:\\users\\31653\\anaconda3\\lib\\site-packages (from requests>=2.7.0->zeep==4.0.0) (2.0.0)\n",
      "Requirement already satisfied: urllib3<1.27,>=1.21.1 in c:\\users\\31653\\anaconda3\\lib\\site-packages (from requests>=2.7.0->zeep==4.0.0) (1.26.7)\n"
     ]
    }
   ],
   "source": [
    "!pip install zeep==4.0.0"
   ]
  },
  {
   "cell_type": "markdown",
   "id": "b81cd035",
   "metadata": {},
   "source": [
    "## 1. Dummies"
   ]
  },
  {
   "cell_type": "code",
   "execution_count": 10,
   "id": "244e4380",
   "metadata": {},
   "outputs": [
    {
     "name": "stdout",
     "output_type": "stream",
     "text": [
      "Your input parameters are Zeep and is cool\n"
     ]
    }
   ],
   "source": [
    "# source: https://python.plainenglish.io/work-with-wsdl-files-using-python-and-zeep-2948e9918c29\n",
    "from zeep import Client\n",
    "\n",
    "wsdl = 'http://www.soapclient.com/xml/soapresponder.wsdl'\n",
    "client = Client(wsdl=wsdl)\n",
    "my_result = client.service.Method1('Zeep', 'is cool')\n",
    "print(my_result)"
   ]
  },
  {
   "cell_type": "code",
   "execution_count": 56,
   "id": "0dbc5d0e",
   "metadata": {},
   "outputs": [],
   "source": [
    "# uncomment if you want to see it in action\n",
    "#!python -mzeep http://www.soapclient.com/xml/soapresponder.wsdl"
   ]
  },
  {
   "cell_type": "code",
   "execution_count": 60,
   "id": "78a1c12d",
   "metadata": {},
   "outputs": [
    {
     "name": "stdout",
     "output_type": "stream",
     "text": [
      "<zeep.client.Client object at 0x0000020988F9D400>\n"
     ]
    }
   ],
   "source": [
    "from zeep import Client\n",
    "wsdl = \"https://wsvc.cdiscount.com/MarketplaceAPIService.svc?wsdl\"\n",
    "client = Client(wsdl)\n",
    "print(client)"
   ]
  },
  {
   "cell_type": "code",
   "execution_count": null,
   "id": "421fb121",
   "metadata": {},
   "outputs": [],
   "source": []
  },
  {
   "cell_type": "code",
   "execution_count": 66,
   "id": "8d20edba",
   "metadata": {},
   "outputs": [],
   "source": [
    "#dir(client)"
   ]
  },
  {
   "cell_type": "code",
   "execution_count": 68,
   "id": "08138433",
   "metadata": {},
   "outputs": [
    {
     "data": {
      "text/plain": [
       "['CloseDiscussionList',\n",
       " 'CreateExternalOrder',\n",
       " 'CreateRefundVoucher',\n",
       " 'CreateRefundVoucherAfterShipment',\n",
       " 'GenerateDiscussionMailGuid',\n",
       " 'GetAllAllowedCategoryTree',\n",
       " 'GetAllModelList',\n",
       " 'GetAllowedCategoryTree',\n",
       " 'GetBrandList',\n",
       " 'GetCompetingOfferChanges',\n",
       " 'GetCompetingOffers',\n",
       " 'GetDiscussionList',\n",
       " 'GetDiscussionMailList',\n",
       " 'GetExternalOrderStatus',\n",
       " 'GetFulfilmentActivationReportList',\n",
       " 'GetFulfilmentDeliveryDocument',\n",
       " 'GetFulfilmentOrderListToSupply',\n",
       " 'GetFulfilmentSupplyOrder',\n",
       " 'GetFulfilmentSupplyOrderReportList',\n",
       " 'GetGlobalConfiguration',\n",
       " 'GetModelList',\n",
       " 'GetOfferList',\n",
       " 'GetOfferListPaginated',\n",
       " 'GetOfferPackageSubmissionResult',\n",
       " 'GetOfferQuestionList',\n",
       " 'GetOrderClaimList',\n",
       " 'GetOrderList',\n",
       " 'GetOrderQuestionList',\n",
       " 'GetParcelShopList',\n",
       " 'GetProductList',\n",
       " 'GetProductListByIdentifier',\n",
       " 'GetProductPackageProductMatchingFileData',\n",
       " 'GetProductPackageSubmissionResult',\n",
       " 'GetProductStockList',\n",
       " 'GetRelaysFileSubmissionResult',\n",
       " 'GetSellerDeals',\n",
       " 'GetSellerIndicators',\n",
       " 'GetSellerInformation',\n",
       " 'GetServiceOrderList',\n",
       " 'ManageParcel',\n",
       " 'SubmitFulfilmentActivation',\n",
       " 'SubmitFulfilmentOnDemandSupplyOrder',\n",
       " 'SubmitFulfilmentSupplyOrder',\n",
       " 'SubmitOfferPackage',\n",
       " 'SubmitOfferStateAction',\n",
       " 'SubmitProductPackage',\n",
       " 'SubmitRelaysFile',\n",
       " 'ValidateOrderList',\n",
       " '__class__',\n",
       " '__delattr__',\n",
       " '__dir__',\n",
       " '__doc__',\n",
       " '__eq__',\n",
       " '__format__',\n",
       " '__ge__',\n",
       " '__get__',\n",
       " '__getattribute__',\n",
       " '__gt__',\n",
       " '__hash__',\n",
       " '__init__',\n",
       " '__init_subclass__',\n",
       " '__le__',\n",
       " '__lt__',\n",
       " '__ne__',\n",
       " '__new__',\n",
       " '__reduce__',\n",
       " '__reduce_ex__',\n",
       " '__repr__',\n",
       " '__self__',\n",
       " '__self_class__',\n",
       " '__setattr__',\n",
       " '__sizeof__',\n",
       " '__str__',\n",
       " '__subclasshook__',\n",
       " '__thisclass__']"
      ]
     },
     "execution_count": 68,
     "metadata": {},
     "output_type": "execute_result"
    }
   ],
   "source": [
    "dir(client.service)"
   ]
  },
  {
   "cell_type": "code",
   "execution_count": 70,
   "id": "dd98a5bf",
   "metadata": {},
   "outputs": [],
   "source": [
    "# Not working\n",
    "# source: https://docs.python-zeep.org/en/master/client.html#creating-the-raw-xml-documents\n",
    "from zeep import Client\n",
    "\n",
    "client = Client('https://wsvc.cdiscount.com/MarketplaceAPIService.svc?wsdl')\n",
    "node = client.create_message(client.service, 'GetModelList')"
   ]
  },
  {
   "cell_type": "code",
   "execution_count": 77,
   "id": "7d62032e",
   "metadata": {},
   "outputs": [
    {
     "name": "stdout",
     "output_type": "stream",
     "text": [
      "<Element {http://schemas.xmlsoap.org/soap/envelope/}Envelope at 0x20988d6d2c0>\n"
     ]
    },
    {
     "data": {
      "text/plain": [
       "lxml.etree._Element"
      ]
     },
     "execution_count": 77,
     "metadata": {},
     "output_type": "execute_result"
    }
   ],
   "source": [
    "print(node)\n",
    "type(node)"
   ]
  },
  {
   "cell_type": "code",
   "execution_count": 75,
   "id": "c3169857",
   "metadata": {},
   "outputs": [
    {
     "data": {
      "text/plain": [
       "<bound method _Element.xpath of <Element {http://schemas.xmlsoap.org/soap/envelope/}Envelope at 0x20988d6d2c0>>"
      ]
     },
     "execution_count": 75,
     "metadata": {},
     "output_type": "execute_result"
    }
   ],
   "source": [
    "node.xpath"
   ]
  },
  {
   "cell_type": "code",
   "execution_count": 79,
   "id": "6abd250f",
   "metadata": {},
   "outputs": [
    {
     "name": "stdout",
     "output_type": "stream",
     "text": [
      "['__bool__', '__class__', '__contains__', '__copy__', '__deepcopy__', '__delattr__', '__delitem__', '__dir__', '__doc__', '__eq__', '__format__', '__ge__', '__getattribute__', '__getitem__', '__gt__', '__hash__', '__init__', '__init_subclass__', '__iter__', '__le__', '__len__', '__lt__', '__ne__', '__new__', '__reduce__', '__reduce_ex__', '__repr__', '__reversed__', '__setattr__', '__setitem__', '__sizeof__', '__str__', '__subclasshook__', '_init', 'addnext', 'addprevious', 'append', 'attrib', 'base', 'clear', 'cssselect', 'extend', 'find', 'findall', 'findtext', 'get', 'getchildren', 'getiterator', 'getnext', 'getparent', 'getprevious', 'getroottree', 'index', 'insert', 'items', 'iter', 'iterancestors', 'iterchildren', 'iterdescendants', 'iterfind', 'itersiblings', 'itertext', 'keys', 'makeelement', 'nsmap', 'prefix', 'remove', 'replace', 'set', 'sourceline', 'tag', 'tail', 'text', 'values', 'xpath']\n"
     ]
    }
   ],
   "source": [
    "print(dir(node))"
   ]
  },
  {
   "cell_type": "code",
   "execution_count": 83,
   "id": "3929bfe4",
   "metadata": {},
   "outputs": [
    {
     "data": {
      "text/plain": [
       "<bound method _Element.keys of <Element {http://schemas.xmlsoap.org/soap/envelope/}Envelope at 0x20988d6d2c0>>"
      ]
     },
     "execution_count": 83,
     "metadata": {},
     "output_type": "execute_result"
    }
   ],
   "source": [
    "node.keys"
   ]
  },
  {
   "cell_type": "markdown",
   "id": "78b7eeb9",
   "metadata": {},
   "source": [
    "## 2. Calculator example:\n",
    "\n",
    "http://www.dneonline.com/calculator.asmx"
   ]
  },
  {
   "cell_type": "code",
   "execution_count": 9,
   "id": "46ed9a85",
   "metadata": {},
   "outputs": [
    {
     "name": "stdout",
     "output_type": "stream",
     "text": [
      "25\n"
     ]
    }
   ],
   "source": [
    "from zeep import Client\n",
    "\n",
    "client =Client(wsdl='http://www.dneonline.com/calculator.asmx?wsdl')\n",
    "print(client.service.Add(12,13))"
   ]
  },
  {
   "cell_type": "code",
   "execution_count": 10,
   "id": "337d6237",
   "metadata": {},
   "outputs": [],
   "source": [
    "#!python -mzeep http://www.dneonline.com/calculator.asmx?wsdl"
   ]
  },
  {
   "cell_type": "code",
   "execution_count": 11,
   "id": "ed107bd5",
   "metadata": {},
   "outputs": [
    {
     "data": {
      "text/plain": [
       "<zeep.client.Client at 0x2098665ee80>"
      ]
     },
     "execution_count": 11,
     "metadata": {},
     "output_type": "execute_result"
    }
   ],
   "source": [
    "from zeep import Client, Settings\n",
    "\n",
    "settings = Settings(strict=False, xml_huge_tree=True)\n",
    "client = Client('http://www.dneonline.com/calculator.asmx?wsdl', settings=settings)\n",
    "client"
   ]
  },
  {
   "cell_type": "code",
   "execution_count": 12,
   "id": "d3d70de4",
   "metadata": {},
   "outputs": [
    {
     "name": "stdout",
     "output_type": "stream",
     "text": [
      "b'<?xml version=\"1.0\" encoding=\"utf-8\"?><soap:Envelope xmlns:soap=\"http://schemas.xmlsoap.org/soap/envelope/\" xmlns:xsi=\"http://www.w3.org/2001/XMLSchema-instance\" xmlns:xsd=\"http://www.w3.org/2001/XMLSchema\"><soap:Body><AddResponse xmlns=\"http://tempuri.org/\"><AddResult>26</AddResult></AddResponse></soap:Body></soap:Envelope>'\n"
     ]
    }
   ],
   "source": [
    "#https://docs.python-zeep.org/en/master/settings.html#settings\n",
    "with client.settings(raw_response=True):\n",
    "    response = client.service.Add(12,14)\n",
    "print(response.content)"
   ]
  },
  {
   "cell_type": "code",
   "execution_count": 30,
   "id": "bef5549e",
   "metadata": {},
   "outputs": [
    {
     "data": {
      "text/plain": [
       "b'<?xml version=\"1.0\" encoding=\"utf-8\"?><soap:Envelope xmlns:soap=\"http://schemas.xmlsoap.org/soap/envelope/\" xmlns:xsi=\"http://www.w3.org/2001/XMLSchema-instance\" xmlns:xsd=\"http://www.w3.org/2001/XMLSchema\"><soap:Body><AddResponse xmlns=\"http://tempuri.org/\"><AddResult>26</AddResult></AddResponse></soap:Body></soap:Envelope>'"
      ]
     },
     "execution_count": 30,
     "metadata": {},
     "output_type": "execute_result"
    }
   ],
   "source": [
    "my_response = response.content\n",
    "my_response"
   ]
  },
  {
   "cell_type": "code",
   "execution_count": null,
   "id": "1ba7cd80",
   "metadata": {},
   "outputs": [],
   "source": []
  },
  {
   "cell_type": "code",
   "execution_count": 43,
   "id": "2713bd0b",
   "metadata": {},
   "outputs": [
    {
     "data": {
      "text/plain": [
       "{}"
      ]
     },
     "execution_count": 43,
     "metadata": {},
     "output_type": "execute_result"
    }
   ],
   "source": [
    "response.links"
   ]
  },
  {
   "cell_type": "code",
   "execution_count": 13,
   "id": "6ed9c334",
   "metadata": {},
   "outputs": [
    {
     "name": "stdout",
     "output_type": "stream",
     "text": [
      "service : SoapResponder\n",
      " method : Method1\n",
      "  input : bstrParam1: xsd:string, bstrParam2: xsd:string\n",
      " output : bstrReturn: xsd:string\n"
     ]
    }
   ],
   "source": [
    "#https://stackoverflow.com/questions/44885439/parse-wsdl-with-zeep\n",
    "import operator\n",
    "from zeep import Client\n",
    "\n",
    "wsdl = 'http://www.soapclient.com/xml/soapresponder.wsdl'\n",
    "client = Client(wsdl=wsdl)\n",
    "for service in client.wsdl.services.values():\n",
    "    print(\"service :\", service.name)\n",
    "    for port in service.ports.values():\n",
    "        operations = sorted(\n",
    "            port.binding._operations.values(),\n",
    "            key=operator.attrgetter('name'))\n",
    "\n",
    "        for operation in operations:\n",
    "            print(\" method :\", operation.name)\n",
    "            print(\"  input :\", operation.input.signature())\n",
    "            print(\" output :\", operation.output.signature())"
   ]
  },
  {
   "cell_type": "code",
   "execution_count": 14,
   "id": "090bc4e1",
   "metadata": {},
   "outputs": [],
   "source": [
    "#dir(service)"
   ]
  },
  {
   "cell_type": "code",
   "execution_count": 15,
   "id": "2659c585",
   "metadata": {},
   "outputs": [
    {
     "data": {
      "text/plain": [
       "('bstrParam2',\n",
       " <Element(name='bstrParam2', type=<zeep.xsd.types.builtins.String object at 0x000002098669D2E0>)>)"
      ]
     },
     "execution_count": 15,
     "metadata": {},
     "output_type": "execute_result"
    }
   ],
   "source": [
    "operation.input.body.type.elements[1]"
   ]
  },
  {
   "cell_type": "code",
   "execution_count": 16,
   "id": "1e85125c",
   "metadata": {},
   "outputs": [],
   "source": [
    "#dir(operation.input.body.parse_xmlelements)"
   ]
  },
  {
   "cell_type": "code",
   "execution_count": 17,
   "id": "bcd40366",
   "metadata": {},
   "outputs": [
    {
     "data": {
      "text/plain": [
       "'Method1'"
      ]
     },
     "execution_count": 17,
     "metadata": {},
     "output_type": "execute_result"
    }
   ],
   "source": [
    "operation.name"
   ]
  },
  {
   "cell_type": "markdown",
   "id": "07f0421e",
   "metadata": {},
   "source": [
    "### More examples"
   ]
  },
  {
   "cell_type": "code",
   "execution_count": null,
   "id": "3503ca13",
   "metadata": {},
   "outputs": [],
   "source": []
  },
  {
   "cell_type": "code",
   "execution_count": 2,
   "id": "6ae5af1b",
   "metadata": {},
   "outputs": [
    {
     "name": "stdout",
     "output_type": "stream",
     "text": [
      "Phone Code for IN is 91\n",
      "Phone Code for US is 1\n",
      "1\n"
     ]
    }
   ],
   "source": [
    "#https://www.geeksforgeeks.org/making-soap-api-calls-using-python/\n",
    "import zeep\n",
    "  \n",
    "# set the WSDL URL\n",
    "wsdl_url = \"http://webservices.oorsprong.org/websamples.countryinfo/CountryInfoService.wso?WSDL\"\n",
    "  \n",
    "# set method URL\n",
    "method_url = \"http://webservices.oorsprong.org/websamples.countryinfo/CountryIntPhoneCode\"\n",
    "  \n",
    "# set service URL\n",
    "service_url = \"http://webservices.oorsprong.org/websamples.countryinfo/CountryInfoService.wso\"\n",
    "  \n",
    "# create the header element\n",
    "header = zeep.xsd.Element(\n",
    "    \"Header\",\n",
    "    zeep.xsd.ComplexType(\n",
    "        [\n",
    "            zeep.xsd.Element(\n",
    "                \"{http://www.w3.org/2005/08/addressing}Action\", zeep.xsd.String()\n",
    "            ),\n",
    "            zeep.xsd.Element(\n",
    "                \"{http://www.w3.org/2005/08/addressing}To\", zeep.xsd.String()\n",
    "            ),\n",
    "        ]\n",
    "    ),\n",
    ")\n",
    "# set the header value from header element\n",
    "header_value = header(Action=method_url, To=service_url)\n",
    "  \n",
    "# initialize zeep client\n",
    "client = zeep.Client(wsdl=wsdl_url)\n",
    "  \n",
    "# set country code for India\n",
    "country_code = \"IN\"\n",
    "  \n",
    "# make the service call\n",
    "result = client.service.CountryIntPhoneCode(\n",
    "    sCountryISOCode=country_code,\n",
    "    _soapheaders=[header_value]\n",
    ")\n",
    "# print the result\n",
    "print(f\"Phone Code for {country_code} is {result}\")\n",
    "  \n",
    "# set country code for United States\n",
    "country_code = \"US\"\n",
    "  \n",
    "# make the service call\n",
    "result = client.service.CountryIntPhoneCode(\n",
    "    sCountryISOCode=country_code,\n",
    "    _soapheaders=[header_value]\n",
    ")\n",
    "  \n",
    "# print the result\n",
    "print(f\"Phone Code for {country_code} is {result}\")\n",
    "print(result)"
   ]
  },
  {
   "cell_type": "code",
   "execution_count": null,
   "id": "8cfc2836",
   "metadata": {},
   "outputs": [],
   "source": []
  },
  {
   "cell_type": "code",
   "execution_count": null,
   "id": "a660a6ce",
   "metadata": {},
   "outputs": [],
   "source": []
  },
  {
   "cell_type": "code",
   "execution_count": null,
   "id": "32650cc2",
   "metadata": {},
   "outputs": [],
   "source": []
  }
 ],
 "metadata": {
  "kernelspec": {
   "display_name": "Python 3 (ipykernel)",
   "language": "python",
   "name": "python3"
  },
  "language_info": {
   "codemirror_mode": {
    "name": "ipython",
    "version": 3
   },
   "file_extension": ".py",
   "mimetype": "text/x-python",
   "name": "python",
   "nbconvert_exporter": "python",
   "pygments_lexer": "ipython3",
   "version": "3.8.5"
  }
 },
 "nbformat": 4,
 "nbformat_minor": 5
}
