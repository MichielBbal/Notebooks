{
 "cells": [
  {
   "cell_type": "markdown",
   "metadata": {},
   "source": [
    "# Connect with your iphone with: pyicloud library\n",
    "\n",
    "Source: https://github.com/picklepete/pyicloud\n",
    "\n",
    "To do:\n",
    "\n",
    "- [ ] password\n",
    "- [ ] weer op kaart\n",
    "- [ ] kaart op folium of leaflet\n"
   ]
  },
  {
   "cell_type": "code",
   "execution_count": 1,
   "metadata": {},
   "outputs": [
    {
     "name": "stdout",
     "output_type": "stream",
     "text": [
      "Collecting pyicloud\n",
      "  Downloading pyicloud-0.9.7-py3-none-any.whl (26 kB)\n",
      "Requirement already satisfied: click<=7.1.1,>=6.0 in c:\\users\\michielbontenbal\\anaconda3\\lib\\site-packages (from pyicloud) (7.0)\n",
      "Requirement already satisfied: pytz>=2019.3 in c:\\users\\michielbontenbal\\anaconda3\\lib\\site-packages (from pyicloud) (2019.3)\n",
      "Collecting tzlocal==2.0.0\n",
      "  Downloading tzlocal-2.0.0-py2.py3-none-any.whl (15 kB)\n",
      "Requirement already satisfied: certifi>=2019.11.28 in c:\\users\\michielbontenbal\\anaconda3\\lib\\site-packages (from pyicloud) (2019.11.28)\n",
      "Collecting keyring<=9.3.1,>=8.0\n",
      "  Downloading keyring-9.3.1-py2.py3-none-any.whl (35 kB)\n",
      "Requirement already satisfied: future>=0.18.2 in c:\\users\\michielbontenbal\\anaconda3\\lib\\site-packages (from pyicloud) (0.18.2)\n",
      "Requirement already satisfied: six>=1.14.0 in c:\\users\\michielbontenbal\\anaconda3\\lib\\site-packages (from pyicloud) (1.14.0)\n",
      "Requirement already satisfied: requests>=2.20.0 in c:\\users\\michielbontenbal\\anaconda3\\lib\\site-packages (from pyicloud) (2.22.0)\n",
      "Collecting keyrings.alt<=3.2.0,>=1.0\n",
      "  Downloading keyrings.alt-3.2.0-py2.py3-none-any.whl (20 kB)\n",
      "Requirement already satisfied: pywin32-ctypes; sys_platform == \"win32\" in c:\\users\\michielbontenbal\\anaconda3\\lib\\site-packages (from keyring<=9.3.1,>=8.0->pyicloud) (0.2.0)\n",
      "Requirement already satisfied: chardet<3.1.0,>=3.0.2 in c:\\users\\michielbontenbal\\anaconda3\\lib\\site-packages (from requests>=2.20.0->pyicloud) (3.0.4)\n",
      "Requirement already satisfied: urllib3!=1.25.0,!=1.25.1,<1.26,>=1.21.1 in c:\\users\\michielbontenbal\\anaconda3\\lib\\site-packages (from requests>=2.20.0->pyicloud) (1.25.8)\n",
      "Requirement already satisfied: idna<2.9,>=2.5 in c:\\users\\michielbontenbal\\anaconda3\\lib\\site-packages (from requests>=2.20.0->pyicloud) (2.8)\n",
      "Installing collected packages: tzlocal, keyring, keyrings.alt, pyicloud\n",
      "  Attempting uninstall: keyring\n",
      "    Found existing installation: keyring 21.1.0\n",
      "    Uninstalling keyring-21.1.0:\n",
      "      Successfully uninstalled keyring-21.1.0\n",
      "Successfully installed keyring-9.3.1 keyrings.alt-3.2.0 pyicloud-0.9.7 tzlocal-2.0.0\n"
     ]
    },
    {
     "name": "stderr",
     "output_type": "stream",
     "text": [
      "ERROR: spyder 4.0.1 requires pyqt5<5.13; python_version >= \"3\", which is not installed.\n",
      "ERROR: spyder 4.0.1 requires pyqtwebengine<5.13; python_version >= \"3\", which is not installed.\n"
     ]
    }
   ],
   "source": [
    "#https://pypi.org/project/pyicloud/\n",
    "!pip install pyicloud"
   ]
  },
  {
   "cell_type": "code",
   "execution_count": 39,
   "metadata": {},
   "outputs": [],
   "source": [
    "from pyicloud import PyiCloudService\n",
    "api = PyiCloudService('michiel.bontenbal@gmail.com', 'XXX')#insert password here pw=TQLVM2020"
   ]
  },
  {
   "cell_type": "code",
   "execution_count": 40,
   "metadata": {},
   "outputs": [],
   "source": [
    "if api.requires_2sa:\n",
    "    import click\n",
    "    print(\"Two-step authentication required. Your trusted devices are:\")\n",
    "    \n",
    "    devices = api.trusted_devices\n",
    "    for i, device in enumerate(devices):\n",
    "        print(\"  %s: %s\" % (i, device.get('deviceName',\n",
    "            \"SMS to %s\" % device.get('phoneNumber'))))\n",
    "\n",
    "    device = click.prompt('Which device would you like to use?', default=0)\n",
    "    device = devices[device]\n",
    "    if not api.send_verification_code(device):\n",
    "        print(\"Failed to send verification code\")\n",
    "        sys.exit(1)\n",
    "\n",
    "    code = click.prompt('Please enter validation code')\n",
    "    if not api.validate_verification_code(device, code):\n",
    "        print(\"Failed to verify verification code\")\n",
    "        #sys.exit(1)"
   ]
  },
  {
   "cell_type": "code",
   "execution_count": 41,
   "metadata": {},
   "outputs": [
    {
     "data": {
      "text/plain": [
       "{'+aDkYXKcmU0lLneWDYMdtHepZCgOWsAs6hosWbBn7u8XjFbNlcvoxOHYVNSUzmWV': <AppleDevice(iPhone 8: iPhone van Michiel)>, 'OsyWaMyVaAuyKecc7NLKD/rOnc5dXHKvDL9ANfPt33HwRBiksGhZvw==': <AppleDevice(MacBook: MacBook van Michiel Bontenbal)>, 'qVo69iTTg0v43skXzwM0RtdAk/CpeBvFKGsCMZXL5Y8kMZ8jDXDJguHYVNSUzmWV': <AppleDevice(iPad: iPad van Michiel)>, '4z9IMNWydRPGgypp+8x0k5n4iTzz7jLQX/+QiBPpang9pux1wJRXh+HYVNSUzmWV': <AppleDevice(iPhone 6: iPhone van Michiel)>, '0p70iI4AN+HD28zJFWw4tSqdwJB3kqfVdD9QpWw16UIt2izi7ONAHuHYVNSUzmWV': <AppleDevice(iPad: iPad)>, 'zDkk+i2zGw3O2+ZNKdpiEbpUgCBml6VVZgPAmAn3GVqs+X4caWe5a/MJC511r3qLihdSSsKvxhLdY6Nb4ELBSrPR8ecYqzozUp+9T6dAeQHM5Tl2Q/HuweHYVNSUzmWV': <AppleDevice(iPhone 4: iPhone van LAUFFER)>, 'Uk3L6jIpy8MyDOfoy2RLO2itLvIbLnrfucMkwZZ1sEh2SQQ5i83RI6HnQUjRoK19m5OPcN8XMTHdY6Nb4ELBSrPR8ecYqzozUp+9T6dAeQHM5Tl2Q/HuweHYVNSUzmWV': <AppleDevice(iPhone 5s: iPhone van LAUFFER)>}"
      ]
     },
     "execution_count": 41,
     "metadata": {},
     "output_type": "execute_result"
    }
   ],
   "source": [
    "api.devices"
   ]
  },
  {
   "cell_type": "code",
   "execution_count": 5,
   "metadata": {},
   "outputs": [
    {
     "name": "stdout",
     "output_type": "stream",
     "text": [
      "2020-06-23 20:09:18 52.360954965094585 4.862806931114067\n"
     ]
    }
   ],
   "source": [
    "# simple script\n",
    "from datetime import datetime\n",
    "\n",
    "result=api.iphone.location()\n",
    "type(result)\n",
    "result\n",
    "lat = result[\"latitude\"]\n",
    "lon = result['longitude']\n",
    "unixtijd = result['timeStamp']/1000\n",
    "tijd= datetime.fromtimestamp(unixtijd).strftime('%Y-%m-%d %H:%M:%S')\n",
    "\n",
    "print(tijd, lat, lon)\n"
   ]
  },
  {
   "cell_type": "code",
   "execution_count": null,
   "metadata": {},
   "outputs": [],
   "source": []
  },
  {
   "cell_type": "code",
   "execution_count": null,
   "metadata": {},
   "outputs": [],
   "source": []
  },
  {
   "cell_type": "code",
   "execution_count": 6,
   "metadata": {},
   "outputs": [
    {
     "name": "stdout",
     "output_type": "stream",
     "text": [
      "2020-06-23 20:09:39 52.35879795543687 4.8614029344547465\n",
      "2020-06-23 20:09:39 52.35879795543687 4.8614029344547465\n",
      "2020-06-23 20:09:39 52.35879795543687 4.8614029344547465\n",
      "2020-06-23 20:09:39 52.35879795543687 4.8614029344547465\n",
      "2020-06-23 20:09:39 52.35879795543687 4.8614029344547465\n"
     ]
    },
    {
     "ename": "KeyboardInterrupt",
     "evalue": "",
     "output_type": "error",
     "traceback": [
      "\u001b[1;31m---------------------------------------------------------------------------\u001b[0m",
      "\u001b[1;31mKeyboardInterrupt\u001b[0m                         Traceback (most recent call last)",
      "\u001b[1;32m<ipython-input-6-52fe87756d1f>\u001b[0m in \u001b[0;36m<module>\u001b[1;34m\u001b[0m\n\u001b[0;32m      8\u001b[0m     \u001b[0mtijd\u001b[0m\u001b[1;33m=\u001b[0m \u001b[0mdatetime\u001b[0m\u001b[1;33m.\u001b[0m\u001b[0mfromtimestamp\u001b[0m\u001b[1;33m(\u001b[0m\u001b[0munixtijd\u001b[0m\u001b[1;33m)\u001b[0m\u001b[1;33m.\u001b[0m\u001b[0mstrftime\u001b[0m\u001b[1;33m(\u001b[0m\u001b[1;34m'%Y-%m-%d %H:%M:%S'\u001b[0m\u001b[1;33m)\u001b[0m\u001b[1;33m\u001b[0m\u001b[1;33m\u001b[0m\u001b[0m\n\u001b[0;32m      9\u001b[0m     \u001b[0mprint\u001b[0m\u001b[1;33m(\u001b[0m\u001b[0mtijd\u001b[0m\u001b[1;33m,\u001b[0m \u001b[0mlat\u001b[0m\u001b[1;33m,\u001b[0m \u001b[0mlon\u001b[0m\u001b[1;33m)\u001b[0m\u001b[1;33m\u001b[0m\u001b[1;33m\u001b[0m\u001b[0m\n\u001b[1;32m---> 10\u001b[1;33m     \u001b[0msleep\u001b[0m\u001b[1;33m(\u001b[0m\u001b[1;36m3\u001b[0m\u001b[1;33m)\u001b[0m\u001b[1;33m\u001b[0m\u001b[1;33m\u001b[0m\u001b[0m\n\u001b[0m",
      "\u001b[1;31mKeyboardInterrupt\u001b[0m: "
     ]
    }
   ],
   "source": [
    "from time import sleep\n",
    "\n",
    "while True:\n",
    "    result =api.iphone.location()\n",
    "    lat = result[\"latitude\"]\n",
    "    lon = result['longitude']\n",
    "    unixtijd = result['timeStamp']/1000\n",
    "    tijd= datetime.fromtimestamp(unixtijd).strftime('%Y-%m-%d %H:%M:%S')\n",
    "    print(tijd, lat, lon)\n",
    "    sleep(3)"
   ]
  },
  {
   "cell_type": "code",
   "execution_count": 8,
   "metadata": {},
   "outputs": [
    {
     "name": "stdout",
     "output_type": "stream",
     "text": [
      "Collecting folium\n",
      "  Downloading folium-0.11.0-py2.py3-none-any.whl (93 kB)\n",
      "Requirement already satisfied: jinja2>=2.9 in c:\\users\\michielbontenbal\\anaconda3\\lib\\site-packages (from folium) (2.11.1)\n",
      "Collecting branca>=0.3.0\n",
      "  Downloading branca-0.4.1-py3-none-any.whl (24 kB)\n",
      "Requirement already satisfied: numpy in c:\\users\\michielbontenbal\\anaconda3\\lib\\site-packages (from folium) (1.18.1)\n",
      "Requirement already satisfied: requests in c:\\users\\michielbontenbal\\anaconda3\\lib\\site-packages (from folium) (2.22.0)\n",
      "Requirement already satisfied: MarkupSafe>=0.23 in c:\\users\\michielbontenbal\\anaconda3\\lib\\site-packages (from jinja2>=2.9->folium) (1.1.1)\n",
      "Requirement already satisfied: chardet<3.1.0,>=3.0.2 in c:\\users\\michielbontenbal\\anaconda3\\lib\\site-packages (from requests->folium) (3.0.4)\n",
      "Requirement already satisfied: urllib3!=1.25.0,!=1.25.1,<1.26,>=1.21.1 in c:\\users\\michielbontenbal\\anaconda3\\lib\\site-packages (from requests->folium) (1.25.8)\n",
      "Requirement already satisfied: idna<2.9,>=2.5 in c:\\users\\michielbontenbal\\anaconda3\\lib\\site-packages (from requests->folium) (2.8)\n",
      "Requirement already satisfied: certifi>=2017.4.17 in c:\\users\\michielbontenbal\\anaconda3\\lib\\site-packages (from requests->folium) (2019.11.28)\n",
      "Installing collected packages: branca, folium\n",
      "Successfully installed branca-0.4.1 folium-0.11.0\n"
     ]
    }
   ],
   "source": [
    "!pip install folium"
   ]
  },
  {
   "cell_type": "code",
   "execution_count": null,
   "metadata": {},
   "outputs": [],
   "source": []
  },
  {
   "cell_type": "code",
   "execution_count": 7,
   "metadata": {},
   "outputs": [
    {
     "data": {
      "text/html": [
       "<div style=\"width:100%;\"><div style=\"position:relative;width:100%;height:0;padding-bottom:60%;\"><iframe src=\"data:text/html;charset=utf-8;base64,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\" style=\"position:absolute;width:100%;height:100%;left:0;top:0;border:none !important;\" allowfullscreen webkitallowfullscreen mozallowfullscreen></iframe></div></div>"
      ],
      "text/plain": [
       "<folium.folium.Map at 0x13b5b125248>"
      ]
     },
     "execution_count": 7,
     "metadata": {},
     "output_type": "execute_result"
    }
   ],
   "source": [
    "import folium\n",
    "\n",
    "thuis = folium.Map(location=[52.35884645, 4.8615513],\n",
    "                  tiles='Stamen Terrain',\n",
    "                  zoom_start=15,\n",
    "                  detect_retina=True)\n",
    "thuis"
   ]
  },
  {
   "cell_type": "code",
   "execution_count": 22,
   "metadata": {},
   "outputs": [
    {
     "name": "stdout",
     "output_type": "stream",
     "text": [
      "2020-06-18 17:22:24 52.35879962469913 4.86154359815223\n",
      "2020-06-18 17:22:24 52.35879962469913 4.86154359815223\n",
      "2020-06-18 17:23:47 52.35877634582356 4.86168680181458\n",
      "2020-06-18 17:23:47 52.35877634582356 4.86168680181458\n",
      "2020-06-18 17:23:47 52.35877634582356 4.86168680181458\n",
      "2020-06-18 17:24:18 52.358470850991814 4.862198838363903\n",
      "2020-06-18 17:24:28 52.358545648694125 4.862192969276312\n",
      "2020-06-18 17:24:35 52.35858938526245 4.86243839606533\n",
      "2020-06-18 17:24:48 52.35866259168434 4.862506461549622\n",
      "2020-06-18 17:25:00 52.35897446348605 4.862692549085649\n",
      "2020-06-18 17:25:10 52.358968856735295 4.862686667455817\n",
      "2020-06-18 17:25:25 52.35902472746142 4.8622361478647145\n",
      "2020-06-18 17:25:33 52.35914351911099 4.861951446990471\n",
      "2020-06-18 17:25:48 52.35936649921776 4.861766847323048\n",
      "2020-06-18 17:26:02 52.35959510421088 4.8615535796255145\n",
      "2020-06-18 17:26:11 52.359357919050495 4.861455894912852\n",
      "2020-06-18 17:26:15 52.35924865861206 4.861420804690376\n",
      "2020-06-18 17:26:26 52.359198464344644 4.86144126301122\n",
      "2020-06-18 17:26:47 52.35875987902762 4.861719542294958\n",
      "2020-06-18 17:26:47 52.35875987902762 4.861719542294958\n"
     ]
    },
    {
     "ename": "KeyboardInterrupt",
     "evalue": "",
     "output_type": "error",
     "traceback": [
      "\u001b[1;31m---------------------------------------------------------------------------\u001b[0m",
      "\u001b[1;31mKeyboardInterrupt\u001b[0m                         Traceback (most recent call last)",
      "\u001b[1;32m<ipython-input-22-6b93bb5218d0>\u001b[0m in \u001b[0;36m<module>\u001b[1;34m\u001b[0m\n\u001b[0;32m      4\u001b[0m \u001b[0mi\u001b[0m\u001b[1;33m=\u001b[0m\u001b[1;36m1\u001b[0m\u001b[1;33m\u001b[0m\u001b[1;33m\u001b[0m\u001b[0m\n\u001b[0;32m      5\u001b[0m \u001b[1;32mwhile\u001b[0m \u001b[0mi\u001b[0m\u001b[1;33m<\u001b[0m\u001b[1;36m60\u001b[0m\u001b[1;33m:\u001b[0m\u001b[1;33m\u001b[0m\u001b[1;33m\u001b[0m\u001b[0m\n\u001b[1;32m----> 6\u001b[1;33m     \u001b[0mresult\u001b[0m \u001b[1;33m=\u001b[0m\u001b[0mapi\u001b[0m\u001b[1;33m.\u001b[0m\u001b[0miphone\u001b[0m\u001b[1;33m.\u001b[0m\u001b[0mlocation\u001b[0m\u001b[1;33m(\u001b[0m\u001b[1;33m)\u001b[0m\u001b[1;33m\u001b[0m\u001b[1;33m\u001b[0m\u001b[0m\n\u001b[0m\u001b[0;32m      7\u001b[0m     \u001b[0mlat\u001b[0m \u001b[1;33m=\u001b[0m \u001b[0mresult\u001b[0m\u001b[1;33m[\u001b[0m\u001b[1;34m\"latitude\"\u001b[0m\u001b[1;33m]\u001b[0m\u001b[1;33m\u001b[0m\u001b[1;33m\u001b[0m\u001b[0m\n\u001b[0;32m      8\u001b[0m     \u001b[0mlon\u001b[0m \u001b[1;33m=\u001b[0m \u001b[0mresult\u001b[0m\u001b[1;33m[\u001b[0m\u001b[1;34m'longitude'\u001b[0m\u001b[1;33m]\u001b[0m\u001b[1;33m\u001b[0m\u001b[1;33m\u001b[0m\u001b[0m\n",
      "\u001b[1;32m~\\anaconda3\\lib\\site-packages\\pyicloud\\services\\findmyiphone.py\u001b[0m in \u001b[0;36mlocation\u001b[1;34m(self)\u001b[0m\n\u001b[0;32m    121\u001b[0m     \u001b[1;32mdef\u001b[0m \u001b[0mlocation\u001b[0m\u001b[1;33m(\u001b[0m\u001b[0mself\u001b[0m\u001b[1;33m)\u001b[0m\u001b[1;33m:\u001b[0m\u001b[1;33m\u001b[0m\u001b[1;33m\u001b[0m\u001b[0m\n\u001b[0;32m    122\u001b[0m         \u001b[1;34m\"\"\"Updates the device location.\"\"\"\u001b[0m\u001b[1;33m\u001b[0m\u001b[1;33m\u001b[0m\u001b[0m\n\u001b[1;32m--> 123\u001b[1;33m         \u001b[0mself\u001b[0m\u001b[1;33m.\u001b[0m\u001b[0mmanager\u001b[0m\u001b[1;33m.\u001b[0m\u001b[0mrefresh_client\u001b[0m\u001b[1;33m(\u001b[0m\u001b[1;33m)\u001b[0m\u001b[1;33m\u001b[0m\u001b[1;33m\u001b[0m\u001b[0m\n\u001b[0m\u001b[0;32m    124\u001b[0m         \u001b[1;32mreturn\u001b[0m \u001b[0mself\u001b[0m\u001b[1;33m.\u001b[0m\u001b[0mcontent\u001b[0m\u001b[1;33m[\u001b[0m\u001b[1;34m\"location\"\u001b[0m\u001b[1;33m]\u001b[0m\u001b[1;33m\u001b[0m\u001b[1;33m\u001b[0m\u001b[0m\n\u001b[0;32m    125\u001b[0m \u001b[1;33m\u001b[0m\u001b[0m\n",
      "\u001b[1;32m~\\anaconda3\\lib\\site-packages\\pyicloud\\services\\findmyiphone.py\u001b[0m in \u001b[0;36mrefresh_client\u001b[1;34m(self)\u001b[0m\n\u001b[0;32m     44\u001b[0m                         \u001b[1;34m\"shouldLocate\"\u001b[0m\u001b[1;33m:\u001b[0m \u001b[1;32mTrue\u001b[0m\u001b[1;33m,\u001b[0m\u001b[1;33m\u001b[0m\u001b[1;33m\u001b[0m\u001b[0m\n\u001b[0;32m     45\u001b[0m                         \u001b[1;34m\"selectedDevice\"\u001b[0m\u001b[1;33m:\u001b[0m \u001b[1;34m\"all\"\u001b[0m\u001b[1;33m,\u001b[0m\u001b[1;33m\u001b[0m\u001b[1;33m\u001b[0m\u001b[0m\n\u001b[1;32m---> 46\u001b[1;33m                         \u001b[1;34m\"deviceListVersion\"\u001b[0m\u001b[1;33m:\u001b[0m \u001b[1;36m1\u001b[0m\u001b[1;33m,\u001b[0m\u001b[1;33m\u001b[0m\u001b[1;33m\u001b[0m\u001b[0m\n\u001b[0m\u001b[0;32m     47\u001b[0m                     }\n\u001b[0;32m     48\u001b[0m                 }\n",
      "\u001b[1;32m~\\anaconda3\\lib\\site-packages\\requests\\sessions.py\u001b[0m in \u001b[0;36mpost\u001b[1;34m(self, url, data, json, **kwargs)\u001b[0m\n\u001b[0;32m    579\u001b[0m         \"\"\"\n\u001b[0;32m    580\u001b[0m \u001b[1;33m\u001b[0m\u001b[0m\n\u001b[1;32m--> 581\u001b[1;33m         \u001b[1;32mreturn\u001b[0m \u001b[0mself\u001b[0m\u001b[1;33m.\u001b[0m\u001b[0mrequest\u001b[0m\u001b[1;33m(\u001b[0m\u001b[1;34m'POST'\u001b[0m\u001b[1;33m,\u001b[0m \u001b[0murl\u001b[0m\u001b[1;33m,\u001b[0m \u001b[0mdata\u001b[0m\u001b[1;33m=\u001b[0m\u001b[0mdata\u001b[0m\u001b[1;33m,\u001b[0m \u001b[0mjson\u001b[0m\u001b[1;33m=\u001b[0m\u001b[0mjson\u001b[0m\u001b[1;33m,\u001b[0m \u001b[1;33m**\u001b[0m\u001b[0mkwargs\u001b[0m\u001b[1;33m)\u001b[0m\u001b[1;33m\u001b[0m\u001b[1;33m\u001b[0m\u001b[0m\n\u001b[0m\u001b[0;32m    582\u001b[0m \u001b[1;33m\u001b[0m\u001b[0m\n\u001b[0;32m    583\u001b[0m     \u001b[1;32mdef\u001b[0m \u001b[0mput\u001b[0m\u001b[1;33m(\u001b[0m\u001b[0mself\u001b[0m\u001b[1;33m,\u001b[0m \u001b[0murl\u001b[0m\u001b[1;33m,\u001b[0m \u001b[0mdata\u001b[0m\u001b[1;33m=\u001b[0m\u001b[1;32mNone\u001b[0m\u001b[1;33m,\u001b[0m \u001b[1;33m**\u001b[0m\u001b[0mkwargs\u001b[0m\u001b[1;33m)\u001b[0m\u001b[1;33m:\u001b[0m\u001b[1;33m\u001b[0m\u001b[1;33m\u001b[0m\u001b[0m\n",
      "\u001b[1;32m~\\anaconda3\\lib\\site-packages\\pyicloud\\base.py\u001b[0m in \u001b[0;36mrequest\u001b[1;34m(self, method, url, **kwargs)\u001b[0m\n\u001b[0;32m     72\u001b[0m         \u001b[0mhas_retried\u001b[0m \u001b[1;33m=\u001b[0m \u001b[0mkwargs\u001b[0m\u001b[1;33m.\u001b[0m\u001b[0mget\u001b[0m\u001b[1;33m(\u001b[0m\u001b[1;34m\"retried\"\u001b[0m\u001b[1;33m)\u001b[0m\u001b[1;33m\u001b[0m\u001b[1;33m\u001b[0m\u001b[0m\n\u001b[0;32m     73\u001b[0m         \u001b[0mkwargs\u001b[0m\u001b[1;33m.\u001b[0m\u001b[0mpop\u001b[0m\u001b[1;33m(\u001b[0m\u001b[1;34m\"retried\"\u001b[0m\u001b[1;33m,\u001b[0m \u001b[1;32mNone\u001b[0m\u001b[1;33m)\u001b[0m\u001b[1;33m\u001b[0m\u001b[1;33m\u001b[0m\u001b[0m\n\u001b[1;32m---> 74\u001b[1;33m         \u001b[0mresponse\u001b[0m \u001b[1;33m=\u001b[0m \u001b[0msuper\u001b[0m\u001b[1;33m(\u001b[0m\u001b[0mPyiCloudSession\u001b[0m\u001b[1;33m,\u001b[0m \u001b[0mself\u001b[0m\u001b[1;33m)\u001b[0m\u001b[1;33m.\u001b[0m\u001b[0mrequest\u001b[0m\u001b[1;33m(\u001b[0m\u001b[0mmethod\u001b[0m\u001b[1;33m,\u001b[0m \u001b[0murl\u001b[0m\u001b[1;33m,\u001b[0m \u001b[1;33m**\u001b[0m\u001b[0mkwargs\u001b[0m\u001b[1;33m)\u001b[0m\u001b[1;33m\u001b[0m\u001b[1;33m\u001b[0m\u001b[0m\n\u001b[0m\u001b[0;32m     75\u001b[0m \u001b[1;33m\u001b[0m\u001b[0m\n\u001b[0;32m     76\u001b[0m         \u001b[0mcontent_type\u001b[0m \u001b[1;33m=\u001b[0m \u001b[0mresponse\u001b[0m\u001b[1;33m.\u001b[0m\u001b[0mheaders\u001b[0m\u001b[1;33m.\u001b[0m\u001b[0mget\u001b[0m\u001b[1;33m(\u001b[0m\u001b[1;34m\"Content-Type\"\u001b[0m\u001b[1;33m,\u001b[0m \u001b[1;34m\"\"\u001b[0m\u001b[1;33m)\u001b[0m\u001b[1;33m.\u001b[0m\u001b[0msplit\u001b[0m\u001b[1;33m(\u001b[0m\u001b[1;34m\";\"\u001b[0m\u001b[1;33m)\u001b[0m\u001b[1;33m[\u001b[0m\u001b[1;36m0\u001b[0m\u001b[1;33m]\u001b[0m\u001b[1;33m\u001b[0m\u001b[1;33m\u001b[0m\u001b[0m\n",
      "\u001b[1;32m~\\anaconda3\\lib\\site-packages\\requests\\sessions.py\u001b[0m in \u001b[0;36mrequest\u001b[1;34m(self, method, url, params, data, headers, cookies, files, auth, timeout, allow_redirects, proxies, hooks, stream, verify, cert, json)\u001b[0m\n\u001b[0;32m    531\u001b[0m         }\n\u001b[0;32m    532\u001b[0m         \u001b[0msend_kwargs\u001b[0m\u001b[1;33m.\u001b[0m\u001b[0mupdate\u001b[0m\u001b[1;33m(\u001b[0m\u001b[0msettings\u001b[0m\u001b[1;33m)\u001b[0m\u001b[1;33m\u001b[0m\u001b[1;33m\u001b[0m\u001b[0m\n\u001b[1;32m--> 533\u001b[1;33m         \u001b[0mresp\u001b[0m \u001b[1;33m=\u001b[0m \u001b[0mself\u001b[0m\u001b[1;33m.\u001b[0m\u001b[0msend\u001b[0m\u001b[1;33m(\u001b[0m\u001b[0mprep\u001b[0m\u001b[1;33m,\u001b[0m \u001b[1;33m**\u001b[0m\u001b[0msend_kwargs\u001b[0m\u001b[1;33m)\u001b[0m\u001b[1;33m\u001b[0m\u001b[1;33m\u001b[0m\u001b[0m\n\u001b[0m\u001b[0;32m    534\u001b[0m \u001b[1;33m\u001b[0m\u001b[0m\n\u001b[0;32m    535\u001b[0m         \u001b[1;32mreturn\u001b[0m \u001b[0mresp\u001b[0m\u001b[1;33m\u001b[0m\u001b[1;33m\u001b[0m\u001b[0m\n",
      "\u001b[1;32m~\\anaconda3\\lib\\site-packages\\requests\\sessions.py\u001b[0m in \u001b[0;36msend\u001b[1;34m(self, request, **kwargs)\u001b[0m\n\u001b[0;32m    644\u001b[0m \u001b[1;33m\u001b[0m\u001b[0m\n\u001b[0;32m    645\u001b[0m         \u001b[1;31m# Send the request\u001b[0m\u001b[1;33m\u001b[0m\u001b[1;33m\u001b[0m\u001b[1;33m\u001b[0m\u001b[0m\n\u001b[1;32m--> 646\u001b[1;33m         \u001b[0mr\u001b[0m \u001b[1;33m=\u001b[0m \u001b[0madapter\u001b[0m\u001b[1;33m.\u001b[0m\u001b[0msend\u001b[0m\u001b[1;33m(\u001b[0m\u001b[0mrequest\u001b[0m\u001b[1;33m,\u001b[0m \u001b[1;33m**\u001b[0m\u001b[0mkwargs\u001b[0m\u001b[1;33m)\u001b[0m\u001b[1;33m\u001b[0m\u001b[1;33m\u001b[0m\u001b[0m\n\u001b[0m\u001b[0;32m    647\u001b[0m \u001b[1;33m\u001b[0m\u001b[0m\n\u001b[0;32m    648\u001b[0m         \u001b[1;31m# Total elapsed time of the request (approximately)\u001b[0m\u001b[1;33m\u001b[0m\u001b[1;33m\u001b[0m\u001b[1;33m\u001b[0m\u001b[0m\n",
      "\u001b[1;32m~\\anaconda3\\lib\\site-packages\\requests\\adapters.py\u001b[0m in \u001b[0;36msend\u001b[1;34m(self, request, stream, timeout, verify, cert, proxies)\u001b[0m\n\u001b[0;32m    447\u001b[0m                     \u001b[0mdecode_content\u001b[0m\u001b[1;33m=\u001b[0m\u001b[1;32mFalse\u001b[0m\u001b[1;33m,\u001b[0m\u001b[1;33m\u001b[0m\u001b[1;33m\u001b[0m\u001b[0m\n\u001b[0;32m    448\u001b[0m                     \u001b[0mretries\u001b[0m\u001b[1;33m=\u001b[0m\u001b[0mself\u001b[0m\u001b[1;33m.\u001b[0m\u001b[0mmax_retries\u001b[0m\u001b[1;33m,\u001b[0m\u001b[1;33m\u001b[0m\u001b[1;33m\u001b[0m\u001b[0m\n\u001b[1;32m--> 449\u001b[1;33m                     \u001b[0mtimeout\u001b[0m\u001b[1;33m=\u001b[0m\u001b[0mtimeout\u001b[0m\u001b[1;33m\u001b[0m\u001b[1;33m\u001b[0m\u001b[0m\n\u001b[0m\u001b[0;32m    450\u001b[0m                 )\n\u001b[0;32m    451\u001b[0m \u001b[1;33m\u001b[0m\u001b[0m\n",
      "\u001b[1;32m~\\anaconda3\\lib\\site-packages\\urllib3\\connectionpool.py\u001b[0m in \u001b[0;36murlopen\u001b[1;34m(self, method, url, body, headers, retries, redirect, assert_same_host, timeout, pool_timeout, release_conn, chunked, body_pos, **response_kw)\u001b[0m\n\u001b[0;32m    670\u001b[0m                 \u001b[0mbody\u001b[0m\u001b[1;33m=\u001b[0m\u001b[0mbody\u001b[0m\u001b[1;33m,\u001b[0m\u001b[1;33m\u001b[0m\u001b[1;33m\u001b[0m\u001b[0m\n\u001b[0;32m    671\u001b[0m                 \u001b[0mheaders\u001b[0m\u001b[1;33m=\u001b[0m\u001b[0mheaders\u001b[0m\u001b[1;33m,\u001b[0m\u001b[1;33m\u001b[0m\u001b[1;33m\u001b[0m\u001b[0m\n\u001b[1;32m--> 672\u001b[1;33m                 \u001b[0mchunked\u001b[0m\u001b[1;33m=\u001b[0m\u001b[0mchunked\u001b[0m\u001b[1;33m,\u001b[0m\u001b[1;33m\u001b[0m\u001b[1;33m\u001b[0m\u001b[0m\n\u001b[0m\u001b[0;32m    673\u001b[0m             )\n\u001b[0;32m    674\u001b[0m \u001b[1;33m\u001b[0m\u001b[0m\n",
      "\u001b[1;32m~\\anaconda3\\lib\\site-packages\\urllib3\\connectionpool.py\u001b[0m in \u001b[0;36m_make_request\u001b[1;34m(self, conn, method, url, timeout, chunked, **httplib_request_kw)\u001b[0m\n\u001b[0;32m    419\u001b[0m                     \u001b[1;31m# Python 3 (including for exceptions like SystemExit).\u001b[0m\u001b[1;33m\u001b[0m\u001b[1;33m\u001b[0m\u001b[1;33m\u001b[0m\u001b[0m\n\u001b[0;32m    420\u001b[0m                     \u001b[1;31m# Otherwise it looks like a bug in the code.\u001b[0m\u001b[1;33m\u001b[0m\u001b[1;33m\u001b[0m\u001b[1;33m\u001b[0m\u001b[0m\n\u001b[1;32m--> 421\u001b[1;33m                     \u001b[0msix\u001b[0m\u001b[1;33m.\u001b[0m\u001b[0mraise_from\u001b[0m\u001b[1;33m(\u001b[0m\u001b[0me\u001b[0m\u001b[1;33m,\u001b[0m \u001b[1;32mNone\u001b[0m\u001b[1;33m)\u001b[0m\u001b[1;33m\u001b[0m\u001b[1;33m\u001b[0m\u001b[0m\n\u001b[0m\u001b[0;32m    422\u001b[0m         \u001b[1;32mexcept\u001b[0m \u001b[1;33m(\u001b[0m\u001b[0mSocketTimeout\u001b[0m\u001b[1;33m,\u001b[0m \u001b[0mBaseSSLError\u001b[0m\u001b[1;33m,\u001b[0m \u001b[0mSocketError\u001b[0m\u001b[1;33m)\u001b[0m \u001b[1;32mas\u001b[0m \u001b[0me\u001b[0m\u001b[1;33m:\u001b[0m\u001b[1;33m\u001b[0m\u001b[1;33m\u001b[0m\u001b[0m\n\u001b[0;32m    423\u001b[0m             \u001b[0mself\u001b[0m\u001b[1;33m.\u001b[0m\u001b[0m_raise_timeout\u001b[0m\u001b[1;33m(\u001b[0m\u001b[0merr\u001b[0m\u001b[1;33m=\u001b[0m\u001b[0me\u001b[0m\u001b[1;33m,\u001b[0m \u001b[0murl\u001b[0m\u001b[1;33m=\u001b[0m\u001b[0murl\u001b[0m\u001b[1;33m,\u001b[0m \u001b[0mtimeout_value\u001b[0m\u001b[1;33m=\u001b[0m\u001b[0mread_timeout\u001b[0m\u001b[1;33m)\u001b[0m\u001b[1;33m\u001b[0m\u001b[1;33m\u001b[0m\u001b[0m\n",
      "\u001b[1;32m~\\anaconda3\\lib\\site-packages\\urllib3\\packages\\six.py\u001b[0m in \u001b[0;36mraise_from\u001b[1;34m(value, from_value)\u001b[0m\n",
      "\u001b[1;32m~\\anaconda3\\lib\\site-packages\\urllib3\\connectionpool.py\u001b[0m in \u001b[0;36m_make_request\u001b[1;34m(self, conn, method, url, timeout, chunked, **httplib_request_kw)\u001b[0m\n\u001b[0;32m    414\u001b[0m                 \u001b[1;31m# Python 3\u001b[0m\u001b[1;33m\u001b[0m\u001b[1;33m\u001b[0m\u001b[1;33m\u001b[0m\u001b[0m\n\u001b[0;32m    415\u001b[0m                 \u001b[1;32mtry\u001b[0m\u001b[1;33m:\u001b[0m\u001b[1;33m\u001b[0m\u001b[1;33m\u001b[0m\u001b[0m\n\u001b[1;32m--> 416\u001b[1;33m                     \u001b[0mhttplib_response\u001b[0m \u001b[1;33m=\u001b[0m \u001b[0mconn\u001b[0m\u001b[1;33m.\u001b[0m\u001b[0mgetresponse\u001b[0m\u001b[1;33m(\u001b[0m\u001b[1;33m)\u001b[0m\u001b[1;33m\u001b[0m\u001b[1;33m\u001b[0m\u001b[0m\n\u001b[0m\u001b[0;32m    417\u001b[0m                 \u001b[1;32mexcept\u001b[0m \u001b[0mBaseException\u001b[0m \u001b[1;32mas\u001b[0m \u001b[0me\u001b[0m\u001b[1;33m:\u001b[0m\u001b[1;33m\u001b[0m\u001b[1;33m\u001b[0m\u001b[0m\n\u001b[0;32m    418\u001b[0m                     \u001b[1;31m# Remove the TypeError from the exception chain in\u001b[0m\u001b[1;33m\u001b[0m\u001b[1;33m\u001b[0m\u001b[1;33m\u001b[0m\u001b[0m\n",
      "\u001b[1;32m~\\anaconda3\\lib\\http\\client.py\u001b[0m in \u001b[0;36mgetresponse\u001b[1;34m(self)\u001b[0m\n\u001b[0;32m   1342\u001b[0m         \u001b[1;32mtry\u001b[0m\u001b[1;33m:\u001b[0m\u001b[1;33m\u001b[0m\u001b[1;33m\u001b[0m\u001b[0m\n\u001b[0;32m   1343\u001b[0m             \u001b[1;32mtry\u001b[0m\u001b[1;33m:\u001b[0m\u001b[1;33m\u001b[0m\u001b[1;33m\u001b[0m\u001b[0m\n\u001b[1;32m-> 1344\u001b[1;33m                 \u001b[0mresponse\u001b[0m\u001b[1;33m.\u001b[0m\u001b[0mbegin\u001b[0m\u001b[1;33m(\u001b[0m\u001b[1;33m)\u001b[0m\u001b[1;33m\u001b[0m\u001b[1;33m\u001b[0m\u001b[0m\n\u001b[0m\u001b[0;32m   1345\u001b[0m             \u001b[1;32mexcept\u001b[0m \u001b[0mConnectionError\u001b[0m\u001b[1;33m:\u001b[0m\u001b[1;33m\u001b[0m\u001b[1;33m\u001b[0m\u001b[0m\n\u001b[0;32m   1346\u001b[0m                 \u001b[0mself\u001b[0m\u001b[1;33m.\u001b[0m\u001b[0mclose\u001b[0m\u001b[1;33m(\u001b[0m\u001b[1;33m)\u001b[0m\u001b[1;33m\u001b[0m\u001b[1;33m\u001b[0m\u001b[0m\n",
      "\u001b[1;32m~\\anaconda3\\lib\\http\\client.py\u001b[0m in \u001b[0;36mbegin\u001b[1;34m(self)\u001b[0m\n\u001b[0;32m    304\u001b[0m         \u001b[1;31m# read until we get a non-100 response\u001b[0m\u001b[1;33m\u001b[0m\u001b[1;33m\u001b[0m\u001b[1;33m\u001b[0m\u001b[0m\n\u001b[0;32m    305\u001b[0m         \u001b[1;32mwhile\u001b[0m \u001b[1;32mTrue\u001b[0m\u001b[1;33m:\u001b[0m\u001b[1;33m\u001b[0m\u001b[1;33m\u001b[0m\u001b[0m\n\u001b[1;32m--> 306\u001b[1;33m             \u001b[0mversion\u001b[0m\u001b[1;33m,\u001b[0m \u001b[0mstatus\u001b[0m\u001b[1;33m,\u001b[0m \u001b[0mreason\u001b[0m \u001b[1;33m=\u001b[0m \u001b[0mself\u001b[0m\u001b[1;33m.\u001b[0m\u001b[0m_read_status\u001b[0m\u001b[1;33m(\u001b[0m\u001b[1;33m)\u001b[0m\u001b[1;33m\u001b[0m\u001b[1;33m\u001b[0m\u001b[0m\n\u001b[0m\u001b[0;32m    307\u001b[0m             \u001b[1;32mif\u001b[0m \u001b[0mstatus\u001b[0m \u001b[1;33m!=\u001b[0m \u001b[0mCONTINUE\u001b[0m\u001b[1;33m:\u001b[0m\u001b[1;33m\u001b[0m\u001b[1;33m\u001b[0m\u001b[0m\n\u001b[0;32m    308\u001b[0m                 \u001b[1;32mbreak\u001b[0m\u001b[1;33m\u001b[0m\u001b[1;33m\u001b[0m\u001b[0m\n",
      "\u001b[1;32m~\\anaconda3\\lib\\http\\client.py\u001b[0m in \u001b[0;36m_read_status\u001b[1;34m(self)\u001b[0m\n\u001b[0;32m    265\u001b[0m \u001b[1;33m\u001b[0m\u001b[0m\n\u001b[0;32m    266\u001b[0m     \u001b[1;32mdef\u001b[0m \u001b[0m_read_status\u001b[0m\u001b[1;33m(\u001b[0m\u001b[0mself\u001b[0m\u001b[1;33m)\u001b[0m\u001b[1;33m:\u001b[0m\u001b[1;33m\u001b[0m\u001b[1;33m\u001b[0m\u001b[0m\n\u001b[1;32m--> 267\u001b[1;33m         \u001b[0mline\u001b[0m \u001b[1;33m=\u001b[0m \u001b[0mstr\u001b[0m\u001b[1;33m(\u001b[0m\u001b[0mself\u001b[0m\u001b[1;33m.\u001b[0m\u001b[0mfp\u001b[0m\u001b[1;33m.\u001b[0m\u001b[0mreadline\u001b[0m\u001b[1;33m(\u001b[0m\u001b[0m_MAXLINE\u001b[0m \u001b[1;33m+\u001b[0m \u001b[1;36m1\u001b[0m\u001b[1;33m)\u001b[0m\u001b[1;33m,\u001b[0m \u001b[1;34m\"iso-8859-1\"\u001b[0m\u001b[1;33m)\u001b[0m\u001b[1;33m\u001b[0m\u001b[1;33m\u001b[0m\u001b[0m\n\u001b[0m\u001b[0;32m    268\u001b[0m         \u001b[1;32mif\u001b[0m \u001b[0mlen\u001b[0m\u001b[1;33m(\u001b[0m\u001b[0mline\u001b[0m\u001b[1;33m)\u001b[0m \u001b[1;33m>\u001b[0m \u001b[0m_MAXLINE\u001b[0m\u001b[1;33m:\u001b[0m\u001b[1;33m\u001b[0m\u001b[1;33m\u001b[0m\u001b[0m\n\u001b[0;32m    269\u001b[0m             \u001b[1;32mraise\u001b[0m \u001b[0mLineTooLong\u001b[0m\u001b[1;33m(\u001b[0m\u001b[1;34m\"status line\"\u001b[0m\u001b[1;33m)\u001b[0m\u001b[1;33m\u001b[0m\u001b[1;33m\u001b[0m\u001b[0m\n",
      "\u001b[1;32m~\\anaconda3\\lib\\socket.py\u001b[0m in \u001b[0;36mreadinto\u001b[1;34m(self, b)\u001b[0m\n\u001b[0;32m    587\u001b[0m         \u001b[1;32mwhile\u001b[0m \u001b[1;32mTrue\u001b[0m\u001b[1;33m:\u001b[0m\u001b[1;33m\u001b[0m\u001b[1;33m\u001b[0m\u001b[0m\n\u001b[0;32m    588\u001b[0m             \u001b[1;32mtry\u001b[0m\u001b[1;33m:\u001b[0m\u001b[1;33m\u001b[0m\u001b[1;33m\u001b[0m\u001b[0m\n\u001b[1;32m--> 589\u001b[1;33m                 \u001b[1;32mreturn\u001b[0m \u001b[0mself\u001b[0m\u001b[1;33m.\u001b[0m\u001b[0m_sock\u001b[0m\u001b[1;33m.\u001b[0m\u001b[0mrecv_into\u001b[0m\u001b[1;33m(\u001b[0m\u001b[0mb\u001b[0m\u001b[1;33m)\u001b[0m\u001b[1;33m\u001b[0m\u001b[1;33m\u001b[0m\u001b[0m\n\u001b[0m\u001b[0;32m    590\u001b[0m             \u001b[1;32mexcept\u001b[0m \u001b[0mtimeout\u001b[0m\u001b[1;33m:\u001b[0m\u001b[1;33m\u001b[0m\u001b[1;33m\u001b[0m\u001b[0m\n\u001b[0;32m    591\u001b[0m                 \u001b[0mself\u001b[0m\u001b[1;33m.\u001b[0m\u001b[0m_timeout_occurred\u001b[0m \u001b[1;33m=\u001b[0m \u001b[1;32mTrue\u001b[0m\u001b[1;33m\u001b[0m\u001b[1;33m\u001b[0m\u001b[0m\n",
      "\u001b[1;32m~\\anaconda3\\lib\\site-packages\\urllib3\\contrib\\pyopenssl.py\u001b[0m in \u001b[0;36mrecv_into\u001b[1;34m(self, *args, **kwargs)\u001b[0m\n\u001b[0;32m    311\u001b[0m     \u001b[1;32mdef\u001b[0m \u001b[0mrecv_into\u001b[0m\u001b[1;33m(\u001b[0m\u001b[0mself\u001b[0m\u001b[1;33m,\u001b[0m \u001b[1;33m*\u001b[0m\u001b[0margs\u001b[0m\u001b[1;33m,\u001b[0m \u001b[1;33m**\u001b[0m\u001b[0mkwargs\u001b[0m\u001b[1;33m)\u001b[0m\u001b[1;33m:\u001b[0m\u001b[1;33m\u001b[0m\u001b[1;33m\u001b[0m\u001b[0m\n\u001b[0;32m    312\u001b[0m         \u001b[1;32mtry\u001b[0m\u001b[1;33m:\u001b[0m\u001b[1;33m\u001b[0m\u001b[1;33m\u001b[0m\u001b[0m\n\u001b[1;32m--> 313\u001b[1;33m             \u001b[1;32mreturn\u001b[0m \u001b[0mself\u001b[0m\u001b[1;33m.\u001b[0m\u001b[0mconnection\u001b[0m\u001b[1;33m.\u001b[0m\u001b[0mrecv_into\u001b[0m\u001b[1;33m(\u001b[0m\u001b[1;33m*\u001b[0m\u001b[0margs\u001b[0m\u001b[1;33m,\u001b[0m \u001b[1;33m**\u001b[0m\u001b[0mkwargs\u001b[0m\u001b[1;33m)\u001b[0m\u001b[1;33m\u001b[0m\u001b[1;33m\u001b[0m\u001b[0m\n\u001b[0m\u001b[0;32m    314\u001b[0m         \u001b[1;32mexcept\u001b[0m \u001b[0mOpenSSL\u001b[0m\u001b[1;33m.\u001b[0m\u001b[0mSSL\u001b[0m\u001b[1;33m.\u001b[0m\u001b[0mSysCallError\u001b[0m \u001b[1;32mas\u001b[0m \u001b[0me\u001b[0m\u001b[1;33m:\u001b[0m\u001b[1;33m\u001b[0m\u001b[1;33m\u001b[0m\u001b[0m\n\u001b[0;32m    315\u001b[0m             \u001b[1;32mif\u001b[0m \u001b[0mself\u001b[0m\u001b[1;33m.\u001b[0m\u001b[0msuppress_ragged_eofs\u001b[0m \u001b[1;32mand\u001b[0m \u001b[0me\u001b[0m\u001b[1;33m.\u001b[0m\u001b[0margs\u001b[0m \u001b[1;33m==\u001b[0m \u001b[1;33m(\u001b[0m\u001b[1;33m-\u001b[0m\u001b[1;36m1\u001b[0m\u001b[1;33m,\u001b[0m \u001b[1;34m\"Unexpected EOF\"\u001b[0m\u001b[1;33m)\u001b[0m\u001b[1;33m:\u001b[0m\u001b[1;33m\u001b[0m\u001b[1;33m\u001b[0m\u001b[0m\n",
      "\u001b[1;32m~\\anaconda3\\lib\\site-packages\\OpenSSL\\SSL.py\u001b[0m in \u001b[0;36mrecv_into\u001b[1;34m(self, buffer, nbytes, flags)\u001b[0m\n\u001b[0;32m   1837\u001b[0m             \u001b[0mresult\u001b[0m \u001b[1;33m=\u001b[0m \u001b[0m_lib\u001b[0m\u001b[1;33m.\u001b[0m\u001b[0mSSL_peek\u001b[0m\u001b[1;33m(\u001b[0m\u001b[0mself\u001b[0m\u001b[1;33m.\u001b[0m\u001b[0m_ssl\u001b[0m\u001b[1;33m,\u001b[0m \u001b[0mbuf\u001b[0m\u001b[1;33m,\u001b[0m \u001b[0mnbytes\u001b[0m\u001b[1;33m)\u001b[0m\u001b[1;33m\u001b[0m\u001b[1;33m\u001b[0m\u001b[0m\n\u001b[0;32m   1838\u001b[0m         \u001b[1;32melse\u001b[0m\u001b[1;33m:\u001b[0m\u001b[1;33m\u001b[0m\u001b[1;33m\u001b[0m\u001b[0m\n\u001b[1;32m-> 1839\u001b[1;33m             \u001b[0mresult\u001b[0m \u001b[1;33m=\u001b[0m \u001b[0m_lib\u001b[0m\u001b[1;33m.\u001b[0m\u001b[0mSSL_read\u001b[0m\u001b[1;33m(\u001b[0m\u001b[0mself\u001b[0m\u001b[1;33m.\u001b[0m\u001b[0m_ssl\u001b[0m\u001b[1;33m,\u001b[0m \u001b[0mbuf\u001b[0m\u001b[1;33m,\u001b[0m \u001b[0mnbytes\u001b[0m\u001b[1;33m)\u001b[0m\u001b[1;33m\u001b[0m\u001b[1;33m\u001b[0m\u001b[0m\n\u001b[0m\u001b[0;32m   1840\u001b[0m         \u001b[0mself\u001b[0m\u001b[1;33m.\u001b[0m\u001b[0m_raise_ssl_error\u001b[0m\u001b[1;33m(\u001b[0m\u001b[0mself\u001b[0m\u001b[1;33m.\u001b[0m\u001b[0m_ssl\u001b[0m\u001b[1;33m,\u001b[0m \u001b[0mresult\u001b[0m\u001b[1;33m)\u001b[0m\u001b[1;33m\u001b[0m\u001b[1;33m\u001b[0m\u001b[0m\n\u001b[0;32m   1841\u001b[0m \u001b[1;33m\u001b[0m\u001b[0m\n",
      "\u001b[1;31mKeyboardInterrupt\u001b[0m: "
     ]
    }
   ],
   "source": [
    "import folium\n",
    "from time import sleep\n",
    "\n",
    "while True:\n",
    "    result =api.iphone.location()\n",
    "    lat = result[\"latitude\"]\n",
    "    lon = result['longitude']\n",
    "    unixtijd = result['timeStamp']/1000\n",
    "    tijd= datetime.fromtimestamp(unixtijd).strftime('%Y-%m-%d %H:%M:%S')\n",
    "    print(tijd, lat, lon)\n",
    "    folium.Circle(\n",
    "        radius=2,\n",
    "        location=[lat, lon],\n",
    "        popup=\"My location\",\n",
    "        color='red',\n",
    "        fill=False,\n",
    "    ).add_to(thuis)\n",
    "    sleep(10)"
   ]
  },
  {
   "cell_type": "code",
   "execution_count": 23,
   "metadata": {},
   "outputs": [
    {
     "data": {
      "text/html": [
       "<div style=\"width:100%;\"><div style=\"position:relative;width:100%;height:0;padding-bottom:60%;\"><span style=\"color:#565656\">Make this Notebook Trusted to load map: File -> Trust Notebook</span><iframe src=\"about:blank\" style=\"position:absolute;width:100%;height:100%;left:0;top:0;border:none !important;\" data-html=PCFET0NUWVBFIGh0bWw+CjxoZWFkPiAgICAKICAgIDxtZXRhIGh0dHAtZXF1aXY9ImNvbnRlbnQtdHlwZSIgY29udGVudD0idGV4dC9odG1sOyBjaGFyc2V0PVVURi04IiAvPgogICAgCiAgICAgICAgPHNjcmlwdD4KICAgICAgICAgICAgTF9OT19UT1VDSCA9IGZhbHNlOwogICAgICAgICAgICBMX0RJU0FCTEVfM0QgPSBmYWxzZTsKICAgICAgICA8L3NjcmlwdD4KICAgIAogICAgPHNjcmlwdCBzcmM9Imh0dHBzOi8vY2RuLmpzZGVsaXZyLm5ldC9ucG0vbGVhZmxldEAxLjYuMC9kaXN0L2xlYWZsZXQuanMiPjwvc2NyaXB0PgogICAgPHNjcmlwdCBzcmM9Imh0dHBzOi8vY29kZS5qcXVlcnkuY29tL2pxdWVyeS0xLjEyLjQubWluLmpzIj48L3NjcmlwdD4KICAgIDxzY3JpcHQgc3JjPSJodHRwczovL21heGNkbi5ib290c3RyYXBjZG4uY29tL2Jvb3RzdHJhcC8zLjIuMC9qcy9ib290c3RyYXAubWluLmpzIj48L3NjcmlwdD4KICAgIDxzY3JpcHQgc3JjPSJodHRwczovL2NkbmpzLmNsb3VkZmxhcmUuY29tL2FqYXgvbGlicy9MZWFmbGV0LmF3ZXNvbWUtbWFya2Vycy8yLjAuMi9sZWFmbGV0LmF3ZXNvbWUtbWFya2Vycy5qcyI+PC9zY3JpcHQ+CiAgICA8bGluayByZWw9InN0eWxlc2hlZXQiIGhyZWY9Imh0dHBzOi8vY2RuLmpzZGVsaXZyLm5ldC9ucG0vbGVhZmxldEAxLjYuMC9kaXN0L2xlYWZsZXQuY3NzIi8+CiAgICA8bGluayByZWw9InN0eWxlc2hlZXQiIGhyZWY9Imh0dHBzOi8vbWF4Y2RuLmJvb3RzdHJhcGNkbi5jb20vYm9vdHN0cmFwLzMuMi4wL2Nzcy9ib290c3RyYXAubWluLmNzcyIvPgogICAgPGxpbmsgcmVsPSJzdHlsZXNoZWV0IiBocmVmPSJodHRwczovL21heGNkbi5ib290c3RyYXBjZG4uY29tL2Jvb3RzdHJhcC8zLjIuMC9jc3MvYm9vdHN0cmFwLXRoZW1lLm1pbi5jc3MiLz4KICAgIDxsaW5rIHJlbD0ic3R5bGVzaGVldCIgaHJlZj0iaHR0cHM6Ly9tYXhjZG4uYm9vdHN0cmFwY2RuLmNvbS9mb250LWF3ZXNvbWUvNC42LjMvY3NzL2ZvbnQtYXdlc29tZS5taW4uY3NzIi8+CiAgICA8bGluayByZWw9InN0eWxlc2hlZXQiIGhyZWY9Imh0dHBzOi8vY2RuanMuY2xvdWRmbGFyZS5jb20vYWpheC9saWJzL0xlYWZsZXQuYXdlc29tZS1tYXJrZXJzLzIuMC4yL2xlYWZsZXQuYXdlc29tZS1tYXJrZXJzLmNzcyIvPgogICAgPGxpbmsgcmVsPSJzdHlsZXNoZWV0IiBocmVmPSJodHRwczovL3Jhd2Nkbi5naXRoYWNrLmNvbS9weXRob24tdmlzdWFsaXphdGlvbi9mb2xpdW0vbWFzdGVyL2ZvbGl1bS90ZW1wbGF0ZXMvbGVhZmxldC5hd2Vzb21lLnJvdGF0ZS5jc3MiLz4KICAgIDxzdHlsZT5odG1sLCBib2R5IHt3aWR0aDogMTAwJTtoZWlnaHQ6IDEwMCU7bWFyZ2luOiAwO3BhZGRpbmc6IDA7fTwvc3R5bGU+CiAgICA8c3R5bGU+I21hcCB7cG9zaXRpb246YWJzb2x1dGU7dG9wOjA7Ym90dG9tOjA7cmlnaHQ6MDtsZWZ0OjA7fTwvc3R5bGU+CiAgICAKICAgICAgICAgICAgPG1ldGEgbmFtZT0idmlld3BvcnQiIGNvbnRlbnQ9IndpZHRoPWRldmljZS13aWR0aCwKICAgICAgICAgICAgICAgIGluaXRpYWwtc2NhbGU9MS4wLCBtYXhpbXVtLXNjYWxlPTEuMCwgdXNlci1zY2FsYWJsZT1ubyIgLz4KICAgICAgICAgICAgPHN0eWxlPgogICAgICAgICAgICAgICAgI21hcF81Y2FjMTNkOWM1MWY0NWZiYTc5OTM3MDU1ZDcxNDExMiB7CiAgICAgICAgICAgICAgICAgICAgcG9zaXRpb246IHJlbGF0aXZlOwogICAgICAgICAgICAgICAgICAgIHdpZHRoOiAxMDAuMCU7CiAgICAgICAgICAgICAgICAgICAgaGVpZ2h0OiAxMDAuMCU7CiAgICAgICAgICAgICAgICAgICAgbGVmdDogMC4wJTsKICAgICAgICAgICAgICAgICAgICB0b3A6IDAuMCU7CiAgICAgICAgICAgICAgICB9CiAgICAgICAgICAgIDwvc3R5bGU+CiAgICAgICAgCjwvaGVhZD4KPGJvZHk+ICAgIAogICAgCiAgICAgICAgICAgIDxkaXYgY2xhc3M9ImZvbGl1bS1tYXAiIGlkPSJtYXBfNWNhYzEzZDljNTFmNDVmYmE3OTkzNzA1NWQ3MTQxMTIiID48L2Rpdj4KICAgICAgICAKPC9ib2R5Pgo8c2NyaXB0PiAgICAKICAgIAogICAgICAgICAgICB2YXIgbWFwXzVjYWMxM2Q5YzUxZjQ1ZmJhNzk5MzcwNTVkNzE0MTEyID0gTC5tYXAoCiAgICAgICAgICAgICAgICAibWFwXzVjYWMxM2Q5YzUxZjQ1ZmJhNzk5MzcwNTVkNzE0MTEyIiwKICAgICAgICAgICAgICAgIHsKICAgICAgICAgICAgICAgICAgICBjZW50ZXI6IFs1Mi4zNTg4NDY0NSwgNC44NjE1NTEzXSwKICAgICAgICAgICAgICAgICAgICBjcnM6IEwuQ1JTLkVQU0czODU3LAogICAgICAgICAgICAgICAgICAgIHpvb206IDE1LAogICAgICAgICAgICAgICAgICAgIHpvb21Db250cm9sOiB0cnVlLAogICAgICAgICAgICAgICAgICAgIHByZWZlckNhbnZhczogZmFsc2UsCiAgICAgICAgICAgICAgICAgICAgZGV0ZWN0UmV0aW5hOiB0cnVlLAogICAgICAgICAgICAgICAgfQogICAgICAgICAgICApOwoKICAgICAgICAgICAgCgogICAgICAgIAogICAgCiAgICAgICAgICAgIHZhciB0aWxlX2xheWVyXzRiZjVkNzY2NWI5MDQwYjM5YzQzOTZiMDMzYzgzMzQ3ID0gTC50aWxlTGF5ZXIoCiAgICAgICAgICAgICAgICAiaHR0cHM6Ly9zdGFtZW4tdGlsZXMte3N9LmEuc3NsLmZhc3RseS5uZXQvdGVycmFpbi97en0ve3h9L3t5fS5qcGciLAogICAgICAgICAgICAgICAgeyJhdHRyaWJ1dGlvbiI6ICJNYXAgdGlsZXMgYnkgXHUwMDNjYSBocmVmPVwiaHR0cDovL3N0YW1lbi5jb21cIlx1MDAzZVN0YW1lbiBEZXNpZ25cdTAwM2MvYVx1MDAzZSwgdW5kZXIgXHUwMDNjYSBocmVmPVwiaHR0cDovL2NyZWF0aXZlY29tbW9ucy5vcmcvbGljZW5zZXMvYnkvMy4wXCJcdTAwM2VDQyBCWSAzLjBcdTAwM2MvYVx1MDAzZS4gRGF0YSBieSBcdTAwMjZjb3B5OyBcdTAwM2NhIGhyZWY9XCJodHRwOi8vb3BlbnN0cmVldG1hcC5vcmdcIlx1MDAzZU9wZW5TdHJlZXRNYXBcdTAwM2MvYVx1MDAzZSwgdW5kZXIgXHUwMDNjYSBocmVmPVwiaHR0cDovL2NyZWF0aXZlY29tbW9ucy5vcmcvbGljZW5zZXMvYnktc2EvMy4wXCJcdTAwM2VDQyBCWSBTQVx1MDAzYy9hXHUwMDNlLiIsICJkZXRlY3RSZXRpbmEiOiBmYWxzZSwgIm1heE5hdGl2ZVpvb20iOiAxOCwgIm1heFpvb20iOiAxOCwgIm1pblpvb20iOiAwLCAibm9XcmFwIjogZmFsc2UsICJvcGFjaXR5IjogMSwgInN1YmRvbWFpbnMiOiAiYWJjIiwgInRtcyI6IGZhbHNlfQogICAgICAgICAgICApLmFkZFRvKG1hcF81Y2FjMTNkOWM1MWY0NWZiYTc5OTM3MDU1ZDcxNDExMik7CiAgICAgICAgCiAgICAKICAgICAgICAgICAgdmFyIGNpcmNsZV82OTgwOTI5ZmYwOWM0NWViYjY0MmVkNjg2NWJiMWVjYiA9IEwuY2lyY2xlKAogICAgICAgICAgICAgICAgWzUyLjM1ODgyNzYwNjI3ODM5LCA0Ljg2MTQ4OTY3MDIwMjc2MTVdLAogICAgICAgICAgICAgICAgeyJidWJibGluZ01vdXNlRXZlbnRzIjogdHJ1ZSwgImNvbG9yIjogInJlZCIsICJkYXNoQXJyYXkiOiBudWxsLCAiZGFzaE9mZnNldCI6IG51bGwsICJmaWxsIjogZmFsc2UsICJmaWxsQ29sb3IiOiAicmVkIiwgImZpbGxPcGFjaXR5IjogMC4yLCAiZmlsbFJ1bGUiOiAiZXZlbm9kZCIsICJsaW5lQ2FwIjogInJvdW5kIiwgImxpbmVKb2luIjogInJvdW5kIiwgIm9wYWNpdHkiOiAxLjAsICJyYWRpdXMiOiAyLCAic3Ryb2tlIjogdHJ1ZSwgIndlaWdodCI6IDN9CiAgICAgICAgICAgICkuYWRkVG8obWFwXzVjYWMxM2Q5YzUxZjQ1ZmJhNzk5MzcwNTVkNzE0MTEyKTsKICAgICAgICAKICAgIAogICAgICAgIHZhciBwb3B1cF9hN2Q0MzJlOWI5NmI0OTI2YWRlMDQ4MDQwNGY2MTgyNyA9IEwucG9wdXAoeyJtYXhXaWR0aCI6ICIxMDAlIn0pOwoKICAgICAgICAKICAgICAgICAgICAgdmFyIGh0bWxfZGNkZTE1OWI4YjM2NDhlNWIwN2M0ZGI1YzFmODVjMmEgPSAkKGA8ZGl2IGlkPSJodG1sX2RjZGUxNTliOGIzNjQ4ZTViMDdjNGRiNWMxZjg1YzJhIiBzdHlsZT0id2lkdGg6IDEwMC4wJTsgaGVpZ2h0OiAxMDAuMCU7Ij5NeSBsb2NhdGlvbjwvZGl2PmApWzBdOwogICAgICAgICAgICBwb3B1cF9hN2Q0MzJlOWI5NmI0OTI2YWRlMDQ4MDQwNGY2MTgyNy5zZXRDb250ZW50KGh0bWxfZGNkZTE1OWI4YjM2NDhlNWIwN2M0ZGI1YzFmODVjMmEpOwogICAgICAgIAoKICAgICAgICBjaXJjbGVfNjk4MDkyOWZmMDljNDVlYmI2NDJlZDY4NjViYjFlY2IuYmluZFBvcHVwKHBvcHVwX2E3ZDQzMmU5Yjk2YjQ5MjZhZGUwNDgwNDA0ZjYxODI3KQogICAgICAgIDsKCiAgICAgICAgCiAgICAKICAgIAogICAgICAgICAgICB2YXIgY2lyY2xlX2VjOGNhNTdhMWY1ZTQ1ODc5NmIxOTMxY2RkMzE4OTNmID0gTC5jaXJjbGUoCiAgICAgICAgICAgICAgICBbNTIuMzU4ODI3NjA2Mjc4MzksIDQuODYxNDg5NjcwMjAyNzYxNV0sCiAgICAgICAgICAgICAgICB7ImJ1YmJsaW5nTW91c2VFdmVudHMiOiB0cnVlLCAiY29sb3IiOiAicmVkIiwgImRhc2hBcnJheSI6IG51bGwsICJkYXNoT2Zmc2V0IjogbnVsbCwgImZpbGwiOiBmYWxzZSwgImZpbGxDb2xvciI6ICJyZWQiLCAiZmlsbE9wYWNpdHkiOiAwLjIsICJmaWxsUnVsZSI6ICJldmVub2RkIiwgImxpbmVDYXAiOiAicm91bmQiLCAibGluZUpvaW4iOiAicm91bmQiLCAib3BhY2l0eSI6IDEuMCwgInJhZGl1cyI6IDIsICJzdHJva2UiOiB0cnVlLCAid2VpZ2h0IjogM30KICAgICAgICAgICAgKS5hZGRUbyhtYXBfNWNhYzEzZDljNTFmNDVmYmE3OTkzNzA1NWQ3MTQxMTIpOwogICAgICAgIAogICAgCiAgICAgICAgdmFyIHBvcHVwXzY5YmM5ZWE3N2IwNzQ5MDI4MzdlYWE3NGQ1YmVjZDAzID0gTC5wb3B1cCh7Im1heFdpZHRoIjogIjEwMCUifSk7CgogICAgICAgIAogICAgICAgICAgICB2YXIgaHRtbF9jOWM2ZTI2MmYyYzE0NDczODUxYmQzNTI2Y2ZlNjA2NSA9ICQoYDxkaXYgaWQ9Imh0bWxfYzljNmUyNjJmMmMxNDQ3Mzg1MWJkMzUyNmNmZTYwNjUiIHN0eWxlPSJ3aWR0aDogMTAwLjAlOyBoZWlnaHQ6IDEwMC4wJTsiPk15IGxvY2F0aW9uPC9kaXY+YClbMF07CiAgICAgICAgICAgIHBvcHVwXzY5YmM5ZWE3N2IwNzQ5MDI4MzdlYWE3NGQ1YmVjZDAzLnNldENvbnRlbnQoaHRtbF9jOWM2ZTI2MmYyYzE0NDczODUxYmQzNTI2Y2ZlNjA2NSk7CiAgICAgICAgCgogICAgICAgIGNpcmNsZV9lYzhjYTU3YTFmNWU0NTg3OTZiMTkzMWNkZDMxODkzZi5iaW5kUG9wdXAocG9wdXBfNjliYzllYTc3YjA3NDkwMjgzN2VhYTc0ZDViZWNkMDMpCiAgICAgICAgOwoKICAgICAgICAKICAgIAogICAgCiAgICAgICAgICAgIHZhciBjaXJjbGVfNmIyODBlZTE3Y2U0NGU2NThhYjg4ZTkxYTM3NzM3ZTQgPSBMLmNpcmNsZSgKICAgICAgICAgICAgICAgIFs1Mi4zNTg4Mjc2MDYyNzgzOSwgNC44NjE0ODk2NzAyMDI3NjE1XSwKICAgICAgICAgICAgICAgIHsiYnViYmxpbmdNb3VzZUV2ZW50cyI6IHRydWUsICJjb2xvciI6ICJyZWQiLCAiZGFzaEFycmF5IjogbnVsbCwgImRhc2hPZmZzZXQiOiBudWxsLCAiZmlsbCI6IGZhbHNlLCAiZmlsbENvbG9yIjogInJlZCIsICJmaWxsT3BhY2l0eSI6IDAuMiwgImZpbGxSdWxlIjogImV2ZW5vZGQiLCAibGluZUNhcCI6ICJyb3VuZCIsICJsaW5lSm9pbiI6ICJyb3VuZCIsICJvcGFjaXR5IjogMS4wLCAicmFkaXVzIjogMiwgInN0cm9rZSI6IHRydWUsICJ3ZWlnaHQiOiAzfQogICAgICAgICAgICApLmFkZFRvKG1hcF81Y2FjMTNkOWM1MWY0NWZiYTc5OTM3MDU1ZDcxNDExMik7CiAgICAgICAgCiAgICAKICAgICAgICB2YXIgcG9wdXBfMDcwMzU1NmU1ZGQzNDllY2IwM2QyZmQzODI3Yjk1ZGYgPSBMLnBvcHVwKHsibWF4V2lkdGgiOiAiMTAwJSJ9KTsKCiAgICAgICAgCiAgICAgICAgICAgIHZhciBodG1sXzkwZjM3MzEwNDZhMjQ0Mzc4NDE5NzkzMzlmNWFmMjlmID0gJChgPGRpdiBpZD0iaHRtbF85MGYzNzMxMDQ2YTI0NDM3ODQxOTc5MzM5ZjVhZjI5ZiIgc3R5bGU9IndpZHRoOiAxMDAuMCU7IGhlaWdodDogMTAwLjAlOyI+TXkgbG9jYXRpb248L2Rpdj5gKVswXTsKICAgICAgICAgICAgcG9wdXBfMDcwMzU1NmU1ZGQzNDllY2IwM2QyZmQzODI3Yjk1ZGYuc2V0Q29udGVudChodG1sXzkwZjM3MzEwNDZhMjQ0Mzc4NDE5NzkzMzlmNWFmMjlmKTsKICAgICAgICAKCiAgICAgICAgY2lyY2xlXzZiMjgwZWUxN2NlNDRlNjU4YWI4OGU5MWEzNzczN2U0LmJpbmRQb3B1cChwb3B1cF8wNzAzNTU2ZTVkZDM0OWVjYjAzZDJmZDM4MjdiOTVkZikKICAgICAgICA7CgogICAgICAgIAogICAgCiAgICAKICAgICAgICAgICAgdmFyIGNpcmNsZV9kYzg0ZGE3MmM4N2I0NzZlOWViZGIwOWFkOTFhNDJjZiA9IEwuY2lyY2xlKAogICAgICAgICAgICAgICAgWzUyLjM1ODc3MjQxMTIzMTY0LCA0Ljg2MTcxNTg4NDMzNjQxMDZdLAogICAgICAgICAgICAgICAgeyJidWJibGluZ01vdXNlRXZlbnRzIjogdHJ1ZSwgImNvbG9yIjogInJlZCIsICJkYXNoQXJyYXkiOiBudWxsLCAiZGFzaE9mZnNldCI6IG51bGwsICJmaWxsIjogZmFsc2UsICJmaWxsQ29sb3IiOiAicmVkIiwgImZpbGxPcGFjaXR5IjogMC4yLCAiZmlsbFJ1bGUiOiAiZXZlbm9kZCIsICJsaW5lQ2FwIjogInJvdW5kIiwgImxpbmVKb2luIjogInJvdW5kIiwgIm9wYWNpdHkiOiAxLjAsICJyYWRpdXMiOiAyLCAic3Ryb2tlIjogdHJ1ZSwgIndlaWdodCI6IDN9CiAgICAgICAgICAgICkuYWRkVG8obWFwXzVjYWMxM2Q5YzUxZjQ1ZmJhNzk5MzcwNTVkNzE0MTEyKTsKICAgICAgICAKICAgIAogICAgICAgIHZhciBwb3B1cF8wYzk4ZDMyNzU1NzQ0MmJlODkwYmVmZDU5Y2M2MjM4NiA9IEwucG9wdXAoeyJtYXhXaWR0aCI6ICIxMDAlIn0pOwoKICAgICAgICAKICAgICAgICAgICAgdmFyIGh0bWxfNmU4NDY2ZGFlZjQwNGMwZWFiNWI2MGVmY2EwMzEzNTQgPSAkKGA8ZGl2IGlkPSJodG1sXzZlODQ2NmRhZWY0MDRjMGVhYjViNjBlZmNhMDMxMzU0IiBzdHlsZT0id2lkdGg6IDEwMC4wJTsgaGVpZ2h0OiAxMDAuMCU7Ij5NeSBsb2NhdGlvbjwvZGl2PmApWzBdOwogICAgICAgICAgICBwb3B1cF8wYzk4ZDMyNzU1NzQ0MmJlODkwYmVmZDU5Y2M2MjM4Ni5zZXRDb250ZW50KGh0bWxfNmU4NDY2ZGFlZjQwNGMwZWFiNWI2MGVmY2EwMzEzNTQpOwogICAgICAgIAoKICAgICAgICBjaXJjbGVfZGM4NGRhNzJjODdiNDc2ZTllYmRiMDlhZDkxYTQyY2YuYmluZFBvcHVwKHBvcHVwXzBjOThkMzI3NTU3NDQyYmU4OTBiZWZkNTljYzYyMzg2KQogICAgICAgIDsKCiAgICAgICAgCiAgICAKICAgIAogICAgICAgICAgICB2YXIgY2lyY2xlXzNjYjhlM2VjNmE3YzQwM2NiN2Y2NTIwZWE1ODQ3YWQyID0gTC5jaXJjbGUoCiAgICAgICAgICAgICAgICBbNTIuMzU4Nzk5NjI0Njk5MTMsIDQuODYxNTQzNTk4MTUyMjNdLAogICAgICAgICAgICAgICAgeyJidWJibGluZ01vdXNlRXZlbnRzIjogdHJ1ZSwgImNvbG9yIjogInJlZCIsICJkYXNoQXJyYXkiOiBudWxsLCAiZGFzaE9mZnNldCI6IG51bGwsICJmaWxsIjogZmFsc2UsICJmaWxsQ29sb3IiOiAicmVkIiwgImZpbGxPcGFjaXR5IjogMC4yLCAiZmlsbFJ1bGUiOiAiZXZlbm9kZCIsICJsaW5lQ2FwIjogInJvdW5kIiwgImxpbmVKb2luIjogInJvdW5kIiwgIm9wYWNpdHkiOiAxLjAsICJyYWRpdXMiOiAyLCAic3Ryb2tlIjogdHJ1ZSwgIndlaWdodCI6IDN9CiAgICAgICAgICAgICkuYWRkVG8obWFwXzVjYWMxM2Q5YzUxZjQ1ZmJhNzk5MzcwNTVkNzE0MTEyKTsKICAgICAgICAKICAgIAogICAgICAgIHZhciBwb3B1cF8xZGM4MTBjZjY2YzQ0YTcyYTYzZmFmYzgxMGJkZDViZCA9IEwucG9wdXAoeyJtYXhXaWR0aCI6ICIxMDAlIn0pOwoKICAgICAgICAKICAgICAgICAgICAgdmFyIGh0bWxfNDM1ZmQ3ZjJhNDY5NDVkM2IyOGRjZDM4OGFjYzYzMmYgPSAkKGA8ZGl2IGlkPSJodG1sXzQzNWZkN2YyYTQ2OTQ1ZDNiMjhkY2QzODhhY2M2MzJmIiBzdHlsZT0id2lkdGg6IDEwMC4wJTsgaGVpZ2h0OiAxMDAuMCU7Ij5NeSBsb2NhdGlvbjwvZGl2PmApWzBdOwogICAgICAgICAgICBwb3B1cF8xZGM4MTBjZjY2YzQ0YTcyYTYzZmFmYzgxMGJkZDViZC5zZXRDb250ZW50KGh0bWxfNDM1ZmQ3ZjJhNDY5NDVkM2IyOGRjZDM4OGFjYzYzMmYpOwogICAgICAgIAoKICAgICAgICBjaXJjbGVfM2NiOGUzZWM2YTdjNDAzY2I3ZjY1MjBlYTU4NDdhZDIuYmluZFBvcHVwKHBvcHVwXzFkYzgxMGNmNjZjNDRhNzJhNjNmYWZjODEwYmRkNWJkKQogICAgICAgIDsKCiAgICAgICAgCiAgICAKICAgIAogICAgICAgICAgICB2YXIgY2lyY2xlXzlmNWM5ZGI4ZDZiNTQwMmY5OWI0YThmMDBjODFjY2NhID0gTC5jaXJjbGUoCiAgICAgICAgICAgICAgICBbNTIuMzU4Nzk5NjI0Njk5MTMsIDQuODYxNTQzNTk4MTUyMjNdLAogICAgICAgICAgICAgICAgeyJidWJibGluZ01vdXNlRXZlbnRzIjogdHJ1ZSwgImNvbG9yIjogInJlZCIsICJkYXNoQXJyYXkiOiBudWxsLCAiZGFzaE9mZnNldCI6IG51bGwsICJmaWxsIjogZmFsc2UsICJmaWxsQ29sb3IiOiAicmVkIiwgImZpbGxPcGFjaXR5IjogMC4yLCAiZmlsbFJ1bGUiOiAiZXZlbm9kZCIsICJsaW5lQ2FwIjogInJvdW5kIiwgImxpbmVKb2luIjogInJvdW5kIiwgIm9wYWNpdHkiOiAxLjAsICJyYWRpdXMiOiAyLCAic3Ryb2tlIjogdHJ1ZSwgIndlaWdodCI6IDN9CiAgICAgICAgICAgICkuYWRkVG8obWFwXzVjYWMxM2Q5YzUxZjQ1ZmJhNzk5MzcwNTVkNzE0MTEyKTsKICAgICAgICAKICAgIAogICAgICAgIHZhciBwb3B1cF9mY2M1NWYyNjcwYzU0MmY3OGFjOWE2MjhjZmEyMzU0ZSA9IEwucG9wdXAoeyJtYXhXaWR0aCI6ICIxMDAlIn0pOwoKICAgICAgICAKICAgICAgICAgICAgdmFyIGh0bWxfOWFjNWNlMzAzMjEwNDBiN2IxNzc3NzUzMDY0YzA4N2QgPSAkKGA8ZGl2IGlkPSJodG1sXzlhYzVjZTMwMzIxMDQwYjdiMTc3Nzc1MzA2NGMwODdkIiBzdHlsZT0id2lkdGg6IDEwMC4wJTsgaGVpZ2h0OiAxMDAuMCU7Ij5NeSBsb2NhdGlvbjwvZGl2PmApWzBdOwogICAgICAgICAgICBwb3B1cF9mY2M1NWYyNjcwYzU0MmY3OGFjOWE2MjhjZmEyMzU0ZS5zZXRDb250ZW50KGh0bWxfOWFjNWNlMzAzMjEwNDBiN2IxNzc3NzUzMDY0YzA4N2QpOwogICAgICAgIAoKICAgICAgICBjaXJjbGVfOWY1YzlkYjhkNmI1NDAyZjk5YjRhOGYwMGM4MWNjY2EuYmluZFBvcHVwKHBvcHVwX2ZjYzU1ZjI2NzBjNTQyZjc4YWM5YTYyOGNmYTIzNTRlKQogICAgICAgIDsKCiAgICAgICAgCiAgICAKICAgIAogICAgICAgICAgICB2YXIgY2lyY2xlXzljYTRkZTlhYzQzMzRhOTBiZjFmNDU2OWM3ZmE4NjMzID0gTC5jaXJjbGUoCiAgICAgICAgICAgICAgICBbNTIuMzU4Nzk5NjI0Njk5MTMsIDQuODYxNTQzNTk4MTUyMjNdLAogICAgICAgICAgICAgICAgeyJidWJibGluZ01vdXNlRXZlbnRzIjogdHJ1ZSwgImNvbG9yIjogInJlZCIsICJkYXNoQXJyYXkiOiBudWxsLCAiZGFzaE9mZnNldCI6IG51bGwsICJmaWxsIjogZmFsc2UsICJmaWxsQ29sb3IiOiAicmVkIiwgImZpbGxPcGFjaXR5IjogMC4yLCAiZmlsbFJ1bGUiOiAiZXZlbm9kZCIsICJsaW5lQ2FwIjogInJvdW5kIiwgImxpbmVKb2luIjogInJvdW5kIiwgIm9wYWNpdHkiOiAxLjAsICJyYWRpdXMiOiAyLCAic3Ryb2tlIjogdHJ1ZSwgIndlaWdodCI6IDN9CiAgICAgICAgICAgICkuYWRkVG8obWFwXzVjYWMxM2Q5YzUxZjQ1ZmJhNzk5MzcwNTVkNzE0MTEyKTsKICAgICAgICAKICAgIAogICAgICAgIHZhciBwb3B1cF80NzZjMWZiN2I3Yzg0OGFmODJhMGJlZjljODQ5MTg5NiA9IEwucG9wdXAoeyJtYXhXaWR0aCI6ICIxMDAlIn0pOwoKICAgICAgICAKICAgICAgICAgICAgdmFyIGh0bWxfM2E1ZjIxN2U3MGM2NGI3NTkzMjUyNmU4MTU0ZWU5MjAgPSAkKGA8ZGl2IGlkPSJodG1sXzNhNWYyMTdlNzBjNjRiNzU5MzI1MjZlODE1NGVlOTIwIiBzdHlsZT0id2lkdGg6IDEwMC4wJTsgaGVpZ2h0OiAxMDAuMCU7Ij5NeSBsb2NhdGlvbjwvZGl2PmApWzBdOwogICAgICAgICAgICBwb3B1cF80NzZjMWZiN2I3Yzg0OGFmODJhMGJlZjljODQ5MTg5Ni5zZXRDb250ZW50KGh0bWxfM2E1ZjIxN2U3MGM2NGI3NTkzMjUyNmU4MTU0ZWU5MjApOwogICAgICAgIAoKICAgICAgICBjaXJjbGVfOWNhNGRlOWFjNDMzNGE5MGJmMWY0NTY5YzdmYTg2MzMuYmluZFBvcHVwKHBvcHVwXzQ3NmMxZmI3YjdjODQ4YWY4MmEwYmVmOWM4NDkxODk2KQogICAgICAgIDsKCiAgICAgICAgCiAgICAKICAgIAogICAgICAgICAgICB2YXIgY2lyY2xlXzZmMzhhMTAwNDZiYjRhZDZiM2U4YzI0MTE4MjAzZjg2ID0gTC5jaXJjbGUoCiAgICAgICAgICAgICAgICBbNTIuMzU4Nzk5NjI0Njk5MTMsIDQuODYxNTQzNTk4MTUyMjNdLAogICAgICAgICAgICAgICAgeyJidWJibGluZ01vdXNlRXZlbnRzIjogdHJ1ZSwgImNvbG9yIjogInJlZCIsICJkYXNoQXJyYXkiOiBudWxsLCAiZGFzaE9mZnNldCI6IG51bGwsICJmaWxsIjogZmFsc2UsICJmaWxsQ29sb3IiOiAicmVkIiwgImZpbGxPcGFjaXR5IjogMC4yLCAiZmlsbFJ1bGUiOiAiZXZlbm9kZCIsICJsaW5lQ2FwIjogInJvdW5kIiwgImxpbmVKb2luIjogInJvdW5kIiwgIm9wYWNpdHkiOiAxLjAsICJyYWRpdXMiOiAyLCAic3Ryb2tlIjogdHJ1ZSwgIndlaWdodCI6IDN9CiAgICAgICAgICAgICkuYWRkVG8obWFwXzVjYWMxM2Q5YzUxZjQ1ZmJhNzk5MzcwNTVkNzE0MTEyKTsKICAgICAgICAKICAgIAogICAgICAgIHZhciBwb3B1cF9hNzgyNDM0ODRkNGU0MTg1YmUwODI5ZjgwMDAxNTk3OCA9IEwucG9wdXAoeyJtYXhXaWR0aCI6ICIxMDAlIn0pOwoKICAgICAgICAKICAgICAgICAgICAgdmFyIGh0bWxfYTZjZjJiNGRlMTVjNDYwOGI3NTEwMmNhYTY1NDRiYWYgPSAkKGA8ZGl2IGlkPSJodG1sX2E2Y2YyYjRkZTE1YzQ2MDhiNzUxMDJjYWE2NTQ0YmFmIiBzdHlsZT0id2lkdGg6IDEwMC4wJTsgaGVpZ2h0OiAxMDAuMCU7Ij5NeSBsb2NhdGlvbjwvZGl2PmApWzBdOwogICAgICAgICAgICBwb3B1cF9hNzgyNDM0ODRkNGU0MTg1YmUwODI5ZjgwMDAxNTk3OC5zZXRDb250ZW50KGh0bWxfYTZjZjJiNGRlMTVjNDYwOGI3NTEwMmNhYTY1NDRiYWYpOwogICAgICAgIAoKICAgICAgICBjaXJjbGVfNmYzOGExMDA0NmJiNGFkNmIzZThjMjQxMTgyMDNmODYuYmluZFBvcHVwKHBvcHVwX2E3ODI0MzQ4NGQ0ZTQxODViZTA4MjlmODAwMDE1OTc4KQogICAgICAgIDsKCiAgICAgICAgCiAgICAKICAgIAogICAgICAgICAgICB2YXIgY2lyY2xlXzkzYTcyODBiYWE3OTQ0ODM4ZjIwNzE4MGUyMWFhOWQ3ID0gTC5jaXJjbGUoCiAgICAgICAgICAgICAgICBbNTIuMzU4Nzc2MzQ1ODIzNTYsIDQuODYxNjg2ODAxODE0NThdLAogICAgICAgICAgICAgICAgeyJidWJibGluZ01vdXNlRXZlbnRzIjogdHJ1ZSwgImNvbG9yIjogInJlZCIsICJkYXNoQXJyYXkiOiBudWxsLCAiZGFzaE9mZnNldCI6IG51bGwsICJmaWxsIjogZmFsc2UsICJmaWxsQ29sb3IiOiAicmVkIiwgImZpbGxPcGFjaXR5IjogMC4yLCAiZmlsbFJ1bGUiOiAiZXZlbm9kZCIsICJsaW5lQ2FwIjogInJvdW5kIiwgImxpbmVKb2luIjogInJvdW5kIiwgIm9wYWNpdHkiOiAxLjAsICJyYWRpdXMiOiAyLCAic3Ryb2tlIjogdHJ1ZSwgIndlaWdodCI6IDN9CiAgICAgICAgICAgICkuYWRkVG8obWFwXzVjYWMxM2Q5YzUxZjQ1ZmJhNzk5MzcwNTVkNzE0MTEyKTsKICAgICAgICAKICAgIAogICAgICAgIHZhciBwb3B1cF9lMmMwMDQ4ZjZmZTM0OTg2YTY2NWU2ZDYwN2JiYWM1NSA9IEwucG9wdXAoeyJtYXhXaWR0aCI6ICIxMDAlIn0pOwoKICAgICAgICAKICAgICAgICAgICAgdmFyIGh0bWxfMDg1MjcwYjU1MTE2NGM1MzkyY2ViNGUxM2E4ZjE2NzMgPSAkKGA8ZGl2IGlkPSJodG1sXzA4NTI3MGI1NTExNjRjNTM5MmNlYjRlMTNhOGYxNjczIiBzdHlsZT0id2lkdGg6IDEwMC4wJTsgaGVpZ2h0OiAxMDAuMCU7Ij5NeSBsb2NhdGlvbjwvZGl2PmApWzBdOwogICAgICAgICAgICBwb3B1cF9lMmMwMDQ4ZjZmZTM0OTg2YTY2NWU2ZDYwN2JiYWM1NS5zZXRDb250ZW50KGh0bWxfMDg1MjcwYjU1MTE2NGM1MzkyY2ViNGUxM2E4ZjE2NzMpOwogICAgICAgIAoKICAgICAgICBjaXJjbGVfOTNhNzI4MGJhYTc5NDQ4MzhmMjA3MTgwZTIxYWE5ZDcuYmluZFBvcHVwKHBvcHVwX2UyYzAwNDhmNmZlMzQ5ODZhNjY1ZTZkNjA3YmJhYzU1KQogICAgICAgIDsKCiAgICAgICAgCiAgICAKICAgIAogICAgICAgICAgICB2YXIgY2lyY2xlXzA0NWQ1NmY1ZTc0OTQxODA5MmNiOGY3NGE3MDgyOGFhID0gTC5jaXJjbGUoCiAgICAgICAgICAgICAgICBbNTIuMzU4Nzc2MzQ1ODIzNTYsIDQuODYxNjg2ODAxODE0NThdLAogICAgICAgICAgICAgICAgeyJidWJibGluZ01vdXNlRXZlbnRzIjogdHJ1ZSwgImNvbG9yIjogInJlZCIsICJkYXNoQXJyYXkiOiBudWxsLCAiZGFzaE9mZnNldCI6IG51bGwsICJmaWxsIjogZmFsc2UsICJmaWxsQ29sb3IiOiAicmVkIiwgImZpbGxPcGFjaXR5IjogMC4yLCAiZmlsbFJ1bGUiOiAiZXZlbm9kZCIsICJsaW5lQ2FwIjogInJvdW5kIiwgImxpbmVKb2luIjogInJvdW5kIiwgIm9wYWNpdHkiOiAxLjAsICJyYWRpdXMiOiAyLCAic3Ryb2tlIjogdHJ1ZSwgIndlaWdodCI6IDN9CiAgICAgICAgICAgICkuYWRkVG8obWFwXzVjYWMxM2Q5YzUxZjQ1ZmJhNzk5MzcwNTVkNzE0MTEyKTsKICAgICAgICAKICAgIAogICAgICAgIHZhciBwb3B1cF8yNTBlMDIwYWFiOWY0NzczYWUyNTNlN2Q5NTlmYjhkYyA9IEwucG9wdXAoeyJtYXhXaWR0aCI6ICIxMDAlIn0pOwoKICAgICAgICAKICAgICAgICAgICAgdmFyIGh0bWxfMmEyZDdhZjljZWJjNDExNTk5NDk5MDIyM2NlYWQ4ZDYgPSAkKGA8ZGl2IGlkPSJodG1sXzJhMmQ3YWY5Y2ViYzQxMTU5OTQ5OTAyMjNjZWFkOGQ2IiBzdHlsZT0id2lkdGg6IDEwMC4wJTsgaGVpZ2h0OiAxMDAuMCU7Ij5NeSBsb2NhdGlvbjwvZGl2PmApWzBdOwogICAgICAgICAgICBwb3B1cF8yNTBlMDIwYWFiOWY0NzczYWUyNTNlN2Q5NTlmYjhkYy5zZXRDb250ZW50KGh0bWxfMmEyZDdhZjljZWJjNDExNTk5NDk5MDIyM2NlYWQ4ZDYpOwogICAgICAgIAoKICAgICAgICBjaXJjbGVfMDQ1ZDU2ZjVlNzQ5NDE4MDkyY2I4Zjc0YTcwODI4YWEuYmluZFBvcHVwKHBvcHVwXzI1MGUwMjBhYWI5ZjQ3NzNhZTI1M2U3ZDk1OWZiOGRjKQogICAgICAgIDsKCiAgICAgICAgCiAgICAKICAgIAogICAgICAgICAgICB2YXIgY2lyY2xlXzYyNzNmODBkMDVlNTQxMDhhMjMzNjUxMzNiYzY2OTNiID0gTC5jaXJjbGUoCiAgICAgICAgICAgICAgICBbNTIuMzU4Nzc2MzQ1ODIzNTYsIDQuODYxNjg2ODAxODE0NThdLAogICAgICAgICAgICAgICAgeyJidWJibGluZ01vdXNlRXZlbnRzIjogdHJ1ZSwgImNvbG9yIjogInJlZCIsICJkYXNoQXJyYXkiOiBudWxsLCAiZGFzaE9mZnNldCI6IG51bGwsICJmaWxsIjogZmFsc2UsICJmaWxsQ29sb3IiOiAicmVkIiwgImZpbGxPcGFjaXR5IjogMC4yLCAiZmlsbFJ1bGUiOiAiZXZlbm9kZCIsICJsaW5lQ2FwIjogInJvdW5kIiwgImxpbmVKb2luIjogInJvdW5kIiwgIm9wYWNpdHkiOiAxLjAsICJyYWRpdXMiOiAyLCAic3Ryb2tlIjogdHJ1ZSwgIndlaWdodCI6IDN9CiAgICAgICAgICAgICkuYWRkVG8obWFwXzVjYWMxM2Q5YzUxZjQ1ZmJhNzk5MzcwNTVkNzE0MTEyKTsKICAgICAgICAKICAgIAogICAgICAgIHZhciBwb3B1cF82MjNlYTc2ZmE2M2U0OGZiOTA3Y2RjOGY5ZTA2MGMzMCA9IEwucG9wdXAoeyJtYXhXaWR0aCI6ICIxMDAlIn0pOwoKICAgICAgICAKICAgICAgICAgICAgdmFyIGh0bWxfNGUzMTMxMDhkNjA0NDhiY2EzNjMwZTRjMzNjZjE5ODEgPSAkKGA8ZGl2IGlkPSJodG1sXzRlMzEzMTA4ZDYwNDQ4YmNhMzYzMGU0YzMzY2YxOTgxIiBzdHlsZT0id2lkdGg6IDEwMC4wJTsgaGVpZ2h0OiAxMDAuMCU7Ij5NeSBsb2NhdGlvbjwvZGl2PmApWzBdOwogICAgICAgICAgICBwb3B1cF82MjNlYTc2ZmE2M2U0OGZiOTA3Y2RjOGY5ZTA2MGMzMC5zZXRDb250ZW50KGh0bWxfNGUzMTMxMDhkNjA0NDhiY2EzNjMwZTRjMzNjZjE5ODEpOwogICAgICAgIAoKICAgICAgICBjaXJjbGVfNjI3M2Y4MGQwNWU1NDEwOGEyMzM2NTEzM2JjNjY5M2IuYmluZFBvcHVwKHBvcHVwXzYyM2VhNzZmYTYzZTQ4ZmI5MDdjZGM4ZjllMDYwYzMwKQogICAgICAgIDsKCiAgICAgICAgCiAgICAKICAgIAogICAgICAgICAgICB2YXIgY2lyY2xlX2VlODM4MTA0Nzc0ZTRlMzE4YmMyMjVhZGEyYzVhYmQ4ID0gTC5jaXJjbGUoCiAgICAgICAgICAgICAgICBbNTIuMzU4NDcwODUwOTkxODE0LCA0Ljg2MjE5ODgzODM2MzkwM10sCiAgICAgICAgICAgICAgICB7ImJ1YmJsaW5nTW91c2VFdmVudHMiOiB0cnVlLCAiY29sb3IiOiAicmVkIiwgImRhc2hBcnJheSI6IG51bGwsICJkYXNoT2Zmc2V0IjogbnVsbCwgImZpbGwiOiBmYWxzZSwgImZpbGxDb2xvciI6ICJyZWQiLCAiZmlsbE9wYWNpdHkiOiAwLjIsICJmaWxsUnVsZSI6ICJldmVub2RkIiwgImxpbmVDYXAiOiAicm91bmQiLCAibGluZUpvaW4iOiAicm91bmQiLCAib3BhY2l0eSI6IDEuMCwgInJhZGl1cyI6IDIsICJzdHJva2UiOiB0cnVlLCAid2VpZ2h0IjogM30KICAgICAgICAgICAgKS5hZGRUbyhtYXBfNWNhYzEzZDljNTFmNDVmYmE3OTkzNzA1NWQ3MTQxMTIpOwogICAgICAgIAogICAgCiAgICAgICAgdmFyIHBvcHVwXzA2ODk5ZjEyMzg0YjQ0YTdhYWM1YTllZGZjNGZjMmI3ID0gTC5wb3B1cCh7Im1heFdpZHRoIjogIjEwMCUifSk7CgogICAgICAgIAogICAgICAgICAgICB2YXIgaHRtbF8yMDQ3ZDkzOGI2Mjg0ZDE1OGI5MTI2ODcwOTIxNmU5YiA9ICQoYDxkaXYgaWQ9Imh0bWxfMjA0N2Q5MzhiNjI4NGQxNThiOTEyNjg3MDkyMTZlOWIiIHN0eWxlPSJ3aWR0aDogMTAwLjAlOyBoZWlnaHQ6IDEwMC4wJTsiPk15IGxvY2F0aW9uPC9kaXY+YClbMF07CiAgICAgICAgICAgIHBvcHVwXzA2ODk5ZjEyMzg0YjQ0YTdhYWM1YTllZGZjNGZjMmI3LnNldENvbnRlbnQoaHRtbF8yMDQ3ZDkzOGI2Mjg0ZDE1OGI5MTI2ODcwOTIxNmU5Yik7CiAgICAgICAgCgogICAgICAgIGNpcmNsZV9lZTgzODEwNDc3NGU0ZTMxOGJjMjI1YWRhMmM1YWJkOC5iaW5kUG9wdXAocG9wdXBfMDY4OTlmMTIzODRiNDRhN2FhYzVhOWVkZmM0ZmMyYjcpCiAgICAgICAgOwoKICAgICAgICAKICAgIAogICAgCiAgICAgICAgICAgIHZhciBjaXJjbGVfOTkyY2NmNjM3ZjM3NGNhNzg4MTNmZjllYmMyNDg0YjYgPSBMLmNpcmNsZSgKICAgICAgICAgICAgICAgIFs1Mi4zNTg1NDU2NDg2OTQxMjUsIDQuODYyMTkyOTY5Mjc2MzEyXSwKICAgICAgICAgICAgICAgIHsiYnViYmxpbmdNb3VzZUV2ZW50cyI6IHRydWUsICJjb2xvciI6ICJyZWQiLCAiZGFzaEFycmF5IjogbnVsbCwgImRhc2hPZmZzZXQiOiBudWxsLCAiZmlsbCI6IGZhbHNlLCAiZmlsbENvbG9yIjogInJlZCIsICJmaWxsT3BhY2l0eSI6IDAuMiwgImZpbGxSdWxlIjogImV2ZW5vZGQiLCAibGluZUNhcCI6ICJyb3VuZCIsICJsaW5lSm9pbiI6ICJyb3VuZCIsICJvcGFjaXR5IjogMS4wLCAicmFkaXVzIjogMiwgInN0cm9rZSI6IHRydWUsICJ3ZWlnaHQiOiAzfQogICAgICAgICAgICApLmFkZFRvKG1hcF81Y2FjMTNkOWM1MWY0NWZiYTc5OTM3MDU1ZDcxNDExMik7CiAgICAgICAgCiAgICAKICAgICAgICB2YXIgcG9wdXBfOTRiN2ZlMWIxMDRlNDNmZGIyZGI5MDA0ZTA3NzNiZTYgPSBMLnBvcHVwKHsibWF4V2lkdGgiOiAiMTAwJSJ9KTsKCiAgICAgICAgCiAgICAgICAgICAgIHZhciBodG1sX2U0ZTI2OTNhNGY2ZDQ1MjJiYzk3MTE1MTYxZmIzOTI1ID0gJChgPGRpdiBpZD0iaHRtbF9lNGUyNjkzYTRmNmQ0NTIyYmM5NzExNTE2MWZiMzkyNSIgc3R5bGU9IndpZHRoOiAxMDAuMCU7IGhlaWdodDogMTAwLjAlOyI+TXkgbG9jYXRpb248L2Rpdj5gKVswXTsKICAgICAgICAgICAgcG9wdXBfOTRiN2ZlMWIxMDRlNDNmZGIyZGI5MDA0ZTA3NzNiZTYuc2V0Q29udGVudChodG1sX2U0ZTI2OTNhNGY2ZDQ1MjJiYzk3MTE1MTYxZmIzOTI1KTsKICAgICAgICAKCiAgICAgICAgY2lyY2xlXzk5MmNjZjYzN2YzNzRjYTc4ODEzZmY5ZWJjMjQ4NGI2LmJpbmRQb3B1cChwb3B1cF85NGI3ZmUxYjEwNGU0M2ZkYjJkYjkwMDRlMDc3M2JlNikKICAgICAgICA7CgogICAgICAgIAogICAgCiAgICAKICAgICAgICAgICAgdmFyIGNpcmNsZV80OTM1YjM0YjE3MTk0YTVkYjBmN2YyNDUxZWZiODAwMyA9IEwuY2lyY2xlKAogICAgICAgICAgICAgICAgWzUyLjM1ODU4OTM4NTI2MjQ1LCA0Ljg2MjQzODM5NjA2NTMzXSwKICAgICAgICAgICAgICAgIHsiYnViYmxpbmdNb3VzZUV2ZW50cyI6IHRydWUsICJjb2xvciI6ICJyZWQiLCAiZGFzaEFycmF5IjogbnVsbCwgImRhc2hPZmZzZXQiOiBudWxsLCAiZmlsbCI6IGZhbHNlLCAiZmlsbENvbG9yIjogInJlZCIsICJmaWxsT3BhY2l0eSI6IDAuMiwgImZpbGxSdWxlIjogImV2ZW5vZGQiLCAibGluZUNhcCI6ICJyb3VuZCIsICJsaW5lSm9pbiI6ICJyb3VuZCIsICJvcGFjaXR5IjogMS4wLCAicmFkaXVzIjogMiwgInN0cm9rZSI6IHRydWUsICJ3ZWlnaHQiOiAzfQogICAgICAgICAgICApLmFkZFRvKG1hcF81Y2FjMTNkOWM1MWY0NWZiYTc5OTM3MDU1ZDcxNDExMik7CiAgICAgICAgCiAgICAKICAgICAgICB2YXIgcG9wdXBfMDkzMTg4ZjM3NDUzNDg4ZWJjMzQ1NzM5ZjYyZWVjNWYgPSBMLnBvcHVwKHsibWF4V2lkdGgiOiAiMTAwJSJ9KTsKCiAgICAgICAgCiAgICAgICAgICAgIHZhciBodG1sX2E2YjI0MzQ1NWVjMTQ0ZjU5ODA3NmRlNmM4MDA1OGI4ID0gJChgPGRpdiBpZD0iaHRtbF9hNmIyNDM0NTVlYzE0NGY1OTgwNzZkZTZjODAwNThiOCIgc3R5bGU9IndpZHRoOiAxMDAuMCU7IGhlaWdodDogMTAwLjAlOyI+TXkgbG9jYXRpb248L2Rpdj5gKVswXTsKICAgICAgICAgICAgcG9wdXBfMDkzMTg4ZjM3NDUzNDg4ZWJjMzQ1NzM5ZjYyZWVjNWYuc2V0Q29udGVudChodG1sX2E2YjI0MzQ1NWVjMTQ0ZjU5ODA3NmRlNmM4MDA1OGI4KTsKICAgICAgICAKCiAgICAgICAgY2lyY2xlXzQ5MzViMzRiMTcxOTRhNWRiMGY3ZjI0NTFlZmI4MDAzLmJpbmRQb3B1cChwb3B1cF8wOTMxODhmMzc0NTM0ODhlYmMzNDU3MzlmNjJlZWM1ZikKICAgICAgICA7CgogICAgICAgIAogICAgCiAgICAKICAgICAgICAgICAgdmFyIGNpcmNsZV80MjlhZjMxMTBiYTE0ZmJkOWQzMjY4NzRmZTFkMzkxZCA9IEwuY2lyY2xlKAogICAgICAgICAgICAgICAgWzUyLjM1ODY2MjU5MTY4NDM0LCA0Ljg2MjUwNjQ2MTU0OTYyMl0sCiAgICAgICAgICAgICAgICB7ImJ1YmJsaW5nTW91c2VFdmVudHMiOiB0cnVlLCAiY29sb3IiOiAicmVkIiwgImRhc2hBcnJheSI6IG51bGwsICJkYXNoT2Zmc2V0IjogbnVsbCwgImZpbGwiOiBmYWxzZSwgImZpbGxDb2xvciI6ICJyZWQiLCAiZmlsbE9wYWNpdHkiOiAwLjIsICJmaWxsUnVsZSI6ICJldmVub2RkIiwgImxpbmVDYXAiOiAicm91bmQiLCAibGluZUpvaW4iOiAicm91bmQiLCAib3BhY2l0eSI6IDEuMCwgInJhZGl1cyI6IDIsICJzdHJva2UiOiB0cnVlLCAid2VpZ2h0IjogM30KICAgICAgICAgICAgKS5hZGRUbyhtYXBfNWNhYzEzZDljNTFmNDVmYmE3OTkzNzA1NWQ3MTQxMTIpOwogICAgICAgIAogICAgCiAgICAgICAgdmFyIHBvcHVwXzUxMDY1ZWZlMzcwYzQ4NTE4MWVmYzEwMzQ3ZGM4NjhkID0gTC5wb3B1cCh7Im1heFdpZHRoIjogIjEwMCUifSk7CgogICAgICAgIAogICAgICAgICAgICB2YXIgaHRtbF9hOTI3N2I2Y2U5YTA0MzAxYjM3ZTYwMzMzNGJjOGMxYSA9ICQoYDxkaXYgaWQ9Imh0bWxfYTkyNzdiNmNlOWEwNDMwMWIzN2U2MDMzMzRiYzhjMWEiIHN0eWxlPSJ3aWR0aDogMTAwLjAlOyBoZWlnaHQ6IDEwMC4wJTsiPk15IGxvY2F0aW9uPC9kaXY+YClbMF07CiAgICAgICAgICAgIHBvcHVwXzUxMDY1ZWZlMzcwYzQ4NTE4MWVmYzEwMzQ3ZGM4NjhkLnNldENvbnRlbnQoaHRtbF9hOTI3N2I2Y2U5YTA0MzAxYjM3ZTYwMzMzNGJjOGMxYSk7CiAgICAgICAgCgogICAgICAgIGNpcmNsZV80MjlhZjMxMTBiYTE0ZmJkOWQzMjY4NzRmZTFkMzkxZC5iaW5kUG9wdXAocG9wdXBfNTEwNjVlZmUzNzBjNDg1MTgxZWZjMTAzNDdkYzg2OGQpCiAgICAgICAgOwoKICAgICAgICAKICAgIAogICAgCiAgICAgICAgICAgIHZhciBjaXJjbGVfZjZkOGQ1ZTM2OGU5NDEwZDgwYzBmYTRjNWY4NWRiMmQgPSBMLmNpcmNsZSgKICAgICAgICAgICAgICAgIFs1Mi4zNTg5NzQ0NjM0ODYwNSwgNC44NjI2OTI1NDkwODU2NDldLAogICAgICAgICAgICAgICAgeyJidWJibGluZ01vdXNlRXZlbnRzIjogdHJ1ZSwgImNvbG9yIjogInJlZCIsICJkYXNoQXJyYXkiOiBudWxsLCAiZGFzaE9mZnNldCI6IG51bGwsICJmaWxsIjogZmFsc2UsICJmaWxsQ29sb3IiOiAicmVkIiwgImZpbGxPcGFjaXR5IjogMC4yLCAiZmlsbFJ1bGUiOiAiZXZlbm9kZCIsICJsaW5lQ2FwIjogInJvdW5kIiwgImxpbmVKb2luIjogInJvdW5kIiwgIm9wYWNpdHkiOiAxLjAsICJyYWRpdXMiOiAyLCAic3Ryb2tlIjogdHJ1ZSwgIndlaWdodCI6IDN9CiAgICAgICAgICAgICkuYWRkVG8obWFwXzVjYWMxM2Q5YzUxZjQ1ZmJhNzk5MzcwNTVkNzE0MTEyKTsKICAgICAgICAKICAgIAogICAgICAgIHZhciBwb3B1cF82YWQzZTgwZjBlYjg0MDc2OTNhNzM5ZjQ3ODkzNzhkNyA9IEwucG9wdXAoeyJtYXhXaWR0aCI6ICIxMDAlIn0pOwoKICAgICAgICAKICAgICAgICAgICAgdmFyIGh0bWxfNDRkMGQ1Zjc3MjIyNDJlZjlmMWEwOWE2Mjg4NjBiMTAgPSAkKGA8ZGl2IGlkPSJodG1sXzQ0ZDBkNWY3NzIyMjQyZWY5ZjFhMDlhNjI4ODYwYjEwIiBzdHlsZT0id2lkdGg6IDEwMC4wJTsgaGVpZ2h0OiAxMDAuMCU7Ij5NeSBsb2NhdGlvbjwvZGl2PmApWzBdOwogICAgICAgICAgICBwb3B1cF82YWQzZTgwZjBlYjg0MDc2OTNhNzM5ZjQ3ODkzNzhkNy5zZXRDb250ZW50KGh0bWxfNDRkMGQ1Zjc3MjIyNDJlZjlmMWEwOWE2Mjg4NjBiMTApOwogICAgICAgIAoKICAgICAgICBjaXJjbGVfZjZkOGQ1ZTM2OGU5NDEwZDgwYzBmYTRjNWY4NWRiMmQuYmluZFBvcHVwKHBvcHVwXzZhZDNlODBmMGViODQwNzY5M2E3MzlmNDc4OTM3OGQ3KQogICAgICAgIDsKCiAgICAgICAgCiAgICAKICAgIAogICAgICAgICAgICB2YXIgY2lyY2xlXzNkNDIzOGRiODU4YjQyYmNhYTkxNzFjN2M4NjNiZjYzID0gTC5jaXJjbGUoCiAgICAgICAgICAgICAgICBbNTIuMzU4OTY4ODU2NzM1Mjk1LCA0Ljg2MjY4NjY2NzQ1NTgxN10sCiAgICAgICAgICAgICAgICB7ImJ1YmJsaW5nTW91c2VFdmVudHMiOiB0cnVlLCAiY29sb3IiOiAicmVkIiwgImRhc2hBcnJheSI6IG51bGwsICJkYXNoT2Zmc2V0IjogbnVsbCwgImZpbGwiOiBmYWxzZSwgImZpbGxDb2xvciI6ICJyZWQiLCAiZmlsbE9wYWNpdHkiOiAwLjIsICJmaWxsUnVsZSI6ICJldmVub2RkIiwgImxpbmVDYXAiOiAicm91bmQiLCAibGluZUpvaW4iOiAicm91bmQiLCAib3BhY2l0eSI6IDEuMCwgInJhZGl1cyI6IDIsICJzdHJva2UiOiB0cnVlLCAid2VpZ2h0IjogM30KICAgICAgICAgICAgKS5hZGRUbyhtYXBfNWNhYzEzZDljNTFmNDVmYmE3OTkzNzA1NWQ3MTQxMTIpOwogICAgICAgIAogICAgCiAgICAgICAgdmFyIHBvcHVwXzMxZjZhM2IyMDg5MDQ5NWY5NDNiOGI2ZTM2YjNlZDRiID0gTC5wb3B1cCh7Im1heFdpZHRoIjogIjEwMCUifSk7CgogICAgICAgIAogICAgICAgICAgICB2YXIgaHRtbF9lZjljODFiMWQxNTU0MGE2YTg3Njc1NThmZTJjNGFhMyA9ICQoYDxkaXYgaWQ9Imh0bWxfZWY5YzgxYjFkMTU1NDBhNmE4NzY3NTU4ZmUyYzRhYTMiIHN0eWxlPSJ3aWR0aDogMTAwLjAlOyBoZWlnaHQ6IDEwMC4wJTsiPk15IGxvY2F0aW9uPC9kaXY+YClbMF07CiAgICAgICAgICAgIHBvcHVwXzMxZjZhM2IyMDg5MDQ5NWY5NDNiOGI2ZTM2YjNlZDRiLnNldENvbnRlbnQoaHRtbF9lZjljODFiMWQxNTU0MGE2YTg3Njc1NThmZTJjNGFhMyk7CiAgICAgICAgCgogICAgICAgIGNpcmNsZV8zZDQyMzhkYjg1OGI0MmJjYWE5MTcxYzdjODYzYmY2My5iaW5kUG9wdXAocG9wdXBfMzFmNmEzYjIwODkwNDk1Zjk0M2I4YjZlMzZiM2VkNGIpCiAgICAgICAgOwoKICAgICAgICAKICAgIAogICAgCiAgICAgICAgICAgIHZhciBjaXJjbGVfZTJlNGJkZjRkMjVlNGE5MTlhMzZkY2YyYjBkNWM5ODcgPSBMLmNpcmNsZSgKICAgICAgICAgICAgICAgIFs1Mi4zNTkwMjQ3Mjc0NjE0MiwgNC44NjIyMzYxNDc4NjQ3MTQ1XSwKICAgICAgICAgICAgICAgIHsiYnViYmxpbmdNb3VzZUV2ZW50cyI6IHRydWUsICJjb2xvciI6ICJyZWQiLCAiZGFzaEFycmF5IjogbnVsbCwgImRhc2hPZmZzZXQiOiBudWxsLCAiZmlsbCI6IGZhbHNlLCAiZmlsbENvbG9yIjogInJlZCIsICJmaWxsT3BhY2l0eSI6IDAuMiwgImZpbGxSdWxlIjogImV2ZW5vZGQiLCAibGluZUNhcCI6ICJyb3VuZCIsICJsaW5lSm9pbiI6ICJyb3VuZCIsICJvcGFjaXR5IjogMS4wLCAicmFkaXVzIjogMiwgInN0cm9rZSI6IHRydWUsICJ3ZWlnaHQiOiAzfQogICAgICAgICAgICApLmFkZFRvKG1hcF81Y2FjMTNkOWM1MWY0NWZiYTc5OTM3MDU1ZDcxNDExMik7CiAgICAgICAgCiAgICAKICAgICAgICB2YXIgcG9wdXBfZGYxZGEyNGFjNGNjNGZkYzliOTMwMjIxNmQ3ZWRlMzEgPSBMLnBvcHVwKHsibWF4V2lkdGgiOiAiMTAwJSJ9KTsKCiAgICAgICAgCiAgICAgICAgICAgIHZhciBodG1sXzIwMzQzMzg4OTM4ZDQzZDc4NTM5NWM1MDIyOGYyMzhhID0gJChgPGRpdiBpZD0iaHRtbF8yMDM0MzM4ODkzOGQ0M2Q3ODUzOTVjNTAyMjhmMjM4YSIgc3R5bGU9IndpZHRoOiAxMDAuMCU7IGhlaWdodDogMTAwLjAlOyI+TXkgbG9jYXRpb248L2Rpdj5gKVswXTsKICAgICAgICAgICAgcG9wdXBfZGYxZGEyNGFjNGNjNGZkYzliOTMwMjIxNmQ3ZWRlMzEuc2V0Q29udGVudChodG1sXzIwMzQzMzg4OTM4ZDQzZDc4NTM5NWM1MDIyOGYyMzhhKTsKICAgICAgICAKCiAgICAgICAgY2lyY2xlX2UyZTRiZGY0ZDI1ZTRhOTE5YTM2ZGNmMmIwZDVjOTg3LmJpbmRQb3B1cChwb3B1cF9kZjFkYTI0YWM0Y2M0ZmRjOWI5MzAyMjE2ZDdlZGUzMSkKICAgICAgICA7CgogICAgICAgIAogICAgCiAgICAKICAgICAgICAgICAgdmFyIGNpcmNsZV9mOWZjMzRlYTVkYTY0ODQ5OWNlNTQyMGIzYTAxZDQwYyA9IEwuY2lyY2xlKAogICAgICAgICAgICAgICAgWzUyLjM1OTE0MzUxOTExMDk5LCA0Ljg2MTk1MTQ0Njk5MDQ3MV0sCiAgICAgICAgICAgICAgICB7ImJ1YmJsaW5nTW91c2VFdmVudHMiOiB0cnVlLCAiY29sb3IiOiAicmVkIiwgImRhc2hBcnJheSI6IG51bGwsICJkYXNoT2Zmc2V0IjogbnVsbCwgImZpbGwiOiBmYWxzZSwgImZpbGxDb2xvciI6ICJyZWQiLCAiZmlsbE9wYWNpdHkiOiAwLjIsICJmaWxsUnVsZSI6ICJldmVub2RkIiwgImxpbmVDYXAiOiAicm91bmQiLCAibGluZUpvaW4iOiAicm91bmQiLCAib3BhY2l0eSI6IDEuMCwgInJhZGl1cyI6IDIsICJzdHJva2UiOiB0cnVlLCAid2VpZ2h0IjogM30KICAgICAgICAgICAgKS5hZGRUbyhtYXBfNWNhYzEzZDljNTFmNDVmYmE3OTkzNzA1NWQ3MTQxMTIpOwogICAgICAgIAogICAgCiAgICAgICAgdmFyIHBvcHVwX2Y5YWUzNWUwYjIyNDQ0ZGU4NDJlMzEzYjRmZjMyNjlhID0gTC5wb3B1cCh7Im1heFdpZHRoIjogIjEwMCUifSk7CgogICAgICAgIAogICAgICAgICAgICB2YXIgaHRtbF9kNDNkMTQ0YzU4NmM0Mjg1OWQ2MzkwMTg1ZDI2ZmU5YiA9ICQoYDxkaXYgaWQ9Imh0bWxfZDQzZDE0NGM1ODZjNDI4NTlkNjM5MDE4NWQyNmZlOWIiIHN0eWxlPSJ3aWR0aDogMTAwLjAlOyBoZWlnaHQ6IDEwMC4wJTsiPk15IGxvY2F0aW9uPC9kaXY+YClbMF07CiAgICAgICAgICAgIHBvcHVwX2Y5YWUzNWUwYjIyNDQ0ZGU4NDJlMzEzYjRmZjMyNjlhLnNldENvbnRlbnQoaHRtbF9kNDNkMTQ0YzU4NmM0Mjg1OWQ2MzkwMTg1ZDI2ZmU5Yik7CiAgICAgICAgCgogICAgICAgIGNpcmNsZV9mOWZjMzRlYTVkYTY0ODQ5OWNlNTQyMGIzYTAxZDQwYy5iaW5kUG9wdXAocG9wdXBfZjlhZTM1ZTBiMjI0NDRkZTg0MmUzMTNiNGZmMzI2OWEpCiAgICAgICAgOwoKICAgICAgICAKICAgIAogICAgCiAgICAgICAgICAgIHZhciBjaXJjbGVfOWI4MDQ2ZTBmMmM5NGVmMjhiYzMyOTY4MTI2Y2YwNzAgPSBMLmNpcmNsZSgKICAgICAgICAgICAgICAgIFs1Mi4zNTkzNjY0OTkyMTc3NiwgNC44NjE3NjY4NDczMjMwNDhdLAogICAgICAgICAgICAgICAgeyJidWJibGluZ01vdXNlRXZlbnRzIjogdHJ1ZSwgImNvbG9yIjogInJlZCIsICJkYXNoQXJyYXkiOiBudWxsLCAiZGFzaE9mZnNldCI6IG51bGwsICJmaWxsIjogZmFsc2UsICJmaWxsQ29sb3IiOiAicmVkIiwgImZpbGxPcGFjaXR5IjogMC4yLCAiZmlsbFJ1bGUiOiAiZXZlbm9kZCIsICJsaW5lQ2FwIjogInJvdW5kIiwgImxpbmVKb2luIjogInJvdW5kIiwgIm9wYWNpdHkiOiAxLjAsICJyYWRpdXMiOiAyLCAic3Ryb2tlIjogdHJ1ZSwgIndlaWdodCI6IDN9CiAgICAgICAgICAgICkuYWRkVG8obWFwXzVjYWMxM2Q5YzUxZjQ1ZmJhNzk5MzcwNTVkNzE0MTEyKTsKICAgICAgICAKICAgIAogICAgICAgIHZhciBwb3B1cF8yMGMyOGJiMGUzZjA0NDU1OTIzNWVmZDQ0YTZmYzM2MyA9IEwucG9wdXAoeyJtYXhXaWR0aCI6ICIxMDAlIn0pOwoKICAgICAgICAKICAgICAgICAgICAgdmFyIGh0bWxfMDRkMDhiYjBlNmU5NGMxMWE4MTNhY2IwZmE4YTc3OTggPSAkKGA8ZGl2IGlkPSJodG1sXzA0ZDA4YmIwZTZlOTRjMTFhODEzYWNiMGZhOGE3Nzk4IiBzdHlsZT0id2lkdGg6IDEwMC4wJTsgaGVpZ2h0OiAxMDAuMCU7Ij5NeSBsb2NhdGlvbjwvZGl2PmApWzBdOwogICAgICAgICAgICBwb3B1cF8yMGMyOGJiMGUzZjA0NDU1OTIzNWVmZDQ0YTZmYzM2My5zZXRDb250ZW50KGh0bWxfMDRkMDhiYjBlNmU5NGMxMWE4MTNhY2IwZmE4YTc3OTgpOwogICAgICAgIAoKICAgICAgICBjaXJjbGVfOWI4MDQ2ZTBmMmM5NGVmMjhiYzMyOTY4MTI2Y2YwNzAuYmluZFBvcHVwKHBvcHVwXzIwYzI4YmIwZTNmMDQ0NTU5MjM1ZWZkNDRhNmZjMzYzKQogICAgICAgIDsKCiAgICAgICAgCiAgICAKICAgIAogICAgICAgICAgICB2YXIgY2lyY2xlX2E2NjRlNWE2ZjA5NTQ1NzJhYzhhZjVlZTI5NzQ1OWQyID0gTC5jaXJjbGUoCiAgICAgICAgICAgICAgICBbNTIuMzU5NTk1MTA0MjEwODgsIDQuODYxNTUzNTc5NjI1NTE0NV0sCiAgICAgICAgICAgICAgICB7ImJ1YmJsaW5nTW91c2VFdmVudHMiOiB0cnVlLCAiY29sb3IiOiAicmVkIiwgImRhc2hBcnJheSI6IG51bGwsICJkYXNoT2Zmc2V0IjogbnVsbCwgImZpbGwiOiBmYWxzZSwgImZpbGxDb2xvciI6ICJyZWQiLCAiZmlsbE9wYWNpdHkiOiAwLjIsICJmaWxsUnVsZSI6ICJldmVub2RkIiwgImxpbmVDYXAiOiAicm91bmQiLCAibGluZUpvaW4iOiAicm91bmQiLCAib3BhY2l0eSI6IDEuMCwgInJhZGl1cyI6IDIsICJzdHJva2UiOiB0cnVlLCAid2VpZ2h0IjogM30KICAgICAgICAgICAgKS5hZGRUbyhtYXBfNWNhYzEzZDljNTFmNDVmYmE3OTkzNzA1NWQ3MTQxMTIpOwogICAgICAgIAogICAgCiAgICAgICAgdmFyIHBvcHVwXzIwZmQwYTE2NWU1NDRkZjE4ODdiNTk3MGE0NzgzNTFhID0gTC5wb3B1cCh7Im1heFdpZHRoIjogIjEwMCUifSk7CgogICAgICAgIAogICAgICAgICAgICB2YXIgaHRtbF9lYmNmYzI3OTQzN2Y0N2I2YjY0MDkwNjNjZmVkOGIyYSA9ICQoYDxkaXYgaWQ9Imh0bWxfZWJjZmMyNzk0MzdmNDdiNmI2NDA5MDYzY2ZlZDhiMmEiIHN0eWxlPSJ3aWR0aDogMTAwLjAlOyBoZWlnaHQ6IDEwMC4wJTsiPk15IGxvY2F0aW9uPC9kaXY+YClbMF07CiAgICAgICAgICAgIHBvcHVwXzIwZmQwYTE2NWU1NDRkZjE4ODdiNTk3MGE0NzgzNTFhLnNldENvbnRlbnQoaHRtbF9lYmNmYzI3OTQzN2Y0N2I2YjY0MDkwNjNjZmVkOGIyYSk7CiAgICAgICAgCgogICAgICAgIGNpcmNsZV9hNjY0ZTVhNmYwOTU0NTcyYWM4YWY1ZWUyOTc0NTlkMi5iaW5kUG9wdXAocG9wdXBfMjBmZDBhMTY1ZTU0NGRmMTg4N2I1OTcwYTQ3ODM1MWEpCiAgICAgICAgOwoKICAgICAgICAKICAgIAogICAgCiAgICAgICAgICAgIHZhciBjaXJjbGVfM2MwNTEzZGU5Yjc4NDk3NDkwN2JhODY5Yjk2N2Y2YzQgPSBMLmNpcmNsZSgKICAgICAgICAgICAgICAgIFs1Mi4zNTkzNTc5MTkwNTA0OTUsIDQuODYxNDU1ODk0OTEyODUyXSwKICAgICAgICAgICAgICAgIHsiYnViYmxpbmdNb3VzZUV2ZW50cyI6IHRydWUsICJjb2xvciI6ICJyZWQiLCAiZGFzaEFycmF5IjogbnVsbCwgImRhc2hPZmZzZXQiOiBudWxsLCAiZmlsbCI6IGZhbHNlLCAiZmlsbENvbG9yIjogInJlZCIsICJmaWxsT3BhY2l0eSI6IDAuMiwgImZpbGxSdWxlIjogImV2ZW5vZGQiLCAibGluZUNhcCI6ICJyb3VuZCIsICJsaW5lSm9pbiI6ICJyb3VuZCIsICJvcGFjaXR5IjogMS4wLCAicmFkaXVzIjogMiwgInN0cm9rZSI6IHRydWUsICJ3ZWlnaHQiOiAzfQogICAgICAgICAgICApLmFkZFRvKG1hcF81Y2FjMTNkOWM1MWY0NWZiYTc5OTM3MDU1ZDcxNDExMik7CiAgICAgICAgCiAgICAKICAgICAgICB2YXIgcG9wdXBfY2FkM2U5NmE1YmM1NDQyY2EyODhkM2FmOGJkZTExOGUgPSBMLnBvcHVwKHsibWF4V2lkdGgiOiAiMTAwJSJ9KTsKCiAgICAgICAgCiAgICAgICAgICAgIHZhciBodG1sXzExNDUxMDdlMjU4NDRiM2E4NjM1YzQ1MzRlNTQwODY3ID0gJChgPGRpdiBpZD0iaHRtbF8xMTQ1MTA3ZTI1ODQ0YjNhODYzNWM0NTM0ZTU0MDg2NyIgc3R5bGU9IndpZHRoOiAxMDAuMCU7IGhlaWdodDogMTAwLjAlOyI+TXkgbG9jYXRpb248L2Rpdj5gKVswXTsKICAgICAgICAgICAgcG9wdXBfY2FkM2U5NmE1YmM1NDQyY2EyODhkM2FmOGJkZTExOGUuc2V0Q29udGVudChodG1sXzExNDUxMDdlMjU4NDRiM2E4NjM1YzQ1MzRlNTQwODY3KTsKICAgICAgICAKCiAgICAgICAgY2lyY2xlXzNjMDUxM2RlOWI3ODQ5NzQ5MDdiYTg2OWI5NjdmNmM0LmJpbmRQb3B1cChwb3B1cF9jYWQzZTk2YTViYzU0NDJjYTI4OGQzYWY4YmRlMTE4ZSkKICAgICAgICA7CgogICAgICAgIAogICAgCiAgICAKICAgICAgICAgICAgdmFyIGNpcmNsZV9kYThmY2JhMTVlZGY0YmExYjY2OGU4ZjUwNjM3NmQ4ZiA9IEwuY2lyY2xlKAogICAgICAgICAgICAgICAgWzUyLjM1OTI0ODY1ODYxMjA2LCA0Ljg2MTQyMDgwNDY5MDM3Nl0sCiAgICAgICAgICAgICAgICB7ImJ1YmJsaW5nTW91c2VFdmVudHMiOiB0cnVlLCAiY29sb3IiOiAicmVkIiwgImRhc2hBcnJheSI6IG51bGwsICJkYXNoT2Zmc2V0IjogbnVsbCwgImZpbGwiOiBmYWxzZSwgImZpbGxDb2xvciI6ICJyZWQiLCAiZmlsbE9wYWNpdHkiOiAwLjIsICJmaWxsUnVsZSI6ICJldmVub2RkIiwgImxpbmVDYXAiOiAicm91bmQiLCAibGluZUpvaW4iOiAicm91bmQiLCAib3BhY2l0eSI6IDEuMCwgInJhZGl1cyI6IDIsICJzdHJva2UiOiB0cnVlLCAid2VpZ2h0IjogM30KICAgICAgICAgICAgKS5hZGRUbyhtYXBfNWNhYzEzZDljNTFmNDVmYmE3OTkzNzA1NWQ3MTQxMTIpOwogICAgICAgIAogICAgCiAgICAgICAgdmFyIHBvcHVwXzBlMGMxNGRmNzc2ZTQwZWI5OGRhOTE5OWNmZWVkZWRjID0gTC5wb3B1cCh7Im1heFdpZHRoIjogIjEwMCUifSk7CgogICAgICAgIAogICAgICAgICAgICB2YXIgaHRtbF80OThlMzE2ZmMwODk0YTczYjYwZTIwMWE3NjJmNDI1YyA9ICQoYDxkaXYgaWQ9Imh0bWxfNDk4ZTMxNmZjMDg5NGE3M2I2MGUyMDFhNzYyZjQyNWMiIHN0eWxlPSJ3aWR0aDogMTAwLjAlOyBoZWlnaHQ6IDEwMC4wJTsiPk15IGxvY2F0aW9uPC9kaXY+YClbMF07CiAgICAgICAgICAgIHBvcHVwXzBlMGMxNGRmNzc2ZTQwZWI5OGRhOTE5OWNmZWVkZWRjLnNldENvbnRlbnQoaHRtbF80OThlMzE2ZmMwODk0YTczYjYwZTIwMWE3NjJmNDI1Yyk7CiAgICAgICAgCgogICAgICAgIGNpcmNsZV9kYThmY2JhMTVlZGY0YmExYjY2OGU4ZjUwNjM3NmQ4Zi5iaW5kUG9wdXAocG9wdXBfMGUwYzE0ZGY3NzZlNDBlYjk4ZGE5MTk5Y2ZlZWRlZGMpCiAgICAgICAgOwoKICAgICAgICAKICAgIAogICAgCiAgICAgICAgICAgIHZhciBjaXJjbGVfNTBjNjE0NzE5YWE1NDQ0NTk1ODdmZDIxMTY1YTBkM2IgPSBMLmNpcmNsZSgKICAgICAgICAgICAgICAgIFs1Mi4zNTkxOTg0NjQzNDQ2NDQsIDQuODYxNDQxMjYzMDExMjJdLAogICAgICAgICAgICAgICAgeyJidWJibGluZ01vdXNlRXZlbnRzIjogdHJ1ZSwgImNvbG9yIjogInJlZCIsICJkYXNoQXJyYXkiOiBudWxsLCAiZGFzaE9mZnNldCI6IG51bGwsICJmaWxsIjogZmFsc2UsICJmaWxsQ29sb3IiOiAicmVkIiwgImZpbGxPcGFjaXR5IjogMC4yLCAiZmlsbFJ1bGUiOiAiZXZlbm9kZCIsICJsaW5lQ2FwIjogInJvdW5kIiwgImxpbmVKb2luIjogInJvdW5kIiwgIm9wYWNpdHkiOiAxLjAsICJyYWRpdXMiOiAyLCAic3Ryb2tlIjogdHJ1ZSwgIndlaWdodCI6IDN9CiAgICAgICAgICAgICkuYWRkVG8obWFwXzVjYWMxM2Q5YzUxZjQ1ZmJhNzk5MzcwNTVkNzE0MTEyKTsKICAgICAgICAKICAgIAogICAgICAgIHZhciBwb3B1cF9mOWUyYmY2NDA1Y2U0MzNjYTY5OTQ2NGViY2Y1NzBkOSA9IEwucG9wdXAoeyJtYXhXaWR0aCI6ICIxMDAlIn0pOwoKICAgICAgICAKICAgICAgICAgICAgdmFyIGh0bWxfNWNkMDQ2M2I2NzAyNDc2MWI4NTYyYjNiZTA1YjdmOTAgPSAkKGA8ZGl2IGlkPSJodG1sXzVjZDA0NjNiNjcwMjQ3NjFiODU2MmIzYmUwNWI3ZjkwIiBzdHlsZT0id2lkdGg6IDEwMC4wJTsgaGVpZ2h0OiAxMDAuMCU7Ij5NeSBsb2NhdGlvbjwvZGl2PmApWzBdOwogICAgICAgICAgICBwb3B1cF9mOWUyYmY2NDA1Y2U0MzNjYTY5OTQ2NGViY2Y1NzBkOS5zZXRDb250ZW50KGh0bWxfNWNkMDQ2M2I2NzAyNDc2MWI4NTYyYjNiZTA1YjdmOTApOwogICAgICAgIAoKICAgICAgICBjaXJjbGVfNTBjNjE0NzE5YWE1NDQ0NTk1ODdmZDIxMTY1YTBkM2IuYmluZFBvcHVwKHBvcHVwX2Y5ZTJiZjY0MDVjZTQzM2NhNjk5NDY0ZWJjZjU3MGQ5KQogICAgICAgIDsKCiAgICAgICAgCiAgICAKICAgIAogICAgICAgICAgICB2YXIgY2lyY2xlX2MxNjVhZDI5YzFlMzQ5YmU4NjAwOWFlYTkxMTMzYTllID0gTC5jaXJjbGUoCiAgICAgICAgICAgICAgICBbNTIuMzU4NzU5ODc5MDI3NjIsIDQuODYxNzE5NTQyMjk0OTU4XSwKICAgICAgICAgICAgICAgIHsiYnViYmxpbmdNb3VzZUV2ZW50cyI6IHRydWUsICJjb2xvciI6ICJyZWQiLCAiZGFzaEFycmF5IjogbnVsbCwgImRhc2hPZmZzZXQiOiBudWxsLCAiZmlsbCI6IGZhbHNlLCAiZmlsbENvbG9yIjogInJlZCIsICJmaWxsT3BhY2l0eSI6IDAuMiwgImZpbGxSdWxlIjogImV2ZW5vZGQiLCAibGluZUNhcCI6ICJyb3VuZCIsICJsaW5lSm9pbiI6ICJyb3VuZCIsICJvcGFjaXR5IjogMS4wLCAicmFkaXVzIjogMiwgInN0cm9rZSI6IHRydWUsICJ3ZWlnaHQiOiAzfQogICAgICAgICAgICApLmFkZFRvKG1hcF81Y2FjMTNkOWM1MWY0NWZiYTc5OTM3MDU1ZDcxNDExMik7CiAgICAgICAgCiAgICAKICAgICAgICB2YXIgcG9wdXBfNWY4OWMwMGQwMDhiNDY1Njk5ZjY0OGEzNDc1Mzg3MTYgPSBMLnBvcHVwKHsibWF4V2lkdGgiOiAiMTAwJSJ9KTsKCiAgICAgICAgCiAgICAgICAgICAgIHZhciBodG1sXzkyN2UwZTFkNTY1YTQ4NWViOWRmZGVjMmUxMDU5NjFhID0gJChgPGRpdiBpZD0iaHRtbF85MjdlMGUxZDU2NWE0ODVlYjlkZmRlYzJlMTA1OTYxYSIgc3R5bGU9IndpZHRoOiAxMDAuMCU7IGhlaWdodDogMTAwLjAlOyI+TXkgbG9jYXRpb248L2Rpdj5gKVswXTsKICAgICAgICAgICAgcG9wdXBfNWY4OWMwMGQwMDhiNDY1Njk5ZjY0OGEzNDc1Mzg3MTYuc2V0Q29udGVudChodG1sXzkyN2UwZTFkNTY1YTQ4NWViOWRmZGVjMmUxMDU5NjFhKTsKICAgICAgICAKCiAgICAgICAgY2lyY2xlX2MxNjVhZDI5YzFlMzQ5YmU4NjAwOWFlYTkxMTMzYTllLmJpbmRQb3B1cChwb3B1cF81Zjg5YzAwZDAwOGI0NjU2OTlmNjQ4YTM0NzUzODcxNikKICAgICAgICA7CgogICAgICAgIAogICAgCiAgICAKICAgICAgICAgICAgdmFyIGNpcmNsZV8yM2RkZmIwZmE4OGI0MGViODU3ZTJjZWM3ZmNlNTc5MSA9IEwuY2lyY2xlKAogICAgICAgICAgICAgICAgWzUyLjM1ODc1OTg3OTAyNzYyLCA0Ljg2MTcxOTU0MjI5NDk1OF0sCiAgICAgICAgICAgICAgICB7ImJ1YmJsaW5nTW91c2VFdmVudHMiOiB0cnVlLCAiY29sb3IiOiAicmVkIiwgImRhc2hBcnJheSI6IG51bGwsICJkYXNoT2Zmc2V0IjogbnVsbCwgImZpbGwiOiBmYWxzZSwgImZpbGxDb2xvciI6ICJyZWQiLCAiZmlsbE9wYWNpdHkiOiAwLjIsICJmaWxsUnVsZSI6ICJldmVub2RkIiwgImxpbmVDYXAiOiAicm91bmQiLCAibGluZUpvaW4iOiAicm91bmQiLCAib3BhY2l0eSI6IDEuMCwgInJhZGl1cyI6IDIsICJzdHJva2UiOiB0cnVlLCAid2VpZ2h0IjogM30KICAgICAgICAgICAgKS5hZGRUbyhtYXBfNWNhYzEzZDljNTFmNDVmYmE3OTkzNzA1NWQ3MTQxMTIpOwogICAgICAgIAogICAgCiAgICAgICAgdmFyIHBvcHVwXzI5MmEwOWJlMmMzMzQ5ZWRhNDMwMjBiZTc5MmNmNzM3ID0gTC5wb3B1cCh7Im1heFdpZHRoIjogIjEwMCUifSk7CgogICAgICAgIAogICAgICAgICAgICB2YXIgaHRtbF9kNzQyZGI4ODIxOTQ0Y2NhYWZhMmY1MmYwNDNhNjU1NiA9ICQoYDxkaXYgaWQ9Imh0bWxfZDc0MmRiODgyMTk0NGNjYWFmYTJmNTJmMDQzYTY1NTYiIHN0eWxlPSJ3aWR0aDogMTAwLjAlOyBoZWlnaHQ6IDEwMC4wJTsiPk15IGxvY2F0aW9uPC9kaXY+YClbMF07CiAgICAgICAgICAgIHBvcHVwXzI5MmEwOWJlMmMzMzQ5ZWRhNDMwMjBiZTc5MmNmNzM3LnNldENvbnRlbnQoaHRtbF9kNzQyZGI4ODIxOTQ0Y2NhYWZhMmY1MmYwNDNhNjU1Nik7CiAgICAgICAgCgogICAgICAgIGNpcmNsZV8yM2RkZmIwZmE4OGI0MGViODU3ZTJjZWM3ZmNlNTc5MS5iaW5kUG9wdXAocG9wdXBfMjkyYTA5YmUyYzMzNDllZGE0MzAyMGJlNzkyY2Y3MzcpCiAgICAgICAgOwoKICAgICAgICAKICAgIAo8L3NjcmlwdD4= onload=\"this.contentDocument.open();this.contentDocument.write(atob(this.getAttribute('data-html')));this.contentDocument.close();\" allowfullscreen webkitallowfullscreen mozallowfullscreen></iframe></div></div>"
      ],
      "text/plain": [
       "<folium.folium.Map at 0x2b3c2624e08>"
      ]
     },
     "execution_count": 23,
     "metadata": {},
     "output_type": "execute_result"
    }
   ],
   "source": [
    "thuis"
   ]
  },
  {
   "cell_type": "markdown",
   "metadata": {},
   "source": [
    "## Winddata\n"
   ]
  },
  {
   "cell_type": "code",
   "execution_count": 42,
   "metadata": {},
   "outputs": [
    {
     "name": "stdout",
     "output_type": "stream",
     "text": [
      "1 ('2020-06-23 21:00:43', 52.35873262529466, 4.861381529726624, 30, 3.1)\n",
      "2 ('2020-06-23 21:00:51', 52.358785650871326, 4.861388805237606, 30, 3.1)\n",
      "3 ('2020-06-23 21:00:58', 52.358785650871326, 4.861388805237606, 30, 3.1)\n",
      "4 ('2020-06-23 21:01:00', 52.358785650871326, 4.861388805237606, 30, 3.1)\n",
      "5 ('2020-06-23 21:01:07', 52.35873900534306, 4.861313594556537, 30, 3.1)\n",
      "6 ('2020-06-23 21:01:07', 52.35873900534306, 4.861313594556537, 30, 3.1)\n",
      "7 ('2020-06-23 21:01:07', 52.35873900534306, 4.861313594556537, 30, 3.1)\n",
      "8 ('2020-06-23 21:01:07', 52.35873900534306, 4.861313594556537, 30, 3.1)\n",
      "9 ('2020-06-23 21:01:07', 52.35873900534306, 4.861313594556537, 30, 3.1)\n",
      "10 ('2020-06-23 21:01:07', 52.35873900534306, 4.861313594556537, 30, 3.1)\n",
      "11 ('2020-06-23 21:01:07', 52.35873900534306, 4.861313594556537, 30, 3.1)\n",
      "12 ('2020-06-23 21:01:07', 52.35873900534306, 4.861313594556537, 30, 3.1)\n",
      "13 ('2020-06-23 21:01:07', 52.35873900534306, 4.861313594556537, 30, 3.1)\n",
      "14 ('2020-06-23 21:01:07', 52.35873900534306, 4.861313594556537, 30, 3.1)\n",
      "15 ('2020-06-23 21:01:07', 52.35873900534306, 4.861313594556537, 30, 3.1)\n",
      "16 ('2020-06-23 21:01:07', 52.35873900534306, 4.861313594556537, 30, 3.1)\n",
      "17 ('2020-06-23 21:02:24', 52.35883555782594, 4.861511526486381, 30, 3.1)\n",
      "18 ('2020-06-23 21:02:30', 52.35887119302779, 4.8616024720148285, 30, 3.1)\n",
      "19 ('2020-06-23 21:02:38', 52.358840221855814, 4.861623038517765, 30, 3.1)\n",
      "20 ('2020-06-23 21:02:42', 52.35885789914613, 4.861605900605723, 30, 3.1)\n",
      "21 ('2020-06-23 21:02:48', 52.35883347183089, 4.861492864482051, 30, 3.1)\n",
      "22 ('2020-06-23 21:02:54', 52.3588448811232, 4.861503394619159, 30, 3.1)\n",
      "23 ('2020-06-23 21:03:00', 52.358873275248484, 4.86156556349482, 30, 3.1)\n",
      "24 ('2020-06-23 21:03:04', 52.358785650871326, 4.861388805237606, 30, 3.1)\n",
      "25 ('2020-06-23 21:03:12', 52.35887650577223, 4.861514461029288, 30, 3.1)\n",
      "26 ('2020-06-23 21:03:12', 52.35887650577223, 4.861514461029288, 30, 3.1)\n",
      "27 ('2020-06-23 21:03:12', 52.35887650577223, 4.861514461029288, 30, 3.1)\n",
      "28 ('2020-06-23 21:03:12', 52.35887650577223, 4.861514461029288, 30, 3.1)\n",
      "29 ('2020-06-23 21:03:12', 52.35887650577223, 4.861514461029288, 30, 3.1)\n",
      "30 ('2020-06-23 21:03:12', 52.35887650577223, 4.861514461029288, 30, 3.1)\n",
      "31 ('2020-06-23 21:03:12', 52.35887650577223, 4.861514461029288, 30, 3.1)\n",
      "32 ('2020-06-23 21:03:12', 52.35887650577223, 4.861514461029288, 30, 3.1)\n",
      "33 ('2020-06-23 21:03:12', 52.35887650577223, 4.861514461029288, 30, 3.1)\n",
      "34 ('2020-06-23 21:04:10', 52.358820182535965, 4.861599461772285, 30, 3.1)\n",
      "35 ('2020-06-23 21:04:10', 52.358820182535965, 4.861599461772285, 30, 3.1)\n",
      "36 ('2020-06-23 21:04:10', 52.358820182535965, 4.861599461772285, 30, 3.1)\n",
      "37 ('2020-06-23 21:04:10', 52.358820182535965, 4.861599461772285, 30, 3.1)\n",
      "38 ('2020-06-23 21:04:10', 52.358820182535965, 4.861599461772285, 30, 3.1)\n",
      "39 ('2020-06-23 21:04:10', 52.358820182535965, 4.861599461772285, 30, 3.1)\n",
      "40 ('2020-06-23 21:05:09', 52.35877669518639, 4.86166273194783, 30, 3.1)\n",
      "41 ('2020-06-23 21:05:57', 52.35867708116654, 4.861461804689229, 30, 3.1)\n",
      "42 ('2020-06-23 21:06:03', 52.358655792289056, 4.861450302504479, 30, 3.1)\n",
      "43 ('2020-06-23 21:06:15', 52.358655792289056, 4.861450302504479, 30, 3.1)\n",
      "44 ('2020-06-23 21:06:16', 52.358655792289056, 4.861450302504479, 30, 3.1)\n",
      "45 ('2020-06-23 21:06:22', 52.358655792289056, 4.861450302504479, 30, 3.1)\n",
      "46 ('2020-06-23 21:06:28', 52.358655792289056, 4.861450302504479, 30, 3.1)\n",
      "47 ('2020-06-23 21:06:35', 52.358655792289056, 4.861450302504479, 30, 3.1)\n",
      "48 ('2020-06-23 21:06:46', 52.358655792289056, 4.861450302504479, 30, 3.1)\n",
      "49 ('2020-06-23 21:06:47', 52.358655792289056, 4.861450302504479, 30, 3.1)\n",
      "50 ('2020-06-23 21:06:47', 52.358655792289056, 4.861450302504479, 30, 3.1)\n",
      "51 ('2020-06-23 21:06:59', 52.358655792289056, 4.861450302504479, 30, 3.1)\n",
      "52 ('2020-06-23 21:07:08', 52.35872379475725, 4.861472937362528, 30, 3.1)\n",
      "53 ('2020-06-23 21:07:13', 52.35872379475725, 4.861472937362528, 30, 3.1)\n",
      "54 ('2020-06-23 21:07:17', 52.35872379475725, 4.861472937362528, 30, 3.1)\n",
      "55 ('2020-06-23 21:07:24', 52.35872379475725, 4.861472937362528, 30, 3.1)\n",
      "56 ('2020-06-23 21:07:30', 52.35872379475725, 4.861472937362528, 30, 3.1)\n",
      "57 ('2020-06-23 21:07:39', 52.35872379475725, 4.861472937362528, 30, 3.1)\n",
      "58 ('2020-06-23 21:07:46', 52.35872379475725, 4.861472937362528, 30, 3.1)\n"
     ]
    },
    {
     "ename": "KeyboardInterrupt",
     "evalue": "",
     "output_type": "error",
     "traceback": [
      "\u001b[1;31m---------------------------------------------------------------------------\u001b[0m",
      "\u001b[1;31mKeyboardInterrupt\u001b[0m                         Traceback (most recent call last)",
      "\u001b[1;32m<ipython-input-42-f41e6ea93135>\u001b[0m in \u001b[0;36m<module>\u001b[1;34m\u001b[0m\n\u001b[0;32m     13\u001b[0m \u001b[1;32mwhile\u001b[0m \u001b[1;32mTrue\u001b[0m\u001b[1;33m:\u001b[0m\u001b[1;33m\u001b[0m\u001b[1;33m\u001b[0m\u001b[0m\n\u001b[0;32m     14\u001b[0m     \u001b[1;31m### getting data from the iPhone ###\u001b[0m\u001b[1;33m\u001b[0m\u001b[1;33m\u001b[0m\u001b[1;33m\u001b[0m\u001b[0m\n\u001b[1;32m---> 15\u001b[1;33m     \u001b[0mresult\u001b[0m \u001b[1;33m=\u001b[0m\u001b[0mapi\u001b[0m\u001b[1;33m.\u001b[0m\u001b[0miphone\u001b[0m\u001b[1;33m.\u001b[0m\u001b[0mlocation\u001b[0m\u001b[1;33m(\u001b[0m\u001b[1;33m)\u001b[0m\u001b[1;33m\u001b[0m\u001b[1;33m\u001b[0m\u001b[0m\n\u001b[0m\u001b[0;32m     16\u001b[0m     \u001b[0mlat\u001b[0m \u001b[1;33m=\u001b[0m \u001b[0mresult\u001b[0m\u001b[1;33m[\u001b[0m\u001b[1;34m\"latitude\"\u001b[0m\u001b[1;33m]\u001b[0m\u001b[1;33m\u001b[0m\u001b[1;33m\u001b[0m\u001b[0m\n\u001b[0;32m     17\u001b[0m     \u001b[0mlon\u001b[0m \u001b[1;33m=\u001b[0m \u001b[0mresult\u001b[0m\u001b[1;33m[\u001b[0m\u001b[1;34m'longitude'\u001b[0m\u001b[1;33m]\u001b[0m\u001b[1;33m\u001b[0m\u001b[1;33m\u001b[0m\u001b[0m\n",
      "\u001b[1;32m~\\anaconda3\\lib\\site-packages\\pyicloud\\base.py\u001b[0m in \u001b[0;36miphone\u001b[1;34m(self)\u001b[0m\n\u001b[0;32m    328\u001b[0m     \u001b[1;32mdef\u001b[0m \u001b[0miphone\u001b[0m\u001b[1;33m(\u001b[0m\u001b[0mself\u001b[0m\u001b[1;33m)\u001b[0m\u001b[1;33m:\u001b[0m\u001b[1;33m\u001b[0m\u001b[1;33m\u001b[0m\u001b[0m\n\u001b[0;32m    329\u001b[0m         \u001b[1;34m\"\"\"Returns the iPhone.\"\"\"\u001b[0m\u001b[1;33m\u001b[0m\u001b[1;33m\u001b[0m\u001b[0m\n\u001b[1;32m--> 330\u001b[1;33m         \u001b[1;32mreturn\u001b[0m \u001b[0mself\u001b[0m\u001b[1;33m.\u001b[0m\u001b[0mdevices\u001b[0m\u001b[1;33m[\u001b[0m\u001b[1;36m0\u001b[0m\u001b[1;33m]\u001b[0m\u001b[1;33m\u001b[0m\u001b[1;33m\u001b[0m\u001b[0m\n\u001b[0m\u001b[0;32m    331\u001b[0m \u001b[1;33m\u001b[0m\u001b[0m\n\u001b[0;32m    332\u001b[0m     \u001b[1;33m@\u001b[0m\u001b[0mproperty\u001b[0m\u001b[1;33m\u001b[0m\u001b[1;33m\u001b[0m\u001b[0m\n",
      "\u001b[1;32m~\\anaconda3\\lib\\site-packages\\pyicloud\\base.py\u001b[0m in \u001b[0;36mdevices\u001b[1;34m(self)\u001b[0m\n\u001b[0;32m    322\u001b[0m         \u001b[0mservice_root\u001b[0m \u001b[1;33m=\u001b[0m \u001b[0mself\u001b[0m\u001b[1;33m.\u001b[0m\u001b[0m_get_webservice_url\u001b[0m\u001b[1;33m(\u001b[0m\u001b[1;34m\"findme\"\u001b[0m\u001b[1;33m)\u001b[0m\u001b[1;33m\u001b[0m\u001b[1;33m\u001b[0m\u001b[0m\n\u001b[0;32m    323\u001b[0m         return FindMyiPhoneServiceManager(\n\u001b[1;32m--> 324\u001b[1;33m             \u001b[0mservice_root\u001b[0m\u001b[1;33m,\u001b[0m \u001b[0mself\u001b[0m\u001b[1;33m.\u001b[0m\u001b[0msession\u001b[0m\u001b[1;33m,\u001b[0m \u001b[0mself\u001b[0m\u001b[1;33m.\u001b[0m\u001b[0mparams\u001b[0m\u001b[1;33m,\u001b[0m \u001b[0mself\u001b[0m\u001b[1;33m.\u001b[0m\u001b[0mwith_family\u001b[0m\u001b[1;33m\u001b[0m\u001b[1;33m\u001b[0m\u001b[0m\n\u001b[0m\u001b[0;32m    325\u001b[0m         )\n\u001b[0;32m    326\u001b[0m \u001b[1;33m\u001b[0m\u001b[0m\n",
      "\u001b[1;32m~\\anaconda3\\lib\\site-packages\\pyicloud\\services\\findmyiphone.py\u001b[0m in \u001b[0;36m__init__\u001b[1;34m(self, service_root, session, params, with_family)\u001b[0m\n\u001b[0;32m     27\u001b[0m \u001b[1;33m\u001b[0m\u001b[0m\n\u001b[0;32m     28\u001b[0m         \u001b[0mself\u001b[0m\u001b[1;33m.\u001b[0m\u001b[0m_devices\u001b[0m \u001b[1;33m=\u001b[0m \u001b[1;33m{\u001b[0m\u001b[1;33m}\u001b[0m\u001b[1;33m\u001b[0m\u001b[1;33m\u001b[0m\u001b[0m\n\u001b[1;32m---> 29\u001b[1;33m         \u001b[0mself\u001b[0m\u001b[1;33m.\u001b[0m\u001b[0mrefresh_client\u001b[0m\u001b[1;33m(\u001b[0m\u001b[1;33m)\u001b[0m\u001b[1;33m\u001b[0m\u001b[1;33m\u001b[0m\u001b[0m\n\u001b[0m\u001b[0;32m     30\u001b[0m \u001b[1;33m\u001b[0m\u001b[0m\n\u001b[0;32m     31\u001b[0m     \u001b[1;32mdef\u001b[0m \u001b[0mrefresh_client\u001b[0m\u001b[1;33m(\u001b[0m\u001b[0mself\u001b[0m\u001b[1;33m)\u001b[0m\u001b[1;33m:\u001b[0m\u001b[1;33m\u001b[0m\u001b[1;33m\u001b[0m\u001b[0m\n",
      "\u001b[1;32m~\\anaconda3\\lib\\site-packages\\pyicloud\\services\\findmyiphone.py\u001b[0m in \u001b[0;36mrefresh_client\u001b[1;34m(self)\u001b[0m\n\u001b[0;32m     44\u001b[0m                         \u001b[1;34m\"shouldLocate\"\u001b[0m\u001b[1;33m:\u001b[0m \u001b[1;32mTrue\u001b[0m\u001b[1;33m,\u001b[0m\u001b[1;33m\u001b[0m\u001b[1;33m\u001b[0m\u001b[0m\n\u001b[0;32m     45\u001b[0m                         \u001b[1;34m\"selectedDevice\"\u001b[0m\u001b[1;33m:\u001b[0m \u001b[1;34m\"all\"\u001b[0m\u001b[1;33m,\u001b[0m\u001b[1;33m\u001b[0m\u001b[1;33m\u001b[0m\u001b[0m\n\u001b[1;32m---> 46\u001b[1;33m                         \u001b[1;34m\"deviceListVersion\"\u001b[0m\u001b[1;33m:\u001b[0m \u001b[1;36m1\u001b[0m\u001b[1;33m,\u001b[0m\u001b[1;33m\u001b[0m\u001b[1;33m\u001b[0m\u001b[0m\n\u001b[0m\u001b[0;32m     47\u001b[0m                     }\n\u001b[0;32m     48\u001b[0m                 }\n",
      "\u001b[1;32m~\\anaconda3\\lib\\site-packages\\requests\\sessions.py\u001b[0m in \u001b[0;36mpost\u001b[1;34m(self, url, data, json, **kwargs)\u001b[0m\n\u001b[0;32m    579\u001b[0m         \"\"\"\n\u001b[0;32m    580\u001b[0m \u001b[1;33m\u001b[0m\u001b[0m\n\u001b[1;32m--> 581\u001b[1;33m         \u001b[1;32mreturn\u001b[0m \u001b[0mself\u001b[0m\u001b[1;33m.\u001b[0m\u001b[0mrequest\u001b[0m\u001b[1;33m(\u001b[0m\u001b[1;34m'POST'\u001b[0m\u001b[1;33m,\u001b[0m \u001b[0murl\u001b[0m\u001b[1;33m,\u001b[0m \u001b[0mdata\u001b[0m\u001b[1;33m=\u001b[0m\u001b[0mdata\u001b[0m\u001b[1;33m,\u001b[0m \u001b[0mjson\u001b[0m\u001b[1;33m=\u001b[0m\u001b[0mjson\u001b[0m\u001b[1;33m,\u001b[0m \u001b[1;33m**\u001b[0m\u001b[0mkwargs\u001b[0m\u001b[1;33m)\u001b[0m\u001b[1;33m\u001b[0m\u001b[1;33m\u001b[0m\u001b[0m\n\u001b[0m\u001b[0;32m    582\u001b[0m \u001b[1;33m\u001b[0m\u001b[0m\n\u001b[0;32m    583\u001b[0m     \u001b[1;32mdef\u001b[0m \u001b[0mput\u001b[0m\u001b[1;33m(\u001b[0m\u001b[0mself\u001b[0m\u001b[1;33m,\u001b[0m \u001b[0murl\u001b[0m\u001b[1;33m,\u001b[0m \u001b[0mdata\u001b[0m\u001b[1;33m=\u001b[0m\u001b[1;32mNone\u001b[0m\u001b[1;33m,\u001b[0m \u001b[1;33m**\u001b[0m\u001b[0mkwargs\u001b[0m\u001b[1;33m)\u001b[0m\u001b[1;33m:\u001b[0m\u001b[1;33m\u001b[0m\u001b[1;33m\u001b[0m\u001b[0m\n",
      "\u001b[1;32m~\\anaconda3\\lib\\site-packages\\pyicloud\\base.py\u001b[0m in \u001b[0;36mrequest\u001b[1;34m(self, method, url, **kwargs)\u001b[0m\n\u001b[0;32m     72\u001b[0m         \u001b[0mhas_retried\u001b[0m \u001b[1;33m=\u001b[0m \u001b[0mkwargs\u001b[0m\u001b[1;33m.\u001b[0m\u001b[0mget\u001b[0m\u001b[1;33m(\u001b[0m\u001b[1;34m\"retried\"\u001b[0m\u001b[1;33m)\u001b[0m\u001b[1;33m\u001b[0m\u001b[1;33m\u001b[0m\u001b[0m\n\u001b[0;32m     73\u001b[0m         \u001b[0mkwargs\u001b[0m\u001b[1;33m.\u001b[0m\u001b[0mpop\u001b[0m\u001b[1;33m(\u001b[0m\u001b[1;34m\"retried\"\u001b[0m\u001b[1;33m,\u001b[0m \u001b[1;32mNone\u001b[0m\u001b[1;33m)\u001b[0m\u001b[1;33m\u001b[0m\u001b[1;33m\u001b[0m\u001b[0m\n\u001b[1;32m---> 74\u001b[1;33m         \u001b[0mresponse\u001b[0m \u001b[1;33m=\u001b[0m \u001b[0msuper\u001b[0m\u001b[1;33m(\u001b[0m\u001b[0mPyiCloudSession\u001b[0m\u001b[1;33m,\u001b[0m \u001b[0mself\u001b[0m\u001b[1;33m)\u001b[0m\u001b[1;33m.\u001b[0m\u001b[0mrequest\u001b[0m\u001b[1;33m(\u001b[0m\u001b[0mmethod\u001b[0m\u001b[1;33m,\u001b[0m \u001b[0murl\u001b[0m\u001b[1;33m,\u001b[0m \u001b[1;33m**\u001b[0m\u001b[0mkwargs\u001b[0m\u001b[1;33m)\u001b[0m\u001b[1;33m\u001b[0m\u001b[1;33m\u001b[0m\u001b[0m\n\u001b[0m\u001b[0;32m     75\u001b[0m \u001b[1;33m\u001b[0m\u001b[0m\n\u001b[0;32m     76\u001b[0m         \u001b[0mcontent_type\u001b[0m \u001b[1;33m=\u001b[0m \u001b[0mresponse\u001b[0m\u001b[1;33m.\u001b[0m\u001b[0mheaders\u001b[0m\u001b[1;33m.\u001b[0m\u001b[0mget\u001b[0m\u001b[1;33m(\u001b[0m\u001b[1;34m\"Content-Type\"\u001b[0m\u001b[1;33m,\u001b[0m \u001b[1;34m\"\"\u001b[0m\u001b[1;33m)\u001b[0m\u001b[1;33m.\u001b[0m\u001b[0msplit\u001b[0m\u001b[1;33m(\u001b[0m\u001b[1;34m\";\"\u001b[0m\u001b[1;33m)\u001b[0m\u001b[1;33m[\u001b[0m\u001b[1;36m0\u001b[0m\u001b[1;33m]\u001b[0m\u001b[1;33m\u001b[0m\u001b[1;33m\u001b[0m\u001b[0m\n",
      "\u001b[1;32m~\\anaconda3\\lib\\site-packages\\requests\\sessions.py\u001b[0m in \u001b[0;36mrequest\u001b[1;34m(self, method, url, params, data, headers, cookies, files, auth, timeout, allow_redirects, proxies, hooks, stream, verify, cert, json)\u001b[0m\n\u001b[0;32m    531\u001b[0m         }\n\u001b[0;32m    532\u001b[0m         \u001b[0msend_kwargs\u001b[0m\u001b[1;33m.\u001b[0m\u001b[0mupdate\u001b[0m\u001b[1;33m(\u001b[0m\u001b[0msettings\u001b[0m\u001b[1;33m)\u001b[0m\u001b[1;33m\u001b[0m\u001b[1;33m\u001b[0m\u001b[0m\n\u001b[1;32m--> 533\u001b[1;33m         \u001b[0mresp\u001b[0m \u001b[1;33m=\u001b[0m \u001b[0mself\u001b[0m\u001b[1;33m.\u001b[0m\u001b[0msend\u001b[0m\u001b[1;33m(\u001b[0m\u001b[0mprep\u001b[0m\u001b[1;33m,\u001b[0m \u001b[1;33m**\u001b[0m\u001b[0msend_kwargs\u001b[0m\u001b[1;33m)\u001b[0m\u001b[1;33m\u001b[0m\u001b[1;33m\u001b[0m\u001b[0m\n\u001b[0m\u001b[0;32m    534\u001b[0m \u001b[1;33m\u001b[0m\u001b[0m\n\u001b[0;32m    535\u001b[0m         \u001b[1;32mreturn\u001b[0m \u001b[0mresp\u001b[0m\u001b[1;33m\u001b[0m\u001b[1;33m\u001b[0m\u001b[0m\n",
      "\u001b[1;32m~\\anaconda3\\lib\\site-packages\\requests\\sessions.py\u001b[0m in \u001b[0;36msend\u001b[1;34m(self, request, **kwargs)\u001b[0m\n\u001b[0;32m    644\u001b[0m \u001b[1;33m\u001b[0m\u001b[0m\n\u001b[0;32m    645\u001b[0m         \u001b[1;31m# Send the request\u001b[0m\u001b[1;33m\u001b[0m\u001b[1;33m\u001b[0m\u001b[1;33m\u001b[0m\u001b[0m\n\u001b[1;32m--> 646\u001b[1;33m         \u001b[0mr\u001b[0m \u001b[1;33m=\u001b[0m \u001b[0madapter\u001b[0m\u001b[1;33m.\u001b[0m\u001b[0msend\u001b[0m\u001b[1;33m(\u001b[0m\u001b[0mrequest\u001b[0m\u001b[1;33m,\u001b[0m \u001b[1;33m**\u001b[0m\u001b[0mkwargs\u001b[0m\u001b[1;33m)\u001b[0m\u001b[1;33m\u001b[0m\u001b[1;33m\u001b[0m\u001b[0m\n\u001b[0m\u001b[0;32m    647\u001b[0m \u001b[1;33m\u001b[0m\u001b[0m\n\u001b[0;32m    648\u001b[0m         \u001b[1;31m# Total elapsed time of the request (approximately)\u001b[0m\u001b[1;33m\u001b[0m\u001b[1;33m\u001b[0m\u001b[1;33m\u001b[0m\u001b[0m\n",
      "\u001b[1;32m~\\anaconda3\\lib\\site-packages\\requests\\adapters.py\u001b[0m in \u001b[0;36msend\u001b[1;34m(self, request, stream, timeout, verify, cert, proxies)\u001b[0m\n\u001b[0;32m    447\u001b[0m                     \u001b[0mdecode_content\u001b[0m\u001b[1;33m=\u001b[0m\u001b[1;32mFalse\u001b[0m\u001b[1;33m,\u001b[0m\u001b[1;33m\u001b[0m\u001b[1;33m\u001b[0m\u001b[0m\n\u001b[0;32m    448\u001b[0m                     \u001b[0mretries\u001b[0m\u001b[1;33m=\u001b[0m\u001b[0mself\u001b[0m\u001b[1;33m.\u001b[0m\u001b[0mmax_retries\u001b[0m\u001b[1;33m,\u001b[0m\u001b[1;33m\u001b[0m\u001b[1;33m\u001b[0m\u001b[0m\n\u001b[1;32m--> 449\u001b[1;33m                     \u001b[0mtimeout\u001b[0m\u001b[1;33m=\u001b[0m\u001b[0mtimeout\u001b[0m\u001b[1;33m\u001b[0m\u001b[1;33m\u001b[0m\u001b[0m\n\u001b[0m\u001b[0;32m    450\u001b[0m                 )\n\u001b[0;32m    451\u001b[0m \u001b[1;33m\u001b[0m\u001b[0m\n",
      "\u001b[1;32m~\\anaconda3\\lib\\site-packages\\urllib3\\connectionpool.py\u001b[0m in \u001b[0;36murlopen\u001b[1;34m(self, method, url, body, headers, retries, redirect, assert_same_host, timeout, pool_timeout, release_conn, chunked, body_pos, **response_kw)\u001b[0m\n\u001b[0;32m    670\u001b[0m                 \u001b[0mbody\u001b[0m\u001b[1;33m=\u001b[0m\u001b[0mbody\u001b[0m\u001b[1;33m,\u001b[0m\u001b[1;33m\u001b[0m\u001b[1;33m\u001b[0m\u001b[0m\n\u001b[0;32m    671\u001b[0m                 \u001b[0mheaders\u001b[0m\u001b[1;33m=\u001b[0m\u001b[0mheaders\u001b[0m\u001b[1;33m,\u001b[0m\u001b[1;33m\u001b[0m\u001b[1;33m\u001b[0m\u001b[0m\n\u001b[1;32m--> 672\u001b[1;33m                 \u001b[0mchunked\u001b[0m\u001b[1;33m=\u001b[0m\u001b[0mchunked\u001b[0m\u001b[1;33m,\u001b[0m\u001b[1;33m\u001b[0m\u001b[1;33m\u001b[0m\u001b[0m\n\u001b[0m\u001b[0;32m    673\u001b[0m             )\n\u001b[0;32m    674\u001b[0m \u001b[1;33m\u001b[0m\u001b[0m\n",
      "\u001b[1;32m~\\anaconda3\\lib\\site-packages\\urllib3\\connectionpool.py\u001b[0m in \u001b[0;36m_make_request\u001b[1;34m(self, conn, method, url, timeout, chunked, **httplib_request_kw)\u001b[0m\n\u001b[0;32m    419\u001b[0m                     \u001b[1;31m# Python 3 (including for exceptions like SystemExit).\u001b[0m\u001b[1;33m\u001b[0m\u001b[1;33m\u001b[0m\u001b[1;33m\u001b[0m\u001b[0m\n\u001b[0;32m    420\u001b[0m                     \u001b[1;31m# Otherwise it looks like a bug in the code.\u001b[0m\u001b[1;33m\u001b[0m\u001b[1;33m\u001b[0m\u001b[1;33m\u001b[0m\u001b[0m\n\u001b[1;32m--> 421\u001b[1;33m                     \u001b[0msix\u001b[0m\u001b[1;33m.\u001b[0m\u001b[0mraise_from\u001b[0m\u001b[1;33m(\u001b[0m\u001b[0me\u001b[0m\u001b[1;33m,\u001b[0m \u001b[1;32mNone\u001b[0m\u001b[1;33m)\u001b[0m\u001b[1;33m\u001b[0m\u001b[1;33m\u001b[0m\u001b[0m\n\u001b[0m\u001b[0;32m    422\u001b[0m         \u001b[1;32mexcept\u001b[0m \u001b[1;33m(\u001b[0m\u001b[0mSocketTimeout\u001b[0m\u001b[1;33m,\u001b[0m \u001b[0mBaseSSLError\u001b[0m\u001b[1;33m,\u001b[0m \u001b[0mSocketError\u001b[0m\u001b[1;33m)\u001b[0m \u001b[1;32mas\u001b[0m \u001b[0me\u001b[0m\u001b[1;33m:\u001b[0m\u001b[1;33m\u001b[0m\u001b[1;33m\u001b[0m\u001b[0m\n\u001b[0;32m    423\u001b[0m             \u001b[0mself\u001b[0m\u001b[1;33m.\u001b[0m\u001b[0m_raise_timeout\u001b[0m\u001b[1;33m(\u001b[0m\u001b[0merr\u001b[0m\u001b[1;33m=\u001b[0m\u001b[0me\u001b[0m\u001b[1;33m,\u001b[0m \u001b[0murl\u001b[0m\u001b[1;33m=\u001b[0m\u001b[0murl\u001b[0m\u001b[1;33m,\u001b[0m \u001b[0mtimeout_value\u001b[0m\u001b[1;33m=\u001b[0m\u001b[0mread_timeout\u001b[0m\u001b[1;33m)\u001b[0m\u001b[1;33m\u001b[0m\u001b[1;33m\u001b[0m\u001b[0m\n",
      "\u001b[1;32m~\\anaconda3\\lib\\site-packages\\urllib3\\packages\\six.py\u001b[0m in \u001b[0;36mraise_from\u001b[1;34m(value, from_value)\u001b[0m\n",
      "\u001b[1;32m~\\anaconda3\\lib\\site-packages\\urllib3\\connectionpool.py\u001b[0m in \u001b[0;36m_make_request\u001b[1;34m(self, conn, method, url, timeout, chunked, **httplib_request_kw)\u001b[0m\n\u001b[0;32m    414\u001b[0m                 \u001b[1;31m# Python 3\u001b[0m\u001b[1;33m\u001b[0m\u001b[1;33m\u001b[0m\u001b[1;33m\u001b[0m\u001b[0m\n\u001b[0;32m    415\u001b[0m                 \u001b[1;32mtry\u001b[0m\u001b[1;33m:\u001b[0m\u001b[1;33m\u001b[0m\u001b[1;33m\u001b[0m\u001b[0m\n\u001b[1;32m--> 416\u001b[1;33m                     \u001b[0mhttplib_response\u001b[0m \u001b[1;33m=\u001b[0m \u001b[0mconn\u001b[0m\u001b[1;33m.\u001b[0m\u001b[0mgetresponse\u001b[0m\u001b[1;33m(\u001b[0m\u001b[1;33m)\u001b[0m\u001b[1;33m\u001b[0m\u001b[1;33m\u001b[0m\u001b[0m\n\u001b[0m\u001b[0;32m    417\u001b[0m                 \u001b[1;32mexcept\u001b[0m \u001b[0mBaseException\u001b[0m \u001b[1;32mas\u001b[0m \u001b[0me\u001b[0m\u001b[1;33m:\u001b[0m\u001b[1;33m\u001b[0m\u001b[1;33m\u001b[0m\u001b[0m\n\u001b[0;32m    418\u001b[0m                     \u001b[1;31m# Remove the TypeError from the exception chain in\u001b[0m\u001b[1;33m\u001b[0m\u001b[1;33m\u001b[0m\u001b[1;33m\u001b[0m\u001b[0m\n",
      "\u001b[1;32m~\\anaconda3\\lib\\http\\client.py\u001b[0m in \u001b[0;36mgetresponse\u001b[1;34m(self)\u001b[0m\n\u001b[0;32m   1342\u001b[0m         \u001b[1;32mtry\u001b[0m\u001b[1;33m:\u001b[0m\u001b[1;33m\u001b[0m\u001b[1;33m\u001b[0m\u001b[0m\n\u001b[0;32m   1343\u001b[0m             \u001b[1;32mtry\u001b[0m\u001b[1;33m:\u001b[0m\u001b[1;33m\u001b[0m\u001b[1;33m\u001b[0m\u001b[0m\n\u001b[1;32m-> 1344\u001b[1;33m                 \u001b[0mresponse\u001b[0m\u001b[1;33m.\u001b[0m\u001b[0mbegin\u001b[0m\u001b[1;33m(\u001b[0m\u001b[1;33m)\u001b[0m\u001b[1;33m\u001b[0m\u001b[1;33m\u001b[0m\u001b[0m\n\u001b[0m\u001b[0;32m   1345\u001b[0m             \u001b[1;32mexcept\u001b[0m \u001b[0mConnectionError\u001b[0m\u001b[1;33m:\u001b[0m\u001b[1;33m\u001b[0m\u001b[1;33m\u001b[0m\u001b[0m\n\u001b[0;32m   1346\u001b[0m                 \u001b[0mself\u001b[0m\u001b[1;33m.\u001b[0m\u001b[0mclose\u001b[0m\u001b[1;33m(\u001b[0m\u001b[1;33m)\u001b[0m\u001b[1;33m\u001b[0m\u001b[1;33m\u001b[0m\u001b[0m\n",
      "\u001b[1;32m~\\anaconda3\\lib\\http\\client.py\u001b[0m in \u001b[0;36mbegin\u001b[1;34m(self)\u001b[0m\n\u001b[0;32m    304\u001b[0m         \u001b[1;31m# read until we get a non-100 response\u001b[0m\u001b[1;33m\u001b[0m\u001b[1;33m\u001b[0m\u001b[1;33m\u001b[0m\u001b[0m\n\u001b[0;32m    305\u001b[0m         \u001b[1;32mwhile\u001b[0m \u001b[1;32mTrue\u001b[0m\u001b[1;33m:\u001b[0m\u001b[1;33m\u001b[0m\u001b[1;33m\u001b[0m\u001b[0m\n\u001b[1;32m--> 306\u001b[1;33m             \u001b[0mversion\u001b[0m\u001b[1;33m,\u001b[0m \u001b[0mstatus\u001b[0m\u001b[1;33m,\u001b[0m \u001b[0mreason\u001b[0m \u001b[1;33m=\u001b[0m \u001b[0mself\u001b[0m\u001b[1;33m.\u001b[0m\u001b[0m_read_status\u001b[0m\u001b[1;33m(\u001b[0m\u001b[1;33m)\u001b[0m\u001b[1;33m\u001b[0m\u001b[1;33m\u001b[0m\u001b[0m\n\u001b[0m\u001b[0;32m    307\u001b[0m             \u001b[1;32mif\u001b[0m \u001b[0mstatus\u001b[0m \u001b[1;33m!=\u001b[0m \u001b[0mCONTINUE\u001b[0m\u001b[1;33m:\u001b[0m\u001b[1;33m\u001b[0m\u001b[1;33m\u001b[0m\u001b[0m\n\u001b[0;32m    308\u001b[0m                 \u001b[1;32mbreak\u001b[0m\u001b[1;33m\u001b[0m\u001b[1;33m\u001b[0m\u001b[0m\n",
      "\u001b[1;32m~\\anaconda3\\lib\\http\\client.py\u001b[0m in \u001b[0;36m_read_status\u001b[1;34m(self)\u001b[0m\n\u001b[0;32m    265\u001b[0m \u001b[1;33m\u001b[0m\u001b[0m\n\u001b[0;32m    266\u001b[0m     \u001b[1;32mdef\u001b[0m \u001b[0m_read_status\u001b[0m\u001b[1;33m(\u001b[0m\u001b[0mself\u001b[0m\u001b[1;33m)\u001b[0m\u001b[1;33m:\u001b[0m\u001b[1;33m\u001b[0m\u001b[1;33m\u001b[0m\u001b[0m\n\u001b[1;32m--> 267\u001b[1;33m         \u001b[0mline\u001b[0m \u001b[1;33m=\u001b[0m \u001b[0mstr\u001b[0m\u001b[1;33m(\u001b[0m\u001b[0mself\u001b[0m\u001b[1;33m.\u001b[0m\u001b[0mfp\u001b[0m\u001b[1;33m.\u001b[0m\u001b[0mreadline\u001b[0m\u001b[1;33m(\u001b[0m\u001b[0m_MAXLINE\u001b[0m \u001b[1;33m+\u001b[0m \u001b[1;36m1\u001b[0m\u001b[1;33m)\u001b[0m\u001b[1;33m,\u001b[0m \u001b[1;34m\"iso-8859-1\"\u001b[0m\u001b[1;33m)\u001b[0m\u001b[1;33m\u001b[0m\u001b[1;33m\u001b[0m\u001b[0m\n\u001b[0m\u001b[0;32m    268\u001b[0m         \u001b[1;32mif\u001b[0m \u001b[0mlen\u001b[0m\u001b[1;33m(\u001b[0m\u001b[0mline\u001b[0m\u001b[1;33m)\u001b[0m \u001b[1;33m>\u001b[0m \u001b[0m_MAXLINE\u001b[0m\u001b[1;33m:\u001b[0m\u001b[1;33m\u001b[0m\u001b[1;33m\u001b[0m\u001b[0m\n\u001b[0;32m    269\u001b[0m             \u001b[1;32mraise\u001b[0m \u001b[0mLineTooLong\u001b[0m\u001b[1;33m(\u001b[0m\u001b[1;34m\"status line\"\u001b[0m\u001b[1;33m)\u001b[0m\u001b[1;33m\u001b[0m\u001b[1;33m\u001b[0m\u001b[0m\n",
      "\u001b[1;32m~\\anaconda3\\lib\\socket.py\u001b[0m in \u001b[0;36mreadinto\u001b[1;34m(self, b)\u001b[0m\n\u001b[0;32m    587\u001b[0m         \u001b[1;32mwhile\u001b[0m \u001b[1;32mTrue\u001b[0m\u001b[1;33m:\u001b[0m\u001b[1;33m\u001b[0m\u001b[1;33m\u001b[0m\u001b[0m\n\u001b[0;32m    588\u001b[0m             \u001b[1;32mtry\u001b[0m\u001b[1;33m:\u001b[0m\u001b[1;33m\u001b[0m\u001b[1;33m\u001b[0m\u001b[0m\n\u001b[1;32m--> 589\u001b[1;33m                 \u001b[1;32mreturn\u001b[0m \u001b[0mself\u001b[0m\u001b[1;33m.\u001b[0m\u001b[0m_sock\u001b[0m\u001b[1;33m.\u001b[0m\u001b[0mrecv_into\u001b[0m\u001b[1;33m(\u001b[0m\u001b[0mb\u001b[0m\u001b[1;33m)\u001b[0m\u001b[1;33m\u001b[0m\u001b[1;33m\u001b[0m\u001b[0m\n\u001b[0m\u001b[0;32m    590\u001b[0m             \u001b[1;32mexcept\u001b[0m \u001b[0mtimeout\u001b[0m\u001b[1;33m:\u001b[0m\u001b[1;33m\u001b[0m\u001b[1;33m\u001b[0m\u001b[0m\n\u001b[0;32m    591\u001b[0m                 \u001b[0mself\u001b[0m\u001b[1;33m.\u001b[0m\u001b[0m_timeout_occurred\u001b[0m \u001b[1;33m=\u001b[0m \u001b[1;32mTrue\u001b[0m\u001b[1;33m\u001b[0m\u001b[1;33m\u001b[0m\u001b[0m\n",
      "\u001b[1;32m~\\anaconda3\\lib\\site-packages\\urllib3\\contrib\\pyopenssl.py\u001b[0m in \u001b[0;36mrecv_into\u001b[1;34m(self, *args, **kwargs)\u001b[0m\n\u001b[0;32m    311\u001b[0m     \u001b[1;32mdef\u001b[0m \u001b[0mrecv_into\u001b[0m\u001b[1;33m(\u001b[0m\u001b[0mself\u001b[0m\u001b[1;33m,\u001b[0m \u001b[1;33m*\u001b[0m\u001b[0margs\u001b[0m\u001b[1;33m,\u001b[0m \u001b[1;33m**\u001b[0m\u001b[0mkwargs\u001b[0m\u001b[1;33m)\u001b[0m\u001b[1;33m:\u001b[0m\u001b[1;33m\u001b[0m\u001b[1;33m\u001b[0m\u001b[0m\n\u001b[0;32m    312\u001b[0m         \u001b[1;32mtry\u001b[0m\u001b[1;33m:\u001b[0m\u001b[1;33m\u001b[0m\u001b[1;33m\u001b[0m\u001b[0m\n\u001b[1;32m--> 313\u001b[1;33m             \u001b[1;32mreturn\u001b[0m \u001b[0mself\u001b[0m\u001b[1;33m.\u001b[0m\u001b[0mconnection\u001b[0m\u001b[1;33m.\u001b[0m\u001b[0mrecv_into\u001b[0m\u001b[1;33m(\u001b[0m\u001b[1;33m*\u001b[0m\u001b[0margs\u001b[0m\u001b[1;33m,\u001b[0m \u001b[1;33m**\u001b[0m\u001b[0mkwargs\u001b[0m\u001b[1;33m)\u001b[0m\u001b[1;33m\u001b[0m\u001b[1;33m\u001b[0m\u001b[0m\n\u001b[0m\u001b[0;32m    314\u001b[0m         \u001b[1;32mexcept\u001b[0m \u001b[0mOpenSSL\u001b[0m\u001b[1;33m.\u001b[0m\u001b[0mSSL\u001b[0m\u001b[1;33m.\u001b[0m\u001b[0mSysCallError\u001b[0m \u001b[1;32mas\u001b[0m \u001b[0me\u001b[0m\u001b[1;33m:\u001b[0m\u001b[1;33m\u001b[0m\u001b[1;33m\u001b[0m\u001b[0m\n\u001b[0;32m    315\u001b[0m             \u001b[1;32mif\u001b[0m \u001b[0mself\u001b[0m\u001b[1;33m.\u001b[0m\u001b[0msuppress_ragged_eofs\u001b[0m \u001b[1;32mand\u001b[0m \u001b[0me\u001b[0m\u001b[1;33m.\u001b[0m\u001b[0margs\u001b[0m \u001b[1;33m==\u001b[0m \u001b[1;33m(\u001b[0m\u001b[1;33m-\u001b[0m\u001b[1;36m1\u001b[0m\u001b[1;33m,\u001b[0m \u001b[1;34m\"Unexpected EOF\"\u001b[0m\u001b[1;33m)\u001b[0m\u001b[1;33m:\u001b[0m\u001b[1;33m\u001b[0m\u001b[1;33m\u001b[0m\u001b[0m\n",
      "\u001b[1;32m~\\anaconda3\\lib\\site-packages\\OpenSSL\\SSL.py\u001b[0m in \u001b[0;36mrecv_into\u001b[1;34m(self, buffer, nbytes, flags)\u001b[0m\n\u001b[0;32m   1837\u001b[0m             \u001b[0mresult\u001b[0m \u001b[1;33m=\u001b[0m \u001b[0m_lib\u001b[0m\u001b[1;33m.\u001b[0m\u001b[0mSSL_peek\u001b[0m\u001b[1;33m(\u001b[0m\u001b[0mself\u001b[0m\u001b[1;33m.\u001b[0m\u001b[0m_ssl\u001b[0m\u001b[1;33m,\u001b[0m \u001b[0mbuf\u001b[0m\u001b[1;33m,\u001b[0m \u001b[0mnbytes\u001b[0m\u001b[1;33m)\u001b[0m\u001b[1;33m\u001b[0m\u001b[1;33m\u001b[0m\u001b[0m\n\u001b[0;32m   1838\u001b[0m         \u001b[1;32melse\u001b[0m\u001b[1;33m:\u001b[0m\u001b[1;33m\u001b[0m\u001b[1;33m\u001b[0m\u001b[0m\n\u001b[1;32m-> 1839\u001b[1;33m             \u001b[0mresult\u001b[0m \u001b[1;33m=\u001b[0m \u001b[0m_lib\u001b[0m\u001b[1;33m.\u001b[0m\u001b[0mSSL_read\u001b[0m\u001b[1;33m(\u001b[0m\u001b[0mself\u001b[0m\u001b[1;33m.\u001b[0m\u001b[0m_ssl\u001b[0m\u001b[1;33m,\u001b[0m \u001b[0mbuf\u001b[0m\u001b[1;33m,\u001b[0m \u001b[0mnbytes\u001b[0m\u001b[1;33m)\u001b[0m\u001b[1;33m\u001b[0m\u001b[1;33m\u001b[0m\u001b[0m\n\u001b[0m\u001b[0;32m   1840\u001b[0m         \u001b[0mself\u001b[0m\u001b[1;33m.\u001b[0m\u001b[0m_raise_ssl_error\u001b[0m\u001b[1;33m(\u001b[0m\u001b[0mself\u001b[0m\u001b[1;33m.\u001b[0m\u001b[0m_ssl\u001b[0m\u001b[1;33m,\u001b[0m \u001b[0mresult\u001b[0m\u001b[1;33m)\u001b[0m\u001b[1;33m\u001b[0m\u001b[1;33m\u001b[0m\u001b[0m\n\u001b[0;32m   1841\u001b[0m \u001b[1;33m\u001b[0m\u001b[0m\n",
      "\u001b[1;31mKeyboardInterrupt\u001b[0m: "
     ]
    }
   ],
   "source": [
    "import time\n",
    "import requests\n",
    "import pprint\n",
    "from datetime import datetime\n",
    "import pandas as pd\n",
    "\n",
    "#settings\n",
    "api_key = \"ac37f4337bdc07b0642d027ee1313660\"\n",
    "base_url = 'http://api.openweathermap.org/data/2.5/weather?'\n",
    "wind_df = pd.DataFrame(columns = ['Tijd', 'Lat', 'Lon', 'Windrichting', 'Snelheid']) # 'Vlagen'\n",
    "\n",
    "i = 1\n",
    "while True:\n",
    "    ### getting data from the iPhone ###\n",
    "    result =api.iphone.location()\n",
    "    lat = result[\"latitude\"]\n",
    "    lon = result['longitude']\n",
    "    unixtijd = result['timeStamp']/1000\n",
    "    tijd= datetime.fromtimestamp(unixtijd).strftime('%Y-%m-%d %H:%M:%S')\n",
    "    ### preparing the data\n",
    "    lat_str = f'{lat}' #convert to string\n",
    "    lon_str = f'{lon}'\n",
    "    \n",
    "    ### get the weather data using the lat lon ####\n",
    "    final_url= base_url + 'lat='+ lat_str + '&lon=' + lon_str + \"&appid=\" + api_key\n",
    "    weather_data = requests.get(final_url).json()\n",
    "    wind_deg = weather_data['wind']['deg']\n",
    "    wind_speed = weather_data['wind']['speed']\n",
    "   # wind_gust = weather_data['wind']['gust']\n",
    "    lijst = tijd, lat, lon, wind_deg, wind_speed #, wind_gust\n",
    "    ### print and append the data ###\n",
    "    print(i, lijst)\n",
    "    wind_df = wind_df.append(pd.Series(lijst, index=wind_df.columns), ignore_index=True)\n",
    "    sleep(5)\n",
    "    i = i+1\n"
   ]
  },
  {
   "cell_type": "code",
   "execution_count": 43,
   "metadata": {},
   "outputs": [
    {
     "data": {
      "text/html": [
       "<div>\n",
       "<style scoped>\n",
       "    .dataframe tbody tr th:only-of-type {\n",
       "        vertical-align: middle;\n",
       "    }\n",
       "\n",
       "    .dataframe tbody tr th {\n",
       "        vertical-align: top;\n",
       "    }\n",
       "\n",
       "    .dataframe thead th {\n",
       "        text-align: right;\n",
       "    }\n",
       "</style>\n",
       "<table border=\"1\" class=\"dataframe\">\n",
       "  <thead>\n",
       "    <tr style=\"text-align: right;\">\n",
       "      <th></th>\n",
       "      <th>Tijd</th>\n",
       "      <th>Lat</th>\n",
       "      <th>Lon</th>\n",
       "      <th>Windrichting</th>\n",
       "      <th>Snelheid</th>\n",
       "    </tr>\n",
       "  </thead>\n",
       "  <tbody>\n",
       "    <tr>\n",
       "      <th>0</th>\n",
       "      <td>2020-06-23 21:00:43</td>\n",
       "      <td>52.358733</td>\n",
       "      <td>4.861382</td>\n",
       "      <td>30</td>\n",
       "      <td>3.1</td>\n",
       "    </tr>\n",
       "    <tr>\n",
       "      <th>1</th>\n",
       "      <td>2020-06-23 21:00:51</td>\n",
       "      <td>52.358786</td>\n",
       "      <td>4.861389</td>\n",
       "      <td>30</td>\n",
       "      <td>3.1</td>\n",
       "    </tr>\n",
       "    <tr>\n",
       "      <th>2</th>\n",
       "      <td>2020-06-23 21:00:58</td>\n",
       "      <td>52.358786</td>\n",
       "      <td>4.861389</td>\n",
       "      <td>30</td>\n",
       "      <td>3.1</td>\n",
       "    </tr>\n",
       "    <tr>\n",
       "      <th>3</th>\n",
       "      <td>2020-06-23 21:01:00</td>\n",
       "      <td>52.358786</td>\n",
       "      <td>4.861389</td>\n",
       "      <td>30</td>\n",
       "      <td>3.1</td>\n",
       "    </tr>\n",
       "    <tr>\n",
       "      <th>4</th>\n",
       "      <td>2020-06-23 21:01:07</td>\n",
       "      <td>52.358739</td>\n",
       "      <td>4.861314</td>\n",
       "      <td>30</td>\n",
       "      <td>3.1</td>\n",
       "    </tr>\n",
       "  </tbody>\n",
       "</table>\n",
       "</div>"
      ],
      "text/plain": [
       "                  Tijd        Lat       Lon Windrichting  Snelheid\n",
       "0  2020-06-23 21:00:43  52.358733  4.861382           30       3.1\n",
       "1  2020-06-23 21:00:51  52.358786  4.861389           30       3.1\n",
       "2  2020-06-23 21:00:58  52.358786  4.861389           30       3.1\n",
       "3  2020-06-23 21:01:00  52.358786  4.861389           30       3.1\n",
       "4  2020-06-23 21:01:07  52.358739  4.861314           30       3.1"
      ]
     },
     "execution_count": 43,
     "metadata": {},
     "output_type": "execute_result"
    }
   ],
   "source": [
    "wind_df.head()"
   ]
  },
  {
   "cell_type": "code",
   "execution_count": 44,
   "metadata": {},
   "outputs": [
    {
     "data": {
      "text/html": [
       "<div>\n",
       "<style scoped>\n",
       "    .dataframe tbody tr th:only-of-type {\n",
       "        vertical-align: middle;\n",
       "    }\n",
       "\n",
       "    .dataframe tbody tr th {\n",
       "        vertical-align: top;\n",
       "    }\n",
       "\n",
       "    .dataframe thead th {\n",
       "        text-align: right;\n",
       "    }\n",
       "</style>\n",
       "<table border=\"1\" class=\"dataframe\">\n",
       "  <thead>\n",
       "    <tr style=\"text-align: right;\">\n",
       "      <th></th>\n",
       "      <th>Lat</th>\n",
       "      <th>Lon</th>\n",
       "      <th>Snelheid</th>\n",
       "    </tr>\n",
       "  </thead>\n",
       "  <tbody>\n",
       "    <tr>\n",
       "      <th>count</th>\n",
       "      <td>58.000000</td>\n",
       "      <td>58.000000</td>\n",
       "      <td>5.800000e+01</td>\n",
       "    </tr>\n",
       "    <tr>\n",
       "      <th>mean</th>\n",
       "      <td>52.358769</td>\n",
       "      <td>4.861462</td>\n",
       "      <td>3.100000e+00</td>\n",
       "    </tr>\n",
       "    <tr>\n",
       "      <th>std</th>\n",
       "      <td>0.000076</td>\n",
       "      <td>0.000099</td>\n",
       "      <td>3.135775e-15</td>\n",
       "    </tr>\n",
       "    <tr>\n",
       "      <th>min</th>\n",
       "      <td>52.358656</td>\n",
       "      <td>4.861314</td>\n",
       "      <td>3.100000e+00</td>\n",
       "    </tr>\n",
       "    <tr>\n",
       "      <th>25%</th>\n",
       "      <td>52.358724</td>\n",
       "      <td>4.861389</td>\n",
       "      <td>3.100000e+00</td>\n",
       "    </tr>\n",
       "    <tr>\n",
       "      <th>50%</th>\n",
       "      <td>52.358739</td>\n",
       "      <td>4.861473</td>\n",
       "      <td>3.100000e+00</td>\n",
       "    </tr>\n",
       "    <tr>\n",
       "      <th>75%</th>\n",
       "      <td>52.358835</td>\n",
       "      <td>4.861514</td>\n",
       "      <td>3.100000e+00</td>\n",
       "    </tr>\n",
       "    <tr>\n",
       "      <th>max</th>\n",
       "      <td>52.358877</td>\n",
       "      <td>4.861663</td>\n",
       "      <td>3.100000e+00</td>\n",
       "    </tr>\n",
       "  </tbody>\n",
       "</table>\n",
       "</div>"
      ],
      "text/plain": [
       "             Lat        Lon      Snelheid\n",
       "count  58.000000  58.000000  5.800000e+01\n",
       "mean   52.358769   4.861462  3.100000e+00\n",
       "std     0.000076   0.000099  3.135775e-15\n",
       "min    52.358656   4.861314  3.100000e+00\n",
       "25%    52.358724   4.861389  3.100000e+00\n",
       "50%    52.358739   4.861473  3.100000e+00\n",
       "75%    52.358835   4.861514  3.100000e+00\n",
       "max    52.358877   4.861663  3.100000e+00"
      ]
     },
     "execution_count": 44,
     "metadata": {},
     "output_type": "execute_result"
    }
   ],
   "source": [
    "wind_df.describe()"
   ]
  },
  {
   "cell_type": "code",
   "execution_count": 52,
   "metadata": {},
   "outputs": [
    {
     "data": {
      "text/plain": [
       "int"
      ]
     },
     "execution_count": 52,
     "metadata": {},
     "output_type": "execute_result"
    }
   ],
   "source": [
    "type(wind_deg) #, wind_speed)"
   ]
  },
  {
   "cell_type": "code",
   "execution_count": 56,
   "metadata": {},
   "outputs": [
    {
     "data": {
      "text/plain": [
       "180.0"
      ]
     },
     "execution_count": 56,
     "metadata": {},
     "output_type": "execute_result"
    }
   ],
   "source": [
    "#source: https://stackoverflow.com/questions/3932502/calculate-angle-between-two-latitude-longitude-points\n",
    "#more info: https://www.igismap.com/formula-to-find-bearing-or-heading-angle-between-two-points-latitude-longitude/\n",
    "\n",
    "import math\n",
    "\n",
    "def angleFromCoordinate(lat1, long1, lat2, long2):\n",
    "    dLon = (long2 - long1)\n",
    "\n",
    "    y = math.sin(dLon) * math.cos(lat2)\n",
    "    x = math.cos(lat1) * math.sin(lat2) - math.sin(lat1) * math.cos(lat2) * math.cos(dLon)\n",
    "\n",
    "    brng = math.atan2(y, x)\n",
    "\n",
    "    brng = math.degrees(brng)\n",
    "    brng = (brng + 360) % 360\n",
    "    brng = 360 - brng # count degrees clockwise - remove to make counter-clockwise\n",
    "\n",
    "    return brng\n",
    "\n",
    "angleFromCoordinate(52.385, 4.861, -1, 0)"
   ]
  },
  {
   "cell_type": "code",
   "execution_count": 60,
   "metadata": {},
   "outputs": [
    {
     "name": "stdout",
     "output_type": "stream",
     "text": [
      "308.7992752836875\n"
     ]
    }
   ],
   "source": [
    "# source: https://subscription.packtpub.com/book/application_development/9781783552429/5/ch05lvl1sec56/calculating-line-direction\n",
    "from math import atan2, cos, sin, degrees\n",
    "lon1 = -90.21\n",
    "lat1 = 32.31\n",
    "lon2 = -88.95\n",
    "lat2 = 30.43\n",
    "angle = atan2(cos(lat1)*sin(lat2)-sin(lat1) * cos(lat2)*cos(lon2-lon1), sin(lon2-lon1)*cos(lat2))\n",
    "bearing = (degrees(angle) + 360) % 360\n",
    "print(bearing)"
   ]
  },
  {
   "cell_type": "code",
   "execution_count": 63,
   "metadata": {},
   "outputs": [
    {
     "name": "stdout",
     "output_type": "stream",
     "text": [
      "270.0\n"
     ]
    }
   ],
   "source": [
    "from math import atan2, cos, sin, degrees\n",
    "lon1 = 0\n",
    "lat1 = 0\n",
    "lon2 = 0\n",
    "lat2 = -1\n",
    "#angle = \n",
    "bearing = (degrees(atan2(cos(lat1)*sin(lat2)-sin(lat1) * cos(lat2)*cos(lon2-lon1), sin(lon2-lon1)*cos(lat2))) + 360) % 360\n",
    "print(bearing)"
   ]
  },
  {
   "cell_type": "code",
   "execution_count": null,
   "metadata": {},
   "outputs": [],
   "source": []
  }
 ],
 "metadata": {
  "kernelspec": {
   "display_name": "Python 3",
   "language": "python",
   "name": "python3"
  },
  "language_info": {
   "codemirror_mode": {
    "name": "ipython",
    "version": 3
   },
   "file_extension": ".py",
   "mimetype": "text/x-python",
   "name": "python",
   "nbconvert_exporter": "python",
   "pygments_lexer": "ipython3",
   "version": "3.7.6"
  }
 },
 "nbformat": 4,
 "nbformat_minor": 4
}
