{
 "cells": [
  {
   "cell_type": "markdown",
   "metadata": {},
   "source": [
    "# Michiel's Python Intermediate Notebook\n",
    "\n",
    "\n",
    "## Contents:\n",
    "1. Exceptions\n",
    "2. Class\n",
    "3. Monte Carlo simulation / Random Walk\n",
    "4. List comprehensions\n",
    "5. Binary search trees\n",
    "6. PSutil"
   ]
  },
  {
   "cell_type": "markdown",
   "metadata": {},
   "source": [
    "## 1. Exceptions. \n",
    "Source socratica https://www.youtube.com/watch?v=nlCKrKGHSSk\n",
    "This script will make an msitay\n",
    "\n",
    "for i in range(5)\n",
    "   print(\"Hello world!\")\n",
    "    \n",
    "result: invalid syntax\n",
    "other common errors:\n",
    " ZeroDivisionError\n",
    " FileNotFoundError\n",
    " TypeError for 1+\"two\"\n",
    " \n",
    " try:\n",
    "     #Runs first\n",
    " except:\n",
    "     #runs if exception occurs in try block\n",
    " else:\n",
    "     # Executes if try block *succeeds*\n",
    " finally:\n",
    "     #this code always executes. You can export this result to a log file!\n",
    "\n"
   ]
  },
  {
   "cell_type": "code",
   "execution_count": 2,
   "metadata": {},
   "outputs": [
    {
     "name": "stdout",
     "output_type": "stream",
     "text": [
      "Collecting autopep8\n",
      "  Downloading https://files.pythonhosted.org/packages/45/f3/24b437da561b6af4840c871fbbda32889ca304fc1f7b6cc3ada8b09f394a/autopep8-1.4.4.tar.gz (114kB)\n",
      "Requirement already satisfied: pycodestyle>=2.4.0 in c:\\users\\michiel\\anaconda3\\lib\\site-packages (from autopep8) (2.5.0)\n",
      "Building wheels for collected packages: autopep8\n",
      "  Building wheel for autopep8 (setup.py): started\n",
      "  Building wheel for autopep8 (setup.py): finished with status 'done'\n",
      "  Created wheel for autopep8: filename=autopep8-1.4.4-py2.py3-none-any.whl size=42635 sha256=6e738afa129ed4f4c89f4f61d4a3ef403c744d8e792e79a7d2cb6cb5393ac13d\n",
      "  Stored in directory: C:\\Users\\Michiel\\AppData\\Local\\pip\\Cache\\wheels\\7e\\f5\\4b\\c19e6276126325eb8071b273347c05a830c37a82b9b3b81510\n",
      "Successfully built autopep8\n",
      "Installing collected packages: autopep8\n",
      "Successfully installed autopep8-1.4.4\n"
     ]
    }
   ],
   "source": [
    "!pip install autopep8"
   ]
  },
  {
   "cell_type": "code",
   "execution_count": 7,
   "metadata": {},
   "outputs": [
    {
     "name": "stdout",
     "output_type": "stream",
     "text": [
      "test\n"
     ]
    }
   ],
   "source": [
    "# Example of try / except\n",
    "\n",
    "import logging\n",
    "import time\n",
    "import autopep8\n",
    "\n",
    "print(\"test\")"
   ]
  },
  {
   "cell_type": "markdown",
   "metadata": {},
   "source": [
    "## 2. OOP Class: Introduction\n",
    "\n",
    "Class is a template for creating user-defined objects. Class definitions normally contain method definitions which operate on instances of the class. Class is more than just a bag of function, it can also store objects and other data.\n",
    "\n",
    "- format: \"class Capital\". Always use a capital for classes.\n",
    "- a class can contain multiple methods\n",
    "- class can have their own variables (at Class level) and \n",
    "- It's the job of the Class to encapsulate everything to do with the class\n",
    "\n",
    "You can use class for inheritance and use it in other scripts (like a module)."
   ]
  },
  {
   "cell_type": "code",
   "execution_count": null,
   "metadata": {},
   "outputs": [],
   "source": [
    "class Greeter(object):\n",
    "\n",
    "    # Constructor\n",
    "    def __init__(self, name):\n",
    "        self.name = name  # Create an instance variable\n",
    "    # Instance method\n",
    "    def greet(self, loud=False):\n",
    "        if loud:\n",
    "            print('HELLO, %s!' % self.name.upper())\n",
    "        else:\n",
    "            print('Hello, %s' % self.name)\n",
    "\n",
    "g = Greeter('Fred')  # Construct an instance of the Greeter class\n",
    "g.greet()            # Call an instance method; prints \"Hello, Fred\"\n",
    "g.greet(loud=True)   # Call an instance method; prints \"HELLO, FRED!\""
   ]
  },
  {
   "cell_type": "code",
   "execution_count": null,
   "metadata": {},
   "outputs": [],
   "source": [
    "#From programming the RPi. p68\n",
    "\n",
    "class ScaleConverter : # defining the class\n",
    "    def __init__ (self, units_from, units_to, factor):  #initment or constructor\n",
    "        self.units_from = units_from #self.units_from kan je wijzigen\n",
    "        self.units_to = units_to\n",
    "        self.factor = factor\n",
    "        \n",
    "    def description (self):\n",
    "        return 'convert ' + self.units_from + ' to' + self.units_to\n",
    "    \n",
    "    def convert(self, value):\n",
    "        return value * self.factor\n",
    "#name the instances\n",
    "c1 = ScaleConverter('inches', ' mm', 25)\n",
    "c2 = ScaleConverter('pound', ' kilogram', 0.5)\n",
    "print(c2.description())\n",
    "print(str(c2.convert(2))+ c2.units_to)"
   ]
  },
  {
   "cell_type": "code",
   "execution_count": null,
   "metadata": {},
   "outputs": [],
   "source": [
    "class User:\n",
    "    pass\n",
    "\n",
    "user1 = User() #user1 is an instance or object of the class\n",
    "user1.first_name = 'Dave'\n",
    "user1.last_name = 'Bowie'\n",
    "user1.age = 37\n",
    "user2 = User() # user2 is another instance of the class\n",
    "user2.first_name = \"Frank\"\n",
    "user2.last_name = \"Poel\"\n",
    "user2.fav_book = \"2001 Space Odessey\"\n",
    "first_name= \"Dave\" #out of the class\n",
    "last_name=\"Bowie\" # out of the class\n",
    "\n",
    "print(user1.first_name, user1.last_name)\n",
    "print(user2.first_name, user2.last_name)\n",
    "print(first_name, last_name)\n",
    "print(user1.age)"
   ]
  },
  {
   "cell_type": "code",
   "execution_count": null,
   "metadata": {},
   "outputs": [],
   "source": [
    "class User:\n",
    "    def __init__(self, full_name, birthday):\n",
    "        self.name = full_name\n",
    "        self.birthday = birthday # value = birthday, self.birthday is a field that stores the value\n",
    "        \n",
    "user = User(\"Dave Bowman\", 19760114)\n",
    "print(user.name, user.birthday)"
   ]
  },
  {
   "cell_type": "code",
   "execution_count": null,
   "metadata": {},
   "outputs": [],
   "source": [
    "#source: https://www.youtube.com/watch?v=apACNr7DC_s\n",
    "import datetime\n",
    "\n",
    "class User:\n",
    "    #then write a docstring\n",
    "    \"\"\" this is a docstring. type help(User) for a summary of the class\"\"\"\n",
    "    \n",
    "    def __init__ (self, full_name, birthday):\n",
    "        self.name = full_name\n",
    "        self.birthday = birthday #YYYYMMDD birthday = value and self.birthday is a field that store that value\n",
    "        \n",
    "        #Split full_name in first and last name\n",
    "        name_pieces = full_name.split(\" \")\n",
    "        self.first_name = name_pieces[0]\n",
    "        self.last_name = name_pieces[-1]\n",
    "    \n",
    "    def age(self):\n",
    "        \"\"\"return the age of the user\"\"\"\n",
    "        today = datetime.date(2001,5,12)\n",
    "        yyyy = int(self.birthday[0:4])\n",
    "        mm = int(self.birthday[4:6])\n",
    "        dd = int(self.birthday[6:8])\n",
    "        dob = datetime.date(yyyy, mm, dd)\n",
    "        age_in_days = (today - dob).days\n",
    "        age_in_years = age_in_days / 365\n",
    "        return int(age_in_years)\n",
    "\n",
    "                \n",
    "user = User('Dave Bowman', \"19710315\")\n",
    "print(user.age())\n",
    "#help(User) use this for a summary of the Class"
   ]
  },
  {
   "cell_type": "markdown",
   "metadata": {},
   "source": [
    "### 2.x Class example 4\n",
    "\n",
    "Source: https://www.youtube.com/watch?v=ZDa-Z5JzLYM\n",
    "\n",
    "In this example we have the following steps:\n",
    "1. Define the class\n",
    "2. Define the __init__ method and the associated data fields\n",
    "3. Define the other functions\n",
    "4. Enter the data according to structure of __init__\n",
    "5. Print the output\n"
   ]
  },
  {
   "cell_type": "code",
   "execution_count": 68,
   "metadata": {},
   "outputs": [
    {
     "name": "stdout",
     "output_type": "stream",
     "text": [
      "Corey Schafer\n",
      "Corey Schafer\n",
      "Test.User@company.com\n",
      "Test.User@company.com\n"
     ]
    }
   ],
   "source": [
    "class Employee:\n",
    "    \n",
    "    def __init__ (self, first, last, pay):  # contructor / method\n",
    "        self.first = first #instance variable\n",
    "        self.last = last\n",
    "        self.pay = pay\n",
    "            \n",
    "    def full_name(self): # method to create full_name combining \"first\" and \"last\"\n",
    "        return '{} {}'.format(self.first, self.last)\n",
    "    \n",
    "    def email(self): # method to create email in form of first.last@company.com\n",
    "        return \"{}.{}@company.com\".format(self.first, self.last)\n",
    " \n",
    "#Entering the data conform the __init__ format\n",
    "emp_1=Employee('Corey', 'Schafer', 5000) # instance 1\n",
    "emp_2=Employee('Test', 'User', 60000)\n",
    "\n",
    "# two ways of getting the same result\n",
    "print(emp_1.full_name())\n",
    "print(Employee.full_name(emp_1)) #print(class.method(data))\n",
    "\n",
    "print(emp_2.email())\n",
    "print(Employee.email(emp_2))"
   ]
  },
  {
   "cell_type": "markdown",
   "metadata": {},
   "source": [
    "### 2.x Class: XXX Amsterdam Variables script\n",
    "\n",
    "There are three types of variables:\n",
    "- Global variables\n",
    "- Class variables\n",
    "- Function variables\n",
    "\n",
    "In this script all three variables are used: \n",
    "\n",
    "For any programmer it is important not to mix them up!"
   ]
  },
  {
   "cell_type": "code",
   "execution_count": 1,
   "metadata": {},
   "outputs": [
    {
     "name": "stdout",
     "output_type": "stream",
     "text": [
      "Am\n",
      "ster\n",
      "dam\n"
     ]
    }
   ],
   "source": [
    "# Just a short script to show the difference between global, class and functional variables\n",
    "\n",
    "X1 = \"Am\" #This is the global variable containging the value \"Am\"\n",
    "\n",
    "class X2:\n",
    "    X2 = \"ster\" # This is the class variable\n",
    "    \n",
    "    def __init__(self, X3):\n",
    "        self.X3 = X3 \n",
    "\n",
    "#now create an instance:        \n",
    "X3 = X2(\"dam\") #this is the function variable adding it to the class\n",
    "\n",
    "print(X1) # print the global variable\n",
    "print(X2.X2) # print the Class variable\n",
    "print(X3.X3) # print the function variable"
   ]
  },
  {
   "cell_type": "code",
   "execution_count": null,
   "metadata": {},
   "outputs": [],
   "source": [
    "# Just a short script to show what happens when the variabls are wrongly assigned :-)\n",
    "\n",
    "X = \"Am\" #This is the global variable\n",
    "\n",
    "class X:\n",
    "    X = \"ster\" # This is the class variable\n",
    "    \n",
    "    def __init__(self, X):\n",
    "        self.X = X \n",
    "\n",
    "#now create an instance:        \n",
    "X = X(\"dam\") #this is the function / instance variable\n",
    "\n",
    "print(X) # print the global variable\n",
    "print(X.X) # print the Class variable\n",
    "#print(X3.X3) # print the function / instance variable"
   ]
  },
  {
   "cell_type": "markdown",
   "metadata": {},
   "source": [
    "### 2.x Class from Python for beginners\n",
    "\n",
    "Page -  Class example"
   ]
  },
  {
   "cell_type": "code",
   "execution_count": 2,
   "metadata": {},
   "outputs": [],
   "source": [
    "#account.py\n",
    "\"\"\"Account class definition\"\"\"\n",
    "from decimal import Decimal\n",
    "\n",
    "class Account:\n",
    "    \"\"\"Account class for maintaining a bank account balance\"\"\" #docstring\n",
    "    \n",
    "    def __init__(self, name, balance): #self is first parameter. A class methods must use that reference(self) to access the object's attributes and other methods.\n",
    "        \"\"\"Inititalize the Account objects name and balance\"\"\"\n",
    "        \n",
    "    #if a balance is less than 0.00, raise an exception\n",
    "    if balance < Decimal('0.00'):\n",
    "        raise ValueError('Initial balance must be >= to 0.00.')\n",
    "        \n",
    "    self.name = name\n",
    "    self.balance = balance\n",
    "    \n",
    "    def deposit(self, amount):\n",
    "        \"\"\"Deposits money to the amount\"\"\"\n",
    "        \n",
    "        #if amount is less than 0.00, raise an exception\n",
    "        if amount > self.balance:\n",
    "            raise ValueError('amount must be positive')\n",
    "        elif amount < Decimal('0.00'):\n",
    "            raise ValueError('amount must be positive')\n",
    "        \n",
    "        self.balance += amount\n",
    "        \n",
    "    def withdraw(self, amount):\n",
    "        \"\"\"Withdraws money from the amount\"\"\"\n",
    "        \n",
    "        #if withdrawal is greater than amount, raise an exception\n",
    "        if withdrawal > amount:\n",
    "            raise ValueError('withdrawal too high')\n",
    "        \n",
    "        self.balance -= amount"
   ]
  },
  {
   "cell_type": "code",
   "execution_count": null,
   "metadata": {},
   "outputs": [],
   "source": [
    "#card.py - Intro to Python p.375\n",
    "\"\"\"Card class that represents a playing card and its image file name\"\"\"\n",
    "\n",
    "class Card:\n",
    "    FACES = ['Ace', '2', '3', '4', '5', '6', \n",
    "             '7', '8', '9', '10', 'Jack', 'Queen', 'King']\n",
    "    SUITS = ['Hearts', 'Diamonds', 'Clubs', 'Spades']\n",
    "    #both are constants and therefore written with capitals\n",
    "    def __init__(self, face, suit):\n",
    "        \"\"\"Initialize a card with a fac and suit\"\"\"\n",
    "        self._face = face\n",
    "        self._suit = suit\n",
    "        \n",
    "        @property\n",
    "        def face(self):\n",
    "            \"\"\"return the Card's self._face value\"\"\"\n",
    "            return self._face\n",
    "        \n",
    "        @property\n",
    "        def suit(self):\n",
    "            \"\"\"Return the Card's self._suit value\"\"\"\n",
    "            return self._suit\n",
    "        \n",
    "        @property\n",
    "        def image_name(self):\n",
    "            \"\"\"Return the Card's image file name\"\"\"\n",
    "            return str(self).replace(' ', '_') + '.png'"
   ]
  },
  {
   "cell_type": "markdown",
   "metadata": {},
   "source": [
    "## 3. Monte Carlo simulation or Random Walk\n",
    "source: https://www.youtube.com/watch?v=BfS2H1y6tzQ"
   ]
  },
  {
   "cell_type": "code",
   "execution_count": 2,
   "metadata": {},
   "outputs": [
    {
     "name": "stdout",
     "output_type": "stream",
     "text": [
      "Walk size =  1 / % no transport =  100.0\n",
      "Walk size =  2 / % no transport =  100.0\n",
      "Walk size =  3 / % no transport =  100.0\n",
      "Walk size =  4 / % no transport =  100.0\n",
      "Walk size =  5 / % no transport =  87.44\n",
      "Walk size =  6 / % no transport =  93.78\n",
      "Walk size =  7 / % no transport =  76.05\n",
      "Walk size =  8 / % no transport =  86.75\n",
      "Walk size =  9 / % no transport =  67.22\n"
     ]
    }
   ],
   "source": [
    "# script to do a Monte Carlo simulation\n",
    "import random \n",
    "\n",
    "def random_walk(n):\n",
    "    \"\"\" return coordinates after an n block walk\"\"\"\n",
    "    x, y = 0, 0\n",
    "    for i in range(n):\n",
    "        (dx, dy) = random.choice([(0,1), (0,-1), (1,0), (-1,0)])\n",
    "        x += dx\n",
    "        y += dy                       \n",
    "    return (x,y)\n",
    "\n",
    "#for i in range(25):\n",
    "#    walk = random_walk(10)\n",
    "#    print(walk, 'Distance from home =', \n",
    "#         abs(walk[0])+abs(walk[1]))\n",
    "    \n",
    "number_of_walks = 10000\n",
    "\n",
    "for walk_length in range(1,10):\n",
    "    no_transport = 0\n",
    "    for i in range(number_of_walks):\n",
    "        (x, y) = random_walk(walk_length)\n",
    "        distance = abs(x) + abs(y)\n",
    "        if distance <=4:\n",
    "            no_transport +=1\n",
    "    no_transport_percentage = float(no_transport) / number_of_walks\n",
    "    print(\"Walk size = \", walk_length,\n",
    "          \"/ % no transport = \", 100*no_transport_percentage)"
   ]
  },
  {
   "cell_type": "markdown",
   "metadata": {},
   "source": [
    "## 4. List comprehensions\n",
    "\n",
    "Python docs: https://docs.python.org/2/tutorial/datastructures.html#list-comprehensions"
   ]
  },
  {
   "cell_type": "code",
   "execution_count": 19,
   "metadata": {},
   "outputs": [
    {
     "data": {
      "text/plain": [
       "[0, 1, 4, 9, 16, 25, 36, 49, 64, 81]"
      ]
     },
     "execution_count": 19,
     "metadata": {},
     "output_type": "execute_result"
    }
   ],
   "source": [
    "squares = []\n",
    "for x in range(10):\n",
    "    squares.append(x**2)\n",
    "squares"
   ]
  },
  {
   "cell_type": "code",
   "execution_count": 2,
   "metadata": {},
   "outputs": [
    {
     "data": {
      "text/plain": [
       "[1, 2, 3, 4, 5]"
      ]
     },
     "execution_count": 2,
     "metadata": {},
     "output_type": "execute_result"
    }
   ],
   "source": [
    "#source intro to python p179\n",
    "list1 = []\n",
    "\n",
    "for number in range(1,6):\n",
    "    list1.append(number)\n",
    "    \n",
    "list1"
   ]
  },
  {
   "cell_type": "code",
   "execution_count": 3,
   "metadata": {},
   "outputs": [
    {
     "data": {
      "text/plain": [
       "[1, 2, 3, 4, 5]"
      ]
     },
     "execution_count": 3,
     "metadata": {},
     "output_type": "execute_result"
    }
   ],
   "source": [
    "list2 = [item for item in range(1,6)]\n",
    "list2"
   ]
  },
  {
   "cell_type": "code",
   "execution_count": 5,
   "metadata": {},
   "outputs": [
    {
     "data": {
      "text/plain": [
       "[1, 2, 3, 4, 5]"
      ]
     },
     "execution_count": 5,
     "metadata": {},
     "output_type": "execute_result"
    }
   ],
   "source": [
    "list2b = list(range(1,6))\n",
    "list2b"
   ]
  },
  {
   "cell_type": "code",
   "execution_count": 6,
   "metadata": {},
   "outputs": [
    {
     "data": {
      "text/plain": [
       "[1, 8, 27, 64, 125]"
      ]
     },
     "execution_count": 6,
     "metadata": {},
     "output_type": "execute_result"
    }
   ],
   "source": [
    "list3 = [item **3 for item in range(1,6)]\n",
    "list3"
   ]
  },
  {
   "cell_type": "code",
   "execution_count": 9,
   "metadata": {},
   "outputs": [
    {
     "data": {
      "text/plain": [
       "[2, 4, 6, 8, 10]"
      ]
     },
     "execution_count": 9,
     "metadata": {},
     "output_type": "execute_result"
    }
   ],
   "source": [
    "list4 = [item for item in range(1,11) if item %2==0]\n",
    "list4"
   ]
  },
  {
   "cell_type": "code",
   "execution_count": 2,
   "metadata": {},
   "outputs": [
    {
     "name": "stdout",
     "output_type": "stream",
     "text": [
      "[[0, 1, 2, 3, 4, 5, 6, 7, 8, 9], [0, 1, 2, 3, 4, 5, 6, 7, 8, 9], [0, 1, 2, 3, 4, 5, 6, 7, 8, 9], [0, 1, 2, 3, 4, 5, 6, 7, 8, 9], [0, 1, 2, 3, 4, 5, 6, 7, 8, 9], [0, 1, 2, 3, 4, 5, 6, 7, 8, 9], [0, 1, 2, 3, 4, 5, 6, 7, 8, 9], [0, 1, 2, 3, 4, 5, 6, 7, 8, 9], [0, 1, 2, 3, 4, 5, 6, 7, 8, 9], [0, 1, 2, 3, 4, 5, 6, 7, 8, 9]]\n"
     ]
    }
   ],
   "source": [
    "new_list = [[i for i in range(10)] for j in range(10)]\n",
    "print(new_list)\n"
   ]
  },
  {
   "cell_type": "code",
   "execution_count": 67,
   "metadata": {},
   "outputs": [
    {
     "name": "stdout",
     "output_type": "stream",
     "text": [
      "[[0, 1, 2, 3, 4, 5, 6, 7, 8, 9], [0, 1, 2, 3, 4, 5, 6, 7, 8, 9], [0, 1, 2, 3, 4, 5, 6, 7, 8, 9], [0, 1, 2, 3, 4, 5, 6, 7, 8, 9], [0, 1, 2, 3, 4, 5, 6, 7, 8, 9], [0, 1, 2, 3, 4, 5, 6, 7, 8, 9], [0, 1, 2, 3, 4, 5, 6, 7, 8, 9], [0, 1, 2, 3, 4, 5, 6, 7, 8, 9], [0, 1, 2, 3, 4, 5, 6, 7, 8, 9], [0, 1, 2, 3, 4, 5, 6, 7, 8, 9]]\n"
     ]
    }
   ],
   "source": [
    "newlist = []\n",
    "for x in range(10):\n",
    "    newlist.append(list(range(10)))\n",
    "print(newlist)"
   ]
  },
  {
   "cell_type": "code",
   "execution_count": 1,
   "metadata": {},
   "outputs": [
    {
     "ename": "NameError",
     "evalue": "name 'innerlist' is not defined",
     "output_type": "error",
     "traceback": [
      "\u001b[1;31m---------------------------------------------------------------------------\u001b[0m",
      "\u001b[1;31mNameError\u001b[0m                                 Traceback (most recent call last)",
      "\u001b[1;32m~\\AppData\\Local\\Temp/ipykernel_14444/1170991254.py\u001b[0m in \u001b[0;36m<module>\u001b[1;34m\u001b[0m\n\u001b[0;32m      7\u001b[0m     \u001b[1;31m#newlist.append(innerlist)\u001b[0m\u001b[1;33m\u001b[0m\u001b[1;33m\u001b[0m\u001b[1;33m\u001b[0m\u001b[0m\n\u001b[0;32m      8\u001b[0m \u001b[1;33m\u001b[0m\u001b[0m\n\u001b[1;32m----> 9\u001b[1;33m \u001b[0mprint\u001b[0m\u001b[1;33m(\u001b[0m\u001b[0minnerlist\u001b[0m\u001b[1;33m)\u001b[0m\u001b[1;33m\u001b[0m\u001b[1;33m\u001b[0m\u001b[0m\n\u001b[0m\u001b[0;32m     10\u001b[0m \u001b[0mprint\u001b[0m\u001b[1;33m(\u001b[0m\u001b[0mnewlist\u001b[0m\u001b[1;33m)\u001b[0m\u001b[1;33m\u001b[0m\u001b[1;33m\u001b[0m\u001b[0m\n",
      "\u001b[1;31mNameError\u001b[0m: name 'innerlist' is not defined"
     ]
    }
   ],
   "source": [
    "import random\n",
    "newlist = []\n",
    "def random_int(num_elems=10, max_int=100):\n",
    "    for x in range(1): \n",
    "        for y in range(num_elems):\n",
    "            innerlist.append(random.randint(0, max_int))\n",
    "    #newlist.append(innerlist)\n",
    "\n",
    "print(innerlist)\n",
    "print(newlist)"
   ]
  },
  {
   "cell_type": "code",
   "execution_count": null,
   "metadata": {},
   "outputs": [],
   "source": []
  },
  {
   "cell_type": "markdown",
   "metadata": {},
   "source": [
    "## Binary Search Tree 1\n",
    "source: https://www.youtube.com/watch?v=yC83Kp2xig8"
   ]
  },
  {
   "cell_type": "code",
   "execution_count": 1,
   "metadata": {},
   "outputs": [
    {
     "name": "stdout",
     "output_type": "stream",
     "text": [
      "<__main__.Tree object at 0x0000026F5B0B3D48>\n"
     ]
    }
   ],
   "source": [
    "class Tree:\n",
    "    def __init__(self):\n",
    "        self.left = None\n",
    "        self.right = None\n",
    "        self.data = None\n",
    "\n",
    "root = Tree()\n",
    "root.data = \"root\"\n",
    "root.left = Tree()\n",
    "root.left.data = \"left\"\n",
    "root.right = Tree()\n",
    "root.right.data = \"right\"\n",
    "\n",
    "print(root.left)"
   ]
  },
  {
   "cell_type": "code",
   "execution_count": null,
   "metadata": {},
   "outputs": [],
   "source": [
    "class Node:\n",
    "    def __init__(self, data=None):\n",
    "        self.data = data\n",
    "        self.left = None\n",
    "        self.right = None\n",
    "\n",
    "class BST:\n",
    "    def __init__(self):\n",
    "        self.root = None\n",
    "    \n",
    "    def insert(self, data):\n",
    "        if self.root is None:\n",
    "            self.root = Node(data)\n",
    "        else:\n",
    "            self._insert(data, self.root)\n",
    "     \n",
    "    def _insert(self, data, cur_node):\n",
    "        if data < cur_node.data:\n",
    "            if cur_node.left is None:\n",
    "                cure_node.left = Node(data)\n",
    "            else:\n",
    "                self._insert(data, cur_node.left)\n",
    "        elif  data > cur_node.data:\n",
    "            if cur_node.right is None:\n",
    "                cur_node.right = Node(data)\n",
    "            else:\n",
    "                self._insert(data, cur_node.right)\n",
    "        else:\n",
    "            print(\"Value is already present\")\n",
    "    \n",
    "    def find (self, data):\n",
    "        if self.root:\n",
    "            is_found = self._find(data, self.root)\n",
    "            if is_found:\n",
    "                return True\n",
    "            return False\n",
    "        else:\n",
    "            return None\n",
    "    \n",
    "    def _find(self, data, cur_node):\n",
    "        if data > cur_node.data and cur_node.right:\n",
    "            return self._find(data, cur_node.right)\n",
    "        elif data < cur_node.data and cur_node.left:\n",
    "            return self._find(data, cur_node.left)\n",
    "        if data == cur_node.data:\n",
    "            return True\n",
    "        \n",
    "bst = BST()\n",
    "bst.insert(4)\n",
    "bst.insert(8)\n",
    "bst.insert(9)\n",
    "bst.insert(10)\n",
    "\n",
    "bst.find(11)"
   ]
  },
  {
   "cell_type": "markdown",
   "metadata": {},
   "source": [
    "## 5. Binary search tree traversal algorithm\n",
    "https://www.youtube.com/watch?v=6oL-0TdVy28"
   ]
  },
  {
   "cell_type": "code",
   "execution_count": null,
   "metadata": {},
   "outputs": [],
   "source": [
    "class Node(object):\n",
    "    def __init__ (self, value):\n",
    "        self.value = value\n",
    "        self.left = None\n",
    "        self.right = None\n",
    "        \n",
    "class BinaryTree(object):\n",
    "    def __init__ (self, root):\n",
    "        self.root = Node(root)\n",
    "#           1\n",
    "#       /     \\\n",
    "#      2       3\n",
    "#     / \\     / \\\n",
    "#    4   5   6   7\n",
    "tree = BinaryTree(1)\n",
    "tree.root.left = Node(2)\n",
    "tree.root.right = Node(3)\n",
    "tree.root.left.left = Node(4)\n",
    "tree.root.left.right = Node(5)\n",
    "tree.root.right.left = Node(6)\n",
    "tree.root.right.right = Node(7)\n",
    "tree.root.right.right = Node(8)\n"
   ]
  },
  {
   "cell_type": "markdown",
   "metadata": {},
   "source": [
    "### 5b. BST Example 2\n",
    "https://www.youtube.com/watch?v=f5dU3xoE6ms"
   ]
  },
  {
   "cell_type": "code",
   "execution_count": 86,
   "metadata": {},
   "outputs": [
    {
     "name": "stdout",
     "output_type": "stream",
     "text": [
      "value already in tree!\n",
      "value already in tree!\n",
      "1\n",
      "12\n",
      "29\n",
      "36\n",
      "54\n",
      "80\n",
      "82\n",
      "88\n",
      "95\n",
      "tree height:4\n",
      "False\n",
      "True\n"
     ]
    }
   ],
   "source": [
    "class node:\n",
    "    def __init__ (self, value=None): #create a constructor with empty value \n",
    "        self.value = value #assign a value\n",
    "        self.left_child = None #create a left_child\n",
    "        self.right_child = None #create a right_child\n",
    "    \n",
    "class binary_search_tree:\n",
    "    \n",
    "    def __init__(self): #create a constructor\n",
    "        self.root=None\n",
    "        \n",
    "    def insert(self, value): #insert a value in the node if empty, otherwise insert a new node\n",
    "        if self.root is None:  \n",
    "            self.root = node(value)\n",
    "        else:\n",
    "            self._insert(value, self.root) # call the private function to create a node and assign a value to it\n",
    "    \n",
    "    def _insert(self, value, cur_node): # helper or private function to create new nodes as left or right children.\n",
    "        if value < cur_node.value: \n",
    "            if cur_node.left_child is None:\n",
    "                cur_node.left_child=node(value) \n",
    "            else:\n",
    "                self._insert(value, cur_node.left_child)\n",
    "        elif value > cur_node.value:\n",
    "            if cur_node.right_child is None:\n",
    "                cur_node.right_child=node(value)\n",
    "            else:\n",
    "                self._insert(value, cur_node.right_child)\n",
    "        else:\n",
    "            print(\"value already in tree!\") # print when a (random) number is already in the tree\n",
    "   \n",
    "    def print_tree(self):\n",
    "        if self.root is not None:\n",
    "            self._print_tree(self.root)\n",
    "    \n",
    "    def _print_tree(self, cur_node):\n",
    "        if cur_node is not None:\n",
    "            self._print_tree(cur_node.left_child)\n",
    "            print (str(cur_node.value))\n",
    "            self._print_tree(cur_node.right_child)\n",
    "    \n",
    "    def height(self): #public part of function\n",
    "        if self.root is not None:\n",
    "            return self._height(self.root,0)\n",
    "        else:\n",
    "            return 0\n",
    "        \n",
    "    def _height(self, cur_node, cur_height): #private part / recurring function\n",
    "        if cur_node is None:\n",
    "            return cur_height\n",
    "        left_height=self._height(cur_node.left_child, cur_height+1)\n",
    "        right_height= self._height(cur_node.right_child, cur_height+1)\n",
    "        return max(left_height,right_height)    \n",
    "    \n",
    "    def search(self, value): #private function\n",
    "        if self.root is not None:\n",
    "            return self._search(value, self.root)\n",
    "        else:\n",
    "            return False\n",
    "    \n",
    "    def _search(self, value, cur_node):\n",
    "        if value is cur_node.value:\n",
    "            return True\n",
    "        elif value<cur_node.value and cur_node.left_child is not None:\n",
    "            return self._search(value, cur_node.left_child)\n",
    "        elif value> cur_node.value and cur_node.right_child is not None:\n",
    "            return self._search(value, cur_node.right_child)\n",
    "        return False\n",
    "    \n",
    "def fill_tree(tree, num_elems=10, max_int=100):\n",
    "    from random import randint\n",
    "    for _ in range(num_elems):\n",
    "        cur_elem = randint(0, max_int)\n",
    "        tree.insert(cur_elem)\n",
    "    return tree\n",
    "            \n",
    "tree= binary_search_tree()\n",
    "tree = fill_tree(tree)\n",
    "\n",
    "tree.insert(1)\n",
    "tree.print_tree()\n",
    "print(\"tree height:\"+str(tree.height()))\n",
    "\n",
    "print(str(tree.search(7)))\n",
    "print (str(tree.search(12)))"
   ]
  },
  {
   "cell_type": "markdown",
   "metadata": {},
   "source": [
    "## Opdracht AI cafe\n",
    "\n",
    "Binary Search Trees is another way to store data. It consists of nodes. Nodes are integers.\n",
    "\n",
    "Example:\n",
    "                 8\n",
    "                / \\\n",
    "               3   10\n",
    "              / \\  /\\\n",
    "             2  6 9  11\n",
    "\n",
    "Full binary search tree: all nodes are full\n",
    "complete: all except leaf nodes \n",
    "balanced: leafs are same level (exept for 1) unbalanced > 1 leaf on different height.\n",
    "\n",
    "### Terms\n",
    "node = an element in a search tree<br>\n",
    "root = first node (usually on top)<br>\n",
    "child: Each node has (exactly) two children a 'left'and a 'right' child.<br>\n",
    "    left child < parent and right node > parent\n",
    "leaf node = node without children\n",
    "\n",
    "height/depth of a tree: number of levels of the tree. Starts with 1. height of full tree= log(n)\n",
    "\n",
    "### How to construct a search tree\n",
    "- start with creating a class to assing nodes.\n",
    "- start with creating a second class to create the BST\n",
    "    - create a constructor with self, left, right\n",
    "- start with value = None\n",
    "\n",
    "- insert data into the tree with a function 'insert'\n",
    "    - create a helper (private) function _insert to do the recursive tasks \n",
    "   if value_child < value_parent:\n",
    "        return left_child\n",
    "    if value_child > value_parent:\n",
    "        return right_child \n",
    "\n",
    "- add data to the tree by calling the insert function:\n",
    "    - as an instance\n",
    "    - or with an new 'random' function\n",
    "- height of a tree: You can show the height by creating a function height that runs down the search tree and than does +1 action. Return the max value of both left/right!"
   ]
  },
  {
   "cell_type": "code",
   "execution_count": 1,
   "metadata": {},
   "outputs": [
    {
     "name": "stdout",
     "output_type": "stream",
     "text": [
      "7\n",
      "49\n",
      "95\n",
      "76\n",
      "86\n",
      "16\n",
      "51\n",
      "1\n",
      "95\n",
      "7\n",
      "None\n"
     ]
    }
   ],
   "source": [
    "# Michiels Binary Search Tree HIER ALLEEN WERKENDE CODE!\n",
    "import random\n",
    "class Tree:\n",
    "    '''a class for the Binary Search Tree'''\n",
    "    def __init__(self, left, right): #create the constructor\n",
    "        self.left = left\n",
    "        self.right = right\n",
    "        \n",
    "    def _random(self, num_elems=10, max_int=100):\n",
    "       for i in range(num_elems): #for loop 10x\n",
    "            print(random.randint(0, max_int)) # print an integer between 10 and 20\n",
    "print(Tree._random(0)) #print the function"
   ]
  },
  {
   "cell_type": "code",
   "execution_count": 75,
   "metadata": {},
   "outputs": [
    {
     "data": {
      "text/plain": [
       "[37, 89, 81, 54, 98, 49, 2, 43, 16, 1]"
      ]
     },
     "execution_count": 75,
     "metadata": {},
     "output_type": "execute_result"
    }
   ],
   "source": [
    "# Michiels Binary Search Tree / KLADVERSIE\n",
    "import random\n",
    "class Tree:\n",
    "    \n",
    "    def __init__(self, left, right):\n",
    "        self.left = left\n",
    "        self.right = right\n",
    "\n",
    "    def _random(num_elems, max_int): \n",
    "        \n",
    "        for i in range(num_elems): #for loop num_elems\n",
    "            return (random.randint(0, max_int)) # print an integer between 0 and max_integer\n",
    "        \n",
    "    def add(num_elemens, max_int):\n",
    "        return random.sample(range(0,max_int), num_elemens)\n",
    "    \n",
    "    def display():\n",
    "        return add()\n",
    "\n",
    "    def depth(num_elems, max_int):\n",
    "        x= (add(num_elems, max_int))\n",
    "        print(len(x))\n",
    "    def tolist(num_elems, max_int):\n",
    "        tolist =[]\n",
    "        for i in range(num_elems): #for loop num_elems\n",
    "            item = random.randint(0, max_int) # print an integer between 0 and \n",
    "            tolist.append(item)\n",
    "        return tolist\n",
    "\n",
    "#print(Tree.add(5,100))\n",
    "#Tree._random(10,100)\n",
    "#Tree.depth(10,100)\n",
    "Tree.tolist(10,100)\n"
   ]
  },
  {
   "cell_type": "markdown",
   "metadata": {},
   "source": [
    "## 6. PS Util"
   ]
  },
  {
   "cell_type": "code",
   "execution_count": 1,
   "metadata": {},
   "outputs": [
    {
     "data": {
      "text/plain": [
       "sbattery(percent=99, secsleft=22640, power_plugged=False)"
      ]
     },
     "execution_count": 1,
     "metadata": {},
     "output_type": "execute_result"
    }
   ],
   "source": [
    "#!/usr/bin/env python\n",
    "import psutil\n",
    "# gives a single float value\n",
    "#psutil.cpu_percent()\n",
    "psutil.sensors_battery()"
   ]
  },
  {
   "cell_type": "code",
   "execution_count": null,
   "metadata": {},
   "outputs": [],
   "source": []
  }
 ],
 "metadata": {
  "kernelspec": {
   "display_name": "Python 3 (ipykernel)",
   "language": "python",
   "name": "python3"
  },
  "language_info": {
   "codemirror_mode": {
    "name": "ipython",
    "version": 3
   },
   "file_extension": ".py",
   "mimetype": "text/x-python",
   "name": "python",
   "nbconvert_exporter": "python",
   "pygments_lexer": "ipython3",
   "version": "3.8.5"
  }
 },
 "nbformat": 4,
 "nbformat_minor": 4
}
