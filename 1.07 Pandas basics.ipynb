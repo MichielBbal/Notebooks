{
 "cells": [
  {
   "cell_type": "markdown",
   "metadata": {},
   "source": [
    "# Pandas basics\n",
    "\n",
    "Pandas is a software library written for the Python programming language for data manipulation and analysis. In particular, it offers data structures and operations for manipulating numerical tables and time series. \n",
    "\n",
    "The name Pandas is derived from the term \"panel data\", an econometrics term for data sets that include observations over multiple time periods for the same individuals\n",
    "\n",
    "\n",
    "Pandas can ben used to store the data in a Dataframe. Think of it as a spreadsheet.\n",
    "It is very handy for time series and tabular data.\n",
    "Pandas runs on top of NumPy, so you need to install that first. \n",
    "\n",
    "See more at: https://pandas.pydata.org\n",
    "\n",
    "## Contents\n",
    "0. Install pandas\n",
    "1. My first pandas\n",
    "2. write to and import CSV files\n",
    "3. Data cleansing\n",
    "4. Pandas append data\n",
    "5. Selecting values\n",
    "6. Binning with Pandas.cut\n",
    "7. Rolling\n",
    "8. Some simple plots\n",
    "\n",
    "### To do:\n",
    "- [] drop 0\n",
    "- [] drop NaN"
   ]
  },
  {
   "cell_type": "code",
   "execution_count": 1,
   "metadata": {},
   "outputs": [
    {
     "name": "stdout",
     "output_type": "stream",
     "text": [
      "Requirement already satisfied: pandas in c:\\users\\michiel\\anaconda3\\lib\\site-packages (0.25.1)\n",
      "Requirement already satisfied: numpy>=1.13.3 in c:\\users\\michiel\\anaconda3\\lib\\site-packages (from pandas) (1.16.5)\n",
      "Requirement already satisfied: python-dateutil>=2.6.1 in c:\\users\\michiel\\anaconda3\\lib\\site-packages (from pandas) (2.8.0)\n",
      "Requirement already satisfied: pytz>=2017.2 in c:\\users\\michiel\\anaconda3\\lib\\site-packages (from pandas) (2019.3)\n",
      "Requirement already satisfied: six>=1.5 in c:\\users\\michiel\\anaconda3\\lib\\site-packages (from python-dateutil>=2.6.1->pandas) (1.12.0)\n"
     ]
    }
   ],
   "source": [
    "#%pip install numpy\n",
    "%pip install pandas"
   ]
  },
  {
   "cell_type": "markdown",
   "metadata": {},
   "source": [
    "## 1. My first pandas\n"
   ]
  },
  {
   "cell_type": "code",
   "execution_count": 2,
   "metadata": {},
   "outputs": [
    {
     "name": "stdout",
     "output_type": "stream",
     "text": [
      "--------------------------------------------------\n",
      "[ 1. load hard coded data into a df ]\n",
      "   month  avg_high  avg_low  record_high  record_low  avg_precipitation\n",
      "0    Jan        58       42           74          22               2.95\n",
      "1    Feb        61       45           78          26               3.02\n",
      "2    Mar        65       48           84          25               2.34\n",
      "3    Apr        67       50           92          28               1.02\n",
      "4    May        71       53           98          35               0.48\n",
      "5    Jun        75       56          107          41               0.11\n",
      "6    Jul        77       58          105          44               0.00\n",
      "7    Aug        77       59          102          43               0.03\n",
      "8    Sep        77       57          103          40               0.17\n",
      "9    Oct        73       54           96          34               0.81\n",
      "10   Nov        64       48           84          30               1.70\n",
      "11   Dec        58       42           73          21               2.56\n"
     ]
    }
   ],
   "source": [
    "# First example\n",
    "# source: https://www.youtube.com/watch?v=e60ItwlZTKM\n",
    "import numpy as np\n",
    "import pandas as pd\n",
    "\n",
    "def header(msg):\n",
    "    print('-'* 50 )\n",
    "    print('[ '+ msg +' ]')\n",
    "          \n",
    "header(\"1. load hard coded data into a df\")\n",
    "df = pd.DataFrame(\n",
    "    [['Jan',58,42,74,22,2.95],\n",
    "    ['Feb',61,45,78,26,3.02],\n",
    "    ['Mar',65,48,84,25,2.34],\n",
    "    ['Apr',67,50,92,28,1.02],\n",
    "    ['May',71,53,98,35,0.48],\n",
    "    ['Jun',75,56,107,41,0.11],\n",
    "    ['Jul',77,58,105,44,0.0],\n",
    "    ['Aug',77,59,102,43,0.03],\n",
    "    ['Sep',77,57,103,40,0.17],\n",
    "    ['Oct',73,54,96,34,0.81],\n",
    "    ['Nov',64,48,84,30,1.7],\n",
    "    ['Dec',58,42,73,21,2.56]],\n",
    "    index = [0,1,2,3,4,5,6,7,8,9,10,11],      \n",
    "    columns = ['month','avg_high','avg_low','record_high','record_low','avg_precipitation'])\n",
    "print(df)"
   ]
  },
  {
   "cell_type": "code",
   "execution_count": 4,
   "metadata": {},
   "outputs": [
    {
     "name": "stdout",
     "output_type": "stream",
     "text": [
      "--------------------------------------------------\n",
      "[ 3 . df.head() ]\n",
      "  month  avg_high  avg_low  record_high  record_low  avg_precipitation\n",
      "0   Jan        58       42           74          22               2.95\n",
      "1   Feb        61       45           78          26               3.02\n",
      "2   Mar        65       48           84          25               2.34\n",
      "3   Apr        67       50           92          28               1.02\n",
      "4   May        71       53           98          35               0.48\n",
      "--------------------------------------------------\n",
      "[ 3. df.tail(3) ]\n",
      "   month  avg_high  avg_low  record_high  record_low  avg_precipitation\n",
      "9    Oct        73       54           96          34               0.81\n",
      "10   Nov        64       48           84          30               1.70\n",
      "11   Dec        58       42           73          21               2.56\n"
     ]
    }
   ],
   "source": [
    "# Example 3 print first 5 or 3 last rows of df\n",
    "header ('3 . df.head()')\n",
    "print(df.head())\n",
    "header(\"3. df.tail(3)\")\n",
    "print(df.tail(3))\n"
   ]
  },
  {
   "cell_type": "code",
   "execution_count": 7,
   "metadata": {},
   "outputs": [
    {
     "name": "stdout",
     "output_type": "stream",
     "text": [
      "--------------------------------------------------\n",
      "[ df.dtypes ]\n",
      "month                 object\n",
      "avg_high               int64\n",
      "avg_low                int64\n",
      "record_high            int64\n",
      "record_low             int64\n",
      "avg_precipitation    float64\n",
      "dtype: object\n",
      "--------------------------------------------------\n",
      "[ df.index ]\n",
      "Int64Index([0, 1, 2, 3, 4, 5, 6, 7, 8, 9, 10, 11], dtype='int64')\n",
      "--------------------------------------------------\n",
      "[ df.columns ]\n",
      "Index(['month', 'avg_high', 'avg_low', 'record_high', 'record_low',\n",
      "       'avg_precipitation'],\n",
      "      dtype='object')\n",
      "--------------------------------------------------\n",
      "[ df.values ]\n",
      "[['Jan' 58 42 74 22 2.95]\n",
      " ['Feb' 61 45 78 26 3.02]\n",
      " ['Mar' 65 48 84 25 2.34]\n",
      " ['Apr' 67 50 92 28 1.02]\n",
      " ['May' 71 53 98 35 0.48]\n",
      " ['Jun' 75 56 107 41 0.11]\n",
      " ['Jul' 77 58 105 44 0.0]\n",
      " ['Aug' 77 59 102 43 0.03]\n",
      " ['Sep' 77 57 103 40 0.17]\n",
      " ['Oct' 73 54 96 34 0.81]\n",
      " ['Nov' 64 48 84 30 1.7]\n",
      " ['Dec' 58 42 73 21 2.56]]\n",
      "--------------------------------------------------\n",
      "[ df.info ]\n",
      "<bound method DataFrame.info of    month  avg_high  avg_low  record_high  record_low  avg_precipitation\n",
      "0    Jan        58       42           74          22               2.95\n",
      "1    Feb        61       45           78          26               3.02\n",
      "2    Mar        65       48           84          25               2.34\n",
      "3    Apr        67       50           92          28               1.02\n",
      "4    May        71       53           98          35               0.48\n",
      "5    Jun        75       56          107          41               0.11\n",
      "6    Jul        77       58          105          44               0.00\n",
      "7    Aug        77       59          102          43               0.03\n",
      "8    Sep        77       57          103          40               0.17\n",
      "9    Oct        73       54           96          34               0.81\n",
      "10   Nov        64       48           84          30               1.70\n",
      "11   Dec        58       42           73          21               2.56>\n"
     ]
    }
   ],
   "source": [
    "# Example 4 printing the data types, index, columns, values\n",
    "\n",
    "header(\"df.dtypes\")\n",
    "print(df.dtypes)\n",
    "header(\"df.index\")\n",
    "print(df.index)\n",
    "header('df.columns')\n",
    "print(df.columns)\n",
    "header('df.values')\n",
    "print(df.values)\n",
    "header('df.info')\n",
    "print(df.info)"
   ]
  },
  {
   "cell_type": "code",
   "execution_count": 6,
   "metadata": {},
   "outputs": [
    {
     "name": "stdout",
     "output_type": "stream",
     "text": [
      "--------------------------------------------------\n",
      "[ 5. df.describe() ]\n",
      "        avg_high    avg_low  record_high  record_low  avg_precipitation\n",
      "count  12.000000  12.000000    12.000000   12.000000          12.000000\n",
      "mean   68.583333  51.000000    91.333333   32.416667           1.265833\n",
      "std     7.366488   6.060303    12.323911    8.240238           1.186396\n",
      "min    58.000000  42.000000    73.000000   21.000000           0.000000\n",
      "25%    63.250000  47.250000    82.500000   25.750000           0.155000\n",
      "50%    69.000000  51.500000    94.000000   32.000000           0.915000\n",
      "75%    75.500000  56.250000   102.250000   40.250000           2.395000\n",
      "max    77.000000  59.000000   107.000000   44.000000           3.020000\n"
     ]
    }
   ],
   "source": [
    "# Example no 5 statistical data\n",
    "header(\"5. df.describe()\")\n",
    "print(df.describe())"
   ]
  },
  {
   "cell_type": "code",
   "execution_count": 7,
   "metadata": {},
   "outputs": [
    {
     "name": "stdout",
     "output_type": "stream",
     "text": [
      "--------------------------------------------------\n",
      "[ 6. df.sort_values('record_high', ascending=False) ]\n",
      "   month  avg_high  avg_low  record_high  record_low  avg_precipitation\n",
      "11   Dec        58       42           73          21               2.56\n",
      "0    Jan        58       42           74          22               2.95\n",
      "1    Feb        61       45           78          26               3.02\n",
      "2    Mar        65       48           84          25               2.34\n",
      "10   Nov        64       48           84          30               1.70\n",
      "3    Apr        67       50           92          28               1.02\n",
      "9    Oct        73       54           96          34               0.81\n",
      "4    May        71       53           98          35               0.48\n",
      "7    Aug        77       59          102          43               0.03\n",
      "8    Sep        77       57          103          40               0.17\n",
      "6    Jul        77       58          105          44               0.00\n",
      "5    Jun        75       56          107          41               0.11\n"
     ]
    }
   ],
   "source": [
    "# example 6 SORT\n",
    "\n",
    "header(\"6. df.sort_values('record_high', ascending=False)\")\n",
    "print(df.sort_values('record_high', ascending='False'))"
   ]
  },
  {
   "cell_type": "code",
   "execution_count": 8,
   "metadata": {},
   "outputs": [
    {
     "name": "stdout",
     "output_type": "stream",
     "text": [
      "0     42\n",
      "1     45\n",
      "2     48\n",
      "3     50\n",
      "4     53\n",
      "5     56\n",
      "6     58\n",
      "7     59\n",
      "8     57\n",
      "9     54\n",
      "10    48\n",
      "11    42\n",
      "Name: avg_low, dtype: int64\n",
      "0     42\n",
      "1     45\n",
      "2     48\n",
      "3     50\n",
      "4     53\n",
      "5     56\n",
      "6     58\n",
      "7     59\n",
      "8     57\n",
      "9     54\n",
      "10    48\n",
      "11    42\n",
      "Name: avg_low, dtype: int64\n",
      "  month  avg_high  avg_low  record_high  record_low  avg_precipitation\n",
      "2   Mar        65       48           84          25               2.34\n",
      "3   Apr        67       50           92          28               1.02\n",
      "    avg_low  avg_high\n",
      "0        42        58\n",
      "1        45        61\n",
      "2        48        65\n",
      "3        50        67\n",
      "4        53        71\n",
      "5        56        75\n",
      "6        58        77\n",
      "7        59        77\n",
      "8        57        77\n",
      "9        54        73\n",
      "10       48        64\n",
      "11       42        58\n",
      "  month  record_high\n",
      "3   Apr           92\n",
      "4   May           98\n"
     ]
    }
   ],
   "source": [
    "# example 7 slicing records\n",
    "\n",
    "print(df.avg_low) # index with single column\n",
    "\n",
    "print(df['avg_low'])# same as above\n",
    "\n",
    "print(df[2:4]) #rows 2 and 3\n",
    "\n",
    "print(df[['avg_low', 'avg_high']])\n",
    "\n",
    "print(df.iloc[3:5, [0,3]])"
   ]
  },
  {
   "cell_type": "code",
   "execution_count": 9,
   "metadata": {},
   "outputs": [
    {
     "name": "stdout",
     "output_type": "stream",
     "text": [
      "--------------------------------------------------\n",
      "[ 8. df[df.avg_precipitation > 1.0] ]\n",
      "   month  avg_high  avg_low  record_high  record_low  avg_precipitation\n",
      "0    Jan        58       42           74          22               2.95\n",
      "1    Feb        61       45           78          26               3.02\n",
      "2    Mar        65       48           84          25               2.34\n",
      "3    Apr        67       50           92          28               1.02\n",
      "10   Nov        64       48           84          30               1.70\n",
      "11   Dec        58       42           73          21               2.56\n",
      "  month  avg_high  avg_low  record_high  record_low  avg_precipitation\n",
      "5   Jun        75       56          107          41               0.11\n",
      "6   Jul        77       58          105          44               0.00\n",
      "7   Aug        77       59          102          43               0.03\n"
     ]
    }
   ],
   "source": [
    "# 8. filtering\n",
    "\n",
    "header('8. df[df.avg_precipitation > 1.0]') # filter on column values\n",
    "print(df[df.avg_precipitation > 1.0])\n",
    "# filter on month values\n",
    "print(df[df['month'].isin(['Jun', 'Jul', 'Aug'])])"
   ]
  },
  {
   "cell_type": "code",
   "execution_count": 10,
   "metadata": {},
   "outputs": [
    {
     "name": "stdout",
     "output_type": "stream",
     "text": [
      "   month  avg_high  avg_low  record_high  record_low  avg_precipitation\n",
      "9    Oct        73       54           96          34              101.3\n",
      "10   Nov        64       48           84          30                1.7\n"
     ]
    }
   ],
   "source": [
    "#9 assignment (similar to slicing)\n",
    "\n",
    "df.loc[9, ['avg_precipitation']] = 101.3\n",
    "print(df.iloc[9:11])"
   ]
  },
  {
   "cell_type": "code",
   "execution_count": 11,
   "metadata": {},
   "outputs": [
    {
     "name": "stdout",
     "output_type": "stream",
     "text": [
      "   mon  av_hi  av_lo  rec_hi  rec_lo  av_rain\n",
      "0  Jan     58     42      74      22     2.95\n",
      "1  Feb     61     45      78      26     3.02\n",
      "2  Mar     65     48      84      25     2.34\n",
      "3  Apr     67     50      92      28     1.02\n",
      "4  May     71     53      98      35     0.48\n"
     ]
    }
   ],
   "source": [
    "# renaming columns \n",
    "df.columns=['mon', 'av_hi', 'av_lo', 'rec_hi', 'rec_lo', 'av_rain']\n",
    "print(df.head())\n"
   ]
  },
  {
   "cell_type": "code",
   "execution_count": 12,
   "metadata": {},
   "outputs": [],
   "source": [
    "# 11. Iterate a dataframe"
   ]
  },
  {
   "cell_type": "markdown",
   "metadata": {},
   "source": [
    "## 2. Write to and import from csv files"
   ]
  },
  {
   "cell_type": "code",
   "execution_count": 1,
   "metadata": {},
   "outputs": [
    {
     "ename": "NameError",
     "evalue": "name 'df' is not defined",
     "output_type": "error",
     "traceback": [
      "\u001b[1;31m---------------------------------------------------------------------------\u001b[0m",
      "\u001b[1;31mNameError\u001b[0m                                 Traceback (most recent call last)",
      "\u001b[1;32m~\\AppData\\Local\\Temp/ipykernel_30732/3259237123.py\u001b[0m in \u001b[0;36m<module>\u001b[1;34m\u001b[0m\n\u001b[0;32m      1\u001b[0m \u001b[1;31m# write the above df to a csv file\u001b[0m\u001b[1;33m\u001b[0m\u001b[1;33m\u001b[0m\u001b[1;33m\u001b[0m\u001b[0m\n\u001b[0;32m      2\u001b[0m \u001b[1;33m\u001b[0m\u001b[0m\n\u001b[1;32m----> 3\u001b[1;33m \u001b[0mdf\u001b[0m \u001b[1;33m=\u001b[0m\u001b[0mdf\u001b[0m\u001b[1;33m.\u001b[0m\u001b[0mto_csv\u001b[0m\u001b[1;33m(\u001b[0m\u001b[1;34m'foo.csv'\u001b[0m\u001b[1;33m)\u001b[0m\u001b[1;33m\u001b[0m\u001b[1;33m\u001b[0m\u001b[0m\n\u001b[0m",
      "\u001b[1;31mNameError\u001b[0m: name 'df' is not defined"
     ]
    }
   ],
   "source": [
    "# write the above df to a csv file\n",
    "\n",
    "df.to_csv('foo.csv')"
   ]
  },
  {
   "cell_type": "code",
   "execution_count": 3,
   "metadata": {},
   "outputs": [
    {
     "data": {
      "text/html": [
       "<div>\n",
       "<style scoped>\n",
       "    .dataframe tbody tr th:only-of-type {\n",
       "        vertical-align: middle;\n",
       "    }\n",
       "\n",
       "    .dataframe tbody tr th {\n",
       "        vertical-align: top;\n",
       "    }\n",
       "\n",
       "    .dataframe thead th {\n",
       "        text-align: right;\n",
       "    }\n",
       "</style>\n",
       "<table border=\"1\" class=\"dataframe\">\n",
       "  <thead>\n",
       "    <tr style=\"text-align: right;\">\n",
       "      <th></th>\n",
       "      <th>Unnamed: 0</th>\n",
       "      <th>month</th>\n",
       "      <th>avg_high</th>\n",
       "      <th>avg_low</th>\n",
       "      <th>record_high</th>\n",
       "      <th>record_low</th>\n",
       "      <th>avg_precipitation</th>\n",
       "    </tr>\n",
       "  </thead>\n",
       "  <tbody>\n",
       "    <tr>\n",
       "      <th>0</th>\n",
       "      <td>0</td>\n",
       "      <td>Jan</td>\n",
       "      <td>58</td>\n",
       "      <td>42</td>\n",
       "      <td>74</td>\n",
       "      <td>22</td>\n",
       "      <td>2.95</td>\n",
       "    </tr>\n",
       "    <tr>\n",
       "      <th>1</th>\n",
       "      <td>1</td>\n",
       "      <td>Feb</td>\n",
       "      <td>61</td>\n",
       "      <td>45</td>\n",
       "      <td>78</td>\n",
       "      <td>26</td>\n",
       "      <td>3.02</td>\n",
       "    </tr>\n",
       "    <tr>\n",
       "      <th>2</th>\n",
       "      <td>2</td>\n",
       "      <td>Mar</td>\n",
       "      <td>65</td>\n",
       "      <td>48</td>\n",
       "      <td>84</td>\n",
       "      <td>25</td>\n",
       "      <td>2.34</td>\n",
       "    </tr>\n",
       "    <tr>\n",
       "      <th>3</th>\n",
       "      <td>3</td>\n",
       "      <td>Apr</td>\n",
       "      <td>67</td>\n",
       "      <td>50</td>\n",
       "      <td>92</td>\n",
       "      <td>28</td>\n",
       "      <td>1.02</td>\n",
       "    </tr>\n",
       "    <tr>\n",
       "      <th>4</th>\n",
       "      <td>4</td>\n",
       "      <td>May</td>\n",
       "      <td>71</td>\n",
       "      <td>53</td>\n",
       "      <td>98</td>\n",
       "      <td>35</td>\n",
       "      <td>0.48</td>\n",
       "    </tr>\n",
       "  </tbody>\n",
       "</table>\n",
       "</div>"
      ],
      "text/plain": [
       "   Unnamed: 0 month  avg_high  avg_low  record_high  record_low  \\\n",
       "0           0   Jan        58       42           74          22   \n",
       "1           1   Feb        61       45           78          26   \n",
       "2           2   Mar        65       48           84          25   \n",
       "3           3   Apr        67       50           92          28   \n",
       "4           4   May        71       53           98          35   \n",
       "\n",
       "   avg_precipitation  \n",
       "0               2.95  \n",
       "1               3.02  \n",
       "2               2.34  \n",
       "3               1.02  \n",
       "4               0.48  "
      ]
     },
     "execution_count": 3,
     "metadata": {},
     "output_type": "execute_result"
    }
   ],
   "source": [
    "# import csv file and read it into pandas dataframe\n",
    "\n",
    "\n",
    "import pandas as pd\n",
    "\n",
    "foo_df=pd.read_csv('foo.csv')\n",
    "foo_df.head()"
   ]
  },
  {
   "cell_type": "markdown",
   "metadata": {},
   "source": [
    "## 3. Data cleansing\n",
    "\n",
    "\n",
    "\n",
    "DROP NA DROP 0\n"
   ]
  },
  {
   "cell_type": "code",
   "execution_count": null,
   "metadata": {},
   "outputs": [],
   "source": [
    "\n",
    "foo_df"
   ]
  },
  {
   "cell_type": "code",
   "execution_count": 15,
   "metadata": {},
   "outputs": [
    {
     "data": {
      "text/html": [
       "<div>\n",
       "<style scoped>\n",
       "    .dataframe tbody tr th:only-of-type {\n",
       "        vertical-align: middle;\n",
       "    }\n",
       "\n",
       "    .dataframe tbody tr th {\n",
       "        vertical-align: top;\n",
       "    }\n",
       "\n",
       "    .dataframe thead th {\n",
       "        text-align: right;\n",
       "    }\n",
       "</style>\n",
       "<table border=\"1\" class=\"dataframe\">\n",
       "  <thead>\n",
       "    <tr style=\"text-align: right;\">\n",
       "      <th></th>\n",
       "      <th>Data</th>\n",
       "    </tr>\n",
       "  </thead>\n",
       "  <tbody>\n",
       "    <tr>\n",
       "      <td>0</td>\n",
       "      <td>0.319138</td>\n",
       "    </tr>\n",
       "    <tr>\n",
       "      <td>1</td>\n",
       "      <td>0.264166</td>\n",
       "    </tr>\n",
       "    <tr>\n",
       "      <td>2</td>\n",
       "      <td>-0.198500</td>\n",
       "    </tr>\n",
       "    <tr>\n",
       "      <td>3</td>\n",
       "      <td>1.479193</td>\n",
       "    </tr>\n",
       "    <tr>\n",
       "      <td>4</td>\n",
       "      <td>-0.497935</td>\n",
       "    </tr>\n",
       "    <tr>\n",
       "      <td>...</td>\n",
       "      <td>...</td>\n",
       "    </tr>\n",
       "    <tr>\n",
       "      <td>195</td>\n",
       "      <td>0.170118</td>\n",
       "    </tr>\n",
       "    <tr>\n",
       "      <td>196</td>\n",
       "      <td>-0.578287</td>\n",
       "    </tr>\n",
       "    <tr>\n",
       "      <td>197</td>\n",
       "      <td>1.023693</td>\n",
       "    </tr>\n",
       "    <tr>\n",
       "      <td>198</td>\n",
       "      <td>0.912940</td>\n",
       "    </tr>\n",
       "    <tr>\n",
       "      <td>199</td>\n",
       "      <td>-0.122387</td>\n",
       "    </tr>\n",
       "  </tbody>\n",
       "</table>\n",
       "<p>200 rows × 1 columns</p>\n",
       "</div>"
      ],
      "text/plain": [
       "         Data\n",
       "0    0.319138\n",
       "1    0.264166\n",
       "2   -0.198500\n",
       "3    1.479193\n",
       "4   -0.497935\n",
       "..        ...\n",
       "195  0.170118\n",
       "196 -0.578287\n",
       "197  1.023693\n",
       "198  0.912940\n",
       "199 -0.122387\n",
       "\n",
       "[200 rows x 1 columns]"
      ]
     },
     "execution_count": 15,
     "metadata": {},
     "output_type": "execute_result"
    }
   ],
   "source": [
    "import pandas as pd\n",
    "import numpy as np\n",
    "df = pd.DataFrame({'Data':np.random.normal(size=200)})\n",
    "# example dataset of normally distributed data. \n",
    "\n",
    "df[np.abs(df.Data-df.Data.mean()) <= (3*df.Data.std())]\n",
    "# keep only the ones that are within +3 to -3 standard deviations in the column 'Data'.\n",
    "df"
   ]
  },
  {
   "cell_type": "code",
   "execution_count": 16,
   "metadata": {},
   "outputs": [
    {
     "data": {
      "text/html": [
       "<div>\n",
       "<style scoped>\n",
       "    .dataframe tbody tr th:only-of-type {\n",
       "        vertical-align: middle;\n",
       "    }\n",
       "\n",
       "    .dataframe tbody tr th {\n",
       "        vertical-align: top;\n",
       "    }\n",
       "\n",
       "    .dataframe thead th {\n",
       "        text-align: right;\n",
       "    }\n",
       "</style>\n",
       "<table border=\"1\" class=\"dataframe\">\n",
       "  <thead>\n",
       "    <tr style=\"text-align: right;\">\n",
       "      <th></th>\n",
       "      <th>Data</th>\n",
       "    </tr>\n",
       "  </thead>\n",
       "  <tbody>\n",
       "    <tr>\n",
       "      <td>0</td>\n",
       "      <td>0.319138</td>\n",
       "    </tr>\n",
       "    <tr>\n",
       "      <td>1</td>\n",
       "      <td>0.264166</td>\n",
       "    </tr>\n",
       "    <tr>\n",
       "      <td>2</td>\n",
       "      <td>-0.198500</td>\n",
       "    </tr>\n",
       "    <tr>\n",
       "      <td>3</td>\n",
       "      <td>1.479193</td>\n",
       "    </tr>\n",
       "    <tr>\n",
       "      <td>4</td>\n",
       "      <td>-0.497935</td>\n",
       "    </tr>\n",
       "  </tbody>\n",
       "</table>\n",
       "</div>"
      ],
      "text/plain": [
       "       Data\n",
       "0  0.319138\n",
       "1  0.264166\n",
       "2 -0.198500\n",
       "3  1.479193\n",
       "4 -0.497935"
      ]
     },
     "execution_count": 16,
     "metadata": {},
     "output_type": "execute_result"
    }
   ],
   "source": [
    "#replace\n",
    "new_df=df.replace(2.196349, np.NaN)\n",
    "new_df.head()"
   ]
  },
  {
   "cell_type": "code",
   "execution_count": 1,
   "metadata": {},
   "outputs": [
    {
     "ename": "NameError",
     "evalue": "name 'df' is not defined",
     "output_type": "error",
     "traceback": [
      "\u001b[1;31m---------------------------------------------------------------------------\u001b[0m",
      "\u001b[1;31mNameError\u001b[0m                                 Traceback (most recent call last)",
      "\u001b[1;32m<ipython-input-1-00cf07b74dcd>\u001b[0m in \u001b[0;36m<module>\u001b[1;34m\u001b[0m\n\u001b[1;32m----> 1\u001b[1;33m \u001b[0mdf\u001b[0m\u001b[1;33m\u001b[0m\u001b[1;33m\u001b[0m\u001b[0m\n\u001b[0m",
      "\u001b[1;31mNameError\u001b[0m: name 'df' is not defined"
     ]
    }
   ],
   "source": [
    "df"
   ]
  },
  {
   "cell_type": "markdown",
   "metadata": {},
   "source": [
    "## 4. Pandas append data\n",
    "\n",
    "source: https://pandas.pydata.org/pandas-docs/stable/reference/api/pandas.DataFrame.append.html"
   ]
  },
  {
   "cell_type": "code",
   "execution_count": 35,
   "metadata": {},
   "outputs": [
    {
     "data": {
      "text/html": [
       "<div>\n",
       "<style scoped>\n",
       "    .dataframe tbody tr th:only-of-type {\n",
       "        vertical-align: middle;\n",
       "    }\n",
       "\n",
       "    .dataframe tbody tr th {\n",
       "        vertical-align: top;\n",
       "    }\n",
       "\n",
       "    .dataframe thead th {\n",
       "        text-align: right;\n",
       "    }\n",
       "</style>\n",
       "<table border=\"1\" class=\"dataframe\">\n",
       "  <thead>\n",
       "    <tr style=\"text-align: right;\">\n",
       "      <th></th>\n",
       "      <th>A</th>\n",
       "      <th>B</th>\n",
       "    </tr>\n",
       "  </thead>\n",
       "  <tbody>\n",
       "    <tr>\n",
       "      <th>0</th>\n",
       "      <td>1</td>\n",
       "      <td>2</td>\n",
       "    </tr>\n",
       "    <tr>\n",
       "      <th>1</th>\n",
       "      <td>3</td>\n",
       "      <td>4</td>\n",
       "    </tr>\n",
       "  </tbody>\n",
       "</table>\n",
       "</div>"
      ],
      "text/plain": [
       "   A  B\n",
       "0  1  2\n",
       "1  3  4"
      ]
     },
     "execution_count": 35,
     "metadata": {},
     "output_type": "execute_result"
    }
   ],
   "source": [
    "import pandas as pd\n",
    "df = pd.DataFrame([[1, 2], [3, 4]], columns=list('AB'))\n",
    "df"
   ]
  },
  {
   "cell_type": "code",
   "execution_count": 43,
   "metadata": {},
   "outputs": [
    {
     "data": {
      "text/html": [
       "<div>\n",
       "<style scoped>\n",
       "    .dataframe tbody tr th:only-of-type {\n",
       "        vertical-align: middle;\n",
       "    }\n",
       "\n",
       "    .dataframe tbody tr th {\n",
       "        vertical-align: top;\n",
       "    }\n",
       "\n",
       "    .dataframe thead th {\n",
       "        text-align: right;\n",
       "    }\n",
       "</style>\n",
       "<table border=\"1\" class=\"dataframe\">\n",
       "  <thead>\n",
       "    <tr style=\"text-align: right;\">\n",
       "      <th></th>\n",
       "      <th>A</th>\n",
       "      <th>B</th>\n",
       "    </tr>\n",
       "  </thead>\n",
       "  <tbody>\n",
       "    <tr>\n",
       "      <th>0</th>\n",
       "      <td>5</td>\n",
       "      <td>6</td>\n",
       "    </tr>\n",
       "    <tr>\n",
       "      <th>1</th>\n",
       "      <td>7</td>\n",
       "      <td>8</td>\n",
       "    </tr>\n",
       "  </tbody>\n",
       "</table>\n",
       "</div>"
      ],
      "text/plain": [
       "   A  B\n",
       "0  5  6\n",
       "1  7  8"
      ]
     },
     "execution_count": 43,
     "metadata": {},
     "output_type": "execute_result"
    }
   ],
   "source": [
    "df2 = pd.DataFrame([[5, 6], [7, 8]], columns=list('AB'))\n",
    "df2"
   ]
  },
  {
   "cell_type": "code",
   "execution_count": null,
   "metadata": {},
   "outputs": [],
   "source": []
  },
  {
   "cell_type": "code",
   "execution_count": 47,
   "metadata": {},
   "outputs": [
    {
     "data": {
      "text/html": [
       "<div>\n",
       "<style scoped>\n",
       "    .dataframe tbody tr th:only-of-type {\n",
       "        vertical-align: middle;\n",
       "    }\n",
       "\n",
       "    .dataframe tbody tr th {\n",
       "        vertical-align: top;\n",
       "    }\n",
       "\n",
       "    .dataframe thead th {\n",
       "        text-align: right;\n",
       "    }\n",
       "</style>\n",
       "<table border=\"1\" class=\"dataframe\">\n",
       "  <thead>\n",
       "    <tr style=\"text-align: right;\">\n",
       "      <th></th>\n",
       "      <th>A</th>\n",
       "      <th>B</th>\n",
       "      <th>C</th>\n",
       "    </tr>\n",
       "  </thead>\n",
       "  <tbody>\n",
       "    <tr>\n",
       "      <th>0</th>\n",
       "      <td>1</td>\n",
       "      <td>2</td>\n",
       "      <td></td>\n",
       "    </tr>\n",
       "    <tr>\n",
       "      <th>1</th>\n",
       "      <td>3</td>\n",
       "      <td>4</td>\n",
       "      <td></td>\n",
       "    </tr>\n",
       "  </tbody>\n",
       "</table>\n",
       "</div>"
      ],
      "text/plain": [
       "   A  B C\n",
       "0  1  2  \n",
       "1  3  4  "
      ]
     },
     "execution_count": 47,
     "metadata": {},
     "output_type": "execute_result"
    }
   ],
   "source": [
    "# add an empyt new column with values 1,2 source: https://www.geeksforgeeks.org/adding-new-column-to-existing-dataframe-in-pandas/\n",
    "column_c = \"\" # or add a list\n",
    "df['C'] = column_c\n",
    "df"
   ]
  },
  {
   "cell_type": "code",
   "execution_count": 3,
   "metadata": {},
   "outputs": [
    {
     "data": {
      "text/html": [
       "<div>\n",
       "<style scoped>\n",
       "    .dataframe tbody tr th:only-of-type {\n",
       "        vertical-align: middle;\n",
       "    }\n",
       "\n",
       "    .dataframe tbody tr th {\n",
       "        vertical-align: top;\n",
       "    }\n",
       "\n",
       "    .dataframe thead th {\n",
       "        text-align: right;\n",
       "    }\n",
       "</style>\n",
       "<table border=\"1\" class=\"dataframe\">\n",
       "  <thead>\n",
       "    <tr style=\"text-align: right;\">\n",
       "      <th></th>\n",
       "      <th>Name</th>\n",
       "      <th>Age</th>\n",
       "      <th>City</th>\n",
       "      <th>Country</th>\n",
       "    </tr>\n",
       "  </thead>\n",
       "  <tbody>\n",
       "  </tbody>\n",
       "</table>\n",
       "</div>"
      ],
      "text/plain": [
       "Empty DataFrame\n",
       "Columns: [Name, Age, City, Country]\n",
       "Index: []"
      ]
     },
     "execution_count": 3,
     "metadata": {},
     "output_type": "execute_result"
    }
   ],
   "source": [
    "# create an empty dataframe\n",
    "empty_df = pd.DataFrame(columns = ['Name' , 'Age', 'City' , 'Country'])\n",
    "empty_df"
   ]
  },
  {
   "cell_type": "markdown",
   "metadata": {},
   "source": [
    "## 5. Selecting values"
   ]
  },
  {
   "cell_type": "code",
   "execution_count": 48,
   "metadata": {},
   "outputs": [
    {
     "data": {
      "text/html": [
       "<div>\n",
       "<style scoped>\n",
       "    .dataframe tbody tr th:only-of-type {\n",
       "        vertical-align: middle;\n",
       "    }\n",
       "\n",
       "    .dataframe tbody tr th {\n",
       "        vertical-align: top;\n",
       "    }\n",
       "\n",
       "    .dataframe thead th {\n",
       "        text-align: right;\n",
       "    }\n",
       "</style>\n",
       "<table border=\"1\" class=\"dataframe\">\n",
       "  <thead>\n",
       "    <tr style=\"text-align: right;\">\n",
       "      <th></th>\n",
       "      <th>a</th>\n",
       "      <th>b</th>\n",
       "      <th>c</th>\n",
       "    </tr>\n",
       "  </thead>\n",
       "  <tbody>\n",
       "    <tr>\n",
       "      <th>0</th>\n",
       "      <td>8</td>\n",
       "      <td>6</td>\n",
       "      <td>10</td>\n",
       "    </tr>\n",
       "    <tr>\n",
       "      <th>1</th>\n",
       "      <td>9</td>\n",
       "      <td>7</td>\n",
       "      <td>9</td>\n",
       "    </tr>\n",
       "    <tr>\n",
       "      <th>2</th>\n",
       "      <td>7</td>\n",
       "      <td>6</td>\n",
       "      <td>8</td>\n",
       "    </tr>\n",
       "    <tr>\n",
       "      <th>3</th>\n",
       "      <td>8</td>\n",
       "      <td>6</td>\n",
       "      <td>9</td>\n",
       "    </tr>\n",
       "    <tr>\n",
       "      <th>4</th>\n",
       "      <td>12</td>\n",
       "      <td>5</td>\n",
       "      <td>5</td>\n",
       "    </tr>\n",
       "    <tr>\n",
       "      <th>5</th>\n",
       "      <td>13</td>\n",
       "      <td>12</td>\n",
       "      <td>14</td>\n",
       "    </tr>\n",
       "    <tr>\n",
       "      <th>6</th>\n",
       "      <td>5</td>\n",
       "      <td>11</td>\n",
       "      <td>7</td>\n",
       "    </tr>\n",
       "    <tr>\n",
       "      <th>7</th>\n",
       "      <td>13</td>\n",
       "      <td>8</td>\n",
       "      <td>14</td>\n",
       "    </tr>\n",
       "    <tr>\n",
       "      <th>8</th>\n",
       "      <td>5</td>\n",
       "      <td>14</td>\n",
       "      <td>11</td>\n",
       "    </tr>\n",
       "    <tr>\n",
       "      <th>9</th>\n",
       "      <td>11</td>\n",
       "      <td>11</td>\n",
       "      <td>13</td>\n",
       "    </tr>\n",
       "  </tbody>\n",
       "</table>\n",
       "</div>"
      ],
      "text/plain": [
       "    a   b   c\n",
       "0   8   6  10\n",
       "1   9   7   9\n",
       "2   7   6   8\n",
       "3   8   6   9\n",
       "4  12   5   5\n",
       "5  13  12  14\n",
       "6   5  11   7\n",
       "7  13   8  14\n",
       "8   5  14  11\n",
       "9  11  11  13"
      ]
     },
     "execution_count": 48,
     "metadata": {},
     "output_type": "execute_result"
    }
   ],
   "source": [
    "import numpy as np\n",
    "import pandas as pd\n",
    "df = pd.DataFrame(np.random.randint(5, 15, (10, 3)), columns=list('abc'))\n",
    "df"
   ]
  },
  {
   "cell_type": "code",
   "execution_count": 16,
   "metadata": {},
   "outputs": [
    {
     "data": {
      "text/html": [
       "<div>\n",
       "<style scoped>\n",
       "    .dataframe tbody tr th:only-of-type {\n",
       "        vertical-align: middle;\n",
       "    }\n",
       "\n",
       "    .dataframe tbody tr th {\n",
       "        vertical-align: top;\n",
       "    }\n",
       "\n",
       "    .dataframe thead th {\n",
       "        text-align: right;\n",
       "    }\n",
       "</style>\n",
       "<table border=\"1\" class=\"dataframe\">\n",
       "  <thead>\n",
       "    <tr style=\"text-align: right;\">\n",
       "      <th></th>\n",
       "      <th>a</th>\n",
       "      <th>b</th>\n",
       "      <th>c</th>\n",
       "    </tr>\n",
       "  </thead>\n",
       "  <tbody>\n",
       "    <tr>\n",
       "      <th>0</th>\n",
       "      <td>5</td>\n",
       "      <td>11</td>\n",
       "      <td>7</td>\n",
       "    </tr>\n",
       "    <tr>\n",
       "      <th>3</th>\n",
       "      <td>10</td>\n",
       "      <td>10</td>\n",
       "      <td>10</td>\n",
       "    </tr>\n",
       "    <tr>\n",
       "      <th>9</th>\n",
       "      <td>14</td>\n",
       "      <td>14</td>\n",
       "      <td>13</td>\n",
       "    </tr>\n",
       "  </tbody>\n",
       "</table>\n",
       "</div>"
      ],
      "text/plain": [
       "    a   b   c\n",
       "0   5  11   7\n",
       "3  10  10  10\n",
       "9  14  14  13"
      ]
     },
     "execution_count": 16,
     "metadata": {},
     "output_type": "execute_result"
    }
   ],
   "source": [
    "# select values > 10\n",
    "df_larger_10 = df[df.b >= 10]\n",
    "df_larger_10"
   ]
  },
  {
   "cell_type": "markdown",
   "metadata": {},
   "source": [
    "#create a new column to the original df and \n",
    "df['new']= df[df.b >10]\n",
    "df"
   ]
  },
  {
   "cell_type": "code",
   "execution_count": 54,
   "metadata": {},
   "outputs": [
    {
     "data": {
      "text/html": [
       "<div>\n",
       "<style scoped>\n",
       "    .dataframe tbody tr th:only-of-type {\n",
       "        vertical-align: middle;\n",
       "    }\n",
       "\n",
       "    .dataframe tbody tr th {\n",
       "        vertical-align: top;\n",
       "    }\n",
       "\n",
       "    .dataframe thead th {\n",
       "        text-align: right;\n",
       "    }\n",
       "</style>\n",
       "<table border=\"1\" class=\"dataframe\">\n",
       "  <thead>\n",
       "    <tr style=\"text-align: right;\">\n",
       "      <th></th>\n",
       "      <th>a</th>\n",
       "      <th>b</th>\n",
       "      <th>c</th>\n",
       "      <th>new</th>\n",
       "      <th>average</th>\n",
       "    </tr>\n",
       "  </thead>\n",
       "  <tbody>\n",
       "    <tr>\n",
       "      <th>0</th>\n",
       "      <td>8</td>\n",
       "      <td>6</td>\n",
       "      <td>10</td>\n",
       "      <td>NaN</td>\n",
       "      <td>8.000000</td>\n",
       "    </tr>\n",
       "    <tr>\n",
       "      <th>1</th>\n",
       "      <td>9</td>\n",
       "      <td>7</td>\n",
       "      <td>9</td>\n",
       "      <td>NaN</td>\n",
       "      <td>8.333333</td>\n",
       "    </tr>\n",
       "    <tr>\n",
       "      <th>2</th>\n",
       "      <td>7</td>\n",
       "      <td>6</td>\n",
       "      <td>8</td>\n",
       "      <td>NaN</td>\n",
       "      <td>7.000000</td>\n",
       "    </tr>\n",
       "    <tr>\n",
       "      <th>3</th>\n",
       "      <td>8</td>\n",
       "      <td>6</td>\n",
       "      <td>9</td>\n",
       "      <td>NaN</td>\n",
       "      <td>7.666667</td>\n",
       "    </tr>\n",
       "    <tr>\n",
       "      <th>4</th>\n",
       "      <td>12</td>\n",
       "      <td>5</td>\n",
       "      <td>5</td>\n",
       "      <td>NaN</td>\n",
       "      <td>7.333333</td>\n",
       "    </tr>\n",
       "    <tr>\n",
       "      <th>5</th>\n",
       "      <td>13</td>\n",
       "      <td>12</td>\n",
       "      <td>14</td>\n",
       "      <td>13</td>\n",
       "      <td>13.000000</td>\n",
       "    </tr>\n",
       "    <tr>\n",
       "      <th>6</th>\n",
       "      <td>5</td>\n",
       "      <td>11</td>\n",
       "      <td>7</td>\n",
       "      <td>5</td>\n",
       "      <td>7.666667</td>\n",
       "    </tr>\n",
       "    <tr>\n",
       "      <th>7</th>\n",
       "      <td>13</td>\n",
       "      <td>8</td>\n",
       "      <td>14</td>\n",
       "      <td>NaN</td>\n",
       "      <td>11.666667</td>\n",
       "    </tr>\n",
       "    <tr>\n",
       "      <th>8</th>\n",
       "      <td>5</td>\n",
       "      <td>14</td>\n",
       "      <td>11</td>\n",
       "      <td>5</td>\n",
       "      <td>10.000000</td>\n",
       "    </tr>\n",
       "    <tr>\n",
       "      <th>9</th>\n",
       "      <td>11</td>\n",
       "      <td>11</td>\n",
       "      <td>13</td>\n",
       "      <td>11</td>\n",
       "      <td>11.666667</td>\n",
       "    </tr>\n",
       "  </tbody>\n",
       "</table>\n",
       "</div>"
      ],
      "text/plain": [
       "    a   b   c  new    average\n",
       "0   8   6  10  NaN   8.000000\n",
       "1   9   7   9  NaN   8.333333\n",
       "2   7   6   8  NaN   7.000000\n",
       "3   8   6   9  NaN   7.666667\n",
       "4  12   5   5  NaN   7.333333\n",
       "5  13  12  14   13  13.000000\n",
       "6   5  11   7    5   7.666667\n",
       "7  13   8  14  NaN  11.666667\n",
       "8   5  14  11    5  10.000000\n",
       "9  11  11  13   11  11.666667"
      ]
     },
     "execution_count": 54,
     "metadata": {},
     "output_type": "execute_result"
    }
   ],
   "source": [
    "#adding a new column 'average' with the mean value of a, b,c\n",
    "df['average'] = df.mean(numeric_only=True, axis=1)\n",
    "df"
   ]
  },
  {
   "cell_type": "markdown",
   "metadata": {},
   "source": [
    "## 6. Binning with pandas.cut() "
   ]
  },
  {
   "cell_type": "code",
   "execution_count": 3,
   "metadata": {},
   "outputs": [
    {
     "data": {
      "text/plain": [
       "[(0.994, 3.0], (5.0, 7.0], (3.0, 5.0], (3.0, 5.0], (5.0, 7.0], (0.994, 3.0]]\n",
       "Categories (3, interval[float64, right]): [(0.994, 3.0] < (3.0, 5.0] < (5.0, 7.0]]"
      ]
     },
     "execution_count": 3,
     "metadata": {},
     "output_type": "execute_result"
    }
   ],
   "source": [
    "import pandas as pd\n",
    "import numpy as np\n",
    "#source:https://pandas.pydata.org/pandas-docs/stable/reference/api/pandas.cut.html\n",
    "df=pd.cut(np.array([1, 7, 5, 4, 6, 3]), 3)\n",
    "df"
   ]
  },
  {
   "cell_type": "code",
   "execution_count": 4,
   "metadata": {},
   "outputs": [
    {
     "data": {
      "text/plain": [
       "['bad', 'good', 'medium', 'medium', 'good', 'bad']\n",
       "Categories (3, object): ['bad' < 'medium' < 'good']"
      ]
     },
     "execution_count": 4,
     "metadata": {},
     "output_type": "execute_result"
    }
   ],
   "source": [
    "df=pd.cut(np.array([1, 7, 5, 4, 6, 3]),\n",
    "       3, labels=[\"bad\", \"medium\", \"good\"])\n",
    "df"
   ]
  },
  {
   "cell_type": "code",
   "execution_count": 5,
   "metadata": {},
   "outputs": [
    {
     "name": "stdout",
     "output_type": "stream",
     "text": [
      "   number     size\n",
      "0      64    large\n",
      "1      63    large\n",
      "2      40    small\n",
      "3      67    large\n",
      "4      37    small\n",
      "5      11  x-small\n",
      "6      88  x-large\n",
      "7      45   medium\n",
      "8      57   medium\n",
      "9      59   medium\n"
     ]
    }
   ],
   "source": [
    "#source: https://www.geeksforgeeks.org/pandas-cut-method-in-python/\n",
    "import pandas as pd \n",
    "import numpy as np \n",
    "  \n",
    "df = pd.DataFrame({'number': np.random.randint(1, 100, 10)}) # create a df with column 'number'\n",
    "df['size'] = pd.cut(df['number'], bins=[1, 20, 40, 60, 80, 100],\n",
    "                    labels=['x-small', 'small', 'medium', 'large', 'x-large']) # add a second column 'size' and create 5 bins with labels\n",
    "print(df) "
   ]
  },
  {
   "cell_type": "markdown",
   "metadata": {},
   "source": [
    "## 7. Rolling and other moving averages\n",
    "\n",
    "More info: https://towardsdatascience.com/moving-averages-in-python-16170e20f6c"
   ]
  },
  {
   "cell_type": "code",
   "execution_count": 2,
   "metadata": {},
   "outputs": [
    {
     "data": {
      "text/html": [
       "<div>\n",
       "<style scoped>\n",
       "    .dataframe tbody tr th:only-of-type {\n",
       "        vertical-align: middle;\n",
       "    }\n",
       "\n",
       "    .dataframe tbody tr th {\n",
       "        vertical-align: top;\n",
       "    }\n",
       "\n",
       "    .dataframe thead th {\n",
       "        text-align: right;\n",
       "    }\n",
       "</style>\n",
       "<table border=\"1\" class=\"dataframe\">\n",
       "  <thead>\n",
       "    <tr style=\"text-align: right;\">\n",
       "      <th></th>\n",
       "      <th>Unnamed: 0</th>\n",
       "      <th>month</th>\n",
       "      <th>avg_high</th>\n",
       "      <th>avg_low</th>\n",
       "      <th>record_high</th>\n",
       "      <th>record_low</th>\n",
       "      <th>avg_precipitation</th>\n",
       "    </tr>\n",
       "  </thead>\n",
       "  <tbody>\n",
       "    <tr>\n",
       "      <th>0</th>\n",
       "      <td>0</td>\n",
       "      <td>Jan</td>\n",
       "      <td>58</td>\n",
       "      <td>42</td>\n",
       "      <td>74</td>\n",
       "      <td>22</td>\n",
       "      <td>2.95</td>\n",
       "    </tr>\n",
       "    <tr>\n",
       "      <th>1</th>\n",
       "      <td>1</td>\n",
       "      <td>Feb</td>\n",
       "      <td>61</td>\n",
       "      <td>45</td>\n",
       "      <td>78</td>\n",
       "      <td>26</td>\n",
       "      <td>3.02</td>\n",
       "    </tr>\n",
       "    <tr>\n",
       "      <th>2</th>\n",
       "      <td>2</td>\n",
       "      <td>Mar</td>\n",
       "      <td>65</td>\n",
       "      <td>48</td>\n",
       "      <td>84</td>\n",
       "      <td>25</td>\n",
       "      <td>2.34</td>\n",
       "    </tr>\n",
       "    <tr>\n",
       "      <th>3</th>\n",
       "      <td>3</td>\n",
       "      <td>Apr</td>\n",
       "      <td>67</td>\n",
       "      <td>50</td>\n",
       "      <td>92</td>\n",
       "      <td>28</td>\n",
       "      <td>1.02</td>\n",
       "    </tr>\n",
       "    <tr>\n",
       "      <th>4</th>\n",
       "      <td>4</td>\n",
       "      <td>May</td>\n",
       "      <td>71</td>\n",
       "      <td>53</td>\n",
       "      <td>98</td>\n",
       "      <td>35</td>\n",
       "      <td>0.48</td>\n",
       "    </tr>\n",
       "    <tr>\n",
       "      <th>5</th>\n",
       "      <td>5</td>\n",
       "      <td>Jun</td>\n",
       "      <td>75</td>\n",
       "      <td>56</td>\n",
       "      <td>107</td>\n",
       "      <td>41</td>\n",
       "      <td>0.11</td>\n",
       "    </tr>\n",
       "    <tr>\n",
       "      <th>6</th>\n",
       "      <td>6</td>\n",
       "      <td>Jul</td>\n",
       "      <td>77</td>\n",
       "      <td>58</td>\n",
       "      <td>105</td>\n",
       "      <td>44</td>\n",
       "      <td>0.00</td>\n",
       "    </tr>\n",
       "    <tr>\n",
       "      <th>7</th>\n",
       "      <td>7</td>\n",
       "      <td>Aug</td>\n",
       "      <td>77</td>\n",
       "      <td>59</td>\n",
       "      <td>102</td>\n",
       "      <td>43</td>\n",
       "      <td>0.03</td>\n",
       "    </tr>\n",
       "    <tr>\n",
       "      <th>8</th>\n",
       "      <td>8</td>\n",
       "      <td>Sep</td>\n",
       "      <td>77</td>\n",
       "      <td>57</td>\n",
       "      <td>103</td>\n",
       "      <td>40</td>\n",
       "      <td>0.17</td>\n",
       "    </tr>\n",
       "    <tr>\n",
       "      <th>9</th>\n",
       "      <td>9</td>\n",
       "      <td>Oct</td>\n",
       "      <td>73</td>\n",
       "      <td>54</td>\n",
       "      <td>96</td>\n",
       "      <td>34</td>\n",
       "      <td>0.81</td>\n",
       "    </tr>\n",
       "    <tr>\n",
       "      <th>10</th>\n",
       "      <td>10</td>\n",
       "      <td>Nov</td>\n",
       "      <td>64</td>\n",
       "      <td>48</td>\n",
       "      <td>84</td>\n",
       "      <td>30</td>\n",
       "      <td>1.70</td>\n",
       "    </tr>\n",
       "    <tr>\n",
       "      <th>11</th>\n",
       "      <td>11</td>\n",
       "      <td>Dec</td>\n",
       "      <td>58</td>\n",
       "      <td>42</td>\n",
       "      <td>73</td>\n",
       "      <td>21</td>\n",
       "      <td>2.56</td>\n",
       "    </tr>\n",
       "  </tbody>\n",
       "</table>\n",
       "</div>"
      ],
      "text/plain": [
       "    Unnamed: 0 month  avg_high  avg_low  record_high  record_low  \\\n",
       "0            0   Jan        58       42           74          22   \n",
       "1            1   Feb        61       45           78          26   \n",
       "2            2   Mar        65       48           84          25   \n",
       "3            3   Apr        67       50           92          28   \n",
       "4            4   May        71       53           98          35   \n",
       "5            5   Jun        75       56          107          41   \n",
       "6            6   Jul        77       58          105          44   \n",
       "7            7   Aug        77       59          102          43   \n",
       "8            8   Sep        77       57          103          40   \n",
       "9            9   Oct        73       54           96          34   \n",
       "10          10   Nov        64       48           84          30   \n",
       "11          11   Dec        58       42           73          21   \n",
       "\n",
       "    avg_precipitation  \n",
       "0                2.95  \n",
       "1                3.02  \n",
       "2                2.34  \n",
       "3                1.02  \n",
       "4                0.48  \n",
       "5                0.11  \n",
       "6                0.00  \n",
       "7                0.03  \n",
       "8                0.17  \n",
       "9                0.81  \n",
       "10               1.70  \n",
       "11               2.56  "
      ]
     },
     "execution_count": 2,
     "metadata": {},
     "output_type": "execute_result"
    }
   ],
   "source": [
    "import pandas as pd\n",
    "\n",
    "foo_df=pd.read_csv('foo.csv')\n",
    "foo_df"
   ]
  },
  {
   "cell_type": "code",
   "execution_count": 3,
   "metadata": {},
   "outputs": [
    {
     "data": {
      "text/html": [
       "<div>\n",
       "<style scoped>\n",
       "    .dataframe tbody tr th:only-of-type {\n",
       "        vertical-align: middle;\n",
       "    }\n",
       "\n",
       "    .dataframe tbody tr th {\n",
       "        vertical-align: top;\n",
       "    }\n",
       "\n",
       "    .dataframe thead th {\n",
       "        text-align: right;\n",
       "    }\n",
       "</style>\n",
       "<table border=\"1\" class=\"dataframe\">\n",
       "  <thead>\n",
       "    <tr style=\"text-align: right;\">\n",
       "      <th></th>\n",
       "      <th>Unnamed: 0</th>\n",
       "      <th>month</th>\n",
       "      <th>avg_high</th>\n",
       "      <th>avg_low</th>\n",
       "      <th>record_high</th>\n",
       "      <th>record_low</th>\n",
       "      <th>avg_precipitation</th>\n",
       "      <th>new</th>\n",
       "    </tr>\n",
       "  </thead>\n",
       "  <tbody>\n",
       "    <tr>\n",
       "      <th>0</th>\n",
       "      <td>0</td>\n",
       "      <td>Jan</td>\n",
       "      <td>58</td>\n",
       "      <td>42</td>\n",
       "      <td>74</td>\n",
       "      <td>22</td>\n",
       "      <td>2.95</td>\n",
       "      <td>NaN</td>\n",
       "    </tr>\n",
       "    <tr>\n",
       "      <th>1</th>\n",
       "      <td>1</td>\n",
       "      <td>Feb</td>\n",
       "      <td>61</td>\n",
       "      <td>45</td>\n",
       "      <td>78</td>\n",
       "      <td>26</td>\n",
       "      <td>3.02</td>\n",
       "      <td>NaN</td>\n",
       "    </tr>\n",
       "    <tr>\n",
       "      <th>2</th>\n",
       "      <td>2</td>\n",
       "      <td>Mar</td>\n",
       "      <td>65</td>\n",
       "      <td>48</td>\n",
       "      <td>84</td>\n",
       "      <td>25</td>\n",
       "      <td>2.34</td>\n",
       "      <td>2.770000</td>\n",
       "    </tr>\n",
       "    <tr>\n",
       "      <th>3</th>\n",
       "      <td>3</td>\n",
       "      <td>Apr</td>\n",
       "      <td>67</td>\n",
       "      <td>50</td>\n",
       "      <td>92</td>\n",
       "      <td>28</td>\n",
       "      <td>1.02</td>\n",
       "      <td>2.126667</td>\n",
       "    </tr>\n",
       "    <tr>\n",
       "      <th>4</th>\n",
       "      <td>4</td>\n",
       "      <td>May</td>\n",
       "      <td>71</td>\n",
       "      <td>53</td>\n",
       "      <td>98</td>\n",
       "      <td>35</td>\n",
       "      <td>0.48</td>\n",
       "      <td>1.280000</td>\n",
       "    </tr>\n",
       "    <tr>\n",
       "      <th>5</th>\n",
       "      <td>5</td>\n",
       "      <td>Jun</td>\n",
       "      <td>75</td>\n",
       "      <td>56</td>\n",
       "      <td>107</td>\n",
       "      <td>41</td>\n",
       "      <td>0.11</td>\n",
       "      <td>0.536667</td>\n",
       "    </tr>\n",
       "    <tr>\n",
       "      <th>6</th>\n",
       "      <td>6</td>\n",
       "      <td>Jul</td>\n",
       "      <td>77</td>\n",
       "      <td>58</td>\n",
       "      <td>105</td>\n",
       "      <td>44</td>\n",
       "      <td>0.00</td>\n",
       "      <td>0.196667</td>\n",
       "    </tr>\n",
       "    <tr>\n",
       "      <th>7</th>\n",
       "      <td>7</td>\n",
       "      <td>Aug</td>\n",
       "      <td>77</td>\n",
       "      <td>59</td>\n",
       "      <td>102</td>\n",
       "      <td>43</td>\n",
       "      <td>0.03</td>\n",
       "      <td>0.046667</td>\n",
       "    </tr>\n",
       "    <tr>\n",
       "      <th>8</th>\n",
       "      <td>8</td>\n",
       "      <td>Sep</td>\n",
       "      <td>77</td>\n",
       "      <td>57</td>\n",
       "      <td>103</td>\n",
       "      <td>40</td>\n",
       "      <td>0.17</td>\n",
       "      <td>0.066667</td>\n",
       "    </tr>\n",
       "    <tr>\n",
       "      <th>9</th>\n",
       "      <td>9</td>\n",
       "      <td>Oct</td>\n",
       "      <td>73</td>\n",
       "      <td>54</td>\n",
       "      <td>96</td>\n",
       "      <td>34</td>\n",
       "      <td>0.81</td>\n",
       "      <td>0.336667</td>\n",
       "    </tr>\n",
       "    <tr>\n",
       "      <th>10</th>\n",
       "      <td>10</td>\n",
       "      <td>Nov</td>\n",
       "      <td>64</td>\n",
       "      <td>48</td>\n",
       "      <td>84</td>\n",
       "      <td>30</td>\n",
       "      <td>1.70</td>\n",
       "      <td>0.893333</td>\n",
       "    </tr>\n",
       "    <tr>\n",
       "      <th>11</th>\n",
       "      <td>11</td>\n",
       "      <td>Dec</td>\n",
       "      <td>58</td>\n",
       "      <td>42</td>\n",
       "      <td>73</td>\n",
       "      <td>21</td>\n",
       "      <td>2.56</td>\n",
       "      <td>1.690000</td>\n",
       "    </tr>\n",
       "  </tbody>\n",
       "</table>\n",
       "</div>"
      ],
      "text/plain": [
       "    Unnamed: 0 month  avg_high  avg_low  record_high  record_low  \\\n",
       "0            0   Jan        58       42           74          22   \n",
       "1            1   Feb        61       45           78          26   \n",
       "2            2   Mar        65       48           84          25   \n",
       "3            3   Apr        67       50           92          28   \n",
       "4            4   May        71       53           98          35   \n",
       "5            5   Jun        75       56          107          41   \n",
       "6            6   Jul        77       58          105          44   \n",
       "7            7   Aug        77       59          102          43   \n",
       "8            8   Sep        77       57          103          40   \n",
       "9            9   Oct        73       54           96          34   \n",
       "10          10   Nov        64       48           84          30   \n",
       "11          11   Dec        58       42           73          21   \n",
       "\n",
       "    avg_precipitation       new  \n",
       "0                2.95       NaN  \n",
       "1                3.02       NaN  \n",
       "2                2.34  2.770000  \n",
       "3                1.02  2.126667  \n",
       "4                0.48  1.280000  \n",
       "5                0.11  0.536667  \n",
       "6                0.00  0.196667  \n",
       "7                0.03  0.046667  \n",
       "8                0.17  0.066667  \n",
       "9                0.81  0.336667  \n",
       "10               1.70  0.893333  \n",
       "11               2.56  1.690000  "
      ]
     },
     "execution_count": 3,
     "metadata": {},
     "output_type": "execute_result"
    }
   ],
   "source": [
    "foo_df['new'] = foo_df.avg_precipitation.rolling(3).mean() # neem het gemiddelde van 3 waarden en schrijf dat naar nieuwe column\n",
    "foo_df"
   ]
  },
  {
   "cell_type": "code",
   "execution_count": 4,
   "metadata": {},
   "outputs": [
    {
     "data": {
      "text/html": [
       "<div>\n",
       "<style scoped>\n",
       "    .dataframe tbody tr th:only-of-type {\n",
       "        vertical-align: middle;\n",
       "    }\n",
       "\n",
       "    .dataframe tbody tr th {\n",
       "        vertical-align: top;\n",
       "    }\n",
       "\n",
       "    .dataframe thead th {\n",
       "        text-align: right;\n",
       "    }\n",
       "</style>\n",
       "<table border=\"1\" class=\"dataframe\">\n",
       "  <thead>\n",
       "    <tr style=\"text-align: right;\">\n",
       "      <th></th>\n",
       "      <th>Unnamed: 0</th>\n",
       "      <th>month</th>\n",
       "      <th>avg_high</th>\n",
       "      <th>avg_low</th>\n",
       "      <th>record_high</th>\n",
       "      <th>record_low</th>\n",
       "      <th>avg_precipitation</th>\n",
       "      <th>new</th>\n",
       "    </tr>\n",
       "  </thead>\n",
       "  <tbody>\n",
       "    <tr>\n",
       "      <th>0</th>\n",
       "      <td>0</td>\n",
       "      <td>Jan</td>\n",
       "      <td>58</td>\n",
       "      <td>42</td>\n",
       "      <td>74</td>\n",
       "      <td>22</td>\n",
       "      <td>2.95</td>\n",
       "      <td>NaN</td>\n",
       "    </tr>\n",
       "    <tr>\n",
       "      <th>2</th>\n",
       "      <td>2</td>\n",
       "      <td>Mar</td>\n",
       "      <td>65</td>\n",
       "      <td>48</td>\n",
       "      <td>84</td>\n",
       "      <td>25</td>\n",
       "      <td>2.34</td>\n",
       "      <td>2.770000</td>\n",
       "    </tr>\n",
       "    <tr>\n",
       "      <th>4</th>\n",
       "      <td>4</td>\n",
       "      <td>May</td>\n",
       "      <td>71</td>\n",
       "      <td>53</td>\n",
       "      <td>98</td>\n",
       "      <td>35</td>\n",
       "      <td>0.48</td>\n",
       "      <td>1.280000</td>\n",
       "    </tr>\n",
       "    <tr>\n",
       "      <th>6</th>\n",
       "      <td>6</td>\n",
       "      <td>Jul</td>\n",
       "      <td>77</td>\n",
       "      <td>58</td>\n",
       "      <td>105</td>\n",
       "      <td>44</td>\n",
       "      <td>0.00</td>\n",
       "      <td>0.196667</td>\n",
       "    </tr>\n",
       "    <tr>\n",
       "      <th>8</th>\n",
       "      <td>8</td>\n",
       "      <td>Sep</td>\n",
       "      <td>77</td>\n",
       "      <td>57</td>\n",
       "      <td>103</td>\n",
       "      <td>40</td>\n",
       "      <td>0.17</td>\n",
       "      <td>0.066667</td>\n",
       "    </tr>\n",
       "    <tr>\n",
       "      <th>10</th>\n",
       "      <td>10</td>\n",
       "      <td>Nov</td>\n",
       "      <td>64</td>\n",
       "      <td>48</td>\n",
       "      <td>84</td>\n",
       "      <td>30</td>\n",
       "      <td>1.70</td>\n",
       "      <td>0.893333</td>\n",
       "    </tr>\n",
       "  </tbody>\n",
       "</table>\n",
       "</div>"
      ],
      "text/plain": [
       "    Unnamed: 0 month  avg_high  avg_low  record_high  record_low  \\\n",
       "0            0   Jan        58       42           74          22   \n",
       "2            2   Mar        65       48           84          25   \n",
       "4            4   May        71       53           98          35   \n",
       "6            6   Jul        77       58          105          44   \n",
       "8            8   Sep        77       57          103          40   \n",
       "10          10   Nov        64       48           84          30   \n",
       "\n",
       "    avg_precipitation       new  \n",
       "0                2.95       NaN  \n",
       "2                2.34  2.770000  \n",
       "4                0.48  1.280000  \n",
       "6                0.00  0.196667  \n",
       "8                0.17  0.066667  \n",
       "10               1.70  0.893333  "
      ]
     },
     "execution_count": 4,
     "metadata": {},
     "output_type": "execute_result"
    }
   ],
   "source": [
    "df_half = foo_df.iloc[::2, :] # create a new df with every second element of the list\n",
    "df_half"
   ]
  },
  {
   "cell_type": "markdown",
   "metadata": {},
   "source": [
    "## 8. Some simple plots (scatter, histo)"
   ]
  },
  {
   "cell_type": "code",
   "execution_count": 8,
   "metadata": {},
   "outputs": [
    {
     "data": {
      "text/plain": [
       "Index(['Unnamed: 0', 'month', 'avg_high', 'avg_low', 'record_high',\n",
       "       'record_low', 'avg_precipitation', 'new'],\n",
       "      dtype='object')"
      ]
     },
     "execution_count": 8,
     "metadata": {},
     "output_type": "execute_result"
    }
   ],
   "source": [
    "# We'll use the foo_df dataframe of 7 again\n",
    "foo_df.columns"
   ]
  },
  {
   "cell_type": "code",
   "execution_count": 2,
   "metadata": {},
   "outputs": [
    {
     "ename": "NameError",
     "evalue": "name 'foo_df' is not defined",
     "output_type": "error",
     "traceback": [
      "\u001b[1;31m---------------------------------------------------------------------------\u001b[0m",
      "\u001b[1;31mNameError\u001b[0m                                 Traceback (most recent call last)",
      "\u001b[1;32m~\\AppData\\Local\\Temp/ipykernel_30732/2174779947.py\u001b[0m in \u001b[0;36m<module>\u001b[1;34m\u001b[0m\n\u001b[0;32m      1\u001b[0m \u001b[1;31m# to create a scatterplot use this pattern: name_df.plot.scatter(x='column x',y='column y')\u001b[0m\u001b[1;33m\u001b[0m\u001b[1;33m\u001b[0m\u001b[1;33m\u001b[0m\u001b[0m\n\u001b[1;32m----> 2\u001b[1;33m \u001b[0mfoo_df\u001b[0m\u001b[1;33m.\u001b[0m\u001b[0mplot\u001b[0m\u001b[1;33m.\u001b[0m\u001b[0mscatter\u001b[0m\u001b[1;33m(\u001b[0m\u001b[0mx\u001b[0m\u001b[1;33m=\u001b[0m\u001b[1;34m'month'\u001b[0m\u001b[1;33m,\u001b[0m \u001b[0my\u001b[0m\u001b[1;33m=\u001b[0m\u001b[1;34m'avg_high'\u001b[0m\u001b[1;33m,\u001b[0m \u001b[0mtitle\u001b[0m\u001b[1;33m=\u001b[0m\u001b[1;34m'avg precipitation'\u001b[0m\u001b[1;33m,\u001b[0m \u001b[0mc\u001b[0m\u001b[1;33m=\u001b[0m\u001b[1;34m'green'\u001b[0m\u001b[1;33m,\u001b[0m \u001b[0mmarker\u001b[0m\u001b[1;33m=\u001b[0m\u001b[1;34m'+'\u001b[0m\u001b[1;33m)\u001b[0m\u001b[1;33m\u001b[0m\u001b[1;33m\u001b[0m\u001b[0m\n\u001b[0m",
      "\u001b[1;31mNameError\u001b[0m: name 'foo_df' is not defined"
     ]
    }
   ],
   "source": [
    "# to create a scatterplot use this pattern: name_df.plot.scatter(x='column x',y='column y')\n",
    "foo_df.plot.scatter(x='month', y='avg_high', title='avg precipitation', c='green', marker='+')"
   ]
  },
  {
   "cell_type": "code",
   "execution_count": 13,
   "metadata": {},
   "outputs": [
    {
     "data": {
      "text/plain": [
       "<AxesSubplot:title={'center':'avg low'}, ylabel='Frequency'>"
      ]
     },
     "execution_count": 13,
     "metadata": {},
     "output_type": "execute_result"
    },
    {
     "data": {
      "image/png": "[encoded data removed]",
      "text/plain": [
       "<Figure size 432x288 with 1 Axes>"
      ]
     },
     "metadata": {
      "needs_background": "light"
     },
     "output_type": "display_data"
    }
   ],
   "source": [
    "# for a histogram use this pattern: name_df['column'].plot.hist(title='Genome Size Histogram')\n",
    "foo_df['avg_low'].plot.hist(title='avg low')"
   ]
  },
  {
   "cell_type": "markdown",
   "metadata": {},
   "source": [
    "## 9. Convert a dict to a Pandas df"
   ]
  },
  {
   "cell_type": "code",
   "execution_count": 20,
   "metadata": {},
   "outputs": [
    {
     "data": {
      "text/plain": [
       "{'first': 6, 'second': 8}"
      ]
     },
     "execution_count": 20,
     "metadata": {},
     "output_type": "execute_result"
    }
   ],
   "source": [
    "# create a dict first \n",
    "my_dict = {'first': 6, 'second':8}\n",
    "my_dict"
   ]
  },
  {
   "cell_type": "code",
   "execution_count": 30,
   "metadata": {},
   "outputs": [
    {
     "data": {
      "text/html": [
       "<div>\n",
       "<style scoped>\n",
       "    .dataframe tbody tr th:only-of-type {\n",
       "        vertical-align: middle;\n",
       "    }\n",
       "\n",
       "    .dataframe tbody tr th {\n",
       "        vertical-align: top;\n",
       "    }\n",
       "\n",
       "    .dataframe thead th {\n",
       "        text-align: right;\n",
       "    }\n",
       "</style>\n",
       "<table border=\"1\" class=\"dataframe\">\n",
       "  <thead>\n",
       "    <tr style=\"text-align: right;\">\n",
       "      <th></th>\n",
       "      <th>my column</th>\n",
       "    </tr>\n",
       "  </thead>\n",
       "  <tbody>\n",
       "    <tr>\n",
       "      <th>first</th>\n",
       "      <td>6</td>\n",
       "    </tr>\n",
       "    <tr>\n",
       "      <th>second</th>\n",
       "      <td>8</td>\n",
       "    </tr>\n",
       "  </tbody>\n",
       "</table>\n",
       "</div>"
      ],
      "text/plain": [
       "        my column\n",
       "first           6\n",
       "second          8"
      ]
     },
     "execution_count": 30,
     "metadata": {},
     "output_type": "execute_result"
    }
   ],
   "source": [
    "import pandas as pd\n",
    "my_df = pd.DataFrame.from_dict(my_dict, orient='index', columns=['my column'])\n",
    "my_df"
   ]
  },
  {
   "cell_type": "code",
   "execution_count": 25,
   "metadata": {},
   "outputs": [
    {
     "data": {
      "text/html": [
       "<div>\n",
       "<style scoped>\n",
       "    .dataframe tbody tr th:only-of-type {\n",
       "        vertical-align: middle;\n",
       "    }\n",
       "\n",
       "    .dataframe tbody tr th {\n",
       "        vertical-align: top;\n",
       "    }\n",
       "\n",
       "    .dataframe thead th {\n",
       "        text-align: right;\n",
       "    }\n",
       "</style>\n",
       "<table border=\"1\" class=\"dataframe\">\n",
       "  <thead>\n",
       "    <tr style=\"text-align: right;\">\n",
       "      <th></th>\n",
       "      <th>col_1</th>\n",
       "      <th>col_2</th>\n",
       "    </tr>\n",
       "  </thead>\n",
       "  <tbody>\n",
       "    <tr>\n",
       "      <th>0</th>\n",
       "      <td>3</td>\n",
       "      <td>a</td>\n",
       "    </tr>\n",
       "    <tr>\n",
       "      <th>1</th>\n",
       "      <td>2</td>\n",
       "      <td>b</td>\n",
       "    </tr>\n",
       "    <tr>\n",
       "      <th>2</th>\n",
       "      <td>1</td>\n",
       "      <td>c</td>\n",
       "    </tr>\n",
       "    <tr>\n",
       "      <th>3</th>\n",
       "      <td>0</td>\n",
       "      <td>d</td>\n",
       "    </tr>\n",
       "  </tbody>\n",
       "</table>\n",
       "</div>"
      ],
      "text/plain": [
       "   col_1 col_2\n",
       "0      3     a\n",
       "1      2     b\n",
       "2      1     c\n",
       "3      0     d"
      ]
     },
     "execution_count": 25,
     "metadata": {},
     "output_type": "execute_result"
    }
   ],
   "source": [
    "data = {'col_1': [3, 2, 1, 0], 'col_2': ['a', 'b', 'c', 'd']}\n",
    "pd.DataFrame.from_dict(data)"
   ]
  },
  {
   "cell_type": "markdown",
   "metadata": {},
   "source": [
    "## 10. Drop zero's and drop NaN\n",
    "Based on the required result, it can be necesarry to drop zero's or NaN's (Not a Number). "
   ]
  },
  {
   "cell_type": "code",
   "execution_count": 3,
   "metadata": {},
   "outputs": [
    {
     "data": {
      "text/plain": [
       "a    2.0\n",
       "dtype: float64"
      ]
     },
     "execution_count": 3,
     "metadata": {},
     "output_type": "execute_result"
    }
   ],
   "source": [
    "import pandas as pd\n",
    "import numpy as np\n",
    "#convert 0 to NaN \n",
    "df = pd.DataFrame([1, 0, 2, 3, 0], columns=['a'])\n",
    "df = df.replace(0, np.NaN)\n",
    "df.mean()"
   ]
  },
  {
   "cell_type": "code",
   "execution_count": null,
   "metadata": {},
   "outputs": [],
   "source": []
  }
 ],
 "metadata": {
  "kernelspec": {
   "display_name": "Python 3 (ipykernel)",
   "language": "python",
   "name": "python3"
  },
  "language_info": {
   "codemirror_mode": {
    "name": "ipython",
    "version": 3
   },
   "file_extension": ".py",
   "mimetype": "text/x-python",
   "name": "python",
   "nbconvert_exporter": "python",
   "pygments_lexer": "ipython3",
   "version": "3.8.5"
  }
 },
 "nbformat": 4,
 "nbformat_minor": 2
}
