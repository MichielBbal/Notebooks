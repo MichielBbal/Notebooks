{
 "cells": [
  {
   "cell_type": "markdown",
   "metadata": {
    "id": "Gf3W1DMWxQU4"
   },
   "source": [
    "# Detectie van gezichten\n",
    "\n",
    "### Stijn Oomes\n",
    "donderdag 8 september 2022"
   ]
  },
  {
   "cell_type": "markdown",
   "metadata": {
    "id": "ESJ9bdd2xQU6"
   },
   "source": [
    "## Importeer libraries"
   ]
  },
  {
   "cell_type": "markdown",
   "metadata": {
    "id": "cBv0zzpL00ua"
   },
   "source": [
    "Importeer de relevante libraries.\n",
    "\n",
    "`opencv` en `numpy`en `matplotlib`"
   ]
  },
  {
   "cell_type": "code",
   "execution_count": null,
   "metadata": {
    "id": "lAg5t9cPxQU6"
   },
   "outputs": [],
   "source": [
    "import cv2 as cv\n",
    "\n",
    "import numpy as np\n",
    "\n",
    "import matplotlib.pyplot as plt\n",
    "%matplotlib inline"
   ]
  },
  {
   "cell_type": "code",
   "execution_count": null,
   "metadata": {},
   "outputs": [],
   "source": [
    "print(cv.__version__)"
   ]
  },
  {
   "cell_type": "markdown",
   "metadata": {
    "id": "5YUl9FTCxQU9"
   },
   "source": [
    "## Importeer en toon afbeelding"
   ]
  },
  {
   "cell_type": "markdown",
   "metadata": {
    "id": "c7gzvJHv096O"
   },
   "source": [
    "Zoek een kleuren foto met 7 gezichten of meer.\n",
    "\n",
    "Laad de afbeelding in.\n",
    "\n",
    "Laat de foto op het scherm zien. Hoeveel gezichten zie je zelf?\n",
    " \n",
    "Hint: `imread`, `imshow` uit de matplotlib library"
   ]
  },
  {
   "cell_type": "code",
   "execution_count": null,
   "metadata": {
    "colab": {
     "base_uri": "https://localhost:8080/",
     "height": 509
    },
    "id": "b3ZGGSrFxQU-",
    "outputId": "1b3104df-edad-4d3a-e0ab-20819db3f314",
    "scrolled": false
   },
   "outputs": [],
   "source": [
    "# jouw code\n",
    "\n",
    "img = # ?\n"
   ]
  },
  {
   "cell_type": "markdown",
   "metadata": {},
   "source": [
    "Welk datatype heeft de ingeladen afbeelding?\n",
    "\n",
    "\n",
    "Hoe groot is de afbeelding in pixels?"
   ]
  },
  {
   "cell_type": "code",
   "execution_count": null,
   "metadata": {},
   "outputs": [],
   "source": [
    "print(type(img))\n",
    "print(img.shape)"
   ]
  },
  {
   "cell_type": "markdown",
   "metadata": {
    "id": "FxqF1aA61QM0"
   },
   "source": [
    "## Zet een kleurenplaatje om in een grijswaarde plaatje."
   ]
  },
  {
   "cell_type": "markdown",
   "metadata": {
    "id": "oM-fmvJWIpL-"
   },
   "source": [
    "Als je foto al zwart-wit is dan kun je deze stap overslaan."
   ]
  },
  {
   "cell_type": "code",
   "execution_count": null,
   "metadata": {
    "id": "MDJGKZYZ1V9t"
   },
   "outputs": [],
   "source": [
    "gray = # ?"
   ]
  },
  {
   "cell_type": "code",
   "execution_count": null,
   "metadata": {},
   "outputs": [],
   "source": [
    "gray.shape"
   ]
  },
  {
   "cell_type": "markdown",
   "metadata": {
    "id": "qUQjJMWexQVB"
   },
   "source": [
    "## Initieer detector"
   ]
  },
  {
   "cell_type": "markdown",
   "metadata": {
    "id": "zShqMvQt1Ka7"
   },
   "source": [
    "Zoek het pad van de .xml file met de classifier: haarcascade_frontalface_default.xml\n",
    "\n",
    "Initieer de Cascade Classifier."
   ]
  },
  {
   "cell_type": "code",
   "execution_count": null,
   "metadata": {
    "colab": {
     "base_uri": "https://localhost:8080/"
    },
    "id": "U1DppgPDxQVB",
    "outputId": "4829d8bc-add4-48b0-a591-a466e7cf1d95"
   },
   "outputs": [],
   "source": [
    "face_cascade = cv.CascadeClassifier(cv.data.haarcascades + 'haarcascade_frontalface_default.xml')\n",
    "\n",
    "print(\"Is de classifier leeg? --> \" + str(face_cascade.empty()) + \"  (moet 'False', dus 'niet leeg', zijn)\")"
   ]
  },
  {
   "cell_type": "markdown",
   "metadata": {
    "id": "2c79rOo-xQVD"
   },
   "source": [
    "## Detecteer gezichten"
   ]
  },
  {
   "cell_type": "markdown",
   "metadata": {
    "id": "-U_s3U5V1gW8"
   },
   "source": [
    "Bepaal met de classifier ``face_cascade.detectMultiScale()`` de gezichten in het plaatje.\n",
    "\n",
    "Hoeveel heb je er gevonden?"
   ]
  },
  {
   "cell_type": "code",
   "execution_count": null,
   "metadata": {
    "colab": {
     "base_uri": "https://localhost:8080/"
    },
    "id": "WttQVP5sxQVE",
    "outputId": "53c4437e-405d-4ca2-95f8-beb1530b8d53"
   },
   "outputs": [],
   "source": [
    "faces = # ?\n",
    "\n",
    "print(\"Aantal gezichten: \" + str(faces.shape[0]))"
   ]
  },
  {
   "cell_type": "markdown",
   "metadata": {
    "id": "9lDbNkF3xQVG"
   },
   "source": [
    "## Toon rechthoeken rond gezichten"
   ]
  },
  {
   "cell_type": "markdown",
   "metadata": {
    "id": "FnrVRziW1iIg"
   },
   "source": [
    "Toon rechthoeken om de gevonden gezichten."
   ]
  },
  {
   "cell_type": "code",
   "execution_count": null,
   "metadata": {
    "colab": {
     "base_uri": "https://localhost:8080/",
     "height": 575
    },
    "id": "_n5kt9KyxQVH",
    "outputId": "7b88077f-0fdc-4947-9d23-ff9dfac0fd0e"
   },
   "outputs": [],
   "source": [
    "# jouw code\n",
    "\n",
    "\n"
   ]
  },
  {
   "cell_type": "markdown",
   "metadata": {
    "id": "0P3WhSnb1nYE"
   },
   "source": [
    "## Evalueer de resultaten"
   ]
  },
  {
   "cell_type": "markdown",
   "metadata": {
    "id": "ShvILkGBUhRg"
   },
   "source": [
    "Hoe goed is jouw detector in vergelijking met wat je zelf ziet?\n",
    "\n",
    "Kun je de parameters van `face_cascade.detectMultiScale` varieren zodat de detectie beter wordt?"
   ]
  },
  {
   "cell_type": "markdown",
   "metadata": {},
   "source": [
    "## Bonus 1: detecteer ook de ogen en de mond"
   ]
  },
  {
   "cell_type": "markdown",
   "metadata": {},
   "source": [
    "Hint: er zijn nog meer .xml files met detectoren"
   ]
  },
  {
   "cell_type": "code",
   "execution_count": null,
   "metadata": {},
   "outputs": [],
   "source": [
    "# jouw code\n",
    "\n",
    "\n"
   ]
  },
  {
   "cell_type": "markdown",
   "metadata": {},
   "source": [
    "## Bonus 2: analyseer de afbeeldingen uit je webcam"
   ]
  },
  {
   "cell_type": "markdown",
   "metadata": {},
   "source": [
    "Hint: ``VideoCapture()`` uit de ``OpenCV`` library"
   ]
  },
  {
   "cell_type": "code",
   "execution_count": null,
   "metadata": {},
   "outputs": [],
   "source": [
    "# jouw code\n",
    "\n",
    "\n"
   ]
  }
 ],
 "metadata": {
  "colab": {
   "name": "2021_02_04_OpenCV_uitwerking.ipynb",
   "provenance": []
  },
  "kernelspec": {
   "display_name": "Python 3 (ipykernel)",
   "language": "python",
   "name": "python3"
  },
  "language_info": {
   "codemirror_mode": {
    "name": "ipython",
    "version": 3
   },
   "file_extension": ".py",
   "mimetype": "text/x-python",
   "name": "python",
   "nbconvert_exporter": "python",
   "pygments_lexer": "ipython3",
   "version": "3.9.12"
  }
 },
 "nbformat": 4,
 "nbformat_minor": 1
}
