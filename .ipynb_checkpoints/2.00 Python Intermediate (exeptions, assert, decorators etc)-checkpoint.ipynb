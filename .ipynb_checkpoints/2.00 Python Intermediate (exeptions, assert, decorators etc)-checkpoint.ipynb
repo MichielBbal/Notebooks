{
 "cells": [
  {
   "cell_type": "markdown",
   "id": "6fbb6aa9",
   "metadata": {},
   "source": [
    "# Intermediate python \n",
    "## Contents\n",
    "1. Exception handling with try/except\n",
    "2. Assert\n",
    "3. Filter"
   ]
  },
  {
   "cell_type": "code",
   "execution_count": null,
   "id": "7e2a4d5a",
   "metadata": {},
   "outputs": [],
   "source": []
  },
  {
   "cell_type": "markdown",
   "id": "8632028f",
   "metadata": {},
   "source": [
    "## 1. Exception handling with try/except"
   ]
  },
  {
   "cell_type": "code",
   "execution_count": 5,
   "id": "c13bd719",
   "metadata": {},
   "outputs": [
    {
     "name": "stdout",
     "output_type": "stream",
     "text": [
      "An exception occurred\n"
     ]
    }
   ],
   "source": [
    "#source: https://www.w3schools.com/python/python_try_except.asp\n",
    "# as x is not defined, the 'try' will not work and an exception will be raised.\n",
    "try:\n",
    "  print(x)\n",
    "except:\n",
    "  print(\"An exception occurred\")"
   ]
  },
  {
   "cell_type": "code",
   "execution_count": 11,
   "id": "a2add494",
   "metadata": {},
   "outputs": [
    {
     "ename": "NameError",
     "evalue": "name 'x' is not defined",
     "output_type": "error",
     "traceback": [
      "\u001b[0;31m---------------------------------------------------------------------------\u001b[0m",
      "\u001b[0;31mNameError\u001b[0m                                 Traceback (most recent call last)",
      "Input \u001b[0;32mIn [11]\u001b[0m, in \u001b[0;36m<cell line: 2>\u001b[0;34m()\u001b[0m\n\u001b[1;32m      1\u001b[0m \u001b[38;5;66;03m#try for yourself\u001b[39;00m\n\u001b[0;32m----> 2\u001b[0m \u001b[38;5;28mprint\u001b[39m(\u001b[43mx\u001b[49m)\n",
      "\u001b[0;31mNameError\u001b[0m: name 'x' is not defined"
     ]
    }
   ],
   "source": [
    "#try for yourself\n",
    "print(x)"
   ]
  },
  {
   "cell_type": "code",
   "execution_count": 13,
   "id": "ad7fd8cd",
   "metadata": {},
   "outputs": [
    {
     "name": "stdout",
     "output_type": "stream",
     "text": [
      "a NameError\n"
     ]
    }
   ],
   "source": [
    "#we can also put the NameError after the except statement\n",
    "try:\n",
    "    print(x)\n",
    "except NameError:\n",
    "    print('a NameError')"
   ]
  },
  {
   "cell_type": "code",
   "execution_count": 14,
   "id": "29d3b42d",
   "metadata": {},
   "outputs": [
    {
     "name": "stdout",
     "output_type": "stream",
     "text": [
      "Something went wrong\n",
      "The 'try except' is finished\n"
     ]
    }
   ],
   "source": [
    "try:\n",
    "  print(x)\n",
    "except:\n",
    "  print(\"Something went wrong\")\n",
    "finally:\n",
    "  print(\"The 'try except' is finished\")"
   ]
  },
  {
   "cell_type": "code",
   "execution_count": 15,
   "id": "edfbe60c",
   "metadata": {},
   "outputs": [
    {
     "name": "stdout",
     "output_type": "stream",
     "text": [
      "1\n",
      "2\n",
      "3\n",
      "4\n",
      "5\n"
     ]
    }
   ],
   "source": [
    "def do_stuff_with_number(n):\n",
    "    print(n)\n",
    "\n",
    "def catch_this():\n",
    "    the_list = (1, 2, 3, 4, 5)\n",
    "\n",
    "    for i in range(20):\n",
    "        try:\n",
    "            do_stuff_with_number(the_list[i])\n",
    "        except IndexError: # Raised when accessing a non-existing index of a list\n",
    "            #do_stuff_with_number(0)\n",
    "            pass\n",
    "catch_this()"
   ]
  },
  {
   "cell_type": "markdown",
   "id": "e2db0be8",
   "metadata": {},
   "source": [
    "Met Try-except statements kun je specifieke errors gebruiken tegen de gebruiker.\n"
   ]
  },
  {
   "cell_type": "code",
   "execution_count": null,
   "id": "081fb010",
   "metadata": {},
   "outputs": [],
   "source": [
    "try:\n",
    "    x = int(input('Enter a number: '))\n",
    "    y= 1 / x\n",
    "    print(y)\n",
    "except ZeroDivisionError:\n",
    "    print(\"You cannot divide by zero, sorry.\")\n",
    "except ValueError:\n",
    "    print('You must print an integer value.')\n",
    "except:\n",
    "    print(\"Oh dear, something went wrong...\")"
   ]
  },
  {
   "cell_type": "code",
   "execution_count": null,
   "id": "3c0c7aa2",
   "metadata": {},
   "outputs": [
    {
     "name": "stdout",
     "output_type": "stream",
     "text": [
      "0\n",
      "1\n",
      "2\n",
      "3\n",
      "4\n",
      "Don't do that!\n",
      "5\n",
      "6\n",
      "7\n",
      "Don't do that!\n",
      "8\n",
      "Don't do that!\n",
      "9\n",
      "Don't do that!\n",
      "10\n",
      "11\n",
      "12\n",
      "Don't do that!\n",
      "13\n",
      "14\n",
      "15\n",
      "16\n",
      "17\n",
      "18\n",
      "19\n"
     ]
    }
   ],
   "source": [
    "#You can't stop this script...\n",
    "from time import sleep\n",
    "seconds = 0\n",
    "while True:\n",
    "    try:\n",
    "        print(seconds)\n",
    "        seconds += 1\n",
    "        sleep(1)\n",
    "    except KeyboardInterrupt:\n",
    "        print(\"Don't do that!\")"
   ]
  },
  {
   "cell_type": "markdown",
   "id": "e3d1d11e",
   "metadata": {},
   "source": [
    "## 2. Assert"
   ]
  },
  {
   "cell_type": "code",
   "execution_count": 1,
   "id": "a4ffa9df",
   "metadata": {},
   "outputs": [
    {
     "ename": "AssertionError",
     "evalue": "x should be hello",
     "output_type": "error",
     "traceback": [
      "\u001b[0;31m---------------------------------------------------------------------------\u001b[0m",
      "\u001b[0;31mAssertionError\u001b[0m                            Traceback (most recent call last)",
      "Input \u001b[0;32mIn [1]\u001b[0m, in \u001b[0;36m<cell line: 3>\u001b[0;34m()\u001b[0m\n\u001b[1;32m      1\u001b[0m x \u001b[38;5;241m=\u001b[39m \u001b[38;5;124m'\u001b[39m\u001b[38;5;124mhello\u001b[39m\u001b[38;5;124m'\u001b[39m\n\u001b[1;32m      2\u001b[0m \u001b[38;5;66;03m#if condition returns False, AssertionError is raised\u001b[39;00m\n\u001b[0;32m----> 3\u001b[0m \u001b[38;5;28;01massert\u001b[39;00m x \u001b[38;5;241m==\u001b[39m \u001b[38;5;124m'\u001b[39m\u001b[38;5;124mgoodbye\u001b[39m\u001b[38;5;124m'\u001b[39m, \u001b[38;5;124m'\u001b[39m\u001b[38;5;124mx should be hello\u001b[39m\u001b[38;5;124m'\u001b[39m\n",
      "\u001b[0;31mAssertionError\u001b[0m: x should be hello"
     ]
    }
   ],
   "source": [
    "x = 'hello'\n",
    "#if condition returns False, AssertionError is raised\n",
    "assert x == 'goodbye', 'x should be hello'"
   ]
  },
  {
   "cell_type": "code",
   "execution_count": null,
   "id": "d6c6d3b7",
   "metadata": {},
   "outputs": [],
   "source": [
    "x = 'username'\n",
    "\n",
    "x ="
   ]
  },
  {
   "cell_type": "markdown",
   "id": "c6fda638",
   "metadata": {},
   "source": [
    "## 3. Filter\n",
    "As the name suggests, a filter method literally filters out the elements defined.\n",
    "Let's filter only the negative numbers."
   ]
  },
  {
   "cell_type": "code",
   "execution_count": 2,
   "id": "177184f5",
   "metadata": {},
   "outputs": [
    {
     "data": {
      "text/plain": [
       "[-5, -4, -3, -2, -1]"
      ]
     },
     "execution_count": 2,
     "metadata": {},
     "output_type": "execute_result"
    }
   ],
   "source": [
    "number_list = range(-5, 5)\n",
    "less_than_zero = filter(lambda x: x < 0, number_list)\n",
    "list(less_than_zero)"
   ]
  },
  {
   "cell_type": "markdown",
   "id": "e195a621",
   "metadata": {},
   "source": [
    "## 4. Decorator\n",
    "\n",
    "source: https://realpython.com/primer-on-python-decorators/\n",
    "\n",
    "A decorator is a function that takes another function and extends the behavior of the latter function without explicitly modifying it."
   ]
  },
  {
   "cell_type": "code",
   "execution_count": 1,
   "id": "987719c6",
   "metadata": {},
   "outputs": [
    {
     "name": "stdout",
     "output_type": "stream",
     "text": [
      "Something is happening before the function is called.\n",
      "Whee!\n",
      "Something is happening after the function is called.\n"
     ]
    }
   ],
   "source": [
    "def my_decorator(func):\n",
    "    def wrapper():\n",
    "        print(\"Something is happening before the function is called.\")\n",
    "        func()\n",
    "        print(\"Something is happening after the function is called.\")\n",
    "    return wrapper\n",
    "\n",
    "def say_whee():\n",
    "    print(\"Whee!\")\n",
    "say_whee = my_decorator(say_whee) #the decorator\n",
    "\n",
    "say_whee()"
   ]
  },
  {
   "cell_type": "code",
   "execution_count": 2,
   "id": "bff36e41",
   "metadata": {},
   "outputs": [
    {
     "name": "stdout",
     "output_type": "stream",
     "text": [
      "Something is happening before the function is called.\n",
      "Whee!\n",
      "Something is happening after the function is called.\n"
     ]
    }
   ],
   "source": [
    "def my_decorator(func):\n",
    "    def wrapper():\n",
    "        print(\"Something is happening before the function is called.\")\n",
    "        func()\n",
    "        print(\"Something is happening after the function is called.\")\n",
    "    return wrapper\n",
    "\n",
    "@my_decorator\n",
    "def say_whee():\n",
    "    print(\"Whee!\")\n",
    "say_whee()"
   ]
  },
  {
   "cell_type": "code",
   "execution_count": 3,
   "id": "2e26ff38",
   "metadata": {},
   "outputs": [
    {
     "name": "stdout",
     "output_type": "stream",
     "text": [
      "Whee!\n",
      "Whee!\n"
     ]
    }
   ],
   "source": [
    "def do_twice(func):\n",
    "    def wrapper_do_twice():\n",
    "        func()\n",
    "        func()\n",
    "    return wrapper_do_twice\n",
    "\n",
    "@do_twice \n",
    "def say_whee():\n",
    "    print(\"Whee!\")\n",
    "say_whee()\n"
   ]
  },
  {
   "cell_type": "code",
   "execution_count": null,
   "id": "b0030908",
   "metadata": {},
   "outputs": [],
   "source": []
  }
 ],
 "metadata": {
  "kernelspec": {
   "display_name": "Python 3 (ipykernel)",
   "language": "python",
   "name": "python3"
  },
  "language_info": {
   "codemirror_mode": {
    "name": "ipython",
    "version": 3
   },
   "file_extension": ".py",
   "mimetype": "text/x-python",
   "name": "python",
   "nbconvert_exporter": "python",
   "pygments_lexer": "ipython3",
   "version": "3.9.12"
  }
 },
 "nbformat": 4,
 "nbformat_minor": 5
}
