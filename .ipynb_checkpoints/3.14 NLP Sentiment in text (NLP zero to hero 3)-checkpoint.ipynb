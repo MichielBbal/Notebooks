{
 "cells": [
  {
   "cell_type": "code",
   "execution_count": null,
   "metadata": {
    "id": "zX4Kg8DUTKWO"
   },
   "outputs": [],
   "source": [
    "#@title Licensed under the Apache License, Version 2.0 (the \"License\");\n",
    "# you may not use this file except in compliance with the License.\n",
    "# You may obtain a copy of the License at\n",
    "#\n",
    "# https://www.apache.org/licenses/LICENSE-2.0\n",
    "#\n",
    "# Unless required by applicable law or agreed to in writing, software\n",
    "# distributed under the License is distributed on an \"AS IS\" BASIS,\n",
    "# WITHOUT WARRANTIES OR CONDITIONS OF ANY KIND, either express or implied.\n",
    "# See the License for the specific language governing permissions and\n",
    "# limitations under the License."
   ]
  },
  {
   "cell_type": "markdown",
   "metadata": {
    "id": "view-in-github"
   },
   "source": [
    "<a href=\"https://colab.research.google.com/github/lmoroney/dlaicourse/blob/master/TensorFlow%20In%20Practice/Course%203%20-%20NLP/Course%203%20-%20Week%202%20-%20Lesson%202.ipynb\" target=\"_parent\"><img src=\"https://colab.research.google.com/assets/colab-badge.svg\" alt=\"Open In Colab\"/></a>"
   ]
  },
  {
   "cell_type": "code",
   "execution_count": 2,
   "metadata": {
    "id": "4gs9htvM7n_x"
   },
   "outputs": [],
   "source": [
    "# Run this to ensure TensorFlow 2.x is used\n",
    "try:\n",
    "  # %tensorflow_version only exists in Colab.\n",
    "  %tensorflow_version 2.x\n",
    "except Exception:\n",
    "  pass"
   ]
  },
  {
   "cell_type": "code",
   "execution_count": 3,
   "metadata": {
    "id": "XYYDvoskkE61"
   },
   "outputs": [],
   "source": [
    "import json\n",
    "import tensorflow as tf\n",
    "\n",
    "from tensorflow.keras.preprocessing.text import Tokenizer\n",
    "from tensorflow.keras.preprocessing.sequence import pad_sequences"
   ]
  },
  {
   "cell_type": "code",
   "execution_count": 4,
   "metadata": {
    "id": "0eJSTTYnkJQd"
   },
   "outputs": [],
   "source": [
    "vocab_size = 10000\n",
    "embedding_dim = 16\n",
    "max_length = 100\n",
    "trunc_type='post'\n",
    "padding_type='post'\n",
    "oov_tok = \"<OOV>\"\n",
    "training_size = 20000\n"
   ]
  },
  {
   "cell_type": "code",
   "execution_count": 6,
   "metadata": {
    "colab": {
     "base_uri": "https://localhost:8080/"
    },
    "id": "BQVuQrZNkPn9",
    "outputId": "a1de9d6b-956f-44c3-957f-17470c528671"
   },
   "outputs": [
    {
     "data": {
      "text/plain": [
       "'sarcasm.json'"
      ]
     },
     "execution_count": 6,
     "metadata": {},
     "output_type": "execute_result"
    }
   ],
   "source": [
    "import wget\n",
    "url = 'https://storage.googleapis.com/laurencemoroney-blog.appspot.com/sarcasm.json'\n",
    "filename = wget.download(url)\n",
    "filename\n"
   ]
  },
  {
   "cell_type": "code",
   "execution_count": 7,
   "metadata": {
    "id": "oaLaaqhNkUPd"
   },
   "outputs": [],
   "source": [
    "with open(filename, 'r') as f:\n",
    "    datastore = json.load(f)\n",
    "\n",
    "sentences = []\n",
    "labels = []\n",
    "\n",
    "for item in datastore:\n",
    "    sentences.append(item['headline'])\n",
    "    labels.append(item['is_sarcastic'])"
   ]
  },
  {
   "cell_type": "code",
   "execution_count": 8,
   "metadata": {
    "id": "S1sD-7v0kYWk"
   },
   "outputs": [],
   "source": [
    "training_sentences = sentences[0:training_size]\n",
    "testing_sentences = sentences[training_size:]\n",
    "training_labels = labels[0:training_size]\n",
    "testing_labels = labels[training_size:]"
   ]
  },
  {
   "cell_type": "code",
   "execution_count": 9,
   "metadata": {
    "id": "3u8UB0MCkZ5N"
   },
   "outputs": [],
   "source": [
    "tokenizer = Tokenizer(num_words=vocab_size, oov_token=oov_tok)\n",
    "tokenizer.fit_on_texts(training_sentences)\n",
    "\n",
    "word_index = tokenizer.word_index\n",
    "\n",
    "training_sequences = tokenizer.texts_to_sequences(training_sentences)\n",
    "training_padded = pad_sequences(training_sequences, maxlen=max_length, padding=padding_type, truncating=trunc_type)\n",
    "\n",
    "testing_sequences = tokenizer.texts_to_sequences(testing_sentences)\n",
    "testing_padded = pad_sequences(testing_sequences, maxlen=max_length, padding=padding_type, truncating=trunc_type)"
   ]
  },
  {
   "cell_type": "code",
   "execution_count": 10,
   "metadata": {
    "id": "GrAlWBKf99Ya"
   },
   "outputs": [],
   "source": [
    "# Need this block to get it to work with TensorFlow 2.x\n",
    "import numpy as np\n",
    "training_padded = np.array(training_padded)\n",
    "training_labels = np.array(training_labels)\n",
    "testing_padded = np.array(testing_padded)\n",
    "testing_labels = np.array(testing_labels)"
   ]
  },
  {
   "cell_type": "code",
   "execution_count": 11,
   "metadata": {
    "id": "FufaT4vlkiDE"
   },
   "outputs": [],
   "source": [
    "model = tf.keras.Sequential([\n",
    "    tf.keras.layers.Embedding(vocab_size, embedding_dim, input_length=max_length),\n",
    "    tf.keras.layers.GlobalAveragePooling1D(),\n",
    "    tf.keras.layers.Dense(24, activation='relu'),\n",
    "    tf.keras.layers.Dense(1, activation='sigmoid')\n",
    "])\n",
    "model.compile(loss='binary_crossentropy',optimizer='adam',metrics=['accuracy'])"
   ]
  },
  {
   "cell_type": "code",
   "execution_count": 12,
   "metadata": {
    "colab": {
     "base_uri": "https://localhost:8080/"
    },
    "id": "XfDt1hmYkiys",
    "outputId": "27ab8c02-d125-4281-b758-4ad6cc89a5b8"
   },
   "outputs": [
    {
     "name": "stdout",
     "output_type": "stream",
     "text": [
      "Model: \"sequential\"\n",
      "_________________________________________________________________\n",
      "Layer (type)                 Output Shape              Param #   \n",
      "=================================================================\n",
      "embedding (Embedding)        (None, 100, 16)           160000    \n",
      "_________________________________________________________________\n",
      "global_average_pooling1d (Gl (None, 16)                0         \n",
      "_________________________________________________________________\n",
      "dense (Dense)                (None, 24)                408       \n",
      "_________________________________________________________________\n",
      "dense_1 (Dense)              (None, 1)                 25        \n",
      "=================================================================\n",
      "Total params: 160,433\n",
      "Trainable params: 160,433\n",
      "Non-trainable params: 0\n",
      "_________________________________________________________________\n"
     ]
    }
   ],
   "source": [
    "model.summary()\n"
   ]
  },
  {
   "cell_type": "code",
   "execution_count": 13,
   "metadata": {
    "colab": {
     "base_uri": "https://localhost:8080/"
    },
    "id": "2DTKQFf1kkyc",
    "outputId": "6fed18d8-9a26-4085-fdcb-f13e3c161b5c"
   },
   "outputs": [
    {
     "name": "stdout",
     "output_type": "stream",
     "text": [
      "Epoch 1/30\n",
      "625/625 - 4s - loss: 0.6737 - accuracy: 0.5707 - val_loss: 0.6159 - val_accuracy: 0.7226\n",
      "Epoch 2/30\n",
      "625/625 - 2s - loss: 0.4510 - accuracy: 0.8232 - val_loss: 0.3897 - val_accuracy: 0.8308\n",
      "Epoch 3/30\n",
      "625/625 - 2s - loss: 0.3153 - accuracy: 0.8741 - val_loss: 0.3540 - val_accuracy: 0.8496\n",
      "Epoch 4/30\n",
      "625/625 - 2s - loss: 0.2645 - accuracy: 0.8950 - val_loss: 0.3413 - val_accuracy: 0.8569\n",
      "Epoch 5/30\n",
      "625/625 - 2s - loss: 0.2276 - accuracy: 0.9122 - val_loss: 0.3414 - val_accuracy: 0.8550\n",
      "Epoch 6/30\n",
      "625/625 - 2s - loss: 0.2029 - accuracy: 0.9222 - val_loss: 0.3465 - val_accuracy: 0.8563\n",
      "Epoch 7/30\n",
      "625/625 - 2s - loss: 0.1800 - accuracy: 0.9326 - val_loss: 0.3581 - val_accuracy: 0.8520\n",
      "Epoch 8/30\n",
      "625/625 - 2s - loss: 0.1602 - accuracy: 0.9397 - val_loss: 0.3748 - val_accuracy: 0.8489\n",
      "Epoch 9/30\n",
      "625/625 - 2s - loss: 0.1443 - accuracy: 0.9478 - val_loss: 0.3843 - val_accuracy: 0.8536\n",
      "Epoch 10/30\n",
      "625/625 - 1s - loss: 0.1320 - accuracy: 0.9532 - val_loss: 0.4091 - val_accuracy: 0.8465\n",
      "Epoch 11/30\n",
      "625/625 - 2s - loss: 0.1208 - accuracy: 0.9580 - val_loss: 0.4225 - val_accuracy: 0.8508\n",
      "Epoch 12/30\n",
      "625/625 - 2s - loss: 0.1107 - accuracy: 0.9627 - val_loss: 0.4419 - val_accuracy: 0.8474\n",
      "Epoch 13/30\n",
      "625/625 - 2s - loss: 0.1008 - accuracy: 0.9663 - val_loss: 0.4623 - val_accuracy: 0.8462\n",
      "Epoch 14/30\n",
      "625/625 - 2s - loss: 0.0927 - accuracy: 0.9686 - val_loss: 0.4912 - val_accuracy: 0.8402\n",
      "Epoch 15/30\n",
      "625/625 - 2s - loss: 0.0862 - accuracy: 0.9704 - val_loss: 0.5096 - val_accuracy: 0.8410\n",
      "Epoch 16/30\n",
      "625/625 - 2s - loss: 0.0776 - accuracy: 0.9757 - val_loss: 0.5359 - val_accuracy: 0.8381\n",
      "Epoch 17/30\n",
      "625/625 - 2s - loss: 0.0715 - accuracy: 0.9769 - val_loss: 0.5727 - val_accuracy: 0.8359\n",
      "Epoch 18/30\n",
      "625/625 - 1s - loss: 0.0644 - accuracy: 0.9799 - val_loss: 0.6137 - val_accuracy: 0.8289\n",
      "Epoch 19/30\n",
      "625/625 - 2s - loss: 0.0624 - accuracy: 0.9810 - val_loss: 0.6167 - val_accuracy: 0.8305\n",
      "Epoch 20/30\n",
      "625/625 - 2s - loss: 0.0555 - accuracy: 0.9837 - val_loss: 0.6440 - val_accuracy: 0.8293\n",
      "Epoch 21/30\n",
      "625/625 - 2s - loss: 0.0532 - accuracy: 0.9830 - val_loss: 0.6741 - val_accuracy: 0.8284\n",
      "Epoch 22/30\n",
      "625/625 - 2s - loss: 0.0486 - accuracy: 0.9852 - val_loss: 0.7053 - val_accuracy: 0.8261\n",
      "Epoch 23/30\n",
      "625/625 - 2s - loss: 0.0444 - accuracy: 0.9865 - val_loss: 0.7364 - val_accuracy: 0.8237\n",
      "Epoch 24/30\n",
      "625/625 - 2s - loss: 0.0403 - accuracy: 0.9884 - val_loss: 0.7808 - val_accuracy: 0.8229\n",
      "Epoch 25/30\n",
      "625/625 - 2s - loss: 0.0385 - accuracy: 0.9889 - val_loss: 0.8003 - val_accuracy: 0.8232\n",
      "Epoch 26/30\n",
      "625/625 - 1s - loss: 0.0346 - accuracy: 0.9904 - val_loss: 0.8433 - val_accuracy: 0.8214\n",
      "Epoch 27/30\n",
      "625/625 - 2s - loss: 0.0333 - accuracy: 0.9908 - val_loss: 0.8780 - val_accuracy: 0.8199\n",
      "Epoch 28/30\n",
      "625/625 - 2s - loss: 0.0296 - accuracy: 0.9915 - val_loss: 0.9149 - val_accuracy: 0.8176\n",
      "Epoch 29/30\n",
      "625/625 - 2s - loss: 0.0277 - accuracy: 0.9928 - val_loss: 0.9494 - val_accuracy: 0.8141\n",
      "Epoch 30/30\n",
      "625/625 - 2s - loss: 0.0261 - accuracy: 0.9933 - val_loss: 0.9793 - val_accuracy: 0.8128\n"
     ]
    }
   ],
   "source": [
    "num_epochs = 30\n",
    "history = model.fit(training_padded, training_labels, epochs=num_epochs, validation_data=(testing_padded, testing_labels), verbose=2)"
   ]
  },
  {
   "cell_type": "code",
   "execution_count": 14,
   "metadata": {
    "colab": {
     "base_uri": "https://localhost:8080/",
     "height": 541
    },
    "id": "2HYfBKXjkmU8",
    "outputId": "576fe4b8-428b-45f6-ec99-36cc280e3e1c"
   },
   "outputs": [
    {
     "data": {
      "image/png": "[encoded data removed]",
      "text/plain": [
       "<Figure size 432x288 with 1 Axes>"
      ]
     },
     "metadata": {
      "needs_background": "light"
     },
     "output_type": "display_data"
    },
    {
     "data": {
      "image/png": "[encoded data removed]",
      "text/plain": [
       "<Figure size 432x288 with 1 Axes>"
      ]
     },
     "metadata": {
      "needs_background": "light"
     },
     "output_type": "display_data"
    }
   ],
   "source": [
    "import matplotlib.pyplot as plt\n",
    "\n",
    "\n",
    "def plot_graphs(history, string):\n",
    "  plt.plot(history.history[string])\n",
    "  plt.plot(history.history['val_'+string])\n",
    "  plt.xlabel(\"Epochs\")\n",
    "  plt.ylabel(string)\n",
    "  plt.legend([string, 'val_'+string])\n",
    "  plt.show()\n",
    "  \n",
    "plot_graphs(history, \"accuracy\")\n",
    "plot_graphs(history, \"loss\")"
   ]
  },
  {
   "cell_type": "code",
   "execution_count": 15,
   "metadata": {
    "colab": {
     "base_uri": "https://localhost:8080/"
    },
    "id": "7SBdAZAenvzL",
    "outputId": "6c512557-1de5-4f3e-c2a2-3473f29e1f05"
   },
   "outputs": [
    {
     "name": "stdout",
     "output_type": "stream",
     "text": [
      "former <OOV> store clerk sues over secret 'black <OOV> for minority shoppers ? ? ? ? ? ? ? ? ? ? ? ? ? ? ? ? ? ? ? ? ? ? ? ? ? ? ? ? ? ? ? ? ? ? ? ? ? ? ? ? ? ? ? ? ? ? ? ? ? ? ? ? ? ? ? ? ? ? ? ? ? ? ? ? ? ? ? ? ? ? ? ? ? ? ? ? ? ? ? ? ? ? ? ? ? ? ? ?\n",
      "mom starting to fear son's web series closest thing she will have to grandchild\n",
      "1\n"
     ]
    }
   ],
   "source": [
    "reverse_word_index = dict([(value, key) for (key, value) in word_index.items()])\n",
    "\n",
    "def decode_sentence(text):\n",
    "    return ' '.join([reverse_word_index.get(i, '?') for i in text])\n",
    "\n",
    "print(decode_sentence(training_padded[0]))\n",
    "print(training_sentences[2])\n",
    "print(labels[2])"
   ]
  },
  {
   "cell_type": "code",
   "execution_count": 16,
   "metadata": {
    "colab": {
     "base_uri": "https://localhost:8080/"
    },
    "id": "c9MqihtEkzQ9",
    "outputId": "6a60c6a3-7204-4aa4-c246-f818f3faeb5b"
   },
   "outputs": [
    {
     "name": "stdout",
     "output_type": "stream",
     "text": [
      "(10000, 16)\n"
     ]
    }
   ],
   "source": [
    "e = model.layers[0]\n",
    "weights = e.get_weights()[0]\n",
    "print(weights.shape) # shape: (vocab_size, embedding_dim)\n"
   ]
  },
  {
   "cell_type": "code",
   "execution_count": 17,
   "metadata": {
    "id": "LoBXVffknldU"
   },
   "outputs": [],
   "source": [
    "import io\n",
    "\n",
    "out_v = io.open('vecs.tsv', 'w', encoding='utf-8')\n",
    "out_m = io.open('meta.tsv', 'w', encoding='utf-8')\n",
    "for word_num in range(1, vocab_size):\n",
    "  word = reverse_word_index[word_num]\n",
    "  embeddings = weights[word_num]\n",
    "  out_m.write(word + \"\\n\")\n",
    "  out_v.write('\\t'.join([str(x) for x in embeddings]) + \"\\n\")\n",
    "out_v.close()\n",
    "out_m.close()"
   ]
  },
  {
   "cell_type": "code",
   "execution_count": 18,
   "metadata": {
    "colab": {
     "base_uri": "https://localhost:8080/",
     "height": 17
    },
    "id": "U4eZ5HtVnnEE",
    "outputId": "d0cf0cb1-770f-4710-cd0d-6bca7b6a10bb"
   },
   "outputs": [],
   "source": [
    "try:\n",
    "  from google.colab import files\n",
    "except ImportError:\n",
    "  pass\n",
    "else:\n",
    "  files.download('vecs.tsv')\n",
    "  files.download('meta.tsv')"
   ]
  },
  {
   "cell_type": "code",
   "execution_count": 19,
   "metadata": {
    "colab": {
     "base_uri": "https://localhost:8080/"
    },
    "id": "cG8-ArY-qDcz",
    "outputId": "00a8f4ee-c48d-420d-d877-c53e2613576b"
   },
   "outputs": [
    {
     "name": "stdout",
     "output_type": "stream",
     "text": [
      "[[9.0825713e-01]\n",
      " [1.2505054e-04]]\n"
     ]
    }
   ],
   "source": [
    "sentence = [\"granny starting to fear spiders in the garden might be real\", \"game of thrones season finale showing this sunday night\"]\n",
    "sequences = tokenizer.texts_to_sequences(sentence)\n",
    "padded = pad_sequences(sequences, maxlen=max_length, padding=padding_type, truncating=trunc_type)\n",
    "print(model.predict(padded))"
   ]
  },
  {
   "cell_type": "code",
   "execution_count": null,
   "metadata": {},
   "outputs": [],
   "source": []
  }
 ],
 "metadata": {
  "accelerator": "GPU",
  "colab": {
   "collapsed_sections": [],
   "name": "Course 3 - Week 2 - Lesson 2.ipynb",
   "provenance": [],
   "toc_visible": true
  },
  "kernelspec": {
   "display_name": "Python 3",
   "language": "python",
   "name": "python3"
  },
  "language_info": {
   "codemirror_mode": {
    "name": "ipython",
    "version": 3
   },
   "file_extension": ".py",
   "mimetype": "text/x-python",
   "name": "python",
   "nbconvert_exporter": "python",
   "pygments_lexer": "ipython3",
   "version": "3.8.5"
  }
 },
 "nbformat": 4,
 "nbformat_minor": 1
}
