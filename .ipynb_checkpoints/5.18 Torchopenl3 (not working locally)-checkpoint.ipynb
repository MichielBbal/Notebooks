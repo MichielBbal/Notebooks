{
 "cells": [
  {
   "cell_type": "code",
   "execution_count": 1,
   "metadata": {
    "colab": {
     "base_uri": "https://localhost:8080/"
    },
    "id": "HtzMu9s26RWO",
    "outputId": "4f145efd-c600-4f6e-f973-451b94e58da7"
   },
   "outputs": [
    {
     "name": "stdout",
     "output_type": "stream",
     "text": [
      "Collecting torchopenl3\n",
      "  Downloading torchopenl3-1.0.1-py2.py3-none-any.whl (18 kB)\n",
      "Collecting julius>=0.2.5\n",
      "  Downloading julius-0.2.7.tar.gz (59 kB)\n",
      "\u001b[K     |████████████████████████████████| 59 kB 2.2 MB/s eta 0:00:01\n",
      "\u001b[?25hRequirement already satisfied: scipy>=0.19.1 in /Users/michielbontenbal/opt/anaconda3/lib/python3.9/site-packages (from torchopenl3) (1.7.3)\n",
      "Requirement already satisfied: resampy<0.3.0,>=0.2.1 in /Users/michielbontenbal/opt/anaconda3/lib/python3.9/site-packages (from torchopenl3) (0.2.2)\n",
      "Requirement already satisfied: soundfile in /Users/michielbontenbal/opt/anaconda3/lib/python3.9/site-packages (from torchopenl3) (0.10.3.post1)\n",
      "Requirement already satisfied: librosa in /Users/michielbontenbal/opt/anaconda3/lib/python3.9/site-packages (from torchopenl3) (0.9.2)\n",
      "Collecting nnAudio>=0.2.4\n",
      "  Downloading nnAudio-0.3.2-py3-none-any.whl (43 kB)\n",
      "\u001b[K     |████████████████████████████████| 43 kB 2.2 MB/s eta 0:00:011\n",
      "\u001b[?25hRequirement already satisfied: torch>=1.4.0 in /Users/michielbontenbal/opt/anaconda3/lib/python3.9/site-packages (from torchopenl3) (1.12.1)\n",
      "Requirement already satisfied: numpy>=1.13.0 in /Users/michielbontenbal/opt/anaconda3/lib/python3.9/site-packages (from torchopenl3) (1.21.5)\n",
      "Requirement already satisfied: six>=1.3 in /Users/michielbontenbal/opt/anaconda3/lib/python3.9/site-packages (from resampy<0.3.0,>=0.2.1->torchopenl3) (1.16.0)\n",
      "Requirement already satisfied: numba>=0.32 in /Users/michielbontenbal/opt/anaconda3/lib/python3.9/site-packages (from resampy<0.3.0,>=0.2.1->torchopenl3) (0.55.1)\n",
      "Requirement already satisfied: setuptools in /Users/michielbontenbal/opt/anaconda3/lib/python3.9/site-packages (from numba>=0.32->resampy<0.3.0,>=0.2.1->torchopenl3) (61.2.0)\n",
      "Requirement already satisfied: llvmlite<0.39,>=0.38.0rc1 in /Users/michielbontenbal/opt/anaconda3/lib/python3.9/site-packages (from numba>=0.32->resampy<0.3.0,>=0.2.1->torchopenl3) (0.38.0)\n",
      "Requirement already satisfied: typing-extensions in /Users/michielbontenbal/opt/anaconda3/lib/python3.9/site-packages (from torch>=1.4.0->torchopenl3) (4.1.1)\n",
      "Requirement already satisfied: pooch>=1.0 in /Users/michielbontenbal/opt/anaconda3/lib/python3.9/site-packages (from librosa->torchopenl3) (1.6.0)\n",
      "Requirement already satisfied: scikit-learn>=0.19.1 in /Users/michielbontenbal/opt/anaconda3/lib/python3.9/site-packages (from librosa->torchopenl3) (1.0.2)\n",
      "Requirement already satisfied: decorator>=4.0.10 in /Users/michielbontenbal/opt/anaconda3/lib/python3.9/site-packages (from librosa->torchopenl3) (4.4.2)\n",
      "Requirement already satisfied: packaging>=20.0 in /Users/michielbontenbal/opt/anaconda3/lib/python3.9/site-packages (from librosa->torchopenl3) (21.3)\n",
      "Requirement already satisfied: joblib>=0.14 in /Users/michielbontenbal/opt/anaconda3/lib/python3.9/site-packages (from librosa->torchopenl3) (1.1.0)\n",
      "Requirement already satisfied: audioread>=2.1.9 in /Users/michielbontenbal/opt/anaconda3/lib/python3.9/site-packages (from librosa->torchopenl3) (3.0.0)\n",
      "Requirement already satisfied: pyparsing!=3.0.5,>=2.0.2 in /Users/michielbontenbal/opt/anaconda3/lib/python3.9/site-packages (from packaging>=20.0->librosa->torchopenl3) (3.0.4)\n",
      "Requirement already satisfied: appdirs>=1.3.0 in /Users/michielbontenbal/opt/anaconda3/lib/python3.9/site-packages (from pooch>=1.0->librosa->torchopenl3) (1.4.4)\n",
      "Requirement already satisfied: requests>=2.19.0 in /Users/michielbontenbal/opt/anaconda3/lib/python3.9/site-packages (from pooch>=1.0->librosa->torchopenl3) (2.28.1)\n",
      "Requirement already satisfied: idna<4,>=2.5 in /Users/michielbontenbal/opt/anaconda3/lib/python3.9/site-packages (from requests>=2.19.0->pooch>=1.0->librosa->torchopenl3) (3.3)\n",
      "Requirement already satisfied: certifi>=2017.4.17 in /Users/michielbontenbal/opt/anaconda3/lib/python3.9/site-packages (from requests>=2.19.0->pooch>=1.0->librosa->torchopenl3) (2021.10.8)\n",
      "Requirement already satisfied: charset-normalizer<3,>=2 in /Users/michielbontenbal/opt/anaconda3/lib/python3.9/site-packages (from requests>=2.19.0->pooch>=1.0->librosa->torchopenl3) (2.0.4)\n",
      "Requirement already satisfied: urllib3<1.27,>=1.21.1 in /Users/michielbontenbal/opt/anaconda3/lib/python3.9/site-packages (from requests>=2.19.0->pooch>=1.0->librosa->torchopenl3) (1.26.9)\n",
      "Requirement already satisfied: threadpoolctl>=2.0.0 in /Users/michielbontenbal/opt/anaconda3/lib/python3.9/site-packages (from scikit-learn>=0.19.1->librosa->torchopenl3) (2.2.0)\n",
      "Requirement already satisfied: cffi>=1.0 in /Users/michielbontenbal/opt/anaconda3/lib/python3.9/site-packages (from soundfile->torchopenl3) (1.15.0)\n",
      "Requirement already satisfied: pycparser in /Users/michielbontenbal/opt/anaconda3/lib/python3.9/site-packages (from cffi>=1.0->soundfile->torchopenl3) (2.21)\n",
      "Building wheels for collected packages: julius\n",
      "  Building wheel for julius (setup.py) ... \u001b[?25ldone\n",
      "\u001b[?25h  Created wheel for julius: filename=julius-0.2.7-py3-none-any.whl size=21894 sha256=2518707969011a55a606c114e2c5cd744e2ed3b921d5eb61ad99a971de7edef5\n",
      "  Stored in directory: /Users/michielbontenbal/Library/Caches/pip/wheels/53/0a/a7/fc08f97438f4969d86afa7904336c2eb7eb422101359f3ad11\n",
      "Successfully built julius\n",
      "Installing collected packages: nnAudio, julius, torchopenl3\n",
      "Successfully installed julius-0.2.7 nnAudio-0.3.2 torchopenl3-1.0.1\n"
     ]
    }
   ],
   "source": [
    "!pip install torchopenl3"
   ]
  },
  {
   "cell_type": "code",
   "execution_count": null,
   "metadata": {
    "id": "ED7Gr-GB66jK"
   },
   "outputs": [],
   "source": [
    "import requests\n",
    "import soundfile as sf\n",
    "import torchopenl3"
   ]
  },
  {
   "cell_type": "code",
   "execution_count": 1,
   "metadata": {
    "colab": {
     "base_uri": "https://localhost:8080/"
    },
    "id": "iaqA9K5y7jnD",
    "outputId": "21c0e7e3-7e85-4e30-b0c4-962373743c10"
   },
   "outputs": [
    {
     "ename": "NameError",
     "evalue": "name 'requests' is not defined",
     "output_type": "error",
     "traceback": [
      "\u001b[0;31m---------------------------------------------------------------------------\u001b[0m",
      "\u001b[0;31mNameError\u001b[0m                                 Traceback (most recent call last)",
      "Input \u001b[0;32mIn [1]\u001b[0m, in \u001b[0;36m<cell line: 3>\u001b[0;34m()\u001b[0m\n\u001b[1;32m      1\u001b[0m url \u001b[38;5;241m=\u001b[39m \u001b[38;5;124m'\u001b[39m\u001b[38;5;124mhttps://raw.githubusercontent.com/marl/openl3/master/tests/data/audio/chirp_44k.wav\u001b[39m\u001b[38;5;124m'\u001b[39m\n\u001b[1;32m      2\u001b[0m filename \u001b[38;5;241m=\u001b[39m \u001b[38;5;124m'\u001b[39m\u001b[38;5;124mSample_audio.wav\u001b[39m\u001b[38;5;124m'\u001b[39m\n\u001b[0;32m----> 3\u001b[0m r \u001b[38;5;241m=\u001b[39m \u001b[43mrequests\u001b[49m\u001b[38;5;241m.\u001b[39mget(url, allow_redirects\u001b[38;5;241m=\u001b[39m\u001b[38;5;28;01mTrue\u001b[39;00m)\n\u001b[1;32m      4\u001b[0m \u001b[38;5;28mopen\u001b[39m(filename, \u001b[38;5;124m\"\u001b[39m\u001b[38;5;124mwb\u001b[39m\u001b[38;5;124m\"\u001b[39m)\u001b[38;5;241m.\u001b[39mwrite(r\u001b[38;5;241m.\u001b[39mcontent)\n",
      "\u001b[0;31mNameError\u001b[0m: name 'requests' is not defined"
     ]
    }
   ],
   "source": [
    "url = 'https://raw.githubusercontent.com/marl/openl3/master/tests/data/audio/chirp_44k.wav'\n",
    "filename = 'Sample_audio.wav'\n",
    "r = requests.get(url, allow_redirects=True)\n",
    "open(filename, \"wb\").write(r.content)"
   ]
  },
  {
   "cell_type": "code",
   "execution_count": 4,
   "metadata": {
    "colab": {
     "base_uri": "https://localhost:8080/"
    },
    "id": "e3lXjNDX6_wq",
    "outputId": "abcbdfe0-4ea1-4eeb-9aa1-61b7bab8c151"
   },
   "outputs": [
    {
     "name": "stdout",
     "output_type": "stream",
     "text": [
      "Audi Shape(88200,)\n",
      "Sample Rate 44100\n"
     ]
    }
   ],
   "source": [
    "audio,sr = sf.read('Sample_audio.wav')\n",
    "print(f\"Audi Shape{audio.shape}\")\n",
    "print(f\"Sample Rate {sr}\")"
   ]
  },
  {
   "cell_type": "code",
   "execution_count": 5,
   "metadata": {
    "colab": {
     "base_uri": "https://localhost:8080/",
     "height": 138,
     "referenced_widgets": [
      "a3084bbdeda64cf9be19164bd83e66c4",
      "09d6b210ddac4347b2fbad6ca5724b74",
      "226d991b5c4342b0836c0222bbb8cead",
      "bc0092bdc3c647cabf2f4669ba49977e",
      "b80a630adb0c463eb8a6feb8afb8cbfe",
      "35928a1bd6504a79994ae2b2bf1cd747",
      "2f76e7aaea4a4da89a6482d3b26fae26",
      "0b113ad2d62d4b129f56767189944b08",
      "9c799c011d484399ba06f9781100eda0",
      "7686fa8e634e44548561d8f0e181a09d",
      "825763d185624a4cb7fe7249ac87927d"
     ]
    },
    "id": "7FaSwav_7Q5x",
    "outputId": "39b2c6e2-75b1-4a3f-dac3-15ba7e036c42"
   },
   "outputs": [
    {
     "name": "stderr",
     "output_type": "stream",
     "text": [
      "C:\\Users\\Michiel\\AppData\\Roaming\\Python\\Python39\\site-packages\\librosa\\util\\decorators.py:88: UserWarning: Empty filters detected in mel frequency basis. Some channels will produce empty responses. Try increasing your sampling rate (and fmax) or reducing n_mels.\n",
      "  return f(*args, **kwargs)\n",
      "Downloading: \"https://github.com/torchopenl3/torchopenl3-models/raw/master/torchopenl3_mel256_music_6144.pth.tar\" to C:\\Users\\Michiel/.cache\\torch\\hub\\checkpoints\\torchopenl3_mel256_music_6144.pth.tar\n"
     ]
    },
    {
     "data": {
      "application/vnd.jupyter.widget-view+json": {
       "model_id": "d125cd2d25d7491db5d8eed3dae989c9",
       "version_major": 2,
       "version_minor": 0
      },
      "text/plain": [
       "  0%|          | 0.00/34.9M [00:00<?, ?B/s]"
      ]
     },
     "metadata": {},
     "output_type": "display_data"
    },
    {
     "name": "stderr",
     "output_type": "stream",
     "text": [
      "WARNING:root:To get accurate results we have to move the data the CPU to use resampy\n"
     ]
    }
   ],
   "source": [
    "emb, ts = torchopenl3.get_audio_embedding(audio, sr)"
   ]
  },
  {
   "cell_type": "code",
   "execution_count": 6,
   "metadata": {
    "colab": {
     "base_uri": "https://localhost:8080/"
    },
    "id": "-Zjw8oAv8LRu",
    "outputId": "ab669ae3-c670-465c-fa8d-99015e6108ab"
   },
   "outputs": [
    {
     "name": "stdout",
     "output_type": "stream",
     "text": [
      "Embedding Shape torch.Size([1, 16, 6144])\n",
      "TimeStamps Shape torch.Size([1, 16])\n"
     ]
    }
   ],
   "source": [
    "print(f\"Embedding Shape {emb.shape}\")\n",
    "print(f\"TimeStamps Shape {ts.shape}\")"
   ]
  },
  {
   "cell_type": "markdown",
   "metadata": {
    "id": "J8aDY7MR8mf-"
   },
   "source": [
    "The following code computes an embedding using a model trained on environmental videos using a spectrogram with a linear frequency axis and an embedding dimensionality of 512:"
   ]
  },
  {
   "cell_type": "code",
   "execution_count": null,
   "metadata": {
    "colab": {
     "base_uri": "https://localhost:8080/",
     "height": 138,
     "referenced_widgets": [
      "465957960fe548e181100135b8bb2ad0",
      "6b9b5cae61734e2fa53502369458e4aa",
      "0ea0d5a5436b49088920ac68eff094ab",
      "c76bd7c532d742f587d77c5f362dba79",
      "42e427d4fe5d49b184c37bbb8cead251",
      "89e3d1c1fa794b4bbdf0240e654ae56b",
      "6be2dbb5d4c84ad794a38b77d6abeff2",
      "df0dc642a9bb4fe8adcedd49e6169e00",
      "9980a23709744fb78ef2ac73f686cd75",
      "05c97b70508c4536b2cda8c3ad14be9c",
      "8325748eb17b4216b77431965b1be88e"
     ]
    },
    "id": "S4PM6gnF8ZAm",
    "outputId": "5caf735b-f8ee-45d3-b1b8-8c8e23656dea"
   },
   "outputs": [
    {
     "name": "stderr",
     "output_type": "stream",
     "text": [
      "Downloading: \"https://github.com/torchopenl3/torchopenl3-models/raw/master/torchopenl3_linear_env_512.pth.tar\" to C:\\Users\\Michiel/.cache\\torch\\hub\\checkpoints\\torchopenl3_linear_env_512.pth.tar\n"
     ]
    },
    {
     "data": {
      "application/vnd.jupyter.widget-view+json": {
       "model_id": "a4b8f043339f4b4592efab40c5077dc7",
       "version_major": 2,
       "version_minor": 0
      },
      "text/plain": [
       "  0%|          | 0.00/18.9M [00:00<?, ?B/s]"
      ]
     },
     "metadata": {},
     "output_type": "display_data"
    },
    {
     "name": "stderr",
     "output_type": "stream",
     "text": [
      "WARNING:root:To get accurate results we have to move the data the CPU to use resampy\n"
     ]
    }
   ],
   "source": [
    "emb, ts = torchopenl3.get_audio_embedding(audio, sr, content_type=\"env\",\n",
    "                               input_repr=\"linear\", embedding_size=512)\n",
    "\n",
    "print(f\"Embedding Shape {emb.shape}\")\n",
    "print(f\"TimeStamps Shape {ts.shape}\")"
   ]
  },
  {
   "cell_type": "markdown",
   "metadata": {
    "id": "fgqEofKf8zgG"
   },
   "source": [
    "By default TorchOpenL3 will pad the beginning of the input audio signal by 0.5 seconds (half of the window size) so that the the center of the first window corresponds to the beginning of the signal (“zero centered”), and the returned timestamps correspond to the center of each window. You can disable this centering like this:"
   ]
  },
  {
   "cell_type": "code",
   "execution_count": null,
   "metadata": {
    "colab": {
     "base_uri": "https://localhost:8080/"
    },
    "id": "ONnN6hS58rth",
    "outputId": "b1fe5872-981a-469e-f6cd-3b5ec5fc6d65"
   },
   "outputs": [
    {
     "name": "stderr",
     "output_type": "stream",
     "text": [
      "/usr/local/lib/python3.7/dist-packages/librosa/filters.py:239: UserWarning: Empty filters detected in mel frequency basis. Some channels will produce empty responses. Try increasing your sampling rate (and fmax) or reducing n_mels.\n",
      "  \"Empty filters detected in mel frequency basis. \"\n",
      "WARNING:root:To get accurate results we have to move the data the CPU to use resampy\n"
     ]
    },
    {
     "name": "stdout",
     "output_type": "stream",
     "text": [
      "Embedding Shape torch.Size([1, 11, 6144])\n",
      "TimeStamps Shape torch.Size([1, 11])\n"
     ]
    }
   ],
   "source": [
    "emb, ts = torchopenl3.get_audio_embedding(audio, sr, center=False)\n",
    "print(f\"Embedding Shape {emb.shape}\")\n",
    "print(f\"TimeStamps Shape {ts.shape}\")"
   ]
  },
  {
   "cell_type": "markdown",
   "metadata": {
    "id": "_NKMIlJs9B1q"
   },
   "source": [
    "**The hop size used to extract the embedding is 0.1 seconds by default (i.e. an embedding frame rate of 10 Hz). In the following example we change the hop size from 0.1 (10 frames per second) to 0.5 (2 frames per second):**"
   ]
  },
  {
   "cell_type": "code",
   "execution_count": null,
   "metadata": {
    "colab": {
     "base_uri": "https://localhost:8080/"
    },
    "id": "913gm1pf82Ne",
    "outputId": "76436ad9-b606-459e-f84d-485d82a7f11b"
   },
   "outputs": [
    {
     "name": "stderr",
     "output_type": "stream",
     "text": [
      "/usr/local/lib/python3.7/dist-packages/librosa/filters.py:239: UserWarning: Empty filters detected in mel frequency basis. Some channels will produce empty responses. Try increasing your sampling rate (and fmax) or reducing n_mels.\n",
      "  \"Empty filters detected in mel frequency basis. \"\n",
      "WARNING:root:To get accurate results we have to move the data the CPU to use resampy\n"
     ]
    },
    {
     "name": "stdout",
     "output_type": "stream",
     "text": [
      "Embedding Shape torch.Size([1, 4, 6144])\n",
      "TimeStamps Shape torch.Size([1, 4])\n"
     ]
    }
   ],
   "source": [
    "emb, ts = torchopenl3.get_audio_embedding(audio, sr, hop_size=0.5)\n",
    "print(f\"Embedding Shape {emb.shape}\")\n",
    "print(f\"TimeStamps Shape {ts.shape}\")"
   ]
  },
  {
   "cell_type": "markdown",
   "metadata": {
    "id": "3Eb9V-P99VeV"
   },
   "source": [
    "By default, the model file is loaded from disk every time get_audio_embedding is called. To avoid unnecessary I/O when processing multiple files with the same model, you can load it manually and pass it to the function via the model parameter:"
   ]
  },
  {
   "cell_type": "code",
   "execution_count": 8,
   "metadata": {
    "colab": {
     "base_uri": "https://localhost:8080/",
     "height": 173,
     "referenced_widgets": [
      "4c4b8cfbdfc9401a8e347c09418c5d1e",
      "0650c80c90a14a728019f9ad869f55a5",
      "7fadece8bba342a78643e12468ef5bff",
      "b2567d9eeb1c4c53b859e14483d56f65",
      "c7ba838ef59d4809aaa7d0044036dba4",
      "478d0025d64c4f49bfa8a6f2f29c6128",
      "42eb4ab1572e4d73ac0628e40eb1cbff",
      "baf9822b57b04e7da944571b445549a5",
      "5085b7e0087145cfbf996ce139f13906",
      "52ff032c63aa492189a3f2f2b451cc10",
      "1cc35d3c34d542029240e8d97309055a"
     ]
    },
    "id": "-rj4T2dr9JC6",
    "outputId": "fe969dd7-78fa-43b9-c6bd-56e00bc1ad8e"
   },
   "outputs": [
    {
     "name": "stderr",
     "output_type": "stream",
     "text": [
      "/usr/local/lib/python3.7/dist-packages/librosa/filters.py:239: UserWarning: Empty filters detected in mel frequency basis. Some channels will produce empty responses. Try increasing your sampling rate (and fmax) or reducing n_mels.\n",
      "  \"Empty filters detected in mel frequency basis. \"\n",
      "Downloading: \"https://github.com/torchopenl3/torchopenl3-models/raw/master/torchopenl3_mel256_music_512.pth.tar\" to /root/.cache/torch/hub/checkpoints/torchopenl3_mel256_music_512.pth.tar\n"
     ]
    },
    {
     "data": {
      "application/vnd.jupyter.widget-view+json": {
       "model_id": "4c4b8cfbdfc9401a8e347c09418c5d1e",
       "version_major": 2,
       "version_minor": 0
      },
      "text/plain": [
       "  0%|          | 0.00/34.9M [00:00<?, ?B/s]"
      ]
     },
     "metadata": {},
     "output_type": "display_data"
    },
    {
     "name": "stderr",
     "output_type": "stream",
     "text": [
      "WARNING:root:To get accurate results we have to move the data the CPU to use resampy\n"
     ]
    },
    {
     "name": "stdout",
     "output_type": "stream",
     "text": [
      "Embedding Shape torch.Size([1, 16, 512])\n",
      "TimeStamps Shape torch.Size([1, 16])\n"
     ]
    }
   ],
   "source": [
    "model = torchopenl3.models.load_audio_embedding_model(input_repr=\"mel256\", content_type=\"music\",\n",
    "                                                 embedding_size=512)\n",
    "emb, ts = torchopenl3.get_audio_embedding(audio, sr, model=model)\n",
    "print(f\"Embedding Shape {emb.shape}\")\n",
    "print(f\"TimeStamps Shape {ts.shape}\")"
   ]
  },
  {
   "cell_type": "code",
   "execution_count": null,
   "metadata": {
    "id": "NB78NknA9Sxe"
   },
   "outputs": [],
   "source": []
  }
 ],
 "metadata": {
  "colab": {
   "collapsed_sections": [],
   "name": "Torchopenl3.ipynb",
   "provenance": []
  },
  "kernelspec": {
   "display_name": "Python 3 (ipykernel)",
   "language": "python",
   "name": "python3"
  },
  "language_info": {
   "codemirror_mode": {
    "name": "ipython",
    "version": 3
   },
   "file_extension": ".py",
   "mimetype": "text/x-python",
   "name": "python",
   "nbconvert_exporter": "python",
   "pygments_lexer": "ipython3",
   "version": "3.9.12"
  },
  "widgets": {
   "application/vnd.jupyter.widget-state+json": {
    "05c97b70508c4536b2cda8c3ad14be9c": {
     "model_module": "@jupyter-widgets/base",
     "model_module_version": "1.2.0",
     "model_name": "LayoutModel",
     "state": {
      "_model_module": "@jupyter-widgets/base",
      "_model_module_version": "1.2.0",
      "_model_name": "LayoutModel",
      "_view_count": null,
      "_view_module": "@jupyter-widgets/base",
      "_view_module_version": "1.2.0",
      "_view_name": "LayoutView",
      "align_content": null,
      "align_items": null,
      "align_self": null,
      "border": null,
      "bottom": null,
      "display": null,
      "flex": null,
      "flex_flow": null,
      "grid_area": null,
      "grid_auto_columns": null,
      "grid_auto_flow": null,
      "grid_auto_rows": null,
      "grid_column": null,
      "grid_gap": null,
      "grid_row": null,
      "grid_template_areas": null,
      "grid_template_columns": null,
      "grid_template_rows": null,
      "height": null,
      "justify_content": null,
      "justify_items": null,
      "left": null,
      "margin": null,
      "max_height": null,
      "max_width": null,
      "min_height": null,
      "min_width": null,
      "object_fit": null,
      "object_position": null,
      "order": null,
      "overflow": null,
      "overflow_x": null,
      "overflow_y": null,
      "padding": null,
      "right": null,
      "top": null,
      "visibility": null,
      "width": null
     }
    },
    "0650c80c90a14a728019f9ad869f55a5": {
     "model_module": "@jupyter-widgets/controls",
     "model_module_version": "1.5.0",
     "model_name": "HTMLModel",
     "state": {
      "_dom_classes": [],
      "_model_module": "@jupyter-widgets/controls",
      "_model_module_version": "1.5.0",
      "_model_name": "HTMLModel",
      "_view_count": null,
      "_view_module": "@jupyter-widgets/controls",
      "_view_module_version": "1.5.0",
      "_view_name": "HTMLView",
      "description": "",
      "description_tooltip": null,
      "layout": "IPY_MODEL_478d0025d64c4f49bfa8a6f2f29c6128",
      "placeholder": "​",
      "style": "IPY_MODEL_42eb4ab1572e4d73ac0628e40eb1cbff",
      "value": "100%"
     }
    },
    "09d6b210ddac4347b2fbad6ca5724b74": {
     "model_module": "@jupyter-widgets/controls",
     "model_module_version": "1.5.0",
     "model_name": "HTMLModel",
     "state": {
      "_dom_classes": [],
      "_model_module": "@jupyter-widgets/controls",
      "_model_module_version": "1.5.0",
      "_model_name": "HTMLModel",
      "_view_count": null,
      "_view_module": "@jupyter-widgets/controls",
      "_view_module_version": "1.5.0",
      "_view_name": "HTMLView",
      "description": "",
      "description_tooltip": null,
      "layout": "IPY_MODEL_35928a1bd6504a79994ae2b2bf1cd747",
      "placeholder": "​",
      "style": "IPY_MODEL_2f76e7aaea4a4da89a6482d3b26fae26",
      "value": "100%"
     }
    },
    "0b113ad2d62d4b129f56767189944b08": {
     "model_module": "@jupyter-widgets/base",
     "model_module_version": "1.2.0",
     "model_name": "LayoutModel",
     "state": {
      "_model_module": "@jupyter-widgets/base",
      "_model_module_version": "1.2.0",
      "_model_name": "LayoutModel",
      "_view_count": null,
      "_view_module": "@jupyter-widgets/base",
      "_view_module_version": "1.2.0",
      "_view_name": "LayoutView",
      "align_content": null,
      "align_items": null,
      "align_self": null,
      "border": null,
      "bottom": null,
      "display": null,
      "flex": null,
      "flex_flow": null,
      "grid_area": null,
      "grid_auto_columns": null,
      "grid_auto_flow": null,
      "grid_auto_rows": null,
      "grid_column": null,
      "grid_gap": null,
      "grid_row": null,
      "grid_template_areas": null,
      "grid_template_columns": null,
      "grid_template_rows": null,
      "height": null,
      "justify_content": null,
      "justify_items": null,
      "left": null,
      "margin": null,
      "max_height": null,
      "max_width": null,
      "min_height": null,
      "min_width": null,
      "object_fit": null,
      "object_position": null,
      "order": null,
      "overflow": null,
      "overflow_x": null,
      "overflow_y": null,
      "padding": null,
      "right": null,
      "top": null,
      "visibility": null,
      "width": null
     }
    },
    "0ea0d5a5436b49088920ac68eff094ab": {
     "model_module": "@jupyter-widgets/controls",
     "model_module_version": "1.5.0",
     "model_name": "FloatProgressModel",
     "state": {
      "_dom_classes": [],
      "_model_module": "@jupyter-widgets/controls",
      "_model_module_version": "1.5.0",
      "_model_name": "FloatProgressModel",
      "_view_count": null,
      "_view_module": "@jupyter-widgets/controls",
      "_view_module_version": "1.5.0",
      "_view_name": "ProgressView",
      "bar_style": "success",
      "description": "",
      "description_tooltip": null,
      "layout": "IPY_MODEL_df0dc642a9bb4fe8adcedd49e6169e00",
      "max": 19831353,
      "min": 0,
      "orientation": "horizontal",
      "style": "IPY_MODEL_9980a23709744fb78ef2ac73f686cd75",
      "value": 19831353
     }
    },
    "1cc35d3c34d542029240e8d97309055a": {
     "model_module": "@jupyter-widgets/controls",
     "model_module_version": "1.5.0",
     "model_name": "DescriptionStyleModel",
     "state": {
      "_model_module": "@jupyter-widgets/controls",
      "_model_module_version": "1.5.0",
      "_model_name": "DescriptionStyleModel",
      "_view_count": null,
      "_view_module": "@jupyter-widgets/base",
      "_view_module_version": "1.2.0",
      "_view_name": "StyleView",
      "description_width": ""
     }
    },
    "226d991b5c4342b0836c0222bbb8cead": {
     "model_module": "@jupyter-widgets/controls",
     "model_module_version": "1.5.0",
     "model_name": "FloatProgressModel",
     "state": {
      "_dom_classes": [],
      "_model_module": "@jupyter-widgets/controls",
      "_model_module_version": "1.5.0",
      "_model_name": "FloatProgressModel",
      "_view_count": null,
      "_view_module": "@jupyter-widgets/controls",
      "_view_module_version": "1.5.0",
      "_view_name": "ProgressView",
      "bar_style": "success",
      "description": "",
      "description_tooltip": null,
      "layout": "IPY_MODEL_0b113ad2d62d4b129f56767189944b08",
      "max": 36622210,
      "min": 0,
      "orientation": "horizontal",
      "style": "IPY_MODEL_9c799c011d484399ba06f9781100eda0",
      "value": 36622210
     }
    },
    "2f76e7aaea4a4da89a6482d3b26fae26": {
     "model_module": "@jupyter-widgets/controls",
     "model_module_version": "1.5.0",
     "model_name": "DescriptionStyleModel",
     "state": {
      "_model_module": "@jupyter-widgets/controls",
      "_model_module_version": "1.5.0",
      "_model_name": "DescriptionStyleModel",
      "_view_count": null,
      "_view_module": "@jupyter-widgets/base",
      "_view_module_version": "1.2.0",
      "_view_name": "StyleView",
      "description_width": ""
     }
    },
    "35928a1bd6504a79994ae2b2bf1cd747": {
     "model_module": "@jupyter-widgets/base",
     "model_module_version": "1.2.0",
     "model_name": "LayoutModel",
     "state": {
      "_model_module": "@jupyter-widgets/base",
      "_model_module_version": "1.2.0",
      "_model_name": "LayoutModel",
      "_view_count": null,
      "_view_module": "@jupyter-widgets/base",
      "_view_module_version": "1.2.0",
      "_view_name": "LayoutView",
      "align_content": null,
      "align_items": null,
      "align_self": null,
      "border": null,
      "bottom": null,
      "display": null,
      "flex": null,
      "flex_flow": null,
      "grid_area": null,
      "grid_auto_columns": null,
      "grid_auto_flow": null,
      "grid_auto_rows": null,
      "grid_column": null,
      "grid_gap": null,
      "grid_row": null,
      "grid_template_areas": null,
      "grid_template_columns": null,
      "grid_template_rows": null,
      "height": null,
      "justify_content": null,
      "justify_items": null,
      "left": null,
      "margin": null,
      "max_height": null,
      "max_width": null,
      "min_height": null,
      "min_width": null,
      "object_fit": null,
      "object_position": null,
      "order": null,
      "overflow": null,
      "overflow_x": null,
      "overflow_y": null,
      "padding": null,
      "right": null,
      "top": null,
      "visibility": null,
      "width": null
     }
    },
    "42e427d4fe5d49b184c37bbb8cead251": {
     "model_module": "@jupyter-widgets/base",
     "model_module_version": "1.2.0",
     "model_name": "LayoutModel",
     "state": {
      "_model_module": "@jupyter-widgets/base",
      "_model_module_version": "1.2.0",
      "_model_name": "LayoutModel",
      "_view_count": null,
      "_view_module": "@jupyter-widgets/base",
      "_view_module_version": "1.2.0",
      "_view_name": "LayoutView",
      "align_content": null,
      "align_items": null,
      "align_self": null,
      "border": null,
      "bottom": null,
      "display": null,
      "flex": null,
      "flex_flow": null,
      "grid_area": null,
      "grid_auto_columns": null,
      "grid_auto_flow": null,
      "grid_auto_rows": null,
      "grid_column": null,
      "grid_gap": null,
      "grid_row": null,
      "grid_template_areas": null,
      "grid_template_columns": null,
      "grid_template_rows": null,
      "height": null,
      "justify_content": null,
      "justify_items": null,
      "left": null,
      "margin": null,
      "max_height": null,
      "max_width": null,
      "min_height": null,
      "min_width": null,
      "object_fit": null,
      "object_position": null,
      "order": null,
      "overflow": null,
      "overflow_x": null,
      "overflow_y": null,
      "padding": null,
      "right": null,
      "top": null,
      "visibility": null,
      "width": null
     }
    },
    "42eb4ab1572e4d73ac0628e40eb1cbff": {
     "model_module": "@jupyter-widgets/controls",
     "model_module_version": "1.5.0",
     "model_name": "DescriptionStyleModel",
     "state": {
      "_model_module": "@jupyter-widgets/controls",
      "_model_module_version": "1.5.0",
      "_model_name": "DescriptionStyleModel",
      "_view_count": null,
      "_view_module": "@jupyter-widgets/base",
      "_view_module_version": "1.2.0",
      "_view_name": "StyleView",
      "description_width": ""
     }
    },
    "465957960fe548e181100135b8bb2ad0": {
     "model_module": "@jupyter-widgets/controls",
     "model_module_version": "1.5.0",
     "model_name": "HBoxModel",
     "state": {
      "_dom_classes": [],
      "_model_module": "@jupyter-widgets/controls",
      "_model_module_version": "1.5.0",
      "_model_name": "HBoxModel",
      "_view_count": null,
      "_view_module": "@jupyter-widgets/controls",
      "_view_module_version": "1.5.0",
      "_view_name": "HBoxView",
      "box_style": "",
      "children": [
       "IPY_MODEL_6b9b5cae61734e2fa53502369458e4aa",
       "IPY_MODEL_0ea0d5a5436b49088920ac68eff094ab",
       "IPY_MODEL_c76bd7c532d742f587d77c5f362dba79"
      ],
      "layout": "IPY_MODEL_42e427d4fe5d49b184c37bbb8cead251"
     }
    },
    "478d0025d64c4f49bfa8a6f2f29c6128": {
     "model_module": "@jupyter-widgets/base",
     "model_module_version": "1.2.0",
     "model_name": "LayoutModel",
     "state": {
      "_model_module": "@jupyter-widgets/base",
      "_model_module_version": "1.2.0",
      "_model_name": "LayoutModel",
      "_view_count": null,
      "_view_module": "@jupyter-widgets/base",
      "_view_module_version": "1.2.0",
      "_view_name": "LayoutView",
      "align_content": null,
      "align_items": null,
      "align_self": null,
      "border": null,
      "bottom": null,
      "display": null,
      "flex": null,
      "flex_flow": null,
      "grid_area": null,
      "grid_auto_columns": null,
      "grid_auto_flow": null,
      "grid_auto_rows": null,
      "grid_column": null,
      "grid_gap": null,
      "grid_row": null,
      "grid_template_areas": null,
      "grid_template_columns": null,
      "grid_template_rows": null,
      "height": null,
      "justify_content": null,
      "justify_items": null,
      "left": null,
      "margin": null,
      "max_height": null,
      "max_width": null,
      "min_height": null,
      "min_width": null,
      "object_fit": null,
      "object_position": null,
      "order": null,
      "overflow": null,
      "overflow_x": null,
      "overflow_y": null,
      "padding": null,
      "right": null,
      "top": null,
      "visibility": null,
      "width": null
     }
    },
    "4c4b8cfbdfc9401a8e347c09418c5d1e": {
     "model_module": "@jupyter-widgets/controls",
     "model_module_version": "1.5.0",
     "model_name": "HBoxModel",
     "state": {
      "_dom_classes": [],
      "_model_module": "@jupyter-widgets/controls",
      "_model_module_version": "1.5.0",
      "_model_name": "HBoxModel",
      "_view_count": null,
      "_view_module": "@jupyter-widgets/controls",
      "_view_module_version": "1.5.0",
      "_view_name": "HBoxView",
      "box_style": "",
      "children": [
       "IPY_MODEL_0650c80c90a14a728019f9ad869f55a5",
       "IPY_MODEL_7fadece8bba342a78643e12468ef5bff",
       "IPY_MODEL_b2567d9eeb1c4c53b859e14483d56f65"
      ],
      "layout": "IPY_MODEL_c7ba838ef59d4809aaa7d0044036dba4"
     }
    },
    "5085b7e0087145cfbf996ce139f13906": {
     "model_module": "@jupyter-widgets/controls",
     "model_module_version": "1.5.0",
     "model_name": "ProgressStyleModel",
     "state": {
      "_model_module": "@jupyter-widgets/controls",
      "_model_module_version": "1.5.0",
      "_model_name": "ProgressStyleModel",
      "_view_count": null,
      "_view_module": "@jupyter-widgets/base",
      "_view_module_version": "1.2.0",
      "_view_name": "StyleView",
      "bar_color": null,
      "description_width": ""
     }
    },
    "52ff032c63aa492189a3f2f2b451cc10": {
     "model_module": "@jupyter-widgets/base",
     "model_module_version": "1.2.0",
     "model_name": "LayoutModel",
     "state": {
      "_model_module": "@jupyter-widgets/base",
      "_model_module_version": "1.2.0",
      "_model_name": "LayoutModel",
      "_view_count": null,
      "_view_module": "@jupyter-widgets/base",
      "_view_module_version": "1.2.0",
      "_view_name": "LayoutView",
      "align_content": null,
      "align_items": null,
      "align_self": null,
      "border": null,
      "bottom": null,
      "display": null,
      "flex": null,
      "flex_flow": null,
      "grid_area": null,
      "grid_auto_columns": null,
      "grid_auto_flow": null,
      "grid_auto_rows": null,
      "grid_column": null,
      "grid_gap": null,
      "grid_row": null,
      "grid_template_areas": null,
      "grid_template_columns": null,
      "grid_template_rows": null,
      "height": null,
      "justify_content": null,
      "justify_items": null,
      "left": null,
      "margin": null,
      "max_height": null,
      "max_width": null,
      "min_height": null,
      "min_width": null,
      "object_fit": null,
      "object_position": null,
      "order": null,
      "overflow": null,
      "overflow_x": null,
      "overflow_y": null,
      "padding": null,
      "right": null,
      "top": null,
      "visibility": null,
      "width": null
     }
    },
    "6b9b5cae61734e2fa53502369458e4aa": {
     "model_module": "@jupyter-widgets/controls",
     "model_module_version": "1.5.0",
     "model_name": "HTMLModel",
     "state": {
      "_dom_classes": [],
      "_model_module": "@jupyter-widgets/controls",
      "_model_module_version": "1.5.0",
      "_model_name": "HTMLModel",
      "_view_count": null,
      "_view_module": "@jupyter-widgets/controls",
      "_view_module_version": "1.5.0",
      "_view_name": "HTMLView",
      "description": "",
      "description_tooltip": null,
      "layout": "IPY_MODEL_89e3d1c1fa794b4bbdf0240e654ae56b",
      "placeholder": "​",
      "style": "IPY_MODEL_6be2dbb5d4c84ad794a38b77d6abeff2",
      "value": "100%"
     }
    },
    "6be2dbb5d4c84ad794a38b77d6abeff2": {
     "model_module": "@jupyter-widgets/controls",
     "model_module_version": "1.5.0",
     "model_name": "DescriptionStyleModel",
     "state": {
      "_model_module": "@jupyter-widgets/controls",
      "_model_module_version": "1.5.0",
      "_model_name": "DescriptionStyleModel",
      "_view_count": null,
      "_view_module": "@jupyter-widgets/base",
      "_view_module_version": "1.2.0",
      "_view_name": "StyleView",
      "description_width": ""
     }
    },
    "7686fa8e634e44548561d8f0e181a09d": {
     "model_module": "@jupyter-widgets/base",
     "model_module_version": "1.2.0",
     "model_name": "LayoutModel",
     "state": {
      "_model_module": "@jupyter-widgets/base",
      "_model_module_version": "1.2.0",
      "_model_name": "LayoutModel",
      "_view_count": null,
      "_view_module": "@jupyter-widgets/base",
      "_view_module_version": "1.2.0",
      "_view_name": "LayoutView",
      "align_content": null,
      "align_items": null,
      "align_self": null,
      "border": null,
      "bottom": null,
      "display": null,
      "flex": null,
      "flex_flow": null,
      "grid_area": null,
      "grid_auto_columns": null,
      "grid_auto_flow": null,
      "grid_auto_rows": null,
      "grid_column": null,
      "grid_gap": null,
      "grid_row": null,
      "grid_template_areas": null,
      "grid_template_columns": null,
      "grid_template_rows": null,
      "height": null,
      "justify_content": null,
      "justify_items": null,
      "left": null,
      "margin": null,
      "max_height": null,
      "max_width": null,
      "min_height": null,
      "min_width": null,
      "object_fit": null,
      "object_position": null,
      "order": null,
      "overflow": null,
      "overflow_x": null,
      "overflow_y": null,
      "padding": null,
      "right": null,
      "top": null,
      "visibility": null,
      "width": null
     }
    },
    "7fadece8bba342a78643e12468ef5bff": {
     "model_module": "@jupyter-widgets/controls",
     "model_module_version": "1.5.0",
     "model_name": "FloatProgressModel",
     "state": {
      "_dom_classes": [],
      "_model_module": "@jupyter-widgets/controls",
      "_model_module_version": "1.5.0",
      "_model_name": "FloatProgressModel",
      "_view_count": null,
      "_view_module": "@jupyter-widgets/controls",
      "_view_module_version": "1.5.0",
      "_view_name": "ProgressView",
      "bar_style": "success",
      "description": "",
      "description_tooltip": null,
      "layout": "IPY_MODEL_baf9822b57b04e7da944571b445549a5",
      "max": 36622210,
      "min": 0,
      "orientation": "horizontal",
      "style": "IPY_MODEL_5085b7e0087145cfbf996ce139f13906",
      "value": 36622210
     }
    },
    "825763d185624a4cb7fe7249ac87927d": {
     "model_module": "@jupyter-widgets/controls",
     "model_module_version": "1.5.0",
     "model_name": "DescriptionStyleModel",
     "state": {
      "_model_module": "@jupyter-widgets/controls",
      "_model_module_version": "1.5.0",
      "_model_name": "DescriptionStyleModel",
      "_view_count": null,
      "_view_module": "@jupyter-widgets/base",
      "_view_module_version": "1.2.0",
      "_view_name": "StyleView",
      "description_width": ""
     }
    },
    "8325748eb17b4216b77431965b1be88e": {
     "model_module": "@jupyter-widgets/controls",
     "model_module_version": "1.5.0",
     "model_name": "DescriptionStyleModel",
     "state": {
      "_model_module": "@jupyter-widgets/controls",
      "_model_module_version": "1.5.0",
      "_model_name": "DescriptionStyleModel",
      "_view_count": null,
      "_view_module": "@jupyter-widgets/base",
      "_view_module_version": "1.2.0",
      "_view_name": "StyleView",
      "description_width": ""
     }
    },
    "89e3d1c1fa794b4bbdf0240e654ae56b": {
     "model_module": "@jupyter-widgets/base",
     "model_module_version": "1.2.0",
     "model_name": "LayoutModel",
     "state": {
      "_model_module": "@jupyter-widgets/base",
      "_model_module_version": "1.2.0",
      "_model_name": "LayoutModel",
      "_view_count": null,
      "_view_module": "@jupyter-widgets/base",
      "_view_module_version": "1.2.0",
      "_view_name": "LayoutView",
      "align_content": null,
      "align_items": null,
      "align_self": null,
      "border": null,
      "bottom": null,
      "display": null,
      "flex": null,
      "flex_flow": null,
      "grid_area": null,
      "grid_auto_columns": null,
      "grid_auto_flow": null,
      "grid_auto_rows": null,
      "grid_column": null,
      "grid_gap": null,
      "grid_row": null,
      "grid_template_areas": null,
      "grid_template_columns": null,
      "grid_template_rows": null,
      "height": null,
      "justify_content": null,
      "justify_items": null,
      "left": null,
      "margin": null,
      "max_height": null,
      "max_width": null,
      "min_height": null,
      "min_width": null,
      "object_fit": null,
      "object_position": null,
      "order": null,
      "overflow": null,
      "overflow_x": null,
      "overflow_y": null,
      "padding": null,
      "right": null,
      "top": null,
      "visibility": null,
      "width": null
     }
    },
    "9980a23709744fb78ef2ac73f686cd75": {
     "model_module": "@jupyter-widgets/controls",
     "model_module_version": "1.5.0",
     "model_name": "ProgressStyleModel",
     "state": {
      "_model_module": "@jupyter-widgets/controls",
      "_model_module_version": "1.5.0",
      "_model_name": "ProgressStyleModel",
      "_view_count": null,
      "_view_module": "@jupyter-widgets/base",
      "_view_module_version": "1.2.0",
      "_view_name": "StyleView",
      "bar_color": null,
      "description_width": ""
     }
    },
    "9c799c011d484399ba06f9781100eda0": {
     "model_module": "@jupyter-widgets/controls",
     "model_module_version": "1.5.0",
     "model_name": "ProgressStyleModel",
     "state": {
      "_model_module": "@jupyter-widgets/controls",
      "_model_module_version": "1.5.0",
      "_model_name": "ProgressStyleModel",
      "_view_count": null,
      "_view_module": "@jupyter-widgets/base",
      "_view_module_version": "1.2.0",
      "_view_name": "StyleView",
      "bar_color": null,
      "description_width": ""
     }
    },
    "a3084bbdeda64cf9be19164bd83e66c4": {
     "model_module": "@jupyter-widgets/controls",
     "model_module_version": "1.5.0",
     "model_name": "HBoxModel",
     "state": {
      "_dom_classes": [],
      "_model_module": "@jupyter-widgets/controls",
      "_model_module_version": "1.5.0",
      "_model_name": "HBoxModel",
      "_view_count": null,
      "_view_module": "@jupyter-widgets/controls",
      "_view_module_version": "1.5.0",
      "_view_name": "HBoxView",
      "box_style": "",
      "children": [
       "IPY_MODEL_09d6b210ddac4347b2fbad6ca5724b74",
       "IPY_MODEL_226d991b5c4342b0836c0222bbb8cead",
       "IPY_MODEL_bc0092bdc3c647cabf2f4669ba49977e"
      ],
      "layout": "IPY_MODEL_b80a630adb0c463eb8a6feb8afb8cbfe"
     }
    },
    "b2567d9eeb1c4c53b859e14483d56f65": {
     "model_module": "@jupyter-widgets/controls",
     "model_module_version": "1.5.0",
     "model_name": "HTMLModel",
     "state": {
      "_dom_classes": [],
      "_model_module": "@jupyter-widgets/controls",
      "_model_module_version": "1.5.0",
      "_model_name": "HTMLModel",
      "_view_count": null,
      "_view_module": "@jupyter-widgets/controls",
      "_view_module_version": "1.5.0",
      "_view_name": "HTMLView",
      "description": "",
      "description_tooltip": null,
      "layout": "IPY_MODEL_52ff032c63aa492189a3f2f2b451cc10",
      "placeholder": "​",
      "style": "IPY_MODEL_1cc35d3c34d542029240e8d97309055a",
      "value": " 34.9M/34.9M [00:00&lt;00:00, 160MB/s]"
     }
    },
    "b80a630adb0c463eb8a6feb8afb8cbfe": {
     "model_module": "@jupyter-widgets/base",
     "model_module_version": "1.2.0",
     "model_name": "LayoutModel",
     "state": {
      "_model_module": "@jupyter-widgets/base",
      "_model_module_version": "1.2.0",
      "_model_name": "LayoutModel",
      "_view_count": null,
      "_view_module": "@jupyter-widgets/base",
      "_view_module_version": "1.2.0",
      "_view_name": "LayoutView",
      "align_content": null,
      "align_items": null,
      "align_self": null,
      "border": null,
      "bottom": null,
      "display": null,
      "flex": null,
      "flex_flow": null,
      "grid_area": null,
      "grid_auto_columns": null,
      "grid_auto_flow": null,
      "grid_auto_rows": null,
      "grid_column": null,
      "grid_gap": null,
      "grid_row": null,
      "grid_template_areas": null,
      "grid_template_columns": null,
      "grid_template_rows": null,
      "height": null,
      "justify_content": null,
      "justify_items": null,
      "left": null,
      "margin": null,
      "max_height": null,
      "max_width": null,
      "min_height": null,
      "min_width": null,
      "object_fit": null,
      "object_position": null,
      "order": null,
      "overflow": null,
      "overflow_x": null,
      "overflow_y": null,
      "padding": null,
      "right": null,
      "top": null,
      "visibility": null,
      "width": null
     }
    },
    "baf9822b57b04e7da944571b445549a5": {
     "model_module": "@jupyter-widgets/base",
     "model_module_version": "1.2.0",
     "model_name": "LayoutModel",
     "state": {
      "_model_module": "@jupyter-widgets/base",
      "_model_module_version": "1.2.0",
      "_model_name": "LayoutModel",
      "_view_count": null,
      "_view_module": "@jupyter-widgets/base",
      "_view_module_version": "1.2.0",
      "_view_name": "LayoutView",
      "align_content": null,
      "align_items": null,
      "align_self": null,
      "border": null,
      "bottom": null,
      "display": null,
      "flex": null,
      "flex_flow": null,
      "grid_area": null,
      "grid_auto_columns": null,
      "grid_auto_flow": null,
      "grid_auto_rows": null,
      "grid_column": null,
      "grid_gap": null,
      "grid_row": null,
      "grid_template_areas": null,
      "grid_template_columns": null,
      "grid_template_rows": null,
      "height": null,
      "justify_content": null,
      "justify_items": null,
      "left": null,
      "margin": null,
      "max_height": null,
      "max_width": null,
      "min_height": null,
      "min_width": null,
      "object_fit": null,
      "object_position": null,
      "order": null,
      "overflow": null,
      "overflow_x": null,
      "overflow_y": null,
      "padding": null,
      "right": null,
      "top": null,
      "visibility": null,
      "width": null
     }
    },
    "bc0092bdc3c647cabf2f4669ba49977e": {
     "model_module": "@jupyter-widgets/controls",
     "model_module_version": "1.5.0",
     "model_name": "HTMLModel",
     "state": {
      "_dom_classes": [],
      "_model_module": "@jupyter-widgets/controls",
      "_model_module_version": "1.5.0",
      "_model_name": "HTMLModel",
      "_view_count": null,
      "_view_module": "@jupyter-widgets/controls",
      "_view_module_version": "1.5.0",
      "_view_name": "HTMLView",
      "description": "",
      "description_tooltip": null,
      "layout": "IPY_MODEL_7686fa8e634e44548561d8f0e181a09d",
      "placeholder": "​",
      "style": "IPY_MODEL_825763d185624a4cb7fe7249ac87927d",
      "value": " 34.9M/34.9M [00:00&lt;00:00, 80.6MB/s]"
     }
    },
    "c76bd7c532d742f587d77c5f362dba79": {
     "model_module": "@jupyter-widgets/controls",
     "model_module_version": "1.5.0",
     "model_name": "HTMLModel",
     "state": {
      "_dom_classes": [],
      "_model_module": "@jupyter-widgets/controls",
      "_model_module_version": "1.5.0",
      "_model_name": "HTMLModel",
      "_view_count": null,
      "_view_module": "@jupyter-widgets/controls",
      "_view_module_version": "1.5.0",
      "_view_name": "HTMLView",
      "description": "",
      "description_tooltip": null,
      "layout": "IPY_MODEL_05c97b70508c4536b2cda8c3ad14be9c",
      "placeholder": "​",
      "style": "IPY_MODEL_8325748eb17b4216b77431965b1be88e",
      "value": " 18.9M/18.9M [00:00&lt;00:00, 110MB/s]"
     }
    },
    "c7ba838ef59d4809aaa7d0044036dba4": {
     "model_module": "@jupyter-widgets/base",
     "model_module_version": "1.2.0",
     "model_name": "LayoutModel",
     "state": {
      "_model_module": "@jupyter-widgets/base",
      "_model_module_version": "1.2.0",
      "_model_name": "LayoutModel",
      "_view_count": null,
      "_view_module": "@jupyter-widgets/base",
      "_view_module_version": "1.2.0",
      "_view_name": "LayoutView",
      "align_content": null,
      "align_items": null,
      "align_self": null,
      "border": null,
      "bottom": null,
      "display": null,
      "flex": null,
      "flex_flow": null,
      "grid_area": null,
      "grid_auto_columns": null,
      "grid_auto_flow": null,
      "grid_auto_rows": null,
      "grid_column": null,
      "grid_gap": null,
      "grid_row": null,
      "grid_template_areas": null,
      "grid_template_columns": null,
      "grid_template_rows": null,
      "height": null,
      "justify_content": null,
      "justify_items": null,
      "left": null,
      "margin": null,
      "max_height": null,
      "max_width": null,
      "min_height": null,
      "min_width": null,
      "object_fit": null,
      "object_position": null,
      "order": null,
      "overflow": null,
      "overflow_x": null,
      "overflow_y": null,
      "padding": null,
      "right": null,
      "top": null,
      "visibility": null,
      "width": null
     }
    },
    "df0dc642a9bb4fe8adcedd49e6169e00": {
     "model_module": "@jupyter-widgets/base",
     "model_module_version": "1.2.0",
     "model_name": "LayoutModel",
     "state": {
      "_model_module": "@jupyter-widgets/base",
      "_model_module_version": "1.2.0",
      "_model_name": "LayoutModel",
      "_view_count": null,
      "_view_module": "@jupyter-widgets/base",
      "_view_module_version": "1.2.0",
      "_view_name": "LayoutView",
      "align_content": null,
      "align_items": null,
      "align_self": null,
      "border": null,
      "bottom": null,
      "display": null,
      "flex": null,
      "flex_flow": null,
      "grid_area": null,
      "grid_auto_columns": null,
      "grid_auto_flow": null,
      "grid_auto_rows": null,
      "grid_column": null,
      "grid_gap": null,
      "grid_row": null,
      "grid_template_areas": null,
      "grid_template_columns": null,
      "grid_template_rows": null,
      "height": null,
      "justify_content": null,
      "justify_items": null,
      "left": null,
      "margin": null,
      "max_height": null,
      "max_width": null,
      "min_height": null,
      "min_width": null,
      "object_fit": null,
      "object_position": null,
      "order": null,
      "overflow": null,
      "overflow_x": null,
      "overflow_y": null,
      "padding": null,
      "right": null,
      "top": null,
      "visibility": null,
      "width": null
     }
    }
   }
  }
 },
 "nbformat": 4,
 "nbformat_minor": 1
}
