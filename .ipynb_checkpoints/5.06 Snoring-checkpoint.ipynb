{
 "cells": [
  {
   "cell_type": "markdown",
   "id": "6b2dac3f",
   "metadata": {},
   "source": [
    "## My Snoring \n",
    "\n",
    "Use the data of the sound snoring sensor and visualise it here. \n",
    "\n",
    "- Use snoring sensor on RPi and store it on the InfluxDB\n",
    "- Use Grafana (hass.io) to get the data from the device.\n",
    "- Download CSV from Grafana and import it here.\n",
    "\n",
    "## Contents\n",
    "0. Get the data and load into Pandas df\n",
    "1. Data inspection, cleaning and visualisation\n",
    "2. Statistical analysis\n",
    "3. Store the results as json"
   ]
  },
  {
   "cell_type": "markdown",
   "id": "a8a18cb5",
   "metadata": {},
   "source": [
    "## 0. Get the data and load into Pandas df"
   ]
  },
  {
   "cell_type": "code",
   "execution_count": 6,
   "id": "c14f2693",
   "metadata": {},
   "outputs": [
    {
     "data": {
      "text/plain": [
       "<influxdb._dataframe_client.DataFrameClient at 0x1fc370da070>"
      ]
     },
     "execution_count": 6,
     "metadata": {},
     "output_type": "execute_result"
    }
   ],
   "source": [
    "# instantiate a client and assign the RPI and database to it and test the connection\n",
    "import pandas as pd\n",
    "from influxdb import DataFrameClient\n",
    "import notebooks_config\n",
    "def influxclient():\n",
    "    try:\n",
    "        host = notebooks_config.red_rpi_ip\n",
    "        mydf_client = DataFrameClient(host=host, port=8086, database='SNORING')# this is my raspberry ip on a local network\n",
    "        pang = mydf_client.ping()\n",
    "        return mydf_client\n",
    "    except:\n",
    "        return print('RPI not available')\n",
    "influxclient()"
   ]
  },
  {
   "cell_type": "code",
   "execution_count": 3,
   "id": "9c0a0a61",
   "metadata": {},
   "outputs": [
    {
     "name": "stdout",
     "output_type": "stream",
     "text": [
      "Wat is je startdatum? (YYYY-MM-DD) 2022-01-12\n"
     ]
    }
   ],
   "source": [
    "#TO DO Input start and enddate\n",
    "my_startdate = input('Wat is je startdatum? (YYYY-MM-DD) ' )"
   ]
  },
  {
   "cell_type": "code",
   "execution_count": 4,
   "id": "fa0426a6",
   "metadata": {},
   "outputs": [
    {
     "name": "stdout",
     "output_type": "stream",
     "text": [
      "Wat is je einddatum? (YYYY-MM-DD)2022-01-13\n"
     ]
    }
   ],
   "source": [
    "my_enddate = input('Wat is je einddatum? (YYYY-MM-DD)')\n"
   ]
  },
  {
   "cell_type": "code",
   "execution_count": 5,
   "id": "bd2f30dc",
   "metadata": {},
   "outputs": [
    {
     "name": "stdout",
     "output_type": "stream",
     "text": [
      "start time is 2022-01-13 00:49:25 and end time is 2022-01-13 07:58:25\n"
     ]
    }
   ],
   "source": [
    "#getting start and end time based on oura ring\n",
    "from oura import OuraClient\n",
    "# get your credentials from oura, see: https://cloud.ouraring.com/docs/.\n",
    "# You will need a client_id, client_secret and a personal access token (PAT). \n",
    "\n",
    "import notebooks_config\n",
    "#I store all my credentials in a notebooks_config.py file. \n",
    "#This file is then included in the .gitignore list so I can share the notebooks on GitHub.  \n",
    "\n",
    "oura_pat = notebooks_config.oura_pat #\n",
    "oura_client_id = notebooks_config.oura_client_id\n",
    "oura_client_secret = notebooks_config.oura_client_secret\n",
    "client = OuraClient(personal_access_token=oura_pat)\n",
    "oura = OuraClient(oura_client_id, oura_client_secret, oura_pat)\n",
    "result = oura.sleep_summary(start=my_startdate, end=my_enddate)\n",
    "data = result['sleep'][0] #select the first item from the list\n",
    "start_time = data['bedtime_start']\n",
    "end_time = data['bedtime_end']\n",
    "# convert strings to datetime\n",
    "from dateutil import parser\n",
    "start_time_dt = parser.parse(start_time)\n",
    "end_time_dt = parser.parse(end_time)\n",
    "from datetime import datetime\n",
    "start_time_dt_ntz = start_time_dt.replace(tzinfo=None)\n",
    "end_time_dt_ntz = end_time_dt.replace(tzinfo=None)\n",
    "print ('start time is '+ str(start_time_dt_ntz) + ' and end time is ' + str(end_time_dt_ntz))"
   ]
  },
  {
   "cell_type": "code",
   "execution_count": 71,
   "id": "05f08ac6",
   "metadata": {},
   "outputs": [
    {
     "data": {
      "text/plain": [
       "\"SELECT * FROM my_snoring WHERE time >= '2022-01-13 00:49:25' AND time <='2022-01-13 07:58:25'\""
      ]
     },
     "execution_count": 71,
     "metadata": {},
     "output_type": "execute_result"
    }
   ],
   "source": [
    "#create query string for InfluxDB\n",
    "def query_string(start_time_dt_ntz,end_time_dt_ntz):\n",
    "    base_string = \"SELECT * FROM my_snoring WHERE time >= '\"\n",
    "    middle_string = \"' AND time <='\"\n",
    "    end_string = \"'\"\n",
    "    query_string = base_string + str(start_time_dt_ntz) + middle_string + str(end_time_dt_ntz)+end_string\n",
    "    return query_string\n",
    "query_string(str(start_time_dt_ntz),str(end_time_dt_ntz))"
   ]
  },
  {
   "cell_type": "code",
   "execution_count": 72,
   "id": "16244dc9",
   "metadata": {},
   "outputs": [
    {
     "name": "stdout",
     "output_type": "stream",
     "text": [
      "[{'name': 'my_snoring'}]\n"
     ]
    }
   ],
   "source": [
    "mydf_client.switch_database('SNORING')\n",
    "msmts = mydf_client.get_list_measurements()\n",
    "print(msmts)"
   ]
  },
  {
   "cell_type": "code",
   "execution_count": 73,
   "id": "713d44db",
   "metadata": {},
   "outputs": [
    {
     "data": {
      "text/html": [
       "<div>\n",
       "<style scoped>\n",
       "    .dataframe tbody tr th:only-of-type {\n",
       "        vertical-align: middle;\n",
       "    }\n",
       "\n",
       "    .dataframe tbody tr th {\n",
       "        vertical-align: top;\n",
       "    }\n",
       "\n",
       "    .dataframe thead th {\n",
       "        text-align: right;\n",
       "    }\n",
       "</style>\n",
       "<table border=\"1\" class=\"dataframe\">\n",
       "  <thead>\n",
       "    <tr style=\"text-align: right;\">\n",
       "      <th></th>\n",
       "    </tr>\n",
       "  </thead>\n",
       "  <tbody>\n",
       "  </tbody>\n",
       "</table>\n",
       "</div>"
      ],
      "text/plain": [
       "Empty DataFrame\n",
       "Columns: []\n",
       "Index: []"
      ]
     },
     "execution_count": 73,
     "metadata": {},
     "output_type": "execute_result"
    }
   ],
   "source": [
    "helper_df=pd.DataFrame()\n",
    "helper_df"
   ]
  },
  {
   "cell_type": "code",
   "execution_count": 74,
   "id": "614c7f24",
   "metadata": {},
   "outputs": [
    {
     "data": {
      "text/plain": [
       "defaultdict(list,\n",
       "            {'my_snoring':                                     sheets   silence   snoring  softtalking\n",
       "             2022-01-13 00:49:25.085352+00:00  0.001894  0.932387  0.065706     0.000012\n",
       "             2022-01-13 00:49:25.611770+00:00  0.001892  0.931350  0.066747     0.000012\n",
       "             2022-01-13 00:49:26.142804+00:00  0.001979  0.931551  0.066457     0.000013\n",
       "             2022-01-13 00:49:26.692581+00:00  0.001967  0.932555  0.065465     0.000013\n",
       "             2022-01-13 00:49:27.241872+00:00  0.001881  0.931388  0.066719     0.000012\n",
       "             ...                                    ...       ...       ...          ...\n",
       "             2022-01-13 07:15:22.559873+00:00  0.001867  0.933768  0.064353     0.000012\n",
       "             2022-01-13 07:15:23.099598+00:00  0.001981  0.932255  0.065752     0.000013\n",
       "             2022-01-13 07:15:23.638667+00:00  0.002002  0.931863  0.066122     0.000013\n",
       "             2022-01-13 07:15:24.179996+00:00  0.002000  0.931799  0.066188     0.000013\n",
       "             2022-01-13 07:15:24.733040+00:00  0.001928  0.933299  0.064761     0.000012\n",
       "             \n",
       "             [42820 rows x 4 columns]})"
      ]
     },
     "execution_count": 74,
     "metadata": {},
     "output_type": "execute_result"
    }
   ],
   "source": [
    "#create a df and get the data from InfluxDB based on query above.\n",
    "helper_df = mydf_client.query(query_string(str(start_time_dt_ntz),str(end_time_dt_ntz)))\n",
    "helper_df"
   ]
  },
  {
   "cell_type": "code",
   "execution_count": 75,
   "id": "05b7cda9",
   "metadata": {},
   "outputs": [
    {
     "data": {
      "text/html": [
       "<div>\n",
       "<style scoped>\n",
       "    .dataframe tbody tr th:only-of-type {\n",
       "        vertical-align: middle;\n",
       "    }\n",
       "\n",
       "    .dataframe tbody tr th {\n",
       "        vertical-align: top;\n",
       "    }\n",
       "\n",
       "    .dataframe thead th {\n",
       "        text-align: right;\n",
       "    }\n",
       "</style>\n",
       "<table border=\"1\" class=\"dataframe\">\n",
       "  <thead>\n",
       "    <tr style=\"text-align: right;\">\n",
       "      <th></th>\n",
       "      <th>sheets</th>\n",
       "      <th>silence</th>\n",
       "      <th>snoring</th>\n",
       "      <th>softtalking</th>\n",
       "    </tr>\n",
       "  </thead>\n",
       "  <tbody>\n",
       "    <tr>\n",
       "      <th>2022-01-13 00:49:25.085352+00:00</th>\n",
       "      <td>0.001894</td>\n",
       "      <td>0.932387</td>\n",
       "      <td>0.065706</td>\n",
       "      <td>0.000012</td>\n",
       "    </tr>\n",
       "    <tr>\n",
       "      <th>2022-01-13 00:49:25.611770+00:00</th>\n",
       "      <td>0.001892</td>\n",
       "      <td>0.931350</td>\n",
       "      <td>0.066747</td>\n",
       "      <td>0.000012</td>\n",
       "    </tr>\n",
       "    <tr>\n",
       "      <th>2022-01-13 00:49:26.142804+00:00</th>\n",
       "      <td>0.001979</td>\n",
       "      <td>0.931551</td>\n",
       "      <td>0.066457</td>\n",
       "      <td>0.000013</td>\n",
       "    </tr>\n",
       "    <tr>\n",
       "      <th>2022-01-13 00:49:26.692581+00:00</th>\n",
       "      <td>0.001967</td>\n",
       "      <td>0.932555</td>\n",
       "      <td>0.065465</td>\n",
       "      <td>0.000013</td>\n",
       "    </tr>\n",
       "    <tr>\n",
       "      <th>2022-01-13 00:49:27.241872+00:00</th>\n",
       "      <td>0.001881</td>\n",
       "      <td>0.931388</td>\n",
       "      <td>0.066719</td>\n",
       "      <td>0.000012</td>\n",
       "    </tr>\n",
       "    <tr>\n",
       "      <th>...</th>\n",
       "      <td>...</td>\n",
       "      <td>...</td>\n",
       "      <td>...</td>\n",
       "      <td>...</td>\n",
       "    </tr>\n",
       "    <tr>\n",
       "      <th>2022-01-13 07:15:22.559873+00:00</th>\n",
       "      <td>0.001867</td>\n",
       "      <td>0.933768</td>\n",
       "      <td>0.064353</td>\n",
       "      <td>0.000012</td>\n",
       "    </tr>\n",
       "    <tr>\n",
       "      <th>2022-01-13 07:15:23.099598+00:00</th>\n",
       "      <td>0.001981</td>\n",
       "      <td>0.932255</td>\n",
       "      <td>0.065752</td>\n",
       "      <td>0.000013</td>\n",
       "    </tr>\n",
       "    <tr>\n",
       "      <th>2022-01-13 07:15:23.638667+00:00</th>\n",
       "      <td>0.002002</td>\n",
       "      <td>0.931863</td>\n",
       "      <td>0.066122</td>\n",
       "      <td>0.000013</td>\n",
       "    </tr>\n",
       "    <tr>\n",
       "      <th>2022-01-13 07:15:24.179996+00:00</th>\n",
       "      <td>0.002000</td>\n",
       "      <td>0.931799</td>\n",
       "      <td>0.066188</td>\n",
       "      <td>0.000013</td>\n",
       "    </tr>\n",
       "    <tr>\n",
       "      <th>2022-01-13 07:15:24.733040+00:00</th>\n",
       "      <td>0.001928</td>\n",
       "      <td>0.933299</td>\n",
       "      <td>0.064761</td>\n",
       "      <td>0.000012</td>\n",
       "    </tr>\n",
       "  </tbody>\n",
       "</table>\n",
       "<p>42820 rows × 4 columns</p>\n",
       "</div>"
      ],
      "text/plain": [
       "                                    sheets   silence   snoring  softtalking\n",
       "2022-01-13 00:49:25.085352+00:00  0.001894  0.932387  0.065706     0.000012\n",
       "2022-01-13 00:49:25.611770+00:00  0.001892  0.931350  0.066747     0.000012\n",
       "2022-01-13 00:49:26.142804+00:00  0.001979  0.931551  0.066457     0.000013\n",
       "2022-01-13 00:49:26.692581+00:00  0.001967  0.932555  0.065465     0.000013\n",
       "2022-01-13 00:49:27.241872+00:00  0.001881  0.931388  0.066719     0.000012\n",
       "...                                    ...       ...       ...          ...\n",
       "2022-01-13 07:15:22.559873+00:00  0.001867  0.933768  0.064353     0.000012\n",
       "2022-01-13 07:15:23.099598+00:00  0.001981  0.932255  0.065752     0.000013\n",
       "2022-01-13 07:15:23.638667+00:00  0.002002  0.931863  0.066122     0.000013\n",
       "2022-01-13 07:15:24.179996+00:00  0.002000  0.931799  0.066188     0.000013\n",
       "2022-01-13 07:15:24.733040+00:00  0.001928  0.933299  0.064761     0.000012\n",
       "\n",
       "[42820 rows x 4 columns]"
      ]
     },
     "execution_count": 75,
     "metadata": {},
     "output_type": "execute_result"
    }
   ],
   "source": [
    "snoring_df =helper_df['my_snoring']\n",
    "snoring_df"
   ]
  },
  {
   "cell_type": "code",
   "execution_count": 9,
   "id": "e1bcc0be",
   "metadata": {},
   "outputs": [
    {
     "ename": "NameError",
     "evalue": "name 'query_string' is not defined",
     "output_type": "error",
     "traceback": [
      "\u001b[1;31m---------------------------------------------------------------------------\u001b[0m",
      "\u001b[1;31mNameError\u001b[0m                                 Traceback (most recent call last)",
      "\u001b[1;32m~\\AppData\\Local\\Temp/ipykernel_19744/572634890.py\u001b[0m in \u001b[0;36m<module>\u001b[1;34m\u001b[0m\n\u001b[0;32m      5\u001b[0m     \u001b[0msnoring_df\u001b[0m \u001b[1;33m=\u001b[0m\u001b[0mhelper_df\u001b[0m\u001b[1;33m[\u001b[0m\u001b[1;34m'my_snoring'\u001b[0m\u001b[1;33m]\u001b[0m\u001b[1;33m\u001b[0m\u001b[1;33m\u001b[0m\u001b[0m\n\u001b[0;32m      6\u001b[0m     \u001b[1;32mreturn\u001b[0m \u001b[0msnoring_df\u001b[0m\u001b[1;33m\u001b[0m\u001b[1;33m\u001b[0m\u001b[0m\n\u001b[1;32m----> 7\u001b[1;33m \u001b[0mcreate_snoring_df\u001b[0m\u001b[1;33m(\u001b[0m\u001b[0mstr\u001b[0m\u001b[1;33m(\u001b[0m\u001b[0mmy_startdate\u001b[0m\u001b[1;33m)\u001b[0m\u001b[1;33m,\u001b[0m \u001b[0mstr\u001b[0m\u001b[1;33m(\u001b[0m\u001b[0mmy_enddate\u001b[0m\u001b[1;33m)\u001b[0m\u001b[1;33m)\u001b[0m\u001b[1;33m\u001b[0m\u001b[1;33m\u001b[0m\u001b[0m\n\u001b[0m",
      "\u001b[1;32m~\\AppData\\Local\\Temp/ipykernel_19744/572634890.py\u001b[0m in \u001b[0;36mcreate_snoring_df\u001b[1;34m(start_date, end_date)\u001b[0m\n\u001b[0;32m      2\u001b[0m     \u001b[0mmydf_client\u001b[0m\u001b[1;33m.\u001b[0m\u001b[0mswitch_database\u001b[0m\u001b[1;33m(\u001b[0m\u001b[1;34m'SNORING'\u001b[0m\u001b[1;33m)\u001b[0m\u001b[1;33m\u001b[0m\u001b[1;33m\u001b[0m\u001b[0m\n\u001b[0;32m      3\u001b[0m     \u001b[0mhelper_df\u001b[0m\u001b[1;33m=\u001b[0m\u001b[0mpd\u001b[0m\u001b[1;33m.\u001b[0m\u001b[0mDataFrame\u001b[0m\u001b[1;33m(\u001b[0m\u001b[1;33m)\u001b[0m\u001b[1;33m\u001b[0m\u001b[1;33m\u001b[0m\u001b[0m\n\u001b[1;32m----> 4\u001b[1;33m     \u001b[0mhelper_df\u001b[0m \u001b[1;33m=\u001b[0m \u001b[0mmydf_client\u001b[0m\u001b[1;33m.\u001b[0m\u001b[0mquery\u001b[0m\u001b[1;33m(\u001b[0m\u001b[0mquery_string\u001b[0m\u001b[1;33m(\u001b[0m\u001b[0mstr\u001b[0m\u001b[1;33m(\u001b[0m\u001b[0mstart_time_dt_ntz\u001b[0m\u001b[1;33m)\u001b[0m\u001b[1;33m,\u001b[0m\u001b[0mstr\u001b[0m\u001b[1;33m(\u001b[0m\u001b[0mend_time_dt_ntz\u001b[0m\u001b[1;33m)\u001b[0m\u001b[1;33m)\u001b[0m\u001b[1;33m)\u001b[0m\u001b[1;33m\u001b[0m\u001b[1;33m\u001b[0m\u001b[0m\n\u001b[0m\u001b[0;32m      5\u001b[0m     \u001b[0msnoring_df\u001b[0m \u001b[1;33m=\u001b[0m\u001b[0mhelper_df\u001b[0m\u001b[1;33m[\u001b[0m\u001b[1;34m'my_snoring'\u001b[0m\u001b[1;33m]\u001b[0m\u001b[1;33m\u001b[0m\u001b[1;33m\u001b[0m\u001b[0m\n\u001b[0;32m      6\u001b[0m     \u001b[1;32mreturn\u001b[0m \u001b[0msnoring_df\u001b[0m\u001b[1;33m\u001b[0m\u001b[1;33m\u001b[0m\u001b[0m\n",
      "\u001b[1;31mNameError\u001b[0m: name 'query_string' is not defined"
     ]
    }
   ],
   "source": [
    "def create_snoring_df(start_date, end_date):\n",
    "    mydf_client.switch_database('SNORING')   \n",
    "    helper_df=pd.DataFrame()\n",
    "    helper_df = mydf_client.query(query_string(str(start_time_dt_ntz),str(end_time_dt_ntz)))\n",
    "    snoring_df =helper_df['my_snoring']\n",
    "    return snoring_df\n",
    "create_snoring_df(str(my_startdate), str(my_enddate))    "
   ]
  },
  {
   "cell_type": "markdown",
   "id": "2f1497aa",
   "metadata": {},
   "source": [
    "## 1. Data inspection, cleaning and visualisation\n"
   ]
  },
  {
   "cell_type": "code",
   "execution_count": 76,
   "id": "6e5d203c",
   "metadata": {},
   "outputs": [
    {
     "data": {
      "text/plain": [
       "Index(['sheets', 'silence', 'snoring', 'softtalking'], dtype='object')"
      ]
     },
     "execution_count": 76,
     "metadata": {},
     "output_type": "execute_result"
    }
   ],
   "source": [
    "#show colums\n",
    "snoring_df.columns"
   ]
  },
  {
   "cell_type": "code",
   "execution_count": 77,
   "id": "a02aae05",
   "metadata": {
    "scrolled": true
   },
   "outputs": [
    {
     "data": {
      "text/html": [
       "<div>\n",
       "<style scoped>\n",
       "    .dataframe tbody tr th:only-of-type {\n",
       "        vertical-align: middle;\n",
       "    }\n",
       "\n",
       "    .dataframe tbody tr th {\n",
       "        vertical-align: top;\n",
       "    }\n",
       "\n",
       "    .dataframe thead th {\n",
       "        text-align: right;\n",
       "    }\n",
       "</style>\n",
       "<table border=\"1\" class=\"dataframe\">\n",
       "  <thead>\n",
       "    <tr style=\"text-align: right;\">\n",
       "      <th></th>\n",
       "      <th>sheets</th>\n",
       "      <th>silence</th>\n",
       "      <th>snoring</th>\n",
       "      <th>softtalking</th>\n",
       "    </tr>\n",
       "  </thead>\n",
       "  <tbody>\n",
       "    <tr>\n",
       "      <th>count</th>\n",
       "      <td>4.282000e+04</td>\n",
       "      <td>42820.000000</td>\n",
       "      <td>42820.000000</td>\n",
       "      <td>4.282000e+04</td>\n",
       "    </tr>\n",
       "    <tr>\n",
       "      <th>mean</th>\n",
       "      <td>2.159285e-03</td>\n",
       "      <td>0.905751</td>\n",
       "      <td>0.092070</td>\n",
       "      <td>1.932633e-05</td>\n",
       "    </tr>\n",
       "    <tr>\n",
       "      <th>std</th>\n",
       "      <td>3.598248e-03</td>\n",
       "      <td>0.111158</td>\n",
       "      <td>0.110618</td>\n",
       "      <td>6.067356e-05</td>\n",
       "    </tr>\n",
       "    <tr>\n",
       "      <th>min</th>\n",
       "      <td>1.246198e-18</td>\n",
       "      <td>0.000051</td>\n",
       "      <td>0.004744</td>\n",
       "      <td>4.902169e-08</td>\n",
       "    </tr>\n",
       "    <tr>\n",
       "      <th>25%</th>\n",
       "      <td>1.852220e-03</td>\n",
       "      <td>0.931751</td>\n",
       "      <td>0.065270</td>\n",
       "      <td>1.213752e-05</td>\n",
       "    </tr>\n",
       "    <tr>\n",
       "      <th>50%</th>\n",
       "      <td>1.945502e-03</td>\n",
       "      <td>0.931964</td>\n",
       "      <td>0.066072</td>\n",
       "      <td>1.271249e-05</td>\n",
       "    </tr>\n",
       "    <tr>\n",
       "      <th>75%</th>\n",
       "      <td>1.996274e-03</td>\n",
       "      <td>0.932816</td>\n",
       "      <td>0.066285</td>\n",
       "      <td>1.299891e-05</td>\n",
       "    </tr>\n",
       "    <tr>\n",
       "      <th>max</th>\n",
       "      <td>2.114756e-01</td>\n",
       "      <td>0.979211</td>\n",
       "      <td>0.999949</td>\n",
       "      <td>3.605354e-03</td>\n",
       "    </tr>\n",
       "  </tbody>\n",
       "</table>\n",
       "</div>"
      ],
      "text/plain": [
       "             sheets       silence       snoring   softtalking\n",
       "count  4.282000e+04  42820.000000  42820.000000  4.282000e+04\n",
       "mean   2.159285e-03      0.905751      0.092070  1.932633e-05\n",
       "std    3.598248e-03      0.111158      0.110618  6.067356e-05\n",
       "min    1.246198e-18      0.000051      0.004744  4.902169e-08\n",
       "25%    1.852220e-03      0.931751      0.065270  1.213752e-05\n",
       "50%    1.945502e-03      0.931964      0.066072  1.271249e-05\n",
       "75%    1.996274e-03      0.932816      0.066285  1.299891e-05\n",
       "max    2.114756e-01      0.979211      0.999949  3.605354e-03"
      ]
     },
     "execution_count": 77,
     "metadata": {},
     "output_type": "execute_result"
    }
   ],
   "source": [
    "#describe data\n",
    "snoring_df.describe()"
   ]
  },
  {
   "cell_type": "markdown",
   "id": "aecd4c27",
   "metadata": {},
   "source": [
    "## 2. Statistical analysis"
   ]
  },
  {
   "cell_type": "code",
   "execution_count": 78,
   "id": "595c618a",
   "metadata": {},
   "outputs": [
    {
     "data": {
      "text/html": [
       "<div>\n",
       "<style scoped>\n",
       "    .dataframe tbody tr th:only-of-type {\n",
       "        vertical-align: middle;\n",
       "    }\n",
       "\n",
       "    .dataframe tbody tr th {\n",
       "        vertical-align: top;\n",
       "    }\n",
       "\n",
       "    .dataframe thead th {\n",
       "        text-align: right;\n",
       "    }\n",
       "</style>\n",
       "<table border=\"1\" class=\"dataframe\">\n",
       "  <thead>\n",
       "    <tr style=\"text-align: right;\">\n",
       "      <th></th>\n",
       "      <th>sheets</th>\n",
       "      <th>silence</th>\n",
       "      <th>snoring</th>\n",
       "      <th>softtalking</th>\n",
       "      <th>bins</th>\n",
       "    </tr>\n",
       "  </thead>\n",
       "  <tbody>\n",
       "    <tr>\n",
       "      <th>2022-01-13 07:15:22.559873+00:00</th>\n",
       "      <td>0.001867</td>\n",
       "      <td>0.933768</td>\n",
       "      <td>0.064353</td>\n",
       "      <td>0.000012</td>\n",
       "      <td>no snoring</td>\n",
       "    </tr>\n",
       "    <tr>\n",
       "      <th>2022-01-13 07:15:23.099598+00:00</th>\n",
       "      <td>0.001981</td>\n",
       "      <td>0.932255</td>\n",
       "      <td>0.065752</td>\n",
       "      <td>0.000013</td>\n",
       "      <td>no snoring</td>\n",
       "    </tr>\n",
       "    <tr>\n",
       "      <th>2022-01-13 07:15:23.638667+00:00</th>\n",
       "      <td>0.002002</td>\n",
       "      <td>0.931863</td>\n",
       "      <td>0.066122</td>\n",
       "      <td>0.000013</td>\n",
       "      <td>no snoring</td>\n",
       "    </tr>\n",
       "    <tr>\n",
       "      <th>2022-01-13 07:15:24.179996+00:00</th>\n",
       "      <td>0.002000</td>\n",
       "      <td>0.931799</td>\n",
       "      <td>0.066188</td>\n",
       "      <td>0.000013</td>\n",
       "      <td>no snoring</td>\n",
       "    </tr>\n",
       "    <tr>\n",
       "      <th>2022-01-13 07:15:24.733040+00:00</th>\n",
       "      <td>0.001928</td>\n",
       "      <td>0.933299</td>\n",
       "      <td>0.064761</td>\n",
       "      <td>0.000012</td>\n",
       "      <td>no snoring</td>\n",
       "    </tr>\n",
       "  </tbody>\n",
       "</table>\n",
       "</div>"
      ],
      "text/plain": [
       "                                    sheets   silence   snoring  softtalking  \\\n",
       "2022-01-13 07:15:22.559873+00:00  0.001867  0.933768  0.064353     0.000012   \n",
       "2022-01-13 07:15:23.099598+00:00  0.001981  0.932255  0.065752     0.000013   \n",
       "2022-01-13 07:15:23.638667+00:00  0.002002  0.931863  0.066122     0.000013   \n",
       "2022-01-13 07:15:24.179996+00:00  0.002000  0.931799  0.066188     0.000013   \n",
       "2022-01-13 07:15:24.733040+00:00  0.001928  0.933299  0.064761     0.000012   \n",
       "\n",
       "                                        bins  \n",
       "2022-01-13 07:15:22.559873+00:00  no snoring  \n",
       "2022-01-13 07:15:23.099598+00:00  no snoring  \n",
       "2022-01-13 07:15:23.638667+00:00  no snoring  \n",
       "2022-01-13 07:15:24.179996+00:00  no snoring  \n",
       "2022-01-13 07:15:24.733040+00:00  no snoring  "
      ]
     },
     "execution_count": 78,
     "metadata": {},
     "output_type": "execute_result"
    }
   ],
   "source": [
    "# add a column 'bins' to the df and create bins with labels\n",
    "snoring_df['bins'] = pd.cut(snoring_df['snoring'], bins=[0.0, 0.10, 0.50, 1.00],\n",
    "                    labels=['no snoring', 'light snoring', 'loud snoring']) \n",
    "snoring_df.tail() #show the df"
   ]
  },
  {
   "cell_type": "code",
   "execution_count": 79,
   "id": "0e8491c8",
   "metadata": {},
   "outputs": [
    {
     "data": {
      "text/plain": [
       "42820"
      ]
     },
     "execution_count": 79,
     "metadata": {},
     "output_type": "execute_result"
    }
   ],
   "source": [
    "total_length = snoring_df['bins'].count()\n",
    "total_length"
   ]
  },
  {
   "cell_type": "code",
   "execution_count": 95,
   "id": "150e7601",
   "metadata": {},
   "outputs": [
    {
     "data": {
      "text/html": [
       "<div>\n",
       "<style scoped>\n",
       "    .dataframe tbody tr th:only-of-type {\n",
       "        vertical-align: middle;\n",
       "    }\n",
       "\n",
       "    .dataframe tbody tr th {\n",
       "        vertical-align: top;\n",
       "    }\n",
       "\n",
       "    .dataframe thead th {\n",
       "        text-align: right;\n",
       "    }\n",
       "</style>\n",
       "<table border=\"1\" class=\"dataframe\">\n",
       "  <thead>\n",
       "    <tr style=\"text-align: right;\">\n",
       "      <th></th>\n",
       "      <th>count</th>\n",
       "      <th>minutes</th>\n",
       "    </tr>\n",
       "  </thead>\n",
       "  <tbody>\n",
       "    <tr>\n",
       "      <th>no snoring</th>\n",
       "      <td>38935</td>\n",
       "      <td>648.9</td>\n",
       "    </tr>\n",
       "    <tr>\n",
       "      <th>light snoring</th>\n",
       "      <td>2991</td>\n",
       "      <td>49.8</td>\n",
       "    </tr>\n",
       "    <tr>\n",
       "      <th>loud snoring</th>\n",
       "      <td>894</td>\n",
       "      <td>14.9</td>\n",
       "    </tr>\n",
       "  </tbody>\n",
       "</table>\n",
       "</div>"
      ],
      "text/plain": [
       "               count  minutes\n",
       "no snoring     38935    648.9\n",
       "light snoring   2991     49.8\n",
       "loud snoring     894     14.9"
      ]
     },
     "execution_count": 95,
     "metadata": {},
     "output_type": "execute_result"
    }
   ],
   "source": [
    "stats_df = pd.DataFrame()\n",
    "stats_df['count'] =snoring_df['bins'].value_counts()\n",
    "stats_df['minutes']= round(snoring_df['bins'].value_counts()/60,1)\n",
    "stats_df"
   ]
  },
  {
   "cell_type": "code",
   "execution_count": 97,
   "id": "a0470ded",
   "metadata": {},
   "outputs": [
    {
     "name": "stdout",
     "output_type": "stream",
     "text": [
      "You've snored 64.8 minutes\n",
      "Total snoring was 9.07% the measured time\n",
      "Loud snoring was 2.1% of the measured time\n"
     ]
    },
    {
     "data": {
      "text/html": [
       "<div>\n",
       "<style scoped>\n",
       "    .dataframe tbody tr th:only-of-type {\n",
       "        vertical-align: middle;\n",
       "    }\n",
       "\n",
       "    .dataframe tbody tr th {\n",
       "        vertical-align: top;\n",
       "    }\n",
       "\n",
       "    .dataframe thead th {\n",
       "        text-align: right;\n",
       "    }\n",
       "</style>\n",
       "<table border=\"1\" class=\"dataframe\">\n",
       "  <thead>\n",
       "    <tr style=\"text-align: right;\">\n",
       "      <th></th>\n",
       "      <th>count</th>\n",
       "      <th>minutes</th>\n",
       "    </tr>\n",
       "  </thead>\n",
       "  <tbody>\n",
       "    <tr>\n",
       "      <th>no snoring</th>\n",
       "      <td>38935</td>\n",
       "      <td>648.9</td>\n",
       "    </tr>\n",
       "    <tr>\n",
       "      <th>light snoring</th>\n",
       "      <td>2991</td>\n",
       "      <td>49.8</td>\n",
       "    </tr>\n",
       "    <tr>\n",
       "      <th>loud snoring</th>\n",
       "      <td>894</td>\n",
       "      <td>14.9</td>\n",
       "    </tr>\n",
       "  </tbody>\n",
       "</table>\n",
       "</div>"
      ],
      "text/plain": [
       "               count  minutes\n",
       "no snoring     38935    648.9\n",
       "light snoring   2991     49.8\n",
       "loud snoring     894     14.9"
      ]
     },
     "execution_count": 97,
     "metadata": {},
     "output_type": "execute_result"
    }
   ],
   "source": [
    "#define parameters\n",
    "no_snoring =stats_df['count'][0]\n",
    "light_snoring=stats_df['count'][1]\n",
    "loud_snoring=stats_df['count'][2]\n",
    "#print results\n",
    "time_snoring = round(((light_snoring+loud_snoring)/60),1)\n",
    "print(\"You've snored \" +str(time_snoring) + \" minutes\")\n",
    "percentage = ((loud_snoring+light_snoring) / total_length)*100\n",
    "print (\"Total snoring was \" + str(round(percentage,2)) + \"% the measured time\")\n",
    "loud_perc = round(loud_snoring/total_length*100,1)\n",
    "print (\"Loud snoring was \" + str(loud_perc) + \"% of the measured time\")\n",
    "stats_df"
   ]
  },
  {
   "cell_type": "markdown",
   "id": "538093ab",
   "metadata": {},
   "source": [
    "### 2b. Make a graph"
   ]
  },
  {
   "cell_type": "code",
   "execution_count": 54,
   "id": "0c2cda70",
   "metadata": {},
   "outputs": [],
   "source": [
    "#visualise the data. To do: larger plot and mean.values\n",
    "#snoring_df.plot.scatter(x=\"Time\", y=\"my_snoring.mean\")\n"
   ]
  },
  {
   "cell_type": "markdown",
   "id": "cb7db5f2",
   "metadata": {},
   "source": [
    "## 3. Store the results"
   ]
  },
  {
   "cell_type": "code",
   "execution_count": null,
   "id": "4df57124",
   "metadata": {},
   "outputs": [],
   "source": []
  },
  {
   "cell_type": "code",
   "execution_count": null,
   "id": "ef6d8079",
   "metadata": {},
   "outputs": [],
   "source": []
  },
  {
   "cell_type": "markdown",
   "id": "73761015",
   "metadata": {},
   "source": [
    "## 4. Scripts as a function"
   ]
  },
  {
   "cell_type": "code",
   "execution_count": 1,
   "id": "583c2b6c",
   "metadata": {},
   "outputs": [],
   "source": [
    "start_date = '2022-01-12'\n",
    "end_date = '2022-01-13'"
   ]
  },
  {
   "cell_type": "code",
   "execution_count": 2,
   "id": "b362b3a1",
   "metadata": {},
   "outputs": [
    {
     "name": "stdout",
     "output_type": "stream",
     "text": [
      "{'summary_date': '2022-01-12', 'period_id': 2, 'is_longest': 1, 'timezone': 60, 'bedtime_end': '2022-01-13T07:58:25+01:00', 'bedtime_start': '2022-01-13T00:49:25+01:00', 'breath_average': 14.875, 'duration': 25740, 'total': 22380, 'awake': 3360, 'rem': 5610, 'deep': 5850, 'light': 10920, 'midpoint_time': 13500, 'efficiency': 87, 'restless': 24, 'onset_latency': 1020, 'hr_5min': [73, 70, 67, 66, 65, 64, 63, 62, 64, 64, 63, 60, 60, 61, 61, 62, 61, 65, 64, 65, 64, 64, 63, 60, 0, 59, 58, 66, 61, 62, 65, 0, 61, 59, 58, 59, 58, 67, 63, 59, 59, 58, 57, 58, 57, 57, 59, 58, 61, 0, 62, 60, 61, 61, 61, 60, 60, 61, 62, 62, 62, 62, 61, 62, 62, 59, 61, 0, 63, 63, 67, 66, 64, 63, 59, 59, 60, 61, 61, 60, 0, 0, 58, 59, 58, 61], 'hr_average': 61.64, 'hr_lowest': 57.0, 'hypnogram_5min': '44422211112111122222442333442242333224332223112333322211111111222233333222222113332224', 'rmssd': 34, 'rmssd_5min': [9, 12, 15, 25, 20, 25, 35, 37, 35, 33, 32, 29, 31, 31, 34, 35, 41, 24, 23, 35, 36, 28, 30, 22, 0, 43, 40, 33, 43, 43, 39, 0, 37, 31, 32, 27, 41, 28, 29, 37, 35, 36, 36, 33, 39, 35, 41, 35, 32, 0, 41, 31, 35, 32, 35, 28, 29, 29, 29, 29, 30, 23, 35, 28, 35, 37, 33, 0, 28, 30, 56, 35, 25, 25, 35, 35, 36, 36, 38, 68, 0, 0, 34, 36, 32, 36], 'score': 77, 'score_alignment': 52, 'score_deep': 97, 'score_disturbances': 77, 'score_efficiency': 88, 'score_latency': 94, 'score_rem': 88, 'score_total': 68, 'temperature_deviation': -0.33, 'temperature_trend_deviation': -0.08, 'bedtime_start_delta': 2965, 'bedtime_end_delta': 28705, 'midpoint_at_delta': 16465, 'temperature_delta': -0.33}\n"
     ]
    }
   ],
   "source": [
    "import notebooks_config\n",
    "from oura import OuraClient\n",
    "#I store all my credentials in a notebooks_config.py file. \n",
    "#This file is then included in the .gitignore list so I can share the notebooks on GitHub.  \n",
    "\n",
    "def oura_load(start_date, end_date):\n",
    "    oura_pat = notebooks_config.oura_pat #\n",
    "    oura_client_id = notebooks_config.oura_client_id\n",
    "    oura_client_secret = notebooks_config.oura_client_secret\n",
    "\n",
    "    client = OuraClient(personal_access_token=oura_pat)\n",
    "    oura = OuraClient(oura_client_id, oura_client_secret, oura_pat)\n",
    "    result = oura.sleep_summary(start= start_date, end= end_date)\n",
    "    data = result['sleep'][0] #select the first item from the list\n",
    "    return data\n",
    "print(oura_load(start_date,end_date))"
   ]
  },
  {
   "cell_type": "code",
   "execution_count": 3,
   "id": "7412a4f5",
   "metadata": {},
   "outputs": [
    {
     "data": {
      "text/plain": [
       "(datetime.datetime(2022, 1, 13, 0, 49, 25),\n",
       " datetime.datetime(2022, 1, 13, 7, 58, 25))"
      ]
     },
     "execution_count": 3,
     "metadata": {},
     "output_type": "execute_result"
    }
   ],
   "source": [
    "from dateutil import parser\n",
    "def startend_time(start_date, end_date):\n",
    "    #get the start and endtime as strings\n",
    "    data = oura_load(start_date, end_date)\n",
    "    start_time = data['bedtime_start']\n",
    "    end_time = data['bedtime_end']\n",
    "    # convert strings to datetime using dateutil\n",
    "    start_time_dt = parser.parse(start_time)\n",
    "    end_time_dt = parser.parse(end_time)\n",
    "    #remove timezones\n",
    "    start_time_dt = start_time_dt.replace(tzinfo=None)\n",
    "    end_time_dt = end_time_dt.replace(tzinfo=None)\n",
    "    return start_time_dt, end_time_dt\n",
    "startend_time(start_date, end_date)"
   ]
  },
  {
   "cell_type": "code",
   "execution_count": 4,
   "id": "9fa31efe",
   "metadata": {},
   "outputs": [
    {
     "data": {
      "text/plain": [
       "\"SELECT * FROM my_snoring WHERE time >= '2022-01-13 00:49:25' AND time <='2022-01-13 07:58:25'\""
      ]
     },
     "execution_count": 4,
     "metadata": {},
     "output_type": "execute_result"
    }
   ],
   "source": [
    "def query_string(start_date, end_date):\n",
    "    start_time_dt = startend_time(start_date, end_date)[0]\n",
    "    end_time_dt = startend_time(start_date, end_date)[1]\n",
    "    base_string = \"SELECT * FROM my_snoring WHERE time >= '\"\n",
    "    middle_string = \"' AND time <='\"\n",
    "    end_string = \"'\"\n",
    "    query_string = base_string + str(start_time_dt) + middle_string + str(end_time_dt)+end_string\n",
    "    return query_string\n",
    "query_string(start_date, end_date)"
   ]
  },
  {
   "cell_type": "code",
   "execution_count": 7,
   "id": "732f8c74",
   "metadata": {},
   "outputs": [
    {
     "data": {
      "text/plain": [
       "<influxdb._dataframe_client.DataFrameClient at 0x1fc37267310>"
      ]
     },
     "execution_count": 7,
     "metadata": {},
     "output_type": "execute_result"
    }
   ],
   "source": [
    "#double!!!\n",
    "# instantiate a client and assign the RPI and database to it and test the connection\n",
    "import pandas as pd\n",
    "from influxdb import DataFrameClient\n",
    "import notebooks_config\n",
    "def influxclient():\n",
    "    try:\n",
    "        host = notebooks_config.red_rpi_ip\n",
    "        mydf_client = DataFrameClient(host=host, port=8086, database='SNORING')# this is my raspberry ip on a local network\n",
    "        return mydf_client\n",
    "    except:\n",
    "        return print('RPI not available')\n",
    "influxclient()"
   ]
  },
  {
   "cell_type": "code",
   "execution_count": 8,
   "id": "86933e4b",
   "metadata": {},
   "outputs": [
    {
     "data": {
      "text/html": [
       "<div>\n",
       "<style scoped>\n",
       "    .dataframe tbody tr th:only-of-type {\n",
       "        vertical-align: middle;\n",
       "    }\n",
       "\n",
       "    .dataframe tbody tr th {\n",
       "        vertical-align: top;\n",
       "    }\n",
       "\n",
       "    .dataframe thead th {\n",
       "        text-align: right;\n",
       "    }\n",
       "</style>\n",
       "<table border=\"1\" class=\"dataframe\">\n",
       "  <thead>\n",
       "    <tr style=\"text-align: right;\">\n",
       "      <th></th>\n",
       "      <th>sheets</th>\n",
       "      <th>silence</th>\n",
       "      <th>snoring</th>\n",
       "      <th>softtalking</th>\n",
       "    </tr>\n",
       "  </thead>\n",
       "  <tbody>\n",
       "    <tr>\n",
       "      <th>2022-01-13 00:49:25.085352+00:00</th>\n",
       "      <td>0.001894</td>\n",
       "      <td>0.932387</td>\n",
       "      <td>0.065706</td>\n",
       "      <td>0.000012</td>\n",
       "    </tr>\n",
       "    <tr>\n",
       "      <th>2022-01-13 00:49:25.611770+00:00</th>\n",
       "      <td>0.001892</td>\n",
       "      <td>0.931350</td>\n",
       "      <td>0.066747</td>\n",
       "      <td>0.000012</td>\n",
       "    </tr>\n",
       "    <tr>\n",
       "      <th>2022-01-13 00:49:26.142804+00:00</th>\n",
       "      <td>0.001979</td>\n",
       "      <td>0.931551</td>\n",
       "      <td>0.066457</td>\n",
       "      <td>0.000013</td>\n",
       "    </tr>\n",
       "    <tr>\n",
       "      <th>2022-01-13 00:49:26.692581+00:00</th>\n",
       "      <td>0.001967</td>\n",
       "      <td>0.932555</td>\n",
       "      <td>0.065465</td>\n",
       "      <td>0.000013</td>\n",
       "    </tr>\n",
       "    <tr>\n",
       "      <th>2022-01-13 00:49:27.241872+00:00</th>\n",
       "      <td>0.001881</td>\n",
       "      <td>0.931388</td>\n",
       "      <td>0.066719</td>\n",
       "      <td>0.000012</td>\n",
       "    </tr>\n",
       "    <tr>\n",
       "      <th>...</th>\n",
       "      <td>...</td>\n",
       "      <td>...</td>\n",
       "      <td>...</td>\n",
       "      <td>...</td>\n",
       "    </tr>\n",
       "    <tr>\n",
       "      <th>2022-01-13 07:15:22.559873+00:00</th>\n",
       "      <td>0.001867</td>\n",
       "      <td>0.933768</td>\n",
       "      <td>0.064353</td>\n",
       "      <td>0.000012</td>\n",
       "    </tr>\n",
       "    <tr>\n",
       "      <th>2022-01-13 07:15:23.099598+00:00</th>\n",
       "      <td>0.001981</td>\n",
       "      <td>0.932255</td>\n",
       "      <td>0.065752</td>\n",
       "      <td>0.000013</td>\n",
       "    </tr>\n",
       "    <tr>\n",
       "      <th>2022-01-13 07:15:23.638667+00:00</th>\n",
       "      <td>0.002002</td>\n",
       "      <td>0.931863</td>\n",
       "      <td>0.066122</td>\n",
       "      <td>0.000013</td>\n",
       "    </tr>\n",
       "    <tr>\n",
       "      <th>2022-01-13 07:15:24.179996+00:00</th>\n",
       "      <td>0.002000</td>\n",
       "      <td>0.931799</td>\n",
       "      <td>0.066188</td>\n",
       "      <td>0.000013</td>\n",
       "    </tr>\n",
       "    <tr>\n",
       "      <th>2022-01-13 07:15:24.733040+00:00</th>\n",
       "      <td>0.001928</td>\n",
       "      <td>0.933299</td>\n",
       "      <td>0.064761</td>\n",
       "      <td>0.000012</td>\n",
       "    </tr>\n",
       "  </tbody>\n",
       "</table>\n",
       "<p>42820 rows × 4 columns</p>\n",
       "</div>"
      ],
      "text/plain": [
       "                                    sheets   silence   snoring  softtalking\n",
       "2022-01-13 00:49:25.085352+00:00  0.001894  0.932387  0.065706     0.000012\n",
       "2022-01-13 00:49:25.611770+00:00  0.001892  0.931350  0.066747     0.000012\n",
       "2022-01-13 00:49:26.142804+00:00  0.001979  0.931551  0.066457     0.000013\n",
       "2022-01-13 00:49:26.692581+00:00  0.001967  0.932555  0.065465     0.000013\n",
       "2022-01-13 00:49:27.241872+00:00  0.001881  0.931388  0.066719     0.000012\n",
       "...                                    ...       ...       ...          ...\n",
       "2022-01-13 07:15:22.559873+00:00  0.001867  0.933768  0.064353     0.000012\n",
       "2022-01-13 07:15:23.099598+00:00  0.001981  0.932255  0.065752     0.000013\n",
       "2022-01-13 07:15:23.638667+00:00  0.002002  0.931863  0.066122     0.000013\n",
       "2022-01-13 07:15:24.179996+00:00  0.002000  0.931799  0.066188     0.000013\n",
       "2022-01-13 07:15:24.733040+00:00  0.001928  0.933299  0.064761     0.000012\n",
       "\n",
       "[42820 rows x 4 columns]"
      ]
     },
     "execution_count": 8,
     "metadata": {},
     "output_type": "execute_result"
    }
   ],
   "source": [
    "import pandas as pd\n",
    "from influxdb import DataFrameClient\n",
    "def create_snoring_df(start_date, end_date):\n",
    "    mydf_client = influxclient()\n",
    "    mydf_client.switch_database('SNORING')   \n",
    "    helper_df=pd.DataFrame()\n",
    "    my_query_string = query_string(start_date, end_date)\n",
    "    helper_df = mydf_client.query(my_query_string)\n",
    "    snoring_df =helper_df['my_snoring']\n",
    "    return snoring_df\n",
    "create_snoring_df(start_date, end_date) "
   ]
  },
  {
   "cell_type": "code",
   "execution_count": null,
   "id": "ce363ba7",
   "metadata": {},
   "outputs": [],
   "source": []
  }
 ],
 "metadata": {
  "kernelspec": {
   "display_name": "Python 3 (ipykernel)",
   "language": "python",
   "name": "python3"
  },
  "language_info": {
   "codemirror_mode": {
    "name": "ipython",
    "version": 3
   },
   "file_extension": ".py",
   "mimetype": "text/x-python",
   "name": "python",
   "nbconvert_exporter": "python",
   "pygments_lexer": "ipython3",
   "version": "3.8.5"
  }
 },
 "nbformat": 4,
 "nbformat_minor": 5
}
