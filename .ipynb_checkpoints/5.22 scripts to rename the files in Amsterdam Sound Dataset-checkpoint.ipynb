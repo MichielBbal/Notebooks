{
 "cells": [
  {
   "cell_type": "markdown",
   "id": "51b5f232",
   "metadata": {},
   "source": [
    "# Scripts to rename the files in Amsterdam Sound Dataset"
   ]
  },
  {
   "cell_type": "code",
   "execution_count": 86,
   "id": "12312f57",
   "metadata": {},
   "outputs": [
    {
     "name": "stdout",
     "output_type": "stream",
     "text": [
      "\u001b[34m01_556_gunshots\u001b[m\u001b[m                  \u001b[34m08_motoren\u001b[m\u001b[m\r\n",
      "\u001b[34m03_brommer_alarms\u001b[m\u001b[m                \u001b[34m09_terrasgeluiden\u001b[m\u001b[m\r\n",
      "\u001b[34m04_brommers\u001b[m\u001b[m                      \u001b[34m10_versterkte_muziek\u001b[m\u001b[m\r\n",
      "\u001b[34m05_claxons\u001b[m\u001b[m                       brommer_alarms.csv\r\n",
      "\u001b[34m06_dichtklappende_autodeuren\u001b[m\u001b[m     gunshots.csv\r\n",
      "\u001b[34m07_luide_mensen_schreeuwen_en_zo\u001b[m\u001b[m\r\n"
     ]
    }
   ],
   "source": [
    "!cd /Users/michielbontenbal/Desktop/0_samples && ls"
   ]
  },
  {
   "cell_type": "code",
   "execution_count": 94,
   "id": "9a9621f6",
   "metadata": {},
   "outputs": [
    {
     "name": "stdout",
     "output_type": "stream",
     "text": [
      "/Users/michielbontenbal/Desktop\r\n"
     ]
    }
   ],
   "source": [
    "!cd .. && pwd"
   ]
  },
  {
   "cell_type": "code",
   "execution_count": 95,
   "id": "3ef11728",
   "metadata": {},
   "outputs": [
    {
     "name": "stdout",
     "output_type": "stream",
     "text": [
      "/Users/michielbontenbal/Desktop/pallas/pallas_data/0_samples/04_brommers\r\n"
     ]
    }
   ],
   "source": [
    "!cd /Users/michielbontenbal/Desktop/pallas/pallas_data/0_samples/04_brommers && pwd"
   ]
  },
  {
   "cell_type": "code",
   "execution_count": 97,
   "id": "53cb06b5",
   "metadata": {},
   "outputs": [
    {
     "name": "stdout",
     "output_type": "stream",
     "text": [
      "/Users/michielbontenbal/Desktop/0_samples/04_brommers\n"
     ]
    }
   ],
   "source": [
    "cd 04_brommers"
   ]
  },
  {
   "cell_type": "code",
   "execution_count": 98,
   "id": "53ad8545",
   "metadata": {},
   "outputs": [
    {
     "data": {
      "text/plain": [
       "'/Users/michielbontenbal/Desktop/0_samples/04_brommers'"
      ]
     },
     "execution_count": 98,
     "metadata": {},
     "output_type": "execute_result"
    }
   ],
   "source": [
    "pwd"
   ]
  },
  {
   "cell_type": "code",
   "execution_count": 101,
   "id": "1c001ce5",
   "metadata": {},
   "outputs": [
    {
     "name": "stdout",
     "output_type": "stream",
     "text": [
      "B-AS-roos-001.200120.133315.48.npz  B.10.191231.143610.62.wav\r\n",
      "B-AS-roos-001.200120.133315.48.wav  B.10.191231.153938.76.wav\r\n",
      "B-AS-roos-001.200120.133928.26.wav  B.10.200101.133048.50.wav\r\n",
      "B-AS-roos-001.200120.134245.35.wav  B.10.200102.121410.73.wav\r\n",
      "B-AS-roos-001.200120.134851.39.wav  B.10.200102.125733.76.wav\r\n",
      "B-AS-roos-001.200120.134854.96.wav  B.10.200105.184929.53.wav\r\n",
      "B-AS-roos-001.200120.134900.19.wav  B.104.191231.152716.08.wav\r\n",
      "B-AS-roos-001.200120.135204.53.wav  B.11.191231.134801.05.wav\r\n",
      "B-AS-roos-001.200120.135210.89.wav  B.11.191231.135635.04.wav\r\n",
      "B-AS-roos-001.200120.135215.99.wav  B.11.191231.140953.37.wav\r\n",
      "B-AS-roos-001.200120.135944.77.wav  B.11.191231.143154.97.wav\r\n",
      "B-AS-roos-001.200120.140127.94.wav  B.11.191231.145323.68.wav\r\n",
      "B-AS-roos-001.200120.140135.87.wav  B.11.191231.153949.00.wav\r\n",
      "B-AS-roos-001.200120.140323.49.wav  B.11.191231.155217.00.wav\r\n",
      "B-AS-roos-001.200120.140403.62.wav  B.11.200101.133052.38.wav\r\n",
      "B-AS-roos-001.200120.140408.56.wav  B.11.200102.121200.29.wav\r\n",
      "B-AS-roos-001.200120.140416.67.wav  B.11.200102.121553.98.wav\r\n",
      "B-AS-roos-001.200120.140456.00.wav  B.11.200102.125559.23.wav\r\n",
      "B-AS-roos-001.200120.140505.75.wav  B.11.200105.185027.60.wav\r\n",
      "B-AS-roos-001.200120.140526.63.wav  B.11.200105.185348.58.wav\r\n",
      "B-AS-roos-001.200120.140741.70.wav  B.12.191231.135641.12.wav\r\n",
      "B-AS-roos-001.200120.141317.83.wav  B.12.191231.145328.51.wav\r\n",
      "B-AS-roos-001.200120.141441.96.wav  B.12.191231.154004.44.wav\r\n",
      "B-AS-roos-001.200120.141527.60.wav  B.12.200102.121127.66.wav\r\n",
      "B-AS-roos.002.200120.135206.54.wav  B.12.200102.122442.79.wav\r\n",
      "B-AS-roos.002.200120.135425.01.wav  B.12.200102.125135.94.wav\r\n",
      "B-AS-roos.002.200120.140217.15.wav  B.12.200105.185032.27.wav\r\n",
      "B-AS-roos.002.200120.140227.37.wav  B.12.200105.185557.37.wav\r\n",
      "B-AS-roos.002.200120.140531.74.wav  B.13.191231.135704.60.wav\r\n",
      "B-AS-roos.002.200120.140613.74.wav  B.13.191231.141113.89.wav\r\n",
      "B-AS-roos.002.200120.140751.32.wav  B.13.191231.141422.58.wav\r\n",
      "B-AS-roos.002.200120.141641.10.wav  B.13.191231.143233.95.wav\r\n",
      "B-AS-roos.002.200120.142929.58.wav  B.13.191231.145423.94.wav\r\n",
      "B-AS-roos.002.200120.143009.15.wav  B.13.191231.154009.38.wav\r\n",
      "B-AS-roos.002.200120.143040.62.wav  B.13.191231.155346.31.wav\r\n",
      "B-AS-roos.002.200120.143324.47.wav  B.13.200102.122543.64.wav\r\n",
      "B-AS-roos.002.200120.144107.64.wav  B.13.200102.125152.79.wav\r\n",
      "B-AS-roos.002.200120.144156.23.wav  B.13.200105.185710.64.wav\r\n",
      "B-AS-roos.002.200120.144303.53.wav  B.14.191231.141141.51.wav\r\n",
      "B-AS-roos.002.200120.144334.51.wav  B.14.191231.145427.82.wav\r\n",
      "B-AS-roos.002.200120.144359.32.wav  B.14.191231.154011.39.wav\r\n",
      "B-AS-roos.002.200120.144511.77.wav  B.14.191231.155409.13.wav\r\n",
      "B-AS-roos.002.200120.144614.55.wav  B.14.200102.125954.21.wav\r\n",
      "B-AS-roos.002.200120.145605.82.wav  B.14.200105.185107.31.wav\r\n",
      "B-AS-roos.002.200120.150057.15.wav  B.14.200105.185728.66.wav\r\n",
      "B-AS-roos.002.200120.150132.27.wav  B.15.191231.135824.85.wav\r\n",
      "B-AS-roos.002.200120.150302.33.wav  B.15.191231.143834.07.wav\r\n",
      "B-AS-roos.002.200120.150554.44.wav  B.15.191231.145430.53.wav\r\n",
      "B-AS-roos.002.200120.150642.57.wav  B.15.191231.154029.19.wav\r\n",
      "B-AS-roos.002.200120.150737.91.wav  B.15.200101.133400.18.wav\r\n",
      "B-AS-roos.002.200120.150830.81.wav  B.15.200102.125322.40.wav\r\n",
      "B-AS-roos.002.200120.151012.03.wav  B.15.200105.185739.38.wav\r\n",
      "B-AS-roos.002.200120.151023.92.wav  B.16.191231.135834.47.wav\r\n",
      "B-AS-roos.002.200120.151059.87.wav  B.16.191231.141311.24.wav\r\n",
      "B-AS-roos.002.200120.151232.63.wav  B.16.191231.145501.43.wav\r\n",
      "B-AS-roos.002.200120.151333.36.wav  B.16.200102.122051.27.wav\r\n",
      "B-AS-roos.002.200120.152308.26.wav  B.16.200102.125342.93.wav\r\n",
      "B-AS-roos.002.200120.152538.20.wav  B.16.200102.125715.99.wav\r\n",
      "B-AS-roos.002.200120.152618.72.wav  B.16.200105.185803.24.wav\r\n",
      "B-AS-roos.002.200120.152834.35.wav  B.17.191231.143416.32.wav\r\n",
      "B-AS-roos.002.200120.153035.86.wav  B.17.200102.121921.40.wav\r\n",
      "B-AS-roos.002.200120.153048.94.wav  B.17.200102.122159.04.wav\r\n",
      "B-AS-roos.002.200120.153736.38.wav  B.17.200105.185815.33.wav\r\n",
      "B-AS-roos.002.200120.154152.93.wav  B.18.191231.135924.19.wav\r\n",
      "B-AS-roos.002.200120.154408.34.wav  B.18.191231.154103.15.wav\r\n",
      "B-AS-roos.002.200120.154736.46.wav  B.18.191231.155633.41.wav\r\n",
      "B-AS-roos.002.200120.154929.73.wav  B.18.200105.185837.78.wav\r\n",
      "B-AS-roos.002.200120.155438.23.wav  B.19.191231.140008.75.wav\r\n",
      "B-AS-roos.002.200120.160957.18.wav  B.19.191231.141434.08.wav\r\n",
      "B-AS-roos.002.200120.161020.30.wav  B.19.191231.141831.74.wav\r\n",
      "B-AS-roos.002.200120.161823.21.wav  B.19.191231.143917.94.wav\r\n",
      "B-AS-roos.002.200120.161934.98.wav  B.19.191231.155828.56.wav\r\n",
      "B-AS-roos.002.200120.162021.58.wav  B.19.200102.125503.51.wav\r\n",
      "B-AS-roos.002.200120.162034.78.wav  B.20.191231.140026.86.wav\r\n",
      "B-AS-roos.002.200120.162321.58.wav  B.20.191231.141443.81.wav\r\n",
      "B-AS-roos.002.200120.162712.57.wav  B.20.191231.141837.71.wav\r\n",
      "B-AS-roos.002.200120.162802.47.wav  B.20.191231.143924.92.wav\r\n",
      "B-AS-roos.002.200120.163217.04.wav  B.20.191231.155722.83.wav\r\n",
      "B-AS-roos.002.200120.163303.15.wav  B.20.191231.155849.15.wav\r\n",
      "B-AS-roos.002.200120.163321.16.wav  B.21.191231.140102.35.wav\r\n",
      "B-AS-roos.002.200120.163955.29.wav  B.21.191231.141500.27.wav\r\n",
      "B-AS-roos.002.200120.164124.33.wav  B.21.191231.145602.61.wav\r\n",
      "B-AS-roos.002.200120.164715.20.wav  B.21.191231.154225.58.wav\r\n",
      "B-AS-roos.002.200120.164719.42.wav  B.21.191231.155739.26.wav\r\n",
      "B-AS-roos.002.200120.165142.80.wav  B.21.200105.185915.86.wav\r\n",
      "B-AS-roos.002.200120.165200.55.wav  B.22.191231.141543.14.wav\r\n",
      "B-AS-roos.002.200120.165512.61.wav  B.22.191231.141852.49.wav\r\n",
      "B-AS-roos.002.200120.165625.22.wav  B.22.191231.155755.59.wav\r\n",
      "B-Roos01.143045.01.wav              B.22.191231.160044.96.wav\r\n",
      "B-Roos01.143607.53.wav              B.22.200102.123016.89.wav\r\n",
      "B-Roos01.144308.45.wav              B.23.191231.141626.10.wav\r\n",
      "B-Roos01.145225.55.wav              B.23.191231.160053.51.wav\r\n",
      "B-Roos01.145439.85.wav              B.23.200102.125916.68.wav\r\n",
      "B-Roos01.145550.67.wav              B.24.191231.140303.03.wav\r\n",
      "B-Roos01.145558.29.wav              B.24.191231.142000.85.wav\r\n",
      "B-Roos01.145601.76.wav              B.24.191231.144008.23.wav\r\n",
      "B-Roos01.145708.44.wav              B.24.191231.154302.22.wav\r\n",
      "B-Roos01.150152.98.wav              B.24.191231.160058.73.wav\r\n",
      "B-Roos01.150904.74.wav              B.25.191231.141810.91.wav\r\n",
      "B-Roos01.153437.75.wav              B.25.191231.142022.07.wav\r\n",
      "B-Roos01.154726.11.wav              B.25.191231.144047.23.wav\r\n",
      "B-Roos01.154937.35.wav              B.25.191231.154319.31.wav\r\n",
      "B-Roos01.155830.78.wav              B.25.191231.160101.40.wav\r\n",
      "B-Roos01.160238.36.wav              B.26.191231.141823.71.wav\r\n",
      "B-Roos01.160325.12.wav              B.26.191231.142027.19.wav\r\n",
      "B-Roos01.160705.53.wav              B.26.191231.160103.00.wav\r\n",
      "B-Roos01.161740.86.wav              B.27.191231.141858.42.wav\r\n",
      "B-Roos01.163833.50.wav              B.27.191231.142145.44.wav\r\n",
      "B-Roos01.164007.99.wav              B.27.191231.144128.75.wav\r\n",
      "B-Roos01.164433.20.wav              B.27.191231.160107.10.wav\r\n",
      "B-Roos01.164512.14.wav              B.28.191231.141916.34.wav\r\n",
      "B-Roos01.164810.06.wav              B.28.191231.142228.36.wav\r\n",
      "B-Roos01.165132.53.wav              B.28.191231.145842.48.wav\r\n",
      "B-Roos01.170036.99.wav              B.28.200105.190235.96.wav\r\n",
      "B-Roos01.171336.86.wav              B.29.191231.141952.53.wav\r\n",
      "B-Roos01.171345.01.wav              B.29.191231.142233.26.wav\r\n",
      "B-Roos01.172115.18.wav              B.29.191231.144151.87.wav\r\n",
      "B-Roos01.172847.81.wav              B.30.191231.140350.42.wav\r\n",
      "B-Roos02.143113.10.wav              B.30.191231.142015.23.wav\r\n",
      "B-Roos02.143619.48.wav              B.30.191231.144157.50.wav\r\n",
      "B-Roos02.143744.87.wav              B.30.191231.154534.29.wav\r\n",
      "B-Roos02.143937.16.wav              B.30.200102.130238.84.wav\r\n",
      "B-Roos02.144310.92.wav              B.30.200105.190327.99.wav\r\n",
      "B-Roos02.145136.88.wav              B.31.191231.140353.86.wav\r\n",
      "B-Roos02.145324.52.wav              B.31.191231.150056.28.wav\r\n",
      "B-Roos02.145747.51.wav              B.31.200102.130249.00.wav\r\n",
      "B-Roos02.145753.00.wav              B.31.200105.190346.98.wav\r\n",
      "B-Roos02.145933.45.wav              B.32.191231.140425.30.wav\r\n",
      "B-Roos02.150057.22.wav              B.32.191231.142504.83.wav\r\n",
      "B-Roos02.150526.68.wav              B.32.191231.150210.30.wav\r\n",
      "B-Roos02.150728.31.wav              B.32.191231.160403.71.wav\r\n",
      "B-Roos02.151411.08.wav              B.32.200105.190414.12.wav\r\n",
      "B-Roos02.151939.92.wav              B.33.191231.140452.47.wav\r\n",
      "B-Roos02.152126.92.wav              B.33.191231.142521.45.wav\r\n",
      "B-Roos02.153801.82.wav              B.33.191231.150218.15.wav\r\n",
      "B-Roos02.154327.26.wav              B.33.191231.154657.73.wav\r\n",
      "B-Roos02.154513.26.wav              B.34.191231.140532.53.wav\r\n",
      "B-Roos02.154904.37.wav              B.34.191231.154718.88.wav\r\n",
      "B-Roos02.155131.82.wav              B.34.191231.160426.06.wav\r\n",
      "B-Roos02.155212.41.wav              B.34.200105.190442.06.wav\r\n",
      "B-Roos02.155542.23.wav              B.35.191231.142551.81.wav\r\n",
      "B-Roos02.155646.72.wav              B.35.191231.150306.17.wav\r\n",
      "B-Roos02.160036.70.wav              B.36.191231.142633.65.wav\r\n",
      "B-Roos02.160420.76.wav              B.36.200105.190457.23.wav\r\n",
      "B-Roos02.162302.07.wav              B.37.191231.142715.48.wav\r\n",
      "B-Roos02.163352.86.wav              B.37.191231.150405.29.wav\r\n",
      "B-Roos02.163649.36.wav              B.38.191231.140605.97.wav\r\n",
      "B-Roos02.163855.70.wav              B.38.191231.142759.49.wav\r\n",
      "B-Roos02.164738.42.wav              B.38.191231.144243.13.wav\r\n",
      "B-Roos02.165419.50.wav              B.39.191231.160636.09.wav\r\n",
      "B-Roos02.165426.15.wav              B.40.191231.140625.14.wav\r\n",
      "B-Roos02.170446.08.wav              B.40.191231.160640.09.wav\r\n",
      "B-Roos02.172150.50.wav              B.41.191231.140632.00.wav\r\n",
      "B-Roos02.173429.58.wav              B.41.191231.143022.73.wav\r\n",
      "B-Roos03.144111.53.wav              B.41.191231.144308.18.wav\r\n",
      "B-Roos03.144116.88.wav              B.41.191231.160645.79.wav\r\n",
      "B-Roos03.144911.66.wav              B.42.191231.140708.19.wav\r\n",
      "B-Roos03.150143.20.wav              B.42.191231.143028.08.wav\r\n",
      "B-Roos03.152645.11.wav              B.42.191231.160650.91.wav\r\n",
      "B-Roos03.153355.79.wav              B.43.191231.140745.44.wav\r\n",
      "B-Roos03.155928.36.wav              B.43.191231.150538.45.wav\r\n",
      "B-Roos03.160015.01.wav              B.43.191231.160703.19.wav\r\n",
      "B-Roos03.160411.78.wav              B.44.191231.140834.33.wav\r\n",
      "B-Roos03.160416.07.wav              B.44.191231.143250.61.wav\r\n",
      "B-Roos03.160825.02.wav              B.44.191231.144429.38.wav\r\n",
      "B-Roos03.161006.81.wav              B.44.191231.150627.57.wav\r\n",
      "B-Roos03.165538.57.wav              B.45.191231.140840.25.wav\r\n",
      "B-Roos03.173434.25.wav              B.45.191231.143257.14.wav\r\n",
      "B-Roos04.144947.23.wav              B.45.191231.144444.24.wav\r\n",
      "B-Roos04.145136.53.wav              B.45.191231.150629.08.wav\r\n",
      "B-Roos06.145027.03.wav              B.46.191231.140856.82.wav\r\n",
      "B-Roos06.145204.72.wav              B.46.191231.144451.74.wav\r\n",
      "B-Roos06.145352.51.wav              B.47.191231.143428.91.wav\r\n",
      "B-Roos06.150049.12.wav              B.49.191231.141111.45.wav\r\n",
      "B-Roos06.151209.18.wav              B.49.191231.144852.85.wav\r\n",
      "B-Roos06.151224.69.wav              B.49.200105.190825.12.wav\r\n",
      "B-Roos06.151712.00.wav              B.50.191231.144900.12.wav\r\n",
      "B-Roos06.151724.50.wav              B.51.191231.143541.98.wav\r\n",
      "B-Roos06.152303.18.wav              B.51.200105.191030.64.wav\r\n",
      "B-Roos06.152642.33.wav              B.52.200105.191108.98.wav\r\n",
      "B-Roos06.152850.73.wav              B.54.191231.141349.94.wav\r\n",
      "B-Roos06.153226.81.wav              B.54.191231.145033.66.wav\r\n",
      "B-Roos06.154034.03.wav              B.55.191231.145100.40.wav\r\n",
      "B-Roos06.154720.11.wav              B.56.191231.141523.02.wav\r\n",
      "B-Roos06.155317.16.wav              B.56.191231.145103.10.wav\r\n",
      "B-Roos06.155605.70.wav              B.60.191231.145257.19.wav\r\n",
      "B-Roos06.155916.59.wav              B.60.191231.151016.34.wav\r\n",
      "B-Roos06.160828.47.wav              B.64.191231.145338.15.wav\r\n",
      "B-Roos06.160921.80.wav              B.64.191231.151132.60.wav\r\n",
      "B-Roos06.161035.49.wav              B.65.191231.151134.85.wav\r\n",
      "B-Roos06.161844.24.wav              B.70.191231.151217.73.wav\r\n",
      "B-Roos06.162147.68.wav              B.73.191231.151416.11.wav\r\n",
      "B-Roos06.162152.00.wav              B.78.191231.151536.47.wav\r\n",
      "B-Roos06.162957.15.wav              B.79.191231.151538.51.wav\r\n",
      "B-Roos06.163021.15.wav              B.83.191231.151824.22.wav\r\n",
      "B-Roos06.163747.67.wav              B.84.191231.151827.70.wav\r\n",
      "B-Roos06.163918.37.wav              B.87.191231.152015.91.wav\r\n",
      "B-Roos06.164018.13.wav              B.89.191231.152144.83.wav\r\n",
      "B-Roos06.164319.44.wav              B.90.191231.152152.62.wav\r\n",
      "B-Roos06.164443.98.wav              B.95.191231.152426.16.wav\r\n",
      "B-Roos06.164629.87.wav              B.96.191231.152431.62.wav\r\n",
      "B-Roos06.165522.81.wav              B.RGracht-0002.ii.143444.wav\r\n",
      "B-Roos06.170006.50.wav              B.RGracht-0002.ii.143455.wav\r\n",
      "B-Roos06.170750.66.wav              B.RGracht-0002.ii.143743.wav\r\n",
      "B-Roos06.170844.11.wav              B.RGracht-0002.ii.144033.wav\r\n",
      "B-Roos06.171734.71.wav              B.RGracht-0002.ii.144207.wav\r\n",
      "B-Roos06.171832.10.wav              B.RGracht-0002.ii.144244.wav\r\n",
      "B-Roos06.172251.82.wav              B.RGracht-0002.ii.144251.wav\r\n",
      "B-Roos06.172807.88.wav              B.RGracht-0002.ii.145204.wav\r\n",
      "B-Roos06.172932.61.wav              B.RGracht-0002.ii.145333.wav\r\n",
      "B-Roos06.173409.31.wav              B.RGracht-0002.ii.150021.wav\r\n",
      "B-Roos06.173644.56.wav              B.RGracht-0002.ii.151153.wav\r\n",
      "B-Roos07.145643.77.wav              B.RGracht-0002.ii.151335.wav\r\n",
      "B-Roos07.150119.11.wav              B.RGracht-0002.ii.151635.wav\r\n",
      "B-Roos07.150705.98.wav              B.RGracht-0002.ii.152105.wav\r\n",
      "B-Roos07.151151.04.wav              B.RGracht-0002.ii.152440.wav\r\n",
      "B-Roos07.151258.64.wav              B.RGracht-0002.ii.152543.wav\r\n",
      "B-Roos07.152217.63.wav              B.RGracht-0002.ii.152656.wav\r\n",
      "B-Roos07.152437.47.wav              B.RGracht-0002.ii.153144.wav\r\n",
      "B-Roos07.152818.93.wav              B.RGracht-0002.ii.153227.wav\r\n",
      "B-Roos07.154054.94.wav              B.RGracht-0002.ii.153655.wav\r\n",
      "B-Roos07.155053.58.wav              B.RGracht-0002.ii.153729.wav\r\n",
      "B-Roos07.155929.37.wav              B.RGracht-0002.ii.154511.wav\r\n",
      "B-Roos07.160251.32.wav              B.RGracht-0002.ii.155113.wav\r\n",
      "B-Roos07.160739.47.wav              B.RGracht-0002.ii.155528.wav\r\n",
      "B-Roos07.160822.58.wav              B.RGracht-0002.ii.155616.wav\r\n",
      "B-Roos07.164150.12.wav              B.RGracht-0002.ii.155929.wav\r\n",
      "B-Roos08.150439.97.wav              B.RGracht-0002.ii.161552.wav\r\n",
      "B-Roos08.150501.40.wav              B.RGracht-0002.ii.162030.wav\r\n",
      "B-Roos08.150617.67.wav              B.RGracht-0002.ii.162202.wav\r\n",
      "B-Roos08.151301.91.wav              B.RGracht-0002.ii.163102.wav\r\n",
      "B-Roos08.151444.61.wav              B.RGracht-0002.ii.163901.wav\r\n",
      "B-Roos08.152211.02.wav              B.RGracht-0002.ii.164021.wav\r\n",
      "B-Roos08.153318.92.wav              B.RGracht-0002.ii.165221.wav\r\n",
      "B-Roos08.153901.50.wav              B.RGracht-0002.ii.165547.wav\r\n",
      "B-Roos08.154354.42.wav              B.RGracht-0002.ii.165631.wav\r\n",
      "B-Roos08.155059.04.wav              B.RGracht-0002.ii.165905.wav\r\n",
      "B-Roos08.160033.93.wav              B.RGracht-0002.ii.170445.wav\r\n",
      "B-Roos08.160039.65.wav              B.RGracht-0002.ii.170624.wav\r\n",
      "B-Roos08.160118.53.wav              B.RGracht-0002.ii.170721.wav\r\n",
      "B-Roos08.160355.32.wav              B.RGracht-0002.ii.172246.wav\r\n",
      "B-Roos08.160400.20.wav              B.RGracht-0002.ii.172759.wav\r\n",
      "B-Roos08.160717.30.wav              B.RGracht-0002.ii.173029.wav\r\n",
      "B-Roos08.162059.17.wav              B.RGracht-0002.ii.173423.wav\r\n",
      "B-Roos08.162257.62.wav              B.RGracht-0002.ii.173647.wav\r\n",
      "B-Roos08.163201.97.wav              B.RGracht-0003.ii.145453.wav\r\n",
      "B-Roos08.163216.04.wav              B.RGracht-0003.ii.145631.wav\r\n",
      "B-Roos08.163834.03.wav              B.RGracht-0003.ii.150741.wav\r\n",
      "B-Roos08.164613.32.wav              B.RGracht-0003.ii.151128.wav\r\n",
      "B-Roos08.164803.70.wav              B.RGracht-0003.ii.151216.wav\r\n",
      "B-Roos08.164815.07.wav              B.RGracht-0003.ii.151334.wav\r\n",
      "B-Roos08.165415.12.wav              B.RGracht-0003.ii.151907.wav\r\n",
      "B-Roos08.165736.26.wav              B.RGracht-0003.ii.153304.wav\r\n",
      "B-Roos08.170306.53.wav              B.RGracht-0003.ii.153405.wav\r\n",
      "B-Roos08.170420.34.wav              B.RGracht-0003.ii.153410.wav\r\n",
      "B-Roos08.170751.95.wav              B.RGracht-0003.ii.153945.wav\r\n",
      "B-Roos08.170919.28.wav              B.RGracht-0003.ii.161233.wav\r\n",
      "B-Roos08.171104.00.wav              B.RGracht-0003.ii.162446.wav\r\n",
      "B-Roos08.171925.76.wav              B.RGracht-0003.ii.162533.wav\r\n",
      "B-Roos08.172213.19.wav              B.RGracht-0003.ii.163134.wav\r\n",
      "B-Roos08.172501.18.wav              B.RGracht-0003.ii.163248.wav\r\n",
      "B-Roos08.173118.63.wav              B.RGracht-0003.ii.164109.wav\r\n",
      "B-Roos08.173129.77.wav              B.RGracht-0003.ii.164206.wav\r\n",
      "B-Roos08.173236.36.wav              B.RGracht-0003.ii.164651.wav\r\n",
      "B-Roos08.173428.99.wav              B.RGracht-0003.ii.165024.wav\r\n",
      "B-Roos08.174056.89.wav              B.RGracht-0003.ii.165044.wav\r\n",
      "B-Roos08.174235.08.wav              B.RGracht-0003.ii.165815.wav\r\n",
      "B-Roos0B.144400.76.wav              B.RGracht-0003.ii.165827.wav\r\n",
      "B-Roos0B.144856.97.wav              B.RGracht-0003.ii.170735.wav\r\n",
      "B-Roos0B.145542.53.wav              B.RGracht-0003.ii.170934.wav\r\n",
      "B-Roos0B.145651.21.wav              B.RGracht-0003.ii.171734.wav\r\n",
      "B-Roos0B.145714.03.wav              B.RGracht-0003.ii.171902.wav\r\n",
      "B-Roos0B.145949.73.wav              B.RGracht-0004.151354.wav\r\n",
      "B-Roos0B.150009.12.wav              B.RGracht-0004.151709.wav\r\n",
      "B-Roos0B.150105.33.wav              B.RGracht-0004.151742.wav\r\n",
      "B-Roos0B.150818.11.wav              B.RGracht-0004.152019.wav\r\n",
      "B-Roos0B.151357.49.wav              B.RGracht-0004.152042.wav\r\n",
      "B-Roos0B.151636.66.wav              B.RGracht-0004.152253.wav\r\n",
      "B-Roos0B.151721.95.wav              B.RGracht-0004.152314.wav\r\n",
      "B-Roos0B.151811.35.wav              B.RGracht-0004.152529.wav\r\n",
      "B-Roos0B.152426.99.wav              B.RGracht-0004.152706.wav\r\n",
      "B.01.191231.135345.31.wav           B.RGracht-0004.153038.wav\r\n",
      "B.01.191231.140926.52.wav           B.RGracht-0004.153323.wav\r\n",
      "B.01.191231.142554.31.wav           B.RGracht-0004.154011.wav\r\n",
      "B.01.191231.145006.79.wav           B.RGracht-0004.154155.wav\r\n",
      "B.01.191231.153435.11.wav           B.RGracht-0004.154351.wav\r\n",
      "B.01.191231.154300.19.wav           B.RGracht-0004.154526.wav\r\n",
      "B.01.200102.121008.80.wav           B.RGracht-0004.154601.wav\r\n",
      "B.01.200102.124000.44.wav           B.RGracht-0004.154656.wav\r\n",
      "B.01.200102.124228.75.wav           B.RGracht-0004.155137.wav\r\n",
      "B.01.200102.125207.12.wav           B.RGracht-0004.155327.wav\r\n",
      "B.01.200105.184058.11.wav           B.RGracht-0004.155506.wav\r\n",
      "B.01.200105.184807.20.wav           B.RGracht-0004.155513.wav\r\n",
      "B.02.03.19.12.23.154949.65.wav      B.RGracht-0004.160234.wav\r\n",
      "B.02.05.19.12.23.155329.43.wav      B.RGracht-0004.161202.wav\r\n",
      "B.02.191231.134120.83.wav           B.RGracht-0004.163610.wav\r\n",
      "B.02.191231.140523.15.wav           B.RGracht-0004.163845.wav\r\n",
      "B.02.191231.140931.51.wav           B.RGracht-0004.164505.wav\r\n",
      "B.02.191231.145013.23.wav           B.RGracht-0004.164726.wav\r\n",
      "B.02.191231.153527.35.wav           B.RGracht-0004.165300.wav\r\n",
      "B.02.191231.154302.72.wav           B.RGracht-0004.165819.wav\r\n",
      "B.02.200102.121937.11.wav           B.RGracht-0004.170353.wav\r\n",
      "B.02.200102.124314.13.wav           B.RGracht-0004.170546.wav\r\n",
      "B.02.200102.125107.32.wav           B.RGracht-0004.170949.wav\r\n",
      "B.02.200102.125218.44.wav           B.RGracht-0004.171016.wav\r\n",
      "B.02.200105.184333.07.wav           B.RGracht-0004.172042.wav\r\n",
      "B.03.01.191223.162004.47.wav        B.RGracht-0004.172110.wav\r\n",
      "B.03.02.191223.161754.12.wav        B.RGracht-0004.172427.wav\r\n",
      "B.03.03.191223.161915.17.wav        B.RGracht-0004.173301.wav\r\n",
      "B.03.04.191223.162027.48.wav        B.RGracht-0004.173452.wav\r\n",
      "B.03.05.191223.162131.02.wav        B.RGracht-0004.174643.wav\r\n",
      "B.03.07.191223.162213.43.wav        B.RGracht-0004.175726.wav\r\n",
      "B.03.09.191223.162638.17.wav        B.RGracht-0004.175742.wav\r\n",
      "B.03.10.191223.162723.77.wav        B.RGracht-0004.180248.wav\r\n",
      "B.03.191231.134123.44.wav           B.RGracht-0004.180353.wav\r\n",
      "B.03.191231.135452.88.wav           B.RGracht-0004.180439.wav\r\n",
      "B.03.191231.140707.83.wav           B.RGracht-0004.180841.wav\r\n",
      "B.03.191231.140935.18.wav           B.RGracht-0004.181249.wav\r\n",
      "B.03.191231.145050.30.wav           B.RGracht-0004.181805.wav\r\n",
      "B.03.191231.153530.57.wav           B.RGracht-0005.153212.wav\r\n",
      "B.03.200101.132332.43.wav           B.RGracht-0005.153233.wav\r\n",
      "B.03.200102.121033.01.wav           B.RGracht-0005.153307.wav\r\n",
      "B.03.200102.122006.02.wav           B.RGracht-0005.153741.wav\r\n",
      "B.03.200102.122037.89.wav           B.RGracht-0005.153953.wav\r\n",
      "B.03.200102.123453.36.wav           B.RGracht-0005.154413.wav\r\n",
      "B.03.200102.124336.32.wav           B.RGracht-0005.154447.wav\r\n",
      "B.03.200105.184341.73.wav           B.RGracht-0005.154526.wav\r\n",
      "B.04.02.191223.161017.32.wav        B.RGracht-0005.154644.wav\r\n",
      "B.04.03.191223.161315.72.wav        B.RGracht-0005.155236.wav\r\n",
      "B.04.06.191223.161712.94.wav        B.RGracht-0007.154438.wav\r\n",
      "B.04.08.191223.161918.97.wav        B.RGracht-0007.154636.wav\r\n",
      "B.04.10.191223.162015.17.wav        B.RGracht-0007.155026.wav\r\n",
      "B.04.11.191223.162040.77.wav        B.RGracht-0007.155215.wav\r\n",
      "B.04.12.191223.162044.99.wav        B.RGracht-0007.155500.wav\r\n",
      "B.04.15.191223.162309.39.wav        B.RGracht-0007.155638.wav\r\n",
      "B.04.16.191223.162316.17.wav        B.RGracht-0007.160443.wav\r\n",
      "B.04.17.191223.162331.12.wav        B.RGracht-0007.160741.wav\r\n",
      "B.04.18.191223.162422.10.wav        B.RGracht-0007.160933.wav\r\n",
      "B.04.19.191223.162428.66.wav        B.RGracht-0007.161014.wav\r\n",
      "B.04.191231.134125.52.wav           B.RGracht-0007.161212.wav\r\n",
      "B.04.191231.135456.47.wav           B.RGracht-0007.161425.wav\r\n",
      "B.04.191231.142738.14.wav           B.RGracht-0007.161836.wav\r\n",
      "B.04.191231.145056.72.wav           B.RGracht-0007.161846.wav\r\n",
      "B.04.191231.153536.88.wav           B.RGracht-0007.162445.wav\r\n",
      "B.04.200102.121115.57.wav           B.RGracht-0007.162643.wav\r\n",
      "B.04.200102.125359.08.wav           B.RGracht-0007.163124.wav\r\n",
      "B.04.200102.125456.64.wav           B.RGracht-0007.163257.wav\r\n",
      "B.04.200105.184441.31.wav           B.RGracht-0007.163445.wav\r\n",
      "B.04.200105.185044.88.wav           B.RGracht-0007.163804.wav\r\n",
      "B.04.21.191223.162453.92.wav        B.RGracht-0007.163828.wav\r\n",
      "B.04.23.191223.162544.47.wav        B.RGracht-0007.164142.wav\r\n",
      "B.04.25.191223.162720.42.wav        B.RGracht-0007.164544.wav\r\n",
      "B.04.27.191223.162051.67.wav        B.RGracht-0007.164644.wav\r\n",
      "B.04.28.191223.162802.14.wav        B.RGracht-0007.165426.wav\r\n",
      "B.04.29.191223.162848.71.wav        B.RGracht-0007.165516.wav\r\n",
      "B.04.30.191223.162930.91.wav        B.RGracht-0007.165614.wav\r\n",
      "B.04.32.191223.163023.07.wav        B.RGracht-0007.170008.wav\r\n",
      "B.04.33.191223.163027.81.wav        B.RGracht-0007.170145.wav\r\n",
      "B.04.35.191223.163204.13.wav        B.RGracht-0007.171148.wav\r\n",
      "B.04.36.191223.162519.31.wav        B.RGracht-0007.171229.wav\r\n",
      "B.04.39.191223.163558.47.wav        B.RGracht-0008.155555.wav\r\n",
      "B.05.191231.134135.36.wav           B.RGracht-0008.155646.wav\r\n",
      "B.05.191231.135507.14.wav           B.RGracht-0008.160329.wav\r\n",
      "B.05.191231.140959.02.wav           B.RGracht-0008.161524.wav\r\n",
      "B.05.191231.142814.89.wav           B.RGracht-0008.161941.wav\r\n",
      "B.05.191231.155339.06.wav           B.RGracht-0008.162038.wav\r\n",
      "B.05.200102.121154.54.wav           B.RGracht-0008.162413.wav\r\n",
      "B.05.200102.121415.22.wav           B.RGracht-0008.162600.wav\r\n",
      "B.05.200102.122151.10.wav           B.RGracht-0008.163319.wav\r\n",
      "B.05.200105.184509.34.wav           B.RGracht-0008.164615.wav\r\n",
      "B.05.200105.185057.96.wav           B.RGracht-0008.165628.wav\r\n",
      "B.06.191231.135525.62.wav           B.RGracht-0008.165858.wav\r\n",
      "B.06.191231.140840.80.wav           B.RGracht-0008.170518.wav\r\n",
      "B.06.191231.141201.73.wav           B.RGracht-0008.171002.wav\r\n",
      "B.06.191231.153705.88.wav           B.RGracht-0008.171221.wav\r\n",
      "B.06.200102.121158.84.wav           B.RGracht-0008.172312.wav\r\n",
      "B.06.200102.122112.55.wav           B.RGracht-0008.173413.wav\r\n",
      "B.06.200102.124544.48.wav           B.RGracht-0008.173710.wav\r\n",
      "B.06.200105.184520.62.wav           B.RGracht-0008.173741.wav\r\n",
      "B.07.191231.134311.37.wav           B.RGracht-0008.174827.wav\r\n",
      "B.07.191231.140900.97.wav           B.RGracht-0008.175433.wav\r\n",
      "B.07.200102.121202.12.wav           B.RGracht-0008.175748.wav\r\n",
      "B.07.200102.125604.16.wav           B.RGracht-0008.175850.wav\r\n",
      "B.07.200105.184810.99.wav           B.RGracht-0008.181337.wav\r\n",
      "B.08.191231.134635.63.wav           B.RGracht-0008.182340.wav\r\n",
      "B.08.191231.135541.60.wav           B.RGracht-0008.183930.wav\r\n",
      "B.08.191231.142858.22.wav           B.RGracht-0008.185311.wav\r\n",
      "B.08.191231.143529.47.wav           B.RGracht-0008.185629.wav\r\n",
      "B.08.200101.132840.95.wav           B.RGracht-0009.160113.wav\r\n",
      "B.08.200102.121226.70.wav           B.RGracht-0009.160137.wav\r\n",
      "B.08.200102.122318.88.wav           B.RGracht-0009.161611.wav\r\n",
      "B.08.200102.122332.77.wav           B.RGracht-0009.161818.wav\r\n",
      "B.08.200102.124521.31.wav           B.RGracht-0009.161944.wav\r\n",
      "B.08.200102.125444.05.wav           B.RGracht-0009.165311.wav\r\n",
      "B.08.200102.125644.59.wav           B.RGracht-0009.170025.wav\r\n",
      "B.08.200105.184913.40.wav           B.RGracht-0009.171149.wav\r\n",
      "B.09.191231.135627.57.wav           B.RGracht-0009.171819.wav\r\n",
      "B.09.191231.141321.52.wav           B.RGracht-0009.172607.wav\r\n",
      "B.09.191231.142904.31.wav           B.RGracht-0009.172656.wav\r\n",
      "B.09.191231.143608.06.wav           B.RGracht-0009.175502.wav\r\n",
      "B.09.191231.153904.15.wav           B.RGracht-0009.175604.wav\r\n",
      "B.09.191231.154959.61.wav           B.RGracht-0009.175806.wav\r\n",
      "B.09.200102.124728.53.wav           B.RGracht-0009.180014.wav\r\n",
      "B.09.200102.125712.80.wav           B.Roos-09.160922.wav\r\n",
      "B.09.200105.184925.91.wav           B.Roos-09.161157.wav\r\n",
      "B.10.191231.135631.68.wav           B.Roos-09.161612.wav\r\n",
      "B.10.191231.141332.73.wav\r\n"
     ]
    }
   ],
   "source": [
    "ls"
   ]
  },
  {
   "cell_type": "code",
   "execution_count": 99,
   "id": "cdc01d1a",
   "metadata": {},
   "outputs": [],
   "source": [
    "folder = '04_brommers'"
   ]
  },
  {
   "cell_type": "code",
   "execution_count": 100,
   "id": "0794f678",
   "metadata": {},
   "outputs": [
    {
     "data": {
      "text/plain": [
       "['B.09.191231.143608.06.wav',\n",
       " 'B-Roos08.150501.40.wav',\n",
       " 'B-Roos02.173429.58.wav',\n",
       " 'B.RGracht-0008.174827.wav',\n",
       " 'B.42.191231.140708.19.wav']"
      ]
     },
     "execution_count": 100,
     "metadata": {},
     "output_type": "execute_result"
    }
   ],
   "source": [
    "#load all the files to a list of files\n",
    "import os\n",
    "folder_list= os.listdir(f'/Users/michielbontenbal/Desktop/0_samples/{folder}')\n",
    "folder_list[0:5]"
   ]
  },
  {
   "cell_type": "code",
   "execution_count": 102,
   "id": "85d7fc46",
   "metadata": {},
   "outputs": [
    {
     "data": {
      "text/plain": [
       "813"
      ]
     },
     "execution_count": 102,
     "metadata": {},
     "output_type": "execute_result"
    }
   ],
   "source": [
    "len(folder_list)"
   ]
  },
  {
   "cell_type": "markdown",
   "id": "81c2f758",
   "metadata": {},
   "source": [
    "## Splitting the file names and assign to new list"
   ]
  },
  {
   "cell_type": "code",
   "execution_count": 67,
   "id": "2dfd01d4",
   "metadata": {},
   "outputs": [
    {
     "data": {
      "text/plain": [
       "['A-Roos01.151936.95',\n",
       " 'A.48.200105.190905.84',\n",
       " 'A.RGracht-0008.165152',\n",
       " 'A.RGracht-0007.160729',\n",
       " 'A.RGracht-0004.181256']"
      ]
     },
     "execution_count": 67,
     "metadata": {},
     "output_type": "execute_result"
    }
   ],
   "source": [
    "#split the files names\n",
    "split_file_names =[]\n",
    "for i in range(len(folder_list)):\n",
    "    file, ext = os.path.splitext(folder_list[i])\n",
    "    split_file_names.append(file)\n",
    "split_file_names[0:5]"
   ]
  },
  {
   "cell_type": "code",
   "execution_count": 68,
   "id": "14be080a",
   "metadata": {},
   "outputs": [
    {
     "data": {
      "text/plain": [
       "['A-Roos01_151936_95.wav',\n",
       " 'A_48_200105_190905_84.wav',\n",
       " 'A_RGracht-0008_165152.wav',\n",
       " 'A_RGracht-0007_160729.wav',\n",
       " 'A_RGracht-0004_181256.wav']"
      ]
     },
     "execution_count": 68,
     "metadata": {},
     "output_type": "execute_result"
    }
   ],
   "source": [
    "#change it for all files\n",
    "new_files_list =[]\n",
    "for i in range(len(split_file_names)):\n",
    "    my_str = split_file_names[i]\n",
    "    my_str = my_str.replace(\".\", \"_\")\n",
    "    #print(my_str)\n",
    "    my_file = my_str +'.wav'\n",
    "    new_files_list.append(my_file)\n",
    "new_files_list[0:5]"
   ]
  },
  {
   "cell_type": "code",
   "execution_count": 69,
   "id": "a0dca8db",
   "metadata": {},
   "outputs": [
    {
     "data": {
      "text/plain": [
       "23"
      ]
     },
     "execution_count": 69,
     "metadata": {},
     "output_type": "execute_result"
    }
   ],
   "source": [
    "len(new_files_list)"
   ]
  },
  {
   "cell_type": "code",
   "execution_count": 70,
   "id": "81b4d1c9",
   "metadata": {},
   "outputs": [
    {
     "data": {
      "text/plain": [
       "True"
      ]
     },
     "execution_count": 70,
     "metadata": {},
     "output_type": "execute_result"
    }
   ],
   "source": [
    "#check whether files have equal length\n",
    "len(new_files_list)== len(folder_list)"
   ]
  },
  {
   "cell_type": "markdown",
   "id": "accddb8d",
   "metadata": {},
   "source": [
    "## Rename the files"
   ]
  },
  {
   "cell_type": "code",
   "execution_count": 80,
   "id": "55ebc95e",
   "metadata": {},
   "outputs": [
    {
     "name": "stdout",
     "output_type": "stream",
     "text": [
      "/Users/michielbontenbal/Desktop/0_samples/03_brommer_alarms\n"
     ]
    }
   ],
   "source": [
    "#cd /Users/michielbontenbal/Desktop/0_samples/03_brommer_alarms"
   ]
  },
  {
   "cell_type": "code",
   "execution_count": 81,
   "id": "e94e3bf0",
   "metadata": {},
   "outputs": [
    {
     "data": {
      "text/plain": [
       "'/Users/michielbontenbal/Desktop/0_samples/03_brommer_alarms'"
      ]
     },
     "execution_count": 81,
     "metadata": {},
     "output_type": "execute_result"
    }
   ],
   "source": [
    "pwd"
   ]
  },
  {
   "cell_type": "code",
   "execution_count": 82,
   "id": "d8242d33",
   "metadata": {},
   "outputs": [
    {
     "name": "stdout",
     "output_type": "stream",
     "text": [
      "['A-Roos01_151936_95.wav', 'A_RGracht-0008_165207.wav', 'A_RGracht-0007_155818.wav', 'A_43_200105_190810_64.wav', 'A-AS-roos_002_200120_140030_83.wav', 'A_48_200105_190905_84.wav', 'A_RGracht-0002_ii_143352.wav', 'A_49_200105_190825_12 copy.wav', 'A_RGracht-0002_ii_171514.wav', 'A_RGracht-0004_174326.wav', 'A-Roos03_170310_33.wav', 'A_RGracht-0004_174331.wav', 'A-Roos06_174709_68.wav', 'A-Roos01_151949_14.wav', 'A_44_200105_190811_45.wav', 'A-Roos06_174657_10.wav', 'A_RGracht-0008_165152.wav', 'A-AS-roos-001_200120_135526_35.wav', 'A_46_200105_190855_69.wav', 'A_RGracht-0007_160729.wav', 'A-AS-roos_002_200120_140013_80.wav', 'A-Roos06_174647_06.wav', 'A_RGracht-0004_181256.wav']\n"
     ]
    }
   ],
   "source": [
    "#rename for a list of files\n",
    "\n",
    "old_files = folder_list\n",
    "\n",
    "for i in range(len(old_files)):\n",
    "    try:\n",
    "        os.rename(old_files[i], new_files_list[i])\n",
    "    except:\n",
    "        pass\n",
    "print(os.listdir())"
   ]
  },
  {
   "cell_type": "code",
   "execution_count": null,
   "id": "af5d3336",
   "metadata": {},
   "outputs": [],
   "source": []
  }
 ],
 "metadata": {
  "kernelspec": {
   "display_name": "Python 3 (ipykernel)",
   "language": "python",
   "name": "python3"
  },
  "language_info": {
   "codemirror_mode": {
    "name": "ipython",
    "version": 3
   },
   "file_extension": ".py",
   "mimetype": "text/x-python",
   "name": "python",
   "nbconvert_exporter": "python",
   "pygments_lexer": "ipython3",
   "version": "3.9.12"
  }
 },
 "nbformat": 4,
 "nbformat_minor": 5
}
