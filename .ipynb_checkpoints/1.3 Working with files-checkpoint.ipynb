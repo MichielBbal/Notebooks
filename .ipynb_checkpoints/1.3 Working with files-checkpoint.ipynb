{
 "cells": [
  {
   "cell_type": "markdown",
   "metadata": {},
   "source": [
    "# Working with files\n",
    "\n",
    "\n",
    "## Contents\n",
    "\n",
    "0. Install packages\n",
    "1. Writing to a text file\n",
    "2. Reading from a text file\n",
    "3. JSON\n",
    "4. YAML\n",
    "5. Pickle\n",
    "6. XML to JSON"
   ]
  },
  {
   "cell_type": "markdown",
   "metadata": {},
   "source": [
    "## 0. Install packages"
   ]
  },
  {
   "cell_type": "code",
   "execution_count": 2,
   "metadata": {},
   "outputs": [
    {
     "name": "stdout",
     "output_type": "stream",
     "text": [
      "Requirement already satisfied: pyyaml in c:\\users\\31653\\anaconda3\\lib\\site-packages (5.3.1)\n",
      "Note: you may need to restart the kernel to use updated packages.\n"
     ]
    }
   ],
   "source": [
    "%pip install pyyaml "
   ]
  },
  {
   "cell_type": "markdown",
   "metadata": {},
   "source": [
    "### 1. Writing to a text file"
   ]
  },
  {
   "cell_type": "code",
   "execution_count": 1,
   "metadata": {},
   "outputs": [],
   "source": [
    "#this scripts creates a .txt file with 3 lines Michiel, Bontenbal and empty line\n",
    "with open ('accounts.txt', mode='w') as accounts:\n",
    "    accounts.write('100 Jones 24.98\\n')\n",
    "    accounts.write('200 Doe 345.67\\n')\n",
    "    accounts.write('300 White 0.00\\n')\n",
    "    print('400 Stone -42.16', file=accounts)#also create a new line in the file\n",
    "    print('500 Rich 224.62', file=accounts)\n",
    "#python closes the file"
   ]
  },
  {
   "cell_type": "code",
   "execution_count": 6,
   "metadata": {},
   "outputs": [
    {
     "name": "stdout",
     "output_type": "stream",
     "text": [
      " Volume in drive C is OS\n",
      " Volume Serial Number is 2818-58FB\n",
      "\n",
      " Directory of C:\\Users\\31653\\Documents\\GitHub\\Notebooks\n",
      "\n",
      "06/02/2021  16:07                84 accounts.txt\n",
      "               1 File(s)             84 bytes\n",
      "               0 Dir(s)  354.861.756.416 bytes free\n"
     ]
    }
   ],
   "source": [
    "ls *.txt "
   ]
  },
  {
   "cell_type": "markdown",
   "metadata": {},
   "source": [
    "### 2. Reading Data from a text file"
   ]
  },
  {
   "cell_type": "code",
   "execution_count": 2,
   "metadata": {},
   "outputs": [
    {
     "name": "stdout",
     "output_type": "stream",
     "text": [
      "Account   Name         Balance\n",
      "100       Jones          24.98\n",
      "200       Doe           345.67\n",
      "300       White           0.00\n",
      "400       Stone         -42.16\n",
      "500       Rich          224.62\n"
     ]
    }
   ],
   "source": [
    "with open ('accounts.txt', mode='r') as accounts:\n",
    "    print(f'{\"Account\":<10}{\"Name\": <10}{\"Balance\":>10}')#create three headers/columns with 10 characters and align < or >\n",
    "    for record in accounts: #for each row do the followinh\n",
    "        account, name, balance = record.split()\n",
    "        print(f'{account:<10}{name:<10}{balance:>10}')"
   ]
  },
  {
   "cell_type": "markdown",
   "metadata": {},
   "source": [
    "## 3. JSON \n",
    "source: https://www.programiz.com/python-programming/json"
   ]
  },
  {
   "cell_type": "code",
   "execution_count": 1,
   "metadata": {},
   "outputs": [
    {
     "name": "stdout",
     "output_type": "stream",
     "text": [
      "{'name': 'Bob', 'languages': ['English', 'French']}\n",
      "['English', 'French']\n"
     ]
    }
   ],
   "source": [
    "import json\n",
    "\n",
    "person = '{\"name\": \"Bob\", \"languages\": [\"English\", \"French\"]}'\n",
    "person_dict = json.loads(person)\n",
    "\n",
    "# Output: {'name': 'Bob', 'languages': ['English', 'French']}\n",
    "print(person_dict)\n",
    "\n",
    "# Output: ['English', 'French']\n",
    "print(person_dict['languages'])"
   ]
  },
  {
   "cell_type": "code",
   "execution_count": 4,
   "metadata": {},
   "outputs": [
    {
     "name": "stdout",
     "output_type": "stream",
     "text": [
      "{'name': 'Bob', 'languages': ['English', 'French']}\n"
     ]
    }
   ],
   "source": [
    "import json\n",
    "\n",
    "with open('person.json') as f:\n",
    "    data = json.load(f)\n",
    "\n",
    "# Output: {'name': 'Bob', 'languages': ['English', 'Fench']}\n",
    "print(data)"
   ]
  },
  {
   "cell_type": "code",
   "execution_count": null,
   "metadata": {},
   "outputs": [],
   "source": []
  },
  {
   "cell_type": "markdown",
   "metadata": {},
   "source": [
    "## 4. YAML\n",
    "\n",
    "Pypi: https://pypi.org/project/PyYAML/\n",
    "\n",
    "source: https://zetcode.com/python/yaml/\n",
    "\n",
    "Use the following files: items.yaml en "
   ]
  },
  {
   "cell_type": "markdown",
   "metadata": {},
   "source": [
    "raincoat: 1\n",
    "coins: 5\n",
    "books: 23\n",
    "spectacles: 2\n",
    "chairs: 12\n",
    "pens: 6"
   ]
  },
  {
   "cell_type": "code",
   "execution_count": 4,
   "metadata": {},
   "outputs": [
    {
     "name": "stdout",
     "output_type": "stream",
     "text": [
      "{'raincoat': 1, 'coins': 5, 'books': 23, 'spectacles': 2, 'chairs': 12, 'pens': 6}\n"
     ]
    }
   ],
   "source": [
    "import yaml\n",
    "\n",
    "with open('items.yaml') as f:\n",
    "    \n",
    "    data = yaml.load(f, Loader=yaml.FullLoader)\n",
    "    print(data)"
   ]
  },
  {
   "cell_type": "code",
   "execution_count": 5,
   "metadata": {},
   "outputs": [
    {
     "data": {
      "text/plain": [
       "dict"
      ]
     },
     "execution_count": 5,
     "metadata": {},
     "output_type": "execute_result"
    }
   ],
   "source": [
    "type(data)"
   ]
  },
  {
   "cell_type": "markdown",
   "metadata": {},
   "source": [
    "data.yaml:\n",
    "cities:\n",
    "  - Bratislava\n",
    "  - Kosice\n",
    "  - Trnava\n",
    "  - Moldava\n",
    "  - Trencin\n",
    "---\n",
    "companies:\n",
    "  - Eset\n",
    "  - Slovnaft\n",
    "  - Duslo Sala\n",
    "  - Matador Puchov"
   ]
  },
  {
   "cell_type": "code",
   "execution_count": 14,
   "metadata": {},
   "outputs": [
    {
     "name": "stdout",
     "output_type": "stream",
     "text": [
      "cities -> ['Bratislava', 'Kosice', 'Trnava', 'Moldava', 'Trencin']\n",
      "companies -> ['Eset', 'Slovnaft', 'Duslo Sala', 'Matador Puchov']\n"
     ]
    }
   ],
   "source": [
    "#!/usr/bin/env python3\n",
    "\n",
    "import yaml\n",
    "\n",
    "with open('data.yaml') as f:\n",
    "    \n",
    "    docs = yaml.load_all(f, Loader=yaml.FullLoader)\n",
    "\n",
    "    for doc in docs:\n",
    "        \n",
    "        for k, v in doc.items():\n",
    "           print(k, \"->\", v)\n",
    "           "
   ]
  },
  {
   "cell_type": "code",
   "execution_count": null,
   "metadata": {},
   "outputs": [],
   "source": []
  },
  {
   "cell_type": "markdown",
   "metadata": {},
   "source": [
    "## 5. Pickle\n",
    "\n",
    "Pickle is Python's native object serialization module.  \n",
    "\n",
    "Pickle official information: https://docs.python.org/3/library/pickle.html\n",
    "Pickle tutorial: https://www.datacamp.com/community/tutorials/pickle-python-tutorial\n",
    "\n",
    "#### Pickle vs JSON\n",
    "- Pickle pro's = python native\n",
    "- JSON pro's = faster, interoperability, more secure"
   ]
  },
  {
   "cell_type": "code",
   "execution_count": 3,
   "metadata": {},
   "outputs": [],
   "source": [
    "import pickle"
   ]
  },
  {
   "cell_type": "code",
   "execution_count": 7,
   "metadata": {},
   "outputs": [],
   "source": [
    "# Save a dictionary into a pickle file.\n",
    "import pickle\n",
    "\n",
    "favorite_color = { \"lion\": \"yellow\", \"kitty\": \"red\" }\n",
    "pickle.dump( favorite_color, open( \"save.pkl\", \"wb\" ) )"
   ]
  },
  {
   "cell_type": "code",
   "execution_count": 8,
   "metadata": {},
   "outputs": [
    {
     "data": {
      "text/plain": [
       "{'lion': 'yellow', 'kitty': 'red'}"
      ]
     },
     "execution_count": 8,
     "metadata": {},
     "output_type": "execute_result"
    }
   ],
   "source": [
    "# Open the pickle file and assign to a new variable\n",
    "favorite_color_new = pickle.load( open( \"save.pkl\", \"rb\" ) )\n",
    "favorite_color_new"
   ]
  },
  {
   "cell_type": "markdown",
   "metadata": {},
   "source": [
    "## 6. XML to JSON"
   ]
  },
  {
   "cell_type": "code",
   "execution_count": 1,
   "metadata": {},
   "outputs": [
    {
     "name": "stdout",
     "output_type": "stream",
     "text": [
      "Requirement already satisfied: xmltodict in c:\\users\\31653\\anaconda3\\lib\\site-packages (0.12.0)\n",
      "Note: you may need to restart the kernel to use updated packages.\n"
     ]
    }
   ],
   "source": [
    "%pip install xmltodict"
   ]
  },
  {
   "cell_type": "code",
   "execution_count": 2,
   "metadata": {},
   "outputs": [
    {
     "name": "stdout",
     "output_type": "stream",
     "text": [
      "{\"website\": {\"name\": \"Codespeedy\", \"article\": \"Related to programming\", \"message\": \"You can learn easily from codespeedy\"}}\n"
     ]
    }
   ],
   "source": [
    "import xmltodict\n",
    "import json\n",
    "\n",
    "xml='''<website>\n",
    "        <name>Codespeedy</name>\n",
    "        <article>Related to programming</article>\n",
    "        <message>You can learn easily from codespeedy</message>\n",
    "    </website>'''\n",
    "\n",
    "my_dict=xmltodict.parse(xml)\n",
    "json_data=json.dumps(my_dict)\n",
    "print(json_data)"
   ]
  },
  {
   "cell_type": "code",
   "execution_count": 3,
   "metadata": {},
   "outputs": [],
   "source": [
    "my_xml='''<emp_bank_tx>\n",
    "         <ebnkt_bank_def_id>BVKZ</ebnkt_bank_def_id>\n",
    "         <ebnkt_employee_id>99999901</ebnkt_employee_id>\n",
    "         <ebnkt_transaction_date>2021-03-01</ebnkt_transaction_date>\n",
    "         <ebnkt_transaction_type>3</ebnkt_transaction_type>\n",
    "         <ebnkt_amount>56h00</ebnkt_amount>\n",
    "         <ebnkt_reason_code>ECALC</ebnkt_reason_code>\n",
    "        </emp_bank_tx>'''"
   ]
  },
  {
   "cell_type": "code",
   "execution_count": 4,
   "metadata": {},
   "outputs": [
    {
     "name": "stdout",
     "output_type": "stream",
     "text": [
      "{\"emp_bank_tx\": {\"ebnkt_bank_def_id\": \"BVKZ\", \"ebnkt_employee_id\": \"99999901\", \"ebnkt_transaction_date\": \"2021-03-01\", \"ebnkt_transaction_type\": \"3\", \"ebnkt_amount\": \"56h00\", \"ebnkt_reason_code\": \"ECALC\"}}\n"
     ]
    }
   ],
   "source": [
    "import xmltodict\n",
    "import json\n",
    "\n",
    "xml=my_xml\n",
    "\n",
    "my_dict=xmltodict.parse(xml)\n",
    "json_data=json.dumps(my_dict)\n",
    "print(json_data)"
   ]
  },
  {
   "cell_type": "code",
   "execution_count": null,
   "metadata": {},
   "outputs": [],
   "source": []
  }
 ],
 "metadata": {
  "kernelspec": {
   "display_name": "Python 3",
   "language": "python",
   "name": "python3"
  },
  "language_info": {
   "codemirror_mode": {
    "name": "ipython",
    "version": 3
   },
   "file_extension": ".py",
   "mimetype": "text/x-python",
   "name": "python",
   "nbconvert_exporter": "python",
   "pygments_lexer": "ipython3",
   "version": "3.8.5"
  }
 },
 "nbformat": 4,
 "nbformat_minor": 4
}
