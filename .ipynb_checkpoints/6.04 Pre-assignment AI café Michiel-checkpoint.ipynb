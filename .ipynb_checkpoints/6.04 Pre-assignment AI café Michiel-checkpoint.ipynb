{
 "cells": [
  {
   "cell_type": "markdown",
   "metadata": {},
   "source": [
    "\n",
    "# Pre assignment AI Cafe\n",
    "\n",
    "Michiel Bontenbal<br>\n",
    "Version: 0.2<br>\n",
    "Date: 2019-12-27\n",
    "\n",
    "## Contents:\n",
    " - a short script on assigning variables XXX Amsterdam and a second version to show what happens when variables are wrongly assigned.\n",
    " - Class Point  - first part done, second part ongoing"
   ]
  },
  {
   "cell_type": "code",
   "execution_count": 6,
   "metadata": {},
   "outputs": [
    {
     "name": "stdout",
     "output_type": "stream",
     "text": [
      "Am\n",
      "ster\n",
      "dam\n"
     ]
    }
   ],
   "source": [
    "# Just a short script to show the difference between global, class and functional variables\n",
    "\n",
    "X1 = \"Am\" #This is the global variable containging the value \"Am\"\n",
    "\n",
    "class X2:\n",
    "    X2 = \"ster\" # This is the class variable\n",
    "    \n",
    "    def __init__(self, X3):\n",
    "        self.X3 = X3 \n",
    "\n",
    "#now create an instance:        \n",
    "X3 = X2(\"dam\") #this is the function variable adding it to the class\n",
    "\n",
    "print(X1) # print the global variable\n",
    "print(X2.X2) # print the Class variable\n",
    "print(X3.X3) # print the function variable"
   ]
  },
  {
   "cell_type": "code",
   "execution_count": 8,
   "metadata": {},
   "outputs": [
    {
     "name": "stdout",
     "output_type": "stream",
     "text": [
      "<__main__.X object at 0x000002842563D388>\n",
      "dam\n"
     ]
    }
   ],
   "source": [
    "# Just a short script to show what happens when the variables are wrongly assigned :-)\n",
    "\n",
    "X = \"Am\" #This is the global variable\n",
    "\n",
    "class X:\n",
    "    X = \"ster\" # This is the class variable\n",
    "    \n",
    "    def __init__(self, X):\n",
    "        self.X = X \n",
    "\n",
    "#now create an instance:        \n",
    "X = X(\"dam\") #this is the function variable\n",
    "\n",
    "print(X) # print the global variable\n",
    "print(X.X) # print the Class variable\n",
    "#print(X3.X3) # print the function variable"
   ]
  },
  {
   "cell_type": "markdown",
   "metadata": {},
   "source": [
    "## Class point\n"
   ]
  },
  {
   "cell_type": "code",
   "execution_count": 24,
   "metadata": {},
   "outputs": [
    {
     "name": "stdout",
     "output_type": "stream",
     "text": [
      "Point=(5,6)\n",
      "Add=(4, 5)\n",
      "Subtract=(-2, -3)\n",
      "Mulscalar=(3, 4)\n",
      "Dotscalar=7\n",
      "Distance=3.605551275463989\n",
      "Norm=5.0\n",
      "Average group of points= (4.0, 4.75)\n"
     ]
    }
   ],
   "source": [
    "import math\n",
    "class Point():\n",
    "    \"\"\" A class for x,y points \"\"\"\n",
    "\n",
    "    def __init__(self, x, y): #The class has an x and y variable\n",
    "        \"\"\" Create a point \"\"\"\n",
    "        self.x = x\n",
    "        self.y = y\n",
    "    def __str__(self): \n",
    "        \"\"\"standard Python method to make a string of an object. #object.__str__(self) method to \n",
    "            compute printable string representation of an object\"\"\"\n",
    "        return \"({}, {})\".format(self.x, self.y)\n",
    "    def display(self):\n",
    "        return \"({},{})\".format(self.x,self.y)\n",
    "    def add(p1,p2): #method to add p1 and p2\n",
    "        x = p1.x+p2.x\n",
    "        y = p1.y+p2.y\n",
    "        return Point(x,y)#add the object to the class Point\n",
    "    def sub(p1,p2): #method to subtract p2 from p1\n",
    "        x = p1.x-p2.x\n",
    "        y = p1.y-p2.y\n",
    "        return Point(x,y)\n",
    "    def mulscalar (p1,p2): #method to create a scalar\n",
    "        x = p1.x*p2.x\n",
    "        y = p1.y*p2.y\n",
    "        return Point(x,y)\n",
    "    def dotscalar(p1,p2): # p · q = px × qx + py × qy\n",
    "        return p.x*q.x+p.y*q.y\n",
    "    def distance (p1,p2): #method to calculate Euclidian distance between two points\n",
    "        return math.sqrt((p1.x-p2.x)**2+(p1.y-p2.y)**2)\n",
    "    def norm (self): #method to create the norm or distance to origin\n",
    "        return math.sqrt((0-self.x)**2+(0-self.y)**2)\n",
    "        \n",
    "#create multiple instances of Point         \n",
    "p = Point(1,1)         # instance p of Point with x,y\n",
    "q = Point(3,4)         # instance q\n",
    "r = Point(5,6)  # instance r\n",
    "s = Point(7,8)\n",
    "print(\"Point=\"+str(Point.display(r))) # Calling the display function\n",
    "print(\"Add=\"+str(Point.add(p,q))) #calling the add method\n",
    "print(\"Subtract=\"+str(Point.sub(p,q))) #calling the sub method\n",
    "print(\"Mulscalar=\"+str(Point.mulscalar(p,q)))\n",
    "print(\"Dotscalar=\"+str(Point.dotscalar(p,q)))\n",
    "print(\"Distance=\"+str(Point.distance(p,q))) \n",
    "print(\"Norm=\"+str(Point.norm(q)))\n",
    "# to do create a for loop to put the tuples apart\n",
    "\n",
    "#Average for a group of points\n",
    "def average(p1,p2,p3,p4):\n",
    "    avg_x = (p1.x+p2.x+p3.x+p4.x)/4\n",
    "    avg_y = (p1.y+p2.y+p3.y+p4.y)/4\n",
    "    return (avg_x, avg_y)\n",
    "\n",
    "print(\"Average group of points= \"+ str(average(p,q,r,s)))"
   ]
  },
  {
   "cell_type": "markdown",
   "metadata": {},
   "source": [
    "## Return the point from the list of points that is closest to the first point"
   ]
  },
  {
   "cell_type": "code",
   "execution_count": 26,
   "metadata": {},
   "outputs": [
    {
     "name": "stdout",
     "output_type": "stream",
     "text": [
      "The nearest point to fist point= (3, 1)\n"
     ]
    }
   ],
   "source": [
    "#Return the point from the list of points that is closest to the first point\n",
    "# to do make a function out of it\n",
    "import math\n",
    "points = ((0,1),(6,1),(3,6),(2,4),(1,5),(7,2),(3,1),(2,5))# create the points\n",
    "x0,y0=points[0] #select the first point\n",
    "list = [] #create an empty list\n",
    "for x in range(1): \n",
    "    for (x,y) in points: # create nested for loop\n",
    "        distance_from_first = (x,y,math.sqrt((x0-x)**2+(y0-y)**2)) #for x, y calculate the distance from x0,y0\n",
    "        list.append(distance_from_first) #list comprehension. Add the elements to the list\n",
    "distance = lambda x:x[2] #create a distance for sorting\n",
    "list.sort(key=distance)  #sort       \n",
    "#print(\"List sorted on distance= \"+str(list))\n",
    "nearest_point = list[1] #select the second item of the list (the nearest except for the first point itself) \n",
    "print(\"The nearest point to first point= \"+str(nearest_point[0:2])) #print the first and second item to get x,y of the nearest point"
   ]
  },
  {
   "cell_type": "markdown",
   "metadata": {},
   "source": [
    "## Cosine similarity\n",
    "\n",
    "cosinusgelijkenis = A · B / ||A|| ||B||"
   ]
  },
  {
   "cell_type": "code",
   "execution_count": 25,
   "metadata": {},
   "outputs": [
    {
     "name": "stdout",
     "output_type": "stream",
     "text": [
      "Cosine similarity=0.9899494936611665\n"
     ]
    }
   ],
   "source": [
    "def cos_sim (p1,p2): \n",
    "    dot_scal =p.x*q.x+p.y*q.y #method to create the norm or distance to origin\n",
    "    normp1 = math.sqrt((0-p1.x)**2+(0-p1.y)**2)\n",
    "    normp2 = math.sqrt((0-p2.x)**2+(0-p2.y)**2)\n",
    "    return dot_scal/(normp1*normp2)\n",
    "        \n",
    "#create multiple instances of Point         \n",
    "p = Point(1,1)         # instance p of Point with x,y\n",
    "q = Point(3,4)         # instance q\n",
    "r = Point(5,6)         # instance r\n",
    "\n",
    "print(\"Cosine similarity=\"+str(cos_sim(p,q)))\n",
    "# to do: return the point with lowest cosine similarity"
   ]
  }
 ],
 "metadata": {
  "kernelspec": {
   "display_name": "Python 3 (ipykernel)",
   "language": "python",
   "name": "python3"
  },
  "language_info": {
   "codemirror_mode": {
    "name": "ipython",
    "version": 3
   },
   "file_extension": ".py",
   "mimetype": "text/x-python",
   "name": "python",
   "nbconvert_exporter": "python",
   "pygments_lexer": "ipython3",
   "version": "3.10.9"
  }
 },
 "nbformat": 4,
 "nbformat_minor": 2
}
