{
 "cells": [
  {
   "cell_type": "markdown",
   "metadata": {},
   "source": [
    "# Pandas\n",
    "\n",
    "Pandas is a software library written for the Python programming language for data manipulation and analysis. In particular, it offers data structures and operations for manipulating numerical tables and time series. \n",
    "\n",
    "The name Pandas is derived from the term \"panel data\", an econometrics term for data sets that include observations over multiple time periods for the same individuals\n",
    "\n",
    "\n",
    "Pandas can ben used to store the data in a Dataframe. Think of it as a spreadsheet.\n",
    "It is very handy for time series and tabular data.\n",
    "Pandas runs on top of NumPy, so you need to install that first. \n",
    "\n",
    "See more at: https://pandas.pydata.org\n",
    "\n",
    "## Contents\n",
    "0. Install pandas\n",
    "1. My first pandas\n",
    "2. Import CSV files etc\n",
    "3. Data cleansing\n",
    "4. Pandas append data\n",
    "5. Selecting values\n"
   ]
  },
  {
   "cell_type": "code",
   "execution_count": 1,
   "metadata": {},
   "outputs": [
    {
     "name": "stdout",
     "output_type": "stream",
     "text": [
      "Requirement already satisfied: pandas in c:\\users\\michiel\\anaconda3\\lib\\site-packages (0.25.1)\n",
      "Requirement already satisfied: numpy>=1.13.3 in c:\\users\\michiel\\anaconda3\\lib\\site-packages (from pandas) (1.16.5)\n",
      "Requirement already satisfied: python-dateutil>=2.6.1 in c:\\users\\michiel\\anaconda3\\lib\\site-packages (from pandas) (2.8.0)\n",
      "Requirement already satisfied: pytz>=2017.2 in c:\\users\\michiel\\anaconda3\\lib\\site-packages (from pandas) (2019.3)\n",
      "Requirement already satisfied: six>=1.5 in c:\\users\\michiel\\anaconda3\\lib\\site-packages (from python-dateutil>=2.6.1->pandas) (1.12.0)\n"
     ]
    }
   ],
   "source": [
    "# use this command to install pandas\n",
    "#!pip install numpy\n",
    "!pip install pandas"
   ]
  },
  {
   "cell_type": "markdown",
   "metadata": {},
   "source": [
    "## 1. My first pandas\n"
   ]
  },
  {
   "cell_type": "code",
   "execution_count": 2,
   "metadata": {},
   "outputs": [
    {
     "name": "stdout",
     "output_type": "stream",
     "text": [
      "--------------------------------------------------\n",
      "[ 1. load hard coded data into a df ]\n",
      "   month  avg_high  avg_low  record_high  record_low  avg_precipitation\n",
      "0    Jan        58       42           74          22               2.95\n",
      "1    Feb        61       45           78          26               3.02\n",
      "2    Mar        65       48           84          25               2.34\n",
      "3    Apr        67       50           92          28               1.02\n",
      "4    May        71       53           98          35               0.48\n",
      "5    Jun        75       56          107          41               0.11\n",
      "6    Jul        77       58          105          44               0.00\n",
      "7    Aug        77       59          102          43               0.03\n",
      "8    Sep        77       57          103          40               0.17\n",
      "9    Oct        73       54           96          34               0.81\n",
      "10   Nov        64       48           84          30               1.70\n",
      "11   Dec        58       42           73          21               2.56\n"
     ]
    }
   ],
   "source": [
    "# First example\n",
    "# source: https://www.youtube.com/watch?v=e60ItwlZTKM\n",
    "import numpy as np\n",
    "import pandas as pd\n",
    "\n",
    "def header(msg):\n",
    "    print('-'* 50 )\n",
    "    print('[ '+ msg +' ]')\n",
    "          \n",
    "header(\"1. load hard coded data into a df\")\n",
    "df = pd.DataFrame(\n",
    "    [['Jan',58,42,74,22,2.95],\n",
    "    ['Feb',61,45,78,26,3.02],\n",
    "    ['Mar',65,48,84,25,2.34],\n",
    "    ['Apr',67,50,92,28,1.02],\n",
    "    ['May',71,53,98,35,0.48],\n",
    "    ['Jun',75,56,107,41,0.11],\n",
    "    ['Jul',77,58,105,44,0.0],\n",
    "    ['Aug',77,59,102,43,0.03],\n",
    "    ['Sep',77,57,103,40,0.17],\n",
    "    ['Oct',73,54,96,34,0.81],\n",
    "    ['Nov',64,48,84,30,1.7],\n",
    "    ['Dec',58,42,73,21,2.56]],\n",
    "    index = [0,1,2,3,4,5,6,7,8,9,10,11],      \n",
    "    columns = ['month','avg_high','avg_low','record_high','record_low','avg_precipitation'])\n",
    "print(df)"
   ]
  },
  {
   "cell_type": "code",
   "execution_count": 3,
   "metadata": {},
   "outputs": [
    {
     "name": "stdout",
     "output_type": "stream",
     "text": [
      "--------------------------------------------------\n",
      "[ Read txt file into a df ]\n",
      "   month  avg_high  avg_low  record_high  record_low  avg_precipitation\n",
      "0    Jan        58       42           74          22               2.95\n",
      "1    Feb        61       45           78          26               3.02\n",
      "2    Mar        65       48           84          25               2.34\n",
      "3    Apr        67       50           92          28               1.02\n",
      "4    May        71       53           98          35               0.48\n",
      "5    Jun        75       56          107          41               0.11\n",
      "6    Jul        77       58          105          44               0.00\n",
      "7    Aug        77       59          102          43               0.03\n",
      "8    Sep        77       57          103          40               0.17\n",
      "9    Oct        73       54           96          34               0.81\n",
      "10   Nov        64       48           84          30               1.70\n",
      "11   Dec        58       42           73          21               2.56\n"
     ]
    }
   ],
   "source": [
    "# Read a text file into the dataframe\n",
    "\n",
    "header(\"Read txt file into a df\")\n",
    "filename = 'weather_example.txt'\n",
    "df2 = pd.read_csv(filename)\n",
    "print(df2)\n"
   ]
  },
  {
   "cell_type": "code",
   "execution_count": 4,
   "metadata": {},
   "outputs": [
    {
     "name": "stdout",
     "output_type": "stream",
     "text": [
      "--------------------------------------------------\n",
      "[ 3 . df.head() ]\n",
      "  month  avg_high  avg_low  record_high  record_low  avg_precipitation\n",
      "0   Jan        58       42           74          22               2.95\n",
      "1   Feb        61       45           78          26               3.02\n",
      "2   Mar        65       48           84          25               2.34\n",
      "3   Apr        67       50           92          28               1.02\n",
      "4   May        71       53           98          35               0.48\n",
      "--------------------------------------------------\n",
      "[ 3. df.tail(3) ]\n",
      "   month  avg_high  avg_low  record_high  record_low  avg_precipitation\n",
      "9    Oct        73       54           96          34               0.81\n",
      "10   Nov        64       48           84          30               1.70\n",
      "11   Dec        58       42           73          21               2.56\n"
     ]
    }
   ],
   "source": [
    "# Example 3 print first 5 or 3 last rows of df\n",
    "header ('3 . df.head()')\n",
    "print(df.head())\n",
    "header(\"3. df.tail(3)\")\n",
    "print(df.tail(3))\n"
   ]
  },
  {
   "cell_type": "code",
   "execution_count": 5,
   "metadata": {},
   "outputs": [
    {
     "name": "stdout",
     "output_type": "stream",
     "text": [
      "--------------------------------------------------\n",
      "[ 4. df.dtypes ]\n",
      "month                 object\n",
      "avg_high               int64\n",
      "avg_low                int64\n",
      "record_high            int64\n",
      "record_low             int64\n",
      "avg_precipitation    float64\n",
      "dtype: object\n",
      "Int64Index([0, 1, 2, 3, 4, 5, 6, 7, 8, 9, 10, 11], dtype='int64')\n",
      "Index(['month', 'avg_high', 'avg_low', 'record_high', 'record_low',\n",
      "       'avg_precipitation'],\n",
      "      dtype='object')\n",
      "[['Jan' 58 42 74 22 2.95]\n",
      " ['Feb' 61 45 78 26 3.02]\n",
      " ['Mar' 65 48 84 25 2.34]\n",
      " ['Apr' 67 50 92 28 1.02]\n",
      " ['May' 71 53 98 35 0.48]\n",
      " ['Jun' 75 56 107 41 0.11]\n",
      " ['Jul' 77 58 105 44 0.0]\n",
      " ['Aug' 77 59 102 43 0.03]\n",
      " ['Sep' 77 57 103 40 0.17]\n",
      " ['Oct' 73 54 96 34 0.81]\n",
      " ['Nov' 64 48 84 30 1.7]\n",
      " ['Dec' 58 42 73 21 2.56]]\n"
     ]
    }
   ],
   "source": [
    "# Example 4 printing the data types, index, columns, values\n",
    "\n",
    "header(\"4. df.dtypes\")\n",
    "print(df.dtypes)\n",
    "print(df.index)\n",
    "print(df.columns)\n",
    "print(df.values)"
   ]
  },
  {
   "cell_type": "code",
   "execution_count": 6,
   "metadata": {},
   "outputs": [
    {
     "name": "stdout",
     "output_type": "stream",
     "text": [
      "--------------------------------------------------\n",
      "[ 5. df.describe() ]\n",
      "        avg_high    avg_low  record_high  record_low  avg_precipitation\n",
      "count  12.000000  12.000000    12.000000   12.000000          12.000000\n",
      "mean   68.583333  51.000000    91.333333   32.416667           1.265833\n",
      "std     7.366488   6.060303    12.323911    8.240238           1.186396\n",
      "min    58.000000  42.000000    73.000000   21.000000           0.000000\n",
      "25%    63.250000  47.250000    82.500000   25.750000           0.155000\n",
      "50%    69.000000  51.500000    94.000000   32.000000           0.915000\n",
      "75%    75.500000  56.250000   102.250000   40.250000           2.395000\n",
      "max    77.000000  59.000000   107.000000   44.000000           3.020000\n"
     ]
    }
   ],
   "source": [
    "# Example no 5 statistical data\n",
    "header(\"5. df.describe()\")\n",
    "print(df.describe())"
   ]
  },
  {
   "cell_type": "code",
   "execution_count": 7,
   "metadata": {},
   "outputs": [
    {
     "name": "stdout",
     "output_type": "stream",
     "text": [
      "--------------------------------------------------\n",
      "[ 6. df.sort_values('record_high', ascending=False) ]\n",
      "   month  avg_high  avg_low  record_high  record_low  avg_precipitation\n",
      "11   Dec        58       42           73          21               2.56\n",
      "0    Jan        58       42           74          22               2.95\n",
      "1    Feb        61       45           78          26               3.02\n",
      "2    Mar        65       48           84          25               2.34\n",
      "10   Nov        64       48           84          30               1.70\n",
      "3    Apr        67       50           92          28               1.02\n",
      "9    Oct        73       54           96          34               0.81\n",
      "4    May        71       53           98          35               0.48\n",
      "7    Aug        77       59          102          43               0.03\n",
      "8    Sep        77       57          103          40               0.17\n",
      "6    Jul        77       58          105          44               0.00\n",
      "5    Jun        75       56          107          41               0.11\n"
     ]
    }
   ],
   "source": [
    "# example 6 \n",
    "\n",
    "header(\"6. df.sort_values('record_high', ascending=False)\")\n",
    "print(df.sort_values('record_high', ascending='False'))"
   ]
  },
  {
   "cell_type": "code",
   "execution_count": 8,
   "metadata": {},
   "outputs": [
    {
     "name": "stdout",
     "output_type": "stream",
     "text": [
      "0     42\n",
      "1     45\n",
      "2     48\n",
      "3     50\n",
      "4     53\n",
      "5     56\n",
      "6     58\n",
      "7     59\n",
      "8     57\n",
      "9     54\n",
      "10    48\n",
      "11    42\n",
      "Name: avg_low, dtype: int64\n",
      "0     42\n",
      "1     45\n",
      "2     48\n",
      "3     50\n",
      "4     53\n",
      "5     56\n",
      "6     58\n",
      "7     59\n",
      "8     57\n",
      "9     54\n",
      "10    48\n",
      "11    42\n",
      "Name: avg_low, dtype: int64\n",
      "  month  avg_high  avg_low  record_high  record_low  avg_precipitation\n",
      "2   Mar        65       48           84          25               2.34\n",
      "3   Apr        67       50           92          28               1.02\n",
      "    avg_low  avg_high\n",
      "0        42        58\n",
      "1        45        61\n",
      "2        48        65\n",
      "3        50        67\n",
      "4        53        71\n",
      "5        56        75\n",
      "6        58        77\n",
      "7        59        77\n",
      "8        57        77\n",
      "9        54        73\n",
      "10       48        64\n",
      "11       42        58\n",
      "  month  record_high\n",
      "3   Apr           92\n",
      "4   May           98\n"
     ]
    }
   ],
   "source": [
    "# example 7 slicing records\n",
    "\n",
    "print(df.avg_low) # index with single column\n",
    "\n",
    "print(df['avg_low'])# same as above\n",
    "\n",
    "print(df[2:4]) #rows 2 and 3\n",
    "\n",
    "print(df[['avg_low', 'avg_high']])\n",
    "\n",
    "print(df.iloc[3:5, [0,3]])"
   ]
  },
  {
   "cell_type": "code",
   "execution_count": 9,
   "metadata": {},
   "outputs": [
    {
     "name": "stdout",
     "output_type": "stream",
     "text": [
      "--------------------------------------------------\n",
      "[ 8. df[df.avg_precipitation > 1.0] ]\n",
      "   month  avg_high  avg_low  record_high  record_low  avg_precipitation\n",
      "0    Jan        58       42           74          22               2.95\n",
      "1    Feb        61       45           78          26               3.02\n",
      "2    Mar        65       48           84          25               2.34\n",
      "3    Apr        67       50           92          28               1.02\n",
      "10   Nov        64       48           84          30               1.70\n",
      "11   Dec        58       42           73          21               2.56\n",
      "  month  avg_high  avg_low  record_high  record_low  avg_precipitation\n",
      "5   Jun        75       56          107          41               0.11\n",
      "6   Jul        77       58          105          44               0.00\n",
      "7   Aug        77       59          102          43               0.03\n"
     ]
    }
   ],
   "source": [
    "# 8. filtering\n",
    "\n",
    "header('8. df[df.avg_precipitation > 1.0]') # filter on column values\n",
    "print(df[df.avg_precipitation > 1.0])\n",
    "# filter on month values\n",
    "print(df[df['month'].isin(['Jun', 'Jul', 'Aug'])])"
   ]
  },
  {
   "cell_type": "code",
   "execution_count": 10,
   "metadata": {},
   "outputs": [
    {
     "name": "stdout",
     "output_type": "stream",
     "text": [
      "   month  avg_high  avg_low  record_high  record_low  avg_precipitation\n",
      "9    Oct        73       54           96          34              101.3\n",
      "10   Nov        64       48           84          30                1.7\n"
     ]
    }
   ],
   "source": [
    "#9 assignment (similar to slicing)\n",
    "\n",
    "df.loc[9, ['avg_precipitation']] = 101.3\n",
    "print(df.iloc[9:11])"
   ]
  },
  {
   "cell_type": "code",
   "execution_count": 11,
   "metadata": {},
   "outputs": [
    {
     "name": "stdout",
     "output_type": "stream",
     "text": [
      "   mon  av_hi  av_lo  rec_hi  rec_lo  av_rain\n",
      "0  Jan     58     42      74      22     2.95\n",
      "1  Feb     61     45      78      26     3.02\n",
      "2  Mar     65     48      84      25     2.34\n",
      "3  Apr     67     50      92      28     1.02\n",
      "4  May     71     53      98      35     0.48\n"
     ]
    }
   ],
   "source": [
    "# renaming columns \n",
    "df.columns=['mon', 'av_hi', 'av_lo', 'rec_hi', 'rec_lo', 'av_rain']\n",
    "print(df.head())\n"
   ]
  },
  {
   "cell_type": "code",
   "execution_count": 12,
   "metadata": {},
   "outputs": [],
   "source": [
    "# 11. Iterate a dataframe"
   ]
  },
  {
   "cell_type": "code",
   "execution_count": 13,
   "metadata": {},
   "outputs": [],
   "source": [
    "# write to a csv file\n",
    "df.to_csv('foo.csv')"
   ]
  },
  {
   "cell_type": "markdown",
   "metadata": {},
   "source": [
    "## 2. Import csv files"
   ]
  },
  {
   "cell_type": "code",
   "execution_count": 14,
   "metadata": {},
   "outputs": [
    {
     "data": {
      "text/html": [
       "<div>\n",
       "<style scoped>\n",
       "    .dataframe tbody tr th:only-of-type {\n",
       "        vertical-align: middle;\n",
       "    }\n",
       "\n",
       "    .dataframe tbody tr th {\n",
       "        vertical-align: top;\n",
       "    }\n",
       "\n",
       "    .dataframe thead th {\n",
       "        text-align: right;\n",
       "    }\n",
       "</style>\n",
       "<table border=\"1\" class=\"dataframe\">\n",
       "  <thead>\n",
       "    <tr style=\"text-align: right;\">\n",
       "      <th></th>\n",
       "      <th>latitude in degress (fractional value)</th>\n",
       "      <th>f2 = longitude in degress (fractional value)</th>\n",
       "      <th>d3 = cumulative time in seconds (decimal value)</th>\n",
       "      <th>f4 = cumulative distance in miles (fractional value)</th>\n",
       "      <th>f5 = instantaneous speed in mph (fractional value)</th>\n",
       "      <th>d6 = heart rate in bpm (decimal value)</th>\n",
       "      <th>d7 = cadence in rpm (decimal value)</th>\n",
       "      <th>d8 = power in watts (decimal value)</th>\n",
       "      <th>f9 = elevation in metres (fractional value)</th>\n",
       "    </tr>\n",
       "  </thead>\n",
       "  <tbody>\n",
       "    <tr>\n",
       "      <td>0</td>\n",
       "      <td>52.358598</td>\n",
       "      <td>4.862353</td>\n",
       "      <td>1</td>\n",
       "      <td>0.00</td>\n",
       "      <td>8.0</td>\n",
       "      <td>99</td>\n",
       "      <td>255.0</td>\n",
       "      <td>65535</td>\n",
       "      <td>17</td>\n",
       "    </tr>\n",
       "    <tr>\n",
       "      <td>1</td>\n",
       "      <td>52.358601</td>\n",
       "      <td>4.862423</td>\n",
       "      <td>2</td>\n",
       "      <td>0.01</td>\n",
       "      <td>7.6</td>\n",
       "      <td>100</td>\n",
       "      <td>255.0</td>\n",
       "      <td>65535</td>\n",
       "      <td>17</td>\n",
       "    </tr>\n",
       "    <tr>\n",
       "      <td>2</td>\n",
       "      <td>52.358606</td>\n",
       "      <td>4.862485</td>\n",
       "      <td>3</td>\n",
       "      <td>0.01</td>\n",
       "      <td>5.6</td>\n",
       "      <td>101</td>\n",
       "      <td>255.0</td>\n",
       "      <td>65535</td>\n",
       "      <td>17</td>\n",
       "    </tr>\n",
       "    <tr>\n",
       "      <td>3</td>\n",
       "      <td>52.358605</td>\n",
       "      <td>4.862540</td>\n",
       "      <td>4</td>\n",
       "      <td>0.01</td>\n",
       "      <td>5.7</td>\n",
       "      <td>102</td>\n",
       "      <td>255.0</td>\n",
       "      <td>65535</td>\n",
       "      <td>17</td>\n",
       "    </tr>\n",
       "    <tr>\n",
       "      <td>4</td>\n",
       "      <td>52.358603</td>\n",
       "      <td>4.862583</td>\n",
       "      <td>5</td>\n",
       "      <td>0.01</td>\n",
       "      <td>2.9</td>\n",
       "      <td>102</td>\n",
       "      <td>255.0</td>\n",
       "      <td>65535</td>\n",
       "      <td>17</td>\n",
       "    </tr>\n",
       "  </tbody>\n",
       "</table>\n",
       "</div>"
      ],
      "text/plain": [
       "   latitude in degress (fractional value)  \\\n",
       "0                               52.358598   \n",
       "1                               52.358601   \n",
       "2                               52.358606   \n",
       "3                               52.358605   \n",
       "4                               52.358603   \n",
       "\n",
       "   f2 = longitude in degress (fractional value)  \\\n",
       "0                                      4.862353   \n",
       "1                                      4.862423   \n",
       "2                                      4.862485   \n",
       "3                                      4.862540   \n",
       "4                                      4.862583   \n",
       "\n",
       "   d3 = cumulative time in seconds (decimal value)  \\\n",
       "0                                                1   \n",
       "1                                                2   \n",
       "2                                                3   \n",
       "3                                                4   \n",
       "4                                                5   \n",
       "\n",
       "   f4 = cumulative distance in miles (fractional value)  \\\n",
       "0                                               0.00      \n",
       "1                                               0.01      \n",
       "2                                               0.01      \n",
       "3                                               0.01      \n",
       "4                                               0.01      \n",
       "\n",
       "   f5 = instantaneous speed in mph (fractional value)  \\\n",
       "0                                                8.0    \n",
       "1                                                7.6    \n",
       "2                                                5.6    \n",
       "3                                                5.7    \n",
       "4                                                2.9    \n",
       "\n",
       "   d6 = heart rate in bpm (decimal value)  \\\n",
       "0                                      99   \n",
       "1                                     100   \n",
       "2                                     101   \n",
       "3                                     102   \n",
       "4                                     102   \n",
       "\n",
       "   d7 = cadence in rpm (decimal value)  d8 = power in watts (decimal value)  \\\n",
       "0                                255.0                                65535   \n",
       "1                                255.0                                65535   \n",
       "2                                255.0                                65535   \n",
       "3                                255.0                                65535   \n",
       "4                                255.0                                65535   \n",
       "\n",
       "   f9 = elevation in metres (fractional value)  \n",
       "0                                           17  \n",
       "1                                           17  \n",
       "2                                           17  \n",
       "3                                           17  \n",
       "4                                           17  "
      ]
     },
     "execution_count": 14,
     "metadata": {},
     "output_type": "execute_result"
    }
   ],
   "source": [
    "# import csv file and read it into pandas dataframe\n",
    "\n",
    "import pandas as pd\n",
    "\n",
    "fietsdata=pd.read_csv('mijntestcsvfietsen.csv')\n",
    "fietsdata.head()"
   ]
  },
  {
   "cell_type": "markdown",
   "metadata": {},
   "source": [
    "## 3. Data cleansing\n"
   ]
  },
  {
   "cell_type": "code",
   "execution_count": 15,
   "metadata": {},
   "outputs": [
    {
     "data": {
      "text/html": [
       "<div>\n",
       "<style scoped>\n",
       "    .dataframe tbody tr th:only-of-type {\n",
       "        vertical-align: middle;\n",
       "    }\n",
       "\n",
       "    .dataframe tbody tr th {\n",
       "        vertical-align: top;\n",
       "    }\n",
       "\n",
       "    .dataframe thead th {\n",
       "        text-align: right;\n",
       "    }\n",
       "</style>\n",
       "<table border=\"1\" class=\"dataframe\">\n",
       "  <thead>\n",
       "    <tr style=\"text-align: right;\">\n",
       "      <th></th>\n",
       "      <th>Data</th>\n",
       "    </tr>\n",
       "  </thead>\n",
       "  <tbody>\n",
       "    <tr>\n",
       "      <td>0</td>\n",
       "      <td>0.319138</td>\n",
       "    </tr>\n",
       "    <tr>\n",
       "      <td>1</td>\n",
       "      <td>0.264166</td>\n",
       "    </tr>\n",
       "    <tr>\n",
       "      <td>2</td>\n",
       "      <td>-0.198500</td>\n",
       "    </tr>\n",
       "    <tr>\n",
       "      <td>3</td>\n",
       "      <td>1.479193</td>\n",
       "    </tr>\n",
       "    <tr>\n",
       "      <td>4</td>\n",
       "      <td>-0.497935</td>\n",
       "    </tr>\n",
       "    <tr>\n",
       "      <td>...</td>\n",
       "      <td>...</td>\n",
       "    </tr>\n",
       "    <tr>\n",
       "      <td>195</td>\n",
       "      <td>0.170118</td>\n",
       "    </tr>\n",
       "    <tr>\n",
       "      <td>196</td>\n",
       "      <td>-0.578287</td>\n",
       "    </tr>\n",
       "    <tr>\n",
       "      <td>197</td>\n",
       "      <td>1.023693</td>\n",
       "    </tr>\n",
       "    <tr>\n",
       "      <td>198</td>\n",
       "      <td>0.912940</td>\n",
       "    </tr>\n",
       "    <tr>\n",
       "      <td>199</td>\n",
       "      <td>-0.122387</td>\n",
       "    </tr>\n",
       "  </tbody>\n",
       "</table>\n",
       "<p>200 rows × 1 columns</p>\n",
       "</div>"
      ],
      "text/plain": [
       "         Data\n",
       "0    0.319138\n",
       "1    0.264166\n",
       "2   -0.198500\n",
       "3    1.479193\n",
       "4   -0.497935\n",
       "..        ...\n",
       "195  0.170118\n",
       "196 -0.578287\n",
       "197  1.023693\n",
       "198  0.912940\n",
       "199 -0.122387\n",
       "\n",
       "[200 rows x 1 columns]"
      ]
     },
     "execution_count": 15,
     "metadata": {},
     "output_type": "execute_result"
    }
   ],
   "source": [
    "import pandas as pd\n",
    "import numpy as np\n",
    "df = pd.DataFrame({'Data':np.random.normal(size=200)})\n",
    "# example dataset of normally distributed data. \n",
    "\n",
    "df[np.abs(df.Data-df.Data.mean()) <= (3*df.Data.std())]\n",
    "# keep only the ones that are within +3 to -3 standard deviations in the column 'Data'.\n",
    "df\n",
    "\n",
    "#df[~(np.abs(df.Data-df.Data.mean()) > (3*df.Data.std()))]\n",
    "# or if you prefer the other way around"
   ]
  },
  {
   "cell_type": "code",
   "execution_count": 16,
   "metadata": {},
   "outputs": [
    {
     "data": {
      "text/html": [
       "<div>\n",
       "<style scoped>\n",
       "    .dataframe tbody tr th:only-of-type {\n",
       "        vertical-align: middle;\n",
       "    }\n",
       "\n",
       "    .dataframe tbody tr th {\n",
       "        vertical-align: top;\n",
       "    }\n",
       "\n",
       "    .dataframe thead th {\n",
       "        text-align: right;\n",
       "    }\n",
       "</style>\n",
       "<table border=\"1\" class=\"dataframe\">\n",
       "  <thead>\n",
       "    <tr style=\"text-align: right;\">\n",
       "      <th></th>\n",
       "      <th>Data</th>\n",
       "    </tr>\n",
       "  </thead>\n",
       "  <tbody>\n",
       "    <tr>\n",
       "      <td>0</td>\n",
       "      <td>0.319138</td>\n",
       "    </tr>\n",
       "    <tr>\n",
       "      <td>1</td>\n",
       "      <td>0.264166</td>\n",
       "    </tr>\n",
       "    <tr>\n",
       "      <td>2</td>\n",
       "      <td>-0.198500</td>\n",
       "    </tr>\n",
       "    <tr>\n",
       "      <td>3</td>\n",
       "      <td>1.479193</td>\n",
       "    </tr>\n",
       "    <tr>\n",
       "      <td>4</td>\n",
       "      <td>-0.497935</td>\n",
       "    </tr>\n",
       "  </tbody>\n",
       "</table>\n",
       "</div>"
      ],
      "text/plain": [
       "       Data\n",
       "0  0.319138\n",
       "1  0.264166\n",
       "2 -0.198500\n",
       "3  1.479193\n",
       "4 -0.497935"
      ]
     },
     "execution_count": 16,
     "metadata": {},
     "output_type": "execute_result"
    }
   ],
   "source": [
    "#replace\n",
    "\n",
    "new_df=df.replace(2.196349, np.NaN)\n",
    "new_df.head()"
   ]
  },
  {
   "cell_type": "markdown",
   "metadata": {},
   "source": [
    "## 4. Pandas append data\n",
    "\n",
    "source: https://pandas.pydata.org/pandas-docs/stable/reference/api/pandas.DataFrame.append.html"
   ]
  },
  {
   "cell_type": "code",
   "execution_count": 2,
   "metadata": {},
   "outputs": [
    {
     "data": {
      "text/html": [
       "<div>\n",
       "<style scoped>\n",
       "    .dataframe tbody tr th:only-of-type {\n",
       "        vertical-align: middle;\n",
       "    }\n",
       "\n",
       "    .dataframe tbody tr th {\n",
       "        vertical-align: top;\n",
       "    }\n",
       "\n",
       "    .dataframe thead th {\n",
       "        text-align: right;\n",
       "    }\n",
       "</style>\n",
       "<table border=\"1\" class=\"dataframe\">\n",
       "  <thead>\n",
       "    <tr style=\"text-align: right;\">\n",
       "      <th></th>\n",
       "      <th>A</th>\n",
       "      <th>B</th>\n",
       "    </tr>\n",
       "  </thead>\n",
       "  <tbody>\n",
       "    <tr>\n",
       "      <td>0</td>\n",
       "      <td>1</td>\n",
       "      <td>2</td>\n",
       "    </tr>\n",
       "    <tr>\n",
       "      <td>1</td>\n",
       "      <td>3</td>\n",
       "      <td>4</td>\n",
       "    </tr>\n",
       "  </tbody>\n",
       "</table>\n",
       "</div>"
      ],
      "text/plain": [
       "   A  B\n",
       "0  1  2\n",
       "1  3  4"
      ]
     },
     "execution_count": 2,
     "metadata": {},
     "output_type": "execute_result"
    }
   ],
   "source": [
    "import pandas as pd\n",
    "df = pd.DataFrame([[1, 2], [3, 4]], columns=list('AB'))\n",
    "df"
   ]
  },
  {
   "cell_type": "code",
   "execution_count": 4,
   "metadata": {},
   "outputs": [
    {
     "data": {
      "text/html": [
       "<div>\n",
       "<style scoped>\n",
       "    .dataframe tbody tr th:only-of-type {\n",
       "        vertical-align: middle;\n",
       "    }\n",
       "\n",
       "    .dataframe tbody tr th {\n",
       "        vertical-align: top;\n",
       "    }\n",
       "\n",
       "    .dataframe thead th {\n",
       "        text-align: right;\n",
       "    }\n",
       "</style>\n",
       "<table border=\"1\" class=\"dataframe\">\n",
       "  <thead>\n",
       "    <tr style=\"text-align: right;\">\n",
       "      <th></th>\n",
       "      <th>A</th>\n",
       "      <th>B</th>\n",
       "    </tr>\n",
       "  </thead>\n",
       "  <tbody>\n",
       "    <tr>\n",
       "      <td>0</td>\n",
       "      <td>1</td>\n",
       "      <td>2</td>\n",
       "    </tr>\n",
       "    <tr>\n",
       "      <td>1</td>\n",
       "      <td>3</td>\n",
       "      <td>4</td>\n",
       "    </tr>\n",
       "    <tr>\n",
       "      <td>2</td>\n",
       "      <td>5</td>\n",
       "      <td>6</td>\n",
       "    </tr>\n",
       "    <tr>\n",
       "      <td>3</td>\n",
       "      <td>7</td>\n",
       "      <td>8</td>\n",
       "    </tr>\n",
       "  </tbody>\n",
       "</table>\n",
       "</div>"
      ],
      "text/plain": [
       "   A  B\n",
       "0  1  2\n",
       "1  3  4\n",
       "2  5  6\n",
       "3  7  8"
      ]
     },
     "execution_count": 4,
     "metadata": {},
     "output_type": "execute_result"
    }
   ],
   "source": [
    "df2 = pd.DataFrame([[5, 6], [7, 8]], columns=list('AB'))\n",
    "\n",
    "df.append(df2,ignore_index=True)"
   ]
  },
  {
   "cell_type": "code",
   "execution_count": 9,
   "metadata": {},
   "outputs": [
    {
     "data": {
      "text/html": [
       "<div>\n",
       "<style scoped>\n",
       "    .dataframe tbody tr th:only-of-type {\n",
       "        vertical-align: middle;\n",
       "    }\n",
       "\n",
       "    .dataframe tbody tr th {\n",
       "        vertical-align: top;\n",
       "    }\n",
       "\n",
       "    .dataframe thead th {\n",
       "        text-align: right;\n",
       "    }\n",
       "</style>\n",
       "<table border=\"1\" class=\"dataframe\">\n",
       "  <thead>\n",
       "    <tr style=\"text-align: right;\">\n",
       "      <th></th>\n",
       "      <th>Name</th>\n",
       "      <th>Age</th>\n",
       "      <th>City</th>\n",
       "      <th>Country</th>\n",
       "    </tr>\n",
       "  </thead>\n",
       "  <tbody>\n",
       "  </tbody>\n",
       "</table>\n",
       "</div>"
      ],
      "text/plain": [
       "Empty DataFrame\n",
       "Columns: [Name, Age, City, Country]\n",
       "Index: []"
      ]
     },
     "execution_count": 9,
     "metadata": {},
     "output_type": "execute_result"
    }
   ],
   "source": [
    "# create an empty dataframe\n",
    "empty_df = pd.DataFrame(columns = ['Name' , 'Age', 'City' , 'Country'])\n",
    "empty_df"
   ]
  },
  {
   "cell_type": "markdown",
   "metadata": {},
   "source": [
    "## 5. Selecting values"
   ]
  },
  {
   "cell_type": "code",
   "execution_count": 4,
   "metadata": {},
   "outputs": [
    {
     "data": {
      "text/html": [
       "<div>\n",
       "<style scoped>\n",
       "    .dataframe tbody tr th:only-of-type {\n",
       "        vertical-align: middle;\n",
       "    }\n",
       "\n",
       "    .dataframe tbody tr th {\n",
       "        vertical-align: top;\n",
       "    }\n",
       "\n",
       "    .dataframe thead th {\n",
       "        text-align: right;\n",
       "    }\n",
       "</style>\n",
       "<table border=\"1\" class=\"dataframe\">\n",
       "  <thead>\n",
       "    <tr style=\"text-align: right;\">\n",
       "      <th></th>\n",
       "      <th>a</th>\n",
       "      <th>b</th>\n",
       "      <th>c</th>\n",
       "    </tr>\n",
       "  </thead>\n",
       "  <tbody>\n",
       "    <tr>\n",
       "      <th>0</th>\n",
       "      <td>13</td>\n",
       "      <td>10</td>\n",
       "      <td>9</td>\n",
       "    </tr>\n",
       "    <tr>\n",
       "      <th>1</th>\n",
       "      <td>8</td>\n",
       "      <td>7</td>\n",
       "      <td>6</td>\n",
       "    </tr>\n",
       "    <tr>\n",
       "      <th>2</th>\n",
       "      <td>13</td>\n",
       "      <td>14</td>\n",
       "      <td>12</td>\n",
       "    </tr>\n",
       "    <tr>\n",
       "      <th>3</th>\n",
       "      <td>13</td>\n",
       "      <td>8</td>\n",
       "      <td>8</td>\n",
       "    </tr>\n",
       "    <tr>\n",
       "      <th>4</th>\n",
       "      <td>14</td>\n",
       "      <td>7</td>\n",
       "      <td>9</td>\n",
       "    </tr>\n",
       "    <tr>\n",
       "      <th>5</th>\n",
       "      <td>14</td>\n",
       "      <td>13</td>\n",
       "      <td>13</td>\n",
       "    </tr>\n",
       "    <tr>\n",
       "      <th>6</th>\n",
       "      <td>12</td>\n",
       "      <td>8</td>\n",
       "      <td>12</td>\n",
       "    </tr>\n",
       "    <tr>\n",
       "      <th>7</th>\n",
       "      <td>11</td>\n",
       "      <td>10</td>\n",
       "      <td>10</td>\n",
       "    </tr>\n",
       "    <tr>\n",
       "      <th>8</th>\n",
       "      <td>11</td>\n",
       "      <td>14</td>\n",
       "      <td>6</td>\n",
       "    </tr>\n",
       "    <tr>\n",
       "      <th>9</th>\n",
       "      <td>9</td>\n",
       "      <td>14</td>\n",
       "      <td>8</td>\n",
       "    </tr>\n",
       "  </tbody>\n",
       "</table>\n",
       "</div>"
      ],
      "text/plain": [
       "    a   b   c\n",
       "0  13  10   9\n",
       "1   8   7   6\n",
       "2  13  14  12\n",
       "3  13   8   8\n",
       "4  14   7   9\n",
       "5  14  13  13\n",
       "6  12   8  12\n",
       "7  11  10  10\n",
       "8  11  14   6\n",
       "9   9  14   8"
      ]
     },
     "execution_count": 4,
     "metadata": {},
     "output_type": "execute_result"
    }
   ],
   "source": [
    "import numpy as np\n",
    "import pandas as pd\n",
    "df = pd.DataFrame(np.random.randint(5, 15, (10, 3)), columns=list('abc'))\n",
    "df"
   ]
  },
  {
   "cell_type": "code",
   "execution_count": 7,
   "metadata": {},
   "outputs": [],
   "source": [
    "df = df[df.b > 10]"
   ]
  },
  {
   "cell_type": "code",
   "execution_count": 8,
   "metadata": {},
   "outputs": [
    {
     "data": {
      "text/html": [
       "<div>\n",
       "<style scoped>\n",
       "    .dataframe tbody tr th:only-of-type {\n",
       "        vertical-align: middle;\n",
       "    }\n",
       "\n",
       "    .dataframe tbody tr th {\n",
       "        vertical-align: top;\n",
       "    }\n",
       "\n",
       "    .dataframe thead th {\n",
       "        text-align: right;\n",
       "    }\n",
       "</style>\n",
       "<table border=\"1\" class=\"dataframe\">\n",
       "  <thead>\n",
       "    <tr style=\"text-align: right;\">\n",
       "      <th></th>\n",
       "      <th>a</th>\n",
       "      <th>b</th>\n",
       "      <th>c</th>\n",
       "    </tr>\n",
       "  </thead>\n",
       "  <tbody>\n",
       "    <tr>\n",
       "      <th>2</th>\n",
       "      <td>13</td>\n",
       "      <td>14</td>\n",
       "      <td>12</td>\n",
       "    </tr>\n",
       "    <tr>\n",
       "      <th>5</th>\n",
       "      <td>14</td>\n",
       "      <td>13</td>\n",
       "      <td>13</td>\n",
       "    </tr>\n",
       "    <tr>\n",
       "      <th>8</th>\n",
       "      <td>11</td>\n",
       "      <td>14</td>\n",
       "      <td>6</td>\n",
       "    </tr>\n",
       "    <tr>\n",
       "      <th>9</th>\n",
       "      <td>9</td>\n",
       "      <td>14</td>\n",
       "      <td>8</td>\n",
       "    </tr>\n",
       "  </tbody>\n",
       "</table>\n",
       "</div>"
      ],
      "text/plain": [
       "    a   b   c\n",
       "2  13  14  12\n",
       "5  14  13  13\n",
       "8  11  14   6\n",
       "9   9  14   8"
      ]
     },
     "execution_count": 8,
     "metadata": {},
     "output_type": "execute_result"
    }
   ],
   "source": [
    "df"
   ]
  },
  {
   "cell_type": "code",
   "execution_count": null,
   "metadata": {},
   "outputs": [],
   "source": []
  }
 ],
 "metadata": {
  "kernelspec": {
   "display_name": "Python 3",
   "language": "python",
   "name": "python3"
  },
  "language_info": {
   "codemirror_mode": {
    "name": "ipython",
    "version": 3
   },
   "file_extension": ".py",
   "mimetype": "text/x-python",
   "name": "python",
   "nbconvert_exporter": "python",
   "pygments_lexer": "ipython3",
   "version": "3.8.5"
  }
 },
 "nbformat": 4,
 "nbformat_minor": 2
}
