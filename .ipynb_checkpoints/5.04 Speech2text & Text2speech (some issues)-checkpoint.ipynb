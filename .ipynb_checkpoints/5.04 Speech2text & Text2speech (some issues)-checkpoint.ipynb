{
 "cells": [
  {
   "cell_type": "markdown",
   "id": "b68caaed",
   "metadata": {},
   "source": [
    "# Speech to text (S2T) & text to speech (T2S)\n",
    "\n",
    "## Contents\n",
    "1. S2T - with google (online)\n",
    "2. S2T - simple script (offline, ERROR)\n",
    "3. T2S - with gTTS library (online)\n",
    "4. T2S - with pyttsx2 (offline) "
   ]
  },
  {
   "cell_type": "markdown",
   "id": "215d15e6",
   "metadata": {},
   "source": [
    "## 1. SpeechRecognition (online)\n",
    "\n",
    "<b>links</b>\n",
    "http://people.csail.mit.edu/hubert/pyaudio/\n",
    "\n",
    "For this notebook we will use 2 packages:\n",
    "1. PyAudio. Install PyAudio with Conda: conda install -c conda-forge pyaudio\n",
    "2. SpeechRecognition with pip\n",
    "\n",
    "For more info on Speech recognition, see: https://realpython.com/python-speech-recognition/"
   ]
  },
  {
   "cell_type": "code",
   "execution_count": 1,
   "id": "f615457f",
   "metadata": {},
   "outputs": [
    {
     "name": "stdout",
     "output_type": "stream",
     "text": [
      "Collecting SpeechRecognition\n",
      "  Using cached SpeechRecognition-3.8.1-py2.py3-none-any.whl (32.8 MB)\n",
      "Installing collected packages: SpeechRecognition\n",
      "Successfully installed SpeechRecognition-3.8.1\n"
     ]
    }
   ],
   "source": [
    "!pip install SpeechRecognition"
   ]
  },
  {
   "cell_type": "code",
   "execution_count": 3,
   "id": "54ba2107",
   "metadata": {},
   "outputs": [
    {
     "name": "stdout",
     "output_type": "stream",
     "text": [
      "Please say something\n",
      "You have said : \n",
      "Lisa ice cake\n"
     ]
    }
   ],
   "source": [
    "import speech_recognition as sr\n",
    "\n",
    "def main():\n",
    "    r = sr.Recognizer()\n",
    "    \n",
    "    with sr.Microphone() as source:\n",
    "        r.adjust_for_ambient_noise(source)\n",
    "        \n",
    "        print(\"Please say something\")\n",
    "        \n",
    "        audio = r.listen(source)\n",
    "        \n",
    "        try: \n",
    "            my_text = r.recognize_google(audio)\n",
    "            print(\"You have said : \\n\" + my_text)\n",
    "        \n",
    "        except Exception as e:\n",
    "            print('Error' + str(e))\n",
    "        \n",
    "        if my_text == 'hello everybody':\n",
    "            print('start something')\n",
    "        \n",
    "if __name__ == '__main__':\n",
    "    main()"
   ]
  },
  {
   "cell_type": "code",
   "execution_count": null,
   "id": "9b1f5e2f",
   "metadata": {},
   "outputs": [],
   "source": [
    "#!/usr/bin/env python\n",
    "#-*- coding: utf-8 -*-\n",
    "#source: https://gist.github.com/tjoen/bd37bdb8795363e9940f959b2394c5e2\n",
    "\n",
    "from gtts import gTTS\n",
    "import os\n",
    "import speech_recognition as sr\n",
    "import tempfile\n",
    "import time\n",
    "import pyaudio\n",
    "import wave\n",
    "\n",
    "txt = \"test\"\n",
    "\n",
    "def speech( txt ):\n",
    "    tts = gTTS(text=txt, lang=\"nl\")\n",
    "    testfile = \"temp.mp3\"\n",
    "    tts.save(testfile)\n",
    "    os.system(\"mpg123 temp.mp3\")\n",
    "    os.system(\"rm %s\" %(testfile))\n",
    "\n",
    "def record():\n",
    "    FORMAT = pyaudio.paInt16\n",
    "    CHANNELS = 1\n",
    "    RATE = 22050\n",
    "    CHUNK = 1024\n",
    "    RECORD_SECONDS = 5\n",
    "    WAVE_OUTPUT_FILENAME = \"file.wav\"\n",
    "\n",
    "    audio = pyaudio.PyAudio()\n",
    "\n",
    "    # start Recording\n",
    "    stream = audio.open(format=FORMAT, channels=CHANNELS,\n",
    "                    rate=RATE, input=True,\n",
    "                    frames_per_buffer=CHUNK)\n",
    "    print (\"recording...\")\n",
    "    frames = []\n",
    "\n",
    "    for i in range(0, int(RATE / CHUNK * RECORD_SECONDS)):\n",
    "        data = stream.read(CHUNK)\n",
    "        frames.append(data)\n",
    "    print (\"finished recording\")\n",
    "   # stop Recording\n",
    "    stream.stop_stream()\n",
    "    stream.close()\n",
    "    audio.terminate()\n",
    "\n",
    "    waveFile = wave.open(WAVE_OUTPUT_FILENAME, 'wb')\n",
    "    waveFile.setnchannels(CHANNELS)\n",
    "    waveFile.setsampwidth(audio.get_sample_size(FORMAT))\n",
    "    waveFile.setframerate(RATE)\n",
    "    waveFile.writeframes(b''.join(frames))\n",
    "    waveFile.close()\n",
    "\n",
    "    r = sr.Recognizer()\n",
    "    with sr.WavFile(WAVE_OUTPUT_FILENAME) as source:              # use \"test.wav\" as the audio source\n",
    "        audio = r.record(source)                        # extract audio data from the file\n",
    "\n",
    "    # recognize speech using Google Speech Recognition\n",
    "    try:\n",
    "        # for testing purposes, we're just using the default API key\n",
    "        # to use another API key, use `r.recognize_google(audio, key=\"GOOGLE_SPEECH_RECOGNITION_API_KEY\")`\n",
    "        # instead of `r.recognize_google(audio)`\n",
    "        global txt\n",
    "        txt = r.recognize_google(audio, None, \"nl_NL\")\n",
    "        print(\"Google Speech Recognition thinks you said \" +txt )\n",
    "        return txt\n",
    "    except sr.UnknownValueError:\n",
    "        print(\"Google Speech Recognition could not understand audio\")\n",
    "        return(\"Ik begrijp niet wat je zegt\")\n",
    "    except sr.RequestError as e:\n",
    "        print(\"Could not request results from Google Speech Recognition service; {0}\".format(e))\n",
    "        return \"Fout in de spraakherkenning service\"\n",
    "\n",
    "spreq = record()\n",
    "spc = speech( txt)\n",
    "\n",
    "\n",
    "spreq = record()\n",
    "spc = speech( txt)"
   ]
  },
  {
   "cell_type": "markdown",
   "id": "8880d10c",
   "metadata": {},
   "source": [
    "## 2. Speech to text offline (.wav file) (ERROR)\n",
    "#based on: https://github.com/akashadhikari/wave2vec-speech-to-text/blob/main/Untitled.ipynb"
   ]
  },
  {
   "cell_type": "code",
   "execution_count": 4,
   "id": "34eca65b",
   "metadata": {},
   "outputs": [
    {
     "ename": "ModuleNotFoundError",
     "evalue": "No module named 'transformers'",
     "output_type": "error",
     "traceback": [
      "\u001b[1;31m---------------------------------------------------------------------------\u001b[0m",
      "\u001b[1;31mModuleNotFoundError\u001b[0m                       Traceback (most recent call last)",
      "Input \u001b[1;32mIn [4]\u001b[0m, in \u001b[0;36m<cell line: 7>\u001b[1;34m()\u001b[0m\n\u001b[0;32m      5\u001b[0m \u001b[38;5;28;01mfrom\u001b[39;00m \u001b[38;5;21;01mscipy\u001b[39;00m\u001b[38;5;21;01m.\u001b[39;00m\u001b[38;5;21;01mio\u001b[39;00m \u001b[38;5;28;01mimport\u001b[39;00m wavfile\n\u001b[0;32m      6\u001b[0m \u001b[38;5;28;01mfrom\u001b[39;00m \u001b[38;5;21;01mIPython\u001b[39;00m\u001b[38;5;21;01m.\u001b[39;00m\u001b[38;5;21;01mdisplay\u001b[39;00m \u001b[38;5;28;01mimport\u001b[39;00m Audio\n\u001b[1;32m----> 7\u001b[0m \u001b[38;5;28;01mfrom\u001b[39;00m \u001b[38;5;21;01mtransformers\u001b[39;00m \u001b[38;5;28;01mimport\u001b[39;00m Wav2Vec2ForCTC, Wav2Vec2Tokenizer, Wav2Vec2Processor\n",
      "\u001b[1;31mModuleNotFoundError\u001b[0m: No module named 'transformers'"
     ]
    }
   ],
   "source": [
    "import torch\n",
    "import librosa\n",
    "import numpy as np\n",
    "import soundfile as sf\n",
    "from scipy.io import wavfile\n",
    "from IPython.display import Audio\n",
    "from transformers import Wav2Vec2ForCTC, Wav2Vec2Tokenizer, Wav2Vec2Processor"
   ]
  },
  {
   "cell_type": "code",
   "execution_count": 8,
   "id": "5b6c899a",
   "metadata": {},
   "outputs": [
    {
     "data": {
      "application/vnd.jupyter.widget-view+json": {
       "model_id": "349790083bdc4074b10581b1979b256d",
       "version_major": 2,
       "version_minor": 0
      },
      "text/plain": [
       "Downloading:   0%|          | 0.00/159 [00:00<?, ?B/s]"
      ]
     },
     "metadata": {},
     "output_type": "display_data"
    },
    {
     "name": "stderr",
     "output_type": "stream",
     "text": [
      "Some weights of Wav2Vec2ForCTC were not initialized from the model checkpoint at facebook/wav2vec2-base-960h and are newly initialized: ['wav2vec2.masked_spec_embed']\n",
      "You should probably TRAIN this model on a down-stream task to be able to use it for predictions and inference.\n"
     ]
    }
   ],
   "source": [
    "tokenizer = Wav2Vec2Processor.from_pretrained(\"facebook/wav2vec2-base-960h\")#Wav2Vec2Tokenizer\n",
    "model = Wav2Vec2ForCTC.from_pretrained(\"facebook/wav2vec2-base-960h\")"
   ]
  },
  {
   "cell_type": "code",
   "execution_count": 9,
   "id": "7d8228a9",
   "metadata": {},
   "outputs": [
    {
     "name": "stdout",
     "output_type": "stream",
     "text": [
      "['11k16bitpcm.wav', 'claxon_1m.wav', 'claxon_close.wav', 'claxon_freesound.wav', 'claxon_iphone.wav', 'claxon_michiel.wav', 'example.wav', 'file.wav', 'loudness.wav', 'miaow_16k.wav', 'my-audio.wav', 'my_test.wav', 'my_wav.wav', 'noise_add.wav', 'out.wav', 'output.wav', 'robot0.wav', 'robot1.wav', 'robot2.wav', 'robot3.wav', 'silence.wav', 'speech_whistling2.wav', 'test.wav', 'test2.wav', 'test3.wav', 'tone_220.wav', 'welcome.wav']\n"
     ]
    }
   ],
   "source": [
    "from glob import glob\n",
    "my_wavs = glob('*.wav')\n",
    "print(my_wavs)"
   ]
  },
  {
   "cell_type": "code",
   "execution_count": 3,
   "id": "d29d0ba0",
   "metadata": {},
   "outputs": [
    {
     "ename": "NameError",
     "evalue": "name 'Audio' is not defined",
     "output_type": "error",
     "traceback": [
      "\u001b[1;31m---------------------------------------------------------------------------\u001b[0m",
      "\u001b[1;31mNameError\u001b[0m                                 Traceback (most recent call last)",
      "Input \u001b[1;32mIn [3]\u001b[0m, in \u001b[0;36m<cell line: 2>\u001b[1;34m()\u001b[0m\n\u001b[0;32m      1\u001b[0m file_name \u001b[38;5;241m=\u001b[39m \u001b[38;5;124m'\u001b[39m\u001b[38;5;124mmy-audio.wav\u001b[39m\u001b[38;5;124m'\u001b[39m\n\u001b[1;32m----> 2\u001b[0m \u001b[43mAudio\u001b[49m(file_name)\n",
      "\u001b[1;31mNameError\u001b[0m: name 'Audio' is not defined"
     ]
    }
   ],
   "source": [
    "file_name = 'my-audio.wav'\n",
    "Audio(file_name)"
   ]
  },
  {
   "cell_type": "code",
   "execution_count": 11,
   "id": "2ae81d74",
   "metadata": {},
   "outputs": [
    {
     "name": "stderr",
     "output_type": "stream",
     "text": [
      "It is strongly recommended to pass the ``sampling_rate`` argument to this function.Failing to do so can result in silent errors that might be hard to debug.\n"
     ]
    },
    {
     "name": "stdout",
     "output_type": "stream",
     "text": [
      "44100 [ 0  0  0 ... 41 47 41]\n"
     ]
    },
    {
     "ename": "RuntimeError",
     "evalue": "module compiled against API version 0xe but this version of numpy is 0xd",
     "output_type": "error",
     "traceback": [
      "\u001b[1;31m---------------------------------------------------------------------------\u001b[0m",
      "\u001b[1;31mRuntimeError\u001b[0m                              Traceback (most recent call last)",
      "\u001b[1;31mRuntimeError\u001b[0m: module compiled against API version 0xe but this version of numpy is 0xd"
     ]
    },
    {
     "ename": "ImportError",
     "evalue": "initialization failed",
     "output_type": "error",
     "traceback": [
      "\u001b[1;31m---------------------------------------------------------------------------\u001b[0m",
      "\u001b[1;31mImportError\u001b[0m                               Traceback (most recent call last)",
      "\u001b[1;31mImportError\u001b[0m: numpy.core.multiarray failed to import",
      "\nThe above exception was the direct cause of the following exception:\n",
      "\u001b[1;31mSystemError\u001b[0m                               Traceback (most recent call last)",
      "\u001b[1;31mSystemError\u001b[0m: <built-in method __contains__ of dict object at 0x0000018F11D96600> returned a result with an error set",
      "\nThe above exception was the direct cause of the following exception:\n",
      "\u001b[1;31mImportError\u001b[0m                               Traceback (most recent call last)",
      "\u001b[1;32m~\\AppData\\Local\\Temp/ipykernel_3292/1933042112.py\u001b[0m in \u001b[0;36m<module>\u001b[1;34m\u001b[0m\n\u001b[0;32m      6\u001b[0m \u001b[0mtime\u001b[0m \u001b[1;33m=\u001b[0m \u001b[0mnp\u001b[0m\u001b[1;33m.\u001b[0m\u001b[0marange\u001b[0m\u001b[1;33m(\u001b[0m\u001b[1;36m0\u001b[0m\u001b[1;33m,\u001b[0m\u001b[0mlen\u001b[0m\u001b[1;33m(\u001b[0m\u001b[0msounddata\u001b[0m\u001b[1;33m)\u001b[0m\u001b[1;33m)\u001b[0m\u001b[1;33m/\u001b[0m\u001b[0mframerate\u001b[0m\u001b[1;33m\u001b[0m\u001b[1;33m\u001b[0m\u001b[0m\n\u001b[0;32m      7\u001b[0m \u001b[0minput_audio\u001b[0m\u001b[1;33m,\u001b[0m \u001b[0m_\u001b[0m \u001b[1;33m=\u001b[0m \u001b[0mlibrosa\u001b[0m\u001b[1;33m.\u001b[0m\u001b[0mload\u001b[0m\u001b[1;33m(\u001b[0m\u001b[0mfile_name\u001b[0m\u001b[1;33m,\u001b[0m \u001b[0msr\u001b[0m\u001b[1;33m=\u001b[0m\u001b[1;36m16000\u001b[0m\u001b[1;33m)\u001b[0m\u001b[1;33m\u001b[0m\u001b[1;33m\u001b[0m\u001b[0m\n\u001b[1;32m----> 8\u001b[1;33m \u001b[0minput_values\u001b[0m \u001b[1;33m=\u001b[0m \u001b[0mtokenizer\u001b[0m\u001b[1;33m(\u001b[0m\u001b[0minput_audio\u001b[0m\u001b[1;33m,\u001b[0m \u001b[0mreturn_tensors\u001b[0m\u001b[1;33m=\u001b[0m\u001b[1;34m\"pt\"\u001b[0m\u001b[1;33m)\u001b[0m\u001b[1;33m.\u001b[0m\u001b[0minput_values\u001b[0m\u001b[1;33m\u001b[0m\u001b[1;33m\u001b[0m\u001b[0m\n\u001b[0m\u001b[0;32m      9\u001b[0m \u001b[0mlogits\u001b[0m \u001b[1;33m=\u001b[0m \u001b[0mmodel\u001b[0m\u001b[1;33m(\u001b[0m\u001b[0minput_values\u001b[0m\u001b[1;33m)\u001b[0m\u001b[1;33m.\u001b[0m\u001b[0mlogits\u001b[0m\u001b[1;33m\u001b[0m\u001b[1;33m\u001b[0m\u001b[0m\n\u001b[0;32m     10\u001b[0m \u001b[0mpredicted_ids\u001b[0m \u001b[1;33m=\u001b[0m \u001b[0mtorch\u001b[0m\u001b[1;33m.\u001b[0m\u001b[0margmax\u001b[0m\u001b[1;33m(\u001b[0m\u001b[0mlogits\u001b[0m\u001b[1;33m,\u001b[0m \u001b[0mdim\u001b[0m\u001b[1;33m=\u001b[0m\u001b[1;33m-\u001b[0m\u001b[1;36m1\u001b[0m\u001b[1;33m)\u001b[0m\u001b[1;33m\u001b[0m\u001b[1;33m\u001b[0m\u001b[0m\n",
      "\u001b[1;32m~\\anaconda3\\lib\\site-packages\\transformers\\models\\wav2vec2\\processing_wav2vec2.py\u001b[0m in \u001b[0;36m__call__\u001b[1;34m(self, *args, **kwargs)\u001b[0m\n\u001b[0;32m    115\u001b[0m         \u001b[0mthe\u001b[0m \u001b[0mabove\u001b[0m \u001b[0mtwo\u001b[0m \u001b[0mmethods\u001b[0m \u001b[1;32mfor\u001b[0m \u001b[0mmore\u001b[0m \u001b[0minformation\u001b[0m\u001b[1;33m.\u001b[0m\u001b[1;33m\u001b[0m\u001b[1;33m\u001b[0m\u001b[0m\n\u001b[0;32m    116\u001b[0m         \"\"\"\n\u001b[1;32m--> 117\u001b[1;33m         \u001b[1;32mreturn\u001b[0m \u001b[0mself\u001b[0m\u001b[1;33m.\u001b[0m\u001b[0mcurrent_processor\u001b[0m\u001b[1;33m(\u001b[0m\u001b[1;33m*\u001b[0m\u001b[0margs\u001b[0m\u001b[1;33m,\u001b[0m \u001b[1;33m**\u001b[0m\u001b[0mkwargs\u001b[0m\u001b[1;33m)\u001b[0m\u001b[1;33m\u001b[0m\u001b[1;33m\u001b[0m\u001b[0m\n\u001b[0m\u001b[0;32m    118\u001b[0m \u001b[1;33m\u001b[0m\u001b[0m\n\u001b[0;32m    119\u001b[0m     \u001b[1;32mdef\u001b[0m \u001b[0mpad\u001b[0m\u001b[1;33m(\u001b[0m\u001b[0mself\u001b[0m\u001b[1;33m,\u001b[0m \u001b[1;33m*\u001b[0m\u001b[0margs\u001b[0m\u001b[1;33m,\u001b[0m \u001b[1;33m**\u001b[0m\u001b[0mkwargs\u001b[0m\u001b[1;33m)\u001b[0m\u001b[1;33m:\u001b[0m\u001b[1;33m\u001b[0m\u001b[1;33m\u001b[0m\u001b[0m\n",
      "\u001b[1;32m~\\anaconda3\\lib\\site-packages\\transformers\\models\\wav2vec2\\feature_extraction_wav2vec2.py\u001b[0m in \u001b[0;36m__call__\u001b[1;34m(self, raw_speech, padding, max_length, pad_to_multiple_of, return_attention_mask, return_tensors, sampling_rate, **kwargs)\u001b[0m\n\u001b[0;32m    184\u001b[0m         \u001b[0mencoded_inputs\u001b[0m \u001b[1;33m=\u001b[0m \u001b[0mBatchFeature\u001b[0m\u001b[1;33m(\u001b[0m\u001b[1;33m{\u001b[0m\u001b[1;34m\"input_values\"\u001b[0m\u001b[1;33m:\u001b[0m \u001b[0mraw_speech\u001b[0m\u001b[1;33m}\u001b[0m\u001b[1;33m)\u001b[0m\u001b[1;33m\u001b[0m\u001b[1;33m\u001b[0m\u001b[0m\n\u001b[0;32m    185\u001b[0m \u001b[1;33m\u001b[0m\u001b[0m\n\u001b[1;32m--> 186\u001b[1;33m         padded_inputs = self.pad(\n\u001b[0m\u001b[0;32m    187\u001b[0m             \u001b[0mencoded_inputs\u001b[0m\u001b[1;33m,\u001b[0m\u001b[1;33m\u001b[0m\u001b[1;33m\u001b[0m\u001b[0m\n\u001b[0;32m    188\u001b[0m             \u001b[0mpadding\u001b[0m\u001b[1;33m=\u001b[0m\u001b[0mpadding\u001b[0m\u001b[1;33m,\u001b[0m\u001b[1;33m\u001b[0m\u001b[1;33m\u001b[0m\u001b[0m\n",
      "\u001b[1;32m~\\anaconda3\\lib\\site-packages\\transformers\\feature_extraction_sequence_utils.py\u001b[0m in \u001b[0;36mpad\u001b[1;34m(self, processed_features, padding, max_length, pad_to_multiple_of, return_attention_mask, return_tensors)\u001b[0m\n\u001b[0;32m    169\u001b[0m         \u001b[1;31m# At this state, if `first_element` is still a list/tuple, it's an empty one so there is nothing to do.\u001b[0m\u001b[1;33m\u001b[0m\u001b[1;33m\u001b[0m\u001b[1;33m\u001b[0m\u001b[0m\n\u001b[0;32m    170\u001b[0m         \u001b[1;32mif\u001b[0m \u001b[1;32mnot\u001b[0m \u001b[0misinstance\u001b[0m\u001b[1;33m(\u001b[0m\u001b[0mfirst_element\u001b[0m\u001b[1;33m,\u001b[0m \u001b[1;33m(\u001b[0m\u001b[0mfloat\u001b[0m\u001b[1;33m,\u001b[0m \u001b[0mint\u001b[0m\u001b[1;33m,\u001b[0m \u001b[0mlist\u001b[0m\u001b[1;33m,\u001b[0m \u001b[0mtuple\u001b[0m\u001b[1;33m)\u001b[0m\u001b[1;33m)\u001b[0m\u001b[1;33m:\u001b[0m\u001b[1;33m\u001b[0m\u001b[1;33m\u001b[0m\u001b[0m\n\u001b[1;32m--> 171\u001b[1;33m             \u001b[1;32mif\u001b[0m \u001b[0mis_tf_available\u001b[0m\u001b[1;33m(\u001b[0m\u001b[1;33m)\u001b[0m \u001b[1;32mand\u001b[0m \u001b[0m_is_tensorflow\u001b[0m\u001b[1;33m(\u001b[0m\u001b[0mfirst_element\u001b[0m\u001b[1;33m)\u001b[0m\u001b[1;33m:\u001b[0m\u001b[1;33m\u001b[0m\u001b[1;33m\u001b[0m\u001b[0m\n\u001b[0m\u001b[0;32m    172\u001b[0m                 \u001b[0mreturn_tensors\u001b[0m \u001b[1;33m=\u001b[0m \u001b[1;34m\"tf\"\u001b[0m \u001b[1;32mif\u001b[0m \u001b[0mreturn_tensors\u001b[0m \u001b[1;32mis\u001b[0m \u001b[1;32mNone\u001b[0m \u001b[1;32melse\u001b[0m \u001b[0mreturn_tensors\u001b[0m\u001b[1;33m\u001b[0m\u001b[1;33m\u001b[0m\u001b[0m\n\u001b[0;32m    173\u001b[0m             \u001b[1;32melif\u001b[0m \u001b[0mis_torch_available\u001b[0m\u001b[1;33m(\u001b[0m\u001b[1;33m)\u001b[0m \u001b[1;32mand\u001b[0m \u001b[0m_is_torch\u001b[0m\u001b[1;33m(\u001b[0m\u001b[0mfirst_element\u001b[0m\u001b[1;33m)\u001b[0m\u001b[1;33m:\u001b[0m\u001b[1;33m\u001b[0m\u001b[1;33m\u001b[0m\u001b[0m\n",
      "\u001b[1;32m~\\anaconda3\\lib\\site-packages\\transformers\\file_utils.py\u001b[0m in \u001b[0;36m_is_tensorflow\u001b[1;34m(x)\u001b[0m\n\u001b[0;32m   1479\u001b[0m \u001b[1;33m\u001b[0m\u001b[0m\n\u001b[0;32m   1480\u001b[0m \u001b[1;32mdef\u001b[0m \u001b[0m_is_tensorflow\u001b[0m\u001b[1;33m(\u001b[0m\u001b[0mx\u001b[0m\u001b[1;33m)\u001b[0m\u001b[1;33m:\u001b[0m\u001b[1;33m\u001b[0m\u001b[1;33m\u001b[0m\u001b[0m\n\u001b[1;32m-> 1481\u001b[1;33m     \u001b[1;32mimport\u001b[0m \u001b[0mtensorflow\u001b[0m \u001b[1;32mas\u001b[0m \u001b[0mtf\u001b[0m\u001b[1;33m\u001b[0m\u001b[1;33m\u001b[0m\u001b[0m\n\u001b[0m\u001b[0;32m   1482\u001b[0m \u001b[1;33m\u001b[0m\u001b[0m\n\u001b[0;32m   1483\u001b[0m     \u001b[1;32mreturn\u001b[0m \u001b[0misinstance\u001b[0m\u001b[1;33m(\u001b[0m\u001b[0mx\u001b[0m\u001b[1;33m,\u001b[0m \u001b[0mtf\u001b[0m\u001b[1;33m.\u001b[0m\u001b[0mTensor\u001b[0m\u001b[1;33m)\u001b[0m\u001b[1;33m\u001b[0m\u001b[1;33m\u001b[0m\u001b[0m\n",
      "\u001b[1;32m~\\anaconda3\\lib\\site-packages\\tensorflow\\__init__.py\u001b[0m in \u001b[0;36m<module>\u001b[1;34m\u001b[0m\n\u001b[0;32m     35\u001b[0m \u001b[1;32mimport\u001b[0m \u001b[0mtyping\u001b[0m \u001b[1;32mas\u001b[0m \u001b[0m_typing\u001b[0m\u001b[1;33m\u001b[0m\u001b[1;33m\u001b[0m\u001b[0m\n\u001b[0;32m     36\u001b[0m \u001b[1;33m\u001b[0m\u001b[0m\n\u001b[1;32m---> 37\u001b[1;33m \u001b[1;32mfrom\u001b[0m \u001b[0mtensorflow\u001b[0m\u001b[1;33m.\u001b[0m\u001b[0mpython\u001b[0m\u001b[1;33m.\u001b[0m\u001b[0mtools\u001b[0m \u001b[1;32mimport\u001b[0m \u001b[0mmodule_util\u001b[0m \u001b[1;32mas\u001b[0m \u001b[0m_module_util\u001b[0m\u001b[1;33m\u001b[0m\u001b[1;33m\u001b[0m\u001b[0m\n\u001b[0m\u001b[0;32m     38\u001b[0m \u001b[1;32mfrom\u001b[0m \u001b[0mtensorflow\u001b[0m\u001b[1;33m.\u001b[0m\u001b[0mpython\u001b[0m\u001b[1;33m.\u001b[0m\u001b[0mutil\u001b[0m\u001b[1;33m.\u001b[0m\u001b[0mlazy_loader\u001b[0m \u001b[1;32mimport\u001b[0m \u001b[0mLazyLoader\u001b[0m \u001b[1;32mas\u001b[0m \u001b[0m_LazyLoader\u001b[0m\u001b[1;33m\u001b[0m\u001b[1;33m\u001b[0m\u001b[0m\n\u001b[0;32m     39\u001b[0m \u001b[1;33m\u001b[0m\u001b[0m\n",
      "\u001b[1;32m~\\anaconda3\\lib\\site-packages\\tensorflow\\python\\__init__.py\u001b[0m in \u001b[0;36m<module>\u001b[1;34m\u001b[0m\n\u001b[0;32m     35\u001b[0m \u001b[1;33m\u001b[0m\u001b[0m\n\u001b[0;32m     36\u001b[0m \u001b[1;32mfrom\u001b[0m \u001b[0mtensorflow\u001b[0m\u001b[1;33m.\u001b[0m\u001b[0mpython\u001b[0m \u001b[1;32mimport\u001b[0m \u001b[0mpywrap_tensorflow\u001b[0m \u001b[1;32mas\u001b[0m \u001b[0m_pywrap_tensorflow\u001b[0m\u001b[1;33m\u001b[0m\u001b[1;33m\u001b[0m\u001b[0m\n\u001b[1;32m---> 37\u001b[1;33m \u001b[1;32mfrom\u001b[0m \u001b[0mtensorflow\u001b[0m\u001b[1;33m.\u001b[0m\u001b[0mpython\u001b[0m\u001b[1;33m.\u001b[0m\u001b[0meager\u001b[0m \u001b[1;32mimport\u001b[0m \u001b[0mcontext\u001b[0m\u001b[1;33m\u001b[0m\u001b[1;33m\u001b[0m\u001b[0m\n\u001b[0m\u001b[0;32m     38\u001b[0m \u001b[1;33m\u001b[0m\u001b[0m\n\u001b[0;32m     39\u001b[0m \u001b[1;31m# pylint: enable=wildcard-import\u001b[0m\u001b[1;33m\u001b[0m\u001b[1;33m\u001b[0m\u001b[1;33m\u001b[0m\u001b[0m\n",
      "\u001b[1;32m~\\anaconda3\\lib\\site-packages\\tensorflow\\python\\eager\\context.py\u001b[0m in \u001b[0;36m<module>\u001b[1;34m\u001b[0m\n\u001b[0;32m     33\u001b[0m \u001b[1;32mfrom\u001b[0m \u001b[0mtensorflow\u001b[0m\u001b[1;33m.\u001b[0m\u001b[0mpython\u001b[0m \u001b[1;32mimport\u001b[0m \u001b[0mpywrap_tfe\u001b[0m\u001b[1;33m\u001b[0m\u001b[1;33m\u001b[0m\u001b[0m\n\u001b[0;32m     34\u001b[0m \u001b[1;32mfrom\u001b[0m \u001b[0mtensorflow\u001b[0m\u001b[1;33m.\u001b[0m\u001b[0mpython\u001b[0m \u001b[1;32mimport\u001b[0m \u001b[0mtf2\u001b[0m\u001b[1;33m\u001b[0m\u001b[1;33m\u001b[0m\u001b[0m\n\u001b[1;32m---> 35\u001b[1;33m \u001b[1;32mfrom\u001b[0m \u001b[0mtensorflow\u001b[0m\u001b[1;33m.\u001b[0m\u001b[0mpython\u001b[0m\u001b[1;33m.\u001b[0m\u001b[0mclient\u001b[0m \u001b[1;32mimport\u001b[0m \u001b[0mpywrap_tf_session\u001b[0m\u001b[1;33m\u001b[0m\u001b[1;33m\u001b[0m\u001b[0m\n\u001b[0m\u001b[0;32m     36\u001b[0m \u001b[1;32mfrom\u001b[0m \u001b[0mtensorflow\u001b[0m\u001b[1;33m.\u001b[0m\u001b[0mpython\u001b[0m\u001b[1;33m.\u001b[0m\u001b[0meager\u001b[0m \u001b[1;32mimport\u001b[0m \u001b[0mexecutor\u001b[0m\u001b[1;33m\u001b[0m\u001b[1;33m\u001b[0m\u001b[0m\n\u001b[0;32m     37\u001b[0m \u001b[1;32mfrom\u001b[0m \u001b[0mtensorflow\u001b[0m\u001b[1;33m.\u001b[0m\u001b[0mpython\u001b[0m\u001b[1;33m.\u001b[0m\u001b[0meager\u001b[0m \u001b[1;32mimport\u001b[0m \u001b[0mmonitoring\u001b[0m\u001b[1;33m\u001b[0m\u001b[1;33m\u001b[0m\u001b[0m\n",
      "\u001b[1;32m~\\anaconda3\\lib\\site-packages\\tensorflow\\python\\client\\pywrap_tf_session.py\u001b[0m in \u001b[0;36m<module>\u001b[1;34m\u001b[0m\n\u001b[0;32m     17\u001b[0m \u001b[1;31m# pylint: disable=invalid-import-order,g-bad-import-order, wildcard-import, unused-import\u001b[0m\u001b[1;33m\u001b[0m\u001b[1;33m\u001b[0m\u001b[1;33m\u001b[0m\u001b[0m\n\u001b[0;32m     18\u001b[0m \u001b[1;32mfrom\u001b[0m \u001b[0mtensorflow\u001b[0m\u001b[1;33m.\u001b[0m\u001b[0mpython\u001b[0m \u001b[1;32mimport\u001b[0m \u001b[0mpywrap_tensorflow\u001b[0m\u001b[1;33m\u001b[0m\u001b[1;33m\u001b[0m\u001b[0m\n\u001b[1;32m---> 19\u001b[1;33m \u001b[1;32mfrom\u001b[0m \u001b[0mtensorflow\u001b[0m\u001b[1;33m.\u001b[0m\u001b[0mpython\u001b[0m\u001b[1;33m.\u001b[0m\u001b[0mclient\u001b[0m\u001b[1;33m.\u001b[0m\u001b[0m_pywrap_tf_session\u001b[0m \u001b[1;32mimport\u001b[0m \u001b[1;33m*\u001b[0m\u001b[1;33m\u001b[0m\u001b[1;33m\u001b[0m\u001b[0m\n\u001b[0m\u001b[0;32m     20\u001b[0m \u001b[1;32mfrom\u001b[0m \u001b[0mtensorflow\u001b[0m\u001b[1;33m.\u001b[0m\u001b[0mpython\u001b[0m\u001b[1;33m.\u001b[0m\u001b[0mclient\u001b[0m\u001b[1;33m.\u001b[0m\u001b[0m_pywrap_tf_session\u001b[0m \u001b[1;32mimport\u001b[0m \u001b[0m_TF_SetTarget\u001b[0m\u001b[1;33m\u001b[0m\u001b[1;33m\u001b[0m\u001b[0m\n\u001b[0;32m     21\u001b[0m \u001b[1;32mfrom\u001b[0m \u001b[0mtensorflow\u001b[0m\u001b[1;33m.\u001b[0m\u001b[0mpython\u001b[0m\u001b[1;33m.\u001b[0m\u001b[0mclient\u001b[0m\u001b[1;33m.\u001b[0m\u001b[0m_pywrap_tf_session\u001b[0m \u001b[1;32mimport\u001b[0m \u001b[0m_TF_SetConfig\u001b[0m\u001b[1;33m\u001b[0m\u001b[1;33m\u001b[0m\u001b[0m\n",
      "\u001b[1;31mImportError\u001b[0m: initialization failed"
     ]
    }
   ],
   "source": [
    "#Adjust sample rate and output\n",
    "data = wavfile.read(file_name)\n",
    "framerate = data[0]\n",
    "sounddata = data[1]\n",
    "print(framerate, sounddata)\n",
    "time = np.arange(0,len(sounddata))/framerate\n",
    "input_audio, _ = librosa.load(file_name, sr=16000)\n",
    "input_values = tokenizer(input_audio, return_tensors=\"pt\").input_values\n",
    "logits = model(input_values).logits\n",
    "predicted_ids = torch.argmax(logits, dim=-1)\n",
    "transcription = tokenizer.batch_decode(predicted_ids)[0]\n",
    "transcription"
   ]
  },
  {
   "cell_type": "markdown",
   "id": "90615575",
   "metadata": {},
   "source": [
    "## TO DO: VOSK"
   ]
  },
  {
   "cell_type": "code",
   "execution_count": null,
   "id": "f58542fc",
   "metadata": {},
   "outputs": [],
   "source": []
  },
  {
   "cell_type": "markdown",
   "id": "ec144b03",
   "metadata": {},
   "source": [
    "## 3. T2S with google's gTTS (online)\n",
    "\n",
    "- Readthedocs: https://gtts.readthedocs.io/en/latest/index.html"
   ]
  },
  {
   "cell_type": "code",
   "execution_count": 5,
   "id": "10643288",
   "metadata": {},
   "outputs": [
    {
     "name": "stdout",
     "output_type": "stream",
     "text": [
      "Collecting gTTS\n",
      "  Downloading gTTS-2.2.4-py3-none-any.whl (26 kB)\n",
      "Requirement already satisfied: requests in c:\\users\\michiel\\anaconda3\\lib\\site-packages (from gTTS) (2.27.1)\n",
      "Requirement already satisfied: six in c:\\users\\michiel\\anaconda3\\lib\\site-packages (from gTTS) (1.16.0)\n",
      "Requirement already satisfied: click in c:\\users\\michiel\\anaconda3\\lib\\site-packages (from gTTS) (8.0.4)\n",
      "Requirement already satisfied: colorama in c:\\users\\michiel\\anaconda3\\lib\\site-packages (from click->gTTS) (0.4.4)\n",
      "Requirement already satisfied: charset-normalizer~=2.0.0 in c:\\users\\michiel\\anaconda3\\lib\\site-packages (from requests->gTTS) (2.0.4)\n",
      "Requirement already satisfied: urllib3<1.27,>=1.21.1 in c:\\users\\michiel\\anaconda3\\lib\\site-packages (from requests->gTTS) (1.26.9)\n",
      "Requirement already satisfied: certifi>=2017.4.17 in c:\\users\\michiel\\anaconda3\\lib\\site-packages (from requests->gTTS) (2021.10.8)\n",
      "Requirement already satisfied: idna<4,>=2.5 in c:\\users\\michiel\\anaconda3\\lib\\site-packages (from requests->gTTS) (3.3)\n",
      "Installing collected packages: gTTS\n",
      "Successfully installed gTTS-2.2.4\n"
     ]
    }
   ],
   "source": [
    "!pip install gTTS"
   ]
  },
  {
   "cell_type": "code",
   "execution_count": 6,
   "id": "f0d341a3",
   "metadata": {},
   "outputs": [
    {
     "name": "stdout",
     "output_type": "stream",
     "text": [
      "Dutch is available\n"
     ]
    }
   ],
   "source": [
    "from gtts import lang\n",
    "languages =lang.tts_langs()\n",
    "for key, value in languages.items():\n",
    "    if key == 'nl':\n",
    "        print('Dutch is available')"
   ]
  },
  {
   "cell_type": "code",
   "execution_count": 3,
   "id": "457e765d",
   "metadata": {},
   "outputs": [
    {
     "name": "stdout",
     "output_type": "stream",
     "text": [
      "{'af': 'Afrikaans', 'ar': 'Arabic', 'bg': 'Bulgarian', 'bn': 'Bengali', 'bs': 'Bosnian', 'ca': 'Catalan', 'cs': 'Czech', 'cy': 'Welsh', 'da': 'Danish', 'de': 'German', 'el': 'Greek', 'en': 'English', 'eo': 'Esperanto', 'es': 'Spanish', 'et': 'Estonian', 'fi': 'Finnish', 'fr': 'French', 'gu': 'Gujarati', 'hi': 'Hindi', 'hr': 'Croatian', 'hu': 'Hungarian', 'hy': 'Armenian', 'id': 'Indonesian', 'is': 'Icelandic', 'it': 'Italian', 'iw': 'Hebrew', 'ja': 'Japanese', 'jw': 'Javanese', 'km': 'Khmer', 'kn': 'Kannada', 'ko': 'Korean', 'la': 'Latin', 'lv': 'Latvian', 'mk': 'Macedonian', 'ms': 'Malay', 'ml': 'Malayalam', 'mr': 'Marathi', 'my': 'Myanmar (Burmese)', 'ne': 'Nepali', 'nl': 'Dutch', 'no': 'Norwegian', 'pl': 'Polish', 'pt': 'Portuguese', 'ro': 'Romanian', 'ru': 'Russian', 'si': 'Sinhala', 'sk': 'Slovak', 'sq': 'Albanian', 'sr': 'Serbian', 'su': 'Sundanese', 'sv': 'Swedish', 'sw': 'Swahili', 'ta': 'Tamil', 'te': 'Telugu', 'th': 'Thai', 'tl': 'Filipino', 'tr': 'Turkish', 'uk': 'Ukrainian', 'ur': 'Urdu', 'vi': 'Vietnamese', 'zh-CN': 'Chinese', 'zh-TW': 'Chinese (Mandarin/Taiwan)', 'zh': 'Chinese (Mandarin)'}\n"
     ]
    }
   ],
   "source": [
    "print(languages)"
   ]
  },
  {
   "cell_type": "code",
   "execution_count": 13,
   "id": "8946a0da",
   "metadata": {},
   "outputs": [],
   "source": [
    "# Import the required module for text \n",
    "# to speech conversion\n",
    "from gtts import gTTS\n",
    "  \n",
    "# This module is imported so that we can \n",
    "# play the converted audio\n",
    "import os\n",
    "  \n",
    "# The text that you want to convert to audio\n",
    "mytext = 'hallo allemaal lisa is gek op papa'\n",
    "  \n",
    "# Language in which you want to convert\n",
    "language = 'nl'\n",
    "  \n",
    "# Passing the text and language to the engine, \n",
    "# here we have marked slow=False. Which tells \n",
    "# the module that the converted audio should \n",
    "# have a high speed\n",
    "myobj = gTTS(text=mytext, lang=language, slow=False)\n",
    "  \n",
    "# Saving the converted audio in a mp3 file named\n",
    "# welcome \n",
    "myobj.save(\"welcome.wav\")"
   ]
  },
  {
   "cell_type": "code",
   "execution_count": 14,
   "id": "dd8ffd00",
   "metadata": {},
   "outputs": [
    {
     "data": {
      "text/html": [
       "\n",
       "                <audio  controls=\"controls\" >\n",
       "                    <source src=\"data:audio/wav;base64,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\" type=\"audio/wav\" />\n",
       "                    Your browser does not support the audio element.\n",
       "                </audio>\n",
       "              "
      ],
      "text/plain": [
       "<IPython.lib.display.Audio object>"
      ]
     },
     "execution_count": 14,
     "metadata": {},
     "output_type": "execute_result"
    }
   ],
   "source": [
    "from IPython import display\n",
    "display.Audio('welcome.wav')"
   ]
  },
  {
   "cell_type": "code",
   "execution_count": 15,
   "id": "02eef10a",
   "metadata": {},
   "outputs": [
    {
     "name": "stdout",
     "output_type": "stream",
     "text": [
      "recording...\n",
      "finished recording\n",
      "Google Speech Recognition thinks you said harder\n",
      "recording...\n",
      "finished recording\n"
     ]
    },
    {
     "ename": "KeyboardInterrupt",
     "evalue": "",
     "output_type": "error",
     "traceback": [
      "\u001b[1;31m---------------------------------------------------------------------------\u001b[0m",
      "\u001b[1;31mKeyboardInterrupt\u001b[0m                         Traceback (most recent call last)",
      "Input \u001b[1;32mIn [15]\u001b[0m, in \u001b[0;36m<cell line: 79>\u001b[1;34m()\u001b[0m\n\u001b[0;32m     75\u001b[0m spreq \u001b[38;5;241m=\u001b[39m record()\n\u001b[0;32m     76\u001b[0m spc \u001b[38;5;241m=\u001b[39m speech( txt)\n\u001b[1;32m---> 79\u001b[0m spreq \u001b[38;5;241m=\u001b[39m \u001b[43mrecord\u001b[49m\u001b[43m(\u001b[49m\u001b[43m)\u001b[49m\n\u001b[0;32m     80\u001b[0m spc \u001b[38;5;241m=\u001b[39m speech( txt)\n",
      "Input \u001b[1;32mIn [15]\u001b[0m, in \u001b[0;36mrecord\u001b[1;34m()\u001b[0m\n\u001b[0;32m     60\u001b[0m \u001b[38;5;28;01mtry\u001b[39;00m:\n\u001b[0;32m     61\u001b[0m     \u001b[38;5;66;03m# for testing purposes, we're just using the default API key\u001b[39;00m\n\u001b[0;32m     62\u001b[0m     \u001b[38;5;66;03m# to use another API key, use `r.recognize_google(audio, key=\"GOOGLE_SPEECH_RECOGNITION_API_KEY\")`\u001b[39;00m\n\u001b[0;32m     63\u001b[0m     \u001b[38;5;66;03m# instead of `r.recognize_google(audio)`\u001b[39;00m\n\u001b[0;32m     64\u001b[0m     \u001b[38;5;28;01mglobal\u001b[39;00m txt\n\u001b[1;32m---> 65\u001b[0m     txt \u001b[38;5;241m=\u001b[39m \u001b[43mr\u001b[49m\u001b[38;5;241;43m.\u001b[39;49m\u001b[43mrecognize_google\u001b[49m\u001b[43m(\u001b[49m\u001b[43maudio\u001b[49m\u001b[43m,\u001b[49m\u001b[43m \u001b[49m\u001b[38;5;28;43;01mNone\u001b[39;49;00m\u001b[43m,\u001b[49m\u001b[43m \u001b[49m\u001b[38;5;124;43m\"\u001b[39;49m\u001b[38;5;124;43mnl_NL\u001b[39;49m\u001b[38;5;124;43m\"\u001b[39;49m\u001b[43m)\u001b[49m\n\u001b[0;32m     66\u001b[0m     \u001b[38;5;28mprint\u001b[39m(\u001b[38;5;124m\"\u001b[39m\u001b[38;5;124mGoogle Speech Recognition thinks you said \u001b[39m\u001b[38;5;124m\"\u001b[39m \u001b[38;5;241m+\u001b[39mtxt )\n\u001b[0;32m     67\u001b[0m     \u001b[38;5;28;01mreturn\u001b[39;00m txt\n",
      "File \u001b[1;32m~\\anaconda3\\lib\\site-packages\\speech_recognition\\__init__.py:840\u001b[0m, in \u001b[0;36mRecognizer.recognize_google\u001b[1;34m(self, audio_data, key, language, show_all)\u001b[0m\n\u001b[0;32m    838\u001b[0m \u001b[38;5;66;03m# obtain audio transcription results\u001b[39;00m\n\u001b[0;32m    839\u001b[0m \u001b[38;5;28;01mtry\u001b[39;00m:\n\u001b[1;32m--> 840\u001b[0m     response \u001b[38;5;241m=\u001b[39m \u001b[43murlopen\u001b[49m\u001b[43m(\u001b[49m\u001b[43mrequest\u001b[49m\u001b[43m,\u001b[49m\u001b[43m \u001b[49m\u001b[43mtimeout\u001b[49m\u001b[38;5;241;43m=\u001b[39;49m\u001b[38;5;28;43mself\u001b[39;49m\u001b[38;5;241;43m.\u001b[39;49m\u001b[43moperation_timeout\u001b[49m\u001b[43m)\u001b[49m\n\u001b[0;32m    841\u001b[0m \u001b[38;5;28;01mexcept\u001b[39;00m HTTPError \u001b[38;5;28;01mas\u001b[39;00m e:\n\u001b[0;32m    842\u001b[0m     \u001b[38;5;28;01mraise\u001b[39;00m RequestError(\u001b[38;5;124m\"\u001b[39m\u001b[38;5;124mrecognition request failed: \u001b[39m\u001b[38;5;132;01m{}\u001b[39;00m\u001b[38;5;124m\"\u001b[39m\u001b[38;5;241m.\u001b[39mformat(e\u001b[38;5;241m.\u001b[39mreason))\n",
      "File \u001b[1;32m~\\anaconda3\\lib\\urllib\\request.py:214\u001b[0m, in \u001b[0;36murlopen\u001b[1;34m(url, data, timeout, cafile, capath, cadefault, context)\u001b[0m\n\u001b[0;32m    212\u001b[0m \u001b[38;5;28;01melse\u001b[39;00m:\n\u001b[0;32m    213\u001b[0m     opener \u001b[38;5;241m=\u001b[39m _opener\n\u001b[1;32m--> 214\u001b[0m \u001b[38;5;28;01mreturn\u001b[39;00m \u001b[43mopener\u001b[49m\u001b[38;5;241;43m.\u001b[39;49m\u001b[43mopen\u001b[49m\u001b[43m(\u001b[49m\u001b[43murl\u001b[49m\u001b[43m,\u001b[49m\u001b[43m \u001b[49m\u001b[43mdata\u001b[49m\u001b[43m,\u001b[49m\u001b[43m \u001b[49m\u001b[43mtimeout\u001b[49m\u001b[43m)\u001b[49m\n",
      "File \u001b[1;32m~\\anaconda3\\lib\\urllib\\request.py:517\u001b[0m, in \u001b[0;36mOpenerDirector.open\u001b[1;34m(self, fullurl, data, timeout)\u001b[0m\n\u001b[0;32m    514\u001b[0m     req \u001b[38;5;241m=\u001b[39m meth(req)\n\u001b[0;32m    516\u001b[0m sys\u001b[38;5;241m.\u001b[39maudit(\u001b[38;5;124m'\u001b[39m\u001b[38;5;124murllib.Request\u001b[39m\u001b[38;5;124m'\u001b[39m, req\u001b[38;5;241m.\u001b[39mfull_url, req\u001b[38;5;241m.\u001b[39mdata, req\u001b[38;5;241m.\u001b[39mheaders, req\u001b[38;5;241m.\u001b[39mget_method())\n\u001b[1;32m--> 517\u001b[0m response \u001b[38;5;241m=\u001b[39m \u001b[38;5;28;43mself\u001b[39;49m\u001b[38;5;241;43m.\u001b[39;49m\u001b[43m_open\u001b[49m\u001b[43m(\u001b[49m\u001b[43mreq\u001b[49m\u001b[43m,\u001b[49m\u001b[43m \u001b[49m\u001b[43mdata\u001b[49m\u001b[43m)\u001b[49m\n\u001b[0;32m    519\u001b[0m \u001b[38;5;66;03m# post-process response\u001b[39;00m\n\u001b[0;32m    520\u001b[0m meth_name \u001b[38;5;241m=\u001b[39m protocol\u001b[38;5;241m+\u001b[39m\u001b[38;5;124m\"\u001b[39m\u001b[38;5;124m_response\u001b[39m\u001b[38;5;124m\"\u001b[39m\n",
      "File \u001b[1;32m~\\anaconda3\\lib\\urllib\\request.py:534\u001b[0m, in \u001b[0;36mOpenerDirector._open\u001b[1;34m(self, req, data)\u001b[0m\n\u001b[0;32m    531\u001b[0m     \u001b[38;5;28;01mreturn\u001b[39;00m result\n\u001b[0;32m    533\u001b[0m protocol \u001b[38;5;241m=\u001b[39m req\u001b[38;5;241m.\u001b[39mtype\n\u001b[1;32m--> 534\u001b[0m result \u001b[38;5;241m=\u001b[39m \u001b[38;5;28;43mself\u001b[39;49m\u001b[38;5;241;43m.\u001b[39;49m\u001b[43m_call_chain\u001b[49m\u001b[43m(\u001b[49m\u001b[38;5;28;43mself\u001b[39;49m\u001b[38;5;241;43m.\u001b[39;49m\u001b[43mhandle_open\u001b[49m\u001b[43m,\u001b[49m\u001b[43m \u001b[49m\u001b[43mprotocol\u001b[49m\u001b[43m,\u001b[49m\u001b[43m \u001b[49m\u001b[43mprotocol\u001b[49m\u001b[43m \u001b[49m\u001b[38;5;241;43m+\u001b[39;49m\n\u001b[0;32m    535\u001b[0m \u001b[43m                          \u001b[49m\u001b[38;5;124;43m'\u001b[39;49m\u001b[38;5;124;43m_open\u001b[39;49m\u001b[38;5;124;43m'\u001b[39;49m\u001b[43m,\u001b[49m\u001b[43m \u001b[49m\u001b[43mreq\u001b[49m\u001b[43m)\u001b[49m\n\u001b[0;32m    536\u001b[0m \u001b[38;5;28;01mif\u001b[39;00m result:\n\u001b[0;32m    537\u001b[0m     \u001b[38;5;28;01mreturn\u001b[39;00m result\n",
      "File \u001b[1;32m~\\anaconda3\\lib\\urllib\\request.py:494\u001b[0m, in \u001b[0;36mOpenerDirector._call_chain\u001b[1;34m(self, chain, kind, meth_name, *args)\u001b[0m\n\u001b[0;32m    492\u001b[0m \u001b[38;5;28;01mfor\u001b[39;00m handler \u001b[38;5;129;01min\u001b[39;00m handlers:\n\u001b[0;32m    493\u001b[0m     func \u001b[38;5;241m=\u001b[39m \u001b[38;5;28mgetattr\u001b[39m(handler, meth_name)\n\u001b[1;32m--> 494\u001b[0m     result \u001b[38;5;241m=\u001b[39m \u001b[43mfunc\u001b[49m\u001b[43m(\u001b[49m\u001b[38;5;241;43m*\u001b[39;49m\u001b[43margs\u001b[49m\u001b[43m)\u001b[49m\n\u001b[0;32m    495\u001b[0m     \u001b[38;5;28;01mif\u001b[39;00m result \u001b[38;5;129;01mis\u001b[39;00m \u001b[38;5;129;01mnot\u001b[39;00m \u001b[38;5;28;01mNone\u001b[39;00m:\n\u001b[0;32m    496\u001b[0m         \u001b[38;5;28;01mreturn\u001b[39;00m result\n",
      "File \u001b[1;32m~\\anaconda3\\lib\\urllib\\request.py:1375\u001b[0m, in \u001b[0;36mHTTPHandler.http_open\u001b[1;34m(self, req)\u001b[0m\n\u001b[0;32m   1374\u001b[0m \u001b[38;5;28;01mdef\u001b[39;00m \u001b[38;5;21mhttp_open\u001b[39m(\u001b[38;5;28mself\u001b[39m, req):\n\u001b[1;32m-> 1375\u001b[0m     \u001b[38;5;28;01mreturn\u001b[39;00m \u001b[38;5;28;43mself\u001b[39;49m\u001b[38;5;241;43m.\u001b[39;49m\u001b[43mdo_open\u001b[49m\u001b[43m(\u001b[49m\u001b[43mhttp\u001b[49m\u001b[38;5;241;43m.\u001b[39;49m\u001b[43mclient\u001b[49m\u001b[38;5;241;43m.\u001b[39;49m\u001b[43mHTTPConnection\u001b[49m\u001b[43m,\u001b[49m\u001b[43m \u001b[49m\u001b[43mreq\u001b[49m\u001b[43m)\u001b[49m\n",
      "File \u001b[1;32m~\\anaconda3\\lib\\urllib\\request.py:1350\u001b[0m, in \u001b[0;36mAbstractHTTPHandler.do_open\u001b[1;34m(self, http_class, req, **http_conn_args)\u001b[0m\n\u001b[0;32m   1348\u001b[0m     \u001b[38;5;28;01mexcept\u001b[39;00m \u001b[38;5;167;01mOSError\u001b[39;00m \u001b[38;5;28;01mas\u001b[39;00m err: \u001b[38;5;66;03m# timeout error\u001b[39;00m\n\u001b[0;32m   1349\u001b[0m         \u001b[38;5;28;01mraise\u001b[39;00m URLError(err)\n\u001b[1;32m-> 1350\u001b[0m     r \u001b[38;5;241m=\u001b[39m \u001b[43mh\u001b[49m\u001b[38;5;241;43m.\u001b[39;49m\u001b[43mgetresponse\u001b[49m\u001b[43m(\u001b[49m\u001b[43m)\u001b[49m\n\u001b[0;32m   1351\u001b[0m \u001b[38;5;28;01mexcept\u001b[39;00m:\n\u001b[0;32m   1352\u001b[0m     h\u001b[38;5;241m.\u001b[39mclose()\n",
      "File \u001b[1;32m~\\anaconda3\\lib\\http\\client.py:1377\u001b[0m, in \u001b[0;36mHTTPConnection.getresponse\u001b[1;34m(self)\u001b[0m\n\u001b[0;32m   1375\u001b[0m \u001b[38;5;28;01mtry\u001b[39;00m:\n\u001b[0;32m   1376\u001b[0m     \u001b[38;5;28;01mtry\u001b[39;00m:\n\u001b[1;32m-> 1377\u001b[0m         \u001b[43mresponse\u001b[49m\u001b[38;5;241;43m.\u001b[39;49m\u001b[43mbegin\u001b[49m\u001b[43m(\u001b[49m\u001b[43m)\u001b[49m\n\u001b[0;32m   1378\u001b[0m     \u001b[38;5;28;01mexcept\u001b[39;00m \u001b[38;5;167;01mConnectionError\u001b[39;00m:\n\u001b[0;32m   1379\u001b[0m         \u001b[38;5;28mself\u001b[39m\u001b[38;5;241m.\u001b[39mclose()\n",
      "File \u001b[1;32m~\\anaconda3\\lib\\http\\client.py:320\u001b[0m, in \u001b[0;36mHTTPResponse.begin\u001b[1;34m(self)\u001b[0m\n\u001b[0;32m    318\u001b[0m \u001b[38;5;66;03m# read until we get a non-100 response\u001b[39;00m\n\u001b[0;32m    319\u001b[0m \u001b[38;5;28;01mwhile\u001b[39;00m \u001b[38;5;28;01mTrue\u001b[39;00m:\n\u001b[1;32m--> 320\u001b[0m     version, status, reason \u001b[38;5;241m=\u001b[39m \u001b[38;5;28;43mself\u001b[39;49m\u001b[38;5;241;43m.\u001b[39;49m\u001b[43m_read_status\u001b[49m\u001b[43m(\u001b[49m\u001b[43m)\u001b[49m\n\u001b[0;32m    321\u001b[0m     \u001b[38;5;28;01mif\u001b[39;00m status \u001b[38;5;241m!=\u001b[39m CONTINUE:\n\u001b[0;32m    322\u001b[0m         \u001b[38;5;28;01mbreak\u001b[39;00m\n",
      "File \u001b[1;32m~\\anaconda3\\lib\\http\\client.py:281\u001b[0m, in \u001b[0;36mHTTPResponse._read_status\u001b[1;34m(self)\u001b[0m\n\u001b[0;32m    280\u001b[0m \u001b[38;5;28;01mdef\u001b[39;00m \u001b[38;5;21m_read_status\u001b[39m(\u001b[38;5;28mself\u001b[39m):\n\u001b[1;32m--> 281\u001b[0m     line \u001b[38;5;241m=\u001b[39m \u001b[38;5;28mstr\u001b[39m(\u001b[38;5;28;43mself\u001b[39;49m\u001b[38;5;241;43m.\u001b[39;49m\u001b[43mfp\u001b[49m\u001b[38;5;241;43m.\u001b[39;49m\u001b[43mreadline\u001b[49m\u001b[43m(\u001b[49m\u001b[43m_MAXLINE\u001b[49m\u001b[43m \u001b[49m\u001b[38;5;241;43m+\u001b[39;49m\u001b[43m \u001b[49m\u001b[38;5;241;43m1\u001b[39;49m\u001b[43m)\u001b[49m, \u001b[38;5;124m\"\u001b[39m\u001b[38;5;124miso-8859-1\u001b[39m\u001b[38;5;124m\"\u001b[39m)\n\u001b[0;32m    282\u001b[0m     \u001b[38;5;28;01mif\u001b[39;00m \u001b[38;5;28mlen\u001b[39m(line) \u001b[38;5;241m>\u001b[39m _MAXLINE:\n\u001b[0;32m    283\u001b[0m         \u001b[38;5;28;01mraise\u001b[39;00m LineTooLong(\u001b[38;5;124m\"\u001b[39m\u001b[38;5;124mstatus line\u001b[39m\u001b[38;5;124m\"\u001b[39m)\n",
      "File \u001b[1;32m~\\anaconda3\\lib\\socket.py:704\u001b[0m, in \u001b[0;36mSocketIO.readinto\u001b[1;34m(self, b)\u001b[0m\n\u001b[0;32m    702\u001b[0m \u001b[38;5;28;01mwhile\u001b[39;00m \u001b[38;5;28;01mTrue\u001b[39;00m:\n\u001b[0;32m    703\u001b[0m     \u001b[38;5;28;01mtry\u001b[39;00m:\n\u001b[1;32m--> 704\u001b[0m         \u001b[38;5;28;01mreturn\u001b[39;00m \u001b[38;5;28;43mself\u001b[39;49m\u001b[38;5;241;43m.\u001b[39;49m\u001b[43m_sock\u001b[49m\u001b[38;5;241;43m.\u001b[39;49m\u001b[43mrecv_into\u001b[49m\u001b[43m(\u001b[49m\u001b[43mb\u001b[49m\u001b[43m)\u001b[49m\n\u001b[0;32m    705\u001b[0m     \u001b[38;5;28;01mexcept\u001b[39;00m timeout:\n\u001b[0;32m    706\u001b[0m         \u001b[38;5;28mself\u001b[39m\u001b[38;5;241m.\u001b[39m_timeout_occurred \u001b[38;5;241m=\u001b[39m \u001b[38;5;28;01mTrue\u001b[39;00m\n",
      "\u001b[1;31mKeyboardInterrupt\u001b[0m: "
     ]
    }
   ],
   "source": [
    "#!/usr/bin/env python\n",
    "#-*- coding: utf-8 -*-\n",
    "#source: https://gist.github.com/tjoen/bd37bdb8795363e9940f959b2394c5e2\n",
    "\n",
    "from gtts import gTTS\n",
    "import os\n",
    "import speech_recognition as sr\n",
    "import tempfile\n",
    "import time\n",
    "import pyaudio\n",
    "import wave\n",
    "\n",
    "txt = \"test\"\n",
    "\n",
    "def speech( txt ):\n",
    "    tts = gTTS(text=txt, lang=\"nl\")\n",
    "    testfile = \"temp.mp3\"\n",
    "    tts.save(testfile)\n",
    "    os.system(\"mpg123 temp.mp3\")\n",
    "    os.system(\"rm %s\" %(testfile))\n",
    "\n",
    "def record():\n",
    "    FORMAT = pyaudio.paInt16\n",
    "    CHANNELS = 1\n",
    "    RATE = 22050\n",
    "    CHUNK = 1024\n",
    "    RECORD_SECONDS = 5\n",
    "    WAVE_OUTPUT_FILENAME = \"file.wav\"\n",
    "\n",
    "    audio = pyaudio.PyAudio()\n",
    "\n",
    "    # start Recording\n",
    "    stream = audio.open(format=FORMAT, channels=CHANNELS,\n",
    "                    rate=RATE, input=True,\n",
    "                    frames_per_buffer=CHUNK)\n",
    "    print (\"recording...\")\n",
    "    frames = []\n",
    "\n",
    "    for i in range(0, int(RATE / CHUNK * RECORD_SECONDS)):\n",
    "        data = stream.read(CHUNK)\n",
    "        frames.append(data)\n",
    "    print (\"finished recording\")\n",
    "   # stop Recording\n",
    "    stream.stop_stream()\n",
    "    stream.close()\n",
    "    audio.terminate()\n",
    "\n",
    "    waveFile = wave.open(WAVE_OUTPUT_FILENAME, 'wb')\n",
    "    waveFile.setnchannels(CHANNELS)\n",
    "    waveFile.setsampwidth(audio.get_sample_size(FORMAT))\n",
    "    waveFile.setframerate(RATE)\n",
    "    waveFile.writeframes(b''.join(frames))\n",
    "    waveFile.close()\n",
    "\n",
    "    r = sr.Recognizer()\n",
    "    with sr.WavFile(WAVE_OUTPUT_FILENAME) as source:              # use \"test.wav\" as the audio source\n",
    "        audio = r.record(source)                        # extract audio data from the file\n",
    "\n",
    "    # recognize speech using Google Speech Recognition\n",
    "    try:\n",
    "        # for testing purposes, we're just using the default API key\n",
    "        # to use another API key, use `r.recognize_google(audio, key=\"GOOGLE_SPEECH_RECOGNITION_API_KEY\")`\n",
    "        # instead of `r.recognize_google(audio)`\n",
    "        global txt\n",
    "        txt = r.recognize_google(audio, None, \"nl_NL\")\n",
    "        print(\"Google Speech Recognition thinks you said \" +txt )\n",
    "        return txt\n",
    "    except sr.UnknownValueError:\n",
    "        print(\"Google Speech Recognition could not understand audio\")\n",
    "        return(\"Ik begrijp niet wat je zegt\")\n",
    "    except sr.RequestError as e:\n",
    "        print(\"Could not request results from Google Speech Recognition service; {0}\".format(e))\n",
    "        return \"Fout in de spraakherkenning service\"\n",
    "\n",
    "spreq = record()\n",
    "spc = speech( txt)\n",
    "\n",
    "\n",
    "spreq = record()\n",
    "spc = speech( txt)"
   ]
  },
  {
   "cell_type": "markdown",
   "id": "dd3a26a4",
   "metadata": {},
   "source": [
    "## 4. T2S with pyttsx3 (offline)\n",
    "\n",
    "pyttsx3 is a text-to-speech conversion library in Python. Unlike alternative libraries, it works offline, and is compatible with both Python 2 and 3.\n",
    "\n",
    "- Pypi: https://pypi.org/project/pyttsx3/\n",
    "- Readthedocs: https://pyttsx3.readthedocs.io/en/latest/\n",
    "- Github: https://github.com/nateshmbhat/pyttsx3"
   ]
  },
  {
   "cell_type": "code",
   "execution_count": 17,
   "id": "4fc720fa",
   "metadata": {},
   "outputs": [
    {
     "name": "stdout",
     "output_type": "stream",
     "text": [
      "Requirement already satisfied: pyttsx3 in c:\\users\\michiel\\anaconda3\\lib\\site-packages (2.90)\n",
      "Requirement already satisfied: pywin32 in c:\\users\\michiel\\anaconda3\\lib\\site-packages (from pyttsx3) (302)\n",
      "Requirement already satisfied: comtypes in c:\\users\\michiel\\anaconda3\\lib\\site-packages (from pyttsx3) (1.1.10)\n",
      "Requirement already satisfied: pypiwin32 in c:\\users\\michiel\\anaconda3\\lib\\site-packages (from pyttsx3) (223)\n"
     ]
    }
   ],
   "source": [
    "!pip install pyttsx3"
   ]
  },
  {
   "cell_type": "code",
   "execution_count": 1,
   "id": "781673aa",
   "metadata": {},
   "outputs": [],
   "source": [
    "#basic script\n",
    "import pyttsx3\n",
    "engine = pyttsx3.init()\n",
    "engine.say(\"I like python\")\n",
    "engine.runAndWait()"
   ]
  },
  {
   "cell_type": "code",
   "execution_count": 2,
   "id": "4e92dfc5",
   "metadata": {},
   "outputs": [],
   "source": [
    "#changing the voice to female or male\n",
    "voices = engine.getProperty('voices')       #getting details of current voice\n",
    "engine.setProperty('voice', voices[1].id)   #changing index, changes voices. 1 for female, 0 for male\n",
    "engine.say(\"I like python\")\n",
    "engine.runAndWait()"
   ]
  },
  {
   "cell_type": "markdown",
   "id": "10078f14",
   "metadata": {},
   "source": [
    "## 5. To do: Googles xtreme-S\n",
    "https://huggingface.co/datasets/google/xtreme_s"
   ]
  },
  {
   "cell_type": "code",
   "execution_count": null,
   "id": "e989f46c",
   "metadata": {},
   "outputs": [],
   "source": []
  },
  {
   "cell_type": "code",
   "execution_count": null,
   "id": "4b30a8f8",
   "metadata": {},
   "outputs": [],
   "source": []
  }
 ],
 "metadata": {
  "kernelspec": {
   "display_name": "Python 3 (ipykernel)",
   "language": "python",
   "name": "python3"
  },
  "language_info": {
   "codemirror_mode": {
    "name": "ipython",
    "version": 3
   },
   "file_extension": ".py",
   "mimetype": "text/x-python",
   "name": "python",
   "nbconvert_exporter": "python",
   "pygments_lexer": "ipython3",
   "version": "3.9.12"
  }
 },
 "nbformat": 4,
 "nbformat_minor": 5
}
