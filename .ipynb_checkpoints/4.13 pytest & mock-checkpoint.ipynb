{
 "cells": [
  {
   "cell_type": "markdown",
   "id": "ae4e78f3",
   "metadata": {},
   "source": [
    "# 4.13 Pytest library for API testing"
   ]
  },
  {
   "cell_type": "code",
   "execution_count": 2,
   "id": "02b119c1",
   "metadata": {},
   "outputs": [
    {
     "name": "stdout",
     "output_type": "stream",
     "text": [
      "Requirement already satisfied: pytest in c:\\users\\31653\\anaconda3\\lib\\site-packages (6.2.5)\n",
      "Requirement already satisfied: attrs>=19.2.0 in c:\\users\\31653\\anaconda3\\lib\\site-packages (from pytest) (21.2.0)\n",
      "Requirement already satisfied: iniconfig in c:\\users\\31653\\anaconda3\\lib\\site-packages (from pytest) (1.1.1)\n",
      "Requirement already satisfied: packaging in c:\\users\\31653\\anaconda3\\lib\\site-packages (from pytest) (21.0)\n",
      "Requirement already satisfied: pluggy<2.0,>=0.12 in c:\\users\\31653\\anaconda3\\lib\\site-packages (from pytest) (1.0.0)\n",
      "Requirement already satisfied: py>=1.8.2 in c:\\users\\31653\\anaconda3\\lib\\site-packages (from pytest) (1.10.0)\n",
      "Requirement already satisfied: toml in c:\\users\\31653\\anaconda3\\lib\\site-packages (from pytest) (0.10.2)\n",
      "Requirement already satisfied: atomicwrites>=1.0 in c:\\users\\31653\\anaconda3\\lib\\site-packages (from pytest) (1.4.0)\n",
      "Requirement already satisfied: colorama in c:\\users\\31653\\anaconda3\\lib\\site-packages (from pytest) (0.4.4)\n",
      "Requirement already satisfied: pyparsing>=2.0.2 in c:\\users\\31653\\anaconda3\\lib\\site-packages (from packaging->pytest) (2.4.7)\n"
     ]
    }
   ],
   "source": [
    "!pip install pytest"
   ]
  },
  {
   "cell_type": "markdown",
   "id": "c25959b8",
   "metadata": {},
   "source": [
    "## 1. writing tests with Requests \n",
    "\n",
    "Bas Dijkstra's tutorial: https://www.youtube.com/watch?v=YeAWDfxqD7g"
   ]
  },
  {
   "cell_type": "code",
   "execution_count": 7,
   "id": "c9fd3fce",
   "metadata": {},
   "outputs": [],
   "source": [
    "#we use this data:\n",
    "%pycat https://jsonplaceholder.typicode.com/users/1"
   ]
  },
  {
   "cell_type": "code",
   "execution_count": 5,
   "id": "62cdc99e",
   "metadata": {},
   "outputs": [],
   "source": [
    "import requests\n",
    "def test_equals_200():\n",
    "    response = requests.get('https://jsonplaceholder.typicode.com/users/1')\n",
    "    assert response.status_code == 200\n",
    "\n",
    "def test_content_type_header():\n",
    "    response = requests.get('https://jsonplaceholder.typicode.com/users/1')\n",
    "    assert response.headers[\"Content-Type\"] == \"application/json; charset=utf-8\"\n",
    "    \n",
    "def test_response():\n",
    "    response = requests.get('https://jsonplaceholder.typicode.com/users/1')\n",
    "    response_body = response.json()\n",
    "    assert 'name'in response_body\n",
    "    print(response_body)\n",
    "    \n",
    "def name2_romaguera_crona():\n",
    "    response = requests.get('https://jsonplaceholder.typicode.com/users/1')\n",
    "    response_body = response.json()\n",
    "    assert response_body[\"company\"][\"name\"] == 'Romaguera-Crona'"
   ]
  },
  {
   "cell_type": "code",
   "execution_count": 6,
   "id": "cc6a010e",
   "metadata": {},
   "outputs": [],
   "source": [
    "name2_romaguera_crona()"
   ]
  },
  {
   "cell_type": "markdown",
   "id": "41dec5e5",
   "metadata": {},
   "source": [
    "### Post"
   ]
  },
  {
   "cell_type": "code",
   "execution_count": 32,
   "id": "5b1836c7",
   "metadata": {},
   "outputs": [],
   "source": [
    "%pycat https://jsonplaceholder.typicode.com/posts"
   ]
  },
  {
   "cell_type": "code",
   "execution_count": 8,
   "id": "a835f234",
   "metadata": {},
   "outputs": [],
   "source": [
    "def test_post_201():\n",
    "    my_new_post = {\"userId\": 1, \"title\":\"my post title\", \"body\":\"My post body\"}\n",
    "    response = requests.post(\"https://jsonplaceholder.typicode.com/posts\", json=my_new_post)\n",
    "    assert response.status_code == 201  "
   ]
  },
  {
   "cell_type": "code",
   "execution_count": 9,
   "id": "0f3cad99",
   "metadata": {},
   "outputs": [],
   "source": [
    "test_post_201() "
   ]
  },
  {
   "cell_type": "markdown",
   "id": "9edb743f",
   "metadata": {},
   "source": [
    "### List of 3 users"
   ]
  },
  {
   "cell_type": "code",
   "execution_count": 10,
   "id": "1102364f",
   "metadata": {},
   "outputs": [],
   "source": [
    "# not working check userid\n",
    "import pytest\n",
    "import requests\n",
    "test_data_users = [ (1, \"Leanne Graham\"), (2, \"Ervin Howell\"), (3, \"Clementine Bauch\")]\n",
    "\n",
    "@pytest.mark.parametrize(\"userid, expected_name\", test_data_users)\n",
    "def test_3_users():\n",
    "    response = requests.get(f\"https://jsonplaceholder.typicode.com/users/{userid}\")\n",
    "    response_body = response.json()\n",
    "    assert response_body['name']==expected_name\n",
    "test_3_users()"
   ]
  },
  {
   "cell_type": "code",
   "execution_count": null,
   "id": "352d2221",
   "metadata": {},
   "outputs": [],
   "source": []
  },
  {
   "cell_type": "markdown",
   "id": "6100a0f2",
   "metadata": {},
   "source": [
    "## 2. Mock\n",
    "unittest.mock is a library for testing in Python. It allows you to replace parts of your system under test with mock objects and make assertions about how they have been used.\n",
    "#### Links:\n",
    "- https://docs.python.org/3/library/unittest.mock.\n",
    "- https://realpython.com/python-mock-library/"
   ]
  },
  {
   "cell_type": "code",
   "execution_count": 12,
   "id": "17bdcce8",
   "metadata": {},
   "outputs": [
    {
     "data": {
      "text/plain": [
       "<Mock id='2929594497056'>"
      ]
     },
     "execution_count": 12,
     "metadata": {},
     "output_type": "execute_result"
    }
   ],
   "source": [
    "from unittest.mock import Mock\n",
    "mock = Mock()\n",
    "mock"
   ]
  },
  {
   "cell_type": "code",
   "execution_count": 13,
   "id": "7f6c040f",
   "metadata": {},
   "outputs": [
    {
     "data": {
      "text/plain": [
       "<Mock name='mock.some_attribute' id='2929583557360'>"
      ]
     },
     "execution_count": 13,
     "metadata": {},
     "output_type": "execute_result"
    }
   ],
   "source": [
    "# create an attribute to the mock\n",
    "mock.some_attribute"
   ]
  },
  {
   "cell_type": "code",
   "execution_count": 14,
   "id": "ea943541",
   "metadata": {},
   "outputs": [
    {
     "data": {
      "text/plain": [
       "<Mock name='mock.do_something()' id='2929594472096'>"
      ]
     },
     "execution_count": 14,
     "metadata": {},
     "output_type": "execute_result"
    }
   ],
   "source": [
    "# create a function to the mock\n",
    "mock.do_something()"
   ]
  },
  {
   "cell_type": "code",
   "execution_count": 15,
   "id": "330cf287",
   "metadata": {},
   "outputs": [
    {
     "data": {
      "text/plain": [
       "<Mock name='mock.loads().get()' id='2929584569360'>"
      ]
     },
     "execution_count": 15,
     "metadata": {},
     "output_type": "execute_result"
    }
   ],
   "source": [
    "json = Mock()\n",
    "json.loads('{\"k\": \"v\"}').get('k')"
   ]
  },
  {
   "cell_type": "code",
   "execution_count": 16,
   "id": "31f3a0d7",
   "metadata": {},
   "outputs": [],
   "source": [
    "from datetime import datetime\n",
    "\n",
    "def is_weekday():\n",
    "    today = datetime.today()\n",
    "    # Python's datetime library treats Monday as 0 and Sunday as 6\n",
    "    return (0 <= today.weekday() < 5)\n",
    "\n",
    "# Test if today is a weekday\n",
    "assert is_weekday()"
   ]
  },
  {
   "cell_type": "code",
   "execution_count": 17,
   "id": "95b16386",
   "metadata": {},
   "outputs": [
    {
     "data": {
      "text/plain": [
       "True"
      ]
     },
     "execution_count": 17,
     "metadata": {},
     "output_type": "execute_result"
    }
   ],
   "source": [
    "is_weekday()"
   ]
  },
  {
   "cell_type": "code",
   "execution_count": 19,
   "id": "e314899b",
   "metadata": {},
   "outputs": [],
   "source": [
    "#this scripts mocks the day of the week to saturday\n",
    "import datetime\n",
    "from unittest.mock import Mock\n",
    "\n",
    "# Save a couple of test days\n",
    "tuesday = datetime.datetime(year=2019, month=1, day=1)\n",
    "saturday = datetime.datetime(year=2019, month=1, day=5)\n",
    "\n",
    "# Mock datetime to control today's date\n",
    "datetime = Mock()\n",
    "\n",
    "def is_weekday():\n",
    "    today = datetime.datetime.today()\n",
    "    # Python's datetime library treats Monday as 0 and Sunday as 6\n",
    "    return (0 <= today.weekday() < 5)\n",
    "\n",
    "# Mock .today() to return Tuesday\n",
    "datetime.datetime.today.return_value = tuesday\n",
    "# Test Tuesday is a weekday\n",
    "assert is_weekday()\n",
    "# Mock .today() to return Saturday\n",
    "datetime.datetime.today.return_value = saturday\n",
    "# Test Saturday is not a weekday\n",
    "assert not is_weekday()"
   ]
  },
  {
   "cell_type": "code",
   "execution_count": 21,
   "id": "33849253",
   "metadata": {},
   "outputs": [
    {
     "data": {
      "text/plain": [
       "False"
      ]
     },
     "execution_count": 21,
     "metadata": {},
     "output_type": "execute_result"
    }
   ],
   "source": [
    "is_weekday()"
   ]
  },
  {
   "cell_type": "code",
   "execution_count": null,
   "id": "a7f9820d",
   "metadata": {},
   "outputs": [],
   "source": []
  },
  {
   "cell_type": "code",
   "execution_count": null,
   "id": "4a236d57",
   "metadata": {},
   "outputs": [],
   "source": []
  },
  {
   "cell_type": "code",
   "execution_count": null,
   "id": "f62d7cc3",
   "metadata": {},
   "outputs": [],
   "source": []
  },
  {
   "cell_type": "markdown",
   "id": "2df069c5",
   "metadata": {},
   "source": [
    "## 3. Nose \n",
    "\n",
    "nose extends unittest to make testing easier.\n",
    "\n",
    "- https://nose.readthedocs.io/en/latest/\n",
    "- https://realpython.com/testing-third-party-apis-with-mocks/"
   ]
  },
  {
   "cell_type": "code",
   "execution_count": 20,
   "id": "b5ae5d08",
   "metadata": {},
   "outputs": [
    {
     "name": "stdout",
     "output_type": "stream",
     "text": [
      "Requirement already satisfied: nose in c:\\users\\31653\\anaconda3\\lib\\site-packages (1.3.7)\n"
     ]
    }
   ],
   "source": [
    "!pip install nose"
   ]
  },
  {
   "cell_type": "code",
   "execution_count": 24,
   "id": "31441e68",
   "metadata": {},
   "outputs": [
    {
     "name": "stderr",
     "output_type": "stream",
     "text": [
      "curl: (3) URL using bad/illegal format or missing URL\n"
     ]
    }
   ],
   "source": [
    "!curl -X GET 'http://jsonplaceholder.typicode.com/todos'"
   ]
  },
  {
   "cell_type": "code",
   "execution_count": 32,
   "id": "ee4aa27c",
   "metadata": {},
   "outputs": [],
   "source": [
    "from nose.tools import assert_true\n",
    "import requests\n",
    "\n",
    "\n",
    "def test_request_response():\n",
    "    # Send a request to the API server and store the response.\n",
    "    response = requests.get('http://jsonplaceholder.typicode.com/todos')\n",
    "\n",
    "    # Confirm that the request-response cycle completed successfully.\n",
    "    assert_true(response.ok)\n",
    "    print(response.ok)\n"
   ]
  },
  {
   "cell_type": "code",
   "execution_count": 33,
   "id": "7f9ffbf2",
   "metadata": {},
   "outputs": [
    {
     "name": "stdout",
     "output_type": "stream",
     "text": [
      "True\n"
     ]
    }
   ],
   "source": [
    "test_request_response()"
   ]
  },
  {
   "cell_type": "code",
   "execution_count": 31,
   "id": "3375e3b6",
   "metadata": {},
   "outputs": [
    {
     "data": {
      "text/plain": [
       "<Response [200]>"
      ]
     },
     "execution_count": 31,
     "metadata": {},
     "output_type": "execute_result"
    }
   ],
   "source": []
  },
  {
   "cell_type": "code",
   "execution_count": null,
   "id": "33f017db",
   "metadata": {},
   "outputs": [],
   "source": []
  }
 ],
 "metadata": {
  "kernelspec": {
   "display_name": "Python 3 (ipykernel)",
   "language": "python",
   "name": "python3"
  },
  "language_info": {
   "codemirror_mode": {
    "name": "ipython",
    "version": 3
   },
   "file_extension": ".py",
   "mimetype": "text/x-python",
   "name": "python",
   "nbconvert_exporter": "python",
   "pygments_lexer": "ipython3",
   "version": "3.8.5"
  }
 },
 "nbformat": 4,
 "nbformat_minor": 5
}
