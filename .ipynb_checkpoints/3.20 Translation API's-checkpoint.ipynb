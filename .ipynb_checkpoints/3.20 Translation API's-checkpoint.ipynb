{
 "cells": [
  {
   "cell_type": "markdown",
   "id": "857232f1",
   "metadata": {},
   "source": [
    "# Translation\n",
    "\n",
    "In this notebook several python libraries for translation are described. \n",
    "\n",
    "### Contents\n",
    "We will use the following:\n",
    "1. Translate API: https://pypi.org/project/translate-api/ \n",
    "2. DeepL API: https://www.deepl.com/docs-api/introduction/\n",
    "3. Google Translate: https://py-googletrans.readthedocs.io/en/latest/ (deprecated)"
   ]
  },
  {
   "cell_type": "markdown",
   "id": "c5c6da9e",
   "metadata": {},
   "source": [
    "## 1. Translate API (working)\n",
    "\n",
    "- pypi: https://pypi.org/project/translate-api/ "
   ]
  },
  {
   "cell_type": "code",
   "execution_count": 5,
   "id": "16c95439",
   "metadata": {},
   "outputs": [
    {
     "name": "stdout",
     "output_type": "stream",
     "text": [
      "Requirement already satisfied: translators in c:\\users\\31653\\anaconda3\\lib\\site-packages (5.0.2)\n",
      "Collecting translators\n",
      "  Downloading translators-5.3.0-py3-none-any.whl (27 kB)\n",
      "Requirement already satisfied: requests>=2.27.1 in c:\\users\\31653\\anaconda3\\lib\\site-packages (from translators) (2.27.1)\n",
      "Requirement already satisfied: PyExecJS>=1.5.1 in c:\\users\\31653\\anaconda3\\lib\\site-packages (from translators) (1.5.1)\n",
      "Requirement already satisfied: lxml>=4.8.0 in c:\\users\\31653\\anaconda3\\lib\\site-packages (from translators) (4.8.0)\n",
      "Requirement already satisfied: loguru>=0.6.0 in c:\\users\\31653\\anaconda3\\lib\\site-packages (from translators) (0.6.0)\n",
      "Requirement already satisfied: pathos>=0.2.8 in c:\\users\\31653\\anaconda3\\lib\\site-packages (from translators) (0.2.8)\n",
      "Requirement already satisfied: colorama>=0.3.4 in c:\\users\\31653\\anaconda3\\lib\\site-packages (from loguru>=0.6.0->translators) (0.4.4)\n",
      "Requirement already satisfied: win32-setctime>=1.0.0 in c:\\users\\31653\\anaconda3\\lib\\site-packages (from loguru>=0.6.0->translators) (1.1.0)\n",
      "Requirement already satisfied: dill>=0.3.4 in c:\\users\\31653\\anaconda3\\lib\\site-packages (from pathos>=0.2.8->translators) (0.3.4)\n",
      "Requirement already satisfied: multiprocess>=0.70.12 in c:\\users\\31653\\anaconda3\\lib\\site-packages (from pathos>=0.2.8->translators) (0.70.12.2)\n",
      "Requirement already satisfied: pox>=0.3.0 in c:\\users\\31653\\anaconda3\\lib\\site-packages (from pathos>=0.2.8->translators) (0.3.0)\n",
      "Requirement already satisfied: ppft>=1.6.6.4 in c:\\users\\31653\\anaconda3\\lib\\site-packages (from pathos>=0.2.8->translators) (1.6.6.4)\n",
      "Requirement already satisfied: six>=1.10.0 in c:\\users\\31653\\anaconda3\\lib\\site-packages (from PyExecJS>=1.5.1->translators) (1.15.0)\n",
      "Requirement already satisfied: urllib3<1.27,>=1.21.1 in c:\\users\\31653\\anaconda3\\lib\\site-packages (from requests>=2.27.1->translators) (1.26.7)\n",
      "Requirement already satisfied: certifi>=2017.4.17 in c:\\users\\31653\\anaconda3\\lib\\site-packages (from requests>=2.27.1->translators) (2021.10.8)\n",
      "Requirement already satisfied: idna<4,>=2.5 in c:\\users\\31653\\anaconda3\\lib\\site-packages (from requests>=2.27.1->translators) (2.10)\n",
      "Requirement already satisfied: charset-normalizer~=2.0.0 in c:\\users\\31653\\anaconda3\\lib\\site-packages (from requests>=2.27.1->translators) (2.0.0)\n",
      "Installing collected packages: translators\n",
      "  Attempting uninstall: translators\n",
      "    Found existing installation: translators 5.0.2\n",
      "    Uninstalling translators-5.0.2:\n",
      "      Successfully uninstalled translators-5.0.2\n",
      "Successfully installed translators-5.3.0\n"
     ]
    }
   ],
   "source": [
    "!pip install translators --upgrade"
   ]
  },
  {
   "cell_type": "code",
   "execution_count": 4,
   "id": "4c94ede5",
   "metadata": {},
   "outputs": [
    {
     "name": "stderr",
     "output_type": "stream",
     "text": [
      "Using state North Holland server backend.\n"
     ]
    },
    {
     "name": "stdout",
     "output_type": "stream",
     "text": [
      "The trails of the cocks, that you could only broke through the first line of defense. Huyaryat artillery aviation machines. Twenty -nine aviation.\n"
     ]
    }
   ],
   "source": [
    "import translators as ts\n",
    "\n",
    "wyw_text = 'Тропы хуярых церстов, что только можно прорвали первую линию обороны. Хуярят станков авиации артиллерии. Двадцать девять авиации.'\n",
    "\n",
    "# input languages\n",
    "print(ts.google(wyw_text)) # default: from_language='auto', to_language='en'"
   ]
  },
  {
   "cell_type": "code",
   "execution_count": 1,
   "id": "b6cb0454",
   "metadata": {},
   "outputs": [
    {
     "name": "stderr",
     "output_type": "stream",
     "text": [
      "Using state South Holland server backend.\n"
     ]
    },
    {
     "name": "stdout",
     "output_type": "stream",
     "text": [
      "this man alive served relaxed does not sleep, swell does not worry anything\n"
     ]
    }
   ],
   "source": [
    "import translators as ts\n",
    "uk_text ='вот ето человек живой отслужил расслабился не спит отекает ничего не тревожит'\n",
    "print(ts.google(uk_text)) # default: from_language='auto', to_language='en'"
   ]
  },
  {
   "cell_type": "markdown",
   "id": "6ed44fdc",
   "metadata": {},
   "source": [
    "## 2. DeepL\n",
    "- https://www.deepl.com/docs-api/introduction/\n",
    "- source: https://www.deepl.com/nl/blog/announcing-python-client-library-for-deepl-api\n",
    "- account: https://www.deepl.com/nl/account/summary\n",
    "- pypi: https://pypi.org/project/deepl/\n",
    "\n",
    "Languages supported (Aug 2022): https://www.deepl.com/nl/docs-api/translating-text/\n",
    "For me relevant: Russian, Dutch, English but not: Ukrainian"
   ]
  },
  {
   "cell_type": "code",
   "execution_count": 2,
   "id": "b074b88d",
   "metadata": {},
   "outputs": [
    {
     "name": "stdout",
     "output_type": "stream",
     "text": [
      "Collecting deepl\n",
      "  Downloading deepl-1.11.0-py3-none-any.whl (36 kB)\n",
      "Requirement already satisfied: requests<3,>=2 in /Users/michielbontenbal/opt/anaconda3/lib/python3.9/site-packages (from deepl) (2.28.1)\n",
      "Requirement already satisfied: charset-normalizer<3,>=2 in /Users/michielbontenbal/opt/anaconda3/lib/python3.9/site-packages (from requests<3,>=2->deepl) (2.0.4)\n",
      "Requirement already satisfied: idna<4,>=2.5 in /Users/michielbontenbal/opt/anaconda3/lib/python3.9/site-packages (from requests<3,>=2->deepl) (3.3)\n",
      "Requirement already satisfied: urllib3<1.27,>=1.21.1 in /Users/michielbontenbal/opt/anaconda3/lib/python3.9/site-packages (from requests<3,>=2->deepl) (1.26.9)\n",
      "Requirement already satisfied: certifi>=2017.4.17 in /Users/michielbontenbal/opt/anaconda3/lib/python3.9/site-packages (from requests<3,>=2->deepl) (2021.10.8)\n",
      "Installing collected packages: deepl\n",
      "Successfully installed deepl-1.11.0\n"
     ]
    }
   ],
   "source": [
    "!pip install deepl"
   ]
  },
  {
   "cell_type": "code",
   "execution_count": 3,
   "id": "6052a035",
   "metadata": {},
   "outputs": [
    {
     "ename": "ModuleNotFoundError",
     "evalue": "No module named 'credentials'",
     "output_type": "error",
     "traceback": [
      "\u001b[0;31m---------------------------------------------------------------------------\u001b[0m",
      "\u001b[0;31mModuleNotFoundError\u001b[0m                       Traceback (most recent call last)",
      "Input \u001b[0;32mIn [3]\u001b[0m, in \u001b[0;36m<cell line: 2>\u001b[0;34m()\u001b[0m\n\u001b[1;32m      1\u001b[0m \u001b[38;5;28;01mimport\u001b[39;00m \u001b[38;5;21;01mdeepl\u001b[39;00m \n\u001b[0;32m----> 2\u001b[0m \u001b[38;5;28;01mimport\u001b[39;00m \u001b[38;5;21;01mcredentials\u001b[39;00m\n\u001b[1;32m      3\u001b[0m translator \u001b[38;5;241m=\u001b[39m deepl\u001b[38;5;241m.\u001b[39mTranslator(credentials\u001b[38;5;241m.\u001b[39mdeepl) \u001b[38;5;66;03m#get your own API Key!\u001b[39;00m\n\u001b[1;32m      4\u001b[0m text \u001b[38;5;241m=\u001b[39m \u001b[38;5;124m'\u001b[39m\u001b[38;5;124mТропы хуярых церстов, что только можно прорвали первую линию обороны. Хуярят станков авиации артиллерии. Двадцать девять авиации.\u001b[39m\u001b[38;5;124m'\u001b[39m\n",
      "\u001b[0;31mModuleNotFoundError\u001b[0m: No module named 'credentials'"
     ]
    }
   ],
   "source": [
    "import deepl \n",
    "import credentials\n",
    "translator = deepl.Translator(credentials.deepl) #get your own API Key!\n",
    "text = 'Тропы хуярых церстов, что только можно прорвали первую линию обороны. Хуярят станков авиации артиллерии. Двадцать девять авиации.'\n",
    "target_language = 'nl'\n",
    "result = translator.translate_text(text, target_lang=target_language) \n",
    "translated_text = result.text\n",
    "translated_text"
   ]
  },
  {
   "cell_type": "code",
   "execution_count": null,
   "id": "3bb74cd3",
   "metadata": {},
   "outputs": [],
   "source": []
  },
  {
   "cell_type": "markdown",
   "id": "b56dbd0f",
   "metadata": {},
   "source": [
    "## 3. Google translate (deprecated)"
   ]
  },
  {
   "cell_type": "code",
   "execution_count": 2,
   "id": "671d6f21",
   "metadata": {},
   "outputs": [
    {
     "name": "stdout",
     "output_type": "stream",
     "text": [
      "Collecting googletrans"
     ]
    },
    {
     "name": "stderr",
     "output_type": "stream",
     "text": [
      "ERROR: pip's dependency resolver does not currently take into account all the packages that are installed. This behaviour is the source of the following dependency conflicts.\n",
      "spyder 5.1.5 requires pyqt5<5.13, which is not installed.\n",
      "spyder 5.1.5 requires pyqtwebengine<5.13, which is not installed.\n",
      "conda-repo-cli 1.0.4 requires pathlib, which is not installed.\n",
      "anaconda-project 0.10.2 requires ruamel-yaml, which is not installed.\n"
     ]
    },
    {
     "name": "stdout",
     "output_type": "stream",
     "text": [
      "\n",
      "  Downloading googletrans-3.0.0.tar.gz (17 kB)\n",
      "Collecting httpx==0.13.3\n",
      "  Downloading httpx-0.13.3-py3-none-any.whl (55 kB)\n",
      "Requirement already satisfied: certifi in c:\\users\\michiel\\anaconda3\\lib\\site-packages (from httpx==0.13.3->googletrans) (2021.10.8)\n",
      "Collecting httpcore==0.9.*\n",
      "  Downloading httpcore-0.9.1-py3-none-any.whl (42 kB)\n",
      "Collecting rfc3986<2,>=1.3\n",
      "  Downloading rfc3986-1.5.0-py2.py3-none-any.whl (31 kB)\n",
      "Collecting chardet==3.*\n",
      "  Downloading chardet-3.0.4-py2.py3-none-any.whl (133 kB)\n",
      "Collecting hstspreload\n",
      "  Downloading hstspreload-2022.8.1-py3-none-any.whl (1.4 MB)\n",
      "Requirement already satisfied: sniffio in c:\\users\\michiel\\anaconda3\\lib\\site-packages (from httpx==0.13.3->googletrans) (1.2.0)\n",
      "Collecting idna==2.*\n",
      "  Downloading idna-2.10-py2.py3-none-any.whl (58 kB)\n",
      "Collecting h11<0.10,>=0.8\n",
      "  Downloading h11-0.9.0-py2.py3-none-any.whl (53 kB)\n",
      "Collecting h2==3.*\n",
      "  Downloading h2-3.2.0-py2.py3-none-any.whl (65 kB)\n",
      "Collecting hpack<4,>=3.0\n",
      "  Downloading hpack-3.0.0-py2.py3-none-any.whl (38 kB)\n",
      "Collecting hyperframe<6,>=5.2.0\n",
      "  Downloading hyperframe-5.2.0-py2.py3-none-any.whl (12 kB)\n",
      "Building wheels for collected packages: googletrans\n",
      "  Building wheel for googletrans (setup.py): started\n",
      "  Building wheel for googletrans (setup.py): finished with status 'done'\n",
      "  Created wheel for googletrans: filename=googletrans-3.0.0-py3-none-any.whl size=15749 sha256=8d032e6c0b463e1542790b3263a11c670c538516caacf32993fac2571c740ab0\n",
      "  Stored in directory: c:\\users\\michiel\\appdata\\local\\pip\\cache\\wheels\\27\\f3\\32\\d4859d40071f07a5df0ab6fdc0076e78a8a786625dde2b4b2f\n",
      "Successfully built googletrans\n",
      "Installing collected packages: hyperframe, hpack, h2, h11, rfc3986, idna, httpcore, hstspreload, chardet, httpx, googletrans\n",
      "  Attempting uninstall: idna\n",
      "    Found existing installation: idna 3.3\n",
      "    Uninstalling idna-3.3:\n",
      "      Successfully uninstalled idna-3.3\n",
      "  Attempting uninstall: chardet\n",
      "    Found existing installation: chardet 4.0.0\n",
      "    Uninstalling chardet-4.0.0:\n",
      "      Successfully uninstalled chardet-4.0.0\n",
      "Successfully installed chardet-3.0.4 googletrans-3.0.0 h11-0.9.0 h2-3.2.0 hpack-3.0.0 hstspreload-2022.8.1 httpcore-0.9.1 httpx-0.13.3 hyperframe-5.2.0 idna-2.10 rfc3986-1.5.0\n"
     ]
    }
   ],
   "source": [
    "!pip install googletrans"
   ]
  },
  {
   "cell_type": "code",
   "execution_count": 9,
   "id": "75036164",
   "metadata": {},
   "outputs": [
    {
     "name": "stdout",
     "output_type": "stream",
     "text": [
      "{'af': 'afrikaans', 'sq': 'albanian', 'am': 'amharic', 'ar': 'arabic', 'hy': 'armenian', 'az': 'azerbaijani', 'eu': 'basque', 'be': 'belarusian', 'bn': 'bengali', 'bs': 'bosnian', 'bg': 'bulgarian', 'ca': 'catalan', 'ceb': 'cebuano', 'ny': 'chichewa', 'zh-cn': 'chinese (simplified)', 'zh-tw': 'chinese (traditional)', 'co': 'corsican', 'hr': 'croatian', 'cs': 'czech', 'da': 'danish', 'nl': 'dutch', 'en': 'english', 'eo': 'esperanto', 'et': 'estonian', 'tl': 'filipino', 'fi': 'finnish', 'fr': 'french', 'fy': 'frisian', 'gl': 'galician', 'ka': 'georgian', 'de': 'german', 'el': 'greek', 'gu': 'gujarati', 'ht': 'haitian creole', 'ha': 'hausa', 'haw': 'hawaiian', 'iw': 'hebrew', 'he': 'hebrew', 'hi': 'hindi', 'hmn': 'hmong', 'hu': 'hungarian', 'is': 'icelandic', 'ig': 'igbo', 'id': 'indonesian', 'ga': 'irish', 'it': 'italian', 'ja': 'japanese', 'jw': 'javanese', 'kn': 'kannada', 'kk': 'kazakh', 'km': 'khmer', 'ko': 'korean', 'ku': 'kurdish (kurmanji)', 'ky': 'kyrgyz', 'lo': 'lao', 'la': 'latin', 'lv': 'latvian', 'lt': 'lithuanian', 'lb': 'luxembourgish', 'mk': 'macedonian', 'mg': 'malagasy', 'ms': 'malay', 'ml': 'malayalam', 'mt': 'maltese', 'mi': 'maori', 'mr': 'marathi', 'mn': 'mongolian', 'my': 'myanmar (burmese)', 'ne': 'nepali', 'no': 'norwegian', 'or': 'odia', 'ps': 'pashto', 'fa': 'persian', 'pl': 'polish', 'pt': 'portuguese', 'pa': 'punjabi', 'ro': 'romanian', 'ru': 'russian', 'sm': 'samoan', 'gd': 'scots gaelic', 'sr': 'serbian', 'st': 'sesotho', 'sn': 'shona', 'sd': 'sindhi', 'si': 'sinhala', 'sk': 'slovak', 'sl': 'slovenian', 'so': 'somali', 'es': 'spanish', 'su': 'sundanese', 'sw': 'swahili', 'sv': 'swedish', 'tg': 'tajik', 'ta': 'tamil', 'te': 'telugu', 'th': 'thai', 'tr': 'turkish', 'uk': 'ukrainian', 'ur': 'urdu', 'ug': 'uyghur', 'uz': 'uzbek', 'vi': 'vietnamese', 'cy': 'welsh', 'xh': 'xhosa', 'yi': 'yiddish', 'yo': 'yoruba', 'zu': 'zulu'}\n"
     ]
    }
   ],
   "source": [
    "import googletrans\n",
    "print(googletrans.LANGUAGES)"
   ]
  },
  {
   "cell_type": "code",
   "execution_count": 1,
   "id": "06846e7c",
   "metadata": {},
   "outputs": [
    {
     "ename": "AttributeError",
     "evalue": "module 'httpcore' has no attribute 'SyncHTTPTransport'",
     "output_type": "error",
     "traceback": [
      "\u001b[1;31m---------------------------------------------------------------------------\u001b[0m",
      "\u001b[1;31mAttributeError\u001b[0m                            Traceback (most recent call last)",
      "\u001b[1;32m~\\AppData\\Local\\Temp/ipykernel_29568/1968417294.py\u001b[0m in \u001b[0;36m<module>\u001b[1;34m\u001b[0m\n\u001b[1;32m----> 1\u001b[1;33m \u001b[1;32mfrom\u001b[0m \u001b[0mgoogletrans\u001b[0m \u001b[1;32mimport\u001b[0m \u001b[0mTranslator\u001b[0m\u001b[1;33m\u001b[0m\u001b[1;33m\u001b[0m\u001b[0m\n\u001b[0m\u001b[0;32m      2\u001b[0m \u001b[0mtranslator\u001b[0m \u001b[1;33m=\u001b[0m \u001b[0mTranslator\u001b[0m\u001b[1;33m(\u001b[0m\u001b[1;33m)\u001b[0m\u001b[1;33m\u001b[0m\u001b[1;33m\u001b[0m\u001b[0m\n\u001b[0;32m      3\u001b[0m \u001b[0mresult\u001b[0m \u001b[1;33m=\u001b[0m \u001b[0mtranslator\u001b[0m\u001b[1;33m.\u001b[0m\u001b[0mtranslate\u001b[0m\u001b[1;33m(\u001b[0m\u001b[1;34m'Mitä sinä teet'\u001b[0m\u001b[1;33m)\u001b[0m\u001b[1;33m\u001b[0m\u001b[1;33m\u001b[0m\u001b[0m\n\u001b[0;32m      4\u001b[0m \u001b[0mprint\u001b[0m\u001b[1;33m(\u001b[0m\u001b[0mresult\u001b[0m\u001b[1;33m.\u001b[0m\u001b[0msrc\u001b[0m\u001b[1;33m)\u001b[0m\u001b[1;33m\u001b[0m\u001b[1;33m\u001b[0m\u001b[0m\n",
      "\u001b[1;32m~\\anaconda3\\lib\\site-packages\\googletrans\\__init__.py\u001b[0m in \u001b[0;36m<module>\u001b[1;34m\u001b[0m\n\u001b[0;32m      4\u001b[0m \u001b[1;33m\u001b[0m\u001b[0m\n\u001b[0;32m      5\u001b[0m \u001b[1;33m\u001b[0m\u001b[0m\n\u001b[1;32m----> 6\u001b[1;33m \u001b[1;32mfrom\u001b[0m \u001b[0mgoogletrans\u001b[0m\u001b[1;33m.\u001b[0m\u001b[0mclient\u001b[0m \u001b[1;32mimport\u001b[0m \u001b[0mTranslator\u001b[0m\u001b[1;33m\u001b[0m\u001b[1;33m\u001b[0m\u001b[0m\n\u001b[0m\u001b[0;32m      7\u001b[0m \u001b[1;32mfrom\u001b[0m \u001b[0mgoogletrans\u001b[0m\u001b[1;33m.\u001b[0m\u001b[0mconstants\u001b[0m \u001b[1;32mimport\u001b[0m \u001b[0mLANGCODES\u001b[0m\u001b[1;33m,\u001b[0m \u001b[0mLANGUAGES\u001b[0m  \u001b[1;31m# noqa\u001b[0m\u001b[1;33m\u001b[0m\u001b[1;33m\u001b[0m\u001b[0m\n",
      "\u001b[1;32m~\\anaconda3\\lib\\site-packages\\googletrans\\client.py\u001b[0m in \u001b[0;36m<module>\u001b[1;34m\u001b[0m\n\u001b[0;32m     23\u001b[0m \u001b[1;33m\u001b[0m\u001b[0m\n\u001b[0;32m     24\u001b[0m \u001b[1;33m\u001b[0m\u001b[0m\n\u001b[1;32m---> 25\u001b[1;33m \u001b[1;32mclass\u001b[0m \u001b[0mTranslator\u001b[0m\u001b[1;33m:\u001b[0m\u001b[1;33m\u001b[0m\u001b[1;33m\u001b[0m\u001b[0m\n\u001b[0m\u001b[0;32m     26\u001b[0m     \"\"\"Google Translate ajax API implementation class\n\u001b[0;32m     27\u001b[0m \u001b[1;33m\u001b[0m\u001b[0m\n",
      "\u001b[1;32m~\\anaconda3\\lib\\site-packages\\googletrans\\client.py\u001b[0m in \u001b[0;36mTranslator\u001b[1;34m()\u001b[0m\n\u001b[0;32m     53\u001b[0m     def __init__(self, service_urls=None, user_agent=DEFAULT_USER_AGENT,\n\u001b[0;32m     54\u001b[0m                  \u001b[0mraise_exception\u001b[0m\u001b[1;33m=\u001b[0m\u001b[0mDEFAULT_RAISE_EXCEPTION\u001b[0m\u001b[1;33m,\u001b[0m\u001b[1;33m\u001b[0m\u001b[1;33m\u001b[0m\u001b[0m\n\u001b[1;32m---> 55\u001b[1;33m                  proxies: typing.Dict[str, httpcore.SyncHTTPTransport] = None, timeout: Timeout = None):\n\u001b[0m\u001b[0;32m     56\u001b[0m \u001b[1;33m\u001b[0m\u001b[0m\n\u001b[0;32m     57\u001b[0m         \u001b[0mself\u001b[0m\u001b[1;33m.\u001b[0m\u001b[0mclient\u001b[0m \u001b[1;33m=\u001b[0m \u001b[0mhttpx\u001b[0m\u001b[1;33m.\u001b[0m\u001b[0mClient\u001b[0m\u001b[1;33m(\u001b[0m\u001b[1;33m)\u001b[0m\u001b[1;33m\u001b[0m\u001b[1;33m\u001b[0m\u001b[0m\n",
      "\u001b[1;31mAttributeError\u001b[0m: module 'httpcore' has no attribute 'SyncHTTPTransport'"
     ]
    }
   ],
   "source": [
    "from googletrans import Translator\n",
    "translator = Translator()\n",
    "result = translator.translate('Mitä sinä teet')\n",
    "print(result.src)"
   ]
  },
  {
   "cell_type": "code",
   "execution_count": null,
   "id": "19a030bc",
   "metadata": {},
   "outputs": [],
   "source": []
  },
  {
   "cell_type": "code",
   "execution_count": null,
   "id": "03b53204",
   "metadata": {},
   "outputs": [],
   "source": []
  },
  {
   "cell_type": "code",
   "execution_count": null,
   "id": "076b873a",
   "metadata": {},
   "outputs": [],
   "source": []
  },
  {
   "cell_type": "code",
   "execution_count": null,
   "id": "3b093892",
   "metadata": {},
   "outputs": [],
   "source": []
  }
 ],
 "metadata": {
  "kernelspec": {
   "display_name": "Python 3 (ipykernel)",
   "language": "python",
   "name": "python3"
  },
  "language_info": {
   "codemirror_mode": {
    "name": "ipython",
    "version": 3
   },
   "file_extension": ".py",
   "mimetype": "text/x-python",
   "name": "python",
   "nbconvert_exporter": "python",
   "pygments_lexer": "ipython3",
   "version": "3.9.12"
  }
 },
 "nbformat": 4,
 "nbformat_minor": 5
}
