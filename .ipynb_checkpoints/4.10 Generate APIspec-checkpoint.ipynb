{
 "cells": [
  {
   "cell_type": "markdown",
   "id": "c14c19b5",
   "metadata": {},
   "source": [
    "# Generate APIspec "
   ]
  },
  {
   "cell_type": "code",
   "execution_count": 3,
   "id": "4baded88",
   "metadata": {},
   "outputs": [
    {
     "name": "stdout",
     "output_type": "stream",
     "text": [
      "Collecting APIspec\n",
      "  Downloading apispec-5.1.1-py3-none-any.whl (28 kB)\n",
      "Installing collected packages: APIspec\n",
      "Successfully installed APIspec-5.1.1\n"
     ]
    }
   ],
   "source": [
    "!pip install APIspec"
   ]
  },
  {
   "cell_type": "code",
   "execution_count": null,
   "id": "b14dfd67",
   "metadata": {},
   "outputs": [],
   "source": []
  },
  {
   "cell_type": "code",
   "execution_count": 4,
   "id": "2e483882",
   "metadata": {},
   "outputs": [
    {
     "name": "stdout",
     "output_type": "stream",
     "text": [
      "Requirement already satisfied: Flask in c:\\users\\31653\\anaconda3\\lib\\site-packages (1.1.2)\n",
      "Requirement already satisfied: Jinja2>=2.10.1 in c:\\users\\31653\\anaconda3\\lib\\site-packages (from Flask) (3.0.2)\n",
      "Requirement already satisfied: click>=5.1 in c:\\users\\31653\\anaconda3\\lib\\site-packages (from Flask) (7.1.2)\n",
      "Requirement already satisfied: itsdangerous>=0.24 in c:\\users\\31653\\anaconda3\\lib\\site-packages (from Flask) (2.0.1)\n",
      "Requirement already satisfied: Werkzeug>=0.15 in c:\\users\\31653\\anaconda3\\lib\\site-packages (from Flask) (1.0.1)\n",
      "Requirement already satisfied: MarkupSafe>=2.0 in c:\\users\\31653\\anaconda3\\lib\\site-packages (from Jinja2>=2.10.1->Flask) (2.0.1)\n"
     ]
    }
   ],
   "source": [
    "!pip install Flask"
   ]
  },
  {
   "cell_type": "code",
   "execution_count": 5,
   "id": "4e049f2a",
   "metadata": {},
   "outputs": [
    {
     "name": "stdout",
     "output_type": "stream",
     "text": [
      "Collecting marshmallow\n",
      "  Downloading marshmallow-3.14.1-py3-none-any.whl (47 kB)\n",
      "Installing collected packages: marshmallow\n",
      "Successfully installed marshmallow-3.14.1\n"
     ]
    }
   ],
   "source": [
    "!pip install marshmallow"
   ]
  },
  {
   "cell_type": "code",
   "execution_count": 7,
   "id": "54c9b772",
   "metadata": {},
   "outputs": [
    {
     "name": "stdout",
     "output_type": "stream",
     "text": [
      "Collecting apispec-webframeworks\n",
      "  Downloading apispec_webframeworks-0.5.2-py2.py3-none-any.whl (12 kB)\n",
      "Requirement already satisfied: apispec[yaml]>=2.0.0 in c:\\users\\31653\\anaconda3\\lib\\site-packages (from apispec-webframeworks) (5.1.1)\n",
      "Requirement already satisfied: PyYAML>=3.10 in c:\\users\\31653\\anaconda3\\lib\\site-packages (from apispec[yaml]>=2.0.0->apispec-webframeworks) (5.4.1)\n",
      "Installing collected packages: apispec-webframeworks\n",
      "Successfully installed apispec-webframeworks-0.5.2\n"
     ]
    }
   ],
   "source": [
    "!pip install apispec-webframeworks"
   ]
  },
  {
   "cell_type": "code",
   "execution_count": 9,
   "id": "2f8502ae",
   "metadata": {},
   "outputs": [
    {
     "name": "stdout",
     "output_type": "stream",
     "text": [
      "Requirement already satisfied: apispec[marshmallow] in c:\\users\\31653\\anaconda3\\lib\\site-packages (5.1.1)\n",
      "Requirement already satisfied: marshmallow>=3.13.0 in c:\\users\\31653\\anaconda3\\lib\\site-packages (from apispec[marshmallow]) (3.14.1)\n"
     ]
    }
   ],
   "source": [
    "!pip install -U apispec[marshmallow]"
   ]
  },
  {
   "cell_type": "code",
   "execution_count": null,
   "id": "889b524f",
   "metadata": {},
   "outputs": [],
   "source": []
  },
  {
   "cell_type": "code",
   "execution_count": 13,
   "id": "8d420243",
   "metadata": {},
   "outputs": [],
   "source": [
    "import uuid\n",
    "from apispec import APISpec\n",
    "from apispec.ext.marshmallow import MarshmallowPlugin\n",
    "from apispec_webframeworks.flask import FlaskPlugin\n",
    "from flask import Flask\n",
    "from marshmallow import Schema, fields\n",
    "\n",
    "\n",
    "# Create an APISpec\n",
    "spec = APISpec(\n",
    "    title=\"Swagger Petstore\",\n",
    "    version=\"1.0.0\",\n",
    "    openapi_version=\"3.0.2\",\n",
    "    plugins=[FlaskPlugin(), MarshmallowPlugin()],\n",
    ")\n",
    "\n",
    "# Optional marshmallow support\n",
    "class CategorySchema(Schema):\n",
    "    id = fields.Int()\n",
    "    name = fields.Str(required=True)\n",
    "\n",
    "\n",
    "class PetSchema(Schema):\n",
    "    categories = fields.List(fields.Nested(CategorySchema))\n",
    "    name = fields.Str()\n",
    "\n",
    "\n",
    "# Optional security scheme support\n",
    "api_key_scheme = {\"type\": \"apiKey\", \"in\": \"header\", \"name\": \"X-API-Key\"}\n",
    "spec.components.security_scheme(\"ApiKeyAuth\", api_key_scheme)\n",
    "\n",
    "\n",
    "# Optional Flask support\n",
    "app = Flask(__name__)\n",
    "\n",
    "\n",
    "@app.route(\"/random\")\n",
    "def random_pet():\n",
    "    \"\"\"A cute furry animal endpoint.\n",
    "    ---\n",
    "    get:\n",
    "      description: Get a random pet\n",
    "      security:\n",
    "        - ApiKeyAuth: []\n",
    "      responses:\n",
    "        200:\n",
    "          description: Return a pet\n",
    "          content:\n",
    "            application/json:\n",
    "              schema: PetSchema\n",
    "    \"\"\"\n",
    "    # Hardcoded example data\n",
    "    pet_data = {\n",
    "        \"name\": \"sample_pet_\" + str(uuid.uuid1()),\n",
    "        \"categories\": [{\"id\": 1, \"name\": \"sample_category\"}],\n",
    "    }\n",
    "    return PetSchema().dump(pet_data)\n",
    "\n",
    "\n",
    "# Register the path and the entities within it\n",
    "with app.test_request_context():\n",
    "    spec.path(view=random_pet)\n"
   ]
  },
  {
   "cell_type": "code",
   "execution_count": 14,
   "id": "bc14417c",
   "metadata": {},
   "outputs": [
    {
     "name": "stdout",
     "output_type": "stream",
     "text": [
      "{\n",
      "  \"paths\": {\n",
      "    \"/random\": {\n",
      "      \"get\": {\n",
      "        \"description\": \"Get a random pet\",\n",
      "        \"security\": [\n",
      "          {\n",
      "            \"ApiKeyAuth\": []\n",
      "          }\n",
      "        ],\n",
      "        \"responses\": {\n",
      "          \"200\": {\n",
      "            \"description\": \"Return a pet\",\n",
      "            \"content\": {\n",
      "              \"application/json\": {\n",
      "                \"schema\": {\n",
      "                  \"$ref\": \"#/components/schemas/Pet\"\n",
      "                }\n",
      "              }\n",
      "            }\n",
      "          }\n",
      "        }\n",
      "      }\n",
      "    }\n",
      "  },\n",
      "  \"info\": {\n",
      "    \"title\": \"Swagger Petstore\",\n",
      "    \"version\": \"1.0.0\"\n",
      "  },\n",
      "  \"openapi\": \"3.0.2\",\n",
      "  \"components\": {\n",
      "    \"schemas\": {\n",
      "      \"Category\": {\n",
      "        \"type\": \"object\",\n",
      "        \"properties\": {\n",
      "          \"id\": {\n",
      "            \"type\": \"integer\"\n",
      "          },\n",
      "          \"name\": {\n",
      "            \"type\": \"string\"\n",
      "          }\n",
      "        },\n",
      "        \"required\": [\n",
      "          \"name\"\n",
      "        ]\n",
      "      },\n",
      "      \"Pet\": {\n",
      "        \"type\": \"object\",\n",
      "        \"properties\": {\n",
      "          \"categories\": {\n",
      "            \"type\": \"array\",\n",
      "            \"items\": {\n",
      "              \"$ref\": \"#/components/schemas/Category\"\n",
      "            }\n",
      "          },\n",
      "          \"name\": {\n",
      "            \"type\": \"string\"\n",
      "          }\n",
      "        }\n",
      "      }\n",
      "    },\n",
      "    \"securitySchemes\": {\n",
      "      \"ApiKeyAuth\": {\n",
      "        \"type\": \"apiKey\",\n",
      "        \"in\": \"header\",\n",
      "        \"name\": \"X-API-Key\"\n",
      "      }\n",
      "    }\n",
      "  }\n",
      "}\n"
     ]
    }
   ],
   "source": [
    "import json\n",
    "\n",
    "print(json.dumps(spec.to_dict(), indent=2))"
   ]
  },
  {
   "cell_type": "code",
   "execution_count": 15,
   "id": "c6b855ca",
   "metadata": {},
   "outputs": [
    {
     "name": "stdout",
     "output_type": "stream",
     "text": [
      "components:\n",
      "  schemas:\n",
      "    Category:\n",
      "      properties:\n",
      "        id:\n",
      "          type: integer\n",
      "        name:\n",
      "          type: string\n",
      "      required:\n",
      "      - name\n",
      "      type: object\n",
      "    Pet:\n",
      "      properties:\n",
      "        categories:\n",
      "          items:\n",
      "            $ref: '#/components/schemas/Category'\n",
      "          type: array\n",
      "        name:\n",
      "          type: string\n",
      "      type: object\n",
      "  securitySchemes:\n",
      "    ApiKeyAuth:\n",
      "      in: header\n",
      "      name: X-API-Key\n",
      "      type: apiKey\n",
      "info:\n",
      "  title: Swagger Petstore\n",
      "  version: 1.0.0\n",
      "openapi: 3.0.2\n",
      "paths:\n",
      "  /random:\n",
      "    get:\n",
      "      description: Get a random pet\n",
      "      responses:\n",
      "        '200':\n",
      "          content:\n",
      "            application/json:\n",
      "              schema:\n",
      "                $ref: '#/components/schemas/Pet'\n",
      "          description: Return a pet\n",
      "      security:\n",
      "      - ApiKeyAuth: []\n",
      "\n"
     ]
    }
   ],
   "source": [
    "print(spec.to_yaml())"
   ]
  },
  {
   "cell_type": "code",
   "execution_count": null,
   "id": "32e326e0",
   "metadata": {},
   "outputs": [],
   "source": []
  }
 ],
 "metadata": {
  "kernelspec": {
   "display_name": "Python 3 (ipykernel)",
   "language": "python",
   "name": "python3"
  },
  "language_info": {
   "codemirror_mode": {
    "name": "ipython",
    "version": 3
   },
   "file_extension": ".py",
   "mimetype": "text/x-python",
   "name": "python",
   "nbconvert_exporter": "python",
   "pygments_lexer": "ipython3",
   "version": "3.9.12"
  }
 },
 "nbformat": 4,
 "nbformat_minor": 5
}
