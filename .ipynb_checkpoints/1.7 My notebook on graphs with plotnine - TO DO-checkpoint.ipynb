{
 "cells": [
  {
   "cell_type": "code",
   "execution_count": 1,
   "metadata": {},
   "outputs": [
    {
     "name": "stdout",
     "output_type": "stream",
     "text": [
      "Requirement already satisfied: plotnine in c:\\users\\31653\\anaconda3\\lib\\site-packages (0.7.1)\n",
      "Requirement already satisfied: scipy>=1.2.0 in c:\\users\\31653\\anaconda3\\lib\\site-packages (from plotnine) (1.5.2)\n",
      "Requirement already satisfied: numpy>=1.16.0 in c:\\users\\31653\\anaconda3\\lib\\site-packages (from plotnine) (1.19.3)\n",
      "Requirement already satisfied: matplotlib>=3.1.1 in c:\\users\\31653\\anaconda3\\lib\\site-packages (from plotnine) (3.3.2)\n",
      "Requirement already satisfied: mizani>=0.7.1 in c:\\users\\31653\\anaconda3\\lib\\site-packages (from plotnine) (0.7.2)\n",
      "Requirement already satisfied: descartes>=1.1.0 in c:\\users\\31653\\anaconda3\\lib\\site-packages (from plotnine) (1.1.0)\n",
      "Requirement already satisfied: pandas>=1.1.0 in c:\\users\\31653\\anaconda3\\lib\\site-packages (from plotnine) (1.1.3)\n",
      "Requirement already satisfied: patsy>=0.5.1 in c:\\users\\31653\\anaconda3\\lib\\site-packages (from plotnine) (0.5.1)\n",
      "Requirement already satisfied: statsmodels>=0.11.1 in c:\\users\\31653\\anaconda3\\lib\\site-packages (from plotnine) (0.12.0)\n",
      "Requirement already satisfied: python-dateutil>=2.1 in c:\\users\\31653\\anaconda3\\lib\\site-packages (from matplotlib>=3.1.1->plotnine) (2.8.1)\n",
      "Requirement already satisfied: kiwisolver>=1.0.1 in c:\\users\\31653\\anaconda3\\lib\\site-packages (from matplotlib>=3.1.1->plotnine) (1.3.0)\n",
      "Requirement already satisfied: cycler>=0.10 in c:\\users\\31653\\anaconda3\\lib\\site-packages (from matplotlib>=3.1.1->plotnine) (0.10.0)\n",
      "Requirement already satisfied: certifi>=2020.06.20 in c:\\users\\31653\\anaconda3\\lib\\site-packages (from matplotlib>=3.1.1->plotnine) (2020.6.20)\n",
      "Requirement already satisfied: pyparsing!=2.0.4,!=2.1.2,!=2.1.6,>=2.0.3 in c:\\users\\31653\\anaconda3\\lib\\site-packages (from matplotlib>=3.1.1->plotnine) (2.4.7)\n",
      "Requirement already satisfied: pillow>=6.2.0 in c:\\users\\31653\\anaconda3\\lib\\site-packages (from matplotlib>=3.1.1->plotnine) (7.0.0)\n",
      "Requirement already satisfied: palettable in c:\\users\\31653\\anaconda3\\lib\\site-packages (from mizani>=0.7.1->plotnine) (3.3.0)\n",
      "Requirement already satisfied: pytz>=2017.2 in c:\\users\\31653\\anaconda3\\lib\\site-packages (from pandas>=1.1.0->plotnine) (2020.1)\n",
      "Requirement already satisfied: six in c:\\users\\31653\\anaconda3\\lib\\site-packages (from patsy>=0.5.1->plotnine) (1.15.0)\n",
      "Note: you may need to restart the kernel to use updated packages.\n"
     ]
    }
   ],
   "source": [
    "%pip install plotnine"
   ]
  },
  {
   "cell_type": "code",
   "execution_count": 3,
   "metadata": {},
   "outputs": [],
   "source": [
    "import plotnine"
   ]
  },
  {
   "cell_type": "code",
   "execution_count": null,
   "metadata": {},
   "outputs": [],
   "source": []
  },
  {
   "cell_type": "markdown",
   "metadata": {},
   "source": []
  }
 ],
 "metadata": {
  "kernelspec": {
   "display_name": "Python 3",
   "language": "python",
   "name": "python3"
  },
  "language_info": {
   "codemirror_mode": {
    "name": "ipython",
    "version": 3
   },
   "file_extension": ".py",
   "mimetype": "text/x-python",
   "name": "python",
   "nbconvert_exporter": "python",
   "pygments_lexer": "ipython3",
   "version": "3.8.5"
  }
 },
 "nbformat": 4,
 "nbformat_minor": 2
}
