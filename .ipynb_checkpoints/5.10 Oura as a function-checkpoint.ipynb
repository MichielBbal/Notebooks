{
 "cells": [
  {
   "cell_type": "markdown",
   "id": "1434029e",
   "metadata": {},
   "source": [
    "# Oura calls but now as a function"
   ]
  },
  {
   "cell_type": "code",
   "execution_count": 88,
   "id": "2bd8d5d1",
   "metadata": {},
   "outputs": [
    {
     "name": "stdout",
     "output_type": "stream",
     "text": [
      "2022-01-25 2022-01-26\n"
     ]
    }
   ],
   "source": [
    "import datetime\n",
    "end_date = (datetime.date.today()) #today\n",
    "start_date = (end_date + datetime.timedelta(days=-1))\n",
    "start_date = str(start_date)\n",
    "end_date = str(end_date)\n",
    "print (start_date, end_date)"
   ]
  },
  {
   "cell_type": "code",
   "execution_count": 89,
   "id": "17d08152",
   "metadata": {},
   "outputs": [
    {
     "name": "stdout",
     "output_type": "stream",
     "text": [
      "{'summary_date': '2022-01-25', 'period_id': 0, 'is_longest': 1, 'timezone': 60, 'bedtime_end': '2022-01-26T07:17:27+01:00', 'bedtime_start': '2022-01-25T23:52:27+01:00', 'breath_average': 15.25, 'duration': 26700, 'total': 24810, 'awake': 1890, 'rem': 7380, 'deep': 7890, 'light': 9540, 'midpoint_time': 13680, 'efficiency': 93, 'restless': 19, 'onset_latency': 810, 'hr_5min': [61, 62, 63, 63, 61, 61, 61, 60, 61, 61, 61, 59, 58, 0, 0, 0, 63, 61, 61, 61, 61, 62, 62, 62, 64, 61, 60, 61, 61, 63, 66, 64, 63, 64, 63, 63, 62, 62, 62, 60, 61, 61, 60, 59, 60, 61, 62, 65, 63, 62, 61, 61, 61, 60, 61, 61, 62, 61, 61, 62, 61, 61, 59, 59, 60, 58, 58, 59, 59, 59, 59, 59, 60, 62, 60, 0, 0, 60, 60, 59, 61, 62, 62, 63, 60, 61, 61, 61, 66, 59], 'hr_average': 61.14, 'hr_lowest': 58.0, 'hypnogram_5min': '42422221111124422221111211111333333211112222223333333222111113222211123333333332233322334', 'rmssd': 27, 'rmssd_5min': [21, 18, 25, 26, 31, 39, 42, 44, 45, 43, 44, 53, 36, 0, 0, 0, 27, 22, 24, 27, 26, 23, 30, 32, 26, 31, 35, 42, 23, 26, 22, 23, 22, 22, 22, 26, 28, 30, 31, 21, 18, 19, 18, 16, 16, 17, 14, 11, 16, 19, 20, 18, 35, 20, 21, 20, 24, 25, 28, 28, 28, 30, 25, 24, 24, 26, 24, 25, 29, 21, 22, 26, 19, 19, 32, 0, 0, 38, 33, 40, 24, 22, 26, 28, 28, 29, 29, 43, 26, 36], 'score': 87, 'score_alignment': 79, 'score_deep': 99, 'score_disturbances': 87, 'score_efficiency': 98, 'score_latency': 97, 'score_rem': 97, 'score_total': 79, 'temperature_deviation': -0.25, 'temperature_trend_deviation': -0.06, 'bedtime_start_delta': -453, 'bedtime_end_delta': 26247, 'midpoint_at_delta': 13227, 'temperature_delta': -0.25}\n"
     ]
    }
   ],
   "source": [
    "import notebooks_config\n",
    "from oura import OuraClient\n",
    "#I store all my credentials in a notebooks_config.py file. \n",
    "#This file is then included in the .gitignore list so I can share the notebooks on GitHub.  \n",
    "\n",
    "def oura_load(start_date, end_date):\n",
    "    oura_pat = notebooks_config.oura_pat #\n",
    "    oura_client_id = notebooks_config.oura_client_id\n",
    "    oura_client_secret = notebooks_config.oura_client_secret\n",
    "\n",
    "    client = OuraClient(personal_access_token=oura_pat)\n",
    "    oura = OuraClient(oura_client_id, oura_client_secret, oura_pat)\n",
    "    result = oura.sleep_summary(start= start_date, end= end_date)\n",
    "    data = result['sleep'][0] #select the first item from the list\n",
    "    return data\n",
    "print(oura_load(start_date, end_date))"
   ]
  },
  {
   "cell_type": "code",
   "execution_count": null,
   "id": "427ff6fa",
   "metadata": {},
   "outputs": [],
   "source": []
  },
  {
   "cell_type": "code",
   "execution_count": 43,
   "id": "af6c2803",
   "metadata": {},
   "outputs": [
    {
     "data": {
      "text/plain": [
       "[117.5, 145.5, 243.0, 92.0]"
      ]
     },
     "execution_count": 43,
     "metadata": {},
     "output_type": "execute_result"
    }
   ],
   "source": [
    "def stages(start_date,end_date):\n",
    "    my_stages = []\n",
    "    data = oura_load(start_date, end_date)\n",
    "    awake = data['awake']/60\n",
    "    rem = data['rem']/60\n",
    "    light=data['light']/60\n",
    "    deep= data['deep']/60\n",
    "    my_stages.append(awake)\n",
    "    my_stages.append(rem)\n",
    "    my_stages.append(light)\n",
    "    my_stages.append(deep)\n",
    "    return my_stages\n",
    "stages(str(start_date), str(end_date))"
   ]
  },
  {
   "cell_type": "code",
   "execution_count": 6,
   "id": "249c07c0",
   "metadata": {},
   "outputs": [
    {
     "data": {
      "text/plain": [
       "(14.875, -0.18, 21)"
      ]
     },
     "execution_count": 6,
     "metadata": {},
     "output_type": "execute_result"
    }
   ],
   "source": [
    "def stats(start_date, end_date):\n",
    "    data=oura_load(start_date, end_date)\n",
    "    breath = data['breath_average']\n",
    "    temp_dev = data['temperature_deviation']\n",
    "    restless = data['restless']\n",
    "    return breath, temp_dev, restless\n",
    "stats(start_date, end_date)"
   ]
  },
  {
   "cell_type": "code",
   "execution_count": 7,
   "id": "0af6834e",
   "metadata": {},
   "outputs": [
    {
     "data": {
      "text/plain": [
       "datetime.datetime(2022, 1, 4, 22, 56, 20, tzinfo=tzoffset(None, 3600))"
      ]
     },
     "execution_count": 7,
     "metadata": {},
     "output_type": "execute_result"
    }
   ],
   "source": [
    "from dateutil import parser\n",
    "def start_time(start_date, end_date):\n",
    "    #get the start and endtime as strings\n",
    "    data = oura_load(start_date, end_date)\n",
    "    start_time = data['bedtime_start']\n",
    "    end_time = data['bedtime_end']\n",
    "    # convert strings to datetime using dateutil\n",
    "    start_time_dt = parser.parse(start_time)\n",
    "    end_time_dt = parser.parse(end_time)\n",
    "    return start_time_dt\n",
    "#('start time is '+ str(start_time_dt) + ' and end time is ' + str(end_time_dt))\n",
    "start_time(start_date, end_date)"
   ]
  },
  {
   "cell_type": "code",
   "execution_count": 8,
   "id": "1518cd4b",
   "metadata": {},
   "outputs": [
    {
     "data": {
      "text/plain": [
       "datetime.datetime(2022, 1, 5, 8, 36, 20, tzinfo=tzoffset(None, 3600))"
      ]
     },
     "execution_count": 8,
     "metadata": {},
     "output_type": "execute_result"
    }
   ],
   "source": [
    "def end_time(start_date, end_date):\n",
    "    #get the start and endtime as strings\n",
    "    data = oura_load(start_date, end_date)\n",
    "    start_time = data['bedtime_start']\n",
    "    end_time = data['bedtime_end']\n",
    "    # convert strings to datetime using dateutil\n",
    "    start_time_dt = parser.parse(start_time)\n",
    "    end_time_dt = parser.parse(end_time)\n",
    "    return end_time_dt\n",
    "#('start time is '+ str(start_time_dt) + ' and end time is ' + str(end_time_dt))\n",
    "end_time(start_date, end_date)"
   ]
  },
  {
   "cell_type": "code",
   "execution_count": 15,
   "id": "64395eac",
   "metadata": {},
   "outputs": [
    {
     "name": "stdout",
     "output_type": "stream",
     "text": [
      "[4, 2, 2, 2, 3, 3, 1, 4, 3, 3, 4, 4, 4, 2, 4, 2, 4, 3, 3, 3, 3, 2, 2, 2, 2, 2, 2, 2, 2, 2, 2, 4, 4, 2, 4, 2, 3, 3, 3, 3, 2, 3, 3, 3, 1, 3, 3, 3, 2, 2, 2, 2, 2, 2, 2, 2, 2, 1, 1, 1, 2, 2, 1, 1, 1, 1, 1, 2, 2, 2, 2, 2, 2, 2, 2, 2, 2, 1, 2, 2, 2, 1, 2, 2, 2, 3, 2, 2, 3, 3, 3, 3, 3, 3, 3, 3, 2, 2, 3, 3, 3, 3, 2, 2, 2, 4, 4, 4]\n"
     ]
    }
   ],
   "source": [
    "def hypnogram():\n",
    "    #get the hypnogram as one long string\n",
    "    data = oura_load(start_date, end_date)\n",
    "    hypnogram = data['hypnogram_5min']\n",
    "    # convert the hypnogram to a list of strings\n",
    "    string_list=[]\n",
    "    string_list[:0]=hypnogram\n",
    "    # convert the list of strings to a list of integers\n",
    "    my_stages=[] #create an empty list for the sleep stages\n",
    "    for i in range(len(string_list)):\n",
    "        integer = int(string_list[i])\n",
    "        my_stages.append(integer)\n",
    "    return my_stages\n",
    "print(hypnogram()) #call the function "
   ]
  },
  {
   "cell_type": "code",
   "execution_count": 112,
   "id": "48ae639b",
   "metadata": {},
   "outputs": [
    {
     "data": {
      "image/png": "[encoded data removed]",
      "text/plain": [
       "<Figure size 1296x360 with 1 Axes>"
      ]
     },
     "metadata": {
      "needs_background": "light"
     },
     "output_type": "display_data"
    }
   ],
   "source": [
    "import matplotlib.pyplot as plt\n",
    "import numpy as np\n",
    "\n",
    "# make data\n",
    "list_range = len(hypnogram())\n",
    "x = []\n",
    "for i in range (list_range):\n",
    "    x.append(i+1)\n",
    "y = hypnogram()\n",
    "# plot\n",
    "fig, ax = plt.subplots(figsize =(18,5))\n",
    "#plt.figure(figsize =(10, 7))\n",
    "ax.step(x, y, linewidth=1.5, label = 'sleepstage')\n",
    "ax.set(xlim=(0, list_range), xticks=np.arange(1, list_range),\n",
    "       ylim=(0.5, 4.5), yticks=np.arange(1,5))\n",
    "ax.set_title('Sleep stages for '+str(start_date)+' - '+str(end_date))\n",
    "ax.legend(['4:awake  3:REM  2:Light  1:deep'])\n",
    "plt.show()"
   ]
  },
  {
   "cell_type": "code",
   "execution_count": 10,
   "id": "34dc5b95",
   "metadata": {},
   "outputs": [
    {
     "name": "stdout",
     "output_type": "stream",
     "text": [
      "[datetime.datetime(2022, 1, 4, 22, 56, 20, tzinfo=tzoffset(None, 3600)), datetime.datetime(2022, 1, 4, 23, 1, 20, tzinfo=tzoffset(None, 3600)), datetime.datetime(2022, 1, 4, 23, 6, 20, tzinfo=tzoffset(None, 3600)), datetime.datetime(2022, 1, 4, 23, 11, 20, tzinfo=tzoffset(None, 3600)), datetime.datetime(2022, 1, 4, 23, 16, 20, tzinfo=tzoffset(None, 3600)), datetime.datetime(2022, 1, 4, 23, 21, 20, tzinfo=tzoffset(None, 3600)), datetime.datetime(2022, 1, 4, 23, 26, 20, tzinfo=tzoffset(None, 3600)), datetime.datetime(2022, 1, 4, 23, 31, 20, tzinfo=tzoffset(None, 3600)), datetime.datetime(2022, 1, 4, 23, 36, 20, tzinfo=tzoffset(None, 3600)), datetime.datetime(2022, 1, 4, 23, 41, 20, tzinfo=tzoffset(None, 3600)), datetime.datetime(2022, 1, 4, 23, 46, 20, tzinfo=tzoffset(None, 3600)), datetime.datetime(2022, 1, 4, 23, 51, 20, tzinfo=tzoffset(None, 3600)), datetime.datetime(2022, 1, 4, 23, 56, 20, tzinfo=tzoffset(None, 3600)), datetime.datetime(2022, 1, 5, 0, 1, 20, tzinfo=tzoffset(None, 3600)), datetime.datetime(2022, 1, 5, 0, 6, 20, tzinfo=tzoffset(None, 3600)), datetime.datetime(2022, 1, 5, 0, 11, 20, tzinfo=tzoffset(None, 3600)), datetime.datetime(2022, 1, 5, 0, 16, 20, tzinfo=tzoffset(None, 3600)), datetime.datetime(2022, 1, 5, 0, 21, 20, tzinfo=tzoffset(None, 3600)), datetime.datetime(2022, 1, 5, 0, 26, 20, tzinfo=tzoffset(None, 3600)), datetime.datetime(2022, 1, 5, 0, 31, 20, tzinfo=tzoffset(None, 3600)), datetime.datetime(2022, 1, 5, 0, 36, 20, tzinfo=tzoffset(None, 3600)), datetime.datetime(2022, 1, 5, 0, 41, 20, tzinfo=tzoffset(None, 3600)), datetime.datetime(2022, 1, 5, 0, 46, 20, tzinfo=tzoffset(None, 3600)), datetime.datetime(2022, 1, 5, 0, 51, 20, tzinfo=tzoffset(None, 3600)), datetime.datetime(2022, 1, 5, 0, 56, 20, tzinfo=tzoffset(None, 3600)), datetime.datetime(2022, 1, 5, 1, 1, 20, tzinfo=tzoffset(None, 3600)), datetime.datetime(2022, 1, 5, 1, 6, 20, tzinfo=tzoffset(None, 3600)), datetime.datetime(2022, 1, 5, 1, 11, 20, tzinfo=tzoffset(None, 3600)), datetime.datetime(2022, 1, 5, 1, 16, 20, tzinfo=tzoffset(None, 3600)), datetime.datetime(2022, 1, 5, 1, 21, 20, tzinfo=tzoffset(None, 3600)), datetime.datetime(2022, 1, 5, 1, 26, 20, tzinfo=tzoffset(None, 3600)), datetime.datetime(2022, 1, 5, 1, 31, 20, tzinfo=tzoffset(None, 3600)), datetime.datetime(2022, 1, 5, 1, 36, 20, tzinfo=tzoffset(None, 3600)), datetime.datetime(2022, 1, 5, 1, 41, 20, tzinfo=tzoffset(None, 3600)), datetime.datetime(2022, 1, 5, 1, 46, 20, tzinfo=tzoffset(None, 3600)), datetime.datetime(2022, 1, 5, 1, 51, 20, tzinfo=tzoffset(None, 3600)), datetime.datetime(2022, 1, 5, 1, 56, 20, tzinfo=tzoffset(None, 3600)), datetime.datetime(2022, 1, 5, 2, 1, 20, tzinfo=tzoffset(None, 3600)), datetime.datetime(2022, 1, 5, 2, 6, 20, tzinfo=tzoffset(None, 3600)), datetime.datetime(2022, 1, 5, 2, 11, 20, tzinfo=tzoffset(None, 3600)), datetime.datetime(2022, 1, 5, 2, 16, 20, tzinfo=tzoffset(None, 3600)), datetime.datetime(2022, 1, 5, 2, 21, 20, tzinfo=tzoffset(None, 3600)), datetime.datetime(2022, 1, 5, 2, 26, 20, tzinfo=tzoffset(None, 3600)), datetime.datetime(2022, 1, 5, 2, 31, 20, tzinfo=tzoffset(None, 3600)), datetime.datetime(2022, 1, 5, 2, 36, 20, tzinfo=tzoffset(None, 3600)), datetime.datetime(2022, 1, 5, 2, 41, 20, tzinfo=tzoffset(None, 3600)), datetime.datetime(2022, 1, 5, 2, 46, 20, tzinfo=tzoffset(None, 3600)), datetime.datetime(2022, 1, 5, 2, 51, 20, tzinfo=tzoffset(None, 3600)), datetime.datetime(2022, 1, 5, 2, 56, 20, tzinfo=tzoffset(None, 3600)), datetime.datetime(2022, 1, 5, 3, 1, 20, tzinfo=tzoffset(None, 3600)), datetime.datetime(2022, 1, 5, 3, 6, 20, tzinfo=tzoffset(None, 3600)), datetime.datetime(2022, 1, 5, 3, 11, 20, tzinfo=tzoffset(None, 3600)), datetime.datetime(2022, 1, 5, 3, 16, 20, tzinfo=tzoffset(None, 3600)), datetime.datetime(2022, 1, 5, 3, 21, 20, tzinfo=tzoffset(None, 3600)), datetime.datetime(2022, 1, 5, 3, 26, 20, tzinfo=tzoffset(None, 3600)), datetime.datetime(2022, 1, 5, 3, 31, 20, tzinfo=tzoffset(None, 3600)), datetime.datetime(2022, 1, 5, 3, 36, 20, tzinfo=tzoffset(None, 3600)), datetime.datetime(2022, 1, 5, 3, 41, 20, tzinfo=tzoffset(None, 3600)), datetime.datetime(2022, 1, 5, 3, 46, 20, tzinfo=tzoffset(None, 3600)), datetime.datetime(2022, 1, 5, 3, 51, 20, tzinfo=tzoffset(None, 3600)), datetime.datetime(2022, 1, 5, 3, 56, 20, tzinfo=tzoffset(None, 3600)), datetime.datetime(2022, 1, 5, 4, 1, 20, tzinfo=tzoffset(None, 3600)), datetime.datetime(2022, 1, 5, 4, 6, 20, tzinfo=tzoffset(None, 3600)), datetime.datetime(2022, 1, 5, 4, 11, 20, tzinfo=tzoffset(None, 3600)), datetime.datetime(2022, 1, 5, 4, 16, 20, tzinfo=tzoffset(None, 3600)), datetime.datetime(2022, 1, 5, 4, 21, 20, tzinfo=tzoffset(None, 3600)), datetime.datetime(2022, 1, 5, 4, 26, 20, tzinfo=tzoffset(None, 3600)), datetime.datetime(2022, 1, 5, 4, 31, 20, tzinfo=tzoffset(None, 3600)), datetime.datetime(2022, 1, 5, 4, 36, 20, tzinfo=tzoffset(None, 3600)), datetime.datetime(2022, 1, 5, 4, 41, 20, tzinfo=tzoffset(None, 3600)), datetime.datetime(2022, 1, 5, 4, 46, 20, tzinfo=tzoffset(None, 3600)), datetime.datetime(2022, 1, 5, 4, 51, 20, tzinfo=tzoffset(None, 3600)), datetime.datetime(2022, 1, 5, 4, 56, 20, tzinfo=tzoffset(None, 3600)), datetime.datetime(2022, 1, 5, 5, 1, 20, tzinfo=tzoffset(None, 3600)), datetime.datetime(2022, 1, 5, 5, 6, 20, tzinfo=tzoffset(None, 3600)), datetime.datetime(2022, 1, 5, 5, 11, 20, tzinfo=tzoffset(None, 3600)), datetime.datetime(2022, 1, 5, 5, 16, 20, tzinfo=tzoffset(None, 3600)), datetime.datetime(2022, 1, 5, 5, 21, 20, tzinfo=tzoffset(None, 3600)), datetime.datetime(2022, 1, 5, 5, 26, 20, tzinfo=tzoffset(None, 3600)), datetime.datetime(2022, 1, 5, 5, 31, 20, tzinfo=tzoffset(None, 3600)), datetime.datetime(2022, 1, 5, 5, 36, 20, tzinfo=tzoffset(None, 3600)), datetime.datetime(2022, 1, 5, 5, 41, 20, tzinfo=tzoffset(None, 3600)), datetime.datetime(2022, 1, 5, 5, 46, 20, tzinfo=tzoffset(None, 3600)), datetime.datetime(2022, 1, 5, 5, 51, 20, tzinfo=tzoffset(None, 3600)), datetime.datetime(2022, 1, 5, 5, 56, 20, tzinfo=tzoffset(None, 3600)), datetime.datetime(2022, 1, 5, 6, 1, 20, tzinfo=tzoffset(None, 3600)), datetime.datetime(2022, 1, 5, 6, 6, 20, tzinfo=tzoffset(None, 3600)), datetime.datetime(2022, 1, 5, 6, 11, 20, tzinfo=tzoffset(None, 3600)), datetime.datetime(2022, 1, 5, 6, 16, 20, tzinfo=tzoffset(None, 3600)), datetime.datetime(2022, 1, 5, 6, 21, 20, tzinfo=tzoffset(None, 3600)), datetime.datetime(2022, 1, 5, 6, 26, 20, tzinfo=tzoffset(None, 3600)), datetime.datetime(2022, 1, 5, 6, 31, 20, tzinfo=tzoffset(None, 3600)), datetime.datetime(2022, 1, 5, 6, 36, 20, tzinfo=tzoffset(None, 3600)), datetime.datetime(2022, 1, 5, 6, 41, 20, tzinfo=tzoffset(None, 3600)), datetime.datetime(2022, 1, 5, 6, 46, 20, tzinfo=tzoffset(None, 3600)), datetime.datetime(2022, 1, 5, 6, 51, 20, tzinfo=tzoffset(None, 3600)), datetime.datetime(2022, 1, 5, 6, 56, 20, tzinfo=tzoffset(None, 3600)), datetime.datetime(2022, 1, 5, 7, 1, 20, tzinfo=tzoffset(None, 3600)), datetime.datetime(2022, 1, 5, 7, 6, 20, tzinfo=tzoffset(None, 3600)), datetime.datetime(2022, 1, 5, 7, 11, 20, tzinfo=tzoffset(None, 3600)), datetime.datetime(2022, 1, 5, 7, 16, 20, tzinfo=tzoffset(None, 3600)), datetime.datetime(2022, 1, 5, 7, 21, 20, tzinfo=tzoffset(None, 3600)), datetime.datetime(2022, 1, 5, 7, 26, 20, tzinfo=tzoffset(None, 3600)), datetime.datetime(2022, 1, 5, 7, 31, 20, tzinfo=tzoffset(None, 3600)), datetime.datetime(2022, 1, 5, 7, 36, 20, tzinfo=tzoffset(None, 3600)), datetime.datetime(2022, 1, 5, 7, 41, 20, tzinfo=tzoffset(None, 3600)), datetime.datetime(2022, 1, 5, 7, 46, 20, tzinfo=tzoffset(None, 3600)), datetime.datetime(2022, 1, 5, 7, 51, 20, tzinfo=tzoffset(None, 3600)), datetime.datetime(2022, 1, 5, 7, 56, 20, tzinfo=tzoffset(None, 3600)), datetime.datetime(2022, 1, 5, 8, 1, 20, tzinfo=tzoffset(None, 3600)), datetime.datetime(2022, 1, 5, 8, 6, 20, tzinfo=tzoffset(None, 3600)), datetime.datetime(2022, 1, 5, 8, 11, 20, tzinfo=tzoffset(None, 3600)), datetime.datetime(2022, 1, 5, 8, 16, 20, tzinfo=tzoffset(None, 3600)), datetime.datetime(2022, 1, 5, 8, 21, 20, tzinfo=tzoffset(None, 3600)), datetime.datetime(2022, 1, 5, 8, 26, 20, tzinfo=tzoffset(None, 3600)), datetime.datetime(2022, 1, 5, 8, 31, 20, tzinfo=tzoffset(None, 3600))]\n"
     ]
    }
   ],
   "source": [
    "import datetime\n",
    "def startintervals(start_date, end_date):\n",
    "    start_time_dt = start_time(start_date, end_date)\n",
    "    time_change = datetime.timedelta(minutes=5)\n",
    "    my_startivs = [start_time_dt]\n",
    "    new_iv=start_time_dt\n",
    "    my_stages = hypnogram()\n",
    "    for i in range(len(my_stages)-1):\n",
    "        new_iv= new_iv+time_change\n",
    "        my_startivs.append(new_iv)\n",
    "    return my_startivs\n",
    "print(startintervals(start_date, end_date))"
   ]
  },
  {
   "cell_type": "code",
   "execution_count": 76,
   "id": "ed88b277",
   "metadata": {},
   "outputs": [
    {
     "name": "stdout",
     "output_type": "stream",
     "text": [
      "[64, 62, 64, 64, 63, 63, 63, 60, 60, 60, 0, 0, 61, 62, 61, 61, 62, 62, 62, 61, 60, 60, 59, 58, 58, 59, 58, 58, 59, 58, 57, 57, 56, 56, 58, 55, 54, 55, 54, 54, 55, 55, 55, 55, 60, 62, 61, 60, 57, 59, 56, 57, 57, 56, 55, 57, 55, 56, 56, 57, 57, 56, 57, 58, 58, 58, 59, 57, 57, 56, 58, 56, 57, 56, 57, 57, 58, 58, 58, 58, 58, 57, 57, 59, 58, 59, 59, 59, 58, 59, 57, 58, 58, 59, 58, 58, 59, 60, 60, 0, 0, 60, 59, 59, 60, 65, 0, 0]\n"
     ]
    }
   ],
   "source": [
    "def hr():\n",
    "    data = oura_load(start_date, end_date)\n",
    "    my_hr = data['hr_5min']\n",
    "    return my_hr\n",
    "print(hr())"
   ]
  },
  {
   "cell_type": "code",
   "execution_count": null,
   "id": "070c87a0",
   "metadata": {},
   "outputs": [],
   "source": []
  },
  {
   "cell_type": "code",
   "execution_count": 100,
   "id": "88513b5d",
   "metadata": {},
   "outputs": [
    {
     "name": "stdout",
     "output_type": "stream",
     "text": [
      "[61. 62. 63. 63. 61. 61. 61. 60. 61. 61. 61. 59. 58. nan nan nan 63. 61.\n",
      " 61. 61. 61. 62. 62. 62. 64. 61. 60. 61. 61. 63. 66. 64. 63. 64. 63. 63.\n",
      " 62. 62. 62. 60. 61. 61. 60. 59. 60. 61. 62. 65. 63. 62. 61. 61. 61. 60.\n",
      " 61. 61. 62. 61. 61. 62. 61. 61. 59. 59. 60. 58. 58. 59. 59. 59. 59. 59.\n",
      " 60. 62. 60. nan nan 60. 60. 59. 61. 62. 62. 63. 60. 61. 61. 61. 66. 59.]\n"
     ]
    },
    {
     "data": {
      "image/png": "[encoded data removed]",
      "text/plain": [
       "<Figure size 1296x360 with 1 Axes>"
      ]
     },
     "metadata": {
      "needs_background": "light"
     },
     "output_type": "display_data"
    }
   ],
   "source": [
    "import matplotlib.pyplot as plt\n",
    "import numpy as np\n",
    "\n",
    "# get the x and y data\n",
    "x = []\n",
    "for i in range (len(hr())):\n",
    "    x.append(i+1)\n",
    "y = hr()\n",
    "#replacing zeros with nan\n",
    "y_array = np.array(y, dtype=np.double)# load list y into a numpy array\n",
    "y_array[y_array==0 ] = np.nan\n",
    "\n",
    "hr_max = max(y_array)\n",
    "hr_min = min(y_array)\n",
    "print(y_array)\n",
    "# plot\n",
    "fig, ax = plt.subplots(figsize =(18,5))\n",
    "ax.step(x, y_array, linewidth=1.5)\n",
    "ax.set(xlim=(0, list_range), xticks=np.arange(1, list_range),\n",
    "       ylim=(hr_min-1, hr_max+1), yticks=np.arange(hr_min-1,hr_max+1))\n",
    "ax.set_title('Heart rate for '+str(start_date)+' - '+str(end_date))\n",
    "plt.show()"
   ]
  },
  {
   "cell_type": "code",
   "execution_count": 71,
   "id": "c9296e59",
   "metadata": {},
   "outputs": [
    {
     "name": "stdout",
     "output_type": "stream",
     "text": [
      "[22, 20, 35, 34, 28, 33, 30, 27, 37, 35, 0, 0, 40, 49, 38, 41, 52, 39, 29, 27, 23, 34, 39, 35, 38, 45, 48, 51, 51, 48, 51, 54, 49, 41, 50, 61, 58, 49, 36, 42, 46, 45, 42, 47, 41, 26, 39, 29, 33, 27, 54, 53, 44, 46, 45, 43, 40, 38, 36, 38, 32, 26, 26, 22, 24, 23, 36, 24, 19, 31, 38, 23, 26, 32, 36, 26, 25, 26, 39, 43, 45, 44, 34, 30, 39, 30, 32, 26, 29, 37, 41, 32, 31, 37, 37, 35, 37, 39, 75, 0, 0, 35, 36, 33, 32, 19, 0, 0]\n"
     ]
    }
   ],
   "source": [
    "def HRV():\n",
    "    data = oura_load(start_date, end_date)\n",
    "    my_HRV = data['rmssd_5min']\n",
    "    return my_HRV\n",
    "print(HRV())"
   ]
  },
  {
   "cell_type": "code",
   "execution_count": 97,
   "id": "2826a06b",
   "metadata": {},
   "outputs": [
    {
     "data": {
      "image/png": "[encoded data removed]",
      "text/plain": [
       "<Figure size 1296x360 with 1 Axes>"
      ]
     },
     "metadata": {
      "needs_background": "light"
     },
     "output_type": "display_data"
    }
   ],
   "source": [
    "import matplotlib.pyplot as plt\n",
    "import numpy as np\n",
    "# get the x and y data\n",
    "list_range = len(HRV())\n",
    "x = []\n",
    "for i in range (list_range):\n",
    "    x.append(i+1)\n",
    "y = HRV()\n",
    "#replacing zeros with nan\n",
    "y_array = np.array(y, dtype=np.double)\n",
    "y_array[y_array==0 ] = np.nan\n",
    "HRV_max = max(y_array)#getting max and min values for the axis\n",
    "HRV_min = min(y_array)\n",
    "# plot\n",
    "fig, ax = plt.subplots(figsize =(18,5))\n",
    "ax.fill_between(x, y_array, linewidth=1.5, alpha=0.7)\n",
    "ax.set_title('HRV for '+str(start_date)+' - '+str(end_date))\n",
    "\n",
    "plt.show()"
   ]
  },
  {
   "cell_type": "code",
   "execution_count": 98,
   "id": "9c8db746",
   "metadata": {},
   "outputs": [
    {
     "ename": "NameError",
     "evalue": "name 'startintervals' is not defined",
     "output_type": "error",
     "traceback": [
      "\u001b[1;31m---------------------------------------------------------------------------\u001b[0m",
      "\u001b[1;31mNameError\u001b[0m                                 Traceback (most recent call last)",
      "\u001b[1;32m~\\AppData\\Local\\Temp/ipykernel_8364/37544781.py\u001b[0m in \u001b[0;36m<module>\u001b[1;34m\u001b[0m\n\u001b[0;32m     10\u001b[0m     \u001b[0msleep_df\u001b[0m\u001b[1;33m[\u001b[0m\u001b[1;34m'HRV'\u001b[0m\u001b[1;33m]\u001b[0m\u001b[1;33m=\u001b[0m\u001b[0mpd\u001b[0m\u001b[1;33m.\u001b[0m\u001b[0mSeries\u001b[0m\u001b[1;33m(\u001b[0m\u001b[0mHRV\u001b[0m\u001b[1;33m(\u001b[0m\u001b[1;33m)\u001b[0m\u001b[1;33m)\u001b[0m\u001b[1;33m\u001b[0m\u001b[1;33m\u001b[0m\u001b[0m\n\u001b[0;32m     11\u001b[0m     \u001b[1;32mreturn\u001b[0m \u001b[0msleep_df\u001b[0m\u001b[1;33m\u001b[0m\u001b[1;33m\u001b[0m\u001b[0m\n\u001b[1;32m---> 12\u001b[1;33m \u001b[0mcreate_df\u001b[0m\u001b[1;33m(\u001b[0m\u001b[0mstart_date\u001b[0m\u001b[1;33m,\u001b[0m \u001b[0mend_date\u001b[0m\u001b[1;33m)\u001b[0m\u001b[1;33m\u001b[0m\u001b[1;33m\u001b[0m\u001b[0m\n\u001b[0m",
      "\u001b[1;32m~\\AppData\\Local\\Temp/ipykernel_8364/37544781.py\u001b[0m in \u001b[0;36mcreate_df\u001b[1;34m(start_date, end_date)\u001b[0m\n\u001b[0;32m      5\u001b[0m \u001b[1;33m\u001b[0m\u001b[0m\n\u001b[0;32m      6\u001b[0m     \u001b[1;31m# Add the lists to the dataframe\u001b[0m\u001b[1;33m\u001b[0m\u001b[1;33m\u001b[0m\u001b[1;33m\u001b[0m\u001b[0m\n\u001b[1;32m----> 7\u001b[1;33m     \u001b[0msleep_df\u001b[0m\u001b[1;33m[\u001b[0m\u001b[1;34m'Start_time'\u001b[0m\u001b[1;33m]\u001b[0m\u001b[1;33m=\u001b[0m\u001b[0mstartintervals\u001b[0m\u001b[1;33m(\u001b[0m\u001b[0mstart_date\u001b[0m\u001b[1;33m,\u001b[0m \u001b[0mend_date\u001b[0m\u001b[1;33m)\u001b[0m\u001b[1;33m\u001b[0m\u001b[1;33m\u001b[0m\u001b[0m\n\u001b[0m\u001b[0;32m      8\u001b[0m     \u001b[0msleep_df\u001b[0m\u001b[1;33m[\u001b[0m\u001b[1;34m'Stage'\u001b[0m\u001b[1;33m]\u001b[0m\u001b[1;33m=\u001b[0m \u001b[0mhypnogram\u001b[0m\u001b[1;33m(\u001b[0m\u001b[1;33m)\u001b[0m\u001b[1;33m\u001b[0m\u001b[1;33m\u001b[0m\u001b[0m\n\u001b[0;32m      9\u001b[0m     \u001b[0msleep_df\u001b[0m\u001b[1;33m[\u001b[0m\u001b[1;34m'hr'\u001b[0m\u001b[1;33m]\u001b[0m\u001b[1;33m=\u001b[0m\u001b[0mpd\u001b[0m\u001b[1;33m.\u001b[0m\u001b[0mSeries\u001b[0m\u001b[1;33m(\u001b[0m\u001b[0mhr\u001b[0m\u001b[1;33m(\u001b[0m\u001b[1;33m)\u001b[0m\u001b[1;33m)\u001b[0m\u001b[1;33m\u001b[0m\u001b[1;33m\u001b[0m\u001b[0m\n",
      "\u001b[1;31mNameError\u001b[0m: name 'startintervals' is not defined"
     ]
    }
   ],
   "source": [
    "import pandas as pd\n",
    "\n",
    "def create_df(start_date, end_date):\n",
    "    sleep_df = pd.DataFrame() #create an empty data frame\n",
    "\n",
    "    # Add the lists to the dataframe\n",
    "    sleep_df['Start_time']=startintervals(start_date, end_date)\n",
    "    sleep_df['Stage']= hypnogram()\n",
    "    sleep_df['hr']=pd.Series(hr())\n",
    "    sleep_df['HRV']=pd.Series(HRV())\n",
    "    return sleep_df\n",
    "create_df(start_date, end_date)"
   ]
  },
  {
   "cell_type": "code",
   "execution_count": 14,
   "id": "365c26f7",
   "metadata": {},
   "outputs": [
    {
     "data": {
      "text/plain": [
       "65"
      ]
     },
     "execution_count": 14,
     "metadata": {},
     "output_type": "execute_result"
    }
   ],
   "source": [
    "def deepsleep(start_date, end_date):\n",
    "    deep_sleep = hypnogram().count(1) \n",
    "    deep_sleep_perc= round((deep_sleep/len(hypnogram())*100),2)\n",
    "    return deep_sleep*5, deep_sleep_perc\n",
    "deepsleep(start_date, end_date)[0]"
   ]
  },
  {
   "cell_type": "code",
   "execution_count": 15,
   "id": "c4158b86",
   "metadata": {},
   "outputs": [
    {
     "name": "stdout",
     "output_type": "stream",
     "text": [
      "9:40:00\n"
     ]
    }
   ],
   "source": [
    "import datetime\n",
    "def sleep_total(start_date, end_date):\n",
    "    my_start_time = start_time(start_date, end_date)\n",
    "    my_end_time = end_time(start_date, end_date)\n",
    "    sleep_total = my_end_time - my_start_time\n",
    "    return print(sleep_total)\n",
    "sleep_total(start_date, end_date)"
   ]
  },
  {
   "cell_type": "code",
   "execution_count": 21,
   "id": "6267dcb3",
   "metadata": {},
   "outputs": [
    {
     "data": {
      "text/plain": [
       "[84.5]"
      ]
     },
     "execution_count": 21,
     "metadata": {},
     "output_type": "execute_result"
    }
   ],
   "source": [
    "data = oura_load(start_date, end_date)\n",
    "sleep = [] \n",
    "data = oura_load(start_date, end_date)\n",
    "awake =data['awake']/60\n",
    "sleep.append(awake)\n",
    "#    rem = data['rem']/60\n",
    "#    light=data['light']/60\n",
    "#   deep= data['deep']/60\n",
    "sleep"
   ]
  },
  {
   "cell_type": "code",
   "execution_count": 38,
   "id": "e4dd7ce5",
   "metadata": {},
   "outputs": [
    {
     "name": "stdout",
     "output_type": "stream",
     "text": [
      "[3960, 8550, 4830, 9000, 3570, 7140, 6690, 7770, 3030, 7110, 7260, 5520, 3840, 9840]\n"
     ]
    }
   ],
   "source": [
    "import datetime\n",
    "today = datetime.date.today()\n",
    "deep_list = []\n",
    "for i in range(7):\n",
    "    end_date = today - datetime.timedelta(days=i)\n",
    "    start_date= today - datetime.timedelta(days=i+1)\n",
    "    deep = oura_load(str(start_date), str(end_date))['deep']\n",
    "    rem = oura_load(str(start_date), str(end_date))['rem']\n",
    "    deep_list.append(deep)\n",
    "    deep_list.append(rem)\n",
    "print(deep_list)"
   ]
  },
  {
   "cell_type": "code",
   "execution_count": 47,
   "id": "666f4a4b",
   "metadata": {},
   "outputs": [
    {
     "name": "stdout",
     "output_type": "stream",
     "text": [
      "[{'end_date': '2022-01-05', 'awake': 5070, 'light': 16050, 'rem': 9840, 'deep': 3840}, {'end_date': '2022-01-05', 'awake': 5070, 'light': 16050, 'rem': 9840, 'deep': 3840}, {'end_date': '2022-01-05', 'awake': 5070, 'light': 16050, 'rem': 9840, 'deep': 3840}, {'end_date': '2022-01-05', 'awake': 5070, 'light': 16050, 'rem': 9840, 'deep': 3840}, {'end_date': '2022-01-05', 'awake': 5070, 'light': 16050, 'rem': 9840, 'deep': 3840}, {'end_date': '2022-01-05', 'awake': 5070, 'light': 16050, 'rem': 9840, 'deep': 3840}, {'end_date': '2022-01-05', 'awake': 5070, 'light': 16050, 'rem': 9840, 'deep': 3840}]\n"
     ]
    }
   ],
   "source": [
    "import datetime\n",
    "today = datetime.date.today()\n",
    "week_list = []\n",
    "stages_dict = {}\n",
    "for i in range(7):\n",
    "    end_date = today - datetime.timedelta(days=i)\n",
    "    start_date= today - datetime.timedelta(days=i+1)\n",
    "    for i in range(1):\n",
    "        stages_dict['end_date'] = str(end_date)\n",
    "        stages_dict['awake'] = oura_load(str(start_date), str(end_date))['awake']\n",
    "        stages_dict['light'] = oura_load(str(start_date), str(end_date))['light']\n",
    "        stages_dict['rem'] = oura_load(str(start_date), str(end_date))['rem']\n",
    "        stages_dict['deep'] = oura_load(str(start_date), str(end_date))['deep']\n",
    "        #print(stages_dict)\n",
    "    week_list.append(stages_dict)\n",
    "print(week_list)"
   ]
  },
  {
   "cell_type": "markdown",
   "id": "d4559206",
   "metadata": {},
   "source": [
    "## Weekly data: sleep stages"
   ]
  },
  {
   "cell_type": "code",
   "execution_count": 59,
   "id": "0b854d52",
   "metadata": {},
   "outputs": [
    {
     "data": {
      "text/plain": [
       "[[9090, 13350, 5970, 5970],\n",
       " [3540, 15360, 7680, 4680],\n",
       " [2340, 10920, 7650, 6270],\n",
       " [4770, 12810, 6750, 4170],\n",
       " [1830, 13410, 4500, 3240],\n",
       " [4860, 15660, 7530, 5670],\n",
       " [3870, 8610, 4950, 6510]]"
      ]
     },
     "execution_count": 59,
     "metadata": {},
     "output_type": "execute_result"
    }
   ],
   "source": [
    "# create the function to get the data for the sleep stages\n",
    "import datetime\n",
    "def week_list():\n",
    "    today = datetime.date.today()\n",
    "    my_week_list = []\n",
    "    for i in range(7):\n",
    "        end_date = today - datetime.timedelta(days=i)\n",
    "        start_date= today - datetime.timedelta(days=i+1)\n",
    "        day_list = []\n",
    "        for i in range(1):\n",
    "            #day_list.append(str(end_date))\n",
    "            day_list.append(oura_load(str(start_date), str(end_date))['awake'])\n",
    "            day_list.append(oura_load(str(start_date), str(end_date))['light'])\n",
    "            day_list.append(oura_load(str(start_date), str(end_date))['rem'])\n",
    "            day_list.append(oura_load(str(start_date), str(end_date))['deep'])\n",
    "            my_week_list.append(day_list)\n",
    "    return my_week_list\n",
    "week_list()"
   ]
  },
  {
   "cell_type": "code",
   "execution_count": 60,
   "id": "5c3fbfab",
   "metadata": {},
   "outputs": [
    {
     "name": "stdout",
     "output_type": "stream",
     "text": [
      "[5970, 4680, 6270, 4170, 3240, 5670, 6510]\n",
      "Total deep sleep last week was: 10.141666666666667 hours.\n",
      "86.92857142857143\n"
     ]
    }
   ],
   "source": [
    "import datetime\n",
    "today = datetime.date.today()\n",
    "deep_list = []\n",
    "for i in range(7):\n",
    "    end_date = today - datetime.timedelta(days=i)\n",
    "    start_date= today - datetime.timedelta(days=i+1)\n",
    "    deep = oura_load(str(start_date), str(end_date))['deep']\n",
    "    deep_list.append(deep)\n",
    "print(deep_list)\n",
    "my_sum = sum(deep_list)\n",
    "print('Total deep sleep last week was: '+ str(my_sum / 3600) +' hours.')\n",
    "deep_ave_day = (my_sum / (7*60))\n",
    "print(deep_ave_day)"
   ]
  },
  {
   "cell_type": "code",
   "execution_count": 61,
   "id": "644e87f5",
   "metadata": {},
   "outputs": [
    {
     "name": "stdout",
     "output_type": "stream",
     "text": [
      "7.55\n",
      "7.916666666666667\n",
      "6.383333333333334\n",
      "9.366666666666667\n",
      "6.65\n",
      "7.733333333333333\n",
      "9.966666666666667\n",
      "55.56666666666667\n"
     ]
    }
   ],
   "source": [
    "week_sum =[]\n",
    "for i in range (len(my_week_list)):\n",
    "    day_sum =sum(my_week_list[i])\n",
    "    week_sum.append(day_sum)\n",
    "    print(day_sum/3600)\n",
    "week_total = sum(week_sum)/3600\n",
    "print(week_total)"
   ]
  },
  {
   "cell_type": "code",
   "execution_count": 62,
   "id": "45e9cab6",
   "metadata": {},
   "outputs": [
    {
     "name": "stdout",
     "output_type": "stream",
     "text": [
      "Total deep sleep is 9.85 hours per week.\n"
     ]
    }
   ],
   "source": [
    "deep_week = []\n",
    "for i in range (len(my_week_list)):\n",
    "    deep_week.append(my_week_list[i][3])\n",
    "Sum = sum(deep_week)/3600\n",
    "print('Total deep sleep is '+ str(Sum) +' hours per week.')"
   ]
  },
  {
   "cell_type": "code",
   "execution_count": null,
   "id": "9f4aab44",
   "metadata": {},
   "outputs": [],
   "source": []
  },
  {
   "cell_type": "code",
   "execution_count": 64,
   "id": "7751a81b",
   "metadata": {},
   "outputs": [
    {
     "data": {
      "image/png": "[encoded data removed]",
      "text/plain": [
       "<Figure size 432x288 with 1 Axes>"
      ]
     },
     "metadata": {},
     "output_type": "display_data"
    },
    {
     "data": {
      "image/png": "[encoded data removed]",
      "text/plain": [
       "<Figure size 432x288 with 1 Axes>"
      ]
     },
     "metadata": {},
     "output_type": "display_data"
    },
    {
     "data": {
      "image/png": "[encoded data removed]",
      "text/plain": [
       "<Figure size 432x288 with 1 Axes>"
      ]
     },
     "metadata": {},
     "output_type": "display_data"
    },
    {
     "data": {
      "image/png": "[encoded data removed]",
      "text/plain": [
       "<Figure size 432x288 with 1 Axes>"
      ]
     },
     "metadata": {},
     "output_type": "display_data"
    },
    {
     "data": {
      "image/png": "[encoded data removed]",
      "text/plain": [
       "<Figure size 432x288 with 1 Axes>"
      ]
     },
     "metadata": {},
     "output_type": "display_data"
    },
    {
     "data": {
      "image/png": "[encoded data removed]",
      "text/plain": [
       "<Figure size 432x288 with 1 Axes>"
      ]
     },
     "metadata": {},
     "output_type": "display_data"
    },
    {
     "data": {
      "image/png": "[encoded data removed]",
      "text/plain": [
       "<Figure size 432x288 with 1 Axes>"
      ]
     },
     "metadata": {},
     "output_type": "display_data"
    }
   ],
   "source": [
    "#Create the graphs for last week\n",
    "import matplotlib.pyplot as plt\n",
    "labels = 'Awake', 'Light', 'REM', 'Deep'\n",
    "my_week_list = week_list()\n",
    "for i in range(7):\n",
    "    fig1, ax1 = plt.subplots()\n",
    "    ax1.pie(my_week_list[i], labels=labels, autopct='%1.1f%%',\n",
    "        shadow=False, startangle=90)\n",
    "    ax1.axis('equal')  # Equal aspect ratio ensures that pie is drawn as a circle. explode=explode, \n",
    "    "
   ]
  },
  {
   "cell_type": "markdown",
   "id": "8274ba8b",
   "metadata": {},
   "source": [
    "## Weekly: stats\n",
    "\n",
    "use the following stats:\n",
    "- hr_average\n",
    "- hr_lowest\n",
    "- rmssd\n",
    "- restless"
   ]
  },
  {
   "cell_type": "code",
   "execution_count": 95,
   "id": "ebbf4605",
   "metadata": {},
   "outputs": [
    {
     "data": {
      "text/plain": [
       "[[58.41, 54.0, 36, 19],\n",
       " [59.77, 55.0, 34, 19],\n",
       " [60.86, 58.0, 33, 26],\n",
       " [66.67, 62.0, 23, 21],\n",
       " [61.59, 57.0, 32, 22],\n",
       " [61.47, 58.0, 30, 24],\n",
       " [60.47, 55.0, 38, 27]]"
      ]
     },
     "execution_count": 95,
     "metadata": {},
     "output_type": "execute_result"
    }
   ],
   "source": [
    "# DO NOT USE IN STREAMLIT APP\n",
    "import datetime\n",
    "def week_stats():\n",
    "    today = datetime.date.today()\n",
    "    my_week_stats = []\n",
    "    for i in range(7):\n",
    "        end_date = today - datetime.timedelta(days=i)\n",
    "        start_date= today - datetime.timedelta(days=i+1)\n",
    "        day_stats = []\n",
    "        for i in range(1):\n",
    "            #day_list.append(str(end_date))\n",
    "            day_stats.append(oura_load(str(start_date), str(end_date))['hr_average'])\n",
    "            day_stats.append(oura_load(str(start_date), str(end_date))['hr_lowest'])\n",
    "            day_stats.append(oura_load(str(start_date), str(end_date))['rmssd'])\n",
    "            day_stats.append(oura_load(str(start_date), str(end_date))['restless'])\n",
    "            my_week_stats.append(day_stats)\n",
    "    return my_week_stats\n",
    "week_stats()"
   ]
  },
  {
   "cell_type": "code",
   "execution_count": 3,
   "id": "0cf7ac3a",
   "metadata": {},
   "outputs": [
    {
     "data": {
      "text/plain": [
       "([58.41, 59.77, 60.86, 66.67, 61.59, 61.47, 60.47], 61.32, 66.67, 58.41)"
      ]
     },
     "execution_count": 3,
     "metadata": {},
     "output_type": "execute_result"
    }
   ],
   "source": [
    "import datetime\n",
    "def hrave_week():\n",
    "    today = datetime.date.today()\n",
    "    hrave_week_list = []\n",
    "    for i in range(7):\n",
    "        end_date = today - datetime.timedelta(days=i)\n",
    "        start_date= today - datetime.timedelta(days=i+1)\n",
    "        for i in range(1):\n",
    "            hrave_week_list.append(oura_load(str(start_date), str(end_date))['hr_average'])\n",
    "    hrave_week_ave = round(sum(hrave_week_list)/len(hrave_week_list),2)\n",
    "    hrave_week_max = max(hrave_week_list)\n",
    "    hrave_week_min = min(hrave_week_list)\n",
    "    return hrave_week_list, hrave_week_ave, hrave_week_max, hrave_week_min \n",
    "hrave_week()"
   ]
  },
  {
   "cell_type": "code",
   "execution_count": 4,
   "id": "98d83c0c",
   "metadata": {},
   "outputs": [
    {
     "data": {
      "text/plain": [
       "([54.0, 55.0, 58.0, 62.0, 57.0, 58.0, 55.0], 57.0, 62.0, 54.0)"
      ]
     },
     "execution_count": 4,
     "metadata": {},
     "output_type": "execute_result"
    }
   ],
   "source": [
    "import datetime\n",
    "def hrlow_week():\n",
    "    today = datetime.date.today()\n",
    "    hrlow_week_list = []\n",
    "    for i in range(7):\n",
    "        end_date = today - datetime.timedelta(days=i)\n",
    "        start_date= today - datetime.timedelta(days=i+1)\n",
    "        for i in range(1):\n",
    "            hrlow_week_list.append(oura_load(str(start_date), str(end_date))['hr_lowest'])\n",
    "    hrlow_week_ave = round(sum(hrlow_week_list)/len(hrlow_week_list),2)\n",
    "    hrlow_week_max = max(hrlow_week_list)\n",
    "    hrlow_week_min = min(hrlow_week_list)\n",
    "    return hrlow_week_list, hrlow_week_ave, hrlow_week_max, hrlow_week_min\n",
    "hrlow_week()"
   ]
  },
  {
   "cell_type": "code",
   "execution_count": 10,
   "id": "47281a4c",
   "metadata": {},
   "outputs": [
    {
     "data": {
      "text/plain": [
       "([36, 34, 33, 23, 32, 30, 38], 32.29, 38, 23)"
      ]
     },
     "execution_count": 10,
     "metadata": {},
     "output_type": "execute_result"
    }
   ],
   "source": [
    "import datetime\n",
    "def HRV_week():\n",
    "    today = datetime.date.today()\n",
    "    HRV_week_list = []\n",
    "    for i in range(7):\n",
    "        end_date = today - datetime.timedelta(days=i)\n",
    "        start_date= today - datetime.timedelta(days=i+1)\n",
    "        for i in range(1):\n",
    "            HRV_week_list.append(oura_load(str(start_date), str(end_date))['rmssd'])\n",
    "    HRV_week_ave = round(sum(HRV_week_list)/len(HRV_week_list),2)\n",
    "    HRV_week_max = max(HRV_week_list)\n",
    "    HRV_week_min = min(HRV_week_list)\n",
    "    return HRV_week_list, HRV_week_ave, HRV_week_max, HRV_week_min\n",
    "HRV_week()"
   ]
  },
  {
   "cell_type": "code",
   "execution_count": 11,
   "id": "7c3fa9a4",
   "metadata": {},
   "outputs": [
    {
     "data": {
      "text/plain": [
       "([19, 19, 26, 21, 22, 24, 27], 22.57, 27, 19)"
      ]
     },
     "execution_count": 11,
     "metadata": {},
     "output_type": "execute_result"
    }
   ],
   "source": [
    "import datetime\n",
    "def restless_week():\n",
    "    today = datetime.date.today()\n",
    "    restless_week_list = []\n",
    "    for i in range(7):\n",
    "        end_date = today - datetime.timedelta(days=i)\n",
    "        start_date= today - datetime.timedelta(days=i+1)\n",
    "        for i in range(1):\n",
    "            restless_week_list.append(oura_load(str(start_date), str(end_date))['restless'])\n",
    "    restless_week_ave = round(sum(restless_week_list)/len(restless_week_list),2)\n",
    "    restless_week_max = max(restless_week_list)\n",
    "    restless_week_min = min(restless_week_list)\n",
    "    return restless_week_list, restless_week_ave, restless_week_max, restless_week_min\n",
    "restless_week()"
   ]
  },
  {
   "cell_type": "code",
   "execution_count": null,
   "id": "fb8dc7c7",
   "metadata": {},
   "outputs": [],
   "source": []
  },
  {
   "cell_type": "code",
   "execution_count": 14,
   "id": "94440992",
   "metadata": {},
   "outputs": [
    {
     "data": {
      "image/png": "[encoded data removed]",
      "text/plain": [
       "<Figure size 720x144 with 1 Axes>"
      ]
     },
     "metadata": {
      "needs_background": "light"
     },
     "output_type": "display_data"
    }
   ],
   "source": [
    "# Creating a plot for the week\n",
    "import matplotlib.pyplot as plt\n",
    "fig = plt.figure(figsize =(10, 2))\n",
    "#plt.boxplot(restless_week()[0], vert=False)\n",
    "plt.boxplot(HRV_week()[0], vert=False)\n",
    "plt.xlabel(r'$HRV_weekly data') # x label \n",
    "plt.show()"
   ]
  },
  {
   "cell_type": "code",
   "execution_count": null,
   "id": "6426b80b",
   "metadata": {},
   "outputs": [],
   "source": []
  }
 ],
 "metadata": {
  "kernelspec": {
   "display_name": "Python 3 (ipykernel)",
   "language": "python",
   "name": "python3"
  },
  "language_info": {
   "codemirror_mode": {
    "name": "ipython",
    "version": 3
   },
   "file_extension": ".py",
   "mimetype": "text/x-python",
   "name": "python",
   "nbconvert_exporter": "python",
   "pygments_lexer": "ipython3",
   "version": "3.8.5"
  }
 },
 "nbformat": 4,
 "nbformat_minor": 5
}
