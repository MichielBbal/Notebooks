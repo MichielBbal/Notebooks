{
 "cells": [
  {
   "cell_type": "markdown",
   "metadata": {},
   "source": [
    "# Michiel's notebook on the basics of Data Analysis"
   ]
  },
  {
   "cell_type": "markdown",
   "metadata": {},
   "source": [
    "## Contents\n",
    "\n",
    "In this notebook I will show some of the basics of Data Analysis for Python.\n",
    "\n",
    "I will use several python modules such as Matplotlib, Numpy, SciPy. \n",
    "\n",
    "### Subjects:\n",
    "0. Install packages\n",
    "1. Basics: Mean, Median and Mode\n",
    "2. Numpy for Standard Deviation, Variance and Percentile\n",
    "3. Counter"
   ]
  },
  {
   "cell_type": "markdown",
   "metadata": {},
   "source": [
    "## 0. Install packages for this notebook"
   ]
  },
  {
   "cell_type": "code",
   "execution_count": null,
   "metadata": {},
   "outputs": [],
   "source": [
    "%pip install numpy\n",
    "%pip install scipy\n",
    "%pip install Counter\n",
    "%pip install matplotlib"
   ]
  },
  {
   "cell_type": "markdown",
   "metadata": {},
   "source": [
    "## 1. Basics: Mean, Median and Mode"
   ]
  },
  {
   "cell_type": "code",
   "execution_count": 21,
   "metadata": {},
   "outputs": [
    {
     "name": "stdout",
     "output_type": "stream",
     "text": [
      "6.0\n",
      "6.0\n"
     ]
    }
   ],
   "source": [
    "# Calculating the Mean\n",
    "mean = (5+6+7)/3\n",
    "print(mean)\n",
    "\n",
    "#Calculating the Mean of a list\n",
    "my_list = [5,6,7]\n",
    "sum(my_list) # use the built in sum function to create the sum of a list and divide it by length\n",
    "mean = sum(my_list)/len(my_list)\n",
    "print(mean)"
   ]
  },
  {
   "cell_type": "code",
   "execution_count": 56,
   "metadata": {},
   "outputs": [
    {
     "name": "stdout",
     "output_type": "stream",
     "text": [
      "6\n",
      "6.0\n"
     ]
    }
   ],
   "source": [
    "# two ways of calculating the Median: 1) sort + 1/2 length and 2) \n",
    "\n",
    "my_list = [7,6,5]\n",
    "my_list.sort()#(key=None en reverse=False) \n",
    "x = len(my_list)\n",
    "print(my_list[1]) #sort the list and print the middle value of the list\n",
    "#print(x)\n",
    "\n",
    "import numpy\n",
    "print(numpy.median(my_list)) #float"
   ]
  },
  {
   "cell_type": "code",
   "execution_count": 37,
   "metadata": {},
   "outputs": [
    {
     "name": "stdout",
     "output_type": "stream",
     "text": [
      "ModeResult(mode=array([86]), count=array([3]))\n"
     ]
    }
   ],
   "source": [
    "# The mode is the value that appears most in the list. \n",
    "# We will use scipy to return the mode\n",
    "from scipy import stats\n",
    "speed = [99,86,87,88,111,86,103,87,94,78,77,85,86]\n",
    "x = stats.mode(speed)\n",
    "print(x)"
   ]
  },
  {
   "cell_type": "markdown",
   "metadata": {},
   "source": [
    "##  2. Numpy for Standard Deviation, Variance and Percentile\n",
    "\n",
    "<b>Numpy</b> or Numerical Python is a widely used Python module for maths / statistics\n",
    "\n",
    "Standard Deviation is a measure how spread out the values are.\n",
    "Variance is another measure how spread out the values are. \n",
    "\n",
    "Standard Deviation = σ (sigma) or numpy.std\n",
    "Variance = σ2 or numpy.var\n",
    "Sqrt of Variance = Standard Deviation \n",
    "\n",
    "What is the 90. percentile? That means that 90% is lower than a certain value."
   ]
  },
  {
   "cell_type": "code",
   "execution_count": null,
   "metadata": {},
   "outputs": [],
   "source": [
    "speed = [86,87,88,86,87,85,86]\n",
    "print(numpy.std(speed)) # print the standard deviation\n",
    "print(numpy.var(speed)) # print the variance\n",
    "# Percentile\n",
    "ages = [5,31,43,48,50,41,7,11,15,39,80,82,32,2,8,6,25,36,27,61,31]\n",
    "print(numpy.percentile(ages, 75))"
   ]
  },
  {
   "cell_type": "markdown",
   "metadata": {},
   "source": [
    "## 3. Counter module"
   ]
  },
  {
   "cell_type": "code",
   "execution_count": 1,
   "metadata": {},
   "outputs": [
    {
     "name": "stdout",
     "output_type": "stream",
     "text": [
      "Counter({2: 5, 5: 2, 34: 2, 1: 1, 13: 1, 6: 1, 7: 1, 9: 1, 10: 1, 12: 1, 0: 1})\n",
      "[1, 2, 2, 2, 2, 2, 5, 5, 34, 34, 13, 6, 7, 9, 10, 12, 0]\n",
      "[(2, 5), (5, 2)]\n"
     ]
    }
   ],
   "source": [
    "from collections import Counter\n",
    "\n",
    "exampleList = [1,2,5,34,2,13,6,7,5,2,34,9,10,12,0,2,2]\n",
    "counts = Counter(exampleList) # this creates a dictionary with key:value\n",
    "print(counts)\n",
    "#print(counts[34])#prints the value of key 34\n",
    "print(list(counts.elements())) #prints a list of the elements in the list\n",
    "print(counts.most_common(2)) # prints the 2 most common pairs\n",
    "# you can also do z= counts+counts2 (first and second list)"
   ]
  }
 ],
 "metadata": {
  "kernelspec": {
   "display_name": "Python 3 (ipykernel)",
   "language": "python",
   "name": "python3"
  },
  "language_info": {
   "codemirror_mode": {
    "name": "ipython",
    "version": 3
   },
   "file_extension": ".py",
   "mimetype": "text/x-python",
   "name": "python",
   "nbconvert_exporter": "python",
   "pygments_lexer": "ipython3",
   "version": "3.9.12"
  }
 },
 "nbformat": 4,
 "nbformat_minor": 2
}
