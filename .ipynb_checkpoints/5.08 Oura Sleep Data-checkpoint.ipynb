{
 "cells": [
  {
   "cell_type": "markdown",
   "metadata": {},
   "source": [
    "# Jupyter Notebook for Oura Ring"
   ]
  },
  {
   "cell_type": "markdown",
   "metadata": {},
   "source": [
    "## Introduction\n",
    "Oura provides data that can be retrieved from their website with an API call.\n",
    "There are three parameters that are available in 5 minute intervals: sleep stage, heart rate (hr) and heart rate variability (HRV). \n",
    "With this notebook you can retrieve data and load it into a Pandas df.\n",
    "Then, do some simple analysis and create some graphs.\n",
    "\n",
    "Create an account and get your credentials from the Oura Documents page: https://cloud.ouraring.com/docs\n",
    "\n",
    "## Contents:\n",
    "\n",
    "0. Installation and tokens\n",
    "1. Sleep API call and load (some) data into Pandas df\n",
    "2. Basic analysis\n",
    "3. Create some graphs with it\n",
    "4. Store the dataframe"
   ]
  },
  {
   "cell_type": "markdown",
   "metadata": {},
   "source": [
    "## 0. Installation and tokens"
   ]
  },
  {
   "cell_type": "code",
   "execution_count": 3,
   "metadata": {},
   "outputs": [
    {
     "name": "stdout",
     "output_type": "stream",
     "text": [
      "Collecting oura\n",
      "  Using cached oura-1.1.4-py2.py3-none-any.whl (11 kB)\n",
      "Requirement already satisfied: pandas in c:\\users\\31653\\anaconda3\\lib\\site-packages (from oura) (1.1.3)\n",
      "Requirement already satisfied: requests-oauthlib in c:\\users\\31653\\anaconda3\\lib\\site-packages (from oura) (1.3.0)\n",
      "Requirement already satisfied: python-dateutil>=2.7.3 in c:\\users\\31653\\anaconda3\\lib\\site-packages (from pandas->oura) (2.8.1)\n",
      "Requirement already satisfied: pytz>=2017.2 in c:\\users\\31653\\anaconda3\\lib\\site-packages (from pandas->oura) (2020.1)\n",
      "Requirement already satisfied: numpy>=1.15.4 in c:\\users\\31653\\anaconda3\\lib\\site-packages (from pandas->oura) (1.19.2)\n",
      "Requirement already satisfied: oauthlib>=3.0.0 in c:\\users\\31653\\anaconda3\\lib\\site-packages (from requests-oauthlib->oura) (3.1.0)\n",
      "Requirement already satisfied: requests>=2.0.0 in c:\\users\\31653\\anaconda3\\lib\\site-packages (from requests-oauthlib->oura) (2.24.0)\n",
      "Requirement already satisfied: six>=1.5 in c:\\users\\31653\\anaconda3\\lib\\site-packages (from python-dateutil>=2.7.3->pandas->oura) (1.15.0)\n",
      "Requirement already satisfied: idna<3,>=2.5 in c:\\users\\31653\\anaconda3\\lib\\site-packages (from requests>=2.0.0->requests-oauthlib->oura) (2.10)\n",
      "Requirement already satisfied: urllib3!=1.25.0,!=1.25.1,<1.26,>=1.21.1 in c:\\users\\31653\\anaconda3\\lib\\site-packages (from requests>=2.0.0->requests-oauthlib->oura) (1.25.11)\n",
      "Requirement already satisfied: chardet<4,>=3.0.2 in c:\\users\\31653\\anaconda3\\lib\\site-packages (from requests>=2.0.0->requests-oauthlib->oura) (3.0.4)\n",
      "Requirement already satisfied: certifi>=2017.4.17 in c:\\users\\31653\\anaconda3\\lib\\site-packages (from requests>=2.0.0->requests-oauthlib->oura) (2020.6.20)\n",
      "Installing collected packages: oura\n",
      "Successfully installed oura-1.1.4\n"
     ]
    }
   ],
   "source": [
    "!pip install oura"
   ]
  },
  {
   "cell_type": "code",
   "execution_count": 2,
   "metadata": {},
   "outputs": [],
   "source": [
    "from oura import OuraClient\n",
    "# get your credentials from oura, see: https://cloud.ouraring.com/docs/.\n",
    "# You will need a client_id, client_secret and a personal access token (PAT). \n",
    "\n",
    "import notebooks_config\n",
    "#I store all my credentials in a notebooks_config.py file. \n",
    "#This file is then included in the .gitignore list so I can share the notebooks on GitHub.  \n",
    "\n",
    "oura_pat = notebooks_config.oura_pat #\n",
    "oura_client_id = notebooks_config.oura_client_id\n",
    "oura_client_secret = notebooks_config.oura_client_secret\n",
    "\n",
    "client = OuraClient(personal_access_token=oura_pat)\n",
    "oura = OuraClient(oura_client_id, oura_client_secret, oura_pat)"
   ]
  },
  {
   "cell_type": "markdown",
   "metadata": {},
   "source": [
    "## 1. Sleep API call"
   ]
  },
  {
   "cell_type": "code",
   "execution_count": 3,
   "metadata": {},
   "outputs": [
    {
     "data": {
      "text/plain": [
       "{'age': 45,\n",
       " 'weight': 93.0,\n",
       " 'height': 180,\n",
       " 'gender': 'male',\n",
       " 'email': 'michiel.bontenbal@gmail.com'}"
      ]
     },
     "execution_count": 3,
     "metadata": {},
     "output_type": "execute_result"
    }
   ],
   "source": [
    "#get your personal info\n",
    "oura.user_info()"
   ]
  },
  {
   "cell_type": "code",
   "execution_count": 4,
   "metadata": {},
   "outputs": [
    {
     "name": "stdout",
     "output_type": "stream",
     "text": [
      "{'summary_date': '2021-12-10', 'period_id': 2, 'is_longest': 1, 'timezone': 60, 'bedtime_end': '2021-12-11T07:35:58+01:00', 'bedtime_start': '2021-12-11T00:09:58+01:00', 'breath_average': 15.75, 'duration': 26760, 'total': 22890, 'awake': 3870, 'rem': 6780, 'deep': 5070, 'light': 11040, 'midpoint_time': 14670, 'efficiency': 86, 'restless': 19, 'onset_latency': 2970, 'hr_5min': [0, 71, 70, 0, 0, 72, 0, 76, 73, 72, 69, 67, 64, 65, 64, 0, 0, 0, 0, 0, 66, 66, 65, 63, 60, 0, 0, 0, 0, 61, 60, 0, 0, 61, 62, 60, 61, 61, 61, 62, 62, 64, 62, 63, 0, 61, 63, 63, 64, 63, 61, 60, 59, 0, 0, 0, 0, 0, 0, 0, 0, 56, 58, 60, 61, 63, 61, 63, 0, 59, 59, 60, 60, 60, 61, 61, 62, 61, 59, 59, 57, 59, 58, 59, 60, 61, 0, 63, 62, 62], 'hr_average': 62.52, 'hr_lowest': 56.0, 'hypnogram_5min': '424444444422222211423322221122211322221333222233322222111132223333333322211112322223333344', 'rmssd': 25, 'rmssd_5min': [0, 13, 25, 0, 0, 34, 0, 18, 13, 14, 17, 23, 27, 38, 32, 0, 0, 0, 0, 0, 13, 11, 15, 27, 42, 0, 0, 0, 0, 47, 26, 0, 0, 28, 22, 13, 13, 14, 13, 13, 13, 12, 25, 20, 0, 19, 14, 13, 13, 16, 28, 28, 31, 0, 0, 0, 0, 0, 0, 0, 0, 46, 28, 23, 18, 23, 29, 31, 0, 28, 35, 25, 23, 22, 25, 26, 25, 31, 33, 42, 73, 29, 35, 28, 35, 34, 0, 28, 31, 32], 'score': 73, 'score_alignment': 62, 'score_deep': 96, 'score_disturbances': 82, 'score_efficiency': 86, 'score_latency': 19, 'score_rem': 96, 'score_total': 70, 'temperature_deviation': 0.07, 'temperature_trend_deviation': 0.21, 'bedtime_start_delta': 598, 'bedtime_end_delta': 27358, 'midpoint_at_delta': 15268, 'temperature_delta': 0.07}\n"
     ]
    }
   ],
   "source": [
    "# Sleep Summary\n",
    "result = oura.sleep_summary(start='2021-12-10', end='2021-12-11')\n",
    "data = result['sleep'][0]\n",
    "print(data)"
   ]
  },
  {
   "cell_type": "markdown",
   "metadata": {},
   "source": [
    "### 1a. Get the start and endtime of sleep"
   ]
  },
  {
   "cell_type": "code",
   "execution_count": 129,
   "metadata": {},
   "outputs": [
    {
     "name": "stdout",
     "output_type": "stream",
     "text": [
      "start time is 2021-12-09 22:43:40+01:00 and end time is 2021-12-10 07:47:40+01:00\n"
     ]
    }
   ],
   "source": [
    "#get the start and endtime as strings\n",
    "start_time = data['bedtime_start']\n",
    "end_time = data['bedtime_end']\n",
    "# convert strings to datetime\n",
    "from dateutil import parser\n",
    "start_time_dt = parser.parse(start_time)\n",
    "end_time_dt = parser.parse(end_time)\n",
    "print ('start time is '+ str(start_time_dt) + ' and end time is ' + str(end_time_dt))"
   ]
  },
  {
   "cell_type": "markdown",
   "metadata": {},
   "source": [
    "### 1b. Get the hypnogram and convert it to a list of integers"
   ]
  },
  {
   "cell_type": "code",
   "execution_count": 85,
   "metadata": {},
   "outputs": [
    {
     "name": "stdout",
     "output_type": "stream",
     "text": [
      "[4, 2, 4, 4, 4, 4, 4, 4, 4, 4, 2, 2, 2, 2, 2, 2, 1, 1, 4, 2, 3, 3, 2, 2, 2, 2, 1, 1, 2, 2, 2, 1, 1, 3, 2, 2, 2, 2, 1, 3, 3, 3, 2, 2, 2, 2, 3, 3, 3, 2, 2, 2, 2, 2, 1, 1, 1, 1, 3, 2, 2, 2, 3, 3, 3, 3, 3, 3, 3, 3, 2, 2, 2, 1, 1, 1, 1, 2, 3, 2, 2, 2, 2, 3, 3, 3, 3, 3, 4, 4]\n"
     ]
    }
   ],
   "source": [
    "#get the hypnogram as one long string\n",
    "hypnogram = data['hypnogram_5min']\n",
    "\n",
    "# convert the hypnogram to a list of strings\n",
    "string_list=[]\n",
    "string_list[:0]=hypnogram\n",
    "\n",
    "# convert the list of strings to a list of integers\n",
    "my_stages=[] #create an empty list for the sleep stages\n",
    "for i in range(len(string_list)):\n",
    "    integer = int(string_list[i])\n",
    "    my_stages.append(integer)\n",
    "print(my_stages)"
   ]
  },
  {
   "cell_type": "markdown",
   "metadata": {},
   "source": [
    "### 1c. Get the HR and HRV for 5 min intervals"
   ]
  },
  {
   "cell_type": "code",
   "execution_count": 86,
   "metadata": {},
   "outputs": [
    {
     "name": "stdout",
     "output_type": "stream",
     "text": [
      "[0, 71, 70, 0, 0, 72, 0, 76, 73, 72, 69, 67, 64, 65, 64, 0, 0, 0, 0, 0, 66, 66, 65, 63, 60, 0, 0, 0, 0, 61, 60, 0, 0, 61, 62, 60, 61, 61, 61, 62, 62, 64, 62, 63, 0, 61, 63, 63, 64, 63, 61, 60, 59, 0, 0, 0, 0, 0, 0, 0, 0, 56, 58, 60, 61, 63, 61, 63, 0, 59, 59, 60, 60, 60, 61, 61, 62, 61, 59, 59, 57, 59, 58, 59, 60, 61, 0, 63, 62, 62]\n"
     ]
    }
   ],
   "source": [
    "my_hr = data['hr_5min']\n",
    "print(my_hr)"
   ]
  },
  {
   "cell_type": "code",
   "execution_count": 87,
   "metadata": {},
   "outputs": [
    {
     "name": "stdout",
     "output_type": "stream",
     "text": [
      "[0, 13, 25, 0, 0, 34, 0, 18, 13, 14, 17, 23, 27, 38, 32, 0, 0, 0, 0, 0, 13, 11, 15, 27, 42, 0, 0, 0, 0, 47, 26, 0, 0, 28, 22, 13, 13, 14, 13, 13, 13, 12, 25, 20, 0, 19, 14, 13, 13, 16, 28, 28, 31, 0, 0, 0, 0, 0, 0, 0, 0, 46, 28, 23, 18, 23, 29, 31, 0, 28, 35, 25, 23, 22, 25, 26, 25, 31, 33, 42, 73, 29, 35, 28, 35, 34, 0, 28, 31, 32]\n"
     ]
    }
   ],
   "source": [
    "# get the metric for heart rate variability also know as rMSSD\n",
    "my_HRV = data['rmssd_5min']\n",
    "print(my_HRV)"
   ]
  },
  {
   "cell_type": "markdown",
   "metadata": {},
   "source": [
    "### 1d. Create a list of starttime of the intervals"
   ]
  },
  {
   "cell_type": "code",
   "execution_count": 90,
   "metadata": {},
   "outputs": [
    {
     "name": "stdout",
     "output_type": "stream",
     "text": [
      "done\n"
     ]
    }
   ],
   "source": [
    "import datetime\n",
    "time_change = datetime.timedelta(minutes=5)\n",
    "my_startivs = [start_time_dt]\n",
    "new_iv=start_time_dt\n",
    "for i in range(len(my_stages)-1):\n",
    "    new_iv= new_iv+time_change\n",
    "    my_startivs.append(new_iv)\n",
    "#print(my_startivs)\n",
    "print('done')"
   ]
  },
  {
   "cell_type": "markdown",
   "metadata": {},
   "source": [
    "### 1e. Creating a df and adding the lists to it"
   ]
  },
  {
   "cell_type": "code",
   "execution_count": 91,
   "metadata": {},
   "outputs": [
    {
     "name": "stdout",
     "output_type": "stream",
     "text": [
      "90 90 90 90\n"
     ]
    }
   ],
   "source": [
    "#see if all lists have same length\n",
    "print(len(my_stages), len(my_hr), len(my_HRV), len(my_startivs))"
   ]
  },
  {
   "cell_type": "code",
   "execution_count": 92,
   "metadata": {},
   "outputs": [
    {
     "data": {
      "text/html": [
       "<div>\n",
       "<style scoped>\n",
       "    .dataframe tbody tr th:only-of-type {\n",
       "        vertical-align: middle;\n",
       "    }\n",
       "\n",
       "    .dataframe tbody tr th {\n",
       "        vertical-align: top;\n",
       "    }\n",
       "\n",
       "    .dataframe thead th {\n",
       "        text-align: right;\n",
       "    }\n",
       "</style>\n",
       "<table border=\"1\" class=\"dataframe\">\n",
       "  <thead>\n",
       "    <tr style=\"text-align: right;\">\n",
       "      <th></th>\n",
       "      <th>Start_time</th>\n",
       "      <th>Stage</th>\n",
       "      <th>hr</th>\n",
       "      <th>HRV</th>\n",
       "    </tr>\n",
       "  </thead>\n",
       "  <tbody>\n",
       "    <tr>\n",
       "      <th>0</th>\n",
       "      <td>2021-12-11 00:09:58+01:00</td>\n",
       "      <td>4</td>\n",
       "      <td>0</td>\n",
       "      <td>0</td>\n",
       "    </tr>\n",
       "    <tr>\n",
       "      <th>1</th>\n",
       "      <td>2021-12-11 00:14:58+01:00</td>\n",
       "      <td>2</td>\n",
       "      <td>71</td>\n",
       "      <td>13</td>\n",
       "    </tr>\n",
       "    <tr>\n",
       "      <th>2</th>\n",
       "      <td>2021-12-11 00:19:58+01:00</td>\n",
       "      <td>4</td>\n",
       "      <td>70</td>\n",
       "      <td>25</td>\n",
       "    </tr>\n",
       "    <tr>\n",
       "      <th>3</th>\n",
       "      <td>2021-12-11 00:24:58+01:00</td>\n",
       "      <td>4</td>\n",
       "      <td>0</td>\n",
       "      <td>0</td>\n",
       "    </tr>\n",
       "    <tr>\n",
       "      <th>4</th>\n",
       "      <td>2021-12-11 00:29:58+01:00</td>\n",
       "      <td>4</td>\n",
       "      <td>0</td>\n",
       "      <td>0</td>\n",
       "    </tr>\n",
       "    <tr>\n",
       "      <th>...</th>\n",
       "      <td>...</td>\n",
       "      <td>...</td>\n",
       "      <td>...</td>\n",
       "      <td>...</td>\n",
       "    </tr>\n",
       "    <tr>\n",
       "      <th>85</th>\n",
       "      <td>2021-12-11 07:14:58+01:00</td>\n",
       "      <td>3</td>\n",
       "      <td>61</td>\n",
       "      <td>34</td>\n",
       "    </tr>\n",
       "    <tr>\n",
       "      <th>86</th>\n",
       "      <td>2021-12-11 07:19:58+01:00</td>\n",
       "      <td>3</td>\n",
       "      <td>0</td>\n",
       "      <td>0</td>\n",
       "    </tr>\n",
       "    <tr>\n",
       "      <th>87</th>\n",
       "      <td>2021-12-11 07:24:58+01:00</td>\n",
       "      <td>3</td>\n",
       "      <td>63</td>\n",
       "      <td>28</td>\n",
       "    </tr>\n",
       "    <tr>\n",
       "      <th>88</th>\n",
       "      <td>2021-12-11 07:29:58+01:00</td>\n",
       "      <td>4</td>\n",
       "      <td>62</td>\n",
       "      <td>31</td>\n",
       "    </tr>\n",
       "    <tr>\n",
       "      <th>89</th>\n",
       "      <td>2021-12-11 07:34:58+01:00</td>\n",
       "      <td>4</td>\n",
       "      <td>62</td>\n",
       "      <td>32</td>\n",
       "    </tr>\n",
       "  </tbody>\n",
       "</table>\n",
       "<p>90 rows × 4 columns</p>\n",
       "</div>"
      ],
      "text/plain": [
       "                  Start_time  Stage  hr  HRV\n",
       "0  2021-12-11 00:09:58+01:00      4   0    0\n",
       "1  2021-12-11 00:14:58+01:00      2  71   13\n",
       "2  2021-12-11 00:19:58+01:00      4  70   25\n",
       "3  2021-12-11 00:24:58+01:00      4   0    0\n",
       "4  2021-12-11 00:29:58+01:00      4   0    0\n",
       "..                       ...    ...  ..  ...\n",
       "85 2021-12-11 07:14:58+01:00      3  61   34\n",
       "86 2021-12-11 07:19:58+01:00      3   0    0\n",
       "87 2021-12-11 07:24:58+01:00      3  63   28\n",
       "88 2021-12-11 07:29:58+01:00      4  62   31\n",
       "89 2021-12-11 07:34:58+01:00      4  62   32\n",
       "\n",
       "[90 rows x 4 columns]"
      ]
     },
     "execution_count": 92,
     "metadata": {},
     "output_type": "execute_result"
    }
   ],
   "source": [
    "# create an empty dataframe\n",
    "import pandas as pd\n",
    "sleep_df = pd.DataFrame()\n",
    "\n",
    "# Add the lists to the dataframe\n",
    "sleep_df['Start_time']=my_startivs\n",
    "sleep_df['Stage']= my_stages\n",
    "sleep_df['hr']=my_hr\n",
    "sleep_df['HRV']=my_HRV\n",
    "sleep_df"
   ]
  },
  {
   "cell_type": "code",
   "execution_count": 14,
   "metadata": {},
   "outputs": [
    {
     "data": {
      "text/plain": [
       "Start_time    datetime64[ns, tzoffset(None, 3600)]\n",
       "Stage                                        int64\n",
       "hr                                           int64\n",
       "HRV                                          int64\n",
       "dtype: object"
      ]
     },
     "execution_count": 14,
     "metadata": {},
     "output_type": "execute_result"
    }
   ],
   "source": [
    "sleep_df.dtypes"
   ]
  },
  {
   "cell_type": "code",
   "execution_count": 93,
   "metadata": {},
   "outputs": [
    {
     "data": {
      "text/html": [
       "<div>\n",
       "<style scoped>\n",
       "    .dataframe tbody tr th:only-of-type {\n",
       "        vertical-align: middle;\n",
       "    }\n",
       "\n",
       "    .dataframe tbody tr th {\n",
       "        vertical-align: top;\n",
       "    }\n",
       "\n",
       "    .dataframe thead th {\n",
       "        text-align: right;\n",
       "    }\n",
       "</style>\n",
       "<table border=\"1\" class=\"dataframe\">\n",
       "  <thead>\n",
       "    <tr style=\"text-align: right;\">\n",
       "      <th></th>\n",
       "      <th>Start_time</th>\n",
       "      <th>Stage</th>\n",
       "      <th>hr</th>\n",
       "      <th>HRV</th>\n",
       "    </tr>\n",
       "  </thead>\n",
       "  <tbody>\n",
       "    <tr>\n",
       "      <th>85</th>\n",
       "      <td>2021-12-11 07:14:58+01:00</td>\n",
       "      <td>3</td>\n",
       "      <td>61.0</td>\n",
       "      <td>34.0</td>\n",
       "    </tr>\n",
       "    <tr>\n",
       "      <th>86</th>\n",
       "      <td>2021-12-11 07:19:58+01:00</td>\n",
       "      <td>3</td>\n",
       "      <td>NaN</td>\n",
       "      <td>NaN</td>\n",
       "    </tr>\n",
       "    <tr>\n",
       "      <th>87</th>\n",
       "      <td>2021-12-11 07:24:58+01:00</td>\n",
       "      <td>3</td>\n",
       "      <td>63.0</td>\n",
       "      <td>28.0</td>\n",
       "    </tr>\n",
       "    <tr>\n",
       "      <th>88</th>\n",
       "      <td>2021-12-11 07:29:58+01:00</td>\n",
       "      <td>4</td>\n",
       "      <td>62.0</td>\n",
       "      <td>31.0</td>\n",
       "    </tr>\n",
       "    <tr>\n",
       "      <th>89</th>\n",
       "      <td>2021-12-11 07:34:58+01:00</td>\n",
       "      <td>4</td>\n",
       "      <td>62.0</td>\n",
       "      <td>32.0</td>\n",
       "    </tr>\n",
       "  </tbody>\n",
       "</table>\n",
       "</div>"
      ],
      "text/plain": [
       "                  Start_time  Stage    hr   HRV\n",
       "85 2021-12-11 07:14:58+01:00      3  61.0  34.0\n",
       "86 2021-12-11 07:19:58+01:00      3   NaN   NaN\n",
       "87 2021-12-11 07:24:58+01:00      3  63.0  28.0\n",
       "88 2021-12-11 07:29:58+01:00      4  62.0  31.0\n",
       "89 2021-12-11 07:34:58+01:00      4  62.0  32.0"
      ]
     },
     "execution_count": 93,
     "metadata": {},
     "output_type": "execute_result"
    }
   ],
   "source": [
    "# replace 0's with NaN\n",
    "import numpy as np\n",
    "sleep_df = sleep_df.replace(0, np.NaN)\n",
    "sleep_df.tail()"
   ]
  },
  {
   "cell_type": "code",
   "execution_count": 94,
   "metadata": {},
   "outputs": [
    {
     "data": {
      "text/html": [
       "<div>\n",
       "<style scoped>\n",
       "    .dataframe tbody tr th:only-of-type {\n",
       "        vertical-align: middle;\n",
       "    }\n",
       "\n",
       "    .dataframe tbody tr th {\n",
       "        vertical-align: top;\n",
       "    }\n",
       "\n",
       "    .dataframe thead th {\n",
       "        text-align: right;\n",
       "    }\n",
       "</style>\n",
       "<table border=\"1\" class=\"dataframe\">\n",
       "  <thead>\n",
       "    <tr style=\"text-align: right;\">\n",
       "      <th></th>\n",
       "      <th>Stage</th>\n",
       "      <th>hr</th>\n",
       "      <th>HRV</th>\n",
       "    </tr>\n",
       "  </thead>\n",
       "  <tbody>\n",
       "    <tr>\n",
       "      <th>count</th>\n",
       "      <td>90.000000</td>\n",
       "      <td>64.000000</td>\n",
       "      <td>64.000000</td>\n",
       "    </tr>\n",
       "    <tr>\n",
       "      <th>mean</th>\n",
       "      <td>2.366667</td>\n",
       "      <td>62.515625</td>\n",
       "      <td>25.328125</td>\n",
       "    </tr>\n",
       "    <tr>\n",
       "      <th>std</th>\n",
       "      <td>0.917373</td>\n",
       "      <td>3.980078</td>\n",
       "      <td>10.873084</td>\n",
       "    </tr>\n",
       "    <tr>\n",
       "      <th>min</th>\n",
       "      <td>1.000000</td>\n",
       "      <td>56.000000</td>\n",
       "      <td>11.000000</td>\n",
       "    </tr>\n",
       "    <tr>\n",
       "      <th>25%</th>\n",
       "      <td>2.000000</td>\n",
       "      <td>60.000000</td>\n",
       "      <td>15.750000</td>\n",
       "    </tr>\n",
       "    <tr>\n",
       "      <th>50%</th>\n",
       "      <td>2.000000</td>\n",
       "      <td>61.000000</td>\n",
       "      <td>25.000000</td>\n",
       "    </tr>\n",
       "    <tr>\n",
       "      <th>75%</th>\n",
       "      <td>3.000000</td>\n",
       "      <td>63.250000</td>\n",
       "      <td>31.000000</td>\n",
       "    </tr>\n",
       "    <tr>\n",
       "      <th>max</th>\n",
       "      <td>4.000000</td>\n",
       "      <td>76.000000</td>\n",
       "      <td>73.000000</td>\n",
       "    </tr>\n",
       "  </tbody>\n",
       "</table>\n",
       "</div>"
      ],
      "text/plain": [
       "           Stage         hr        HRV\n",
       "count  90.000000  64.000000  64.000000\n",
       "mean    2.366667  62.515625  25.328125\n",
       "std     0.917373   3.980078  10.873084\n",
       "min     1.000000  56.000000  11.000000\n",
       "25%     2.000000  60.000000  15.750000\n",
       "50%     2.000000  61.000000  25.000000\n",
       "75%     3.000000  63.250000  31.000000\n",
       "max     4.000000  76.000000  73.000000"
      ]
     },
     "execution_count": 94,
     "metadata": {},
     "output_type": "execute_result"
    }
   ],
   "source": [
    "sleep_df.describe()"
   ]
  },
  {
   "cell_type": "markdown",
   "metadata": {},
   "source": [
    "## 2. Do some basic analysis"
   ]
  },
  {
   "cell_type": "code",
   "execution_count": 95,
   "metadata": {},
   "outputs": [
    {
     "name": "stdout",
     "output_type": "stream",
     "text": [
      "Average hr is: 62.5 and average HRV is 25.3\n"
     ]
    }
   ],
   "source": [
    "hr_mean =sleep_df['hr'].mean()\n",
    "HRV_mean=sleep_df['HRV'].mean()\n",
    "print('Average hr is: ' + str(round(hr_mean,1))+ ' and average HRV is ' + str(round(HRV_mean,1)))"
   ]
  },
  {
   "cell_type": "code",
   "execution_count": 96,
   "metadata": {},
   "outputs": [
    {
     "name": "stdout",
     "output_type": "stream",
     "text": [
      "Lowest hr is: 56.0 and Lowest HRV is 11.0\n"
     ]
    }
   ],
   "source": [
    "hr_min =sleep_df['hr'].min()\n",
    "HRV_min=sleep_df['HRV'].min()\n",
    "print('Lowest hr is: ' + str(round(hr_min,1))+ ' and Lowest HRV is ' + str(round(HRV_min,1)))"
   ]
  },
  {
   "cell_type": "code",
   "execution_count": 97,
   "metadata": {},
   "outputs": [
    {
     "name": "stdout",
     "output_type": "stream",
     "text": [
      "Highest hr is: 76.0 and highest HRV is 73.0\n"
     ]
    }
   ],
   "source": [
    "hr_max =sleep_df['hr'].max()\n",
    "HRV_max=sleep_df['HRV'].max()\n",
    "print('Highest hr is: ' + str(round(hr_max,1))+ ' and highest HRV is ' + str(round(HRV_max,1)))"
   ]
  },
  {
   "cell_type": "code",
   "execution_count": 98,
   "metadata": {},
   "outputs": [
    {
     "name": "stdout",
     "output_type": "stream",
     "text": [
      "Median hr is: 61.0 and median HRV is 25.0\n"
     ]
    }
   ],
   "source": [
    "hr_median =sleep_df['hr'].median()\n",
    "HRV_median=sleep_df['HRV'].median()\n",
    "print('Median hr is: ' + str(round(hr_median,1))+ ' and median HRV is ' + str(round(HRV_median,1)))"
   ]
  },
  {
   "cell_type": "code",
   "execution_count": 101,
   "metadata": {},
   "outputs": [
    {
     "name": "stdout",
     "output_type": "stream",
     "text": [
      "Deep sleep was 75 minutes. That is 16.67 % of the time.\n"
     ]
    }
   ],
   "source": [
    "deep_sleep = my_stages.count(1)\n",
    "deep_sleep_perc= round((deep_sleep/len(my_stages)*100),2)\n",
    "print('Deep sleep was ' + str(deep_sleep*5) + ' minutes. That is ' + str(deep_sleep_perc)+ ' % of the time.')"
   ]
  },
  {
   "cell_type": "markdown",
   "metadata": {},
   "source": [
    "## 3. Create graphs"
   ]
  },
  {
   "cell_type": "code",
   "execution_count": 100,
   "metadata": {},
   "outputs": [
    {
     "data": {
      "text/plain": [
       "2    39\n",
       "3    24\n",
       "1    15\n",
       "4    12\n",
       "Name: Stage, dtype: int64"
      ]
     },
     "execution_count": 100,
     "metadata": {},
     "output_type": "execute_result"
    }
   ],
   "source": [
    "my_counts = sleep_df['Stage'].value_counts()\n",
    "my_counts"
   ]
  },
  {
   "cell_type": "code",
   "execution_count": 102,
   "metadata": {},
   "outputs": [
    {
     "data": {
      "text/plain": [
       "<AxesSubplot:title={'center':'stages'}, ylabel='Frequency'>"
      ]
     },
     "execution_count": 102,
     "metadata": {},
     "output_type": "execute_result"
    },
    {
     "data": {
      "image/png": "[encoded data removed]",
      "text/plain": [
       "<Figure size 432x288 with 1 Axes>"
      ]
     },
     "metadata": {
      "needs_background": "light"
     },
     "output_type": "display_data"
    }
   ],
   "source": [
    "# for a histogram use this pattern: name_df['column'].plot.hist(title='Genome Size Histogram')\n",
    "sleep_df['Stage'].plot.hist(title='stages')"
   ]
  },
  {
   "cell_type": "code",
   "execution_count": 103,
   "metadata": {},
   "outputs": [
    {
     "data": {
      "text/plain": [
       "<AxesSubplot:xlabel='Start_time', ylabel='hr'>"
      ]
     },
     "execution_count": 103,
     "metadata": {},
     "output_type": "execute_result"
    },
    {
     "data": {
      "image/png": "[encoded data removed]",
      "text/plain": [
       "<Figure size 432x288 with 1 Axes>"
      ]
     },
     "metadata": {
      "needs_background": "light"
     },
     "output_type": "display_data"
    }
   ],
   "source": [
    "sleep_df.plot.scatter(x='Start_time', y='hr', s=None, c=None)"
   ]
  },
  {
   "cell_type": "code",
   "execution_count": 104,
   "metadata": {
    "scrolled": true
   },
   "outputs": [
    {
     "data": {
      "text/plain": [
       "<AxesSubplot:xlabel='Start_time', ylabel='HRV'>"
      ]
     },
     "execution_count": 104,
     "metadata": {},
     "output_type": "execute_result"
    },
    {
     "data": {
      "image/png": "[encoded data removed]",
      "text/plain": [
       "<Figure size 432x288 with 1 Axes>"
      ]
     },
     "metadata": {
      "needs_background": "light"
     },
     "output_type": "display_data"
    }
   ],
   "source": [
    "sleep_df.plot.scatter(x='Start_time', y='HRV', s=None, c=None)"
   ]
  },
  {
   "cell_type": "code",
   "execution_count": 105,
   "metadata": {
    "scrolled": true
   },
   "outputs": [
    {
     "data": {
      "text/plain": [
       "<AxesSubplot:xlabel='Start_time', ylabel='Stage'>"
      ]
     },
     "execution_count": 105,
     "metadata": {},
     "output_type": "execute_result"
    },
    {
     "data": {
      "image/png": "[encoded data removed]",
      "text/plain": [
       "<Figure size 432x288 with 1 Axes>"
      ]
     },
     "metadata": {
      "needs_background": "light"
     },
     "output_type": "display_data"
    }
   ],
   "source": [
    "sleep_df.plot.scatter(x='Start_time', y='Stage', s=None, c=None)"
   ]
  },
  {
   "cell_type": "markdown",
   "metadata": {},
   "source": [
    "## 4. Store df as csv"
   ]
  },
  {
   "cell_type": "code",
   "execution_count": 106,
   "metadata": {},
   "outputs": [],
   "source": [
    "#naming pattern: \n",
    "sleep_df.to_csv('sleep_df_oura_202112010-11.csv')"
   ]
  }
 ],
 "metadata": {
  "kernelspec": {
   "display_name": "Python 3 (ipykernel)",
   "language": "python",
   "name": "python3"
  },
  "language_info": {
   "codemirror_mode": {
    "name": "ipython",
    "version": 3
   },
   "file_extension": ".py",
   "mimetype": "text/x-python",
   "name": "python",
   "nbconvert_exporter": "python",
   "pygments_lexer": "ipython3",
   "version": "3.8.5"
  }
 },
 "nbformat": 4,
 "nbformat_minor": 4
}
