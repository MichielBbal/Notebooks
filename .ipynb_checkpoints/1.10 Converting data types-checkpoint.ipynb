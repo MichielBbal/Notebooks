{
 "cells": [
  {
   "cell_type": "markdown",
   "id": "d34b2643",
   "metadata": {},
   "source": [
    "# Introduction\n",
    "\n",
    "In this notebook some examples to convert datatypes.\n",
    "\n",
    "\n",
    "## Contents\n",
    "0. Install packages\n",
    "1. Convert string to list\n",
    "2. \n"
   ]
  },
  {
   "cell_type": "markdown",
   "id": "8105d9a8",
   "metadata": {},
   "source": [
    "## 0. Install packages"
   ]
  },
  {
   "cell_type": "markdown",
   "id": "26aa44a2",
   "metadata": {},
   "source": [
    "## 1. Convert string to list"
   ]
  },
  {
   "cell_type": "code",
   "execution_count": 3,
   "id": "f31c81f8",
   "metadata": {},
   "outputs": [
    {
     "name": "stdout",
     "output_type": "stream",
     "text": [
      "['A', 'B', 'C', 'D']\n"
     ]
    }
   ],
   "source": [
    "def Convert(string):\n",
    "    list1=[]\n",
    "    list1[:0]=string\n",
    "    return list1\n",
    "# Driver code\n",
    "str1=\"ABCD\"\n",
    "print(Convert(str1))"
   ]
  },
  {
   "cell_type": "code",
   "execution_count": null,
   "id": "998c46d9",
   "metadata": {},
   "outputs": [],
   "source": []
  },
  {
   "cell_type": "code",
   "execution_count": null,
   "id": "3fe3472f",
   "metadata": {},
   "outputs": [],
   "source": []
  }
 ],
 "metadata": {
  "kernelspec": {
   "display_name": "Python 3 (ipykernel)",
   "language": "python",
   "name": "python3"
  },
  "language_info": {
   "codemirror_mode": {
    "name": "ipython",
    "version": 3
   },
   "file_extension": ".py",
   "mimetype": "text/x-python",
   "name": "python",
   "nbconvert_exporter": "python",
   "pygments_lexer": "ipython3",
   "version": "3.8.5"
  }
 },
 "nbformat": 4,
 "nbformat_minor": 5
}
