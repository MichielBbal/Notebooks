{
 "cells": [
  {
   "cell_type": "markdown",
   "id": 3.0293430767166755e+38,
   "metadata": {
    "id": 3.0293430767166755e+38
   },
   "source": [
    "# Gradio Demo: waveform"
   ]
  },
  {
   "cell_type": "code",
   "execution_count": 1,
   "id": 2.7299665331067346e+38,
   "metadata": {
    "colab": {
     "base_uri": "https://localhost:8080/"
    },
    "id": 2.7299665331067346e+38,
    "outputId": "8baa9cc8-3833-422d-cb25-4b7a4f829556"
   },
   "outputs": [],
   "source": [
    "!pip install -q gradio "
   ]
  },
  {
   "cell_type": "code",
   "execution_count": 2,
   "id": 2.8891853944186117e+38,
   "metadata": {
    "colab": {
     "base_uri": "https://localhost:8080/",
     "height": 618
    },
    "id": 2.8891853944186117e+38,
    "outputId": "b66cc8a9-f2da-4a57-a49f-ac86e67df94e"
   },
   "outputs": [
    {
     "name": "stdout",
     "output_type": "stream",
     "text": [
      "Running on local URL:  http://127.0.0.1:7860\n",
      "\n",
      "To create a public link, set `share=True` in `launch()`.\n"
     ]
    },
    {
     "data": {
      "text/html": [
       "<div><iframe src=\"http://127.0.0.1:7860/\" width=\"100%\" height=\"500\" allow=\"autoplay; camera; microphone; clipboard-read; clipboard-write;\" frameborder=\"0\" allowfullscreen></iframe></div>"
      ],
      "text/plain": [
       "<IPython.core.display.HTML object>"
      ]
     },
     "metadata": {},
     "output_type": "display_data"
    },
    {
     "data": {
      "text/plain": []
     },
     "execution_count": 2,
     "metadata": {},
     "output_type": "execute_result"
    },
    {
     "name": "stderr",
     "output_type": "stream",
     "text": [
      "ffmpeg version 5.1.2 Copyright (c) 2000-2022 the FFmpeg developers\n",
      "  built with Apple clang version 14.0.0 (clang-1400.0.29.102)\n",
      "  configuration: --prefix=/usr/local/Cellar/ffmpeg/5.1.2 --enable-shared --enable-pthreads --enable-version3 --cc=clang --host-cflags= --host-ldflags= --enable-ffplay --enable-gnutls --enable-gpl --enable-libaom --enable-libbluray --enable-libdav1d --enable-libmp3lame --enable-libopus --enable-librav1e --enable-librist --enable-librubberband --enable-libsnappy --enable-libsrt --enable-libtesseract --enable-libtheora --enable-libvidstab --enable-libvmaf --enable-libvorbis --enable-libvpx --enable-libwebp --enable-libx264 --enable-libx265 --enable-libxml2 --enable-libxvid --enable-lzma --enable-libfontconfig --enable-libfreetype --enable-frei0r --enable-libass --enable-libopencore-amrnb --enable-libopencore-amrwb --enable-libopenjpeg --enable-libspeex --enable-libsoxr --enable-libzmq --enable-libzimg --disable-libjack --disable-indev=jack --enable-videotoolbox\n",
      "  libavutil      57. 28.100 / 57. 28.100\n",
      "  libavcodec     59. 37.100 / 59. 37.100\n",
      "  libavformat    59. 27.100 / 59. 27.100\n",
      "  libavdevice    59.  7.100 / 59.  7.100\n",
      "  libavfilter     8. 44.100 /  8. 44.100\n",
      "  libswscale      6.  7.100 /  6.  7.100\n",
      "  libswresample   4.  7.100 /  4.  7.100\n",
      "  libpostproc    56.  6.100 / 56.  6.100\n",
      "Input #0, png_pipe, from '/var/folders/cj/qtbz9fvd3svc0x28yv2756mh0000gn/T/tmpjikubh8y.png':\n",
      "  Duration: N/A, bitrate: N/A\n",
      "  Stream #0:0: Video: png, rgba(pc), 1000x200, 25 fps, 25 tbr, 25 tbn\n",
      "Guessed Channel Layout for Input Stream #1.0 : mono\n",
      "Input #1, wav, from '/var/folders/cj/qtbz9fvd3svc0x28yv2756mh0000gn/T/tmpywmmmid5.wav':\n",
      "  Duration: 00:00:10.00, bitrate: 768 kb/s\n",
      "  Stream #1:0: Audio: pcm_s16le ([1][0][0][0] / 0x0001), 48000 Hz, mono, s16, 768 kb/s\n",
      "Stream mapping:\n",
      "  Stream #0:0 -> #0:0 (png (native) -> h264 (libx264))\n",
      "  Stream #1:0 -> #0:1 (pcm_s16le (native) -> aac (native))\n",
      "Press [q] to stop, [?] for help\n",
      "[libx264 @ 0x7fab9d90a7c0] using cpu capabilities: MMX2 SSE2Fast SSSE3 SSE4.2 AVX FMA3 BMI2 AVX2\n",
      "[libx264 @ 0x7fab9d90a7c0] profile High, level 3.0, 4:2:0, 8-bit\n",
      "[libx264 @ 0x7fab9d90a7c0] 264 - core 164 r3095 baee400 - H.264/MPEG-4 AVC codec - Copyleft 2003-2022 - http://www.videolan.org/x264.html - options: cabac=1 ref=3 deblock=1:0:0 analyse=0x3:0x113 me=hex subme=7 psy=1 psy_rd=1.00:0.00 mixed_ref=1 me_range=16 chroma_me=1 trellis=1 8x8dct=1 cqm=0 deadzone=21,11 fast_pskip=1 chroma_qp_offset=-2 threads=6 lookahead_threads=1 sliced_threads=0 nr=0 decimate=1 interlaced=0 bluray_compat=0 constrained_intra=0 bframes=3 b_pyramid=2 b_adapt=1 b_bias=0 direct=1 weightb=1 open_gop=0 weightp=2 keyint=250 keyint_min=25 scenecut=40 intra_refresh=0 rc_lookahead=40 rc=crf mbtree=1 crf=23.0 qcomp=0.60 qpmin=0 qpmax=69 qpstep=4 ip_ratio=1.40 aq=1:1.00\n",
      "Output #0, mp4, to '/var/folders/cj/qtbz9fvd3svc0x28yv2756mh0000gn/T/tmph3_cro5a.mp4':\n",
      "  Metadata:\n",
      "    encoder         : Lavf59.27.100\n",
      "  Stream #0:0: Video: h264 (avc1 / 0x31637661), yuv420p(tv, progressive), 1000x200, q=2-31, 25 fps, 12800 tbn\n",
      "    Metadata:\n",
      "      encoder         : Lavc59.37.100 libx264\n",
      "    Side data:\n",
      "      cpb: bitrate max/min/avg: 0/0/0 buffer size: 0 vbv_delay: N/A\n",
      "  Stream #0:1: Audio: aac (LC) (mp4a / 0x6134706D), 48000 Hz, mono, fltp, 69 kb/s\n",
      "    Metadata:\n",
      "      encoder         : Lavc59.37.100 aac\n",
      "frame=  250 fps=0.0 q=-1.0 Lsize=     122kB time=00:00:10.00 bitrate=  99.7kbits/s speed=22.3x    \n",
      "video:28kB audio:85kB subtitle:0kB other streams:0kB global headers:0kB muxing overhead: 7.715239%\n",
      "[libx264 @ 0x7fab9d90a7c0] frame I:1     Avg QP:19.68  size:  6485\n",
      "[libx264 @ 0x7fab9d90a7c0] frame P:76    Avg QP:18.88  size:   163\n",
      "[libx264 @ 0x7fab9d90a7c0] frame B:173   Avg QP:19.78  size:    55\n",
      "[libx264 @ 0x7fab9d90a7c0] consecutive B-frames:  4.8%  4.0% 14.4% 76.8%\n",
      "[libx264 @ 0x7fab9d90a7c0] mb I  I16..4: 25.8% 54.3% 19.9%\n",
      "[libx264 @ 0x7fab9d90a7c0] mb P  I16..4:  1.0%  1.0%  0.1%  P16..4:  3.0%  0.4%  0.1%  0.0%  0.0%    skip:94.4%\n",
      "[libx264 @ 0x7fab9d90a7c0] mb B  I16..4:  0.2%  0.0%  0.0%  B16..8:  2.7%  0.1%  0.0%  direct: 0.0%  skip:96.9%  L0:54.6% L1:44.9% BI: 0.4%\n",
      "[libx264 @ 0x7fab9d90a7c0] 8x8 transform intra:44.2% inter:55.6%\n",
      "[libx264 @ 0x7fab9d90a7c0] coded y,uvDC,uvAC intra: 4.6% 12.1% 10.2% inter: 0.1% 0.2% 0.1%\n",
      "[libx264 @ 0x7fab9d90a7c0] i16 v,h,dc,p: 93%  2%  5%  0%\n",
      "[libx264 @ 0x7fab9d90a7c0] i8 v,h,dc,ddl,ddr,vr,hd,vl,hu: 20%  2% 77%  1%  0%  0%  0%  0%  0%\n",
      "[libx264 @ 0x7fab9d90a7c0] i4 v,h,dc,ddl,ddr,vr,hd,vl,hu: 60% 21% 14%  0%  1%  1%  1%  1%  1%\n",
      "[libx264 @ 0x7fab9d90a7c0] i8c dc,h,v,p: 66%  4% 29%  0%\n",
      "[libx264 @ 0x7fab9d90a7c0] Weighted P-Frames: Y:0.0% UV:0.0%\n",
      "[libx264 @ 0x7fab9d90a7c0] ref P L0: 84.4%  1.0% 11.1%  3.4%\n",
      "[libx264 @ 0x7fab9d90a7c0] ref B L0: 74.0% 23.2%  2.7%\n",
      "[libx264 @ 0x7fab9d90a7c0] ref B L1: 99.3%  0.7%\n",
      "[libx264 @ 0x7fab9d90a7c0] kb/s:22.63\n",
      "[aac @ 0x7fab9d808ac0] Qavg: 139.742\n",
      "ffmpeg version 5.1.2 Copyright (c) 2000-2022 the FFmpeg developers\n",
      "  built with Apple clang version 14.0.0 (clang-1400.0.29.102)\n",
      "  configuration: --prefix=/usr/local/Cellar/ffmpeg/5.1.2 --enable-shared --enable-pthreads --enable-version3 --cc=clang --host-cflags= --host-ldflags= --enable-ffplay --enable-gnutls --enable-gpl --enable-libaom --enable-libbluray --enable-libdav1d --enable-libmp3lame --enable-libopus --enable-librav1e --enable-librist --enable-librubberband --enable-libsnappy --enable-libsrt --enable-libtesseract --enable-libtheora --enable-libvidstab --enable-libvmaf --enable-libvorbis --enable-libvpx --enable-libwebp --enable-libx264 --enable-libx265 --enable-libxml2 --enable-libxvid --enable-lzma --enable-libfontconfig --enable-libfreetype --enable-frei0r --enable-libass --enable-libopencore-amrnb --enable-libopencore-amrwb --enable-libopenjpeg --enable-libspeex --enable-libsoxr --enable-libzmq --enable-libzimg --disable-libjack --disable-indev=jack --enable-videotoolbox\n",
      "  libavutil      57. 28.100 / 57. 28.100\n",
      "  libavcodec     59. 37.100 / 59. 37.100\n",
      "  libavformat    59. 27.100 / 59. 27.100\n",
      "  libavdevice    59.  7.100 / 59.  7.100\n",
      "  libavfilter     8. 44.100 /  8. 44.100\n",
      "  libswscale      6.  7.100 /  6.  7.100\n",
      "  libswresample   4.  7.100 /  4.  7.100\n",
      "  libpostproc    56.  6.100 / 56.  6.100\n",
      "Input #0, png_pipe, from '/var/folders/cj/qtbz9fvd3svc0x28yv2756mh0000gn/T/tmpf40h5edg.png':\n",
      "  Duration: N/A, bitrate: N/A\n",
      "  Stream #0:0: Video: png, rgba(pc), 1000x200, 25 fps, 25 tbr, 25 tbn\n",
      "Guessed Channel Layout for Input Stream #1.0 : mono\n",
      "Input #1, wav, from '/var/folders/cj/qtbz9fvd3svc0x28yv2756mh0000gn/T/tmpxz8pwzgy.wav':\n",
      "  Duration: 00:00:10.00, bitrate: 768 kb/s\n",
      "  Stream #1:0: Audio: pcm_s16le ([1][0][0][0] / 0x0001), 48000 Hz, mono, s16, 768 kb/s\n",
      "Stream mapping:\n",
      "  Stream #0:0 -> #0:0 (png (native) -> h264 (libx264))\n",
      "  Stream #1:0 -> #0:1 (pcm_s16le (native) -> aac (native))\n",
      "Press [q] to stop, [?] for help\n",
      "[libx264 @ 0x7fd517208500] using cpu capabilities: MMX2 SSE2Fast SSSE3 SSE4.2 AVX FMA3 BMI2 AVX2\n",
      "[libx264 @ 0x7fd517208500] profile High, level 3.0, 4:2:0, 8-bit\n",
      "[libx264 @ 0x7fd517208500] 264 - core 164 r3095 baee400 - H.264/MPEG-4 AVC codec - Copyleft 2003-2022 - http://www.videolan.org/x264.html - options: cabac=1 ref=3 deblock=1:0:0 analyse=0x3:0x113 me=hex subme=7 psy=1 psy_rd=1.00:0.00 mixed_ref=1 me_range=16 chroma_me=1 trellis=1 8x8dct=1 cqm=0 deadzone=21,11 fast_pskip=1 chroma_qp_offset=-2 threads=6 lookahead_threads=1 sliced_threads=0 nr=0 decimate=1 interlaced=0 bluray_compat=0 constrained_intra=0 bframes=3 b_pyramid=2 b_adapt=1 b_bias=0 direct=1 weightb=1 open_gop=0 weightp=2 keyint=250 keyint_min=25 scenecut=40 intra_refresh=0 rc_lookahead=40 rc=crf mbtree=1 crf=23.0 qcomp=0.60 qpmin=0 qpmax=69 qpstep=4 ip_ratio=1.40 aq=1:1.00\n",
      "Output #0, mp4, to '/var/folders/cj/qtbz9fvd3svc0x28yv2756mh0000gn/T/tmp8vmf9umt.mp4':\n",
      "  Metadata:\n",
      "    encoder         : Lavf59.27.100\n",
      "  Stream #0:0: Video: h264 (avc1 / 0x31637661), yuv420p(tv, progressive), 1000x200, q=2-31, 25 fps, 12800 tbn\n",
      "    Metadata:\n",
      "      encoder         : Lavc59.37.100 libx264\n",
      "    Side data:\n",
      "      cpb: bitrate max/min/avg: 0/0/0 buffer size: 0 vbv_delay: N/A\n",
      "  Stream #0:1: Audio: aac (LC) (mp4a / 0x6134706D), 48000 Hz, mono, fltp, 69 kb/s\n",
      "    Metadata:\n",
      "      encoder         : Lavc59.37.100 aac\n"
     ]
    },
    {
     "name": "stderr",
     "output_type": "stream",
     "text": [
      "frame=    1 fps=0.0 q=0.0 size=       0kB time=00:00:00.00 bitrate=N/A speed=   0x    \r",
      "frame=  250 fps=0.0 q=-1.0 Lsize=     123kB time=00:00:10.00 bitrate= 100.6kbits/s speed=22.8x    \n",
      "video:29kB audio:85kB subtitle:0kB other streams:0kB global headers:0kB muxing overhead: 7.573322%\n",
      "[libx264 @ 0x7fd517208500] frame I:1     Avg QP:21.05  size:  6126\n",
      "[libx264 @ 0x7fd517208500] frame P:92    Avg QP:20.70  size:   159\n",
      "[libx264 @ 0x7fd517208500] frame B:157   Avg QP:19.76  size:    56\n",
      "[libx264 @ 0x7fd517208500] consecutive B-frames:  8.8% 15.2% 21.6% 54.4%\n",
      "[libx264 @ 0x7fd517208500] mb I  I16..4: 26.5% 52.9% 20.6%\n",
      "[libx264 @ 0x7fd517208500] mb P  I16..4:  0.9%  0.9%  0.1%  P16..4:  2.9%  0.3%  0.1%  0.0%  0.0%    skip:94.7%\n",
      "[libx264 @ 0x7fd517208500] mb B  I16..4:  0.2%  0.0%  0.0%  B16..8:  2.8%  0.1%  0.0%  direct: 0.0%  skip:96.8%  L0:55.6% L1:44.1% BI: 0.3%\n",
      "[libx264 @ 0x7fd517208500] 8x8 transform intra:44.8% inter:44.3%\n",
      "[libx264 @ 0x7fd517208500] coded y,uvDC,uvAC intra: 4.8% 13.5% 11.0% inter: 0.1% 0.1% 0.1%\n",
      "[libx264 @ 0x7fd517208500] i16 v,h,dc,p: 93%  2%  5%  0%\n",
      "[libx264 @ 0x7fd517208500] i8 v,h,dc,ddl,ddr,vr,hd,vl,hu: 20%  3% 75%  2%  0%  0%  0%  0%  0%\n",
      "[libx264 @ 0x7fd517208500] i4 v,h,dc,ddl,ddr,vr,hd,vl,hu: 62% 18% 14%  0%  1%  1%  1%  1%  1%\n",
      "[libx264 @ 0x7fd517208500] i8c dc,h,v,p: 63%  5% 32%  0%\n",
      "[libx264 @ 0x7fd517208500] Weighted P-Frames: Y:0.0% UV:0.0%\n",
      "[libx264 @ 0x7fd517208500] ref P L0: 84.5%  0.5% 11.2%  3.8%\n",
      "[libx264 @ 0x7fd517208500] ref B L0: 76.5% 22.2%  1.2%\n",
      "[libx264 @ 0x7fd517208500] ref B L1: 99.7%  0.3%\n",
      "[libx264 @ 0x7fd517208500] kb/s:23.60\n",
      "[aac @ 0x7fd517209a00] Qavg: 139.742\n"
     ]
    }
   ],
   "source": [
    "import gradio as gr\n",
    "import random\n",
    "\n",
    "\n",
    "COLORS = [\n",
    "    [\"#ff0000\", \"#00ff00\"],\n",
    "    [\"#00ff00\", \"#0000ff\"],\n",
    "    [\"#0000ff\", \"#ff0000\"],\n",
    "]    \n",
    "\n",
    "def audio_waveform(audio, image):\n",
    "    return (\n",
    "        audio,\n",
    "        gr.make_waveform(audio),\n",
    "        gr.make_waveform(audio, bg_image=image, bars_color=random.choice(COLORS)),\n",
    "    )\n",
    "\n",
    "\n",
    "gr.Interface(\n",
    "    audio_waveform,\n",
    "    inputs=[gr.Audio(), gr.Image(type=\"filepath\")],\n",
    "    outputs=[\n",
    "        gr.Audio(),\n",
    "        gr.Video(),\n",
    "        gr.Video(),\n",
    "    ],\n",
    ").launch()\n"
   ]
  },
  {
   "cell_type": "code",
   "execution_count": null,
   "id": "49070af0",
   "metadata": {},
   "outputs": [],
   "source": []
  }
 ],
 "metadata": {
  "colab": {
   "provenance": []
  },
  "gpuClass": "standard",
  "kernelspec": {
   "display_name": "Python 3 (ipykernel)",
   "language": "python",
   "name": "python3"
  },
  "language_info": {
   "codemirror_mode": {
    "name": "ipython",
    "version": 3
   },
   "file_extension": ".py",
   "mimetype": "text/x-python",
   "name": "python",
   "nbconvert_exporter": "python",
   "pygments_lexer": "ipython3",
   "version": "3.9.12"
  }
 },
 "nbformat": 4,
 "nbformat_minor": 5
}
