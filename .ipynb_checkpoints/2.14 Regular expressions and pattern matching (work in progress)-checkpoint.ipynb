{
 "cells": [
  {
   "cell_type": "markdown",
   "id": "143b6180",
   "metadata": {},
   "source": [
    "# Python and regular expressions"
   ]
  },
  {
   "cell_type": "markdown",
   "id": "1bc331c9",
   "metadata": {},
   "source": [
    "You can use regular expressions in Python by importing the re module and using the functions and methods provided by this module. Regular expressions are a powerful tool for searching and manipulating text, and the re module provides a full set of regular expression functions and patterns for working with regular expressions in Python."
   ]
  },
  {
   "cell_type": "code",
   "execution_count": 1,
   "id": "32c0950f",
   "metadata": {},
   "outputs": [],
   "source": [
    "import re"
   ]
  },
  {
   "cell_type": "markdown",
   "id": "bc12d970",
   "metadata": {},
   "source": [
    "Once you have imported the re module, you can use it to search for patterns in strings by calling the re.search() function. This function takes a regular expression pattern and a string, and it returns a Match object that contains information about the search results. Here is an example of how to use the re.search() function to search for a pattern in a string:"
   ]
  },
  {
   "cell_type": "code",
   "execution_count": 3,
   "id": "1ceab69e",
   "metadata": {},
   "outputs": [
    {
     "name": "stdout",
     "output_type": "stream",
     "text": [
      "Match found: fox\n"
     ]
    }
   ],
   "source": [
    "import re\n",
    "\n",
    "# Define a string to search\n",
    "string = \"The quick brown fox jumps over the lazy dog\"\n",
    "\n",
    "# Compile a regular expression pattern\n",
    "pattern = re.compile(\"fox\")\n",
    "\n",
    "# Search for the pattern in the string\n",
    "match = re.search(pattern, string)\n",
    "\n",
    "# Print the results of the search\n",
    "if match:\n",
    "    print(\"Match found:\", match.group())\n",
    "else:\n",
    "    print(\"No match found\")"
   ]
  },
  {
   "cell_type": "markdown",
   "id": "4f04531d",
   "metadata": {},
   "source": [
    "1. re.match: Matches strings at the beginning of a string\n",
    "2. re.fullmatch: Matches strings against an entire string\n",
    "3. re.search: Searches strings for a pattern\n",
    "4. re.finditer: Finds all occurrences of a pattern in a string and returns an iterator\n",
    "5. re.findall: Finds all occurrences of a pattern in a string and returns the matches as a list\n",
    "6. re.split: Splits strings based on a regular expression pattern\n",
    "7. re.sub: Replaces all occurrences of a pattern in a string with a different string\n",
    "8. re.subn: Replaces all occurrences of a pattern in a string with a different string and returns the number of replacements\n",
    "9. re.compile: Compiles regular expression patterns into pattern objects\n",
    "10. re.purge: Clears the regular expression cache"
   ]
  },
  {
   "cell_type": "code",
   "execution_count": null,
   "id": "95633610",
   "metadata": {},
   "outputs": [],
   "source": [
    "\n"
   ]
  }
 ],
 "metadata": {
  "kernelspec": {
   "display_name": "Python 3 (ipykernel)",
   "language": "python",
   "name": "python3"
  },
  "language_info": {
   "codemirror_mode": {
    "name": "ipython",
    "version": 3
   },
   "file_extension": ".py",
   "mimetype": "text/x-python",
   "name": "python",
   "nbconvert_exporter": "python",
   "pygments_lexer": "ipython3",
   "version": "3.9.12"
  }
 },
 "nbformat": 4,
 "nbformat_minor": 5
}
