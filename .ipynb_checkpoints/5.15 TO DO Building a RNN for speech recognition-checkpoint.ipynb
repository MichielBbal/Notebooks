{
 "cells": [
  {
   "cell_type": "markdown",
   "id": "468a08a1",
   "metadata": {},
   "source": [
    "source: https://learning-oreilly-com.rps.hva.nl/library/view/hands-on-natural-language/9781789139495/c0656ce6-c5b3-4ef0-957e-e3c731d1ea2f.xhtml"
   ]
  },
  {
   "cell_type": "code",
   "execution_count": null,
   "id": "fab2bb5f",
   "metadata": {},
   "outputs": [],
   "source": []
  }
 ],
 "metadata": {
  "kernelspec": {
   "display_name": "Python 3 (ipykernel)",
   "language": "python",
   "name": "python3"
  },
  "language_info": {
   "codemirror_mode": {
    "name": "ipython",
    "version": 3
   },
   "file_extension": ".py",
   "mimetype": "text/x-python",
   "name": "python",
   "nbconvert_exporter": "python",
   "pygments_lexer": "ipython3",
   "version": "3.8.5"
  }
 },
 "nbformat": 4,
 "nbformat_minor": 5
}
