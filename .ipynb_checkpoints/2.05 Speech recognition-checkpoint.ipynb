{
 "cells": [
  {
   "cell_type": "markdown",
   "metadata": {},
   "source": [
    "# Speech recognition and text2speech\n",
    "\n",
    "## Contents\n",
    "0. Install the packages\n",
    "1. Run the script\n",
    "\n",
    "\n",
    "<b>links</b>\n",
    "http://people.csail.mit.edu/hubert/pyaudio/\n"
   ]
  },
  {
   "cell_type": "markdown",
   "metadata": {},
   "source": [
    "## 0. Install the packages\n",
    "\n",
    "For this notebook we will use 2 packages:\n",
    "1. PyAudio. Install PyAudio with Conda: conda install -c conda-forge pyaudio\n",
    "2. SpeechRecognition with pip"
   ]
  },
  {
   "cell_type": "code",
   "execution_count": 1,
   "metadata": {},
   "outputs": [
    {
     "name": "stdout",
     "output_type": "stream",
     "text": [
      "Requirement already satisfied: SpeechRecognition in c:\\users\\31653\\anaconda3\\lib\\site-packages (3.8.1)\n"
     ]
    }
   ],
   "source": [
    "!pip install SpeechRecognition"
   ]
  },
  {
   "cell_type": "markdown",
   "metadata": {},
   "source": [
    "## 1. Run the script"
   ]
  },
  {
   "cell_type": "code",
   "execution_count": 5,
   "metadata": {},
   "outputs": [
    {
     "name": "stdout",
     "output_type": "stream",
     "text": [
      "Please say something\n",
      "You have said : \n",
      "hello everybody\n",
      "start something\n"
     ]
    }
   ],
   "source": [
    "import speech_recognition as sr\n",
    "\n",
    "def main():\n",
    "    r = sr.Recognizer()\n",
    "    \n",
    "    with sr.Microphone() as source:\n",
    "        r.adjust_for_ambient_noise(source)\n",
    "        \n",
    "        print(\"Please say something\")\n",
    "        \n",
    "        audio = r.listen(source)\n",
    "        \n",
    "        try: \n",
    "            my_text = r.recognize_google(audio)\n",
    "            print(\"You have said : \\n\" + my_text)\n",
    "        \n",
    "        except Exception as e:\n",
    "            print('Error' + str(e))\n",
    "        \n",
    "        if my_text == 'hello everybody':\n",
    "            print('start something')\n",
    "        \n",
    "if __name__ == '__main__':\n",
    "    main()"
   ]
  },
  {
   "cell_type": "code",
   "execution_count": null,
   "metadata": {},
   "outputs": [],
   "source": []
  }
 ],
 "metadata": {
  "kernelspec": {
   "display_name": "Python 3 (ipykernel)",
   "language": "python",
   "name": "python3"
  },
  "language_info": {
   "codemirror_mode": {
    "name": "ipython",
    "version": 3
   },
   "file_extension": ".py",
   "mimetype": "text/x-python",
   "name": "python",
   "nbconvert_exporter": "python",
   "pygments_lexer": "ipython3",
   "version": "3.8.5"
  }
 },
 "nbformat": 4,
 "nbformat_minor": 2
}
