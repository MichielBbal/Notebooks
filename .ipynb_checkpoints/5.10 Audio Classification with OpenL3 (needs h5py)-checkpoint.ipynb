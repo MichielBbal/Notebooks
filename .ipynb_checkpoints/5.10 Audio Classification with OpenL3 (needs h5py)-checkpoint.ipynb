{
 "cells": [
  {
   "cell_type": "markdown",
   "metadata": {},
   "source": [
    "# Audio with OpenL3"
   ]
  },
  {
   "cell_type": "markdown",
   "metadata": {},
   "source": []
  },
  {
   "cell_type": "markdown",
   "metadata": {},
   "source": [
    "## 0. Install packages"
   ]
  },
  {
   "cell_type": "code",
   "execution_count": 1,
   "metadata": {},
   "outputs": [
    {
     "name": "stdout",
     "output_type": "stream",
     "text": [
      "Collecting pysoundfile\n",
      "  Downloading PySoundFile-0.9.0.post1-py2.py3.cp26.cp27.cp32.cp33.cp34.cp35.cp36.pp27.pp32.pp33-none-win_amd64.whl (671 kB)\n",
      "Requirement already satisfied: cffi>=0.6 in c:\\users\\31653\\anaconda3\\lib\\site-packages (from pysoundfile) (1.14.3)\n",
      "Requirement already satisfied: pycparser in c:\\users\\31653\\anaconda3\\lib\\site-packages (from cffi>=0.6->pysoundfile) (2.20)\n",
      "Installing collected packages: pysoundfile\n",
      "Successfully installed pysoundfile-0.9.0.post1\n",
      "Note: you may need to restart the kernel to use updated packages.\n"
     ]
    }
   ],
   "source": [
    "!pip install pysoundfile"
   ]
  },
  {
   "cell_type": "markdown",
   "metadata": {},
   "source": [
    "### installing h5py\n",
    "\n",
    "- source: https://pypi.org/project/h5py/\n",
    "- installation: https://docs.h5py.org/en/latest/index.html\n",
    "\n",
    "Or try 'conda install h5py' => this took me >15 minutes"
   ]
  },
  {
   "cell_type": "code",
   "execution_count": 4,
   "metadata": {},
   "outputs": [
    {
     "name": "stdout",
     "output_type": "stream",
     "text": [
      "Requirement already satisfied: h5py in c:\\users\\31653\\anaconda3\\lib\\site-packages (3.4.0)\n",
      "Requirement already satisfied: numpy>=1.16.0 in c:\\users\\31653\\anaconda3\\lib\\site-packages (from h5py) (1.20.3)\n"
     ]
    }
   ],
   "source": [
    "!pip install h5py"
   ]
  },
  {
   "cell_type": "code",
   "execution_count": 5,
   "metadata": {},
   "outputs": [
    {
     "name": "stdout",
     "output_type": "stream",
     "text": [
      "Requirement already satisfied: openl3 in c:\\users\\31653\\anaconda3\\lib\\site-packages (0.4.1)\n",
      "Requirement already satisfied: numpy>=1.13.0 in c:\\users\\31653\\anaconda3\\lib\\site-packages (from openl3) (1.20.3)\n",
      "Requirement already satisfied: resampy<0.3.0,>=0.2.1 in c:\\users\\31653\\anaconda3\\lib\\site-packages (from openl3) (0.2.2)\n",
      "Requirement already satisfied: moviepy>=1.0.0 in c:\\users\\31653\\anaconda3\\lib\\site-packages (from openl3) (1.0.3)\n",
      "Requirement already satisfied: scikit-image>=0.14.3librosa>=0.7.2 in c:\\users\\31653\\anaconda3\\lib\\site-packages (from openl3) (0.18.3)\n",
      "Requirement already satisfied: kapre>=0.3.5 in c:\\users\\31653\\anaconda3\\lib\\site-packages (from openl3) (0.3.5)\n",
      "Requirement already satisfied: tensorflow>=2.0.0 in c:\\users\\31653\\anaconda3\\lib\\site-packages (from openl3) (2.8.0)\n",
      "Requirement already satisfied: scipy>=0.19.1 in c:\\users\\31653\\anaconda3\\lib\\site-packages (from openl3) (1.7.1)\n",
      "Requirement already satisfied: soundfile>=0.9.0.post1 in c:\\users\\31653\\anaconda3\\lib\\site-packages (from openl3) (0.10.3.post1)\n",
      "Collecting h5py<3.0.0,>=2.7.0\n",
      "  Using cached h5py-2.10.0-cp38-cp38-win_amd64.whl (2.5 MB)\n",
      "Requirement already satisfied: six in c:\\users\\31653\\anaconda3\\lib\\site-packages (from h5py<3.0.0,>=2.7.0->openl3) (1.15.0)\n",
      "Requirement already satisfied: librosa>=0.7.2 in c:\\users\\31653\\anaconda3\\lib\\site-packages (from kapre>=0.3.5->openl3) (0.8.0)\n",
      "Requirement already satisfied: proglog<=1.0.0 in c:\\users\\31653\\anaconda3\\lib\\site-packages (from moviepy>=1.0.0->openl3) (0.1.9)\n",
      "Requirement already satisfied: requests<3.0,>=2.8.1 in c:\\users\\31653\\anaconda3\\lib\\site-packages (from moviepy>=1.0.0->openl3) (2.27.1)\n",
      "Requirement already satisfied: decorator<5.0,>=4.0.2 in c:\\users\\31653\\anaconda3\\lib\\site-packages (from moviepy>=1.0.0->openl3) (4.4.2)\n",
      "Requirement already satisfied: tqdm<5.0,>=4.11.2 in c:\\users\\31653\\anaconda3\\lib\\site-packages (from moviepy>=1.0.0->openl3) (4.62.3)\n",
      "Requirement already satisfied: imageio<3.0,>=2.5 in c:\\users\\31653\\anaconda3\\lib\\site-packages (from moviepy>=1.0.0->openl3) (2.9.0)\n",
      "Requirement already satisfied: imageio-ffmpeg>=0.2.0 in c:\\users\\31653\\anaconda3\\lib\\site-packages (from moviepy>=1.0.0->openl3) (0.4.5)\n",
      "Requirement already satisfied: numba>=0.32 in c:\\users\\31653\\anaconda3\\lib\\site-packages (from resampy<0.3.0,>=0.2.1->openl3) (0.54.1)\n",
      "Requirement already satisfied: matplotlib!=3.0.0,>=2.0.0 in c:\\users\\31653\\anaconda3\\lib\\site-packages (from scikit-image>=0.14.3librosa>=0.7.2->openl3) (3.4.3)\n",
      "Requirement already satisfied: networkx>=2.0 in c:\\users\\31653\\anaconda3\\lib\\site-packages (from scikit-image>=0.14.3librosa>=0.7.2->openl3) (2.6.3)\n",
      "Requirement already satisfied: pillow!=7.1.0,!=7.1.1,>=4.3.0 in c:\\users\\31653\\anaconda3\\lib\\site-packages (from scikit-image>=0.14.3librosa>=0.7.2->openl3) (8.3.2)\n",
      "Requirement already satisfied: tifffile>=2019.7.26 in c:\\users\\31653\\anaconda3\\lib\\site-packages (from scikit-image>=0.14.3librosa>=0.7.2->openl3) (2021.10.12)\n",
      "Requirement already satisfied: PyWavelets>=1.1.1 in c:\\users\\31653\\anaconda3\\lib\\site-packages (from scikit-image>=0.14.3librosa>=0.7.2->openl3) (1.1.1)\n",
      "Requirement already satisfied: cffi>=1.0 in c:\\users\\31653\\anaconda3\\lib\\site-packages (from soundfile>=0.9.0.post1->openl3) (1.14.6)\n",
      "Requirement already satisfied: absl-py>=0.4.0 in c:\\users\\31653\\anaconda3\\lib\\site-packages (from tensorflow>=2.0.0->openl3) (0.11.0)\n",
      "Requirement already satisfied: typing-extensions>=3.6.6 in c:\\users\\31653\\anaconda3\\lib\\site-packages (from tensorflow>=2.0.0->openl3) (3.7.4.3)\n",
      "Requirement already satisfied: flatbuffers>=1.12 in c:\\users\\31653\\anaconda3\\lib\\site-packages (from tensorflow>=2.0.0->openl3) (1.12)\n",
      "Requirement already satisfied: astunparse>=1.6.0 in c:\\users\\31653\\anaconda3\\lib\\site-packages (from tensorflow>=2.0.0->openl3) (1.6.3)\n",
      "Requirement already satisfied: google-pasta>=0.1.1 in c:\\users\\31653\\anaconda3\\lib\\site-packages (from tensorflow>=2.0.0->openl3) (0.2.0)\n",
      "Requirement already satisfied: keras<2.9,>=2.8.0rc0 in c:\\users\\31653\\anaconda3\\lib\\site-packages (from tensorflow>=2.0.0->openl3) (2.8.0)\n",
      "Requirement already satisfied: wrapt>=1.11.0 in c:\\users\\31653\\anaconda3\\lib\\site-packages (from tensorflow>=2.0.0->openl3) (1.12.1)\n",
      "Requirement already satisfied: opt-einsum>=2.3.2 in c:\\users\\31653\\anaconda3\\lib\\site-packages (from tensorflow>=2.0.0->openl3) (3.3.0)\n",
      "Requirement already satisfied: keras-preprocessing>=1.1.1 in c:\\users\\31653\\anaconda3\\lib\\site-packages (from tensorflow>=2.0.0->openl3) (1.1.2)\n",
      "Requirement already satisfied: protobuf>=3.9.2 in c:\\users\\31653\\anaconda3\\lib\\site-packages (from tensorflow>=2.0.0->openl3) (3.15.5)\n",
      "Requirement already satisfied: gast>=0.2.1 in c:\\users\\31653\\anaconda3\\lib\\site-packages (from tensorflow>=2.0.0->openl3) (0.4.0)\n",
      "Requirement already satisfied: libclang>=9.0.1 in c:\\users\\31653\\anaconda3\\lib\\site-packages (from tensorflow>=2.0.0->openl3) (14.0.1)\n",
      "Requirement already satisfied: grpcio<2.0,>=1.24.3 in c:\\users\\31653\\anaconda3\\lib\\site-packages (from tensorflow>=2.0.0->openl3) (1.43.0)\n",
      "Requirement already satisfied: tf-estimator-nightly==2.8.0.dev2021122109 in c:\\users\\31653\\anaconda3\\lib\\site-packages (from tensorflow>=2.0.0->openl3) (2.8.0.dev2021122109)\n",
      "Requirement already satisfied: termcolor>=1.1.0 in c:\\users\\31653\\anaconda3\\lib\\site-packages (from tensorflow>=2.0.0->openl3) (1.1.0)\n",
      "Requirement already satisfied: tensorflow-io-gcs-filesystem>=0.23.1 in c:\\users\\31653\\anaconda3\\lib\\site-packages (from tensorflow>=2.0.0->openl3) (0.25.0)\n",
      "Requirement already satisfied: tensorboard<2.9,>=2.8 in c:\\users\\31653\\anaconda3\\lib\\site-packages (from tensorflow>=2.0.0->openl3) (2.8.0)\n",
      "Requirement already satisfied: setuptools in c:\\users\\31653\\anaconda3\\lib\\site-packages (from tensorflow>=2.0.0->openl3) (58.2.0)\n",
      "Requirement already satisfied: wheel<1.0,>=0.23.0 in c:\\users\\31653\\anaconda3\\lib\\site-packages (from astunparse>=1.6.0->tensorflow>=2.0.0->openl3) (0.37.0)\n",
      "Requirement already satisfied: pycparser in c:\\users\\31653\\anaconda3\\lib\\site-packages (from cffi>=1.0->soundfile>=0.9.0.post1->openl3) (2.20)\n",
      "Requirement already satisfied: pooch>=1.0 in c:\\users\\31653\\anaconda3\\lib\\site-packages (from librosa>=0.7.2->kapre>=0.3.5->openl3) (1.5.2)\n",
      "Requirement already satisfied: joblib>=0.14 in c:\\users\\31653\\anaconda3\\lib\\site-packages (from librosa>=0.7.2->kapre>=0.3.5->openl3) (1.1.0)\n",
      "Requirement already satisfied: scikit-learn!=0.19.0,>=0.14.0 in c:\\users\\31653\\anaconda3\\lib\\site-packages (from librosa>=0.7.2->kapre>=0.3.5->openl3) (1.0.1)\n",
      "Requirement already satisfied: audioread>=2.0.0 in c:\\users\\31653\\anaconda3\\lib\\site-packages (from librosa>=0.7.2->kapre>=0.3.5->openl3) (2.1.9)\n",
      "Requirement already satisfied: cycler>=0.10 in c:\\users\\31653\\anaconda3\\lib\\site-packages (from matplotlib!=3.0.0,>=2.0.0->scikit-image>=0.14.3librosa>=0.7.2->openl3) (0.10.0)\n",
      "Requirement already satisfied: pyparsing>=2.2.1 in c:\\users\\31653\\anaconda3\\lib\\site-packages (from matplotlib!=3.0.0,>=2.0.0->scikit-image>=0.14.3librosa>=0.7.2->openl3) (2.4.7)\n",
      "Requirement already satisfied: kiwisolver>=1.0.1 in c:\\users\\31653\\anaconda3\\lib\\site-packages (from matplotlib!=3.0.0,>=2.0.0->scikit-image>=0.14.3librosa>=0.7.2->openl3) (1.3.2)\n",
      "Requirement already satisfied: python-dateutil>=2.7 in c:\\users\\31653\\anaconda3\\lib\\site-packages (from matplotlib!=3.0.0,>=2.0.0->scikit-image>=0.14.3librosa>=0.7.2->openl3) (2.8.2)\n",
      "Requirement already satisfied: llvmlite<0.38,>=0.37.0rc1 in c:\\users\\31653\\anaconda3\\lib\\site-packages (from numba>=0.32->resampy<0.3.0,>=0.2.1->openl3) (0.37.0)\n",
      "Requirement already satisfied: idna<4,>=2.5 in c:\\users\\31653\\anaconda3\\lib\\site-packages (from requests<3.0,>=2.8.1->moviepy>=1.0.0->openl3) (2.10)\n",
      "Requirement already satisfied: certifi>=2017.4.17 in c:\\users\\31653\\anaconda3\\lib\\site-packages (from requests<3.0,>=2.8.1->moviepy>=1.0.0->openl3) (2021.10.8)\n",
      "Requirement already satisfied: urllib3<1.27,>=1.21.1 in c:\\users\\31653\\anaconda3\\lib\\site-packages (from requests<3.0,>=2.8.1->moviepy>=1.0.0->openl3) (1.26.7)\n",
      "Requirement already satisfied: charset-normalizer~=2.0.0 in c:\\users\\31653\\anaconda3\\lib\\site-packages (from requests<3.0,>=2.8.1->moviepy>=1.0.0->openl3) (2.0.0)\n",
      "Requirement already satisfied: google-auth-oauthlib<0.5,>=0.4.1 in c:\\users\\31653\\anaconda3\\lib\\site-packages (from tensorboard<2.9,>=2.8->tensorflow>=2.0.0->openl3) (0.4.3)\n",
      "Requirement already satisfied: tensorboard-data-server<0.7.0,>=0.6.0 in c:\\users\\31653\\anaconda3\\lib\\site-packages (from tensorboard<2.9,>=2.8->tensorflow>=2.0.0->openl3) (0.6.1)\n",
      "Requirement already satisfied: google-auth<3,>=1.6.3 in c:\\users\\31653\\anaconda3\\lib\\site-packages (from tensorboard<2.9,>=2.8->tensorflow>=2.0.0->openl3) (1.27.1)\n",
      "Requirement already satisfied: markdown>=2.6.8 in c:\\users\\31653\\anaconda3\\lib\\site-packages (from tensorboard<2.9,>=2.8->tensorflow>=2.0.0->openl3) (3.3.4)\n",
      "Requirement already satisfied: tensorboard-plugin-wit>=1.6.0 in c:\\users\\31653\\anaconda3\\lib\\site-packages (from tensorboard<2.9,>=2.8->tensorflow>=2.0.0->openl3) (1.8.0)\n",
      "Requirement already satisfied: werkzeug>=0.11.15 in c:\\users\\31653\\anaconda3\\lib\\site-packages (from tensorboard<2.9,>=2.8->tensorflow>=2.0.0->openl3) (1.0.1)\n",
      "Requirement already satisfied: colorama in c:\\users\\31653\\anaconda3\\lib\\site-packages (from tqdm<5.0,>=4.11.2->moviepy>=1.0.0->openl3) (0.4.4)\n",
      "Requirement already satisfied: cachetools<5.0,>=2.0.0 in c:\\users\\31653\\anaconda3\\lib\\site-packages (from google-auth<3,>=1.6.3->tensorboard<2.9,>=2.8->tensorflow>=2.0.0->openl3) (4.2.1)\n",
      "Requirement already satisfied: pyasn1-modules>=0.2.1 in c:\\users\\31653\\anaconda3\\lib\\site-packages (from google-auth<3,>=1.6.3->tensorboard<2.9,>=2.8->tensorflow>=2.0.0->openl3) (0.2.8)\n",
      "Requirement already satisfied: rsa<5,>=3.1.4 in c:\\users\\31653\\anaconda3\\lib\\site-packages (from google-auth<3,>=1.6.3->tensorboard<2.9,>=2.8->tensorflow>=2.0.0->openl3) (4.7.2)\n",
      "Requirement already satisfied: requests-oauthlib>=0.7.0 in c:\\users\\31653\\anaconda3\\lib\\site-packages (from google-auth-oauthlib<0.5,>=0.4.1->tensorboard<2.9,>=2.8->tensorflow>=2.0.0->openl3) (1.3.0)\n",
      "Requirement already satisfied: packaging in c:\\users\\31653\\anaconda3\\lib\\site-packages (from pooch>=1.0->librosa>=0.7.2->kapre>=0.3.5->openl3) (21.3)\n",
      "Requirement already satisfied: appdirs in c:\\users\\31653\\appdata\\roaming\\python\\python38\\site-packages (from pooch>=1.0->librosa>=0.7.2->kapre>=0.3.5->openl3) (1.4.4)\n"
     ]
    },
    {
     "name": "stderr",
     "output_type": "stream",
     "text": [
      "ERROR: Could not install packages due to an OSError: [WinError 5] Access is denied: 'C:\\\\Users\\\\31653\\\\anaconda3\\\\Lib\\\\site-packages\\\\h5py\\\\hdf5.dll'\n",
      "Consider using the `--user` option or check the permissions.\n",
      "\n"
     ]
    },
    {
     "name": "stdout",
     "output_type": "stream",
     "text": [
      "Requirement already satisfied: threadpoolctl>=2.0.0 in c:\\users\\31653\\anaconda3\\lib\\site-packages (from scikit-learn!=0.19.0,>=0.14.0->librosa>=0.7.2->kapre>=0.3.5->openl3) (3.0.0)\n",
      "Requirement already satisfied: pyasn1<0.5.0,>=0.4.6 in c:\\users\\31653\\anaconda3\\lib\\site-packages (from pyasn1-modules>=0.2.1->google-auth<3,>=1.6.3->tensorboard<2.9,>=2.8->tensorflow>=2.0.0->openl3) (0.4.8)\n",
      "Requirement already satisfied: oauthlib>=3.0.0 in c:\\users\\31653\\anaconda3\\lib\\site-packages (from requests-oauthlib>=0.7.0->google-auth-oauthlib<0.5,>=0.4.1->tensorboard<2.9,>=2.8->tensorflow>=2.0.0->openl3) (3.2.0)\n",
      "Installing collected packages: h5py\n",
      "  Attempting uninstall: h5py\n",
      "    Found existing installation: h5py 3.4.0\n",
      "    Uninstalling h5py-3.4.0:\n",
      "      Successfully uninstalled h5py-3.4.0\n",
      "  Rolling back uninstall of h5py\n",
      "  Moving to c:\\users\\31653\\anaconda3\\lib\\site-packages\\h5py-3.4.0.dist-info\\\n",
      "   from C:\\Users\\31653\\anaconda3\\Lib\\site-packages\\~5py-3.4.0.dist-info\n",
      "  Moving to c:\\users\\31653\\anaconda3\\lib\\site-packages\\h5py\\__init__.py\n",
      "   from C:\\Users\\31653\\AppData\\Local\\Temp\\pip-uninstall-i41tbfnu\\__init__.py\n",
      "  Moving to c:\\users\\31653\\anaconda3\\lib\\site-packages\\h5py\\__pycache__\\__init__.cpython-38.pyc\n",
      "   from C:\\Users\\31653\\AppData\\Local\\Temp\\pip-uninstall-i41tbfnu\\__pycache__\\__init__.cpython-38.pyc\n",
      "  Moving to c:\\users\\31653\\anaconda3\\lib\\site-packages\\h5py\\__pycache__\\h5py_warnings.cpython-38.pyc\n",
      "   from C:\\Users\\31653\\AppData\\Local\\Temp\\pip-uninstall-i41tbfnu\\__pycache__\\h5py_warnings.cpython-38.pyc\n",
      "  Moving to c:\\users\\31653\\anaconda3\\lib\\site-packages\\h5py\\__pycache__\\ipy_completer.cpython-38.pyc\n",
      "   from C:\\Users\\31653\\AppData\\Local\\Temp\\pip-uninstall-i41tbfnu\\__pycache__\\ipy_completer.cpython-38.pyc\n",
      "  Moving to c:\\users\\31653\\anaconda3\\lib\\site-packages\\h5py\\__pycache__\\version.cpython-38.pyc\n",
      "   from C:\\Users\\31653\\AppData\\Local\\Temp\\pip-uninstall-i41tbfnu\\__pycache__\\version.cpython-38.pyc\n",
      "  Moving to c:\\users\\31653\\anaconda3\\lib\\site-packages\\h5py\\_conv.cp38-win_amd64.pyd\n",
      "   from C:\\Users\\31653\\AppData\\Local\\Temp\\pip-uninstall-i41tbfnu\\_conv.cp38-win_amd64.pyd\n",
      "  Moving to c:\\users\\31653\\anaconda3\\lib\\site-packages\\h5py\\_errors.cp38-win_amd64.pyd\n",
      "   from C:\\Users\\31653\\AppData\\Local\\Temp\\pip-uninstall-i41tbfnu\\_errors.cp38-win_amd64.pyd\n",
      "  Moving to c:\\users\\31653\\anaconda3\\lib\\site-packages\\h5py\\_hl\\\n",
      "   from C:\\Users\\31653\\anaconda3\\Lib\\site-packages\\h5py\\~hl\n",
      "  Moving to c:\\users\\31653\\anaconda3\\lib\\site-packages\\h5py\\_objects.cp38-win_amd64.pyd\n",
      "   from C:\\Users\\31653\\AppData\\Local\\Temp\\pip-uninstall-i41tbfnu\\_objects.cp38-win_amd64.pyd\n",
      "  Moving to c:\\users\\31653\\anaconda3\\lib\\site-packages\\h5py\\_proxy.cp38-win_amd64.pyd\n",
      "   from C:\\Users\\31653\\AppData\\Local\\Temp\\pip-uninstall-i41tbfnu\\_proxy.cp38-win_amd64.pyd\n",
      "  Moving to c:\\users\\31653\\anaconda3\\lib\\site-packages\\h5py\\_selector.cp38-win_amd64.pyd\n",
      "   from C:\\Users\\31653\\AppData\\Local\\Temp\\pip-uninstall-i41tbfnu\\_selector.cp38-win_amd64.pyd\n",
      "  Moving to c:\\users\\31653\\anaconda3\\lib\\site-packages\\h5py\\defs.cp38-win_amd64.pyd\n",
      "   from C:\\Users\\31653\\AppData\\Local\\Temp\\pip-uninstall-i41tbfnu\\defs.cp38-win_amd64.pyd\n",
      "  Moving to c:\\users\\31653\\anaconda3\\lib\\site-packages\\h5py\\h5.cp38-win_amd64.pyd\n",
      "   from C:\\Users\\31653\\AppData\\Local\\Temp\\pip-uninstall-i41tbfnu\\h5.cp38-win_amd64.pyd\n",
      "  Moving to c:\\users\\31653\\anaconda3\\lib\\site-packages\\h5py\\h5a.cp38-win_amd64.pyd\n",
      "   from C:\\Users\\31653\\AppData\\Local\\Temp\\pip-uninstall-i41tbfnu\\h5a.cp38-win_amd64.pyd\n",
      "  Moving to c:\\users\\31653\\anaconda3\\lib\\site-packages\\h5py\\h5ac.cp38-win_amd64.pyd\n",
      "   from C:\\Users\\31653\\AppData\\Local\\Temp\\pip-uninstall-i41tbfnu\\h5ac.cp38-win_amd64.pyd\n",
      "  Moving to c:\\users\\31653\\anaconda3\\lib\\site-packages\\h5py\\h5d.cp38-win_amd64.pyd\n",
      "   from C:\\Users\\31653\\AppData\\Local\\Temp\\pip-uninstall-i41tbfnu\\h5d.cp38-win_amd64.pyd\n",
      "  Moving to c:\\users\\31653\\anaconda3\\lib\\site-packages\\h5py\\h5ds.cp38-win_amd64.pyd\n",
      "   from C:\\Users\\31653\\AppData\\Local\\Temp\\pip-uninstall-i41tbfnu\\h5ds.cp38-win_amd64.pyd\n",
      "  Moving to c:\\users\\31653\\anaconda3\\lib\\site-packages\\h5py\\h5f.cp38-win_amd64.pyd\n",
      "   from C:\\Users\\31653\\AppData\\Local\\Temp\\pip-uninstall-i41tbfnu\\h5f.cp38-win_amd64.pyd\n",
      "  Moving to c:\\users\\31653\\anaconda3\\lib\\site-packages\\h5py\\h5fd.cp38-win_amd64.pyd\n",
      "   from C:\\Users\\31653\\AppData\\Local\\Temp\\pip-uninstall-i41tbfnu\\h5fd.cp38-win_amd64.pyd\n",
      "  Moving to c:\\users\\31653\\anaconda3\\lib\\site-packages\\h5py\\h5g.cp38-win_amd64.pyd\n",
      "   from C:\\Users\\31653\\AppData\\Local\\Temp\\pip-uninstall-i41tbfnu\\h5g.cp38-win_amd64.pyd\n",
      "  Moving to c:\\users\\31653\\anaconda3\\lib\\site-packages\\h5py\\h5i.cp38-win_amd64.pyd\n",
      "   from C:\\Users\\31653\\AppData\\Local\\Temp\\pip-uninstall-i41tbfnu\\h5i.cp38-win_amd64.pyd\n",
      "  Moving to c:\\users\\31653\\anaconda3\\lib\\site-packages\\h5py\\h5l.cp38-win_amd64.pyd\n",
      "   from C:\\Users\\31653\\AppData\\Local\\Temp\\pip-uninstall-i41tbfnu\\h5l.cp38-win_amd64.pyd\n",
      "  Moving to c:\\users\\31653\\anaconda3\\lib\\site-packages\\h5py\\h5o.cp38-win_amd64.pyd\n",
      "   from C:\\Users\\31653\\AppData\\Local\\Temp\\pip-uninstall-i41tbfnu\\h5o.cp38-win_amd64.pyd\n",
      "  Moving to c:\\users\\31653\\anaconda3\\lib\\site-packages\\h5py\\h5p.cp38-win_amd64.pyd\n",
      "   from C:\\Users\\31653\\AppData\\Local\\Temp\\pip-uninstall-i41tbfnu\\h5p.cp38-win_amd64.pyd\n",
      "  Moving to c:\\users\\31653\\anaconda3\\lib\\site-packages\\h5py\\h5pl.cp38-win_amd64.pyd\n",
      "   from C:\\Users\\31653\\AppData\\Local\\Temp\\pip-uninstall-i41tbfnu\\h5pl.cp38-win_amd64.pyd\n",
      "  Moving to c:\\users\\31653\\anaconda3\\lib\\site-packages\\h5py\\h5py_warnings.py\n",
      "   from C:\\Users\\31653\\AppData\\Local\\Temp\\pip-uninstall-i41tbfnu\\h5py_warnings.py\n",
      "  Moving to c:\\users\\31653\\anaconda3\\lib\\site-packages\\h5py\\h5r.cp38-win_amd64.pyd\n",
      "   from C:\\Users\\31653\\AppData\\Local\\Temp\\pip-uninstall-i41tbfnu\\h5r.cp38-win_amd64.pyd\n",
      "  Moving to c:\\users\\31653\\anaconda3\\lib\\site-packages\\h5py\\h5s.cp38-win_amd64.pyd\n",
      "   from C:\\Users\\31653\\AppData\\Local\\Temp\\pip-uninstall-i41tbfnu\\h5s.cp38-win_amd64.pyd\n",
      "  Moving to c:\\users\\31653\\anaconda3\\lib\\site-packages\\h5py\\h5t.cp38-win_amd64.pyd\n",
      "   from C:\\Users\\31653\\AppData\\Local\\Temp\\pip-uninstall-i41tbfnu\\h5t.cp38-win_amd64.pyd\n",
      "  Moving to c:\\users\\31653\\anaconda3\\lib\\site-packages\\h5py\\h5z.cp38-win_amd64.pyd\n",
      "   from C:\\Users\\31653\\AppData\\Local\\Temp\\pip-uninstall-i41tbfnu\\h5z.cp38-win_amd64.pyd\n",
      "  Moving to c:\\users\\31653\\anaconda3\\lib\\site-packages\\h5py\\ipy_completer.py\n",
      "   from C:\\Users\\31653\\AppData\\Local\\Temp\\pip-uninstall-i41tbfnu\\ipy_completer.py\n",
      "  Moving to c:\\users\\31653\\anaconda3\\lib\\site-packages\\h5py\\tests\\__init__.py\n",
      "   from C:\\Users\\31653\\AppData\\Local\\Temp\\pip-uninstall-i41tbfnu\\tests\\__init__.py\n",
      "  Moving to c:\\users\\31653\\anaconda3\\lib\\site-packages\\h5py\\tests\\__pycache__\\__init__.cpython-38.pyc\n",
      "   from C:\\Users\\31653\\AppData\\Local\\Temp\\pip-uninstall-i41tbfnu\\tests\\__pycache__\\__init__.cpython-38.pyc\n",
      "  Moving to c:\\users\\31653\\anaconda3\\lib\\site-packages\\h5py\\tests\\__pycache__\\common.cpython-38.pyc\n",
      "   from C:\\Users\\31653\\AppData\\Local\\Temp\\pip-uninstall-i41tbfnu\\tests\\__pycache__\\common.cpython-38.pyc\n",
      "  Moving to c:\\users\\31653\\anaconda3\\lib\\site-packages\\h5py\\tests\\__pycache__\\conftest.cpython-38.pyc\n",
      "   from C:\\Users\\31653\\AppData\\Local\\Temp\\pip-uninstall-i41tbfnu\\tests\\__pycache__\\conftest.cpython-38.pyc\n",
      "  Moving to c:\\users\\31653\\anaconda3\\lib\\site-packages\\h5py\\tests\\__pycache__\\test_attribute_create.cpython-38.pyc\n",
      "   from C:\\Users\\31653\\AppData\\Local\\Temp\\pip-uninstall-i41tbfnu\\tests\\__pycache__\\test_attribute_create.cpython-38.pyc\n",
      "  Moving to c:\\users\\31653\\anaconda3\\lib\\site-packages\\h5py\\tests\\__pycache__\\test_attrs.cpython-38.pyc\n",
      "   from C:\\Users\\31653\\AppData\\Local\\Temp\\pip-uninstall-i41tbfnu\\tests\\__pycache__\\test_attrs.cpython-38.pyc\n",
      "  Moving to c:\\users\\31653\\anaconda3\\lib\\site-packages\\h5py\\tests\\__pycache__\\test_attrs_data.cpython-38.pyc\n",
      "   from C:\\Users\\31653\\AppData\\Local\\Temp\\pip-uninstall-i41tbfnu\\tests\\__pycache__\\test_attrs_data.cpython-38.pyc\n",
      "  Moving to c:\\users\\31653\\anaconda3\\lib\\site-packages\\h5py\\tests\\__pycache__\\test_base.cpython-38.pyc\n",
      "   from C:\\Users\\31653\\AppData\\Local\\Temp\\pip-uninstall-i41tbfnu\\tests\\__pycache__\\test_base.cpython-38.pyc\n",
      "  Moving to c:\\users\\31653\\anaconda3\\lib\\site-packages\\h5py\\tests\\__pycache__\\test_big_endian_file.cpython-38.pyc\n",
      "   from C:\\Users\\31653\\AppData\\Local\\Temp\\pip-uninstall-i41tbfnu\\tests\\__pycache__\\test_big_endian_file.cpython-38.pyc\n",
      "  Moving to c:\\users\\31653\\anaconda3\\lib\\site-packages\\h5py\\tests\\__pycache__\\test_completions.cpython-38.pyc\n",
      "   from C:\\Users\\31653\\AppData\\Local\\Temp\\pip-uninstall-i41tbfnu\\tests\\__pycache__\\test_completions.cpython-38.pyc\n",
      "  Moving to c:\\users\\31653\\anaconda3\\lib\\site-packages\\h5py\\tests\\__pycache__\\test_dataset.cpython-38.pyc\n",
      "   from C:\\Users\\31653\\AppData\\Local\\Temp\\pip-uninstall-i41tbfnu\\tests\\__pycache__\\test_dataset.cpython-38.pyc\n",
      "  Moving to c:\\users\\31653\\anaconda3\\lib\\site-packages\\h5py\\tests\\__pycache__\\test_dataset_getitem.cpython-38.pyc\n",
      "   from C:\\Users\\31653\\AppData\\Local\\Temp\\pip-uninstall-i41tbfnu\\tests\\__pycache__\\test_dataset_getitem.cpython-38.pyc\n",
      "  Moving to c:\\users\\31653\\anaconda3\\lib\\site-packages\\h5py\\tests\\__pycache__\\test_dataset_swmr.cpython-38.pyc\n",
      "   from C:\\Users\\31653\\AppData\\Local\\Temp\\pip-uninstall-i41tbfnu\\tests\\__pycache__\\test_dataset_swmr.cpython-38.pyc\n",
      "  Moving to c:\\users\\31653\\anaconda3\\lib\\site-packages\\h5py\\tests\\__pycache__\\test_datatype.cpython-38.pyc\n",
      "   from C:\\Users\\31653\\AppData\\Local\\Temp\\pip-uninstall-i41tbfnu\\tests\\__pycache__\\test_datatype.cpython-38.pyc\n",
      "  Moving to c:\\users\\31653\\anaconda3\\lib\\site-packages\\h5py\\tests\\__pycache__\\test_dimension_scales.cpython-38.pyc\n",
      "   from C:\\Users\\31653\\AppData\\Local\\Temp\\pip-uninstall-i41tbfnu\\tests\\__pycache__\\test_dimension_scales.cpython-38.pyc\n",
      "  Moving to c:\\users\\31653\\anaconda3\\lib\\site-packages\\h5py\\tests\\__pycache__\\test_dims_dimensionproxy.cpython-38.pyc\n",
      "   from C:\\Users\\31653\\AppData\\Local\\Temp\\pip-uninstall-i41tbfnu\\tests\\__pycache__\\test_dims_dimensionproxy.cpython-38.pyc\n",
      "  Moving to c:\\users\\31653\\anaconda3\\lib\\site-packages\\h5py\\tests\\__pycache__\\test_dtype.cpython-38.pyc\n",
      "   from C:\\Users\\31653\\AppData\\Local\\Temp\\pip-uninstall-i41tbfnu\\tests\\__pycache__\\test_dtype.cpython-38.pyc\n",
      "  Moving to c:\\users\\31653\\anaconda3\\lib\\site-packages\\h5py\\tests\\__pycache__\\test_errors.cpython-38.pyc\n",
      "   from C:\\Users\\31653\\AppData\\Local\\Temp\\pip-uninstall-i41tbfnu\\tests\\__pycache__\\test_errors.cpython-38.pyc\n",
      "  Moving to c:\\users\\31653\\anaconda3\\lib\\site-packages\\h5py\\tests\\__pycache__\\test_file.cpython-38.pyc\n",
      "   from C:\\Users\\31653\\AppData\\Local\\Temp\\pip-uninstall-i41tbfnu\\tests\\__pycache__\\test_file.cpython-38.pyc\n",
      "  Moving to c:\\users\\31653\\anaconda3\\lib\\site-packages\\h5py\\tests\\__pycache__\\test_file2.cpython-38.pyc\n",
      "   from C:\\Users\\31653\\AppData\\Local\\Temp\\pip-uninstall-i41tbfnu\\tests\\__pycache__\\test_file2.cpython-38.pyc\n",
      "  Moving to c:\\users\\31653\\anaconda3\\lib\\site-packages\\h5py\\tests\\__pycache__\\test_file_image.cpython-38.pyc\n",
      "   from C:\\Users\\31653\\AppData\\Local\\Temp\\pip-uninstall-i41tbfnu\\tests\\__pycache__\\test_file_image.cpython-38.pyc\n",
      "  Moving to c:\\users\\31653\\anaconda3\\lib\\site-packages\\h5py\\tests\\__pycache__\\test_filters.cpython-38.pyc\n",
      "   from C:\\Users\\31653\\AppData\\Local\\Temp\\pip-uninstall-i41tbfnu\\tests\\__pycache__\\test_filters.cpython-38.pyc\n",
      "  Moving to c:\\users\\31653\\anaconda3\\lib\\site-packages\\h5py\\tests\\__pycache__\\test_group.cpython-38.pyc\n",
      "   from C:\\Users\\31653\\AppData\\Local\\Temp\\pip-uninstall-i41tbfnu\\tests\\__pycache__\\test_group.cpython-38.pyc\n",
      "  Moving to c:\\users\\31653\\anaconda3\\lib\\site-packages\\h5py\\tests\\__pycache__\\test_h5.cpython-38.pyc\n",
      "   from C:\\Users\\31653\\AppData\\Local\\Temp\\pip-uninstall-i41tbfnu\\tests\\__pycache__\\test_h5.cpython-38.pyc\n",
      "  Moving to c:\\users\\31653\\anaconda3\\lib\\site-packages\\h5py\\tests\\__pycache__\\test_h5d_direct_chunk.cpython-38.pyc\n",
      "   from C:\\Users\\31653\\AppData\\Local\\Temp\\pip-uninstall-i41tbfnu\\tests\\__pycache__\\test_h5d_direct_chunk.cpython-38.pyc\n",
      "  Moving to c:\\users\\31653\\anaconda3\\lib\\site-packages\\h5py\\tests\\__pycache__\\test_h5f.cpython-38.pyc\n",
      "   from C:\\Users\\31653\\AppData\\Local\\Temp\\pip-uninstall-i41tbfnu\\tests\\__pycache__\\test_h5f.cpython-38.pyc\n",
      "  Moving to c:\\users\\31653\\anaconda3\\lib\\site-packages\\h5py\\tests\\__pycache__\\test_h5o.cpython-38.pyc\n",
      "   from C:\\Users\\31653\\AppData\\Local\\Temp\\pip-uninstall-i41tbfnu\\tests\\__pycache__\\test_h5o.cpython-38.pyc\n",
      "  Moving to c:\\users\\31653\\anaconda3\\lib\\site-packages\\h5py\\tests\\__pycache__\\test_h5p.cpython-38.pyc\n",
      "   from C:\\Users\\31653\\AppData\\Local\\Temp\\pip-uninstall-i41tbfnu\\tests\\__pycache__\\test_h5p.cpython-38.pyc\n",
      "  Moving to c:\\users\\31653\\anaconda3\\lib\\site-packages\\h5py\\tests\\__pycache__\\test_h5pl.cpython-38.pyc\n",
      "   from C:\\Users\\31653\\AppData\\Local\\Temp\\pip-uninstall-i41tbfnu\\tests\\__pycache__\\test_h5pl.cpython-38.pyc\n",
      "  Moving to c:\\users\\31653\\anaconda3\\lib\\site-packages\\h5py\\tests\\__pycache__\\test_h5t.cpython-38.pyc\n",
      "   from C:\\Users\\31653\\AppData\\Local\\Temp\\pip-uninstall-i41tbfnu\\tests\\__pycache__\\test_h5t.cpython-38.pyc\n",
      "  Moving to c:\\users\\31653\\anaconda3\\lib\\site-packages\\h5py\\tests\\__pycache__\\test_objects.cpython-38.pyc\n",
      "   from C:\\Users\\31653\\AppData\\Local\\Temp\\pip-uninstall-i41tbfnu\\tests\\__pycache__\\test_objects.cpython-38.pyc\n",
      "  Moving to c:\\users\\31653\\anaconda3\\lib\\site-packages\\h5py\\tests\\__pycache__\\test_selections.cpython-38.pyc\n",
      "   from C:\\Users\\31653\\AppData\\Local\\Temp\\pip-uninstall-i41tbfnu\\tests\\__pycache__\\test_selections.cpython-38.pyc\n",
      "  Moving to c:\\users\\31653\\anaconda3\\lib\\site-packages\\h5py\\tests\\__pycache__\\test_slicing.cpython-38.pyc\n",
      "   from C:\\Users\\31653\\AppData\\Local\\Temp\\pip-uninstall-i41tbfnu\\tests\\__pycache__\\test_slicing.cpython-38.pyc\n",
      "  Moving to c:\\users\\31653\\anaconda3\\lib\\site-packages\\h5py\\tests\\common.py\n",
      "   from C:\\Users\\31653\\AppData\\Local\\Temp\\pip-uninstall-i41tbfnu\\tests\\common.py\n",
      "  Moving to c:\\users\\31653\\anaconda3\\lib\\site-packages\\h5py\\tests\\conftest.py\n",
      "   from C:\\Users\\31653\\AppData\\Local\\Temp\\pip-uninstall-i41tbfnu\\tests\\conftest.py\n",
      "  Moving to c:\\users\\31653\\anaconda3\\lib\\site-packages\\h5py\\tests\\data_files\\\n",
      "   from C:\\Users\\31653\\anaconda3\\Lib\\site-packages\\h5py\\tests\\~ata_files\n",
      "  Moving to c:\\users\\31653\\anaconda3\\lib\\site-packages\\h5py\\tests\\test_attribute_create.py\n",
      "   from C:\\Users\\31653\\AppData\\Local\\Temp\\pip-uninstall-i41tbfnu\\tests\\test_attribute_create.py\n",
      "  Moving to c:\\users\\31653\\anaconda3\\lib\\site-packages\\h5py\\tests\\test_attrs.py\n",
      "   from C:\\Users\\31653\\AppData\\Local\\Temp\\pip-uninstall-i41tbfnu\\tests\\test_attrs.py\n",
      "  Moving to c:\\users\\31653\\anaconda3\\lib\\site-packages\\h5py\\tests\\test_attrs_data.py\n",
      "   from C:\\Users\\31653\\AppData\\Local\\Temp\\pip-uninstall-i41tbfnu\\tests\\test_attrs_data.py\n",
      "  Moving to c:\\users\\31653\\anaconda3\\lib\\site-packages\\h5py\\tests\\test_base.py\n",
      "   from C:\\Users\\31653\\AppData\\Local\\Temp\\pip-uninstall-i41tbfnu\\tests\\test_base.py\n",
      "  Moving to c:\\users\\31653\\anaconda3\\lib\\site-packages\\h5py\\tests\\test_big_endian_file.py\n",
      "   from C:\\Users\\31653\\AppData\\Local\\Temp\\pip-uninstall-i41tbfnu\\tests\\test_big_endian_file.py\n",
      "  Moving to c:\\users\\31653\\anaconda3\\lib\\site-packages\\h5py\\tests\\test_completions.py\n",
      "   from C:\\Users\\31653\\AppData\\Local\\Temp\\pip-uninstall-i41tbfnu\\tests\\test_completions.py\n",
      "  Moving to c:\\users\\31653\\anaconda3\\lib\\site-packages\\h5py\\tests\\test_dataset.py\n",
      "   from C:\\Users\\31653\\AppData\\Local\\Temp\\pip-uninstall-i41tbfnu\\tests\\test_dataset.py\n",
      "  Moving to c:\\users\\31653\\anaconda3\\lib\\site-packages\\h5py\\tests\\test_dataset_getitem.py\n",
      "   from C:\\Users\\31653\\AppData\\Local\\Temp\\pip-uninstall-i41tbfnu\\tests\\test_dataset_getitem.py\n",
      "  Moving to c:\\users\\31653\\anaconda3\\lib\\site-packages\\h5py\\tests\\test_dataset_swmr.py\n",
      "   from C:\\Users\\31653\\AppData\\Local\\Temp\\pip-uninstall-i41tbfnu\\tests\\test_dataset_swmr.py\n",
      "  Moving to c:\\users\\31653\\anaconda3\\lib\\site-packages\\h5py\\tests\\test_datatype.py\n",
      "   from C:\\Users\\31653\\AppData\\Local\\Temp\\pip-uninstall-i41tbfnu\\tests\\test_datatype.py\n",
      "  Moving to c:\\users\\31653\\anaconda3\\lib\\site-packages\\h5py\\tests\\test_dimension_scales.py\n",
      "   from C:\\Users\\31653\\AppData\\Local\\Temp\\pip-uninstall-i41tbfnu\\tests\\test_dimension_scales.py\n",
      "  Moving to c:\\users\\31653\\anaconda3\\lib\\site-packages\\h5py\\tests\\test_dims_dimensionproxy.py\n",
      "   from C:\\Users\\31653\\AppData\\Local\\Temp\\pip-uninstall-i41tbfnu\\tests\\test_dims_dimensionproxy.py\n",
      "  Moving to c:\\users\\31653\\anaconda3\\lib\\site-packages\\h5py\\tests\\test_dtype.py\n",
      "   from C:\\Users\\31653\\AppData\\Local\\Temp\\pip-uninstall-i41tbfnu\\tests\\test_dtype.py\n",
      "  Moving to c:\\users\\31653\\anaconda3\\lib\\site-packages\\h5py\\tests\\test_errors.py\n",
      "   from C:\\Users\\31653\\AppData\\Local\\Temp\\pip-uninstall-i41tbfnu\\tests\\test_errors.py\n",
      "  Moving to c:\\users\\31653\\anaconda3\\lib\\site-packages\\h5py\\tests\\test_file.py\n",
      "   from C:\\Users\\31653\\AppData\\Local\\Temp\\pip-uninstall-i41tbfnu\\tests\\test_file.py\n",
      "  Moving to c:\\users\\31653\\anaconda3\\lib\\site-packages\\h5py\\tests\\test_file2.py\n",
      "   from C:\\Users\\31653\\AppData\\Local\\Temp\\pip-uninstall-i41tbfnu\\tests\\test_file2.py\n",
      "  Moving to c:\\users\\31653\\anaconda3\\lib\\site-packages\\h5py\\tests\\test_file_image.py\n",
      "   from C:\\Users\\31653\\AppData\\Local\\Temp\\pip-uninstall-i41tbfnu\\tests\\test_file_image.py\n",
      "  Moving to c:\\users\\31653\\anaconda3\\lib\\site-packages\\h5py\\tests\\test_filters.py\n",
      "   from C:\\Users\\31653\\AppData\\Local\\Temp\\pip-uninstall-i41tbfnu\\tests\\test_filters.py\n",
      "  Moving to c:\\users\\31653\\anaconda3\\lib\\site-packages\\h5py\\tests\\test_group.py\n",
      "   from C:\\Users\\31653\\AppData\\Local\\Temp\\pip-uninstall-i41tbfnu\\tests\\test_group.py\n",
      "  Moving to c:\\users\\31653\\anaconda3\\lib\\site-packages\\h5py\\tests\\test_h5.py\n",
      "   from C:\\Users\\31653\\AppData\\Local\\Temp\\pip-uninstall-i41tbfnu\\tests\\test_h5.py\n",
      "  Moving to c:\\users\\31653\\anaconda3\\lib\\site-packages\\h5py\\tests\\test_h5d_direct_chunk.py\n",
      "   from C:\\Users\\31653\\AppData\\Local\\Temp\\pip-uninstall-i41tbfnu\\tests\\test_h5d_direct_chunk.py\n",
      "  Moving to c:\\users\\31653\\anaconda3\\lib\\site-packages\\h5py\\tests\\test_h5f.py\n",
      "   from C:\\Users\\31653\\AppData\\Local\\Temp\\pip-uninstall-i41tbfnu\\tests\\test_h5f.py\n",
      "  Moving to c:\\users\\31653\\anaconda3\\lib\\site-packages\\h5py\\tests\\test_h5o.py\n",
      "   from C:\\Users\\31653\\AppData\\Local\\Temp\\pip-uninstall-i41tbfnu\\tests\\test_h5o.py\n",
      "  Moving to c:\\users\\31653\\anaconda3\\lib\\site-packages\\h5py\\tests\\test_h5p.py\n",
      "   from C:\\Users\\31653\\AppData\\Local\\Temp\\pip-uninstall-i41tbfnu\\tests\\test_h5p.py\n",
      "  Moving to c:\\users\\31653\\anaconda3\\lib\\site-packages\\h5py\\tests\\test_h5pl.py\n",
      "   from C:\\Users\\31653\\AppData\\Local\\Temp\\pip-uninstall-i41tbfnu\\tests\\test_h5pl.py\n",
      "  Moving to c:\\users\\31653\\anaconda3\\lib\\site-packages\\h5py\\tests\\test_h5t.py\n",
      "   from C:\\Users\\31653\\AppData\\Local\\Temp\\pip-uninstall-i41tbfnu\\tests\\test_h5t.py\n",
      "  Moving to c:\\users\\31653\\anaconda3\\lib\\site-packages\\h5py\\tests\\test_objects.py\n",
      "   from C:\\Users\\31653\\AppData\\Local\\Temp\\pip-uninstall-i41tbfnu\\tests\\test_objects.py\n",
      "  Moving to c:\\users\\31653\\anaconda3\\lib\\site-packages\\h5py\\tests\\test_selections.py\n",
      "   from C:\\Users\\31653\\AppData\\Local\\Temp\\pip-uninstall-i41tbfnu\\tests\\test_selections.py\n",
      "  Moving to c:\\users\\31653\\anaconda3\\lib\\site-packages\\h5py\\tests\\test_slicing.py\n",
      "   from C:\\Users\\31653\\AppData\\Local\\Temp\\pip-uninstall-i41tbfnu\\tests\\test_slicing.py\n",
      "  Moving to c:\\users\\31653\\anaconda3\\lib\\site-packages\\h5py\\tests\\test_vds\\\n",
      "   from C:\\Users\\31653\\anaconda3\\Lib\\site-packages\\h5py\\tests\\~est_vds\n",
      "  Moving to c:\\users\\31653\\anaconda3\\lib\\site-packages\\h5py\\utils.cp38-win_amd64.pyd\n",
      "   from C:\\Users\\31653\\AppData\\Local\\Temp\\pip-uninstall-i41tbfnu\\utils.cp38-win_amd64.pyd\n",
      "  Moving to c:\\users\\31653\\anaconda3\\lib\\site-packages\\h5py\\version.py\n",
      "   from C:\\Users\\31653\\AppData\\Local\\Temp\\pip-uninstall-i41tbfnu\\version.py\n"
     ]
    }
   ],
   "source": [
    "!pip install openl3"
   ]
  },
  {
   "cell_type": "code",
   "execution_count": 7,
   "metadata": {},
   "outputs": [
    {
     "name": "stdout",
     "output_type": "stream",
     "text": [
      "['11k16bitpcm.wav', 'claxon_1m.wav', 'claxon_close.wav', 'claxon_freesound.wav', 'claxon_iphone.wav', 'claxon_michiel.wav', 'example.wav', 'file.wav', 'loudness.wav', 'miaow_16k.wav', 'my-audio.wav', 'my_test.wav', 'my_wav.wav', 'noise_add.wav', 'out.wav', 'output.wav', 'robot0.wav', 'robot1.wav', 'robot2.wav', 'robot3.wav', 'silence.wav', 'speech_whistling2.wav', 'test.wav', 'test2.wav', 'test3.wav', 'tone_220.wav', 'welcome.wav']\n"
     ]
    }
   ],
   "source": [
    "import glob\n",
    "wav_files=glob.glob('*.wav')\n",
    "print(wav_files)"
   ]
  },
  {
   "cell_type": "code",
   "execution_count": 2,
   "metadata": {},
   "outputs": [
    {
     "data": {
      "text/plain": [
       "16000"
      ]
     },
     "execution_count": 2,
     "metadata": {},
     "output_type": "execute_result"
    }
   ],
   "source": [
    "import soundfile as sf\n",
    "\n",
    "data, samplerate = sf.read('test3.wav')\n",
    "sf.write('new_file.ogg', data, samplerate)\n",
    "samplerate"
   ]
  },
  {
   "cell_type": "code",
   "execution_count": 6,
   "metadata": {},
   "outputs": [
    {
     "ename": "ImportError",
     "evalue": "`load_weights` requires h5py package when loading weights from HDF5. Try installing h5py.",
     "output_type": "error",
     "traceback": [
      "\u001b[1;31m---------------------------------------------------------------------------\u001b[0m",
      "\u001b[1;31mImportError\u001b[0m                               Traceback (most recent call last)",
      "\u001b[1;32m~\\AppData\\Local\\Temp/ipykernel_29356/3568336342.py\u001b[0m in \u001b[0;36m<module>\u001b[1;34m\u001b[0m\n\u001b[0;32m      3\u001b[0m \u001b[1;33m\u001b[0m\u001b[0m\n\u001b[0;32m      4\u001b[0m \u001b[0maudio\u001b[0m\u001b[1;33m,\u001b[0m \u001b[0msr\u001b[0m \u001b[1;33m=\u001b[0m \u001b[0msf\u001b[0m\u001b[1;33m.\u001b[0m\u001b[0mread\u001b[0m\u001b[1;33m(\u001b[0m\u001b[1;34m'test3.wav'\u001b[0m\u001b[1;33m)\u001b[0m\u001b[1;33m\u001b[0m\u001b[1;33m\u001b[0m\u001b[0m\n\u001b[1;32m----> 5\u001b[1;33m \u001b[0memb\u001b[0m\u001b[1;33m,\u001b[0m \u001b[0mts\u001b[0m \u001b[1;33m=\u001b[0m \u001b[0mopenl3\u001b[0m\u001b[1;33m.\u001b[0m\u001b[0mget_audio_embedding\u001b[0m\u001b[1;33m(\u001b[0m\u001b[0maudio\u001b[0m\u001b[1;33m,\u001b[0m \u001b[0msr\u001b[0m\u001b[1;33m)\u001b[0m\u001b[1;33m\u001b[0m\u001b[1;33m\u001b[0m\u001b[0m\n\u001b[0m",
      "\u001b[1;32m~\\anaconda3\\lib\\site-packages\\openl3\\core.py\u001b[0m in \u001b[0;36mget_audio_embedding\u001b[1;34m(audio, sr, model, input_repr, content_type, embedding_size, center, hop_size, batch_size, frontend, verbose)\u001b[0m\n\u001b[0;32m    260\u001b[0m     \u001b[1;31m# Get embedding model\u001b[0m\u001b[1;33m\u001b[0m\u001b[1;33m\u001b[0m\u001b[1;33m\u001b[0m\u001b[0m\n\u001b[0;32m    261\u001b[0m     \u001b[1;32mif\u001b[0m \u001b[0mmodel\u001b[0m \u001b[1;32mis\u001b[0m \u001b[1;32mNone\u001b[0m\u001b[1;33m:\u001b[0m\u001b[1;33m\u001b[0m\u001b[1;33m\u001b[0m\u001b[0m\n\u001b[1;32m--> 262\u001b[1;33m         model = load_audio_embedding_model(\n\u001b[0m\u001b[0;32m    263\u001b[0m             \u001b[0minput_repr\u001b[0m\u001b[1;33m,\u001b[0m \u001b[0mcontent_type\u001b[0m\u001b[1;33m,\u001b[0m \u001b[0membedding_size\u001b[0m\u001b[1;33m,\u001b[0m\u001b[1;33m\u001b[0m\u001b[1;33m\u001b[0m\u001b[0m\n\u001b[0;32m    264\u001b[0m             frontend=frontend)\n",
      "\u001b[1;32m~\\anaconda3\\lib\\site-packages\\openl3\\models.py\u001b[0m in \u001b[0;36mload_audio_embedding_model\u001b[1;34m(input_repr, content_type, embedding_size, frontend)\u001b[0m\n\u001b[0;32m    137\u001b[0m         \u001b[0mm\u001b[0m \u001b[1;33m=\u001b[0m \u001b[0mAUDIO_MODELS\u001b[0m\u001b[1;33m[\u001b[0m\u001b[0minput_repr\u001b[0m\u001b[1;33m]\u001b[0m\u001b[1;33m(\u001b[0m\u001b[0minclude_frontend\u001b[0m\u001b[1;33m=\u001b[0m\u001b[0mfrontend\u001b[0m \u001b[1;33m==\u001b[0m \u001b[1;34m'kapre'\u001b[0m\u001b[1;33m)\u001b[0m\u001b[1;33m\u001b[0m\u001b[1;33m\u001b[0m\u001b[0m\n\u001b[0;32m    138\u001b[0m \u001b[1;33m\u001b[0m\u001b[0m\n\u001b[1;32m--> 139\u001b[1;33m     \u001b[0mm\u001b[0m\u001b[1;33m.\u001b[0m\u001b[0mload_weights\u001b[0m\u001b[1;33m(\u001b[0m\u001b[0mget_audio_embedding_model_path\u001b[0m\u001b[1;33m(\u001b[0m\u001b[0minput_repr\u001b[0m\u001b[1;33m,\u001b[0m \u001b[0mcontent_type\u001b[0m\u001b[1;33m)\u001b[0m\u001b[1;33m)\u001b[0m\u001b[1;33m\u001b[0m\u001b[1;33m\u001b[0m\u001b[0m\n\u001b[0m\u001b[0;32m    140\u001b[0m \u001b[1;33m\u001b[0m\u001b[0m\n\u001b[0;32m    141\u001b[0m     \u001b[1;31m# Pooling for final output embedding size\u001b[0m\u001b[1;33m\u001b[0m\u001b[1;33m\u001b[0m\u001b[1;33m\u001b[0m\u001b[0m\n",
      "\u001b[1;32m~\\anaconda3\\lib\\site-packages\\keras\\utils\\traceback_utils.py\u001b[0m in \u001b[0;36merror_handler\u001b[1;34m(*args, **kwargs)\u001b[0m\n\u001b[0;32m     65\u001b[0m     \u001b[1;32mexcept\u001b[0m \u001b[0mException\u001b[0m \u001b[1;32mas\u001b[0m \u001b[0me\u001b[0m\u001b[1;33m:\u001b[0m  \u001b[1;31m# pylint: disable=broad-except\u001b[0m\u001b[1;33m\u001b[0m\u001b[1;33m\u001b[0m\u001b[0m\n\u001b[0;32m     66\u001b[0m       \u001b[0mfiltered_tb\u001b[0m \u001b[1;33m=\u001b[0m \u001b[0m_process_traceback_frames\u001b[0m\u001b[1;33m(\u001b[0m\u001b[0me\u001b[0m\u001b[1;33m.\u001b[0m\u001b[0m__traceback__\u001b[0m\u001b[1;33m)\u001b[0m\u001b[1;33m\u001b[0m\u001b[1;33m\u001b[0m\u001b[0m\n\u001b[1;32m---> 67\u001b[1;33m       \u001b[1;32mraise\u001b[0m \u001b[0me\u001b[0m\u001b[1;33m.\u001b[0m\u001b[0mwith_traceback\u001b[0m\u001b[1;33m(\u001b[0m\u001b[0mfiltered_tb\u001b[0m\u001b[1;33m)\u001b[0m \u001b[1;32mfrom\u001b[0m \u001b[1;32mNone\u001b[0m\u001b[1;33m\u001b[0m\u001b[1;33m\u001b[0m\u001b[0m\n\u001b[0m\u001b[0;32m     68\u001b[0m     \u001b[1;32mfinally\u001b[0m\u001b[1;33m:\u001b[0m\u001b[1;33m\u001b[0m\u001b[1;33m\u001b[0m\u001b[0m\n\u001b[0;32m     69\u001b[0m       \u001b[1;32mdel\u001b[0m \u001b[0mfiltered_tb\u001b[0m\u001b[1;33m\u001b[0m\u001b[1;33m\u001b[0m\u001b[0m\n",
      "\u001b[1;32m~\\anaconda3\\lib\\site-packages\\keras\\engine\\training.py\u001b[0m in \u001b[0;36mload_weights\u001b[1;34m(self, filepath, by_name, skip_mismatch, options)\u001b[0m\n\u001b[0;32m   2587\u001b[0m       \u001b[0mstatus\u001b[0m \u001b[1;33m=\u001b[0m \u001b[1;32mNone\u001b[0m\u001b[1;33m\u001b[0m\u001b[1;33m\u001b[0m\u001b[0m\n\u001b[0;32m   2588\u001b[0m       \u001b[1;32mif\u001b[0m \u001b[0mh5py\u001b[0m \u001b[1;32mis\u001b[0m \u001b[1;32mNone\u001b[0m\u001b[1;33m:\u001b[0m\u001b[1;33m\u001b[0m\u001b[1;33m\u001b[0m\u001b[0m\n\u001b[1;32m-> 2589\u001b[1;33m         raise ImportError(\n\u001b[0m\u001b[0;32m   2590\u001b[0m             \u001b[1;34m'`load_weights` requires h5py package when loading weights from '\u001b[0m\u001b[1;33m\u001b[0m\u001b[1;33m\u001b[0m\u001b[0m\n\u001b[0;32m   2591\u001b[0m             'HDF5. Try installing h5py.')\n",
      "\u001b[1;31mImportError\u001b[0m: `load_weights` requires h5py package when loading weights from HDF5. Try installing h5py."
     ]
    }
   ],
   "source": [
    "import openl3\n",
    "import soundfile as sf\n",
    "\n",
    "audio, sr = sf.read('test3.wav')\n",
    "emb, ts = openl3.get_audio_embedding(audio, sr)"
   ]
  },
  {
   "cell_type": "code",
   "execution_count": null,
   "metadata": {},
   "outputs": [],
   "source": []
  },
  {
   "cell_type": "code",
   "execution_count": null,
   "metadata": {},
   "outputs": [],
   "source": []
  }
 ],
 "metadata": {
  "kernelspec": {
   "display_name": "Python 3 (ipykernel)",
   "language": "python",
   "name": "python3"
  },
  "language_info": {
   "codemirror_mode": {
    "name": "ipython",
    "version": 3
   },
   "file_extension": ".py",
   "mimetype": "text/x-python",
   "name": "python",
   "nbconvert_exporter": "python",
   "pygments_lexer": "ipython3",
   "version": "3.8.5"
  }
 },
 "nbformat": 4,
 "nbformat_minor": 4
}
