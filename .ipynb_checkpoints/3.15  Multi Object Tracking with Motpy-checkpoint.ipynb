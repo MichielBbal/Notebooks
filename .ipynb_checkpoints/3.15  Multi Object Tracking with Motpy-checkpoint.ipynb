{
 "cells": [
  {
   "cell_type": "markdown",
   "metadata": {},
   "source": [
    "# Motpy - Multi Object Tracking python library\n",
    "\n",
    "source: https://github.com/wmuron/motpy"
   ]
  },
  {
   "cell_type": "code",
   "execution_count": 1,
   "metadata": {},
   "outputs": [
    {
     "name": "stdout",
     "output_type": "stream",
     "text": [
      "Collecting motpy\n",
      "  Downloading motpy-0.0.9-py3-none-any.whl (13 kB)\n",
      "Requirement already satisfied: scipy in c:\\users\\31653\\anaconda3\\lib\\site-packages (from motpy) (1.5.2)\n",
      "Collecting filterpy\n",
      "  Downloading filterpy-1.4.5.zip (177 kB)\n",
      "Requirement already satisfied: numpy in c:\\users\\31653\\anaconda3\\lib\\site-packages (from motpy) (1.19.2)\n",
      "Requirement already satisfied: matplotlib in c:\\users\\31653\\anaconda3\\lib\\site-packages (from filterpy->motpy) (3.3.2)\n",
      "Requirement already satisfied: cycler>=0.10 in c:\\users\\31653\\anaconda3\\lib\\site-packages (from matplotlib->filterpy->motpy) (0.10.0)\n",
      "Requirement already satisfied: python-dateutil>=2.1 in c:\\users\\31653\\anaconda3\\lib\\site-packages (from matplotlib->filterpy->motpy) (2.8.1)\n",
      "Requirement already satisfied: pyparsing!=2.0.4,!=2.1.2,!=2.1.6,>=2.0.3 in c:\\users\\31653\\anaconda3\\lib\\site-packages (from matplotlib->filterpy->motpy) (2.4.7)\n",
      "Requirement already satisfied: pillow>=6.2.0 in c:\\users\\31653\\anaconda3\\lib\\site-packages (from matplotlib->filterpy->motpy) (8.0.1)\n",
      "Requirement already satisfied: certifi>=2020.06.20 in c:\\users\\31653\\anaconda3\\lib\\site-packages (from matplotlib->filterpy->motpy) (2020.6.20)\n",
      "Requirement already satisfied: kiwisolver>=1.0.1 in c:\\users\\31653\\anaconda3\\lib\\site-packages (from matplotlib->filterpy->motpy) (1.3.0)\n",
      "Requirement already satisfied: six in c:\\users\\31653\\anaconda3\\lib\\site-packages (from cycler>=0.10->matplotlib->filterpy->motpy) (1.15.0)\n",
      "Building wheels for collected packages: filterpy\n",
      "  Building wheel for filterpy (setup.py): started\n",
      "  Building wheel for filterpy (setup.py): finished with status 'done'\n",
      "  Created wheel for filterpy: filename=filterpy-1.4.5-py3-none-any.whl size=110455 sha256=dcefbd7b04deec73826e6b75378ca4befb98d5b47e9b972337b7703c7afb4cbb\n",
      "  Stored in directory: c:\\users\\31653\\appdata\\local\\pip\\cache\\wheels\\fe\\f6\\cb\\40331472edf4fd399b8cad02973c6acbdf26898342928327fe\n",
      "Successfully built filterpy\n",
      "Installing collected packages: filterpy, motpy\n",
      "Successfully installed filterpy-1.4.5 motpy-0.0.9\n",
      "Note: you may need to restart the kernel to use updated packages.\n"
     ]
    }
   ],
   "source": [
    "pip install motpy"
   ]
  },
  {
   "cell_type": "code",
   "execution_count": 2,
   "metadata": {},
   "outputs": [
    {
     "name": "stdout",
     "output_type": "stream",
     "text": [
      "MOT tracker tracks 1 objects\n",
      "first track box: [ 2.  2. 11. 11.]\n",
      "MOT tracker tracks 1 objects\n",
      "first track box: [ 2.99900273  2.99900273 11.99900273 11.99900273]\n",
      "MOT tracker tracks 1 objects\n",
      "first track box: [ 3.73251871  3.73251871 12.73251871 12.73251871]\n",
      "MOT tracker tracks 1 objects\n",
      "first track box: [ 4.77663743  4.77663743 13.77663743 13.77663743]\n",
      "MOT tracker tracks 1 objects\n",
      "first track box: [ 5.84521822  5.84521822 14.84521822 14.84521822]\n",
      "MOT tracker tracks 1 objects\n",
      "first track box: [ 6.89121484  6.89121484 15.89121484 15.89121484]\n",
      "MOT tracker tracks 1 objects\n",
      "first track box: [ 7.92048207  7.92048207 16.92048207 16.92048207]\n",
      "MOT tracker tracks 1 objects\n",
      "first track box: [ 8.93970017  8.93970017 17.93970017 17.93970017]\n",
      "MOT tracker tracks 1 objects\n",
      "first track box: [ 9.95285835  9.95285835 18.95285835 18.95285835]\n",
      "MOT tracker tracks 1 objects\n",
      "first track box: [10.96222336 10.96222336 19.96222336 19.96222336]\n"
     ]
    }
   ],
   "source": [
    "import numpy as np\n",
    "\n",
    "from motpy import Detection, MultiObjectTracker\n",
    "\n",
    "# create a simple bounding box with format of [xmin, ymin, xmax, ymax]\n",
    "object_box = np.array([1, 1, 10, 10])\n",
    "\n",
    "# create a multi object tracker with a specified step time of 100ms\n",
    "tracker = MultiObjectTracker(dt=0.1)\n",
    "\n",
    "for step in range(10):\n",
    "    # let's simulate object movement by 1 unit (e.g. pixel)\n",
    "    object_box += 1\n",
    "\n",
    "    # update the state of the multi-object-tracker tracker\n",
    "    # with the list of bounding boxes\n",
    "    tracker.step(detections=[Detection(box=object_box)])\n",
    "\n",
    "    # retrieve the active tracks from the tracker (you can customize\n",
    "    # the hyperparameters of tracks filtering by passing extra arguments)\n",
    "    tracks = tracker.active_tracks()\n",
    "\n",
    "    print('MOT tracker tracks %d objects' % len(tracks))\n",
    "    print('first track box: %s' % str(tracks[0].box))"
   ]
  },
  {
   "cell_type": "code",
   "execution_count": null,
   "metadata": {},
   "outputs": [],
   "source": []
  }
 ],
 "metadata": {
  "kernelspec": {
   "display_name": "Python 3 (ipykernel)",
   "language": "python",
   "name": "python3"
  },
  "language_info": {
   "codemirror_mode": {
    "name": "ipython",
    "version": 3
   },
   "file_extension": ".py",
   "mimetype": "text/x-python",
   "name": "python",
   "nbconvert_exporter": "python",
   "pygments_lexer": "ipython3",
   "version": "3.9.12"
  }
 },
 "nbformat": 4,
 "nbformat_minor": 4
}
