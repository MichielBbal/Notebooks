{
 "cells": [
  {
   "cell_type": "markdown",
   "metadata": {},
   "source": [
    "# Python Functions\n",
    "\n",
    "This is my notebook on Functions in Python\n",
    "\n",
    "### Contents:\n",
    "\n",
    "0. Install packages\n",
    "1. Functions\n",
    "2. Functions with args and kwargs\n",
    "3. Functions with if, elif and else\n",
    "4. Lambda functions\n",
    "5. Map function\n",
    "6. Exception handling\n",
    "7. A function as an argument to the function\n",
    "8. Inner functions: a function in another function¶"
   ]
  },
  {
   "cell_type": "markdown",
   "metadata": {},
   "source": [
    "## 0. Install packages"
   ]
  },
  {
   "cell_type": "code",
   "execution_count": 6,
   "metadata": {},
   "outputs": [],
   "source": [
    "# no packages to install"
   ]
  },
  {
   "cell_type": "markdown",
   "metadata": {},
   "source": [
    "## 1. Functions "
   ]
  },
  {
   "cell_type": "code",
   "execution_count": 2,
   "metadata": {},
   "outputs": [
    {
     "data": {
      "text/plain": [
       "'ping!'"
      ]
     },
     "execution_count": 2,
     "metadata": {},
     "output_type": "execute_result"
    }
   ],
   "source": [
    "#simplest function \n",
    "def ping():  \n",
    "    return 'ping!'\n",
    "ping() #call the function and returns a string"
   ]
  },
  {
   "cell_type": "code",
   "execution_count": 4,
   "metadata": {},
   "outputs": [
    {
     "data": {
      "text/plain": [
       "49"
      ]
     },
     "execution_count": 4,
     "metadata": {},
     "output_type": "execute_result"
    }
   ],
   "source": [
    "# a simple function\n",
    "def square(number):\n",
    "    \"\"\"Calculate the square\"\"\" # Style Guide for Python code says that you should put a docstring here\n",
    "    return number ** 2\n",
    "square(7)"
   ]
  },
  {
   "cell_type": "code",
   "execution_count": 5,
   "metadata": {},
   "outputs": [
    {
     "name": "stdout",
     "output_type": "stream",
     "text": [
      "The square of 7 is 49\n"
     ]
    }
   ],
   "source": [
    "# you can also embed the function call\n",
    "print('The square of 7 is', square(7))"
   ]
  },
  {
   "cell_type": "code",
   "execution_count": 6,
   "metadata": {},
   "outputs": [],
   "source": [
    "#inspect the docstring by calling IPython's help function\n",
    "square?"
   ]
  },
  {
   "cell_type": "code",
   "execution_count": 7,
   "metadata": {},
   "outputs": [],
   "source": [
    "#inspect the function by calling IPython's help function\n",
    "square??"
   ]
  },
  {
   "cell_type": "code",
   "execution_count": 8,
   "metadata": {},
   "outputs": [
    {
     "data": {
      "text/plain": [
       "5"
      ]
     },
     "execution_count": 8,
     "metadata": {},
     "output_type": "execute_result"
    }
   ],
   "source": [
    "# A function that takes two arguments\n",
    "def f(x,y):\n",
    "   return(x+y)\n",
    "\n",
    "f(2,3) # calling the function"
   ]
  },
  {
   "cell_type": "markdown",
   "metadata": {},
   "source": [
    "### Pass by reference\n",
    "Python always uses 'pass-by-reference' programming style. The function can access the argument's value."
   ]
  },
  {
   "cell_type": "code",
   "execution_count": 14,
   "metadata": {},
   "outputs": [
    {
     "data": {
      "text/plain": [
       "140712713005024"
      ]
     },
     "execution_count": 14,
     "metadata": {},
     "output_type": "execute_result"
    }
   ],
   "source": [
    "x=7\n",
    "id(x)"
   ]
  },
  {
   "cell_type": "code",
   "execution_count": 15,
   "metadata": {},
   "outputs": [
    {
     "data": {
      "text/plain": [
       "140712713005056"
      ]
     },
     "execution_count": 15,
     "metadata": {},
     "output_type": "execute_result"
    }
   ],
   "source": [
    "x=8\n",
    "id(x)"
   ]
  },
  {
   "cell_type": "code",
   "execution_count": 19,
   "metadata": {},
   "outputs": [
    {
     "data": {
      "text/plain": [
       "152.4"
      ]
     },
     "execution_count": 19,
     "metadata": {},
     "output_type": "execute_result"
    }
   ],
   "source": [
    "# several function that do some math\n",
    "import math\n",
    "def volume(r):\n",
    "    \"\"\"Return volume of a sphere \"\"\"\n",
    "    v= (4.0/3.0) * math.pi * r**3\n",
    "    return v\n",
    "volume(20)\n",
    "\n",
    "def triangle_area(b, h):\n",
    "    \"\"\"area of a triangle\"\"\"\n",
    "    return 0.5 * b* h\n",
    "triangle_area(3,6)\n",
    "\n",
    "def cm(feet = 0, inches=0): # keyword of default arguments = 0 ; required argument geen =) requirement args eerst\n",
    "    '''feet / inches to cm'''\n",
    "    inches_to_cm  = inches * 2.54\n",
    "    feet_to_cm = feet * 12 * 2.54\n",
    "    return inches_to_cm + feet_to_cm\n",
    "\n",
    "cm(feet = 5)"
   ]
  },
  {
   "cell_type": "markdown",
   "metadata": {},
   "source": [
    "## 2. Functions with *args\n",
    "\n",
    "You can use an 'arbitrary argument list' when you want to use any number of arguments by using (*args).\n"
   ]
  },
  {
   "cell_type": "code",
   "execution_count": 17,
   "metadata": {},
   "outputs": [
    {
     "data": {
      "text/plain": [
       "75"
      ]
     },
     "execution_count": 17,
     "metadata": {},
     "output_type": "execute_result"
    }
   ],
   "source": [
    "def average(*args): #with * you can give any number of arguments\n",
    "    return sum(*args)\n",
    "\n",
    "my_list = [5,10,15,20,25]\n",
    "\n",
    "average(my_list)"
   ]
  },
  {
   "cell_type": "code",
   "execution_count": 19,
   "metadata": {},
   "outputs": [
    {
     "data": {
      "text/plain": [
       "397"
      ]
     },
     "execution_count": 19,
     "metadata": {},
     "output_type": "execute_result"
    }
   ],
   "source": [
    "# You can unpack a list by passing it with an * in the function\n",
    "grades = [88,75,96,55,83]\n",
    "average(grades)"
   ]
  },
  {
   "cell_type": "code",
   "execution_count": 5,
   "metadata": {},
   "outputs": [
    {
     "name": "stdout",
     "output_type": "stream",
     "text": [
      "apple\n",
      "banana\n",
      "cherry\n",
      "druif\n",
      "(0, 1)\n",
      "(2, 3)\n",
      "(4, 5)\n"
     ]
    }
   ],
   "source": [
    "#source: https://www.w3schools.com/python/python_functions.asp\n",
    "# passing a list and a tuple as an argument in a function\n",
    "def my_function(food):\n",
    "  for x in food:\n",
    "    print(x)\n",
    "\n",
    "fruits = [\"apple\", \"banana\", \"cherry\", \"druif\"] #list\n",
    "tuples = ((0,1),(2,3),(4,5)) # tuple\n",
    "\n",
    "my_function(fruits)\n",
    "my_function(tuples)"
   ]
  },
  {
   "cell_type": "code",
   "execution_count": null,
   "metadata": {},
   "outputs": [],
   "source": [
    "# an example of the built in method 'upper' with argument loud. \n",
    "def hello(name, loud=False):\n",
    "    if loud:\n",
    "        print('HELLO, %s!' % name.upper()) #.upper is a built in function in Python \n",
    "    else:\n",
    "        print('Hello, %s' % name)\n",
    "\n",
    "#call the functions\n",
    "hello('Bob') # Prints \"Hello, Bob\"\n",
    "hello('Fred', loud=True)  # Prints \"HELLO, FRED!\""
   ]
  },
  {
   "cell_type": "markdown",
   "metadata": {},
   "source": [
    "## 3. Functions with if, elif and else"
   ]
  },
  {
   "cell_type": "code",
   "execution_count": 11,
   "metadata": {},
   "outputs": [
    {
     "name": "stdout",
     "output_type": "stream",
     "text": [
      "negative\n",
      "zero\n",
      "positive\n"
     ]
    }
   ],
   "source": [
    "#An example of a function with if, elif, else statements\n",
    "def sign(x):\n",
    "    if x > 0:\n",
    "        return 'positive'\n",
    "    elif x < 0:\n",
    "        return 'negative'\n",
    "    else:\n",
    "        return 'zero'\n",
    "\n",
    "for x in [-1, 0, 1]:\n",
    "    print(sign(x))\n",
    "# Prints \"negative\", \"zero\", \"positive\""
   ]
  },
  {
   "cell_type": "code",
   "execution_count": 5,
   "metadata": {},
   "outputs": [
    {
     "name": "stdout",
     "output_type": "stream",
     "text": [
      "1 : 1\n",
      "2 : 1\n",
      "3 : 2\n",
      "4 : 3\n",
      "5 : 5\n",
      "6 : 8\n",
      "7 : 13\n",
      "8 : 21\n",
      "9 : 34\n"
     ]
    }
   ],
   "source": [
    "#Fibonacci sequence\n",
    "# 1,1,2,3,5,8,13,21\n",
    "# use memoization with lru_cache om de laatste waarde te onthouden\n",
    "#from functools import lru_cache \n",
    "#@lru_cache(maxsize = 1000)\n",
    "\n",
    "def fibonacci(n):\n",
    "    if n == 1:\n",
    "        return 1\n",
    "    elif n == 2:\n",
    "        return 1\n",
    "    elif n > 2:\n",
    "        return fibonacci(n-1) + fibonacci (n-2)\n",
    "\n",
    "for n in range(1,10):\n",
    "    print(n, \":\", fibonacci(n))"
   ]
  },
  {
   "cell_type": "code",
   "execution_count": null,
   "metadata": {},
   "outputs": [],
   "source": [
    "# Fibonacci met memoization in de functie opgenomen\n",
    "fibonacci_cache = {}\n",
    "def fibonacci(n):\n",
    "    if n in fibonacci_cache:\n",
    "        return fibonacci_cache[n]\n",
    "    \n",
    "    #compute the Nth term\n",
    "    if n ==1:\n",
    "        value = 1\n",
    "    elif n == 2:\n",
    "        value = 1\n",
    "    elif n > 2:\n",
    "        value = fibonacci(n-1)+ fibonacci(n-2)\n",
    "    \n",
    "    fibonacci_cache[n] = value\n",
    "    return value\n",
    "\n",
    "for n in range (1,10):\n",
    "    print(n,\":\", fibonacci(n))"
   ]
  },
  {
   "cell_type": "code",
   "execution_count": 1,
   "metadata": {},
   "outputs": [
    {
     "name": "stdout",
     "output_type": "stream",
     "text": [
      "0 1 1 2 3 5 8 13 21 34 55 89 144 233 377 610 987 1597 \n"
     ]
    }
   ],
   "source": [
    "def fib(n):    # write Fibonacci series up to n\n",
    "     \"\"\"Print a Fibonacci series up to n.\"\"\"\n",
    "     a, b = 0, 1\n",
    "     while a < n:\n",
    "         print(a, end=' ')\n",
    "         a, b = b, a+b\n",
    "     print()\n",
    "\n",
    "fib(2000)"
   ]
  },
  {
   "cell_type": "markdown",
   "metadata": {},
   "source": [
    "## 4. Lambda functions & list comprehensions\n",
    "\n",
    "Lambda functions are also called anonymous functions or lambda expressions. It is not bound to an identifier. If the function is only once used, it may be used. Could be very confusing. It's derived from lambda calculus.\n",
    "\n",
    "It's quite often used in sorting (see examples below)\n",
    "\n",
    "source: https://www.youtube.com/watch?v=25ovCm9jKfA&list=PLi01XoE8jYohWFPpC17Z-wWhPOSuh8Er-&index=26"
   ]
  },
  {
   "cell_type": "code",
   "execution_count": 10,
   "metadata": {},
   "outputs": [
    {
     "data": {
      "text/plain": [
       "3"
      ]
     },
     "execution_count": 10,
     "metadata": {},
     "output_type": "execute_result"
    }
   ],
   "source": [
    "#simple lambda function\n",
    "my_function = lambda a,b,c : a+b\n",
    "my_function(1,2,3)"
   ]
  },
  {
   "cell_type": "code",
   "execution_count": 2,
   "metadata": {},
   "outputs": [
    {
     "name": "stdout",
     "output_type": "stream",
     "text": [
      "[0, 2, 4, 6, 8, 10, 12, 14, 16, 18, 20, 22, 24, 26, 28, 30, 32, 34, 36, 38, 40, 42, 44, 46, 48, 50, 52, 54, 56, 58, 60, 62, 64, 66, 68, 70, 72, 74, 76, 78, 80, 82, 84, 86, 88, 90, 92, 94, 96, 98]\n"
     ]
    }
   ],
   "source": [
    "#traditional function\n",
    "my_list = []\n",
    "for number in range(0,100):\n",
    "    if number %2 ==0:\n",
    "        my_list.append(number)\n",
    "print(my_list)       "
   ]
  },
  {
   "cell_type": "code",
   "execution_count": 3,
   "metadata": {},
   "outputs": [
    {
     "name": "stdout",
     "output_type": "stream",
     "text": [
      "[0, 2, 4, 6, 8, 10, 12, 14, 16, 18, 20, 22, 24, 26, 28, 30, 32, 34, 36, 38, 40, 42, 44, 46, 48, 50, 52, 54, 56, 58, 60, 62, 64, 66, 68, 70, 72, 74, 76, 78, 80, 82, 84, 86, 88, 90, 92, 94, 96, 98]\n"
     ]
    }
   ],
   "source": [
    "# list comprehension\n",
    "my_list = [number for number in range(0,100) if number %2 == 0]\n",
    "print(my_list)"
   ]
  },
  {
   "cell_type": "code",
   "execution_count": 4,
   "metadata": {},
   "outputs": [
    {
     "data": {
      "text/plain": [
       "7"
      ]
     },
     "execution_count": 4,
     "metadata": {},
     "output_type": "execute_result"
    }
   ],
   "source": [
    "# traditional function\n",
    "def f(x):\n",
    "    return 3*x+1\n",
    "f(2)\n",
    "# lambda function\n",
    "g = lambda x: 3*x+1 \n",
    "g(2)"
   ]
  },
  {
   "cell_type": "code",
   "execution_count": 511,
   "metadata": {},
   "outputs": [
    {
     "data": {
      "text/plain": [
       "['Douglas Adams',\n",
       " 'Isaac Asimov',\n",
       " 'Ray Bradbury',\n",
       " 'Arthur C. Clarke',\n",
       " 'Robert Heinlein',\n",
       " 'Frank Herbert']"
      ]
     },
     "execution_count": 511,
     "metadata": {},
     "output_type": "execute_result"
    }
   ],
   "source": [
    "#2 examples of lambda functions\n",
    "full_name = lambda fn, ln: fn.strip().title() + \" \"+ln.strip().title()\n",
    "full_name(\"   leonhard\", 'EULER')\n",
    "\n",
    "scifi_authors = [\"Isaac Asimov\", \"Ray Bradbury\", \"Robert Heinlein\", \"Arthur C. Clarke\", \"Frank Herbert\",\n",
    "                 \"Douglas Adams\"]\n",
    "scifi_authors.sort(key=lambda name: name.split(\" \")[-1].lower())\n",
    "scifi_authors"
   ]
  },
  {
   "cell_type": "code",
   "execution_count": 525,
   "metadata": {},
   "outputs": [
    {
     "name": "stdout",
     "output_type": "stream",
     "text": [
      "['car', 'bike', 'house']\n",
      "[1, 4, 9, 16, 25, 36]\n",
      "[1, 4, 9, 16, 25, 36]\n"
     ]
    }
   ],
   "source": [
    "# 1. A lambda function to sort a list\n",
    "a = ['house', 'car', 'bike']\n",
    "a.sort(key=lambda x: len(x)) #it uses sort and then lambda with len(gth). You can add reverse=True. \n",
    "print(a)\n",
    "# 2. A lambda function map to call each item on a list. \n",
    "b = [1, 2, 3, 4, 5, 6]\n",
    "print(list(map(lambda x: x*x, b))) #this is with a lambda function but still too complicated for python\n",
    "print([x*x for x in b])"
   ]
  },
  {
   "cell_type": "code",
   "execution_count": 4,
   "metadata": {},
   "outputs": [
    {
     "data": {
      "text/plain": [
       "'afsd'"
      ]
     },
     "execution_count": 4,
     "metadata": {},
     "output_type": "execute_result"
    }
   ],
   "source": [
    "# use lambda to sort a list of list\n",
    "# source:https://stackoverflow.com/questions/4174941/how-to-sort-a-list-of-lists-by-a-specific-index-of-the-inner-list\n",
    "l = [[0, 1, 'f'], [4, 2, 't'], [9, 4, 'afsd']]\n",
    "l.sort(key=lambda x: x[2])\n",
    "# and return the \n",
    "result = l[0]\n",
    "result[2]"
   ]
  },
  {
   "cell_type": "markdown",
   "metadata": {},
   "source": [
    "## 5. Map function\n",
    "\n",
    "The map() function executes a specified function for each item in a iterable. The item is sent to the function as a parameter. This is a built-in function"
   ]
  },
  {
   "cell_type": "code",
   "execution_count": 60,
   "metadata": {},
   "outputs": [
    {
     "name": "stdout",
     "output_type": "stream",
     "text": [
      "<map object at 0x00000206377916C8>\n",
      "[5, 6, 6]\n"
     ]
    }
   ],
   "source": [
    "def myfunc(n):\n",
    "  return len(n)\n",
    "\n",
    "x= map(myfunc, ('apple', 'banana', 'cherry')) # this create a map. Map have to be converted to a list\n",
    "print(x)\n",
    "type(x)\n",
    "print(list(x))"
   ]
  },
  {
   "cell_type": "code",
   "execution_count": 62,
   "metadata": {},
   "outputs": [
    {
     "name": "stdout",
     "output_type": "stream",
     "text": [
      "['appleorange', 'bananalemon', 'cherrypineapple']\n"
     ]
    }
   ],
   "source": [
    "# script to combine two lists\n",
    "def myfunc(a, b):\n",
    "  return a + b\n",
    "\n",
    "x = map(myfunc, ('apple', 'banana', 'cherry'), ('orange', 'lemon', 'pineapple'))\n",
    "\n",
    "#convert the map into a list, for readability:\n",
    "print(list(x))"
   ]
  },
  {
   "cell_type": "markdown",
   "metadata": {},
   "source": [
    "## 6. Exception handling with try/except\n"
   ]
  },
  {
   "cell_type": "code",
   "execution_count": 20,
   "metadata": {},
   "outputs": [
    {
     "name": "stdout",
     "output_type": "stream",
     "text": [
      "An exception occurred\n"
     ]
    }
   ],
   "source": [
    "#source: https://www.w3schools.com/python/python_try_except.asp\n",
    "# as x is not defined, the 'try' will not work and an exception will be raised.\n",
    "try:\n",
    "  print(x)\n",
    "except:\n",
    "  print(\"An exception occurred\")"
   ]
  },
  {
   "cell_type": "code",
   "execution_count": 21,
   "metadata": {},
   "outputs": [
    {
     "ename": "NameError",
     "evalue": "name 'x' is not defined",
     "output_type": "error",
     "traceback": [
      "\u001b[1;31m---------------------------------------------------------------------------\u001b[0m",
      "\u001b[1;31mNameError\u001b[0m                                 Traceback (most recent call last)",
      "\u001b[1;32m~\\AppData\\Local\\Temp/ipykernel_15212/4119425709.py\u001b[0m in \u001b[0;36m<module>\u001b[1;34m\u001b[0m\n\u001b[0;32m      1\u001b[0m \u001b[1;31m#try for yourself\u001b[0m\u001b[1;33m\u001b[0m\u001b[1;33m\u001b[0m\u001b[1;33m\u001b[0m\u001b[0m\n\u001b[1;32m----> 2\u001b[1;33m \u001b[0mprint\u001b[0m\u001b[1;33m(\u001b[0m\u001b[0mx\u001b[0m\u001b[1;33m)\u001b[0m\u001b[1;33m\u001b[0m\u001b[1;33m\u001b[0m\u001b[0m\n\u001b[0m",
      "\u001b[1;31mNameError\u001b[0m: name 'x' is not defined"
     ]
    }
   ],
   "source": [
    "#try for yourself\n",
    "print(x)"
   ]
  },
  {
   "cell_type": "code",
   "execution_count": 22,
   "metadata": {},
   "outputs": [
    {
     "name": "stdout",
     "output_type": "stream",
     "text": [
      "Something went wrong\n",
      "The 'try except' is finished\n"
     ]
    }
   ],
   "source": [
    "try:\n",
    "  print(x)\n",
    "except:\n",
    "  print(\"Something went wrong\")\n",
    "finally:\n",
    "  print(\"The 'try except' is finished\")"
   ]
  },
  {
   "cell_type": "code",
   "execution_count": 2,
   "metadata": {},
   "outputs": [
    {
     "name": "stdout",
     "output_type": "stream",
     "text": [
      "1\n",
      "2\n",
      "3\n",
      "4\n",
      "5\n"
     ]
    }
   ],
   "source": [
    "def do_stuff_with_number(n):\n",
    "    print(n)\n",
    "\n",
    "def catch_this():\n",
    "    the_list = (1, 2, 3, 4, 5)\n",
    "\n",
    "    for i in range(20):\n",
    "        try:\n",
    "            do_stuff_with_number(the_list[i])\n",
    "        except IndexError: # Raised when accessing a non-existing index of a list\n",
    "            #do_stuff_with_number(0)\n",
    "            pass\n",
    "catch_this()"
   ]
  },
  {
   "cell_type": "markdown",
   "metadata": {},
   "source": [
    "## 7. A function as an argument to the function\n",
    "In Python, functions are first-class objects. This means that functions can be passed around and used as arguments,"
   ]
  },
  {
   "cell_type": "code",
   "execution_count": 6,
   "metadata": {},
   "outputs": [
    {
     "data": {
      "text/plain": [
       "'Hello Bob'"
      ]
     },
     "execution_count": 6,
     "metadata": {},
     "output_type": "execute_result"
    }
   ],
   "source": [
    "def say_hello(name):\n",
    "    return print(f\"Hello {name}\")\n",
    "\n",
    "def greet_bob(greeter_func):\n",
    "    return print(greeter_func(\"Bob\"))\n",
    "\n",
    "greet_bob(say_hello)"
   ]
  },
  {
   "cell_type": "markdown",
   "metadata": {},
   "source": [
    "## 8. Inner functions: a function in another function"
   ]
  },
  {
   "cell_type": "code",
   "execution_count": 28,
   "metadata": {},
   "outputs": [
    {
     "name": "stdout",
     "output_type": "stream",
     "text": [
      "Printing from the parent() function\n",
      "Printing from the second_child() function\n",
      "Printing from the first_child() function\n"
     ]
    }
   ],
   "source": [
    "def parent():\n",
    "    print(\"Printing from the parent() function\")\n",
    "    def first_child():\n",
    "        print(\"Printing from the first_child() function\")\n",
    "    def second_child():\n",
    "        print(\"Printing from the second_child() function\")\n",
    "    second_child()\n",
    "    first_child()\n",
    "parent()"
   ]
  },
  {
   "cell_type": "code",
   "execution_count": 40,
   "metadata": {},
   "outputs": [
    {
     "name": "stdout",
     "output_type": "stream",
     "text": [
      "Hello\n",
      "Hello\n"
     ]
    }
   ],
   "source": [
    "def first(msg):\n",
    "    print(msg)\n",
    "\n",
    "first(\"Hello\") # call the function\n",
    "\n",
    "second = first #assigning a variable to it\n",
    "second(\"Hello\") #call it again"
   ]
  }
 ],
 "metadata": {
  "kernelspec": {
   "display_name": "Python 3 (ipykernel)",
   "language": "python",
   "name": "python3"
  },
  "language_info": {
   "codemirror_mode": {
    "name": "ipython",
    "version": 3
   },
   "file_extension": ".py",
   "mimetype": "text/x-python",
   "name": "python",
   "nbconvert_exporter": "python",
   "pygments_lexer": "ipython3",
   "version": "3.9.12"
  }
 },
 "nbformat": 4,
 "nbformat_minor": 2
}
