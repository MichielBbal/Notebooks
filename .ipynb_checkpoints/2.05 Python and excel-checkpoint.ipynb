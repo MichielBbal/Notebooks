{
 "cells": [
  {
   "cell_type": "markdown",
   "id": "593946a4",
   "metadata": {},
   "source": [
    "# 2.12 Python and excel\n",
    "\n",
    "This notebook uses openpyxl as library. For writing/reading data to excel there are other libraries (such as xlsxwriter or pyexcel), but these are not used\n",
    "\n",
    "source: https://realpython.com/openpyxl-excel-spreadsheets-python/ <br>\n",
    "dataset: https://github.com/realpython/materials/blob/master/openpyxl-excel-spreadsheets-python/reviews-sample.xlsx\n",
    "\n",
    "Some conventions:\n",
    "- workbook -> wb\n",
    "- worksheet -> ws"
   ]
  },
  {
   "cell_type": "markdown",
   "id": "5d7340c5",
   "metadata": {},
   "source": [
    "## 0. Install packages"
   ]
  },
  {
   "cell_type": "code",
   "execution_count": 2,
   "id": "478d90d7",
   "metadata": {},
   "outputs": [
    {
     "name": "stdout",
     "output_type": "stream",
     "text": [
      "Requirement already satisfied: openpyxl in c:\\users\\31653\\anaconda3\\lib\\site-packages (3.0.9)\n",
      "Requirement already satisfied: et-xmlfile in c:\\users\\31653\\anaconda3\\lib\\site-packages (from openpyxl) (1.0.1)\n"
     ]
    }
   ],
   "source": [
    "!pip install openpyxl"
   ]
  },
  {
   "cell_type": "markdown",
   "id": "64ea025e",
   "metadata": {},
   "source": [
    "## 1. My first excel"
   ]
  },
  {
   "cell_type": "code",
   "execution_count": 3,
   "id": "20ee5176",
   "metadata": {},
   "outputs": [],
   "source": [
    "from openpyxl import Workbook\n",
    "\n",
    "wb = Workbook()\n",
    "ws = workbook.active\n",
    "\n",
    "ws[\"A1\"] = \"hello\"\n",
    "ws[\"B1\"] = \"world!\"\n",
    "\n",
    "wb.save(filename=\"hello_world.xlsx\")"
   ]
  },
  {
   "cell_type": "code",
   "execution_count": 4,
   "id": "1e61d17f",
   "metadata": {},
   "outputs": [
    {
     "name": "stdout",
     "output_type": "stream",
     "text": [
      "('hello', 'world!')\n"
     ]
    }
   ],
   "source": [
    "#check the result of the writing with the following script\n",
    "def print_rows():\n",
    "    for row in ws.iter_rows(values_only=True):\n",
    "        print(row)\n",
    "print_rows()"
   ]
  },
  {
   "cell_type": "markdown",
   "id": "a86e4937",
   "metadata": {},
   "source": [
    "## 2. Reading data from an existing excelsheet"
   ]
  },
  {
   "cell_type": "code",
   "execution_count": 1,
   "id": "b5b15a7d",
   "metadata": {},
   "outputs": [
    {
     "data": {
      "text/plain": [
       "[\"C:\\\\Users\\\\31653\\\\Desktop\\\\DeAlliantie\\\\DA API Integratiehub\\\\ZIG API's datamodel.xlsx\",\n",
       " \"C:\\\\Users\\\\31653\\\\Desktop\\\\DeAlliantie\\\\DA API Integratiehub\\\\~$ZIG API's datamodel.xlsx\",\n",
       " 'C:\\\\Users\\\\31653\\\\Desktop\\\\DeAlliantie\\\\Datadictionaries\\\\Datadictionary_Financieel.xlsx',\n",
       " 'C:\\\\Users\\\\31653\\\\Desktop\\\\DeAlliantie\\\\Datadictionaries\\\\Datadictionary_Onderhoud.xlsx',\n",
       " 'C:\\\\Users\\\\31653\\\\Desktop\\\\DeAlliantie\\\\Datadictionaries\\\\Datadictionary_Vastgoed.xlsx',\n",
       " 'C:\\\\Users\\\\31653\\\\Desktop\\\\DeAlliantie\\\\VERA\\\\VERA_APIs_data_objecten.xlsx',\n",
       " 'C:\\\\Users\\\\31653\\\\Desktop\\\\DeAlliantie\\\\VERA\\\\VERA_ketenprocessen_data_objecten.xlsx',\n",
       " 'C:\\\\Users\\\\31653\\\\Desktop\\\\DeAlliantie\\\\VERA\\\\~$VERA_APIs_data_objecten.xlsx']"
      ]
     },
     "execution_count": 1,
     "metadata": {},
     "output_type": "execute_result"
    }
   ],
   "source": [
    "import glob\n",
    "my_xlsx = glob.glob(r'C:\\Users\\31653\\Desktop\\DeAlliantie\\**\\*.xlsx')\n",
    "my_xlsx"
   ]
  },
  {
   "cell_type": "code",
   "execution_count": 6,
   "id": "693a3d9e",
   "metadata": {},
   "outputs": [
    {
     "data": {
      "text/plain": [
       "['Sheet1',\n",
       " 'VERA Dossier',\n",
       " 'VERA Financien',\n",
       " 'VERA Kwaliteit',\n",
       " 'VERA Onderhoud',\n",
       " 'VERA Overeenk',\n",
       " 'VERA-Projectontw',\n",
       " 'VERA-Relaties',\n",
       " 'VERA Vastgoed',\n",
       " 'VERA-Woonrui']"
      ]
     },
     "execution_count": 6,
     "metadata": {},
     "output_type": "execute_result"
    }
   ],
   "source": [
    "#source: https://realpython.com/openpyxl-excel-spreadsheets-python/\n",
    "from openpyxl import load_workbook\n",
    "workbook = load_workbook(filename=\"C:\\\\Users\\\\31653\\\\Desktop\\\\DeAlliantie\\\\VERA\\\\VERA_APIs_data_objecten.xlsx\")\n",
    "workbook.sheetnames"
   ]
  },
  {
   "cell_type": "code",
   "execution_count": 9,
   "id": "80fd5c24",
   "metadata": {},
   "outputs": [
    {
     "data": {
      "text/plain": [
       "'VERA-Relaties'"
      ]
     },
     "execution_count": 9,
     "metadata": {},
     "output_type": "execute_result"
    }
   ],
   "source": [
    "#selecting the right sheet\n",
    "sheet = workbook['VERA-Relaties']\n",
    "sheet.title"
   ]
  },
  {
   "cell_type": "code",
   "execution_count": 30,
   "id": "01ebfe00",
   "metadata": {},
   "outputs": [
    {
     "data": {
      "text/plain": [
       "((<Cell 'Sheet'.A1>, <Cell 'Sheet'.B1>),\n",
       " (<Cell 'Sheet'.A2>, <Cell 'Sheet'.B2>))"
      ]
     },
     "execution_count": 30,
     "metadata": {},
     "output_type": "execute_result"
    }
   ],
   "source": [
    "#get all the values from column A1:B2\n",
    "sheet[\"A1:B2\"]"
   ]
  },
  {
   "cell_type": "code",
   "execution_count": 28,
   "id": "c148c5a6",
   "metadata": {},
   "outputs": [
    {
     "name": "stdout",
     "output_type": "stream",
     "text": [
      "['Account', 'Afspraak', 'AfspraakOptie', 'Afspraakverzoek', 'Betaalgegeven', 'Contactgegeven', 'Contactmoment', 'ExtraAttribuut', 'Foutbericht', 'Inkomen', 'NatuurlijkPersoon', 'Opleiding', 'Rechtspersoon', 'Referentiedata', 'Relatie', 'RelatieAdres', 'Relatiegroep', 'Relatierol', 'Signalering', 'Telefoonnummer']\n"
     ]
    }
   ],
   "source": [
    "objects =[]\n",
    "for value in sheet.iter_rows(min_row=2, max_row=21, min_col=1, max_col=1, values_only=True):\n",
    "    #print(value[0])\n",
    "    objects.append(value[0])#value is a tuple so selectonly first item\n",
    "print(objects)    "
   ]
  },
  {
   "cell_type": "code",
   "execution_count": 21,
   "id": "c58985ea",
   "metadata": {},
   "outputs": [
    {
     "data": {
      "text/plain": [
       "tuple"
      ]
     },
     "execution_count": 21,
     "metadata": {},
     "output_type": "execute_result"
    }
   ],
   "source": [
    "type(value)"
   ]
  },
  {
   "cell_type": "markdown",
   "id": "6b69be33",
   "metadata": {},
   "source": [
    "## 3. Writing to a spreadsheet"
   ]
  },
  {
   "cell_type": "code",
   "execution_count": 29,
   "id": "935725fb",
   "metadata": {},
   "outputs": [],
   "source": [
    "#writing one item to a specific cell\n",
    "#source: https://realpython.com/openpyxl-excel-spreadsheets-python/\n",
    "from openpyxl import load_workbook\n",
    "\n",
    "# Start by opening the spreadsheet and selecting the main sheet\n",
    "workbook = load_workbook(filename=\"hello_world.xlsx\")\n",
    "sheet = workbook.active\n",
    "\n",
    "# Write what you want into a specific cell\n",
    "sheet[\"C1\"] = \"writing ;)\"\n",
    "\n",
    "# Save the spreadsheet\n",
    "workbook.save(filename=\"hello_world_append.xlsx\")"
   ]
  },
  {
   "cell_type": "code",
   "execution_count": 29,
   "id": "5603a4b7",
   "metadata": {},
   "outputs": [],
   "source": [
    "#writing to a row of items\n",
    "#source: https://stackoverflow.com/questions/29354868/how-can-openpyxl-write-list-data-in-sheet\n",
    "\n",
    "from openpyxl import load_workbook\n",
    "\n",
    "myList = ['First','Second','Third','Fourth','Fifth']\n",
    "wb = load_workbook('hello_world.xlsx')\n",
    "ws= wb.active\n",
    "ws.append(myList)\n",
    "wb.save(filename=\"hello_world.xlsx\")"
   ]
  },
  {
   "cell_type": "code",
   "execution_count": null,
   "id": "87fa91e3",
   "metadata": {},
   "outputs": [],
   "source": []
  },
  {
   "cell_type": "code",
   "execution_count": 33,
   "id": "0457a27b",
   "metadata": {},
   "outputs": [
    {
     "ename": "TypeError",
     "evalue": "Value must be a list, tuple, range or generator, or a dict. Supplied value is <class 'str'>",
     "output_type": "error",
     "traceback": [
      "\u001b[1;31m---------------------------------------------------------------------------\u001b[0m",
      "\u001b[1;31mTypeError\u001b[0m                                 Traceback (most recent call last)",
      "\u001b[1;32m~\\AppData\\Local\\Temp/ipykernel_42184/3054854762.py\u001b[0m in \u001b[0;36m<module>\u001b[1;34m\u001b[0m\n\u001b[0;32m      8\u001b[0m \u001b[1;32mfor\u001b[0m \u001b[0mi\u001b[0m \u001b[1;32min\u001b[0m \u001b[0mrange\u001b[0m \u001b[1;33m(\u001b[0m\u001b[0mlen\u001b[0m\u001b[1;33m(\u001b[0m\u001b[0mmyList\u001b[0m\u001b[1;33m)\u001b[0m\u001b[1;33m)\u001b[0m\u001b[1;33m:\u001b[0m\u001b[1;33m\u001b[0m\u001b[1;33m\u001b[0m\u001b[0m\n\u001b[0;32m      9\u001b[0m     \u001b[1;31m#print(myList[i])\u001b[0m\u001b[1;33m\u001b[0m\u001b[1;33m\u001b[0m\u001b[1;33m\u001b[0m\u001b[0m\n\u001b[1;32m---> 10\u001b[1;33m     \u001b[0mws\u001b[0m\u001b[1;33m.\u001b[0m\u001b[0mappend\u001b[0m\u001b[1;33m(\u001b[0m\u001b[0mmyList\u001b[0m\u001b[1;33m[\u001b[0m\u001b[0mi\u001b[0m\u001b[1;33m]\u001b[0m\u001b[1;33m)\u001b[0m\u001b[1;33m\u001b[0m\u001b[1;33m\u001b[0m\u001b[0m\n\u001b[0m\u001b[0;32m     11\u001b[0m \u001b[1;33m\u001b[0m\u001b[0m\n\u001b[0;32m     12\u001b[0m \u001b[0mwb\u001b[0m\u001b[1;33m.\u001b[0m\u001b[0msave\u001b[0m\u001b[1;33m(\u001b[0m\u001b[0mfilename\u001b[0m\u001b[1;33m=\u001b[0m\u001b[1;34m\"hello_world.xlsx\"\u001b[0m\u001b[1;33m)\u001b[0m\u001b[1;33m\u001b[0m\u001b[1;33m\u001b[0m\u001b[0m\n",
      "\u001b[1;32m~\\anaconda3\\lib\\site-packages\\openpyxl\\worksheet\\worksheet.py\u001b[0m in \u001b[0;36mappend\u001b[1;34m(self, iterable)\u001b[0m\n\u001b[0;32m    674\u001b[0m \u001b[1;33m\u001b[0m\u001b[0m\n\u001b[0;32m    675\u001b[0m         \u001b[1;32melse\u001b[0m\u001b[1;33m:\u001b[0m\u001b[1;33m\u001b[0m\u001b[1;33m\u001b[0m\u001b[0m\n\u001b[1;32m--> 676\u001b[1;33m             \u001b[0mself\u001b[0m\u001b[1;33m.\u001b[0m\u001b[0m_invalid_row\u001b[0m\u001b[1;33m(\u001b[0m\u001b[0miterable\u001b[0m\u001b[1;33m)\u001b[0m\u001b[1;33m\u001b[0m\u001b[1;33m\u001b[0m\u001b[0m\n\u001b[0m\u001b[0;32m    677\u001b[0m \u001b[1;33m\u001b[0m\u001b[0m\n\u001b[0;32m    678\u001b[0m         \u001b[0mself\u001b[0m\u001b[1;33m.\u001b[0m\u001b[0m_current_row\u001b[0m \u001b[1;33m=\u001b[0m \u001b[0mrow_idx\u001b[0m\u001b[1;33m\u001b[0m\u001b[1;33m\u001b[0m\u001b[0m\n",
      "\u001b[1;32m~\\anaconda3\\lib\\site-packages\\openpyxl\\worksheet\\worksheet.py\u001b[0m in \u001b[0;36m_invalid_row\u001b[1;34m(self, iterable)\u001b[0m\n\u001b[0;32m    810\u001b[0m \u001b[1;33m\u001b[0m\u001b[0m\n\u001b[0;32m    811\u001b[0m     \u001b[1;32mdef\u001b[0m \u001b[0m_invalid_row\u001b[0m\u001b[1;33m(\u001b[0m\u001b[0mself\u001b[0m\u001b[1;33m,\u001b[0m \u001b[0miterable\u001b[0m\u001b[1;33m)\u001b[0m\u001b[1;33m:\u001b[0m\u001b[1;33m\u001b[0m\u001b[1;33m\u001b[0m\u001b[0m\n\u001b[1;32m--> 812\u001b[1;33m         raise TypeError('Value must be a list, tuple, range or generator, or a dict. Supplied value is {0}'.format(\n\u001b[0m\u001b[0;32m    813\u001b[0m             type(iterable))\n\u001b[0;32m    814\u001b[0m                         )\n",
      "\u001b[1;31mTypeError\u001b[0m: Value must be a list, tuple, range or generator, or a dict. Supplied value is <class 'str'>"
     ]
    }
   ],
   "source": [
    "#NOT WORKING TypeError\n",
    "from openpyxl import load_workbook\n",
    "\n",
    "myList = ['First','Second','Third','Fourth','Fifth']\n",
    "wb = load_workbook('hello_world.xlsx')\n",
    "ws= wb.active\n",
    "\n",
    "for i in range (len(myList)):\n",
    "    #print(myList[i])\n",
    "    ws.append(myList[i])\n",
    "    \n",
    "wb.save(filename=\"hello_world.xlsx\")"
   ]
  },
  {
   "cell_type": "code",
   "execution_count": 70,
   "id": "d3361819",
   "metadata": {},
   "outputs": [],
   "source": [
    "#same result as above\n",
    "from openpyxl import load_workbook\n",
    "\n",
    "myList = ['First','Second','Third','Fourth','Fifth']\n",
    "wb = load_workbook('hello_world.xlsx')\n",
    "ws= wb.active\n",
    "\n",
    "for row in ws.iter_cols():\n",
    "    ws.append(myList)\n",
    "    \n",
    "wb.save(filename=\"hello_world.xlsx\")"
   ]
  },
  {
   "cell_type": "code",
   "execution_count": 5,
   "id": "b6953d2b",
   "metadata": {},
   "outputs": [
    {
     "name": "stdout",
     "output_type": "stream",
     "text": [
      "('hello', 'world!')\n"
     ]
    }
   ],
   "source": [
    "print_rows()"
   ]
  },
  {
   "cell_type": "code",
   "execution_count": 17,
   "id": "a4cde2a3",
   "metadata": {},
   "outputs": [],
   "source": [
    "#writing to columns\n",
    "import openpyxl as xl\n",
    "wb = xl.load_workbook('hello_world.xlsx')\n",
    "ws = wb.active\n",
    "\n",
    "my_list = ['een', 'twee', 'drie', 'vier', 'vijf']\n",
    "for i in range(len(my_list)):\n",
    "    ws['A' + str(i+1)] = my_list[i]\n",
    "\n",
    "#for i in range(len(my_list)):\n",
    "#    print(ws['A' + str(i)].value)"
   ]
  },
  {
   "cell_type": "code",
   "execution_count": 18,
   "id": "e4dc67e7",
   "metadata": {},
   "outputs": [
    {
     "name": "stdout",
     "output_type": "stream",
     "text": [
      "('een',)\n",
      "('twee',)\n",
      "('drie',)\n",
      "('vier',)\n",
      "('vijf',)\n"
     ]
    }
   ],
   "source": [
    "print_rows()"
   ]
  },
  {
   "cell_type": "markdown",
   "id": "8f143667",
   "metadata": {},
   "source": [
    "### Insert and remove rows / columns"
   ]
  },
  {
   "cell_type": "code",
   "execution_count": 43,
   "id": "889e0b27",
   "metadata": {},
   "outputs": [
    {
     "name": "stdout",
     "output_type": "stream",
     "text": [
      "('hello', 'world!', None, None, None)\n",
      "(None, None, None, None, None)\n",
      "('First', 'Second', 'Third', 'Fourth', 'Fifth')\n",
      "('First', 'Second', 'Third', 'Fourth', 'Fifth')\n",
      "('First', 'Second', 'Third', 'Fourth', 'Fifth')\n"
     ]
    }
   ],
   "source": [
    "ws.insert_rows(idx=2)\n",
    "wb.save(filename=\"hello_world.xlsx\")\n",
    "print_rows()"
   ]
  },
  {
   "cell_type": "code",
   "execution_count": 69,
   "id": "944bc150",
   "metadata": {},
   "outputs": [
    {
     "name": "stdout",
     "output_type": "stream",
     "text": [
      "('hello', 'world!', None, None, None)\n"
     ]
    }
   ],
   "source": [
    "ws.delete_rows(idx=2) #relatieve relatie\n",
    "wb.save(filename=\"hello_world.xlsx\")\n",
    "print_rows()"
   ]
  },
  {
   "cell_type": "code",
   "execution_count": 82,
   "id": "da7df74e",
   "metadata": {},
   "outputs": [
    {
     "data": {
      "text/plain": [
       "['Sheet']"
      ]
     },
     "execution_count": 82,
     "metadata": {},
     "output_type": "execute_result"
    }
   ],
   "source": [
    "#does not work with one sheet...\n",
    "import openpyxl as xl\n",
    "wb = xl.load_workbook('hello_world.xlsx')\n",
    "wb.sheetnames\n",
    "#wb.remove_sheet('Sheet')"
   ]
  },
  {
   "cell_type": "code",
   "execution_count": 1,
   "id": "4fdff9bb",
   "metadata": {},
   "outputs": [
    {
     "ename": "NameError",
     "evalue": "name 'ws' is not defined",
     "output_type": "error",
     "traceback": [
      "\u001b[1;31m---------------------------------------------------------------------------\u001b[0m",
      "\u001b[1;31mNameError\u001b[0m                                 Traceback (most recent call last)",
      "\u001b[1;32m~\\AppData\\Local\\Temp/ipykernel_37936/2704954005.py\u001b[0m in \u001b[0;36m<module>\u001b[1;34m\u001b[0m\n\u001b[0;32m      1\u001b[0m \u001b[1;31m#clear sheet with following command\u001b[0m\u001b[1;33m\u001b[0m\u001b[1;33m\u001b[0m\u001b[1;33m\u001b[0m\u001b[0m\n\u001b[1;32m----> 2\u001b[1;33m \u001b[1;32mfor\u001b[0m \u001b[0mrow\u001b[0m \u001b[1;32min\u001b[0m \u001b[0mws\u001b[0m\u001b[1;33m[\u001b[0m\u001b[1;34m'A1:G10'\u001b[0m\u001b[1;33m]\u001b[0m\u001b[1;33m:\u001b[0m\u001b[1;33m\u001b[0m\u001b[1;33m\u001b[0m\u001b[0m\n\u001b[0m\u001b[0;32m      3\u001b[0m   \u001b[1;32mfor\u001b[0m \u001b[0mcell\u001b[0m \u001b[1;32min\u001b[0m \u001b[0mrow\u001b[0m\u001b[1;33m:\u001b[0m\u001b[1;33m\u001b[0m\u001b[1;33m\u001b[0m\u001b[0m\n\u001b[0;32m      4\u001b[0m     \u001b[0mcell\u001b[0m\u001b[1;33m.\u001b[0m\u001b[0mvalue\u001b[0m \u001b[1;33m=\u001b[0m \u001b[1;32mNone\u001b[0m\u001b[1;33m\u001b[0m\u001b[1;33m\u001b[0m\u001b[0m\n",
      "\u001b[1;31mNameError\u001b[0m: name 'ws' is not defined"
     ]
    }
   ],
   "source": [
    "#clear sheet with following command\n",
    "for row in ws['A1:G10']:\n",
    "  for cell in row:\n",
    "    cell.value = None"
   ]
  },
  {
   "cell_type": "code",
   "execution_count": 84,
   "id": "3d045d93",
   "metadata": {},
   "outputs": [
    {
     "name": "stdout",
     "output_type": "stream",
     "text": [
      "(None, None, None, None, None, None, None)\n",
      "(None, None, None, None, None, None, None)\n",
      "(None, None, None, None, None, None, None)\n",
      "(None, None, None, None, None, None, None)\n",
      "(None, None, None, None, None, None, None)\n",
      "(None, None, None, None, None, None, None)\n",
      "(None, None, None, None, None, None, None)\n",
      "(None, None, None, None, None, None, None)\n",
      "(None, None, None, None, None, None, None)\n",
      "(None, None, None, None, None, None, None)\n",
      "(None, None, None, None, None, None, None)\n",
      "(None, None, None, None, None, None, None)\n",
      "(None, None, None, None, None, None, None)\n",
      "(None, None, None, None, None, None, None)\n",
      "(None, None, None, None, None, None, None)\n",
      "(None, None, None, None, None, None, None)\n",
      "(None, None, None, None, None, None, None)\n",
      "(None, None, None, None, None, None, None)\n",
      "(None, None, None, None, None, None, None)\n",
      "(None, None, None, None, None, None, None)\n",
      "(None, None, None, None, None, None, None)\n",
      "(None, None, None, None, None, None, None)\n",
      "(None, None, None, None, None, None, None)\n",
      "(None, None, None, None, None, None, None)\n",
      "(None, None, None, None, None, None, None)\n",
      "(None, None, None, None, None, None, None)\n",
      "(None, None, None, None, None, None, None)\n",
      "(None, None, None, None, None, None, None)\n",
      "(None, None, None, None, None, None, None)\n",
      "(None, None, None, None, None, None, None)\n",
      "(None, None, None, None, None, None, None)\n",
      "(None, None, None, None, None, None, None)\n",
      "(None, None, None, None, None, None, None)\n",
      "(None, None, None, None, None, None, None)\n",
      "(None, None, None, None, None, None, None)\n",
      "(None, None, None, None, None, None, None)\n",
      "(None, None, None, None, None, None, None)\n",
      "(None, None, None, None, None, None, None)\n",
      "(None, None, None, None, None, None, None)\n",
      "(None, None, None, None, None, None, None)\n",
      "(None, None, None, None, None, None, None)\n",
      "(None, None, None, None, None, None, None)\n",
      "(None, None, None, None, None, None, None)\n",
      "(None, None, None, None, None, None, None)\n",
      "(None, None, None, None, None, None, None)\n",
      "(None, None, None, None, None, None, None)\n",
      "(None, None, None, None, None, None, None)\n",
      "(None, None, None, None, None, None, None)\n",
      "(None, None, None, None, None, None, None)\n",
      "(None, None, None, None, None, None, None)\n"
     ]
    }
   ],
   "source": [
    "print_rows()"
   ]
  },
  {
   "cell_type": "code",
   "execution_count": null,
   "id": "40c16095",
   "metadata": {},
   "outputs": [],
   "source": []
  }
 ],
 "metadata": {
  "kernelspec": {
   "display_name": "Python 3 (ipykernel)",
   "language": "python",
   "name": "python3"
  },
  "language_info": {
   "codemirror_mode": {
    "name": "ipython",
    "version": 3
   },
   "file_extension": ".py",
   "mimetype": "text/x-python",
   "name": "python",
   "nbconvert_exporter": "python",
   "pygments_lexer": "ipython3",
   "version": "3.8.5"
  }
 },
 "nbformat": 4,
 "nbformat_minor": 5
}
