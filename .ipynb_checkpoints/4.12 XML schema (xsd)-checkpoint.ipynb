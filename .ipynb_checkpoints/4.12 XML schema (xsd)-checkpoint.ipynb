{
 "cells": [
  {
   "cell_type": "markdown",
   "id": "e2ab92fb",
   "metadata": {},
   "source": [
    "# Parsing xsd with xmlschema library and xsdata\n",
    "\n",
    "\n",
    "A Notebook to parse xsd / xml files into a Python dictionary. \n",
    "\n",
    "### Links:\n",
    "- https://xmlschema.readthedocs.io/en/latest/ \n",
    "- https://pypi.org/project/xmlschema/\n",
    "- https://xsdata.readthedocs.io/en/latest/\n"
   ]
  },
  {
   "cell_type": "code",
   "execution_count": 1,
   "id": "45b10be2",
   "metadata": {},
   "outputs": [
    {
     "name": "stdout",
     "output_type": "stream",
     "text": [
      "Collecting xmlschema\n",
      "  Downloading xmlschema-1.9.2-py3-none-any.whl (273 kB)\n",
      "Collecting elementpath<3.0.0,>=2.4.0\n",
      "  Downloading elementpath-2.4.0-py3-none-any.whl (163 kB)\n",
      "Installing collected packages: elementpath, xmlschema\n",
      "Successfully installed elementpath-2.4.0 xmlschema-1.9.2\n"
     ]
    }
   ],
   "source": [
    "!pip install xmlschema"
   ]
  },
  {
   "cell_type": "markdown",
   "id": "9d0440b0",
   "metadata": {},
   "source": [
    "## 1. My first xsd"
   ]
  },
  {
   "cell_type": "code",
   "execution_count": 1,
   "id": "61951a52",
   "metadata": {},
   "outputs": [
    {
     "data": {
      "text/plain": [
       "['note.xsd', 'simple.xsd']"
      ]
     },
     "execution_count": 1,
     "metadata": {},
     "output_type": "execute_result"
    }
   ],
   "source": [
    "import glob\n",
    "my_xsds = glob.glob('*.xsd')\n",
    "my_xsds"
   ]
  },
  {
   "cell_type": "code",
   "execution_count": 7,
   "id": "9bf48b3d",
   "metadata": {},
   "outputs": [],
   "source": [
    "#inspect the xsd\n",
    "%pycat C:\\\\Users\\\\31653\\\\Documents\\\\GitHub\\\\Notebooks\\simple.xsd"
   ]
  },
  {
   "cell_type": "code",
   "execution_count": 6,
   "id": "eaf1a587",
   "metadata": {},
   "outputs": [],
   "source": [
    "#inspect the xml\n",
    "%pycat C:\\\\Users\\\\31653\\\\Documents\\\\GitHub\\\\Notebooks\\simple.xml"
   ]
  },
  {
   "cell_type": "code",
   "execution_count": 3,
   "id": "47cf7f84",
   "metadata": {},
   "outputs": [
    {
     "ename": "NameError",
     "evalue": "name 'schema' is not defined",
     "output_type": "error",
     "traceback": [
      "\u001b[1;31m---------------------------------------------------------------------------\u001b[0m",
      "\u001b[1;31mNameError\u001b[0m                                 Traceback (most recent call last)",
      "\u001b[1;32m~\\AppData\\Local\\Temp/ipykernel_55728/1623399918.py\u001b[0m in \u001b[0;36m<module>\u001b[1;34m\u001b[0m\n\u001b[1;32m----> 1\u001b[1;33m \u001b[0mprint\u001b[0m\u001b[1;33m(\u001b[0m\u001b[0mschema\u001b[0m\u001b[1;33m.\u001b[0m\u001b[0mbuild\u001b[0m\u001b[1;33m(\u001b[0m\u001b[1;33m)\u001b[0m\u001b[1;33m)\u001b[0m\u001b[1;33m\u001b[0m\u001b[1;33m\u001b[0m\u001b[0m\n\u001b[0m",
      "\u001b[1;31mNameError\u001b[0m: name 'schema' is not defined"
     ]
    }
   ],
   "source": [
    "print(schema.build())"
   ]
  },
  {
   "cell_type": "code",
   "execution_count": 4,
   "id": "170d90ce",
   "metadata": {},
   "outputs": [
    {
     "data": {
      "text/plain": [
       "{'to': 'Tove',\n",
       " 'from': 'Jani',\n",
       " 'heading': 'Reminder',\n",
       " 'body': \"Don't forget me this weekend!\"}"
      ]
     },
     "execution_count": 4,
     "metadata": {},
     "output_type": "execute_result"
    }
   ],
   "source": [
    "#source: https://stackoverflow.com/questions/1072853/how-to-convert-xsd-to-python-class\n",
    "#convert the xml to a dict\n",
    "import xmlschema\n",
    "data_schema = xmlschema.XMLSchema('simple.xsd')\n",
    "data=data_schema.to_dict('simple.xml')\n",
    "data"
   ]
  },
  {
   "cell_type": "code",
   "execution_count": 3,
   "id": "a24bcd9b",
   "metadata": {},
   "outputs": [
    {
     "data": {
      "text/plain": [
       "True"
      ]
     },
     "execution_count": 3,
     "metadata": {},
     "output_type": "execute_result"
    }
   ],
   "source": [
    "#Validate the xml\n",
    "import xmlschema\n",
    "schema = xmlschema.XMLSchema('simple.xsd')\n",
    "schema.is_valid('simple.xml')"
   ]
  },
  {
   "cell_type": "code",
   "execution_count": 5,
   "id": "3089d08f",
   "metadata": {},
   "outputs": [
    {
     "name": "stdout",
     "output_type": "stream",
     "text": [
      "XMLSchema10(name='simple.xsd', namespace='')\n"
     ]
    }
   ],
   "source": [
    "print(schema)"
   ]
  },
  {
   "cell_type": "code",
   "execution_count": 7,
   "id": "fa02f5b9",
   "metadata": {},
   "outputs": [
    {
     "name": "stdout",
     "output_type": "stream",
     "text": [
      "XMLSchema10(name='simple.xsd', namespace='')\n",
      "['BASE_SCHEMAS', 'XSD_VERSION', '__abstractmethods__', '__annotations__', '__class__', '__class_getitem__', '__contains__', '__copy__', '__delattr__', '__dict__', '__dir__', '__doc__', '__eq__', '__format__', '__ge__', '__getattribute__', '__getitem__', '__getstate__', '__gt__', '__hash__', '__init__', '__init_subclass__', '__iter__', '__le__', '__len__', '__lt__', '__module__', '__ne__', '__new__', '__orig_bases__', '__parameters__', '__reduce__', '__reduce_ex__', '__repr__', '__reversed__', '__setattr__', '__setstate__', '__sizeof__', '__slots__', '__str__', '__subclasshook__', '__weakref__', '_abc_impl', '_annotations', '_get_xpath_namespaces', '_import_namespace', '_is_protocol', '_locations', '_parse_imports', '_parse_inclusions', '_parse_xpath_default_namespace', '_root_elements', '_validate_references', 'add_schema', 'all_errors', 'allow', 'annotations', 'attrib', 'attribute_form_default', 'attribute_groups', 'attributes', 'base_url', 'block_default', 'build', 'built', 'builtin_types', 'check_schema', 'check_validator', 'clear', 'complex_types', 'converter', 'copy', 'count', 'create_any_attribute_group', 'create_any_content_group', 'create_any_type', 'create_bindings', 'create_element', 'create_empty_attribute_group', 'create_empty_content_group', 'create_meta_schema', 'decode', 'default_attributes', 'default_namespace', 'default_open_content', 'defuse', 'elem', 'element_form_default', 'elements', 'encode', 'errors', 'export', 'fallback_locations', 'filepath', 'final_default', 'find', 'findall', 'get', 'get_converter', 'get_element', 'get_locations', 'get_schema', 'get_text', 'groups', 'id', 'identities', 'import_schema', 'imports', 'include_schema', 'includes', 'index', 'is_matching', 'is_valid', 'iter', 'iter_components', 'iter_decode', 'iter_encode', 'iter_errors', 'iter_globals', 'iterchildren', 'iterfind', 'locations', 'lock', 'maps', 'meta_schema', 'name', 'namespaces', 'no_namespace_schema_location', 'notations', 'override', 'parse_error', 'raw_decoder', 'redefine', 'resolve_qname', 'root', 'root_elements', 'schema_location', 'simple_type_factory', 'simple_types', 'source', 'substitution_groups', 'tag', 'tail', 'target_namespace', 'target_prefix', 'text', 'timeout', 'to_dict', 'to_etree', 'to_objects', 'types', 'url', 'use_meta', 'validate', 'validation', 'validation_attempted', 'validation_error', 'validity', 'version', 'version_check', 'warnings', 'xpath_default_namespace', 'xpath_proxy', 'xpath_tokens', 'xsd_any_attribute_class', 'xsd_any_class', 'xsd_atomic_restriction_class', 'xsd_attribute_class', 'xsd_attribute_group_class', 'xsd_complex_type_class', 'xsd_element_class', 'xsd_group_class', 'xsd_key_class', 'xsd_keyref_class', 'xsd_list_class', 'xsd_notation_class', 'xsd_union_class', 'xsd_unique_class', 'xsd_version']\n",
      "<class 'xmlschema.validators.schemas.XMLSchema10'>\n"
     ]
    }
   ],
   "source": [
    "print(data_schema)\n",
    "print(dir(data_schema))\n",
    "print(type(data_schema))"
   ]
  },
  {
   "cell_type": "markdown",
   "id": "dab16e9e",
   "metadata": {},
   "source": [
    "## 2. xsdata"
   ]
  },
  {
   "cell_type": "code",
   "execution_count": 10,
   "id": "4bc111cc",
   "metadata": {},
   "outputs": [
    {
     "name": "stdout",
     "output_type": "stream",
     "text": [
      "Requirement already satisfied: xsdata in c:\\users\\31653\\anaconda3\\lib\\site-packages (22.2)\n"
     ]
    }
   ],
   "source": [
    "!pip install xsdata"
   ]
  },
  {
   "cell_type": "code",
   "execution_count": null,
   "id": "37ab87aa",
   "metadata": {},
   "outputs": [],
   "source": []
  },
  {
   "cell_type": "code",
   "execution_count": null,
   "id": "adc3bcbf",
   "metadata": {},
   "outputs": [],
   "source": []
  },
  {
   "cell_type": "markdown",
   "id": "b5144504",
   "metadata": {},
   "source": [
    "## 3. generateDS\n",
    "\n",
    "- https://realpython.com/python-xml-parser/#generate-models-from-an-xml-schema\n",
    "- https://pypi.org/project/generateDS/\n",
    "- http://www.davekuhlman.org/generateDS.html\n"
   ]
  },
  {
   "cell_type": "code",
   "execution_count": 14,
   "id": "76c2876d",
   "metadata": {},
   "outputs": [
    {
     "name": "stdout",
     "output_type": "stream",
     "text": [
      "Requirement already satisfied: generateDS in c:\\users\\31653\\anaconda3\\lib\\site-packages (2.40.8)\n",
      "Requirement already satisfied: requests>=2.21.0 in c:\\users\\31653\\anaconda3\\lib\\site-packages (from generateDS) (2.26.0)\n",
      "Requirement already satisfied: six in c:\\users\\31653\\anaconda3\\lib\\site-packages (from generateDS) (1.16.0)\n",
      "Requirement already satisfied: lxml in c:\\users\\31653\\anaconda3\\lib\\site-packages (from generateDS) (4.6.3)\n",
      "Requirement already satisfied: urllib3<1.27,>=1.21.1 in c:\\users\\31653\\anaconda3\\lib\\site-packages (from requests>=2.21.0->generateDS) (1.26.7)\n",
      "Requirement already satisfied: certifi>=2017.4.17 in c:\\users\\31653\\anaconda3\\lib\\site-packages (from requests>=2.21.0->generateDS) (2021.10.8)\n",
      "Requirement already satisfied: idna<4,>=2.5 in c:\\users\\31653\\anaconda3\\lib\\site-packages (from requests>=2.21.0->generateDS) (2.10)\n",
      "Requirement already satisfied: charset-normalizer~=2.0.0 in c:\\users\\31653\\anaconda3\\lib\\site-packages (from requests>=2.21.0->generateDS) (2.0.0)\n"
     ]
    }
   ],
   "source": [
    "!pip install generateDS"
   ]
  },
  {
   "cell_type": "code",
   "execution_count": 18,
   "id": "549e3322",
   "metadata": {},
   "outputs": [
    {
     "name": "stderr",
     "output_type": "stream",
     "text": [
      "Cloning into 'code_generateds'...\n",
      "fatal: unable to access 'http://hg.code.sf.net/p/generateds/code_generateds/': The requested URL returned error: 500\n"
     ]
    }
   ],
   "source": [
    "!git clonecode generateds-code"
   ]
  },
  {
   "cell_type": "code",
   "execution_count": 15,
   "id": "2dfb577c",
   "metadata": {},
   "outputs": [
    {
     "name": "stderr",
     "output_type": "stream",
     "text": [
      "Traceback (most recent call last):\n",
      "  File \"C:\\Users\\31653\\anaconda3\\lib\\runpy.py\", line 194, in _run_module_as_main\n",
      "    return _run_code(code, main_globals, None,\n",
      "  File \"C:\\Users\\31653\\anaconda3\\lib\\runpy.py\", line 87, in _run_code\n",
      "    exec(code, run_globals)\n",
      "  File \"C:\\Users\\31653\\anaconda3\\Scripts\\generateDS.exe\\__main__.py\", line 4, in <module>\n",
      "ModuleNotFoundError: No module named 'generateDS'\n"
     ]
    }
   ],
   "source": [
    "!generateDS -o models.py simple.xsd"
   ]
  }
 ],
 "metadata": {
  "kernelspec": {
   "display_name": "Python 3 (ipykernel)",
   "language": "python",
   "name": "python3"
  },
  "language_info": {
   "codemirror_mode": {
    "name": "ipython",
    "version": 3
   },
   "file_extension": ".py",
   "mimetype": "text/x-python",
   "name": "python",
   "nbconvert_exporter": "python",
   "pygments_lexer": "ipython3",
   "version": "3.8.12"
  }
 },
 "nbformat": 4,
 "nbformat_minor": 5
}
