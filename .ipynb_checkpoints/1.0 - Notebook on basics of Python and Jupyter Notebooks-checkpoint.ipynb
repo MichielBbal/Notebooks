{
 "cells": [
  {
   "cell_type": "markdown",
   "metadata": {},
   "source": [
    "# Notebook on the basics of Python and Jupyter Notebooks"
   ]
  },
  {
   "cell_type": "markdown",
   "metadata": {},
   "source": [
    "## Contents\n",
    "1. Hello world!\n",
    "2. Short intro to Jupyter Notebooks\n",
    "3. Python build in functions\n",
    "4. Basic math\n",
    "5. Python data types\n",
    "6. Strings\n",
    "7. Variables\n",
    "8. Python Keywords"
   ]
  },
  {
   "cell_type": "markdown",
   "metadata": {},
   "source": [
    "## 1. Hello world!\n",
    "\n",
    "Tradition holds that we start with Hello World.\n",
    "click on the 'play'button to the left to print \"Hello world!\""
   ]
  },
  {
   "cell_type": "code",
   "execution_count": 1,
   "metadata": {},
   "outputs": [
    {
     "name": "stdout",
     "output_type": "stream",
     "text": [
      "Hello World!\n"
     ]
    }
   ],
   "source": [
    "print(\"Hello world!\")"
   ]
  },
  {
   "cell_type": "markdown",
   "metadata": {},
   "source": [
    "## 2. Short introduction Jupyter Notebooks\n",
    "\n",
    "- Jupyter works in your browser\n",
    "- Jupyter can handle programming languages Julia, Python and R \n",
    "\n",
    "Use the buttons on the taskbar and the menu's for your actions.\n",
    "\n",
    "Change the type of the cell from 'code' to 'Markdown' to write text instead of code.\n",
    "\n",
    "\n",
    "### Some useful commands:\n",
    "- enter on a Markdown cell => set the cell to editing\n",
    "- shift + enter = run a cell\n",
    "- alt + enter   = run a cell + create new cell\n",
    "- in a code cell, while typing try tab to complete the function \n",
    "\n",
    "### Command mode\n",
    "- press 'escape' to go to command mode. When in command mode to the following:\n",
    "- press 'm' to change cell to markdown; press 'y'to change cell to code.\n",
    "\n",
    "\n",
    "### Pro-tips\n",
    "- use %%time at the beginning of a cell to measure the time of execution (optional)\n",
    "- if you want to run command line actions use an '!'exclamation mark, for example: \"!pip install tensorflow\"\n",
    "- use %%bash to turn the whole cell to be interpreted as a bash script.\n",
    "\n",
    "### LaTex\n",
    "\n",
    "Left outline:\n",
    "$ c = \\sqrt{a^2 + b^2} $\n",
    "\n",
    "centered: $$ c = \\sqrt{a^2 + b^2}$$\n",
    "\n",
    "### Code completion\n",
    "I've installed Tabnine for code completion: https://www.tabnine.com/welcome \n",
    "\n",
    "### Links\n",
    "- https://www.youtube.com/watch?v=2eCHD6f_phE - Video on Youtube (6 min)\n",
    "- https://www.dataquest.io/blog/jupyter-notebook-tips-tricks-shortcuts/"
   ]
  },
  {
   "cell_type": "markdown",
   "metadata": {},
   "source": [
    "## 0. Linux commands in Jupyter"
   ]
  },
  {
   "cell_type": "code",
   "execution_count": 2,
   "metadata": {},
   "outputs": [
    {
     "name": "stdout",
     "output_type": "stream",
     "text": [
      " Volume in drive C is OS\n",
      " Volume Serial Number is 2818-58FB\n",
      "\n",
      " Directory of C:\\Users\\31653\\Documents\\GitHub\\Notebooks\n",
      "\n",
      "06/02/2021  17:07                84 accounts.txt\n",
      "23/06/2021  20:11                84 demo.txt\n",
      "26/07/2021  15:45                59 servers.txt\n",
      "17/04/2021  21:30                 0 untitled.txt\n",
      "17/04/2021  21:31                16 untitled1.txt\n",
      "               5 File(s)            243 bytes\n",
      "               0 Dir(s)  283.634.925.568 bytes free\n"
     ]
    }
   ],
   "source": [
    "ls *.txt "
   ]
  },
  {
   "cell_type": "markdown",
   "metadata": {},
   "source": [
    "## 3. Python build in functions\n",
    "\n",
    "The boring stuff when you start - but so so helpful when things get more complex."
   ]
  },
  {
   "cell_type": "code",
   "execution_count": 9,
   "metadata": {},
   "outputs": [],
   "source": [
    "dir(list)"
   ]
  },
  {
   "cell_type": "code",
   "execution_count": 1,
   "metadata": {},
   "outputs": [
    {
     "name": "stdout",
     "output_type": "stream",
     "text": [
      "Help on method_descriptor:\n",
      "\n",
      "sort(self, /, *, key=None, reverse=False)\n",
      "    Sort the list in ascending order and return None.\n",
      "    \n",
      "    The sort is in-place (i.e. the list itself is modified) and stable (i.e. the\n",
      "    order of two equal elements is maintained).\n",
      "    \n",
      "    If a key function is given, apply it once to each list item and sort them,\n",
      "    ascending or descending, according to their function values.\n",
      "    \n",
      "    The reverse flag can be set to sort in descending order.\n",
      "\n"
     ]
    }
   ],
   "source": [
    "help(list.sort)"
   ]
  },
  {
   "cell_type": "code",
   "execution_count": null,
   "metadata": {},
   "outputs": [],
   "source": []
  },
  {
   "cell_type": "markdown",
   "metadata": {},
   "source": [
    "## 4. Basic math\n",
    "\n",
    "How to use basic math in Python:\n",
    "\n",
    "Standard symbols:\n",
    "\n",
    "    a+b addition\n",
    "    a-b subtraction\n",
    "    a*b multiplication\n",
    "    a/b division\n",
    "    a%b modulo\n",
    "    a//b floor division(example 5//2=2)\n",
    "    -a   negation\n",
    "    abs(a) absolute value\n",
    "    a**b  exponent\n",
    "    math.sqrt(a) square root => import math\n",
    "\n",
    "^ = power operator"
   ]
  },
  {
   "cell_type": "code",
   "execution_count": 44,
   "metadata": {},
   "outputs": [
    {
     "name": "stdout",
     "output_type": "stream",
     "text": [
      "5.35\n"
     ]
    }
   ],
   "source": [
    "#rounding\n",
    "print(round(5.34567, 2)) # rounds the number to 2 decimals"
   ]
  },
  {
   "cell_type": "code",
   "execution_count": 13,
   "metadata": {},
   "outputs": [
    {
     "name": "stdout",
     "output_type": "stream",
     "text": [
      "20.11111111111111\n",
      "20.11\n",
      "20.11\n"
     ]
    }
   ],
   "source": [
    "# Average\n",
    "l = [15, 18, 2, 36, 12, 78, 5, 6, 9]\n",
    "average=(sum(l) / len(l))\n",
    "print(average)\n",
    "print(round(average,2))\n",
    "print(\"%.2f\" % average)"
   ]
  },
  {
   "cell_type": "markdown",
   "metadata": {},
   "source": [
    "##  5. Data types\n",
    "\n",
    "Python has the following built-in data types: <br>\n",
    "\n",
    "Text Type:\t         string <br>\n",
    "Numeric Types:\t     integer, float, complex <br>\n",
    "Sequence Types:\t     list, tuple, range <br>\n",
    "Mapping Type:\t     dictionary <br>\n",
    "Set Types:\t         set, frozenset <br>\n",
    "Boolean Type:\t     boolean <br>\n",
    "Binary Types:\t     bytes, bytearray, memoryview <br>"
   ]
  },
  {
   "cell_type": "code",
   "execution_count": 2,
   "metadata": {},
   "outputs": [
    {
     "name": "stdout",
     "output_type": "stream",
     "text": [
      "Hello world 20 1.5 1j ['apple', 'banana', 'cherry'] ('apple', 'banana', 'cherry') range(0, 5) {'name': 'john', 'age': '36'} {'banana', 'cherry', 'apple'} frozenset({'banana', 'cherry', 'apple'}) True b'Hello' bytearray(b'\\x00\\x00\\x00\\x00\\x00') <memory at 0x000002A017717E88>\n"
     ]
    }
   ],
   "source": [
    "# Examples of data types\n",
    "\n",
    "a = ('Hello world') # this is a string\n",
    "b = 20 # this is an integer\n",
    "c = 1.5 # this is a float\n",
    "d = 1j # this is a complex number\n",
    "e = ['apple', 'banana', 'cherry'] # this is a list\n",
    "f = ('apple', 'banana', 'cherry') # this is a tuple\n",
    "g = range(5) # this is a range\n",
    "h = {'name': 'john', 'age': '36'} # this is a dictionary\n",
    "i = {'apple', 'banana', 'cherry'} # this is a set\n",
    "j = frozenset({'apple', 'banana', 'cherry'}) # this is a frozenset\n",
    "k = True # this is a boolean\n",
    "l = b\"Hello\" #this is bytes\n",
    "m = bytearray(5) # this is a bytearray\n",
    "n = memoryview(bytes(5))\n",
    "\n",
    "print(a,b,c,d,e,f,g,h,i,j,k,l,m,n)"
   ]
  },
  {
   "cell_type": "code",
   "execution_count": 12,
   "metadata": {},
   "outputs": [
    {
     "data": {
      "text/plain": [
       "str"
      ]
     },
     "execution_count": 12,
     "metadata": {},
     "output_type": "execute_result"
    }
   ],
   "source": [
    "# To find the datatype:\n",
    "type(a)"
   ]
  },
  {
   "cell_type": "code",
   "execution_count": 7,
   "metadata": {},
   "outputs": [
    {
     "data": {
      "text/plain": [
       "True"
      ]
     },
     "execution_count": 7,
     "metadata": {},
     "output_type": "execute_result"
    }
   ],
   "source": [
    "# to check we use isinstance\n",
    "q = 123 # define a variable with integer as input\n",
    "isinstance(q, int)"
   ]
  },
  {
   "cell_type": "markdown",
   "metadata": {},
   "source": [
    "## 6. Strings"
   ]
  },
  {
   "cell_type": "code",
   "execution_count": 11,
   "metadata": {},
   "outputs": [
    {
     "name": "stdout",
     "output_type": "stream",
     "text": [
      "hello\n",
      "5\n",
      "hello world\n"
     ]
    }
   ],
   "source": [
    "my_string = 'hello'    # String literals can use single quotes\n",
    "my_string2 = \"world\"    # or double quotes; it does not matter.\n",
    "print(my_string)       # Prints \"hello\"\n",
    "print(len(my_string))  # String length; prints \"5\"\n",
    "hw = my_string + ' ' + my_string2  # String concatenation with a whitespace in between\n",
    "print(hw)  # prints \"hello world\""
   ]
  },
  {
   "cell_type": "code",
   "execution_count": 1,
   "metadata": {},
   "outputs": [
    {
     "name": "stdout",
     "output_type": "stream",
     "text": [
      "--------------------------------------------------\n"
     ]
    }
   ],
   "source": [
    "print('-'*50)"
   ]
  },
  {
   "cell_type": "code",
   "execution_count": 2,
   "metadata": {},
   "outputs": [
    {
     "name": "stdout",
     "output_type": "stream",
     "text": [
      "Abcd\n"
     ]
    }
   ],
   "source": [
    "my_str = 'AbCd'\n",
    "print(my_str.capitalize())"
   ]
  },
  {
   "cell_type": "code",
   "execution_count": 3,
   "metadata": {},
   "outputs": [
    {
     "name": "stdout",
     "output_type": "stream",
     "text": [
      "True\n"
     ]
    }
   ],
   "source": [
    "print('epsilon'.endswith('on'))"
   ]
  },
  {
   "cell_type": "code",
   "execution_count": 4,
   "metadata": {},
   "outputs": [
    {
     "name": "stdout",
     "output_type": "stream",
     "text": [
      "True\n"
     ]
    }
   ],
   "source": [
    "print('Moooo'.isalpha())"
   ]
  },
  {
   "cell_type": "code",
   "execution_count": 6,
   "metadata": {},
   "outputs": [
    {
     "name": "stdout",
     "output_type": "stream",
     "text": [
      "True\n",
      "False\n"
     ]
    }
   ],
   "source": [
    "print('2022'.isdigit())\n",
    "print('2022Year'.isdigit())"
   ]
  },
  {
   "cell_type": "markdown",
   "metadata": {},
   "source": [
    "### 6a. String formatting\n",
    "\n",
    "You can use string formatting if you want to add data to a certain string.\n",
    "\n",
    "There are two ways of string formatting: \n",
    "- using the {} brackets and\n",
    "- using the %\n",
    "\n"
   ]
  },
  {
   "cell_type": "code",
   "execution_count": 3,
   "metadata": {},
   "outputs": [
    {
     "name": "stdout",
     "output_type": "stream",
     "text": [
      "The price is 49 dollars\n",
      "The price is 49.00 Euro\n",
      "I want 3 pieces for 49.00 Euro each.\n"
     ]
    }
   ],
   "source": [
    "# String formatting using {}\n",
    "price = 49\n",
    "txt = \"The price is {} dollars\" #insert the value 49 between the brackets\n",
    "print(txt.format(price))\n",
    "\n",
    "price = 49\n",
    "txt = \"The price is {:.2f} Euro\" # insert the value 49 on the semicolon and add 2 zero's after the dot\n",
    "print(txt.format(price))\n",
    "\n",
    "quantity =3 \n",
    "price = 49\n",
    "text = \"I want {} pieces for {:.2f} Euro each.\" # optional: you can use index numbers between the curly brackets {0}\n",
    "print(text.format(quantity, price))"
   ]
  },
  {
   "cell_type": "markdown",
   "metadata": {},
   "source": [
    "### 6b. Here are some of the following string representations you should know\n",
    "%s - String (or any object with a string representation, like numbers)\n",
    "\n",
    "%d - Integers\n",
    "\n",
    "%f - Floating point numbers\n",
    "\n",
    "%.<number of digits>f - Floating point numbers with a fixed amount of digits to the right of the dot.\n",
    "\n",
    "%x/%X - Integers in hex representation (lowercase/uppercase)"
   ]
  },
  {
   "cell_type": "code",
   "execution_count": 36,
   "metadata": {},
   "outputs": [
    {
     "name": "stdout",
     "output_type": "stream",
     "text": [
      "Hello, John!\n",
      "John is 23 years old.\n"
     ]
    }
   ],
   "source": [
    "# String formatting using %s \n",
    "name = \"John\"\n",
    "print(\"Hello, %s!\" % name)\n",
    "\n",
    "name = \"John\"\n",
    "age = 23\n",
    "print(\"%s is %d years old.\" % (name, age)) #%s = string, %d is integer . Play around by making 23 a string."
   ]
  },
  {
   "cell_type": "code",
   "execution_count": 2,
   "metadata": {},
   "outputs": [
    {
     "name": "stdout",
     "output_type": "stream",
     "text": [
      "HELLO WORLD!\n",
      "hello world!\n"
     ]
    }
   ],
   "source": [
    "# String formatting: UPPER and lower case.\n",
    "a_string = \"Hello world!\"\n",
    "print(a_string.upper())\n",
    "print(a_string.lower())"
   ]
  },
  {
   "cell_type": "code",
   "execution_count": 3,
   "metadata": {},
   "outputs": [
    {
     "name": "stdout",
     "output_type": "stream",
     "text": [
      "I like apples\n"
     ]
    }
   ],
   "source": [
    "#replace text in a string with .replace\n",
    "txt = \"I like bananas\"\n",
    "\n",
    "x = txt.replace(\"bananas\", \"apples\")\n",
    "\n",
    "print(x)"
   ]
  },
  {
   "cell_type": "markdown",
   "metadata": {},
   "source": [
    "### 6c. Split string"
   ]
  },
  {
   "cell_type": "code",
   "execution_count": 20,
   "metadata": {},
   "outputs": [
    {
     "data": {
      "text/plain": [
       "['This', 'is', 'random', 'text', 'we’re', 'going', 'to', 'split', 'apart']"
      ]
     },
     "execution_count": 20,
     "metadata": {},
     "output_type": "execute_result"
    }
   ],
   "source": [
    "words = \"This is random text we’re going to split apart\"\n",
    "\n",
    "words2 = words.split(\" \")\n",
    "words2"
   ]
  },
  {
   "cell_type": "code",
   "execution_count": 5,
   "metadata": {},
   "outputs": [
    {
     "name": "stdout",
     "output_type": "stream",
     "text": [
      "s i l l y   w a l k s "
     ]
    }
   ],
   "source": [
    "#indexing strings\n",
    "\n",
    "example_string = 'silly walks'\n",
    "\n",
    "for ix in range(len(example_string)):\n",
    "    print(example_string[ix], end=' ')"
   ]
  },
  {
   "cell_type": "markdown",
   "metadata": {},
   "source": [
    "### 6d. F-string (formatted strings)"
   ]
  },
  {
   "cell_type": "code",
   "execution_count": 13,
   "metadata": {},
   "outputs": [
    {
     "name": "stdout",
     "output_type": "stream",
     "text": [
      "The average is 50\n"
     ]
    }
   ],
   "source": [
    "# use f' to insert an integer into a string\n",
    "average = 50\n",
    "print(f'The average is {average}')"
   ]
  },
  {
   "cell_type": "code",
   "execution_count": 14,
   "metadata": {},
   "outputs": [
    {
     "name": "stdout",
     "output_type": "stream",
     "text": [
      "My age is 46\n"
     ]
    }
   ],
   "source": [
    "age = 46\n",
    "print(f'My age is {age}')"
   ]
  },
  {
   "cell_type": "code",
   "execution_count": 15,
   "metadata": {},
   "outputs": [
    {
     "name": "stdout",
     "output_type": "stream",
     "text": [
      "7 times 5 is 35\n"
     ]
    }
   ],
   "source": [
    "#also you can put a calculation (or other function) between the brackets\n",
    "number1=7\n",
    "number2=5\n",
    "print(f'{number1} times {number2} is {number1 * number2}')"
   ]
  },
  {
   "cell_type": "markdown",
   "metadata": {},
   "source": [
    "## 7. Variables\n",
    "\n",
    "A <b>variable </b> is a label for a location in memory; it can be used to hold a <i>value</i>.\n",
    "In Python we may reuse the same variable to store values of any type.\n",
    "Python convention is to give meaningful names to variables and declare 1 variable per line.\n",
    "\n",
    "We call the part of a program where a variable is accessible its <i> scope</i> and the duration for which it exists its <i> lifetime</i>.\n",
    "\n",
    "Global variables have a scope of the whole program , whereas local variables are part of one function. See also under Class (python Intermediate notebook)\n",
    "\n",
    "The assignment operator in Python is the = whereas the operator assigns the <i>value</i> to the right to the </variable> on the left.\n",
    "\n",
    "Python has some special Variables whose value is always the same:\n",
    "- True -> 1\n",
    "- False -> 0\n",
    "- None -> 'data is missing'"
   ]
  },
  {
   "cell_type": "markdown",
   "metadata": {},
   "source": [
    "## 8. Python Keywords"
   ]
  },
  {
   "cell_type": "markdown",
   "metadata": {},
   "source": [
    "Since Python 3.8 there are 35 reserved words or 'Keywords' in Python:\n",
    "\n",
    "False      await      else       import     pass\n",
    "None       break      except     in         raise\n",
    "True       class      finally    is         return\n",
    "and        continue   for        lambda     try\n",
    "as         def        from       nonlocal   while\n",
    "assert     del        global     not        with\n",
    "async      elif       if         or         yield\n",
    "\n",
    "Source: https://docs.python.org/3.8/reference/lexical_analysis.html#keywords\n",
    "More info can be found at: https://realpython.com/python-keywords/"
   ]
  },
  {
   "cell_type": "code",
   "execution_count": 3,
   "metadata": {},
   "outputs": [
    {
     "name": "stdout",
     "output_type": "stream",
     "text": [
      "True\n",
      "False\n"
     ]
    }
   ],
   "source": [
    "#use this short script to see a word is a keyword or not\n",
    "import keyword\n",
    "print(keyword.iskeyword('except'))\n",
    "print(keyword.iskeyword('hello'))"
   ]
  }
 ],
 "metadata": {
  "kernelspec": {
   "display_name": "Python 3 (ipykernel)",
   "language": "python",
   "name": "python3"
  },
  "language_info": {
   "codemirror_mode": {
    "name": "ipython",
    "version": 3
   },
   "file_extension": ".py",
   "mimetype": "text/x-python",
   "name": "python",
   "nbconvert_exporter": "python",
   "pygments_lexer": "ipython3",
   "version": "3.9.12"
  }
 },
 "nbformat": 4,
 "nbformat_minor": 4
}
