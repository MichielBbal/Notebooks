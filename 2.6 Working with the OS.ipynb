{
 "cells": [
  {
   "cell_type": "markdown",
   "metadata": {},
   "source": [
    "# Working with the OS\n",
    "\n",
    "## Contents\n",
    "0. Linux commands in Jupyter\n",
    "1. Glob\n",
    "2. Pathlib"
   ]
  },
  {
   "cell_type": "markdown",
   "metadata": {},
   "source": [
    "## 0.Some linux commands in Jupyter\n",
    "- pwd\n",
    "- ls\n",
    "- cd / cd .."
   ]
  },
  {
   "cell_type": "code",
   "execution_count": 17,
   "metadata": {},
   "outputs": [
    {
     "name": "stdout",
     "output_type": "stream",
     "text": [
      "Note: you may need to restart the kernel to use updated packages.\n"
     ]
    },
    {
     "name": "stderr",
     "output_type": "stream",
     "text": [
      "WARNING: Package(s) not found: tensorflow\n"
     ]
    }
   ],
   "source": [
    "# source https://pip.pypa.io/en/stable/reference/pip_check/\n",
    "%pip show tensorflow"
   ]
  },
  {
   "cell_type": "code",
   "execution_count": 16,
   "metadata": {},
   "outputs": [
    {
     "name": "stdout",
     "output_type": "stream",
     "text": [
      "spyder 4.1.5 requires pyqt5, which is not installed.\n",
      "spyder 4.1.5 requires pyqtwebengine, which is not installed.\n",
      "qdarkstyle 2.8.1 requires helpdev, which is not installed.\n",
      "pexpect 4.8.0 requires ptyprocess, which is not installed.\n",
      "bokeh 2.2.3 has requirement pillow>=7.1.0, but you have pillow 7.0.0.\n"
     ]
    }
   ],
   "source": [
    "!pip check"
   ]
  },
  {
   "cell_type": "markdown",
   "metadata": {},
   "source": [
    "## 1. Python glob module \n",
    "The glob module finds all the pathnames matching a specified pattern according to the rules used by the Unix shell, although results are returned in arbitrary order.\n",
    "\n",
    "source: https://docs.python.org/3/library/glob.html"
   ]
  },
  {
   "cell_type": "code",
   "execution_count": 11,
   "metadata": {},
   "outputs": [
    {
     "data": {
      "text/plain": [
       "['buik3.jpg']"
      ]
     },
     "execution_count": 11,
     "metadata": {},
     "output_type": "execute_result"
    }
   ],
   "source": [
    "import glob\n",
    "\n",
    "files = glob.glob('*.jpg') # retrieve all the .json files in home dir and assign to a list\n",
    "# Take the files from the last two weeks only.\n",
    "files = sorted(files)[-14:] # sort the files of the last 14 days\n",
    "type(files)\n",
    "files"
   ]
  },
  {
   "cell_type": "markdown",
   "metadata": {},
   "source": [
    "## 2. Pathlib\n",
    "\n",
    "with pathlib you can add a path to the glob command"
   ]
  },
  {
   "cell_type": "code",
   "execution_count": 19,
   "metadata": {},
   "outputs": [
    {
     "name": "stdout",
     "output_type": "stream",
     "text": [
      "Requirement already satisfied: pathlib in c:\\users\\31653\\anaconda3\\lib\\site-packages (1.0.1)\n",
      "Note: you may need to restart the kernel to use updated packages.\n"
     ]
    }
   ],
   "source": [
    "%pip install pathlib"
   ]
  },
  {
   "cell_type": "code",
   "execution_count": null,
   "metadata": {},
   "outputs": [],
   "source": [
    "from pathlib import Path\n",
    "\n",
    "jpg_files = Path('/some_path').glob('*.jpg')\n",
    "\n",
    "for file in jpg_files:\n",
    "    with file.open(mode='r') as f:\n",
    "        ...\n",
    "        do some stuff"
   ]
  },
  {
   "cell_type": "code",
   "execution_count": 18,
   "metadata": {},
   "outputs": [
    {
     "name": "stdout",
     "output_type": "stream",
     "text": [
      "^C\n"
     ]
    }
   ],
   "source": [
    "!ssh pi@192.168.178.36"
   ]
  },
  {
   "cell_type": "markdown",
   "metadata": {},
   "source": []
  },
  {
   "cell_type": "markdown",
   "metadata": {},
   "source": [
    "## 2. Socket"
   ]
  },
  {
   "cell_type": "code",
   "execution_count": null,
   "metadata": {},
   "outputs": [],
   "source": [
    "### SCRIPT WERKT NIET MET JUPYTER\n",
    "\n",
    "# Python3.7+\n",
    "import socket\n",
    "\n",
    "HOST, PORT = '', 8888\n",
    "\n",
    "listen_socket = socket.socket(socket.AF_INET, socket.SOCK_STREAM)\n",
    "listen_socket.setsockopt(socket.SOL_SOCKET, socket.SO_REUSEADDR, 1)\n",
    "listen_socket.bind((HOST, PORT))\n",
    "listen_socket.listen(1)\n",
    "print(f'Serving HTTP on port {PORT} ...')\n",
    "while True:\n",
    "    client_connection, client_address = listen_socket.accept()\n",
    "    request_data = client_connection.recv(1024)\n",
    "    print(request_data.decode('utf-8'))\n",
    "\n",
    "    http_response = b\"\"\"\\\n",
    "HTTP/1.1 200 OK\n",
    "\n",
    "Hello, World!\n",
    "\"\"\"\n",
    "    client_connection.sendall(http_response)\n",
    "    client_connection.close()"
   ]
  },
  {
   "cell_type": "markdown",
   "metadata": {},
   "source": [
    "## 3. Ping status"
   ]
  },
  {
   "cell_type": "code",
   "execution_count": 4,
   "metadata": {},
   "outputs": [
    {
     "data": {
      "text/plain": [
       "1"
      ]
     },
     "execution_count": 4,
     "metadata": {},
     "output_type": "execute_result"
    }
   ],
   "source": [
    "#https://stackoverflow.com/questions/26468640/python-function-to-test-ping/39563638\n",
    "import os\n",
    "hostname = \"https://www.google.com\"\n",
    "response = os.system(\"ping -c 1 \" + hostname)\n",
    "if response == 0:\n",
    "    pingstatus = \"Network Active\"\n",
    "else:\n",
    "    pingstatus = \"Network Error\"\n",
    "response"
   ]
  },
  {
   "cell_type": "code",
   "execution_count": 11,
   "metadata": {},
   "outputs": [
    {
     "data": {
      "text/plain": [
       "0"
      ]
     },
     "execution_count": 11,
     "metadata": {},
     "output_type": "execute_result"
    }
   ],
   "source": [
    "#For my raspberry\n",
    "import os\n",
    "response = os.system(\"ping 192.168.178.36\")\n",
    "if response == 0:\n",
    "    pingstatus = \"Network Active\"\n",
    "else:\n",
    "    pingstatus = \"Network Error\"\n",
    "response"
   ]
  },
  {
   "cell_type": "code",
   "execution_count": null,
   "metadata": {},
   "outputs": [],
   "source": []
  }
 ],
 "metadata": {
  "kernelspec": {
   "display_name": "Python 3",
   "language": "python",
   "name": "python3"
  },
  "language_info": {
   "codemirror_mode": {
    "name": "ipython",
    "version": 3
   },
   "file_extension": ".py",
   "mimetype": "text/x-python",
   "name": "python",
   "nbconvert_exporter": "python",
   "pygments_lexer": "ipython3",
   "version": "3.8.5"
  }
 },
 "nbformat": 4,
 "nbformat_minor": 2
}
