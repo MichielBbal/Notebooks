{
 "cells": [
  {
   "cell_type": "markdown",
   "id": "ae0612d2",
   "metadata": {},
   "source": [
    "# Some special data types also known as Collections\n",
    "\n",
    "### Contents\n",
    "1. Named tuple\n",
    "2. Ordered dict"
   ]
  },
  {
   "cell_type": "markdown",
   "id": "6d10308d",
   "metadata": {},
   "source": [
    "## 1. Named tuple\n",
    "\n",
    "The python standards library has a <b> collections </b> module that also provides 'named tuples', where you can reference by name rather than by index number.\n",
    "\n",
    "Link: https://docs.python.org/3/library/collections.html#module-collections"
   ]
  },
  {
   "cell_type": "code",
   "execution_count": 9,
   "id": "dd775b61",
   "metadata": {},
   "outputs": [
    {
     "name": "stdout",
     "output_type": "stream",
     "text": [
      "Card(face='Ace', suit='Spades')\n",
      "Ace\n",
      "Spades\n"
     ]
    }
   ],
   "source": [
    "#source python book p399\n",
    "from collections import namedtuple\n",
    "\n",
    "Card = namedtuple('Card', ['face', 'suit']) #create a function\n",
    "card = Card(face='Ace', suit='Spades')\n",
    "print(card)\n",
    "print(card.face)\n",
    "print(card.suit)"
   ]
  },
  {
   "cell_type": "code",
   "execution_count": 11,
   "id": "b664126e",
   "metadata": {},
   "outputs": [
    {
     "name": "stdout",
     "output_type": "stream",
     "text": [
      "<class 'type'>\n",
      "['__add__', '__class__', '__contains__', '__delattr__', '__dir__', '__doc__', '__eq__', '__format__', '__ge__', '__getattribute__', '__getitem__', '__getnewargs__', '__gt__', '__hash__', '__init__', '__init_subclass__', '__iter__', '__le__', '__len__', '__lt__', '__module__', '__mul__', '__ne__', '__new__', '__reduce__', '__reduce_ex__', '__repr__', '__rmul__', '__setattr__', '__sizeof__', '__slots__', '__str__', '__subclasshook__', '_asdict', '_field_defaults', '_fields', '_fields_defaults', '_make', '_replace', 'count', 'face', 'index', 'suit']\n"
     ]
    }
   ],
   "source": [
    "print(type(Card))\n",
    "print(dir(Card))"
   ]
  },
  {
   "cell_type": "code",
   "execution_count": 20,
   "id": "b9433344",
   "metadata": {},
   "outputs": [
    {
     "data": {
      "text/plain": [
       "Card(face='Queen', suit='Hearts')"
      ]
     },
     "execution_count": 20,
     "metadata": {},
     "output_type": "execute_result"
    }
   ],
   "source": [
    "# using the _make method\n",
    "values = ['Queen', 'Hearts']\n",
    "card = Card._make(values)\n",
    "card"
   ]
  },
  {
   "cell_type": "code",
   "execution_count": 22,
   "id": "54cad377",
   "metadata": {},
   "outputs": [
    {
     "name": "stdout",
     "output_type": "stream",
     "text": [
      "{'face': 'Queen', 'suit': 'Hearts'}\n"
     ]
    },
    {
     "data": {
      "text/plain": [
       "dict"
      ]
     },
     "execution_count": 22,
     "metadata": {},
     "output_type": "execute_result"
    }
   ],
   "source": [
    "# making a OrderedDict\n",
    "a =card._asdict()\n",
    "print(a)\n",
    "type(a)"
   ]
  },
  {
   "cell_type": "markdown",
   "id": "ca37ffd2",
   "metadata": {},
   "source": [
    "## 2. Ordered Dict\n",
    "source: https://www.geeksforgeeks.org/ordereddict-in-python/"
   ]
  },
  {
   "cell_type": "code",
   "execution_count": 23,
   "id": "73a0bdbd",
   "metadata": {},
   "outputs": [
    {
     "name": "stdout",
     "output_type": "stream",
     "text": [
      "This is a Dict:\n",
      "\n",
      "a 1\n",
      "b 2\n",
      "c 3\n",
      "d 4\n",
      "\n",
      "This is an Ordered Dict:\n",
      "\n",
      "a 1\n",
      "b 2\n",
      "c 3\n",
      "d 4\n"
     ]
    }
   ],
   "source": [
    "from collections import OrderedDict\n",
    " \n",
    "print(\"This is a Dict:\\n\")\n",
    "d = {}\n",
    "d['a'] = 1\n",
    "d['b'] = 2\n",
    "d['c'] = 3\n",
    "d['d'] = 4\n",
    " \n",
    "for key, value in d.items():\n",
    "    print(key, value)\n",
    " \n",
    "print(\"\\nThis is an Ordered Dict:\\n\")\n",
    "od = OrderedDict()\n",
    "od['a'] = 1\n",
    "od['b'] = 2\n",
    "od['c'] = 3\n",
    "od['d'] = 4\n",
    " \n",
    "for key, value in od.items():\n",
    "    print(key, value)"
   ]
  },
  {
   "cell_type": "code",
   "execution_count": null,
   "id": "dd1b0a79",
   "metadata": {},
   "outputs": [],
   "source": []
  },
  {
   "cell_type": "code",
   "execution_count": null,
   "id": "9827de42",
   "metadata": {},
   "outputs": [],
   "source": []
  },
  {
   "cell_type": "code",
   "execution_count": null,
   "id": "1b2ece4c",
   "metadata": {},
   "outputs": [],
   "source": []
  }
 ],
 "metadata": {
  "kernelspec": {
   "display_name": "Python 3 (ipykernel)",
   "language": "python",
   "name": "python3"
  },
  "language_info": {
   "codemirror_mode": {
    "name": "ipython",
    "version": 3
   },
   "file_extension": ".py",
   "mimetype": "text/x-python",
   "name": "python",
   "nbconvert_exporter": "python",
   "pygments_lexer": "ipython3",
   "version": "3.9.12"
  }
 },
 "nbformat": 4,
 "nbformat_minor": 5
}
