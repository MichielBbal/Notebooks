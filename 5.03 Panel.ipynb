{
 "cells": [
  {
   "cell_type": "markdown",
   "metadata": {},
   "source": [
    "# Panel"
   ]
  },
  {
   "cell_type": "markdown",
   "metadata": {},
   "source": [
    "<b>Panel</b> is a high-level python library for creating interactive dashboards.\n",
    "\n",
    "\n",
    "Sources and links:\n",
    "1. https://panel.holoviz.org/"
   ]
  },
  {
   "cell_type": "code",
   "execution_count": 3,
   "metadata": {},
   "outputs": [
    {
     "name": "stdout",
     "output_type": "stream",
     "text": [
      "Requirement already satisfied: panel in c:\\users\\31653\\anaconda3\\lib\\site-packages (0.10.3)\n",
      "Requirement already satisfied: bokeh>=2.2.2 in c:\\users\\31653\\anaconda3\\lib\\site-packages (from panel) (2.2.3)\n",
      "Requirement already satisfied: param>=1.10.0 in c:\\users\\31653\\anaconda3\\lib\\site-packages (from panel) (1.10.1)\n",
      "Requirement already satisfied: pyviz_comms>=0.7.4 in c:\\users\\31653\\anaconda3\\lib\\site-packages (from panel) (0.7.6)\n",
      "Requirement already satisfied: markdown in c:\\users\\31653\\anaconda3\\lib\\site-packages (from panel) (3.3.4)\n",
      "Requirement already satisfied: requests in c:\\users\\31653\\anaconda3\\lib\\site-packages (from panel) (2.25.1)\n",
      "Requirement already satisfied: tqdm in c:\\users\\31653\\anaconda3\\lib\\site-packages (from panel) (4.50.2)\n",
      "Requirement already satisfied: pyct>=0.4.4 in c:\\users\\31653\\anaconda3\\lib\\site-packages (from panel) (0.4.8)\n",
      "Requirement already satisfied: typing-extensions>=3.7.4 in c:\\users\\31653\\anaconda3\\lib\\site-packages (from bokeh>=2.2.2->panel) (3.7.4.3)\n",
      "Requirement already satisfied: pillow>=7.1.0 in c:\\users\\31653\\anaconda3\\lib\\site-packages (from bokeh>=2.2.2->panel) (8.0.1)\n",
      "Requirement already satisfied: numpy>=1.11.3 in c:\\users\\31653\\anaconda3\\lib\\site-packages (from bokeh>=2.2.2->panel) (1.19.2)\n",
      "Requirement already satisfied: packaging>=16.8 in c:\\users\\31653\\anaconda3\\lib\\site-packages (from bokeh>=2.2.2->panel) (20.4)\n",
      "Requirement already satisfied: python-dateutil>=2.1 in c:\\users\\31653\\anaconda3\\lib\\site-packages (from bokeh>=2.2.2->panel) (2.8.1)\n",
      "Requirement already satisfied: tornado>=5.1 in c:\\users\\31653\\anaconda3\\lib\\site-packages (from bokeh>=2.2.2->panel) (6.0.4)\n",
      "Requirement already satisfied: PyYAML>=3.10 in c:\\users\\31653\\anaconda3\\lib\\site-packages (from bokeh>=2.2.2->panel) (5.3.1)\n",
      "Requirement already satisfied: Jinja2>=2.7 in c:\\users\\31653\\anaconda3\\lib\\site-packages (from bokeh>=2.2.2->panel) (2.11.2)\n",
      "Requirement already satisfied: urllib3<1.27,>=1.21.1 in c:\\users\\31653\\anaconda3\\lib\\site-packages (from requests->panel) (1.26.4)\n",
      "Requirement already satisfied: idna<3,>=2.5 in c:\\users\\31653\\anaconda3\\lib\\site-packages (from requests->panel) (2.10)\n",
      "Requirement already satisfied: chardet<5,>=3.0.2 in c:\\users\\31653\\anaconda3\\lib\\site-packages (from requests->panel) (3.0.4)\n",
      "Requirement already satisfied: certifi>=2017.4.17 in c:\\users\\31653\\anaconda3\\lib\\site-packages (from requests->panel) (2020.6.20)\n",
      "Requirement already satisfied: pyparsing>=2.0.2 in c:\\users\\31653\\anaconda3\\lib\\site-packages (from packaging>=16.8->bokeh>=2.2.2->panel) (2.4.7)\n",
      "Requirement already satisfied: six in c:\\users\\31653\\anaconda3\\lib\\site-packages (from packaging>=16.8->bokeh>=2.2.2->panel) (1.15.0)\n",
      "Requirement already satisfied: MarkupSafe>=0.23 in c:\\users\\31653\\anaconda3\\lib\\site-packages (from Jinja2>=2.7->bokeh>=2.2.2->panel) (1.1.1)\n",
      "Note: you may need to restart the kernel to use updated packages.\n"
     ]
    }
   ],
   "source": [
    "pip install panel"
   ]
  },
  {
   "cell_type": "code",
   "execution_count": 1,
   "metadata": {},
   "outputs": [],
   "source": [
    "import panel"
   ]
  },
  {
   "cell_type": "code",
   "execution_count": 2,
   "metadata": {},
   "outputs": [
    {
     "name": "stderr",
     "output_type": "stream",
     "text": [
      "WARNING:param.Column00006: Displaying Panel objects in the notebook requires the panel extension to be loaded. Ensure you run pn.extension() before displaying objects in the notebook.\n"
     ]
    },
    {
     "data": {
      "text/plain": [
       "Column\n",
       "    [0] Column\n",
       "        [0] IntSlider(end=30, name='x', start=-10, value=10, value_throttled=10)\n",
       "    [1] Row\n",
       "        [0] Str(int, name='interactive00005')"
      ]
     },
     "execution_count": 2,
     "metadata": {},
     "output_type": "execute_result"
    }
   ],
   "source": [
    "import panel as pn\n",
    "def f(x):\n",
    "    return x * x\n",
    "pn.interact(f, x=10)"
   ]
  },
  {
   "cell_type": "code",
   "execution_count": null,
   "metadata": {},
   "outputs": [],
   "source": []
  }
 ],
 "metadata": {
  "kernelspec": {
   "display_name": "Python 3",
   "language": "python",
   "name": "python3"
  },
  "language_info": {
   "codemirror_mode": {
    "name": "ipython",
    "version": 3
   },
   "file_extension": ".py",
   "mimetype": "text/x-python",
   "name": "python",
   "nbconvert_exporter": "python",
   "pygments_lexer": "ipython3",
   "version": "3.8.5"
  }
 },
 "nbformat": 4,
 "nbformat_minor": 4
}
