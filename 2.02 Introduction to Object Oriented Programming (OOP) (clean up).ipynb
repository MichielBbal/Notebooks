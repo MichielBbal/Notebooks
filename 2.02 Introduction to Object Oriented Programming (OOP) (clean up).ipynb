{
 "cells": [
  {
   "cell_type": "markdown",
   "metadata": {},
   "source": [
    "# Introduction to Object Oriented Programming (OOP)\n",
    "\n",
    "\n",
    "## Contents:\n",
    "\n",
    "\n",
    "1. OOP Introduction\n",
    "2. Class Dog\n"
   ]
  },
  {
   "cell_type": "markdown",
   "metadata": {},
   "source": []
  },
  {
   "cell_type": "code",
   "execution_count": null,
   "metadata": {},
   "outputs": [],
   "source": []
  },
  {
   "cell_type": "code",
   "execution_count": null,
   "metadata": {},
   "outputs": [],
   "source": []
  },
  {
   "cell_type": "code",
   "execution_count": null,
   "metadata": {},
   "outputs": [],
   "source": []
  },
  {
   "cell_type": "markdown",
   "metadata": {},
   "source": [
    "## 1. OOP Class: Introduction\n",
    "\n",
    "Class is a template for creating user-defined objects. Class definitions normally contain method definitions which operate on instances of the class. Class is more than just a bag of function, it can also store objects and other data.\n",
    "\n",
    "- format: \"class Capital\". Always use a capital for classes.\n",
    "- a class can contain multiple methods\n",
    "- class can have their own variables (at Class level) and \n",
    "- It's the job of the Class to encapsulate everything to do with the class\n",
    "\n",
    "You can use class for inheritance and use it in other scripts (like a module)."
   ]
  },
  {
   "cell_type": "code",
   "execution_count": 1,
   "metadata": {},
   "outputs": [
    {
     "name": "stdout",
     "output_type": "stream",
     "text": [
      "Hello, Fred\n",
      "HELLO, FRED!\n"
     ]
    }
   ],
   "source": [
    "class Greeter(object):\n",
    "\n",
    "    # Constructor\n",
    "    def __init__(self, name):\n",
    "        self.name = name  # Create an instance variable\n",
    "    # Instance method\n",
    "    def greet(self, loud=False):\n",
    "        if loud:\n",
    "            print('HELLO, %s!' % self.name.upper())\n",
    "        else:\n",
    "            print('Hello, %s' % self.name)\n",
    "\n",
    "g = Greeter('Fred')  # Construct an instance of the Greeter class\n",
    "g.greet()            # Call an instance method; prints \"Hello, Fred\"\n",
    "g.greet(loud=True)   # Call an instance method; prints \"HELLO, FRED!\""
   ]
  },
  {
   "cell_type": "code",
   "execution_count": 12,
   "metadata": {},
   "outputs": [],
   "source": [
    "class Greeter(object):\n",
    "\n",
    "    # Constructor\n",
    "    def __init__(self, name):\n",
    "        self.name = name  # Create an instance variable\n",
    "    # Instance method\n",
    "    def greet(self):\n",
    "        print('Hello, %s' % self.name)\n",
    "        \n",
    "g = Greeter('Fred')  # Construct an instance of the Greeter class\n",
    "#g.greet()            # Call an instance method; prints \"Hello, Fred\""
   ]
  },
  {
   "cell_type": "code",
   "execution_count": 48,
   "metadata": {},
   "outputs": [
    {
     "name": "stdout",
     "output_type": "stream",
     "text": [
      "convert pound to kilogram\n",
      "1.0 kilogram\n"
     ]
    }
   ],
   "source": [
    "#From programming the RPi. p68\n",
    "\n",
    "class ScaleConverter : # defining the class\n",
    "    def __init__ (self, units_from, units_to, factor):  #initment or constructor\n",
    "        self.units_from = units_from #self.units_from kan je wijzigen\n",
    "        self.units_to = units_to\n",
    "        self.factor = factor\n",
    "        \n",
    "    def description (self):\n",
    "        return 'convert ' + self.units_from + ' to' + self.units_to\n",
    "    \n",
    "    def convert(self, value):\n",
    "        return value * self.factorts\n",
    "#name the instances\n",
    "c1 = ScaleConverter('inches', ' mm', 25)\n",
    "c2 = ScaleConverter('pound', ' kilogram', 0.5)\n",
    "print(c2.description())\n",
    "print(str(c2.convert(2))+ c2.units_to)"
   ]
  },
  {
   "cell_type": "code",
   "execution_count": 44,
   "metadata": {},
   "outputs": [],
   "source": [
    "#my first class\n",
    "class Rekenen():\n",
    "    def __init__(self, x, y): #De constructor maakt de initiële staat van een object, met het minimum aan parameters. \n",
    "        self.x = x\n",
    "        self.y = y\n",
    "        \n",
    "    def optellen(self):\n",
    "        return self.x + self.y\n",
    "    \n",
    "    def vermenigvuldigen(self):\n",
    "        return self.x * self.y"
   ]
  },
  {
   "cell_type": "code",
   "execution_count": 47,
   "metadata": {},
   "outputs": [
    {
     "name": "stdout",
     "output_type": "stream",
     "text": [
      "9\n",
      "20\n"
     ]
    }
   ],
   "source": [
    "print(Rekenen(4,5).optellen())\n",
    "print(Rekenen(4,5).vermenigvuldigen())"
   ]
  },
  {
   "cell_type": "markdown",
   "metadata": {},
   "source": [
    "## 2. Class Dog (realpython example)"
   ]
  },
  {
   "cell_type": "code",
   "execution_count": 1,
   "metadata": {},
   "outputs": [],
   "source": [
    "#step 1: just create a class. Class is with a capital.\n",
    "class Dog:\n",
    "    pass"
   ]
  },
  {
   "cell_type": "code",
   "execution_count": 2,
   "metadata": {},
   "outputs": [],
   "source": [
    "#step 2: create the constructor\n",
    "class Dog:\n",
    "    def __init__(self, name, age): #.__init__() sets the initial state of the object. This is called the constructor. \n",
    "        self.name = name\n",
    "        self.age = age"
   ]
  },
  {
   "cell_type": "code",
   "execution_count": 15,
   "metadata": {},
   "outputs": [],
   "source": [
    "#step 3: ath the firs\n",
    "class Dog:\n",
    "    # Class attribute\n",
    "    species = \"Canis familiaris\"\n",
    "    \n",
    "    def __init__(self, name, age):\n",
    "        self.name = name\n",
    "        self.age = age"
   ]
  },
  {
   "cell_type": "code",
   "execution_count": 20,
   "metadata": {},
   "outputs": [
    {
     "name": "stdout",
     "output_type": "stream",
     "text": [
      "<__main__.Dog object at 0x7fc9fd118970>\n"
     ]
    }
   ],
   "source": [
    "Dog('Buddy', 12)"
   ]
  },
  {
   "cell_type": "code",
   "execution_count": 19,
   "metadata": {},
   "outputs": [
    {
     "name": "stdout",
     "output_type": "stream",
     "text": [
      "Buddy\n",
      "12\n",
      "Canis familiaris\n"
     ]
    }
   ],
   "source": [
    "#create an instance (or object) of the class Dog\n",
    "Buddy = Dog('Buddy', 12)\n",
    "print(Buddy.name)\n",
    "print(Buddy.age)\n",
    "print(Buddy.species)"
   ]
  },
  {
   "cell_type": "code",
   "execution_count": null,
   "metadata": {},
   "outputs": [],
   "source": []
  },
  {
   "cell_type": "code",
   "execution_count": null,
   "metadata": {},
   "outputs": [],
   "source": []
  },
  {
   "cell_type": "code",
   "execution_count": null,
   "metadata": {},
   "outputs": [],
   "source": []
  },
  {
   "cell_type": "code",
   "execution_count": 21,
   "metadata": {},
   "outputs": [
    {
     "name": "stdout",
     "output_type": "stream",
     "text": [
      "Sum : 9\n"
     ]
    }
   ],
   "source": [
    "class calculator():\n",
    "  def __init__(self,x,y): #create the constructor\n",
    "    self.x=x\n",
    "    self.y=y\n",
    "\n",
    "  def add(self):\n",
    "    print(\"Sum :\",self.x+self.y)\n",
    "\n",
    "instance =calculator(5,4) # create an instance or object \n",
    "\n",
    "instance.add()"
   ]
  },
  {
   "cell_type": "code",
   "execution_count": 18,
   "metadata": {},
   "outputs": [
    {
     "name": "stdout",
     "output_type": "stream",
     "text": [
      "Sum : 9\n",
      "Subtraction : 1\n",
      "Multiplication : 20\n",
      "Division : 1.25\n"
     ]
    }
   ],
   "source": [
    "class calculator():\n",
    "  def __init__(self,x,y):\n",
    "    self.x=x\n",
    "    self.y=y\n",
    "\n",
    "  def add(self):\n",
    "    print(\"Sum :\",self.x+self.y)\n",
    "\n",
    "  def subtraction(self):\n",
    "    print(\"Subtraction :\",self.x-self.y)  \n",
    "\n",
    "  def multiplication(self):\n",
    "    print(\"Multiplication :\",self.x*self.y)\n",
    "\n",
    "  def division(self):\n",
    "    print(\"Division :\",self.x/self.y)  \n",
    "#x=int(input(\"Enter first number : \"))\n",
    "#y=int(input(\"Enter second number : \"))\n",
    "#n1=calculator(x,y) # object \n",
    "n1=calculator(5,4) # object \n",
    "\n",
    "n1.add()\n",
    "n1.subtraction()\n",
    "n1.multiplication()\n",
    "n1.division()"
   ]
  },
  {
   "cell_type": "code",
   "execution_count": null,
   "metadata": {},
   "outputs": [],
   "source": [
    "class User:\n",
    "    pass\n",
    "\n",
    "user1 = User() #user1 is an instance or object of the class\n",
    "user1.first_name = 'Dave'\n",
    "user1.last_name = 'Bowie'\n",
    "user1.age = 37\n",
    "user2 = User() # user2 is another instance of the class\n",
    "user2.first_name = \"Frank\"\n",
    "user2.last_name = \"Poel\"\n",
    "user2.fav_book = \"2001 Space Odessey\"\n",
    "first_name= \"Dave\" #out of the class\n",
    "last_name=\"Bowie\" # out of the class\n",
    "\n",
    "print(user1.first_name, user1.last_name)\n",
    "print(user2.first_name, user2.last_name)\n",
    "print(first_name, last_name)\n",
    "print(user1.age)"
   ]
  },
  {
   "cell_type": "code",
   "execution_count": 2,
   "metadata": {},
   "outputs": [
    {
     "name": "stdout",
     "output_type": "stream",
     "text": [
      "Dave Bowman 19760114\n"
     ]
    }
   ],
   "source": [
    "class User:\n",
    "    def __init__(self, full_name, birthday):\n",
    "        self.name = full_name\n",
    "        self.birthday = birthday # value = birthday, self.birthday is a field that stores the value\n",
    "        \n",
    "user = User(\"Dave Bowman\", 19760114)\n",
    "print(user.name, user.birthday)"
   ]
  },
  {
   "cell_type": "code",
   "execution_count": null,
   "metadata": {},
   "outputs": [],
   "source": [
    "#source: https://www.youtube.com/watch?v=apACNr7DC_s\n",
    "import datetime\n",
    "\n",
    "class User:\n",
    "    #then write a docstring\n",
    "    \"\"\" this is a docstring. type help(User) for a summary of the class\"\"\"\n",
    "    \n",
    "    def __init__ (self, full_name, birthday):\n",
    "        self.name = full_name\n",
    "        self.birthday = birthday #YYYYMMDD birthday = value and self.birthday is a field that store that value\n",
    "        \n",
    "        #Split full_name in first and last name\n",
    "        name_pieces = full_name.split(\" \")\n",
    "        self.first_name = name_pieces[0]\n",
    "        self.last_name = name_pieces[-1]\n",
    "    \n",
    "    def age(self):\n",
    "        \"\"\"return the age of the user\"\"\"\n",
    "        today = datetime.date(2001,5,12)\n",
    "        yyyy = int(self.birthday[0:4])\n",
    "        mm = int(self.birthday[4:6])\n",
    "        dd = int(self.birthday[6:8])\n",
    "        dob = datetime.date(yyyy, mm, dd)\n",
    "        age_in_days = (today - dob).days\n",
    "        age_in_years = age_in_days / 365\n",
    "        return int(age_in_years)\n",
    "\n",
    "                \n",
    "user = User('Dave Bowman', \"19710315\")\n",
    "print(user.age())\n",
    "#help(User) use this for a summary of the Class"
   ]
  },
  {
   "cell_type": "markdown",
   "metadata": {},
   "source": [
    "### 2.x Class example 4\n",
    "\n",
    "Source: https://www.youtube.com/watch?v=ZDa-Z5JzLYM\n",
    "\n",
    "In this example we have the following steps:\n",
    "1. Define the class\n",
    "2. Define the __init__ method and the associated data fields\n",
    "3. Define the other functions\n",
    "4. Enter the data according to structure of __init__\n",
    "5. Print the output\n"
   ]
  },
  {
   "cell_type": "code",
   "execution_count": 68,
   "metadata": {},
   "outputs": [
    {
     "name": "stdout",
     "output_type": "stream",
     "text": [
      "Corey Schafer\n",
      "Corey Schafer\n",
      "Test.User@company.com\n",
      "Test.User@company.com\n"
     ]
    }
   ],
   "source": [
    "class Employee:\n",
    "    \n",
    "    def __init__ (self, first, last, pay):  # contructor / method\n",
    "        self.first = first #instance variable\n",
    "        self.last = last\n",
    "        self.pay = pay\n",
    "            \n",
    "    def full_name(self): # method to create full_name combining \"first\" and \"last\"\n",
    "        return '{} {}'.format(self.first, self.last)\n",
    "    \n",
    "    def email(self): # method to create email in form of first.last@company.com\n",
    "        return \"{}.{}@company.com\".format(self.first, self.last)\n",
    " \n",
    "#Entering the data conform the __init__ format\n",
    "emp_1=Employee('Corey', 'Schafer', 5000) # instance 1\n",
    "emp_2=Employee('Test', 'User', 60000)\n",
    "\n",
    "# two ways of getting the same result\n",
    "print(emp_1.full_name())\n",
    "print(Employee.full_name(emp_1)) #print(class.method(data))\n",
    "\n",
    "print(emp_2.email())\n",
    "print(Employee.email(emp_2))"
   ]
  },
  {
   "cell_type": "markdown",
   "metadata": {},
   "source": [
    "### 2.x Class: XXX Amsterdam Variables script\n",
    "\n",
    "There are three types of variables:\n",
    "- Global variables\n",
    "- Class variables\n",
    "- Function variables\n",
    "\n",
    "In this script all three variables are used: \n",
    "\n",
    "For any programmer it is important not to mix them up!"
   ]
  },
  {
   "cell_type": "code",
   "execution_count": 1,
   "metadata": {},
   "outputs": [
    {
     "name": "stdout",
     "output_type": "stream",
     "text": [
      "Am\n",
      "ster\n",
      "dam\n"
     ]
    }
   ],
   "source": [
    "# Just a short script to show the difference between global, class and functional variables\n",
    "\n",
    "X1 = \"Am\" #This is the global variable containging the value \"Am\"\n",
    "\n",
    "class X2:\n",
    "    X2 = \"ster\" # This is the class variable\n",
    "    \n",
    "    def __init__(self, X3):\n",
    "        self.X3 = X3 \n",
    "\n",
    "#now create an instance:        \n",
    "X3 = X2(\"dam\") #this is the function variable adding it to the class\n",
    "\n",
    "print(X1) # print the global variable\n",
    "print(X2.X2) # print the Class variable\n",
    "print(X3.X3) # print the function variable"
   ]
  },
  {
   "cell_type": "code",
   "execution_count": 3,
   "metadata": {},
   "outputs": [
    {
     "name": "stdout",
     "output_type": "stream",
     "text": [
      "<__main__.X object at 0x7f8c73776100>\n",
      "dam\n"
     ]
    }
   ],
   "source": [
    "# Just a short script to show what happens when the variabls are wrongly assigned :-)\n",
    "\n",
    "X = \"Am\" #This is the global variable\n",
    "\n",
    "class X:\n",
    "    X = \"ster\" # This is the class variable\n",
    "    \n",
    "    def __init__(self, X):\n",
    "        self.X = X \n",
    "\n",
    "#now create an instance:        \n",
    "X = X(\"dam\") #this is the function / instance variable\n",
    "\n",
    "print(X) # print the global variable\n",
    "print(X.X) # print the Class variable\n",
    "#print(X3.X3) # print the function / instance variable"
   ]
  },
  {
   "cell_type": "markdown",
   "metadata": {},
   "source": [
    "### 2.x Class from Python for beginners\n",
    "\n",
    "Page -  Class example"
   ]
  },
  {
   "cell_type": "code",
   "execution_count": 2,
   "metadata": {},
   "outputs": [],
   "source": [
    "#account.py\n",
    "\"\"\"Account class definition\"\"\"\n",
    "from decimal import Decimal\n",
    "\n",
    "class Account:\n",
    "    \"\"\"Account class for maintaining a bank account balance\"\"\" #docstring\n",
    "    \n",
    "    def __init__(self, name, balance): #self is first parameter. A class methods must use that reference(self) to access the object's attributes and other methods.\n",
    "        \"\"\"Inititalize the Account objects name and balance\"\"\"\n",
    "        \n",
    "    #if a balance is less than 0.00, raise an exception\n",
    "    if balance < Decimal('0.00'):\n",
    "        raise ValueError('Initial balance must be >= to 0.00.')\n",
    "        \n",
    "    self.name = name\n",
    "    self.balance = balance\n",
    "    \n",
    "    def deposit(self, amount):\n",
    "        \"\"\"Deposits money to the amount\"\"\"\n",
    "        \n",
    "        #if amount is less than 0.00, raise an exception\n",
    "        if amount > self.balance:\n",
    "            raise ValueError('amount must be positive')\n",
    "        elif amount < Decimal('0.00'):\n",
    "            raise ValueError('amount must be positive')\n",
    "        \n",
    "        self.balance += amount\n",
    "        \n",
    "    def withdraw(self, amount):\n",
    "        \"\"\"Withdraws money from the amount\"\"\"\n",
    "        \n",
    "        #if withdrawal is greater than amount, raise an exception\n",
    "        if withdrawal > amount:\n",
    "            raise ValueError('withdrawal too high')\n",
    "        \n",
    "        self.balance -= amount"
   ]
  },
  {
   "cell_type": "code",
   "execution_count": null,
   "metadata": {},
   "outputs": [],
   "source": [
    "#card.py - Intro to Python p.375\n",
    "\"\"\"Card class that represents a playing card and its image file name\"\"\"\n",
    "\n",
    "class Card:\n",
    "    FACES = ['Ace', '2', '3', '4', '5', '6', \n",
    "             '7', '8', '9', '10', 'Jack', 'Queen', 'King']\n",
    "    SUITS = ['Hearts', 'Diamonds', 'Clubs', 'Spades']\n",
    "    #both are constants and therefore written with capitals\n",
    "    def __init__(self, face, suit):\n",
    "        \"\"\"Initialize a card with a fac and suit\"\"\"\n",
    "        self._face = face\n",
    "        self._suit = suit\n",
    "        \n",
    "        @property\n",
    "        def face(self):\n",
    "            \"\"\"return the Card's self._face value\"\"\"\n",
    "            return self._face\n",
    "        \n",
    "        @property\n",
    "        def suit(self):\n",
    "            \"\"\"Return the Card's self._suit value\"\"\"\n",
    "            return self._suit\n",
    "        \n",
    "        @property\n",
    "        def image_name(self):\n",
    "            \"\"\"Return the Card's image file name\"\"\"\n",
    "            return str(self).replace(' ', '_') + '.png'"
   ]
  },
  {
   "cell_type": "markdown",
   "metadata": {},
   "source": []
  },
  {
   "cell_type": "code",
   "execution_count": 27,
   "metadata": {},
   "outputs": [
    {
     "name": "stdout",
     "output_type": "stream",
     "text": [
      "False\n",
      "34\n"
     ]
    }
   ],
   "source": [
    "variabele = 34\n",
    "variabele2 = 52\n",
    "\n",
    "print(variabele is variable2)\n",
    "#variabele = variabele2\n",
    "print(variabele)"
   ]
  },
  {
   "cell_type": "markdown",
   "metadata": {},
   "source": [
    "## Opdracht AI cafe\n",
    "\n",
    "Binary Search Trees is another way to store data. It consists of nodes. Nodes are integers.\n",
    "\n",
    "Example:\n",
    "                 8\n",
    "                / \\\n",
    "               3   10\n",
    "              / \\  /\\\n",
    "             2  6 9  11\n",
    "\n",
    "Full binary search tree: all nodes are full\n",
    "complete: all except leaf nodes \n",
    "balanced: leafs are same level (exept for 1) unbalanced > 1 leaf on different height.\n",
    "\n",
    "### Terms\n",
    "node = an element in a search tree<br>\n",
    "root = first node (usually on top)<br>\n",
    "child: Each node has (exactly) two children a 'left'and a 'right' child.<br>\n",
    "    left child < parent and right node > parent\n",
    "leaf node = node without children\n",
    "\n",
    "height/depth of a tree: number of levels of the tree. Starts with 1. height of full tree= log(n)\n",
    "\n",
    "### How to construct a search tree\n",
    "- start with creating a class to assing nodes.\n",
    "- start with creating a second class to create the BST\n",
    "    - create a constructor with self, left, right\n",
    "- start with value = None\n",
    "\n",
    "- insert data into the tree with a function 'insert'\n",
    "    - create a helper (private) function _insert to do the recursive tasks \n",
    "   if value_child < value_parent:\n",
    "        return left_child\n",
    "    if value_child > value_parent:\n",
    "        return right_child \n",
    "\n",
    "- add data to the tree by calling the insert function:\n",
    "    - as an instance\n",
    "    - or with an new 'random' function\n",
    "- height of a tree: You can show the height by creating a function height that runs down the search tree and than does +1 action. Return the max value of both left/right!"
   ]
  },
  {
   "cell_type": "code",
   "execution_count": 1,
   "metadata": {},
   "outputs": [
    {
     "name": "stdout",
     "output_type": "stream",
     "text": [
      "7\n",
      "49\n",
      "95\n",
      "76\n",
      "86\n",
      "16\n",
      "51\n",
      "1\n",
      "95\n",
      "7\n",
      "None\n"
     ]
    }
   ],
   "source": [
    "# Michiels Binary Search Tree HIER ALLEEN WERKENDE CODE!\n",
    "import random\n",
    "class Tree:\n",
    "    '''a class for the Binary Search Tree'''\n",
    "    def __init__(self, left, right): #create the constructor\n",
    "        self.left = left\n",
    "        self.right = right\n",
    "        \n",
    "    def _random(self, num_elems=10, max_int=100):\n",
    "       for i in range(num_elems): #for loop 10x\n",
    "            print(random.randint(0, max_int)) # print an integer between 10 and 20\n",
    "print(Tree._random(0)) #print the function"
   ]
  },
  {
   "cell_type": "code",
   "execution_count": 75,
   "metadata": {},
   "outputs": [
    {
     "data": {
      "text/plain": [
       "[37, 89, 81, 54, 98, 49, 2, 43, 16, 1]"
      ]
     },
     "execution_count": 75,
     "metadata": {},
     "output_type": "execute_result"
    }
   ],
   "source": [
    "# Michiels Binary Search Tree / KLADVERSIE\n",
    "import random\n",
    "class Tree:\n",
    "    \n",
    "    def __init__(self, left, right):\n",
    "        self.left = left\n",
    "        self.right = right\n",
    "\n",
    "    def _random(num_elems, max_int): \n",
    "        \n",
    "        for i in range(num_elems): #for loop num_elems\n",
    "            return (random.randint(0, max_int)) # print an integer between 0 and max_integer\n",
    "        \n",
    "    def add(num_elemens, max_int):\n",
    "        return random.sample(range(0,max_int), num_elemens)\n",
    "    \n",
    "    def display():\n",
    "        return add()\n",
    "\n",
    "    def depth(num_elems, max_int):\n",
    "        x= (add(num_elems, max_int))\n",
    "        print(len(x))\n",
    "    def tolist(num_elems, max_int):\n",
    "        tolist =[]\n",
    "        for i in range(num_elems): #for loop num_elems\n",
    "            item = random.randint(0, max_int) # print an integer between 0 and \n",
    "            tolist.append(item)\n",
    "        return tolist\n",
    "\n",
    "#print(Tree.add(5,100))\n",
    "#Tree._random(10,100)\n",
    "#Tree.depth(10,100)\n",
    "Tree.tolist(10,100)\n"
   ]
  },
  {
   "cell_type": "markdown",
   "metadata": {},
   "source": []
  },
  {
   "cell_type": "code",
   "execution_count": null,
   "metadata": {},
   "outputs": [],
   "source": []
  },
  {
   "cell_type": "code",
   "execution_count": null,
   "metadata": {},
   "outputs": [],
   "source": []
  }
 ],
 "metadata": {
  "kernelspec": {
   "display_name": "Python 3 (ipykernel)",
   "language": "python",
   "name": "python3"
  },
  "language_info": {
   "codemirror_mode": {
    "name": "ipython",
    "version": 3
   },
   "file_extension": ".py",
   "mimetype": "text/x-python",
   "name": "python",
   "nbconvert_exporter": "python",
   "pygments_lexer": "ipython3",
   "version": "3.9.12"
  }
 },
 "nbformat": 4,
 "nbformat_minor": 4
}
