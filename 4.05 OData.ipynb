{
 "cells": [
  {
   "cell_type": "code",
   "execution_count": 2,
   "metadata": {},
   "outputs": [
    {
     "name": "stdout",
     "output_type": "stream",
     "text": [
      "Collecting pyodata\n",
      "  Downloading pyodata-1.7.0-py3-none-any.whl (65 kB)\n",
      "Requirement already satisfied: lxml>=3.7.3 in c:\\users\\31653\\anaconda3\\lib\\site-packages (from pyodata) (4.6.1)\n",
      "Installing collected packages: pyodata\n",
      "Successfully installed pyodata-1.7.0\n",
      "Note: you may need to restart the kernel to use updated packages.\n"
     ]
    }
   ],
   "source": [
    "pip install pyodata"
   ]
  },
  {
   "cell_type": "code",
   "execution_count": 3,
   "metadata": {},
   "outputs": [],
   "source": [
    "import requests\n",
    "import pyodata\n",
    "\n",
    "SERVICE_URL = 'http://services.odata.org/V2/Northwind/Northwind.svc/'\n",
    "\n",
    "# Create instance of OData client\n",
    "client = pyodata.Client(SERVICE_URL, requests.Session())"
   ]
  },
  {
   "cell_type": "code",
   "execution_count": 4,
   "metadata": {},
   "outputs": [
    {
     "data": {
      "text/plain": [
       "<pyodata.v2.service.Service at 0x2978c0db4f0>"
      ]
     },
     "execution_count": 4,
     "metadata": {},
     "output_type": "execute_result"
    }
   ],
   "source": [
    "client"
   ]
  },
  {
   "cell_type": "code",
   "execution_count": 5,
   "metadata": {},
   "outputs": [
    {
     "name": "stdout",
     "output_type": "stream",
     "text": [
      "<pyodata.v2.service.Service object at 0x000002978C0DB4F0>\n"
     ]
    }
   ],
   "source": [
    "print(client)"
   ]
  },
  {
   "cell_type": "code",
   "execution_count": 6,
   "metadata": {},
   "outputs": [],
   "source": [
    "import pyodata\n",
    "import requests\n",
    "\n",
    "SERVICE_URL = 'http://services.odata.org/V2/Northwind/Northwind.svc/'\n",
    "\n",
    "northwind = pyodata.Client(SERVICE_URL, requests.Session())"
   ]
  },
  {
   "cell_type": "code",
   "execution_count": 7,
   "metadata": {},
   "outputs": [
    {
     "data": {
      "text/plain": [
       "<pyodata.v2.service.Service at 0x2978ac0d490>"
      ]
     },
     "execution_count": 7,
     "metadata": {},
     "output_type": "execute_result"
    }
   ],
   "source": [
    "northwind"
   ]
  },
  {
   "cell_type": "code",
   "execution_count": 9,
   "metadata": {},
   "outputs": [],
   "source": [
    "import pyodata\n",
    "from pyodata.v2.model import PolicyFatal, PolicyWarning, PolicyIgnore, ParserError, Config\n",
    "import requests\n",
    "\n",
    "SERVICE_URL = 'http://services.odata.org/V2/Northwind/Northwind.svc/'\n",
    "\n",
    "namespaces = {\n",
    "    'edmx': 'customEdmxUrl.com',\n",
    "    'edm': 'customEdmUrl.com'\n",
    "}\n",
    "\n",
    "custom_config = Config(\n",
    "    xml_namespaces=namespaces,\n",
    "    default_error_policy=PolicyFatal(),\n",
    "    custom_error_policies={\n",
    "         ParserError.ANNOTATION: PolicyWarning(),\n",
    "         ParserError.ASSOCIATION: PolicyIgnore()\n",
    "    })\n",
    "\n",
    "northwind = pyodata.Client(SERVICE_URL, requests.Session(), config=custom_config)"
   ]
  },
  {
   "cell_type": "code",
   "execution_count": 12,
   "metadata": {},
   "outputs": [
    {
     "name": "stdout",
     "output_type": "stream",
     "text": [
      "<pyodata.v2.service.Service object at 0x000002978AC19AC0>\n"
     ]
    }
   ],
   "source": [
    "print(northwind)"
   ]
  },
  {
   "cell_type": "code",
   "execution_count": null,
   "metadata": {},
   "outputs": [],
   "source": []
  }
 ],
 "metadata": {
  "kernelspec": {
   "display_name": "Python 3",
   "language": "python",
   "name": "python3"
  },
  "language_info": {
   "codemirror_mode": {
    "name": "ipython",
    "version": 3
   },
   "file_extension": ".py",
   "mimetype": "text/x-python",
   "name": "python",
   "nbconvert_exporter": "python",
   "pygments_lexer": "ipython3",
   "version": "3.8.5"
  }
 },
 "nbformat": 4,
 "nbformat_minor": 4
}
