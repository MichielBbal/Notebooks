{
 "cells": [
  {
   "cell_type": "code",
   "execution_count": 3,
   "id": "0d323b9a",
   "metadata": {},
   "outputs": [
    {
     "name": "stdout",
     "output_type": "stream",
     "text": [
      "Converteren van vreemde valuta in euro's \n",
      "\n",
      "\n",
      "1 US dollar \n",
      "2 GP pounds \n",
      "3 Yen \n",
      "\n",
      "Kies welke valuta voor conversie naar euro's: 1\n",
      "In te wisselen bedrag: 1000\n",
      "\n",
      "Voor 1000.0 US dollar krijgt u 1017.6 Euro. De transactiekosten bedragen 15.0 euro. U ontvangt 1002.6 euro.\n"
     ]
    }
   ],
   "source": [
    "# File: opdracht1.py\n",
    "# Author: Fabien Rameau (F.Rameau@hotmail.oom), 18/9/2022\n",
    "# Description: Opdracht 1 - Valuta converter USD, GBP, Yen naar euro's met transactiekosten\n",
    "\n",
    "transactioncost_rate = 1.5/100      # Transactiekosten in procenten\n",
    "transactioncost_min = 2             # Minimum van transactie in euro's\n",
    "transactioncost_max = 15            # Maximum van transactie in euro's\n",
    "\n",
    "currency_usdeur = 1.0176            # Valutakoers USDEUR\n",
    "currency_gbpeur = 1.1487            # Valutakoers GBPEUR\n",
    "currency_yeneur = 0.0070            # Valutakoers YENEUR\n",
    "\n",
    "\n",
    "\n",
    "print(\"Converteren van vreemde valuta in euro's \\n\\n\")\n",
    "\n",
    "print(\"1 US dollar \\n2 GP pounds \\n3 Yen \\n\")\n",
    "\n",
    "currency = int(input(\"Kies welke valuta voor conversie naar euro's: \"))     # Kies welke valuta (1, 2 of 3)\n",
    "  \n",
    "amount = float(input(\"In te wisselen bedrag: \"))\n",
    "\n",
    "print()\n",
    "\n",
    "transactioncost_total = amount * transactioncost_rate                       # Berekening transactiekosten\n",
    "\n",
    "\n",
    "# Berekening transactiekosten met min/max opgegeven in variabelen\n",
    "if transactioncost_total < transactioncost_min:\n",
    "    transactioncost_total = transactioncost_min\n",
    "elif transactioncost_total > transactioncost_max:\n",
    "    transactioncost_total = transactioncost_max\n",
    "\n",
    "\n",
    "# Output vreemde valuta naar euro's met vermelding transactiekosten\n",
    "if currency==1:\n",
    "    print (\"Voor\", amount, \"US dollar krijgt u\", round(currency_usdeur*amount, 2), \"Euro. De transactiekosten bedragen\",\n",
    "           round(transactioncost_total, 2), \"euro. U ontvangt\", round(currency_usdeur*amount-transactioncost_total, 2), \"euro.\")\n",
    "elif currency == 2:\n",
    "    print (\"Voor\", amount, \"GB pound krijgt u\", round(currency_gbpeur*amount, 2), \"Euro. De transactiekosten bedragen\",\n",
    "           round(transactioncost_total, 2), \"euro. U ontvangt\", round(currency_usdeur*amount-transactioncost_total, 2), \"euro.\")\n",
    "elif currency == 3:\n",
    "    print (\"Voor\", amount, \"yen krijgt u\", round(currency_yeneur*amount, 2), \"Euro. De transactiekosten bedragen\",\n",
    "           round(transactioncost_total, 2), \"euro. U ontvangt\", round(currency_usdeur*amount-transactioncost_total, 2), \"euro.\")\n",
    "else:\n",
    "    print(\"Verkeerde input\")"
   ]
  },
  {
   "cell_type": "code",
   "execution_count": 21,
   "id": "5c54efe7",
   "metadata": {},
   "outputs": [],
   "source": [
    "def my_function(x):\n",
    "    return(1+x)"
   ]
  },
  {
   "cell_type": "code",
   "execution_count": 22,
   "id": "7ec8d0b3",
   "metadata": {},
   "outputs": [
    {
     "data": {
      "text/plain": [
       "6"
      ]
     },
     "execution_count": 22,
     "metadata": {},
     "output_type": "execute_result"
    }
   ],
   "source": [
    "my_function(5)"
   ]
  },
  {
   "cell_type": "code",
   "execution_count": 3,
   "id": "0184806c",
   "metadata": {},
   "outputs": [
    {
     "name": "stdout",
     "output_type": "stream",
     "text": [
      "4\n"
     ]
    }
   ],
   "source": [
    "import random\n",
    "\n",
    "dobbelsteen = random.randint(1,6)\n",
    "print(dobbelsteen)"
   ]
  },
  {
   "cell_type": "markdown",
   "id": "7da5c057",
   "metadata": {},
   "source": [
    "## Dit is een toelichting"
   ]
  },
  {
   "cell_type": "code",
   "execution_count": 34,
   "id": "04ece1d6",
   "metadata": {},
   "outputs": [
    {
     "data": {
      "text/plain": [
       "[5, 4, 5]"
      ]
     },
     "execution_count": 34,
     "metadata": {},
     "output_type": "execute_result"
    }
   ],
   "source": [
    "gooi_list =[]\n",
    "for gooi in range(0,3):\n",
    "    dobbelsteen = random.randint(1,6)\n",
    "    gooi_list.append(dobbelsteen)\n",
    "gooi_list"
   ]
  },
  {
   "cell_type": "code",
   "execution_count": 38,
   "id": "779c165a",
   "metadata": {},
   "outputs": [],
   "source": [
    "sum = 0\n",
    "\n",
    "# iterating over natural numbers using range()\n",
    "for val in range(2, 6):\n",
    "    # calculating sum\n",
    "    sum = sum + val"
   ]
  },
  {
   "cell_type": "code",
   "execution_count": 39,
   "id": "628428be",
   "metadata": {},
   "outputs": [
    {
     "name": "stdout",
     "output_type": "stream",
     "text": [
      "14\n"
     ]
    }
   ],
   "source": [
    "print(sum)"
   ]
  },
  {
   "cell_type": "code",
   "execution_count": 41,
   "id": "d9b00663",
   "metadata": {},
   "outputs": [
    {
     "name": "stdout",
     "output_type": "stream",
     "text": [
      "5\n",
      "9\n",
      "14\n",
      "20\n"
     ]
    }
   ],
   "source": [
    "# initiele waarde voor het resultaat is het eerste getal\n",
    "resultaat = 2\n",
    "for i in range (3,7): # i van 3 tot en met 6 (tot 7)\u000b",
    "    \n",
    "    resultaat += i\n",
    "    print(resultaat)\n"
   ]
  },
  {
   "cell_type": "code",
   "execution_count": null,
   "id": "9640dfa3",
   "metadata": {},
   "outputs": [],
   "source": [
    "import random\n",
    "# genereer een willekeurig getal tussen 1 - 100\n",
    "print(\"Raad een getal tussen 1 en 100\")\n",
    "getal = random.randint(1, 100)\n",
    "\n",
    "gok = 0 # dit is nooit juist, zodat de while loop tenminste 1x wordt uitgevoerd\n",
    "# laat gebruiker raden tot getal gevonden is\n",
    "while gok != getal:   \n",
    "    gok = int(input(\"Geef een getal: \"))\n",
    "    if gok < getal:       \n",
    "        print(\"Getal is te laag\")\n",
    "    elif gok > getal:\n",
    "        print(\"Getal is te hoog\")\n",
    "print(\"Klopt! Het getal is\", getal)"
   ]
  },
  {
   "cell_type": "code",
   "execution_count": 51,
   "id": "a01f53e4",
   "metadata": {},
   "outputs": [
    {
     "name": "stdout",
     "output_type": "stream",
     "text": [
      "Raad een getal tussen 1 en 100\n",
      "Geef een getal: 50\n",
      "Getal is te laag\n",
      "Geef een getal: 75\n",
      "Getal is te laag\n",
      "Geef een getal: 90\n",
      "Getal is te hoog\n",
      "Geef een getal: 83\n",
      "Getal is te laag\n",
      "Geef een getal: 86\n",
      "OK\n"
     ]
    },
    {
     "ename": "KeyboardInterrupt",
     "evalue": "Interrupted by user",
     "output_type": "error",
     "traceback": [
      "\u001b[0;31m---------------------------------------------------------------------------\u001b[0m",
      "\u001b[0;31mKeyboardInterrupt\u001b[0m                         Traceback (most recent call last)",
      "Input \u001b[0;32mIn [51]\u001b[0m, in \u001b[0;36m<cell line: 8>\u001b[0;34m()\u001b[0m\n\u001b[1;32m      6\u001b[0m \u001b[38;5;66;03m# laat gebruiker raden tot getal gevonden is\u001b[39;00m\n\u001b[1;32m      7\u001b[0m \u001b[38;5;28;01mwhile\u001b[39;00m \u001b[38;5;28;01mTrue\u001b[39;00m:   \n\u001b[0;32m----> 8\u001b[0m     gok \u001b[38;5;241m=\u001b[39m \u001b[38;5;28mint\u001b[39m(\u001b[38;5;28;43minput\u001b[39;49m\u001b[43m(\u001b[49m\u001b[38;5;124;43m\"\u001b[39;49m\u001b[38;5;124;43mGeef een getal: \u001b[39;49m\u001b[38;5;124;43m\"\u001b[39;49m\u001b[43m)\u001b[49m)\n\u001b[1;32m     10\u001b[0m     \u001b[38;5;28;01mif\u001b[39;00m gok \u001b[38;5;241m==\u001b[39m getal:       \n\u001b[1;32m     11\u001b[0m         \u001b[38;5;28mprint\u001b[39m(\u001b[38;5;124m\"\u001b[39m\u001b[38;5;124mOK\u001b[39m\u001b[38;5;124m\"\u001b[39m)\n",
      "File \u001b[0;32m~/opt/anaconda3/lib/python3.9/site-packages/ipykernel/kernelbase.py:1075\u001b[0m, in \u001b[0;36mKernel.raw_input\u001b[0;34m(self, prompt)\u001b[0m\n\u001b[1;32m   1071\u001b[0m \u001b[38;5;28;01mif\u001b[39;00m \u001b[38;5;129;01mnot\u001b[39;00m \u001b[38;5;28mself\u001b[39m\u001b[38;5;241m.\u001b[39m_allow_stdin:\n\u001b[1;32m   1072\u001b[0m     \u001b[38;5;28;01mraise\u001b[39;00m StdinNotImplementedError(\n\u001b[1;32m   1073\u001b[0m         \u001b[38;5;124m\"\u001b[39m\u001b[38;5;124mraw_input was called, but this frontend does not support input requests.\u001b[39m\u001b[38;5;124m\"\u001b[39m\n\u001b[1;32m   1074\u001b[0m     )\n\u001b[0;32m-> 1075\u001b[0m \u001b[38;5;28;01mreturn\u001b[39;00m \u001b[38;5;28;43mself\u001b[39;49m\u001b[38;5;241;43m.\u001b[39;49m\u001b[43m_input_request\u001b[49m\u001b[43m(\u001b[49m\n\u001b[1;32m   1076\u001b[0m \u001b[43m    \u001b[49m\u001b[38;5;28;43mstr\u001b[39;49m\u001b[43m(\u001b[49m\u001b[43mprompt\u001b[49m\u001b[43m)\u001b[49m\u001b[43m,\u001b[49m\n\u001b[1;32m   1077\u001b[0m \u001b[43m    \u001b[49m\u001b[38;5;28;43mself\u001b[39;49m\u001b[38;5;241;43m.\u001b[39;49m\u001b[43m_parent_ident\u001b[49m\u001b[43m[\u001b[49m\u001b[38;5;124;43m\"\u001b[39;49m\u001b[38;5;124;43mshell\u001b[39;49m\u001b[38;5;124;43m\"\u001b[39;49m\u001b[43m]\u001b[49m\u001b[43m,\u001b[49m\n\u001b[1;32m   1078\u001b[0m \u001b[43m    \u001b[49m\u001b[38;5;28;43mself\u001b[39;49m\u001b[38;5;241;43m.\u001b[39;49m\u001b[43mget_parent\u001b[49m\u001b[43m(\u001b[49m\u001b[38;5;124;43m\"\u001b[39;49m\u001b[38;5;124;43mshell\u001b[39;49m\u001b[38;5;124;43m\"\u001b[39;49m\u001b[43m)\u001b[49m\u001b[43m,\u001b[49m\n\u001b[1;32m   1079\u001b[0m \u001b[43m    \u001b[49m\u001b[43mpassword\u001b[49m\u001b[38;5;241;43m=\u001b[39;49m\u001b[38;5;28;43;01mFalse\u001b[39;49;00m\u001b[43m,\u001b[49m\n\u001b[1;32m   1080\u001b[0m \u001b[43m\u001b[49m\u001b[43m)\u001b[49m\n",
      "File \u001b[0;32m~/opt/anaconda3/lib/python3.9/site-packages/ipykernel/kernelbase.py:1120\u001b[0m, in \u001b[0;36mKernel._input_request\u001b[0;34m(self, prompt, ident, parent, password)\u001b[0m\n\u001b[1;32m   1117\u001b[0m             \u001b[38;5;28;01mbreak\u001b[39;00m\n\u001b[1;32m   1118\u001b[0m \u001b[38;5;28;01mexcept\u001b[39;00m \u001b[38;5;167;01mKeyboardInterrupt\u001b[39;00m:\n\u001b[1;32m   1119\u001b[0m     \u001b[38;5;66;03m# re-raise KeyboardInterrupt, to truncate traceback\u001b[39;00m\n\u001b[0;32m-> 1120\u001b[0m     \u001b[38;5;28;01mraise\u001b[39;00m \u001b[38;5;167;01mKeyboardInterrupt\u001b[39;00m(\u001b[38;5;124m\"\u001b[39m\u001b[38;5;124mInterrupted by user\u001b[39m\u001b[38;5;124m\"\u001b[39m) \u001b[38;5;28;01mfrom\u001b[39;00m \u001b[38;5;28mNone\u001b[39m\n\u001b[1;32m   1121\u001b[0m \u001b[38;5;28;01mexcept\u001b[39;00m \u001b[38;5;167;01mException\u001b[39;00m:\n\u001b[1;32m   1122\u001b[0m     \u001b[38;5;28mself\u001b[39m\u001b[38;5;241m.\u001b[39mlog\u001b[38;5;241m.\u001b[39mwarning(\u001b[38;5;124m\"\u001b[39m\u001b[38;5;124mInvalid Message:\u001b[39m\u001b[38;5;124m\"\u001b[39m, exc_info\u001b[38;5;241m=\u001b[39m\u001b[38;5;28;01mTrue\u001b[39;00m)\n",
      "\u001b[0;31mKeyboardInterrupt\u001b[0m: Interrupted by user"
     ]
    }
   ],
   "source": [
    "import random\n",
    "# genereer een willekeurig getal tussen 1 - 100\n",
    "print(\"Raad een getal tussen 1 en 100\")\n",
    "getal = random.randint(1, 100)\n",
    "\n",
    "# laat gebruiker raden tot getal gevonden is\n",
    "while True:   \n",
    "    gok = int(input(\"Geef een getal: \"))\n",
    "    \n",
    "    if gok == getal:       \n",
    "        print(\"OK\")\n",
    "    elif gok > getal:\n",
    "        print(\"Getal is te hoog\")\n",
    "    elif gok < getal:\n",
    "        print(\"Getal is te laag\")\n",
    "print(\"Klopt! Het getal is\", getal)"
   ]
  },
  {
   "cell_type": "code",
   "execution_count": null,
   "id": "59a9bab1",
   "metadata": {},
   "outputs": [],
   "source": []
  },
  {
   "cell_type": "code",
   "execution_count": 1,
   "id": "c6d0280f",
   "metadata": {},
   "outputs": [],
   "source": [
    "def bereken_BMI(lengte, gewicht):\n",
    "    \"\"\"Bereken BMI met lengte en gewicht als input\"\"\"\n",
    "    lengte = lengte / 100# omrekenen naar m\n",
    "    return gewicht / (lengte * lengte)"
   ]
  },
  {
   "cell_type": "code",
   "execution_count": 2,
   "id": "ee47a67c",
   "metadata": {},
   "outputs": [],
   "source": [
    "bereken_BMI?"
   ]
  },
  {
   "cell_type": "code",
   "execution_count": null,
   "id": "47f3ea3d",
   "metadata": {},
   "outputs": [],
   "source": []
  }
 ],
 "metadata": {
  "kernelspec": {
   "display_name": "Python 3 (ipykernel)",
   "language": "python",
   "name": "python3"
  },
  "language_info": {
   "codemirror_mode": {
    "name": "ipython",
    "version": 3
   },
   "file_extension": ".py",
   "mimetype": "text/x-python",
   "name": "python",
   "nbconvert_exporter": "python",
   "pygments_lexer": "ipython3",
   "version": "3.9.12"
  }
 },
 "nbformat": 4,
 "nbformat_minor": 5
}
