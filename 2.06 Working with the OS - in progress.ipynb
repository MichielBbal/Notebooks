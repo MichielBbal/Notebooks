{
 "cells": [
  {
   "cell_type": "markdown",
   "metadata": {},
   "source": [
    "# Working with the OS\n",
    "\n",
    "## Contents\n",
    "0. Linux commands in Jupyter\n",
    "1. Glob\n",
    "2. Pathlib\n",
    "3. OS Library\n",
    "4. Socket\n",
    "5. Ping status\n",
    "6. Environmental variable (to store credentials)\n",
    "7. Google Drive - in progress\n",
    "8. Dropbox - in progress\n",
    "9. Rename\n",
    "10. Listdir\n",
    "11. PSUtil"
   ]
  },
  {
   "cell_type": "markdown",
   "metadata": {},
   "source": [
    "## 0.Some linux commands in Jupyter\n",
    "- pwd\n",
    "- ls\n",
    "- cd / cd .."
   ]
  },
  {
   "cell_type": "code",
   "execution_count": 2,
   "metadata": {},
   "outputs": [
    {
     "name": "stdout",
     "output_type": "stream",
     "text": [
      "Name: numpy\n",
      "Version: 1.19.2\n",
      "Summary: NumPy is the fundamental package for array computing with Python.\n",
      "Note: you may need to restart the kernel to use updated packages.\n",
      "Home-page: https://www.numpy.org\n",
      "Author: Travis E. Oliphant et al.\n",
      "Author-email: None\n",
      "License: BSD\n",
      "Location: c:\\users\\31653\\anaconda3\\lib\\site-packages\n",
      "Requires: \n",
      "Required-by: tifffile, tabula-py, tables, statsmodels, seaborn, scipy, scikit-learn, scikit-image, PyWavelets, patsy, pandas, numexpr, numba, mkl-random, mkl-fft, matplotlib, imageio, h5py, folium, Bottleneck, bokeh, bkcharts, astropy\n"
     ]
    }
   ],
   "source": [
    "# source https://pip.pypa.io/en/stable/reference/pip_check/\n",
    "%pip show numpy"
   ]
  },
  {
   "cell_type": "code",
   "execution_count": 16,
   "metadata": {},
   "outputs": [
    {
     "name": "stdout",
     "output_type": "stream",
     "text": [
      "spyder 4.1.5 requires pyqt5, which is not installed.\n",
      "spyder 4.1.5 requires pyqtwebengine, which is not installed.\n",
      "qdarkstyle 2.8.1 requires helpdev, which is not installed.\n",
      "pexpect 4.8.0 requires ptyprocess, which is not installed.\n",
      "bokeh 2.2.3 has requirement pillow>=7.1.0, but you have pillow 7.0.0.\n"
     ]
    }
   ],
   "source": [
    "!pip check"
   ]
  },
  {
   "cell_type": "markdown",
   "metadata": {},
   "source": [
    "## 1. Python glob module \n",
    "The glob module finds all the pathnames matching a specified pattern according to the rules used by the Unix shell, although results are returned in arbitrary order.\n",
    "\n",
    "source: https://docs.python.org/3/library/glob.html"
   ]
  },
  {
   "cell_type": "code",
   "execution_count": 6,
   "metadata": {},
   "outputs": [
    {
     "data": {
      "text/plain": [
       "['Zebra_Zuid-Afrika.jpg',\n",
       " 'buik3.jpg',\n",
       " 'newimage.jpg',\n",
       " 'output.jpg',\n",
       " 'pixellib_example.jpg',\n",
       " 'road.jpg',\n",
       " 'road2.jpg',\n",
       " 'thuis.jpg']"
      ]
     },
     "execution_count": 6,
     "metadata": {},
     "output_type": "execute_result"
    }
   ],
   "source": [
    "import glob\n",
    "\n",
    "files = glob.glob('*.jpg') # retrieve all the .json files in home dir and assign to a list\n",
    "# Take the files from the last two weeks only.\n",
    "files = sorted(files)[-14:] # sort the files of the last 14 days\n",
    "type(files)\n",
    "files"
   ]
  },
  {
   "cell_type": "markdown",
   "metadata": {},
   "source": [
    "Source: https://stackoverflow.com/questions/14798220/how-can-i-search-sub-folders-using-glob-glob-module\n",
    "\n",
    "There's a lot of confusion on this topic. Let me see if I can clarify it (Python 3.7):\n",
    "\n",
    "- glob.glob('*.txt')                  :matches all files ending in '.txt' in current directory\n",
    "- glob.glob('*/*.txt')                :same as 1\n",
    "- glob.glob('**/*.txt')               :matches all files ending in '.txt' in the immediate subdirectories only, but not in the current directory\n",
    "- glob.glob('*.txt',recursive=True)   :same as 1\n",
    "- glob.glob('*/*.txt',recursive=True) :same as 3\n",
    "- glob.glob('**/*.txt',recursive=True):matches all files ending in '.txt' in the current directory and in all subdirectories\n",
    "\n",
    "So it's best to always specify recursive=True."
   ]
  },
  {
   "cell_type": "code",
   "execution_count": 6,
   "metadata": {},
   "outputs": [
    {
     "name": "stdout",
     "output_type": "stream",
     "text": [
      "C:\\Users\\31653\\Desktop\\DeAlliantie\\clone_script\n"
     ]
    }
   ],
   "source": [
    "cd C:\\Users\\31653\\Desktop\\DeAlliantie\\clone_script"
   ]
  },
  {
   "cell_type": "code",
   "execution_count": 7,
   "metadata": {},
   "outputs": [
    {
     "data": {
      "text/plain": [
       "'C:\\\\Users\\\\31653\\\\Desktop\\\\DeAlliantie\\\\clone_script'"
      ]
     },
     "execution_count": 7,
     "metadata": {},
     "output_type": "execute_result"
    }
   ],
   "source": [
    "pwd"
   ]
  },
  {
   "cell_type": "code",
   "execution_count": 13,
   "metadata": {},
   "outputs": [
    {
     "name": "stdout",
     "output_type": "stream",
     "text": [
      "C:\\Users\\31653\\Desktop\\DeAlliantie\\clone_script\\account\n"
     ]
    }
   ],
   "source": [
    "cd account"
   ]
  },
  {
   "cell_type": "code",
   "execution_count": 30,
   "metadata": {},
   "outputs": [
    {
     "data": {
      "text/plain": [
       "['C:\\\\\\\\Users\\\\\\\\31653\\\\\\\\Desktop\\\\\\\\DeAlliantie\\\\\\\\clone_script\\\\commons-ax-bax-client\\\\src\\\\main\\\\resources\\\\wsdl\\\\ax-bax.wsdl',\n",
       " 'C:\\\\\\\\Users\\\\\\\\31653\\\\\\\\Desktop\\\\\\\\DeAlliantie\\\\\\\\clone_script\\\\commons-ax-mobileservice-client\\\\src\\\\main\\\\resources\\\\wsdl\\\\MobileService\\\\MobileService_2.3.0.3.wsdl',\n",
       " 'C:\\\\\\\\Users\\\\\\\\31653\\\\\\\\Desktop\\\\\\\\DeAlliantie\\\\\\\\clone_script\\\\commons-ax-planboard-client\\\\src\\\\main\\\\resources\\\\wsdl\\\\ExternalPlanboardXSD.Service1.svc.wsdl',\n",
       " 'C:\\\\\\\\Users\\\\\\\\31653\\\\\\\\Desktop\\\\\\\\DeAlliantie\\\\\\\\clone_script\\\\commons-ax-scp-client\\\\src\\\\main\\\\resources\\\\wsdl\\\\customerportal-ax.wsdl',\n",
       " 'C:\\\\\\\\Users\\\\\\\\31653\\\\\\\\Desktop\\\\\\\\DeAlliantie\\\\\\\\clone_script\\\\commons-ax-woningnet-client\\\\src\\\\main\\\\resources\\\\wsdl\\\\woningnet\\\\ax-woningnet.wsdl',\n",
       " 'C:\\\\\\\\Users\\\\\\\\31653\\\\\\\\Desktop\\\\\\\\DeAlliantie\\\\\\\\clone_script\\\\commons-corporatieportaal-client\\\\src\\\\main\\\\resources\\\\wsdl\\\\Corporatieportaal.wsdl',\n",
       " 'C:\\\\\\\\Users\\\\\\\\31653\\\\\\\\Desktop\\\\\\\\DeAlliantie\\\\\\\\clone_script\\\\commons-daan-v0310-client\\\\src\\\\main\\\\resources\\\\wsdl\\\\0301\\\\stuf0301_services.wsdl',\n",
       " 'C:\\\\\\\\Users\\\\\\\\31653\\\\\\\\Desktop\\\\\\\\DeAlliantie\\\\\\\\clone_script\\\\commons-daan-v0310-client\\\\src\\\\main\\\\resources\\\\wsdl\\\\0301\\\\stuf0301_types.wsdl',\n",
       " 'C:\\\\\\\\Users\\\\\\\\31653\\\\\\\\Desktop\\\\\\\\DeAlliantie\\\\\\\\clone_script\\\\commons-daan-v0310-client\\\\src\\\\main\\\\resources\\\\wsdl\\\\daan310\\\\dossiers\\\\daan0310_dossiers.wsdl',\n",
       " 'C:\\\\\\\\Users\\\\\\\\31653\\\\\\\\Desktop\\\\\\\\DeAlliantie\\\\\\\\clone_script\\\\commons-daan-v0310-client\\\\src\\\\main\\\\resources\\\\wsdl\\\\daan310\\\\mutatie\\\\daan0310_verwerkSynchroneKennisgeving_mutatie.wsdl',\n",
       " 'C:\\\\\\\\Users\\\\\\\\31653\\\\\\\\Desktop\\\\\\\\DeAlliantie\\\\\\\\clone_script\\\\commons-daan-v0310-client\\\\src\\\\main\\\\resources\\\\wsdl\\\\daan310\\\\onderhoud\\\\daan0310_verwerkSynchroonVrijBericht_onderhoud.wsdl',\n",
       " 'C:\\\\\\\\Users\\\\\\\\31653\\\\\\\\Desktop\\\\\\\\DeAlliantie\\\\\\\\clone_script\\\\commons-daan-v0310-client\\\\src\\\\main\\\\resources\\\\wsdl\\\\daan310\\\\planning\\\\daan0310_verwerkSynchroonVrijBericht_planning.wsdl',\n",
       " 'C:\\\\\\\\Users\\\\\\\\31653\\\\\\\\Desktop\\\\\\\\DeAlliantie\\\\\\\\clone_script\\\\commons-daan-v0310-client\\\\src\\\\main\\\\resources\\\\wsdl\\\\daan310\\\\proces\\\\daan0310_verwerkSynchroonVrijBericht_proces.wsdl',\n",
       " 'C:\\\\\\\\Users\\\\\\\\31653\\\\\\\\Desktop\\\\\\\\DeAlliantie\\\\\\\\clone_script\\\\commons-daan-v0310-client\\\\src\\\\main\\\\resources\\\\wsdl\\\\daan310\\\\vastgoed\\\\daan0310_vastgoed.wsdl',\n",
       " 'C:\\\\\\\\Users\\\\\\\\31653\\\\\\\\Desktop\\\\\\\\DeAlliantie\\\\\\\\clone_script\\\\commons-daan-v0310-client\\\\src\\\\main\\\\resources\\\\wsdl\\\\daan310\\\\vraagAntwoord\\\\daan0310_beantwoordVraag_vraagantwoord.wsdl',\n",
       " 'C:\\\\\\\\Users\\\\\\\\31653\\\\\\\\Desktop\\\\\\\\DeAlliantie\\\\\\\\clone_script\\\\commons-daan-v0310-client\\\\src\\\\main\\\\resources\\\\wsdl\\\\daan310\\\\woonruimteverdeling\\\\daan0310_verwerkSynchroonVrijBericht_woonruimteverdeling.wsdl',\n",
       " 'C:\\\\\\\\Users\\\\\\\\31653\\\\\\\\Desktop\\\\\\\\DeAlliantie\\\\\\\\clone_script\\\\commons-ketenstandaard-sales-client\\\\src\\\\main\\\\resources\\\\wsdl\\\\MessageService_MessageService31.wsdl',\n",
       " 'C:\\\\\\\\Users\\\\\\\\31653\\\\\\\\Desktop\\\\\\\\DeAlliantie\\\\\\\\clone_script\\\\commons-ortec-client\\\\src\\\\main\\\\resources\\\\wsdl\\\\ORTEC-OUT.wsdl',\n",
       " 'C:\\\\\\\\Users\\\\\\\\31653\\\\\\\\Desktop\\\\\\\\DeAlliantie\\\\\\\\clone_script\\\\commons-ortec-esb-client\\\\src\\\\main\\\\resources\\\\wsdl\\\\ORTEC-IN.wsdl',\n",
       " 'C:\\\\\\\\Users\\\\\\\\31653\\\\\\\\Desktop\\\\\\\\DeAlliantie\\\\\\\\clone_script\\\\commons-sigmax-client\\\\src\\\\main\\\\resources\\\\wsdl\\\\FMS-ERP.wsdl',\n",
       " 'C:\\\\\\\\Users\\\\\\\\31653\\\\\\\\Desktop\\\\\\\\DeAlliantie\\\\\\\\clone_script\\\\commons-sigmax-planning-client\\\\src\\\\main\\\\resources\\\\wsdl\\\\FMS-EPS.wsdl',\n",
       " 'C:\\\\\\\\Users\\\\\\\\31653\\\\\\\\Desktop\\\\\\\\DeAlliantie\\\\\\\\clone_script\\\\commons-woningnet-client\\\\src\\\\main\\\\resources\\\\wsdl\\\\Aanbieding\\\\AanbiedingISService_ep_1.wsdl',\n",
       " 'C:\\\\\\\\Users\\\\\\\\31653\\\\\\\\Desktop\\\\\\\\DeAlliantie\\\\\\\\clone_script\\\\commons-woningnet-client\\\\src\\\\main\\\\resources\\\\wsdl\\\\Object\\\\ObjectISService_ep_1.wsdl',\n",
       " 'C:\\\\\\\\Users\\\\\\\\31653\\\\\\\\Desktop\\\\\\\\DeAlliantie\\\\\\\\clone_script\\\\commons-woningnet-client\\\\src\\\\main\\\\resources\\\\wsdl\\\\Publicatie\\\\PublicatieISService_ep_1.wsdl',\n",
       " 'C:\\\\\\\\Users\\\\\\\\31653\\\\\\\\Desktop\\\\\\\\DeAlliantie\\\\\\\\clone_script\\\\commons-wos-client\\\\src\\\\main\\\\resources\\\\wsdl\\\\AxWS.svc.wsdl',\n",
       " 'C:\\\\\\\\Users\\\\\\\\31653\\\\\\\\Desktop\\\\\\\\DeAlliantie\\\\\\\\clone_script\\\\woonruimteverdeling-ax-esb\\\\src\\\\main\\\\resources\\\\etc\\\\0301\\\\stuf0301_types.wsdl',\n",
       " 'C:\\\\\\\\Users\\\\\\\\31653\\\\\\\\Desktop\\\\\\\\DeAlliantie\\\\\\\\clone_script\\\\woonruimteverdeling-ax-esb\\\\src\\\\main\\\\resources\\\\wsdl\\\\aanbieding\\\\wrv01_verwerkSynchroneKennisgeving_mutatie.wsdl',\n",
       " 'C:\\\\\\\\Users\\\\\\\\31653\\\\\\\\Desktop\\\\\\\\DeAlliantie\\\\\\\\clone_script\\\\woonruimteverdeling-ax-esb\\\\src\\\\main\\\\resources\\\\wsdl\\\\aanbieding-legacy\\\\AanbiedingISService_ep_1.wsdl',\n",
       " 'C:\\\\\\\\Users\\\\\\\\31653\\\\\\\\Desktop\\\\\\\\DeAlliantie\\\\\\\\clone_script\\\\woonruimteverdeling-ax-esb\\\\src\\\\main\\\\resources\\\\wsdl\\\\kennisgeving\\\\woonruimteverdeling_vera_mutatie.wsdl',\n",
       " 'C:\\\\\\\\Users\\\\\\\\31653\\\\\\\\Desktop\\\\\\\\DeAlliantie\\\\\\\\clone_script\\\\woonruimteverdeling-ax-esb\\\\src\\\\main\\\\resources\\\\wsdl\\\\object\\\\ObjectISService_ep_1.wsdl',\n",
       " 'C:\\\\\\\\Users\\\\\\\\31653\\\\\\\\Desktop\\\\\\\\DeAlliantie\\\\\\\\clone_script\\\\woonruimteverdeling-ax-esb\\\\src\\\\main\\\\resources\\\\wsdl\\\\publicatie\\\\PublicatieISService_ep_1.wsdl']"
      ]
     },
     "execution_count": 30,
     "metadata": {},
     "output_type": "execute_result"
    }
   ],
   "source": [
    "# searching all files in a directory and subdirectories\n",
    "wsdls = glob.glob(r'C:\\\\Users\\\\31653\\\\Desktop\\\\DeAlliantie\\\\clone_script\\\\**\\\\*.wsdl', recursive=True)\n",
    "wsdls"
   ]
  },
  {
   "cell_type": "code",
   "execution_count": 38,
   "metadata": {},
   "outputs": [
    {
     "data": {
      "text/plain": [
       "218"
      ]
     },
     "execution_count": 38,
     "metadata": {},
     "output_type": "execute_result"
    }
   ],
   "source": [
    "len(xsds)"
   ]
  },
  {
   "cell_type": "markdown",
   "metadata": {},
   "source": [
    "## 2. Pathlib - issue\n",
    "\n",
    "with pathlib you can add a path to the glob command"
   ]
  },
  {
   "cell_type": "code",
   "execution_count": 19,
   "metadata": {},
   "outputs": [
    {
     "name": "stdout",
     "output_type": "stream",
     "text": [
      "Requirement already satisfied: pathlib in c:\\users\\31653\\anaconda3\\lib\\site-packages (1.0.1)\n",
      "Note: you may need to restart the kernel to use updated packages.\n"
     ]
    }
   ],
   "source": [
    "%pip install pathlib"
   ]
  },
  {
   "cell_type": "code",
   "execution_count": 3,
   "metadata": {},
   "outputs": [
    {
     "data": {
      "text/plain": [
       "'C:\\\\Users\\\\31653\\\\Documents\\\\GitHub\\\\Notebooks'"
      ]
     },
     "execution_count": 3,
     "metadata": {},
     "output_type": "execute_result"
    }
   ],
   "source": [
    "pwd"
   ]
  },
  {
   "cell_type": "code",
   "execution_count": 1,
   "metadata": {},
   "outputs": [
    {
     "ename": "SyntaxError",
     "evalue": "unexpected EOF while parsing (Temp/ipykernel_25496/2958789590.py, line 6)",
     "output_type": "error",
     "traceback": [
      "\u001b[1;36m  File \u001b[1;32m\"C:\\Users\\31653\\AppData\\Local\\Temp/ipykernel_25496/2958789590.py\"\u001b[1;36m, line \u001b[1;32m6\u001b[0m\n\u001b[1;33m    with file.open(mode='r') as f:\u001b[0m\n\u001b[1;37m                                   ^\u001b[0m\n\u001b[1;31mSyntaxError\u001b[0m\u001b[1;31m:\u001b[0m unexpected EOF while parsing\n"
     ]
    }
   ],
   "source": [
    "from pathlib import Path\n",
    "\n",
    "jpg_files = Path('/').glob('*.jpg')\n",
    "\n",
    "for file in jpg_files:\n",
    "    with file.open(mode='r') as f: "
   ]
  },
  {
   "cell_type": "code",
   "execution_count": 3,
   "metadata": {},
   "outputs": [
    {
     "data": {
      "text/plain": [
       "WindowsPath('C:/Users/31653')"
      ]
     },
     "execution_count": 3,
     "metadata": {},
     "output_type": "execute_result"
    }
   ],
   "source": [
    "from pathlib import Path\n",
    "Path.home()"
   ]
  },
  {
   "cell_type": "markdown",
   "metadata": {},
   "source": [
    "## 3. OS library"
   ]
  },
  {
   "cell_type": "code",
   "execution_count": 7,
   "metadata": {},
   "outputs": [
    {
     "data": {
      "text/plain": [
       "'C:\\\\Users\\\\31653\\\\Documents\\\\GitHub\\\\Notebooks'"
      ]
     },
     "execution_count": 7,
     "metadata": {},
     "output_type": "execute_result"
    }
   ],
   "source": [
    "pwd"
   ]
  },
  {
   "cell_type": "code",
   "execution_count": 6,
   "metadata": {
    "scrolled": true
   },
   "outputs": [
    {
     "name": "stdout",
     "output_type": "stream",
     "text": [
      "anatomy of an array\n",
      ".png\n"
     ]
    }
   ],
   "source": [
    "# a script to split name and extension of a file\n",
    "from PIL import Image\n",
    "import numpy as np\n",
    "import glob, os\n",
    "\n",
    "pngs=glob.glob('*.png')\n",
    "infile = pngs[0] #select first item in list\n",
    "file, ext = os.path.splitext(infile)\n",
    "print(file)\n",
    "print(ext)"
   ]
  },
  {
   "cell_type": "code",
   "execution_count": 2,
   "metadata": {},
   "outputs": [
    {
     "data": {
      "text/plain": [
       "1"
      ]
     },
     "execution_count": 2,
     "metadata": {},
     "output_type": "execute_result"
    }
   ],
   "source": [
    "# not working\n",
    "import os\n",
    "os.system('ls')"
   ]
  },
  {
   "cell_type": "code",
   "execution_count": null,
   "metadata": {},
   "outputs": [],
   "source": []
  },
  {
   "cell_type": "markdown",
   "metadata": {},
   "source": [
    "## 4. Socket"
   ]
  },
  {
   "cell_type": "code",
   "execution_count": null,
   "metadata": {},
   "outputs": [
    {
     "name": "stdout",
     "output_type": "stream",
     "text": [
      "Serving HTTP on port 8888 ...\n"
     ]
    }
   ],
   "source": [
    "### SCRIPT WERKT NIET MET JUPYTER\n",
    "\n",
    "# Python3.7+\n",
    "import socket\n",
    "\n",
    "HOST, PORT = '', 8888\n",
    "\n",
    "listen_socket = socket.socket(socket.AF_INET, socket.SOCK_STREAM)\n",
    "listen_socket.setsockopt(socket.SOL_SOCKET, socket.SO_REUSEADDR, 1)\n",
    "listen_socket.bind((HOST, PORT))\n",
    "listen_socket.listen(1)\n",
    "print(f'Serving HTTP on port {PORT} ...')\n",
    "while True:\n",
    "    client_connection, client_address = listen_socket.accept()\n",
    "    request_data = client_connection.recv(1024)\n",
    "    print(request_data.decode('utf-8'))\n",
    "\n",
    "    http_response = b\"\"\"\\\n",
    "HTTP/1.1 200 OK\n",
    "\n",
    "Hello, World!\n",
    "\"\"\"\n",
    "    client_connection.sendall(http_response)\n",
    "    client_connection.close()"
   ]
  },
  {
   "cell_type": "markdown",
   "metadata": {},
   "source": [
    "## 5. Ping status with OS"
   ]
  },
  {
   "cell_type": "code",
   "execution_count": 4,
   "metadata": {},
   "outputs": [
    {
     "data": {
      "text/plain": [
       "'Network Error'"
      ]
     },
     "execution_count": 4,
     "metadata": {},
     "output_type": "execute_result"
    }
   ],
   "source": [
    "#https://stackoverflow.com/questions/26468640/python-function-to-test-ping/39563638\n",
    "import os\n",
    "hostname = \"https:www.nu.nl\"\n",
    "response = os.system(\"ping -c 1 \" + hostname)\n",
    "if response == 0:\n",
    "    pingstatus = \"Network Active\"\n",
    "else:\n",
    "    pingstatus = \"Network Error\"\n",
    "pingstatus"
   ]
  },
  {
   "cell_type": "code",
   "execution_count": 5,
   "metadata": {},
   "outputs": [
    {
     "data": {
      "text/plain": [
       "'Network Active'"
      ]
     },
     "execution_count": 5,
     "metadata": {},
     "output_type": "execute_result"
    }
   ],
   "source": [
    "#For my raspberry\n",
    "import os\n",
    "response = os.system(\"ping 192.168.178.36\")\n",
    "if response == 0:\n",
    "    pingstatus = \"Network Active\"\n",
    "else:\n",
    "    pingstatus = \"Network Error\"\n",
    "pingstatus"
   ]
  },
  {
   "cell_type": "markdown",
   "metadata": {},
   "source": [
    "## 6. Setting environment variable to store passwords etc\n",
    "\n",
    "source: https://medium.com/dataseries/hiding-secret-info-in-python-using-environment-variables-a2bab182eea"
   ]
  },
  {
   "cell_type": "code",
   "execution_count": 13,
   "metadata": {
    "scrolled": false
   },
   "outputs": [
    {
     "name": "stdout",
     "output_type": "stream",
     "text": [
      "User's Environment variable:\n",
      "{'ALLUSERSPROFILE': 'C:\\\\ProgramData',\n",
      " 'APPDATA': 'C:\\\\Users\\\\31653\\\\AppData\\\\Roaming',\n",
      " 'CHOCOLATEYINSTALL': 'C:\\\\ProgramData\\\\chocolatey',\n",
      " 'CHOCOLATEYLASTPATHUPDATE': '132582878750001286',\n",
      " 'CLICOLOR': '1',\n",
      " 'COMMONPROGRAMFILES': 'C:\\\\Program '\n",
      "                       'Files\\\\Common '\n",
      "                       'Files',\n",
      " 'COMMONPROGRAMFILES(X86)': 'C:\\\\Program '\n",
      "                            'Files '\n",
      "                            '(x86)\\\\Common '\n",
      "                            'Files',\n",
      " 'COMMONPROGRAMW6432': 'C:\\\\Program '\n",
      "                       'Files\\\\Common '\n",
      "                       'Files',\n",
      " 'COMPUTERNAME': 'DESKTOP-NCBF73A',\n",
      " 'COMSPEC': 'C:\\\\Windows\\\\system32\\\\cmd.exe',\n",
      " 'CONDA_DEFAULT_ENV': 'influxdb',\n",
      " 'CONDA_EXE': 'C:\\\\Users\\\\31653\\\\anaconda3\\\\Scripts\\\\conda.exe',\n",
      " 'CONDA_PREFIX': 'C:\\\\Users\\\\31653\\\\anaconda3\\\\envs\\\\influxdb',\n",
      " 'CONDA_PROMPT_MODIFIER': '(influxdb) ',\n",
      " 'CONDA_PYTHON_EXE': 'C:\\\\Users\\\\31653\\\\anaconda3\\\\python.exe',\n",
      " 'CONDA_ROOT': 'C:\\\\Users\\\\31653\\\\anaconda3',\n",
      " 'CONDA_SHLVL': '1',\n",
      " 'DRIVERDATA': 'C:\\\\Windows\\\\System32\\\\Drivers\\\\DriverData',\n",
      " 'ERLANG_HOME': 'C:\\\\Program '\n",
      "                'Files\\\\erl10.7',\n",
      " 'FPS_BROWSER_APP_PROFILE_STRING': 'Internet '\n",
      "                                   'Explorer',\n",
      " 'FPS_BROWSER_USER_PROFILE_STRING': 'Default',\n",
      " 'GIT_PAGER': 'cat',\n",
      " 'HOMEDRIVE': 'C:',\n",
      " 'HOMEPATH': '\\\\Users\\\\31653',\n",
      " 'IPY_INTERRUPT_EVENT': '1576',\n",
      " 'JPY_INTERRUPT_EVENT': '1576',\n",
      " 'JPY_PARENT_PID': '3196',\n",
      " 'LOCALAPPDATA': 'C:\\\\Users\\\\31653\\\\AppData\\\\Local',\n",
      " 'LOGONSERVER': '\\\\\\\\DESKTOP-NCBF73A',\n",
      " 'MPLBACKEND': 'module://ipykernel.pylab.backend_inline',\n",
      " 'NUMBER_OF_PROCESSORS': '12',\n",
      " 'ONEDRIVE': 'C:\\\\Users\\\\31653\\\\OneDrive',\n",
      " 'OS': 'Windows_NT',\n",
      " 'PAGER': 'cat',\n",
      " 'PATH': 'C:\\\\Users\\\\31653\\\\anaconda3\\\\envs\\\\influxdb;C:\\\\Users\\\\31653\\\\anaconda3\\\\envs\\\\influxdb\\\\Library\\\\mingw-w64\\\\bin;C:\\\\Users\\\\31653\\\\anaconda3\\\\envs\\\\influxdb\\\\Library\\\\usr\\\\bin;C:\\\\Users\\\\31653\\\\anaconda3\\\\envs\\\\influxdb\\\\Library\\\\bin;C:\\\\Users\\\\31653\\\\anaconda3\\\\envs\\\\influxdb\\\\Scripts;C:\\\\Users\\\\31653\\\\anaconda3\\\\envs\\\\influxdb\\\\bin;C:\\\\Users\\\\31653\\\\anaconda3\\\\condabin;C:\\\\Users\\\\31653\\\\anaconda3;C:\\\\Users\\\\31653\\\\anaconda3\\\\Library\\\\mingw-w64\\\\bin;C:\\\\Users\\\\31653\\\\anaconda3\\\\Library\\\\usr\\\\bin;C:\\\\Users\\\\31653\\\\anaconda3\\\\Library\\\\bin;C:\\\\Users\\\\31653\\\\anaconda3\\\\Scripts;C:\\\\Windows\\\\system32;C:\\\\Windows;C:\\\\Windows\\\\System32\\\\Wbem;C:\\\\Windows\\\\System32\\\\WindowsPowerShell\\\\v1.0;C:\\\\Windows\\\\System32\\\\OpenSSH;C:\\\\Program '\n",
      "         'Files '\n",
      "         '(x86)\\\\NVIDIA '\n",
      "         'Corporation\\\\PhysX\\\\Common;C:\\\\Program '\n",
      "         'Files\\\\NVIDIA '\n",
      "         'Corporation\\\\NVIDIA '\n",
      "         'NvDLISR;C:\\\\Program '\n",
      "         'Files\\\\Git\\\\cmd;C:\\\\Program '\n",
      "         'Files\\\\PuTTY;C:\\\\Program '\n",
      "         'Files\\\\dotnet;C:\\\\Program '\n",
      "         'Files\\\\Microsoft '\n",
      "         'SQL '\n",
      "         'Server\\\\130\\\\Tools\\\\Binn;C:\\\\Program '\n",
      "         'Files\\\\Microsoft '\n",
      "         'SQL '\n",
      "         'Server\\\\Client '\n",
      "         'SDK\\\\ODBC\\\\170\\\\Tools\\\\Binn;C:\\\\ProgramData\\\\chocolatey\\\\bin;.;C:\\\\Program '\n",
      "         'Files\\\\nodejs;C:\\\\Program '\n",
      "         'Files\\\\Docker\\\\Docker\\\\resources\\\\bin;C:\\\\ProgramData\\\\DockerDesktop\\\\version-bin;C:\\\\Users\\\\31653\\\\AppData\\\\Local\\\\Microsoft\\\\WindowsApps;C:\\\\Users\\\\31653\\\\AppData\\\\Local\\\\Programs\\\\Microsoft '\n",
      "         'VS '\n",
      "         'Code\\\\bin;C:\\\\Users\\\\31653\\\\AppData\\\\Local\\\\GitHubDesktop\\\\bin;C:\\\\Users\\\\31653\\\\.dotnet\\\\tools;C:\\\\Users\\\\31653\\\\AppData\\\\Roaming\\\\npm',\n",
      " 'PATHEXT': '.COM;.EXE;.BAT;.CMD;.VBS;.VBE;.JS;.JSE;.WSF;.WSH;.MSC',\n",
      " 'PROCESSOR_ARCHITECTURE': 'AMD64',\n",
      " 'PROCESSOR_IDENTIFIER': 'Intel64 '\n",
      "                         'Family '\n",
      "                         '6 '\n",
      "                         'Model '\n",
      "                         '158 '\n",
      "                         'Stepping '\n",
      "                         '10, '\n",
      "                         'GenuineIntel',\n",
      " 'PROCESSOR_LEVEL': '6',\n",
      " 'PROCESSOR_REVISION': '9e0a',\n",
      " 'PROGRAMDATA': 'C:\\\\ProgramData',\n",
      " 'PROGRAMFILES': 'C:\\\\Program '\n",
      "                 'Files',\n",
      " 'PROGRAMFILES(X86)': 'C:\\\\Program '\n",
      "                      'Files '\n",
      "                      '(x86)',\n",
      " 'PROGRAMW6432': 'C:\\\\Program '\n",
      "                 'Files',\n",
      " 'PROMPT': '(influxdb) '\n",
      "           '$P$G',\n",
      " 'PSMODULEPATH': 'C:\\\\Program '\n",
      "                 'Files\\\\WindowsPowerShell\\\\Modules;C:\\\\Windows\\\\system32\\\\WindowsPowerShell\\\\v1.0\\\\Modules',\n",
      " 'PUBLIC': 'C:\\\\Users\\\\Public',\n",
      " 'SESSIONNAME': 'Console',\n",
      " 'SYSTEMDRIVE': 'C:',\n",
      " 'SYSTEMROOT': 'C:\\\\Windows',\n",
      " 'TEMP': 'C:\\\\Users\\\\31653\\\\AppData\\\\Local\\\\Temp',\n",
      " 'TERM': 'xterm-color',\n",
      " 'TMP': 'C:\\\\Users\\\\31653\\\\AppData\\\\Local\\\\Temp',\n",
      " 'USERDOMAIN': 'DESKTOP-NCBF73A',\n",
      " 'USERDOMAIN_ROAMINGPROFILE': 'DESKTOP-NCBF73A',\n",
      " 'USERNAME': '31653',\n",
      " 'USERPROFILE': 'C:\\\\Users\\\\31653',\n",
      " 'WINDIR': 'C:\\\\Windows',\n",
      " 'ZES_ENABLE_SYSMAN': '1'}\n"
     ]
    }
   ],
   "source": [
    "# source: https://www.geeksforgeeks.org/python-os-environ-object/\n",
    "# Python program to explain os.environ object \n",
    "  \n",
    "# importing os module \n",
    "import os\n",
    "import pprint\n",
    "  \n",
    "# Get the list of user's\n",
    "# environment variables\n",
    "env_var = os.environ\n",
    "  \n",
    "# Print the list of user's\n",
    "# environment variables\n",
    "print(\"User's Environment variable:\")\n",
    "pprint.pprint(dict(env_var), width = 1)"
   ]
  },
  {
   "cell_type": "code",
   "execution_count": 16,
   "metadata": {},
   "outputs": [
    {
     "name": "stdout",
     "output_type": "stream",
     "text": [
      "None None\n"
     ]
    }
   ],
   "source": [
    "#https://dev.to/biplov/handling-passwords-and-secret-keys-using-environment-variables-2ei0\n",
    "\n",
    "#first, go to system properties, then set an 'environmental variable'. Note: NOT WORKING in my Jupyter NB.\n",
    "\n",
    "import os \n",
    "user_name = os.environ.get('sensemakers')\n",
    "password = os.environ.get('password')\n",
    "\n",
    "print(user_name, password)"
   ]
  },
  {
   "cell_type": "code",
   "execution_count": 3,
   "metadata": {},
   "outputs": [],
   "source": [
    "#source: https://able.bio/rhett/how-to-set-and-get-environment-variables-in-python--274rgt5\n",
    "#Set the environmental Password\n",
    "import os\n",
    "os.environ['API_USER'] = 'Michiel' #but don't keep it in your source code :-)"
   ]
  },
  {
   "cell_type": "code",
   "execution_count": 4,
   "metadata": {},
   "outputs": [
    {
     "name": "stdout",
     "output_type": "stream",
     "text": [
      "Michiel\n"
     ]
    }
   ],
   "source": [
    "#getting that environmental variable:\n",
    "import os\n",
    "#api_user = os.environ.get('API_USER')\n",
    "print(os.environ.get('API_USER'))"
   ]
  },
  {
   "cell_type": "code",
   "execution_count": 5,
   "metadata": {},
   "outputs": [
    {
     "name": "stdout",
     "output_type": "stream",
     "text": [
      "Michiel\n"
     ]
    }
   ],
   "source": [
    "print(os.getenv('API_USER'))"
   ]
  },
  {
   "cell_type": "markdown",
   "metadata": {},
   "source": [
    "## 7. Google Drive\n",
    "source: https://developers.google.com/drive/api/v3/quickstart/python"
   ]
  },
  {
   "cell_type": "code",
   "execution_count": 2,
   "metadata": {},
   "outputs": [
    {
     "name": "stdout",
     "output_type": "stream",
     "text": [
      "Collecting google-api-python-client\n",
      "  Downloading google_api_python_client-2.0.2-py2.py3-none-any.whl (6.5 MB)\n",
      "Collecting google-auth-httplib2\n",
      "  Downloading google_auth_httplib2-0.1.0-py2.py3-none-any.whl (9.3 kB)\n",
      "Requirement already up-to-date: google-auth-oauthlib in c:\\users\\31653\\anaconda3\\lib\\site-packages (0.4.3)\n",
      "Requirement already satisfied, skipping upgrade: six<2dev,>=1.13.0 in c:\\users\\31653\\anaconda3\\lib\\site-packages (from google-api-python-client) (1.15.0)\n",
      "Requirement already satisfied, skipping upgrade: google-auth<2dev,>=1.16.0 in c:\\users\\31653\\anaconda3\\lib\\site-packages (from google-api-python-client) (1.27.1)\n",
      "Collecting uritemplate<4dev,>=3.0.0\n",
      "  Downloading uritemplate-3.0.1-py2.py3-none-any.whl (15 kB)\n",
      "Collecting google-api-core<2dev,>=1.21.0\n",
      "  Downloading google_api_core-1.26.1-py2.py3-none-any.whl (92 kB)\n",
      "Collecting httplib2<1dev,>=0.15.0\n",
      "  Downloading httplib2-0.19.0-py3-none-any.whl (95 kB)\n",
      "Requirement already satisfied, skipping upgrade: requests-oauthlib>=0.7.0 in c:\\users\\31653\\anaconda3\\lib\\site-packages (from google-auth-oauthlib) (1.3.0)\n",
      "Requirement already satisfied, skipping upgrade: pyasn1-modules>=0.2.1 in c:\\users\\31653\\anaconda3\\lib\\site-packages (from google-auth<2dev,>=1.16.0->google-api-python-client) (0.2.8)\n",
      "Requirement already satisfied, skipping upgrade: rsa<5,>=3.1.4; python_version >= \"3.6\" in c:\\users\\31653\\anaconda3\\lib\\site-packages (from google-auth<2dev,>=1.16.0->google-api-python-client) (4.7.2)\n",
      "Requirement already satisfied, skipping upgrade: setuptools>=40.3.0 in c:\\users\\31653\\anaconda3\\lib\\site-packages (from google-auth<2dev,>=1.16.0->google-api-python-client) (50.3.1.post20201107)\n",
      "Requirement already satisfied, skipping upgrade: cachetools<5.0,>=2.0.0 in c:\\users\\31653\\anaconda3\\lib\\site-packages (from google-auth<2dev,>=1.16.0->google-api-python-client) (4.2.1)\n",
      "Requirement already satisfied, skipping upgrade: packaging>=14.3 in c:\\users\\31653\\anaconda3\\lib\\site-packages (from google-api-core<2dev,>=1.21.0->google-api-python-client) (20.4)\n",
      "Requirement already satisfied, skipping upgrade: protobuf>=3.12.0 in c:\\users\\31653\\anaconda3\\lib\\site-packages (from google-api-core<2dev,>=1.21.0->google-api-python-client) (3.15.5)\n",
      "Requirement already satisfied, skipping upgrade: pytz in c:\\users\\31653\\anaconda3\\lib\\site-packages (from google-api-core<2dev,>=1.21.0->google-api-python-client) (2020.1)\n",
      "Requirement already satisfied, skipping upgrade: requests<3.0.0dev,>=2.18.0 in c:\\users\\31653\\anaconda3\\lib\\site-packages (from google-api-core<2dev,>=1.21.0->google-api-python-client) (2.24.0)\n",
      "Collecting googleapis-common-protos<2.0dev,>=1.6.0\n",
      "  Downloading googleapis_common_protos-1.53.0-py2.py3-none-any.whl (198 kB)\n",
      "Requirement already satisfied, skipping upgrade: pyparsing<3,>=2.4.2 in c:\\users\\31653\\anaconda3\\lib\\site-packages (from httplib2<1dev,>=0.15.0->google-api-python-client) (2.4.7)\n",
      "Requirement already satisfied, skipping upgrade: oauthlib>=3.0.0 in c:\\users\\31653\\anaconda3\\lib\\site-packages (from requests-oauthlib>=0.7.0->google-auth-oauthlib) (3.1.0)\n",
      "Requirement already satisfied, skipping upgrade: pyasn1<0.5.0,>=0.4.6 in c:\\users\\31653\\anaconda3\\lib\\site-packages (from pyasn1-modules>=0.2.1->google-auth<2dev,>=1.16.0->google-api-python-client) (0.4.8)\n",
      "Requirement already satisfied, skipping upgrade: urllib3!=1.25.0,!=1.25.1,<1.26,>=1.21.1 in c:\\users\\31653\\anaconda3\\lib\\site-packages (from requests<3.0.0dev,>=2.18.0->google-api-core<2dev,>=1.21.0->google-api-python-client) (1.25.11)\n",
      "Requirement already satisfied, skipping upgrade: idna<3,>=2.5 in c:\\users\\31653\\anaconda3\\lib\\site-packages (from requests<3.0.0dev,>=2.18.0->google-api-core<2dev,>=1.21.0->google-api-python-client) (2.10)\n",
      "Requirement already satisfied, skipping upgrade: certifi>=2017.4.17 in c:\\users\\31653\\anaconda3\\lib\\site-packages (from requests<3.0.0dev,>=2.18.0->google-api-core<2dev,>=1.21.0->google-api-python-client) (2020.6.20)\n",
      "Requirement already satisfied, skipping upgrade: chardet<4,>=3.0.2 in c:\\users\\31653\\anaconda3\\lib\\site-packages (from requests<3.0.0dev,>=2.18.0->google-api-core<2dev,>=1.21.0->google-api-python-client) (3.0.4)\n",
      "Installing collected packages: httplib2, google-auth-httplib2, uritemplate, googleapis-common-protos, google-api-core, google-api-python-client\n",
      "Successfully installed google-api-core-1.26.1 google-api-python-client-2.0.2 google-auth-httplib2-0.1.0 googleapis-common-protos-1.53.0 httplib2-0.19.0 uritemplate-3.0.1\n",
      "Note: you may need to restart the kernel to use updated packages.\n"
     ]
    }
   ],
   "source": [
    "%pip install --upgrade google-api-python-client google-auth-httplib2 google-auth-oauthlib"
   ]
  },
  {
   "cell_type": "code",
   "execution_count": null,
   "metadata": {},
   "outputs": [],
   "source": []
  },
  {
   "cell_type": "code",
   "execution_count": null,
   "metadata": {},
   "outputs": [],
   "source": []
  },
  {
   "cell_type": "markdown",
   "metadata": {},
   "source": [
    "## 8. Dropbox"
   ]
  },
  {
   "cell_type": "code",
   "execution_count": 4,
   "metadata": {},
   "outputs": [
    {
     "name": "stdout",
     "output_type": "stream",
     "text": [
      "Collecting dropbox\n",
      "  Downloading dropbox-11.2.0-py3-none-any.whl (555 kB)\n",
      "Collecting stone>=2.*\n",
      "  Downloading stone-3.2.1-py3-none-any.whl (160 kB)\n",
      "Requirement already satisfied: requests>=2.16.2 in c:\\users\\31653\\anaconda3\\lib\\site-packages (from dropbox) (2.24.0)\n",
      "Requirement already satisfied: six>=1.12.0 in c:\\users\\31653\\anaconda3\\lib\\site-packages (from dropbox) (1.12.0)\n",
      "Requirement already satisfied: ply>=3.4 in c:\\users\\31653\\anaconda3\\lib\\site-packages (from stone>=2.*->dropbox) (3.11)\n",
      "Requirement already satisfied: idna<3,>=2.5 in c:\\users\\31653\\anaconda3\\lib\\site-packages (from requests>=2.16.2->dropbox) (2.10)\n",
      "Requirement already satisfied: chardet<4,>=3.0.2 in c:\\users\\31653\\anaconda3\\lib\\site-packages (from requests>=2.16.2->dropbox) (3.0.4)\n",
      "Requirement already satisfied: certifi>=2017.4.17 in c:\\users\\31653\\anaconda3\\lib\\site-packages (from requests>=2.16.2->dropbox) (2020.6.20)\n",
      "Requirement already satisfied: urllib3!=1.25.0,!=1.25.1,<1.26,>=1.21.1 in c:\\users\\31653\\anaconda3\\lib\\site-packages (from requests>=2.16.2->dropbox) (1.25.11)\n",
      "Installing collected packages: stone, dropbox\n",
      "Successfully installed dropbox-11.2.0 stone-3.2.1\n",
      "Note: you may need to restart the kernel to use updated packages.\n"
     ]
    }
   ],
   "source": [
    "%pip install dropbox"
   ]
  },
  {
   "cell_type": "code",
   "execution_count": null,
   "metadata": {},
   "outputs": [],
   "source": [
    "#!/usr/bin/env python3\n",
    "\n",
    "import dropbox\n",
    "from dropbox import DropboxOAuth2FlowNoRedirect\n",
    "\n",
    "'''\n",
    "Populate your app key in order to run this locally\n",
    "'''\n",
    "APP_KEY = \n",
    "\n",
    "auth_flow = DropboxOAuth2FlowNoRedirect(APP_KEY, use_pkce=True, token_access_type='offline')\n",
    "\n",
    "authorize_url = auth_flow.start()\n",
    "print(\"1. Go to: \" + authorize_url)\n",
    "print(\"2. Click \\\"Allow\\\" (you might have to log in first).\")\n",
    "print(\"3. Copy the authorization code.\")\n",
    "auth_code = input(\"Enter the authorization code here: \").strip()\n",
    "\n",
    "try:\n",
    "    oauth_result = auth_flow.finish(auth_code)\n",
    "except Exception as e:\n",
    "    print('Error: %s' % (e,))\n",
    "    exit(1)\n",
    "\n",
    "with dropbox.Dropbox(oauth2_refresh_token=oauth_result.refresh_token, app_key=APP_KEY) as dbx:\n",
    "    dbx.users_get_current_account()\n",
    "    print(\"Successfully set up client!\")"
   ]
  },
  {
   "cell_type": "markdown",
   "metadata": {},
   "source": [
    "## 9. Rename files"
   ]
  },
  {
   "cell_type": "code",
   "execution_count": 4,
   "metadata": {},
   "outputs": [
    {
     "data": {
      "text/plain": [
       "['accounts2.txt',\n",
       " 'demo.txt',\n",
       " 'NOAA_data.txt',\n",
       " 'servers.txt',\n",
       " 'untitled.txt',\n",
       " 'untitled1.txt']"
      ]
     },
     "execution_count": 4,
     "metadata": {},
     "output_type": "execute_result"
    }
   ],
   "source": [
    "import glob\n",
    "txt_files = glob.glob('*.txt')\n",
    "txt_files"
   ]
  },
  {
   "cell_type": "code",
   "execution_count": 2,
   "metadata": {},
   "outputs": [
    {
     "data": {
      "text/plain": [
       "'C:\\\\Users\\\\31653\\\\Documents\\\\GitHub\\\\Notebooks'"
      ]
     },
     "execution_count": 2,
     "metadata": {},
     "output_type": "execute_result"
    }
   ],
   "source": [
    "pwd"
   ]
  },
  {
   "cell_type": "code",
   "execution_count": 3,
   "metadata": {},
   "outputs": [],
   "source": [
    "import os\n",
    "\n",
    "# Absolute path of a file\n",
    "old_name = r\"C:\\\\Users\\\\31653\\\\Documents\\\\GitHub\\\\Notebooks\\accounts.txt\"\n",
    "new_name = r\"C:\\\\Users\\\\31653\\\\Documents\\\\GitHub\\\\Notebooks\\accounts2.txt\"\n",
    "\n",
    "# Renaming the file\n",
    "os.rename(old_name, new_name)"
   ]
  },
  {
   "cell_type": "code",
   "execution_count": null,
   "metadata": {},
   "outputs": [],
   "source": [
    "import os\n",
    "\n",
    "new_name = 'r'\n",
    "\n",
    "for i in len(txt_files):\n",
    "    os.rename(txt_files[i], "
   ]
  },
  {
   "cell_type": "markdown",
   "metadata": {},
   "source": [
    "## 10. Listdir"
   ]
  },
  {
   "cell_type": "code",
   "execution_count": 7,
   "metadata": {},
   "outputs": [
    {
     "data": {
      "text/plain": [
       "['.git',\n",
       " '.gitignore',\n",
       " '.ipynb_checkpoints',\n",
       " \"1.0 - Michiel's Notebook on basics of Python and Jupyter Notebooks.ipynb\",\n",
       " \"1.01 Michiels' Python fundamentals Notebook.ipynb\",\n",
       " '1.02 Basics of Data Analysis.ipynb',\n",
       " '1.03 Working with files and data serialization.ipynb',\n",
       " '1.04 Michiels notebook on images.ipynb',\n",
       " '1.05 Getting data from the web - requests, wget and curl.ipynb',\n",
       " '1.06 Functions.ipynb',\n",
       " '1.07 Pandas basics.ipynb',\n",
       " '1.07b Pandas Time Series - Halfway.ipynb',\n",
       " '1.08 Simple graphs Matplotlib.ipynb',\n",
       " '1.09 IPython and Markdown.ipynb',\n",
       " '1.10 Converting data types.ipynb',\n",
       " '11k16bitpcm.wav',\n",
       " \"2.0 Michiel's Intermediate Notebook.ipynb\",\n",
       " '2.01 Time and datetime.ipynb',\n",
       " '2.02 Arrays with Numpy.ipynb',\n",
       " \"2.03 Michiel's notebook on python for maps - GeoPandas issue.ipynb\",\n",
       " '2.04 Webscraping and BeautifulSoup.ipynb',\n",
       " '2.05 Speech recognition (issue).ipynb',\n",
       " '2.06 Working with the OS - in progress.ipynb',\n",
       " '2.07 Graphs advanced - Seaborn, Plotly, Plotnine.ipynb',\n",
       " '2.08 Time Series with Pandas and SciPy.ipynb',\n",
       " '2.09 SciPy various scripts.ipynb',\n",
       " '2.10 Python and Linux.ipynb',\n",
       " '2.10 Python and SQL and other databases - to do.ipynb',\n",
       " '2.11 Image_data_augmentation.ipynb',\n",
       " '3.01 Deep learning for python -2e versie.ipynb',\n",
       " '3.01 Michiels notebook Deep learning with python - 1.ipynb',\n",
       " \"3.02 Michiel's Neural Network Notebook.ipynb\",\n",
       " \"3.03 Michiel's notebook on Pytorch - Work in progress.ipynb\",\n",
       " \"3.04 Michiel's notebook on OpenCV.ipynb\",\n",
       " '3.05-classifying-movie-reviews.ipynb',\n",
       " '3.06 Build your own image classifier - loads of work to do.ipynb',\n",
       " '3.07 Keras_Image_classification_from_scratch.ipynb',\n",
       " '3.08 MNIST in Keras.ipynb',\n",
       " '3.09 Teachable Machine.ipynb',\n",
       " '3.10 Image Segmentation with Pixellib (PointRed only on linux not windows).ipynb',\n",
       " '3.11 Object Detection Work in Progress.ipynb',\n",
       " '3.12 YOLO.ipynb',\n",
       " '3.13 ImageAI.ipynb',\n",
       " '3.14 NLP Sentiment in text (NLP zero to hero 3).ipynb',\n",
       " '3.15 Motpy.ipynb',\n",
       " '3.15 tf2_object_detection.ipynb',\n",
       " '4.01 AMQP with RabbitMQ.ipynb',\n",
       " '4.02 Kafka.ipynb',\n",
       " '4.03 MQTT.ipynb',\n",
       " '4.04 InfluxDB.ipynb',\n",
       " '4.05 OData.ipynb',\n",
       " '4.06 websockets.ipynb',\n",
       " '5.01 Maps of Amsterdam.ipynb',\n",
       " '5.02 Barchart race original.ipynb',\n",
       " '5.03 Panel issue.ipynb',\n",
       " '5.03 Panel.ipynb',\n",
       " '5.04 Pre-assignment AI café Michiel.ipynb',\n",
       " '5.05 audio.ipynb',\n",
       " '5.05b Audio2 OpenL3 .ipynb',\n",
       " '5.05c Audio Data Augmentation.ipynb',\n",
       " '5.07 Amsterdam data.ipynb',\n",
       " '5.x Yamnet_visualisation.ipynb',\n",
       " 'accounts2.txt',\n",
       " 'anatomy of an array.png',\n",
       " 'buik3.jpg',\n",
       " 'buik3.thumbnail',\n",
       " 'cache',\n",
       " 'camera_detected_video.avi',\n",
       " 'claxon_1m.jpg',\n",
       " 'claxon_1m.thumbnail',\n",
       " 'claxon_1m.wav',\n",
       " 'claxon_1m_log.jpg',\n",
       " 'claxon_1m_log.thumbnail',\n",
       " 'claxon_close.jpg',\n",
       " 'claxon_close.thumbnail',\n",
       " 'claxon_close.wav',\n",
       " 'claxon_close_log.jpg',\n",
       " 'claxon_close_log.thumbnail',\n",
       " 'claxon_colorbar_log.jpg',\n",
       " 'claxon_colorbar_log.thumbnail',\n",
       " 'claxon_freesound.wav',\n",
       " 'claxon_iphone.wav',\n",
       " 'claxon_iphone_log.jpg',\n",
       " 'claxon_iphone_log.thumbnail',\n",
       " 'claxon_michiel.wav',\n",
       " 'claxon_michiel_log.jpg',\n",
       " 'claxon_michiel_log.thumbnail',\n",
       " 'credentials.py',\n",
       " 'curl',\n",
       " 'data.yaml',\n",
       " 'demo.txt',\n",
       " 'download (1).wget',\n",
       " 'download.wget',\n",
       " 'drop.avi',\n",
       " 'edgeimpulse.json',\n",
       " 'example.wav',\n",
       " 'foo.csv',\n",
       " 'haarcascade_frontalface_default.xml',\n",
       " 'haar_cascade_stop.xml',\n",
       " 'items.yaml',\n",
       " 'mask_rcnn_coco.h5',\n",
       " 'MNIST',\n",
       " 'models',\n",
       " 'mqtt_open_ears_test.py',\n",
       " 'MQTT_steve.py',\n",
       " 'mqtt_sub.py',\n",
       " 'myenv',\n",
       " 'my_test.wav',\n",
       " 'my_wav.wav',\n",
       " 'newimage.jpg',\n",
       " 'newimage.thumbnail',\n",
       " 'new_file.ogg',\n",
       " 'NOAA_data.txt',\n",
       " 'noise_add.wav',\n",
       " 'Notebooks-private',\n",
       " 'OEtest_210505_youtube_traffic.csv',\n",
       " 'OEtest_210506_youtubetraffic.csv',\n",
       " 'oe_wavs',\n",
       " 'opencv.png',\n",
       " 'OpenEars audio analysis.ipynb',\n",
       " 'out.wav',\n",
       " 'output.avi',\n",
       " 'output.jpg',\n",
       " 'output.mp4',\n",
       " 'output.thumbnail',\n",
       " 'output.wav',\n",
       " 'person.json',\n",
       " 'pixellib',\n",
       " 'pixellib_example.jpg',\n",
       " 'pixellib_example.thumbnail',\n",
       " 'plot.png',\n",
       " 'razorback.mp3',\n",
       " 'README.md',\n",
       " 'road.jpg',\n",
       " 'road.thumbnail',\n",
       " 'road2.jpg',\n",
       " 'road2.png',\n",
       " 'road2.thumbnail',\n",
       " 'robot0.wav',\n",
       " 'robot1.wav',\n",
       " 'robot2.wav',\n",
       " 'robot3.wav',\n",
       " 'sample.mp4',\n",
       " 'sarcasm (1).json',\n",
       " 'sarcasm (2).json',\n",
       " 'sarcasm.json',\n",
       " 'save.pkl',\n",
       " 'scatter.jpg',\n",
       " 'scatter.thumbnail',\n",
       " 'servers.txt',\n",
       " 'silence.wav',\n",
       " 'streamlit.py',\n",
       " 'Street - 22516.mp4',\n",
       " 'temp1.png',\n",
       " 'test.wav',\n",
       " 'test2.wav',\n",
       " 'test3.wav',\n",
       " 'thuis.jpg',\n",
       " 'traffic_detected.avi',\n",
       " 'tranquilizer.py',\n",
       " 'UMTMVS.csv',\n",
       " 'Untitled.ipynb',\n",
       " 'untitled.txt',\n",
       " 'Untitled1.ipynb',\n",
       " 'untitled1.txt',\n",
       " 'websocketbrowser.html',\n",
       " 'websocketbrowser.py',\n",
       " 'world-happiness',\n",
       " 'world-happinesstjpjti8t.tmp',\n",
       " 'world-happinesswfvezx54.tmp',\n",
       " 'yolo-tiny.h5',\n",
       " 'yolo.h5',\n",
       " 'yolov3.weights',\n",
       " \"youtube-dl test video ''_ä↭𝕐-BaW_jenozKc.m4a\",\n",
       " \"youtube-dl test video ''_ä↭𝕐-BaW_jenozKc.mp4\",\n",
       " 'Zebra_Zuid-Afrika.jpg',\n",
       " '__pycache__']"
      ]
     },
     "execution_count": 7,
     "metadata": {},
     "output_type": "execute_result"
    }
   ],
   "source": [
    "import os\n",
    "\n",
    "my_list= os.listdir('C:\\\\Users\\\\31653\\\\Documents\\\\GitHub\\\\Notebooks')\n",
    "my_list"
   ]
  },
  {
   "cell_type": "markdown",
   "metadata": {},
   "source": [
    "## 11. Copying files with shutil\n",
    "source: https://towardsdatascience.com/copy-files-python-ad17998264db"
   ]
  },
  {
   "cell_type": "code",
   "execution_count": 9,
   "metadata": {},
   "outputs": [
    {
     "data": {
      "text/plain": [
       "['accounts.txt',\n",
       " 'accounts2.txt',\n",
       " 'accounts_copy.txt',\n",
       " 'a_file.txt',\n",
       " 'demo.txt',\n",
       " 'leegmelden_plantuml.txt',\n",
       " 'NOAA_data.txt',\n",
       " 'plantuml.txt',\n",
       " 'plantuml_complex.txt',\n",
       " 'plantuml_complex2.txt',\n",
       " 'servers.txt',\n",
       " 'untitled.txt',\n",
       " 'XML_file.txt']"
      ]
     },
     "execution_count": 9,
     "metadata": {},
     "output_type": "execute_result"
    }
   ],
   "source": [
    "import glob\n",
    "my_txts = glob.glob('*.txt')\n",
    "my_txts"
   ]
  },
  {
   "cell_type": "code",
   "execution_count": 15,
   "metadata": {},
   "outputs": [],
   "source": [
    "# create a new dir\n",
    "import os\n",
    "os.mkdir('test')\n",
    "#os. rmdir('test') "
   ]
  },
  {
   "cell_type": "code",
   "execution_count": 16,
   "metadata": {},
   "outputs": [
    {
     "data": {
      "text/plain": [
       "'test/accounts.txt'"
      ]
     },
     "execution_count": 16,
     "metadata": {},
     "output_type": "execute_result"
    }
   ],
   "source": [
    "import shutil\n",
    "# Copy file example.txt into a new file called example_copy.txt\n",
    "#shutil.copy('accounts.txt', 'accounts_copy.txt')\n",
    "# Copy file example.txt into directory test/\n",
    "shutil.copy('accounts.txt', 'test/')"
   ]
  },
  {
   "cell_type": "code",
   "execution_count": 21,
   "metadata": {},
   "outputs": [
    {
     "ename": "FileNotFoundError",
     "evalue": "[WinError 3] The system cannot find the path specified: '/test/accounts.txt'",
     "output_type": "error",
     "traceback": [
      "\u001b[1;31m---------------------------------------------------------------------------\u001b[0m",
      "\u001b[1;31mFileNotFoundError\u001b[0m                         Traceback (most recent call last)",
      "\u001b[1;32m~\\AppData\\Local\\Temp/ipykernel_33252/3110104584.py\u001b[0m in \u001b[0;36m<module>\u001b[1;34m\u001b[0m\n\u001b[0;32m      2\u001b[0m \u001b[1;32mimport\u001b[0m \u001b[0mos\u001b[0m\u001b[1;33m\u001b[0m\u001b[1;33m\u001b[0m\u001b[0m\n\u001b[0;32m      3\u001b[0m \u001b[1;31m#os. remove('accounts_copy.txt')\u001b[0m\u001b[1;33m\u001b[0m\u001b[1;33m\u001b[0m\u001b[1;33m\u001b[0m\u001b[0m\n\u001b[1;32m----> 4\u001b[1;33m \u001b[0mos\u001b[0m\u001b[1;33m.\u001b[0m\u001b[0mremove\u001b[0m\u001b[1;33m(\u001b[0m\u001b[1;34m'/test/accounts.txt'\u001b[0m\u001b[1;33m)\u001b[0m\u001b[1;33m\u001b[0m\u001b[1;33m\u001b[0m\u001b[0m\n\u001b[0m",
      "\u001b[1;31mFileNotFoundError\u001b[0m: [WinError 3] The system cannot find the path specified: '/test/accounts.txt'"
     ]
    }
   ],
   "source": [
    "#and use this to remove the item\n",
    "import os\n",
    "#os. remove('accounts_copy.txt')\n",
    "os.remove('/test/accounts.txt')"
   ]
  },
  {
   "cell_type": "code",
   "execution_count": 29,
   "metadata": {},
   "outputs": [
    {
     "data": {
      "text/plain": [
       "'C:\\\\Users\\\\31653\\\\Desktop\\\\DeAlliantie\\\\wsdl\\\\ax-woningnet.wsdl'"
      ]
     },
     "execution_count": 29,
     "metadata": {},
     "output_type": "execute_result"
    }
   ],
   "source": [
    "# Just put r before your normal string it converts normal string to raw string:\n",
    "import shutil\n",
    "shutil.copy(r'C:\\Users\\31653\\Desktop\\DeAlliantie\\ax-woningnet.wsdl', r'C:\\Users\\31653\\Desktop\\DeAlliantie\\wsdl\\ax-woningnet.wsdl')"
   ]
  },
  {
   "cell_type": "markdown",
   "metadata": {},
   "source": [
    "## 6. PS Util"
   ]
  },
  {
   "cell_type": "code",
   "execution_count": 1,
   "metadata": {},
   "outputs": [
    {
     "data": {
      "text/plain": [
       "sbattery(percent=100, secsleft=<BatteryTime.POWER_TIME_UNLIMITED: -2>, power_plugged=True)"
      ]
     },
     "execution_count": 1,
     "metadata": {},
     "output_type": "execute_result"
    }
   ],
   "source": [
    "#!/usr/bin/env python\n",
    "import psutil\n",
    "# gives a single float value\n",
    "#psutil.cpu_percent()\n",
    "psutil.sensors_battery()"
   ]
  },
  {
   "cell_type": "code",
   "execution_count": null,
   "metadata": {},
   "outputs": [],
   "source": []
  }
 ],
 "metadata": {
  "kernelspec": {
   "display_name": "Python 3 (ipykernel)",
   "language": "python",
   "name": "python3"
  },
  "language_info": {
   "codemirror_mode": {
    "name": "ipython",
    "version": 3
   },
   "file_extension": ".py",
   "mimetype": "text/x-python",
   "name": "python",
   "nbconvert_exporter": "python",
   "pygments_lexer": "ipython3",
   "version": "3.8.5"
  }
 },
 "nbformat": 4,
 "nbformat_minor": 2
}
