{
 "cells": [
  {
   "cell_type": "markdown",
   "metadata": {},
   "source": [
    "# Working with the OS\n",
    "\n",
    "## Contents\n",
    "0. Linux commands in Jupyter\n",
    "1. Glob\n",
    "2. Pathlib\n",
    "3. OS Library\n",
    "4. Socket\n",
    "5. Ping status\n",
    "6. Environmental variable (to store credentials)\n",
    "7. Google Drive - in progress\n",
    "8. Dropbox - in progress"
   ]
  },
  {
   "cell_type": "markdown",
   "metadata": {},
   "source": [
    "## 0.Some linux commands in Jupyter\n",
    "- pwd\n",
    "- ls\n",
    "- cd / cd .."
   ]
  },
  {
   "cell_type": "code",
   "execution_count": 2,
   "metadata": {},
   "outputs": [
    {
     "name": "stdout",
     "output_type": "stream",
     "text": [
      "Name: numpy\n",
      "Version: 1.19.2\n",
      "Summary: NumPy is the fundamental package for array computing with Python.\n",
      "Note: you may need to restart the kernel to use updated packages.\n",
      "Home-page: https://www.numpy.org\n",
      "Author: Travis E. Oliphant et al.\n",
      "Author-email: None\n",
      "License: BSD\n",
      "Location: c:\\users\\31653\\anaconda3\\lib\\site-packages\n",
      "Requires: \n",
      "Required-by: tifffile, tabula-py, tables, statsmodels, seaborn, scipy, scikit-learn, scikit-image, PyWavelets, patsy, pandas, numexpr, numba, mkl-random, mkl-fft, matplotlib, imageio, h5py, folium, Bottleneck, bokeh, bkcharts, astropy\n"
     ]
    }
   ],
   "source": [
    "# source https://pip.pypa.io/en/stable/reference/pip_check/\n",
    "%pip show numpy"
   ]
  },
  {
   "cell_type": "code",
   "execution_count": 16,
   "metadata": {},
   "outputs": [
    {
     "name": "stdout",
     "output_type": "stream",
     "text": [
      "spyder 4.1.5 requires pyqt5, which is not installed.\n",
      "spyder 4.1.5 requires pyqtwebengine, which is not installed.\n",
      "qdarkstyle 2.8.1 requires helpdev, which is not installed.\n",
      "pexpect 4.8.0 requires ptyprocess, which is not installed.\n",
      "bokeh 2.2.3 has requirement pillow>=7.1.0, but you have pillow 7.0.0.\n"
     ]
    }
   ],
   "source": [
    "!pip check"
   ]
  },
  {
   "cell_type": "markdown",
   "metadata": {},
   "source": [
    "## 1. Python glob module \n",
    "The glob module finds all the pathnames matching a specified pattern according to the rules used by the Unix shell, although results are returned in arbitrary order.\n",
    "\n",
    "source: https://docs.python.org/3/library/glob.html"
   ]
  },
  {
   "cell_type": "code",
   "execution_count": 6,
   "metadata": {},
   "outputs": [
    {
     "data": {
      "text/plain": [
       "['Zebra_Zuid-Afrika.jpg',\n",
       " 'buik3.jpg',\n",
       " 'newimage.jpg',\n",
       " 'output.jpg',\n",
       " 'pixellib_example.jpg',\n",
       " 'road.jpg',\n",
       " 'road2.jpg',\n",
       " 'thuis.jpg']"
      ]
     },
     "execution_count": 6,
     "metadata": {},
     "output_type": "execute_result"
    }
   ],
   "source": [
    "import glob\n",
    "\n",
    "files = glob.glob('*.jpg') # retrieve all the .json files in home dir and assign to a list\n",
    "# Take the files from the last two weeks only.\n",
    "files = sorted(files)[-14:] # sort the files of the last 14 days\n",
    "type(files)\n",
    "files"
   ]
  },
  {
   "cell_type": "markdown",
   "metadata": {},
   "source": [
    "## 2. Pathlib - issue\n",
    "\n",
    "with pathlib you can add a path to the glob command"
   ]
  },
  {
   "cell_type": "code",
   "execution_count": 19,
   "metadata": {},
   "outputs": [
    {
     "name": "stdout",
     "output_type": "stream",
     "text": [
      "Requirement already satisfied: pathlib in c:\\users\\31653\\anaconda3\\lib\\site-packages (1.0.1)\n",
      "Note: you may need to restart the kernel to use updated packages.\n"
     ]
    }
   ],
   "source": [
    "%pip install pathlib"
   ]
  },
  {
   "cell_type": "code",
   "execution_count": 3,
   "metadata": {},
   "outputs": [
    {
     "data": {
      "text/plain": [
       "'C:\\\\Users\\\\31653\\\\Documents\\\\GitHub\\\\Notebooks'"
      ]
     },
     "execution_count": 3,
     "metadata": {},
     "output_type": "execute_result"
    }
   ],
   "source": [
    "pwd"
   ]
  },
  {
   "cell_type": "code",
   "execution_count": 5,
   "metadata": {},
   "outputs": [
    {
     "ename": "SyntaxError",
     "evalue": "unexpected EOF while parsing (<ipython-input-5-0cd1b56e332c>, line 6)",
     "output_type": "error",
     "traceback": [
      "\u001b[1;36m  File \u001b[1;32m\"<ipython-input-5-0cd1b56e332c>\"\u001b[1;36m, line \u001b[1;32m6\u001b[0m\n\u001b[1;33m    with file.open(mode='r') as f:\u001b[0m\n\u001b[1;37m                                       ^\u001b[0m\n\u001b[1;31mSyntaxError\u001b[0m\u001b[1;31m:\u001b[0m unexpected EOF while parsing\n"
     ]
    }
   ],
   "source": [
    "from pathlib import Path\n",
    "\n",
    "jpg_files = Path('/').glob('*.jpg')\n",
    "\n",
    "for file in jpg_files:\n",
    "    with file.open(mode='r') as f:     "
   ]
  },
  {
   "cell_type": "code",
   "execution_count": 3,
   "metadata": {},
   "outputs": [
    {
     "data": {
      "text/plain": [
       "WindowsPath('C:/Users/31653')"
      ]
     },
     "execution_count": 3,
     "metadata": {},
     "output_type": "execute_result"
    }
   ],
   "source": [
    "from pathlib import Path\n",
    "Path.home()"
   ]
  },
  {
   "cell_type": "markdown",
   "metadata": {},
   "source": [
    "## 3. OS library"
   ]
  },
  {
   "cell_type": "code",
   "execution_count": 7,
   "metadata": {},
   "outputs": [
    {
     "data": {
      "text/plain": [
       "'C:\\\\Users\\\\31653\\\\Documents\\\\GitHub\\\\Notebooks'"
      ]
     },
     "execution_count": 7,
     "metadata": {},
     "output_type": "execute_result"
    }
   ],
   "source": [
    "pwd"
   ]
  },
  {
   "cell_type": "code",
   "execution_count": 6,
   "metadata": {
    "scrolled": true
   },
   "outputs": [
    {
     "name": "stdout",
     "output_type": "stream",
     "text": [
      "anatomy of an array\n",
      ".png\n"
     ]
    }
   ],
   "source": [
    "from PIL import Image\n",
    "import numpy as np\n",
    "import glob, os\n",
    "\n",
    "pngs=glob.glob('*.png')\n",
    "infile = pngs[0] #select first item in list\n",
    "file, ext = os.path.splitext(infile)\n",
    "print(file)\n",
    "print(ext)"
   ]
  },
  {
   "cell_type": "code",
   "execution_count": null,
   "metadata": {},
   "outputs": [],
   "source": []
  },
  {
   "cell_type": "markdown",
   "metadata": {},
   "source": [
    "## 4. Socket"
   ]
  },
  {
   "cell_type": "code",
   "execution_count": null,
   "metadata": {},
   "outputs": [],
   "source": [
    "### SCRIPT WERKT NIET MET JUPYTER\n",
    "\n",
    "# Python3.7+\n",
    "import socket\n",
    "\n",
    "HOST, PORT = '', 8888\n",
    "\n",
    "listen_socket = socket.socket(socket.AF_INET, socket.SOCK_STREAM)\n",
    "listen_socket.setsockopt(socket.SOL_SOCKET, socket.SO_REUSEADDR, 1)\n",
    "listen_socket.bind((HOST, PORT))\n",
    "listen_socket.listen(1)\n",
    "print(f'Serving HTTP on port {PORT} ...')\n",
    "while True:\n",
    "    client_connection, client_address = listen_socket.accept()\n",
    "    request_data = client_connection.recv(1024)\n",
    "    print(request_data.decode('utf-8'))\n",
    "\n",
    "    http_response = b\"\"\"\\\n",
    "HTTP/1.1 200 OK\n",
    "\n",
    "Hello, World!\n",
    "\"\"\"\n",
    "    client_connection.sendall(http_response)\n",
    "    client_connection.close()"
   ]
  },
  {
   "cell_type": "markdown",
   "metadata": {},
   "source": [
    "## 5. Ping status with OS"
   ]
  },
  {
   "cell_type": "code",
   "execution_count": 2,
   "metadata": {},
   "outputs": [
    {
     "data": {
      "text/plain": [
       "'Network Error'"
      ]
     },
     "execution_count": 2,
     "metadata": {},
     "output_type": "execute_result"
    }
   ],
   "source": [
    "#https://stackoverflow.com/questions/26468640/python-function-to-test-ping/39563638\n",
    "import os\n",
    "hostname = \"https://www.google.com\"\n",
    "response = os.system(\"ping -c 1 \" + hostname)\n",
    "if response == 0:\n",
    "    pingstatus = \"Network Active\"\n",
    "else:\n",
    "    pingstatus = \"Network Error\"\n",
    "pingstatus"
   ]
  },
  {
   "cell_type": "code",
   "execution_count": 1,
   "metadata": {},
   "outputs": [
    {
     "data": {
      "text/plain": [
       "'Network Active'"
      ]
     },
     "execution_count": 1,
     "metadata": {},
     "output_type": "execute_result"
    }
   ],
   "source": [
    "#For my raspberry\n",
    "import os\n",
    "response = os.system(\"ping 192.168.178.36\")\n",
    "if response == 0:\n",
    "    pingstatus = \"Network Active\"\n",
    "else:\n",
    "    pingstatus = \"Network Error\"\n",
    "pingstatus"
   ]
  },
  {
   "cell_type": "markdown",
   "metadata": {},
   "source": [
    "## 6. Setting environment variable to store passwords etc\n",
    "\n",
    "source: https://medium.com/dataseries/hiding-secret-info-in-python-using-environment-variables-a2bab182eea"
   ]
  },
  {
   "cell_type": "code",
   "execution_count": 13,
   "metadata": {
    "scrolled": false
   },
   "outputs": [
    {
     "name": "stdout",
     "output_type": "stream",
     "text": [
      "User's Environment variable:\n",
      "{'ALLUSERSPROFILE': 'C:\\\\ProgramData',\n",
      " 'APPDATA': 'C:\\\\Users\\\\31653\\\\AppData\\\\Roaming',\n",
      " 'CHOCOLATEYINSTALL': 'C:\\\\ProgramData\\\\chocolatey',\n",
      " 'CHOCOLATEYLASTPATHUPDATE': '132582878750001286',\n",
      " 'CLICOLOR': '1',\n",
      " 'COMMONPROGRAMFILES': 'C:\\\\Program '\n",
      "                       'Files\\\\Common '\n",
      "                       'Files',\n",
      " 'COMMONPROGRAMFILES(X86)': 'C:\\\\Program '\n",
      "                            'Files '\n",
      "                            '(x86)\\\\Common '\n",
      "                            'Files',\n",
      " 'COMMONPROGRAMW6432': 'C:\\\\Program '\n",
      "                       'Files\\\\Common '\n",
      "                       'Files',\n",
      " 'COMPUTERNAME': 'DESKTOP-NCBF73A',\n",
      " 'COMSPEC': 'C:\\\\Windows\\\\system32\\\\cmd.exe',\n",
      " 'CONDA_DEFAULT_ENV': 'influxdb',\n",
      " 'CONDA_EXE': 'C:\\\\Users\\\\31653\\\\anaconda3\\\\Scripts\\\\conda.exe',\n",
      " 'CONDA_PREFIX': 'C:\\\\Users\\\\31653\\\\anaconda3\\\\envs\\\\influxdb',\n",
      " 'CONDA_PROMPT_MODIFIER': '(influxdb) ',\n",
      " 'CONDA_PYTHON_EXE': 'C:\\\\Users\\\\31653\\\\anaconda3\\\\python.exe',\n",
      " 'CONDA_ROOT': 'C:\\\\Users\\\\31653\\\\anaconda3',\n",
      " 'CONDA_SHLVL': '1',\n",
      " 'DRIVERDATA': 'C:\\\\Windows\\\\System32\\\\Drivers\\\\DriverData',\n",
      " 'ERLANG_HOME': 'C:\\\\Program '\n",
      "                'Files\\\\erl10.7',\n",
      " 'FPS_BROWSER_APP_PROFILE_STRING': 'Internet '\n",
      "                                   'Explorer',\n",
      " 'FPS_BROWSER_USER_PROFILE_STRING': 'Default',\n",
      " 'GIT_PAGER': 'cat',\n",
      " 'HOMEDRIVE': 'C:',\n",
      " 'HOMEPATH': '\\\\Users\\\\31653',\n",
      " 'IPY_INTERRUPT_EVENT': '1576',\n",
      " 'JPY_INTERRUPT_EVENT': '1576',\n",
      " 'JPY_PARENT_PID': '3196',\n",
      " 'LOCALAPPDATA': 'C:\\\\Users\\\\31653\\\\AppData\\\\Local',\n",
      " 'LOGONSERVER': '\\\\\\\\DESKTOP-NCBF73A',\n",
      " 'MPLBACKEND': 'module://ipykernel.pylab.backend_inline',\n",
      " 'NUMBER_OF_PROCESSORS': '12',\n",
      " 'ONEDRIVE': 'C:\\\\Users\\\\31653\\\\OneDrive',\n",
      " 'OS': 'Windows_NT',\n",
      " 'PAGER': 'cat',\n",
      " 'PATH': 'C:\\\\Users\\\\31653\\\\anaconda3\\\\envs\\\\influxdb;C:\\\\Users\\\\31653\\\\anaconda3\\\\envs\\\\influxdb\\\\Library\\\\mingw-w64\\\\bin;C:\\\\Users\\\\31653\\\\anaconda3\\\\envs\\\\influxdb\\\\Library\\\\usr\\\\bin;C:\\\\Users\\\\31653\\\\anaconda3\\\\envs\\\\influxdb\\\\Library\\\\bin;C:\\\\Users\\\\31653\\\\anaconda3\\\\envs\\\\influxdb\\\\Scripts;C:\\\\Users\\\\31653\\\\anaconda3\\\\envs\\\\influxdb\\\\bin;C:\\\\Users\\\\31653\\\\anaconda3\\\\condabin;C:\\\\Users\\\\31653\\\\anaconda3;C:\\\\Users\\\\31653\\\\anaconda3\\\\Library\\\\mingw-w64\\\\bin;C:\\\\Users\\\\31653\\\\anaconda3\\\\Library\\\\usr\\\\bin;C:\\\\Users\\\\31653\\\\anaconda3\\\\Library\\\\bin;C:\\\\Users\\\\31653\\\\anaconda3\\\\Scripts;C:\\\\Windows\\\\system32;C:\\\\Windows;C:\\\\Windows\\\\System32\\\\Wbem;C:\\\\Windows\\\\System32\\\\WindowsPowerShell\\\\v1.0;C:\\\\Windows\\\\System32\\\\OpenSSH;C:\\\\Program '\n",
      "         'Files '\n",
      "         '(x86)\\\\NVIDIA '\n",
      "         'Corporation\\\\PhysX\\\\Common;C:\\\\Program '\n",
      "         'Files\\\\NVIDIA '\n",
      "         'Corporation\\\\NVIDIA '\n",
      "         'NvDLISR;C:\\\\Program '\n",
      "         'Files\\\\Git\\\\cmd;C:\\\\Program '\n",
      "         'Files\\\\PuTTY;C:\\\\Program '\n",
      "         'Files\\\\dotnet;C:\\\\Program '\n",
      "         'Files\\\\Microsoft '\n",
      "         'SQL '\n",
      "         'Server\\\\130\\\\Tools\\\\Binn;C:\\\\Program '\n",
      "         'Files\\\\Microsoft '\n",
      "         'SQL '\n",
      "         'Server\\\\Client '\n",
      "         'SDK\\\\ODBC\\\\170\\\\Tools\\\\Binn;C:\\\\ProgramData\\\\chocolatey\\\\bin;.;C:\\\\Program '\n",
      "         'Files\\\\nodejs;C:\\\\Program '\n",
      "         'Files\\\\Docker\\\\Docker\\\\resources\\\\bin;C:\\\\ProgramData\\\\DockerDesktop\\\\version-bin;C:\\\\Users\\\\31653\\\\AppData\\\\Local\\\\Microsoft\\\\WindowsApps;C:\\\\Users\\\\31653\\\\AppData\\\\Local\\\\Programs\\\\Microsoft '\n",
      "         'VS '\n",
      "         'Code\\\\bin;C:\\\\Users\\\\31653\\\\AppData\\\\Local\\\\GitHubDesktop\\\\bin;C:\\\\Users\\\\31653\\\\.dotnet\\\\tools;C:\\\\Users\\\\31653\\\\AppData\\\\Roaming\\\\npm',\n",
      " 'PATHEXT': '.COM;.EXE;.BAT;.CMD;.VBS;.VBE;.JS;.JSE;.WSF;.WSH;.MSC',\n",
      " 'PROCESSOR_ARCHITECTURE': 'AMD64',\n",
      " 'PROCESSOR_IDENTIFIER': 'Intel64 '\n",
      "                         'Family '\n",
      "                         '6 '\n",
      "                         'Model '\n",
      "                         '158 '\n",
      "                         'Stepping '\n",
      "                         '10, '\n",
      "                         'GenuineIntel',\n",
      " 'PROCESSOR_LEVEL': '6',\n",
      " 'PROCESSOR_REVISION': '9e0a',\n",
      " 'PROGRAMDATA': 'C:\\\\ProgramData',\n",
      " 'PROGRAMFILES': 'C:\\\\Program '\n",
      "                 'Files',\n",
      " 'PROGRAMFILES(X86)': 'C:\\\\Program '\n",
      "                      'Files '\n",
      "                      '(x86)',\n",
      " 'PROGRAMW6432': 'C:\\\\Program '\n",
      "                 'Files',\n",
      " 'PROMPT': '(influxdb) '\n",
      "           '$P$G',\n",
      " 'PSMODULEPATH': 'C:\\\\Program '\n",
      "                 'Files\\\\WindowsPowerShell\\\\Modules;C:\\\\Windows\\\\system32\\\\WindowsPowerShell\\\\v1.0\\\\Modules',\n",
      " 'PUBLIC': 'C:\\\\Users\\\\Public',\n",
      " 'SESSIONNAME': 'Console',\n",
      " 'SYSTEMDRIVE': 'C:',\n",
      " 'SYSTEMROOT': 'C:\\\\Windows',\n",
      " 'TEMP': 'C:\\\\Users\\\\31653\\\\AppData\\\\Local\\\\Temp',\n",
      " 'TERM': 'xterm-color',\n",
      " 'TMP': 'C:\\\\Users\\\\31653\\\\AppData\\\\Local\\\\Temp',\n",
      " 'USERDOMAIN': 'DESKTOP-NCBF73A',\n",
      " 'USERDOMAIN_ROAMINGPROFILE': 'DESKTOP-NCBF73A',\n",
      " 'USERNAME': '31653',\n",
      " 'USERPROFILE': 'C:\\\\Users\\\\31653',\n",
      " 'WINDIR': 'C:\\\\Windows',\n",
      " 'ZES_ENABLE_SYSMAN': '1'}\n"
     ]
    }
   ],
   "source": [
    "# source: https://www.geeksforgeeks.org/python-os-environ-object/\n",
    "# Python program to explain os.environ object \n",
    "  \n",
    "# importing os module \n",
    "import os\n",
    "import pprint\n",
    "  \n",
    "# Get the list of user's\n",
    "# environment variables\n",
    "env_var = os.environ\n",
    "  \n",
    "# Print the list of user's\n",
    "# environment variables\n",
    "print(\"User's Environment variable:\")\n",
    "pprint.pprint(dict(env_var), width = 1)"
   ]
  },
  {
   "cell_type": "code",
   "execution_count": 16,
   "metadata": {},
   "outputs": [
    {
     "name": "stdout",
     "output_type": "stream",
     "text": [
      "None None\n"
     ]
    }
   ],
   "source": [
    "#https://dev.to/biplov/handling-passwords-and-secret-keys-using-environment-variables-2ei0\n",
    "\n",
    "#first, go to system properties, then set an 'environmental variable'. Note: NOT WORKING in my Jupyter NB.\n",
    "\n",
    "import os \n",
    "user_name = os.environ.get('sensemakers')\n",
    "password = os.environ.get('password')\n",
    "\n",
    "print(user_name, password)"
   ]
  },
  {
   "cell_type": "code",
   "execution_count": 3,
   "metadata": {},
   "outputs": [],
   "source": [
    "#source: https://able.bio/rhett/how-to-set-and-get-environment-variables-in-python--274rgt5\n",
    "#Set the environmental Password\n",
    "import os\n",
    "os.environ['API_USER'] = 'Michiel' #but don't keep it in your source code :-)"
   ]
  },
  {
   "cell_type": "code",
   "execution_count": 4,
   "metadata": {},
   "outputs": [
    {
     "name": "stdout",
     "output_type": "stream",
     "text": [
      "Michiel\n"
     ]
    }
   ],
   "source": [
    "#getting that environmental variable:\n",
    "import os\n",
    "#api_user = os.environ.get('API_USER')\n",
    "print(os.environ.get('API_USER'))"
   ]
  },
  {
   "cell_type": "code",
   "execution_count": 5,
   "metadata": {},
   "outputs": [
    {
     "name": "stdout",
     "output_type": "stream",
     "text": [
      "Michiel\n"
     ]
    }
   ],
   "source": [
    "print(os.getenv('API_USER'))"
   ]
  },
  {
   "cell_type": "markdown",
   "metadata": {},
   "source": [
    "## 7. Google Drive\n",
    "source: https://developers.google.com/drive/api/v3/quickstart/python"
   ]
  },
  {
   "cell_type": "code",
   "execution_count": 2,
   "metadata": {},
   "outputs": [
    {
     "name": "stdout",
     "output_type": "stream",
     "text": [
      "Collecting google-api-python-client\n",
      "  Downloading google_api_python_client-2.0.2-py2.py3-none-any.whl (6.5 MB)\n",
      "Collecting google-auth-httplib2\n",
      "  Downloading google_auth_httplib2-0.1.0-py2.py3-none-any.whl (9.3 kB)\n",
      "Requirement already up-to-date: google-auth-oauthlib in c:\\users\\31653\\anaconda3\\lib\\site-packages (0.4.3)\n",
      "Requirement already satisfied, skipping upgrade: six<2dev,>=1.13.0 in c:\\users\\31653\\anaconda3\\lib\\site-packages (from google-api-python-client) (1.15.0)\n",
      "Requirement already satisfied, skipping upgrade: google-auth<2dev,>=1.16.0 in c:\\users\\31653\\anaconda3\\lib\\site-packages (from google-api-python-client) (1.27.1)\n",
      "Collecting uritemplate<4dev,>=3.0.0\n",
      "  Downloading uritemplate-3.0.1-py2.py3-none-any.whl (15 kB)\n",
      "Collecting google-api-core<2dev,>=1.21.0\n",
      "  Downloading google_api_core-1.26.1-py2.py3-none-any.whl (92 kB)\n",
      "Collecting httplib2<1dev,>=0.15.0\n",
      "  Downloading httplib2-0.19.0-py3-none-any.whl (95 kB)\n",
      "Requirement already satisfied, skipping upgrade: requests-oauthlib>=0.7.0 in c:\\users\\31653\\anaconda3\\lib\\site-packages (from google-auth-oauthlib) (1.3.0)\n",
      "Requirement already satisfied, skipping upgrade: pyasn1-modules>=0.2.1 in c:\\users\\31653\\anaconda3\\lib\\site-packages (from google-auth<2dev,>=1.16.0->google-api-python-client) (0.2.8)\n",
      "Requirement already satisfied, skipping upgrade: rsa<5,>=3.1.4; python_version >= \"3.6\" in c:\\users\\31653\\anaconda3\\lib\\site-packages (from google-auth<2dev,>=1.16.0->google-api-python-client) (4.7.2)\n",
      "Requirement already satisfied, skipping upgrade: setuptools>=40.3.0 in c:\\users\\31653\\anaconda3\\lib\\site-packages (from google-auth<2dev,>=1.16.0->google-api-python-client) (50.3.1.post20201107)\n",
      "Requirement already satisfied, skipping upgrade: cachetools<5.0,>=2.0.0 in c:\\users\\31653\\anaconda3\\lib\\site-packages (from google-auth<2dev,>=1.16.0->google-api-python-client) (4.2.1)\n",
      "Requirement already satisfied, skipping upgrade: packaging>=14.3 in c:\\users\\31653\\anaconda3\\lib\\site-packages (from google-api-core<2dev,>=1.21.0->google-api-python-client) (20.4)\n",
      "Requirement already satisfied, skipping upgrade: protobuf>=3.12.0 in c:\\users\\31653\\anaconda3\\lib\\site-packages (from google-api-core<2dev,>=1.21.0->google-api-python-client) (3.15.5)\n",
      "Requirement already satisfied, skipping upgrade: pytz in c:\\users\\31653\\anaconda3\\lib\\site-packages (from google-api-core<2dev,>=1.21.0->google-api-python-client) (2020.1)\n",
      "Requirement already satisfied, skipping upgrade: requests<3.0.0dev,>=2.18.0 in c:\\users\\31653\\anaconda3\\lib\\site-packages (from google-api-core<2dev,>=1.21.0->google-api-python-client) (2.24.0)\n",
      "Collecting googleapis-common-protos<2.0dev,>=1.6.0\n",
      "  Downloading googleapis_common_protos-1.53.0-py2.py3-none-any.whl (198 kB)\n",
      "Requirement already satisfied, skipping upgrade: pyparsing<3,>=2.4.2 in c:\\users\\31653\\anaconda3\\lib\\site-packages (from httplib2<1dev,>=0.15.0->google-api-python-client) (2.4.7)\n",
      "Requirement already satisfied, skipping upgrade: oauthlib>=3.0.0 in c:\\users\\31653\\anaconda3\\lib\\site-packages (from requests-oauthlib>=0.7.0->google-auth-oauthlib) (3.1.0)\n",
      "Requirement already satisfied, skipping upgrade: pyasn1<0.5.0,>=0.4.6 in c:\\users\\31653\\anaconda3\\lib\\site-packages (from pyasn1-modules>=0.2.1->google-auth<2dev,>=1.16.0->google-api-python-client) (0.4.8)\n",
      "Requirement already satisfied, skipping upgrade: urllib3!=1.25.0,!=1.25.1,<1.26,>=1.21.1 in c:\\users\\31653\\anaconda3\\lib\\site-packages (from requests<3.0.0dev,>=2.18.0->google-api-core<2dev,>=1.21.0->google-api-python-client) (1.25.11)\n",
      "Requirement already satisfied, skipping upgrade: idna<3,>=2.5 in c:\\users\\31653\\anaconda3\\lib\\site-packages (from requests<3.0.0dev,>=2.18.0->google-api-core<2dev,>=1.21.0->google-api-python-client) (2.10)\n",
      "Requirement already satisfied, skipping upgrade: certifi>=2017.4.17 in c:\\users\\31653\\anaconda3\\lib\\site-packages (from requests<3.0.0dev,>=2.18.0->google-api-core<2dev,>=1.21.0->google-api-python-client) (2020.6.20)\n",
      "Requirement already satisfied, skipping upgrade: chardet<4,>=3.0.2 in c:\\users\\31653\\anaconda3\\lib\\site-packages (from requests<3.0.0dev,>=2.18.0->google-api-core<2dev,>=1.21.0->google-api-python-client) (3.0.4)\n",
      "Installing collected packages: httplib2, google-auth-httplib2, uritemplate, googleapis-common-protos, google-api-core, google-api-python-client\n",
      "Successfully installed google-api-core-1.26.1 google-api-python-client-2.0.2 google-auth-httplib2-0.1.0 googleapis-common-protos-1.53.0 httplib2-0.19.0 uritemplate-3.0.1\n",
      "Note: you may need to restart the kernel to use updated packages.\n"
     ]
    }
   ],
   "source": [
    "%pip install --upgrade google-api-python-client google-auth-httplib2 google-auth-oauthlib"
   ]
  },
  {
   "cell_type": "code",
   "execution_count": null,
   "metadata": {},
   "outputs": [],
   "source": []
  },
  {
   "cell_type": "code",
   "execution_count": null,
   "metadata": {},
   "outputs": [],
   "source": []
  },
  {
   "cell_type": "markdown",
   "metadata": {},
   "source": [
    "## 8. Dropbox"
   ]
  },
  {
   "cell_type": "code",
   "execution_count": 4,
   "metadata": {},
   "outputs": [
    {
     "name": "stdout",
     "output_type": "stream",
     "text": [
      "Collecting dropbox\n",
      "  Downloading dropbox-11.2.0-py3-none-any.whl (555 kB)\n",
      "Collecting stone>=2.*\n",
      "  Downloading stone-3.2.1-py3-none-any.whl (160 kB)\n",
      "Requirement already satisfied: requests>=2.16.2 in c:\\users\\31653\\anaconda3\\lib\\site-packages (from dropbox) (2.24.0)\n",
      "Requirement already satisfied: six>=1.12.0 in c:\\users\\31653\\anaconda3\\lib\\site-packages (from dropbox) (1.12.0)\n",
      "Requirement already satisfied: ply>=3.4 in c:\\users\\31653\\anaconda3\\lib\\site-packages (from stone>=2.*->dropbox) (3.11)\n",
      "Requirement already satisfied: idna<3,>=2.5 in c:\\users\\31653\\anaconda3\\lib\\site-packages (from requests>=2.16.2->dropbox) (2.10)\n",
      "Requirement already satisfied: chardet<4,>=3.0.2 in c:\\users\\31653\\anaconda3\\lib\\site-packages (from requests>=2.16.2->dropbox) (3.0.4)\n",
      "Requirement already satisfied: certifi>=2017.4.17 in c:\\users\\31653\\anaconda3\\lib\\site-packages (from requests>=2.16.2->dropbox) (2020.6.20)\n",
      "Requirement already satisfied: urllib3!=1.25.0,!=1.25.1,<1.26,>=1.21.1 in c:\\users\\31653\\anaconda3\\lib\\site-packages (from requests>=2.16.2->dropbox) (1.25.11)\n",
      "Installing collected packages: stone, dropbox\n",
      "Successfully installed dropbox-11.2.0 stone-3.2.1\n",
      "Note: you may need to restart the kernel to use updated packages.\n"
     ]
    }
   ],
   "source": [
    "%pip install dropbox"
   ]
  },
  {
   "cell_type": "code",
   "execution_count": null,
   "metadata": {},
   "outputs": [],
   "source": [
    "#!/usr/bin/env python3\n",
    "\n",
    "import dropbox\n",
    "from dropbox import DropboxOAuth2FlowNoRedirect\n",
    "\n",
    "'''\n",
    "Populate your app key in order to run this locally\n",
    "'''\n",
    "APP_KEY = \n",
    "\n",
    "auth_flow = DropboxOAuth2FlowNoRedirect(APP_KEY, use_pkce=True, token_access_type='offline')\n",
    "\n",
    "authorize_url = auth_flow.start()\n",
    "print(\"1. Go to: \" + authorize_url)\n",
    "print(\"2. Click \\\"Allow\\\" (you might have to log in first).\")\n",
    "print(\"3. Copy the authorization code.\")\n",
    "auth_code = input(\"Enter the authorization code here: \").strip()\n",
    "\n",
    "try:\n",
    "    oauth_result = auth_flow.finish(auth_code)\n",
    "except Exception as e:\n",
    "    print('Error: %s' % (e,))\n",
    "    exit(1)\n",
    "\n",
    "with dropbox.Dropbox(oauth2_refresh_token=oauth_result.refresh_token, app_key=APP_KEY) as dbx:\n",
    "    dbx.users_get_current_account()\n",
    "    print(\"Successfully set up client!\")"
   ]
  },
  {
   "cell_type": "code",
   "execution_count": null,
   "metadata": {},
   "outputs": [],
   "source": []
  }
 ],
 "metadata": {
  "kernelspec": {
   "display_name": "Python 3 (ipykernel)",
   "language": "python",
   "name": "python3"
  },
  "language_info": {
   "codemirror_mode": {
    "name": "ipython",
    "version": 3
   },
   "file_extension": ".py",
   "mimetype": "text/x-python",
   "name": "python",
   "nbconvert_exporter": "python",
   "pygments_lexer": "ipython3",
   "version": "3.8.5"
  }
 },
 "nbformat": 4,
 "nbformat_minor": 2
}
