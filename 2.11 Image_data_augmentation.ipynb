{
 "cells": [
  {
   "cell_type": "markdown",
   "metadata": {
    "id": "32-zMt7tZr3R"
   },
   "source": [
    "# Solution: Image Data Augmentation\n",
    "\n",
    "[![Open In Colab <](https://colab.research.google.com/assets/colab-badge.svg)](https://colab.research.google.com/github/ShawnHymel/computer-vision-with-embedded-machine-learning/blob/master/2.3.5%20-%20Project%20-%20Data%20Augmentation/solution_image_data_augmentation.ipynb)\n",
    "\n",
    "This is an example for creating an augmented dataset. It will transform input images to create a series of augmented samples that are saved in a new output directory.\n",
    "\n",
    "Create a folder named \"dataset\" in the /content directory and upload your images there. The images should be divided into their respective classes, where each class has its own folder with the name of the class. For example:\n",
    "\n",
    "<pre>\n",
    "/content\n",
    "    |- dataset\n",
    "        |- background\n",
    "        |- capacitor\n",
    "        |- diode\n",
    "        |- led\n",
    "        |- resistor\n",
    "</pre>\n",
    "\n",
    "The original images along with their transforms will be saved in the output directory. Each output file will be the original filename appended with \"_{num}\" where {num} is some incrementing value based on the total number of transforms performed per image.\n",
    "\n",
    "For example, if you have a file named \"0.png\" in /content/dataset/resistor, it will become \"0_0.png\" in /content/output/resistor. The first transform will be \"0_1.png\", the second transform will be \"0_2.png\" and so on.\n",
    "\n",
    "Run each of the cells paying attention to their contents and output. Fill out the necessary parts of the functions where you find the following comment:\n",
    "\n",
    "```\n",
    "# >>> ENTER YOUR CODE HERE <<<\n",
    "```\n",
    "\n",
    "Author: EdgeImpulse, Inc.<br>\n",
    "Date: August 3, 2021<br>\n",
    "License: [Apache-2.0](apache.org/licenses/LICENSE-2.0)<br>"
   ]
  },
  {
   "cell_type": "code",
   "execution_count": 16,
   "metadata": {
    "id": "9RTimcB-ZoIT"
   },
   "outputs": [],
   "source": [
    "import numpy as np\n",
    "import matplotlib.pyplot as plt\n",
    "import random\n",
    "import os\n",
    "import PIL\n",
    "\n",
    "import skimage.transform\n",
    "import skimage.util"
   ]
  },
  {
   "cell_type": "code",
   "execution_count": 30,
   "metadata": {},
   "outputs": [
    {
     "name": "stdout",
     "output_type": "stream",
     "text": [
      "C:\\Users\\31653\\Desktop\\Prive\\insecten\\bees\n"
     ]
    }
   ],
   "source": [
    "cd bees"
   ]
  },
  {
   "cell_type": "code",
   "execution_count": 31,
   "metadata": {},
   "outputs": [
    {
     "data": {
      "text/plain": [
       "['1092977343_cb42b38d62.jpg',\n",
       " '1093831624_fb5fbe2308.jpg',\n",
       " '1097045929_1753d1c765.jpg',\n",
       " '1232245714_f862fbe385.jpg',\n",
       " '129236073_0985e91c7d.jpg',\n",
       " '1295655112_7813f37d21.jpg',\n",
       " '132511197_0b86ad0fff.jpg',\n",
       " '132826773_dbbcb117b9.jpg',\n",
       " '150013791_969d9a968b.jpg',\n",
       " '1508176360_2972117c9d.jpg',\n",
       " '154600396_53e1252e52.jpg',\n",
       " '16838648_415acd9e3f.jpg',\n",
       " '1691282715_0addfdf5e8.jpg',\n",
       " '17209602_fe5a5a746f.jpg',\n",
       " '174142798_e5ad6d76e0.jpg',\n",
       " '1799726602_8580867f71.jpg',\n",
       " '1807583459_4fe92b3133.jpg',\n",
       " '196430254_46bd129ae7.jpg',\n",
       " '196658222_3fffd79c67.jpg',\n",
       " '198508668_97d818b6c4.jpg',\n",
       " '2031225713_50ed499635.jpg',\n",
       " '2037437624_2d7bce461f.jpg',\n",
       " '2053200300_8911ef438a.jpg',\n",
       " '205835650_e6f2614bee.jpg',\n",
       " '208702903_42fb4d9748.jpg',\n",
       " '21399619_3e61e5bb6f.jpg',\n",
       " '2227611847_ec72d40403.jpg',\n",
       " '2321139806_d73d899e66.jpg',\n",
       " '2330918208_8074770c20.jpg',\n",
       " '2345177635_caf07159b3.jpg',\n",
       " '2358061370_9daabbd9ac.jpg',\n",
       " '2364597044_3c3e3fc391.jpg',\n",
       " '2384149906_2cd8b0b699.jpg',\n",
       " '2397446847_04ef3cd3e1.jpg',\n",
       " '2405441001_b06c36fa72.jpg',\n",
       " '2445215254_51698ff797.jpg',\n",
       " '2452236943_255bfd9e58.jpg',\n",
       " '2467959963_a7831e9ff0.jpg',\n",
       " '2470492904_837e97800d.jpg',\n",
       " '2477324698_3d4b1b1cab.jpg',\n",
       " '2477349551_e75c97cf4d.jpg',\n",
       " '2486729079_62df0920be.jpg',\n",
       " '2486746709_c43cec0e42.jpg',\n",
       " '2493379287_4100e1dacc.jpg',\n",
       " '2495722465_879acf9d85.jpg',\n",
       " '2528444139_fa728b0f5b.jpg',\n",
       " '2538361678_9da84b77e3.jpg',\n",
       " '2551813042_8a070aeb2b.jpg',\n",
       " '2580598377_a4caecdb54.jpg',\n",
       " '2601176055_8464e6aa71.jpg',\n",
       " '2610833167_79bf0bcae5.jpg',\n",
       " '2610838525_fe8e3cae47.jpg',\n",
       " '2617161745_fa3ebe85b4.jpg',\n",
       " '2625499656_e3415e374d.jpg',\n",
       " '2634617358_f32fd16bea.jpg',\n",
       " '2638074627_6b3ae746a0.jpg',\n",
       " '2645107662_b73a8595cc.jpg',\n",
       " '2651621464_a2fa8722eb.jpg',\n",
       " '2652877533_a564830cbf.jpg',\n",
       " '266644509_d30bb16a1b.jpg',\n",
       " '2683605182_9d2a0c66cf.jpg',\n",
       " '2704348794_eb5d5178c2.jpg',\n",
       " '2707440199_cd170bd512.jpg',\n",
       " '2710368626_cb42882dc8.jpg',\n",
       " '2722592222_258d473e17.jpg',\n",
       " '2728759455_ce9bb8cd7a.jpg',\n",
       " '2756397428_1d82a08807.jpg',\n",
       " '2765347790_da6cf6cb40.jpg',\n",
       " '2781170484_5d61835d63.jpg',\n",
       " '279113587_b4843db199.jpg',\n",
       " '2792000093_e8ae0718cf.jpg',\n",
       " '2801728106_833798c909.jpg',\n",
       " '2822388965_f6dca2a275.jpg',\n",
       " '2861002136_52c7c6f708.jpg',\n",
       " '2908916142_a7ac8b57a8.jpg',\n",
       " '29494643_e3410f0d37.jpg',\n",
       " '2959730355_416a18c63c.jpg',\n",
       " '2962405283_22718d9617.jpg',\n",
       " '3006264892_30e9cced70.jpg',\n",
       " '3030189811_01d095b793.jpg',\n",
       " '3030772428_8578335616.jpg',\n",
       " '3044402684_3853071a87.jpg',\n",
       " '3074585407_9854eb3153.jpg',\n",
       " '3079610310_ac2d0ae7bc.jpg',\n",
       " '3090975720_71f12e6de4.jpg',\n",
       " '3100226504_c0d4f1e3f1.jpg',\n",
       " '342758693_c56b89b6b6.jpg',\n",
       " '354167719_22dca13752.jpg',\n",
       " '359928878_b3b418c728.jpg',\n",
       " '365759866_b15700c59b.jpg',\n",
       " '36900412_92b81831ad.jpg',\n",
       " '39672681_1302d204d1.jpg',\n",
       " '39747887_42df2855ee.jpg',\n",
       " '421515404_e87569fd8b.jpg',\n",
       " '444532809_9e931e2279.jpg',\n",
       " '446296270_d9e8b93ecf.jpg',\n",
       " '452462677_7be43af8ff.jpg',\n",
       " '452462695_40a4e5b559.jpg',\n",
       " '457457145_5f86eb7e9c.jpg',\n",
       " '465133211_80e0c27f60.jpg',\n",
       " '469333327_358ba8fe8a.jpg',\n",
       " '472288710_2abee16fa0.jpg',\n",
       " '473618094_8ffdcab215.jpg',\n",
       " '476347960_52edd72b06.jpg',\n",
       " '478701318_bbd5e557b8.jpg',\n",
       " '507288830_f46e8d4cb2.jpg',\n",
       " '509247772_2db2d01374.jpg',\n",
       " '513545352_fd3e7c7c5d.jpg',\n",
       " '522104315_5d3cb2758e.jpg',\n",
       " '537309131_532bfa59ea.jpg',\n",
       " '586041248_3032e277a9.jpg',\n",
       " '760526046_547e8b381f.jpg',\n",
       " '760568592_45a52c847f.jpg',\n",
       " '774440991_63a4aa0cbe.jpg',\n",
       " '85112639_6e860b0469.jpg',\n",
       " '873076652_eb098dab2d.jpg',\n",
       " '90179376_abc234e5f4.jpg',\n",
       " '92663402_37f379e57a.jpg',\n",
       " '95238259_98470c5b10.jpg',\n",
       " '969455125_58c797ef17.jpg',\n",
       " '98391118_bdb1e80cce.jpg']"
      ]
     },
     "execution_count": 31,
     "metadata": {},
     "output_type": "execute_result"
    }
   ],
   "source": [
    "import glob\n",
    "bees = glob.glob('*.jpg')\n",
    "bees"
   ]
  },
  {
   "cell_type": "code",
   "execution_count": 27,
   "metadata": {},
   "outputs": [
    {
     "data": {
      "text/plain": [
       "[]"
      ]
     },
     "execution_count": 27,
     "metadata": {},
     "output_type": "execute_result"
    }
   ],
   "source": [
    "import glob\n",
    "my_list = glob.glob('Users/31653/Desktop/Prive/insecten/bees/*.jpg')\n",
    "my_list"
   ]
  },
  {
   "cell_type": "code",
   "execution_count": 34,
   "metadata": {
    "id": "8zJCNZmEaCCN"
   },
   "outputs": [],
   "source": [
    "### Settings\n",
    "\n",
    "# Location of dataset and output folder\n",
    "DATASET_PATH = \"insecten\"\n",
    "OUT_PATH = \"/bees\"\n",
    "OUT_ZIP = \"augmented_dataset.zip\"\n",
    "\n",
    "# File format to use for new dataset\n",
    "IMG_EXT = \".png\"\n",
    "\n",
    "# You are welcome to change the seed to get different augmentation effects\n",
    "SEED = 42\n",
    "random.seed(SEED)"
   ]
  },
  {
   "cell_type": "code",
   "execution_count": 36,
   "metadata": {
    "id": "siLr8t4-qR9K"
   },
   "outputs": [
    {
     "name": "stdout",
     "output_type": "stream",
     "text": [
      "WARNING: Output directory already exists. Check to make sure it is empty.\n"
     ]
    }
   ],
   "source": [
    "### Create output directory\n",
    "try:\n",
    "  os.makedirs(OUT_PATH)\n",
    "  print('done')\n",
    "except FileExistsError:\n",
    "  print(\"WARNING: Output directory already exists. Check to make sure it is empty.\")"
   ]
  },
  {
   "cell_type": "markdown",
   "metadata": {
    "id": "KAZYWLFeB9vR"
   },
   "source": [
    "## Transform Functions\n",
    "\n",
    "Create one or more functions that transform an input image."
   ]
  },
  {
   "cell_type": "code",
   "execution_count": 39,
   "metadata": {
    "id": "kxh8f4JXgnTa"
   },
   "outputs": [],
   "source": [
    "### Example: Function to create 3 new flipped images of the input\n",
    "def create_flipped(img):\n",
    "\n",
    "  # Create a list of flipped images\n",
    "  flipped = []\n",
    "  flipped.append(np.fliplr(img))\n",
    "  flipped.append(np.flipud(img))\n",
    "  flipped.append(np.flipud(np.fliplr(img)))\n",
    "\n",
    "  return flipped"
   ]
  },
  {
   "cell_type": "code",
   "execution_count": 53,
   "metadata": {
    "id": "YAIqA5xdtt_6",
    "scrolled": true
   },
   "outputs": [],
   "source": [
    "from PIL import Image #import PIL.Image \n",
    "img = Image.open('1092977343_cb42b38d62.jpg')\n",
    "\n",
    "img_ar = np.asarray(img)\n",
    "flipped = np.fliplr(img_ar)\n",
    "flip_im= Image.fromarray(flipped)\n",
    "data.save('flipped.png')\n",
    "data.show()"
   ]
  },
  {
   "cell_type": "code",
   "execution_count": null,
   "metadata": {
    "id": "96_3m50XhDww"
   },
   "outputs": [],
   "source": [
    "### Function to create new rotated images of the input\n",
    "def create_rotated(img, rotations):\n",
    "\n",
    "  # Create list of rotated images (keep 8-bit values)\n",
    "  rotated = []\n",
    "  for rot in rotations:\n",
    "    img_rot = skimage.transform.rotate(img, angle=rot, mode='edge', preserve_range=True)\n",
    "    img_rot = img_rot.astype(np.uint8)\n",
    "    rotated.append(img_rot)\n",
    "\n",
    "  return rotated"
   ]
  },
  {
   "cell_type": "code",
   "execution_count": null,
   "metadata": {
    "id": "GNmLBQtmg9rT"
   },
   "outputs": [],
   "source": [
    "### Function to create random scale/crop (zoom) images\n",
    "def create_random_zooms(img, scale_factor, num_crops):\n",
    "\n",
    "  # Get height and width of original image\n",
    "  height = img.shape[0]\n",
    "  width = img.shape[1]\n",
    "\n",
    "  # Create scaled images (e.g. make the image bigger) and keep 8-bit values\n",
    "  img_scaled = skimage.transform.rescale(img, \n",
    "                                        scale=scale_factor, \n",
    "                                        anti_aliasing=True, \n",
    "                                        multichannel=True,\n",
    "                                        preserve_range=True)\n",
    "  img_scaled = img_scaled.astype(np.uint8)\n",
    "\n",
    "  # Get height and width of scaled image\n",
    "  s_h = img_scaled.shape[0]\n",
    "  s_w = img_scaled.shape[1]\n",
    "\n",
    "  # Create list of random zooms\n",
    "  zooms = []\n",
    "  for i in range(num_crops):\n",
    "    \n",
    "    # Randomly choose start of crop point\n",
    "    crop_y = round(random.random() * (s_h - height))\n",
    "    crop_x = round(random.random() * (s_w - width))\n",
    "\n",
    "    # Crop scaled image\n",
    "    zoom = img_scaled[crop_y:(crop_y + height), crop_x:(crop_x + width), :]\n",
    "\n",
    "    # Append zoomed image to list\n",
    "    zooms.append(zoom)\n",
    "\n",
    "  return zooms"
   ]
  },
  {
   "cell_type": "code",
   "execution_count": null,
   "metadata": {
    "id": "b55wy1q69-xY"
   },
   "outputs": [],
   "source": [
    "### Function to create a random set of translated images (no more than 1/4 of width or height away)\n",
    "def create_random_translations(img, num_translations):\n",
    "\n",
    "  # Get height and width of original image\n",
    "  height = img.shape[0]\n",
    "  width = img.shape[1]\n",
    "\n",
    "  # Create list of random translations\n",
    "  translations = []\n",
    "  for i in range(num_translations):\n",
    "  \n",
    "    # Choose random amount to translate (up to 1/4 image width, height) in either direction\n",
    "    tr_y = round((0.5 - random.random()) * (height / 2))\n",
    "    tr_x = round((0.5 - random.random()) * (width / 2))\n",
    "\n",
    "    # Perform translation to create new image\n",
    "    translation = skimage.transform.AffineTransform(translation=(tr_y, tr_x))\n",
    "    img_tr = skimage.transform.warp(img, translation, mode='edge', preserve_range=True)\n",
    "    img_tr = img_tr.astype(np.uint8)\n",
    "\n",
    "    # Append translated image to list\n",
    "    translations.append(img_tr)\n",
    "\n",
    "  return translations"
   ]
  },
  {
   "cell_type": "code",
   "execution_count": null,
   "metadata": {
    "id": "Ad0IR6Pc_n9b"
   },
   "outputs": [],
   "source": [
    "### Function to add random noise to images\n",
    "def create_noisy(img, types, seed=None):\n",
    "\n",
    "  # Add noise of different types\n",
    "  noisy_imgs = []\n",
    "  for t in types:\n",
    "    noise = skimage.util.random_noise(img, mode=t, seed=seed)\n",
    "    noise = (noise * 255).astype(np.uint8)\n",
    "    noisy_imgs.append(noise)\n",
    "\n",
    "  return noisy_imgs"
   ]
  },
  {
   "cell_type": "markdown",
   "metadata": {
    "id": "vaJR7hAOCEID"
   },
   "source": [
    "## Perform Transforms\n",
    "\n",
    "Call your functions to create a set of augmented data."
   ]
  },
  {
   "cell_type": "code",
   "execution_count": null,
   "metadata": {
    "id": "J9ryKQeQaOKE"
   },
   "outputs": [],
   "source": [
    "### Function to open image and create a list of new transforms\n",
    "# NOTE: You will need to call your functions here!\n",
    "def create_transforms(file_path):\n",
    "\n",
    "  # Open the image\n",
    "  img = PIL.Image.open(file_path)\n",
    "\n",
    "  # Convert the image to a Numpy array (keep all color channels)\n",
    "  img_array = np.asarray(img)\n",
    "\n",
    "  # Add original image to front of list\n",
    "  img_tfs = []\n",
    "  img_tfs.append([img_array])\n",
    "\n",
    "  # Perform transforms (call your functions)\n",
    "  img_tfs.append(create_flipped(img_array))\n",
    "  # >>> ENTER YOUR CODE HERE <<<\n",
    "  # e.g. img_tfs.append(create_translations(img_array, 2))\n",
    "  img_tfs.append(create_flipped(img_array))\n",
    "  img_tfs.append(create_rotated(img_array, [45, 90, 135]))\n",
    "  img_tfs.append(create_random_zooms(img_array, 1.3, 2))\n",
    "  img_tfs.append(create_random_translations(img_array, 2))\n",
    "  img_tfs.append(create_noisy(img_array, ['gaussian', 's&p'], SEED))\n",
    "\n",
    "  # Flatten list of lists (to create one long list of images)\n",
    "  img_tfs = [img for img_list in img_tfs for img in img_list]\n",
    "\n",
    "  return img_tfs"
   ]
  },
  {
   "cell_type": "code",
   "execution_count": null,
   "metadata": {
    "id": "y3ZEsAGUAvUS"
   },
   "outputs": [],
   "source": [
    "### Load all images, create transforms, and save in output directory\n",
    "\n",
    "# Find the directories in the dataset folder (skip the Jupyter Notebook checkpoints hidden folder)\n",
    "for label in os.listdir(DATASET_PATH):\n",
    "  class_dir = os.path.join(DATASET_PATH, label)\n",
    "  if os.path.isdir(class_dir) and label != \".ipynb_checkpoints\":\n",
    "\n",
    "    # Create output directory\n",
    "    out_path = os.path.join(OUT_PATH, label)\n",
    "    os.makedirs(out_path, exist_ok=True)\n",
    "\n",
    "    # Go through each image in the subfolder\n",
    "    for i, filename in enumerate(os.listdir(class_dir)):\n",
    "\n",
    "      # Skip the Jupyter Notebook checkpoints folder that sometimes gets added\n",
    "      if filename != \".ipynb_checkpoints\":\n",
    "\n",
    "        # Get the root of the filename before the extension\n",
    "        file_root = os.path.splitext(filename)[0]\n",
    "\n",
    "        # Do all transforms for that one image\n",
    "        file_path = os.path.join(DATASET_PATH, label, filename)\n",
    "        img_tfs = create_transforms(file_path)\n",
    "\n",
    "        # Save images to new files in output directory\n",
    "        for i, img in enumerate(img_tfs):\n",
    "\n",
    "          # Create a Pillow image from the Numpy array\n",
    "          img_pil = PIL.Image.fromarray(img)\n",
    "\n",
    "          # Construct filename (<orignal>_<transform_num>.<EXT>)\n",
    "          out_file_path = os.path.join(out_path, file_root + \"_\" + str(i) + IMG_EXT)\n",
    "\n",
    "          # Convert Numpy array to image and save as a file\n",
    "          img_pil = PIL.Image.fromarray(img)\n",
    "          img_pil.save(out_file_path)"
   ]
  },
  {
   "cell_type": "code",
   "execution_count": null,
   "metadata": {
    "id": "wWwxvzKxDJ18"
   },
   "outputs": [],
   "source": [
    "### Zip our new dataset (use '!' to call Linux commands)\n",
    "!zip -r -q \"{OUT_ZIP}\" \"{OUT_PATH}\""
   ]
  }
 ],
 "metadata": {
  "colab": {
   "collapsed_sections": [],
   "name": "solution_image_data_augmentation.ipynb",
   "provenance": []
  },
  "kernelspec": {
   "display_name": "Python 3",
   "language": "python",
   "name": "python3"
  },
  "language_info": {
   "codemirror_mode": {
    "name": "ipython",
    "version": 3
   },
   "file_extension": ".py",
   "mimetype": "text/x-python",
   "name": "python",
   "nbconvert_exporter": "python",
   "pygments_lexer": "ipython3",
   "version": "3.8.5"
  }
 },
 "nbformat": 4,
 "nbformat_minor": 1
}
