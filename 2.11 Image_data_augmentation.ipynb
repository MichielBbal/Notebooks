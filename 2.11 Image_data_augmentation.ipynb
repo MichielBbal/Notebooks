{
 "cells": [
  {
   "cell_type": "markdown",
   "metadata": {
    "id": "32-zMt7tZr3R"
   },
   "source": [
    "# Image Data Augmentation\n",
    "\n",
    "Take a set of images and do data augmentation to create a bigger, more diverse batch of images used for training ML models.\n",
    "\n",
    "Steps:\n",
    "\n",
    "0. Outside of this notebook, create a folder with +/- 10 images\n",
    "1. Go to right directory\n",
    "2. Convert these images to .png in a 320x320 format (for use in Edge Impulse\n",
    "3. Flip and rotate\n",
    "4. Check data"
   ]
  },
  {
   "cell_type": "markdown",
   "metadata": {},
   "source": [
    "## 1. Go to right directory\n",
    "Make sure you have created a folder with +/- 10 images"
   ]
  },
  {
   "cell_type": "code",
   "execution_count": 35,
   "metadata": {},
   "outputs": [
    {
     "name": "stdout",
     "output_type": "stream",
     "text": [
      "C:\\Users\\31653\\Desktop\\Prive\\traffic_signs\\turn_rights\n"
     ]
    }
   ],
   "source": [
    "cd \\Users\\31653\\Desktop\\Prive\\traffic_signs\\turn_rights"
   ]
  },
  {
   "cell_type": "code",
   "execution_count": 36,
   "metadata": {},
   "outputs": [
    {
     "name": "stdout",
     "output_type": "stream",
     "text": [
      " Volume in drive C is OS\n",
      " Volume Serial Number is 2818-58FB\n",
      "\n",
      " Directory of C:\\Users\\31653\\Desktop\\Prive\\traffic_signs\\turn_rights\n",
      "\n",
      "03/10/2021  11:02    <DIR>          .\n",
      "02/10/2021  17:49    <DIR>          ..\n",
      "03/10/2021  11:00             4.491 turn_right.svg\n",
      "03/10/2021  11:02            27.079 turn_right10.png\n",
      "03/10/2021  11:00            34.938 turn_right2.png\n",
      "03/10/2021  11:01            27.079 turn_right3.png\n",
      "03/10/2021  11:01            12.498 turn_right4..jpg\n",
      "03/10/2021  11:01             2.682 turn_right5.png\n",
      "03/10/2021  11:01            15.517 turn_right6.png\n",
      "03/10/2021  11:01            97.593 turn_right7.png\n",
      "03/10/2021  11:02            57.091 turn_right8.png\n",
      "03/10/2021  11:02             4.132 turn_right9.png\n",
      "              10 File(s)        283.100 bytes\n",
      "               2 Dir(s)  200.683.667.456 bytes free\n"
     ]
    }
   ],
   "source": [
    "!dir"
   ]
  },
  {
   "cell_type": "code",
   "execution_count": 37,
   "metadata": {},
   "outputs": [
    {
     "data": {
      "text/plain": [
       "1"
      ]
     },
     "execution_count": 37,
     "metadata": {},
     "output_type": "execute_result"
    }
   ],
   "source": [
    "import glob\n",
    "jpgs = glob.glob('*.jpg')\n",
    "len(jpgs)"
   ]
  },
  {
   "cell_type": "code",
   "execution_count": 38,
   "metadata": {
    "id": "siLr8t4-qR9K"
   },
   "outputs": [
    {
     "name": "stdout",
     "output_type": "stream",
     "text": [
      "done\n"
     ]
    }
   ],
   "source": [
    "### Create output directory\n",
    "try:\n",
    "  os.makedirs('png')\n",
    "  print('done')\n",
    "except FileExistsError:\n",
    "  print(\"WARNING: Output directory already exists. Check to make sure it is empty.\")"
   ]
  },
  {
   "cell_type": "code",
   "execution_count": null,
   "metadata": {
    "scrolled": false
   },
   "outputs": [],
   "source": []
  },
  {
   "cell_type": "markdown",
   "metadata": {},
   "source": [
    "## 2. Convert to png in 320 x 320"
   ]
  },
  {
   "cell_type": "code",
   "execution_count": 39,
   "metadata": {},
   "outputs": [
    {
     "name": "stdout",
     "output_type": "stream",
     "text": [
      "done\n"
     ]
    }
   ],
   "source": [
    "# open a list of .jpg's and save as 320x320 png\n",
    "from PIL import Image\n",
    "import glob, os\n",
    "\n",
    "size = 320, 320\n",
    "\n",
    "for infile in glob.glob(\"*.jpg\"):\n",
    "    file, ext = os.path.splitext(infile)\n",
    "    #folder = os.paht.mkdir('png')\n",
    "    with Image.open(infile) as im:\n",
    "        im.thumbnail(size)\n",
    "        im.save('png/' + file +  \".png\")\n",
    "print('done')"
   ]
  },
  {
   "cell_type": "code",
   "execution_count": 32,
   "metadata": {
    "id": "kxh8f4JXgnTa"
   },
   "outputs": [
    {
     "name": "stdout",
     "output_type": "stream",
     "text": [
      "C:\\Users\\31653\\Desktop\\Prive\\traffic_signs\\turn_lefts\\png\n"
     ]
    }
   ],
   "source": [
    "cd png"
   ]
  },
  {
   "cell_type": "code",
   "execution_count": 33,
   "metadata": {},
   "outputs": [
    {
     "name": "stdout",
     "output_type": "stream",
     "text": [
      " Volume in drive C is OS\n",
      " Volume Serial Number is 2818-58FB\n",
      "\n",
      " Directory of C:\\Users\\31653\\Desktop\\Prive\\traffic_signs\\turn_lefts\\png\n",
      "\n",
      "12/12/2021  15:15    <DIR>          .\n",
      "12/12/2021  15:15    <DIR>          ..\n",
      "12/12/2021  15:15            45.210 turn_left2.png\n",
      "12/12/2021  15:15            35.404 turn_left4.png\n",
      "12/12/2021  15:15            64.735 turn_left7.png\n",
      "12/12/2021  15:15            64.735 turn_left8.png\n",
      "               4 File(s)        210.084 bytes\n",
      "               2 Dir(s)  200.693.477.376 bytes free\n"
     ]
    }
   ],
   "source": [
    "ls"
   ]
  },
  {
   "cell_type": "markdown",
   "metadata": {
    "id": "KAZYWLFeB9vR"
   },
   "source": [
    "## 3. Flip and rotate\n",
    "\n",
    "Flip the original images:\n",
    "- flip left right\n",
    "- flip up down\n",
    "- flip up down-left right\n",
    "\n",
    "Rotate all flipped images:\n",
    "- rotate 45 degrees\n",
    "- rotate 90 degrees\n",
    "- rotate 135 degrees\n",
    "\n",
    "If you start with 10 original images, after flipping you will have 40, after rotating you will have 160 (40 not rotated+120 rotated images)."
   ]
  },
  {
   "cell_type": "code",
   "execution_count": 24,
   "metadata": {
    "id": "YAIqA5xdtt_6",
    "scrolled": true
   },
   "outputs": [
    {
     "name": "stdout",
     "output_type": "stream",
     "text": [
      "done\n"
     ]
    }
   ],
   "source": [
    "# create all flipped images and save to png format\n",
    "from PIL import Image\n",
    "import numpy as np\n",
    "import glob, os\n",
    "\n",
    "for infile in glob.glob('*.png'):\n",
    "    file, ext = os.path.splitext(infile)\n",
    "    with Image.open(infile) as im:\n",
    "        img_ar = np.asarray(im)\n",
    "        flipped_lr = np.fliplr(img_ar)\n",
    "        flipped_ud = np.flipud(img_ar)\n",
    "        flipped_lr_ud= np.flipud(np.fliplr(img_ar))\n",
    "        flip_im_lr= Image.fromarray(flipped_lr)\n",
    "        flip_im_ud= Image.fromarray(flipped_ud)\n",
    "        flip_im_lr_ud = Image.fromarray(flipped_lr_ud)\n",
    "        flip_im_lr.save(file+'_flipped_lr'+'.png')\n",
    "        flip_im_ud.save(file+'_flipped_ud'+'.png')\n",
    "        flip_im_lr_ud.save(file+'flipped_lr_ud'+'.png')\n",
    "print('done')"
   ]
  },
  {
   "cell_type": "code",
   "execution_count": 25,
   "metadata": {},
   "outputs": [
    {
     "name": "stdout",
     "output_type": "stream",
     "text": [
      "done\n"
     ]
    }
   ],
   "source": [
    "from PIL import Image\n",
    "import numpy as np\n",
    "import skimage.transform\n",
    "import skimage.util\n",
    "\n",
    "for infile in glob.glob('*.png'):\n",
    "    file, ext = os.path.splitext(infile)\n",
    "    with Image.open(infile) as im:\n",
    "        img_ar = np.asarray(im)\n",
    "        img_rot_45 = skimage.transform.rotate(img_ar, angle=45, mode='edge', preserve_range=True)\n",
    "        img_rot_90 = skimage.transform.rotate(img_ar, angle=90, mode='edge', preserve_range=True)\n",
    "        img_rot_135 = skimage.transform.rotate(img_ar, angle=135, mode='edge', preserve_range=True)\n",
    "        img_rot_45 = img_rot_45.astype(np.uint8)\n",
    "        img_rot_90 = img_rot_90.astype(np.uint8)\n",
    "        img_rot_135 = img_rot_135.astype(np.uint8)\n",
    "        img_rotated_45 =Image.fromarray(img_rot_45)\n",
    "        img_rotated_90 =Image.fromarray(img_rot_90)\n",
    "        img_rotated_135 =Image.fromarray(img_rot_135)\n",
    "        img_rotated_45.save(file+'_rot_45'+'.png')\n",
    "        img_rotated_90.save(file+'_rot_90'+'.png')\n",
    "        #img_rotated_135.save(file+'_rot_135'+'.png')\n",
    "print('done')"
   ]
  },
  {
   "cell_type": "markdown",
   "metadata": {},
   "source": [
    "## 4. Check data"
   ]
  },
  {
   "cell_type": "code",
   "execution_count": 34,
   "metadata": {},
   "outputs": [
    {
     "name": "stdout",
     "output_type": "stream",
     "text": [
      "total number of .png images =  110\n"
     ]
    }
   ],
   "source": [
    "import glob\n",
    "pngs = glob.glob('*.png')\n",
    "print('total number of .png images = ',len(pngs)) "
   ]
  },
  {
   "cell_type": "code",
   "execution_count": null,
   "metadata": {},
   "outputs": [],
   "source": []
  }
 ],
 "metadata": {
  "colab": {
   "collapsed_sections": [],
   "name": "solution_image_data_augmentation.ipynb",
   "provenance": []
  },
  "kernelspec": {
   "display_name": "Python 3 (ipykernel)",
   "language": "python",
   "name": "python3"
  },
  "language_info": {
   "codemirror_mode": {
    "name": "ipython",
    "version": 3
   },
   "file_extension": ".py",
   "mimetype": "text/x-python",
   "name": "python",
   "nbconvert_exporter": "python",
   "pygments_lexer": "ipython3",
   "version": "3.8.5"
  }
 },
 "nbformat": 4,
 "nbformat_minor": 1
}
