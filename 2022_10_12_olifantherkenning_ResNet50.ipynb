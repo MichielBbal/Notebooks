{
 "cells": [
  {
   "cell_type": "markdown",
   "metadata": {
    "id": "YWx0sBWcsZ7V"
   },
   "source": [
    "# Herkenning van olifanten met CNNs\n",
    "\n",
    "Stijn Oomes\n",
    "\n",
    "woensdag 12 oktober 2022\n"
   ]
  },
  {
   "cell_type": "markdown",
   "metadata": {
    "id": "A3w8BVCdL6Od"
   },
   "source": [
    "## Importeer libraries"
   ]
  },
  {
   "cell_type": "code",
   "execution_count": null,
   "metadata": {
    "id": "NyE98lqHssFF"
   },
   "outputs": [],
   "source": [
    "import numpy as np\n",
    "\n",
    "%matplotlib inline\n",
    "import matplotlib.pyplot as plt\n",
    "from matplotlib.image import imread\n",
    "\n",
    "import tensorflow as tf\n",
    "from tensorflow import keras"
   ]
  },
  {
   "cell_type": "markdown",
   "metadata": {
    "id": "0u3MCc2KL-KF"
   },
   "source": [
    "## Laad en toon afbeeldingen van olifanten"
   ]
  },
  {
   "cell_type": "code",
   "execution_count": null,
   "metadata": {
    "id": "esCbRPLxsYq1",
    "scrolled": false
   },
   "outputs": [],
   "source": [
    "olifant1 = imread(\"olifant_foto1.jpg\") \n",
    "olifant2 = imread(\"olifant_foto2.jpg\") \n",
    "olifant3 = imread(\"olifant_foto3.jpg\") \n",
    "olifant4 = imread(\"olifant_speelgoed1.jpg\") \n",
    "olifant5 = imread(\"olifant_tekening1.jpg\") \n",
    "olifant6 = imread(\"olifant_tekening2.jpg\") \n",
    "olifant7 = imread(\"olifant_tekening3.jpg\") \n",
    "olifant8 = imread(\"olifant_tekening4.jpg\") \n",
    "olifant9 = imread(\"olifant_foto4.jpg\") \n",
    "olifant10 = imread(\"kat_foto1.jpg\")\n",
    "\n",
    "\n",
    "\n",
    "images = np.array([olifant1, olifant2, olifant3, olifant4, olifant5, olifant6, olifant7, olifant8, olifant9, olifant10])\n",
    "\n",
    "batch_size, height, width, channels = images.shape\n",
    "print(images.shape)\n",
    "\n",
    "for i in range(len(images)):\n",
    "    plt.imshow(images[i, :, :, :])\n",
    "    plt.axis(\"off\") \n",
    "    plt.show()\n"
   ]
  },
  {
   "cell_type": "markdown",
   "metadata": {
    "id": "UrOY1_o9MBqo"
   },
   "source": [
    "## Laad voor-getraind model\n",
    "\n",
    "zie https://keras.io/api/applications/\n"
   ]
  },
  {
   "cell_type": "code",
   "execution_count": null,
   "metadata": {
    "id": "vt7UHWPKso7c"
   },
   "outputs": [],
   "source": [
    "model = keras.applications.resnet50.ResNet50(weights=\"imagenet\")"
   ]
  },
  {
   "cell_type": "markdown",
   "metadata": {
    "id": "3ExyF5FFcja7"
   },
   "source": [
    "## Bepaal classificatie van de afbeeldingen met ResNet50"
   ]
  },
  {
   "cell_type": "code",
   "execution_count": null,
   "metadata": {
    "id": "g7mXxrMzxZZI",
    "scrolled": false
   },
   "outputs": [],
   "source": [
    "inputs = keras.applications.resnet50.preprocess_input(images)\n",
    "\n",
    "Y_proba = model.predict(inputs, steps=1)\n",
    "\n",
    "top_K = keras.applications.resnet50.decode_predictions(Y_proba, top=5)\n",
    "\n",
    "for image_index in range(len(images)):\n",
    "    plt.imshow(images[image_index, :, :, :])\n",
    "    plt.axis(\"off\") \n",
    "    plt.show()\n",
    "    \n",
    "    print(\"Image #{}\".format(image_index))\n",
    "    for class_id, name, y_proba in top_K[image_index]:\n",
    "        print(\"  {} - {:12s} {:.2f}%\".format(class_id, name, y_proba * 100))\n",
    "        print()"
   ]
  },
  {
   "cell_type": "code",
   "execution_count": null,
   "metadata": {
    "id": "09NOcmYsPCCI"
   },
   "outputs": [],
   "source": []
  }
 ],
 "metadata": {
  "colab": {
   "collapsed_sections": [],
   "name": "2021_03_17_olifantherkenning_ResNet50.ipynb",
   "provenance": []
  },
  "kernelspec": {
   "display_name": "Python 3 (ipykernel)",
   "language": "python",
   "name": "python3"
  },
  "language_info": {
   "codemirror_mode": {
    "name": "ipython",
    "version": 3
   },
   "file_extension": ".py",
   "mimetype": "text/x-python",
   "name": "python",
   "nbconvert_exporter": "python",
   "pygments_lexer": "ipython3",
   "version": "3.8.5"
  }
 },
 "nbformat": 4,
 "nbformat_minor": 1
}
