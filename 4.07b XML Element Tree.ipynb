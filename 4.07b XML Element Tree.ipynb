{
 "cells": [
  {
   "cell_type": "markdown",
   "id": "b11528de",
   "metadata": {},
   "source": [
    "# XML advanced with elementtree\n",
    "\n",
    "### Links\n",
    "https://www.datacamp.com/community/tutorials/python-xml-elementtree\n",
    "\n",
    "### Contents\n",
    "- 1. First example\n",
    "- 2. Write txt to xml\n",
    "- 3."
   ]
  },
  {
   "cell_type": "code",
   "execution_count": 1,
   "id": "53087fb6",
   "metadata": {},
   "outputs": [
    {
     "name": "stdout",
     "output_type": "stream",
     "text": [
      "<collection>\n",
      "    <genre category=\"Action\">\n",
      "        <decade years=\"1980s\">\n",
      "            <movie favorite=\"True\" title=\"Indiana Jones: The raiders of the lost Ark\">\n",
      "                <format multiple=\"No\">DVD</format>\n",
      "                <year>1981</year>\n",
      "                <rating>PG</rating>\n",
      "                <description>\n",
      "                'Archaeologist and adventurer Indiana Jones \n",
      "                is hired by the U.S. government to find the Ark of the \n",
      "                Covenant before the Nazis.'\n",
      "                </description>\n",
      "            </movie>\n",
      "               <movie favorite=\"True\" title=\"THE KARATE KID\">\n",
      "               <format multiple=\"Yes\">DVD,Online</format>\n",
      "               <year>1984</year>\n",
      "               <rating>PG</rating>\n",
      "               <description>None provided.</description>\n",
      "            </movie>\n",
      "            <movie favorite=\"False\" title=\"Back 2 the Future\">\n",
      "               <format multiple=\"False\">Blu-ray</format>\n",
      "               <year>1985</year>\n",
      "               <rating>PG</rating>\n",
      "               <description>Marty McFly</description>\n",
      "            </movie>\n",
      "        </decade>\n",
      "        <decade years=\"1990s\">\n",
      "            <movie favorite=\"False\" title=\"X-Men\">\n",
      "               <format multiple=\"Yes\">dvd, digital</format>\n",
      "               <year>2000</year>\n",
      "               <rating>PG-13</rating>\n",
      "               <description>Two mutants come to a private academy for their kind whose resident superhero team must \n",
      "               oppose a terrorist organization with similar powers.</description>\n",
      "            </movie>\n",
      "            <movie favorite=\"True\" title=\"Batman Returns\">\n",
      "               <format multiple=\"No\">VHS</format>\n",
      "               <year>1992</year>\n",
      "               <rating>PG13</rating>\n",
      "               <description>NA.</description>\n",
      "            </movie>\n",
      "               <movie favorite=\"False\" title=\"Reservoir Dogs\">\n",
      "               <format multiple=\"No\">Online</format>\n",
      "               <year>1992</year>\n",
      "               <rating>R</rating>\n",
      "               <description>WhAtEvER I Want!!!?!</description>\n",
      "            </movie>\n",
      "        </decade>    \n",
      "    </genre>\n",
      "    <genre category=\"Thriller\">\n",
      "        <decade years=\"1970s\">\n",
      "            <movie favorite=\"False\" title=\"ALIEN\">\n",
      "                <format multiple=\"Yes\">DVD</format>\n",
      "                <year>1979</year>\n",
      "                <rating>R</rating>\n",
      "                <description>\"\"\"\"\"\"\"\"\"</description>\n",
      "            </movie>\n",
      "        </decade>\n",
      "        <decade years=\"1980s\">\n",
      "            <movie favorite=\"True\" title=\"Ferris Bueller's Day Off\">\n",
      "                <format multiple=\"No\">DVD</format>\n",
      "                <year>1986</year>\n",
      "                <rating>PG13</rating>\n",
      "                <description>Funny movie about a funny guy</description>\n",
      "            </movie>\n",
      "            <movie favorite=\"FALSE\" title=\"American Psycho\">\n",
      "                <format multiple=\"No\">blue-ray</format>\n",
      "                <year>2000</year>\n",
      "                <rating>Unrated</rating>\n",
      "                <description>psychopathic Bateman</description>\n",
      "            </movie>\n",
      "        </decade>\n",
      "    </genre>\n",
      "</collection>\n"
     ]
    }
   ],
   "source": [
    "import xml.etree.ElementTree as ET #import the library \n",
    "tree = ET.parse('movies.xml') #parse the XML\n",
    "ET.dump(tree) #print the xml file"
   ]
  },
  {
   "cell_type": "code",
   "execution_count": 2,
   "id": "10e21686",
   "metadata": {},
   "outputs": [
    {
     "name": "stdout",
     "output_type": "stream",
     "text": [
      "collection {}\n"
     ]
    }
   ],
   "source": [
    "root = tree.getroot()\n",
    "print(root.tag, root.attrib)"
   ]
  },
  {
   "cell_type": "code",
   "execution_count": 3,
   "id": "875b357f",
   "metadata": {},
   "outputs": [
    {
     "name": "stdout",
     "output_type": "stream",
     "text": [
      "genre {'category': 'Action'}\n",
      "genre {'category': 'Thriller'}\n"
     ]
    }
   ],
   "source": [
    "for child in root:\n",
    "    print(child.tag, child.attrib)"
   ]
  },
  {
   "cell_type": "code",
   "execution_count": 4,
   "id": "b7cd6ccd",
   "metadata": {},
   "outputs": [
    {
     "name": "stdout",
     "output_type": "stream",
     "text": [
      "['collection', 'genre', 'decade', 'movie', 'format', 'year', 'rating', 'description', 'movie', 'format', 'year', 'rating', 'description', 'movie', 'format', 'year', 'rating', 'description', 'decade', 'movie', 'format', 'year', 'rating', 'description', 'movie', 'format', 'year', 'rating', 'description', 'movie', 'format', 'year', 'rating', 'description', 'genre', 'decade', 'movie', 'format', 'year', 'rating', 'description', 'decade', 'movie', 'format', 'year', 'rating', 'description', 'movie', 'format', 'year', 'rating', 'description']\n"
     ]
    }
   ],
   "source": [
    "my_list =[]\n",
    "for elem in tree.iter():\n",
    "    my_list.append(elem.tag)\n",
    "print(my_list)"
   ]
  },
  {
   "cell_type": "code",
   "execution_count": 5,
   "id": "7cc29d70",
   "metadata": {},
   "outputs": [
    {
     "name": "stdout",
     "output_type": "stream",
     "text": [
      "['collection', 'genre', 'decade', 'movie', 'format', 'year', 'rating', 'description']\n"
     ]
    }
   ],
   "source": [
    "#remove duplicates by converting it to a dict and back to a list\n",
    "#source: https://www.w3schools.com/python/python_howto_remove_duplicates.asp\n",
    "my_clean_list = list(dict.fromkeys(my_list))\n",
    "print(my_clean_list)"
   ]
  },
  {
   "cell_type": "code",
   "execution_count": 7,
   "id": "826ad93e",
   "metadata": {},
   "outputs": [
    {
     "name": "stdout",
     "output_type": "stream",
     "text": [
      "{}\n",
      "{'category': 'Action'}\n",
      "{'years': '1980s'}\n",
      "{'favorite': 'True', 'title': 'Indiana Jones: The raiders of the lost Ark'}\n",
      "{'multiple': 'No'}\n",
      "{}\n",
      "{}\n",
      "{}\n",
      "{'favorite': 'True', 'title': 'THE KARATE KID'}\n",
      "{'multiple': 'Yes'}\n",
      "{}\n",
      "{}\n",
      "{}\n",
      "{'favorite': 'False', 'title': 'Back 2 the Future'}\n",
      "{'multiple': 'False'}\n",
      "{}\n",
      "{}\n",
      "{}\n",
      "{'years': '1990s'}\n",
      "{'favorite': 'False', 'title': 'X-Men'}\n",
      "{'multiple': 'Yes'}\n",
      "{}\n",
      "{}\n",
      "{}\n",
      "{'favorite': 'True', 'title': 'Batman Returns'}\n",
      "{'multiple': 'No'}\n",
      "{}\n",
      "{}\n",
      "{}\n",
      "{'favorite': 'False', 'title': 'Reservoir Dogs'}\n",
      "{'multiple': 'No'}\n",
      "{}\n",
      "{}\n",
      "{}\n",
      "{'category': 'Thriller'}\n",
      "{'years': '1970s'}\n",
      "{'favorite': 'False', 'title': 'ALIEN'}\n",
      "{'multiple': 'Yes'}\n",
      "{}\n",
      "{}\n",
      "{}\n",
      "{'years': '1980s'}\n",
      "{'favorite': 'True', 'title': \"Ferris Bueller's Day Off\"}\n",
      "{'multiple': 'No'}\n",
      "{}\n",
      "{}\n",
      "{}\n",
      "{'favorite': 'FALSE', 'title': 'American Psycho'}\n",
      "{'multiple': 'No'}\n",
      "{}\n",
      "{}\n",
      "{}\n"
     ]
    }
   ],
   "source": [
    "for el in root.iter():\n",
    "    attrib = el.attrib\n",
    "    print(attrib)"
   ]
  },
  {
   "cell_type": "markdown",
   "id": "33b3e6d1",
   "metadata": {},
   "source": [
    "## 2. more advanced inspection with inspect"
   ]
  },
  {
   "cell_type": "code",
   "execution_count": 1,
   "id": "61e7de49",
   "metadata": {},
   "outputs": [
    {
     "name": "stdout",
     "output_type": "stream",
     "text": [
      "C14NWriterTarget\n",
      "Element\n",
      "ElementTree\n",
      "ParseError\n",
      "QName\n",
      "TreeBuilder\n",
      "XMLParser\n",
      "XMLPullParser\n",
      "--------------------------------------\n",
      "Comment\n",
      "PI\n",
      "ProcessingInstruction\n",
      "XML\n",
      "XMLID\n",
      "canonicalize\n",
      "dump\n",
      "fromstring\n",
      "fromstringlist\n",
      "iselement\n",
      "iterparse\n",
      "parse\n",
      "register_namespace\n",
      "tostring\n",
      "tostringlist\n"
     ]
    }
   ],
   "source": [
    "import xml.etree.ElementTree as ET\n",
    "from inspect import getmembers, isclass, isfunction\n",
    "#Display classes in ET module\n",
    "for (name, member) in getmembers(ET, isclass):\n",
    "    if not name.startswith(\"_\"):\n",
    "        print(name)\n",
    "print('--------------------------------------')\n",
    "#Display functions in ET module\n",
    "for (name, member) in getmembers(ET, isfunction):\n",
    "    if not name.startswith(\"_\"):\n",
    "        print(name)"
   ]
  },
  {
   "cell_type": "code",
   "execution_count": null,
   "id": "197b4e7c",
   "metadata": {},
   "outputs": [],
   "source": []
  },
  {
   "cell_type": "code",
   "execution_count": null,
   "id": "9f80b5c6",
   "metadata": {},
   "outputs": [],
   "source": []
  },
  {
   "cell_type": "code",
   "execution_count": null,
   "id": "f3845329",
   "metadata": {},
   "outputs": [],
   "source": []
  }
 ],
 "metadata": {
  "kernelspec": {
   "display_name": "Python 3 (ipykernel)",
   "language": "python",
   "name": "python3"
  },
  "language_info": {
   "codemirror_mode": {
    "name": "ipython",
    "version": 3
   },
   "file_extension": ".py",
   "mimetype": "text/x-python",
   "name": "python",
   "nbconvert_exporter": "python",
   "pygments_lexer": "ipython3",
   "version": "3.9.12"
  }
 },
 "nbformat": 4,
 "nbformat_minor": 5
}
