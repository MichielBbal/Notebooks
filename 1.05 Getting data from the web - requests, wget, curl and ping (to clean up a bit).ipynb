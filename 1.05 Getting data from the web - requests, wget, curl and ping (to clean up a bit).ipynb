{
 "cells": [
  {
   "cell_type": "markdown",
   "metadata": {},
   "source": [
    "# Getting data from the web - requests, wget, curl, ping\n",
    "\n",
    "## Contents\n",
    "0. Install packages\n",
    "1. Requests\n",
    "2. wget\n",
    "3. cURL\n",
    "4. Ping"
   ]
  },
  {
   "cell_type": "markdown",
   "metadata": {},
   "source": [
    "## 0. Install packages"
   ]
  },
  {
   "cell_type": "code",
   "execution_count": 2,
   "metadata": {},
   "outputs": [
    {
     "name": "stdout",
     "output_type": "stream",
     "text": [
      "Requirement already satisfied: requests in c:\\users\\31653\\anaconda3\\lib\\site-packages (2.24.0)\n",
      "Requirement already satisfied: chardet<4,>=3.0.2 in c:\\users\\31653\\anaconda3\\lib\\site-packages (from requests) (3.0.4)\n",
      "Requirement already satisfied: urllib3!=1.25.0,!=1.25.1,<1.26,>=1.21.1 in c:\\users\\31653\\anaconda3\\lib\\site-packages (from requests) (1.25.11)\n",
      "Requirement already satisfied: idna<3,>=2.5 in c:\\users\\31653\\anaconda3\\lib\\site-packages (from requests) (2.10)\n",
      "Requirement already satisfied: certifi>=2017.4.17 in c:\\users\\31653\\anaconda3\\lib\\site-packages (from requests) (2020.6.20)\n",
      "Note: you may need to restart the kernel to use updated packages.\n"
     ]
    }
   ],
   "source": [
    "%pip install requests\n",
    "%pip install wget"
   ]
  },
  {
   "cell_type": "markdown",
   "metadata": {},
   "source": [
    "## 1. Requests\n",
    "\n",
    "source: https://realpython.com/python-json/\n",
    "We will use a website called jasonplaceholder to call dummy data. \n",
    "\n",
    "We will use both the requests and json packages (see 1.3 working with files)"
   ]
  },
  {
   "cell_type": "code",
   "execution_count": 29,
   "metadata": {},
   "outputs": [
    {
     "name": "stdout",
     "output_type": "stream",
     "text": [
      "<Response [200]>\n"
     ]
    }
   ],
   "source": [
    "import requests\n",
    "url = \"https://jsonplaceholder.typicode.com/todos\" #it's best to define the url seperately\n",
    "response = requests.get(url)\n",
    "print(response)"
   ]
  },
  {
   "cell_type": "code",
   "execution_count": 30,
   "metadata": {},
   "outputs": [
    {
     "name": "stdout",
     "output_type": "stream",
     "text": [
      "['__attrs__', '__bool__', '__class__', '__delattr__', '__dict__', '__dir__', '__doc__', '__enter__', '__eq__', '__exit__', '__format__', '__ge__', '__getattribute__', '__getstate__', '__gt__', '__hash__', '__init__', '__init_subclass__', '__iter__', '__le__', '__lt__', '__module__', '__ne__', '__new__', '__nonzero__', '__reduce__', '__reduce_ex__', '__repr__', '__setattr__', '__setstate__', '__sizeof__', '__str__', '__subclasshook__', '__weakref__', '_content', '_content_consumed', '_next', 'apparent_encoding', 'close', 'connection', 'content', 'cookies', 'elapsed', 'encoding', 'headers', 'history', 'is_permanent_redirect', 'is_redirect', 'iter_content', 'iter_lines', 'json', 'links', 'next', 'ok', 'raise_for_status', 'raw', 'reason', 'request', 'status_code', 'text', 'url']\n"
     ]
    }
   ],
   "source": [
    "print(dir(response))"
   ]
  },
  {
   "cell_type": "code",
   "execution_count": 3,
   "metadata": {},
   "outputs": [
    {
     "data": {
      "text/plain": [
       "200"
      ]
     },
     "execution_count": 3,
     "metadata": {},
     "output_type": "execute_result"
    }
   ],
   "source": [
    "response.status_code"
   ]
  },
  {
   "cell_type": "code",
   "execution_count": 32,
   "metadata": {},
   "outputs": [
    {
     "data": {
      "text/plain": [
       "'[\\n  {\\n    \"userId\": 1,\\n    \"id\": 1,\\n    \"title\": \"delectus aut autem\",\\n    \"completed\": false\\n  },\\n  {\\n    \"userId\": 1,\\n    \"id\": 2,\\n    \"title\": \"quis ut nam facilis et officia qui\",\\n    \"completed\": false\\n  },\\n  {\\n    \"userId\": 1,\\n    \"id\": 3,\\n    \"title\": \"fugiat veniam minus\",\\n    \"completed\": false\\n  },\\n  {\\n    \"userId\": 1,\\n    \"id\": 4,\\n    \"title\": \"et porro tempora\",\\n    \"completed\": true\\n  },\\n  {\\n    \"userId\": 1,\\n    \"id\": 5,\\n    \"title\": \"laboriosam mollitia et enim quasi adipisci quia provident illum\",\\n    \"completed\": false\\n  },\\n  {\\n    \"userId\": 1,\\n    \"id\": 6,\\n    \"title\": \"qui ullam ratione quibusdam voluptatem quia omnis\",\\n    \"completed\": false\\n  },\\n  {\\n    \"userId\": 1,\\n    \"id\": 7,\\n    \"title\": \"illo expedita consequatur quia in\",\\n    \"completed\": false\\n  },\\n  {\\n    \"userId\": 1,\\n    \"id\": 8,\\n    \"title\": \"quo adipisci enim quam ut ab\",\\n    \"completed\": true\\n  },\\n  {\\n    \"userId\": 1,\\n    \"id\": 9,\\n    \"title\": \"molestiae perspiciatis ipsa\",\\n    \"completed\": false\\n  },\\n  {\\n    \"userId\": 1,\\n    \"id\": 10,\\n    \"title\": \"illo est ratione doloremque quia maiores aut\",\\n    \"completed\": true\\n  },\\n  {\\n    \"userId\": 1,\\n    \"id\": 11,\\n    \"title\": \"vero rerum temporibus dolor\",\\n    \"completed\": true\\n  },\\n  {\\n    \"userId\": 1,\\n    \"id\": 12,\\n    \"title\": \"ipsa repellendus fugit nisi\",\\n    \"completed\": true\\n  },\\n  {\\n    \"userId\": 1,\\n    \"id\": 13,\\n    \"title\": \"et doloremque nulla\",\\n    \"completed\": false\\n  },\\n  {\\n    \"userId\": 1,\\n    \"id\": 14,\\n    \"title\": \"repellendus sunt dolores architecto voluptatum\",\\n    \"completed\": true\\n  },\\n  {\\n    \"userId\": 1,\\n    \"id\": 15,\\n    \"title\": \"ab voluptatum amet voluptas\",\\n    \"completed\": true\\n  },\\n  {\\n    \"userId\": 1,\\n    \"id\": 16,\\n    \"title\": \"accusamus eos facilis sint et aut voluptatem\",\\n    \"completed\": true\\n  },\\n  {\\n    \"userId\": 1,\\n    \"id\": 17,\\n    \"title\": \"quo laboriosam deleniti aut qui\",\\n    \"completed\": true\\n  },\\n  {\\n    \"userId\": 1,\\n    \"id\": 18,\\n    \"title\": \"dolorum est consequatur ea mollitia in culpa\",\\n    \"completed\": false\\n  },\\n  {\\n    \"userId\": 1,\\n    \"id\": 19,\\n    \"title\": \"molestiae ipsa aut voluptatibus pariatur dolor nihil\",\\n    \"completed\": true\\n  },\\n  {\\n    \"userId\": 1,\\n    \"id\": 20,\\n    \"title\": \"ullam nobis libero sapiente ad optio sint\",\\n    \"completed\": true\\n  },\\n  {\\n    \"userId\": 2,\\n    \"id\": 21,\\n    \"title\": \"suscipit repellat esse quibusdam voluptatem incidunt\",\\n    \"completed\": false\\n  },\\n  {\\n    \"userId\": 2,\\n    \"id\": 22,\\n    \"title\": \"distinctio vitae autem nihil ut molestias quo\",\\n    \"completed\": true\\n  },\\n  {\\n    \"userId\": 2,\\n    \"id\": 23,\\n    \"title\": \"et itaque necessitatibus maxime molestiae qui quas velit\",\\n    \"completed\": false\\n  },\\n  {\\n    \"userId\": 2,\\n    \"id\": 24,\\n    \"title\": \"adipisci non ad dicta qui amet quaerat doloribus ea\",\\n    \"completed\": false\\n  },\\n  {\\n    \"userId\": 2,\\n    \"id\": 25,\\n    \"title\": \"voluptas quo tenetur perspiciatis explicabo natus\",\\n    \"completed\": true\\n  },\\n  {\\n    \"userId\": 2,\\n    \"id\": 26,\\n    \"title\": \"aliquam aut quasi\",\\n    \"completed\": true\\n  },\\n  {\\n    \"userId\": 2,\\n    \"id\": 27,\\n    \"title\": \"veritatis pariatur delectus\",\\n    \"completed\": true\\n  },\\n  {\\n    \"userId\": 2,\\n    \"id\": 28,\\n    \"title\": \"nesciunt totam sit blanditiis sit\",\\n    \"completed\": false\\n  },\\n  {\\n    \"userId\": 2,\\n    \"id\": 29,\\n    \"title\": \"laborum aut in quam\",\\n    \"completed\": false\\n  },\\n  {\\n    \"userId\": 2,\\n    \"id\": 30,\\n    \"title\": \"nemo perspiciatis repellat ut dolor libero commodi blanditiis omnis\",\\n    \"completed\": true\\n  },\\n  {\\n    \"userId\": 2,\\n    \"id\": 31,\\n    \"title\": \"repudiandae totam in est sint facere fuga\",\\n    \"completed\": false\\n  },\\n  {\\n    \"userId\": 2,\\n    \"id\": 32,\\n    \"title\": \"earum doloribus ea doloremque quis\",\\n    \"completed\": false\\n  },\\n  {\\n    \"userId\": 2,\\n    \"id\": 33,\\n    \"title\": \"sint sit aut vero\",\\n    \"completed\": false\\n  },\\n  {\\n    \"userId\": 2,\\n    \"id\": 34,\\n    \"title\": \"porro aut necessitatibus eaque distinctio\",\\n    \"completed\": false\\n  },\\n  {\\n    \"userId\": 2,\\n    \"id\": 35,\\n    \"title\": \"repellendus veritatis molestias dicta incidunt\",\\n    \"completed\": true\\n  },\\n  {\\n    \"userId\": 2,\\n    \"id\": 36,\\n    \"title\": \"excepturi deleniti adipisci voluptatem et neque optio illum ad\",\\n    \"completed\": true\\n  },\\n  {\\n    \"userId\": 2,\\n    \"id\": 37,\\n    \"title\": \"sunt cum tempora\",\\n    \"completed\": false\\n  },\\n  {\\n    \"userId\": 2,\\n    \"id\": 38,\\n    \"title\": \"totam quia non\",\\n    \"completed\": false\\n  },\\n  {\\n    \"userId\": 2,\\n    \"id\": 39,\\n    \"title\": \"doloremque quibusdam asperiores libero corrupti illum qui omnis\",\\n    \"completed\": false\\n  },\\n  {\\n    \"userId\": 2,\\n    \"id\": 40,\\n    \"title\": \"totam atque quo nesciunt\",\\n    \"completed\": true\\n  },\\n  {\\n    \"userId\": 3,\\n    \"id\": 41,\\n    \"title\": \"aliquid amet impedit consequatur aspernatur placeat eaque fugiat suscipit\",\\n    \"completed\": false\\n  },\\n  {\\n    \"userId\": 3,\\n    \"id\": 42,\\n    \"title\": \"rerum perferendis error quia ut eveniet\",\\n    \"completed\": false\\n  },\\n  {\\n    \"userId\": 3,\\n    \"id\": 43,\\n    \"title\": \"tempore ut sint quis recusandae\",\\n    \"completed\": true\\n  },\\n  {\\n    \"userId\": 3,\\n    \"id\": 44,\\n    \"title\": \"cum debitis quis accusamus doloremque ipsa natus sapiente omnis\",\\n    \"completed\": true\\n  },\\n  {\\n    \"userId\": 3,\\n    \"id\": 45,\\n    \"title\": \"velit soluta adipisci molestias reiciendis harum\",\\n    \"completed\": false\\n  },\\n  {\\n    \"userId\": 3,\\n    \"id\": 46,\\n    \"title\": \"vel voluptatem repellat nihil placeat corporis\",\\n    \"completed\": false\\n  },\\n  {\\n    \"userId\": 3,\\n    \"id\": 47,\\n    \"title\": \"nam qui rerum fugiat accusamus\",\\n    \"completed\": false\\n  },\\n  {\\n    \"userId\": 3,\\n    \"id\": 48,\\n    \"title\": \"sit reprehenderit omnis quia\",\\n    \"completed\": false\\n  },\\n  {\\n    \"userId\": 3,\\n    \"id\": 49,\\n    \"title\": \"ut necessitatibus aut maiores debitis officia blanditiis velit et\",\\n    \"completed\": false\\n  },\\n  {\\n    \"userId\": 3,\\n    \"id\": 50,\\n    \"title\": \"cupiditate necessitatibus ullam aut quis dolor voluptate\",\\n    \"completed\": true\\n  },\\n  {\\n    \"userId\": 3,\\n    \"id\": 51,\\n    \"title\": \"distinctio exercitationem ab doloribus\",\\n    \"completed\": false\\n  },\\n  {\\n    \"userId\": 3,\\n    \"id\": 52,\\n    \"title\": \"nesciunt dolorum quis recusandae ad pariatur ratione\",\\n    \"completed\": false\\n  },\\n  {\\n    \"userId\": 3,\\n    \"id\": 53,\\n    \"title\": \"qui labore est occaecati recusandae aliquid quam\",\\n    \"completed\": false\\n  },\\n  {\\n    \"userId\": 3,\\n    \"id\": 54,\\n    \"title\": \"quis et est ut voluptate quam dolor\",\\n    \"completed\": true\\n  },\\n  {\\n    \"userId\": 3,\\n    \"id\": 55,\\n    \"title\": \"voluptatum omnis minima qui occaecati provident nulla voluptatem ratione\",\\n    \"completed\": true\\n  },\\n  {\\n    \"userId\": 3,\\n    \"id\": 56,\\n    \"title\": \"deleniti ea temporibus enim\",\\n    \"completed\": true\\n  },\\n  {\\n    \"userId\": 3,\\n    \"id\": 57,\\n    \"title\": \"pariatur et magnam ea doloribus similique voluptatem rerum quia\",\\n    \"completed\": false\\n  },\\n  {\\n    \"userId\": 3,\\n    \"id\": 58,\\n    \"title\": \"est dicta totam qui explicabo doloribus qui dignissimos\",\\n    \"completed\": false\\n  },\\n  {\\n    \"userId\": 3,\\n    \"id\": 59,\\n    \"title\": \"perspiciatis velit id laborum placeat iusto et aliquam odio\",\\n    \"completed\": false\\n  },\\n  {\\n    \"userId\": 3,\\n    \"id\": 60,\\n    \"title\": \"et sequi qui architecto ut adipisci\",\\n    \"completed\": true\\n  },\\n  {\\n    \"userId\": 4,\\n    \"id\": 61,\\n    \"title\": \"odit optio omnis qui sunt\",\\n    \"completed\": true\\n  },\\n  {\\n    \"userId\": 4,\\n    \"id\": 62,\\n    \"title\": \"et placeat et tempore aspernatur sint numquam\",\\n    \"completed\": false\\n  },\\n  {\\n    \"userId\": 4,\\n    \"id\": 63,\\n    \"title\": \"doloremque aut dolores quidem fuga qui nulla\",\\n    \"completed\": true\\n  },\\n  {\\n    \"userId\": 4,\\n    \"id\": 64,\\n    \"title\": \"voluptas consequatur qui ut quia magnam nemo esse\",\\n    \"completed\": false\\n  },\\n  {\\n    \"userId\": 4,\\n    \"id\": 65,\\n    \"title\": \"fugiat pariatur ratione ut asperiores necessitatibus magni\",\\n    \"completed\": false\\n  },\\n  {\\n    \"userId\": 4,\\n    \"id\": 66,\\n    \"title\": \"rerum eum molestias autem voluptatum sit optio\",\\n    \"completed\": false\\n  },\\n  {\\n    \"userId\": 4,\\n    \"id\": 67,\\n    \"title\": \"quia voluptatibus voluptatem quos similique maiores repellat\",\\n    \"completed\": false\\n  },\\n  {\\n    \"userId\": 4,\\n    \"id\": 68,\\n    \"title\": \"aut id perspiciatis voluptatem iusto\",\\n    \"completed\": false\\n  },\\n  {\\n    \"userId\": 4,\\n    \"id\": 69,\\n    \"title\": \"doloribus sint dolorum ab adipisci itaque dignissimos aliquam suscipit\",\\n    \"completed\": false\\n  },\\n  {\\n    \"userId\": 4,\\n    \"id\": 70,\\n    \"title\": \"ut sequi accusantium et mollitia delectus sunt\",\\n    \"completed\": false\\n  },\\n  {\\n    \"userId\": 4,\\n    \"id\": 71,\\n    \"title\": \"aut velit saepe ullam\",\\n    \"completed\": false\\n  },\\n  {\\n    \"userId\": 4,\\n    \"id\": 72,\\n    \"title\": \"praesentium facilis facere quis harum voluptatibus voluptatem eum\",\\n    \"completed\": false\\n  },\\n  {\\n    \"userId\": 4,\\n    \"id\": 73,\\n    \"title\": \"sint amet quia totam corporis qui exercitationem commodi\",\\n    \"completed\": true\\n  },\\n  {\\n    \"userId\": 4,\\n    \"id\": 74,\\n    \"title\": \"expedita tempore nobis eveniet laborum maiores\",\\n    \"completed\": false\\n  },\\n  {\\n    \"userId\": 4,\\n    \"id\": 75,\\n    \"title\": \"occaecati adipisci est possimus totam\",\\n    \"completed\": false\\n  },\\n  {\\n    \"userId\": 4,\\n    \"id\": 76,\\n    \"title\": \"sequi dolorem sed\",\\n    \"completed\": true\\n  },\\n  {\\n    \"userId\": 4,\\n    \"id\": 77,\\n    \"title\": \"maiores aut nesciunt delectus exercitationem vel assumenda eligendi at\",\\n    \"completed\": false\\n  },\\n  {\\n    \"userId\": 4,\\n    \"id\": 78,\\n    \"title\": \"reiciendis est magnam amet nemo iste recusandae impedit quaerat\",\\n    \"completed\": false\\n  },\\n  {\\n    \"userId\": 4,\\n    \"id\": 79,\\n    \"title\": \"eum ipsa maxime ut\",\\n    \"completed\": true\\n  },\\n  {\\n    \"userId\": 4,\\n    \"id\": 80,\\n    \"title\": \"tempore molestias dolores rerum sequi voluptates ipsum consequatur\",\\n    \"completed\": true\\n  },\\n  {\\n    \"userId\": 5,\\n    \"id\": 81,\\n    \"title\": \"suscipit qui totam\",\\n    \"completed\": true\\n  },\\n  {\\n    \"userId\": 5,\\n    \"id\": 82,\\n    \"title\": \"voluptates eum voluptas et dicta\",\\n    \"completed\": false\\n  },\\n  {\\n    \"userId\": 5,\\n    \"id\": 83,\\n    \"title\": \"quidem at rerum quis ex aut sit quam\",\\n    \"completed\": true\\n  },\\n  {\\n    \"userId\": 5,\\n    \"id\": 84,\\n    \"title\": \"sunt veritatis ut voluptate\",\\n    \"completed\": false\\n  },\\n  {\\n    \"userId\": 5,\\n    \"id\": 85,\\n    \"title\": \"et quia ad iste a\",\\n    \"completed\": true\\n  },\\n  {\\n    \"userId\": 5,\\n    \"id\": 86,\\n    \"title\": \"incidunt ut saepe autem\",\\n    \"completed\": true\\n  },\\n  {\\n    \"userId\": 5,\\n    \"id\": 87,\\n    \"title\": \"laudantium quae eligendi consequatur quia et vero autem\",\\n    \"completed\": true\\n  },\\n  {\\n    \"userId\": 5,\\n    \"id\": 88,\\n    \"title\": \"vitae aut excepturi laboriosam sint aliquam et et accusantium\",\\n    \"completed\": false\\n  },\\n  {\\n    \"userId\": 5,\\n    \"id\": 89,\\n    \"title\": \"sequi ut omnis et\",\\n    \"completed\": true\\n  },\\n  {\\n    \"userId\": 5,\\n    \"id\": 90,\\n    \"title\": \"molestiae nisi accusantium tenetur dolorem et\",\\n    \"completed\": true\\n  },\\n  {\\n    \"userId\": 5,\\n    \"id\": 91,\\n    \"title\": \"nulla quis consequatur saepe qui id expedita\",\\n    \"completed\": true\\n  },\\n  {\\n    \"userId\": 5,\\n    \"id\": 92,\\n    \"title\": \"in omnis laboriosam\",\\n    \"completed\": true\\n  },\\n  {\\n    \"userId\": 5,\\n    \"id\": 93,\\n    \"title\": \"odio iure consequatur molestiae quibusdam necessitatibus quia sint\",\\n    \"completed\": true\\n  },\\n  {\\n    \"userId\": 5,\\n    \"id\": 94,\\n    \"title\": \"facilis modi saepe mollitia\",\\n    \"completed\": false\\n  },\\n  {\\n    \"userId\": 5,\\n    \"id\": 95,\\n    \"title\": \"vel nihil et molestiae iusto assumenda nemo quo ut\",\\n    \"completed\": true\\n  },\\n  {\\n    \"userId\": 5,\\n    \"id\": 96,\\n    \"title\": \"nobis suscipit ducimus enim asperiores voluptas\",\\n    \"completed\": false\\n  },\\n  {\\n    \"userId\": 5,\\n    \"id\": 97,\\n    \"title\": \"dolorum laboriosam eos qui iure aliquam\",\\n    \"completed\": false\\n  },\\n  {\\n    \"userId\": 5,\\n    \"id\": 98,\\n    \"title\": \"debitis accusantium ut quo facilis nihil quis sapiente necessitatibus\",\\n    \"completed\": true\\n  },\\n  {\\n    \"userId\": 5,\\n    \"id\": 99,\\n    \"title\": \"neque voluptates ratione\",\\n    \"completed\": false\\n  },\\n  {\\n    \"userId\": 5,\\n    \"id\": 100,\\n    \"title\": \"excepturi a et neque qui expedita vel voluptate\",\\n    \"completed\": false\\n  },\\n  {\\n    \"userId\": 6,\\n    \"id\": 101,\\n    \"title\": \"explicabo enim cumque porro aperiam occaecati minima\",\\n    \"completed\": false\\n  },\\n  {\\n    \"userId\": 6,\\n    \"id\": 102,\\n    \"title\": \"sed ab consequatur\",\\n    \"completed\": false\\n  },\\n  {\\n    \"userId\": 6,\\n    \"id\": 103,\\n    \"title\": \"non sunt delectus illo nulla tenetur enim omnis\",\\n    \"completed\": false\\n  },\\n  {\\n    \"userId\": 6,\\n    \"id\": 104,\\n    \"title\": \"excepturi non laudantium quo\",\\n    \"completed\": false\\n  },\\n  {\\n    \"userId\": 6,\\n    \"id\": 105,\\n    \"title\": \"totam quia dolorem et illum repellat voluptas optio\",\\n    \"completed\": true\\n  },\\n  {\\n    \"userId\": 6,\\n    \"id\": 106,\\n    \"title\": \"ad illo quis voluptatem temporibus\",\\n    \"completed\": true\\n  },\\n  {\\n    \"userId\": 6,\\n    \"id\": 107,\\n    \"title\": \"praesentium facilis omnis laudantium fugit ad iusto nihil nesciunt\",\\n    \"completed\": false\\n  },\\n  {\\n    \"userId\": 6,\\n    \"id\": 108,\\n    \"title\": \"a eos eaque nihil et exercitationem incidunt delectus\",\\n    \"completed\": true\\n  },\\n  {\\n    \"userId\": 6,\\n    \"id\": 109,\\n    \"title\": \"autem temporibus harum quisquam in culpa\",\\n    \"completed\": true\\n  },\\n  {\\n    \"userId\": 6,\\n    \"id\": 110,\\n    \"title\": \"aut aut ea corporis\",\\n    \"completed\": true\\n  },\\n  {\\n    \"userId\": 6,\\n    \"id\": 111,\\n    \"title\": \"magni accusantium labore et id quis provident\",\\n    \"completed\": false\\n  },\\n  {\\n    \"userId\": 6,\\n    \"id\": 112,\\n    \"title\": \"consectetur impedit quisquam qui deserunt non rerum consequuntur eius\",\\n    \"completed\": false\\n  },\\n  {\\n    \"userId\": 6,\\n    \"id\": 113,\\n    \"title\": \"quia atque aliquam sunt impedit voluptatum rerum assumenda nisi\",\\n    \"completed\": false\\n  },\\n  {\\n    \"userId\": 6,\\n    \"id\": 114,\\n    \"title\": \"cupiditate quos possimus corporis quisquam exercitationem beatae\",\\n    \"completed\": false\\n  },\\n  {\\n    \"userId\": 6,\\n    \"id\": 115,\\n    \"title\": \"sed et ea eum\",\\n    \"completed\": false\\n  },\\n  {\\n    \"userId\": 6,\\n    \"id\": 116,\\n    \"title\": \"ipsa dolores vel facilis ut\",\\n    \"completed\": true\\n  },\\n  {\\n    \"userId\": 6,\\n    \"id\": 117,\\n    \"title\": \"sequi quae est et qui qui eveniet asperiores\",\\n    \"completed\": false\\n  },\\n  {\\n    \"userId\": 6,\\n    \"id\": 118,\\n    \"title\": \"quia modi consequatur vero fugiat\",\\n    \"completed\": false\\n  },\\n  {\\n    \"userId\": 6,\\n    \"id\": 119,\\n    \"title\": \"corporis ducimus ea perspiciatis iste\",\\n    \"completed\": false\\n  },\\n  {\\n    \"userId\": 6,\\n    \"id\": 120,\\n    \"title\": \"dolorem laboriosam vel voluptas et aliquam quasi\",\\n    \"completed\": false\\n  },\\n  {\\n    \"userId\": 7,\\n    \"id\": 121,\\n    \"title\": \"inventore aut nihil minima laudantium hic qui omnis\",\\n    \"completed\": true\\n  },\\n  {\\n    \"userId\": 7,\\n    \"id\": 122,\\n    \"title\": \"provident aut nobis culpa\",\\n    \"completed\": true\\n  },\\n  {\\n    \"userId\": 7,\\n    \"id\": 123,\\n    \"title\": \"esse et quis iste est earum aut impedit\",\\n    \"completed\": false\\n  },\\n  {\\n    \"userId\": 7,\\n    \"id\": 124,\\n    \"title\": \"qui consectetur id\",\\n    \"completed\": false\\n  },\\n  {\\n    \"userId\": 7,\\n    \"id\": 125,\\n    \"title\": \"aut quasi autem iste tempore illum possimus\",\\n    \"completed\": false\\n  },\\n  {\\n    \"userId\": 7,\\n    \"id\": 126,\\n    \"title\": \"ut asperiores perspiciatis veniam ipsum rerum saepe\",\\n    \"completed\": true\\n  },\\n  {\\n    \"userId\": 7,\\n    \"id\": 127,\\n    \"title\": \"voluptatem libero consectetur rerum ut\",\\n    \"completed\": true\\n  },\\n  {\\n    \"userId\": 7,\\n    \"id\": 128,\\n    \"title\": \"eius omnis est qui voluptatem autem\",\\n    \"completed\": false\\n  },\\n  {\\n    \"userId\": 7,\\n    \"id\": 129,\\n    \"title\": \"rerum culpa quis harum\",\\n    \"completed\": false\\n  },\\n  {\\n    \"userId\": 7,\\n    \"id\": 130,\\n    \"title\": \"nulla aliquid eveniet harum laborum libero alias ut unde\",\\n    \"completed\": true\\n  },\\n  {\\n    \"userId\": 7,\\n    \"id\": 131,\\n    \"title\": \"qui ea incidunt quis\",\\n    \"completed\": false\\n  },\\n  {\\n    \"userId\": 7,\\n    \"id\": 132,\\n    \"title\": \"qui molestiae voluptatibus velit iure harum quisquam\",\\n    \"completed\": true\\n  },\\n  {\\n    \"userId\": 7,\\n    \"id\": 133,\\n    \"title\": \"et labore eos enim rerum consequatur sunt\",\\n    \"completed\": true\\n  },\\n  {\\n    \"userId\": 7,\\n    \"id\": 134,\\n    \"title\": \"molestiae doloribus et laborum quod ea\",\\n    \"completed\": false\\n  },\\n  {\\n    \"userId\": 7,\\n    \"id\": 135,\\n    \"title\": \"facere ipsa nam eum voluptates reiciendis vero qui\",\\n    \"completed\": false\\n  },\\n  {\\n    \"userId\": 7,\\n    \"id\": 136,\\n    \"title\": \"asperiores illo tempora fuga sed ut quasi adipisci\",\\n    \"completed\": false\\n  },\\n  {\\n    \"userId\": 7,\\n    \"id\": 137,\\n    \"title\": \"qui sit non\",\\n    \"completed\": false\\n  },\\n  {\\n    \"userId\": 7,\\n    \"id\": 138,\\n    \"title\": \"placeat minima consequatur rem qui ut\",\\n    \"completed\": true\\n  },\\n  {\\n    \"userId\": 7,\\n    \"id\": 139,\\n    \"title\": \"consequatur doloribus id possimus voluptas a voluptatem\",\\n    \"completed\": false\\n  },\\n  {\\n    \"userId\": 7,\\n    \"id\": 140,\\n    \"title\": \"aut consectetur in blanditiis deserunt quia sed laboriosam\",\\n    \"completed\": true\\n  },\\n  {\\n    \"userId\": 8,\\n    \"id\": 141,\\n    \"title\": \"explicabo consectetur debitis voluptates quas quae culpa rerum non\",\\n    \"completed\": true\\n  },\\n  {\\n    \"userId\": 8,\\n    \"id\": 142,\\n    \"title\": \"maiores accusantium architecto necessitatibus reiciendis ea aut\",\\n    \"completed\": true\\n  },\\n  {\\n    \"userId\": 8,\\n    \"id\": 143,\\n    \"title\": \"eum non recusandae cupiditate animi\",\\n    \"completed\": false\\n  },\\n  {\\n    \"userId\": 8,\\n    \"id\": 144,\\n    \"title\": \"ut eum exercitationem sint\",\\n    \"completed\": false\\n  },\\n  {\\n    \"userId\": 8,\\n    \"id\": 145,\\n    \"title\": \"beatae qui ullam incidunt voluptatem non nisi aliquam\",\\n    \"completed\": false\\n  },\\n  {\\n    \"userId\": 8,\\n    \"id\": 146,\\n    \"title\": \"molestiae suscipit ratione nihil odio libero impedit vero totam\",\\n    \"completed\": true\\n  },\\n  {\\n    \"userId\": 8,\\n    \"id\": 147,\\n    \"title\": \"eum itaque quod reprehenderit et facilis dolor autem ut\",\\n    \"completed\": true\\n  },\\n  {\\n    \"userId\": 8,\\n    \"id\": 148,\\n    \"title\": \"esse quas et quo quasi exercitationem\",\\n    \"completed\": false\\n  },\\n  {\\n    \"userId\": 8,\\n    \"id\": 149,\\n    \"title\": \"animi voluptas quod perferendis est\",\\n    \"completed\": false\\n  },\\n  {\\n    \"userId\": 8,\\n    \"id\": 150,\\n    \"title\": \"eos amet tempore laudantium fugit a\",\\n    \"completed\": false\\n  },\\n  {\\n    \"userId\": 8,\\n    \"id\": 151,\\n    \"title\": \"accusamus adipisci dicta qui quo ea explicabo sed vero\",\\n    \"completed\": true\\n  },\\n  {\\n    \"userId\": 8,\\n    \"id\": 152,\\n    \"title\": \"odit eligendi recusandae doloremque cumque non\",\\n    \"completed\": false\\n  },\\n  {\\n    \"userId\": 8,\\n    \"id\": 153,\\n    \"title\": \"ea aperiam consequatur qui repellat eos\",\\n    \"completed\": false\\n  },\\n  {\\n    \"userId\": 8,\\n    \"id\": 154,\\n    \"title\": \"rerum non ex sapiente\",\\n    \"completed\": true\\n  },\\n  {\\n    \"userId\": 8,\\n    \"id\": 155,\\n    \"title\": \"voluptatem nobis consequatur et assumenda magnam\",\\n    \"completed\": true\\n  },\\n  {\\n    \"userId\": 8,\\n    \"id\": 156,\\n    \"title\": \"nam quia quia nulla repellat assumenda quibusdam sit nobis\",\\n    \"completed\": true\\n  },\\n  {\\n    \"userId\": 8,\\n    \"id\": 157,\\n    \"title\": \"dolorem veniam quisquam deserunt repellendus\",\\n    \"completed\": true\\n  },\\n  {\\n    \"userId\": 8,\\n    \"id\": 158,\\n    \"title\": \"debitis vitae delectus et harum accusamus aut deleniti a\",\\n    \"completed\": true\\n  },\\n  {\\n    \"userId\": 8,\\n    \"id\": 159,\\n    \"title\": \"debitis adipisci quibusdam aliquam sed dolore ea praesentium nobis\",\\n    \"completed\": true\\n  },\\n  {\\n    \"userId\": 8,\\n    \"id\": 160,\\n    \"title\": \"et praesentium aliquam est\",\\n    \"completed\": false\\n  },\\n  {\\n    \"userId\": 9,\\n    \"id\": 161,\\n    \"title\": \"ex hic consequuntur earum omnis alias ut occaecati culpa\",\\n    \"completed\": true\\n  },\\n  {\\n    \"userId\": 9,\\n    \"id\": 162,\\n    \"title\": \"omnis laboriosam molestias animi sunt dolore\",\\n    \"completed\": true\\n  },\\n  {\\n    \"userId\": 9,\\n    \"id\": 163,\\n    \"title\": \"natus corrupti maxime laudantium et voluptatem laboriosam odit\",\\n    \"completed\": false\\n  },\\n  {\\n    \"userId\": 9,\\n    \"id\": 164,\\n    \"title\": \"reprehenderit quos aut aut consequatur est sed\",\\n    \"completed\": false\\n  },\\n  {\\n    \"userId\": 9,\\n    \"id\": 165,\\n    \"title\": \"fugiat perferendis sed aut quidem\",\\n    \"completed\": false\\n  },\\n  {\\n    \"userId\": 9,\\n    \"id\": 166,\\n    \"title\": \"quos quo possimus suscipit minima ut\",\\n    \"completed\": false\\n  },\\n  {\\n    \"userId\": 9,\\n    \"id\": 167,\\n    \"title\": \"et quis minus quo a asperiores molestiae\",\\n    \"completed\": false\\n  },\\n  {\\n    \"userId\": 9,\\n    \"id\": 168,\\n    \"title\": \"recusandae quia qui sunt libero\",\\n    \"completed\": false\\n  },\\n  {\\n    \"userId\": 9,\\n    \"id\": 169,\\n    \"title\": \"ea odio perferendis officiis\",\\n    \"completed\": true\\n  },\\n  {\\n    \"userId\": 9,\\n    \"id\": 170,\\n    \"title\": \"quisquam aliquam quia doloribus aut\",\\n    \"completed\": false\\n  },\\n  {\\n    \"userId\": 9,\\n    \"id\": 171,\\n    \"title\": \"fugiat aut voluptatibus corrupti deleniti velit iste odio\",\\n    \"completed\": true\\n  },\\n  {\\n    \"userId\": 9,\\n    \"id\": 172,\\n    \"title\": \"et provident amet rerum consectetur et voluptatum\",\\n    \"completed\": false\\n  },\\n  {\\n    \"userId\": 9,\\n    \"id\": 173,\\n    \"title\": \"harum ad aperiam quis\",\\n    \"completed\": false\\n  },\\n  {\\n    \"userId\": 9,\\n    \"id\": 174,\\n    \"title\": \"similique aut quo\",\\n    \"completed\": false\\n  },\\n  {\\n    \"userId\": 9,\\n    \"id\": 175,\\n    \"title\": \"laudantium eius officia perferendis provident perspiciatis asperiores\",\\n    \"completed\": true\\n  },\\n  {\\n    \"userId\": 9,\\n    \"id\": 176,\\n    \"title\": \"magni soluta corrupti ut maiores rem quidem\",\\n    \"completed\": false\\n  },\\n  {\\n    \"userId\": 9,\\n    \"id\": 177,\\n    \"title\": \"et placeat temporibus voluptas est tempora quos quibusdam\",\\n    \"completed\": false\\n  },\\n  {\\n    \"userId\": 9,\\n    \"id\": 178,\\n    \"title\": \"nesciunt itaque commodi tempore\",\\n    \"completed\": true\\n  },\\n  {\\n    \"userId\": 9,\\n    \"id\": 179,\\n    \"title\": \"omnis consequuntur cupiditate impedit itaque ipsam quo\",\\n    \"completed\": true\\n  },\\n  {\\n    \"userId\": 9,\\n    \"id\": 180,\\n    \"title\": \"debitis nisi et dolorem repellat et\",\\n    \"completed\": true\\n  },\\n  {\\n    \"userId\": 10,\\n    \"id\": 181,\\n    \"title\": \"ut cupiditate sequi aliquam fuga maiores\",\\n    \"completed\": false\\n  },\\n  {\\n    \"userId\": 10,\\n    \"id\": 182,\\n    \"title\": \"inventore saepe cumque et aut illum enim\",\\n    \"completed\": true\\n  },\\n  {\\n    \"userId\": 10,\\n    \"id\": 183,\\n    \"title\": \"omnis nulla eum aliquam distinctio\",\\n    \"completed\": true\\n  },\\n  {\\n    \"userId\": 10,\\n    \"id\": 184,\\n    \"title\": \"molestias modi perferendis perspiciatis\",\\n    \"completed\": false\\n  },\\n  {\\n    \"userId\": 10,\\n    \"id\": 185,\\n    \"title\": \"voluptates dignissimos sed doloribus animi quaerat aut\",\\n    \"completed\": false\\n  },\\n  {\\n    \"userId\": 10,\\n    \"id\": 186,\\n    \"title\": \"explicabo odio est et\",\\n    \"completed\": false\\n  },\\n  {\\n    \"userId\": 10,\\n    \"id\": 187,\\n    \"title\": \"consequuntur animi possimus\",\\n    \"completed\": false\\n  },\\n  {\\n    \"userId\": 10,\\n    \"id\": 188,\\n    \"title\": \"vel non beatae est\",\\n    \"completed\": true\\n  },\\n  {\\n    \"userId\": 10,\\n    \"id\": 189,\\n    \"title\": \"culpa eius et voluptatem et\",\\n    \"completed\": true\\n  },\\n  {\\n    \"userId\": 10,\\n    \"id\": 190,\\n    \"title\": \"accusamus sint iusto et voluptatem exercitationem\",\\n    \"completed\": true\\n  },\\n  {\\n    \"userId\": 10,\\n    \"id\": 191,\\n    \"title\": \"temporibus atque distinctio omnis eius impedit tempore molestias pariatur\",\\n    \"completed\": true\\n  },\\n  {\\n    \"userId\": 10,\\n    \"id\": 192,\\n    \"title\": \"ut quas possimus exercitationem sint voluptates\",\\n    \"completed\": false\\n  },\\n  {\\n    \"userId\": 10,\\n    \"id\": 193,\\n    \"title\": \"rerum debitis voluptatem qui eveniet tempora distinctio a\",\\n    \"completed\": true\\n  },\\n  {\\n    \"userId\": 10,\\n    \"id\": 194,\\n    \"title\": \"sed ut vero sit molestiae\",\\n    \"completed\": false\\n  },\\n  {\\n    \"userId\": 10,\\n    \"id\": 195,\\n    \"title\": \"rerum ex veniam mollitia voluptatibus pariatur\",\\n    \"completed\": true\\n  },\\n  {\\n    \"userId\": 10,\\n    \"id\": 196,\\n    \"title\": \"consequuntur aut ut fugit similique\",\\n    \"completed\": true\\n  },\\n  {\\n    \"userId\": 10,\\n    \"id\": 197,\\n    \"title\": \"dignissimos quo nobis earum saepe\",\\n    \"completed\": true\\n  },\\n  {\\n    \"userId\": 10,\\n    \"id\": 198,\\n    \"title\": \"quis eius est sint explicabo\",\\n    \"completed\": true\\n  },\\n  {\\n    \"userId\": 10,\\n    \"id\": 199,\\n    \"title\": \"numquam repellendus a magnam\",\\n    \"completed\": true\\n  },\\n  {\\n    \"userId\": 10,\\n    \"id\": 200,\\n    \"title\": \"ipsam aperiam voluptates qui\",\\n    \"completed\": false\\n  }\\n]'"
      ]
     },
     "execution_count": 32,
     "metadata": {},
     "output_type": "execute_result"
    }
   ],
   "source": [
    "response.text"
   ]
  },
  {
   "cell_type": "code",
   "execution_count": 8,
   "metadata": {},
   "outputs": [
    {
     "name": "stdout",
     "output_type": "stream",
     "text": [
      "<bound method Response.json of <Response [200]>>\n"
     ]
    }
   ],
   "source": [
    "print(response.json)"
   ]
  },
  {
   "cell_type": "code",
   "execution_count": 33,
   "metadata": {},
   "outputs": [
    {
     "name": "stdout",
     "output_type": "stream",
     "text": [
      "<class 'list'>\n"
     ]
    },
    {
     "data": {
      "text/plain": [
       "[{'userId': 1, 'id': 1, 'title': 'delectus aut autem', 'completed': False},\n",
       " {'userId': 1,\n",
       "  'id': 2,\n",
       "  'title': 'quis ut nam facilis et officia qui',\n",
       "  'completed': False},\n",
       " {'userId': 1, 'id': 3, 'title': 'fugiat veniam minus', 'completed': False},\n",
       " {'userId': 1, 'id': 4, 'title': 'et porro tempora', 'completed': True},\n",
       " {'userId': 1,\n",
       "  'id': 5,\n",
       "  'title': 'laboriosam mollitia et enim quasi adipisci quia provident illum',\n",
       "  'completed': False},\n",
       " {'userId': 1,\n",
       "  'id': 6,\n",
       "  'title': 'qui ullam ratione quibusdam voluptatem quia omnis',\n",
       "  'completed': False},\n",
       " {'userId': 1,\n",
       "  'id': 7,\n",
       "  'title': 'illo expedita consequatur quia in',\n",
       "  'completed': False},\n",
       " {'userId': 1,\n",
       "  'id': 8,\n",
       "  'title': 'quo adipisci enim quam ut ab',\n",
       "  'completed': True},\n",
       " {'userId': 1,\n",
       "  'id': 9,\n",
       "  'title': 'molestiae perspiciatis ipsa',\n",
       "  'completed': False},\n",
       " {'userId': 1,\n",
       "  'id': 10,\n",
       "  'title': 'illo est ratione doloremque quia maiores aut',\n",
       "  'completed': True},\n",
       " {'userId': 1,\n",
       "  'id': 11,\n",
       "  'title': 'vero rerum temporibus dolor',\n",
       "  'completed': True},\n",
       " {'userId': 1,\n",
       "  'id': 12,\n",
       "  'title': 'ipsa repellendus fugit nisi',\n",
       "  'completed': True},\n",
       " {'userId': 1, 'id': 13, 'title': 'et doloremque nulla', 'completed': False},\n",
       " {'userId': 1,\n",
       "  'id': 14,\n",
       "  'title': 'repellendus sunt dolores architecto voluptatum',\n",
       "  'completed': True},\n",
       " {'userId': 1,\n",
       "  'id': 15,\n",
       "  'title': 'ab voluptatum amet voluptas',\n",
       "  'completed': True},\n",
       " {'userId': 1,\n",
       "  'id': 16,\n",
       "  'title': 'accusamus eos facilis sint et aut voluptatem',\n",
       "  'completed': True},\n",
       " {'userId': 1,\n",
       "  'id': 17,\n",
       "  'title': 'quo laboriosam deleniti aut qui',\n",
       "  'completed': True},\n",
       " {'userId': 1,\n",
       "  'id': 18,\n",
       "  'title': 'dolorum est consequatur ea mollitia in culpa',\n",
       "  'completed': False},\n",
       " {'userId': 1,\n",
       "  'id': 19,\n",
       "  'title': 'molestiae ipsa aut voluptatibus pariatur dolor nihil',\n",
       "  'completed': True},\n",
       " {'userId': 1,\n",
       "  'id': 20,\n",
       "  'title': 'ullam nobis libero sapiente ad optio sint',\n",
       "  'completed': True},\n",
       " {'userId': 2,\n",
       "  'id': 21,\n",
       "  'title': 'suscipit repellat esse quibusdam voluptatem incidunt',\n",
       "  'completed': False},\n",
       " {'userId': 2,\n",
       "  'id': 22,\n",
       "  'title': 'distinctio vitae autem nihil ut molestias quo',\n",
       "  'completed': True},\n",
       " {'userId': 2,\n",
       "  'id': 23,\n",
       "  'title': 'et itaque necessitatibus maxime molestiae qui quas velit',\n",
       "  'completed': False},\n",
       " {'userId': 2,\n",
       "  'id': 24,\n",
       "  'title': 'adipisci non ad dicta qui amet quaerat doloribus ea',\n",
       "  'completed': False},\n",
       " {'userId': 2,\n",
       "  'id': 25,\n",
       "  'title': 'voluptas quo tenetur perspiciatis explicabo natus',\n",
       "  'completed': True},\n",
       " {'userId': 2, 'id': 26, 'title': 'aliquam aut quasi', 'completed': True},\n",
       " {'userId': 2,\n",
       "  'id': 27,\n",
       "  'title': 'veritatis pariatur delectus',\n",
       "  'completed': True},\n",
       " {'userId': 2,\n",
       "  'id': 28,\n",
       "  'title': 'nesciunt totam sit blanditiis sit',\n",
       "  'completed': False},\n",
       " {'userId': 2, 'id': 29, 'title': 'laborum aut in quam', 'completed': False},\n",
       " {'userId': 2,\n",
       "  'id': 30,\n",
       "  'title': 'nemo perspiciatis repellat ut dolor libero commodi blanditiis omnis',\n",
       "  'completed': True},\n",
       " {'userId': 2,\n",
       "  'id': 31,\n",
       "  'title': 'repudiandae totam in est sint facere fuga',\n",
       "  'completed': False},\n",
       " {'userId': 2,\n",
       "  'id': 32,\n",
       "  'title': 'earum doloribus ea doloremque quis',\n",
       "  'completed': False},\n",
       " {'userId': 2, 'id': 33, 'title': 'sint sit aut vero', 'completed': False},\n",
       " {'userId': 2,\n",
       "  'id': 34,\n",
       "  'title': 'porro aut necessitatibus eaque distinctio',\n",
       "  'completed': False},\n",
       " {'userId': 2,\n",
       "  'id': 35,\n",
       "  'title': 'repellendus veritatis molestias dicta incidunt',\n",
       "  'completed': True},\n",
       " {'userId': 2,\n",
       "  'id': 36,\n",
       "  'title': 'excepturi deleniti adipisci voluptatem et neque optio illum ad',\n",
       "  'completed': True},\n",
       " {'userId': 2, 'id': 37, 'title': 'sunt cum tempora', 'completed': False},\n",
       " {'userId': 2, 'id': 38, 'title': 'totam quia non', 'completed': False},\n",
       " {'userId': 2,\n",
       "  'id': 39,\n",
       "  'title': 'doloremque quibusdam asperiores libero corrupti illum qui omnis',\n",
       "  'completed': False},\n",
       " {'userId': 2,\n",
       "  'id': 40,\n",
       "  'title': 'totam atque quo nesciunt',\n",
       "  'completed': True},\n",
       " {'userId': 3,\n",
       "  'id': 41,\n",
       "  'title': 'aliquid amet impedit consequatur aspernatur placeat eaque fugiat suscipit',\n",
       "  'completed': False},\n",
       " {'userId': 3,\n",
       "  'id': 42,\n",
       "  'title': 'rerum perferendis error quia ut eveniet',\n",
       "  'completed': False},\n",
       " {'userId': 3,\n",
       "  'id': 43,\n",
       "  'title': 'tempore ut sint quis recusandae',\n",
       "  'completed': True},\n",
       " {'userId': 3,\n",
       "  'id': 44,\n",
       "  'title': 'cum debitis quis accusamus doloremque ipsa natus sapiente omnis',\n",
       "  'completed': True},\n",
       " {'userId': 3,\n",
       "  'id': 45,\n",
       "  'title': 'velit soluta adipisci molestias reiciendis harum',\n",
       "  'completed': False},\n",
       " {'userId': 3,\n",
       "  'id': 46,\n",
       "  'title': 'vel voluptatem repellat nihil placeat corporis',\n",
       "  'completed': False},\n",
       " {'userId': 3,\n",
       "  'id': 47,\n",
       "  'title': 'nam qui rerum fugiat accusamus',\n",
       "  'completed': False},\n",
       " {'userId': 3,\n",
       "  'id': 48,\n",
       "  'title': 'sit reprehenderit omnis quia',\n",
       "  'completed': False},\n",
       " {'userId': 3,\n",
       "  'id': 49,\n",
       "  'title': 'ut necessitatibus aut maiores debitis officia blanditiis velit et',\n",
       "  'completed': False},\n",
       " {'userId': 3,\n",
       "  'id': 50,\n",
       "  'title': 'cupiditate necessitatibus ullam aut quis dolor voluptate',\n",
       "  'completed': True},\n",
       " {'userId': 3,\n",
       "  'id': 51,\n",
       "  'title': 'distinctio exercitationem ab doloribus',\n",
       "  'completed': False},\n",
       " {'userId': 3,\n",
       "  'id': 52,\n",
       "  'title': 'nesciunt dolorum quis recusandae ad pariatur ratione',\n",
       "  'completed': False},\n",
       " {'userId': 3,\n",
       "  'id': 53,\n",
       "  'title': 'qui labore est occaecati recusandae aliquid quam',\n",
       "  'completed': False},\n",
       " {'userId': 3,\n",
       "  'id': 54,\n",
       "  'title': 'quis et est ut voluptate quam dolor',\n",
       "  'completed': True},\n",
       " {'userId': 3,\n",
       "  'id': 55,\n",
       "  'title': 'voluptatum omnis minima qui occaecati provident nulla voluptatem ratione',\n",
       "  'completed': True},\n",
       " {'userId': 3,\n",
       "  'id': 56,\n",
       "  'title': 'deleniti ea temporibus enim',\n",
       "  'completed': True},\n",
       " {'userId': 3,\n",
       "  'id': 57,\n",
       "  'title': 'pariatur et magnam ea doloribus similique voluptatem rerum quia',\n",
       "  'completed': False},\n",
       " {'userId': 3,\n",
       "  'id': 58,\n",
       "  'title': 'est dicta totam qui explicabo doloribus qui dignissimos',\n",
       "  'completed': False},\n",
       " {'userId': 3,\n",
       "  'id': 59,\n",
       "  'title': 'perspiciatis velit id laborum placeat iusto et aliquam odio',\n",
       "  'completed': False},\n",
       " {'userId': 3,\n",
       "  'id': 60,\n",
       "  'title': 'et sequi qui architecto ut adipisci',\n",
       "  'completed': True},\n",
       " {'userId': 4,\n",
       "  'id': 61,\n",
       "  'title': 'odit optio omnis qui sunt',\n",
       "  'completed': True},\n",
       " {'userId': 4,\n",
       "  'id': 62,\n",
       "  'title': 'et placeat et tempore aspernatur sint numquam',\n",
       "  'completed': False},\n",
       " {'userId': 4,\n",
       "  'id': 63,\n",
       "  'title': 'doloremque aut dolores quidem fuga qui nulla',\n",
       "  'completed': True},\n",
       " {'userId': 4,\n",
       "  'id': 64,\n",
       "  'title': 'voluptas consequatur qui ut quia magnam nemo esse',\n",
       "  'completed': False},\n",
       " {'userId': 4,\n",
       "  'id': 65,\n",
       "  'title': 'fugiat pariatur ratione ut asperiores necessitatibus magni',\n",
       "  'completed': False},\n",
       " {'userId': 4,\n",
       "  'id': 66,\n",
       "  'title': 'rerum eum molestias autem voluptatum sit optio',\n",
       "  'completed': False},\n",
       " {'userId': 4,\n",
       "  'id': 67,\n",
       "  'title': 'quia voluptatibus voluptatem quos similique maiores repellat',\n",
       "  'completed': False},\n",
       " {'userId': 4,\n",
       "  'id': 68,\n",
       "  'title': 'aut id perspiciatis voluptatem iusto',\n",
       "  'completed': False},\n",
       " {'userId': 4,\n",
       "  'id': 69,\n",
       "  'title': 'doloribus sint dolorum ab adipisci itaque dignissimos aliquam suscipit',\n",
       "  'completed': False},\n",
       " {'userId': 4,\n",
       "  'id': 70,\n",
       "  'title': 'ut sequi accusantium et mollitia delectus sunt',\n",
       "  'completed': False},\n",
       " {'userId': 4, 'id': 71, 'title': 'aut velit saepe ullam', 'completed': False},\n",
       " {'userId': 4,\n",
       "  'id': 72,\n",
       "  'title': 'praesentium facilis facere quis harum voluptatibus voluptatem eum',\n",
       "  'completed': False},\n",
       " {'userId': 4,\n",
       "  'id': 73,\n",
       "  'title': 'sint amet quia totam corporis qui exercitationem commodi',\n",
       "  'completed': True},\n",
       " {'userId': 4,\n",
       "  'id': 74,\n",
       "  'title': 'expedita tempore nobis eveniet laborum maiores',\n",
       "  'completed': False},\n",
       " {'userId': 4,\n",
       "  'id': 75,\n",
       "  'title': 'occaecati adipisci est possimus totam',\n",
       "  'completed': False},\n",
       " {'userId': 4, 'id': 76, 'title': 'sequi dolorem sed', 'completed': True},\n",
       " {'userId': 4,\n",
       "  'id': 77,\n",
       "  'title': 'maiores aut nesciunt delectus exercitationem vel assumenda eligendi at',\n",
       "  'completed': False},\n",
       " {'userId': 4,\n",
       "  'id': 78,\n",
       "  'title': 'reiciendis est magnam amet nemo iste recusandae impedit quaerat',\n",
       "  'completed': False},\n",
       " {'userId': 4, 'id': 79, 'title': 'eum ipsa maxime ut', 'completed': True},\n",
       " {'userId': 4,\n",
       "  'id': 80,\n",
       "  'title': 'tempore molestias dolores rerum sequi voluptates ipsum consequatur',\n",
       "  'completed': True},\n",
       " {'userId': 5, 'id': 81, 'title': 'suscipit qui totam', 'completed': True},\n",
       " {'userId': 5,\n",
       "  'id': 82,\n",
       "  'title': 'voluptates eum voluptas et dicta',\n",
       "  'completed': False},\n",
       " {'userId': 5,\n",
       "  'id': 83,\n",
       "  'title': 'quidem at rerum quis ex aut sit quam',\n",
       "  'completed': True},\n",
       " {'userId': 5,\n",
       "  'id': 84,\n",
       "  'title': 'sunt veritatis ut voluptate',\n",
       "  'completed': False},\n",
       " {'userId': 5, 'id': 85, 'title': 'et quia ad iste a', 'completed': True},\n",
       " {'userId': 5,\n",
       "  'id': 86,\n",
       "  'title': 'incidunt ut saepe autem',\n",
       "  'completed': True},\n",
       " {'userId': 5,\n",
       "  'id': 87,\n",
       "  'title': 'laudantium quae eligendi consequatur quia et vero autem',\n",
       "  'completed': True},\n",
       " {'userId': 5,\n",
       "  'id': 88,\n",
       "  'title': 'vitae aut excepturi laboriosam sint aliquam et et accusantium',\n",
       "  'completed': False},\n",
       " {'userId': 5, 'id': 89, 'title': 'sequi ut omnis et', 'completed': True},\n",
       " {'userId': 5,\n",
       "  'id': 90,\n",
       "  'title': 'molestiae nisi accusantium tenetur dolorem et',\n",
       "  'completed': True},\n",
       " {'userId': 5,\n",
       "  'id': 91,\n",
       "  'title': 'nulla quis consequatur saepe qui id expedita',\n",
       "  'completed': True},\n",
       " {'userId': 5, 'id': 92, 'title': 'in omnis laboriosam', 'completed': True},\n",
       " {'userId': 5,\n",
       "  'id': 93,\n",
       "  'title': 'odio iure consequatur molestiae quibusdam necessitatibus quia sint',\n",
       "  'completed': True},\n",
       " {'userId': 5,\n",
       "  'id': 94,\n",
       "  'title': 'facilis modi saepe mollitia',\n",
       "  'completed': False},\n",
       " {'userId': 5,\n",
       "  'id': 95,\n",
       "  'title': 'vel nihil et molestiae iusto assumenda nemo quo ut',\n",
       "  'completed': True},\n",
       " {'userId': 5,\n",
       "  'id': 96,\n",
       "  'title': 'nobis suscipit ducimus enim asperiores voluptas',\n",
       "  'completed': False},\n",
       " {'userId': 5,\n",
       "  'id': 97,\n",
       "  'title': 'dolorum laboriosam eos qui iure aliquam',\n",
       "  'completed': False},\n",
       " {'userId': 5,\n",
       "  'id': 98,\n",
       "  'title': 'debitis accusantium ut quo facilis nihil quis sapiente necessitatibus',\n",
       "  'completed': True},\n",
       " {'userId': 5,\n",
       "  'id': 99,\n",
       "  'title': 'neque voluptates ratione',\n",
       "  'completed': False},\n",
       " {'userId': 5,\n",
       "  'id': 100,\n",
       "  'title': 'excepturi a et neque qui expedita vel voluptate',\n",
       "  'completed': False},\n",
       " {'userId': 6,\n",
       "  'id': 101,\n",
       "  'title': 'explicabo enim cumque porro aperiam occaecati minima',\n",
       "  'completed': False},\n",
       " {'userId': 6, 'id': 102, 'title': 'sed ab consequatur', 'completed': False},\n",
       " {'userId': 6,\n",
       "  'id': 103,\n",
       "  'title': 'non sunt delectus illo nulla tenetur enim omnis',\n",
       "  'completed': False},\n",
       " {'userId': 6,\n",
       "  'id': 104,\n",
       "  'title': 'excepturi non laudantium quo',\n",
       "  'completed': False},\n",
       " {'userId': 6,\n",
       "  'id': 105,\n",
       "  'title': 'totam quia dolorem et illum repellat voluptas optio',\n",
       "  'completed': True},\n",
       " {'userId': 6,\n",
       "  'id': 106,\n",
       "  'title': 'ad illo quis voluptatem temporibus',\n",
       "  'completed': True},\n",
       " {'userId': 6,\n",
       "  'id': 107,\n",
       "  'title': 'praesentium facilis omnis laudantium fugit ad iusto nihil nesciunt',\n",
       "  'completed': False},\n",
       " {'userId': 6,\n",
       "  'id': 108,\n",
       "  'title': 'a eos eaque nihil et exercitationem incidunt delectus',\n",
       "  'completed': True},\n",
       " {'userId': 6,\n",
       "  'id': 109,\n",
       "  'title': 'autem temporibus harum quisquam in culpa',\n",
       "  'completed': True},\n",
       " {'userId': 6, 'id': 110, 'title': 'aut aut ea corporis', 'completed': True},\n",
       " {'userId': 6,\n",
       "  'id': 111,\n",
       "  'title': 'magni accusantium labore et id quis provident',\n",
       "  'completed': False},\n",
       " {'userId': 6,\n",
       "  'id': 112,\n",
       "  'title': 'consectetur impedit quisquam qui deserunt non rerum consequuntur eius',\n",
       "  'completed': False},\n",
       " {'userId': 6,\n",
       "  'id': 113,\n",
       "  'title': 'quia atque aliquam sunt impedit voluptatum rerum assumenda nisi',\n",
       "  'completed': False},\n",
       " {'userId': 6,\n",
       "  'id': 114,\n",
       "  'title': 'cupiditate quos possimus corporis quisquam exercitationem beatae',\n",
       "  'completed': False},\n",
       " {'userId': 6, 'id': 115, 'title': 'sed et ea eum', 'completed': False},\n",
       " {'userId': 6,\n",
       "  'id': 116,\n",
       "  'title': 'ipsa dolores vel facilis ut',\n",
       "  'completed': True},\n",
       " {'userId': 6,\n",
       "  'id': 117,\n",
       "  'title': 'sequi quae est et qui qui eveniet asperiores',\n",
       "  'completed': False},\n",
       " {'userId': 6,\n",
       "  'id': 118,\n",
       "  'title': 'quia modi consequatur vero fugiat',\n",
       "  'completed': False},\n",
       " {'userId': 6,\n",
       "  'id': 119,\n",
       "  'title': 'corporis ducimus ea perspiciatis iste',\n",
       "  'completed': False},\n",
       " {'userId': 6,\n",
       "  'id': 120,\n",
       "  'title': 'dolorem laboriosam vel voluptas et aliquam quasi',\n",
       "  'completed': False},\n",
       " {'userId': 7,\n",
       "  'id': 121,\n",
       "  'title': 'inventore aut nihil minima laudantium hic qui omnis',\n",
       "  'completed': True},\n",
       " {'userId': 7,\n",
       "  'id': 122,\n",
       "  'title': 'provident aut nobis culpa',\n",
       "  'completed': True},\n",
       " {'userId': 7,\n",
       "  'id': 123,\n",
       "  'title': 'esse et quis iste est earum aut impedit',\n",
       "  'completed': False},\n",
       " {'userId': 7, 'id': 124, 'title': 'qui consectetur id', 'completed': False},\n",
       " {'userId': 7,\n",
       "  'id': 125,\n",
       "  'title': 'aut quasi autem iste tempore illum possimus',\n",
       "  'completed': False},\n",
       " {'userId': 7,\n",
       "  'id': 126,\n",
       "  'title': 'ut asperiores perspiciatis veniam ipsum rerum saepe',\n",
       "  'completed': True},\n",
       " {'userId': 7,\n",
       "  'id': 127,\n",
       "  'title': 'voluptatem libero consectetur rerum ut',\n",
       "  'completed': True},\n",
       " {'userId': 7,\n",
       "  'id': 128,\n",
       "  'title': 'eius omnis est qui voluptatem autem',\n",
       "  'completed': False},\n",
       " {'userId': 7,\n",
       "  'id': 129,\n",
       "  'title': 'rerum culpa quis harum',\n",
       "  'completed': False},\n",
       " {'userId': 7,\n",
       "  'id': 130,\n",
       "  'title': 'nulla aliquid eveniet harum laborum libero alias ut unde',\n",
       "  'completed': True},\n",
       " {'userId': 7, 'id': 131, 'title': 'qui ea incidunt quis', 'completed': False},\n",
       " {'userId': 7,\n",
       "  'id': 132,\n",
       "  'title': 'qui molestiae voluptatibus velit iure harum quisquam',\n",
       "  'completed': True},\n",
       " {'userId': 7,\n",
       "  'id': 133,\n",
       "  'title': 'et labore eos enim rerum consequatur sunt',\n",
       "  'completed': True},\n",
       " {'userId': 7,\n",
       "  'id': 134,\n",
       "  'title': 'molestiae doloribus et laborum quod ea',\n",
       "  'completed': False},\n",
       " {'userId': 7,\n",
       "  'id': 135,\n",
       "  'title': 'facere ipsa nam eum voluptates reiciendis vero qui',\n",
       "  'completed': False},\n",
       " {'userId': 7,\n",
       "  'id': 136,\n",
       "  'title': 'asperiores illo tempora fuga sed ut quasi adipisci',\n",
       "  'completed': False},\n",
       " {'userId': 7, 'id': 137, 'title': 'qui sit non', 'completed': False},\n",
       " {'userId': 7,\n",
       "  'id': 138,\n",
       "  'title': 'placeat minima consequatur rem qui ut',\n",
       "  'completed': True},\n",
       " {'userId': 7,\n",
       "  'id': 139,\n",
       "  'title': 'consequatur doloribus id possimus voluptas a voluptatem',\n",
       "  'completed': False},\n",
       " {'userId': 7,\n",
       "  'id': 140,\n",
       "  'title': 'aut consectetur in blanditiis deserunt quia sed laboriosam',\n",
       "  'completed': True},\n",
       " {'userId': 8,\n",
       "  'id': 141,\n",
       "  'title': 'explicabo consectetur debitis voluptates quas quae culpa rerum non',\n",
       "  'completed': True},\n",
       " {'userId': 8,\n",
       "  'id': 142,\n",
       "  'title': 'maiores accusantium architecto necessitatibus reiciendis ea aut',\n",
       "  'completed': True},\n",
       " {'userId': 8,\n",
       "  'id': 143,\n",
       "  'title': 'eum non recusandae cupiditate animi',\n",
       "  'completed': False},\n",
       " {'userId': 8,\n",
       "  'id': 144,\n",
       "  'title': 'ut eum exercitationem sint',\n",
       "  'completed': False},\n",
       " {'userId': 8,\n",
       "  'id': 145,\n",
       "  'title': 'beatae qui ullam incidunt voluptatem non nisi aliquam',\n",
       "  'completed': False},\n",
       " {'userId': 8,\n",
       "  'id': 146,\n",
       "  'title': 'molestiae suscipit ratione nihil odio libero impedit vero totam',\n",
       "  'completed': True},\n",
       " {'userId': 8,\n",
       "  'id': 147,\n",
       "  'title': 'eum itaque quod reprehenderit et facilis dolor autem ut',\n",
       "  'completed': True},\n",
       " {'userId': 8,\n",
       "  'id': 148,\n",
       "  'title': 'esse quas et quo quasi exercitationem',\n",
       "  'completed': False},\n",
       " {'userId': 8,\n",
       "  'id': 149,\n",
       "  'title': 'animi voluptas quod perferendis est',\n",
       "  'completed': False},\n",
       " {'userId': 8,\n",
       "  'id': 150,\n",
       "  'title': 'eos amet tempore laudantium fugit a',\n",
       "  'completed': False},\n",
       " {'userId': 8,\n",
       "  'id': 151,\n",
       "  'title': 'accusamus adipisci dicta qui quo ea explicabo sed vero',\n",
       "  'completed': True},\n",
       " {'userId': 8,\n",
       "  'id': 152,\n",
       "  'title': 'odit eligendi recusandae doloremque cumque non',\n",
       "  'completed': False},\n",
       " {'userId': 8,\n",
       "  'id': 153,\n",
       "  'title': 'ea aperiam consequatur qui repellat eos',\n",
       "  'completed': False},\n",
       " {'userId': 8, 'id': 154, 'title': 'rerum non ex sapiente', 'completed': True},\n",
       " {'userId': 8,\n",
       "  'id': 155,\n",
       "  'title': 'voluptatem nobis consequatur et assumenda magnam',\n",
       "  'completed': True},\n",
       " {'userId': 8,\n",
       "  'id': 156,\n",
       "  'title': 'nam quia quia nulla repellat assumenda quibusdam sit nobis',\n",
       "  'completed': True},\n",
       " {'userId': 8,\n",
       "  'id': 157,\n",
       "  'title': 'dolorem veniam quisquam deserunt repellendus',\n",
       "  'completed': True},\n",
       " {'userId': 8,\n",
       "  'id': 158,\n",
       "  'title': 'debitis vitae delectus et harum accusamus aut deleniti a',\n",
       "  'completed': True},\n",
       " {'userId': 8,\n",
       "  'id': 159,\n",
       "  'title': 'debitis adipisci quibusdam aliquam sed dolore ea praesentium nobis',\n",
       "  'completed': True},\n",
       " {'userId': 8,\n",
       "  'id': 160,\n",
       "  'title': 'et praesentium aliquam est',\n",
       "  'completed': False},\n",
       " {'userId': 9,\n",
       "  'id': 161,\n",
       "  'title': 'ex hic consequuntur earum omnis alias ut occaecati culpa',\n",
       "  'completed': True},\n",
       " {'userId': 9,\n",
       "  'id': 162,\n",
       "  'title': 'omnis laboriosam molestias animi sunt dolore',\n",
       "  'completed': True},\n",
       " {'userId': 9,\n",
       "  'id': 163,\n",
       "  'title': 'natus corrupti maxime laudantium et voluptatem laboriosam odit',\n",
       "  'completed': False},\n",
       " {'userId': 9,\n",
       "  'id': 164,\n",
       "  'title': 'reprehenderit quos aut aut consequatur est sed',\n",
       "  'completed': False},\n",
       " {'userId': 9,\n",
       "  'id': 165,\n",
       "  'title': 'fugiat perferendis sed aut quidem',\n",
       "  'completed': False},\n",
       " {'userId': 9,\n",
       "  'id': 166,\n",
       "  'title': 'quos quo possimus suscipit minima ut',\n",
       "  'completed': False},\n",
       " {'userId': 9,\n",
       "  'id': 167,\n",
       "  'title': 'et quis minus quo a asperiores molestiae',\n",
       "  'completed': False},\n",
       " {'userId': 9,\n",
       "  'id': 168,\n",
       "  'title': 'recusandae quia qui sunt libero',\n",
       "  'completed': False},\n",
       " {'userId': 9,\n",
       "  'id': 169,\n",
       "  'title': 'ea odio perferendis officiis',\n",
       "  'completed': True},\n",
       " {'userId': 9,\n",
       "  'id': 170,\n",
       "  'title': 'quisquam aliquam quia doloribus aut',\n",
       "  'completed': False},\n",
       " {'userId': 9,\n",
       "  'id': 171,\n",
       "  'title': 'fugiat aut voluptatibus corrupti deleniti velit iste odio',\n",
       "  'completed': True},\n",
       " {'userId': 9,\n",
       "  'id': 172,\n",
       "  'title': 'et provident amet rerum consectetur et voluptatum',\n",
       "  'completed': False},\n",
       " {'userId': 9,\n",
       "  'id': 173,\n",
       "  'title': 'harum ad aperiam quis',\n",
       "  'completed': False},\n",
       " {'userId': 9, 'id': 174, 'title': 'similique aut quo', 'completed': False},\n",
       " {'userId': 9,\n",
       "  'id': 175,\n",
       "  'title': 'laudantium eius officia perferendis provident perspiciatis asperiores',\n",
       "  'completed': True},\n",
       " {'userId': 9,\n",
       "  'id': 176,\n",
       "  'title': 'magni soluta corrupti ut maiores rem quidem',\n",
       "  'completed': False},\n",
       " {'userId': 9,\n",
       "  'id': 177,\n",
       "  'title': 'et placeat temporibus voluptas est tempora quos quibusdam',\n",
       "  'completed': False},\n",
       " {'userId': 9,\n",
       "  'id': 178,\n",
       "  'title': 'nesciunt itaque commodi tempore',\n",
       "  'completed': True},\n",
       " {'userId': 9,\n",
       "  'id': 179,\n",
       "  'title': 'omnis consequuntur cupiditate impedit itaque ipsam quo',\n",
       "  'completed': True},\n",
       " {'userId': 9,\n",
       "  'id': 180,\n",
       "  'title': 'debitis nisi et dolorem repellat et',\n",
       "  'completed': True},\n",
       " {'userId': 10,\n",
       "  'id': 181,\n",
       "  'title': 'ut cupiditate sequi aliquam fuga maiores',\n",
       "  'completed': False},\n",
       " {'userId': 10,\n",
       "  'id': 182,\n",
       "  'title': 'inventore saepe cumque et aut illum enim',\n",
       "  'completed': True},\n",
       " {'userId': 10,\n",
       "  'id': 183,\n",
       "  'title': 'omnis nulla eum aliquam distinctio',\n",
       "  'completed': True},\n",
       " {'userId': 10,\n",
       "  'id': 184,\n",
       "  'title': 'molestias modi perferendis perspiciatis',\n",
       "  'completed': False},\n",
       " {'userId': 10,\n",
       "  'id': 185,\n",
       "  'title': 'voluptates dignissimos sed doloribus animi quaerat aut',\n",
       "  'completed': False},\n",
       " {'userId': 10,\n",
       "  'id': 186,\n",
       "  'title': 'explicabo odio est et',\n",
       "  'completed': False},\n",
       " {'userId': 10,\n",
       "  'id': 187,\n",
       "  'title': 'consequuntur animi possimus',\n",
       "  'completed': False},\n",
       " {'userId': 10, 'id': 188, 'title': 'vel non beatae est', 'completed': True},\n",
       " {'userId': 10,\n",
       "  'id': 189,\n",
       "  'title': 'culpa eius et voluptatem et',\n",
       "  'completed': True},\n",
       " {'userId': 10,\n",
       "  'id': 190,\n",
       "  'title': 'accusamus sint iusto et voluptatem exercitationem',\n",
       "  'completed': True},\n",
       " {'userId': 10,\n",
       "  'id': 191,\n",
       "  'title': 'temporibus atque distinctio omnis eius impedit tempore molestias pariatur',\n",
       "  'completed': True},\n",
       " {'userId': 10,\n",
       "  'id': 192,\n",
       "  'title': 'ut quas possimus exercitationem sint voluptates',\n",
       "  'completed': False},\n",
       " {'userId': 10,\n",
       "  'id': 193,\n",
       "  'title': 'rerum debitis voluptatem qui eveniet tempora distinctio a',\n",
       "  'completed': True},\n",
       " {'userId': 10,\n",
       "  'id': 194,\n",
       "  'title': 'sed ut vero sit molestiae',\n",
       "  'completed': False},\n",
       " {'userId': 10,\n",
       "  'id': 195,\n",
       "  'title': 'rerum ex veniam mollitia voluptatibus pariatur',\n",
       "  'completed': True},\n",
       " {'userId': 10,\n",
       "  'id': 196,\n",
       "  'title': 'consequuntur aut ut fugit similique',\n",
       "  'completed': True},\n",
       " {'userId': 10,\n",
       "  'id': 197,\n",
       "  'title': 'dignissimos quo nobis earum saepe',\n",
       "  'completed': True},\n",
       " {'userId': 10,\n",
       "  'id': 198,\n",
       "  'title': 'quis eius est sint explicabo',\n",
       "  'completed': True},\n",
       " {'userId': 10,\n",
       "  'id': 199,\n",
       "  'title': 'numquam repellendus a magnam',\n",
       "  'completed': True},\n",
       " {'userId': 10,\n",
       "  'id': 200,\n",
       "  'title': 'ipsam aperiam voluptates qui',\n",
       "  'completed': False}]"
      ]
     },
     "execution_count": 33,
     "metadata": {},
     "output_type": "execute_result"
    }
   ],
   "source": [
    "import json\n",
    "todos = json.loads(response.text)\n",
    "print(type(todos))\n",
    "todos"
   ]
  },
  {
   "cell_type": "markdown",
   "metadata": {},
   "source": [
    "### Weer zonder api_key"
   ]
  },
  {
   "cell_type": "code",
   "execution_count": 17,
   "metadata": {},
   "outputs": [
    {
     "data": {
      "text/plain": [
       "<Response [200]>"
      ]
     },
     "execution_count": 17,
     "metadata": {},
     "output_type": "execute_result"
    }
   ],
   "source": [
    "import requests\n",
    "url = 'https://goweather.herokuapp.com/weather/Amsterdam'\n",
    "response = requests.get(url)\n",
    "response"
   ]
  },
  {
   "cell_type": "code",
   "execution_count": 23,
   "metadata": {},
   "outputs": [
    {
     "name": "stdout",
     "output_type": "stream",
     "text": [
      "['__attrs__', '__bool__', '__class__', '__delattr__', '__dict__', '__dir__', '__doc__', '__enter__', '__eq__', '__exit__', '__format__', '__ge__', '__getattribute__', '__getstate__', '__gt__', '__hash__', '__init__', '__init_subclass__', '__iter__', '__le__', '__lt__', '__module__', '__ne__', '__new__', '__nonzero__', '__reduce__', '__reduce_ex__', '__repr__', '__setattr__', '__setstate__', '__sizeof__', '__str__', '__subclasshook__', '__weakref__', '_content', '_content_consumed', '_next', 'apparent_encoding', 'close', 'connection', 'content', 'cookies', 'elapsed', 'encoding', 'headers', 'history', 'is_permanent_redirect', 'is_redirect', 'iter_content', 'iter_lines', 'json', 'links', 'next', 'ok', 'raise_for_status', 'raw', 'reason', 'request', 'status_code', 'text', 'url']\n"
     ]
    }
   ],
   "source": [
    "print(dir(response))"
   ]
  },
  {
   "cell_type": "code",
   "execution_count": 18,
   "metadata": {},
   "outputs": [
    {
     "data": {
      "text/plain": [
       "'{\"temperature\":\"16 °C\",\"wind\":\"20 km/h\",\"description\":\"Partly cloudy\",\"forecast\":[{\"day\":\"1\",\"temperature\":\"+14 °C\",\"wind\":\"14 km/h\"},{\"day\":\"2\",\"temperature\":\"14 °C\",\"wind\":\"14 km/h\"},{\"day\":\"3\",\"temperature\":\"10 °C\",\"wind\":\"17 km/h\"}]}'"
      ]
     },
     "execution_count": 18,
     "metadata": {},
     "output_type": "execute_result"
    }
   ],
   "source": [
    "response.text"
   ]
  },
  {
   "cell_type": "code",
   "execution_count": 24,
   "metadata": {},
   "outputs": [
    {
     "data": {
      "text/plain": [
       "<bound method Response.json of <Response [200]>>"
      ]
     },
     "execution_count": 24,
     "metadata": {},
     "output_type": "execute_result"
    }
   ],
   "source": [
    "response.json"
   ]
  },
  {
   "cell_type": "code",
   "execution_count": 25,
   "metadata": {},
   "outputs": [
    {
     "data": {
      "text/plain": [
       "str"
      ]
     },
     "execution_count": 25,
     "metadata": {},
     "output_type": "execute_result"
    }
   ],
   "source": [
    "type(response.text)"
   ]
  },
  {
   "cell_type": "code",
   "execution_count": 47,
   "metadata": {},
   "outputs": [
    {
     "name": "stdout",
     "output_type": "stream",
     "text": [
      "<class 'dict'>\n"
     ]
    },
    {
     "data": {
      "text/plain": [
       "{'temperature': '16 °C',\n",
       " 'wind': '20 km/h',\n",
       " 'description': 'Partly cloudy',\n",
       " 'forecast': [{'day': '1', 'temperature': '+14 °C', 'wind': '14 km/h'},\n",
       "  {'day': '2', 'temperature': '14 °C', 'wind': '14 km/h'},\n",
       "  {'day': '3', 'temperature': '10 °C', 'wind': '17 km/h'}]}"
      ]
     },
     "execution_count": 47,
     "metadata": {},
     "output_type": "execute_result"
    }
   ],
   "source": [
    "import json\n",
    "weer = json.loads(response.text)\n",
    "print(type(weer))\n",
    "weer"
   ]
  },
  {
   "cell_type": "code",
   "execution_count": 53,
   "metadata": {},
   "outputs": [
    {
     "data": {
      "text/plain": [
       "['temperature', 'wind', 'description', 'forecast']"
      ]
     },
     "execution_count": 53,
     "metadata": {},
     "output_type": "execute_result"
    }
   ],
   "source": [
    "list(weer.keys())"
   ]
  },
  {
   "cell_type": "code",
   "execution_count": 52,
   "metadata": {},
   "outputs": [
    {
     "data": {
      "text/plain": [
       "dict_values(['16 °C', '20 km/h', 'Partly cloudy', [{'day': '1', 'temperature': '+14 °C', 'wind': '14 km/h'}, {'day': '2', 'temperature': '14 °C', 'wind': '14 km/h'}, {'day': '3', 'temperature': '10 °C', 'wind': '17 km/h'}]])"
      ]
     },
     "execution_count": 52,
     "metadata": {},
     "output_type": "execute_result"
    }
   ],
   "source": [
    "weer.values()"
   ]
  },
  {
   "cell_type": "code",
   "execution_count": 45,
   "metadata": {},
   "outputs": [
    {
     "name": "stdout",
     "output_type": "stream",
     "text": [
      "De temperatuur is: 16 °C\n",
      "De temperatuur is: 16 °C\n",
      "Morgen wordt het +14 °C\n"
     ]
    }
   ],
   "source": [
    "temperatuur = weer['temperature'] \n",
    "wind = weer['wind']\n",
    "print(f\"De temperatuur is: {temperatuur}\")\n",
    "print(\"De temperatuur is:\", temperatuur)\n",
    "print(f\"Morgen wordt het {weer['forecast'][0]['temperature']}\")"
   ]
  },
  {
   "cell_type": "code",
   "execution_count": null,
   "metadata": {},
   "outputs": [],
   "source": []
  },
  {
   "cell_type": "markdown",
   "metadata": {},
   "source": [
    "### Weer met api_key"
   ]
  },
  {
   "cell_type": "code",
   "execution_count": 5,
   "metadata": {
    "scrolled": true
   },
   "outputs": [
    {
     "data": {
      "text/plain": [
       "[{'plaats': 'Amsterdam',\n",
       "  'temp': '15.0',\n",
       "  'gtemp': '12',\n",
       "  'samenv': 'Geheel bewolkt',\n",
       "  'lv': '77',\n",
       "  'windr': 'NNO',\n",
       "  'windrgr': '22',\n",
       "  'windms': '5',\n",
       "  'winds': '3',\n",
       "  'windk': '9.7',\n",
       "  'windkmh': '18',\n",
       "  'luchtd': '1013.6',\n",
       "  'ldmmhg': '760',\n",
       "  'dauwp': '11',\n",
       "  'zicht': '35',\n",
       "  'verw': 'Af en toe regen, van het noordwesten uit droog. Zondag nog een enkele bui',\n",
       "  'sup': '07:28',\n",
       "  'sunder': '19:37',\n",
       "  'image': 'bewolkt',\n",
       "  'd0weer': 'bewolkt',\n",
       "  'd0tmax': '15',\n",
       "  'd0tmin': '12',\n",
       "  'd0windk': '2',\n",
       "  'd0windknp': '6',\n",
       "  'd0windms': '3',\n",
       "  'd0windkmh': '11',\n",
       "  'd0windr': 'NO',\n",
       "  'd0windrgr': '44',\n",
       "  'd0neerslag': '4',\n",
       "  'd0zon': '11',\n",
       "  'd1weer': 'halfbewolkt',\n",
       "  'd1tmax': '16',\n",
       "  'd1tmin': '8',\n",
       "  'd1windk': '2',\n",
       "  'd1windknp': '6',\n",
       "  'd1windms': '3',\n",
       "  'd1windkmh': '11',\n",
       "  'd1windr': 'N',\n",
       "  'd1windrgr': '0',\n",
       "  'd1neerslag': '40',\n",
       "  'd1zon': '30',\n",
       "  'd2weer': 'regen',\n",
       "  'd2tmax': '14',\n",
       "  'd2tmin': '11',\n",
       "  'd2windk': '3',\n",
       "  'd2windknp': '8',\n",
       "  'd2windms': '4',\n",
       "  'd2windkmh': '15',\n",
       "  'd2windr': 'ZW',\n",
       "  'd2windrgr': '225',\n",
       "  'd2neerslag': '90',\n",
       "  'd2zon': '20',\n",
       "  'alarm': '0'}]"
      ]
     },
     "execution_count": 5,
     "metadata": {},
     "output_type": "execute_result"
    }
   ],
   "source": [
    "import requests\n",
    "def weersverwachting(api_key=None, plaats=None):\n",
    "    assert api_key is not None, 'Geef je API key op'\n",
    "    plaats = plaats or 'Amsterdam'\n",
    "    \n",
    "    BASE_URL = 'https://weerlive.nl/api/json-data-10min.php?'\n",
    "    verwachting = requests.get(f\"{BASE_URL}key={api_key}&locatie={plaats}\").json().get('liveweer')\n",
    "    \n",
    "    return verwachting #[0]\n",
    "weersverwachting('demo')\n",
    "#def samenvatting(api_key=None, plaats=None):"
   ]
  },
  {
   "cell_type": "code",
   "execution_count": 26,
   "metadata": {},
   "outputs": [
    {
     "ename": "NameError",
     "evalue": "name 'BASE_URL' is not defined",
     "output_type": "error",
     "traceback": [
      "\u001b[0;31m---------------------------------------------------------------------------\u001b[0m",
      "\u001b[0;31mNameError\u001b[0m                                 Traceback (most recent call last)",
      "Input \u001b[0;32mIn [26]\u001b[0m, in \u001b[0;36m<cell line: 1>\u001b[0;34m()\u001b[0m\n\u001b[0;32m----> 1\u001b[0m req \u001b[38;5;241m=\u001b[39m \u001b[38;5;28mprint\u001b[39m(\u001b[38;5;124mf\u001b[39m\u001b[38;5;124m'\u001b[39m\u001b[38;5;132;01m{\u001b[39;00mBASE_URL\u001b[38;5;132;01m}\u001b[39;00m\u001b[38;5;124mkey=\u001b[39m\u001b[38;5;132;01m{\u001b[39;00mapi_key\u001b[38;5;132;01m}\u001b[39;00m\u001b[38;5;124m&locatie=\u001b[39m\u001b[38;5;132;01m{\u001b[39;00mplaats\u001b[38;5;132;01m}\u001b[39;00m\u001b[38;5;124m'\u001b[39m)\n\u001b[1;32m      2\u001b[0m req\n",
      "\u001b[0;31mNameError\u001b[0m: name 'BASE_URL' is not defined"
     ]
    }
   ],
   "source": [
    "req = print(f'{BASE_URL}key={api_key}&locatie={plaats}')\n",
    "req"
   ]
  },
  {
   "cell_type": "code",
   "execution_count": 4,
   "metadata": {},
   "outputs": [
    {
     "data": {
      "text/plain": [
       "'<!doctype html>\\n<html>\\n<head>\\n    <title>Bloomberg - Are you a robot?</title>\\n    <meta name=\"viewport\" content=\"width=device-width, initial-scale=1\">\\n    <link rel=\"stylesheet\" type=\"text/css\" href=\"https://assets.bwbx.io/font-service/css/BWHaasGrotesk-55Roman-Web,BWHaasGrotesk-75Bold-Web,BW%20Haas%20Text%20Mono%20A-55%20Roman/font-face.css\">\\n    <style rel=\"stylesheet\" type=\"text/css\">\\n        html, body, div, span, applet, object, iframe,\\n        h1, h2, h3, h4, h5, h6, p, blockquote, pre,\\n        a, abbr, acronym, address, big, cite, code,\\n        del, dfn, em, img, ins, kbd, q, s, samp,\\n        small, strike, strong, sub, sup, tt, var,\\n        b, u, i, center,\\n        dl, dt, dd, ol, ul, li,\\n        fieldset, form, label, legend,\\n        table, caption, tbody, tfoot, thead, tr, th, td,\\n        article, aside, canvas, details, embed,\\n        figure, figcaption, footer, header, hgroup,\\n        menu, nav, output, ruby, section, summary,\\n        time, mark, audio, video {\\n            margin: 0;\\n            padding: 0;\\n            border: 0;\\n            font-size: 100%;\\n            font: inherit;\\n            vertical-align: baseline;\\n        }\\n        /* HTML5 display-role reset for older browsers */\\n        article, aside, details, figcaption, figure,\\n        footer, header, hgroup, menu, nav, section {\\n            display: block;\\n        }\\n        body {\\n            line-height: 1;\\n        }\\n        ol, ul {\\n            list-style: none;\\n        }\\n        blockquote, q {\\n            quotes: none;\\n        }\\n        blockquote:before, blockquote:after,\\n        q:before, q:after {\\n            content: \\'\\';\\n            content: none;\\n        }\\n        table {\\n            border-collapse: collapse;\\n            border-spacing: 0;\\n        }\\n\\n        * {\\n            box-sizing: border-box;\\n        }\\n\\n        body {\\n            background-color: #f2f2f2;\\n            font-family: \"BWHaasGrotesk-55Roman-Web\";\\n            line-height: 1.2;\\n        }\\n\\n        .header {\\n            margin: 0;\\n            height: 60px;\\n            width: 100%;\\n            background-color: black;\\n            color: white;\\n            overflow-x: hidden;\\n        }\\n\\n        .logo {\\n            float: left;\\n            margin: 0 20px;\\n            height: 60px;\\n            width: 140px;\\n            background-image: url(\\'data:image/svg+xml;base64,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\\');\\n            background-repeat: no-repeat;\\n            background-position: center;\\n            font-size: 0;\\n        }\\n\\n        .contact-us {\\n            float: right;\\n            margin: 0 20px;\\n            line-height: 60px;\\n            font-family: \"BWHaasGrotesk-55Roman-Web\";\\n            font-size: 14px;\\n            color: white;\\n            text-decoration: underline;\\n        }\\n\\n        .box {\\n            margin: 30px auto;\\n            padding: 30px;\\n            width: 680px;\\n            background-color: white;\\n        }\\n\\n        @media (max-width:760px) {\\n            .box {\\n                width: calc(100% - 20px);\\n            }\\n        }\\n\\n        .main__heading, .info__heading {\\n            font-family: \"BWHaasGrotesk-75Bold-Web\";\\n        }\\n\\n        .main__heading {\\n            font-size: 19px;\\n            padding-bottom: 9px;\\n        }\\n\\n        .continue {\\n            font-size: 18px;\\n        }\\n\\n        #px-captcha {\\n            margin-top: 20px;\\n            min-height: 80px;\\n        }\\n\\n        .info {\\n            border-top: dotted 1px black;\\n            padding-top: 9px;\\n        }\\n\\n        .info + .info {\\n            margin-top: 30px;\\n        }\\n\\n        .info__link {\\n            color: black;\\n            text-decoration: underline;\\n        }\\n\\n        .info__heading {\\n            font-size: 16px;\\n            line-height: 20px;\\n            padding-bottom: 9px;\\n        }\\n\\n        .info__text {\\n            padding-bottom: 9px;\\n        }\\n\\n        #block_uuid {\\n            display: inline-block;\\n            padding: 6px;\\n            background-color: #f2f2f2;\\n            font-family: \"BW Haas Text Mono A-55 Roman\";\\n            font-size: 14px;\\n        }\\n\\n    </style>\\n    <script>\\n        window._pxAppId = \"PX8FCGYgk4\";\\n        window._pxJsClientSrc = \"/8FCGYgk4/init.js\";\\n        window._pxFirstPartyEnabled = true;\\n        window._pxHostUrl = \"/8FCGYgk4/xhr\";\\n        window._pxreCaptchaTheme = \"light\";\\n        window._pxUuid = qs(\"uuid\");\\n\\n        if(!window._pxUuid) {\\n            window.pxInit = function (px) {\\n                px.Events.one(\"uid\", function (uuid) {\\n                    if (uuid) {\\n                        document.getElementById(\"block_uuid\").innerText = \"Block reference ID: \" + uuid;\\n                    }\\n                });\\n            };\\n        }\\n\\n        function qs(name) {\\n            var search = window.location.search;\\n            var rx = new RegExp(\"[?&]\" + name + \"(=([^&#]*)|&|#|$)\");\\n            var match = rx.exec(search);\\n            return match ? decodeURIComponent(match[2].replace(/\\\\+/g, \" \")) : \"\";\\n        }\\n    </script>\\n    <script src=\"/8FCGYgk4/captcha/captcha.js?a=c&m=0\" async></script>\\n</head>\\n<body>\\n    <header class=\"header\">\\n        <h1 class=\"logo\">Bloomberg</h1>\\n        <a class=\"contact-us\" href=\"/feedback\">Need help? Contact us</a>\\n    </header>\\n    <section class=\"box main\">\\n        <h2 class=\"main__heading\">We\\'ve detected unusual activity from your computer network</h2>\\n        <p class=\"continue\">To continue, please click the box below to let us know you\\'re not a robot.</p>\\n        <div id=\"px-captcha\"></div>\\n    </section>\\n    <section class=\"box\">\\n        <section class=\"info\">\\n            <h3 class=\"info__heading\">Why did this happen?</h3>\\n            <p class=\"info__text\">Please make sure your browser supports JavaScript and cookies and that you are not blocking them from loading. For more information you can review our <a class=\"info__link\" href=\"/notices/tos\">Terms of Service</a> and <a class=\"info__link\" href=\"/notices/tos\">Cookie Policy</a>.</p>\\n        </section>\\n        <section class=\"info\">\\n            <h3 class=\"info__heading\">Need Help?</h3>\\n            <p class=\"info__text\">For inquiries related to this message please <a class=\"info__link\" href=\"/feedback\">contact our support team</a> and provide the reference ID below.</p>\\n            <div id=\"block_uuid\">Block reference ID: </div>\\n        </section>\\n    </section>\\n    <script type=\"text/javascript\">\\n    document.getElementById(\"block_uuid\").innerText = \"Block reference ID: \" + window._pxUuid;\\n    </script>\\n    <!-- Google Tag Manager -->\\n    <script>(function(w, d, s, l, i) {\\n        w[l] = w[l] || [];\\n        w[l].push({ \\'gtm.start\\': new Date().getTime(), event: \\'gtm.js\\' });\\n        var f = d.getElementsByTagName(s)[0], j = d.createElement(s), dl = l != \\'dataLayer\\' ? \\'&l=\\' + l : \\'\\';\\n        j.defer = true;\\n        j.src = \\'https://www.googletagmanager.com/gtm.js?id=\\' + i + dl;\\n        f.parentNode.insertBefore(j, f);\\n    })(window, document, \\'script\\', \\'dataLayer\\', \\'GTM-MNTH5N\\');</script>\\n    <!-- End Google Tag Manager -->\\n</body>\\n</html>\\n'"
      ]
     },
     "execution_count": 4,
     "metadata": {},
     "output_type": "execute_result"
    }
   ],
   "source": [
    "#url='https://www.trouw.nl/duurzaamheid-economie/nu-dalen-de-huizenprijzen-dan-toch-echt~b5093b31/'\n",
    "#url ='https://www.ft.com/content/d6cf2d9e-e417-4768-ad5a-32083ae61b60'\n",
    "url = 'https://www.bloomberg.com/news/features/2022-10-06/even-after-100-billion-self-driving-cars-are-going-nowhere?leadSource=uverify%20wall'\n",
    "import requests\n",
    "response = requests.get(url)\n",
    "response.text"
   ]
  },
  {
   "cell_type": "code",
   "execution_count": null,
   "metadata": {},
   "outputs": [],
   "source": []
  },
  {
   "cell_type": "code",
   "execution_count": null,
   "metadata": {},
   "outputs": [],
   "source": []
  },
  {
   "cell_type": "markdown",
   "metadata": {},
   "source": [
    "### Reqbin\n",
    "source: https://reqbin.com/req/python/5k564bhv/get-request-bearer-token-authorization-header-example"
   ]
  },
  {
   "cell_type": "code",
   "execution_count": 4,
   "metadata": {},
   "outputs": [
    {
     "name": "stdout",
     "output_type": "stream",
     "text": [
      "200\n"
     ]
    }
   ],
   "source": [
    "import requests\n",
    "from requests.structures import CaseInsensitiveDict\n",
    "\n",
    "url = \"https://reqbin.com/echo/get/json\"\n",
    "\n",
    "headers = CaseInsensitiveDict()\n",
    "headers[\"Accept\"] = \"application/json\"\n",
    "headers[\"Authorization\"] = \"Bearer {token}\"\n",
    "\n",
    "\n",
    "resp = requests.get(url, headers=headers)\n",
    "\n",
    "print(resp.status_code)"
   ]
  },
  {
   "cell_type": "code",
   "execution_count": 7,
   "metadata": {},
   "outputs": [
    {
     "name": "stdout",
     "output_type": "stream",
     "text": [
      "['__attrs__', '__bool__', '__class__', '__delattr__', '__dict__', '__dir__', '__doc__', '__enter__', '__eq__', '__exit__', '__format__', '__ge__', '__getattribute__', '__getstate__', '__gt__', '__hash__', '__init__', '__init_subclass__', '__iter__', '__le__', '__lt__', '__module__', '__ne__', '__new__', '__nonzero__', '__reduce__', '__reduce_ex__', '__repr__', '__setattr__', '__setstate__', '__sizeof__', '__str__', '__subclasshook__', '__weakref__', '_content', '_content_consumed', '_next', 'apparent_encoding', 'close', 'connection', 'content', 'cookies', 'elapsed', 'encoding', 'headers', 'history', 'is_permanent_redirect', 'is_redirect', 'iter_content', 'iter_lines', 'json', 'links', 'next', 'ok', 'raise_for_status', 'raw', 'reason', 'request', 'status_code', 'text', 'url']\n"
     ]
    }
   ],
   "source": [
    "print(dir(resp))"
   ]
  },
  {
   "cell_type": "code",
   "execution_count": 16,
   "metadata": {
    "scrolled": true
   },
   "outputs": [
    {
     "name": "stdout",
     "output_type": "stream",
     "text": [
      "{'Content-Type': 'application/json', 'Date': 'Thu, 24 Mar 2022 08:36:10 GMT', 'Server': 'Microsoft-IIS/10.0', 'Transfer-Encoding': 'chunked', 'Request-Context': 'appId=cid-v1:1c96e854-0551-414a-aef5-3e2b611a8d64', 'Strict-Transport-Security': 'max-age=31536000; includeSubDomains', 'api-supported-versions': '0.1', 'X-Powered-By': 'ASP.NET'}\n",
      "-------------------------\n",
      "b'{\"Id\":\"58f74f85-fac7-4b2d-9b38-0b4d90465f79\",\"TimeStamp\":\"2022-03-24T09:36:10.7896165+01:00\",\"Code\":\"INTERNAL_SERVER_ERROR\",\"Message\":\"Internal server error\"}'\n"
     ]
    }
   ],
   "source": [
    "print(resp.headers)\n",
    "print('-------------------------')\n",
    "print(resp.content)"
   ]
  },
  {
   "cell_type": "markdown",
   "metadata": {},
   "source": [
    "## 2. wget"
   ]
  },
  {
   "cell_type": "code",
   "execution_count": 2,
   "metadata": {},
   "outputs": [
    {
     "data": {
      "text/plain": [
       "'razorback (1).mp3'"
      ]
     },
     "execution_count": 2,
     "metadata": {},
     "output_type": "execute_result"
    }
   ],
   "source": [
    "import wget\n",
    "url = 'http://www.futurecrew.com/skaven/song_files/mp3/razorback.mp3'\n",
    "filename = wget.download(url)\n",
    "filename"
   ]
  },
  {
   "cell_type": "code",
   "execution_count": 1,
   "metadata": {},
   "outputs": [
    {
     "data": {
      "text/plain": [
       "'uk_ireland_accent_recognition.ipynb'"
      ]
     },
     "execution_count": 1,
     "metadata": {},
     "output_type": "execute_result"
    }
   ],
   "source": [
    "import wget\n",
    "url = 'https://github.com/MichielBbal/ArduinoTensorFlowLiteTutorials/blob/master/examples/audio/ipynb/uk_ireland_accent_recognition.ipynb'\n",
    "filename = wget.download(url)\n",
    "filename"
   ]
  },
  {
   "cell_type": "code",
   "execution_count": 2,
   "metadata": {},
   "outputs": [
    {
     "name": "stdout",
     "output_type": "stream",
     "text": [
      " Volume in drive C is OS\n",
      " Volume Serial Number is 2818-58FB\n",
      "\n",
      " Directory of C:\\Users\\31653\\Documents\\GitHub\\Notebooks\n",
      "\n",
      "05/05/2022  09:15    <DIR>          .\n",
      "11/04/2022  14:58    <DIR>          ..\n",
      "11/12/2021  12:27               139 .gitignore\n",
      "22/04/2022  10:15    <DIR>          .ipynb_checkpoints\n",
      "08/02/2022  08:49    <DIR>          __pycache__\n",
      "21/02/2022  13:35            21.120 1.0 - Michiel's Notebook on basics of Python and Jupyter Notebooks.ipynb\n",
      "15/03/2022  16:40            48.185 1.01 Michiels' Python fundamentals Notebook.ipynb\n",
      "20/11/2021  19:02             5.256 1.02 Basics of Data Analysis.ipynb\n",
      "22/04/2022  10:05            40.533 1.03 Working with files and data serialization.ipynb\n",
      "20/11/2021  19:25           377.943 1.04 Michiels notebook on images.ipynb\n",
      "28/04/2022  13:45            70.505 1.05 Getting data from the web - requests, wget and curl.ipynb\n",
      "24/04/2022  10:53            41.538 1.06 Functions.ipynb\n",
      "16/02/2022  15:26            80.138 1.07 Pandas basics.ipynb\n",
      "26/01/2022  11:05         1.018.988 1.08 Simple graphs Matplotlib.ipynb\n",
      "20/11/2021  19:27           437.218 1.09 IPython and Markdown.ipynb\n",
      "05/03/2022  20:52            12.126 1.10 Converting data types.ipynb\n",
      "05/03/2022  20:52             6.233 1.11 Some special data types .ipynb\n",
      "30/09/2019  00:54           304.578 11k16bitpcm.wav\n",
      "31/03/2022  19:10            30.269 2.0 Michiel's Intermediate Notebook.ipynb\n",
      "11/01/2022  20:26             9.287 2.01 Time and datetime.ipynb\n",
      "12/12/2021  14:13           277.424 2.02 Arrays with Numpy.ipynb\n",
      "10/01/2022  20:28           368.326 2.03 Michiel's notebook on python for maps - GeoPandas issue.ipynb\n",
      "05/04/2022  13:00           264.126 2.04 Webscraping and BeautifulSoup.ipynb\n",
      "31/03/2022  19:06            50.240 2.06 Working with the OS - in progress.ipynb\n",
      "15/03/2021  20:21           201.031 2.07 Graphs advanced - Seaborn, Plotly, Plotnine.ipynb\n",
      "09/03/2021  09:59            57.846 2.08 Time Series with Pandas and SciPy.ipynb\n",
      "09/03/2021  10:47             5.404 2.09 SciPy various scripts.ipynb\n",
      "31/03/2022  19:02            19.623 2.10 Python and Linux.ipynb\n",
      "03/11/2021  12:35            10.581 2.10 Python and SQL and other databases - to do.ipynb\n",
      "12/12/2021  16:18             9.578 2.11 Image_data_augmentation.ipynb\n",
      "31/03/2022  18:31            20.442 2.12 Python and excel.ipynb\n",
      "06/12/2021  12:26            40.945 2021-12-5_Features_.csv\n",
      "13/12/2020  12:48            29.116 3.01 Deep learning for python -2e versie.ipynb\n",
      "13/12/2020  12:48            21.897 3.01 Michiels notebook Deep learning with python - 1.ipynb\n",
      "09/03/2021  22:45            77.967 3.02 Michiel's Neural Network Notebook.ipynb\n",
      "18/03/2021  22:03            32.143 3.03 Michiel's notebook on Pytorch - Work in progress.ipynb\n",
      "18/09/2021  20:14           321.807 3.04 Michiel's notebook on OpenCV.ipynb\n",
      "12/02/2021  20:49            69.517 3.05-classifying-movie-reviews.ipynb\n",
      "12/02/2021  20:50             4.278 3.06 Build your own image classifier - loads of work to do.ipynb\n",
      "23/02/2021  21:01         2.037.140 3.07 Keras_Image_classification_from_scratch.ipynb\n",
      "12/02/2021  20:51            87.600 3.08 MNIST in Keras.ipynb\n",
      "31/10/2021  20:09            18.924 3.09 Teachable Machine.ipynb\n",
      "27/09/2021  12:04         2.242.222 3.10 Image Segmentation with Pixellib (PointRed only on linux not windows).ipynb\n",
      "26/03/2021  16:29            37.507 3.11 Object Detection Work in Progress.ipynb\n",
      "26/03/2021  16:27         4.119.500 3.12 YOLO.ipynb\n",
      "26/03/2021  17:28           294.159 3.13 ImageAI.ipynb\n",
      "09/03/2021  22:40            49.910 3.14 NLP Sentiment in text (NLP zero to hero 3).ipynb\n",
      "25/03/2022  20:21             5.793 3.15 Motpy.ipynb\n",
      "25/08/2021  10:04         7.733.234 3.15 tf2_object_detection.ipynb\n",
      "31/03/2022  21:22           359.369 3.17 Speech2text & Text2speech.ipynb\n",
      "01/04/2022  07:42            60.253 3.18 Huggingface.ipynb\n",
      "05/04/2022  13:02             7.319 3.19 Face detection.ipynb\n",
      "12/04/2022  12:17            32.078 3.20 Translate.ipynb\n",
      "23/04/2022  15:05             3.584 4.01 AMQP with RabbitMQ.ipynb\n",
      "15/02/2021  20:37             1.928 4.02 Kafka.ipynb\n",
      "18/08/2021  10:52            39.511 4.03 MQTT.ipynb\n",
      "12/01/2022  10:38         2.213.832 4.04 InfluxDB.ipynb\n",
      "10/06/2021  16:25             4.029 4.05 OData.ipynb\n",
      "21/01/2022  09:56            75.717 4.06 websockets.ipynb\n",
      "07/04/2022  19:53           442.494 4.07 Creating UML diagrams with PlantUML.ipynb\n",
      "01/02/2022  14:43             9.880 4.08 AsyncAPI.ipynb\n",
      "22/04/2022  10:12             6.763 4.09 Apache Avro Data Serialization.ipynb\n",
      "02/02/2022  12:42            14.639 4.10 gRPC.ipynb\n",
      "03/03/2022  13:13            19.872 4.11 Zeep - wsdl.ipynb\n",
      "11/04/2022  15:55            10.580 4.12 APIspec.ipynb\n",
      "16/03/2022  11:52            11.847 4.12 XML schema (xsd).ipynb\n",
      "05/04/2022  11:48            12.594 4.13 pytest & mock.ipynb\n",
      "16/03/2022  13:02             5.962 4.14 JSON Schema.ipynb\n",
      "07/04/2022  19:54            90.585 4.15 parsing openAPI specs.ipynb\n",
      "07/04/2022  10:55            42.840 4.16 Reverse Engineering the Petstore API (Medium article)\n",
      "22/04/2022  09:31            10.807 4.16 XML Element Tree.ipynb\n",
      "11/04/2022  16:36            50.761 4.17 Reverse Engineering Petstore OpenAPI spec.17 Reverse Engineering the Petstore OAS\n",
      "24/02/2021  09:13           180.472 5.01 Maps of Amsterdam.ipynb\n",
      "13/02/2021  11:37         6.320.801 5.02 Barchart race original.ipynb\n",
      "01/03/2021  22:21           162.779 5.03 Panel issue.ipynb\n",
      "10/10/2021  20:59             5.391 5.03 Panel.ipynb\n",
      "14/03/2021  15:18             8.288 5.04 Pre-assignment AI café Michiel.ipynb\n",
      "17/12/2021  17:38         5.249.224 5.05 audio.ipynb\n",
      "09/10/2021  19:51            19.298 5.05b Audio2 OpenL3 .ipynb\n",
      "24/11/2021  20:19         3.180.779 5.05c Audio Data Augmentation.ipynb\n",
      "14/01/2022  09:02            37.279 5.06 Snoring.ipynb\n",
      "13/08/2021  15:58           242.129 5.07 Amsterdam data.ipynb\n",
      "13/12/2021  20:57            54.969 5.08 HRV logger app.ipynb\n",
      "05/01/2022  17:35            67.367 5.09 Oura Sleep Data.ipynb\n",
      "26/01/2022  11:58           185.732 5.10 Oura as a function.ipynb\n",
      "06/03/2022  11:19           140.524 5.11 Audio Yamnet_visualisation.ipynb\n",
      "26/02/2022  16:38           168.687 6.01 Pytesseract oekraiens.01 Pytesseract Oekraiens Engels\n",
      "16/03/2022  12:02           853.517 6.01 Python Forest map.ipynb\n",
      "07/02/2022  16:54                23 a_file.txt\n",
      "07/02/2022  16:34                84 accounts.txt\n",
      "06/02/2021  17:07                84 accounts2.txt\n",
      "22/04/2022  10:17               686 amqp_receive.py\n",
      "22/04/2022  10:16               311 amqp_send.py\n",
      "01/05/2021  12:32            92.194 anatomy of an array.png\n",
      "02/02/2022  12:39               610 avro_exmple.py\n",
      "03/02/2021  15:40           622.294 buik3.jpg\n",
      "10/09/2021  10:56             1.376 buik3.thumbnail\n",
      "24/02/2021  09:12    <DIR>          cache\n",
      "26/03/2021  17:38        42.991.616 camera_detected_video.avi\n",
      "18/06/2021  11:52            62.919 claxon_1m.jpg\n",
      "10/09/2021  10:56             1.592 claxon_1m.thumbnail\n",
      "18/06/2021  11:40            51.044 claxon_1m.wav\n",
      "18/06/2021  12:07            49.076 claxon_1m_log.jpg\n",
      "10/09/2021  10:56             2.689 claxon_1m_log.thumbnail\n",
      "18/06/2021  11:52            60.228 claxon_close.jpg\n",
      "10/09/2021  10:56             1.614 claxon_close.thumbnail\n",
      "18/06/2021  10:47            34.044 claxon_close.wav\n",
      "18/06/2021  12:06            46.640 claxon_close_log.jpg\n",
      "10/09/2021  10:56             2.712 claxon_close_log.thumbnail\n",
      "18/06/2021  12:33             2.571 claxon_colorbar_log.jpg\n",
      "10/09/2021  10:56               819 claxon_colorbar_log.thumbnail\n",
      "18/06/2021  12:19            68.044 claxon_freesound.wav\n",
      "18/06/2021  12:13            36.044 claxon_iphone.wav\n",
      "18/06/2021  12:28            50.991 claxon_iphone_log.jpg\n",
      "10/09/2021  10:56             3.062 claxon_iphone_log.thumbnail\n",
      "18/06/2021  12:27            55.044 claxon_michiel.wav\n",
      "18/06/2021  12:28            50.991 claxon_michiel_log.jpg\n",
      "10/09/2021  10:56             3.062 claxon_michiel_log.thumbnail\n",
      "28/03/2022  12:03             4.833 columns.xlsx\n",
      "19/08/2021  09:17                33 credentials.py\n",
      "17/04/2021  11:12                 0 curl\n",
      "16/02/2021  16:37               139 data.yaml\n",
      "29/04/2022  12:37    <DIR>          de_alliantie\n",
      "23/06/2021  20:11                84 demo.txt\n",
      "26/03/2021  14:11           202.643 download (1).wget\n",
      "26/03/2021  14:10           202.643 download.wget\n",
      "18/03/2021  21:36           675.840 drop.avi\n",
      "07/02/2022  13:07             3.204 'dummy'.svg\n",
      "07/02/2022  13:07               100 'dummy'.uml\n",
      "01/10/2021  17:10               227 edgeimpulse.json\n",
      "17/12/2021  14:44            88.244 example.wav\n",
      "08/02/2022  10:55    <DIR>          fastapi\n",
      "31/03/2022  20:34           219.180 file.wav\n",
      "28/02/2021  15:31               358 foo.csv\n",
      "21/01/2022  09:58    <DIR>          grpc\n",
      "08/02/2021  14:21            88.472 haar_cascade_stop.xml\n",
      "08/02/2021  14:21           963.441 haarcascade_frontalface_default.xml\n",
      "28/03/2022  13:01             4.763 hello_world.xlsx\n",
      "28/03/2022  11:24             4.863 hello_world_append.xlsx\n",
      "16/02/2021  16:02                63 items.yaml\n",
      "02/03/2022  12:58               794 leegmelden_plantuml.txt\n",
      "17/12/2021  09:37           128.058 loudness.wav\n",
      "26/03/2021  12:10       257.557.808 mask_rcnn_coco.h5\n",
      "18/03/2021  21:57    <DIR>          MNIST\n",
      "26/03/2021  13:52    <DIR>          models\n",
      "31/01/2022  15:52             3.056 movies.xml\n",
      "29/04/2021  11:26               503 mqtt_open_ears_test.py\n",
      "16/04/2021  13:27               886 MQTT_steve.py\n",
      "21/08/2021  12:07               468 mqtt_sub.py\n",
      "15/11/2021  20:04         1.280.058 my_test.wav\n",
      "12/11/2021  15:22         1.280.058 my_wav.wav\n",
      "25/03/2022  20:15           248.910 my-audio.wav\n",
      "13/02/2021  11:30    <DIR>          myenv\n",
      "09/10/2021  19:44            28.253 new_file.ogg\n",
      "26/03/2021  15:12           136.798 newimage.jpg\n",
      "10/09/2021  10:56             3.890 newimage.thumbnail\n",
      "03/11/2021  12:40         5.076.792 NOAA_data.txt\n",
      "30/10/2021  19:56           320.044 noise_add.wav\n",
      "14/02/2022  15:59               511 note.xsd\n",
      "13/12/2021  10:40               283 notebooks_config.py\n",
      "30/10/2021  19:39    <DIR>          oe_wavs\n"
     ]
    },
    {
     "name": "stdout",
     "output_type": "stream",
     "text": [
      "08/05/2021  08:06             1.202 OEtest_210505_youtube_traffic.csv\n",
      "08/05/2021  08:16               955 OEtest_210506_youtubetraffic.csv\n",
      "28/04/2022  13:39    <DIR>          openapi-mock\n",
      "18/09/2021  10:32            25.619 opencv.png\n",
      "11/11/2021  21:58         1.623.826 OpenEars audio analysis.ipynb\n",
      "30/04/2021  10:50           108.044 out.wav\n",
      "18/09/2021  15:11         1.412.738 output.avi\n",
      "26/03/2021  12:40           137.688 output.jpg\n",
      "26/03/2021  15:04                44 output.mp4\n",
      "10/09/2021  10:56             3.958 output.thumbnail\n",
      "22/10/2021  19:58         1.280.058 output.wav\n",
      "01/10/2021  17:03                51 person.json\n",
      "16/02/2022  12:14            16.089 petstore_openapi3.json\n",
      "16/02/2022  10:15            21.232 petstore_openapi3.yaml\n",
      "01/05/2021  12:27    <DIR>          pixellib\n",
      "26/03/2021  12:39            39.048 pixellib_example.jpg\n",
      "10/09/2021  10:56             3.744 pixellib_example.thumbnail\n",
      "01/02/2022  12:17               395 plane.json\n",
      "09/02/2022  12:24             4.096 plantuml.png\n",
      "16/02/2022  19:38                84 plantuml.txt\n",
      "16/02/2022  20:04               230 plantuml_complex.txt\n",
      "16/02/2022  20:17               421 plantuml_complex2.txt\n",
      "03/09/2021  12:55            13.798 plot.png\n",
      "22/03/2022  14:43             3.089 Pydantic data validation.ipynb\n",
      "03/03/2022  15:24    <DIR>          Pytesseract\n",
      "26/02/2022  16:13           467.552 PyTesseract 1 Sententie Bontenbal.ipynb\n",
      "03/03/2022  15:26             5.767 Pytesseract.ipynb\n",
      "26/02/2022  16:13           164.776 Pytesseract2 Sententie Bontenbal.ipynb\n",
      "25/03/2022  20:41         3.841.532 razorback (1).mp3\n",
      "26/03/2021  14:04         3.841.532 razorback.mp3\n",
      "07/02/2021  13:02               464 README.md\n",
      "21/03/2022  21:40            21.865 requirements.txt\n",
      "08/02/2021  14:21            48.606 road.jpg\n",
      "10/09/2021  10:56             2.491 road.thumbnail\n",
      "08/02/2021  14:21         3.581.304 road2.jpg\n",
      "20/09/2021  06:49         8.983.471 road2.png\n",
      "10/09/2021  10:56             1.868 road2.thumbnail\n",
      "24/11/2021  19:50         1.280.058 robot0.wav\n",
      "24/11/2021  19:50         1.280.058 robot1.wav\n",
      "24/11/2021  19:50         1.280.058 robot2.wav\n",
      "24/11/2021  19:51         1.280.058 robot3.wav\n",
      "26/03/2021  14:20         7.317.167 sample.mp4\n",
      "23/02/2021  21:27         5.643.545 sarcasm.json\n",
      "17/02/2021  20:21                46 save.pkl\n",
      "18/06/2021  11:35             2.571 scatter.jpg\n",
      "10/09/2021  10:56               819 scatter.thumbnail\n",
      "26/07/2021  15:45                59 servers.txt\n",
      "22/10/2021  20:00         1.280.058 silence.wav\n",
      "14/02/2022  16:05               147 simple.xml\n",
      "14/02/2022  15:54               402 simple.xsd\n",
      "14/12/2021  09:21             3.908 sleep_df_oura_202112011-12.csv\n",
      "04/12/2021  12:38           896.311 snoring_2021_12_3-4b.csv\n",
      "03/12/2021  20:10            19.863 Snoring-data-2021-12-03 09_15_24.csv\n",
      "04/12/2021  12:41           954.191 Snoring-data-2021-12-04 11_41_48.csv\n",
      "04/12/2021  12:51           190.810 Snoring-data-2021-12-04 11_51_51.csv\n",
      "06/12/2021  20:03           810.912 Snoring-data-2021-12-06 19_03_36.csv\n",
      "10/12/2021  14:27           921.241 Snoring-data-2021-12-10 13_27_41.csv\n",
      "12/12/2021  10:38         1.200.283 Snoring-data-2021-12-12 09_38_24.csv\n",
      "13/11/2021  17:37               635 streamlit.py\n",
      "25/11/2021  15:08               315 streamlit_example.py\n",
      "26/03/2021  15:15         7.317.167 Street - 22516.mp4\n",
      "31/03/2022  20:34             7.680 temp.mp3\n",
      "30/10/2021  20:19           132.589 temp1.png\n",
      "26/02/2022  16:22            11.637 tesseract_sample.jpeg\n",
      "15/03/2022  11:14    <DIR>          test\n",
      "25/05/2021  21:38            54.044 test.wav\n",
      "26/05/2021  16:00            42.044 test2.wav\n",
      "26/05/2021  16:13            76.044 test3.wav\n",
      "28/02/2021  09:49             4.214 thuis.jpg\n",
      "17/12/2021  14:47           220.544 tone_220.wav\n",
      "26/03/2021  15:35       160.407.954 traffic_detected.avi\n",
      "17/04/2021  11:11               177 tranquilizer.py\n",
      "06/03/2022  11:30    <DIR>          trees\n",
      "25/03/2022  20:36            79.745 tutorial.ipynb\n",
      "05/05/2022  09:15           139.543 uk_ireland_accent_recognition.ipynb\n",
      "31/01/2022  16:14    <DIR>          UML\n",
      "27/02/2021  21:18             6.600 UMTMVS.csv\n",
      "22/04/2022  10:14                 0 untitled.txt\n",
      "14/02/2022  19:35               252 user.avsc\n",
      "22/04/2022  10:07               313 users.avro\n",
      "21/02/2022  14:11    <DIR>          VERA\n",
      "01/09/2021  10:57               667 websocketbrowser.html\n",
      "01/09/2021  10:56               486 websocketbrowser.py\n",
      "31/03/2022  19:43            10.560 welcome.mp3\n",
      "31/03/2022  21:00             7.008 welcome.wav\n",
      "14/09/2021  21:29            65.360 world-happiness\n",
      "25/03/2022  20:43            24.539 world-happiness11nnjglf.tmp\n",
      "14/09/2021  21:30            65.300 world-happinesstjpjti8t.tmp\n",
      "14/09/2021  21:30            65.300 world-happinesswfvezx54.tmp\n",
      "01/03/2022  21:28                 0 XML_file.txt\n",
      "26/03/2021  15:10       248.686.624 yolo.h5\n",
      "26/03/2021  15:58        35.555.784 yolo-tiny.h5\n",
      "26/03/2021  16:22       248.007.048 yolov3.weights\n",
      "25/12/2013  10:56           157.753 youtube-dl test video ''_ä↭𝕐-BaW_jenozKc.m4a\n",
      "27/08/2016  00:22         1.828.366 youtube-dl test video ''_ä↭𝕐-BaW_jenozKc.mp4\n",
      "26/03/2021  16:25         2.577.013 Zebra_Zuid-Afrika.jpg\n",
      "             238 File(s)  1.109.809.087 bytes\n",
      "              19 Dir(s)  209.215.823.872 bytes free\n"
     ]
    }
   ],
   "source": [
    "ls"
   ]
  },
  {
   "cell_type": "code",
   "execution_count": 8,
   "metadata": {},
   "outputs": [
    {
     "name": "stdout",
     "output_type": "stream",
     "text": [
      "Beginning file download with wget module\n"
     ]
    },
    {
     "data": {
      "text/plain": [
       "'/Users/31653/Downloads/cat4.jpg'"
      ]
     },
     "execution_count": 8,
     "metadata": {},
     "output_type": "execute_result"
    }
   ],
   "source": [
    "import wget\n",
    "\n",
    "print('Beginning file download with wget module')\n",
    "\n",
    "url = 'http://i3.ytimg.com/vi/J---aiyznGQ/mqdefault.jpg'\n",
    "wget.download(url, '/Users/31653/Downloads/cat4.jpg')"
   ]
  },
  {
   "cell_type": "code",
   "execution_count": 2,
   "metadata": {},
   "outputs": [
    {
     "name": "stdout",
     "output_type": "stream",
     "text": [
      "Beginning file download with wget module\n"
     ]
    },
    {
     "data": {
      "text/plain": [
       "'razorback (1).mp3'"
      ]
     },
     "execution_count": 2,
     "metadata": {},
     "output_type": "execute_result"
    }
   ],
   "source": [
    "import wget\n",
    "\n",
    "print('Beginning file download with wget module')\n",
    "\n",
    "url = 'http://www.futurecrew.com/skaven/song_files/mp3/razorback.mp3'\n",
    "wget.download(url)"
   ]
  },
  {
   "cell_type": "markdown",
   "metadata": {},
   "source": [
    "## 3. cURL\n",
    "curl is a way of retrieving data. Standard syntax is:\n",
    "!curl https://www.example.com\n",
    "\n",
    "The curl repository can be found here:https://github.com/curl/curl"
   ]
  },
  {
   "cell_type": "code",
   "execution_count": 1,
   "metadata": {},
   "outputs": [
    {
     "name": "stdout",
     "output_type": "stream",
     "text": [
      "<!doctype html>\n",
      "<html>\n",
      "<head>\n",
      "    <title>Example Domain</title>\n",
      "\n",
      "    <meta charset=\"utf-8\" />\n",
      "    <meta http-equiv=\"Content-type\" content=\"text/html; charset=utf-8\" />\n",
      "    <meta name=\"viewport\" content=\"width=device-width, initial-scale=1\" />\n",
      "    <style type=\"text/css\">\n",
      "    body {\n",
      "        background-color: #f0f0f2;\n",
      "        margin: 0;\n",
      "        padding: 0;\n",
      "        font-family: -apple-system, system-ui, BlinkMacSystemFont, \"Segoe UI\", \"Open Sans\", \"Helvetica Neue\", Helvetica, Arial, sans-serif;\n",
      "        \n",
      "    }\n",
      "    div {\n",
      "        width: 600px;\n",
      "        margin: 5em auto;\n",
      "        padding: 2em;\n",
      "        background-color: #fdfdff;\n",
      "        border-radius: 0.5em;\n",
      "        box-shadow: 2px 3px 7px 2px rgba(0,0,0,0.02);\n",
      "    }\n",
      "    a:link, a:visited {\n",
      "        color: #38488f;\n",
      "        text-decoration: none;\n",
      "    }\n",
      "    @media (max-width: 700px) {\n",
      "        div {\n",
      "            margin: 0 auto;\n",
      "            width: auto;\n",
      "        }\n",
      "    }\n",
      "    </style>    \n",
      "</head>\n",
      "\n",
      "<body>\n",
      "<div>\n",
      "    <h1>Example Domain</h1>\n",
      "    <p>This domain is for use in illustrative examples in documents. You may use this\n",
      "    domain in literature without prior coordination or asking for permission.</p>\n",
      "    <p><a href=\"https://www.iana.org/domains/example\">More information...</a></p>\n",
      "</div>\n",
      "</body>\n",
      "</html>\n"
     ]
    },
    {
     "name": "stderr",
     "output_type": "stream",
     "text": [
      "  % Total    % Received % Xferd  Average Speed   Time    Time     Time  Current\n",
      "                                 Dload  Upload   Total   Spent    Left  Speed\n",
      "\n",
      "  0     0    0     0    0     0      0      0 --:--:-- --:--:-- --:--:--     0\n",
      "100  1256  100  1256    0     0   5615      0 --:--:-- --:--:-- --:--:--  5657\n"
     ]
    }
   ],
   "source": [
    "!curl www.example.com"
   ]
  },
  {
   "cell_type": "code",
   "execution_count": null,
   "metadata": {},
   "outputs": [],
   "source": []
  },
  {
   "cell_type": "markdown",
   "metadata": {},
   "source": [
    "## 4. Ping"
   ]
  },
  {
   "cell_type": "code",
   "execution_count": 5,
   "metadata": {},
   "outputs": [
    {
     "name": "stdout",
     "output_type": "stream",
     "text": [
      "\n",
      "Pinging www.google.com [2a00:1450:400e:80c::2004] with 32 bytes of data:\n",
      "Reply from 2a00:1450:400e:80c::2004: time=12ms \n",
      "Reply from 2a00:1450:400e:80c::2004: time=9ms \n",
      "Reply from 2a00:1450:400e:80c::2004: time=11ms \n",
      "Reply from 2a00:1450:400e:80c::2004: time=10ms \n",
      "\n",
      "Ping statistics for 2a00:1450:400e:80c::2004:\n",
      "    Packets: Sent = 4, Received = 4, Lost = 0 (0% loss),\n",
      "Approximate round trip times in milli-seconds:\n",
      "    Minimum = 9ms, Maximum = 12ms, Average = 10ms\n"
     ]
    }
   ],
   "source": [
    "!ping www.google.com"
   ]
  },
  {
   "cell_type": "code",
   "execution_count": null,
   "metadata": {},
   "outputs": [],
   "source": []
  }
 ],
 "metadata": {
  "kernelspec": {
   "display_name": "Python 3 (ipykernel)",
   "language": "python",
   "name": "python3"
  },
  "language_info": {
   "codemirror_mode": {
    "name": "ipython",
    "version": 3
   },
   "file_extension": ".py",
   "mimetype": "text/x-python",
   "name": "python",
   "nbconvert_exporter": "python",
   "pygments_lexer": "ipython3",
   "version": "3.9.12"
  }
 },
 "nbformat": 4,
 "nbformat_minor": 4
}
