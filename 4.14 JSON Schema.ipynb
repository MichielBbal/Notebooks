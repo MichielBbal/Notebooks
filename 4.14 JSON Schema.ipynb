{
 "cells": [
  {
   "cell_type": "markdown",
   "id": "d31333e3",
   "metadata": {},
   "source": [
    "# JSON schema"
   ]
  },
  {
   "cell_type": "code",
   "execution_count": null,
   "id": "dc7c29c4",
   "metadata": {},
   "outputs": [],
   "source": []
  },
  {
   "cell_type": "code",
   "execution_count": null,
   "id": "a09b9cbf",
   "metadata": {},
   "outputs": [],
   "source": []
  },
  {
   "cell_type": "markdown",
   "id": "420f1dbd",
   "metadata": {},
   "source": [
    "## 1. Pure python validation of json txt/file"
   ]
  },
  {
   "cell_type": "code",
   "execution_count": 5,
   "id": "f294fe9e",
   "metadata": {},
   "outputs": [
    {
     "name": "stdout",
     "output_type": "stream",
     "text": [
      "True\n"
     ]
    }
   ],
   "source": [
    "#source: https://www.youtube.com/watch?v=Aie513PZK2k\n",
    "import json\n",
    "\n",
    "def validateJsonText(json_text):\n",
    "    try:\n",
    "        json.loads(json_text)\n",
    "    except ValueError as err:\n",
    "        print(err)\n",
    "        return False\n",
    "    return True\n",
    "json_text= \"\"\"{\"name\": \"Michiel\", \"age\": 46, \"gender\": \"Male\"} \"\"\" # a correctly formatted json\n",
    "#json_text= json.dumps(json_text)\"\"\"{\"name\": \"Michiel\", \"age\": 46, \"gender\": 'Male'} \"\"\"# an error\n",
    "print(validateJsonText(json_text))"
   ]
  },
  {
   "cell_type": "code",
   "execution_count": 6,
   "id": "a125c790",
   "metadata": {},
   "outputs": [
    {
     "data": {
      "text/plain": [
       "['edgeimpulse.json',\n",
       " 'person.json',\n",
       " 'petstore_openapi3.json',\n",
       " 'plane.json',\n",
       " 'sarcasm.json']"
      ]
     },
     "execution_count": 6,
     "metadata": {},
     "output_type": "execute_result"
    }
   ],
   "source": [
    "import glob\n",
    "my_jsons = glob.glob('*.json')\n",
    "my_jsons"
   ]
  },
  {
   "cell_type": "code",
   "execution_count": 11,
   "id": "695eb1cc",
   "metadata": {},
   "outputs": [],
   "source": [
    "%pycat plane.json"
   ]
  },
  {
   "cell_type": "code",
   "execution_count": 15,
   "id": "c8cb40b7",
   "metadata": {},
   "outputs": [
    {
     "name": "stdout",
     "output_type": "stream",
     "text": [
      "True\n"
     ]
    }
   ],
   "source": [
    "#source: https://www.youtube.com/watch?v=Aie513PZK2k\n",
    "import json\n",
    "\n",
    "def validateJsonFile(json_file):\n",
    "    try:\n",
    "        json.load(json_file)\n",
    "    except ValueError as err:\n",
    "        print(err)\n",
    "        return False\n",
    "    return True\n",
    "\n",
    "with open('plane.json') as f:\n",
    "    print(validateJsonFile(f))\n",
    "\n",
    "#json_text= \"\"\"{\"name\": \"Michiel\", \"age\": 46, \"gender\": \"Male\"} \"\"\" # a correctly formatted json\n",
    "#json_text= json.dumps(json_text)\"\"\"{\"name\": \"Michiel\", \"age\": 46, \"gender\": 'Male'} \"\"\"# an error\n",
    "#print(validateJsonText(json_text))"
   ]
  },
  {
   "cell_type": "markdown",
   "id": "4761905b",
   "metadata": {},
   "source": [
    "## 2. Validation using json schema"
   ]
  },
  {
   "cell_type": "code",
   "execution_count": 20,
   "id": "561670e2",
   "metadata": {},
   "outputs": [
    {
     "name": "stdout",
     "output_type": "stream",
     "text": [
      "Requirement already satisfied: jsonschema in c:\\users\\31653\\anaconda3\\envs\\rasterio\\lib\\site-packages (4.4.0)\n",
      "Requirement already satisfied: importlib-resources>=1.4.0 in c:\\users\\31653\\anaconda3\\envs\\rasterio\\lib\\site-packages (from jsonschema) (5.4.0)\n",
      "Requirement already satisfied: attrs>=17.4.0 in c:\\users\\31653\\anaconda3\\envs\\rasterio\\lib\\site-packages (from jsonschema) (21.4.0)\n",
      "Requirement already satisfied: pyrsistent!=0.17.0,!=0.17.1,!=0.17.2,>=0.14.0 in c:\\users\\31653\\anaconda3\\envs\\rasterio\\lib\\site-packages (from jsonschema) (0.18.1)\n",
      "Requirement already satisfied: zipp>=3.1.0 in c:\\users\\31653\\anaconda3\\envs\\rasterio\\lib\\site-packages (from importlib-resources>=1.4.0->jsonschema) (3.7.0)\n"
     ]
    }
   ],
   "source": [
    "!pip install jsonschema"
   ]
  },
  {
   "cell_type": "code",
   "execution_count": 31,
   "id": "0de8d84b",
   "metadata": {},
   "outputs": [],
   "source": [
    "from jsonschema import validate\n",
    "\n",
    "# A sample schema, like what we'd get from json.load()\n",
    "schema = {\n",
    "     \"type\" : \"object\",\n",
    "     \"properties\" : {\n",
    "        \"price\" : {\"type\" : \"number\"},\n",
    "         \"name\" : {\"type\" : \"string\"},\n",
    "     },\n",
    " }\n",
    "\n",
    "# If no exception is raised by validate(), the instance is valid.\n",
    "validate(instance={\"name\" : \"Eggs\", \"price\" : 34.99}, schema=schema)"
   ]
  },
  {
   "cell_type": "code",
   "execution_count": 32,
   "id": "6209c222",
   "metadata": {},
   "outputs": [
    {
     "name": "stdout",
     "output_type": "stream",
     "text": [
      "error\n"
     ]
    }
   ],
   "source": [
    "try:\n",
    "    validate(instance={\"name\" : \"Eggs\", \"price\" : \"Invalid\"}, schema=schema)\n",
    "except:\n",
    "    print('error')"
   ]
  },
  {
   "cell_type": "markdown",
   "id": "fac1a3c9",
   "metadata": {},
   "source": [
    "# Creating a json schema from a json file"
   ]
  },
  {
   "cell_type": "code",
   "execution_count": null,
   "id": "325a16c7",
   "metadata": {},
   "outputs": [],
   "source": []
  }
 ],
 "metadata": {
  "kernelspec": {
   "display_name": "Python 3 (ipykernel)",
   "language": "python",
   "name": "python3"
  },
  "language_info": {
   "codemirror_mode": {
    "name": "ipython",
    "version": 3
   },
   "file_extension": ".py",
   "mimetype": "text/x-python",
   "name": "python",
   "nbconvert_exporter": "python",
   "pygments_lexer": "ipython3",
   "version": "3.8.12"
  }
 },
 "nbformat": 4,
 "nbformat_minor": 5
}
